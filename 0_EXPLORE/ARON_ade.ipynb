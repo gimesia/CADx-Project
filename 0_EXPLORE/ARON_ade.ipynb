{
 "cells": [
  {
   "metadata": {},
   "cell_type": "markdown",
   "source": "# IMPORTS",
   "id": "e2ebcbfb1627a815"
  },
  {
   "cell_type": "code",
   "id": "initial_id",
   "metadata": {
    "collapsed": true,
    "ExecuteTime": {
     "end_time": "2024-09-24T16:47:50.758651Z",
     "start_time": "2024-09-24T16:47:46.772288Z"
    }
   },
   "source": [
    "import utils.utilities as utl\n",
    "import utils.preprocessing as pp"
   ],
   "outputs": [],
   "execution_count": 4
  },
  {
   "metadata": {},
   "cell_type": "markdown",
   "source": "# BINARY",
   "id": "1a4bfa571ce81b75"
  },
  {
   "metadata": {},
   "cell_type": "markdown",
   "source": "## LOADERS",
   "id": "58b56fac1c52ef59"
  },
  {
   "metadata": {
    "ExecuteTime": {
     "end_time": "2024-09-24T16:52:42.164827Z",
     "start_time": "2024-09-24T16:52:42.131837Z"
    }
   },
   "cell_type": "code",
   "source": [
    "VAL_PATH = r\"C:\\Users\\gimes\\Src\\repos\\CADx-Project\\dataset\\binary\\val\"\n",
    "\n",
    "val_loader = utl.BinaryLoader(VAL_PATH).get_loader()"
   ],
   "id": "9e6af926e563f5b9",
   "outputs": [
    {
     "data": {
      "text/plain": [
       "Dataset ImageFolder\n",
       "    Number of datapoints: 3796\n",
       "    Root location: C:\\Users\\gimes\\Src\\repos\\CADx-Project\\dataset\\binary\\val\n",
       "    StandardTransform\n",
       "Transform: Compose(\n",
       "               ToTensor()\n",
       "           )"
      ]
     },
     "execution_count": 6,
     "metadata": {},
     "output_type": "execute_result"
    }
   ],
   "execution_count": 6
  },
  {
   "metadata": {},
   "cell_type": "code",
   "outputs": [],
   "execution_count": null,
   "source": "",
   "id": "548bca7f9fd64601"
  }
 ],
 "metadata": {
  "kernelspec": {
   "display_name": "Python 3",
   "language": "python",
   "name": "python3"
  },
  "language_info": {
   "codemirror_mode": {
    "name": "ipython",
    "version": 2
   },
   "file_extension": ".py",
   "mimetype": "text/x-python",
   "name": "python",
   "nbconvert_exporter": "python",
   "pygments_lexer": "ipython2",
   "version": "2.7.6"
  }
 },
 "nbformat": 4,
 "nbformat_minor": 5
}

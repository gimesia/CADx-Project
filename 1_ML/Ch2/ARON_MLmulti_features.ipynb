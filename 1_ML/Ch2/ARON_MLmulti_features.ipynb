{
 "cells": [
  {
   "cell_type": "code",
   "id": "initial_id",
   "metadata": {
    "collapsed": true,
    "ExecuteTime": {
     "end_time": "2024-10-31T12:29:22.455542Z",
     "start_time": "2024-10-31T12:29:18.836904Z"
    }
   },
   "source": [
    "import numpy as np\n",
    "from sklearn.metrics import confusion_matrix, recall_score, cohen_kappa_score\n",
    "\n",
    "from utils.loader import FactoryLoader\n",
    "from utils.ml import MLPipeline\n",
    "from utils.preprocessing import PreprocessingFactory\n",
    "from utils.feature_extraction import *\n",
    "from utils.utils import *\n",
    "\n",
    "VAL_PATH = r\"C:\\Users\\gimes\\Src\\repos\\CADx-Project\\dataset\\multiclass\\val\"\n",
    "TRAIN_PATH = r\"C:\\Users\\gimes\\Src\\repos\\CADx-Project\\dataset\\multiclass\\train\""
   ],
   "outputs": [],
   "execution_count": 1
  },
  {
   "metadata": {
    "ExecuteTime": {
     "end_time": "2024-10-31T12:29:22.498760Z",
     "start_time": "2024-10-31T12:29:22.469216Z"
    }
   },
   "cell_type": "code",
   "source": [
    "percent = 100\n",
    "random = False\n",
    "\n",
    "# Initialize the FactoryLoader\n",
    "factory = PreprocessingFactory()\n",
    "factory.gaussian_smoothing(5)\n",
    "factory.clahe(clip_limit=1.5)\n",
    "factory.pad2square(fill=0)\n",
    "factory.resize((150,150))\n",
    "factory.hair_removal()\n",
    "factory.normalize2float()\n",
    "\n",
    "factory_loader = FactoryLoader(path=VAL_PATH, batch_size=32, factory=factory, percentage=percent, shuffle=random)\n",
    "\n",
    "# Create the feature extraction pipeline strategy and add desired features\n",
    "strategy = FeatureExtractionStrategy()\n",
    "\n",
    "strategy.add_extractor(MeanExtractor())  # Add mean feature\n",
    "strategy.add_extractor(StdExtractor())   # Add standard deviation feature\n",
    "strategy.add_extractor(VarExtractor())   # Add variance feature\n",
    "\n",
    "strategy.add_extractor(MeanExtractor(\"lab\"))  # Add mean feature\n",
    "strategy.add_extractor(StdExtractor(\"lab\"))   # Add standard deviation feature\n",
    "strategy.add_extractor(VarExtractor(\"lab\"))   # Add variance feature\n",
    "\n",
    "strategy.add_extractor(MeanExtractor(\"hsv\"))  # Add mean feature\n",
    "strategy.add_extractor(StdExtractor(\"hsv\"))   # Add standard deviation feature\n",
    "strategy.add_extractor(VarExtractor(\"hsv\"))   # Add variance feature\n",
    "\n",
    "strategy.add_extractor(LBPExtractor(radius=1, n_points=8))\n",
    "strategy.add_extractor(LBPExtractor(radius=2, n_points=8))\n",
    "strategy.add_extractor(LBPExtractor(radius=1, n_points=16))\n",
    "strategy.add_extractor(LBPExtractor(radius=2, n_points=16))\n",
    "\n",
    "strategy.add_extractor(GLCMExtractor(properties=['contrast', 'dissimilarity', 'homogeneity', 'energy', 'correlation']))\n",
    "\n",
    "pipeline = MLPipeline(dataset_path=TRAIN_PATH, preprocessing_factory=factory, feature_strategy=strategy, classifiers=[], percentage=percent, verbose=True, shuffle=random)"
   ],
   "id": "d7c81ba220d9e517",
   "outputs": [
    {
     "name": "stderr",
     "output_type": "stream",
     "text": [
      "INFO:utils.ml:MLPipeline initialized with dataset path: C:\\Users\\gimes\\Src\\repos\\CADx-Project\\dataset\\multiclass\\train\n",
      "INFO:utils.ml:Preprocessing steps\n"
     ]
    }
   ],
   "execution_count": 2
  },
  {
   "metadata": {
    "ExecuteTime": {
     "end_time": "2024-10-31T12:35:48.787997Z",
     "start_time": "2024-10-31T12:29:22.568375Z"
    }
   },
   "cell_type": "code",
   "source": [
    "pipeline.feature_matrix = None\n",
    "pipeline.run_feature_extraction()"
   ],
   "id": "21f510c52296a049",
   "outputs": [
    {
     "name": "stderr",
     "output_type": "stream",
     "text": [
      "INFO:utils.ml:Running feature extraction...\n"
     ]
    },
    {
     "name": "stdout",
     "output_type": "stream",
     "text": [
      "Processed 5/212 batches.\n",
      "Processed 10/212 batches.\n",
      "Processed 15/212 batches.\n",
      "Processed 20/212 batches.\n",
      "Processed 25/212 batches.\n",
      "Processed 30/212 batches.\n",
      "Processed 35/212 batches.\n",
      "Processed 40/212 batches.\n",
      "Processed 45/212 batches.\n",
      "Processed 50/212 batches.\n",
      "Processed 55/212 batches.\n",
      "Processed 60/212 batches.\n",
      "Processed 65/212 batches.\n",
      "Processed 70/212 batches.\n",
      "Processed 75/212 batches.\n",
      "Processed 80/212 batches.\n",
      "Processed 85/212 batches.\n",
      "Processed 90/212 batches.\n",
      "Processed 95/212 batches.\n",
      "Processed 100/212 batches.\n",
      "Processed 105/212 batches.\n",
      "Processed 110/212 batches.\n",
      "Processed 115/212 batches.\n",
      "Processed 120/212 batches.\n",
      "Processed 125/212 batches.\n",
      "Processed 130/212 batches.\n",
      "Processed 135/212 batches.\n",
      "Processed 140/212 batches.\n",
      "Processed 145/212 batches.\n",
      "Processed 150/212 batches.\n",
      "Processed 155/212 batches.\n",
      "Processed 160/212 batches.\n",
      "Processed 165/212 batches.\n",
      "Processed 170/212 batches.\n",
      "Processed 175/212 batches.\n",
      "Processed 180/212 batches.\n",
      "Processed 185/212 batches.\n",
      "Processed 190/212 batches.\n",
      "Processed 195/212 batches.\n",
      "Processed 200/212 batches.\n",
      "Processed 205/212 batches.\n",
      "Processed 210/212 batches.\n"
     ]
    },
    {
     "name": "stderr",
     "output_type": "stream",
     "text": [
      "INFO:utils.ml:Feature extraction completed. Extracted 5082 features.\n"
     ]
    },
    {
     "name": "stdout",
     "output_type": "stream",
     "text": [
      "Processed 212/212 batches.\n"
     ]
    }
   ],
   "execution_count": 3
  },
  {
   "metadata": {
    "ExecuteTime": {
     "end_time": "2024-10-31T12:35:48.902253Z",
     "start_time": "2024-10-31T12:35:48.796472Z"
    }
   },
   "cell_type": "code",
   "source": [
    "from xgboost import XGBClassifier\n",
    "from sklearn.ensemble import RandomForestClassifier\n",
    "\n",
    "rf1 = RandomForestClassifier(n_estimators=100)\n",
    "rf2 = RandomForestClassifier(n_estimators=150)\n",
    "rf3 = RandomForestClassifier(n_estimators=250)\n",
    "\n",
    "xgb1 = XGBClassifier(n_estimators=350)\n",
    "xgb2 = XGBClassifier(n_estimators=450)\n",
    "xgb3 = XGBClassifier(n_estimators=550)\n",
    "xgb4 = XGBClassifier(learning_rate=0.05, n_estimators=550, max_depth=3, min_child_weight=1, subsample=0.8, colsample_bytree=0.8)\n",
    "xgb5 = XGBClassifier(learning_rate=0.1, n_estimators=550, max_depth=7, min_child_weight=3, subsample=0.7, colsample_bytree=0.7) # BEST\n",
    "xgb6 = XGBClassifier(learning_rate=0.1, n_estimators=550, max_depth=5, min_child_weight=5, gamma=0.2, subsample=0.8, colsample_bytree=0.8)\n",
    "xgb7 = XGBClassifier(learning_rate=0.1, n_estimators=550, max_depth=5, min_child_weight=3, subsample=0.8, colsample_bytree=0.8, scale_pos_weight=10)\n",
    "xgb8 = XGBClassifier(learning_rate=0.1, n_estimators=550, max_depth=5, min_child_weight=1, subsample=0.8, colsample_bytree=0.8, reg_alpha=0.1, reg_lambda=0.1)\n",
    "xgb9 = XGBClassifier(learning_rate=0.01, n_estimators=550, max_depth=3, min_child_weight=1, subsample=1.0, colsample_bytree=1.0)\n",
    "\n",
    "pipeline.classifiers = [rf1, rf2, rf3,\n",
    "                        # svm1, svm2, svm3, svm6, svm7, svm8,\n",
    "                        xgb1, xgb2, xgb3, xgb4, xgb5, xgb6, xgb7, xgb8, xgb9]"
   ],
   "id": "74470ba20848a156",
   "outputs": [],
   "execution_count": 4
  },
  {
   "metadata": {
    "ExecuteTime": {
     "end_time": "2024-10-31T12:36:26.710222Z",
     "start_time": "2024-10-31T12:35:48.925154Z"
    }
   },
   "cell_type": "code",
   "source": "pipeline.fit_classifiers()",
   "id": "5269ac4d3392fbae",
   "outputs": [
    {
     "name": "stderr",
     "output_type": "stream",
     "text": [
      "INFO:utils.ml:Fitting classifiers...\n",
      "INFO:utils.ml:Fitting classifier: RandomForestClassifier0\n",
      "INFO:utils.ml:Fitted classifier: RandomForestClassifier0; Done in 2.819310426712036 seconds\n",
      "INFO:utils.ml:Fitting classifier: RandomForestClassifier1\n",
      "INFO:utils.ml:Fitted classifier: RandomForestClassifier1; Done in 4.368316173553467 seconds\n",
      "INFO:utils.ml:Fitting classifier: RandomForestClassifier2\n",
      "INFO:utils.ml:Fitted classifier: RandomForestClassifier2; Done in 7.1671142578125 seconds\n",
      "INFO:utils.ml:Fitting classifier: XGBClassifier3\n",
      "INFO:utils.ml:Fitted classifier: XGBClassifier3; Done in 2.3362555503845215 seconds\n",
      "INFO:utils.ml:Fitting classifier: XGBClassifier4\n",
      "INFO:utils.ml:Fitted classifier: XGBClassifier4; Done in 2.6645538806915283 seconds\n",
      "INFO:utils.ml:Fitting classifier: XGBClassifier5\n",
      "INFO:utils.ml:Fitted classifier: XGBClassifier5; Done in 3.1329047679901123 seconds\n",
      "INFO:utils.ml:Fitting classifier: XGBClassifier6\n",
      "INFO:utils.ml:Fitted classifier: XGBClassifier6; Done in 1.6074414253234863 seconds\n",
      "INFO:utils.ml:Fitting classifier: XGBClassifier7\n",
      "INFO:utils.ml:Fitted classifier: XGBClassifier7; Done in 3.763819932937622 seconds\n",
      "INFO:utils.ml:Fitting classifier: XGBClassifier8\n",
      "INFO:utils.ml:Fitted classifier: XGBClassifier8; Done in 2.350466012954712 seconds\n",
      "INFO:utils.ml:Fitting classifier: XGBClassifier9\n",
      "C:\\Programs\\miniconda3\\envs\\cv\\Lib\\site-packages\\xgboost\\core.py:158: UserWarning: [13:36:19] WARNING: C:\\b\\abs_90_bwj_86a\\croot\\xgboost-split_1724073762025\\work\\src\\learner.cc:740: \n",
      "Parameters: { \"scale_pos_weight\" } are not used.\n",
      "\n",
      "  warnings.warn(smsg, UserWarning)\n",
      "INFO:utils.ml:Fitted classifier: XGBClassifier9; Done in 2.692674160003662 seconds\n",
      "INFO:utils.ml:Fitting classifier: XGBClassifier10\n",
      "INFO:utils.ml:Fitted classifier: XGBClassifier10; Done in 3.0877339839935303 seconds\n",
      "INFO:utils.ml:Fitting classifier: XGBClassifier11\n",
      "INFO:utils.ml:Fitted classifier: XGBClassifier11; Done in 1.7795789241790771 seconds\n",
      "INFO:utils.ml:Fitting completed in 37.78 seconds.\n"
     ]
    }
   ],
   "execution_count": 5
  },
  {
   "metadata": {
    "ExecuteTime": {
     "end_time": "2024-10-31T12:37:27.991300Z",
     "start_time": "2024-10-31T12:36:26.723258Z"
    }
   },
   "cell_type": "code",
   "source": "pipeline.predict_with_classifiers(VAL_PATH)",
   "id": "f71e18a07f5ee7bb",
   "outputs": [
    {
     "name": "stderr",
     "output_type": "stream",
     "text": [
      "INFO:utils.ml:Predicting with classifiers on dataset: C:\\Users\\gimes\\Src\\repos\\CADx-Project\\dataset\\multiclass\\val\n"
     ]
    },
    {
     "name": "stdout",
     "output_type": "stream",
     "text": [
      "Processed 5/53 batches.\n",
      "Processed 10/53 batches.\n",
      "Processed 15/53 batches.\n",
      "Processed 20/53 batches.\n",
      "Processed 25/53 batches.\n",
      "Processed 30/53 batches.\n",
      "Processed 35/53 batches.\n",
      "Processed 40/53 batches.\n",
      "Processed 45/53 batches.\n",
      "Processed 50/53 batches.\n"
     ]
    },
    {
     "name": "stderr",
     "output_type": "stream",
     "text": [
      "INFO:utils.ml:Predictions made with classifier: RandomForestClassifier0\n",
      "INFO:utils.ml:Predictions made with classifier: RandomForestClassifier1\n",
      "INFO:utils.ml:Predictions made with classifier: RandomForestClassifier2\n",
      "INFO:utils.ml:Predictions made with classifier: XGBClassifier3\n",
      "INFO:utils.ml:Predictions made with classifier: XGBClassifier4\n",
      "INFO:utils.ml:Predictions made with classifier: XGBClassifier5\n",
      "INFO:utils.ml:Predictions made with classifier: XGBClassifier6\n",
      "INFO:utils.ml:Predictions made with classifier: XGBClassifier7\n",
      "INFO:utils.ml:Predictions made with classifier: XGBClassifier8\n",
      "INFO:utils.ml:Predictions made with classifier: XGBClassifier9\n",
      "INFO:utils.ml:Predictions made with classifier: XGBClassifier10\n",
      "INFO:utils.ml:Predictions made with classifier: XGBClassifier11\n"
     ]
    },
    {
     "name": "stdout",
     "output_type": "stream",
     "text": [
      "Processed 53/53 batches.\n"
     ]
    },
    {
     "data": {
      "text/plain": [
       "{'GT': array([0, 0, 0, ..., 2, 2, 2]),\n",
       " 'RandomForestClassifier0': array([0, 0, 1, ..., 1, 0, 0]),\n",
       " 'RandomForestClassifier1': array([0, 0, 1, ..., 1, 0, 0]),\n",
       " 'RandomForestClassifier2': array([0, 0, 1, ..., 1, 0, 0]),\n",
       " 'XGBClassifier3': array([0, 0, 2, ..., 1, 0, 0], dtype=int64),\n",
       " 'XGBClassifier4': array([0, 0, 2, ..., 1, 0, 0], dtype=int64),\n",
       " 'XGBClassifier5': array([0, 0, 2, ..., 1, 0, 0], dtype=int64),\n",
       " 'XGBClassifier6': array([0, 0, 2, ..., 1, 0, 0], dtype=int64),\n",
       " 'XGBClassifier7': array([2, 0, 2, ..., 1, 0, 0], dtype=int64),\n",
       " 'XGBClassifier8': array([2, 0, 2, ..., 1, 0, 0], dtype=int64),\n",
       " 'XGBClassifier9': array([0, 0, 2, ..., 1, 0, 0], dtype=int64),\n",
       " 'XGBClassifier10': array([0, 0, 2, ..., 1, 0, 0], dtype=int64),\n",
       " 'XGBClassifier11': array([0, 0, 2, ..., 1, 0, 0], dtype=int64)}"
      ]
     },
     "execution_count": 6,
     "metadata": {},
     "output_type": "execute_result"
    }
   ],
   "execution_count": 6
  },
  {
   "metadata": {
    "ExecuteTime": {
     "end_time": "2024-10-31T12:37:28.076444Z",
     "start_time": "2024-10-31T12:37:28.007094Z"
    }
   },
   "cell_type": "code",
   "source": [
    "import pandas as pd\n",
    "\n",
    "df = pd.DataFrame(data=pipeline.calculate_metrics())\n",
    "df.T"
   ],
   "id": "751fad2660242db5",
   "outputs": [
    {
     "name": "stderr",
     "output_type": "stream",
     "text": [
      "INFO:utils.ml:Metrics for classifier GT: {'accuracy': 1.0, 'precision': 1.0, 'recall': 1.0, 'f1': 1.0}\n",
      "INFO:utils.ml:Metrics for classifier RandomForestClassifier0: {'accuracy': 0.7984251968503937, 'precision': 0.8196284596563687, 'recall': 0.5925863751245489, 'f1': 0.5928256909673607}\n",
      "INFO:utils.ml:Metrics for classifier RandomForestClassifier1: {'accuracy': 0.7968503937007874, 'precision': 0.7997445674997451, 'recall': 0.5970011975347571, 'f1': 0.6024964171371788}\n",
      "INFO:utils.ml:Metrics for classifier RandomForestClassifier2: {'accuracy': 0.7984251968503937, 'precision': 0.7372200911215568, 'recall': 0.5868328646286647, 'f1': 0.5808147359358747}\n",
      "INFO:utils.ml:Metrics for classifier XGBClassifier3: {'accuracy': 0.8149606299212598, 'precision': 0.7367808379293822, 'recall': 0.6372206960018572, 'f1': 0.6538559720177728}\n",
      "INFO:utils.ml:Metrics for classifier XGBClassifier4: {'accuracy': 0.8149606299212598, 'precision': 0.7110662755024588, 'recall': 0.6284127282997553, 'f1': 0.6399684597440558}\n",
      "INFO:utils.ml:Metrics for classifier XGBClassifier5: {'accuracy': 0.815748031496063, 'precision': 0.7279703519981163, 'recall': 0.6319588275905353, 'f1': 0.64587922017562}\n",
      "INFO:utils.ml:Metrics for classifier XGBClassifier6: {'accuracy': 0.8039370078740158, 'precision': 0.6877116607890262, 'recall': 0.6057243472099658, 'f1': 0.6101094739424419}\n",
      "INFO:utils.ml:Metrics for classifier XGBClassifier7: {'accuracy': 0.8188976377952756, 'precision': 0.7282446896324015, 'recall': 0.6429110655891627, 'f1': 0.6592251380665989}\n",
      "INFO:utils.ml:Metrics for classifier XGBClassifier8: {'accuracy': 0.815748031496063, 'precision': 0.7169354189171262, 'recall': 0.6346578808802019, 'f1': 0.6486234412375845}\n",
      "INFO:utils.ml:Metrics for classifier XGBClassifier9: {'accuracy': 0.8149606299212598, 'precision': 0.7114779183798384, 'recall': 0.6311117815894217, 'f1': 0.6438293069556864}\n",
      "INFO:utils.ml:Metrics for classifier XGBClassifier10: {'accuracy': 0.8165354330708662, 'precision': 0.7486536148161856, 'recall': 0.6319173638002711, 'f1': 0.6477918098552918}\n",
      "INFO:utils.ml:Metrics for classifier XGBClassifier11: {'accuracy': 0.7456692913385827, 'precision': 0.6598791062473356, 'recall': 0.538865308721234, 'f1': 0.5253335814226229}\n"
     ]
    },
    {
     "data": {
      "text/plain": [
       "                         accuracy  precision    recall        f1\n",
       "GT                       1.000000   1.000000  1.000000  1.000000\n",
       "RandomForestClassifier0  0.798425   0.819628  0.592586  0.592826\n",
       "RandomForestClassifier1  0.796850   0.799745  0.597001  0.602496\n",
       "RandomForestClassifier2  0.798425   0.737220  0.586833  0.580815\n",
       "XGBClassifier3           0.814961   0.736781  0.637221  0.653856\n",
       "XGBClassifier4           0.814961   0.711066  0.628413  0.639968\n",
       "XGBClassifier5           0.815748   0.727970  0.631959  0.645879\n",
       "XGBClassifier6           0.803937   0.687712  0.605724  0.610109\n",
       "XGBClassifier7           0.818898   0.728245  0.642911  0.659225\n",
       "XGBClassifier8           0.815748   0.716935  0.634658  0.648623\n",
       "XGBClassifier9           0.814961   0.711478  0.631112  0.643829\n",
       "XGBClassifier10          0.816535   0.748654  0.631917  0.647792\n",
       "XGBClassifier11          0.745669   0.659879  0.538865  0.525334"
      ],
      "text/html": [
       "<div>\n",
       "<style scoped>\n",
       "    .dataframe tbody tr th:only-of-type {\n",
       "        vertical-align: middle;\n",
       "    }\n",
       "\n",
       "    .dataframe tbody tr th {\n",
       "        vertical-align: top;\n",
       "    }\n",
       "\n",
       "    .dataframe thead th {\n",
       "        text-align: right;\n",
       "    }\n",
       "</style>\n",
       "<table border=\"1\" class=\"dataframe\">\n",
       "  <thead>\n",
       "    <tr style=\"text-align: right;\">\n",
       "      <th></th>\n",
       "      <th>accuracy</th>\n",
       "      <th>precision</th>\n",
       "      <th>recall</th>\n",
       "      <th>f1</th>\n",
       "    </tr>\n",
       "  </thead>\n",
       "  <tbody>\n",
       "    <tr>\n",
       "      <th>GT</th>\n",
       "      <td>1.000000</td>\n",
       "      <td>1.000000</td>\n",
       "      <td>1.000000</td>\n",
       "      <td>1.000000</td>\n",
       "    </tr>\n",
       "    <tr>\n",
       "      <th>RandomForestClassifier0</th>\n",
       "      <td>0.798425</td>\n",
       "      <td>0.819628</td>\n",
       "      <td>0.592586</td>\n",
       "      <td>0.592826</td>\n",
       "    </tr>\n",
       "    <tr>\n",
       "      <th>RandomForestClassifier1</th>\n",
       "      <td>0.796850</td>\n",
       "      <td>0.799745</td>\n",
       "      <td>0.597001</td>\n",
       "      <td>0.602496</td>\n",
       "    </tr>\n",
       "    <tr>\n",
       "      <th>RandomForestClassifier2</th>\n",
       "      <td>0.798425</td>\n",
       "      <td>0.737220</td>\n",
       "      <td>0.586833</td>\n",
       "      <td>0.580815</td>\n",
       "    </tr>\n",
       "    <tr>\n",
       "      <th>XGBClassifier3</th>\n",
       "      <td>0.814961</td>\n",
       "      <td>0.736781</td>\n",
       "      <td>0.637221</td>\n",
       "      <td>0.653856</td>\n",
       "    </tr>\n",
       "    <tr>\n",
       "      <th>XGBClassifier4</th>\n",
       "      <td>0.814961</td>\n",
       "      <td>0.711066</td>\n",
       "      <td>0.628413</td>\n",
       "      <td>0.639968</td>\n",
       "    </tr>\n",
       "    <tr>\n",
       "      <th>XGBClassifier5</th>\n",
       "      <td>0.815748</td>\n",
       "      <td>0.727970</td>\n",
       "      <td>0.631959</td>\n",
       "      <td>0.645879</td>\n",
       "    </tr>\n",
       "    <tr>\n",
       "      <th>XGBClassifier6</th>\n",
       "      <td>0.803937</td>\n",
       "      <td>0.687712</td>\n",
       "      <td>0.605724</td>\n",
       "      <td>0.610109</td>\n",
       "    </tr>\n",
       "    <tr>\n",
       "      <th>XGBClassifier7</th>\n",
       "      <td>0.818898</td>\n",
       "      <td>0.728245</td>\n",
       "      <td>0.642911</td>\n",
       "      <td>0.659225</td>\n",
       "    </tr>\n",
       "    <tr>\n",
       "      <th>XGBClassifier8</th>\n",
       "      <td>0.815748</td>\n",
       "      <td>0.716935</td>\n",
       "      <td>0.634658</td>\n",
       "      <td>0.648623</td>\n",
       "    </tr>\n",
       "    <tr>\n",
       "      <th>XGBClassifier9</th>\n",
       "      <td>0.814961</td>\n",
       "      <td>0.711478</td>\n",
       "      <td>0.631112</td>\n",
       "      <td>0.643829</td>\n",
       "    </tr>\n",
       "    <tr>\n",
       "      <th>XGBClassifier10</th>\n",
       "      <td>0.816535</td>\n",
       "      <td>0.748654</td>\n",
       "      <td>0.631917</td>\n",
       "      <td>0.647792</td>\n",
       "    </tr>\n",
       "    <tr>\n",
       "      <th>XGBClassifier11</th>\n",
       "      <td>0.745669</td>\n",
       "      <td>0.659879</td>\n",
       "      <td>0.538865</td>\n",
       "      <td>0.525334</td>\n",
       "    </tr>\n",
       "  </tbody>\n",
       "</table>\n",
       "</div>"
      ]
     },
     "execution_count": 7,
     "metadata": {},
     "output_type": "execute_result"
    }
   ],
   "execution_count": 7
  },
  {
   "metadata": {
    "ExecuteTime": {
     "end_time": "2024-10-31T12:37:28.102495Z",
     "start_time": "2024-10-31T12:37:28.091233Z"
    }
   },
   "cell_type": "code",
   "source": [
    "from sklearn.metrics import confusion_matrix,recall_score, accuracy_score, f1_score, precision_score, cohen_kappa_score\n",
    "\n",
    "classifier_key = \"XGBClassifier7\"\n",
    "avg = \"macro\"\n",
    "\n",
    "confusion_matrix(pipeline.predictions[\"GT\"], pipeline.predictions[classifier_key])\n",
    "print(\"Accuracy:\")\n",
    "print(accuracy_score(pipeline.predictions[\"GT\"], pipeline.predictions[classifier_key], ))\n",
    "print(\"Cohen's Kappa:\")\n",
    "print(cohen_kappa_score(pipeline.predictions[\"GT\"], pipeline.predictions[classifier_key]))#average=\"weighted\"))\n",
    "print(\"Precision:\")\n",
    "print(precision_score(pipeline.predictions[\"GT\"], pipeline.predictions[classifier_key], average=avg ))#average=\"weighted\"))\n",
    "print(\"Recall:\")\n",
    "print(recall_score(pipeline.predictions[\"GT\"], pipeline.predictions[classifier_key], average=avg ))#average=\"weighted\"))\n",
    "print(\"F1:\")\n",
    "print(f1_score(pipeline.predictions[\"GT\"], pipeline.predictions[classifier_key], average=avg ))#average=\"weighted\"))"
   ],
   "id": "72bb6e3b3d7cd3e2",
   "outputs": [
    {
     "name": "stdout",
     "output_type": "stream",
     "text": [
      "Accuracy:\n",
      "0.8188976377952756\n",
      "Cohen's Kappa:\n",
      "0.6634249763786786\n",
      "Precision:\n",
      "0.7282446896324015\n",
      "Recall:\n",
      "0.6429110655891627\n",
      "F1:\n",
      "0.6592251380665989\n"
     ]
    }
   ],
   "execution_count": 8
  },
  {
   "metadata": {
    "ExecuteTime": {
     "end_time": "2024-10-31T12:37:28.128998Z",
     "start_time": "2024-10-31T12:37:28.125123Z"
    }
   },
   "cell_type": "code",
   "source": "pipeline.get_feature_names().__len__()",
   "id": "78ce2dcb0269d91b",
   "outputs": [
    {
     "data": {
      "text/plain": [
       "88"
      ]
     },
     "execution_count": 9,
     "metadata": {},
     "output_type": "execute_result"
    }
   ],
   "execution_count": 9
  },
  {
   "metadata": {
    "ExecuteTime": {
     "end_time": "2024-10-31T12:37:34.391489Z",
     "start_time": "2024-10-31T12:37:28.167642Z"
    }
   },
   "cell_type": "code",
   "source": "pipeline.save_feature_matrix_to_excel(f\"./features_smoothing5_clahe1point5_pad2square0_resize150x150_hair_removal.xlsx\")",
   "id": "8983c3f52d9f4ceb",
   "outputs": [
    {
     "name": "stderr",
     "output_type": "stream",
     "text": [
      "INFO:utils.ml:Saving feature matrix to Excel...\n",
      "INFO:utils.ml:Feature matrix saved to ./features_smoothing5_clahe1point5_pad2square0_resize150x150_hair_removal.xlsxfeatures_smoothing_clahe_pad2square_resize_hair_removal_01_norm.xlsx\n"
     ]
    },
    {
     "data": {
      "text/plain": [
       "'./features_smoothing5_clahe1point5_pad2square0_resize150x150_hair_removal.xlsxfeatures_smoothing_clahe_pad2square_resize_hair_removal_01_norm.xlsx'"
      ]
     },
     "execution_count": 10,
     "metadata": {},
     "output_type": "execute_result"
    }
   ],
   "execution_count": 10
  },
  {
   "metadata": {},
   "cell_type": "markdown",
   "source": [
    "___\n",
    "Balance the data"
   ],
   "id": "ad0e6dcd404dcf15"
  },
  {
   "metadata": {
    "ExecuteTime": {
     "end_time": "2024-10-31T12:37:34.408940Z",
     "start_time": "2024-10-31T12:37:34.405441Z"
    }
   },
   "cell_type": "code",
   "source": [
    "# Backup\n",
    "pipeline.backup_feature_matrix = pipeline.feature_matrix.copy()\n",
    "pipeline.backup_labels = pipeline.labels.copy()"
   ],
   "id": "da1b19771d4cde2f",
   "outputs": [],
   "execution_count": 11
  },
  {
   "metadata": {
    "ExecuteTime": {
     "end_time": "2024-10-31T12:44:33.362339Z",
     "start_time": "2024-10-31T12:44:33.356598Z"
    }
   },
   "cell_type": "code",
   "source": [
    "print(pipeline.backup_feature_matrix.shape)\n",
    "print(pipeline.feature_matrix.shape)\n",
    "\n",
    "print(pipeline.backup_labels.shape)\n",
    "print(pipeline.labels.shape)"
   ],
   "id": "3425dcf3bd509008",
   "outputs": [
    {
     "name": "stdout",
     "output_type": "stream",
     "text": [
      "(5082, 88)\n",
      "(8139, 88)\n",
      "(5082,)\n",
      "(8139,)\n"
     ]
    }
   ],
   "execution_count": 17
  },
  {
   "metadata": {
    "ExecuteTime": {
     "end_time": "2024-10-31T12:37:34.946450Z",
     "start_time": "2024-10-31T12:37:34.441047Z"
    }
   },
   "cell_type": "code",
   "source": [
    "from imblearn.over_sampling import SMOTE\n",
    "\n",
    "smote = SMOTE(random_state=42)\n",
    "pipeline.feature_matrix, pipeline.labels = smote.fit_resample(pipeline.feature_matrix, pipeline.labels)"
   ],
   "id": "6f226a41aafa84b7",
   "outputs": [],
   "execution_count": 13
  },
  {
   "metadata": {
    "ExecuteTime": {
     "end_time": "2024-10-31T12:38:31.757168Z",
     "start_time": "2024-10-31T12:37:34.966073Z"
    }
   },
   "cell_type": "code",
   "source": [
    "pipeline.fitted_classifiers = {}\n",
    "pipeline.fit_classifiers()"
   ],
   "id": "e25b1eeaa9b9b112",
   "outputs": [
    {
     "name": "stderr",
     "output_type": "stream",
     "text": [
      "INFO:utils.ml:Fitting classifiers...\n",
      "INFO:utils.ml:Fitting classifier: RandomForestClassifier0\n",
      "INFO:utils.ml:Fitted classifier: RandomForestClassifier0; Done in 5.28521203994751 seconds\n",
      "INFO:utils.ml:Fitting classifier: RandomForestClassifier1\n",
      "INFO:utils.ml:Fitted classifier: RandomForestClassifier1; Done in 7.99783730506897 seconds\n",
      "INFO:utils.ml:Fitting classifier: RandomForestClassifier2\n",
      "INFO:utils.ml:Fitted classifier: RandomForestClassifier2; Done in 13.3698148727417 seconds\n",
      "INFO:utils.ml:Fitting classifier: XGBClassifier3\n",
      "INFO:utils.ml:Fitted classifier: XGBClassifier3; Done in 2.834153413772583 seconds\n",
      "INFO:utils.ml:Fitting classifier: XGBClassifier4\n",
      "INFO:utils.ml:Fitted classifier: XGBClassifier4; Done in 3.4891340732574463 seconds\n",
      "INFO:utils.ml:Fitting classifier: XGBClassifier5\n",
      "INFO:utils.ml:Fitted classifier: XGBClassifier5; Done in 4.219215631484985 seconds\n",
      "INFO:utils.ml:Fitting classifier: XGBClassifier6\n",
      "INFO:utils.ml:Fitted classifier: XGBClassifier6; Done in 2.10445499420166 seconds\n",
      "INFO:utils.ml:Fitting classifier: XGBClassifier7\n",
      "INFO:utils.ml:Fitted classifier: XGBClassifier7; Done in 5.194125175476074 seconds\n",
      "INFO:utils.ml:Fitting classifier: XGBClassifier8\n",
      "INFO:utils.ml:Fitted classifier: XGBClassifier8; Done in 3.213197708129883 seconds\n",
      "INFO:utils.ml:Fitting classifier: XGBClassifier9\n",
      "C:\\Programs\\miniconda3\\envs\\cv\\Lib\\site-packages\\xgboost\\core.py:158: UserWarning: [13:38:22] WARNING: C:\\b\\abs_90_bwj_86a\\croot\\xgboost-split_1724073762025\\work\\src\\learner.cc:740: \n",
      "Parameters: { \"scale_pos_weight\" } are not used.\n",
      "\n",
      "  warnings.warn(smsg, UserWarning)\n",
      "INFO:utils.ml:Fitted classifier: XGBClassifier9; Done in 3.3708865642547607 seconds\n",
      "INFO:utils.ml:Fitting classifier: XGBClassifier10\n",
      "INFO:utils.ml:Fitted classifier: XGBClassifier10; Done in 3.5658156871795654 seconds\n",
      "INFO:utils.ml:Fitting classifier: XGBClassifier11\n",
      "INFO:utils.ml:Fitted classifier: XGBClassifier11; Done in 2.1323931217193604 seconds\n",
      "INFO:utils.ml:Fitting completed in 56.79 seconds.\n"
     ]
    }
   ],
   "execution_count": 14
  },
  {
   "metadata": {
    "ExecuteTime": {
     "end_time": "2024-10-31T12:39:35.749451Z",
     "start_time": "2024-10-31T12:38:31.775818Z"
    }
   },
   "cell_type": "code",
   "source": "pipeline.predict_with_classifiers(VAL_PATH)",
   "id": "eaa13003ad0706a4",
   "outputs": [
    {
     "name": "stderr",
     "output_type": "stream",
     "text": [
      "INFO:utils.ml:Predicting with classifiers on dataset: C:\\Users\\gimes\\Src\\repos\\CADx-Project\\dataset\\multiclass\\val\n"
     ]
    },
    {
     "name": "stdout",
     "output_type": "stream",
     "text": [
      "Processed 5/53 batches.\n",
      "Processed 10/53 batches.\n",
      "Processed 15/53 batches.\n",
      "Processed 20/53 batches.\n",
      "Processed 25/53 batches.\n",
      "Processed 30/53 batches.\n",
      "Processed 35/53 batches.\n",
      "Processed 40/53 batches.\n",
      "Processed 45/53 batches.\n",
      "Processed 50/53 batches.\n"
     ]
    },
    {
     "name": "stderr",
     "output_type": "stream",
     "text": [
      "INFO:utils.ml:Predictions made with classifier: RandomForestClassifier0\n",
      "INFO:utils.ml:Predictions made with classifier: RandomForestClassifier1\n",
      "INFO:utils.ml:Predictions made with classifier: RandomForestClassifier2\n",
      "INFO:utils.ml:Predictions made with classifier: XGBClassifier3\n",
      "INFO:utils.ml:Predictions made with classifier: XGBClassifier4\n",
      "INFO:utils.ml:Predictions made with classifier: XGBClassifier5\n",
      "INFO:utils.ml:Predictions made with classifier: XGBClassifier6\n",
      "INFO:utils.ml:Predictions made with classifier: XGBClassifier7\n",
      "INFO:utils.ml:Predictions made with classifier: XGBClassifier8\n",
      "INFO:utils.ml:Predictions made with classifier: XGBClassifier9\n",
      "INFO:utils.ml:Predictions made with classifier: XGBClassifier10\n",
      "INFO:utils.ml:Predictions made with classifier: XGBClassifier11\n"
     ]
    },
    {
     "name": "stdout",
     "output_type": "stream",
     "text": [
      "Processed 53/53 batches.\n"
     ]
    },
    {
     "data": {
      "text/plain": [
       "{'GT': array([0, 0, 0, ..., 2, 2, 2]),\n",
       " 'RandomForestClassifier0': array([2, 0, 2, ..., 1, 2, 0]),\n",
       " 'RandomForestClassifier1': array([2, 0, 2, ..., 1, 2, 0]),\n",
       " 'RandomForestClassifier2': array([2, 0, 2, ..., 1, 2, 0]),\n",
       " 'XGBClassifier3': array([2, 0, 2, ..., 1, 2, 0], dtype=int64),\n",
       " 'XGBClassifier4': array([2, 0, 2, ..., 1, 2, 0], dtype=int64),\n",
       " 'XGBClassifier5': array([2, 0, 2, ..., 1, 2, 0], dtype=int64),\n",
       " 'XGBClassifier6': array([0, 0, 2, ..., 1, 0, 0], dtype=int64),\n",
       " 'XGBClassifier7': array([2, 0, 2, ..., 1, 2, 0], dtype=int64),\n",
       " 'XGBClassifier8': array([2, 0, 2, ..., 1, 2, 0], dtype=int64),\n",
       " 'XGBClassifier9': array([2, 0, 2, ..., 1, 2, 0], dtype=int64),\n",
       " 'XGBClassifier10': array([2, 0, 2, ..., 1, 2, 0], dtype=int64),\n",
       " 'XGBClassifier11': array([0, 0, 2, ..., 1, 2, 0], dtype=int64)}"
      ]
     },
     "execution_count": 15,
     "metadata": {},
     "output_type": "execute_result"
    }
   ],
   "execution_count": 15
  },
  {
   "metadata": {
    "ExecuteTime": {
     "end_time": "2024-10-31T12:39:35.941132Z",
     "start_time": "2024-10-31T12:39:35.864217Z"
    }
   },
   "cell_type": "code",
   "source": [
    "import pandas as pd\n",
    "\n",
    "df = pd.DataFrame(data=pipeline.calculate_metrics(\n",
    "    [\"accuracy\", \"precision\", \"recall\", \"f1\", \"kappa\"],))\n",
    "df.T"
   ],
   "id": "3b6534db74d47624",
   "outputs": [
    {
     "name": "stderr",
     "output_type": "stream",
     "text": [
      "INFO:utils.ml:Metrics for classifier GT: {'accuracy': 1.0, 'precision': 1.0, 'recall': 1.0, 'f1': 1.0, 'kappa': 1.0}\n",
      "INFO:utils.ml:Metrics for classifier RandomForestClassifier0: {'accuracy': 0.794488188976378, 'precision': 0.6871083116138946, 'recall': 0.7033207832900673, 'f1': 0.6936605104697963, 'kappa': 0.636357851870705}\n",
      "INFO:utils.ml:Metrics for classifier RandomForestClassifier1: {'accuracy': 0.7968503937007874, 'precision': 0.6922698637937822, 'recall': 0.7110823259144657, 'f1': 0.6999427059460456, 'kappa': 0.6408560004208975}\n",
      "INFO:utils.ml:Metrics for classifier RandomForestClassifier2: {'accuracy': 0.7881889763779527, 'precision': 0.6793052499421813, 'recall': 0.7008427861953054, 'f1': 0.6879900190842756, 'kappa': 0.6262237471498782}\n",
      "INFO:utils.ml:Metrics for classifier XGBClassifier3: {'accuracy': 0.8118110236220473, 'precision': 0.704219352103769, 'recall': 0.6855805825448281, 'f1': 0.6934786090143357, 'kappa': 0.6586282598622502}\n",
      "INFO:utils.ml:Metrics for classifier XGBClassifier4: {'accuracy': 0.8078740157480315, 'precision': 0.6959172811165221, 'recall': 0.6791794051244203, 'f1': 0.6863581091351268, 'kappa': 0.6515038371915177}\n",
      "INFO:utils.ml:Metrics for classifier XGBClassifier5: {'accuracy': 0.8078740157480315, 'precision': 0.6982335847776163, 'recall': 0.6822338623306381, 'f1': 0.6891732629540308, 'kappa': 0.6517325708942475}\n",
      "INFO:utils.ml:Metrics for classifier XGBClassifier6: {'accuracy': 0.75748031496063, 'precision': 0.6243355595149146, 'recall': 0.6443379745051883, 'f1': 0.6303251105199201, 'kappa': 0.5763402102052664}\n",
      "INFO:utils.ml:Metrics for classifier XGBClassifier7: {'accuracy': 0.8165354330708662, 'precision': 0.700467342336561, 'recall': 0.6917625942166961, 'f1': 0.6957536111076266, 'kappa': 0.6685373120953468}\n",
      "INFO:utils.ml:Metrics for classifier XGBClassifier8: {'accuracy': 0.8133858267716535, 'precision': 0.6926621576929425, 'recall': 0.6872746745470554, 'f1': 0.6896950763658589, 'kappa': 0.6637614391935369}\n",
      "INFO:utils.ml:Metrics for classifier XGBClassifier9: {'accuracy': 0.8188976377952756, 'precision': 0.7033885896161345, 'recall': 0.6944814341783124, 'f1': 0.6983871306284888, 'kappa': 0.6733159161469844}\n",
      "INFO:utils.ml:Metrics for classifier XGBClassifier10: {'accuracy': 0.8204724409448819, 'precision': 0.7035710534223193, 'recall': 0.692232559182944, 'f1': 0.6972123472959592, 'kappa': 0.6754713936035721}\n",
      "INFO:utils.ml:Metrics for classifier XGBClassifier11: {'accuracy': 0.6795275590551181, 'precision': 0.5734318360992923, 'recall': 0.5891239595928432, 'f1': 0.5651084875993765, 'kappa': 0.46376700334464815}\n"
     ]
    },
    {
     "data": {
      "text/plain": [
       "                         accuracy  precision    recall        f1     kappa\n",
       "GT                       1.000000   1.000000  1.000000  1.000000  1.000000\n",
       "RandomForestClassifier0  0.794488   0.687108  0.703321  0.693661  0.636358\n",
       "RandomForestClassifier1  0.796850   0.692270  0.711082  0.699943  0.640856\n",
       "RandomForestClassifier2  0.788189   0.679305  0.700843  0.687990  0.626224\n",
       "XGBClassifier3           0.811811   0.704219  0.685581  0.693479  0.658628\n",
       "XGBClassifier4           0.807874   0.695917  0.679179  0.686358  0.651504\n",
       "XGBClassifier5           0.807874   0.698234  0.682234  0.689173  0.651733\n",
       "XGBClassifier6           0.757480   0.624336  0.644338  0.630325  0.576340\n",
       "XGBClassifier7           0.816535   0.700467  0.691763  0.695754  0.668537\n",
       "XGBClassifier8           0.813386   0.692662  0.687275  0.689695  0.663761\n",
       "XGBClassifier9           0.818898   0.703389  0.694481  0.698387  0.673316\n",
       "XGBClassifier10          0.820472   0.703571  0.692233  0.697212  0.675471\n",
       "XGBClassifier11          0.679528   0.573432  0.589124  0.565108  0.463767"
      ],
      "text/html": [
       "<div>\n",
       "<style scoped>\n",
       "    .dataframe tbody tr th:only-of-type {\n",
       "        vertical-align: middle;\n",
       "    }\n",
       "\n",
       "    .dataframe tbody tr th {\n",
       "        vertical-align: top;\n",
       "    }\n",
       "\n",
       "    .dataframe thead th {\n",
       "        text-align: right;\n",
       "    }\n",
       "</style>\n",
       "<table border=\"1\" class=\"dataframe\">\n",
       "  <thead>\n",
       "    <tr style=\"text-align: right;\">\n",
       "      <th></th>\n",
       "      <th>accuracy</th>\n",
       "      <th>precision</th>\n",
       "      <th>recall</th>\n",
       "      <th>f1</th>\n",
       "      <th>kappa</th>\n",
       "    </tr>\n",
       "  </thead>\n",
       "  <tbody>\n",
       "    <tr>\n",
       "      <th>GT</th>\n",
       "      <td>1.000000</td>\n",
       "      <td>1.000000</td>\n",
       "      <td>1.000000</td>\n",
       "      <td>1.000000</td>\n",
       "      <td>1.000000</td>\n",
       "    </tr>\n",
       "    <tr>\n",
       "      <th>RandomForestClassifier0</th>\n",
       "      <td>0.794488</td>\n",
       "      <td>0.687108</td>\n",
       "      <td>0.703321</td>\n",
       "      <td>0.693661</td>\n",
       "      <td>0.636358</td>\n",
       "    </tr>\n",
       "    <tr>\n",
       "      <th>RandomForestClassifier1</th>\n",
       "      <td>0.796850</td>\n",
       "      <td>0.692270</td>\n",
       "      <td>0.711082</td>\n",
       "      <td>0.699943</td>\n",
       "      <td>0.640856</td>\n",
       "    </tr>\n",
       "    <tr>\n",
       "      <th>RandomForestClassifier2</th>\n",
       "      <td>0.788189</td>\n",
       "      <td>0.679305</td>\n",
       "      <td>0.700843</td>\n",
       "      <td>0.687990</td>\n",
       "      <td>0.626224</td>\n",
       "    </tr>\n",
       "    <tr>\n",
       "      <th>XGBClassifier3</th>\n",
       "      <td>0.811811</td>\n",
       "      <td>0.704219</td>\n",
       "      <td>0.685581</td>\n",
       "      <td>0.693479</td>\n",
       "      <td>0.658628</td>\n",
       "    </tr>\n",
       "    <tr>\n",
       "      <th>XGBClassifier4</th>\n",
       "      <td>0.807874</td>\n",
       "      <td>0.695917</td>\n",
       "      <td>0.679179</td>\n",
       "      <td>0.686358</td>\n",
       "      <td>0.651504</td>\n",
       "    </tr>\n",
       "    <tr>\n",
       "      <th>XGBClassifier5</th>\n",
       "      <td>0.807874</td>\n",
       "      <td>0.698234</td>\n",
       "      <td>0.682234</td>\n",
       "      <td>0.689173</td>\n",
       "      <td>0.651733</td>\n",
       "    </tr>\n",
       "    <tr>\n",
       "      <th>XGBClassifier6</th>\n",
       "      <td>0.757480</td>\n",
       "      <td>0.624336</td>\n",
       "      <td>0.644338</td>\n",
       "      <td>0.630325</td>\n",
       "      <td>0.576340</td>\n",
       "    </tr>\n",
       "    <tr>\n",
       "      <th>XGBClassifier7</th>\n",
       "      <td>0.816535</td>\n",
       "      <td>0.700467</td>\n",
       "      <td>0.691763</td>\n",
       "      <td>0.695754</td>\n",
       "      <td>0.668537</td>\n",
       "    </tr>\n",
       "    <tr>\n",
       "      <th>XGBClassifier8</th>\n",
       "      <td>0.813386</td>\n",
       "      <td>0.692662</td>\n",
       "      <td>0.687275</td>\n",
       "      <td>0.689695</td>\n",
       "      <td>0.663761</td>\n",
       "    </tr>\n",
       "    <tr>\n",
       "      <th>XGBClassifier9</th>\n",
       "      <td>0.818898</td>\n",
       "      <td>0.703389</td>\n",
       "      <td>0.694481</td>\n",
       "      <td>0.698387</td>\n",
       "      <td>0.673316</td>\n",
       "    </tr>\n",
       "    <tr>\n",
       "      <th>XGBClassifier10</th>\n",
       "      <td>0.820472</td>\n",
       "      <td>0.703571</td>\n",
       "      <td>0.692233</td>\n",
       "      <td>0.697212</td>\n",
       "      <td>0.675471</td>\n",
       "    </tr>\n",
       "    <tr>\n",
       "      <th>XGBClassifier11</th>\n",
       "      <td>0.679528</td>\n",
       "      <td>0.573432</td>\n",
       "      <td>0.589124</td>\n",
       "      <td>0.565108</td>\n",
       "      <td>0.463767</td>\n",
       "    </tr>\n",
       "  </tbody>\n",
       "</table>\n",
       "</div>"
      ]
     },
     "execution_count": 16,
     "metadata": {},
     "output_type": "execute_result"
    }
   ],
   "execution_count": 16
  },
  {
   "metadata": {},
   "cell_type": "markdown",
   "source": [
    "___\n",
    "Borderline SMOTE"
   ],
   "id": "1e752cdfc948f3bc"
  },
  {
   "metadata": {
    "ExecuteTime": {
     "end_time": "2024-10-31T12:46:55.410955Z",
     "start_time": "2024-10-31T12:46:55.281147Z"
    }
   },
   "cell_type": "code",
   "source": [
    "from imblearn.over_sampling import BorderlineSMOTE\n",
    "smote = BorderlineSMOTE(sampling_strategy='auto', random_state=42)\n",
    "\n",
    "pipeline.feature_matrix, pipeline.labels = smote.fit_resample(\n",
    "    pipeline.backup_feature_matrix, pipeline.backup_labels)\n",
    "\n",
    "print(pipeline.backup_feature_matrix.shape)\n",
    "print(pipeline.feature_matrix.shape)\n",
    "\n",
    "print(pipeline.backup_labels.shape)\n",
    "print(pipeline.labels.shape)\n",
    "\n",
    "pipeline.fitted_classifiers = {}"
   ],
   "id": "ca12420fbcc1eb2b",
   "outputs": [
    {
     "name": "stdout",
     "output_type": "stream",
     "text": [
      "(5082, 88)\n",
      "(8139, 88)\n",
      "(5082,)\n",
      "(8139,)\n"
     ]
    }
   ],
   "execution_count": 18
  },
  {
   "metadata": {
    "ExecuteTime": {
     "end_time": "2024-10-31T12:48:37.829419Z",
     "start_time": "2024-10-31T12:47:29.709871Z"
    }
   },
   "cell_type": "code",
   "source": "pipeline.fit_classifiers()",
   "id": "a4ea57f5e5a38f80",
   "outputs": [
    {
     "name": "stderr",
     "output_type": "stream",
     "text": [
      "INFO:utils.ml:Fitting classifiers...\n",
      "INFO:utils.ml:Fitting classifier: RandomForestClassifier0\n",
      "INFO:utils.ml:Fitted classifier: RandomForestClassifier0; Done in 5.341760873794556 seconds\n",
      "INFO:utils.ml:Fitting classifier: RandomForestClassifier1\n",
      "INFO:utils.ml:Fitted classifier: RandomForestClassifier1; Done in 8.146342515945435 seconds\n",
      "INFO:utils.ml:Fitting classifier: RandomForestClassifier2\n",
      "INFO:utils.ml:Fitted classifier: RandomForestClassifier2; Done in 13.905472755432129 seconds\n",
      "INFO:utils.ml:Fitting classifier: XGBClassifier3\n",
      "INFO:utils.ml:Fitted classifier: XGBClassifier3; Done in 9.516165971755981 seconds\n",
      "INFO:utils.ml:Fitting classifier: XGBClassifier4\n",
      "INFO:utils.ml:Fitted classifier: XGBClassifier4; Done in 6.324585199356079 seconds\n",
      "INFO:utils.ml:Fitting classifier: XGBClassifier5\n",
      "INFO:utils.ml:Fitted classifier: XGBClassifier5; Done in 4.564074277877808 seconds\n",
      "INFO:utils.ml:Fitting classifier: XGBClassifier6\n",
      "INFO:utils.ml:Fitted classifier: XGBClassifier6; Done in 2.3127899169921875 seconds\n",
      "INFO:utils.ml:Fitting classifier: XGBClassifier7\n",
      "INFO:utils.ml:Fitted classifier: XGBClassifier7; Done in 4.971405029296875 seconds\n",
      "INFO:utils.ml:Fitting classifier: XGBClassifier8\n",
      "INFO:utils.ml:Fitted classifier: XGBClassifier8; Done in 3.362128496170044 seconds\n",
      "INFO:utils.ml:Fitting classifier: XGBClassifier9\n",
      "C:\\Programs\\miniconda3\\envs\\cv\\Lib\\site-packages\\xgboost\\core.py:158: UserWarning: [13:48:28] WARNING: C:\\b\\abs_90_bwj_86a\\croot\\xgboost-split_1724073762025\\work\\src\\learner.cc:740: \n",
      "Parameters: { \"scale_pos_weight\" } are not used.\n",
      "\n",
      "  warnings.warn(smsg, UserWarning)\n",
      "INFO:utils.ml:Fitted classifier: XGBClassifier9; Done in 3.705183267593384 seconds\n",
      "INFO:utils.ml:Fitting classifier: XGBClassifier10\n",
      "INFO:utils.ml:Fitted classifier: XGBClassifier10; Done in 3.716066360473633 seconds\n",
      "INFO:utils.ml:Fitting classifier: XGBClassifier11\n",
      "INFO:utils.ml:Fitted classifier: XGBClassifier11; Done in 2.235936164855957 seconds\n",
      "INFO:utils.ml:Fitting completed in 68.12 seconds.\n"
     ]
    }
   ],
   "execution_count": 19
  },
  {
   "metadata": {
    "ExecuteTime": {
     "end_time": "2024-10-31T12:49:41.163168Z",
     "start_time": "2024-10-31T12:48:37.836555Z"
    }
   },
   "cell_type": "code",
   "source": "pipeline.predict_with_classifiers(VAL_PATH)",
   "id": "156c56b343fa5df1",
   "outputs": [
    {
     "name": "stderr",
     "output_type": "stream",
     "text": [
      "INFO:utils.ml:Predicting with classifiers on dataset: C:\\Users\\gimes\\Src\\repos\\CADx-Project\\dataset\\multiclass\\val\n"
     ]
    },
    {
     "name": "stdout",
     "output_type": "stream",
     "text": [
      "Processed 5/53 batches.\n",
      "Processed 10/53 batches.\n",
      "Processed 15/53 batches.\n",
      "Processed 20/53 batches.\n",
      "Processed 25/53 batches.\n",
      "Processed 30/53 batches.\n",
      "Processed 35/53 batches.\n",
      "Processed 40/53 batches.\n",
      "Processed 45/53 batches.\n",
      "Processed 50/53 batches.\n"
     ]
    },
    {
     "name": "stderr",
     "output_type": "stream",
     "text": [
      "INFO:utils.ml:Predictions made with classifier: RandomForestClassifier0\n",
      "INFO:utils.ml:Predictions made with classifier: RandomForestClassifier1\n",
      "INFO:utils.ml:Predictions made with classifier: RandomForestClassifier2\n",
      "INFO:utils.ml:Predictions made with classifier: XGBClassifier3\n",
      "INFO:utils.ml:Predictions made with classifier: XGBClassifier4\n",
      "INFO:utils.ml:Predictions made with classifier: XGBClassifier5\n",
      "INFO:utils.ml:Predictions made with classifier: XGBClassifier6\n",
      "INFO:utils.ml:Predictions made with classifier: XGBClassifier7\n",
      "INFO:utils.ml:Predictions made with classifier: XGBClassifier8\n",
      "INFO:utils.ml:Predictions made with classifier: XGBClassifier9\n",
      "INFO:utils.ml:Predictions made with classifier: XGBClassifier10\n",
      "INFO:utils.ml:Predictions made with classifier: XGBClassifier11\n"
     ]
    },
    {
     "name": "stdout",
     "output_type": "stream",
     "text": [
      "Processed 53/53 batches.\n"
     ]
    },
    {
     "data": {
      "text/plain": [
       "{'GT': array([0, 0, 0, ..., 2, 2, 2]),\n",
       " 'RandomForestClassifier0': array([2, 0, 2, ..., 1, 2, 0]),\n",
       " 'RandomForestClassifier1': array([2, 0, 2, ..., 1, 2, 0]),\n",
       " 'RandomForestClassifier2': array([2, 0, 2, ..., 1, 2, 0]),\n",
       " 'XGBClassifier3': array([2, 0, 2, ..., 1, 2, 0], dtype=int64),\n",
       " 'XGBClassifier4': array([2, 0, 2, ..., 1, 2, 0], dtype=int64),\n",
       " 'XGBClassifier5': array([2, 0, 2, ..., 1, 2, 0], dtype=int64),\n",
       " 'XGBClassifier6': array([0, 0, 2, ..., 1, 2, 0], dtype=int64),\n",
       " 'XGBClassifier7': array([2, 0, 2, ..., 1, 2, 0], dtype=int64),\n",
       " 'XGBClassifier8': array([2, 0, 2, ..., 1, 2, 0], dtype=int64),\n",
       " 'XGBClassifier9': array([2, 0, 2, ..., 1, 2, 0], dtype=int64),\n",
       " 'XGBClassifier10': array([2, 0, 2, ..., 1, 2, 0], dtype=int64),\n",
       " 'XGBClassifier11': array([0, 0, 2, ..., 1, 2, 0], dtype=int64)}"
      ]
     },
     "execution_count": 20,
     "metadata": {},
     "output_type": "execute_result"
    }
   ],
   "execution_count": 20
  },
  {
   "metadata": {
    "ExecuteTime": {
     "end_time": "2024-10-31T12:49:41.281379Z",
     "start_time": "2024-10-31T12:49:41.183760Z"
    }
   },
   "cell_type": "code",
   "source": [
    "df = pd.DataFrame(data=pipeline.calculate_metrics(\n",
    "    [\"accuracy\", \"precision\", \"recall\", \"f1\", \"kappa\"],))\n",
    "df.T"
   ],
   "id": "d531dcc7576a4ec2",
   "outputs": [
    {
     "name": "stderr",
     "output_type": "stream",
     "text": [
      "INFO:utils.ml:Metrics for classifier GT: {'accuracy': 1.0, 'precision': 1.0, 'recall': 1.0, 'f1': 1.0, 'kappa': 1.0}\n",
      "INFO:utils.ml:Metrics for classifier RandomForestClassifier0: {'accuracy': 0.8, 'precision': 0.6959079180777294, 'recall': 0.709461331171671, 'f1': 0.7017483973936188, 'kappa': 0.6447262923249073}\n",
      "INFO:utils.ml:Metrics for classifier RandomForestClassifier1: {'accuracy': 0.789763779527559, 'precision': 0.678971153047576, 'recall': 0.6930181026623282, 'f1': 0.6850035549785156, 'kappa': 0.6268011146770209}\n",
      "INFO:utils.ml:Metrics for classifier RandomForestClassifier2: {'accuracy': 0.8023622047244094, 'precision': 0.6957682104086468, 'recall': 0.7046496410546473, 'f1': 0.6996792626987901, 'kappa': 0.647736816514167}\n",
      "INFO:utils.ml:Metrics for classifier XGBClassifier3: {'accuracy': 0.831496062992126, 'precision': 0.7251331063596395, 'recall': 0.7222737683930979, 'f1': 0.7234976684449933, 'kappa': 0.6971675617854836}\n",
      "INFO:utils.ml:Metrics for classifier XGBClassifier4: {'accuracy': 0.8307086614173228, 'precision': 0.7212854866882309, 'recall': 0.7187276691023178, 'f1': 0.7197710226386304, 'kappa': 0.6958744514490656}\n",
      "INFO:utils.ml:Metrics for classifier XGBClassifier5: {'accuracy': 0.831496062992126, 'precision': 0.7249911262426907, 'recall': 0.7220960664348223, 'f1': 0.7233379954318142, 'kappa': 0.6971675617854836}\n",
      "INFO:utils.ml:Metrics for classifier XGBClassifier6: {'accuracy': 0.7645669291338583, 'precision': 0.6355873562539486, 'recall': 0.6595254425093835, 'f1': 0.6428933845365067, 'kappa': 0.5895396548816818}\n",
      "INFO:utils.ml:Metrics for classifier XGBClassifier7: {'accuracy': 0.8196850393700787, 'precision': 0.7159355777717141, 'recall': 0.7161765747481232, 'f1': 0.715972252474689, 'kappa': 0.6762483413335233}\n",
      "INFO:utils.ml:Metrics for classifier XGBClassifier8: {'accuracy': 0.8133858267716535, 'precision': 0.7076868810842565, 'recall': 0.7113549282802459, 'f1': 0.7094112553439161, 'kappa': 0.6655904469015537}\n",
      "INFO:utils.ml:Metrics for classifier XGBClassifier9: {'accuracy': 0.8133858267716535, 'precision': 0.7089790475669749, 'recall': 0.7111772263219702, 'f1': 0.7100279723154617, 'kappa': 0.665105256130669}\n",
      "INFO:utils.ml:Metrics for classifier XGBClassifier10: {'accuracy': 0.8118110236220473, 'precision': 0.6948070448070448, 'recall': 0.6927557087069172, 'f1': 0.6935398629780819, 'kappa': 0.6619933184855233}\n",
      "INFO:utils.ml:Metrics for classifier XGBClassifier11: {'accuracy': 0.6803149606299213, 'precision': 0.5771434395449709, 'recall': 0.5994897811291611, 'f1': 0.5707111427098527, 'kappa': 0.4662805044675019}\n"
     ]
    },
    {
     "data": {
      "text/plain": [
       "                         accuracy  precision    recall        f1     kappa\n",
       "GT                       1.000000   1.000000  1.000000  1.000000  1.000000\n",
       "RandomForestClassifier0  0.800000   0.695908  0.709461  0.701748  0.644726\n",
       "RandomForestClassifier1  0.789764   0.678971  0.693018  0.685004  0.626801\n",
       "RandomForestClassifier2  0.802362   0.695768  0.704650  0.699679  0.647737\n",
       "XGBClassifier3           0.831496   0.725133  0.722274  0.723498  0.697168\n",
       "XGBClassifier4           0.830709   0.721285  0.718728  0.719771  0.695874\n",
       "XGBClassifier5           0.831496   0.724991  0.722096  0.723338  0.697168\n",
       "XGBClassifier6           0.764567   0.635587  0.659525  0.642893  0.589540\n",
       "XGBClassifier7           0.819685   0.715936  0.716177  0.715972  0.676248\n",
       "XGBClassifier8           0.813386   0.707687  0.711355  0.709411  0.665590\n",
       "XGBClassifier9           0.813386   0.708979  0.711177  0.710028  0.665105\n",
       "XGBClassifier10          0.811811   0.694807  0.692756  0.693540  0.661993\n",
       "XGBClassifier11          0.680315   0.577143  0.599490  0.570711  0.466281"
      ],
      "text/html": [
       "<div>\n",
       "<style scoped>\n",
       "    .dataframe tbody tr th:only-of-type {\n",
       "        vertical-align: middle;\n",
       "    }\n",
       "\n",
       "    .dataframe tbody tr th {\n",
       "        vertical-align: top;\n",
       "    }\n",
       "\n",
       "    .dataframe thead th {\n",
       "        text-align: right;\n",
       "    }\n",
       "</style>\n",
       "<table border=\"1\" class=\"dataframe\">\n",
       "  <thead>\n",
       "    <tr style=\"text-align: right;\">\n",
       "      <th></th>\n",
       "      <th>accuracy</th>\n",
       "      <th>precision</th>\n",
       "      <th>recall</th>\n",
       "      <th>f1</th>\n",
       "      <th>kappa</th>\n",
       "    </tr>\n",
       "  </thead>\n",
       "  <tbody>\n",
       "    <tr>\n",
       "      <th>GT</th>\n",
       "      <td>1.000000</td>\n",
       "      <td>1.000000</td>\n",
       "      <td>1.000000</td>\n",
       "      <td>1.000000</td>\n",
       "      <td>1.000000</td>\n",
       "    </tr>\n",
       "    <tr>\n",
       "      <th>RandomForestClassifier0</th>\n",
       "      <td>0.800000</td>\n",
       "      <td>0.695908</td>\n",
       "      <td>0.709461</td>\n",
       "      <td>0.701748</td>\n",
       "      <td>0.644726</td>\n",
       "    </tr>\n",
       "    <tr>\n",
       "      <th>RandomForestClassifier1</th>\n",
       "      <td>0.789764</td>\n",
       "      <td>0.678971</td>\n",
       "      <td>0.693018</td>\n",
       "      <td>0.685004</td>\n",
       "      <td>0.626801</td>\n",
       "    </tr>\n",
       "    <tr>\n",
       "      <th>RandomForestClassifier2</th>\n",
       "      <td>0.802362</td>\n",
       "      <td>0.695768</td>\n",
       "      <td>0.704650</td>\n",
       "      <td>0.699679</td>\n",
       "      <td>0.647737</td>\n",
       "    </tr>\n",
       "    <tr>\n",
       "      <th>XGBClassifier3</th>\n",
       "      <td>0.831496</td>\n",
       "      <td>0.725133</td>\n",
       "      <td>0.722274</td>\n",
       "      <td>0.723498</td>\n",
       "      <td>0.697168</td>\n",
       "    </tr>\n",
       "    <tr>\n",
       "      <th>XGBClassifier4</th>\n",
       "      <td>0.830709</td>\n",
       "      <td>0.721285</td>\n",
       "      <td>0.718728</td>\n",
       "      <td>0.719771</td>\n",
       "      <td>0.695874</td>\n",
       "    </tr>\n",
       "    <tr>\n",
       "      <th>XGBClassifier5</th>\n",
       "      <td>0.831496</td>\n",
       "      <td>0.724991</td>\n",
       "      <td>0.722096</td>\n",
       "      <td>0.723338</td>\n",
       "      <td>0.697168</td>\n",
       "    </tr>\n",
       "    <tr>\n",
       "      <th>XGBClassifier6</th>\n",
       "      <td>0.764567</td>\n",
       "      <td>0.635587</td>\n",
       "      <td>0.659525</td>\n",
       "      <td>0.642893</td>\n",
       "      <td>0.589540</td>\n",
       "    </tr>\n",
       "    <tr>\n",
       "      <th>XGBClassifier7</th>\n",
       "      <td>0.819685</td>\n",
       "      <td>0.715936</td>\n",
       "      <td>0.716177</td>\n",
       "      <td>0.715972</td>\n",
       "      <td>0.676248</td>\n",
       "    </tr>\n",
       "    <tr>\n",
       "      <th>XGBClassifier8</th>\n",
       "      <td>0.813386</td>\n",
       "      <td>0.707687</td>\n",
       "      <td>0.711355</td>\n",
       "      <td>0.709411</td>\n",
       "      <td>0.665590</td>\n",
       "    </tr>\n",
       "    <tr>\n",
       "      <th>XGBClassifier9</th>\n",
       "      <td>0.813386</td>\n",
       "      <td>0.708979</td>\n",
       "      <td>0.711177</td>\n",
       "      <td>0.710028</td>\n",
       "      <td>0.665105</td>\n",
       "    </tr>\n",
       "    <tr>\n",
       "      <th>XGBClassifier10</th>\n",
       "      <td>0.811811</td>\n",
       "      <td>0.694807</td>\n",
       "      <td>0.692756</td>\n",
       "      <td>0.693540</td>\n",
       "      <td>0.661993</td>\n",
       "    </tr>\n",
       "    <tr>\n",
       "      <th>XGBClassifier11</th>\n",
       "      <td>0.680315</td>\n",
       "      <td>0.577143</td>\n",
       "      <td>0.599490</td>\n",
       "      <td>0.570711</td>\n",
       "      <td>0.466281</td>\n",
       "    </tr>\n",
       "  </tbody>\n",
       "</table>\n",
       "</div>"
      ]
     },
     "execution_count": 21,
     "metadata": {},
     "output_type": "execute_result"
    }
   ],
   "execution_count": 21
  },
  {
   "metadata": {},
   "cell_type": "markdown",
   "source": [
    "___\n",
    "SMOTETomek"
   ],
   "id": "e5d1612e8e3351b4"
  },
  {
   "metadata": {
    "ExecuteTime": {
     "end_time": "2024-10-31T12:55:00.122261Z",
     "start_time": "2024-10-31T12:54:59.909322Z"
    }
   },
   "cell_type": "code",
   "source": [
    "from imblearn.combine import SMOTETomek\n",
    "\n",
    "smote_tomek = SMOTETomek(sampling_strategy='auto', random_state=42)\n",
    "\n",
    "\n",
    "pipeline.feature_matrix, pipeline.labels = smote_tomek.fit_resample(\n",
    "    pipeline.backup_feature_matrix, pipeline.backup_labels)\n",
    "\n",
    "print(pipeline.backup_feature_matrix.shape)\n",
    "print(pipeline.feature_matrix.shape)\n",
    "\n",
    "print(pipeline.backup_labels.shape)\n",
    "print(pipeline.labels.shape)\n",
    "\n",
    "pipeline.fitted_classifiers = {}"
   ],
   "id": "20ca36de88329f7c",
   "outputs": [
    {
     "name": "stdout",
     "output_type": "stream",
     "text": [
      "(5082, 88)\n",
      "(7219, 88)\n",
      "(5082,)\n",
      "(7219,)\n"
     ]
    }
   ],
   "execution_count": 27
  },
  {
   "metadata": {
    "ExecuteTime": {
     "end_time": "2024-10-31T12:55:54.556582Z",
     "start_time": "2024-10-31T12:55:01.808805Z"
    }
   },
   "cell_type": "code",
   "source": "pipeline.fit_classifiers()",
   "id": "c18077d2c18ed2d5",
   "outputs": [
    {
     "name": "stderr",
     "output_type": "stream",
     "text": [
      "INFO:utils.ml:Fitting classifiers...\n",
      "INFO:utils.ml:Fitting classifier: RandomForestClassifier0\n",
      "INFO:utils.ml:Fitted classifier: RandomForestClassifier0; Done in 4.934349298477173 seconds\n",
      "INFO:utils.ml:Fitting classifier: RandomForestClassifier1\n",
      "INFO:utils.ml:Fitted classifier: RandomForestClassifier1; Done in 7.23221492767334 seconds\n",
      "INFO:utils.ml:Fitting classifier: RandomForestClassifier2\n",
      "INFO:utils.ml:Fitted classifier: RandomForestClassifier2; Done in 11.76577639579773 seconds\n",
      "INFO:utils.ml:Fitting classifier: XGBClassifier3\n",
      "INFO:utils.ml:Fitted classifier: XGBClassifier3; Done in 2.8840653896331787 seconds\n",
      "INFO:utils.ml:Fitting classifier: XGBClassifier4\n",
      "INFO:utils.ml:Fitted classifier: XGBClassifier4; Done in 3.5059194564819336 seconds\n",
      "INFO:utils.ml:Fitting classifier: XGBClassifier5\n",
      "INFO:utils.ml:Fitted classifier: XGBClassifier5; Done in 4.0474889278411865 seconds\n",
      "INFO:utils.ml:Fitting classifier: XGBClassifier6\n",
      "INFO:utils.ml:Fitted classifier: XGBClassifier6; Done in 1.9094085693359375 seconds\n",
      "INFO:utils.ml:Fitting classifier: XGBClassifier7\n",
      "INFO:utils.ml:Fitted classifier: XGBClassifier7; Done in 4.627013206481934 seconds\n",
      "INFO:utils.ml:Fitting classifier: XGBClassifier8\n",
      "INFO:utils.ml:Fitted classifier: XGBClassifier8; Done in 3.028334856033325 seconds\n",
      "INFO:utils.ml:Fitting classifier: XGBClassifier9\n",
      "C:\\Programs\\miniconda3\\envs\\cv\\Lib\\site-packages\\xgboost\\core.py:158: UserWarning: [13:55:45] WARNING: C:\\b\\abs_90_bwj_86a\\croot\\xgboost-split_1724073762025\\work\\src\\learner.cc:740: \n",
      "Parameters: { \"scale_pos_weight\" } are not used.\n",
      "\n",
      "  warnings.warn(smsg, UserWarning)\n",
      "INFO:utils.ml:Fitted classifier: XGBClassifier9; Done in 3.2539172172546387 seconds\n",
      "INFO:utils.ml:Fitting classifier: XGBClassifier10\n",
      "INFO:utils.ml:Fitted classifier: XGBClassifier10; Done in 3.5106937885284424 seconds\n",
      "INFO:utils.ml:Fitting classifier: XGBClassifier11\n",
      "INFO:utils.ml:Fitted classifier: XGBClassifier11; Done in 2.0384345054626465 seconds\n",
      "INFO:utils.ml:Fitting completed in 52.74 seconds.\n"
     ]
    }
   ],
   "execution_count": 28
  },
  {
   "metadata": {
    "ExecuteTime": {
     "end_time": "2024-10-31T12:56:58.879630Z",
     "start_time": "2024-10-31T12:55:54.570804Z"
    }
   },
   "cell_type": "code",
   "source": "pipeline.predict_with_classifiers(VAL_PATH)",
   "id": "50f77b34bc1a6d7e",
   "outputs": [
    {
     "name": "stderr",
     "output_type": "stream",
     "text": [
      "INFO:utils.ml:Predicting with classifiers on dataset: C:\\Users\\gimes\\Src\\repos\\CADx-Project\\dataset\\multiclass\\val\n"
     ]
    },
    {
     "name": "stdout",
     "output_type": "stream",
     "text": [
      "Processed 5/53 batches.\n",
      "Processed 10/53 batches.\n",
      "Processed 15/53 batches.\n",
      "Processed 20/53 batches.\n",
      "Processed 25/53 batches.\n",
      "Processed 30/53 batches.\n",
      "Processed 35/53 batches.\n",
      "Processed 40/53 batches.\n",
      "Processed 45/53 batches.\n",
      "Processed 50/53 batches.\n"
     ]
    },
    {
     "name": "stderr",
     "output_type": "stream",
     "text": [
      "INFO:utils.ml:Predictions made with classifier: RandomForestClassifier0\n",
      "INFO:utils.ml:Predictions made with classifier: RandomForestClassifier1\n",
      "INFO:utils.ml:Predictions made with classifier: RandomForestClassifier2\n",
      "INFO:utils.ml:Predictions made with classifier: XGBClassifier3\n",
      "INFO:utils.ml:Predictions made with classifier: XGBClassifier4\n",
      "INFO:utils.ml:Predictions made with classifier: XGBClassifier5\n",
      "INFO:utils.ml:Predictions made with classifier: XGBClassifier6\n",
      "INFO:utils.ml:Predictions made with classifier: XGBClassifier7\n",
      "INFO:utils.ml:Predictions made with classifier: XGBClassifier8\n",
      "INFO:utils.ml:Predictions made with classifier: XGBClassifier9\n",
      "INFO:utils.ml:Predictions made with classifier: XGBClassifier10\n",
      "INFO:utils.ml:Predictions made with classifier: XGBClassifier11\n"
     ]
    },
    {
     "name": "stdout",
     "output_type": "stream",
     "text": [
      "Processed 53/53 batches.\n"
     ]
    },
    {
     "data": {
      "text/plain": [
       "{'GT': array([0, 0, 0, ..., 2, 2, 2]),\n",
       " 'RandomForestClassifier0': array([2, 0, 2, ..., 1, 2, 0]),\n",
       " 'RandomForestClassifier1': array([2, 0, 2, ..., 1, 2, 0]),\n",
       " 'RandomForestClassifier2': array([2, 0, 2, ..., 1, 0, 0]),\n",
       " 'XGBClassifier3': array([2, 0, 2, ..., 1, 2, 0], dtype=int64),\n",
       " 'XGBClassifier4': array([2, 0, 2, ..., 1, 2, 0], dtype=int64),\n",
       " 'XGBClassifier5': array([2, 0, 2, ..., 1, 2, 0], dtype=int64),\n",
       " 'XGBClassifier6': array([2, 0, 2, ..., 1, 0, 0], dtype=int64),\n",
       " 'XGBClassifier7': array([2, 0, 2, ..., 1, 2, 0], dtype=int64),\n",
       " 'XGBClassifier8': array([2, 0, 2, ..., 1, 2, 0], dtype=int64),\n",
       " 'XGBClassifier9': array([2, 0, 2, ..., 1, 2, 0], dtype=int64),\n",
       " 'XGBClassifier10': array([2, 0, 2, ..., 1, 2, 0], dtype=int64),\n",
       " 'XGBClassifier11': array([0, 0, 2, ..., 1, 2, 0], dtype=int64)}"
      ]
     },
     "execution_count": 29,
     "metadata": {},
     "output_type": "execute_result"
    }
   ],
   "execution_count": 29
  },
  {
   "metadata": {
    "ExecuteTime": {
     "end_time": "2024-10-31T12:52:58.267037Z",
     "start_time": "2024-10-31T12:52:58.264651Z"
    }
   },
   "cell_type": "code",
   "source": "",
   "id": "52cd819ee2a597bf",
   "outputs": [],
   "execution_count": null
  },
  {
   "metadata": {},
   "cell_type": "code",
   "outputs": [],
   "execution_count": null,
   "source": "",
   "id": "66872df202609437"
  }
 ],
 "metadata": {
  "kernelspec": {
   "display_name": "Python 3",
   "language": "python",
   "name": "python3"
  },
  "language_info": {
   "codemirror_mode": {
    "name": "ipython",
    "version": 2
   },
   "file_extension": ".py",
   "mimetype": "text/x-python",
   "name": "python",
   "nbconvert_exporter": "python",
   "pygments_lexer": "ipython2",
   "version": "2.7.6"
  }
 },
 "nbformat": 4,
 "nbformat_minor": 5
}

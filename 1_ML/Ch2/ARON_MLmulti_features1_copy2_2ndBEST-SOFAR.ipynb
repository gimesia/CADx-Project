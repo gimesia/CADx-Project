{
 "cells": [
  {
   "cell_type": "code",
   "id": "initial_id",
   "metadata": {
    "collapsed": true,
    "ExecuteTime": {
     "end_time": "2024-11-02T01:54:45.729936Z",
     "start_time": "2024-11-02T01:54:22.325418Z"
    }
   },
   "source": [
    "import numpy as np\n",
    "from sklearn.metrics import confusion_matrix, recall_score, cohen_kappa_score\n",
    "\n",
    "from utils.loader import FactoryLoader\n",
    "from utils.ml import MLPipeline\n",
    "from utils.preprocessing import PreprocessingFactory\n",
    "from utils.feature_extraction import *\n",
    "from utils.utils import *\n",
    "\n",
    "VAL_PATH = r\"C:\\Users\\gimes\\Src\\repos\\CADx-Project\\dataset\\multiclass\\val\"\n",
    "TRAIN_PATH = r\"C:\\Users\\gimes\\Src\\repos\\CADx-Project\\dataset\\multiclass\\train\""
   ],
   "outputs": [],
   "execution_count": 1
  },
  {
   "metadata": {
    "ExecuteTime": {
     "end_time": "2024-11-02T01:54:46.152476Z",
     "start_time": "2024-11-02T01:54:45.940926Z"
    }
   },
   "cell_type": "code",
   "source": [
    "percent = 100\n",
    "random = False\n",
    "batch_size = 48\n",
    "\n",
    "# Initialize the FactoryLoader\n",
    "factory = PreprocessingFactory()\n",
    "factory.gaussian_smoothing(5)\n",
    "factory.clahe(clip_limit=1.5)\n",
    "factory.pad2square(fill=np.nan)\n",
    "factory.resize((150,150))\n",
    "factory.hair_removal()\n",
    "factory.normalize2float()\n",
    "\n",
    "factory_loader = FactoryLoader(path=VAL_PATH, batch_size=batch_size, factory=factory, percentage=percent, shuffle=random)\n",
    "\n",
    "# Create the feature extraction pipeline strategy and add desired features\n",
    "strategy = FeatureExtractionStrategy()\n",
    "\n",
    "strategy.add_extractor(GradientExtractor())   # Add variance feature\n",
    "\n",
    "# strategy.add_extractor(MeanExtractor())  # Add mean feature\n",
    "# strategy.add_extractor(StdExtractor())   # Add standard deviation feature\n",
    "strategy.add_extractor(VarExtractor())   # Add variance feature\n",
    "strategy.add_extractor(ColorMomentsExtractor())   # Add color moments feature\n",
    "\n",
    "\n",
    "# strategy.add_extractor(MeanExtractor(\"lab\"))  # Add mean feature\n",
    "# strategy.add_extractor(StdExtractor(\"lab\"))   # Add standard deviation feature\n",
    "strategy.add_extractor(VarExtractor(\"lab\"))   # Add variance feature\n",
    "strategy.add_extractor(ColorMomentsExtractor(\"lab\"))   # Add color moments feature\n",
    "\n",
    "# strategy.add_extractor(MeanExtractor(\"hsv\"))  # Add mean feature\n",
    "# strategy.add_extractor(StdExtractor(\"hsv\"))   # Add standard deviation feature\n",
    "strategy.add_extractor(VarExtractor(\"hsv\"))   # Add variance feature\n",
    "strategy.add_extractor(ColorMomentsExtractor(\"hsv\"))   # Add color moments feature\n",
    "\n",
    "strategy.add_extractor(LBPExtractor(radius=1, n_points=16))\n",
    "strategy.add_extractor(LBPExtractor(radius=2, n_points=16))\n",
    "strategy.add_extractor(LBPExtractor(radius=3, n_points=16))\n",
    "strategy.add_extractor(LBPExtractor(radius=1, n_points=32))\n",
    "strategy.add_extractor(LBPExtractor(radius=2, n_points=32))\n",
    "strategy.add_extractor(LBPExtractor(radius=3, n_points=32))\n",
    "strategy.add_extractor(LBPExtractor(radius=1, n_points=64))\n",
    "strategy.add_extractor(LBPExtractor(radius=2, n_points=64))\n",
    "strategy.add_extractor(LBPExtractor(radius=3, n_points=64))\n",
    "\n",
    "strategy.add_extractor(GLCMExtractor(properties=['contrast', 'dissimilarity', 'homogeneity', 'energy', 'correlation',]))\n",
    "\n",
    "pipeline = MLPipeline(dataset_path=TRAIN_PATH, preprocessing_factory=factory, feature_strategy=strategy, classifiers=[], percentage=percent, verbose=True, shuffle=random, batch_size=batch_size)"
   ],
   "id": "d7c81ba220d9e517",
   "outputs": [
    {
     "name": "stderr",
     "output_type": "stream",
     "text": [
      "INFO:utils.ml:MLPipeline initialized with dataset path: C:\\Users\\gimes\\Src\\repos\\CADx-Project\\dataset\\multiclass\\train\n",
      "INFO:utils.ml:Preprocessing steps\n"
     ]
    }
   ],
   "execution_count": 2
  },
  {
   "metadata": {
    "ExecuteTime": {
     "end_time": "2024-11-02T02:13:49.962177Z",
     "start_time": "2024-11-02T01:54:46.619482Z"
    }
   },
   "cell_type": "code",
   "source": [
    "pipeline.feature_matrix = None\n",
    "pipeline.run_feature_extraction()"
   ],
   "id": "21f510c52296a049",
   "outputs": [
    {
     "name": "stderr",
     "output_type": "stream",
     "text": [
      "INFO:utils.ml:Running feature extraction...\n"
     ]
    },
    {
     "name": "stdout",
     "output_type": "stream",
     "text": [
      "Processed 5/106 batches.\n",
      "Processed 10/106 batches.\n",
      "Processed 15/106 batches.\n",
      "Processed 20/106 batches.\n",
      "Processed 25/106 batches.\n",
      "Processed 30/106 batches.\n",
      "Processed 35/106 batches.\n",
      "Processed 40/106 batches.\n",
      "Processed 45/106 batches.\n",
      "Processed 50/106 batches.\n",
      "Processed 55/106 batches.\n",
      "Processed 60/106 batches.\n",
      "Processed 65/106 batches.\n",
      "Processed 70/106 batches.\n",
      "Processed 75/106 batches.\n",
      "Processed 80/106 batches.\n",
      "Processed 85/106 batches.\n",
      "Processed 90/106 batches.\n",
      "Processed 95/106 batches.\n",
      "Processed 100/106 batches.\n",
      "Processed 105/106 batches.\n"
     ]
    },
    {
     "name": "stderr",
     "output_type": "stream",
     "text": [
      "INFO:utils.ml:Feature extraction completed. Extracted 5082 features.\n"
     ]
    },
    {
     "name": "stdout",
     "output_type": "stream",
     "text": [
      "Processed 106/106 batches.\n"
     ]
    }
   ],
   "execution_count": 3
  },
  {
   "metadata": {
    "ExecuteTime": {
     "end_time": "2024-11-02T02:13:50.047859Z",
     "start_time": "2024-11-02T02:13:49.970182Z"
    }
   },
   "cell_type": "code",
   "source": [
    "from xgboost import XGBClassifier\n",
    "from sklearn.ensemble import RandomForestClassifier\n",
    "\n",
    "rf1 = RandomForestClassifier(n_estimators=100)\n",
    "rf2 = RandomForestClassifier(n_estimators=150)\n",
    "rf3 = RandomForestClassifier(n_estimators=250)\n",
    "\n",
    "# Random Forest with Class Weight Balancing\n",
    "rf4 = RandomForestClassifier(n_estimators=100, class_weight=\"balanced\", random_state=42)\n",
    "# Random Forest with Feature Selection via max_features\n",
    "rf5 = RandomForestClassifier(n_estimators=100, max_features='sqrt', random_state=42)\n",
    "# Random Forest with Min Samples per Leaf\n",
    "rf6 = RandomForestClassifier(n_estimators=100, min_samples_leaf=5, random_state=42)\n",
    "# Random Forest with Out-of-Bag Error (OOB)\n",
    "rf7 = RandomForestClassifier(n_estimators=100, oob_score=True, random_state=42)\n",
    "# Random Forest with Bootstrap Disabled\n",
    "rf8 = RandomForestClassifier(n_estimators=100, bootstrap=False, random_state=42)\n",
    "# Random Forest with High Number of Trees and Limited Depth\n",
    "rf9 = RandomForestClassifier(n_estimators=100, max_depth=5, random_state=42)\n",
    "\n",
    "xgb1 = XGBClassifier(n_estimators=350)\n",
    "xgb2 = XGBClassifier(n_estimators=450)\n",
    "xgb3 = XGBClassifier(n_estimators=550)\n",
    "xgb4 = XGBClassifier(learning_rate=0.05, n_estimators=400, max_depth=3, min_child_weight=1, subsample=0.8, colsample_bytree=0.8)\n",
    "xgb5 = XGBClassifier(learning_rate=0.1, n_estimators=400, max_depth=7, min_child_weight=3, subsample=0.7, colsample_bytree=0.7) # 2ND\n",
    "xgb6 = XGBClassifier(learning_rate=0.1, n_estimators=400, max_depth=5, min_child_weight=5, gamma=0.2, subsample=0.8, colsample_bytree=0.8) # THIS\n",
    "xgb7 = XGBClassifier(learning_rate=0.1, n_estimators=400, max_depth=5, min_child_weight=1, subsample=0.8, colsample_bytree=0.8, reg_alpha=0.1, reg_lambda=0.1)\n",
    "xgb8 = XGBClassifier(learning_rate=0.05, n_estimators=500, max_depth=7, min_child_weight=1, subsample=0.8, colsample_bytree=0.8)\n",
    "xgb9 = XGBClassifier(learning_rate=0.05, n_estimators=400, max_depth=7, min_child_weight=1, subsample=0.8, colsample_bytree=0.8)\n",
    "xgb10 = XGBClassifier(learning_rate=0.1, n_estimators=400, max_depth=7, min_child_weight=1, subsample=0.8, colsample_bytree=0.8)\n",
    "xgb11 = XGBClassifier(learning_rate=0.1, n_estimators=500, max_depth=7, min_child_weight=1, subsample=0.8, colsample_bytree=0.8)\n",
    "\n",
    "\n",
    "pipeline.classifiers = [rf1, rf2, rf3, rf4, rf5, rf6, rf7, rf8, rf9,\n",
    "                        # svm1, svm2, svm3, svm6, svm7, svm8,\n",
    "                        xgb1, xgb2, xgb3, xgb4, xgb5, xgb6, xgb7, xgb8, xgb9, xgb10, xgb11]\n",
    "pipeline.fitted_classifiers = {}"
   ],
   "id": "74470ba20848a156",
   "outputs": [],
   "execution_count": 4
  },
  {
   "metadata": {
    "ExecuteTime": {
     "end_time": "2024-11-02T02:20:00.503856Z",
     "start_time": "2024-11-02T02:13:50.064643Z"
    }
   },
   "cell_type": "code",
   "source": "pipeline.fit_classifiers()",
   "id": "5269ac4d3392fbae",
   "outputs": [
    {
     "name": "stderr",
     "output_type": "stream",
     "text": [
      "INFO:utils.ml:Fitting classifiers...\n",
      "INFO:utils.ml:Fitting classifier: RandomForestClassifier0\n",
      "INFO:utils.ml:Top 10 features for RandomForestClassifier0: [('color_moments_lab_channel_0_skew', 0.03486104916749157), ('color_moments_hsv_channel_0_mean', 0.02739401950974569), ('var_rgb_channel_2', 0.015606259364939177), ('var_rgb_channel_0', 0.012082118198547489), ('gradient_magnitude_std', 0.010701986522257748), ('var_lab_channel_0', 0.01021169910311387), ('color_moments_lab_channel_2_mean', 0.009567257603904769), ('color_moments_rgb_channel_1_mean', 0.009507792787687087), ('color_moments_rgb_channel_0_std', 0.009208685985516447), ('color_moments_lab_channel_1_std', 0.009144975717276765)]\n",
      "INFO:utils.ml:Fitted classifier: RandomForestClassifier0; Done in 6.885035037994385 seconds\n",
      "INFO:utils.ml:Fitting classifier: RandomForestClassifier1\n",
      "INFO:utils.ml:Top 10 features for RandomForestClassifier1: [('color_moments_hsv_channel_0_mean', 0.03652376350265258), ('color_moments_lab_channel_0_skew', 0.031694426371107025), ('var_lab_channel_0', 0.014168383849635377), ('var_rgb_channel_2', 0.013160422354291485), ('color_moments_rgb_channel_0_std', 0.01280616793933591), ('var_rgb_channel_1', 0.010267011537517603), ('gradient_magnitude_std', 0.010260324712981566), ('var_rgb_channel_0', 0.010163140584613126), ('color_moments_rgb_channel_1_mean', 0.009786560222080408), ('color_moments_lab_channel_1_std', 0.008701642381884828)]\n",
      "INFO:utils.ml:Fitted classifier: RandomForestClassifier1; Done in 10.249910116195679 seconds\n",
      "INFO:utils.ml:Fitting classifier: RandomForestClassifier2\n",
      "INFO:utils.ml:Top 10 features for RandomForestClassifier2: [('color_moments_hsv_channel_0_mean', 0.03178547113612796), ('color_moments_lab_channel_0_skew', 0.02882786410089113), ('var_rgb_channel_2', 0.016731552897803332), ('var_lab_channel_0', 0.014309900743236726), ('gradient_magnitude_std', 0.011274112353879888), ('color_moments_rgb_channel_0_std', 0.010756290712792212), ('color_moments_rgb_channel_1_mean', 0.010138099014105686), ('var_rgb_channel_0', 0.009873688540858473), ('color_moments_lab_channel_1_std', 0.00948065763624762), ('color_moments_lab_channel_0_mean', 0.00921116813317671)]\n",
      "INFO:utils.ml:Fitted classifier: RandomForestClassifier2; Done in 17.248875856399536 seconds\n",
      "INFO:utils.ml:Fitting classifier: RandomForestClassifier3\n",
      "INFO:utils.ml:Top 10 features for RandomForestClassifier3: [('color_moments_lab_channel_0_skew', 0.02449068019510541), ('color_moments_hsv_channel_0_mean', 0.02218894137982007), ('var_rgb_channel_2', 0.01034741558983306), ('var_lab_channel_0', 0.010169277686529588), ('color_moments_lab_channel_2_std', 0.0076407643313392845), ('var_lab_channel_1', 0.00740898689116037), ('color_moments_lab_channel_0_mean', 0.007263038754038374), ('gradient_magnitude_std', 0.007259071101697113), ('color_moments_rgb_channel_0_skew', 0.007239793516590836), ('var_lab_channel_2', 0.007062026884342368)]\n",
      "INFO:utils.ml:Fitted classifier: RandomForestClassifier3; Done in 6.614050388336182 seconds\n",
      "INFO:utils.ml:Fitting classifier: RandomForestClassifier4\n",
      "INFO:utils.ml:Top 10 features for RandomForestClassifier4: [('color_moments_hsv_channel_0_mean', 0.03509894623162443), ('color_moments_lab_channel_0_skew', 0.032198980518595745), ('var_rgb_channel_2', 0.015553092023835355), ('var_lab_channel_0', 0.013166870644555226), ('var_rgb_channel_0', 0.010450276895085285), ('gradient_magnitude_std', 0.010254012330250625), ('color_moments_rgb_channel_1_mean', 0.009625321625512658), ('color_moments_rgb_channel_1_skew', 0.009047334871459143), ('color_moments_rgb_channel_0_std', 0.00877071920239169), ('var_rgb_channel_1', 0.008531703765070623)]\n",
      "INFO:utils.ml:Fitted classifier: RandomForestClassifier4; Done in 6.77920937538147 seconds\n",
      "INFO:utils.ml:Fitting classifier: RandomForestClassifier5\n",
      "INFO:utils.ml:Top 10 features for RandomForestClassifier5: [('color_moments_hsv_channel_0_mean', 0.04953457241272678), ('color_moments_lab_channel_0_skew', 0.039117043671273485), ('var_rgb_channel_2', 0.018778821343955702), ('var_lab_channel_0', 0.016740542806152406), ('gradient_magnitude_std', 0.015364253089685673), ('color_moments_rgb_channel_0_std', 0.011944016616510128), ('color_moments_rgb_channel_1_mean', 0.011577040581122657), ('var_rgb_channel_1', 0.010411608758612129), ('color_moments_lab_channel_2_mean', 0.010163528008054114), ('color_moments_rgb_channel_1_skew', 0.01008560641726429)]\n",
      "INFO:utils.ml:Fitted classifier: RandomForestClassifier5; Done in 5.570151329040527 seconds\n",
      "INFO:utils.ml:Fitting classifier: RandomForestClassifier6\n",
      "INFO:utils.ml:Top 10 features for RandomForestClassifier6: [('color_moments_hsv_channel_0_mean', 0.03509894623162443), ('color_moments_lab_channel_0_skew', 0.032198980518595745), ('var_rgb_channel_2', 0.015553092023835355), ('var_lab_channel_0', 0.013166870644555226), ('var_rgb_channel_0', 0.010450276895085285), ('gradient_magnitude_std', 0.010254012330250625), ('color_moments_rgb_channel_1_mean', 0.009625321625512658), ('color_moments_rgb_channel_1_skew', 0.009047334871459143), ('color_moments_rgb_channel_0_std', 0.00877071920239169), ('var_rgb_channel_1', 0.008531703765070623)]\n",
      "INFO:utils.ml:Fitted classifier: RandomForestClassifier6; Done in 7.1437084674835205 seconds\n",
      "INFO:utils.ml:Fitting classifier: RandomForestClassifier7\n",
      "INFO:utils.ml:Top 10 features for RandomForestClassifier7: [('color_moments_hsv_channel_0_mean', 0.03407311261538255), ('color_moments_lab_channel_0_skew', 0.033052782809699505), ('var_rgb_channel_2', 0.01624690574477922), ('var_lab_channel_0', 0.011406500513920448), ('gradient_magnitude_std', 0.011371677597253028), ('color_moments_rgb_channel_1_mean', 0.010883222249734186), ('color_moments_rgb_channel_0_std', 0.010309938217787324), ('var_rgb_channel_0', 0.009840288660108183), ('var_lab_channel_2', 0.009369664780866666), ('color_moments_rgb_channel_0_skew', 0.009132546409582767)]\n",
      "INFO:utils.ml:Fitted classifier: RandomForestClassifier7; Done in 10.252506494522095 seconds\n",
      "INFO:utils.ml:Fitting classifier: RandomForestClassifier8\n",
      "INFO:utils.ml:Top 10 features for RandomForestClassifier8: [('color_moments_hsv_channel_0_mean', 0.07309643298954512), ('color_moments_lab_channel_0_skew', 0.07212045750027761), ('var_rgb_channel_2', 0.041699491522182636), ('color_moments_rgb_channel_0_std', 0.022197472832636345), ('gradient_magnitude_std', 0.02117040182531981), ('var_lab_channel_0', 0.02092161181367756), ('color_moments_rgb_channel_1_mean', 0.020334178682030142), ('var_rgb_channel_1', 0.019911138095234444), ('color_moments_rgb_channel_0_skew', 0.017081389658620202), ('color_moments_rgb_channel_1_skew', 0.016710017416365353)]\n",
      "INFO:utils.ml:Fitted classifier: RandomForestClassifier8; Done in 2.5685997009277344 seconds\n",
      "INFO:utils.ml:Fitting classifier: XGBClassifier9\n",
      "INFO:utils.ml:Top 10 features for XGBClassifier9: [('color_moments_lab_channel_0_skew', 0.018400706), ('lbp_rad2_bins32_0', 0.015755903), ('lbp_rad1_bins64_63', 0.015352424), ('lbp_rad2_bins16_4', 0.014531852), ('lbp_rad1_bins64_26', 0.012094582), ('lbp_rad2_bins16_7', 0.011864532), ('lbp_rad3_bins16_0', 0.00911188), ('var_rgb_channel_2', 0.009103343), ('var_rgb_channel_0', 0.008543933), ('lbp_rad1_bins64_35', 0.008203861)]\n",
      "INFO:utils.ml:Fitted classifier: XGBClassifier9; Done in 17.016217708587646 seconds\n",
      "INFO:utils.ml:Fitting classifier: XGBClassifier10\n",
      "INFO:utils.ml:Top 10 features for XGBClassifier10: [('color_moments_lab_channel_0_skew', 0.018338), ('lbp_rad1_bins64_63', 0.016066404), ('lbp_rad2_bins16_4', 0.01518298), ('lbp_rad2_bins32_0', 0.014796736), ('lbp_rad2_bins16_7', 0.011793954), ('lbp_rad1_bins64_26', 0.011601059), ('var_rgb_channel_2', 0.009246487), ('var_rgb_channel_0', 0.008713666), ('lbp_rad3_bins16_0', 0.008152502), ('lbp_rad1_bins64_31', 0.0076709227)]\n",
      "INFO:utils.ml:Fitted classifier: XGBClassifier10; Done in 23.985745191574097 seconds\n",
      "INFO:utils.ml:Fitting classifier: XGBClassifier11\n",
      "INFO:utils.ml:Top 10 features for XGBClassifier11: [('color_moments_lab_channel_0_skew', 0.018260494), ('lbp_rad1_bins64_63', 0.016352445), ('lbp_rad2_bins16_4', 0.015765091), ('lbp_rad2_bins32_0', 0.01534407), ('lbp_rad2_bins16_7', 0.011974237), ('lbp_rad1_bins64_26', 0.011506398), ('var_rgb_channel_2', 0.009207194), ('var_rgb_channel_0', 0.008739579), ('lbp_rad3_bins16_0', 0.008652935), ('lbp_rad1_bins64_35', 0.0078667225)]\n",
      "INFO:utils.ml:Fitted classifier: XGBClassifier11; Done in 27.65284538269043 seconds\n",
      "INFO:utils.ml:Fitting classifier: XGBClassifier12\n",
      "INFO:utils.ml:Top 10 features for XGBClassifier12: [('color_moments_hsv_channel_0_mean', 0.018872118), ('color_moments_lab_channel_0_skew', 0.016111776), ('lbp_rad2_bins32_0', 0.011395704), ('lbp_rad2_bins16_4', 0.010411628), ('lbp_rad1_bins64_63', 0.010076667), ('lbp_rad1_bins64_26', 0.0087709585), ('lbp_rad1_bins64_58', 0.008669196), ('lbp_rad1_bins16_16', 0.007896442), ('color_moments_rgb_channel_0_std', 0.006621251), ('lbp_rad1_bins16_15', 0.006411528)]\n",
      "INFO:utils.ml:Fitted classifier: XGBClassifier12; Done in 9.325037956237793 seconds\n",
      "INFO:utils.ml:Fitting classifier: XGBClassifier13\n",
      "INFO:utils.ml:Top 10 features for XGBClassifier13: [('color_moments_hsv_channel_0_mean', 0.015659848), ('color_moments_lab_channel_0_skew', 0.0122373), ('lbp_rad2_bins16_4', 0.009577777), ('lbp_rad1_bins64_58', 0.008404965), ('lbp_rad1_bins64_26', 0.008285408), ('lbp_rad1_bins64_31', 0.008111405), ('var_rgb_channel_2', 0.0078117163), ('lbp_rad1_bins64_33', 0.0076613836), ('lbp_rad2_bins32_0', 0.0068937005), ('lbp_rad1_bins64_63', 0.006876241)]\n",
      "INFO:utils.ml:Fitted classifier: XGBClassifier13; Done in 28.22689700126648 seconds\n",
      "INFO:utils.ml:Fitting classifier: XGBClassifier14\n",
      "INFO:utils.ml:Top 10 features for XGBClassifier14: [('color_moments_hsv_channel_0_mean', 0.01764834), ('color_moments_lab_channel_0_skew', 0.014158453), ('lbp_rad2_bins32_0', 0.011175321), ('lbp_rad2_bins16_4', 0.00936526), ('lbp_rad1_bins64_58', 0.00929991), ('lbp_rad1_bins64_63', 0.009050036), ('lbp_rad1_bins64_26', 0.009035955), ('lbp_rad2_bins32_7', 0.0070098233), ('var_lab_channel_0', 0.0068451827), ('lbp_rad1_bins16_16', 0.006726571)]\n",
      "INFO:utils.ml:Fitted classifier: XGBClassifier14; Done in 16.547811269760132 seconds\n",
      "INFO:utils.ml:Fitting classifier: XGBClassifier15\n",
      "INFO:utils.ml:Top 10 features for XGBClassifier15: [('color_moments_hsv_channel_0_mean', 0.019364374), ('color_moments_lab_channel_0_skew', 0.0143102845), ('lbp_rad2_bins32_0', 0.011847857), ('lbp_rad2_bins16_4', 0.009132216), ('var_lab_channel_0', 0.0077744154), ('lbp_rad1_bins16_16', 0.0076753143), ('lbp_rad1_bins64_63', 0.0076641855), ('var_rgb_channel_0', 0.0073791896), ('lbp_rad1_bins64_58', 0.007312691), ('lbp_rad1_bins16_15', 0.0068795406)]\n",
      "INFO:utils.ml:Fitted classifier: XGBClassifier15; Done in 20.668514728546143 seconds\n",
      "INFO:utils.ml:Fitting classifier: XGBClassifier16\n",
      "INFO:utils.ml:Top 10 features for XGBClassifier16: [('color_moments_hsv_channel_0_mean', 0.015362731), ('color_moments_lab_channel_0_skew', 0.014969011), ('lbp_rad2_bins32_0', 0.011957022), ('lbp_rad1_bins64_26', 0.0088276), ('lbp_rad1_bins64_58', 0.0080045955), ('lbp_rad2_bins16_4', 0.007796616), ('lbp_rad1_bins64_63', 0.007574357), ('var_lab_channel_0', 0.0072748084), ('var_rgb_channel_2', 0.0067640366), ('lbp_rad1_bins16_16', 0.006714606)]\n",
      "INFO:utils.ml:Fitted classifier: XGBClassifier16; Done in 52.343910455703735 seconds\n",
      "INFO:utils.ml:Fitting classifier: XGBClassifier17\n",
      "INFO:utils.ml:Top 10 features for XGBClassifier17: [('color_moments_hsv_channel_0_mean', 0.016003007), ('color_moments_lab_channel_0_skew', 0.014677577), ('lbp_rad2_bins32_0', 0.011257039), ('lbp_rad1_bins64_26', 0.009254162), ('lbp_rad1_bins64_58', 0.007901342), ('lbp_rad2_bins16_4', 0.0075115464), ('lbp_rad1_bins64_63', 0.007321007), ('var_lab_channel_0', 0.007113891), ('var_rgb_channel_2', 0.006646708), ('lbp_rad1_bins16_16', 0.006451893)]\n",
      "INFO:utils.ml:Fitted classifier: XGBClassifier17; Done in 36.88490438461304 seconds\n",
      "INFO:utils.ml:Fitting classifier: XGBClassifier18\n",
      "INFO:utils.ml:Top 10 features for XGBClassifier18: [('color_moments_hsv_channel_0_mean', 0.021791989), ('color_moments_lab_channel_0_skew', 0.014357363), ('lbp_rad2_bins32_0', 0.011781836), ('lbp_rad1_bins64_26', 0.008446982), ('lbp_rad1_bins64_63', 0.008432045), ('var_lab_channel_0', 0.008246812), ('lbp_rad1_bins64_58', 0.008155131), ('lbp_rad2_bins16_4', 0.008033138), ('var_rgb_channel_2', 0.007394756), ('var_rgb_channel_0', 0.006918116)]\n",
      "INFO:utils.ml:Fitted classifier: XGBClassifier18; Done in 29.69741153717041 seconds\n",
      "INFO:utils.ml:Fitting classifier: XGBClassifier19\n",
      "INFO:utils.ml:Top 10 features for XGBClassifier19: [('color_moments_hsv_channel_0_mean', 0.020713342), ('color_moments_lab_channel_0_skew', 0.014498505), ('lbp_rad2_bins32_0', 0.011849338), ('lbp_rad1_bins64_63', 0.008848669), ('lbp_rad2_bins16_4', 0.008716698), ('var_lab_channel_0', 0.00853459), ('lbp_rad1_bins64_26', 0.008463337), ('lbp_rad1_bins64_58', 0.00801526), ('var_rgb_channel_2', 0.007612602), ('var_rgb_channel_0', 0.0070356275)]\n",
      "INFO:utils.ml:Fitted classifier: XGBClassifier19; Done in 34.72493290901184 seconds\n",
      "INFO:utils.ml:Fitting completed in 370.43 seconds.\n"
     ]
    }
   ],
   "execution_count": 5
  },
  {
   "metadata": {
    "ExecuteTime": {
     "end_time": "2024-11-02T02:24:57.103042Z",
     "start_time": "2024-11-02T02:20:00.524490Z"
    }
   },
   "cell_type": "code",
   "source": "pipeline.predict_with_classifiers(VAL_PATH)",
   "id": "f71e18a07f5ee7bb",
   "outputs": [
    {
     "name": "stderr",
     "output_type": "stream",
     "text": [
      "INFO:utils.ml:Predicting with classifiers on dataset: C:\\Users\\gimes\\Src\\repos\\CADx-Project\\dataset\\multiclass\\val\n"
     ]
    },
    {
     "name": "stdout",
     "output_type": "stream",
     "text": [
      "Processed 5/27 batches.\n",
      "Processed 10/27 batches.\n",
      "Processed 15/27 batches.\n",
      "Processed 20/27 batches.\n",
      "Processed 25/27 batches.\n"
     ]
    },
    {
     "name": "stderr",
     "output_type": "stream",
     "text": [
      "INFO:utils.ml:Predictions made with classifier: RandomForestClassifier0\n",
      "INFO:utils.ml:Predictions made with classifier: RandomForestClassifier1\n",
      "INFO:utils.ml:Predictions made with classifier: RandomForestClassifier2\n",
      "INFO:utils.ml:Predictions made with classifier: RandomForestClassifier3\n",
      "INFO:utils.ml:Predictions made with classifier: RandomForestClassifier4\n",
      "INFO:utils.ml:Predictions made with classifier: RandomForestClassifier5\n",
      "INFO:utils.ml:Predictions made with classifier: RandomForestClassifier6\n"
     ]
    },
    {
     "name": "stdout",
     "output_type": "stream",
     "text": [
      "Processed 27/27 batches.\n"
     ]
    },
    {
     "name": "stderr",
     "output_type": "stream",
     "text": [
      "INFO:utils.ml:Predictions made with classifier: RandomForestClassifier7\n",
      "INFO:utils.ml:Predictions made with classifier: RandomForestClassifier8\n",
      "INFO:utils.ml:Predictions made with classifier: XGBClassifier9\n",
      "INFO:utils.ml:Predictions made with classifier: XGBClassifier10\n",
      "INFO:utils.ml:Predictions made with classifier: XGBClassifier11\n",
      "INFO:utils.ml:Predictions made with classifier: XGBClassifier12\n",
      "INFO:utils.ml:Predictions made with classifier: XGBClassifier13\n",
      "INFO:utils.ml:Predictions made with classifier: XGBClassifier14\n",
      "INFO:utils.ml:Predictions made with classifier: XGBClassifier15\n",
      "INFO:utils.ml:Predictions made with classifier: XGBClassifier16\n",
      "INFO:utils.ml:Predictions made with classifier: XGBClassifier17\n",
      "INFO:utils.ml:Predictions made with classifier: XGBClassifier18\n",
      "INFO:utils.ml:Predictions made with classifier: XGBClassifier19\n"
     ]
    },
    {
     "data": {
      "text/plain": [
       "{'GT': array([0, 0, 0, ..., 2, 2, 2]),\n",
       " 'RandomForestClassifier0': array([0, 0, 1, ..., 1, 0, 0]),\n",
       " 'RandomForestClassifier1': array([0, 0, 1, ..., 1, 0, 0]),\n",
       " 'RandomForestClassifier2': array([0, 0, 1, ..., 1, 0, 0]),\n",
       " 'RandomForestClassifier3': array([0, 0, 2, ..., 1, 0, 0]),\n",
       " 'RandomForestClassifier4': array([0, 0, 1, ..., 1, 0, 0]),\n",
       " 'RandomForestClassifier5': array([0, 0, 1, ..., 1, 0, 0]),\n",
       " 'RandomForestClassifier6': array([0, 0, 1, ..., 1, 0, 0]),\n",
       " 'RandomForestClassifier7': array([0, 0, 0, ..., 1, 0, 0]),\n",
       " 'RandomForestClassifier8': array([0, 0, 1, ..., 1, 0, 0]),\n",
       " 'XGBClassifier9': array([0, 0, 2, ..., 1, 0, 0], dtype=int64),\n",
       " 'XGBClassifier10': array([0, 0, 2, ..., 1, 0, 0], dtype=int64),\n",
       " 'XGBClassifier11': array([0, 0, 2, ..., 1, 0, 0], dtype=int64),\n",
       " 'XGBClassifier12': array([0, 0, 2, ..., 1, 0, 0], dtype=int64),\n",
       " 'XGBClassifier13': array([0, 0, 2, ..., 1, 0, 0], dtype=int64),\n",
       " 'XGBClassifier14': array([0, 0, 2, ..., 1, 0, 0], dtype=int64),\n",
       " 'XGBClassifier15': array([0, 0, 2, ..., 1, 0, 0], dtype=int64),\n",
       " 'XGBClassifier16': array([0, 0, 2, ..., 1, 0, 0], dtype=int64),\n",
       " 'XGBClassifier17': array([0, 0, 2, ..., 1, 0, 0], dtype=int64),\n",
       " 'XGBClassifier18': array([0, 0, 2, ..., 1, 0, 0], dtype=int64),\n",
       " 'XGBClassifier19': array([0, 0, 2, ..., 1, 0, 0], dtype=int64)}"
      ]
     },
     "execution_count": 6,
     "metadata": {},
     "output_type": "execute_result"
    }
   ],
   "execution_count": 6
  },
  {
   "metadata": {
    "ExecuteTime": {
     "end_time": "2024-11-02T08:58:52.891510Z",
     "start_time": "2024-11-02T08:58:52.707893Z"
    }
   },
   "cell_type": "code",
   "source": [
    "import pandas as pd\n",
    "\n",
    "df = pd.DataFrame(data=pipeline.calculate_metrics())\n",
    "df.T"
   ],
   "id": "751fad2660242db5",
   "outputs": [
    {
     "name": "stderr",
     "output_type": "stream",
     "text": [
      "INFO:utils.ml:Metrics for classifier GT: {'accuracy': 1.0, 'precision': 1.0, 'recall': 1.0, 'f1': 1.0, 'kappa': 1.0}\n",
      "INFO:utils.ml:Metrics for classifier RandomForestClassifier0: {'accuracy': 0.8039370078740158, 'precision': 0.8654687200481678, 'recall': 0.5819994973933265, 'f1': 0.5665321684685221, 'kappa': 0.6287630836272111}\n",
      "INFO:utils.ml:Metrics for classifier RandomForestClassifier1: {'accuracy': 0.7992125984251969, 'precision': 0.8622628648843166, 'recall': 0.5779834331362984, 'f1': 0.5629857991509434, 'kappa': 0.6193349852130126}\n",
      "INFO:utils.ml:Metrics for classifier RandomForestClassifier2: {'accuracy': 0.794488188976378, 'precision': 0.6926974741448396, 'recall': 0.5718014214644305, 'f1': 0.5532216924792449, 'kappa': 0.610872147898402}\n",
      "INFO:utils.ml:Metrics for classifier RandomForestClassifier3: {'accuracy': 0.794488188976378, 'precision': 0.6700972203064253, 'recall': 0.5779103358768659, 'f1': 0.5662816077677475, 'kappa': 0.6119563385030343}\n",
      "INFO:utils.ml:Metrics for classifier RandomForestClassifier4: {'accuracy': 0.8039370078740158, 'precision': 0.8657210401891252, 'recall': 0.5803666558533135, 'f1': 0.5604801575450652, 'kappa': 0.6296829768696777}\n",
      "INFO:utils.ml:Metrics for classifier RandomForestClassifier5: {'accuracy': 0.794488188976378, 'precision': 0.8592716543062583, 'recall': 0.5723345273392572, 'f1': 0.5534769453180809, 'kappa': 0.6107697944114869}\n",
      "INFO:utils.ml:Metrics for classifier RandomForestClassifier6: {'accuracy': 0.8039370078740158, 'precision': 0.8657210401891252, 'recall': 0.5803666558533135, 'f1': 0.5604801575450652, 'kappa': 0.6296829768696777}\n",
      "INFO:utils.ml:Metrics for classifier RandomForestClassifier7: {'accuracy': 0.8047244094488188, 'precision': 0.8287738140902698, 'recall': 0.6008178827151951, 'f1': 0.6034280171689873, 'kappa': 0.6320973348783314}\n",
      "C:\\Programs\\miniconda3\\envs\\cv\\Lib\\site-packages\\sklearn\\metrics\\_classification.py:1531: UndefinedMetricWarning: Precision is ill-defined and being set to 0.0 in labels with no predicted samples. Use `zero_division` parameter to control this behavior.\n",
      "  _warn_prf(average, modifier, f\"{metric.capitalize()} is\", len(result))\n",
      "INFO:utils.ml:Metrics for classifier RandomForestClassifier8: {'accuracy': 0.7519685039370079, 'precision': 0.49772263939898825, 'recall': 0.5334908957363377, 'f1': 0.5144741793819462, 'kappa': 0.5246893044697383}\n",
      "INFO:utils.ml:Metrics for classifier XGBClassifier9: {'accuracy': 0.8322834645669291, 'precision': 0.7701731601731602, 'recall': 0.6364962769549295, 'f1': 0.6472185080893588, 'kappa': 0.6863724899132775}\n",
      "INFO:utils.ml:Metrics for classifier XGBClassifier10: {'accuracy': 0.8346456692913385, 'precision': 0.7619064940103787, 'recall': 0.6385043090834436, 'f1': 0.6485314685286613, 'kappa': 0.6911922041952472}\n",
      "INFO:utils.ml:Metrics for classifier XGBClassifier11: {'accuracy': 0.8346456692913385, 'precision': 0.7717316017316017, 'recall': 0.6381489051668924, 'f1': 0.6488222262781266, 'kappa': 0.6907897787877383}\n",
      "INFO:utils.ml:Metrics for classifier XGBClassifier12: {'accuracy': 0.8086614173228347, 'precision': 0.7782672502881504, 'recall': 0.6043423048876608, 'f1': 0.6056972639726773, 'kappa': 0.6408354320775007}\n",
      "INFO:utils.ml:Metrics for classifier XGBClassifier13: {'accuracy': 0.8346456692913385, 'precision': 0.7587596923943601, 'recall': 0.6403148525817323, 'f1': 0.6524544342953809, 'kappa': 0.6907725700080698}\n",
      "INFO:utils.ml:Metrics for classifier XGBClassifier14: {'accuracy': 0.8291338582677166, 'precision': 0.7516774891774891, 'recall': 0.6305867416190841, 'f1': 0.6393461113401966, 'kappa': 0.6802158273381295}\n",
      "INFO:utils.ml:Metrics for classifier XGBClassifier15: {'accuracy': 0.8338582677165355, 'precision': 0.7976549776320944, 'recall': 0.6313706467116189, 'f1': 0.63923741530794, 'kappa': 0.6883924833713195}\n",
      "INFO:utils.ml:Metrics for classifier XGBClassifier16: {'accuracy': 0.8377952755905512, 'precision': 0.8406713786995477, 'recall': 0.6367056123823733, 'f1': 0.6478849912219683, 'kappa': 0.6951867421029574}\n",
      "INFO:utils.ml:Metrics for classifier XGBClassifier17: {'accuracy': 0.8330708661417323, 'precision': 0.8338304920583401, 'recall': 0.6301681967939542, 'f1': 0.6392570643977872, 'kappa': 0.686095099520585}\n",
      "INFO:utils.ml:Metrics for classifier XGBClassifier18: {'accuracy': 0.8362204724409449, 'precision': 0.79594923648767, 'recall': 0.6384213815029149, 'f1': 0.6504929748445599, 'kappa': 0.6928057754746997}\n",
      "INFO:utils.ml:Metrics for classifier XGBClassifier19: {'accuracy': 0.8354330708661417, 'precision': 0.7900144593411769, 'recall': 0.6348752822121347, 'f1': 0.6449186939100483, 'kappa': 0.691183793519083}\n"
     ]
    },
    {
     "name": "stdout",
     "output_type": "stream",
     "text": [
      "cannot access local variable 'report' where it is not associated with a value\n",
      "cannot access local variable 'report' where it is not associated with a value\n",
      "cannot access local variable 'report' where it is not associated with a value\n",
      "cannot access local variable 'report' where it is not associated with a value\n",
      "cannot access local variable 'report' where it is not associated with a value\n",
      "cannot access local variable 'report' where it is not associated with a value\n",
      "cannot access local variable 'report' where it is not associated with a value\n",
      "cannot access local variable 'report' where it is not associated with a value\n",
      "cannot access local variable 'report' where it is not associated with a value\n",
      "cannot access local variable 'report' where it is not associated with a value\n",
      "cannot access local variable 'report' where it is not associated with a value\n",
      "cannot access local variable 'report' where it is not associated with a value\n",
      "cannot access local variable 'report' where it is not associated with a value\n",
      "cannot access local variable 'report' where it is not associated with a value\n",
      "cannot access local variable 'report' where it is not associated with a value\n",
      "cannot access local variable 'report' where it is not associated with a value\n",
      "cannot access local variable 'report' where it is not associated with a value\n",
      "cannot access local variable 'report' where it is not associated with a value\n",
      "cannot access local variable 'report' where it is not associated with a value\n",
      "cannot access local variable 'report' where it is not associated with a value\n",
      "cannot access local variable 'report' where it is not associated with a value\n"
     ]
    },
    {
     "data": {
      "text/plain": [
       "                         accuracy  precision    recall        f1     kappa\n",
       "GT                       1.000000   1.000000  1.000000  1.000000  1.000000\n",
       "RandomForestClassifier0  0.803937   0.865469  0.581999  0.566532  0.628763\n",
       "RandomForestClassifier1  0.799213   0.862263  0.577983  0.562986  0.619335\n",
       "RandomForestClassifier2  0.794488   0.692697  0.571801  0.553222  0.610872\n",
       "RandomForestClassifier3  0.794488   0.670097  0.577910  0.566282  0.611956\n",
       "RandomForestClassifier4  0.803937   0.865721  0.580367  0.560480  0.629683\n",
       "RandomForestClassifier5  0.794488   0.859272  0.572335  0.553477  0.610770\n",
       "RandomForestClassifier6  0.803937   0.865721  0.580367  0.560480  0.629683\n",
       "RandomForestClassifier7  0.804724   0.828774  0.600818  0.603428  0.632097\n",
       "RandomForestClassifier8  0.751969   0.497723  0.533491  0.514474  0.524689\n",
       "XGBClassifier9           0.832283   0.770173  0.636496  0.647219  0.686372\n",
       "XGBClassifier10          0.834646   0.761906  0.638504  0.648531  0.691192\n",
       "XGBClassifier11          0.834646   0.771732  0.638149  0.648822  0.690790\n",
       "XGBClassifier12          0.808661   0.778267  0.604342  0.605697  0.640835\n",
       "XGBClassifier13          0.834646   0.758760  0.640315  0.652454  0.690773\n",
       "XGBClassifier14          0.829134   0.751677  0.630587  0.639346  0.680216\n",
       "XGBClassifier15          0.833858   0.797655  0.631371  0.639237  0.688392\n",
       "XGBClassifier16          0.837795   0.840671  0.636706  0.647885  0.695187\n",
       "XGBClassifier17          0.833071   0.833830  0.630168  0.639257  0.686095\n",
       "XGBClassifier18          0.836220   0.795949  0.638421  0.650493  0.692806\n",
       "XGBClassifier19          0.835433   0.790014  0.634875  0.644919  0.691184"
      ],
      "text/html": [
       "<div>\n",
       "<style scoped>\n",
       "    .dataframe tbody tr th:only-of-type {\n",
       "        vertical-align: middle;\n",
       "    }\n",
       "\n",
       "    .dataframe tbody tr th {\n",
       "        vertical-align: top;\n",
       "    }\n",
       "\n",
       "    .dataframe thead th {\n",
       "        text-align: right;\n",
       "    }\n",
       "</style>\n",
       "<table border=\"1\" class=\"dataframe\">\n",
       "  <thead>\n",
       "    <tr style=\"text-align: right;\">\n",
       "      <th></th>\n",
       "      <th>accuracy</th>\n",
       "      <th>precision</th>\n",
       "      <th>recall</th>\n",
       "      <th>f1</th>\n",
       "      <th>kappa</th>\n",
       "    </tr>\n",
       "  </thead>\n",
       "  <tbody>\n",
       "    <tr>\n",
       "      <th>GT</th>\n",
       "      <td>1.000000</td>\n",
       "      <td>1.000000</td>\n",
       "      <td>1.000000</td>\n",
       "      <td>1.000000</td>\n",
       "      <td>1.000000</td>\n",
       "    </tr>\n",
       "    <tr>\n",
       "      <th>RandomForestClassifier0</th>\n",
       "      <td>0.803937</td>\n",
       "      <td>0.865469</td>\n",
       "      <td>0.581999</td>\n",
       "      <td>0.566532</td>\n",
       "      <td>0.628763</td>\n",
       "    </tr>\n",
       "    <tr>\n",
       "      <th>RandomForestClassifier1</th>\n",
       "      <td>0.799213</td>\n",
       "      <td>0.862263</td>\n",
       "      <td>0.577983</td>\n",
       "      <td>0.562986</td>\n",
       "      <td>0.619335</td>\n",
       "    </tr>\n",
       "    <tr>\n",
       "      <th>RandomForestClassifier2</th>\n",
       "      <td>0.794488</td>\n",
       "      <td>0.692697</td>\n",
       "      <td>0.571801</td>\n",
       "      <td>0.553222</td>\n",
       "      <td>0.610872</td>\n",
       "    </tr>\n",
       "    <tr>\n",
       "      <th>RandomForestClassifier3</th>\n",
       "      <td>0.794488</td>\n",
       "      <td>0.670097</td>\n",
       "      <td>0.577910</td>\n",
       "      <td>0.566282</td>\n",
       "      <td>0.611956</td>\n",
       "    </tr>\n",
       "    <tr>\n",
       "      <th>RandomForestClassifier4</th>\n",
       "      <td>0.803937</td>\n",
       "      <td>0.865721</td>\n",
       "      <td>0.580367</td>\n",
       "      <td>0.560480</td>\n",
       "      <td>0.629683</td>\n",
       "    </tr>\n",
       "    <tr>\n",
       "      <th>RandomForestClassifier5</th>\n",
       "      <td>0.794488</td>\n",
       "      <td>0.859272</td>\n",
       "      <td>0.572335</td>\n",
       "      <td>0.553477</td>\n",
       "      <td>0.610770</td>\n",
       "    </tr>\n",
       "    <tr>\n",
       "      <th>RandomForestClassifier6</th>\n",
       "      <td>0.803937</td>\n",
       "      <td>0.865721</td>\n",
       "      <td>0.580367</td>\n",
       "      <td>0.560480</td>\n",
       "      <td>0.629683</td>\n",
       "    </tr>\n",
       "    <tr>\n",
       "      <th>RandomForestClassifier7</th>\n",
       "      <td>0.804724</td>\n",
       "      <td>0.828774</td>\n",
       "      <td>0.600818</td>\n",
       "      <td>0.603428</td>\n",
       "      <td>0.632097</td>\n",
       "    </tr>\n",
       "    <tr>\n",
       "      <th>RandomForestClassifier8</th>\n",
       "      <td>0.751969</td>\n",
       "      <td>0.497723</td>\n",
       "      <td>0.533491</td>\n",
       "      <td>0.514474</td>\n",
       "      <td>0.524689</td>\n",
       "    </tr>\n",
       "    <tr>\n",
       "      <th>XGBClassifier9</th>\n",
       "      <td>0.832283</td>\n",
       "      <td>0.770173</td>\n",
       "      <td>0.636496</td>\n",
       "      <td>0.647219</td>\n",
       "      <td>0.686372</td>\n",
       "    </tr>\n",
       "    <tr>\n",
       "      <th>XGBClassifier10</th>\n",
       "      <td>0.834646</td>\n",
       "      <td>0.761906</td>\n",
       "      <td>0.638504</td>\n",
       "      <td>0.648531</td>\n",
       "      <td>0.691192</td>\n",
       "    </tr>\n",
       "    <tr>\n",
       "      <th>XGBClassifier11</th>\n",
       "      <td>0.834646</td>\n",
       "      <td>0.771732</td>\n",
       "      <td>0.638149</td>\n",
       "      <td>0.648822</td>\n",
       "      <td>0.690790</td>\n",
       "    </tr>\n",
       "    <tr>\n",
       "      <th>XGBClassifier12</th>\n",
       "      <td>0.808661</td>\n",
       "      <td>0.778267</td>\n",
       "      <td>0.604342</td>\n",
       "      <td>0.605697</td>\n",
       "      <td>0.640835</td>\n",
       "    </tr>\n",
       "    <tr>\n",
       "      <th>XGBClassifier13</th>\n",
       "      <td>0.834646</td>\n",
       "      <td>0.758760</td>\n",
       "      <td>0.640315</td>\n",
       "      <td>0.652454</td>\n",
       "      <td>0.690773</td>\n",
       "    </tr>\n",
       "    <tr>\n",
       "      <th>XGBClassifier14</th>\n",
       "      <td>0.829134</td>\n",
       "      <td>0.751677</td>\n",
       "      <td>0.630587</td>\n",
       "      <td>0.639346</td>\n",
       "      <td>0.680216</td>\n",
       "    </tr>\n",
       "    <tr>\n",
       "      <th>XGBClassifier15</th>\n",
       "      <td>0.833858</td>\n",
       "      <td>0.797655</td>\n",
       "      <td>0.631371</td>\n",
       "      <td>0.639237</td>\n",
       "      <td>0.688392</td>\n",
       "    </tr>\n",
       "    <tr>\n",
       "      <th>XGBClassifier16</th>\n",
       "      <td>0.837795</td>\n",
       "      <td>0.840671</td>\n",
       "      <td>0.636706</td>\n",
       "      <td>0.647885</td>\n",
       "      <td>0.695187</td>\n",
       "    </tr>\n",
       "    <tr>\n",
       "      <th>XGBClassifier17</th>\n",
       "      <td>0.833071</td>\n",
       "      <td>0.833830</td>\n",
       "      <td>0.630168</td>\n",
       "      <td>0.639257</td>\n",
       "      <td>0.686095</td>\n",
       "    </tr>\n",
       "    <tr>\n",
       "      <th>XGBClassifier18</th>\n",
       "      <td>0.836220</td>\n",
       "      <td>0.795949</td>\n",
       "      <td>0.638421</td>\n",
       "      <td>0.650493</td>\n",
       "      <td>0.692806</td>\n",
       "    </tr>\n",
       "    <tr>\n",
       "      <th>XGBClassifier19</th>\n",
       "      <td>0.835433</td>\n",
       "      <td>0.790014</td>\n",
       "      <td>0.634875</td>\n",
       "      <td>0.644919</td>\n",
       "      <td>0.691184</td>\n",
       "    </tr>\n",
       "  </tbody>\n",
       "</table>\n",
       "</div>"
      ]
     },
     "execution_count": 9,
     "metadata": {},
     "output_type": "execute_result"
    }
   ],
   "execution_count": 9
  },
  {
   "metadata": {},
   "cell_type": "markdown",
   "source": [
    "___\n",
    "Balance the data"
   ],
   "id": "ad0e6dcd404dcf15"
  },
  {
   "metadata": {
    "ExecuteTime": {
     "end_time": "2024-11-02T09:00:02.361457Z",
     "start_time": "2024-11-02T09:00:02.349005Z"
    }
   },
   "cell_type": "code",
   "source": [
    "# Backup\n",
    "pipeline.backup_feature_matrix = pipeline.feature_matrix.copy()\n",
    "pipeline.backup_labels = pipeline.labels.copy()"
   ],
   "id": "da1b19771d4cde2f",
   "outputs": [],
   "execution_count": 11
  },
  {
   "metadata": {
    "ExecuteTime": {
     "end_time": "2024-11-02T09:00:02.776057Z",
     "start_time": "2024-11-02T09:00:02.764018Z"
    }
   },
   "cell_type": "code",
   "source": [
    "print(pipeline.backup_feature_matrix.shape)\n",
    "print(pipeline.feature_matrix.shape)\n",
    "\n",
    "print(pipeline.backup_labels.shape)\n",
    "print(pipeline.labels.shape)"
   ],
   "id": "3425dcf3bd509008",
   "outputs": [
    {
     "name": "stdout",
     "output_type": "stream",
     "text": [
      "(5082, 408)\n",
      "(5082, 408)\n",
      "(5082,)\n",
      "(5082,)\n"
     ]
    }
   ],
   "execution_count": 12
  },
  {
   "metadata": {
    "ExecuteTime": {
     "end_time": "2024-11-02T09:00:04.209481Z",
     "start_time": "2024-11-02T09:00:03.782630Z"
    }
   },
   "cell_type": "code",
   "source": [
    "from imblearn.over_sampling import SMOTE\n",
    "\n",
    "smote = SMOTE(random_state=42)\n",
    "pipeline.feature_matrix, pipeline.labels = smote.fit_resample(pipeline.feature_matrix, pipeline.labels)"
   ],
   "id": "6f226a41aafa84b7",
   "outputs": [],
   "execution_count": 13
  },
  {
   "metadata": {
    "ExecuteTime": {
     "end_time": "2024-11-02T09:08:41.873578Z",
     "start_time": "2024-11-02T09:00:10.099458Z"
    }
   },
   "cell_type": "code",
   "source": [
    "pipeline.fitted_classifiers = {}\n",
    "pipeline.fit_classifiers()"
   ],
   "id": "e25b1eeaa9b9b112",
   "outputs": [
    {
     "name": "stderr",
     "output_type": "stream",
     "text": [
      "INFO:utils.ml:Fitting classifiers...\n",
      "INFO:utils.ml:Fitting classifier: RandomForestClassifier0\n",
      "INFO:utils.ml:Fitted classifier: RandomForestClassifier0; Done in 11.52803111076355 seconds\n",
      "INFO:utils.ml:Fitting classifier: RandomForestClassifier1\n"
     ]
    },
    {
     "name": "stdout",
     "output_type": "stream",
     "text": [
      "list index out of range\n"
     ]
    },
    {
     "name": "stderr",
     "output_type": "stream",
     "text": [
      "INFO:utils.ml:Fitted classifier: RandomForestClassifier1; Done in 21.87845754623413 seconds\n",
      "INFO:utils.ml:Fitting classifier: RandomForestClassifier2\n"
     ]
    },
    {
     "name": "stdout",
     "output_type": "stream",
     "text": [
      "list index out of range\n"
     ]
    },
    {
     "name": "stderr",
     "output_type": "stream",
     "text": [
      "INFO:utils.ml:Fitted classifier: RandomForestClassifier2; Done in 43.43574810028076 seconds\n",
      "INFO:utils.ml:Fitting classifier: RandomForestClassifier3\n"
     ]
    },
    {
     "name": "stdout",
     "output_type": "stream",
     "text": [
      "list index out of range\n"
     ]
    },
    {
     "name": "stderr",
     "output_type": "stream",
     "text": [
      "INFO:utils.ml:Fitted classifier: RandomForestClassifier3; Done in 18.802971124649048 seconds\n",
      "INFO:utils.ml:Fitting classifier: RandomForestClassifier4\n"
     ]
    },
    {
     "name": "stdout",
     "output_type": "stream",
     "text": [
      "list index out of range\n"
     ]
    },
    {
     "name": "stderr",
     "output_type": "stream",
     "text": [
      "INFO:utils.ml:Fitted classifier: RandomForestClassifier4; Done in 17.831711053848267 seconds\n",
      "INFO:utils.ml:Fitting classifier: RandomForestClassifier5\n"
     ]
    },
    {
     "name": "stdout",
     "output_type": "stream",
     "text": [
      "list index out of range\n"
     ]
    },
    {
     "name": "stderr",
     "output_type": "stream",
     "text": [
      "INFO:utils.ml:Fitted classifier: RandomForestClassifier5; Done in 15.289743185043335 seconds\n",
      "INFO:utils.ml:Fitting classifier: RandomForestClassifier6\n"
     ]
    },
    {
     "name": "stdout",
     "output_type": "stream",
     "text": [
      "list index out of range\n"
     ]
    },
    {
     "name": "stderr",
     "output_type": "stream",
     "text": [
      "INFO:utils.ml:Fitted classifier: RandomForestClassifier6; Done in 18.760176181793213 seconds\n",
      "INFO:utils.ml:Fitting classifier: RandomForestClassifier7\n"
     ]
    },
    {
     "name": "stdout",
     "output_type": "stream",
     "text": [
      "list index out of range\n"
     ]
    },
    {
     "name": "stderr",
     "output_type": "stream",
     "text": [
      "INFO:utils.ml:Fitted classifier: RandomForestClassifier7; Done in 27.446318864822388 seconds\n",
      "INFO:utils.ml:Fitting classifier: RandomForestClassifier8\n"
     ]
    },
    {
     "name": "stdout",
     "output_type": "stream",
     "text": [
      "list index out of range\n"
     ]
    },
    {
     "name": "stderr",
     "output_type": "stream",
     "text": [
      "INFO:utils.ml:Top 10 features for RandomForestClassifier8: [('color_moments_hsv_channel_0_mean', 0.06740527888263978), ('color_moments_lab_channel_0_skew', 0.04332614985342504), ('var_rgb_channel_2', 0.027517740393500398), ('var_lab_channel_0', 0.02741535922425282), ('color_moments_rgb_channel_1_skew', 0.01681013385308823), ('lbp_rad1_bins64_63', 0.01677368064347738), ('var_rgb_channel_1', 0.01634675443325031), ('gradient_magnitude_std', 0.016291281572177598), ('lbp_rad1_bins64_58', 0.015381181426195387), ('var_lab_channel_2', 0.014954494764560502)]\n",
      "INFO:utils.ml:Fitted classifier: RandomForestClassifier8; Done in 6.712302207946777 seconds\n",
      "INFO:utils.ml:Fitting classifier: XGBClassifier9\n",
      "INFO:utils.ml:Top 10 features for XGBClassifier9: [('color_moments_hsv_channel_0_mean', 0.016014671), ('lbp_rad1_bins16_15', 0.014396667), ('var_lab_channel_0', 0.014289732), ('lbp_rad2_bins16_4', 0.013287392), ('lbp_rad1_bins64_58', 0.012361867), ('lbp_rad2_bins32_0', 0.01118405), ('lbp_rad1_bins32_2', 0.010721942), ('lbp_rad2_bins16_10', 0.009990805), ('lbp_rad1_bins64_63', 0.009351418), ('lbp_rad3_bins64_20', 0.009272981)]\n",
      "INFO:utils.ml:Fitted classifier: XGBClassifier9; Done in 24.962262868881226 seconds\n",
      "INFO:utils.ml:Fitting classifier: XGBClassifier10\n",
      "INFO:utils.ml:Top 10 features for XGBClassifier10: [('color_moments_hsv_channel_0_mean', 0.015781125), ('lbp_rad2_bins16_4', 0.0137950685), ('var_lab_channel_0', 0.013630607), ('lbp_rad1_bins16_15', 0.013610428), ('lbp_rad1_bins64_58', 0.012312676), ('lbp_rad1_bins32_2', 0.0116369855), ('lbp_rad2_bins32_0', 0.010972125), ('lbp_rad2_bins16_10', 0.01084345), ('lbp_rad1_bins64_63', 0.00994868), ('lbp_rad3_bins64_20', 0.009097654)]\n",
      "INFO:utils.ml:Fitted classifier: XGBClassifier10; Done in 28.337795734405518 seconds\n",
      "INFO:utils.ml:Fitting classifier: XGBClassifier11\n",
      "INFO:utils.ml:Top 10 features for XGBClassifier11: [('color_moments_hsv_channel_0_mean', 0.015581025), ('lbp_rad2_bins16_4', 0.0146950595), ('lbp_rad1_bins16_15', 0.0144983735), ('var_lab_channel_0', 0.013310392), ('lbp_rad1_bins64_58', 0.012251694), ('lbp_rad2_bins16_10', 0.011550877), ('lbp_rad2_bins32_0', 0.011360422), ('lbp_rad1_bins64_63', 0.009731287), ('lbp_rad1_bins32_2', 0.009481392), ('lbp_rad3_bins64_20', 0.008841529)]\n",
      "INFO:utils.ml:Fitted classifier: XGBClassifier11; Done in 30.07974934577942 seconds\n",
      "INFO:utils.ml:Fitting classifier: XGBClassifier12\n",
      "INFO:utils.ml:Fitted classifier: XGBClassifier12; Done in 6.999110460281372 seconds\n",
      "INFO:utils.ml:Fitting classifier: XGBClassifier13\n"
     ]
    },
    {
     "name": "stdout",
     "output_type": "stream",
     "text": [
      "list index out of range\n"
     ]
    },
    {
     "name": "stderr",
     "output_type": "stream",
     "text": [
      "INFO:utils.ml:Top 10 features for XGBClassifier13: [('lbp_rad1_bins16_15', 0.014105499), ('color_moments_hsv_channel_0_mean', 0.010853318), ('var_lab_channel_0', 0.009296798), ('lbp_rad2_bins16_4', 0.009287159), ('lbp_rad3_bins32_27', 0.008590454), ('color_moments_lab_channel_0_skew', 0.007942043), ('lbp_rad3_bins32_10', 0.0074796444), ('lbp_rad2_bins32_0', 0.007161235), ('lbp_rad1_bins64_58', 0.0070566195), ('lbp_rad3_bins64_20', 0.0068651675)]\n",
      "INFO:utils.ml:Fitted classifier: XGBClassifier13; Done in 28.450448989868164 seconds\n",
      "INFO:utils.ml:Fitting classifier: XGBClassifier14\n",
      "INFO:utils.ml:Top 10 features for XGBClassifier14: [('color_moments_hsv_channel_0_mean', 0.012291694), ('lbp_rad1_bins16_15', 0.012187568), ('color_moments_lab_channel_0_skew', 0.010407659), ('lbp_rad2_bins16_4', 0.010083145), ('var_lab_channel_0', 0.009851972), ('lbp_rad2_bins32_0', 0.009768347), ('lbp_rad1_bins64_58', 0.008704471), ('lbp_rad2_bins64_29', 0.0076849177), ('lbp_rad1_bins64_63', 0.007157581), ('lbp_rad3_bins32_10', 0.0068466514)]\n",
      "INFO:utils.ml:Fitted classifier: XGBClassifier14; Done in 20.104348182678223 seconds\n",
      "INFO:utils.ml:Fitting classifier: XGBClassifier15\n",
      "INFO:utils.ml:Top 10 features for XGBClassifier15: [('color_moments_hsv_channel_0_mean', 0.012724861), ('var_lab_channel_0', 0.011019771), ('lbp_rad2_bins16_4', 0.010336188), ('lbp_rad1_bins16_15', 0.010207033), ('lbp_rad2_bins32_0', 0.009709715), ('color_moments_lab_channel_0_skew', 0.009332868), ('lbp_rad1_bins64_58', 0.008705315), ('lbp_rad1_bins64_63', 0.008010623), ('lbp_rad2_bins64_29', 0.007868396), ('lbp_rad3_bins32_10', 0.00743255)]\n",
      "INFO:utils.ml:Fitted classifier: XGBClassifier15; Done in 22.32456684112549 seconds\n",
      "INFO:utils.ml:Fitting classifier: XGBClassifier16\n",
      "INFO:utils.ml:Top 10 features for XGBClassifier16: [('color_moments_hsv_channel_0_mean', 0.013396753), ('var_lab_channel_0', 0.010747534), ('lbp_rad1_bins16_15', 0.009567762), ('color_moments_lab_channel_0_skew', 0.008653255), ('lbp_rad2_bins32_0', 0.008641736), ('lbp_rad2_bins16_4', 0.008564816), ('lbp_rad2_bins64_29', 0.008275463), ('lbp_rad1_bins64_63', 0.007836849), ('lbp_rad1_bins64_58', 0.006986312), ('lbp_rad3_bins64_20', 0.006900703)]\n",
      "INFO:utils.ml:Fitted classifier: XGBClassifier16; Done in 48.318291425704956 seconds\n",
      "INFO:utils.ml:Fitting classifier: XGBClassifier17\n",
      "INFO:utils.ml:Top 10 features for XGBClassifier17: [('color_moments_hsv_channel_0_mean', 0.013703675), ('var_lab_channel_0', 0.010429464), ('lbp_rad1_bins16_15', 0.009418615), ('lbp_rad2_bins32_0', 0.008652552), ('color_moments_lab_channel_0_skew', 0.0085186055), ('lbp_rad2_bins64_29', 0.008294507), ('lbp_rad2_bins16_4', 0.0082887495), ('lbp_rad1_bins64_63', 0.008126413), ('lbp_rad1_bins64_58', 0.006987481), ('lbp_rad3_bins64_20', 0.006942098)]\n",
      "INFO:utils.ml:Fitted classifier: XGBClassifier17; Done in 38.50122690200806 seconds\n",
      "INFO:utils.ml:Fitting classifier: XGBClassifier18\n",
      "INFO:utils.ml:Top 10 features for XGBClassifier18: [('color_moments_hsv_channel_0_mean', 0.012006554), ('lbp_rad1_bins16_15', 0.011014767), ('var_lab_channel_0', 0.010701876), ('lbp_rad2_bins16_4', 0.010321448), ('color_moments_lab_channel_0_skew', 0.009587328), ('lbp_rad2_bins32_0', 0.008805779), ('lbp_rad1_bins64_63', 0.007814766), ('lbp_rad2_bins64_29', 0.0076673888), ('lbp_rad1_bins64_58', 0.0076519586), ('lbp_rad3_bins64_20', 0.0068140943)]\n",
      "INFO:utils.ml:Fitted classifier: XGBClassifier18; Done in 37.4907910823822 seconds\n",
      "INFO:utils.ml:Fitting classifier: XGBClassifier19\n",
      "INFO:utils.ml:Top 10 features for XGBClassifier19: [('color_moments_hsv_channel_0_mean', 0.011726093), ('lbp_rad1_bins16_15', 0.011533675), ('lbp_rad2_bins16_4', 0.010757295), ('var_lab_channel_0', 0.010287175), ('color_moments_lab_channel_0_skew', 0.0098582925), ('lbp_rad2_bins32_0', 0.009023173), ('lbp_rad1_bins64_63', 0.007830582), ('lbp_rad1_bins64_58', 0.007820156), ('lbp_rad2_bins64_29', 0.0070057316), ('color_moments_rgb_channel_2_mean', 0.0066979206)]\n",
      "INFO:utils.ml:Fitted classifier: XGBClassifier19; Done in 44.49421977996826 seconds\n",
      "INFO:utils.ml:Fitting completed in 511.76 seconds.\n"
     ]
    }
   ],
   "execution_count": 14
  },
  {
   "metadata": {
    "ExecuteTime": {
     "end_time": "2024-11-02T09:12:14.081679Z",
     "start_time": "2024-11-02T09:08:41.874587Z"
    }
   },
   "cell_type": "code",
   "source": "pipeline.predict_with_classifiers(VAL_PATH)",
   "id": "eaa13003ad0706a4",
   "outputs": [
    {
     "name": "stderr",
     "output_type": "stream",
     "text": [
      "INFO:utils.ml:Predicting with classifiers on dataset: C:\\Users\\gimes\\Src\\repos\\CADx-Project\\dataset\\multiclass\\val\n"
     ]
    },
    {
     "name": "stdout",
     "output_type": "stream",
     "text": [
      "Processed 5/27 batches.\n",
      "Processed 10/27 batches.\n",
      "Processed 15/27 batches.\n",
      "Processed 20/27 batches.\n",
      "Processed 25/27 batches.\n"
     ]
    },
    {
     "name": "stderr",
     "output_type": "stream",
     "text": [
      "INFO:utils.ml:Predictions made with classifier: RandomForestClassifier0\n",
      "INFO:utils.ml:Predictions made with classifier: RandomForestClassifier1\n",
      "INFO:utils.ml:Predictions made with classifier: RandomForestClassifier2\n",
      "INFO:utils.ml:Predictions made with classifier: RandomForestClassifier3\n",
      "INFO:utils.ml:Predictions made with classifier: RandomForestClassifier4\n",
      "INFO:utils.ml:Predictions made with classifier: RandomForestClassifier5\n",
      "INFO:utils.ml:Predictions made with classifier: RandomForestClassifier6\n",
      "INFO:utils.ml:Predictions made with classifier: RandomForestClassifier7\n"
     ]
    },
    {
     "name": "stdout",
     "output_type": "stream",
     "text": [
      "Processed 27/27 batches.\n"
     ]
    },
    {
     "name": "stderr",
     "output_type": "stream",
     "text": [
      "INFO:utils.ml:Predictions made with classifier: RandomForestClassifier8\n",
      "INFO:utils.ml:Predictions made with classifier: XGBClassifier9\n",
      "INFO:utils.ml:Predictions made with classifier: XGBClassifier10\n",
      "INFO:utils.ml:Predictions made with classifier: XGBClassifier11\n",
      "INFO:utils.ml:Predictions made with classifier: XGBClassifier12\n",
      "INFO:utils.ml:Predictions made with classifier: XGBClassifier13\n",
      "INFO:utils.ml:Predictions made with classifier: XGBClassifier14\n",
      "INFO:utils.ml:Predictions made with classifier: XGBClassifier15\n",
      "INFO:utils.ml:Predictions made with classifier: XGBClassifier16\n",
      "INFO:utils.ml:Predictions made with classifier: XGBClassifier17\n",
      "INFO:utils.ml:Predictions made with classifier: XGBClassifier18\n",
      "INFO:utils.ml:Predictions made with classifier: XGBClassifier19\n"
     ]
    },
    {
     "data": {
      "text/plain": [
       "{'GT': array([0, 0, 0, ..., 2, 2, 2]),\n",
       " 'RandomForestClassifier0': array([0, 0, 2, ..., 1, 0, 0]),\n",
       " 'RandomForestClassifier1': array([0, 0, 2, ..., 1, 0, 0]),\n",
       " 'RandomForestClassifier2': array([0, 0, 2, ..., 1, 0, 0]),\n",
       " 'RandomForestClassifier3': array([0, 0, 2, ..., 1, 0, 0]),\n",
       " 'RandomForestClassifier4': array([0, 0, 2, ..., 1, 0, 0]),\n",
       " 'RandomForestClassifier5': array([0, 0, 2, ..., 1, 0, 0]),\n",
       " 'RandomForestClassifier6': array([0, 0, 2, ..., 1, 0, 0]),\n",
       " 'RandomForestClassifier7': array([0, 0, 2, ..., 1, 0, 0]),\n",
       " 'RandomForestClassifier8': array([2, 0, 2, ..., 1, 0, 0]),\n",
       " 'XGBClassifier9': array([2, 0, 2, ..., 1, 0, 0], dtype=int64),\n",
       " 'XGBClassifier10': array([2, 0, 2, ..., 1, 0, 0], dtype=int64),\n",
       " 'XGBClassifier11': array([2, 0, 2, ..., 1, 0, 0], dtype=int64),\n",
       " 'XGBClassifier12': array([0, 0, 2, ..., 1, 0, 0], dtype=int64),\n",
       " 'XGBClassifier13': array([2, 0, 2, ..., 1, 0, 0], dtype=int64),\n",
       " 'XGBClassifier14': array([2, 0, 2, ..., 1, 0, 0], dtype=int64),\n",
       " 'XGBClassifier15': array([2, 0, 2, ..., 1, 0, 0], dtype=int64),\n",
       " 'XGBClassifier16': array([2, 0, 2, ..., 1, 0, 0], dtype=int64),\n",
       " 'XGBClassifier17': array([2, 0, 2, ..., 1, 0, 0], dtype=int64),\n",
       " 'XGBClassifier18': array([2, 0, 2, ..., 1, 0, 0], dtype=int64),\n",
       " 'XGBClassifier19': array([2, 0, 2, ..., 1, 0, 0], dtype=int64)}"
      ]
     },
     "execution_count": 15,
     "metadata": {},
     "output_type": "execute_result"
    }
   ],
   "execution_count": 15
  },
  {
   "metadata": {
    "ExecuteTime": {
     "end_time": "2024-11-02T09:12:14.216981Z",
     "start_time": "2024-11-02T09:12:14.104486Z"
    }
   },
   "cell_type": "code",
   "source": [
    "import pandas as pd\n",
    "\n",
    "df = pd.DataFrame(data=pipeline.calculate_metrics(\n",
    "    [\"accuracy\", \"precision\", \"recall\", \"f1\", \"kappa\"],))\n",
    "df.T"
   ],
   "id": "3b6534db74d47624",
   "outputs": [
    {
     "name": "stderr",
     "output_type": "stream",
     "text": [
      "INFO:utils.ml:Metrics for classifier GT: {'accuracy': 1.0, 'precision': 1.0, 'recall': 1.0, 'f1': 1.0, 'kappa': 1.0}\n",
      "INFO:utils.ml:Metrics for classifier RandomForestClassifier0: {'accuracy': 0.789763779527559, 'precision': 0.6687725269834749, 'recall': 0.6748690613832976, 'f1': 0.671153855591832, 'kappa': 0.6254688680454}\n",
      "INFO:utils.ml:Metrics for classifier RandomForestClassifier1: {'accuracy': 0.7960629921259843, 'precision': 0.682996301103254, 'recall': 0.6832782709322195, 'f1': 0.6823166461238389, 'kappa': 0.635625063696102}\n",
      "INFO:utils.ml:Metrics for classifier RandomForestClassifier2: {'accuracy': 0.7960629921259843, 'precision': 0.6853267958306805, 'recall': 0.6836336748487706, 'f1': 0.6833212875894237, 'kappa': 0.6357348205307665}\n",
      "INFO:utils.ml:Metrics for classifier RandomForestClassifier3: {'accuracy': 0.784251968503937, 'precision': 0.6749937537188156, 'recall': 0.686699852822449, 'f1': 0.6797728972741304, 'kappa': 0.6171129537692335}\n",
      "INFO:utils.ml:Metrics for classifier RandomForestClassifier4: {'accuracy': 0.784251968503937, 'precision': 0.6749937537188156, 'recall': 0.686699852822449, 'f1': 0.6797728972741304, 'kappa': 0.6171129537692335}\n",
      "INFO:utils.ml:Metrics for classifier RandomForestClassifier5: {'accuracy': 0.7811023622047244, 'precision': 0.6654149092742488, 'recall': 0.6859771981921283, 'f1': 0.6728554264892366, 'kappa': 0.615327624152884}\n",
      "INFO:utils.ml:Metrics for classifier RandomForestClassifier6: {'accuracy': 0.784251968503937, 'precision': 0.6749937537188156, 'recall': 0.686699852822449, 'f1': 0.6797728972741304, 'kappa': 0.6171129537692335}\n",
      "INFO:utils.ml:Metrics for classifier RandomForestClassifier7: {'accuracy': 0.8094488188976378, 'precision': 0.701145763469707, 'recall': 0.6788517277545504, 'f1': 0.68625847939893, 'kappa': 0.6562592271145191}\n",
      "INFO:utils.ml:Metrics for classifier RandomForestClassifier8: {'accuracy': 0.6606299212598425, 'precision': 0.5755707180517154, 'recall': 0.5908533399272103, 'f1': 0.557212391720653, 'kappa': 0.4417371757736964}\n",
      "INFO:utils.ml:Metrics for classifier XGBClassifier9: {'accuracy': 0.8291338582677166, 'precision': 0.7173640448391646, 'recall': 0.6814463023751317, 'f1': 0.6936790590153041, 'kappa': 0.6881153607626739}\n",
      "INFO:utils.ml:Metrics for classifier XGBClassifier10: {'accuracy': 0.8307086614173228, 'precision': 0.7206987345444603, 'recall': 0.6831403943773587, 'f1': 0.695620955206803, 'kappa': 0.6911003411980849}\n",
      "INFO:utils.ml:Metrics for classifier XGBClassifier11: {'accuracy': 0.831496062992126, 'precision': 0.7163514389177538, 'recall': 0.6807552812139791, 'f1': 0.6924580868969402, 'kappa': 0.6925370837971636}\n",
      "INFO:utils.ml:Metrics for classifier XGBClassifier12: {'accuracy': 0.7763779527559055, 'precision': 0.6469005951900312, 'recall': 0.6737197960233577, 'f1': 0.6543383371565683, 'kappa': 0.611130038770555}\n",
      "INFO:utils.ml:Metrics for classifier XGBClassifier13: {'accuracy': 0.8322834645669291, 'precision': 0.7242001799523923, 'recall': 0.701561911992412, 'f1': 0.7107770267654595, 'kappa': 0.6954731305780957}\n",
      "INFO:utils.ml:Metrics for classifier XGBClassifier14: {'accuracy': 0.8267716535433071, 'precision': 0.6930118032839859, 'recall': 0.6855471846590531, 'f1': 0.6886630397877508, 'kappa': 0.6875041941992547}\n",
      "INFO:utils.ml:Metrics for classifier XGBClassifier15: {'accuracy': 0.8251968503937008, 'precision': 0.7003273754674461, 'recall': 0.6876183576961458, 'f1': 0.6929023462375953, 'kappa': 0.6837734528520283}\n",
      "INFO:utils.ml:Metrics for classifier XGBClassifier16: {'accuracy': 0.8322834645669291, 'precision': 0.7192631651834688, 'recall': 0.7022727198255142, 'f1': 0.7091603330820275, 'kappa': 0.6966247527106502}\n",
      "INFO:utils.ml:Metrics for classifier XGBClassifier17: {'accuracy': 0.8307086614173228, 'precision': 0.7162529846188018, 'recall': 0.7039884889460559, 'f1': 0.7091864949201491, 'kappa': 0.6942685286372023}\n",
      "INFO:utils.ml:Metrics for classifier XGBClassifier18: {'accuracy': 0.8299212598425196, 'precision': 0.7191766447740201, 'recall': 0.6941557732845648, 'f1': 0.703814015081421, 'kappa': 0.6910755148741419}\n",
      "INFO:utils.ml:Metrics for classifier XGBClassifier19: {'accuracy': 0.8283464566929134, 'precision': 0.7171678623640246, 'recall': 0.6958715424051065, 'f1': 0.704411124909671, 'kappa': 0.6886400748541379}\n"
     ]
    },
    {
     "name": "stdout",
     "output_type": "stream",
     "text": [
      "cannot access local variable 'report' where it is not associated with a value\n",
      "cannot access local variable 'report' where it is not associated with a value\n",
      "cannot access local variable 'report' where it is not associated with a value\n",
      "cannot access local variable 'report' where it is not associated with a value\n",
      "cannot access local variable 'report' where it is not associated with a value\n",
      "cannot access local variable 'report' where it is not associated with a value\n",
      "cannot access local variable 'report' where it is not associated with a value\n",
      "cannot access local variable 'report' where it is not associated with a value\n",
      "cannot access local variable 'report' where it is not associated with a value\n",
      "cannot access local variable 'report' where it is not associated with a value\n",
      "cannot access local variable 'report' where it is not associated with a value\n",
      "cannot access local variable 'report' where it is not associated with a value\n",
      "cannot access local variable 'report' where it is not associated with a value\n",
      "cannot access local variable 'report' where it is not associated with a value\n",
      "cannot access local variable 'report' where it is not associated with a value\n",
      "cannot access local variable 'report' where it is not associated with a value\n",
      "cannot access local variable 'report' where it is not associated with a value\n",
      "cannot access local variable 'report' where it is not associated with a value\n",
      "cannot access local variable 'report' where it is not associated with a value\n",
      "cannot access local variable 'report' where it is not associated with a value\n",
      "cannot access local variable 'report' where it is not associated with a value\n"
     ]
    },
    {
     "data": {
      "text/plain": [
       "                         accuracy  precision    recall        f1     kappa\n",
       "GT                       1.000000   1.000000  1.000000  1.000000  1.000000\n",
       "RandomForestClassifier0  0.789764   0.668773  0.674869  0.671154  0.625469\n",
       "RandomForestClassifier1  0.796063   0.682996  0.683278  0.682317  0.635625\n",
       "RandomForestClassifier2  0.796063   0.685327  0.683634  0.683321  0.635735\n",
       "RandomForestClassifier3  0.784252   0.674994  0.686700  0.679773  0.617113\n",
       "RandomForestClassifier4  0.784252   0.674994  0.686700  0.679773  0.617113\n",
       "RandomForestClassifier5  0.781102   0.665415  0.685977  0.672855  0.615328\n",
       "RandomForestClassifier6  0.784252   0.674994  0.686700  0.679773  0.617113\n",
       "RandomForestClassifier7  0.809449   0.701146  0.678852  0.686258  0.656259\n",
       "RandomForestClassifier8  0.660630   0.575571  0.590853  0.557212  0.441737\n",
       "XGBClassifier9           0.829134   0.717364  0.681446  0.693679  0.688115\n",
       "XGBClassifier10          0.830709   0.720699  0.683140  0.695621  0.691100\n",
       "XGBClassifier11          0.831496   0.716351  0.680755  0.692458  0.692537\n",
       "XGBClassifier12          0.776378   0.646901  0.673720  0.654338  0.611130\n",
       "XGBClassifier13          0.832283   0.724200  0.701562  0.710777  0.695473\n",
       "XGBClassifier14          0.826772   0.693012  0.685547  0.688663  0.687504\n",
       "XGBClassifier15          0.825197   0.700327  0.687618  0.692902  0.683773\n",
       "XGBClassifier16          0.832283   0.719263  0.702273  0.709160  0.696625\n",
       "XGBClassifier17          0.830709   0.716253  0.703988  0.709186  0.694269\n",
       "XGBClassifier18          0.829921   0.719177  0.694156  0.703814  0.691076\n",
       "XGBClassifier19          0.828346   0.717168  0.695872  0.704411  0.688640"
      ],
      "text/html": [
       "<div>\n",
       "<style scoped>\n",
       "    .dataframe tbody tr th:only-of-type {\n",
       "        vertical-align: middle;\n",
       "    }\n",
       "\n",
       "    .dataframe tbody tr th {\n",
       "        vertical-align: top;\n",
       "    }\n",
       "\n",
       "    .dataframe thead th {\n",
       "        text-align: right;\n",
       "    }\n",
       "</style>\n",
       "<table border=\"1\" class=\"dataframe\">\n",
       "  <thead>\n",
       "    <tr style=\"text-align: right;\">\n",
       "      <th></th>\n",
       "      <th>accuracy</th>\n",
       "      <th>precision</th>\n",
       "      <th>recall</th>\n",
       "      <th>f1</th>\n",
       "      <th>kappa</th>\n",
       "    </tr>\n",
       "  </thead>\n",
       "  <tbody>\n",
       "    <tr>\n",
       "      <th>GT</th>\n",
       "      <td>1.000000</td>\n",
       "      <td>1.000000</td>\n",
       "      <td>1.000000</td>\n",
       "      <td>1.000000</td>\n",
       "      <td>1.000000</td>\n",
       "    </tr>\n",
       "    <tr>\n",
       "      <th>RandomForestClassifier0</th>\n",
       "      <td>0.789764</td>\n",
       "      <td>0.668773</td>\n",
       "      <td>0.674869</td>\n",
       "      <td>0.671154</td>\n",
       "      <td>0.625469</td>\n",
       "    </tr>\n",
       "    <tr>\n",
       "      <th>RandomForestClassifier1</th>\n",
       "      <td>0.796063</td>\n",
       "      <td>0.682996</td>\n",
       "      <td>0.683278</td>\n",
       "      <td>0.682317</td>\n",
       "      <td>0.635625</td>\n",
       "    </tr>\n",
       "    <tr>\n",
       "      <th>RandomForestClassifier2</th>\n",
       "      <td>0.796063</td>\n",
       "      <td>0.685327</td>\n",
       "      <td>0.683634</td>\n",
       "      <td>0.683321</td>\n",
       "      <td>0.635735</td>\n",
       "    </tr>\n",
       "    <tr>\n",
       "      <th>RandomForestClassifier3</th>\n",
       "      <td>0.784252</td>\n",
       "      <td>0.674994</td>\n",
       "      <td>0.686700</td>\n",
       "      <td>0.679773</td>\n",
       "      <td>0.617113</td>\n",
       "    </tr>\n",
       "    <tr>\n",
       "      <th>RandomForestClassifier4</th>\n",
       "      <td>0.784252</td>\n",
       "      <td>0.674994</td>\n",
       "      <td>0.686700</td>\n",
       "      <td>0.679773</td>\n",
       "      <td>0.617113</td>\n",
       "    </tr>\n",
       "    <tr>\n",
       "      <th>RandomForestClassifier5</th>\n",
       "      <td>0.781102</td>\n",
       "      <td>0.665415</td>\n",
       "      <td>0.685977</td>\n",
       "      <td>0.672855</td>\n",
       "      <td>0.615328</td>\n",
       "    </tr>\n",
       "    <tr>\n",
       "      <th>RandomForestClassifier6</th>\n",
       "      <td>0.784252</td>\n",
       "      <td>0.674994</td>\n",
       "      <td>0.686700</td>\n",
       "      <td>0.679773</td>\n",
       "      <td>0.617113</td>\n",
       "    </tr>\n",
       "    <tr>\n",
       "      <th>RandomForestClassifier7</th>\n",
       "      <td>0.809449</td>\n",
       "      <td>0.701146</td>\n",
       "      <td>0.678852</td>\n",
       "      <td>0.686258</td>\n",
       "      <td>0.656259</td>\n",
       "    </tr>\n",
       "    <tr>\n",
       "      <th>RandomForestClassifier8</th>\n",
       "      <td>0.660630</td>\n",
       "      <td>0.575571</td>\n",
       "      <td>0.590853</td>\n",
       "      <td>0.557212</td>\n",
       "      <td>0.441737</td>\n",
       "    </tr>\n",
       "    <tr>\n",
       "      <th>XGBClassifier9</th>\n",
       "      <td>0.829134</td>\n",
       "      <td>0.717364</td>\n",
       "      <td>0.681446</td>\n",
       "      <td>0.693679</td>\n",
       "      <td>0.688115</td>\n",
       "    </tr>\n",
       "    <tr>\n",
       "      <th>XGBClassifier10</th>\n",
       "      <td>0.830709</td>\n",
       "      <td>0.720699</td>\n",
       "      <td>0.683140</td>\n",
       "      <td>0.695621</td>\n",
       "      <td>0.691100</td>\n",
       "    </tr>\n",
       "    <tr>\n",
       "      <th>XGBClassifier11</th>\n",
       "      <td>0.831496</td>\n",
       "      <td>0.716351</td>\n",
       "      <td>0.680755</td>\n",
       "      <td>0.692458</td>\n",
       "      <td>0.692537</td>\n",
       "    </tr>\n",
       "    <tr>\n",
       "      <th>XGBClassifier12</th>\n",
       "      <td>0.776378</td>\n",
       "      <td>0.646901</td>\n",
       "      <td>0.673720</td>\n",
       "      <td>0.654338</td>\n",
       "      <td>0.611130</td>\n",
       "    </tr>\n",
       "    <tr>\n",
       "      <th>XGBClassifier13</th>\n",
       "      <td>0.832283</td>\n",
       "      <td>0.724200</td>\n",
       "      <td>0.701562</td>\n",
       "      <td>0.710777</td>\n",
       "      <td>0.695473</td>\n",
       "    </tr>\n",
       "    <tr>\n",
       "      <th>XGBClassifier14</th>\n",
       "      <td>0.826772</td>\n",
       "      <td>0.693012</td>\n",
       "      <td>0.685547</td>\n",
       "      <td>0.688663</td>\n",
       "      <td>0.687504</td>\n",
       "    </tr>\n",
       "    <tr>\n",
       "      <th>XGBClassifier15</th>\n",
       "      <td>0.825197</td>\n",
       "      <td>0.700327</td>\n",
       "      <td>0.687618</td>\n",
       "      <td>0.692902</td>\n",
       "      <td>0.683773</td>\n",
       "    </tr>\n",
       "    <tr>\n",
       "      <th>XGBClassifier16</th>\n",
       "      <td>0.832283</td>\n",
       "      <td>0.719263</td>\n",
       "      <td>0.702273</td>\n",
       "      <td>0.709160</td>\n",
       "      <td>0.696625</td>\n",
       "    </tr>\n",
       "    <tr>\n",
       "      <th>XGBClassifier17</th>\n",
       "      <td>0.830709</td>\n",
       "      <td>0.716253</td>\n",
       "      <td>0.703988</td>\n",
       "      <td>0.709186</td>\n",
       "      <td>0.694269</td>\n",
       "    </tr>\n",
       "    <tr>\n",
       "      <th>XGBClassifier18</th>\n",
       "      <td>0.829921</td>\n",
       "      <td>0.719177</td>\n",
       "      <td>0.694156</td>\n",
       "      <td>0.703814</td>\n",
       "      <td>0.691076</td>\n",
       "    </tr>\n",
       "    <tr>\n",
       "      <th>XGBClassifier19</th>\n",
       "      <td>0.828346</td>\n",
       "      <td>0.717168</td>\n",
       "      <td>0.695872</td>\n",
       "      <td>0.704411</td>\n",
       "      <td>0.688640</td>\n",
       "    </tr>\n",
       "  </tbody>\n",
       "</table>\n",
       "</div>"
      ]
     },
     "execution_count": 16,
     "metadata": {},
     "output_type": "execute_result"
    }
   ],
   "execution_count": 16
  },
  {
   "metadata": {},
   "cell_type": "markdown",
   "source": [
    "___\n",
    "Borderline SMOTE"
   ],
   "id": "1e752cdfc948f3bc"
  },
  {
   "metadata": {
    "ExecuteTime": {
     "end_time": "2024-11-02T09:12:14.460157Z",
     "start_time": "2024-11-02T09:12:14.260294Z"
    }
   },
   "cell_type": "code",
   "source": [
    "from imblearn.over_sampling import BorderlineSMOTE\n",
    "smote = BorderlineSMOTE(sampling_strategy='auto', random_state=42)\n",
    "\n",
    "pipeline.feature_matrix, pipeline.labels = smote.fit_resample(\n",
    "    pipeline.backup_feature_matrix, pipeline.backup_labels)\n",
    "\n",
    "print(pipeline.backup_feature_matrix.shape)\n",
    "print(pipeline.feature_matrix.shape)\n",
    "\n",
    "print(pipeline.backup_labels.shape)\n",
    "print(pipeline.labels.shape)\n",
    "\n",
    "pipeline.fitted_classifiers = {}"
   ],
   "id": "ca12420fbcc1eb2b",
   "outputs": [
    {
     "name": "stdout",
     "output_type": "stream",
     "text": [
      "(5082, 408)\n",
      "(8139, 408)\n",
      "(5082,)\n",
      "(8139,)\n"
     ]
    }
   ],
   "execution_count": 17
  },
  {
   "metadata": {
    "ExecuteTime": {
     "end_time": "2024-11-02T09:19:46.489946Z",
     "start_time": "2024-11-02T09:12:14.483874Z"
    }
   },
   "cell_type": "code",
   "source": "pipeline.fit_classifiers()",
   "id": "a4ea57f5e5a38f80",
   "outputs": [
    {
     "name": "stderr",
     "output_type": "stream",
     "text": [
      "INFO:utils.ml:Fitting classifiers...\n",
      "INFO:utils.ml:Fitting classifier: RandomForestClassifier0\n",
      "INFO:utils.ml:Fitted classifier: RandomForestClassifier0; Done in 11.122066259384155 seconds\n",
      "INFO:utils.ml:Fitting classifier: RandomForestClassifier1\n"
     ]
    },
    {
     "name": "stdout",
     "output_type": "stream",
     "text": [
      "list index out of range\n"
     ]
    },
    {
     "name": "stderr",
     "output_type": "stream",
     "text": [
      "INFO:utils.ml:Top 10 features for RandomForestClassifier1: [('color_moments_hsv_channel_0_mean', 0.02297385290492498), ('color_moments_lab_channel_0_skew', 0.020832386628807396), ('var_lab_channel_0', 0.012023290024017152), ('var_rgb_channel_2', 0.010968977307073762), ('color_moments_lab_channel_1_std', 0.00835500342303785), ('color_moments_rgb_channel_1_skew', 0.007909987310903125), ('color_moments_hsv_channel_2_mean', 0.007892295064412776), ('var_lab_channel_1', 0.0077837672535453), ('var_lab_channel_2', 0.007595388305281355), ('color_moments_rgb_channel_2_mean', 0.007577951040463)]\n",
      "INFO:utils.ml:Fitted classifier: RandomForestClassifier1; Done in 24.35762643814087 seconds\n",
      "INFO:utils.ml:Fitting classifier: RandomForestClassifier2\n",
      "INFO:utils.ml:Fitted classifier: RandomForestClassifier2; Done in 44.92874193191528 seconds\n",
      "INFO:utils.ml:Fitting classifier: RandomForestClassifier3\n"
     ]
    },
    {
     "name": "stdout",
     "output_type": "stream",
     "text": [
      "list index out of range\n"
     ]
    },
    {
     "name": "stderr",
     "output_type": "stream",
     "text": [
      "INFO:utils.ml:Fitted classifier: RandomForestClassifier3; Done in 18.15615177154541 seconds\n",
      "INFO:utils.ml:Fitting classifier: RandomForestClassifier4\n"
     ]
    },
    {
     "name": "stdout",
     "output_type": "stream",
     "text": [
      "list index out of range\n"
     ]
    },
    {
     "name": "stderr",
     "output_type": "stream",
     "text": [
      "INFO:utils.ml:Fitted classifier: RandomForestClassifier4; Done in 18.762396812438965 seconds\n",
      "INFO:utils.ml:Fitting classifier: RandomForestClassifier5\n"
     ]
    },
    {
     "name": "stdout",
     "output_type": "stream",
     "text": [
      "list index out of range\n"
     ]
    },
    {
     "name": "stderr",
     "output_type": "stream",
     "text": [
      "INFO:utils.ml:Fitted classifier: RandomForestClassifier5; Done in 15.809272527694702 seconds\n",
      "INFO:utils.ml:Fitting classifier: RandomForestClassifier6\n"
     ]
    },
    {
     "name": "stdout",
     "output_type": "stream",
     "text": [
      "list index out of range\n"
     ]
    },
    {
     "name": "stderr",
     "output_type": "stream",
     "text": [
      "INFO:utils.ml:Fitted classifier: RandomForestClassifier6; Done in 19.57761263847351 seconds\n",
      "INFO:utils.ml:Fitting classifier: RandomForestClassifier7\n"
     ]
    },
    {
     "name": "stdout",
     "output_type": "stream",
     "text": [
      "list index out of range\n"
     ]
    },
    {
     "name": "stderr",
     "output_type": "stream",
     "text": [
      "INFO:utils.ml:Fitted classifier: RandomForestClassifier7; Done in 27.38223385810852 seconds\n",
      "INFO:utils.ml:Fitting classifier: RandomForestClassifier8\n"
     ]
    },
    {
     "name": "stdout",
     "output_type": "stream",
     "text": [
      "list index out of range\n"
     ]
    },
    {
     "name": "stderr",
     "output_type": "stream",
     "text": [
      "INFO:utils.ml:Fitted classifier: RandomForestClassifier8; Done in 6.778321743011475 seconds\n",
      "INFO:utils.ml:Fitting classifier: XGBClassifier9\n"
     ]
    },
    {
     "name": "stdout",
     "output_type": "stream",
     "text": [
      "list index out of range\n"
     ]
    },
    {
     "name": "stderr",
     "output_type": "stream",
     "text": [
      "INFO:utils.ml:Fitted classifier: XGBClassifier9; Done in 22.936209440231323 seconds\n",
      "INFO:utils.ml:Fitting classifier: XGBClassifier10\n"
     ]
    },
    {
     "name": "stdout",
     "output_type": "stream",
     "text": [
      "list index out of range\n"
     ]
    },
    {
     "name": "stderr",
     "output_type": "stream",
     "text": [
      "INFO:utils.ml:Fitted classifier: XGBClassifier10; Done in 27.008683443069458 seconds\n",
      "INFO:utils.ml:Fitting classifier: XGBClassifier11\n"
     ]
    },
    {
     "name": "stdout",
     "output_type": "stream",
     "text": [
      "list index out of range\n"
     ]
    },
    {
     "name": "stderr",
     "output_type": "stream",
     "text": [
      "INFO:utils.ml:Fitted classifier: XGBClassifier11; Done in 20.599786520004272 seconds\n",
      "INFO:utils.ml:Fitting classifier: XGBClassifier12\n"
     ]
    },
    {
     "name": "stdout",
     "output_type": "stream",
     "text": [
      "list index out of range\n"
     ]
    },
    {
     "name": "stderr",
     "output_type": "stream",
     "text": [
      "INFO:utils.ml:Top 10 features for XGBClassifier12: [('color_moments_hsv_channel_0_mean', 0.01428493), ('lbp_rad1_bins16_15', 0.013063311), ('lbp_rad2_bins32_15', 0.0107440585), ('lbp_rad2_bins64_29', 0.010591843), ('color_moments_lab_channel_0_skew', 0.009656879), ('lbp_rad1_bins32_22', 0.009267056), ('lbp_rad2_bins16_12', 0.008790834), ('color_moments_lab_channel_1_std', 0.007897703), ('lbp_rad1_bins64_63', 0.007850355), ('lbp_rad1_bins64_58', 0.0077710124)]\n",
      "INFO:utils.ml:Fitted classifier: XGBClassifier12; Done in 7.641372442245483 seconds\n",
      "INFO:utils.ml:Fitting classifier: XGBClassifier13\n",
      "INFO:utils.ml:Top 10 features for XGBClassifier13: [('lbp_rad1_bins16_15', 0.01235671), ('lbp_rad2_bins16_4', 0.010915965), ('color_moments_hsv_channel_0_mean', 0.010569359), ('var_lab_channel_0', 0.0091790175), ('color_moments_lab_channel_0_skew', 0.008099053), ('lbp_rad1_bins32_0', 0.007987072), ('lbp_rad1_bins64_33', 0.0075689596), ('lbp_rad1_bins64_26', 0.0075427997), ('lbp_rad2_bins32_15', 0.007145957), ('lbp_rad2_bins32_0', 0.006804647)]\n",
      "INFO:utils.ml:Fitted classifier: XGBClassifier13; Done in 18.848533391952515 seconds\n",
      "INFO:utils.ml:Fitting classifier: XGBClassifier14\n",
      "INFO:utils.ml:Top 10 features for XGBClassifier14: [('lbp_rad1_bins16_15', 0.015083247), ('lbp_rad2_bins16_4', 0.011932098), ('color_moments_hsv_channel_0_mean', 0.011203991), ('lbp_rad1_bins64_26', 0.010457376), ('color_moments_lab_channel_0_skew', 0.010199962), ('lbp_rad2_bins16_12', 0.008612994), ('lbp_rad1_bins64_63', 0.008493137), ('var_lab_channel_0', 0.007811103), ('color_moments_lab_channel_1_skew', 0.0073875845), ('lbp_rad2_bins32_0', 0.007198428)]\n",
      "INFO:utils.ml:Fitted classifier: XGBClassifier14; Done in 12.384495258331299 seconds\n",
      "INFO:utils.ml:Fitting classifier: XGBClassifier15\n",
      "INFO:utils.ml:Top 10 features for XGBClassifier15: [('lbp_rad1_bins16_15', 0.012488771), ('color_moments_hsv_channel_0_mean', 0.011898072), ('lbp_rad2_bins16_4', 0.009925488), ('lbp_rad1_bins64_26', 0.009857073), ('lbp_rad1_bins64_63', 0.009746401), ('var_lab_channel_0', 0.009711033), ('color_moments_lab_channel_0_skew', 0.009558827), ('lbp_rad2_bins16_12', 0.0089382455), ('color_moments_lab_channel_1_skew', 0.008249521), ('lbp_rad2_bins32_0', 0.0076114805)]\n",
      "INFO:utils.ml:Fitted classifier: XGBClassifier15; Done in 14.210551261901855 seconds\n",
      "INFO:utils.ml:Fitting classifier: XGBClassifier16\n",
      "INFO:utils.ml:Top 10 features for XGBClassifier16: [('color_moments_hsv_channel_0_mean', 0.013486539), ('lbp_rad1_bins16_15', 0.0103236195), ('lbp_rad1_bins64_26', 0.009431172), ('var_lab_channel_0', 0.009430913), ('lbp_rad1_bins64_63', 0.008549977), ('color_moments_lab_channel_0_skew', 0.008373346), ('lbp_rad2_bins32_15', 0.008034134), ('lbp_rad2_bins16_4', 0.007836124), ('lbp_rad2_bins16_5', 0.007419969), ('lbp_rad2_bins32_0', 0.007284583)]\n",
      "INFO:utils.ml:Fitted classifier: XGBClassifier16; Done in 32.71460938453674 seconds\n",
      "INFO:utils.ml:Fitting classifier: XGBClassifier17\n",
      "INFO:utils.ml:Top 10 features for XGBClassifier17: [('color_moments_hsv_channel_0_mean', 0.01378893), ('lbp_rad1_bins16_15', 0.009878251), ('var_lab_channel_0', 0.009527318), ('lbp_rad1_bins64_26', 0.0093441885), ('lbp_rad1_bins64_63', 0.008579015), ('color_moments_lab_channel_0_skew', 0.008172284), ('lbp_rad2_bins32_15', 0.007858639), ('lbp_rad2_bins16_4', 0.007451125), ('lbp_rad2_bins16_5', 0.0070351716), ('lbp_rad2_bins32_0', 0.006964341)]\n",
      "INFO:utils.ml:Fitted classifier: XGBClassifier17; Done in 31.774760723114014 seconds\n",
      "INFO:utils.ml:Fitting classifier: XGBClassifier18\n",
      "INFO:utils.ml:Top 10 features for XGBClassifier18: [('lbp_rad1_bins16_15', 0.0134574305), ('color_moments_hsv_channel_0_mean', 0.012120401), ('lbp_rad2_bins16_4', 0.0104352785), ('lbp_rad1_bins64_26', 0.010317697), ('var_lab_channel_0', 0.009857885), ('lbp_rad1_bins64_63', 0.009330604), ('color_moments_lab_channel_0_skew', 0.00914428), ('lbp_rad2_bins32_15', 0.008637382), ('lbp_rad2_bins16_12', 0.008610623), ('color_moments_hsv_channel_2_mean', 0.0075365934)]\n",
      "INFO:utils.ml:Fitted classifier: XGBClassifier18; Done in 35.079373598098755 seconds\n",
      "INFO:utils.ml:Fitting classifier: XGBClassifier19\n",
      "INFO:utils.ml:Top 10 features for XGBClassifier19: [('lbp_rad1_bins16_15', 0.013759354), ('color_moments_hsv_channel_0_mean', 0.011693928), ('lbp_rad2_bins16_4', 0.011092824), ('lbp_rad1_bins64_26', 0.010667764), ('var_lab_channel_0', 0.01011656), ('lbp_rad1_bins64_63', 0.009345104), ('color_moments_lab_channel_0_skew', 0.009288012), ('lbp_rad2_bins16_12', 0.0086484365), ('lbp_rad2_bins32_15', 0.008238347), ('color_moments_hsv_channel_2_mean', 0.007457581)]\n",
      "INFO:utils.ml:Fitted classifier: XGBClassifier19; Done in 41.89481472969055 seconds\n",
      "INFO:utils.ml:Fitting completed in 452.00 seconds.\n"
     ]
    }
   ],
   "execution_count": 18
  },
  {
   "metadata": {
    "ExecuteTime": {
     "end_time": "2024-11-02T09:24:06.323262Z",
     "start_time": "2024-11-02T09:19:46.489946Z"
    }
   },
   "cell_type": "code",
   "source": "pipeline.predict_with_classifiers(VAL_PATH)",
   "id": "156c56b343fa5df1",
   "outputs": [
    {
     "name": "stderr",
     "output_type": "stream",
     "text": [
      "INFO:utils.ml:Predicting with classifiers on dataset: C:\\Users\\gimes\\Src\\repos\\CADx-Project\\dataset\\multiclass\\val\n"
     ]
    },
    {
     "name": "stdout",
     "output_type": "stream",
     "text": [
      "Processed 5/27 batches.\n",
      "Processed 10/27 batches.\n",
      "Processed 15/27 batches.\n",
      "Processed 20/27 batches.\n",
      "Processed 25/27 batches.\n"
     ]
    },
    {
     "name": "stderr",
     "output_type": "stream",
     "text": [
      "INFO:utils.ml:Predictions made with classifier: RandomForestClassifier0\n",
      "INFO:utils.ml:Predictions made with classifier: RandomForestClassifier1\n",
      "INFO:utils.ml:Predictions made with classifier: RandomForestClassifier2\n",
      "INFO:utils.ml:Predictions made with classifier: RandomForestClassifier3\n",
      "INFO:utils.ml:Predictions made with classifier: RandomForestClassifier4\n",
      "INFO:utils.ml:Predictions made with classifier: RandomForestClassifier5\n",
      "INFO:utils.ml:Predictions made with classifier: RandomForestClassifier6\n"
     ]
    },
    {
     "name": "stdout",
     "output_type": "stream",
     "text": [
      "Processed 27/27 batches.\n"
     ]
    },
    {
     "name": "stderr",
     "output_type": "stream",
     "text": [
      "INFO:utils.ml:Predictions made with classifier: RandomForestClassifier7\n",
      "INFO:utils.ml:Predictions made with classifier: RandomForestClassifier8\n",
      "INFO:utils.ml:Predictions made with classifier: XGBClassifier9\n",
      "INFO:utils.ml:Predictions made with classifier: XGBClassifier10\n",
      "INFO:utils.ml:Predictions made with classifier: XGBClassifier11\n",
      "INFO:utils.ml:Predictions made with classifier: XGBClassifier12\n",
      "INFO:utils.ml:Predictions made with classifier: XGBClassifier13\n",
      "INFO:utils.ml:Predictions made with classifier: XGBClassifier14\n",
      "INFO:utils.ml:Predictions made with classifier: XGBClassifier15\n",
      "INFO:utils.ml:Predictions made with classifier: XGBClassifier16\n",
      "INFO:utils.ml:Predictions made with classifier: XGBClassifier17\n",
      "INFO:utils.ml:Predictions made with classifier: XGBClassifier18\n",
      "INFO:utils.ml:Predictions made with classifier: XGBClassifier19\n"
     ]
    },
    {
     "data": {
      "text/plain": [
       "{'GT': array([0, 0, 0, ..., 2, 2, 2]),\n",
       " 'RandomForestClassifier0': array([2, 0, 2, ..., 1, 0, 0]),\n",
       " 'RandomForestClassifier1': array([2, 0, 2, ..., 1, 0, 0]),\n",
       " 'RandomForestClassifier2': array([2, 0, 2, ..., 1, 0, 0]),\n",
       " 'RandomForestClassifier3': array([0, 0, 2, ..., 1, 0, 0]),\n",
       " 'RandomForestClassifier4': array([0, 0, 2, ..., 1, 0, 0]),\n",
       " 'RandomForestClassifier5': array([2, 0, 2, ..., 1, 0, 0]),\n",
       " 'RandomForestClassifier6': array([0, 0, 2, ..., 1, 0, 0]),\n",
       " 'RandomForestClassifier7': array([2, 0, 2, ..., 1, 0, 0]),\n",
       " 'RandomForestClassifier8': array([0, 0, 2, ..., 1, 0, 2]),\n",
       " 'XGBClassifier9': array([2, 0, 2, ..., 1, 0, 0], dtype=int64),\n",
       " 'XGBClassifier10': array([2, 0, 2, ..., 1, 0, 0], dtype=int64),\n",
       " 'XGBClassifier11': array([2, 0, 2, ..., 1, 0, 0], dtype=int64),\n",
       " 'XGBClassifier12': array([2, 0, 2, ..., 1, 0, 0], dtype=int64),\n",
       " 'XGBClassifier13': array([2, 0, 2, ..., 1, 0, 0], dtype=int64),\n",
       " 'XGBClassifier14': array([2, 0, 2, ..., 1, 0, 0], dtype=int64),\n",
       " 'XGBClassifier15': array([2, 0, 2, ..., 1, 2, 0], dtype=int64),\n",
       " 'XGBClassifier16': array([2, 0, 2, ..., 1, 0, 0], dtype=int64),\n",
       " 'XGBClassifier17': array([2, 0, 2, ..., 1, 0, 0], dtype=int64),\n",
       " 'XGBClassifier18': array([2, 0, 2, ..., 1, 0, 0], dtype=int64),\n",
       " 'XGBClassifier19': array([2, 0, 2, ..., 1, 0, 0], dtype=int64)}"
      ]
     },
     "execution_count": 19,
     "metadata": {},
     "output_type": "execute_result"
    }
   ],
   "execution_count": 19
  },
  {
   "metadata": {
    "ExecuteTime": {
     "end_time": "2024-11-02T09:24:06.455037Z",
     "start_time": "2024-11-02T09:24:06.345276Z"
    }
   },
   "cell_type": "code",
   "source": [
    "df = pd.DataFrame(data=pipeline.calculate_metrics(\n",
    "    [\"accuracy\", \"precision\", \"recall\", \"f1\", \"kappa\"],))\n",
    "df = df.T\n",
    "df"
   ],
   "id": "dec33139485e5176",
   "outputs": [
    {
     "name": "stderr",
     "output_type": "stream",
     "text": [
      "INFO:utils.ml:Metrics for classifier GT: {'accuracy': 1.0, 'precision': 1.0, 'recall': 1.0, 'f1': 1.0, 'kappa': 1.0}\n",
      "INFO:utils.ml:Metrics for classifier RandomForestClassifier0: {'accuracy': 0.7866141732283465, 'precision': 0.6697819824406168, 'recall': 0.6648053331760483, 'f1': 0.6659583133203424, 'kappa': 0.6179454731139825}\n",
      "INFO:utils.ml:Metrics for classifier RandomForestClassifier1: {'accuracy': 0.7913385826771654, 'precision': 0.6765822784810127, 'recall': 0.6713427487644673, 'f1': 0.6725716127571335, 'kappa': 0.6264788794921312}\n",
      "INFO:utils.ml:Metrics for classifier RandomForestClassifier2: {'accuracy': 0.794488188976378, 'precision': 0.6788453198289264, 'recall': 0.6792405295568767, 'f1': 0.6779992868450059, 'kappa': 0.6332501294528459}\n",
      "INFO:utils.ml:Metrics for classifier RandomForestClassifier3: {'accuracy': 0.7881889763779527, 'precision': 0.6695986800303347, 'recall': 0.6697315843427688, 'f1': 0.6683225885024416, 'kappa': 0.6222912612771979}\n",
      "INFO:utils.ml:Metrics for classifier RandomForestClassifier4: {'accuracy': 0.7881889763779527, 'precision': 0.6695986800303347, 'recall': 0.6697315843427688, 'f1': 0.6683225885024416, 'kappa': 0.6222912612771979}\n",
      "INFO:utils.ml:Metrics for classifier RandomForestClassifier5: {'accuracy': 0.7700787401574803, 'precision': 0.6539143954123585, 'recall': 0.6683315197651208, 'f1': 0.6592027884803487, 'kappa': 0.5941479558557652}\n",
      "INFO:utils.ml:Metrics for classifier RandomForestClassifier6: {'accuracy': 0.7881889763779527, 'precision': 0.6695986800303347, 'recall': 0.6697315843427688, 'f1': 0.6683225885024416, 'kappa': 0.6222912612771979}\n",
      "INFO:utils.ml:Metrics for classifier RandomForestClassifier7: {'accuracy': 0.7960629921259843, 'precision': 0.684775641025641, 'recall': 0.6714158460238998, 'f1': 0.6760448479776567, 'kappa': 0.6331984762788374}\n",
      "INFO:utils.ml:Metrics for classifier RandomForestClassifier8: {'accuracy': 0.6755905511811023, 'precision': 0.5769566404422349, 'recall': 0.6048147904490616, 'f1': 0.5716143013038971, 'kappa': 0.4582898507512133}\n",
      "INFO:utils.ml:Metrics for classifier XGBClassifier9: {'accuracy': 0.8275590551181102, 'precision': 0.7147196024820852, 'recall': 0.695024496403993, 'f1': 0.7029701262599065, 'kappa': 0.6874803361948851}\n",
      "INFO:utils.ml:Metrics for classifier XGBClassifier10: {'accuracy': 0.8267716535433071, 'precision': 0.7126718856528292, 'recall': 0.694355152361155, 'f1': 0.7018445896877269, 'kappa': 0.686132305231278}\n",
      "INFO:utils.ml:Metrics for classifier XGBClassifier11: {'accuracy': 0.8291338582677166, 'precision': 0.7175937320723978, 'recall': 0.6961854825313935, 'f1': 0.7047953303609412, 'kappa': 0.6900055792021741}\n",
      "INFO:utils.ml:Metrics for classifier XGBClassifier12: {'accuracy': 0.7795275590551181, 'precision': 0.6507248296339236, 'recall': 0.6765748741529855, 'f1': 0.6589296417826151, 'kappa': 0.6151731720725673}\n",
      "INFO:utils.ml:Metrics for classifier XGBClassifier13: {'accuracy': 0.8259842519685039, 'precision': 0.7212627352271365, 'recall': 0.7055482332266365, 'f1': 0.7123784175916382, 'kappa': 0.6850862823418531}\n",
      "INFO:utils.ml:Metrics for classifier XGBClassifier14: {'accuracy': 0.8354330708661417, 'precision': 0.7281244985443459, 'recall': 0.7134026597824171, 'f1': 0.7196113191773325, 'kappa': 0.7027260102141385}\n",
      "INFO:utils.ml:Metrics for classifier XGBClassifier15: {'accuracy': 0.8291338582677166, 'precision': 0.7216003148732155, 'recall': 0.6994176416958866, 'f1': 0.7083286221642386, 'kappa': 0.6901310581801173}\n",
      "INFO:utils.ml:Metrics for classifier XGBClassifier16: {'accuracy': 0.8307086614173228, 'precision': 0.7276809946675015, 'recall': 0.7097419994419402, 'f1': 0.7172144224520701, 'kappa': 0.6938530674117493}\n",
      "INFO:utils.ml:Metrics for classifier XGBClassifier17: {'accuracy': 0.8283464566929134, 'precision': 0.7180263410868464, 'recall': 0.7104330206030927, 'f1': 0.7138533144840901, 'kappa': 0.6905776271731987}\n",
      "INFO:utils.ml:Metrics for classifier XGBClassifier18: {'accuracy': 0.8307086614173228, 'precision': 0.7301618578066836, 'recall': 0.7030999791546781, 'f1': 0.7139062243927712, 'kappa': 0.6923962562579703}\n",
      "INFO:utils.ml:Metrics for classifier XGBClassifier19: {'accuracy': 0.8354330708661417, 'precision': 0.7417844314903138, 'recall': 0.7123364480327637, 'f1': 0.7242245570129717, 'kappa': 0.7007985318916774}\n"
     ]
    },
    {
     "name": "stdout",
     "output_type": "stream",
     "text": [
      "cannot access local variable 'report' where it is not associated with a value\n",
      "cannot access local variable 'report' where it is not associated with a value\n",
      "cannot access local variable 'report' where it is not associated with a value\n",
      "cannot access local variable 'report' where it is not associated with a value\n",
      "cannot access local variable 'report' where it is not associated with a value\n",
      "cannot access local variable 'report' where it is not associated with a value\n",
      "cannot access local variable 'report' where it is not associated with a value\n",
      "cannot access local variable 'report' where it is not associated with a value\n",
      "cannot access local variable 'report' where it is not associated with a value\n",
      "cannot access local variable 'report' where it is not associated with a value\n",
      "cannot access local variable 'report' where it is not associated with a value\n",
      "cannot access local variable 'report' where it is not associated with a value\n",
      "cannot access local variable 'report' where it is not associated with a value\n",
      "cannot access local variable 'report' where it is not associated with a value\n",
      "cannot access local variable 'report' where it is not associated with a value\n",
      "cannot access local variable 'report' where it is not associated with a value\n",
      "cannot access local variable 'report' where it is not associated with a value\n",
      "cannot access local variable 'report' where it is not associated with a value\n",
      "cannot access local variable 'report' where it is not associated with a value\n",
      "cannot access local variable 'report' where it is not associated with a value\n",
      "cannot access local variable 'report' where it is not associated with a value\n"
     ]
    },
    {
     "data": {
      "text/plain": [
       "                         accuracy  precision    recall        f1     kappa\n",
       "GT                       1.000000   1.000000  1.000000  1.000000  1.000000\n",
       "RandomForestClassifier0  0.786614   0.669782  0.664805  0.665958  0.617945\n",
       "RandomForestClassifier1  0.791339   0.676582  0.671343  0.672572  0.626479\n",
       "RandomForestClassifier2  0.794488   0.678845  0.679241  0.677999  0.633250\n",
       "RandomForestClassifier3  0.788189   0.669599  0.669732  0.668323  0.622291\n",
       "RandomForestClassifier4  0.788189   0.669599  0.669732  0.668323  0.622291\n",
       "RandomForestClassifier5  0.770079   0.653914  0.668332  0.659203  0.594148\n",
       "RandomForestClassifier6  0.788189   0.669599  0.669732  0.668323  0.622291\n",
       "RandomForestClassifier7  0.796063   0.684776  0.671416  0.676045  0.633198\n",
       "RandomForestClassifier8  0.675591   0.576957  0.604815  0.571614  0.458290\n",
       "XGBClassifier9           0.827559   0.714720  0.695024  0.702970  0.687480\n",
       "XGBClassifier10          0.826772   0.712672  0.694355  0.701845  0.686132\n",
       "XGBClassifier11          0.829134   0.717594  0.696185  0.704795  0.690006\n",
       "XGBClassifier12          0.779528   0.650725  0.676575  0.658930  0.615173\n",
       "XGBClassifier13          0.825984   0.721263  0.705548  0.712378  0.685086\n",
       "XGBClassifier14          0.835433   0.728124  0.713403  0.719611  0.702726\n",
       "XGBClassifier15          0.829134   0.721600  0.699418  0.708329  0.690131\n",
       "XGBClassifier16          0.830709   0.727681  0.709742  0.717214  0.693853\n",
       "XGBClassifier17          0.828346   0.718026  0.710433  0.713853  0.690578\n",
       "XGBClassifier18          0.830709   0.730162  0.703100  0.713906  0.692396\n",
       "XGBClassifier19          0.835433   0.741784  0.712336  0.724225  0.700799"
      ],
      "text/html": [
       "<div>\n",
       "<style scoped>\n",
       "    .dataframe tbody tr th:only-of-type {\n",
       "        vertical-align: middle;\n",
       "    }\n",
       "\n",
       "    .dataframe tbody tr th {\n",
       "        vertical-align: top;\n",
       "    }\n",
       "\n",
       "    .dataframe thead th {\n",
       "        text-align: right;\n",
       "    }\n",
       "</style>\n",
       "<table border=\"1\" class=\"dataframe\">\n",
       "  <thead>\n",
       "    <tr style=\"text-align: right;\">\n",
       "      <th></th>\n",
       "      <th>accuracy</th>\n",
       "      <th>precision</th>\n",
       "      <th>recall</th>\n",
       "      <th>f1</th>\n",
       "      <th>kappa</th>\n",
       "    </tr>\n",
       "  </thead>\n",
       "  <tbody>\n",
       "    <tr>\n",
       "      <th>GT</th>\n",
       "      <td>1.000000</td>\n",
       "      <td>1.000000</td>\n",
       "      <td>1.000000</td>\n",
       "      <td>1.000000</td>\n",
       "      <td>1.000000</td>\n",
       "    </tr>\n",
       "    <tr>\n",
       "      <th>RandomForestClassifier0</th>\n",
       "      <td>0.786614</td>\n",
       "      <td>0.669782</td>\n",
       "      <td>0.664805</td>\n",
       "      <td>0.665958</td>\n",
       "      <td>0.617945</td>\n",
       "    </tr>\n",
       "    <tr>\n",
       "      <th>RandomForestClassifier1</th>\n",
       "      <td>0.791339</td>\n",
       "      <td>0.676582</td>\n",
       "      <td>0.671343</td>\n",
       "      <td>0.672572</td>\n",
       "      <td>0.626479</td>\n",
       "    </tr>\n",
       "    <tr>\n",
       "      <th>RandomForestClassifier2</th>\n",
       "      <td>0.794488</td>\n",
       "      <td>0.678845</td>\n",
       "      <td>0.679241</td>\n",
       "      <td>0.677999</td>\n",
       "      <td>0.633250</td>\n",
       "    </tr>\n",
       "    <tr>\n",
       "      <th>RandomForestClassifier3</th>\n",
       "      <td>0.788189</td>\n",
       "      <td>0.669599</td>\n",
       "      <td>0.669732</td>\n",
       "      <td>0.668323</td>\n",
       "      <td>0.622291</td>\n",
       "    </tr>\n",
       "    <tr>\n",
       "      <th>RandomForestClassifier4</th>\n",
       "      <td>0.788189</td>\n",
       "      <td>0.669599</td>\n",
       "      <td>0.669732</td>\n",
       "      <td>0.668323</td>\n",
       "      <td>0.622291</td>\n",
       "    </tr>\n",
       "    <tr>\n",
       "      <th>RandomForestClassifier5</th>\n",
       "      <td>0.770079</td>\n",
       "      <td>0.653914</td>\n",
       "      <td>0.668332</td>\n",
       "      <td>0.659203</td>\n",
       "      <td>0.594148</td>\n",
       "    </tr>\n",
       "    <tr>\n",
       "      <th>RandomForestClassifier6</th>\n",
       "      <td>0.788189</td>\n",
       "      <td>0.669599</td>\n",
       "      <td>0.669732</td>\n",
       "      <td>0.668323</td>\n",
       "      <td>0.622291</td>\n",
       "    </tr>\n",
       "    <tr>\n",
       "      <th>RandomForestClassifier7</th>\n",
       "      <td>0.796063</td>\n",
       "      <td>0.684776</td>\n",
       "      <td>0.671416</td>\n",
       "      <td>0.676045</td>\n",
       "      <td>0.633198</td>\n",
       "    </tr>\n",
       "    <tr>\n",
       "      <th>RandomForestClassifier8</th>\n",
       "      <td>0.675591</td>\n",
       "      <td>0.576957</td>\n",
       "      <td>0.604815</td>\n",
       "      <td>0.571614</td>\n",
       "      <td>0.458290</td>\n",
       "    </tr>\n",
       "    <tr>\n",
       "      <th>XGBClassifier9</th>\n",
       "      <td>0.827559</td>\n",
       "      <td>0.714720</td>\n",
       "      <td>0.695024</td>\n",
       "      <td>0.702970</td>\n",
       "      <td>0.687480</td>\n",
       "    </tr>\n",
       "    <tr>\n",
       "      <th>XGBClassifier10</th>\n",
       "      <td>0.826772</td>\n",
       "      <td>0.712672</td>\n",
       "      <td>0.694355</td>\n",
       "      <td>0.701845</td>\n",
       "      <td>0.686132</td>\n",
       "    </tr>\n",
       "    <tr>\n",
       "      <th>XGBClassifier11</th>\n",
       "      <td>0.829134</td>\n",
       "      <td>0.717594</td>\n",
       "      <td>0.696185</td>\n",
       "      <td>0.704795</td>\n",
       "      <td>0.690006</td>\n",
       "    </tr>\n",
       "    <tr>\n",
       "      <th>XGBClassifier12</th>\n",
       "      <td>0.779528</td>\n",
       "      <td>0.650725</td>\n",
       "      <td>0.676575</td>\n",
       "      <td>0.658930</td>\n",
       "      <td>0.615173</td>\n",
       "    </tr>\n",
       "    <tr>\n",
       "      <th>XGBClassifier13</th>\n",
       "      <td>0.825984</td>\n",
       "      <td>0.721263</td>\n",
       "      <td>0.705548</td>\n",
       "      <td>0.712378</td>\n",
       "      <td>0.685086</td>\n",
       "    </tr>\n",
       "    <tr>\n",
       "      <th>XGBClassifier14</th>\n",
       "      <td>0.835433</td>\n",
       "      <td>0.728124</td>\n",
       "      <td>0.713403</td>\n",
       "      <td>0.719611</td>\n",
       "      <td>0.702726</td>\n",
       "    </tr>\n",
       "    <tr>\n",
       "      <th>XGBClassifier15</th>\n",
       "      <td>0.829134</td>\n",
       "      <td>0.721600</td>\n",
       "      <td>0.699418</td>\n",
       "      <td>0.708329</td>\n",
       "      <td>0.690131</td>\n",
       "    </tr>\n",
       "    <tr>\n",
       "      <th>XGBClassifier16</th>\n",
       "      <td>0.830709</td>\n",
       "      <td>0.727681</td>\n",
       "      <td>0.709742</td>\n",
       "      <td>0.717214</td>\n",
       "      <td>0.693853</td>\n",
       "    </tr>\n",
       "    <tr>\n",
       "      <th>XGBClassifier17</th>\n",
       "      <td>0.828346</td>\n",
       "      <td>0.718026</td>\n",
       "      <td>0.710433</td>\n",
       "      <td>0.713853</td>\n",
       "      <td>0.690578</td>\n",
       "    </tr>\n",
       "    <tr>\n",
       "      <th>XGBClassifier18</th>\n",
       "      <td>0.830709</td>\n",
       "      <td>0.730162</td>\n",
       "      <td>0.703100</td>\n",
       "      <td>0.713906</td>\n",
       "      <td>0.692396</td>\n",
       "    </tr>\n",
       "    <tr>\n",
       "      <th>XGBClassifier19</th>\n",
       "      <td>0.835433</td>\n",
       "      <td>0.741784</td>\n",
       "      <td>0.712336</td>\n",
       "      <td>0.724225</td>\n",
       "      <td>0.700799</td>\n",
       "    </tr>\n",
       "  </tbody>\n",
       "</table>\n",
       "</div>"
      ]
     },
     "execution_count": 20,
     "metadata": {},
     "output_type": "execute_result"
    }
   ],
   "execution_count": 20
  },
  {
   "metadata": {
    "ExecuteTime": {
     "end_time": "2024-11-02T11:12:26.679240Z",
     "start_time": "2024-11-02T11:12:26.669689Z"
    }
   },
   "cell_type": "code",
   "source": "confusion_matrix(pipeline.predictions[\"GT\"], pipeline.predictions[\"XGBClassifier14\"])",
   "id": "5e3d245571ac5c69",
   "outputs": [
    {
     "data": {
      "text/plain": [
       "array([[426,  47,  25],\n",
       "       [ 64, 597,  17],\n",
       "       [ 34,  22,  38]], dtype=int64)"
      ]
     },
     "execution_count": 22,
     "metadata": {},
     "output_type": "execute_result"
    }
   ],
   "execution_count": 22
  },
  {
   "metadata": {
    "ExecuteTime": {
     "end_time": "2024-11-02T09:24:07.726337400Z",
     "start_time": "2024-11-02T01:39:14.720326Z"
    }
   },
   "cell_type": "code",
   "source": "pipeline.fitted_classifiers[\"XGBClassifier7\"].__dict__",
   "id": "60ef153ef2f82eb9",
   "outputs": [
    {
     "data": {
      "text/plain": [
       "{'n_estimators': 550,\n",
       " 'objective': 'multi:softprob',\n",
       " 'max_depth': 7,\n",
       " 'max_leaves': None,\n",
       " 'max_bin': None,\n",
       " 'grow_policy': None,\n",
       " 'learning_rate': 0.1,\n",
       " 'verbosity': None,\n",
       " 'booster': None,\n",
       " 'tree_method': None,\n",
       " 'gamma': None,\n",
       " 'min_child_weight': 3,\n",
       " 'max_delta_step': None,\n",
       " 'subsample': 0.7,\n",
       " 'sampling_method': None,\n",
       " 'colsample_bytree': 0.7,\n",
       " 'colsample_bylevel': None,\n",
       " 'colsample_bynode': None,\n",
       " 'reg_alpha': None,\n",
       " 'reg_lambda': None,\n",
       " 'scale_pos_weight': None,\n",
       " 'base_score': None,\n",
       " 'missing': nan,\n",
       " 'num_parallel_tree': None,\n",
       " 'random_state': None,\n",
       " 'n_jobs': None,\n",
       " 'monotone_constraints': None,\n",
       " 'interaction_constraints': None,\n",
       " 'importance_type': None,\n",
       " 'device': None,\n",
       " 'validate_parameters': None,\n",
       " 'enable_categorical': False,\n",
       " 'feature_types': None,\n",
       " 'max_cat_to_onehot': None,\n",
       " 'max_cat_threshold': None,\n",
       " 'multi_strategy': None,\n",
       " 'eval_metric': None,\n",
       " 'early_stopping_rounds': None,\n",
       " 'callbacks': None,\n",
       " 'n_classes_': 3,\n",
       " '_Booster': <xgboost.core.Booster at 0x25f3c0be290>}"
      ]
     },
     "execution_count": 42,
     "metadata": {},
     "output_type": "execute_result"
    }
   ],
   "execution_count": 42
  },
  {
   "metadata": {},
   "cell_type": "code",
   "outputs": [],
   "execution_count": null,
   "source": "",
   "id": "2c8bb2994a9fbd6a"
  },
  {
   "metadata": {
    "ExecuteTime": {
     "end_time": "2024-11-02T02:24:58.053056800Z",
     "start_time": "2024-11-02T00:25:06.829024Z"
    }
   },
   "cell_type": "code",
   "outputs": [
    {
     "ename": "AttributeError",
     "evalue": "'XGBClassifier' object has no attribute 'estimator'",
     "output_type": "error",
     "traceback": [
      "\u001B[1;31m---------------------------------------------------------------------------\u001B[0m",
      "\u001B[1;31mAttributeError\u001B[0m                            Traceback (most recent call last)",
      "Cell \u001B[1;32mIn[26], line 1\u001B[0m\n\u001B[1;32m----> 1\u001B[0m pipeline\u001B[38;5;241m.\u001B[39mfitted_classifiers[\u001B[38;5;124m\"\u001B[39m\u001B[38;5;124mXGBClassifier8\u001B[39m\u001B[38;5;124m\"\u001B[39m]\u001B[38;5;241m.\u001B[39mestimator\n",
      "\u001B[1;31mAttributeError\u001B[0m: 'XGBClassifier' object has no attribute 'estimator'"
     ]
    }
   ],
   "execution_count": 26,
   "source": "",
   "id": "cd134bee03f4114b"
  },
  {
   "metadata": {},
   "cell_type": "markdown",
   "source": [
    "___\n",
    "SMOTETomek"
   ],
   "id": "e5d1612e8e3351b4"
  },
  {
   "metadata": {
    "ExecuteTime": {
     "end_time": "2024-11-02T02:24:58.053056800Z",
     "start_time": "2024-11-01T23:43:47.149720Z"
    }
   },
   "cell_type": "code",
   "source": "print(\"DONE\")",
   "id": "52cd819ee2a597bf",
   "outputs": [
    {
     "name": "stdout",
     "output_type": "stream",
     "text": [
      "DONE\n"
     ]
    }
   ],
   "execution_count": 20
  },
  {
   "metadata": {
    "ExecuteTime": {
     "end_time": "2024-11-02T02:24:58.053056800Z",
     "start_time": "2024-11-01T23:43:47.197755Z"
    }
   },
   "cell_type": "code",
   "source": "",
   "id": "66872df202609437",
   "outputs": [],
   "execution_count": null
  }
 ],
 "metadata": {
  "kernelspec": {
   "display_name": "Python 3",
   "language": "python",
   "name": "python3"
  },
  "language_info": {
   "codemirror_mode": {
    "name": "ipython",
    "version": 2
   },
   "file_extension": ".py",
   "mimetype": "text/x-python",
   "name": "python",
   "nbconvert_exporter": "python",
   "pygments_lexer": "ipython2",
   "version": "2.7.6"
  }
 },
 "nbformat": 4,
 "nbformat_minor": 5
}

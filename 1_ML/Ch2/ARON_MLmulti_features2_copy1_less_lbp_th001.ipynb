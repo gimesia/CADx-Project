{
 "cells": [
  {
   "cell_type": "code",
   "id": "initial_id",
   "metadata": {
    "collapsed": true,
    "ExecuteTime": {
     "end_time": "2024-11-02T15:05:43.387961Z",
     "start_time": "2024-11-02T15:05:43.381418Z"
    }
   },
   "source": [
    "import numpy as np\n",
    "from sklearn.metrics import confusion_matrix, recall_score, cohen_kappa_score\n",
    "\n",
    "from utils.loader import FactoryLoader\n",
    "from utils.ml import MLPipeline\n",
    "from utils.preprocessing import PreprocessingFactory\n",
    "from utils.feature_extraction import *\n",
    "from utils.utils import *\n",
    "\n",
    "VAL_PATH = r\"C:\\Users\\gimes\\Src\\repos\\CADx-Project\\dataset\\multiclass\\val\"\n",
    "TRAIN_PATH = r\"C:\\Users\\gimes\\Src\\repos\\CADx-Project\\dataset\\multiclass\\train\""
   ],
   "outputs": [],
   "execution_count": 7
  },
  {
   "metadata": {
    "ExecuteTime": {
     "end_time": "2024-11-02T15:07:35.576749Z",
     "start_time": "2024-11-02T15:07:35.537967Z"
    }
   },
   "cell_type": "code",
   "source": [
    "percent = 100\n",
    "random = False\n",
    "batch_size = 48\n",
    "th = 0.01\n",
    "\n",
    "# Initialize the FactoryLoader\n",
    "factory = PreprocessingFactory()\n",
    "factory.gaussian_smoothing(5)\n",
    "factory.clahe(clip_limit=1.5)\n",
    "factory.pad2square(fill=np.nan)\n",
    "factory.resize((150,150))\n",
    "factory.hair_removal()\n",
    "factory.normalize2float()\n",
    "\n",
    "factory_loader = FactoryLoader(path=VAL_PATH, batch_size=batch_size, factory=factory, percentage=percent, shuffle=random)\n",
    "\n",
    "# Create the feature extraction pipeline strategy and add desired features\n",
    "strategy = FeatureExtractionStrategy()\n",
    "\n",
    "strategy.add_extractor(GradientExtractor(threshold=th))   # Add variance feature\n",
    "\n",
    "# strategy.add_extractor(MeanExtractor())  # Add mean feature\n",
    "# strategy.add_extractor(StdExtractor())   # Add standard deviation feature\n",
    "strategy.add_extractor(VarExtractor(\"rgb\", threshold=th))   # Add variance feature\n",
    "strategy.add_extractor(ColorMomentsExtractor(\"rgb\", threshold=th))   # Add color moments feature\n",
    "\n",
    "\n",
    "# strategy.add_extractor(MeanExtractor(\"lab\"))  # Add mean feature\n",
    "# strategy.add_extractor(StdExtractor(\"lab\"))   # Add standard deviation feature\n",
    "strategy.add_extractor(VarExtractor(\"lab\", threshold=th))   # Add variance feature\n",
    "strategy.add_extractor(ColorMomentsExtractor(\"lab\", threshold=th))   # Add color moments feature\n",
    "\n",
    "# strategy.add_extractor(MeanExtractor(\"hsv\"))  # Add mean feature\n",
    "# strategy.add_extractor(StdExtractor(\"hsv\"))   # Add standard deviation feature\n",
    "strategy.add_extractor(VarExtractor(\"hsv\", threshold=th))   # Add variance feature\n",
    "strategy.add_extractor(ColorMomentsExtractor(\"hsv\", threshold=th))   # Add color moments feature\n",
    "\n",
    "strategy.add_extractor(LBPExtractor(radius=1, n_points=64))\n",
    "strategy.add_extractor(LBPExtractor(radius=2, n_points=64))\n",
    "strategy.add_extractor(LBPExtractor(radius=3, n_points=64))\n",
    "\n",
    "strategy.add_extractor(GLCMExtractor(properties=['contrast', 'dissimilarity', 'homogeneity', 'energy', 'correlation',]))\n",
    "\n",
    "pipeline = MLPipeline(dataset_path=TRAIN_PATH, preprocessing_factory=factory, feature_strategy=strategy, classifiers=[], percentage=percent, verbose=True, shuffle=random, batch_size=batch_size)"
   ],
   "id": "d7c81ba220d9e517",
   "outputs": [
    {
     "name": "stderr",
     "output_type": "stream",
     "text": [
      "INFO:utils.ml:MLPipeline initialized with dataset path: C:\\Users\\gimes\\Src\\repos\\CADx-Project\\dataset\\multiclass\\train\n",
      "INFO:utils.ml:Preprocessing steps\n"
     ]
    }
   ],
   "execution_count": 14
  },
  {
   "metadata": {
    "ExecuteTime": {
     "end_time": "2024-11-02T15:15:51.620193Z",
     "start_time": "2024-11-02T15:07:36.630947Z"
    }
   },
   "cell_type": "code",
   "source": [
    "pipeline.feature_matrix = None\n",
    "pipeline.run_feature_extraction()"
   ],
   "id": "21f510c52296a049",
   "outputs": [
    {
     "name": "stderr",
     "output_type": "stream",
     "text": [
      "INFO:utils.ml:Running feature extraction...\n"
     ]
    },
    {
     "name": "stdout",
     "output_type": "stream",
     "text": [
      "Processed 5/106 batches.\n",
      "Processed 10/106 batches.\n",
      "Processed 15/106 batches.\n",
      "Processed 20/106 batches.\n",
      "Processed 25/106 batches.\n",
      "Processed 30/106 batches.\n",
      "Processed 35/106 batches.\n",
      "Processed 40/106 batches.\n",
      "Processed 45/106 batches.\n",
      "Processed 50/106 batches.\n",
      "Processed 55/106 batches.\n",
      "Processed 60/106 batches.\n",
      "Processed 65/106 batches.\n",
      "Processed 70/106 batches.\n",
      "Processed 75/106 batches.\n",
      "Processed 80/106 batches.\n",
      "Processed 85/106 batches.\n",
      "Processed 90/106 batches.\n",
      "Processed 95/106 batches.\n",
      "Processed 100/106 batches.\n",
      "Processed 105/106 batches.\n"
     ]
    },
    {
     "name": "stderr",
     "output_type": "stream",
     "text": [
      "INFO:utils.ml:Feature extraction completed. Extracted 5082 features.\n"
     ]
    },
    {
     "name": "stdout",
     "output_type": "stream",
     "text": [
      "Processed 106/106 batches.\n"
     ]
    }
   ],
   "execution_count": 15
  },
  {
   "metadata": {
    "ExecuteTime": {
     "end_time": "2024-11-02T15:31:38.696625Z",
     "start_time": "2024-11-02T15:31:38.675831Z"
    }
   },
   "cell_type": "code",
   "source": [
    "from xgboost import XGBClassifier\n",
    "from sklearn.ensemble import RandomForestClassifier\n",
    "\n",
    "rf1 = RandomForestClassifier(n_estimators=100)\n",
    "rf2 = RandomForestClassifier(n_estimators=150)\n",
    "# Random Forest with Out-of-Bag Error (OOB)\n",
    "rf3 = RandomForestClassifier(n_estimators=100, oob_score=True, random_state=42)\n",
    "# Random Forest with Bootstrap Disabled\n",
    "rf4 = RandomForestClassifier(n_estimators=100, bootstrap=False, random_state=42)\n",
    "# Random Forest with Out-of-Bag Error (OOB)\n",
    "rf5 = RandomForestClassifier(n_estimators=150, oob_score=True, random_state=42)\n",
    "# Random Forest with Bootstrap Disabled\n",
    "rf6 = RandomForestClassifier(n_estimators=150, bootstrap=False, random_state=42)\n",
    "# Random Forest with Out-of-Bag Error (OOB)\n",
    "rf7 = RandomForestClassifier(n_estimators=200, oob_score=True, random_state=42)\n",
    "# Random Forest with Bootstrap Disabled\n",
    "rf8 = RandomForestClassifier(n_estimators=200, bootstrap=False, random_state=42)\n",
    "\n",
    "\n",
    "xgb1 = XGBClassifier(n_estimators=350)\n",
    "xgb2 = XGBClassifier(n_estimators=450)\n",
    "xgb3 = XGBClassifier(n_estimators=550)\n",
    "xgb4 = XGBClassifier(learning_rate=0.05, n_estimators=400, max_depth=3, min_child_weight=4, subsample=0.8, colsample_bytree=0.8)\n",
    "xgb5 = XGBClassifier(learning_rate=0.1, n_estimators=400, max_depth=7, min_child_weight=3, subsample=0.7, colsample_bytree=0.7) # 2ND\n",
    "xgb6 = XGBClassifier(learning_rate=0.1, n_estimators=400, max_depth=5, min_child_weight=5, gamma=0.2, subsample=0.8, colsample_bytree=0.8) # THIS\n",
    "xgb7 = XGBClassifier(learning_rate=0.1, n_estimators=400, max_depth=5, min_child_weight=1, subsample=0.8, colsample_bytree=0.8, reg_alpha=0.1, reg_lambda=0.1)\n",
    "xgb8 = XGBClassifier(learning_rate=0.05, n_estimators=500, max_depth=7, min_child_weight=1, subsample=0.8, colsample_bytree=0.8)\n",
    "xgb9 = XGBClassifier(learning_rate=0.05, n_estimators=400, max_depth=7, min_child_weight=1, subsample=0.8, colsample_bytree=0.8)\n",
    "xgb10 = XGBClassifier(learning_rate=0.1, n_estimators=400, max_depth=7, min_child_weight=1, subsample=0.8, colsample_bytree=0.8)\n",
    "xgb11 = XGBClassifier(learning_rate=0.1, n_estimators=500, max_depth=7, min_child_weight=1, subsample=0.8, colsample_bytree=0.8)\n",
    "\n",
    "\n",
    "pipeline.classifiers = [rf1, rf2, rf3, rf4, rf5, rf6, rf7, rf8,\n",
    "                        # svm1, svm2, svm3, svm6, svm7, svm8,\n",
    "                        xgb1, xgb2, xgb3, xgb4, xgb5, xgb6, xgb7, xgb8, xgb9, xgb10, xgb11]\n",
    "pipeline.fitted_classifiers = {}"
   ],
   "id": "74470ba20848a156",
   "outputs": [],
   "execution_count": 17
  },
  {
   "metadata": {
    "ExecuteTime": {
     "end_time": "2024-11-02T15:35:01.775457Z",
     "start_time": "2024-11-02T15:31:38.832690Z"
    }
   },
   "cell_type": "code",
   "source": "pipeline.fit_classifiers()",
   "id": "5269ac4d3392fbae",
   "outputs": [
    {
     "name": "stderr",
     "output_type": "stream",
     "text": [
      "INFO:utils.ml:Fitting classifiers...\n",
      "INFO:utils.ml:Fitting classifier: RandomForestClassifier0\n",
      "INFO:utils.ml:Top 10 features for RandomForestClassifier0: [('color_moments_lab_channel_0_skew', 0.0342975155693196), ('color_moments_hsv_channel_0_mean', 0.033545375593476374), ('var_lab_channel_0', 0.015602060472905275), ('var_rgb_channel_2', 0.013664066673240832), ('var_rgb_channel_0', 0.012676896424172114), ('gradient_magnitude_std', 0.01261425410469912), ('var_lab_channel_2', 0.01163617256257109), ('color_moments_rgb_channel_1_mean', 0.010941601988387128), ('color_moments_rgb_channel_0_skew', 0.010772026640488099), ('color_moments_lab_channel_2_mean', 0.00972442609331286)]\n",
      "INFO:utils.ml:Fitted classifier: RandomForestClassifier0; Done in 3.9151217937469482 seconds\n",
      "INFO:utils.ml:Fitting classifier: RandomForestClassifier1\n",
      "INFO:utils.ml:Top 10 features for RandomForestClassifier1: [('color_moments_hsv_channel_0_mean', 0.03548735228358175), ('color_moments_lab_channel_0_skew', 0.03335323267662206), ('var_rgb_channel_2', 0.015801705803714428), ('var_lab_channel_0', 0.014540050615152109), ('gradient_magnitude_std', 0.013266663204598706), ('color_moments_rgb_channel_1_mean', 0.012298140127501639), ('color_moments_rgb_channel_0_std', 0.010268254052264043), ('color_moments_rgb_channel_0_skew', 0.010118044810850706), ('var_rgb_channel_1', 0.009939068773452343), ('color_moments_hsv_channel_0_std', 0.009554083050806584)]\n",
      "INFO:utils.ml:Fitted classifier: RandomForestClassifier1; Done in 5.834132194519043 seconds\n",
      "INFO:utils.ml:Fitting classifier: RandomForestClassifier2\n",
      "INFO:utils.ml:Top 10 features for RandomForestClassifier2: [('color_moments_hsv_channel_0_mean', 0.036650830382736324), ('color_moments_lab_channel_0_skew', 0.03588914057912002), ('var_rgb_channel_2', 0.015993339306517786), ('color_moments_rgb_channel_1_mean', 0.014247775202701264), ('var_lab_channel_0', 0.013520769559019702), ('gradient_magnitude_std', 0.011729713144862805), ('var_rgb_channel_0', 0.011063151229010736), ('color_moments_lab_channel_0_mean', 0.010287439869476755), ('var_lab_channel_2', 0.010256189780650198), ('color_moments_rgb_channel_0_skew', 0.010201519618237663)]\n",
      "INFO:utils.ml:Fitted classifier: RandomForestClassifier2; Done in 3.9468283653259277 seconds\n",
      "INFO:utils.ml:Fitting classifier: RandomForestClassifier3\n",
      "INFO:utils.ml:Top 10 features for RandomForestClassifier3: [('color_moments_hsv_channel_0_mean', 0.03709949189968301), ('color_moments_lab_channel_0_skew', 0.03671401051828896), ('var_rgb_channel_2', 0.01448782892355074), ('color_moments_rgb_channel_1_mean', 0.013638394161841897), ('var_lab_channel_0', 0.013218255643705813), ('color_moments_rgb_channel_0_std', 0.012909935048386589), ('var_rgb_channel_0', 0.012333568060959265), ('color_moments_rgb_channel_1_skew', 0.011366357257297077), ('gradient_magnitude_std', 0.011262572183678434), ('color_moments_rgb_channel_0_skew', 0.010979428756539657)]\n",
      "INFO:utils.ml:Fitted classifier: RandomForestClassifier3; Done in 5.637324333190918 seconds\n",
      "INFO:utils.ml:Fitting classifier: RandomForestClassifier4\n",
      "INFO:utils.ml:Top 10 features for RandomForestClassifier4: [('color_moments_hsv_channel_0_mean', 0.035056279477516834), ('color_moments_lab_channel_0_skew', 0.03335356912152559), ('var_rgb_channel_2', 0.016176926622391192), ('color_moments_rgb_channel_1_mean', 0.013813167319204765), ('var_lab_channel_0', 0.01360270339280289), ('gradient_magnitude_std', 0.012803245950411067), ('var_rgb_channel_0', 0.011296169615058886), ('lbp_rad1_bins64_58', 0.010689929177422302), ('color_moments_lab_channel_2_mean', 0.01012885041286186), ('color_moments_rgb_channel_0_skew', 0.00995335561020446)]\n",
      "INFO:utils.ml:Fitted classifier: RandomForestClassifier4; Done in 6.131892919540405 seconds\n",
      "INFO:utils.ml:Fitting classifier: RandomForestClassifier5\n",
      "INFO:utils.ml:Top 10 features for RandomForestClassifier5: [('color_moments_lab_channel_0_skew', 0.03641870821273761), ('color_moments_hsv_channel_0_mean', 0.03472847626402845), ('var_rgb_channel_2', 0.015162892701108469), ('var_lab_channel_0', 0.0145304457846197), ('color_moments_rgb_channel_1_mean', 0.013635502997516032), ('gradient_magnitude_std', 0.012490191077908342), ('color_moments_rgb_channel_0_std', 0.011649270028058437), ('var_rgb_channel_0', 0.011578392545278817), ('color_moments_rgb_channel_1_skew', 0.010658146221102591), ('color_moments_rgb_channel_0_skew', 0.010137359108337652)]\n",
      "INFO:utils.ml:Fitted classifier: RandomForestClassifier5; Done in 8.303156614303589 seconds\n",
      "INFO:utils.ml:Fitting classifier: RandomForestClassifier6\n",
      "INFO:utils.ml:Top 10 features for RandomForestClassifier6: [('color_moments_hsv_channel_0_mean', 0.035475352850581864), ('color_moments_lab_channel_0_skew', 0.034657603930650704), ('var_lab_channel_0', 0.01547272375766242), ('var_rgb_channel_2', 0.015356657158777518), ('gradient_magnitude_std', 0.012939973186189805), ('color_moments_rgb_channel_1_mean', 0.012681664129862453), ('var_rgb_channel_0', 0.010937516315923783), ('lbp_rad1_bins64_58', 0.010509082399424276), ('color_moments_lab_channel_2_mean', 0.010159791671658652), ('var_lab_channel_2', 0.01011066654204337)]\n",
      "INFO:utils.ml:Fitted classifier: RandomForestClassifier6; Done in 9.121111154556274 seconds\n",
      "INFO:utils.ml:Fitting classifier: RandomForestClassifier7\n",
      "INFO:utils.ml:Top 10 features for RandomForestClassifier7: [('color_moments_hsv_channel_0_mean', 0.036873980330488526), ('color_moments_lab_channel_0_skew', 0.03495844859159497), ('var_lab_channel_0', 0.015713295861571826), ('var_rgb_channel_2', 0.014961013668929435), ('gradient_magnitude_std', 0.013675738770749539), ('color_moments_rgb_channel_1_mean', 0.012401784320933569), ('color_moments_rgb_channel_0_std', 0.010691345813846858), ('var_rgb_channel_0', 0.010682360130503088), ('color_moments_rgb_channel_0_skew', 0.010362502679568035), ('var_lab_channel_2', 0.010183498747320633)]\n",
      "INFO:utils.ml:Fitted classifier: RandomForestClassifier7; Done in 15.504475355148315 seconds\n",
      "INFO:utils.ml:Fitting classifier: XGBClassifier8\n",
      "INFO:utils.ml:Top 10 features for XGBClassifier8: [('color_moments_lab_channel_0_skew', 0.028109422), ('lbp_rad1_bins64_63', 0.022525191), ('lbp_rad1_bins64_26', 0.018217906), ('var_rgb_channel_2', 0.014574331), ('lbp_rad3_bins64_43', 0.013881389), ('lbp_rad1_bins64_58', 0.013864138), ('lbp_rad1_bins64_31', 0.013378738), ('lbp_rad3_bins64_45', 0.012474189), ('var_rgb_channel_0', 0.011388453), ('color_moments_rgb_channel_1_mean', 0.010694298)]\n",
      "INFO:utils.ml:Fitted classifier: XGBClassifier8; Done in 8.169288873672485 seconds\n",
      "INFO:utils.ml:Fitting classifier: XGBClassifier9\n",
      "INFO:utils.ml:Top 10 features for XGBClassifier9: [('color_moments_lab_channel_0_skew', 0.028245993), ('lbp_rad1_bins64_63', 0.021156227), ('lbp_rad1_bins64_26', 0.01828453), ('var_rgb_channel_2', 0.014964044), ('lbp_rad3_bins64_43', 0.014690539), ('lbp_rad1_bins64_58', 0.014144606), ('lbp_rad1_bins64_31', 0.01382667), ('lbp_rad3_bins64_45', 0.012144375), ('var_rgb_channel_0', 0.011443913), ('color_moments_rgb_channel_1_mean', 0.010560296)]\n",
      "INFO:utils.ml:Fitted classifier: XGBClassifier9; Done in 9.375371217727661 seconds\n",
      "INFO:utils.ml:Fitting classifier: XGBClassifier10\n",
      "INFO:utils.ml:Top 10 features for XGBClassifier10: [('color_moments_lab_channel_0_skew', 0.028050922), ('lbp_rad1_bins64_63', 0.021943836), ('lbp_rad1_bins64_26', 0.018244253), ('lbp_rad3_bins64_43', 0.015182094), ('var_rgb_channel_2', 0.014744432), ('lbp_rad1_bins64_58', 0.014262373), ('lbp_rad1_bins64_31', 0.013529987), ('lbp_rad3_bins64_45', 0.012002431), ('var_rgb_channel_0', 0.011654134), ('color_moments_rgb_channel_1_mean', 0.010755629)]\n",
      "INFO:utils.ml:Fitted classifier: XGBClassifier10; Done in 11.501270771026611 seconds\n",
      "INFO:utils.ml:Fitting classifier: XGBClassifier11\n",
      "INFO:utils.ml:Top 10 features for XGBClassifier11: [('color_moments_hsv_channel_0_mean', 0.03455628), ('color_moments_lab_channel_0_skew', 0.022049503), ('lbp_rad1_bins64_63', 0.015209252), ('lbp_rad1_bins64_58', 0.013962437), ('lbp_rad1_bins64_26', 0.013015783), ('lbp_rad1_bins64_31', 0.011108039), ('color_moments_rgb_channel_0_std', 0.01017869), ('lbp_rad2_bins64_29', 0.00959261), ('lbp_rad1_bins64_39', 0.008941906), ('var_rgb_channel_0', 0.008914822)]\n",
      "INFO:utils.ml:Fitted classifier: XGBClassifier11; Done in 5.687541723251343 seconds\n",
      "INFO:utils.ml:Fitting classifier: XGBClassifier12\n",
      "INFO:utils.ml:Top 10 features for XGBClassifier12: [('color_moments_hsv_channel_0_mean', 0.021219522), ('color_moments_lab_channel_0_skew', 0.018783633), ('lbp_rad1_bins64_31', 0.013176308), ('lbp_rad1_bins64_58', 0.012208679), ('lbp_rad1_bins64_63', 0.011984608), ('var_rgb_channel_2', 0.011768086), ('var_lab_channel_0', 0.01129866), ('lbp_rad1_bins64_26', 0.01076282), ('var_rgb_channel_0', 0.009940543), ('color_moments_rgb_channel_1_mean', 0.008929379)]\n",
      "INFO:utils.ml:Fitted classifier: XGBClassifier12; Done in 12.557408809661865 seconds\n",
      "INFO:utils.ml:Fitting classifier: XGBClassifier13\n",
      "INFO:utils.ml:Top 10 features for XGBClassifier13: [('color_moments_hsv_channel_0_mean', 0.032327127), ('color_moments_lab_channel_0_skew', 0.02055151), ('lbp_rad1_bins64_63', 0.013893332), ('lbp_rad1_bins64_58', 0.012765289), ('lbp_rad1_bins64_26', 0.0124364365), ('var_lab_channel_0', 0.010537424), ('var_rgb_channel_2', 0.009690055), ('lbp_rad1_bins64_31', 0.009654438), ('color_moments_rgb_channel_1_mean', 0.009408701), ('var_rgb_channel_0', 0.008882675)]\n",
      "INFO:utils.ml:Fitted classifier: XGBClassifier13; Done in 9.172435998916626 seconds\n",
      "INFO:utils.ml:Fitting classifier: XGBClassifier14\n",
      "INFO:utils.ml:Top 10 features for XGBClassifier14: [('color_moments_hsv_channel_0_mean', 0.031030314), ('color_moments_lab_channel_0_skew', 0.020465404), ('lbp_rad1_bins64_58', 0.014096224), ('lbp_rad1_bins64_63', 0.013822921), ('lbp_rad1_bins64_26', 0.01360913), ('lbp_rad1_bins64_31', 0.011984483), ('color_moments_rgb_channel_0_std', 0.01115238), ('var_lab_channel_0', 0.010989717), ('var_rgb_channel_0', 0.00959416), ('color_moments_rgb_channel_1_mean', 0.009514482)]\n",
      "INFO:utils.ml:Fitted classifier: XGBClassifier14; Done in 12.924483299255371 seconds\n",
      "INFO:utils.ml:Fitting classifier: XGBClassifier15\n",
      "INFO:utils.ml:Top 10 features for XGBClassifier15: [('color_moments_hsv_channel_0_mean', 0.027132807), ('color_moments_lab_channel_0_skew', 0.021462657), ('lbp_rad1_bins64_63', 0.012920584), ('lbp_rad1_bins64_58', 0.012631228), ('lbp_rad1_bins64_26', 0.0111485105), ('lbp_rad1_bins64_31', 0.010636799), ('var_lab_channel_0', 0.01027107), ('var_rgb_channel_2', 0.009911329), ('color_moments_rgb_channel_0_std', 0.0090781925), ('color_moments_rgb_channel_1_mean', 0.008995321)]\n",
      "INFO:utils.ml:Fitted classifier: XGBClassifier15; Done in 25.98114037513733 seconds\n",
      "INFO:utils.ml:Fitting classifier: XGBClassifier16\n",
      "INFO:utils.ml:Top 10 features for XGBClassifier16: [('color_moments_hsv_channel_0_mean', 0.027287431), ('color_moments_lab_channel_0_skew', 0.021373643), ('lbp_rad1_bins64_63', 0.012692557), ('lbp_rad1_bins64_58', 0.012356794), ('lbp_rad1_bins64_26', 0.010948301), ('lbp_rad1_bins64_31', 0.0104992725), ('var_lab_channel_0', 0.010232015), ('var_rgb_channel_2', 0.009505829), ('color_moments_rgb_channel_1_mean', 0.008877072), ('color_moments_rgb_channel_0_std', 0.008875439)]\n",
      "INFO:utils.ml:Fitted classifier: XGBClassifier16; Done in 19.21811532974243 seconds\n",
      "INFO:utils.ml:Fitting classifier: XGBClassifier17\n",
      "INFO:utils.ml:Top 10 features for XGBClassifier17: [('color_moments_hsv_channel_0_mean', 0.03340832), ('color_moments_lab_channel_0_skew', 0.020085227), ('lbp_rad1_bins64_58', 0.013708036), ('lbp_rad1_bins64_26', 0.012892891), ('lbp_rad1_bins64_63', 0.012557231), ('lbp_rad1_bins64_31', 0.0106781805), ('var_rgb_channel_2', 0.010170722), ('var_lab_channel_0', 0.009485522), ('color_moments_rgb_channel_1_mean', 0.009448824), ('var_rgb_channel_0', 0.009082542)]\n",
      "INFO:utils.ml:Fitted classifier: XGBClassifier17; Done in 14.027625799179077 seconds\n",
      "INFO:utils.ml:Fitting classifier: XGBClassifier18\n",
      "INFO:utils.ml:Top 10 features for XGBClassifier18: [('color_moments_hsv_channel_0_mean', 0.032356538), ('color_moments_lab_channel_0_skew', 0.020217558), ('lbp_rad1_bins64_58', 0.014020321), ('lbp_rad1_bins64_26', 0.013312691), ('lbp_rad1_bins64_63', 0.012783603), ('lbp_rad1_bins64_31', 0.010864207), ('var_rgb_channel_2', 0.010425765), ('var_lab_channel_0', 0.010189619), ('color_moments_rgb_channel_1_mean', 0.009662792), ('var_rgb_channel_0', 0.009323493)]\n",
      "INFO:utils.ml:Fitted classifier: XGBClassifier18; Done in 15.886615991592407 seconds\n",
      "INFO:utils.ml:Fitting completed in 202.91 seconds.\n"
     ]
    }
   ],
   "execution_count": 18
  },
  {
   "metadata": {
    "ExecuteTime": {
     "end_time": "2024-11-02T15:37:43.040736Z",
     "start_time": "2024-11-02T15:35:01.775457Z"
    }
   },
   "cell_type": "code",
   "source": "pipeline.predict_with_classifiers(VAL_PATH)",
   "id": "f71e18a07f5ee7bb",
   "outputs": [
    {
     "name": "stderr",
     "output_type": "stream",
     "text": [
      "INFO:utils.ml:Predicting with classifiers on dataset: C:\\Users\\gimes\\Src\\repos\\CADx-Project\\dataset\\multiclass\\val\n"
     ]
    },
    {
     "name": "stdout",
     "output_type": "stream",
     "text": [
      "Processed 5/27 batches.\n",
      "Processed 10/27 batches.\n",
      "Processed 15/27 batches.\n",
      "Processed 20/27 batches.\n",
      "Processed 25/27 batches.\n"
     ]
    },
    {
     "name": "stderr",
     "output_type": "stream",
     "text": [
      "INFO:utils.ml:Predictions made with classifier: RandomForestClassifier0\n",
      "INFO:utils.ml:Predictions made with classifier: RandomForestClassifier1\n",
      "INFO:utils.ml:Predictions made with classifier: RandomForestClassifier2\n",
      "INFO:utils.ml:Predictions made with classifier: RandomForestClassifier3\n",
      "INFO:utils.ml:Predictions made with classifier: RandomForestClassifier4\n",
      "INFO:utils.ml:Predictions made with classifier: RandomForestClassifier5\n",
      "INFO:utils.ml:Predictions made with classifier: RandomForestClassifier6\n"
     ]
    },
    {
     "name": "stdout",
     "output_type": "stream",
     "text": [
      "Processed 27/27 batches.\n"
     ]
    },
    {
     "name": "stderr",
     "output_type": "stream",
     "text": [
      "INFO:utils.ml:Predictions made with classifier: RandomForestClassifier7\n",
      "INFO:utils.ml:Predictions made with classifier: XGBClassifier8\n",
      "INFO:utils.ml:Predictions made with classifier: XGBClassifier9\n",
      "INFO:utils.ml:Predictions made with classifier: XGBClassifier10\n",
      "INFO:utils.ml:Predictions made with classifier: XGBClassifier11\n",
      "INFO:utils.ml:Predictions made with classifier: XGBClassifier12\n",
      "INFO:utils.ml:Predictions made with classifier: XGBClassifier13\n",
      "INFO:utils.ml:Predictions made with classifier: XGBClassifier14\n",
      "INFO:utils.ml:Predictions made with classifier: XGBClassifier15\n",
      "INFO:utils.ml:Predictions made with classifier: XGBClassifier16\n",
      "INFO:utils.ml:Predictions made with classifier: XGBClassifier17\n",
      "INFO:utils.ml:Predictions made with classifier: XGBClassifier18\n"
     ]
    },
    {
     "data": {
      "text/plain": [
       "{'GT': array([0, 0, 0, ..., 2, 2, 2]),\n",
       " 'RandomForestClassifier0': array([0, 0, 1, ..., 1, 0, 0]),\n",
       " 'RandomForestClassifier1': array([0, 0, 1, ..., 1, 0, 0]),\n",
       " 'RandomForestClassifier2': array([0, 0, 1, ..., 1, 0, 0]),\n",
       " 'RandomForestClassifier3': array([0, 0, 1, ..., 1, 0, 0]),\n",
       " 'RandomForestClassifier4': array([0, 0, 1, ..., 1, 0, 0]),\n",
       " 'RandomForestClassifier5': array([0, 0, 1, ..., 1, 0, 0]),\n",
       " 'RandomForestClassifier6': array([0, 0, 1, ..., 1, 0, 0]),\n",
       " 'RandomForestClassifier7': array([0, 0, 1, ..., 1, 0, 0]),\n",
       " 'XGBClassifier8': array([0, 0, 2, ..., 1, 0, 0], dtype=int64),\n",
       " 'XGBClassifier9': array([0, 0, 2, ..., 1, 0, 0], dtype=int64),\n",
       " 'XGBClassifier10': array([0, 0, 2, ..., 1, 0, 0], dtype=int64),\n",
       " 'XGBClassifier11': array([0, 0, 2, ..., 1, 0, 0], dtype=int64),\n",
       " 'XGBClassifier12': array([0, 0, 2, ..., 1, 0, 0], dtype=int64),\n",
       " 'XGBClassifier13': array([0, 0, 2, ..., 1, 0, 0], dtype=int64),\n",
       " 'XGBClassifier14': array([0, 0, 2, ..., 1, 0, 0], dtype=int64),\n",
       " 'XGBClassifier15': array([0, 0, 2, ..., 1, 0, 0], dtype=int64),\n",
       " 'XGBClassifier16': array([0, 0, 2, ..., 1, 0, 0], dtype=int64),\n",
       " 'XGBClassifier17': array([0, 0, 2, ..., 1, 0, 0], dtype=int64),\n",
       " 'XGBClassifier18': array([0, 0, 2, ..., 1, 0, 0], dtype=int64)}"
      ]
     },
     "execution_count": 19,
     "metadata": {},
     "output_type": "execute_result"
    }
   ],
   "execution_count": 19
  },
  {
   "metadata": {
    "ExecuteTime": {
     "end_time": "2024-11-02T15:37:43.193046Z",
     "start_time": "2024-11-02T15:37:43.058779Z"
    }
   },
   "cell_type": "code",
   "source": [
    "import pandas as pd\n",
    "\n",
    "df = pd.DataFrame(data=pipeline.calculate_metrics())\n",
    "df.T"
   ],
   "id": "751fad2660242db5",
   "outputs": [
    {
     "name": "stderr",
     "output_type": "stream",
     "text": [
      "INFO:utils.ml:Metrics for classifier GT: {'accuracy': 1.0, 'precision': 1.0, 'recall': 1.0, 'f1': 1.0, 'kappa': 1.0}\n",
      "INFO:utils.ml:Metrics for classifier RandomForestClassifier0: {'accuracy': 0.8031496062992126, 'precision': 0.8646826601882781, 'recall': 0.5847400144732574, 'f1': 0.5723959382146234, 'kappa': 0.6279988564626264}\n",
      "INFO:utils.ml:Metrics for classifier RandomForestClassifier1: {'accuracy': 0.7960629921259843, 'precision': 0.6943406155047445, 'recall': 0.5726070036752798, 'f1': 0.5545305857805858, 'kappa': 0.6129543165366043}\n",
      "INFO:utils.ml:Metrics for classifier RandomForestClassifier2: {'accuracy': 0.7992125984251969, 'precision': 0.7296168875297315, 'recall': 0.5812155923007917, 'f1': 0.5695056640414822, 'kappa': 0.6202776540112094}\n",
      "INFO:utils.ml:Metrics for classifier RandomForestClassifier3: {'accuracy': 0.8110236220472441, 'precision': 0.8283856571252693, 'recall': 0.6013411582689259, 'f1': 0.6016475877441535, 'kappa': 0.6429709316490807}\n",
      "INFO:utils.ml:Metrics for classifier RandomForestClassifier4: {'accuracy': 0.7960629921259843, 'precision': 0.8601851851851853, 'recall': 0.5761945667563243, 'f1': 0.5610084651569073, 'kappa': 0.6137723566543924}\n",
      "INFO:utils.ml:Metrics for classifier RandomForestClassifier5: {'accuracy': 0.815748031496063, 'precision': 0.8730331927144567, 'recall': 0.6084116797321716, 'f1': 0.6114052738584056, 'kappa': 0.6521167056091176}\n",
      "INFO:utils.ml:Metrics for classifier RandomForestClassifier6: {'accuracy': 0.8, 'precision': 0.8630842546766493, 'recall': 0.5764868297642967, 'f1': 0.5574517136652491, 'kappa': 0.6212089186993015}\n",
      "INFO:utils.ml:Metrics for classifier RandomForestClassifier7: {'accuracy': 0.8125984251968504, 'precision': 0.8708599140043382, 'recall': 0.6064451113939219, 'f1': 0.6092945348977833, 'kappa': 0.6464679545061125}\n",
      "INFO:utils.ml:Metrics for classifier XGBClassifier8: {'accuracy': 0.8385826771653543, 'precision': 0.8108384902802351, 'recall': 0.6495927852500821, 'f1': 0.66698763225996, 'kappa': 0.6978520629851079}\n",
      "INFO:utils.ml:Metrics for classifier XGBClassifier9: {'accuracy': 0.8393700787401575, 'precision': 0.8031829437204577, 'recall': 0.6445086187970359, 'f1': 0.6581077647774013, 'kappa': 0.6991695463159069}\n",
      "INFO:utils.ml:Metrics for classifier XGBClassifier10: {'accuracy': 0.8362204724409449, 'precision': 0.8008692981318554, 'recall': 0.6423643485005105, 'f1': 0.6558161297521649, 'kappa': 0.6935271296244732}\n",
      "INFO:utils.ml:Metrics for classifier XGBClassifier11: {'accuracy': 0.8141732283464567, 'precision': 0.7780751345482013, 'recall': 0.6133596080172066, 'f1': 0.6199704770199622, 'kappa': 0.6506499319296544}\n",
      "INFO:utils.ml:Metrics for classifier XGBClassifier12: {'accuracy': 0.8346456692913385, 'precision': 0.7879218915715267, 'recall': 0.6410256604148344, 'f1': 0.6541328242322768, 'kappa': 0.6906606662336456}\n",
      "INFO:utils.ml:Metrics for classifier XGBClassifier13: {'accuracy': 0.8299212598425196, 'precision': 0.7644107196472659, 'recall': 0.6366541922412553, 'f1': 0.6495523296667002, 'kappa': 0.6815224508561}\n",
      "INFO:utils.ml:Metrics for classifier XGBClassifier14: {'accuracy': 0.8330708661417323, 'precision': 0.7819202268910174, 'recall': 0.6357440053315628, 'f1': 0.6478764602655088, 'kappa': 0.6865862062543071}\n",
      "INFO:utils.ml:Metrics for classifier XGBClassifier15: {'accuracy': 0.8385826771653543, 'precision': 0.8194318023926795, 'recall': 0.6458275202107621, 'f1': 0.6623491864580277, 'kappa': 0.6971885700461516}\n",
      "INFO:utils.ml:Metrics for classifier XGBClassifier16: {'accuracy': 0.8338582677165355, 'precision': 0.7946193921763004, 'recall': 0.6364133493744009, 'f1': 0.6488843190245858, 'kappa': 0.6879832144121318}\n",
      "INFO:utils.ml:Metrics for classifier XGBClassifier17: {'accuracy': 0.8330708661417323, 'precision': 0.7756641734975341, 'recall': 0.6328672500836207, 'f1': 0.6426678770964375, 'kappa': 0.6868326408694803}\n",
      "INFO:utils.ml:Metrics for classifier XGBClassifier18: {'accuracy': 0.8377952755905512, 'precision': 0.8060281026539079, 'recall': 0.6455135800844752, 'f1': 0.6612596467859625, 'kappa': 0.6961722488038278}\n"
     ]
    },
    {
     "name": "stdout",
     "output_type": "stream",
     "text": [
      "cannot access local variable 'report' where it is not associated with a value\n",
      "cannot access local variable 'report' where it is not associated with a value\n",
      "cannot access local variable 'report' where it is not associated with a value\n",
      "cannot access local variable 'report' where it is not associated with a value\n",
      "cannot access local variable 'report' where it is not associated with a value\n",
      "cannot access local variable 'report' where it is not associated with a value\n",
      "cannot access local variable 'report' where it is not associated with a value\n",
      "cannot access local variable 'report' where it is not associated with a value\n",
      "cannot access local variable 'report' where it is not associated with a value\n",
      "cannot access local variable 'report' where it is not associated with a value\n",
      "cannot access local variable 'report' where it is not associated with a value\n",
      "cannot access local variable 'report' where it is not associated with a value\n",
      "cannot access local variable 'report' where it is not associated with a value\n",
      "cannot access local variable 'report' where it is not associated with a value\n",
      "cannot access local variable 'report' where it is not associated with a value\n",
      "cannot access local variable 'report' where it is not associated with a value\n",
      "cannot access local variable 'report' where it is not associated with a value\n",
      "cannot access local variable 'report' where it is not associated with a value\n",
      "cannot access local variable 'report' where it is not associated with a value\n",
      "cannot access local variable 'report' where it is not associated with a value\n"
     ]
    },
    {
     "data": {
      "text/plain": [
       "                         accuracy  precision    recall        f1     kappa\n",
       "GT                       1.000000   1.000000  1.000000  1.000000  1.000000\n",
       "RandomForestClassifier0  0.803150   0.864683  0.584740  0.572396  0.627999\n",
       "RandomForestClassifier1  0.796063   0.694341  0.572607  0.554531  0.612954\n",
       "RandomForestClassifier2  0.799213   0.729617  0.581216  0.569506  0.620278\n",
       "RandomForestClassifier3  0.811024   0.828386  0.601341  0.601648  0.642971\n",
       "RandomForestClassifier4  0.796063   0.860185  0.576195  0.561008  0.613772\n",
       "RandomForestClassifier5  0.815748   0.873033  0.608412  0.611405  0.652117\n",
       "RandomForestClassifier6  0.800000   0.863084  0.576487  0.557452  0.621209\n",
       "RandomForestClassifier7  0.812598   0.870860  0.606445  0.609295  0.646468\n",
       "XGBClassifier8           0.838583   0.810838  0.649593  0.666988  0.697852\n",
       "XGBClassifier9           0.839370   0.803183  0.644509  0.658108  0.699170\n",
       "XGBClassifier10          0.836220   0.800869  0.642364  0.655816  0.693527\n",
       "XGBClassifier11          0.814173   0.778075  0.613360  0.619970  0.650650\n",
       "XGBClassifier12          0.834646   0.787922  0.641026  0.654133  0.690661\n",
       "XGBClassifier13          0.829921   0.764411  0.636654  0.649552  0.681522\n",
       "XGBClassifier14          0.833071   0.781920  0.635744  0.647876  0.686586\n",
       "XGBClassifier15          0.838583   0.819432  0.645828  0.662349  0.697189\n",
       "XGBClassifier16          0.833858   0.794619  0.636413  0.648884  0.687983\n",
       "XGBClassifier17          0.833071   0.775664  0.632867  0.642668  0.686833\n",
       "XGBClassifier18          0.837795   0.806028  0.645514  0.661260  0.696172"
      ],
      "text/html": [
       "<div>\n",
       "<style scoped>\n",
       "    .dataframe tbody tr th:only-of-type {\n",
       "        vertical-align: middle;\n",
       "    }\n",
       "\n",
       "    .dataframe tbody tr th {\n",
       "        vertical-align: top;\n",
       "    }\n",
       "\n",
       "    .dataframe thead th {\n",
       "        text-align: right;\n",
       "    }\n",
       "</style>\n",
       "<table border=\"1\" class=\"dataframe\">\n",
       "  <thead>\n",
       "    <tr style=\"text-align: right;\">\n",
       "      <th></th>\n",
       "      <th>accuracy</th>\n",
       "      <th>precision</th>\n",
       "      <th>recall</th>\n",
       "      <th>f1</th>\n",
       "      <th>kappa</th>\n",
       "    </tr>\n",
       "  </thead>\n",
       "  <tbody>\n",
       "    <tr>\n",
       "      <th>GT</th>\n",
       "      <td>1.000000</td>\n",
       "      <td>1.000000</td>\n",
       "      <td>1.000000</td>\n",
       "      <td>1.000000</td>\n",
       "      <td>1.000000</td>\n",
       "    </tr>\n",
       "    <tr>\n",
       "      <th>RandomForestClassifier0</th>\n",
       "      <td>0.803150</td>\n",
       "      <td>0.864683</td>\n",
       "      <td>0.584740</td>\n",
       "      <td>0.572396</td>\n",
       "      <td>0.627999</td>\n",
       "    </tr>\n",
       "    <tr>\n",
       "      <th>RandomForestClassifier1</th>\n",
       "      <td>0.796063</td>\n",
       "      <td>0.694341</td>\n",
       "      <td>0.572607</td>\n",
       "      <td>0.554531</td>\n",
       "      <td>0.612954</td>\n",
       "    </tr>\n",
       "    <tr>\n",
       "      <th>RandomForestClassifier2</th>\n",
       "      <td>0.799213</td>\n",
       "      <td>0.729617</td>\n",
       "      <td>0.581216</td>\n",
       "      <td>0.569506</td>\n",
       "      <td>0.620278</td>\n",
       "    </tr>\n",
       "    <tr>\n",
       "      <th>RandomForestClassifier3</th>\n",
       "      <td>0.811024</td>\n",
       "      <td>0.828386</td>\n",
       "      <td>0.601341</td>\n",
       "      <td>0.601648</td>\n",
       "      <td>0.642971</td>\n",
       "    </tr>\n",
       "    <tr>\n",
       "      <th>RandomForestClassifier4</th>\n",
       "      <td>0.796063</td>\n",
       "      <td>0.860185</td>\n",
       "      <td>0.576195</td>\n",
       "      <td>0.561008</td>\n",
       "      <td>0.613772</td>\n",
       "    </tr>\n",
       "    <tr>\n",
       "      <th>RandomForestClassifier5</th>\n",
       "      <td>0.815748</td>\n",
       "      <td>0.873033</td>\n",
       "      <td>0.608412</td>\n",
       "      <td>0.611405</td>\n",
       "      <td>0.652117</td>\n",
       "    </tr>\n",
       "    <tr>\n",
       "      <th>RandomForestClassifier6</th>\n",
       "      <td>0.800000</td>\n",
       "      <td>0.863084</td>\n",
       "      <td>0.576487</td>\n",
       "      <td>0.557452</td>\n",
       "      <td>0.621209</td>\n",
       "    </tr>\n",
       "    <tr>\n",
       "      <th>RandomForestClassifier7</th>\n",
       "      <td>0.812598</td>\n",
       "      <td>0.870860</td>\n",
       "      <td>0.606445</td>\n",
       "      <td>0.609295</td>\n",
       "      <td>0.646468</td>\n",
       "    </tr>\n",
       "    <tr>\n",
       "      <th>XGBClassifier8</th>\n",
       "      <td>0.838583</td>\n",
       "      <td>0.810838</td>\n",
       "      <td>0.649593</td>\n",
       "      <td>0.666988</td>\n",
       "      <td>0.697852</td>\n",
       "    </tr>\n",
       "    <tr>\n",
       "      <th>XGBClassifier9</th>\n",
       "      <td>0.839370</td>\n",
       "      <td>0.803183</td>\n",
       "      <td>0.644509</td>\n",
       "      <td>0.658108</td>\n",
       "      <td>0.699170</td>\n",
       "    </tr>\n",
       "    <tr>\n",
       "      <th>XGBClassifier10</th>\n",
       "      <td>0.836220</td>\n",
       "      <td>0.800869</td>\n",
       "      <td>0.642364</td>\n",
       "      <td>0.655816</td>\n",
       "      <td>0.693527</td>\n",
       "    </tr>\n",
       "    <tr>\n",
       "      <th>XGBClassifier11</th>\n",
       "      <td>0.814173</td>\n",
       "      <td>0.778075</td>\n",
       "      <td>0.613360</td>\n",
       "      <td>0.619970</td>\n",
       "      <td>0.650650</td>\n",
       "    </tr>\n",
       "    <tr>\n",
       "      <th>XGBClassifier12</th>\n",
       "      <td>0.834646</td>\n",
       "      <td>0.787922</td>\n",
       "      <td>0.641026</td>\n",
       "      <td>0.654133</td>\n",
       "      <td>0.690661</td>\n",
       "    </tr>\n",
       "    <tr>\n",
       "      <th>XGBClassifier13</th>\n",
       "      <td>0.829921</td>\n",
       "      <td>0.764411</td>\n",
       "      <td>0.636654</td>\n",
       "      <td>0.649552</td>\n",
       "      <td>0.681522</td>\n",
       "    </tr>\n",
       "    <tr>\n",
       "      <th>XGBClassifier14</th>\n",
       "      <td>0.833071</td>\n",
       "      <td>0.781920</td>\n",
       "      <td>0.635744</td>\n",
       "      <td>0.647876</td>\n",
       "      <td>0.686586</td>\n",
       "    </tr>\n",
       "    <tr>\n",
       "      <th>XGBClassifier15</th>\n",
       "      <td>0.838583</td>\n",
       "      <td>0.819432</td>\n",
       "      <td>0.645828</td>\n",
       "      <td>0.662349</td>\n",
       "      <td>0.697189</td>\n",
       "    </tr>\n",
       "    <tr>\n",
       "      <th>XGBClassifier16</th>\n",
       "      <td>0.833858</td>\n",
       "      <td>0.794619</td>\n",
       "      <td>0.636413</td>\n",
       "      <td>0.648884</td>\n",
       "      <td>0.687983</td>\n",
       "    </tr>\n",
       "    <tr>\n",
       "      <th>XGBClassifier17</th>\n",
       "      <td>0.833071</td>\n",
       "      <td>0.775664</td>\n",
       "      <td>0.632867</td>\n",
       "      <td>0.642668</td>\n",
       "      <td>0.686833</td>\n",
       "    </tr>\n",
       "    <tr>\n",
       "      <th>XGBClassifier18</th>\n",
       "      <td>0.837795</td>\n",
       "      <td>0.806028</td>\n",
       "      <td>0.645514</td>\n",
       "      <td>0.661260</td>\n",
       "      <td>0.696172</td>\n",
       "    </tr>\n",
       "  </tbody>\n",
       "</table>\n",
       "</div>"
      ]
     },
     "execution_count": 20,
     "metadata": {},
     "output_type": "execute_result"
    }
   ],
   "execution_count": 20
  },
  {
   "metadata": {},
   "cell_type": "markdown",
   "source": [
    "___\n",
    "Balance the data"
   ],
   "id": "ad0e6dcd404dcf15"
  },
  {
   "metadata": {
    "ExecuteTime": {
     "end_time": "2024-11-02T15:56:28.761053Z",
     "start_time": "2024-11-02T15:56:28.742151Z"
    }
   },
   "cell_type": "code",
   "source": [
    "# Backup\n",
    "pipeline.backup_feature_matrix = pipeline.feature_matrix.copy()\n",
    "pipeline.backup_labels = pipeline.labels.copy()"
   ],
   "id": "da1b19771d4cde2f",
   "outputs": [],
   "execution_count": 32
  },
  {
   "metadata": {
    "ExecuteTime": {
     "end_time": "2024-11-02T15:56:29.415449Z",
     "start_time": "2024-11-02T15:56:29.410173Z"
    }
   },
   "cell_type": "code",
   "source": [
    "print(pipeline.backup_feature_matrix.shape)\n",
    "print(pipeline.feature_matrix.shape)\n",
    "\n",
    "print(pipeline.backup_labels.shape)\n",
    "print(pipeline.labels.shape)"
   ],
   "id": "3425dcf3bd509008",
   "outputs": [
    {
     "name": "stdout",
     "output_type": "stream",
     "text": [
      "(8139, 252)\n",
      "(8139, 252)\n",
      "(8139,)\n",
      "(8139,)\n"
     ]
    }
   ],
   "execution_count": 33
  },
  {
   "metadata": {
    "ExecuteTime": {
     "end_time": "2024-11-02T15:56:30.139759Z",
     "start_time": "2024-11-02T15:56:30.110314Z"
    }
   },
   "cell_type": "code",
   "source": [
    "from imblearn.over_sampling import SMOTE\n",
    "\n",
    "smote = SMOTE(random_state=42)\n",
    "pipeline.feature_matrix, pipeline.labels = smote.fit_resample(pipeline.feature_matrix, pipeline.labels)"
   ],
   "id": "6f226a41aafa84b7",
   "outputs": [],
   "execution_count": 34
  },
  {
   "metadata": {
    "ExecuteTime": {
     "end_time": "2024-11-02T16:01:41.034644Z",
     "start_time": "2024-11-02T15:56:30.907331Z"
    }
   },
   "cell_type": "code",
   "source": [
    "pipeline.fitted_classifiers = {}\n",
    "pipeline.fit_classifiers()"
   ],
   "id": "e25b1eeaa9b9b112",
   "outputs": [
    {
     "name": "stderr",
     "output_type": "stream",
     "text": [
      "INFO:utils.ml:Fitting classifiers...\n",
      "INFO:utils.ml:Fitting classifier: RandomForestClassifier0\n",
      "INFO:utils.ml:Top 10 features for RandomForestClassifier0: [('color_moments_hsv_channel_0_mean', 0.02543376392934141), ('color_moments_lab_channel_0_skew', 0.01942977947940268), ('var_lab_channel_0', 0.012549320403435633), ('var_rgb_channel_2', 0.012251819087321918), ('gradient_magnitude_std', 0.011660451009505602), ('color_moments_hsv_channel_2_mean', 0.009261874273097919), ('var_rgb_channel_1', 0.009235080151220666), ('color_moments_lab_channel_0_mean', 0.00917947815955531), ('color_moments_rgb_channel_1_skew', 0.009086394315590095), ('var_lab_channel_1', 0.008908321611231002)]\n",
      "INFO:utils.ml:Fitted classifier: RandomForestClassifier0; Done in 8.520516872406006 seconds\n",
      "INFO:utils.ml:Fitting classifier: RandomForestClassifier1\n",
      "INFO:utils.ml:Fitted classifier: RandomForestClassifier1; Done in 12.410950422286987 seconds\n",
      "INFO:utils.ml:Fitting classifier: RandomForestClassifier2\n"
     ]
    },
    {
     "name": "stdout",
     "output_type": "stream",
     "text": [
      "list index out of range\n"
     ]
    },
    {
     "name": "stderr",
     "output_type": "stream",
     "text": [
      "INFO:utils.ml:Fitted classifier: RandomForestClassifier2; Done in 8.394643306732178 seconds\n",
      "INFO:utils.ml:Fitting classifier: RandomForestClassifier3\n"
     ]
    },
    {
     "name": "stdout",
     "output_type": "stream",
     "text": [
      "list index out of range\n"
     ]
    },
    {
     "name": "stderr",
     "output_type": "stream",
     "text": [
      "INFO:utils.ml:Fitted classifier: RandomForestClassifier3; Done in 12.935394763946533 seconds\n",
      "INFO:utils.ml:Fitting classifier: RandomForestClassifier4\n"
     ]
    },
    {
     "name": "stdout",
     "output_type": "stream",
     "text": [
      "list index out of range\n"
     ]
    },
    {
     "name": "stderr",
     "output_type": "stream",
     "text": [
      "INFO:utils.ml:Fitted classifier: RandomForestClassifier4; Done in 12.600427865982056 seconds\n",
      "INFO:utils.ml:Fitting classifier: RandomForestClassifier5\n"
     ]
    },
    {
     "name": "stdout",
     "output_type": "stream",
     "text": [
      "list index out of range\n"
     ]
    },
    {
     "name": "stderr",
     "output_type": "stream",
     "text": [
      "INFO:utils.ml:Fitted classifier: RandomForestClassifier5; Done in 18.30498695373535 seconds\n",
      "INFO:utils.ml:Fitting classifier: RandomForestClassifier6\n"
     ]
    },
    {
     "name": "stdout",
     "output_type": "stream",
     "text": [
      "list index out of range\n"
     ]
    },
    {
     "name": "stderr",
     "output_type": "stream",
     "text": [
      "INFO:utils.ml:Fitted classifier: RandomForestClassifier6; Done in 23.632499933242798 seconds\n",
      "INFO:utils.ml:Fitting classifier: RandomForestClassifier7\n"
     ]
    },
    {
     "name": "stdout",
     "output_type": "stream",
     "text": [
      "list index out of range\n"
     ]
    },
    {
     "name": "stderr",
     "output_type": "stream",
     "text": [
      "INFO:utils.ml:Fitted classifier: RandomForestClassifier7; Done in 72.63015031814575 seconds\n",
      "INFO:utils.ml:Fitting classifier: XGBClassifier8\n"
     ]
    },
    {
     "name": "stdout",
     "output_type": "stream",
     "text": [
      "list index out of range\n"
     ]
    },
    {
     "name": "stderr",
     "output_type": "stream",
     "text": [
      "INFO:utils.ml:Top 10 features for XGBClassifier8: [('lbp_rad2_bins64_29', 0.03065549), ('var_lab_channel_0', 0.023091719), ('color_moments_hsv_channel_0_mean', 0.02250098), ('lbp_rad1_bins64_63', 0.01604515), ('lbp_rad1_bins64_58', 0.014106697), ('color_moments_lab_channel_1_skew', 0.013196864), ('lbp_rad1_bins64_31', 0.013147571), ('color_moments_hsv_channel_2_mean', 0.011781767), ('color_moments_lab_channel_0_skew', 0.011108495), ('color_moments_lab_channel_1_std', 0.010039027)]\n",
      "INFO:utils.ml:Fitted classifier: XGBClassifier8; Done in 29.020006895065308 seconds\n",
      "INFO:utils.ml:Fitting classifier: XGBClassifier9\n",
      "INFO:utils.ml:Top 10 features for XGBClassifier9: [('lbp_rad2_bins64_29', 0.029764876), ('var_lab_channel_0', 0.02245215), ('color_moments_hsv_channel_0_mean', 0.021784041), ('lbp_rad1_bins64_63', 0.016487056), ('lbp_rad1_bins64_58', 0.014526003), ('color_moments_lab_channel_1_skew', 0.013663395), ('lbp_rad1_bins64_31', 0.012834529), ('color_moments_hsv_channel_2_mean', 0.0115637425), ('color_moments_lab_channel_0_skew', 0.011289738), ('color_moments_lab_channel_1_std', 0.009765134)]\n",
      "INFO:utils.ml:Fitted classifier: XGBClassifier9; Done in 9.262183427810669 seconds\n",
      "INFO:utils.ml:Fitting classifier: XGBClassifier10\n",
      "INFO:utils.ml:Top 10 features for XGBClassifier10: [('lbp_rad2_bins64_29', 0.030993717), ('var_lab_channel_0', 0.022654157), ('color_moments_hsv_channel_0_mean', 0.021671379), ('lbp_rad1_bins64_63', 0.01617884), ('lbp_rad1_bins64_58', 0.014712653), ('color_moments_lab_channel_1_skew', 0.013709626), ('lbp_rad1_bins64_31', 0.013376839), ('color_moments_lab_channel_0_skew', 0.011159072), ('color_moments_hsv_channel_2_mean', 0.011123657), ('color_moments_lab_channel_1_std', 0.009485753)]\n",
      "INFO:utils.ml:Fitted classifier: XGBClassifier10; Done in 10.312491655349731 seconds\n",
      "INFO:utils.ml:Fitting classifier: XGBClassifier11\n",
      "INFO:utils.ml:Top 10 features for XGBClassifier11: [('lbp_rad2_bins64_29', 0.027736166), ('color_moments_hsv_channel_0_mean', 0.021806723), ('lbp_rad2_bins64_41', 0.015520039), ('lbp_rad1_bins64_63', 0.014373715), ('color_moments_lab_channel_0_skew', 0.011673226), ('lbp_rad1_bins64_58', 0.011231403), ('color_moments_rgb_channel_1_skew', 0.011164439), ('color_moments_lab_channel_1_std', 0.0110722575), ('color_moments_lab_channel_1_skew', 0.011031869), ('lbp_rad1_bins64_33', 0.010669413)]\n",
      "INFO:utils.ml:Fitted classifier: XGBClassifier11; Done in 3.775601625442505 seconds\n",
      "INFO:utils.ml:Fitting classifier: XGBClassifier12\n",
      "INFO:utils.ml:Top 10 features for XGBClassifier12: [('lbp_rad1_bins64_31', 0.01665303), ('color_moments_hsv_channel_0_mean', 0.014110155), ('var_lab_channel_0', 0.0120571265), ('color_moments_lab_channel_0_skew', 0.011678723), ('lbp_rad2_bins64_29', 0.011370824), ('lbp_rad1_bins64_63', 0.010968575), ('var_rgb_channel_2', 0.010724761), ('color_moments_lab_channel_1_std', 0.010441878), ('lbp_rad2_bins64_41', 0.010361243), ('lbp_rad1_bins64_58', 0.009329402)]\n",
      "INFO:utils.ml:Fitted classifier: XGBClassifier12; Done in 10.376915454864502 seconds\n",
      "INFO:utils.ml:Fitting classifier: XGBClassifier13\n",
      "INFO:utils.ml:Top 10 features for XGBClassifier13: [('lbp_rad2_bins64_29', 0.024201548), ('color_moments_hsv_channel_0_mean', 0.019893631), ('lbp_rad1_bins64_31', 0.013881731), ('lbp_rad1_bins64_63', 0.013047544), ('var_lab_channel_0', 0.012734582), ('color_moments_lab_channel_1_skew', 0.01237926), ('color_moments_lab_channel_0_skew', 0.010214199), ('lbp_rad1_bins64_58', 0.010180116), ('lbp_rad1_bins64_26', 0.009655472), ('color_moments_hsv_channel_2_mean', 0.009512412)]\n",
      "INFO:utils.ml:Fitted classifier: XGBClassifier13; Done in 6.694811820983887 seconds\n",
      "INFO:utils.ml:Fitting classifier: XGBClassifier14\n",
      "INFO:utils.ml:Top 10 features for XGBClassifier14: [('lbp_rad2_bins64_29', 0.021639002), ('color_moments_hsv_channel_0_mean', 0.02137595), ('lbp_rad1_bins64_31', 0.014096501), ('var_lab_channel_0', 0.013764185), ('color_moments_lab_channel_1_skew', 0.013285782), ('lbp_rad1_bins64_63', 0.013144277), ('color_moments_lab_channel_0_skew', 0.010680115), ('lbp_rad1_bins64_58', 0.010673248), ('color_moments_rgb_channel_1_skew', 0.010304243), ('color_moments_hsv_channel_2_mean', 0.009485226)]\n",
      "INFO:utils.ml:Fitted classifier: XGBClassifier14; Done in 7.731531620025635 seconds\n",
      "INFO:utils.ml:Fitting classifier: XGBClassifier15\n",
      "INFO:utils.ml:Top 10 features for XGBClassifier15: [('lbp_rad2_bins64_29', 0.023065215), ('color_moments_hsv_channel_0_mean', 0.020571806), ('var_lab_channel_0', 0.015316154), ('lbp_rad1_bins64_63', 0.01366751), ('lbp_rad1_bins64_31', 0.0127032185), ('color_moments_lab_channel_1_skew', 0.010555228), ('color_moments_lab_channel_0_skew', 0.010198491), ('lbp_rad1_bins64_26', 0.010023003), ('color_moments_lab_channel_1_std', 0.009814686), ('color_moments_hsv_channel_2_mean', 0.008899782)]\n",
      "INFO:utils.ml:Fitted classifier: XGBClassifier15; Done in 18.472184658050537 seconds\n",
      "INFO:utils.ml:Fitting classifier: XGBClassifier16\n",
      "INFO:utils.ml:Top 10 features for XGBClassifier16: [('lbp_rad2_bins64_29', 0.02267336), ('color_moments_hsv_channel_0_mean', 0.021086773), ('var_lab_channel_0', 0.015309623), ('lbp_rad1_bins64_63', 0.013820944), ('lbp_rad1_bins64_31', 0.012065597), ('color_moments_lab_channel_1_skew', 0.01022189), ('color_moments_lab_channel_1_std', 0.010130673), ('lbp_rad1_bins64_26', 0.010002527), ('color_moments_lab_channel_0_skew', 0.0099521), ('color_moments_hsv_channel_2_mean', 0.008886039)]\n",
      "INFO:utils.ml:Fitted classifier: XGBClassifier16; Done in 15.494330406188965 seconds\n",
      "INFO:utils.ml:Fitting classifier: XGBClassifier17\n",
      "INFO:utils.ml:Top 10 features for XGBClassifier17: [('lbp_rad2_bins64_29', 0.022449598), ('color_moments_hsv_channel_0_mean', 0.019817682), ('lbp_rad1_bins64_63', 0.014559435), ('var_lab_channel_0', 0.014084231), ('lbp_rad1_bins64_31', 0.01194919), ('color_moments_rgb_channel_1_skew', 0.011755495), ('color_moments_lab_channel_1_skew', 0.0117136), ('color_moments_lab_channel_0_skew', 0.010313267), ('lbp_rad1_bins64_26', 0.009211345), ('lbp_rad1_bins64_58', 0.009174159)]\n",
      "INFO:utils.ml:Fitted classifier: XGBClassifier17; Done in 13.825078248977661 seconds\n",
      "INFO:utils.ml:Fitting classifier: XGBClassifier18\n",
      "INFO:utils.ml:Top 10 features for XGBClassifier18: [('lbp_rad2_bins64_29', 0.022569776), ('color_moments_hsv_channel_0_mean', 0.019372812), ('lbp_rad1_bins64_63', 0.014755327), ('var_lab_channel_0', 0.0140036475), ('lbp_rad1_bins64_31', 0.012270245), ('color_moments_lab_channel_1_skew', 0.011720875), ('color_moments_rgb_channel_1_skew', 0.011655347), ('color_moments_lab_channel_0_skew', 0.0104828775), ('lbp_rad1_bins64_26', 0.009397019), ('lbp_rad1_bins64_58', 0.0092263315)]\n",
      "INFO:utils.ml:Fitted classifier: XGBClassifier18; Done in 15.72023057937622 seconds\n",
      "INFO:utils.ml:Fitting completed in 310.12 seconds.\n"
     ]
    }
   ],
   "execution_count": 35
  },
  {
   "metadata": {
    "ExecuteTime": {
     "end_time": "2024-11-02T16:05:12.127281Z",
     "start_time": "2024-11-02T16:01:41.098378Z"
    }
   },
   "cell_type": "code",
   "source": "pipeline.predict_with_classifiers(VAL_PATH)",
   "id": "eaa13003ad0706a4",
   "outputs": [
    {
     "name": "stderr",
     "output_type": "stream",
     "text": [
      "INFO:utils.ml:Predicting with classifiers on dataset: C:\\Users\\gimes\\Src\\repos\\CADx-Project\\dataset\\multiclass\\val\n"
     ]
    },
    {
     "name": "stdout",
     "output_type": "stream",
     "text": [
      "Processed 5/27 batches.\n",
      "Processed 10/27 batches.\n",
      "Processed 15/27 batches.\n",
      "Processed 20/27 batches.\n",
      "Processed 25/27 batches.\n"
     ]
    },
    {
     "name": "stderr",
     "output_type": "stream",
     "text": [
      "INFO:utils.ml:Predictions made with classifier: RandomForestClassifier0\n",
      "INFO:utils.ml:Predictions made with classifier: RandomForestClassifier1\n",
      "INFO:utils.ml:Predictions made with classifier: RandomForestClassifier2\n",
      "INFO:utils.ml:Predictions made with classifier: RandomForestClassifier3\n",
      "INFO:utils.ml:Predictions made with classifier: RandomForestClassifier4\n",
      "INFO:utils.ml:Predictions made with classifier: RandomForestClassifier5\n",
      "INFO:utils.ml:Predictions made with classifier: RandomForestClassifier6\n"
     ]
    },
    {
     "name": "stdout",
     "output_type": "stream",
     "text": [
      "Processed 27/27 batches.\n"
     ]
    },
    {
     "name": "stderr",
     "output_type": "stream",
     "text": [
      "INFO:utils.ml:Predictions made with classifier: RandomForestClassifier7\n",
      "INFO:utils.ml:Predictions made with classifier: XGBClassifier8\n",
      "INFO:utils.ml:Predictions made with classifier: XGBClassifier9\n",
      "INFO:utils.ml:Predictions made with classifier: XGBClassifier10\n",
      "INFO:utils.ml:Predictions made with classifier: XGBClassifier11\n",
      "INFO:utils.ml:Predictions made with classifier: XGBClassifier12\n",
      "INFO:utils.ml:Predictions made with classifier: XGBClassifier13\n",
      "INFO:utils.ml:Predictions made with classifier: XGBClassifier14\n",
      "INFO:utils.ml:Predictions made with classifier: XGBClassifier15\n",
      "INFO:utils.ml:Predictions made with classifier: XGBClassifier16\n",
      "INFO:utils.ml:Predictions made with classifier: XGBClassifier17\n",
      "INFO:utils.ml:Predictions made with classifier: XGBClassifier18\n"
     ]
    },
    {
     "data": {
      "text/plain": [
       "{'GT': array([0, 0, 0, ..., 2, 2, 2]),\n",
       " 'RandomForestClassifier0': array([0, 0, 2, ..., 1, 0, 0]),\n",
       " 'RandomForestClassifier1': array([2, 0, 2, ..., 1, 0, 0]),\n",
       " 'RandomForestClassifier2': array([0, 0, 2, ..., 1, 0, 0]),\n",
       " 'RandomForestClassifier3': array([0, 0, 2, ..., 1, 0, 0]),\n",
       " 'RandomForestClassifier4': array([0, 0, 2, ..., 1, 0, 0]),\n",
       " 'RandomForestClassifier5': array([0, 0, 2, ..., 1, 0, 0]),\n",
       " 'RandomForestClassifier6': array([0, 0, 2, ..., 1, 0, 0]),\n",
       " 'RandomForestClassifier7': array([0, 0, 2, ..., 1, 0, 0]),\n",
       " 'XGBClassifier8': array([2, 0, 2, ..., 1, 0, 0], dtype=int64),\n",
       " 'XGBClassifier9': array([2, 0, 2, ..., 1, 0, 0], dtype=int64),\n",
       " 'XGBClassifier10': array([2, 0, 2, ..., 1, 0, 0], dtype=int64),\n",
       " 'XGBClassifier11': array([0, 0, 2, ..., 0, 0, 0], dtype=int64),\n",
       " 'XGBClassifier12': array([2, 0, 2, ..., 1, 0, 0], dtype=int64),\n",
       " 'XGBClassifier13': array([2, 0, 2, ..., 1, 2, 0], dtype=int64),\n",
       " 'XGBClassifier14': array([2, 0, 2, ..., 1, 0, 0], dtype=int64),\n",
       " 'XGBClassifier15': array([2, 0, 2, ..., 1, 0, 0], dtype=int64),\n",
       " 'XGBClassifier16': array([2, 0, 2, ..., 1, 0, 0], dtype=int64),\n",
       " 'XGBClassifier17': array([2, 0, 2, ..., 1, 0, 0], dtype=int64),\n",
       " 'XGBClassifier18': array([2, 0, 2, ..., 1, 0, 0], dtype=int64)}"
      ]
     },
     "execution_count": 36,
     "metadata": {},
     "output_type": "execute_result"
    }
   ],
   "execution_count": 36
  },
  {
   "metadata": {
    "ExecuteTime": {
     "end_time": "2024-11-02T16:08:35.683601Z",
     "start_time": "2024-11-02T16:05:12.154617Z"
    }
   },
   "cell_type": "code",
   "source": [
    "pipeline.predict_with_classifiers(VAL_PATH)\n",
    "import pandas as pd\n",
    "\n",
    "df_smote = pd.DataFrame(data=pipeline.calculate_metrics())\n",
    "df_smote = df_smote.T\n",
    "df_smote"
   ],
   "id": "441842170622e9a",
   "outputs": [
    {
     "name": "stderr",
     "output_type": "stream",
     "text": [
      "INFO:utils.ml:Predicting with classifiers on dataset: C:\\Users\\gimes\\Src\\repos\\CADx-Project\\dataset\\multiclass\\val\n"
     ]
    },
    {
     "name": "stdout",
     "output_type": "stream",
     "text": [
      "Processed 5/27 batches.\n",
      "Processed 10/27 batches.\n",
      "Processed 15/27 batches.\n",
      "Processed 20/27 batches.\n",
      "Processed 25/27 batches.\n"
     ]
    },
    {
     "name": "stderr",
     "output_type": "stream",
     "text": [
      "INFO:utils.ml:Predictions made with classifier: RandomForestClassifier0\n",
      "INFO:utils.ml:Predictions made with classifier: RandomForestClassifier1\n",
      "INFO:utils.ml:Predictions made with classifier: RandomForestClassifier2\n",
      "INFO:utils.ml:Predictions made with classifier: RandomForestClassifier3\n",
      "INFO:utils.ml:Predictions made with classifier: RandomForestClassifier4\n"
     ]
    },
    {
     "name": "stdout",
     "output_type": "stream",
     "text": [
      "Processed 27/27 batches.\n"
     ]
    },
    {
     "name": "stderr",
     "output_type": "stream",
     "text": [
      "INFO:utils.ml:Predictions made with classifier: RandomForestClassifier5\n",
      "INFO:utils.ml:Predictions made with classifier: RandomForestClassifier6\n",
      "INFO:utils.ml:Predictions made with classifier: RandomForestClassifier7\n",
      "INFO:utils.ml:Predictions made with classifier: XGBClassifier8\n",
      "INFO:utils.ml:Predictions made with classifier: XGBClassifier9\n",
      "INFO:utils.ml:Predictions made with classifier: XGBClassifier10\n",
      "INFO:utils.ml:Predictions made with classifier: XGBClassifier11\n",
      "INFO:utils.ml:Predictions made with classifier: XGBClassifier12\n",
      "INFO:utils.ml:Predictions made with classifier: XGBClassifier13\n",
      "INFO:utils.ml:Predictions made with classifier: XGBClassifier14\n",
      "INFO:utils.ml:Predictions made with classifier: XGBClassifier15\n",
      "INFO:utils.ml:Predictions made with classifier: XGBClassifier16\n",
      "INFO:utils.ml:Predictions made with classifier: XGBClassifier17\n",
      "INFO:utils.ml:Predictions made with classifier: XGBClassifier18\n",
      "INFO:utils.ml:Metrics for classifier GT: {'accuracy': 1.0, 'precision': 1.0, 'recall': 1.0, 'f1': 1.0, 'kappa': 1.0}\n",
      "INFO:utils.ml:Metrics for classifier RandomForestClassifier0: {'accuracy': 0.7866141732283465, 'precision': 0.6624263003549932, 'recall': 0.6649830351343238, 'f1': 0.662622344717478, 'kappa': 0.6197655200452521}\n",
      "INFO:utils.ml:Metrics for classifier RandomForestClassifier1: {'accuracy': 0.7968503937007874, 'precision': 0.682785153912683, 'recall': 0.6783718064374488, 'f1': 0.6791871929137775, 'kappa': 0.6366535667077704}\n",
      "INFO:utils.ml:Metrics for classifier RandomForestClassifier2: {'accuracy': 0.7992125984251969, 'precision': 0.693600276913613, 'recall': 0.6861333490618472, 'f1': 0.6883651829363359, 'kappa': 0.6403409015188197}\n",
      "INFO:utils.ml:Metrics for classifier RandomForestClassifier3: {'accuracy': 0.8102362204724409, 'precision': 0.6911836886634285, 'recall': 0.6676586468890688, 'f1': 0.6749709746451851, 'kappa': 0.6567136390350701}\n",
      "INFO:utils.ml:Metrics for classifier RandomForestClassifier4: {'accuracy': 0.7992125984251969, 'precision': 0.6886862293824318, 'recall': 0.6859556471035715, 'f1': 0.6861672678466572, 'kappa': 0.6410568456893571}\n",
      "INFO:utils.ml:Metrics for classifier RandomForestClassifier5: {'accuracy': 0.8118110236220473, 'precision': 0.7037830322551821, 'recall': 0.6778053026768468, 'f1': 0.6863146526383566, 'kappa': 0.6597853328730334}\n",
      "INFO:utils.ml:Metrics for classifier RandomForestClassifier6: {'accuracy': 0.8007874015748031, 'precision': 0.6925702925741053, 'recall': 0.6842398779830298, 'f1': 0.6867479243350779, 'kappa': 0.6430729650349029}\n",
      "INFO:utils.ml:Metrics for classifier RandomForestClassifier7: {'accuracy': 0.8196850393700787, 'precision': 0.7196980655774903, 'recall': 0.6868423924783423, 'f1': 0.6973235990552876, 'kappa': 0.673774537296691}\n",
      "INFO:utils.ml:Metrics for classifier XGBClassifier8: {'accuracy': 0.8299212598425196, 'precision': 0.7236070341378561, 'recall': 0.6997315818221735, 'f1': 0.7092278178518602, 'kappa': 0.6914188523373064}\n",
      "INFO:utils.ml:Metrics for classifier XGBClassifier9: {'accuracy': 0.8291338582677166, 'precision': 0.724373897707231, 'recall': 0.6961854825313935, 'f1': 0.7070627597771578, 'kappa': 0.6893780573025856}\n",
      "INFO:utils.ml:Metrics for classifier XGBClassifier10: {'accuracy': 0.8307086614173228, 'precision': 0.7255026455026455, 'recall': 0.6973464686587939, 'f1': 0.7082071700482401, 'kappa': 0.6922409323504881}\n",
      "INFO:utils.ml:Metrics for classifier XGBClassifier11: {'accuracy': 0.7669291338582677, 'precision': 0.6418882555029659, 'recall': 0.670163740381724, 'f1': 0.6502835152380696, 'kappa': 0.5947006615547832}\n",
      "INFO:utils.ml:Metrics for classifier XGBClassifier12: {'accuracy': 0.8275590551181102, 'precision': 0.716976131380362, 'recall': 0.6838728793287756, 'f1': 0.6952656933754232, 'kappa': 0.6861033614128227}\n",
      "INFO:utils.ml:Metrics for classifier XGBClassifier13: {'accuracy': 0.8259842519685039, 'precision': 0.7151965483444968, 'recall': 0.6940412122348681, 'f1': 0.7024647589315153, 'kappa': 0.6845468768263845}\n",
      "INFO:utils.ml:Metrics for classifier XGBClassifier14: {'accuracy': 0.8220472440944881, 'precision': 0.6927970711552801, 'recall': 0.6771992255723452, 'f1': 0.6829207403818605, 'kappa': 0.6780612336462015}\n",
      "INFO:utils.ml:Metrics for classifier XGBClassifier15: {'accuracy': 0.8385826771653543, 'precision': 0.7269656176369067, 'recall': 0.7008077499226807, 'f1': 0.7106309031756917, 'kappa': 0.7069714568701603}\n",
      "INFO:utils.ml:Metrics for classifier XGBClassifier16: {'accuracy': 0.831496062992126, 'precision': 0.716203815349743, 'recall': 0.6990820244512853, 'f1': 0.7056915183173306, 'kappa': 0.6955541814532028}\n",
      "INFO:utils.ml:Metrics for classifier XGBClassifier17: {'accuracy': 0.8338582677165355, 'precision': 0.7249014271694986, 'recall': 0.694981142167364, 'f1': 0.7056158589207094, 'kappa': 0.6982890624296304}\n",
      "INFO:utils.ml:Metrics for classifier XGBClassifier18: {'accuracy': 0.8330708661417323, 'precision': 0.720582394349481, 'recall': 0.6941340961662504, 'f1': 0.7037801281975685, 'kappa': 0.6970733441644652}\n"
     ]
    },
    {
     "name": "stdout",
     "output_type": "stream",
     "text": [
      "cannot access local variable 'report' where it is not associated with a value\n",
      "cannot access local variable 'report' where it is not associated with a value\n",
      "cannot access local variable 'report' where it is not associated with a value\n",
      "cannot access local variable 'report' where it is not associated with a value\n",
      "cannot access local variable 'report' where it is not associated with a value\n",
      "cannot access local variable 'report' where it is not associated with a value\n",
      "cannot access local variable 'report' where it is not associated with a value\n",
      "cannot access local variable 'report' where it is not associated with a value\n",
      "cannot access local variable 'report' where it is not associated with a value\n",
      "cannot access local variable 'report' where it is not associated with a value\n",
      "cannot access local variable 'report' where it is not associated with a value\n",
      "cannot access local variable 'report' where it is not associated with a value\n",
      "cannot access local variable 'report' where it is not associated with a value\n",
      "cannot access local variable 'report' where it is not associated with a value\n",
      "cannot access local variable 'report' where it is not associated with a value\n",
      "cannot access local variable 'report' where it is not associated with a value\n",
      "cannot access local variable 'report' where it is not associated with a value\n",
      "cannot access local variable 'report' where it is not associated with a value\n",
      "cannot access local variable 'report' where it is not associated with a value\n",
      "cannot access local variable 'report' where it is not associated with a value\n"
     ]
    },
    {
     "data": {
      "text/plain": [
       "                         accuracy  precision    recall        f1     kappa\n",
       "GT                       1.000000   1.000000  1.000000  1.000000  1.000000\n",
       "RandomForestClassifier0  0.786614   0.662426  0.664983  0.662622  0.619766\n",
       "RandomForestClassifier1  0.796850   0.682785  0.678372  0.679187  0.636654\n",
       "RandomForestClassifier2  0.799213   0.693600  0.686133  0.688365  0.640341\n",
       "RandomForestClassifier3  0.810236   0.691184  0.667659  0.674971  0.656714\n",
       "RandomForestClassifier4  0.799213   0.688686  0.685956  0.686167  0.641057\n",
       "RandomForestClassifier5  0.811811   0.703783  0.677805  0.686315  0.659785\n",
       "RandomForestClassifier6  0.800787   0.692570  0.684240  0.686748  0.643073\n",
       "RandomForestClassifier7  0.819685   0.719698  0.686842  0.697324  0.673775\n",
       "XGBClassifier8           0.829921   0.723607  0.699732  0.709228  0.691419\n",
       "XGBClassifier9           0.829134   0.724374  0.696185  0.707063  0.689378\n",
       "XGBClassifier10          0.830709   0.725503  0.697346  0.708207  0.692241\n",
       "XGBClassifier11          0.766929   0.641888  0.670164  0.650284  0.594701\n",
       "XGBClassifier12          0.827559   0.716976  0.683873  0.695266  0.686103\n",
       "XGBClassifier13          0.825984   0.715197  0.694041  0.702465  0.684547\n",
       "XGBClassifier14          0.822047   0.692797  0.677199  0.682921  0.678061\n",
       "XGBClassifier15          0.838583   0.726966  0.700808  0.710631  0.706971\n",
       "XGBClassifier16          0.831496   0.716204  0.699082  0.705692  0.695554\n",
       "XGBClassifier17          0.833858   0.724901  0.694981  0.705616  0.698289\n",
       "XGBClassifier18          0.833071   0.720582  0.694134  0.703780  0.697073"
      ],
      "text/html": [
       "<div>\n",
       "<style scoped>\n",
       "    .dataframe tbody tr th:only-of-type {\n",
       "        vertical-align: middle;\n",
       "    }\n",
       "\n",
       "    .dataframe tbody tr th {\n",
       "        vertical-align: top;\n",
       "    }\n",
       "\n",
       "    .dataframe thead th {\n",
       "        text-align: right;\n",
       "    }\n",
       "</style>\n",
       "<table border=\"1\" class=\"dataframe\">\n",
       "  <thead>\n",
       "    <tr style=\"text-align: right;\">\n",
       "      <th></th>\n",
       "      <th>accuracy</th>\n",
       "      <th>precision</th>\n",
       "      <th>recall</th>\n",
       "      <th>f1</th>\n",
       "      <th>kappa</th>\n",
       "    </tr>\n",
       "  </thead>\n",
       "  <tbody>\n",
       "    <tr>\n",
       "      <th>GT</th>\n",
       "      <td>1.000000</td>\n",
       "      <td>1.000000</td>\n",
       "      <td>1.000000</td>\n",
       "      <td>1.000000</td>\n",
       "      <td>1.000000</td>\n",
       "    </tr>\n",
       "    <tr>\n",
       "      <th>RandomForestClassifier0</th>\n",
       "      <td>0.786614</td>\n",
       "      <td>0.662426</td>\n",
       "      <td>0.664983</td>\n",
       "      <td>0.662622</td>\n",
       "      <td>0.619766</td>\n",
       "    </tr>\n",
       "    <tr>\n",
       "      <th>RandomForestClassifier1</th>\n",
       "      <td>0.796850</td>\n",
       "      <td>0.682785</td>\n",
       "      <td>0.678372</td>\n",
       "      <td>0.679187</td>\n",
       "      <td>0.636654</td>\n",
       "    </tr>\n",
       "    <tr>\n",
       "      <th>RandomForestClassifier2</th>\n",
       "      <td>0.799213</td>\n",
       "      <td>0.693600</td>\n",
       "      <td>0.686133</td>\n",
       "      <td>0.688365</td>\n",
       "      <td>0.640341</td>\n",
       "    </tr>\n",
       "    <tr>\n",
       "      <th>RandomForestClassifier3</th>\n",
       "      <td>0.810236</td>\n",
       "      <td>0.691184</td>\n",
       "      <td>0.667659</td>\n",
       "      <td>0.674971</td>\n",
       "      <td>0.656714</td>\n",
       "    </tr>\n",
       "    <tr>\n",
       "      <th>RandomForestClassifier4</th>\n",
       "      <td>0.799213</td>\n",
       "      <td>0.688686</td>\n",
       "      <td>0.685956</td>\n",
       "      <td>0.686167</td>\n",
       "      <td>0.641057</td>\n",
       "    </tr>\n",
       "    <tr>\n",
       "      <th>RandomForestClassifier5</th>\n",
       "      <td>0.811811</td>\n",
       "      <td>0.703783</td>\n",
       "      <td>0.677805</td>\n",
       "      <td>0.686315</td>\n",
       "      <td>0.659785</td>\n",
       "    </tr>\n",
       "    <tr>\n",
       "      <th>RandomForestClassifier6</th>\n",
       "      <td>0.800787</td>\n",
       "      <td>0.692570</td>\n",
       "      <td>0.684240</td>\n",
       "      <td>0.686748</td>\n",
       "      <td>0.643073</td>\n",
       "    </tr>\n",
       "    <tr>\n",
       "      <th>RandomForestClassifier7</th>\n",
       "      <td>0.819685</td>\n",
       "      <td>0.719698</td>\n",
       "      <td>0.686842</td>\n",
       "      <td>0.697324</td>\n",
       "      <td>0.673775</td>\n",
       "    </tr>\n",
       "    <tr>\n",
       "      <th>XGBClassifier8</th>\n",
       "      <td>0.829921</td>\n",
       "      <td>0.723607</td>\n",
       "      <td>0.699732</td>\n",
       "      <td>0.709228</td>\n",
       "      <td>0.691419</td>\n",
       "    </tr>\n",
       "    <tr>\n",
       "      <th>XGBClassifier9</th>\n",
       "      <td>0.829134</td>\n",
       "      <td>0.724374</td>\n",
       "      <td>0.696185</td>\n",
       "      <td>0.707063</td>\n",
       "      <td>0.689378</td>\n",
       "    </tr>\n",
       "    <tr>\n",
       "      <th>XGBClassifier10</th>\n",
       "      <td>0.830709</td>\n",
       "      <td>0.725503</td>\n",
       "      <td>0.697346</td>\n",
       "      <td>0.708207</td>\n",
       "      <td>0.692241</td>\n",
       "    </tr>\n",
       "    <tr>\n",
       "      <th>XGBClassifier11</th>\n",
       "      <td>0.766929</td>\n",
       "      <td>0.641888</td>\n",
       "      <td>0.670164</td>\n",
       "      <td>0.650284</td>\n",
       "      <td>0.594701</td>\n",
       "    </tr>\n",
       "    <tr>\n",
       "      <th>XGBClassifier12</th>\n",
       "      <td>0.827559</td>\n",
       "      <td>0.716976</td>\n",
       "      <td>0.683873</td>\n",
       "      <td>0.695266</td>\n",
       "      <td>0.686103</td>\n",
       "    </tr>\n",
       "    <tr>\n",
       "      <th>XGBClassifier13</th>\n",
       "      <td>0.825984</td>\n",
       "      <td>0.715197</td>\n",
       "      <td>0.694041</td>\n",
       "      <td>0.702465</td>\n",
       "      <td>0.684547</td>\n",
       "    </tr>\n",
       "    <tr>\n",
       "      <th>XGBClassifier14</th>\n",
       "      <td>0.822047</td>\n",
       "      <td>0.692797</td>\n",
       "      <td>0.677199</td>\n",
       "      <td>0.682921</td>\n",
       "      <td>0.678061</td>\n",
       "    </tr>\n",
       "    <tr>\n",
       "      <th>XGBClassifier15</th>\n",
       "      <td>0.838583</td>\n",
       "      <td>0.726966</td>\n",
       "      <td>0.700808</td>\n",
       "      <td>0.710631</td>\n",
       "      <td>0.706971</td>\n",
       "    </tr>\n",
       "    <tr>\n",
       "      <th>XGBClassifier16</th>\n",
       "      <td>0.831496</td>\n",
       "      <td>0.716204</td>\n",
       "      <td>0.699082</td>\n",
       "      <td>0.705692</td>\n",
       "      <td>0.695554</td>\n",
       "    </tr>\n",
       "    <tr>\n",
       "      <th>XGBClassifier17</th>\n",
       "      <td>0.833858</td>\n",
       "      <td>0.724901</td>\n",
       "      <td>0.694981</td>\n",
       "      <td>0.705616</td>\n",
       "      <td>0.698289</td>\n",
       "    </tr>\n",
       "    <tr>\n",
       "      <th>XGBClassifier18</th>\n",
       "      <td>0.833071</td>\n",
       "      <td>0.720582</td>\n",
       "      <td>0.694134</td>\n",
       "      <td>0.703780</td>\n",
       "      <td>0.697073</td>\n",
       "    </tr>\n",
       "  </tbody>\n",
       "</table>\n",
       "</div>"
      ]
     },
     "execution_count": 37,
     "metadata": {},
     "output_type": "execute_result"
    }
   ],
   "execution_count": 37
  },
  {
   "metadata": {
    "ExecuteTime": {
     "end_time": "2024-11-02T16:15:28.473290Z",
     "start_time": "2024-11-02T16:15:28.459515Z"
    }
   },
   "cell_type": "code",
   "source": "confusion_matrix(pipeline.predictions[\"GT\"],pipeline.predictions[\"XGBClassifier15\"])",
   "id": "cdc894cce6a949f2",
   "outputs": [
    {
     "data": {
      "text/plain": [
       "array([[430,  47,  21],\n",
       "       [ 60, 602,  16],\n",
       "       [ 42,  19,  33]], dtype=int64)"
      ]
     },
     "execution_count": 41,
     "metadata": {},
     "output_type": "execute_result"
    }
   ],
   "execution_count": 41
  },
  {
   "metadata": {},
   "cell_type": "markdown",
   "source": [
    "___\n",
    "Borderline SMOTE"
   ],
   "id": "1e752cdfc948f3bc"
  },
  {
   "metadata": {
    "ExecuteTime": {
     "end_time": "2024-11-02T15:46:11.694613Z",
     "start_time": "2024-11-02T15:46:11.530435Z"
    }
   },
   "cell_type": "code",
   "source": [
    "from imblearn.over_sampling import BorderlineSMOTE\n",
    "smote = BorderlineSMOTE(sampling_strategy='auto', random_state=42)\n",
    "\n",
    "pipeline.feature_matrix, pipeline.labels = smote.fit_resample(\n",
    "    pipeline.backup_feature_matrix, pipeline.backup_labels)\n",
    "\n",
    "print(pipeline.backup_feature_matrix.shape)\n",
    "print(pipeline.feature_matrix.shape)\n",
    "\n",
    "print(pipeline.backup_labels.shape)\n",
    "print(pipeline.labels.shape)\n",
    "\n",
    "pipeline.fitted_classifiers = {}"
   ],
   "id": "ca12420fbcc1eb2b",
   "outputs": [
    {
     "name": "stdout",
     "output_type": "stream",
     "text": [
      "(5082, 252)\n",
      "(8139, 252)\n",
      "(5082,)\n",
      "(8139,)\n"
     ]
    }
   ],
   "execution_count": 26
  },
  {
   "metadata": {
    "ExecuteTime": {
     "end_time": "2024-11-02T15:51:27.246428Z",
     "start_time": "2024-11-02T15:46:11.711389Z"
    }
   },
   "cell_type": "code",
   "source": "pipeline.fit_classifiers()",
   "id": "a4ea57f5e5a38f80",
   "outputs": [
    {
     "name": "stderr",
     "output_type": "stream",
     "text": [
      "INFO:utils.ml:Fitting classifiers...\n",
      "INFO:utils.ml:Fitting classifier: RandomForestClassifier0\n",
      "INFO:utils.ml:Fitted classifier: RandomForestClassifier0; Done in 8.159039974212646 seconds\n",
      "INFO:utils.ml:Fitting classifier: RandomForestClassifier1\n"
     ]
    },
    {
     "name": "stdout",
     "output_type": "stream",
     "text": [
      "list index out of range\n"
     ]
    },
    {
     "name": "stderr",
     "output_type": "stream",
     "text": [
      "INFO:utils.ml:Fitted classifier: RandomForestClassifier1; Done in 12.358706712722778 seconds\n",
      "INFO:utils.ml:Fitting classifier: RandomForestClassifier2\n"
     ]
    },
    {
     "name": "stdout",
     "output_type": "stream",
     "text": [
      "list index out of range\n"
     ]
    },
    {
     "name": "stderr",
     "output_type": "stream",
     "text": [
      "INFO:utils.ml:Fitted classifier: RandomForestClassifier2; Done in 8.432939291000366 seconds\n",
      "INFO:utils.ml:Fitting classifier: RandomForestClassifier3\n"
     ]
    },
    {
     "name": "stdout",
     "output_type": "stream",
     "text": [
      "list index out of range\n"
     ]
    },
    {
     "name": "stderr",
     "output_type": "stream",
     "text": [
      "INFO:utils.ml:Fitted classifier: RandomForestClassifier3; Done in 12.227961778640747 seconds\n",
      "INFO:utils.ml:Fitting classifier: RandomForestClassifier4\n"
     ]
    },
    {
     "name": "stdout",
     "output_type": "stream",
     "text": [
      "list index out of range\n"
     ]
    },
    {
     "name": "stderr",
     "output_type": "stream",
     "text": [
      "INFO:utils.ml:Fitted classifier: RandomForestClassifier4; Done in 12.878711700439453 seconds\n",
      "INFO:utils.ml:Fitting classifier: RandomForestClassifier5\n"
     ]
    },
    {
     "name": "stdout",
     "output_type": "stream",
     "text": [
      "list index out of range\n"
     ]
    },
    {
     "name": "stderr",
     "output_type": "stream",
     "text": [
      "INFO:utils.ml:Fitted classifier: RandomForestClassifier5; Done in 19.10480523109436 seconds\n",
      "INFO:utils.ml:Fitting classifier: RandomForestClassifier6\n"
     ]
    },
    {
     "name": "stdout",
     "output_type": "stream",
     "text": [
      "list index out of range\n"
     ]
    },
    {
     "name": "stderr",
     "output_type": "stream",
     "text": [
      "INFO:utils.ml:Fitted classifier: RandomForestClassifier6; Done in 17.398176431655884 seconds\n",
      "INFO:utils.ml:Fitting classifier: RandomForestClassifier7\n"
     ]
    },
    {
     "name": "stdout",
     "output_type": "stream",
     "text": [
      "list index out of range\n"
     ]
    },
    {
     "name": "stderr",
     "output_type": "stream",
     "text": [
      "INFO:utils.ml:Fitted classifier: RandomForestClassifier7; Done in 29.90160584449768 seconds\n",
      "INFO:utils.ml:Fitting classifier: XGBClassifier8\n"
     ]
    },
    {
     "name": "stdout",
     "output_type": "stream",
     "text": [
      "list index out of range\n"
     ]
    },
    {
     "name": "stderr",
     "output_type": "stream",
     "text": [
      "INFO:utils.ml:Top 10 features for XGBClassifier8: [('lbp_rad2_bins64_29', 0.03065549), ('var_lab_channel_0', 0.023091719), ('color_moments_hsv_channel_0_mean', 0.02250098), ('lbp_rad1_bins64_63', 0.01604515), ('lbp_rad1_bins64_58', 0.014106697), ('color_moments_lab_channel_1_skew', 0.013196864), ('lbp_rad1_bins64_31', 0.013147571), ('color_moments_hsv_channel_2_mean', 0.011781767), ('color_moments_lab_channel_0_skew', 0.011108495), ('color_moments_lab_channel_1_std', 0.010039027)]\n",
      "INFO:utils.ml:Fitted classifier: XGBClassifier8; Done in 13.529041767120361 seconds\n",
      "INFO:utils.ml:Fitting classifier: XGBClassifier9\n",
      "INFO:utils.ml:Top 10 features for XGBClassifier9: [('lbp_rad2_bins64_29', 0.029764876), ('var_lab_channel_0', 0.02245215), ('color_moments_hsv_channel_0_mean', 0.021784041), ('lbp_rad1_bins64_63', 0.016487056), ('lbp_rad1_bins64_58', 0.014526003), ('color_moments_lab_channel_1_skew', 0.013663395), ('lbp_rad1_bins64_31', 0.012834529), ('color_moments_hsv_channel_2_mean', 0.0115637425), ('color_moments_lab_channel_0_skew', 0.011289738), ('color_moments_lab_channel_1_std', 0.009765134)]\n",
      "INFO:utils.ml:Fitted classifier: XGBClassifier9; Done in 15.46045470237732 seconds\n",
      "INFO:utils.ml:Fitting classifier: XGBClassifier10\n",
      "INFO:utils.ml:Top 10 features for XGBClassifier10: [('lbp_rad2_bins64_29', 0.030993717), ('var_lab_channel_0', 0.022654157), ('color_moments_hsv_channel_0_mean', 0.021671379), ('lbp_rad1_bins64_63', 0.01617884), ('lbp_rad1_bins64_58', 0.014712653), ('color_moments_lab_channel_1_skew', 0.013709626), ('lbp_rad1_bins64_31', 0.013376839), ('color_moments_lab_channel_0_skew', 0.011159072), ('color_moments_hsv_channel_2_mean', 0.011123657), ('color_moments_lab_channel_1_std', 0.009485753)]\n",
      "INFO:utils.ml:Fitted classifier: XGBClassifier10; Done in 19.22193193435669 seconds\n",
      "INFO:utils.ml:Fitting classifier: XGBClassifier11\n",
      "INFO:utils.ml:Top 10 features for XGBClassifier11: [('lbp_rad2_bins64_29', 0.027736166), ('color_moments_hsv_channel_0_mean', 0.021806723), ('lbp_rad2_bins64_41', 0.015520039), ('lbp_rad1_bins64_63', 0.014373715), ('color_moments_lab_channel_0_skew', 0.011673226), ('lbp_rad1_bins64_58', 0.011231403), ('color_moments_rgb_channel_1_skew', 0.011164439), ('color_moments_lab_channel_1_std', 0.0110722575), ('color_moments_lab_channel_1_skew', 0.011031869), ('lbp_rad1_bins64_33', 0.010669413)]\n",
      "INFO:utils.ml:Fitted classifier: XGBClassifier11; Done in 6.861567735671997 seconds\n",
      "INFO:utils.ml:Fitting classifier: XGBClassifier12\n",
      "INFO:utils.ml:Top 10 features for XGBClassifier12: [('lbp_rad1_bins64_31', 0.01665303), ('color_moments_hsv_channel_0_mean', 0.014110155), ('var_lab_channel_0', 0.0120571265), ('color_moments_lab_channel_0_skew', 0.011678723), ('lbp_rad2_bins64_29', 0.011370824), ('lbp_rad1_bins64_63', 0.010968575), ('var_rgb_channel_2', 0.010724761), ('color_moments_lab_channel_1_std', 0.010441878), ('lbp_rad2_bins64_41', 0.010361243), ('lbp_rad1_bins64_58', 0.009329402)]\n",
      "INFO:utils.ml:Fitted classifier: XGBClassifier12; Done in 19.171207189559937 seconds\n",
      "INFO:utils.ml:Fitting classifier: XGBClassifier13\n",
      "INFO:utils.ml:Top 10 features for XGBClassifier13: [('lbp_rad2_bins64_29', 0.024201548), ('color_moments_hsv_channel_0_mean', 0.019893631), ('lbp_rad1_bins64_31', 0.013881731), ('lbp_rad1_bins64_63', 0.013047544), ('var_lab_channel_0', 0.012734582), ('color_moments_lab_channel_1_skew', 0.01237926), ('color_moments_lab_channel_0_skew', 0.010214199), ('lbp_rad1_bins64_58', 0.010180116), ('lbp_rad1_bins64_26', 0.009655472), ('color_moments_hsv_channel_2_mean', 0.009512412)]\n",
      "INFO:utils.ml:Fitted classifier: XGBClassifier13; Done in 13.806924819946289 seconds\n",
      "INFO:utils.ml:Fitting classifier: XGBClassifier14\n",
      "INFO:utils.ml:Top 10 features for XGBClassifier14: [('lbp_rad2_bins64_29', 0.021639002), ('color_moments_hsv_channel_0_mean', 0.02137595), ('lbp_rad1_bins64_31', 0.014096501), ('var_lab_channel_0', 0.013764185), ('color_moments_lab_channel_1_skew', 0.013285782), ('lbp_rad1_bins64_63', 0.013144277), ('color_moments_lab_channel_0_skew', 0.010680115), ('lbp_rad1_bins64_58', 0.010673248), ('color_moments_rgb_channel_1_skew', 0.010304243), ('color_moments_hsv_channel_2_mean', 0.009485226)]\n",
      "INFO:utils.ml:Fitted classifier: XGBClassifier14; Done in 13.582791328430176 seconds\n",
      "INFO:utils.ml:Fitting classifier: XGBClassifier15\n",
      "INFO:utils.ml:Top 10 features for XGBClassifier15: [('lbp_rad2_bins64_29', 0.023065215), ('color_moments_hsv_channel_0_mean', 0.020571806), ('var_lab_channel_0', 0.015316154), ('lbp_rad1_bins64_63', 0.01366751), ('lbp_rad1_bins64_31', 0.0127032185), ('color_moments_lab_channel_1_skew', 0.010555228), ('color_moments_lab_channel_0_skew', 0.010198491), ('lbp_rad1_bins64_26', 0.010023003), ('color_moments_lab_channel_1_std', 0.009814686), ('color_moments_hsv_channel_2_mean', 0.008899782)]\n",
      "INFO:utils.ml:Fitted classifier: XGBClassifier15; Done in 31.706339359283447 seconds\n",
      "INFO:utils.ml:Fitting classifier: XGBClassifier16\n",
      "INFO:utils.ml:Top 10 features for XGBClassifier16: [('lbp_rad2_bins64_29', 0.02267336), ('color_moments_hsv_channel_0_mean', 0.021086773), ('var_lab_channel_0', 0.015309623), ('lbp_rad1_bins64_63', 0.013820944), ('lbp_rad1_bins64_31', 0.012065597), ('color_moments_lab_channel_1_skew', 0.01022189), ('color_moments_lab_channel_1_std', 0.010130673), ('lbp_rad1_bins64_26', 0.010002527), ('color_moments_lab_channel_0_skew', 0.0099521), ('color_moments_hsv_channel_2_mean', 0.008886039)]\n",
      "INFO:utils.ml:Fitted classifier: XGBClassifier16; Done in 25.025577068328857 seconds\n",
      "INFO:utils.ml:Fitting classifier: XGBClassifier17\n",
      "INFO:utils.ml:Top 10 features for XGBClassifier17: [('lbp_rad2_bins64_29', 0.022449598), ('color_moments_hsv_channel_0_mean', 0.019817682), ('lbp_rad1_bins64_63', 0.014559435), ('var_lab_channel_0', 0.014084231), ('lbp_rad1_bins64_31', 0.01194919), ('color_moments_rgb_channel_1_skew', 0.011755495), ('color_moments_lab_channel_1_skew', 0.0117136), ('color_moments_lab_channel_0_skew', 0.010313267), ('lbp_rad1_bins64_26', 0.009211345), ('lbp_rad1_bins64_58', 0.009174159)]\n",
      "INFO:utils.ml:Fitted classifier: XGBClassifier17; Done in 20.250502347946167 seconds\n",
      "INFO:utils.ml:Fitting classifier: XGBClassifier18\n",
      "INFO:utils.ml:Top 10 features for XGBClassifier18: [('lbp_rad2_bins64_29', 0.022569776), ('color_moments_hsv_channel_0_mean', 0.019372812), ('lbp_rad1_bins64_63', 0.014755327), ('var_lab_channel_0', 0.0140036475), ('lbp_rad1_bins64_31', 0.012270245), ('color_moments_lab_channel_1_skew', 0.011720875), ('color_moments_rgb_channel_1_skew', 0.011655347), ('color_moments_lab_channel_0_skew', 0.0104828775), ('lbp_rad1_bins64_26', 0.009397019), ('lbp_rad1_bins64_58', 0.0092263315)]\n",
      "INFO:utils.ml:Fitted classifier: XGBClassifier18; Done in 16.421040058135986 seconds\n",
      "INFO:utils.ml:Fitting completed in 315.51 seconds.\n"
     ]
    }
   ],
   "execution_count": 27
  },
  {
   "metadata": {
    "ExecuteTime": {
     "end_time": "2024-11-02T15:54:39.203082Z",
     "start_time": "2024-11-02T15:51:27.271474Z"
    }
   },
   "cell_type": "code",
   "source": "pipeline.predict_with_classifiers(VAL_PATH)",
   "id": "156c56b343fa5df1",
   "outputs": [
    {
     "name": "stderr",
     "output_type": "stream",
     "text": [
      "INFO:utils.ml:Predicting with classifiers on dataset: C:\\Users\\gimes\\Src\\repos\\CADx-Project\\dataset\\multiclass\\val\n"
     ]
    },
    {
     "name": "stdout",
     "output_type": "stream",
     "text": [
      "Processed 5/27 batches.\n",
      "Processed 10/27 batches.\n",
      "Processed 15/27 batches.\n",
      "Processed 20/27 batches.\n",
      "Processed 25/27 batches.\n"
     ]
    },
    {
     "name": "stderr",
     "output_type": "stream",
     "text": [
      "INFO:utils.ml:Predictions made with classifier: RandomForestClassifier0\n",
      "INFO:utils.ml:Predictions made with classifier: RandomForestClassifier1\n",
      "INFO:utils.ml:Predictions made with classifier: RandomForestClassifier2\n",
      "INFO:utils.ml:Predictions made with classifier: RandomForestClassifier3\n"
     ]
    },
    {
     "name": "stdout",
     "output_type": "stream",
     "text": [
      "Processed 27/27 batches.\n"
     ]
    },
    {
     "name": "stderr",
     "output_type": "stream",
     "text": [
      "INFO:utils.ml:Predictions made with classifier: RandomForestClassifier4\n",
      "INFO:utils.ml:Predictions made with classifier: RandomForestClassifier5\n",
      "INFO:utils.ml:Predictions made with classifier: RandomForestClassifier6\n",
      "INFO:utils.ml:Predictions made with classifier: RandomForestClassifier7\n",
      "INFO:utils.ml:Predictions made with classifier: XGBClassifier8\n",
      "INFO:utils.ml:Predictions made with classifier: XGBClassifier9\n",
      "INFO:utils.ml:Predictions made with classifier: XGBClassifier10\n",
      "INFO:utils.ml:Predictions made with classifier: XGBClassifier11\n",
      "INFO:utils.ml:Predictions made with classifier: XGBClassifier12\n",
      "INFO:utils.ml:Predictions made with classifier: XGBClassifier13\n",
      "INFO:utils.ml:Predictions made with classifier: XGBClassifier14\n",
      "INFO:utils.ml:Predictions made with classifier: XGBClassifier15\n",
      "INFO:utils.ml:Predictions made with classifier: XGBClassifier16\n",
      "INFO:utils.ml:Predictions made with classifier: XGBClassifier17\n",
      "INFO:utils.ml:Predictions made with classifier: XGBClassifier18\n"
     ]
    },
    {
     "data": {
      "text/plain": [
       "{'GT': array([0, 0, 0, ..., 2, 2, 2]),\n",
       " 'RandomForestClassifier0': array([2, 0, 2, ..., 1, 0, 0]),\n",
       " 'RandomForestClassifier1': array([0, 0, 2, ..., 1, 0, 0]),\n",
       " 'RandomForestClassifier2': array([0, 0, 2, ..., 1, 0, 0]),\n",
       " 'RandomForestClassifier3': array([0, 0, 2, ..., 1, 0, 0]),\n",
       " 'RandomForestClassifier4': array([0, 0, 2, ..., 1, 0, 0]),\n",
       " 'RandomForestClassifier5': array([0, 0, 2, ..., 1, 0, 0]),\n",
       " 'RandomForestClassifier6': array([0, 0, 2, ..., 1, 0, 0]),\n",
       " 'RandomForestClassifier7': array([0, 0, 2, ..., 1, 0, 0]),\n",
       " 'XGBClassifier8': array([2, 0, 2, ..., 1, 0, 0], dtype=int64),\n",
       " 'XGBClassifier9': array([2, 0, 2, ..., 1, 0, 0], dtype=int64),\n",
       " 'XGBClassifier10': array([2, 0, 2, ..., 1, 0, 0], dtype=int64),\n",
       " 'XGBClassifier11': array([0, 0, 2, ..., 0, 0, 0], dtype=int64),\n",
       " 'XGBClassifier12': array([2, 0, 2, ..., 1, 0, 0], dtype=int64),\n",
       " 'XGBClassifier13': array([2, 0, 2, ..., 1, 2, 0], dtype=int64),\n",
       " 'XGBClassifier14': array([2, 0, 2, ..., 1, 0, 0], dtype=int64),\n",
       " 'XGBClassifier15': array([2, 0, 2, ..., 1, 0, 0], dtype=int64),\n",
       " 'XGBClassifier16': array([2, 0, 2, ..., 1, 0, 0], dtype=int64),\n",
       " 'XGBClassifier17': array([2, 0, 2, ..., 1, 0, 0], dtype=int64),\n",
       " 'XGBClassifier18': array([2, 0, 2, ..., 1, 0, 0], dtype=int64)}"
      ]
     },
     "execution_count": 28,
     "metadata": {},
     "output_type": "execute_result"
    }
   ],
   "execution_count": 28
  },
  {
   "metadata": {
    "ExecuteTime": {
     "end_time": "2024-11-02T15:54:39.430122Z",
     "start_time": "2024-11-02T15:54:39.236337Z"
    }
   },
   "cell_type": "code",
   "source": [
    "df_borderline_smote = pd.DataFrame(data=pipeline.calculate_metrics(\n",
    "    [\"accuracy\", \"precision\", \"recall\", \"f1\", \"kappa\"],))\n",
    "df_borderline_smote = df_borderline_smote.T\n",
    "df_borderline_smote"
   ],
   "id": "dec33139485e5176",
   "outputs": [
    {
     "name": "stderr",
     "output_type": "stream",
     "text": [
      "INFO:utils.ml:Metrics for classifier GT: {'accuracy': 1.0, 'precision': 1.0, 'recall': 1.0, 'f1': 1.0, 'kappa': 1.0}\n",
      "INFO:utils.ml:Metrics for classifier RandomForestClassifier0: {'accuracy': 0.7866141732283465, 'precision': 0.6611891561436692, 'recall': 0.6588741207218883, 'f1': 0.6588421825644163, 'kappa': 0.6183640339399531}\n",
      "INFO:utils.ml:Metrics for classifier RandomForestClassifier1: {'accuracy': 0.7968503937007874, 'precision': 0.681759451032252, 'recall': 0.6868243702229996, 'f1': 0.6833378203214346, 'kappa': 0.6383459675674721}\n",
      "INFO:utils.ml:Metrics for classifier RandomForestClassifier2: {'accuracy': 0.7992125984251969, 'precision': 0.693600276913613, 'recall': 0.6861333490618472, 'f1': 0.6883651829363359, 'kappa': 0.6403409015188197}\n",
      "INFO:utils.ml:Metrics for classifier RandomForestClassifier3: {'accuracy': 0.8102362204724409, 'precision': 0.6911836886634285, 'recall': 0.6676586468890688, 'f1': 0.6749709746451851, 'kappa': 0.6567136390350701}\n",
      "INFO:utils.ml:Metrics for classifier RandomForestClassifier4: {'accuracy': 0.7992125984251969, 'precision': 0.6886862293824318, 'recall': 0.6859556471035715, 'f1': 0.6861672678466572, 'kappa': 0.6410568456893571}\n",
      "INFO:utils.ml:Metrics for classifier RandomForestClassifier5: {'accuracy': 0.8118110236220473, 'precision': 0.7037830322551821, 'recall': 0.6778053026768468, 'f1': 0.6863146526383566, 'kappa': 0.6597853328730334}\n",
      "INFO:utils.ml:Metrics for classifier RandomForestClassifier6: {'accuracy': 0.8007874015748031, 'precision': 0.6925702925741053, 'recall': 0.6842398779830298, 'f1': 0.6867479243350779, 'kappa': 0.6430729650349029}\n",
      "INFO:utils.ml:Metrics for classifier RandomForestClassifier7: {'accuracy': 0.8196850393700787, 'precision': 0.7196980655774903, 'recall': 0.6868423924783423, 'f1': 0.6973235990552876, 'kappa': 0.673774537296691}\n",
      "INFO:utils.ml:Metrics for classifier XGBClassifier8: {'accuracy': 0.8299212598425196, 'precision': 0.7236070341378561, 'recall': 0.6997315818221735, 'f1': 0.7092278178518602, 'kappa': 0.6914188523373064}\n",
      "INFO:utils.ml:Metrics for classifier XGBClassifier9: {'accuracy': 0.8291338582677166, 'precision': 0.724373897707231, 'recall': 0.6961854825313935, 'f1': 0.7070627597771578, 'kappa': 0.6893780573025856}\n",
      "INFO:utils.ml:Metrics for classifier XGBClassifier10: {'accuracy': 0.8307086614173228, 'precision': 0.7255026455026455, 'recall': 0.6973464686587939, 'f1': 0.7082071700482401, 'kappa': 0.6922409323504881}\n",
      "INFO:utils.ml:Metrics for classifier XGBClassifier11: {'accuracy': 0.7669291338582677, 'precision': 0.6418882555029659, 'recall': 0.670163740381724, 'f1': 0.6502835152380696, 'kappa': 0.5947006615547832}\n",
      "INFO:utils.ml:Metrics for classifier XGBClassifier12: {'accuracy': 0.8275590551181102, 'precision': 0.716976131380362, 'recall': 0.6838728793287756, 'f1': 0.6952656933754232, 'kappa': 0.6861033614128227}\n",
      "INFO:utils.ml:Metrics for classifier XGBClassifier13: {'accuracy': 0.8259842519685039, 'precision': 0.7151965483444968, 'recall': 0.6940412122348681, 'f1': 0.7024647589315153, 'kappa': 0.6845468768263845}\n",
      "INFO:utils.ml:Metrics for classifier XGBClassifier14: {'accuracy': 0.8220472440944881, 'precision': 0.6927970711552801, 'recall': 0.6771992255723452, 'f1': 0.6829207403818605, 'kappa': 0.6780612336462015}\n",
      "INFO:utils.ml:Metrics for classifier XGBClassifier15: {'accuracy': 0.8385826771653543, 'precision': 0.7269656176369067, 'recall': 0.7008077499226807, 'f1': 0.7106309031756917, 'kappa': 0.7069714568701603}\n",
      "INFO:utils.ml:Metrics for classifier XGBClassifier16: {'accuracy': 0.831496062992126, 'precision': 0.716203815349743, 'recall': 0.6990820244512853, 'f1': 0.7056915183173306, 'kappa': 0.6955541814532028}\n"
     ]
    },
    {
     "name": "stdout",
     "output_type": "stream",
     "text": [
      "cannot access local variable 'report' where it is not associated with a value\n",
      "cannot access local variable 'report' where it is not associated with a value\n",
      "cannot access local variable 'report' where it is not associated with a value\n",
      "cannot access local variable 'report' where it is not associated with a value\n",
      "cannot access local variable 'report' where it is not associated with a value\n",
      "cannot access local variable 'report' where it is not associated with a value\n",
      "cannot access local variable 'report' where it is not associated with a value\n",
      "cannot access local variable 'report' where it is not associated with a value\n",
      "cannot access local variable 'report' where it is not associated with a value\n",
      "cannot access local variable 'report' where it is not associated with a value\n",
      "cannot access local variable 'report' where it is not associated with a value\n",
      "cannot access local variable 'report' where it is not associated with a value\n",
      "cannot access local variable 'report' where it is not associated with a value\n",
      "cannot access local variable 'report' where it is not associated with a value\n",
      "cannot access local variable 'report' where it is not associated with a value\n",
      "cannot access local variable 'report' where it is not associated with a value\n",
      "cannot access local variable 'report' where it is not associated with a value\n",
      "cannot access local variable 'report' where it is not associated with a value\n"
     ]
    },
    {
     "name": "stderr",
     "output_type": "stream",
     "text": [
      "INFO:utils.ml:Metrics for classifier XGBClassifier17: {'accuracy': 0.8338582677165355, 'precision': 0.7249014271694986, 'recall': 0.694981142167364, 'f1': 0.7056158589207094, 'kappa': 0.6982890624296304}\n",
      "INFO:utils.ml:Metrics for classifier XGBClassifier18: {'accuracy': 0.8330708661417323, 'precision': 0.720582394349481, 'recall': 0.6941340961662504, 'f1': 0.7037801281975685, 'kappa': 0.6970733441644652}\n"
     ]
    },
    {
     "name": "stdout",
     "output_type": "stream",
     "text": [
      "cannot access local variable 'report' where it is not associated with a value\n",
      "cannot access local variable 'report' where it is not associated with a value\n"
     ]
    },
    {
     "data": {
      "text/plain": [
       "                         accuracy  precision    recall        f1     kappa\n",
       "GT                       1.000000   1.000000  1.000000  1.000000  1.000000\n",
       "RandomForestClassifier0  0.786614   0.661189  0.658874  0.658842  0.618364\n",
       "RandomForestClassifier1  0.796850   0.681759  0.686824  0.683338  0.638346\n",
       "RandomForestClassifier2  0.799213   0.693600  0.686133  0.688365  0.640341\n",
       "RandomForestClassifier3  0.810236   0.691184  0.667659  0.674971  0.656714\n",
       "RandomForestClassifier4  0.799213   0.688686  0.685956  0.686167  0.641057\n",
       "RandomForestClassifier5  0.811811   0.703783  0.677805  0.686315  0.659785\n",
       "RandomForestClassifier6  0.800787   0.692570  0.684240  0.686748  0.643073\n",
       "RandomForestClassifier7  0.819685   0.719698  0.686842  0.697324  0.673775\n",
       "XGBClassifier8           0.829921   0.723607  0.699732  0.709228  0.691419\n",
       "XGBClassifier9           0.829134   0.724374  0.696185  0.707063  0.689378\n",
       "XGBClassifier10          0.830709   0.725503  0.697346  0.708207  0.692241\n",
       "XGBClassifier11          0.766929   0.641888  0.670164  0.650284  0.594701\n",
       "XGBClassifier12          0.827559   0.716976  0.683873  0.695266  0.686103\n",
       "XGBClassifier13          0.825984   0.715197  0.694041  0.702465  0.684547\n",
       "XGBClassifier14          0.822047   0.692797  0.677199  0.682921  0.678061\n",
       "XGBClassifier15          0.838583   0.726966  0.700808  0.710631  0.706971\n",
       "XGBClassifier16          0.831496   0.716204  0.699082  0.705692  0.695554\n",
       "XGBClassifier17          0.833858   0.724901  0.694981  0.705616  0.698289\n",
       "XGBClassifier18          0.833071   0.720582  0.694134  0.703780  0.697073"
      ],
      "text/html": [
       "<div>\n",
       "<style scoped>\n",
       "    .dataframe tbody tr th:only-of-type {\n",
       "        vertical-align: middle;\n",
       "    }\n",
       "\n",
       "    .dataframe tbody tr th {\n",
       "        vertical-align: top;\n",
       "    }\n",
       "\n",
       "    .dataframe thead th {\n",
       "        text-align: right;\n",
       "    }\n",
       "</style>\n",
       "<table border=\"1\" class=\"dataframe\">\n",
       "  <thead>\n",
       "    <tr style=\"text-align: right;\">\n",
       "      <th></th>\n",
       "      <th>accuracy</th>\n",
       "      <th>precision</th>\n",
       "      <th>recall</th>\n",
       "      <th>f1</th>\n",
       "      <th>kappa</th>\n",
       "    </tr>\n",
       "  </thead>\n",
       "  <tbody>\n",
       "    <tr>\n",
       "      <th>GT</th>\n",
       "      <td>1.000000</td>\n",
       "      <td>1.000000</td>\n",
       "      <td>1.000000</td>\n",
       "      <td>1.000000</td>\n",
       "      <td>1.000000</td>\n",
       "    </tr>\n",
       "    <tr>\n",
       "      <th>RandomForestClassifier0</th>\n",
       "      <td>0.786614</td>\n",
       "      <td>0.661189</td>\n",
       "      <td>0.658874</td>\n",
       "      <td>0.658842</td>\n",
       "      <td>0.618364</td>\n",
       "    </tr>\n",
       "    <tr>\n",
       "      <th>RandomForestClassifier1</th>\n",
       "      <td>0.796850</td>\n",
       "      <td>0.681759</td>\n",
       "      <td>0.686824</td>\n",
       "      <td>0.683338</td>\n",
       "      <td>0.638346</td>\n",
       "    </tr>\n",
       "    <tr>\n",
       "      <th>RandomForestClassifier2</th>\n",
       "      <td>0.799213</td>\n",
       "      <td>0.693600</td>\n",
       "      <td>0.686133</td>\n",
       "      <td>0.688365</td>\n",
       "      <td>0.640341</td>\n",
       "    </tr>\n",
       "    <tr>\n",
       "      <th>RandomForestClassifier3</th>\n",
       "      <td>0.810236</td>\n",
       "      <td>0.691184</td>\n",
       "      <td>0.667659</td>\n",
       "      <td>0.674971</td>\n",
       "      <td>0.656714</td>\n",
       "    </tr>\n",
       "    <tr>\n",
       "      <th>RandomForestClassifier4</th>\n",
       "      <td>0.799213</td>\n",
       "      <td>0.688686</td>\n",
       "      <td>0.685956</td>\n",
       "      <td>0.686167</td>\n",
       "      <td>0.641057</td>\n",
       "    </tr>\n",
       "    <tr>\n",
       "      <th>RandomForestClassifier5</th>\n",
       "      <td>0.811811</td>\n",
       "      <td>0.703783</td>\n",
       "      <td>0.677805</td>\n",
       "      <td>0.686315</td>\n",
       "      <td>0.659785</td>\n",
       "    </tr>\n",
       "    <tr>\n",
       "      <th>RandomForestClassifier6</th>\n",
       "      <td>0.800787</td>\n",
       "      <td>0.692570</td>\n",
       "      <td>0.684240</td>\n",
       "      <td>0.686748</td>\n",
       "      <td>0.643073</td>\n",
       "    </tr>\n",
       "    <tr>\n",
       "      <th>RandomForestClassifier7</th>\n",
       "      <td>0.819685</td>\n",
       "      <td>0.719698</td>\n",
       "      <td>0.686842</td>\n",
       "      <td>0.697324</td>\n",
       "      <td>0.673775</td>\n",
       "    </tr>\n",
       "    <tr>\n",
       "      <th>XGBClassifier8</th>\n",
       "      <td>0.829921</td>\n",
       "      <td>0.723607</td>\n",
       "      <td>0.699732</td>\n",
       "      <td>0.709228</td>\n",
       "      <td>0.691419</td>\n",
       "    </tr>\n",
       "    <tr>\n",
       "      <th>XGBClassifier9</th>\n",
       "      <td>0.829134</td>\n",
       "      <td>0.724374</td>\n",
       "      <td>0.696185</td>\n",
       "      <td>0.707063</td>\n",
       "      <td>0.689378</td>\n",
       "    </tr>\n",
       "    <tr>\n",
       "      <th>XGBClassifier10</th>\n",
       "      <td>0.830709</td>\n",
       "      <td>0.725503</td>\n",
       "      <td>0.697346</td>\n",
       "      <td>0.708207</td>\n",
       "      <td>0.692241</td>\n",
       "    </tr>\n",
       "    <tr>\n",
       "      <th>XGBClassifier11</th>\n",
       "      <td>0.766929</td>\n",
       "      <td>0.641888</td>\n",
       "      <td>0.670164</td>\n",
       "      <td>0.650284</td>\n",
       "      <td>0.594701</td>\n",
       "    </tr>\n",
       "    <tr>\n",
       "      <th>XGBClassifier12</th>\n",
       "      <td>0.827559</td>\n",
       "      <td>0.716976</td>\n",
       "      <td>0.683873</td>\n",
       "      <td>0.695266</td>\n",
       "      <td>0.686103</td>\n",
       "    </tr>\n",
       "    <tr>\n",
       "      <th>XGBClassifier13</th>\n",
       "      <td>0.825984</td>\n",
       "      <td>0.715197</td>\n",
       "      <td>0.694041</td>\n",
       "      <td>0.702465</td>\n",
       "      <td>0.684547</td>\n",
       "    </tr>\n",
       "    <tr>\n",
       "      <th>XGBClassifier14</th>\n",
       "      <td>0.822047</td>\n",
       "      <td>0.692797</td>\n",
       "      <td>0.677199</td>\n",
       "      <td>0.682921</td>\n",
       "      <td>0.678061</td>\n",
       "    </tr>\n",
       "    <tr>\n",
       "      <th>XGBClassifier15</th>\n",
       "      <td>0.838583</td>\n",
       "      <td>0.726966</td>\n",
       "      <td>0.700808</td>\n",
       "      <td>0.710631</td>\n",
       "      <td>0.706971</td>\n",
       "    </tr>\n",
       "    <tr>\n",
       "      <th>XGBClassifier16</th>\n",
       "      <td>0.831496</td>\n",
       "      <td>0.716204</td>\n",
       "      <td>0.699082</td>\n",
       "      <td>0.705692</td>\n",
       "      <td>0.695554</td>\n",
       "    </tr>\n",
       "    <tr>\n",
       "      <th>XGBClassifier17</th>\n",
       "      <td>0.833858</td>\n",
       "      <td>0.724901</td>\n",
       "      <td>0.694981</td>\n",
       "      <td>0.705616</td>\n",
       "      <td>0.698289</td>\n",
       "    </tr>\n",
       "    <tr>\n",
       "      <th>XGBClassifier18</th>\n",
       "      <td>0.833071</td>\n",
       "      <td>0.720582</td>\n",
       "      <td>0.694134</td>\n",
       "      <td>0.703780</td>\n",
       "      <td>0.697073</td>\n",
       "    </tr>\n",
       "  </tbody>\n",
       "</table>\n",
       "</div>"
      ]
     },
     "execution_count": 29,
     "metadata": {},
     "output_type": "execute_result"
    }
   ],
   "execution_count": 29
  },
  {
   "metadata": {
    "ExecuteTime": {
     "end_time": "2024-11-02T15:55:30.549583Z",
     "start_time": "2024-11-02T15:55:30.538455Z"
    }
   },
   "cell_type": "code",
   "source": "confusion_matrix(pipeline.predictions[\"GT\"], pipeline.predictions[\"XGBClassifier15\"])",
   "id": "5e3d245571ac5c69",
   "outputs": [
    {
     "data": {
      "text/plain": [
       "array([[430,  47,  21],\n",
       "       [ 60, 602,  16],\n",
       "       [ 42,  19,  33]], dtype=int64)"
      ]
     },
     "execution_count": 31,
     "metadata": {},
     "output_type": "execute_result"
    }
   ],
   "execution_count": 31
  },
  {
   "metadata": {
    "ExecuteTime": {
     "end_time": "2024-11-02T15:05:44.573697800Z",
     "start_time": "2024-11-01T23:43:47.197755Z"
    }
   },
   "cell_type": "code",
   "source": "",
   "id": "66872df202609437",
   "outputs": [],
   "execution_count": null
  }
 ],
 "metadata": {
  "kernelspec": {
   "display_name": "Python 3",
   "language": "python",
   "name": "python3"
  },
  "language_info": {
   "codemirror_mode": {
    "name": "ipython",
    "version": 2
   },
   "file_extension": ".py",
   "mimetype": "text/x-python",
   "name": "python",
   "nbconvert_exporter": "python",
   "pygments_lexer": "ipython2",
   "version": "2.7.6"
  }
 },
 "nbformat": 4,
 "nbformat_minor": 5
}

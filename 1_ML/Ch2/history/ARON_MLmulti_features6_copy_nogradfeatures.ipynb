{
 "cells": [
  {
   "cell_type": "code",
   "id": "initial_id",
   "metadata": {
    "collapsed": true,
    "ExecuteTime": {
     "end_time": "2024-11-03T21:10:54.026479Z",
     "start_time": "2024-11-03T21:10:51.166416Z"
    }
   },
   "source": [
    "import numpy as np\n",
    "from sklearn.metrics import confusion_matrix, recall_score, cohen_kappa_score\n",
    "\n",
    "from utils.loader import FactoryLoader\n",
    "from utils.ml import MLPipeline\n",
    "from utils.preprocessing import PreprocessingFactory\n",
    "from utils.feature_extraction import *\n",
    "from utils.utils import *\n",
    "\n",
    "VAL_PATH = r\"C:\\Users\\gimes\\Src\\repos\\CADx-Project\\dataset\\multiclass\\val\"\n",
    "TRAIN_PATH = r\"C:\\Users\\gimes\\Src\\repos\\CADx-Project\\dataset\\multiclass\\train\""
   ],
   "outputs": [
    {
     "name": "stderr",
     "output_type": "stream",
     "text": [
      "INFO:numexpr.utils:Note: NumExpr detected 16 cores but \"NUMEXPR_MAX_THREADS\" not set, so enforcing safe limit of 8.\n",
      "INFO:numexpr.utils:NumExpr defaulting to 8 threads.\n"
     ]
    }
   ],
   "execution_count": 1
  },
  {
   "metadata": {
    "ExecuteTime": {
     "end_time": "2024-11-03T21:10:54.054114Z",
     "start_time": "2024-11-03T21:10:54.026479Z"
    }
   },
   "cell_type": "code",
   "source": [
    "percent = 100\n",
    "random = False\n",
    "batch_size = 24\n",
    "th = 0.1\n",
    "\n",
    "# Initialize the FactoryLoader\n",
    "factory = PreprocessingFactory()\n",
    "factory.pad2square(fill=np.nan)\n",
    "factory.resize((200,200))\n",
    "factory.normalize2float()\n",
    "\n",
    "# Create the feature extraction pipeline strategy and add desired features\n",
    "strategy = FeatureExtractionStrategy()\n",
    "\n",
    "# strategy.add_extractor(GradientExtractor(threshold=th)) # Add gradient feature\n",
    "\n",
    "strategy.add_extractor(ColorMomentsExtractor(\"rgb\", threshold=th))   # Add color moments feature\n",
    "strategy.add_extractor(ColorMomentsExtractor(\"lab\", threshold=th))   # Add color moments feature\n",
    "strategy.add_extractor(ColorMomentsExtractor(\"hsv\", threshold=th))   # Add color moments feature\n",
    "\n",
    "strategy.add_extractor(LBPExtractor(radius=1, n_points=8))\n",
    "strategy.add_extractor(LBPExtractor(radius=2, n_points=16))\n",
    "strategy.add_extractor(LBPExtractor(radius=3, n_points=24))\n",
    "strategy.add_extractor(LBPExtractor(radius=4, n_points=32))\n",
    "strategy.add_extractor(LBPExtractor(radius=5, n_points=40))\n",
    "\n",
    "strategy.add_extractor(FourierTransformExtractor())\n",
    "strategy.add_extractor(FFTExtractor())\n",
    "\n",
    "strategy.add_extractor(GLCMExtractor(properties=['contrast', 'dissimilarity', 'homogeneity', 'energy', 'correlation', 'ASM']))\n",
    "\n",
    "pipeline = MLPipeline(dataset_path=TRAIN_PATH, preprocessing_factory=factory, feature_strategy=strategy, classifiers=[], percentage=percent, verbose=True, shuffle=random, batch_size=batch_size)"
   ],
   "id": "d7c81ba220d9e517",
   "outputs": [
    {
     "name": "stderr",
     "output_type": "stream",
     "text": [
      "INFO:utils.ml:MLPipeline initialized with dataset path: C:\\Users\\gimes\\Src\\repos\\CADx-Project\\dataset\\multiclass\\train\n",
      "INFO:utils.ml:Preprocessing steps\n"
     ]
    }
   ],
   "execution_count": 2
  },
  {
   "metadata": {
    "ExecuteTime": {
     "end_time": "2024-11-03T21:26:44.756330Z",
     "start_time": "2024-11-03T21:10:54.110460Z"
    }
   },
   "cell_type": "code",
   "source": [
    "pipeline.feature_matrix = None\n",
    "pipeline.run_feature_extraction()"
   ],
   "id": "21f510c52296a049",
   "outputs": [
    {
     "name": "stderr",
     "output_type": "stream",
     "text": [
      "INFO:utils.ml:Running feature extraction...\n"
     ]
    },
    {
     "name": "stdout",
     "output_type": "stream",
     "text": [
      "Processed 5/212 batches.\n",
      "Processed 10/212 batches.\n",
      "Processed 15/212 batches.\n",
      "Processed 20/212 batches.\n",
      "Processed 25/212 batches.\n",
      "Processed 30/212 batches.\n",
      "Processed 35/212 batches.\n",
      "Processed 40/212 batches.\n",
      "Processed 45/212 batches.\n",
      "Processed 50/212 batches.\n",
      "Processed 55/212 batches.\n",
      "Processed 60/212 batches.\n",
      "Processed 65/212 batches.\n",
      "Processed 70/212 batches.\n",
      "Processed 75/212 batches.\n",
      "Processed 80/212 batches.\n",
      "Processed 85/212 batches.\n",
      "Processed 90/212 batches.\n",
      "Processed 95/212 batches.\n",
      "Processed 100/212 batches.\n",
      "Processed 105/212 batches.\n",
      "Processed 110/212 batches.\n",
      "Processed 115/212 batches.\n",
      "Processed 120/212 batches.\n",
      "Processed 125/212 batches.\n",
      "Processed 130/212 batches.\n",
      "Processed 135/212 batches.\n",
      "Processed 140/212 batches.\n",
      "Processed 145/212 batches.\n",
      "Processed 150/212 batches.\n",
      "Processed 155/212 batches.\n",
      "Processed 160/212 batches.\n",
      "Processed 165/212 batches.\n",
      "Processed 170/212 batches.\n",
      "Processed 175/212 batches.\n",
      "Processed 180/212 batches.\n",
      "Processed 185/212 batches.\n",
      "Processed 190/212 batches.\n",
      "Processed 195/212 batches.\n",
      "Processed 200/212 batches.\n",
      "Processed 205/212 batches.\n",
      "Processed 210/212 batches.\n"
     ]
    },
    {
     "name": "stderr",
     "output_type": "stream",
     "text": [
      "INFO:utils.ml:Feature extraction completed. Extracted 5082 features.\n"
     ]
    },
    {
     "name": "stdout",
     "output_type": "stream",
     "text": [
      "Processed 212/212 batches.\n"
     ]
    }
   ],
   "execution_count": 3
  },
  {
   "metadata": {
    "ExecuteTime": {
     "end_time": "2024-11-03T21:26:44.841524Z",
     "start_time": "2024-11-03T21:26:44.762413Z"
    }
   },
   "cell_type": "code",
   "source": [
    "from xgboost import XGBClassifier\n",
    "from sklearn.ensemble import RandomForestClassifier\n",
    "\n",
    "xgb0 = XGBClassifier(learning_rate=0.1, n_estimators=400, max_depth=7, min_child_weight=3, subsample=0.7, colsample_bytree=0.7)\n",
    "xgb1 = XGBClassifier(learning_rate=0.1, n_estimators=400, max_depth=5, min_child_weight=5, gamma=0.2, subsample=0.8, colsample_bytree=0.8)\n",
    "xgb2 = XGBClassifier(learning_rate=0.1, n_estimators=400, max_depth=5, min_child_weight=1, subsample=0.8, colsample_bytree=0.8, reg_alpha=0.1, reg_lambda=0.1)\n",
    "xgb3 = XGBClassifier(learning_rate=0.1, n_estimators=400, max_depth=7, min_child_weight=1, subsample=0.8, colsample_bytree=0.8) # THIS!!\n",
    "xgb4 = XGBClassifier(learning_rate=0.1, n_estimators=500, max_depth=7, min_child_weight=1, subsample=0.8, colsample_bytree=0.8)\n",
    "xgb5 = XGBClassifier(learning_rate=0.1, n_estimators=750, max_depth=7, min_child_weight=3, subsample=0.7, colsample_bytree=0.7)\n",
    "xgb6 = XGBClassifier(learning_rate=0.1, n_estimators=750, max_depth=5, min_child_weight=5, gamma=0.2, subsample=0.8, colsample_bytree=0.8) # THIS\n",
    "xgb7 = XGBClassifier(learning_rate=0.1, n_estimators=750, max_depth=5, min_child_weight=1, subsample=0.8, colsample_bytree=0.8, reg_alpha=0.1, reg_lambda=0.1) # THIS\n",
    "xgb8 = XGBClassifier(learning_rate=0.1, n_estimators=1000, max_depth=7, min_child_weight=3, subsample=0.7, colsample_bytree=0.7)\n",
    "xgb9 = XGBClassifier(learning_rate=0.1, n_estimators=1000, max_depth=5, min_child_weight=5, gamma=0.2, subsample=0.8, colsample_bytree=0.8)\n",
    "xgb10 = XGBClassifier(learning_rate=0.1, n_estimators=1000, max_depth=5, min_child_weight=1, subsample=0.8, colsample_bytree=0.8, reg_alpha=0.1, reg_lambda=0.1)\n",
    "xgb11 = XGBClassifier(learning_rate=0.1, n_estimators=1000, max_depth=7, min_child_weight=1, subsample=0.8, colsample_bytree=0.8)\n",
    "xgb12 = XGBClassifier(learning_rate=0.1, n_estimators=1000, max_depth=9, min_child_weight=1, subsample=0.8, colsample_bytree=0.8)\n",
    "xgb13 = XGBClassifier(learning_rate=0.1, n_estimators=1000, max_depth=5, min_child_weight=5, gamma=0.2, subsample=0.8, colsample_bytree=0.8)\n",
    "xgb14 = XGBClassifier(learning_rate=0.1, n_estimators=1000, max_depth=5, min_child_weight=1, subsample=0.8, colsample_bytree=0.8, reg_alpha=0.1, reg_lambda=0.1)\n",
    "xgb15 = XGBClassifier(learning_rate=0.1, n_estimators=1000, max_depth=7, min_child_weight=1, subsample=0.8, colsample_bytree=0.8)\n",
    "xgb16 = XGBClassifier(learning_rate=0.1, n_estimators=1000, max_depth=9, min_child_weight=1, subsample=0.8, colsample_bytree=0.8)\n",
    "\n",
    "CLFS = [xgb0, xgb1, xgb2, xgb3, xgb4, xgb5, xgb6, xgb7, xgb8, xgb9, xgb10, xgb11, xgb12, xgb13, xgb14, xgb15, xgb16]\n",
    "\n",
    "pipeline.classifiers = CLFS.copy()\n",
    "pipeline.fitted_classifiers = {}"
   ],
   "id": "74470ba20848a156",
   "outputs": [],
   "execution_count": 4
  },
  {
   "metadata": {},
   "cell_type": "markdown",
   "source": [
    "___\n",
    "# Balance the data"
   ],
   "id": "ad0e6dcd404dcf15"
  },
  {
   "metadata": {
    "ExecuteTime": {
     "end_time": "2024-11-03T21:26:44.864185Z",
     "start_time": "2024-11-03T21:26:44.854667Z"
    }
   },
   "cell_type": "code",
   "source": [
    "# Backup\n",
    "pipeline.backup_feature_matrix = pipeline.feature_matrix.copy()\n",
    "pipeline.backup_labels = pipeline.labels.copy()"
   ],
   "id": "da1b19771d4cde2f",
   "outputs": [],
   "execution_count": 5
  },
  {
   "metadata": {
    "ExecuteTime": {
     "end_time": "2024-11-03T21:26:45.276114Z",
     "start_time": "2024-11-03T21:26:44.883212Z"
    }
   },
   "cell_type": "code",
   "source": [
    "from imblearn.over_sampling import SMOTE\n",
    "\n",
    "smote = SMOTE(random_state=42)\n",
    "\n",
    "pipeline.feature_matrix, pipeline.labels = smote.fit_resample(np.nan_to_num(pipeline.feature_matrix), pipeline.labels)"
   ],
   "id": "6f226a41aafa84b7",
   "outputs": [],
   "execution_count": 6
  },
  {
   "metadata": {
    "ExecuteTime": {
     "end_time": "2024-11-03T21:26:45.293925Z",
     "start_time": "2024-11-03T21:26:45.288291Z"
    }
   },
   "cell_type": "code",
   "source": [
    "print(pipeline.backup_feature_matrix.shape)\n",
    "print(pipeline.feature_matrix.shape)\n",
    "\n",
    "print(pipeline.backup_labels.shape)\n",
    "print(pipeline.labels.shape)"
   ],
   "id": "3425dcf3bd509008",
   "outputs": [
    {
     "name": "stdout",
     "output_type": "stream",
     "text": [
      "(5082, 515)\n",
      "(8139, 515)\n",
      "(5082,)\n",
      "(8139,)\n"
     ]
    }
   ],
   "execution_count": 7
  },
  {
   "metadata": {
    "ExecuteTime": {
     "end_time": "2024-11-03T21:49:00.777711Z",
     "start_time": "2024-11-03T21:26:45.308690Z"
    }
   },
   "cell_type": "code",
   "source": [
    "pipeline.fitted_classifiers = {}\n",
    "pipeline.classifiers = CLFS.copy()\n",
    "pipeline.fit_classifiers()"
   ],
   "id": "e25b1eeaa9b9b112",
   "outputs": [
    {
     "name": "stderr",
     "output_type": "stream",
     "text": [
      "INFO:utils.ml:Fitting classifiers...\n",
      "INFO:utils.ml:Fitting classifier: XGBClassifier0\n",
      "INFO:utils.ml:Top 10 features for XGBClassifier0: [('color_moments_rgb_B_iqr', 0.028615378), ('color_moments_lab_L_iqr', 0.01334318), ('fft_radial_variance_60', 0.010134835), ('fft_radial_mean_124', 0.009946537), ('color_moments_lab_B_var', 0.009753419), ('fft_radial_mean_136', 0.009314835), ('fft_radial_mean_119', 0.008991812), ('lbp_rad4_bins32_20', 0.008428258), ('lbp_rad4_bins32_6', 0.007591425), ('fft_high_freq_energy', 0.0075581158)]\n",
      "INFO:utils.ml:Fitted classifier: XGBClassifier0; Done in 24.457500219345093 seconds\n",
      "INFO:utils.ml:Fitting classifier: XGBClassifier1\n",
      "INFO:utils.ml:Top 10 features for XGBClassifier1: [('color_moments_rgb_B_iqr', 0.030106395), ('color_moments_lab_L_iqr', 0.015473072), ('color_moments_lab_B_var', 0.01024112), ('lbp_rad4_bins32_6', 0.008722955), ('lbp_rad1_bins8_4', 0.008626933), ('lbp_rad4_bins32_20', 0.008139322), ('fft_radial_variance_35', 0.0076102023), ('color_moments_lab_B_std', 0.00730701), ('color_moments_hsv_H_median', 0.006904903), ('fft_high_freq_energy', 0.0068161185)]\n",
      "INFO:utils.ml:Fitted classifier: XGBClassifier1; Done in 16.257824182510376 seconds\n",
      "INFO:utils.ml:Fitting classifier: XGBClassifier2\n",
      "INFO:utils.ml:Top 10 features for XGBClassifier2: [('color_moments_rgb_B_iqr', 0.031409655), ('color_moments_lab_L_iqr', 0.017549818), ('fft_radial_mean_113', 0.011342143), ('color_moments_lab_B_var', 0.0112764975), ('lbp_rad1_bins8_4', 0.008877133), ('lbp_rad4_bins32_20', 0.008381067), ('fft_radial_variance_35', 0.007732976), ('lbp_rad4_bins32_6', 0.007684377), ('fft_radial_variance_12', 0.0075125303), ('fft_radial_mean_102', 0.007237021)]\n",
      "INFO:utils.ml:Fitted classifier: XGBClassifier2; Done in 18.802525281906128 seconds\n",
      "INFO:utils.ml:Fitting classifier: XGBClassifier3\n",
      "INFO:utils.ml:Top 10 features for XGBClassifier3: [('color_moments_rgb_B_iqr', 0.030253869), ('color_moments_lab_L_iqr', 0.014136475), ('fft_radial_variance_40', 0.011643643), ('color_moments_lab_B_var', 0.011281544), ('fft_radial_mean_133', 0.009773317), ('fft_radial_variance_83', 0.009433616), ('fft_radial_variance_54', 0.00918788), ('lbp_rad4_bins32_20', 0.009109087), ('lbp_rad1_bins8_4', 0.008000522), ('color_moments_hsv_H_median', 0.007457066)]\n",
      "INFO:utils.ml:Fitted classifier: XGBClassifier3; Done in 45.09336709976196 seconds\n",
      "INFO:utils.ml:Fitting classifier: XGBClassifier4\n",
      "INFO:utils.ml:Top 10 features for XGBClassifier4: [('color_moments_rgb_B_iqr', 0.030346317), ('color_moments_lab_L_iqr', 0.013839302), ('fft_radial_variance_40', 0.01256513), ('color_moments_lab_B_var', 0.011158815), ('fft_radial_mean_133', 0.010546785), ('fft_radial_variance_83', 0.0101801995), ('fft_radial_variance_54', 0.009915017), ('lbp_rad4_bins32_20', 0.009514301), ('lbp_rad1_bins8_4', 0.008055994), ('fft_radial_variance_57', 0.0077297054)]\n",
      "INFO:utils.ml:Fitted classifier: XGBClassifier4; Done in 56.37404274940491 seconds\n",
      "INFO:utils.ml:Fitting classifier: XGBClassifier5\n",
      "INFO:utils.ml:Top 10 features for XGBClassifier5: [('color_moments_rgb_B_iqr', 0.028165895), ('color_moments_lab_L_iqr', 0.012847064), ('fft_radial_variance_60', 0.012305771), ('fft_radial_mean_124', 0.012077141), ('color_moments_lab_B_var', 0.010082088), ('lbp_rad4_bins32_20', 0.008866382), ('fft_radial_mean_136', 0.0075614396), ('fft_radial_variance_91', 0.0074323877), ('fft_high_freq_energy', 0.0073929946), ('lbp_rad1_bins8_4', 0.0073204488)]\n",
      "INFO:utils.ml:Fitted classifier: XGBClassifier5; Done in 65.2010612487793 seconds\n",
      "INFO:utils.ml:Fitting classifier: XGBClassifier6\n",
      "INFO:utils.ml:Top 10 features for XGBClassifier6: [('color_moments_rgb_B_iqr', 0.03043669), ('color_moments_lab_L_iqr', 0.015148418), ('color_moments_lab_B_var', 0.01016251), ('lbp_rad4_bins32_6', 0.008701307), ('lbp_rad1_bins8_4', 0.008659093), ('fft_radial_variance_35', 0.008246195), ('lbp_rad4_bins32_20', 0.008180691), ('fft_radial_mean_82', 0.0073650344), ('color_moments_lab_B_std', 0.007172697), ('color_moments_hsv_H_median', 0.0069578807)]\n",
      "INFO:utils.ml:Fitted classifier: XGBClassifier6; Done in 37.38024544715881 seconds\n",
      "INFO:utils.ml:Fitting classifier: XGBClassifier7\n",
      "INFO:utils.ml:Top 10 features for XGBClassifier7: [('color_moments_rgb_B_iqr', 0.03180548), ('color_moments_lab_L_iqr', 0.01576523), ('fft_radial_mean_113', 0.011805014), ('color_moments_lab_B_var', 0.011348352), ('lbp_rad1_bins8_4', 0.009536164), ('lbp_rad4_bins32_20', 0.009226857), ('fft_radial_variance_35', 0.009035948), ('fft_radial_mean_65', 0.008227761), ('color_moments_hsv_H_median', 0.007174738), ('lbp_rad4_bins32_6', 0.006954477)]\n",
      "INFO:utils.ml:Fitted classifier: XGBClassifier7; Done in 57.325031995773315 seconds\n",
      "INFO:utils.ml:Fitting classifier: XGBClassifier8\n",
      "INFO:utils.ml:Top 10 features for XGBClassifier8: [('color_moments_rgb_B_iqr', 0.02821191), ('fft_radial_variance_60', 0.013224067), ('fft_radial_mean_124', 0.012978375), ('color_moments_lab_L_iqr', 0.012622391), ('color_moments_lab_B_var', 0.0102094), ('lbp_rad4_bins32_20', 0.009349025), ('fft_radial_mean_136', 0.008125698), ('fft_radial_variance_91', 0.007987016), ('fft_high_freq_energy', 0.0074484004), ('lbp_rad1_bins8_4', 0.0073820087)]\n",
      "INFO:utils.ml:Fitted classifier: XGBClassifier8; Done in 93.66753339767456 seconds\n",
      "INFO:utils.ml:Fitting classifier: XGBClassifier9\n",
      "INFO:utils.ml:Top 10 features for XGBClassifier9: [('color_moments_rgb_B_iqr', 0.030094665), ('color_moments_lab_L_iqr', 0.015117564), ('color_moments_lab_B_var', 0.010250378), ('lbp_rad1_bins8_4', 0.008733963), ('lbp_rad4_bins32_6', 0.008606037), ('fft_radial_variance_35', 0.008317494), ('lbp_rad4_bins32_20', 0.007966987), ('fft_radial_mean_82', 0.007428715), ('color_moments_lab_B_std', 0.007169027), ('color_moments_hsv_H_median', 0.0069733625)]\n",
      "INFO:utils.ml:Fitted classifier: XGBClassifier9; Done in 66.71524095535278 seconds\n",
      "INFO:utils.ml:Fitting classifier: XGBClassifier10\n",
      "INFO:utils.ml:Top 10 features for XGBClassifier10: [('color_moments_rgb_B_iqr', 0.031421058), ('color_moments_lab_L_iqr', 0.015946504), ('fft_radial_mean_113', 0.013904006), ('color_moments_lab_B_var', 0.011574208), ('lbp_rad1_bins8_4', 0.009491715), ('lbp_rad4_bins32_20', 0.009395754), ('fft_radial_variance_35', 0.0085163945), ('fft_radial_variance_54', 0.0075163604), ('color_moments_hsv_H_median', 0.007446141), ('fft_radial_variance_67', 0.0071788165)]\n",
      "INFO:utils.ml:Fitted classifier: XGBClassifier10; Done in 109.5074200630188 seconds\n",
      "INFO:utils.ml:Fitting classifier: XGBClassifier11\n",
      "INFO:utils.ml:Top 10 features for XGBClassifier11: [('color_moments_rgb_B_iqr', 0.030550983), ('color_moments_lab_L_iqr', 0.013985584), ('fft_radial_variance_40', 0.012476703), ('color_moments_lab_B_var', 0.0112306075), ('lbp_rad4_bins32_20', 0.009760426), ('fft_radial_variance_57', 0.009588758), ('lbp_rad1_bins8_4', 0.008354915), ('fft_radial_variance_125', 0.007653308), ('color_moments_hsv_H_median', 0.007337398), ('color_moments_lab_B_std', 0.0069685043)]\n",
      "INFO:utils.ml:Fitted classifier: XGBClassifier11; Done in 137.3083245754242 seconds\n",
      "INFO:utils.ml:Fitting classifier: XGBClassifier12\n",
      "INFO:utils.ml:Top 10 features for XGBClassifier12: [('color_moments_rgb_B_iqr', 0.03030127), ('color_moments_lab_L_iqr', 0.013741763), ('fft_radial_mean_133', 0.011850309), ('color_moments_lab_B_var', 0.011229201), ('lbp_rad4_bins32_20', 0.008897095), ('lbp_rad1_bins8_4', 0.008752527), ('fft_radial_mean_108', 0.008504419), ('lbp_rad4_bins32_6', 0.008285037), ('color_moments_hsv_H_median', 0.0074397093), ('color_moments_lab_B_std', 0.0067267525)]\n",
      "INFO:utils.ml:Fitted classifier: XGBClassifier12; Done in 148.07588076591492 seconds\n",
      "INFO:utils.ml:Fitting classifier: XGBClassifier13\n",
      "INFO:utils.ml:Top 10 features for XGBClassifier13: [('color_moments_rgb_B_iqr', 0.030094665), ('color_moments_lab_L_iqr', 0.015117564), ('color_moments_lab_B_var', 0.010250378), ('lbp_rad1_bins8_4', 0.008733963), ('lbp_rad4_bins32_6', 0.008606037), ('fft_radial_variance_35', 0.008317494), ('lbp_rad4_bins32_20', 0.007966987), ('fft_radial_mean_82', 0.007428715), ('color_moments_lab_B_std', 0.007169027), ('color_moments_hsv_H_median', 0.0069733625)]\n",
      "INFO:utils.ml:Fitted classifier: XGBClassifier13; Done in 66.06136512756348 seconds\n",
      "INFO:utils.ml:Fitting classifier: XGBClassifier14\n",
      "INFO:utils.ml:Top 10 features for XGBClassifier14: [('color_moments_rgb_B_iqr', 0.031421058), ('color_moments_lab_L_iqr', 0.015946504), ('fft_radial_mean_113', 0.013904006), ('color_moments_lab_B_var', 0.011574208), ('lbp_rad1_bins8_4', 0.009491715), ('lbp_rad4_bins32_20', 0.009395754), ('fft_radial_variance_35', 0.0085163945), ('fft_radial_variance_54', 0.0075163604), ('color_moments_hsv_H_median', 0.007446141), ('fft_radial_variance_67', 0.0071788165)]\n",
      "INFO:utils.ml:Fitted classifier: XGBClassifier14; Done in 104.25902795791626 seconds\n",
      "INFO:utils.ml:Fitting classifier: XGBClassifier15\n",
      "INFO:utils.ml:Top 10 features for XGBClassifier15: [('color_moments_rgb_B_iqr', 0.030550983), ('color_moments_lab_L_iqr', 0.013985584), ('fft_radial_variance_40', 0.012476703), ('color_moments_lab_B_var', 0.0112306075), ('lbp_rad4_bins32_20', 0.009760426), ('fft_radial_variance_57', 0.009588758), ('lbp_rad1_bins8_4', 0.008354915), ('fft_radial_variance_125', 0.007653308), ('color_moments_hsv_H_median', 0.007337398), ('color_moments_lab_B_std', 0.0069685043)]\n",
      "INFO:utils.ml:Fitted classifier: XGBClassifier15; Done in 136.8110499382019 seconds\n",
      "INFO:utils.ml:Fitting classifier: XGBClassifier16\n",
      "INFO:utils.ml:Top 10 features for XGBClassifier16: [('color_moments_rgb_B_iqr', 0.03030127), ('color_moments_lab_L_iqr', 0.013741763), ('fft_radial_mean_133', 0.011850309), ('color_moments_lab_B_var', 0.011229201), ('lbp_rad4_bins32_20', 0.008897095), ('lbp_rad1_bins8_4', 0.008752527), ('fft_radial_mean_108', 0.008504419), ('lbp_rad4_bins32_6', 0.008285037), ('color_moments_hsv_H_median', 0.0074397093), ('color_moments_lab_B_std', 0.0067267525)]\n",
      "INFO:utils.ml:Fitted classifier: XGBClassifier16; Done in 152.1398115158081 seconds\n",
      "INFO:utils.ml:Fitting completed in 1335.45 seconds.\n"
     ]
    }
   ],
   "execution_count": 8
  },
  {
   "metadata": {
    "ExecuteTime": {
     "end_time": "2024-11-03T21:54:07.300241Z",
     "start_time": "2024-11-03T21:49:00.823402Z"
    }
   },
   "cell_type": "code",
   "source": "pipeline.predict_with_classifiers(VAL_PATH, percent)",
   "id": "eaa13003ad0706a4",
   "outputs": [
    {
     "name": "stderr",
     "output_type": "stream",
     "text": [
      "INFO:utils.ml:Predicting with classifiers on dataset: C:\\Users\\gimes\\Src\\repos\\CADx-Project\\dataset\\multiclass\\val\n"
     ]
    },
    {
     "name": "stdout",
     "output_type": "stream",
     "text": [
      "Processed 5/53 batches.\n",
      "Processed 10/53 batches.\n",
      "Processed 15/53 batches.\n",
      "Processed 20/53 batches.\n",
      "Processed 25/53 batches.\n",
      "Processed 30/53 batches.\n",
      "Processed 35/53 batches.\n",
      "Processed 40/53 batches.\n",
      "Processed 45/53 batches.\n",
      "Processed 50/53 batches.\n"
     ]
    },
    {
     "name": "stderr",
     "output_type": "stream",
     "text": [
      "INFO:utils.ml:Predictions made with classifier: XGBClassifier0\n",
      "INFO:utils.ml:Predictions made with classifier: XGBClassifier1\n",
      "INFO:utils.ml:Predictions made with classifier: XGBClassifier2\n",
      "INFO:utils.ml:Predictions made with classifier: XGBClassifier3\n",
      "INFO:utils.ml:Predictions made with classifier: XGBClassifier4\n",
      "INFO:utils.ml:Predictions made with classifier: XGBClassifier5\n",
      "INFO:utils.ml:Predictions made with classifier: XGBClassifier6\n",
      "INFO:utils.ml:Predictions made with classifier: XGBClassifier7\n",
      "INFO:utils.ml:Predictions made with classifier: XGBClassifier8\n",
      "INFO:utils.ml:Predictions made with classifier: XGBClassifier9\n",
      "INFO:utils.ml:Predictions made with classifier: XGBClassifier10\n",
      "INFO:utils.ml:Predictions made with classifier: XGBClassifier11\n",
      "INFO:utils.ml:Predictions made with classifier: XGBClassifier12\n",
      "INFO:utils.ml:Predictions made with classifier: XGBClassifier13\n",
      "INFO:utils.ml:Predictions made with classifier: XGBClassifier14\n"
     ]
    },
    {
     "name": "stdout",
     "output_type": "stream",
     "text": [
      "Processed 53/53 batches.\n"
     ]
    },
    {
     "name": "stderr",
     "output_type": "stream",
     "text": [
      "INFO:utils.ml:Predictions made with classifier: XGBClassifier15\n",
      "INFO:utils.ml:Predictions made with classifier: XGBClassifier16\n"
     ]
    },
    {
     "data": {
      "text/plain": [
       "{'GT': array([0, 0, 0, ..., 2, 2, 2]),\n",
       " 'XGBClassifier0': array([0, 0, 2, ..., 1, 2, 0], dtype=int64),\n",
       " 'XGBClassifier1': array([0, 0, 2, ..., 0, 2, 2], dtype=int64),\n",
       " 'XGBClassifier2': array([0, 0, 2, ..., 0, 2, 0], dtype=int64),\n",
       " 'XGBClassifier3': array([0, 0, 2, ..., 1, 2, 0], dtype=int64),\n",
       " 'XGBClassifier4': array([0, 0, 2, ..., 1, 2, 0], dtype=int64),\n",
       " 'XGBClassifier5': array([0, 0, 2, ..., 0, 2, 0], dtype=int64),\n",
       " 'XGBClassifier6': array([0, 0, 2, ..., 0, 2, 0], dtype=int64),\n",
       " 'XGBClassifier7': array([0, 0, 2, ..., 0, 2, 0], dtype=int64),\n",
       " 'XGBClassifier8': array([0, 0, 2, ..., 0, 2, 0], dtype=int64),\n",
       " 'XGBClassifier9': array([0, 0, 2, ..., 0, 2, 0], dtype=int64),\n",
       " 'XGBClassifier10': array([0, 0, 2, ..., 0, 2, 0], dtype=int64),\n",
       " 'XGBClassifier11': array([0, 0, 2, ..., 1, 2, 0], dtype=int64),\n",
       " 'XGBClassifier12': array([0, 0, 2, ..., 1, 2, 0], dtype=int64),\n",
       " 'XGBClassifier13': array([0, 0, 2, ..., 0, 2, 0], dtype=int64),\n",
       " 'XGBClassifier14': array([0, 0, 2, ..., 0, 2, 0], dtype=int64),\n",
       " 'XGBClassifier15': array([0, 0, 2, ..., 1, 2, 0], dtype=int64),\n",
       " 'XGBClassifier16': array([0, 0, 2, ..., 1, 2, 0], dtype=int64)}"
      ]
     },
     "execution_count": 9,
     "metadata": {},
     "output_type": "execute_result"
    }
   ],
   "execution_count": 9
  },
  {
   "metadata": {
    "ExecuteTime": {
     "end_time": "2024-11-03T21:54:07.483866Z",
     "start_time": "2024-11-03T21:54:07.323856Z"
    }
   },
   "cell_type": "code",
   "source": [
    "import pandas as pd\n",
    "\n",
    "smote_classifiers = pipeline.fitted_classifiers.copy()\n",
    "smote_predictions = pipeline.predictions.copy()\n",
    "\n",
    "df_smote = pd.DataFrame(data=pipeline.calculate_metrics())\n",
    "df_smote = df_smote.T\n",
    "df_smote"
   ],
   "id": "c07d748cb247f0f6",
   "outputs": [
    {
     "name": "stderr",
     "output_type": "stream",
     "text": [
      "INFO:utils.ml:Metrics for classifier GT: {'accuracy': 1.0, 'precision': 1.0, 'recall': 1.0, 'f1': 1.0, 'kappa': 1.0}\n",
      "INFO:utils.ml:Metrics for classifier XGBClassifier0: {'accuracy': 0.8740157480314961, 'precision': 0.7811015976581465, 'recall': 0.7750351181919669, 'f1': 0.7779800360863746, 'kappa': 0.7727171043801172}\n",
      "INFO:utils.ml:Metrics for classifier XGBClassifier1: {'accuracy': 0.8724409448818897, 'precision': 0.7674425879095989, 'recall': 0.7745849398976689, 'f1': 0.770879351927715, 'kappa': 0.7714040639277524}\n",
      "INFO:utils.ml:Metrics for classifier XGBClassifier2: {'accuracy': 0.8771653543307086, 'precision': 0.7797001888029075, 'recall': 0.7721366858257103, 'f1': 0.7756882901132224, 'kappa': 0.7786002601547518}\n",
      "INFO:utils.ml:Metrics for classifier XGBClassifier3: {'accuracy': 0.868503937007874, 'precision': 0.7690750531990416, 'recall': 0.7617194441482745, 'f1': 0.7652600605510687, 'kappa': 0.762522729919292}\n",
      "INFO:utils.ml:Metrics for classifier XGBClassifier4: {'accuracy': 0.8708661417322835, 'precision': 0.7755750393999241, 'recall': 0.7664265295664551, 'f1': 0.7707977317245831, 'kappa': 0.7666361908859489}\n",
      "INFO:utils.ml:Metrics for classifier XGBClassifier5: {'accuracy': 0.8779527559055118, 'precision': 0.7887691710347505, 'recall': 0.7753273811999395, 'f1': 0.7815709698641218, 'kappa': 0.7794101167663999}\n",
      "INFO:utils.ml:Metrics for classifier XGBClassifier6: {'accuracy': 0.8700787401574803, 'precision': 0.7616052052635314, 'recall': 0.7635912381087774, 'f1': 0.7625749438521225, 'kappa': 0.7666585007349338}\n",
      "INFO:utils.ml:Metrics for classifier XGBClassifier7: {'accuracy': 0.8803149606299212, 'precision': 0.7838280212974889, 'recall': 0.7773354133284535, 'f1': 0.780428325269353, 'kappa': 0.7842877831613952}\n",
      "INFO:utils.ml:Metrics for classifier XGBClassifier8: {'accuracy': 0.8763779527559055, 'precision': 0.7859206967915592, 'recall': 0.7684128845766547, 'f1': 0.7762943382412409, 'kappa': 0.7763502660600676}\n",
      "INFO:utils.ml:Metrics for classifier XGBClassifier9: {'accuracy': 0.8708661417322835, 'precision': 0.7627201720760737, 'recall': 0.7669596354412818, 'f1': 0.7647898509329574, 'kappa': 0.7682347652303186}\n",
      "INFO:utils.ml:Metrics for classifier XGBClassifier10: {'accuracy': 0.8795275590551181, 'precision': 0.7832196598850288, 'recall': 0.7709125587897313, 'f1': 0.7765934849170453, 'kappa': 0.7823881198763607}\n",
      "INFO:utils.ml:Metrics for classifier XGBClassifier11: {'accuracy': 0.8716535433070867, 'precision': 0.7793703856533302, 'recall': 0.7672735755675687, 'f1': 0.7729617155043839, 'kappa': 0.7678958250176032}\n",
      "INFO:utils.ml:Metrics for classifier XGBClassifier12: {'accuracy': 0.8700787401574803, 'precision': 0.7726055727529691, 'recall': 0.757837727612893, 'f1': 0.7645236424115653, 'kappa': 0.7651079685061966}\n",
      "INFO:utils.ml:Metrics for classifier XGBClassifier13: {'accuracy': 0.8708661417322835, 'precision': 0.7627201720760737, 'recall': 0.7669596354412818, 'f1': 0.7647898509329574, 'kappa': 0.7682347652303186}\n",
      "INFO:utils.ml:Metrics for classifier XGBClassifier14: {'accuracy': 0.8795275590551181, 'precision': 0.7832196598850288, 'recall': 0.7709125587897313, 'f1': 0.7765934849170453, 'kappa': 0.7823881198763607}\n",
      "INFO:utils.ml:Metrics for classifier XGBClassifier15: {'accuracy': 0.8716535433070867, 'precision': 0.7793703856533302, 'recall': 0.7672735755675687, 'f1': 0.7729617155043839, 'kappa': 0.7678958250176032}\n",
      "INFO:utils.ml:Metrics for classifier XGBClassifier16: {'accuracy': 0.8700787401574803, 'precision': 0.7726055727529691, 'recall': 0.757837727612893, 'f1': 0.7645236424115653, 'kappa': 0.7651079685061966}\n"
     ]
    },
    {
     "data": {
      "text/plain": [
       "                 accuracy  precision    recall        f1     kappa\n",
       "GT               1.000000   1.000000  1.000000  1.000000  1.000000\n",
       "XGBClassifier0   0.874016   0.781102  0.775035  0.777980  0.772717\n",
       "XGBClassifier1   0.872441   0.767443  0.774585  0.770879  0.771404\n",
       "XGBClassifier2   0.877165   0.779700  0.772137  0.775688  0.778600\n",
       "XGBClassifier3   0.868504   0.769075  0.761719  0.765260  0.762523\n",
       "XGBClassifier4   0.870866   0.775575  0.766427  0.770798  0.766636\n",
       "XGBClassifier5   0.877953   0.788769  0.775327  0.781571  0.779410\n",
       "XGBClassifier6   0.870079   0.761605  0.763591  0.762575  0.766659\n",
       "XGBClassifier7   0.880315   0.783828  0.777335  0.780428  0.784288\n",
       "XGBClassifier8   0.876378   0.785921  0.768413  0.776294  0.776350\n",
       "XGBClassifier9   0.870866   0.762720  0.766960  0.764790  0.768235\n",
       "XGBClassifier10  0.879528   0.783220  0.770913  0.776593  0.782388\n",
       "XGBClassifier11  0.871654   0.779370  0.767274  0.772962  0.767896\n",
       "XGBClassifier12  0.870079   0.772606  0.757838  0.764524  0.765108\n",
       "XGBClassifier13  0.870866   0.762720  0.766960  0.764790  0.768235\n",
       "XGBClassifier14  0.879528   0.783220  0.770913  0.776593  0.782388\n",
       "XGBClassifier15  0.871654   0.779370  0.767274  0.772962  0.767896\n",
       "XGBClassifier16  0.870079   0.772606  0.757838  0.764524  0.765108"
      ],
      "text/html": [
       "<div>\n",
       "<style scoped>\n",
       "    .dataframe tbody tr th:only-of-type {\n",
       "        vertical-align: middle;\n",
       "    }\n",
       "\n",
       "    .dataframe tbody tr th {\n",
       "        vertical-align: top;\n",
       "    }\n",
       "\n",
       "    .dataframe thead th {\n",
       "        text-align: right;\n",
       "    }\n",
       "</style>\n",
       "<table border=\"1\" class=\"dataframe\">\n",
       "  <thead>\n",
       "    <tr style=\"text-align: right;\">\n",
       "      <th></th>\n",
       "      <th>accuracy</th>\n",
       "      <th>precision</th>\n",
       "      <th>recall</th>\n",
       "      <th>f1</th>\n",
       "      <th>kappa</th>\n",
       "    </tr>\n",
       "  </thead>\n",
       "  <tbody>\n",
       "    <tr>\n",
       "      <th>GT</th>\n",
       "      <td>1.000000</td>\n",
       "      <td>1.000000</td>\n",
       "      <td>1.000000</td>\n",
       "      <td>1.000000</td>\n",
       "      <td>1.000000</td>\n",
       "    </tr>\n",
       "    <tr>\n",
       "      <th>XGBClassifier0</th>\n",
       "      <td>0.874016</td>\n",
       "      <td>0.781102</td>\n",
       "      <td>0.775035</td>\n",
       "      <td>0.777980</td>\n",
       "      <td>0.772717</td>\n",
       "    </tr>\n",
       "    <tr>\n",
       "      <th>XGBClassifier1</th>\n",
       "      <td>0.872441</td>\n",
       "      <td>0.767443</td>\n",
       "      <td>0.774585</td>\n",
       "      <td>0.770879</td>\n",
       "      <td>0.771404</td>\n",
       "    </tr>\n",
       "    <tr>\n",
       "      <th>XGBClassifier2</th>\n",
       "      <td>0.877165</td>\n",
       "      <td>0.779700</td>\n",
       "      <td>0.772137</td>\n",
       "      <td>0.775688</td>\n",
       "      <td>0.778600</td>\n",
       "    </tr>\n",
       "    <tr>\n",
       "      <th>XGBClassifier3</th>\n",
       "      <td>0.868504</td>\n",
       "      <td>0.769075</td>\n",
       "      <td>0.761719</td>\n",
       "      <td>0.765260</td>\n",
       "      <td>0.762523</td>\n",
       "    </tr>\n",
       "    <tr>\n",
       "      <th>XGBClassifier4</th>\n",
       "      <td>0.870866</td>\n",
       "      <td>0.775575</td>\n",
       "      <td>0.766427</td>\n",
       "      <td>0.770798</td>\n",
       "      <td>0.766636</td>\n",
       "    </tr>\n",
       "    <tr>\n",
       "      <th>XGBClassifier5</th>\n",
       "      <td>0.877953</td>\n",
       "      <td>0.788769</td>\n",
       "      <td>0.775327</td>\n",
       "      <td>0.781571</td>\n",
       "      <td>0.779410</td>\n",
       "    </tr>\n",
       "    <tr>\n",
       "      <th>XGBClassifier6</th>\n",
       "      <td>0.870079</td>\n",
       "      <td>0.761605</td>\n",
       "      <td>0.763591</td>\n",
       "      <td>0.762575</td>\n",
       "      <td>0.766659</td>\n",
       "    </tr>\n",
       "    <tr>\n",
       "      <th>XGBClassifier7</th>\n",
       "      <td>0.880315</td>\n",
       "      <td>0.783828</td>\n",
       "      <td>0.777335</td>\n",
       "      <td>0.780428</td>\n",
       "      <td>0.784288</td>\n",
       "    </tr>\n",
       "    <tr>\n",
       "      <th>XGBClassifier8</th>\n",
       "      <td>0.876378</td>\n",
       "      <td>0.785921</td>\n",
       "      <td>0.768413</td>\n",
       "      <td>0.776294</td>\n",
       "      <td>0.776350</td>\n",
       "    </tr>\n",
       "    <tr>\n",
       "      <th>XGBClassifier9</th>\n",
       "      <td>0.870866</td>\n",
       "      <td>0.762720</td>\n",
       "      <td>0.766960</td>\n",
       "      <td>0.764790</td>\n",
       "      <td>0.768235</td>\n",
       "    </tr>\n",
       "    <tr>\n",
       "      <th>XGBClassifier10</th>\n",
       "      <td>0.879528</td>\n",
       "      <td>0.783220</td>\n",
       "      <td>0.770913</td>\n",
       "      <td>0.776593</td>\n",
       "      <td>0.782388</td>\n",
       "    </tr>\n",
       "    <tr>\n",
       "      <th>XGBClassifier11</th>\n",
       "      <td>0.871654</td>\n",
       "      <td>0.779370</td>\n",
       "      <td>0.767274</td>\n",
       "      <td>0.772962</td>\n",
       "      <td>0.767896</td>\n",
       "    </tr>\n",
       "    <tr>\n",
       "      <th>XGBClassifier12</th>\n",
       "      <td>0.870079</td>\n",
       "      <td>0.772606</td>\n",
       "      <td>0.757838</td>\n",
       "      <td>0.764524</td>\n",
       "      <td>0.765108</td>\n",
       "    </tr>\n",
       "    <tr>\n",
       "      <th>XGBClassifier13</th>\n",
       "      <td>0.870866</td>\n",
       "      <td>0.762720</td>\n",
       "      <td>0.766960</td>\n",
       "      <td>0.764790</td>\n",
       "      <td>0.768235</td>\n",
       "    </tr>\n",
       "    <tr>\n",
       "      <th>XGBClassifier14</th>\n",
       "      <td>0.879528</td>\n",
       "      <td>0.783220</td>\n",
       "      <td>0.770913</td>\n",
       "      <td>0.776593</td>\n",
       "      <td>0.782388</td>\n",
       "    </tr>\n",
       "    <tr>\n",
       "      <th>XGBClassifier15</th>\n",
       "      <td>0.871654</td>\n",
       "      <td>0.779370</td>\n",
       "      <td>0.767274</td>\n",
       "      <td>0.772962</td>\n",
       "      <td>0.767896</td>\n",
       "    </tr>\n",
       "    <tr>\n",
       "      <th>XGBClassifier16</th>\n",
       "      <td>0.870079</td>\n",
       "      <td>0.772606</td>\n",
       "      <td>0.757838</td>\n",
       "      <td>0.764524</td>\n",
       "      <td>0.765108</td>\n",
       "    </tr>\n",
       "  </tbody>\n",
       "</table>\n",
       "</div>"
      ]
     },
     "execution_count": 10,
     "metadata": {},
     "output_type": "execute_result"
    }
   ],
   "execution_count": 10
  },
  {
   "metadata": {
    "ExecuteTime": {
     "end_time": "2024-11-03T21:54:07.559926Z",
     "start_time": "2024-11-03T21:54:07.549593Z"
    }
   },
   "cell_type": "code",
   "source": [
    "highest = df_smote[df_smote[\"kappa\"] == df_smote.iloc[1:][\"kappa\"].max()]\n",
    "idx = highest.index[0]\n",
    "\n",
    "confusion_matrix(pipeline.predictions[\"GT\"], pipeline.predictions[idx])"
   ],
   "id": "cdc894cce6a949f2",
   "outputs": [
    {
     "data": {
      "text/plain": [
       "array([[439,  32,  27],\n",
       "       [ 35, 630,  13],\n",
       "       [ 32,  13,  49]], dtype=int64)"
      ]
     },
     "execution_count": 11,
     "metadata": {},
     "output_type": "execute_result"
    }
   ],
   "execution_count": 11
  },
  {
   "metadata": {},
   "cell_type": "markdown",
   "source": [
    "___\n",
    "# Borderline SMOTE"
   ],
   "id": "1e752cdfc948f3bc"
  },
  {
   "metadata": {
    "ExecuteTime": {
     "end_time": "2024-11-03T21:54:07.906031Z",
     "start_time": "2024-11-03T21:54:07.607616Z"
    }
   },
   "cell_type": "code",
   "source": [
    "from imblearn.over_sampling import BorderlineSMOTE\n",
    "smote = BorderlineSMOTE(sampling_strategy='auto', random_state=42)\n",
    "\n",
    "pipeline.feature_matrix, pipeline.labels = smote.fit_resample(\n",
    "    np.nan_to_num(pipeline.backup_feature_matrix), pipeline.backup_labels)\n",
    "\n",
    "print(pipeline.backup_feature_matrix.shape)\n",
    "print(pipeline.feature_matrix.shape)\n",
    "\n",
    "print(pipeline.backup_labels.shape)\n",
    "print(pipeline.labels.shape)"
   ],
   "id": "ca12420fbcc1eb2b",
   "outputs": [
    {
     "name": "stdout",
     "output_type": "stream",
     "text": [
      "(5082, 515)\n",
      "(8139, 515)\n",
      "(5082,)\n",
      "(8139,)\n"
     ]
    }
   ],
   "execution_count": 12
  },
  {
   "metadata": {
    "ExecuteTime": {
     "end_time": "2024-11-03T22:12:53.177066Z",
     "start_time": "2024-11-03T21:54:07.947209Z"
    }
   },
   "cell_type": "code",
   "source": [
    "pipeline.fitted_classifiers = {}\n",
    "\n",
    "pipeline.fit_classifiers()"
   ],
   "id": "a4ea57f5e5a38f80",
   "outputs": [
    {
     "name": "stderr",
     "output_type": "stream",
     "text": [
      "INFO:utils.ml:Fitting classifiers...\n",
      "INFO:utils.ml:Fitting classifier: XGBClassifier0\n",
      "INFO:utils.ml:Top 10 features for XGBClassifier0: [('color_moments_rgb_B_iqr', 0.031187931), ('fft_radial_variance_14', 0.019234203), ('color_moments_lab_L_iqr', 0.011752352), ('fft_radial_variance_36', 0.009796996), ('color_moments_lab_B_var', 0.009456159), ('fft_radial_mean_17', 0.008479155), ('fft_radial_variance_29', 0.0083014555), ('lbp_rad1_bins8_4', 0.007160972), ('fft_radial_mean_129', 0.0067424076), ('color_moments_lab_A_iqr', 0.0066360957)]\n",
      "INFO:utils.ml:Fitted classifier: XGBClassifier0; Done in 30.38069486618042 seconds\n",
      "INFO:utils.ml:Fitting classifier: XGBClassifier1\n",
      "INFO:utils.ml:Top 10 features for XGBClassifier1: [('color_moments_rgb_B_iqr', 0.034773793), ('color_moments_lab_L_iqr', 0.013143197), ('color_moments_lab_B_var', 0.010433527), ('lbp_rad1_bins8_4', 0.00950224), ('fft_radial_mean_112', 0.0075628855), ('lbp_rad4_bins32_8', 0.007290875), ('color_moments_lab_L_std', 0.0069023524), ('fft_radial_mean_19', 0.006882357), ('color_moments_lab_A_iqr', 0.006698513), ('color_moments_hsv_H_median', 0.0066517573)]\n",
      "INFO:utils.ml:Fitted classifier: XGBClassifier1; Done in 16.495018243789673 seconds\n",
      "INFO:utils.ml:Fitting classifier: XGBClassifier2\n",
      "INFO:utils.ml:Top 10 features for XGBClassifier2: [('color_moments_rgb_B_iqr', 0.03327935), ('fft_radial_variance_27', 0.02565511), ('fft_radial_variance_51', 0.018428547), ('color_moments_lab_B_var', 0.011256223), ('color_moments_lab_L_iqr', 0.011128305), ('lbp_rad1_bins8_4', 0.008153971), ('color_moments_lab_L_std', 0.0070304386), ('color_moments_lab_B_std', 0.006950772), ('fft_radial_variance_71', 0.0067152046), ('color_moments_rgb_G_entropy', 0.0066936747)]\n",
      "INFO:utils.ml:Fitted classifier: XGBClassifier2; Done in 18.242579698562622 seconds\n",
      "INFO:utils.ml:Fitting classifier: XGBClassifier3\n",
      "INFO:utils.ml:Top 10 features for XGBClassifier3: [('color_moments_rgb_B_iqr', 0.0327042), ('fft_radial_variance_51', 0.01986687), ('color_moments_lab_L_iqr', 0.011826568), ('color_moments_lab_B_var', 0.010178277), ('fft_radial_variance_65', 0.009694412), ('fft_radial_variance_77', 0.008426455), ('lbp_rad1_bins8_4', 0.008318418), ('lbp_rad4_bins32_8', 0.0074153016), ('fft_radial_variance_5', 0.0068201255), ('lbp_rad4_bins32_21', 0.006725544)]\n",
      "INFO:utils.ml:Fitted classifier: XGBClassifier3; Done in 29.003273725509644 seconds\n",
      "INFO:utils.ml:Fitting classifier: XGBClassifier4\n",
      "INFO:utils.ml:Top 10 features for XGBClassifier4: [('color_moments_rgb_B_iqr', 0.034247495), ('fft_radial_variance_51', 0.021641448), ('color_moments_lab_L_iqr', 0.011563473), ('fft_radial_variance_65', 0.010560351), ('color_moments_lab_B_var', 0.009929502), ('fft_radial_variance_77', 0.009179135), ('lbp_rad1_bins8_4', 0.008163733), ('lbp_rad4_bins32_8', 0.0072632763), ('fft_radial_variance_5', 0.007019384), ('fft_radial_variance_18', 0.0070107006)]\n",
      "INFO:utils.ml:Fitted classifier: XGBClassifier4; Done in 33.62135910987854 seconds\n",
      "INFO:utils.ml:Fitting classifier: XGBClassifier5\n",
      "INFO:utils.ml:Top 10 features for XGBClassifier5: [('color_moments_rgb_B_iqr', 0.029313803), ('fft_radial_variance_14', 0.017222), ('fft_radial_variance_36', 0.0120446915), ('color_moments_lab_L_iqr', 0.011189892), ('color_moments_lab_B_var', 0.009578086), ('fft_radial_variance_29', 0.008181484), ('lbp_rad1_bins8_4', 0.007482247), ('fft_radial_mean_17', 0.0069819964), ('fft_radial_mean_99', 0.006618455), ('fft_radial_variance_112', 0.0066115693)]\n",
      "INFO:utils.ml:Fitted classifier: XGBClassifier5; Done in 35.16312503814697 seconds\n",
      "INFO:utils.ml:Fitting classifier: XGBClassifier6\n",
      "INFO:utils.ml:Top 10 features for XGBClassifier6: [('color_moments_rgb_B_iqr', 0.03364605), ('color_moments_lab_L_iqr', 0.012832083), ('color_moments_lab_B_var', 0.010457741), ('lbp_rad1_bins8_4', 0.009362483), ('fft_radial_mean_112', 0.008241262), ('fft_radial_mean_19', 0.0074996916), ('color_moments_lab_L_std', 0.0068811374), ('fft_radial_variance_5', 0.006809147), ('lbp_rad4_bins32_8', 0.006756413), ('color_moments_rgb_G_entropy', 0.0067261565)]\n",
      "INFO:utils.ml:Fitted classifier: XGBClassifier6; Done in 20.651822805404663 seconds\n",
      "INFO:utils.ml:Fitting classifier: XGBClassifier7\n",
      "INFO:utils.ml:Top 10 features for XGBClassifier7: [('color_moments_rgb_B_iqr', 0.03395007), ('fft_radial_variance_51', 0.028959405), ('color_moments_lab_L_iqr', 0.012018301), ('color_moments_lab_B_var', 0.010663545), ('fft_radial_variance_71', 0.010552558), ('lbp_rad1_bins8_4', 0.008686919), ('fft_radial_variance_27', 0.008133091), ('color_moments_lab_L_std', 0.007386918), ('color_moments_lab_B_std', 0.007161972), ('fft_radial_variance_28', 0.006967311)]\n",
      "INFO:utils.ml:Fitted classifier: XGBClassifier7; Done in 30.87350368499756 seconds\n",
      "INFO:utils.ml:Fitting classifier: XGBClassifier8\n",
      "INFO:utils.ml:Top 10 features for XGBClassifier8: [('color_moments_rgb_B_iqr', 0.029546658), ('fft_radial_variance_14', 0.01568261), ('fft_radial_variance_36', 0.012957495), ('color_moments_lab_L_iqr', 0.011212054), ('color_moments_lab_B_var', 0.009549452), ('fft_radial_variance_29', 0.0073430766), ('lbp_rad1_bins8_4', 0.007329832), ('fft_radial_mean_17', 0.007212179), ('fft_radial_variance_112', 0.0071126246), ('color_moments_lab_B_std', 0.006285295)]\n",
      "INFO:utils.ml:Fitted classifier: XGBClassifier8; Done in 40.19929838180542 seconds\n",
      "INFO:utils.ml:Fitting classifier: XGBClassifier9\n",
      "INFO:utils.ml:Top 10 features for XGBClassifier9: [('color_moments_rgb_B_iqr', 0.033378344), ('color_moments_lab_L_iqr', 0.012920347), ('color_moments_lab_B_var', 0.010474216), ('lbp_rad1_bins8_4', 0.0094268825), ('fft_radial_mean_112', 0.008297949), ('fft_radial_mean_19', 0.0075512775), ('fft_radial_variance_5', 0.0068559833), ('lbp_rad4_bins32_8', 0.0068028863), ('color_moments_lab_L_std', 0.0067841383), ('color_moments_hsv_H_median', 0.0065851407)]\n",
      "INFO:utils.ml:Fitted classifier: XGBClassifier9; Done in 22.20899224281311 seconds\n",
      "INFO:utils.ml:Fitting classifier: XGBClassifier10\n",
      "INFO:utils.ml:Top 10 features for XGBClassifier10: [('color_moments_rgb_B_iqr', 0.0342293), ('fft_radial_variance_51', 0.03381777), ('fft_radial_variance_71', 0.012322906), ('color_moments_lab_L_iqr', 0.011924606), ('color_moments_lab_B_var', 0.010628842), ('lbp_rad1_bins8_4', 0.0085592065), ('color_moments_lab_B_std', 0.0072598206), ('color_moments_lab_L_std', 0.007165792), ('color_moments_hsv_H_median', 0.007125957), ('fft_radial_variance_53', 0.0069612963)]\n",
      "INFO:utils.ml:Fitted classifier: XGBClassifier10; Done in 69.91875290870667 seconds\n",
      "INFO:utils.ml:Fitting classifier: XGBClassifier11\n",
      "INFO:utils.ml:Top 10 features for XGBClassifier11: [('color_moments_rgb_B_iqr', 0.035430927), ('color_moments_lab_L_iqr', 0.011715575), ('color_moments_lab_B_var', 0.009918212), ('fft_radial_variance_51', 0.009021592), ('lbp_rad4_bins32_21', 0.0083510615), ('lbp_rad1_bins8_4', 0.008310546), ('color_moments_hsv_H_min', 0.007961136), ('lbp_rad4_bins32_8', 0.0078722015), ('fft_radial_variance_5', 0.007394204), ('color_moments_lab_B_std', 0.006722785)]\n",
      "INFO:utils.ml:Fitted classifier: XGBClassifier11; Done in 153.5456726551056 seconds\n",
      "INFO:utils.ml:Fitting classifier: XGBClassifier12\n",
      "INFO:utils.ml:Top 10 features for XGBClassifier12: [('color_moments_rgb_B_iqr', 0.03482328), ('color_moments_lab_L_iqr', 0.01203263), ('fft_radial_variance_127', 0.010210307), ('color_moments_lab_B_var', 0.010146486), ('fft_radial_variance_31', 0.009850438), ('lbp_rad4_bins32_21', 0.009348196), ('fft_radial_variance_14', 0.008808745), ('fft_radial_variance_5', 0.008694642), ('lbp_rad1_bins8_4', 0.007737125), ('color_moments_hsv_H_min', 0.0068483446)]\n",
      "INFO:utils.ml:Fitted classifier: XGBClassifier12; Done in 165.50062251091003 seconds\n",
      "INFO:utils.ml:Fitting classifier: XGBClassifier13\n",
      "INFO:utils.ml:Top 10 features for XGBClassifier13: [('color_moments_rgb_B_iqr', 0.033378344), ('color_moments_lab_L_iqr', 0.012920347), ('color_moments_lab_B_var', 0.010474216), ('lbp_rad1_bins8_4', 0.0094268825), ('fft_radial_mean_112', 0.008297949), ('fft_radial_mean_19', 0.0075512775), ('fft_radial_variance_5', 0.0068559833), ('lbp_rad4_bins32_8', 0.0068028863), ('color_moments_lab_L_std', 0.0067841383), ('color_moments_hsv_H_median', 0.0065851407)]\n",
      "INFO:utils.ml:Fitted classifier: XGBClassifier13; Done in 68.94390082359314 seconds\n",
      "INFO:utils.ml:Fitting classifier: XGBClassifier14\n",
      "INFO:utils.ml:Top 10 features for XGBClassifier14: [('color_moments_rgb_B_iqr', 0.0342293), ('fft_radial_variance_51', 0.03381777), ('fft_radial_variance_71', 0.012322906), ('color_moments_lab_L_iqr', 0.011924606), ('color_moments_lab_B_var', 0.010628842), ('lbp_rad1_bins8_4', 0.0085592065), ('color_moments_lab_B_std', 0.0072598206), ('color_moments_lab_L_std', 0.007165792), ('color_moments_hsv_H_median', 0.007125957), ('fft_radial_variance_53', 0.0069612963)]\n",
      "INFO:utils.ml:Fitted classifier: XGBClassifier14; Done in 120.7369658946991 seconds\n",
      "INFO:utils.ml:Fitting classifier: XGBClassifier15\n",
      "INFO:utils.ml:Top 10 features for XGBClassifier15: [('color_moments_rgb_B_iqr', 0.035430927), ('color_moments_lab_L_iqr', 0.011715575), ('color_moments_lab_B_var', 0.009918212), ('fft_radial_variance_51', 0.009021592), ('lbp_rad4_bins32_21', 0.0083510615), ('lbp_rad1_bins8_4', 0.008310546), ('color_moments_hsv_H_min', 0.007961136), ('lbp_rad4_bins32_8', 0.0078722015), ('fft_radial_variance_5', 0.007394204), ('color_moments_lab_B_std', 0.006722785)]\n",
      "INFO:utils.ml:Fitted classifier: XGBClassifier15; Done in 148.93883967399597 seconds\n",
      "INFO:utils.ml:Fitting classifier: XGBClassifier16\n",
      "INFO:utils.ml:Top 10 features for XGBClassifier16: [('color_moments_rgb_B_iqr', 0.03482328), ('color_moments_lab_L_iqr', 0.01203263), ('fft_radial_variance_127', 0.010210307), ('color_moments_lab_B_var', 0.010146486), ('fft_radial_variance_31', 0.009850438), ('lbp_rad4_bins32_21', 0.009348196), ('fft_radial_variance_14', 0.008808745), ('fft_radial_variance_5', 0.008694642), ('lbp_rad1_bins8_4', 0.007737125), ('color_moments_hsv_H_min', 0.0068483446)]\n",
      "INFO:utils.ml:Fitted classifier: XGBClassifier16; Done in 120.77759408950806 seconds\n",
      "INFO:utils.ml:Fitting completed in 1125.22 seconds.\n"
     ]
    }
   ],
   "execution_count": 13
  },
  {
   "metadata": {
    "ExecuteTime": {
     "end_time": "2024-11-03T22:17:35.323025Z",
     "start_time": "2024-11-03T22:12:53.300293Z"
    }
   },
   "cell_type": "code",
   "source": "pipeline.predict_with_classifiers(VAL_PATH, percent)",
   "id": "156c56b343fa5df1",
   "outputs": [
    {
     "name": "stderr",
     "output_type": "stream",
     "text": [
      "INFO:utils.ml:Predicting with classifiers on dataset: C:\\Users\\gimes\\Src\\repos\\CADx-Project\\dataset\\multiclass\\val\n"
     ]
    },
    {
     "name": "stdout",
     "output_type": "stream",
     "text": [
      "Processed 5/53 batches.\n",
      "Processed 10/53 batches.\n",
      "Processed 15/53 batches.\n",
      "Processed 20/53 batches.\n",
      "Processed 25/53 batches.\n",
      "Processed 30/53 batches.\n",
      "Processed 35/53 batches.\n",
      "Processed 40/53 batches.\n",
      "Processed 45/53 batches.\n",
      "Processed 50/53 batches.\n"
     ]
    },
    {
     "name": "stderr",
     "output_type": "stream",
     "text": [
      "INFO:utils.ml:Predictions made with classifier: XGBClassifier0\n",
      "INFO:utils.ml:Predictions made with classifier: XGBClassifier1\n",
      "INFO:utils.ml:Predictions made with classifier: XGBClassifier2\n",
      "INFO:utils.ml:Predictions made with classifier: XGBClassifier3\n",
      "INFO:utils.ml:Predictions made with classifier: XGBClassifier4\n",
      "INFO:utils.ml:Predictions made with classifier: XGBClassifier5\n",
      "INFO:utils.ml:Predictions made with classifier: XGBClassifier6\n",
      "INFO:utils.ml:Predictions made with classifier: XGBClassifier7\n",
      "INFO:utils.ml:Predictions made with classifier: XGBClassifier8\n",
      "INFO:utils.ml:Predictions made with classifier: XGBClassifier9\n",
      "INFO:utils.ml:Predictions made with classifier: XGBClassifier10\n",
      "INFO:utils.ml:Predictions made with classifier: XGBClassifier11\n"
     ]
    },
    {
     "name": "stdout",
     "output_type": "stream",
     "text": [
      "Processed 53/53 batches.\n"
     ]
    },
    {
     "name": "stderr",
     "output_type": "stream",
     "text": [
      "INFO:utils.ml:Predictions made with classifier: XGBClassifier12\n",
      "INFO:utils.ml:Predictions made with classifier: XGBClassifier13\n",
      "INFO:utils.ml:Predictions made with classifier: XGBClassifier14\n",
      "INFO:utils.ml:Predictions made with classifier: XGBClassifier15\n",
      "INFO:utils.ml:Predictions made with classifier: XGBClassifier16\n"
     ]
    },
    {
     "data": {
      "text/plain": [
       "{'GT': array([0, 0, 0, ..., 2, 2, 2]),\n",
       " 'XGBClassifier0': array([0, 0, 2, ..., 0, 2, 0], dtype=int64),\n",
       " 'XGBClassifier1': array([0, 0, 2, ..., 0, 2, 0], dtype=int64),\n",
       " 'XGBClassifier2': array([0, 0, 2, ..., 0, 2, 2], dtype=int64),\n",
       " 'XGBClassifier3': array([0, 0, 2, ..., 0, 2, 0], dtype=int64),\n",
       " 'XGBClassifier4': array([0, 0, 2, ..., 0, 2, 0], dtype=int64),\n",
       " 'XGBClassifier5': array([0, 0, 2, ..., 0, 2, 0], dtype=int64),\n",
       " 'XGBClassifier6': array([0, 0, 2, ..., 0, 2, 0], dtype=int64),\n",
       " 'XGBClassifier7': array([0, 0, 0, ..., 0, 2, 0], dtype=int64),\n",
       " 'XGBClassifier8': array([0, 0, 2, ..., 0, 2, 0], dtype=int64),\n",
       " 'XGBClassifier9': array([0, 0, 2, ..., 0, 2, 0], dtype=int64),\n",
       " 'XGBClassifier10': array([0, 0, 0, ..., 0, 2, 0], dtype=int64),\n",
       " 'XGBClassifier11': array([0, 0, 2, ..., 0, 2, 0], dtype=int64),\n",
       " 'XGBClassifier12': array([0, 0, 2, ..., 0, 2, 0], dtype=int64),\n",
       " 'XGBClassifier13': array([0, 0, 2, ..., 0, 2, 0], dtype=int64),\n",
       " 'XGBClassifier14': array([0, 0, 0, ..., 0, 2, 0], dtype=int64),\n",
       " 'XGBClassifier15': array([0, 0, 2, ..., 0, 2, 0], dtype=int64),\n",
       " 'XGBClassifier16': array([0, 0, 2, ..., 0, 2, 0], dtype=int64)}"
      ]
     },
     "execution_count": 14,
     "metadata": {},
     "output_type": "execute_result"
    }
   ],
   "execution_count": 14
  },
  {
   "metadata": {
    "ExecuteTime": {
     "end_time": "2024-11-03T22:17:35.523775Z",
     "start_time": "2024-11-03T22:17:35.355721Z"
    }
   },
   "cell_type": "code",
   "source": [
    "borderline_smote_classifiers = pipeline.fitted_classifiers.copy()\n",
    "borderline_smote_predictions = pipeline.predictions.copy()\n",
    "\n",
    "df_borderline_smote = pd.DataFrame(data=pipeline.calculate_metrics(\n",
    "    [\"accuracy\", \"precision\", \"recall\", \"f1\", \"kappa\"],))\n",
    "df_borderline_smote = df_borderline_smote.T\n",
    "df_borderline_smote"
   ],
   "id": "dec33139485e5176",
   "outputs": [
    {
     "name": "stderr",
     "output_type": "stream",
     "text": [
      "INFO:utils.ml:Metrics for classifier GT: {'accuracy': 1.0, 'precision': 1.0, 'recall': 1.0, 'f1': 1.0, 'kappa': 1.0}\n",
      "INFO:utils.ml:Metrics for classifier XGBClassifier0: {'accuracy': 0.8818897637795275, 'precision': 0.8050624459279551, 'recall': 0.7900034204476224, 'f1': 0.797020746738094, 'kappa': 0.7864828513786147}\n",
      "INFO:utils.ml:Metrics for classifier XGBClassifier1: {'accuracy': 0.8834645669291339, 'precision': 0.8020880195094886, 'recall': 0.7916975124498496, 'f1': 0.7965459517233514, 'kappa': 0.7899015009590579}\n",
      "INFO:utils.ml:Metrics for classifier XGBClassifier2: {'accuracy': 0.8850393700787401, 'precision': 0.803494389506584, 'recall': 0.7930362005355257, 'f1': 0.7979271960822357, 'kappa': 0.7926989606997835}\n",
      "INFO:utils.ml:Metrics for classifier XGBClassifier3: {'accuracy': 0.8771653543307086, 'precision': 0.7897300537572031, 'recall': 0.7750134410736526, 'f1': 0.7817490503228143, 'kappa': 0.7780655452696102}\n",
      "INFO:utils.ml:Metrics for classifier XGBClassifier4: {'accuracy': 0.8755905511811024, 'precision': 0.7886802810715855, 'recall': 0.7734970510297009, 'f1': 0.7804886426394834, 'kappa': 0.7750387902813529}\n",
      "INFO:utils.ml:Metrics for classifier XGBClassifier5: {'accuracy': 0.8826771653543307, 'precision': 0.800481211806677, 'recall': 0.7879737112007938, 'f1': 0.7938277698775531, 'kappa': 0.7881304694427774}\n",
      "INFO:utils.ml:Metrics for classifier XGBClassifier6: {'accuracy': 0.8826771653543307, 'precision': 0.798908077643211, 'recall': 0.7818647967883585, 'f1': 0.7896149419524865, 'kappa': 0.7878853776207472}\n",
      "INFO:utils.ml:Metrics for classifier XGBClassifier7: {'accuracy': 0.8834645669291339, 'precision': 0.8030853683799991, 'recall': 0.7855885980374141, 'f1': 0.7935507910365626, 'kappa': 0.7893089656904066}\n",
      "INFO:utils.ml:Metrics for classifier XGBClassifier8: {'accuracy': 0.8818897637795275, 'precision': 0.7964923462488486, 'recall': 0.7844276119100138, 'f1': 0.7900626021185584, 'kappa': 0.7867515033739159}\n",
      "INFO:utils.ml:Metrics for classifier XGBClassifier9: {'accuracy': 0.8834645669291339, 'precision': 0.8010495266120018, 'recall': 0.7854108960791386, 'f1': 0.7925905864059589, 'kappa': 0.7894043356085493}\n",
      "INFO:utils.ml:Metrics for classifier XGBClassifier10: {'accuracy': 0.8818897637795275, 'precision': 0.8040323734640774, 'recall': 0.784249909951738, 'f1': 0.7932095360181483, 'kappa': 0.7862355919422601}\n",
      "INFO:utils.ml:Metrics for classifier XGBClassifier11: {'accuracy': 0.8795275590551181, 'precision': 0.8000809678549378, 'recall': 0.7824195797814997, 'f1': 0.7904710524156018, 'kappa': 0.782147069507541}\n",
      "INFO:utils.ml:Metrics for classifier XGBClassifier12: {'accuracy': 0.8818897637795275, 'precision': 0.8122217599334304, 'recall': 0.7873043671579558, 'f1': 0.7984404139144133, 'kappa': 0.7858684411672137}\n",
      "INFO:utils.ml:Metrics for classifier XGBClassifier13: {'accuracy': 0.8834645669291339, 'precision': 0.8010495266120018, 'recall': 0.7854108960791386, 'f1': 0.7925905864059589, 'kappa': 0.7894043356085493}\n",
      "INFO:utils.ml:Metrics for classifier XGBClassifier14: {'accuracy': 0.8818897637795275, 'precision': 0.8040323734640774, 'recall': 0.784249909951738, 'f1': 0.7932095360181483, 'kappa': 0.7862355919422601}\n",
      "INFO:utils.ml:Metrics for classifier XGBClassifier15: {'accuracy': 0.8795275590551181, 'precision': 0.8000809678549378, 'recall': 0.7824195797814997, 'f1': 0.7904710524156018, 'kappa': 0.782147069507541}\n",
      "INFO:utils.ml:Metrics for classifier XGBClassifier16: {'accuracy': 0.8818897637795275, 'precision': 0.8122217599334304, 'recall': 0.7873043671579558, 'f1': 0.7984404139144133, 'kappa': 0.7858684411672137}\n"
     ]
    },
    {
     "data": {
      "text/plain": [
       "                 accuracy  precision    recall        f1     kappa\n",
       "GT               1.000000   1.000000  1.000000  1.000000  1.000000\n",
       "XGBClassifier0   0.881890   0.805062  0.790003  0.797021  0.786483\n",
       "XGBClassifier1   0.883465   0.802088  0.791698  0.796546  0.789902\n",
       "XGBClassifier2   0.885039   0.803494  0.793036  0.797927  0.792699\n",
       "XGBClassifier3   0.877165   0.789730  0.775013  0.781749  0.778066\n",
       "XGBClassifier4   0.875591   0.788680  0.773497  0.780489  0.775039\n",
       "XGBClassifier5   0.882677   0.800481  0.787974  0.793828  0.788130\n",
       "XGBClassifier6   0.882677   0.798908  0.781865  0.789615  0.787885\n",
       "XGBClassifier7   0.883465   0.803085  0.785589  0.793551  0.789309\n",
       "XGBClassifier8   0.881890   0.796492  0.784428  0.790063  0.786752\n",
       "XGBClassifier9   0.883465   0.801050  0.785411  0.792591  0.789404\n",
       "XGBClassifier10  0.881890   0.804032  0.784250  0.793210  0.786236\n",
       "XGBClassifier11  0.879528   0.800081  0.782420  0.790471  0.782147\n",
       "XGBClassifier12  0.881890   0.812222  0.787304  0.798440  0.785868\n",
       "XGBClassifier13  0.883465   0.801050  0.785411  0.792591  0.789404\n",
       "XGBClassifier14  0.881890   0.804032  0.784250  0.793210  0.786236\n",
       "XGBClassifier15  0.879528   0.800081  0.782420  0.790471  0.782147\n",
       "XGBClassifier16  0.881890   0.812222  0.787304  0.798440  0.785868"
      ],
      "text/html": [
       "<div>\n",
       "<style scoped>\n",
       "    .dataframe tbody tr th:only-of-type {\n",
       "        vertical-align: middle;\n",
       "    }\n",
       "\n",
       "    .dataframe tbody tr th {\n",
       "        vertical-align: top;\n",
       "    }\n",
       "\n",
       "    .dataframe thead th {\n",
       "        text-align: right;\n",
       "    }\n",
       "</style>\n",
       "<table border=\"1\" class=\"dataframe\">\n",
       "  <thead>\n",
       "    <tr style=\"text-align: right;\">\n",
       "      <th></th>\n",
       "      <th>accuracy</th>\n",
       "      <th>precision</th>\n",
       "      <th>recall</th>\n",
       "      <th>f1</th>\n",
       "      <th>kappa</th>\n",
       "    </tr>\n",
       "  </thead>\n",
       "  <tbody>\n",
       "    <tr>\n",
       "      <th>GT</th>\n",
       "      <td>1.000000</td>\n",
       "      <td>1.000000</td>\n",
       "      <td>1.000000</td>\n",
       "      <td>1.000000</td>\n",
       "      <td>1.000000</td>\n",
       "    </tr>\n",
       "    <tr>\n",
       "      <th>XGBClassifier0</th>\n",
       "      <td>0.881890</td>\n",
       "      <td>0.805062</td>\n",
       "      <td>0.790003</td>\n",
       "      <td>0.797021</td>\n",
       "      <td>0.786483</td>\n",
       "    </tr>\n",
       "    <tr>\n",
       "      <th>XGBClassifier1</th>\n",
       "      <td>0.883465</td>\n",
       "      <td>0.802088</td>\n",
       "      <td>0.791698</td>\n",
       "      <td>0.796546</td>\n",
       "      <td>0.789902</td>\n",
       "    </tr>\n",
       "    <tr>\n",
       "      <th>XGBClassifier2</th>\n",
       "      <td>0.885039</td>\n",
       "      <td>0.803494</td>\n",
       "      <td>0.793036</td>\n",
       "      <td>0.797927</td>\n",
       "      <td>0.792699</td>\n",
       "    </tr>\n",
       "    <tr>\n",
       "      <th>XGBClassifier3</th>\n",
       "      <td>0.877165</td>\n",
       "      <td>0.789730</td>\n",
       "      <td>0.775013</td>\n",
       "      <td>0.781749</td>\n",
       "      <td>0.778066</td>\n",
       "    </tr>\n",
       "    <tr>\n",
       "      <th>XGBClassifier4</th>\n",
       "      <td>0.875591</td>\n",
       "      <td>0.788680</td>\n",
       "      <td>0.773497</td>\n",
       "      <td>0.780489</td>\n",
       "      <td>0.775039</td>\n",
       "    </tr>\n",
       "    <tr>\n",
       "      <th>XGBClassifier5</th>\n",
       "      <td>0.882677</td>\n",
       "      <td>0.800481</td>\n",
       "      <td>0.787974</td>\n",
       "      <td>0.793828</td>\n",
       "      <td>0.788130</td>\n",
       "    </tr>\n",
       "    <tr>\n",
       "      <th>XGBClassifier6</th>\n",
       "      <td>0.882677</td>\n",
       "      <td>0.798908</td>\n",
       "      <td>0.781865</td>\n",
       "      <td>0.789615</td>\n",
       "      <td>0.787885</td>\n",
       "    </tr>\n",
       "    <tr>\n",
       "      <th>XGBClassifier7</th>\n",
       "      <td>0.883465</td>\n",
       "      <td>0.803085</td>\n",
       "      <td>0.785589</td>\n",
       "      <td>0.793551</td>\n",
       "      <td>0.789309</td>\n",
       "    </tr>\n",
       "    <tr>\n",
       "      <th>XGBClassifier8</th>\n",
       "      <td>0.881890</td>\n",
       "      <td>0.796492</td>\n",
       "      <td>0.784428</td>\n",
       "      <td>0.790063</td>\n",
       "      <td>0.786752</td>\n",
       "    </tr>\n",
       "    <tr>\n",
       "      <th>XGBClassifier9</th>\n",
       "      <td>0.883465</td>\n",
       "      <td>0.801050</td>\n",
       "      <td>0.785411</td>\n",
       "      <td>0.792591</td>\n",
       "      <td>0.789404</td>\n",
       "    </tr>\n",
       "    <tr>\n",
       "      <th>XGBClassifier10</th>\n",
       "      <td>0.881890</td>\n",
       "      <td>0.804032</td>\n",
       "      <td>0.784250</td>\n",
       "      <td>0.793210</td>\n",
       "      <td>0.786236</td>\n",
       "    </tr>\n",
       "    <tr>\n",
       "      <th>XGBClassifier11</th>\n",
       "      <td>0.879528</td>\n",
       "      <td>0.800081</td>\n",
       "      <td>0.782420</td>\n",
       "      <td>0.790471</td>\n",
       "      <td>0.782147</td>\n",
       "    </tr>\n",
       "    <tr>\n",
       "      <th>XGBClassifier12</th>\n",
       "      <td>0.881890</td>\n",
       "      <td>0.812222</td>\n",
       "      <td>0.787304</td>\n",
       "      <td>0.798440</td>\n",
       "      <td>0.785868</td>\n",
       "    </tr>\n",
       "    <tr>\n",
       "      <th>XGBClassifier13</th>\n",
       "      <td>0.883465</td>\n",
       "      <td>0.801050</td>\n",
       "      <td>0.785411</td>\n",
       "      <td>0.792591</td>\n",
       "      <td>0.789404</td>\n",
       "    </tr>\n",
       "    <tr>\n",
       "      <th>XGBClassifier14</th>\n",
       "      <td>0.881890</td>\n",
       "      <td>0.804032</td>\n",
       "      <td>0.784250</td>\n",
       "      <td>0.793210</td>\n",
       "      <td>0.786236</td>\n",
       "    </tr>\n",
       "    <tr>\n",
       "      <th>XGBClassifier15</th>\n",
       "      <td>0.879528</td>\n",
       "      <td>0.800081</td>\n",
       "      <td>0.782420</td>\n",
       "      <td>0.790471</td>\n",
       "      <td>0.782147</td>\n",
       "    </tr>\n",
       "    <tr>\n",
       "      <th>XGBClassifier16</th>\n",
       "      <td>0.881890</td>\n",
       "      <td>0.812222</td>\n",
       "      <td>0.787304</td>\n",
       "      <td>0.798440</td>\n",
       "      <td>0.785868</td>\n",
       "    </tr>\n",
       "  </tbody>\n",
       "</table>\n",
       "</div>"
      ]
     },
     "execution_count": 15,
     "metadata": {},
     "output_type": "execute_result"
    }
   ],
   "execution_count": 15
  },
  {
   "metadata": {
    "ExecuteTime": {
     "end_time": "2024-11-03T22:27:16.805729Z",
     "start_time": "2024-11-03T22:27:16.798668Z"
    }
   },
   "cell_type": "code",
   "source": [
    "highest = df_borderline_smote[df_borderline_smote[\"kappa\"] == df_borderline_smote.iloc[1:][\"kappa\"].max()]\n",
    "idx = highest.index[0]\n",
    "\n",
    "confusion_matrix(pipeline.predictions[\"GT\"], pipeline.predictions[idx])"
   ],
   "id": "5e3d245571ac5c69",
   "outputs": [
    {
     "data": {
      "text/plain": [
       "array([[442,  32,  24],\n",
       "       [ 39, 629,  10],\n",
       "       [ 29,  12,  53]], dtype=int64)"
      ]
     },
     "execution_count": 18,
     "metadata": {},
     "output_type": "execute_result"
    }
   ],
   "execution_count": 18
  },
  {
   "metadata": {
    "ExecuteTime": {
     "end_time": "2024-11-03T22:17:35.675160Z",
     "start_time": "2024-11-03T22:17:35.669644Z"
    }
   },
   "cell_type": "code",
   "source": "",
   "id": "90ff68d6e20a7ab4",
   "outputs": [],
   "execution_count": null
  }
 ],
 "metadata": {
  "kernelspec": {
   "display_name": "Python 3",
   "language": "python",
   "name": "python3"
  },
  "language_info": {
   "codemirror_mode": {
    "name": "ipython",
    "version": 2
   },
   "file_extension": ".py",
   "mimetype": "text/x-python",
   "name": "python",
   "nbconvert_exporter": "python",
   "pygments_lexer": "ipython2",
   "version": "2.7.6"
  }
 },
 "nbformat": 4,
 "nbformat_minor": 5
}

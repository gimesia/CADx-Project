{
 "cells": [
  {
   "cell_type": "code",
   "id": "initial_id",
   "metadata": {
    "collapsed": true,
    "ExecuteTime": {
     "end_time": "2024-11-02T19:54:27.141080Z",
     "start_time": "2024-11-02T19:54:23.676005Z"
    }
   },
   "source": [
    "import numpy as np\n",
    "from sklearn.metrics import confusion_matrix, recall_score, cohen_kappa_score\n",
    "from sklearn.utils import shuffle\n",
    "\n",
    "from utils.loader import FactoryLoader\n",
    "from utils.ml import MLPipeline\n",
    "from utils.preprocessing import PreprocessingFactory\n",
    "from utils.feature_extraction import *\n",
    "from utils.utils import *\n",
    "\n",
    "VAL_PATH = r\"C:\\Users\\gimes\\Src\\repos\\CADx-Project\\dataset\\multiclass\\val\"\n",
    "TRAIN_PATH = r\"C:\\Users\\gimes\\Src\\repos\\CADx-Project\\dataset\\multiclass\\train\""
   ],
   "outputs": [
    {
     "name": "stderr",
     "output_type": "stream",
     "text": [
      "INFO:numexpr.utils:Note: NumExpr detected 16 cores but \"NUMEXPR_MAX_THREADS\" not set, so enforcing safe limit of 8.\n",
      "INFO:numexpr.utils:NumExpr defaulting to 8 threads.\n"
     ]
    }
   ],
   "execution_count": 1
  },
  {
   "metadata": {
    "ExecuteTime": {
     "end_time": "2024-11-02T21:50:53.157614Z",
     "start_time": "2024-11-02T21:50:53.118349Z"
    }
   },
   "cell_type": "code",
   "source": [
    "percent = 100\n",
    "random = False\n",
    "batch_size = 24\n",
    "th = 0.075\n",
    "\n",
    "# Initialize the FactoryLoader\n",
    "factory = PreprocessingFactory()\n",
    "factory.gaussian_smoothing(5)\n",
    "factory.clahe(clip_limit=1.5)\n",
    "factory.pad2square(fill=np.nan)\n",
    "factory.resize((150,150))\n",
    "factory.hair_removal()\n",
    "factory.normalize2float()\n",
    "\n",
    "factory_loader = FactoryLoader(path=VAL_PATH, batch_size=batch_size, factory=factory, percentage=percent, shuffle=random)\n",
    "\n",
    "# Create the feature extraction pipeline strategy and add desired features\n",
    "strategy = FeatureExtractionStrategy()\n",
    "\n",
    "strategy.add_extractor(GradientExtractor(threshold=th)) # Add gradient feature\n",
    "\n",
    "strategy.add_extractor(ColorMomentsExtractor(\"rgb\", threshold=th))   # Add color moments feature\n",
    "strategy.add_extractor(ColorMomentsExtractor(\"lab\", threshold=th))   # Add color moments feature\n",
    "strategy.add_extractor(ColorMomentsExtractor(\"hsv\", threshold=th))   # Add color moments feature\n",
    "\n",
    "strategy.add_extractor(LBPExtractor(radius=1, n_points=8))\n",
    "strategy.add_extractor(LBPExtractor(radius=2, n_points=16))\n",
    "strategy.add_extractor(LBPExtractor(radius=3, n_points=24))\n",
    "strategy.add_extractor(LBPExtractor(radius=4, n_points=32))\n",
    "\n",
    "strategy.add_extractor(FourierTransformExtractor())\n",
    "\n",
    "strategy.add_extractor(LaplacianOfGaussianExtractor(0.5))\n",
    "strategy.add_extractor(LaplacianOfGaussianExtractor(1))\n",
    "strategy.add_extractor(LaplacianOfGaussianExtractor(2))\n",
    "\n",
    "strategy.add_extractor(GLCMExtractor(properties=['contrast', 'dissimilarity', 'homogeneity', 'energy', 'correlation',]))\n",
    "\n",
    "pipeline = MLPipeline(dataset_path=TRAIN_PATH, preprocessing_factory=factory, feature_strategy=strategy, classifiers=[], percentage=percent, verbose=True, shuffle=random, batch_size=batch_size)"
   ],
   "id": "d7c81ba220d9e517",
   "outputs": [
    {
     "ename": "NameError",
     "evalue": "name 'FourierTransformExtractor' is not defined",
     "output_type": "error",
     "traceback": [
      "\u001B[1;31m---------------------------------------------------------------------------\u001B[0m",
      "\u001B[1;31mNameError\u001B[0m                                 Traceback (most recent call last)",
      "Cell \u001B[1;32mIn[59], line 33\u001B[0m\n\u001B[0;32m     30\u001B[0m strategy\u001B[38;5;241m.\u001B[39madd_extractor(LBPExtractor(radius\u001B[38;5;241m=\u001B[39m\u001B[38;5;241m3\u001B[39m, n_points\u001B[38;5;241m=\u001B[39m\u001B[38;5;241m24\u001B[39m))\n\u001B[0;32m     31\u001B[0m strategy\u001B[38;5;241m.\u001B[39madd_extractor(LBPExtractor(radius\u001B[38;5;241m=\u001B[39m\u001B[38;5;241m4\u001B[39m, n_points\u001B[38;5;241m=\u001B[39m\u001B[38;5;241m32\u001B[39m))\n\u001B[1;32m---> 33\u001B[0m strategy\u001B[38;5;241m.\u001B[39madd_extractor(FourierTransformExtractor())\n\u001B[0;32m     35\u001B[0m strategy\u001B[38;5;241m.\u001B[39madd_extractor(LaplacianOfGaussianExtractor(\u001B[38;5;241m0.5\u001B[39m))\n\u001B[0;32m     36\u001B[0m strategy\u001B[38;5;241m.\u001B[39madd_extractor(LaplacianOfGaussianExtractor(\u001B[38;5;241m1\u001B[39m))\n",
      "\u001B[1;31mNameError\u001B[0m: name 'FourierTransformExtractor' is not defined"
     ]
    }
   ],
   "execution_count": 59
  },
  {
   "metadata": {
    "ExecuteTime": {
     "end_time": "2024-11-02T20:05:13.103819Z",
     "start_time": "2024-11-02T19:54:27.226825Z"
    }
   },
   "cell_type": "code",
   "source": [
    "pipeline.feature_matrix = None\n",
    "pipeline.run_feature_extraction()"
   ],
   "id": "21f510c52296a049",
   "outputs": [
    {
     "name": "stderr",
     "output_type": "stream",
     "text": [
      "INFO:utils.ml:Running feature extraction...\n"
     ]
    },
    {
     "name": "stdout",
     "output_type": "stream",
     "text": [
      "Processed 5/106 batches.\n",
      "Processed 10/106 batches.\n",
      "Processed 15/106 batches.\n",
      "Processed 20/106 batches.\n",
      "Processed 25/106 batches.\n",
      "Processed 30/106 batches.\n",
      "Processed 35/106 batches.\n",
      "Processed 40/106 batches.\n",
      "Processed 45/106 batches.\n",
      "Processed 50/106 batches.\n",
      "Processed 55/106 batches.\n",
      "Processed 60/106 batches.\n",
      "Processed 65/106 batches.\n",
      "Processed 70/106 batches.\n",
      "Processed 75/106 batches.\n",
      "Processed 80/106 batches.\n",
      "Processed 85/106 batches.\n",
      "Processed 90/106 batches.\n",
      "Processed 95/106 batches.\n",
      "Processed 100/106 batches.\n",
      "Processed 105/106 batches.\n"
     ]
    },
    {
     "name": "stderr",
     "output_type": "stream",
     "text": [
      "INFO:utils.ml:Feature extraction completed. Extracted 5082 features.\n"
     ]
    },
    {
     "name": "stdout",
     "output_type": "stream",
     "text": [
      "Processed 106/106 batches.\n"
     ]
    }
   ],
   "execution_count": 3
  },
  {
   "metadata": {
    "ExecuteTime": {
     "end_time": "2024-11-02T20:05:13.183517Z",
     "start_time": "2024-11-02T20:05:13.110790Z"
    }
   },
   "cell_type": "code",
   "source": [
    "from xgboost import XGBClassifier\n",
    "from sklearn.ensemble import RandomForestClassifier\n",
    "\n",
    "rf1 = RandomForestClassifier(n_estimators=100)\n",
    "rf2 = RandomForestClassifier(n_estimators=150)\n",
    "# Random Forest with Out-of-Bag Error (OOB)\n",
    "rf3 = RandomForestClassifier(n_estimators=100, oob_score=True, random_state=42)\n",
    "# Random Forest with Bootstrap Disabled\n",
    "rf4 = RandomForestClassifier(n_estimators=100, bootstrap=False, random_state=42)\n",
    "# Random Forest with Out-of-Bag Error (OOB)\n",
    "rf5 = RandomForestClassifier(n_estimators=150, oob_score=True, random_state=42)\n",
    "# Random Forest with Bootstrap Disabled\n",
    "rf6 = RandomForestClassifier(n_estimators=150, bootstrap=False, random_state=42)\n",
    "# Random Forest with Out-of-Bag Error (OOB)\n",
    "rf7 = RandomForestClassifier(n_estimators=200, oob_score=True, random_state=42)\n",
    "# Random Forest with Bootstrap Disabled\n",
    "rf8 = RandomForestClassifier(n_estimators=200, bootstrap=False, random_state=42)\n",
    "\n",
    "\n",
    "xgb1 = XGBClassifier(n_estimators=350)\n",
    "xgb2 = XGBClassifier(n_estimators=450)\n",
    "xgb3 = XGBClassifier(n_estimators=550)\n",
    "xgb4 = XGBClassifier(learning_rate=0.05, n_estimators=400, max_depth=3, min_child_weight=4, subsample=0.8, colsample_bytree=0.8)\n",
    "xgb5 = XGBClassifier(learning_rate=0.1, n_estimators=400, max_depth=7, min_child_weight=3, subsample=0.7, colsample_bytree=0.7) # 2ND\n",
    "xgb6 = XGBClassifier(learning_rate=0.1, n_estimators=400, max_depth=5, min_child_weight=5, gamma=0.2, subsample=0.8, colsample_bytree=0.8) # THIS\n",
    "xgb7 = XGBClassifier(learning_rate=0.1, n_estimators=400, max_depth=5, min_child_weight=1, subsample=0.8, colsample_bytree=0.8, reg_alpha=0.1, reg_lambda=0.1)\n",
    "xgb8 = XGBClassifier(learning_rate=0.05, n_estimators=500, max_depth=7, min_child_weight=1, subsample=0.8, colsample_bytree=0.8)\n",
    "xgb9 = XGBClassifier(learning_rate=0.05, n_estimators=400, max_depth=7, min_child_weight=1, subsample=0.8, colsample_bytree=0.8)\n",
    "xgb10 = XGBClassifier(learning_rate=0.1, n_estimators=400, max_depth=7, min_child_weight=1, subsample=0.8, colsample_bytree=0.8)\n",
    "xgb11 = XGBClassifier(learning_rate=0.1, n_estimators=500, max_depth=7, min_child_weight=1, subsample=0.8, colsample_bytree=0.8)\n",
    "\n",
    "\n",
    "pipeline.classifiers = [rf1, rf2, rf3, rf4, rf5, rf6, rf7, rf8,\n",
    "                        # svm1, svm2, svm3, svm6, svm7, svm8,\n",
    "                        xgb1, xgb2, xgb3, xgb4, xgb5, xgb6, xgb7, xgb8, xgb9, xgb10, xgb11]\n",
    "pipeline.fitted_classifiers = {}"
   ],
   "id": "74470ba20848a156",
   "outputs": [],
   "execution_count": 4
  },
  {
   "metadata": {
    "ExecuteTime": {
     "end_time": "2024-11-02T20:07:34.221197Z",
     "start_time": "2024-11-02T20:05:13.197755Z"
    }
   },
   "cell_type": "code",
   "source": "pipeline.fit_classifiers()",
   "id": "5269ac4d3392fbae",
   "outputs": [
    {
     "name": "stderr",
     "output_type": "stream",
     "text": [
      "INFO:utils.ml:Fitting classifiers...\n",
      "INFO:utils.ml:Fitting classifier: RandomForestClassifier0\n",
      "INFO:utils.ml:Top 10 features for RandomForestClassifier0: [('color_moments_lab_channel_0_skew', 0.037887293603575525), ('color_moments_hsv_channel_0_mean', 0.03173984370883756), ('var_lab_channel_1', 0.022725990229806835), ('var_lab_channel_0', 0.018490798726188803), ('color_moments_lab_channel_1_skew', 0.01831519520538165), ('var_lab_channel_2', 0.016085381930776018), ('color_moments_rgb_channel_0_skew', 0.015846550530500266), ('var_rgb_channel_2', 0.015586900885901766), ('color_moments_rgb_channel_0_std', 0.012670201441078761), ('color_moments_rgb_channel_1_mean', 0.012656744498200338)]\n",
      "INFO:utils.ml:Fitted classifier: RandomForestClassifier0; Done in 3.800952196121216 seconds\n",
      "INFO:utils.ml:Fitting classifier: RandomForestClassifier1\n",
      "INFO:utils.ml:Top 10 features for RandomForestClassifier1: [('color_moments_hsv_channel_0_mean', 0.03586397393702079), ('color_moments_lab_channel_0_skew', 0.03368865821292684), ('var_lab_channel_1', 0.02014468145628418), ('var_lab_channel_2', 0.018179835888134245), ('var_lab_channel_0', 0.016502619555012626), ('color_moments_rgb_channel_0_skew', 0.01600408396929323), ('color_moments_rgb_channel_1_mean', 0.0158855511527516), ('var_rgb_channel_2', 0.01573412268213245), ('color_moments_lab_channel_1_skew', 0.015683775169906485), ('color_moments_lab_channel_0_mean', 0.014669000285130655)]\n",
      "INFO:utils.ml:Fitted classifier: RandomForestClassifier1; Done in 5.776984691619873 seconds\n",
      "INFO:utils.ml:Fitting classifier: RandomForestClassifier2\n",
      "INFO:utils.ml:Top 10 features for RandomForestClassifier2: [('color_moments_lab_channel_0_skew', 0.0337830505763274), ('color_moments_hsv_channel_0_mean', 0.030785715388795945), ('var_lab_channel_2', 0.020552082110633054), ('var_lab_channel_1', 0.019412309873913278), ('color_moments_rgb_channel_1_mean', 0.0186447283670256), ('var_rgb_channel_2', 0.018099429318772328), ('color_moments_rgb_channel_0_skew', 0.0169069357601355), ('color_moments_lab_channel_2_mean', 0.01451388626733643), ('color_moments_lab_channel_1_skew', 0.013458152953695797), ('gradient_magnitude_mean', 0.013378183725737436)]\n",
      "INFO:utils.ml:Fitted classifier: RandomForestClassifier2; Done in 3.9497900009155273 seconds\n",
      "INFO:utils.ml:Fitting classifier: RandomForestClassifier3\n",
      "INFO:utils.ml:Top 10 features for RandomForestClassifier3: [('color_moments_lab_channel_0_skew', 0.03762672299224187), ('color_moments_hsv_channel_0_mean', 0.032720688539013006), ('var_lab_channel_2', 0.02063968271797216), ('var_lab_channel_1', 0.019502838210644795), ('var_rgb_channel_2', 0.01646301168471289), ('color_moments_rgb_channel_1_mean', 0.016390616782565634), ('color_moments_rgb_channel_0_skew', 0.015355496169267773), ('color_moments_lab_channel_1_skew', 0.015149935216032499), ('color_moments_lab_channel_2_mean', 0.014366369454219733), ('gradient_magnitude_mean', 0.01389106091444811)]\n",
      "INFO:utils.ml:Fitted classifier: RandomForestClassifier3; Done in 5.70575213432312 seconds\n",
      "INFO:utils.ml:Fitting classifier: RandomForestClassifier4\n",
      "INFO:utils.ml:Top 10 features for RandomForestClassifier4: [('color_moments_hsv_channel_0_mean', 0.03431696956084529), ('color_moments_lab_channel_0_skew', 0.03215801424980595), ('var_lab_channel_1', 0.019441391271194097), ('var_lab_channel_2', 0.019259398379724284), ('var_rgb_channel_2', 0.01819636678369815), ('color_moments_rgb_channel_1_mean', 0.01705904457980277), ('color_moments_rgb_channel_0_skew', 0.017024639898245802), ('color_moments_lab_channel_2_mean', 0.014468640813318787), ('color_moments_lab_channel_1_skew', 0.013996662146105168), ('var_lab_channel_0', 0.013871894986157268)]\n",
      "INFO:utils.ml:Fitted classifier: RandomForestClassifier4; Done in 13.209280490875244 seconds\n",
      "INFO:utils.ml:Fitting classifier: RandomForestClassifier5\n",
      "INFO:utils.ml:Top 10 features for RandomForestClassifier5: [('color_moments_lab_channel_0_skew', 0.03635451161110462), ('color_moments_hsv_channel_0_mean', 0.03417574791524889), ('var_lab_channel_1', 0.018754644626981804), ('var_lab_channel_2', 0.01846988632818007), ('var_rgb_channel_2', 0.017494931055286794), ('color_moments_lab_channel_1_skew', 0.016707518126076508), ('color_moments_rgb_channel_1_mean', 0.015850417743336946), ('color_moments_rgb_channel_0_skew', 0.015749822850367492), ('var_lab_channel_0', 0.014472635465311773), ('gradient_magnitude_mean', 0.013293671944649652)]\n",
      "INFO:utils.ml:Fitted classifier: RandomForestClassifier5; Done in 8.136218070983887 seconds\n",
      "INFO:utils.ml:Fitting classifier: RandomForestClassifier6\n",
      "INFO:utils.ml:Top 10 features for RandomForestClassifier6: [('color_moments_hsv_channel_0_mean', 0.03532745138764068), ('color_moments_lab_channel_0_skew', 0.03263611486792082), ('var_lab_channel_1', 0.019191191457711195), ('var_lab_channel_2', 0.01871186727072377), ('var_rgb_channel_2', 0.018026420135879268), ('color_moments_rgb_channel_1_mean', 0.016743950596489546), ('color_moments_rgb_channel_0_skew', 0.01619306080624215), ('var_lab_channel_0', 0.01525143023891139), ('color_moments_lab_channel_2_mean', 0.01446515005807153), ('color_moments_lab_channel_1_skew', 0.01398425190565255)]\n",
      "INFO:utils.ml:Fitted classifier: RandomForestClassifier6; Done in 7.701836585998535 seconds\n",
      "INFO:utils.ml:Fitting classifier: RandomForestClassifier7\n",
      "INFO:utils.ml:Top 10 features for RandomForestClassifier7: [('color_moments_hsv_channel_0_mean', 0.035813752807105415), ('color_moments_lab_channel_0_skew', 0.03501175455344597), ('var_lab_channel_1', 0.020047094225171484), ('var_lab_channel_2', 0.017920707605929644), ('var_rgb_channel_2', 0.017478944507973798), ('var_lab_channel_0', 0.016178969471625858), ('color_moments_lab_channel_1_skew', 0.016093085544095692), ('color_moments_rgb_channel_0_skew', 0.015439606916099557), ('color_moments_rgb_channel_1_mean', 0.01526489662507165), ('gradient_magnitude_mean', 0.013358695758433767)]\n",
      "INFO:utils.ml:Fitted classifier: RandomForestClassifier7; Done in 10.887139797210693 seconds\n",
      "INFO:utils.ml:Fitting classifier: XGBClassifier8\n",
      "INFO:utils.ml:Top 10 features for XGBClassifier8: [('color_moments_lab_channel_0_skew', 0.030626027), ('var_rgb_channel_2', 0.025530323), ('color_moments_rgb_channel_0_mean', 0.021137012), ('lbp_rad2_bins64_8', 0.01816148), ('color_moments_rgb_channel_0_skew', 0.017805045), ('color_moments_lab_channel_0_mean', 0.012742095), ('var_lab_channel_2', 0.012588028), ('gradient_magnitude_mean', 0.012250478), ('var_lab_channel_1', 0.011362884), ('var_rgb_channel_0', 0.009181014)]\n",
      "INFO:utils.ml:Fitted classifier: XGBClassifier8; Done in 5.179133176803589 seconds\n",
      "INFO:utils.ml:Fitting classifier: XGBClassifier9\n",
      "INFO:utils.ml:Top 10 features for XGBClassifier9: [('color_moments_lab_channel_0_skew', 0.030697951), ('var_rgb_channel_2', 0.026105624), ('color_moments_rgb_channel_0_mean', 0.020260893), ('lbp_rad2_bins64_8', 0.018950995), ('color_moments_rgb_channel_0_skew', 0.018206965), ('var_lab_channel_2', 0.012642555), ('color_moments_lab_channel_0_mean', 0.012603091), ('gradient_magnitude_mean', 0.012163914), ('var_lab_channel_1', 0.011514586), ('var_rgb_channel_0', 0.009332522)]\n",
      "INFO:utils.ml:Fitted classifier: XGBClassifier9; Done in 6.121194839477539 seconds\n",
      "INFO:utils.ml:Fitting classifier: XGBClassifier10\n",
      "INFO:utils.ml:Top 10 features for XGBClassifier10: [('color_moments_lab_channel_0_skew', 0.030755922), ('var_rgb_channel_2', 0.025732264), ('color_moments_rgb_channel_0_mean', 0.020249186), ('lbp_rad2_bins64_8', 0.019326176), ('color_moments_rgb_channel_0_skew', 0.018624991), ('var_lab_channel_2', 0.012825764), ('gradient_magnitude_mean', 0.012027251), ('color_moments_lab_channel_0_mean', 0.0119612655), ('var_lab_channel_1', 0.011522604), ('var_rgb_channel_0', 0.009428293)]\n",
      "INFO:utils.ml:Fitted classifier: XGBClassifier10; Done in 6.905491828918457 seconds\n",
      "INFO:utils.ml:Fitting classifier: XGBClassifier11\n",
      "INFO:utils.ml:Top 10 features for XGBClassifier11: [('color_moments_hsv_channel_0_mean', 0.029025538), ('var_lab_channel_0', 0.028238859), ('color_moments_lab_channel_0_skew', 0.022527497), ('var_rgb_channel_2', 0.01816609), ('color_moments_lab_channel_0_mean', 0.016716868), ('var_lab_channel_2', 0.0135023985), ('color_moments_lab_channel_1_std', 0.013006111), ('color_moments_rgb_channel_0_mean', 0.011707714), ('lbp_rad2_bins64_8', 0.011157994), ('gradient_magnitude_mean', 0.010020712)]\n",
      "INFO:utils.ml:Fitted classifier: XGBClassifier11; Done in 2.7146008014678955 seconds\n",
      "INFO:utils.ml:Fitting classifier: XGBClassifier12\n",
      "INFO:utils.ml:Top 10 features for XGBClassifier12: [('var_lab_channel_0', 0.026302906), ('color_moments_hsv_channel_0_mean', 0.021715032), ('color_moments_lab_channel_0_skew', 0.01828234), ('var_rgb_channel_2', 0.018129399), ('color_moments_lab_channel_0_mean', 0.013365264), ('var_lab_channel_2', 0.011879739), ('lbp_rad2_bins64_8', 0.010291924), ('var_lab_channel_1', 0.010021541), ('color_moments_rgb_channel_1_mean', 0.009500881), ('color_moments_rgb_channel_0_mean', 0.00934186)]\n",
      "INFO:utils.ml:Fitted classifier: XGBClassifier12; Done in 6.767998218536377 seconds\n",
      "INFO:utils.ml:Fitting classifier: XGBClassifier13\n",
      "INFO:utils.ml:Top 10 features for XGBClassifier13: [('color_moments_hsv_channel_0_mean', 0.02998777), ('var_lab_channel_0', 0.020907955), ('color_moments_lab_channel_0_skew', 0.019463465), ('var_rgb_channel_2', 0.018538631), ('lbp_rad2_bins64_8', 0.015980253), ('var_lab_channel_2', 0.012858311), ('color_moments_lab_channel_0_mean', 0.012730935), ('color_moments_rgb_channel_0_mean', 0.012336666), ('color_moments_rgb_channel_0_skew', 0.011101698), ('var_lab_channel_1', 0.010309022)]\n",
      "INFO:utils.ml:Fitted classifier: XGBClassifier13; Done in 4.577809810638428 seconds\n",
      "INFO:utils.ml:Fitting classifier: XGBClassifier14\n",
      "INFO:utils.ml:Top 10 features for XGBClassifier14: [('color_moments_hsv_channel_0_mean', 0.033459544), ('var_lab_channel_0', 0.0296976), ('color_moments_lab_channel_0_skew', 0.021028113), ('var_rgb_channel_2', 0.016379012), ('lbp_rad2_bins64_8', 0.015454349), ('color_moments_rgb_channel_0_mean', 0.012404806), ('var_lab_channel_2', 0.011855912), ('color_moments_lab_channel_0_mean', 0.01183848), ('var_lab_channel_1', 0.0108188195), ('color_moments_rgb_channel_0_skew', 0.010645908)]\n",
      "INFO:utils.ml:Fitted classifier: XGBClassifier14; Done in 5.344762802124023 seconds\n",
      "INFO:utils.ml:Fitting classifier: XGBClassifier15\n",
      "INFO:utils.ml:Top 10 features for XGBClassifier15: [('color_moments_hsv_channel_0_mean', 0.029671649), ('var_lab_channel_0', 0.02461207), ('color_moments_lab_channel_0_skew', 0.020538697), ('var_rgb_channel_2', 0.01643654), ('color_moments_rgb_channel_0_mean', 0.014112719), ('lbp_rad2_bins64_8', 0.013709056), ('color_moments_lab_channel_0_mean', 0.013253316), ('var_lab_channel_2', 0.0106156), ('var_lab_channel_1', 0.009500919), ('color_moments_rgb_channel_0_skew', 0.009352063)]\n",
      "INFO:utils.ml:Fitted classifier: XGBClassifier15; Done in 13.027523756027222 seconds\n",
      "INFO:utils.ml:Fitting classifier: XGBClassifier16\n",
      "INFO:utils.ml:Top 10 features for XGBClassifier16: [('color_moments_hsv_channel_0_mean', 0.029175451), ('var_lab_channel_0', 0.024646861), ('color_moments_lab_channel_0_skew', 0.020180542), ('var_rgb_channel_2', 0.01584371), ('color_moments_rgb_channel_0_mean', 0.013972839), ('color_moments_lab_channel_0_mean', 0.01353874), ('lbp_rad2_bins64_8', 0.012893613), ('var_lab_channel_2', 0.010707521), ('var_lab_channel_1', 0.009617279), ('color_moments_rgb_channel_0_skew', 0.008994558)]\n",
      "INFO:utils.ml:Fitted classifier: XGBClassifier16; Done in 11.055867195129395 seconds\n",
      "INFO:utils.ml:Fitting classifier: XGBClassifier17\n",
      "INFO:utils.ml:Top 10 features for XGBClassifier17: [('color_moments_hsv_channel_0_mean', 0.029849553), ('var_lab_channel_0', 0.024245454), ('color_moments_lab_channel_0_skew', 0.020349612), ('var_rgb_channel_2', 0.016178956), ('lbp_rad2_bins64_8', 0.014819727), ('color_moments_rgb_channel_0_mean', 0.013693485), ('color_moments_lab_channel_0_mean', 0.012809132), ('var_lab_channel_1', 0.010517437), ('var_lab_channel_2', 0.010432249), ('color_moments_rgb_channel_0_skew', 0.010135778)]\n",
      "INFO:utils.ml:Fitted classifier: XGBClassifier17; Done in 9.324880123138428 seconds\n",
      "INFO:utils.ml:Fitting classifier: XGBClassifier18\n",
      "INFO:utils.ml:Top 10 features for XGBClassifier18: [('color_moments_hsv_channel_0_mean', 0.0300641), ('var_lab_channel_0', 0.025545062), ('color_moments_lab_channel_0_skew', 0.02029086), ('var_rgb_channel_2', 0.016770812), ('lbp_rad2_bins64_8', 0.014403198), ('color_moments_rgb_channel_0_mean', 0.013988246), ('color_moments_lab_channel_0_mean', 0.012657964), ('var_lab_channel_1', 0.010555677), ('var_lab_channel_2', 0.010412157), ('color_moments_rgb_channel_0_skew', 0.010403404)]\n",
      "INFO:utils.ml:Fitted classifier: XGBClassifier18; Done in 10.814138412475586 seconds\n",
      "INFO:utils.ml:Fitting completed in 141.02 seconds.\n"
     ]
    }
   ],
   "execution_count": 5
  },
  {
   "metadata": {
    "ExecuteTime": {
     "end_time": "2024-11-02T20:10:22.514976Z",
     "start_time": "2024-11-02T20:07:34.238923Z"
    }
   },
   "cell_type": "code",
   "source": "pipeline.predict_with_classifiers(VAL_PATH)",
   "id": "f71e18a07f5ee7bb",
   "outputs": [
    {
     "name": "stderr",
     "output_type": "stream",
     "text": [
      "INFO:utils.ml:Predicting with classifiers on dataset: C:\\Users\\gimes\\Src\\repos\\CADx-Project\\dataset\\multiclass\\val\n"
     ]
    },
    {
     "name": "stdout",
     "output_type": "stream",
     "text": [
      "Processed 5/27 batches.\n",
      "Processed 10/27 batches.\n",
      "Processed 15/27 batches.\n",
      "Processed 20/27 batches.\n",
      "Processed 25/27 batches.\n"
     ]
    },
    {
     "name": "stderr",
     "output_type": "stream",
     "text": [
      "INFO:utils.ml:Predictions made with classifier: RandomForestClassifier0\n",
      "INFO:utils.ml:Predictions made with classifier: RandomForestClassifier1\n",
      "INFO:utils.ml:Predictions made with classifier: RandomForestClassifier2\n",
      "INFO:utils.ml:Predictions made with classifier: RandomForestClassifier3\n",
      "INFO:utils.ml:Predictions made with classifier: RandomForestClassifier4\n",
      "INFO:utils.ml:Predictions made with classifier: RandomForestClassifier5\n",
      "INFO:utils.ml:Predictions made with classifier: RandomForestClassifier6\n"
     ]
    },
    {
     "name": "stdout",
     "output_type": "stream",
     "text": [
      "Processed 27/27 batches.\n"
     ]
    },
    {
     "name": "stderr",
     "output_type": "stream",
     "text": [
      "INFO:utils.ml:Predictions made with classifier: RandomForestClassifier7\n",
      "INFO:utils.ml:Predictions made with classifier: XGBClassifier8\n",
      "INFO:utils.ml:Predictions made with classifier: XGBClassifier9\n",
      "INFO:utils.ml:Predictions made with classifier: XGBClassifier10\n",
      "INFO:utils.ml:Predictions made with classifier: XGBClassifier11\n",
      "INFO:utils.ml:Predictions made with classifier: XGBClassifier12\n",
      "INFO:utils.ml:Predictions made with classifier: XGBClassifier13\n",
      "INFO:utils.ml:Predictions made with classifier: XGBClassifier14\n",
      "INFO:utils.ml:Predictions made with classifier: XGBClassifier15\n",
      "INFO:utils.ml:Predictions made with classifier: XGBClassifier16\n",
      "INFO:utils.ml:Predictions made with classifier: XGBClassifier17\n",
      "INFO:utils.ml:Predictions made with classifier: XGBClassifier18\n"
     ]
    },
    {
     "data": {
      "text/plain": [
       "{'GT': array([0, 0, 0, ..., 2, 2, 2]),\n",
       " 'RandomForestClassifier0': array([0, 0, 1, ..., 1, 0, 0]),\n",
       " 'RandomForestClassifier1': array([0, 0, 1, ..., 1, 0, 0]),\n",
       " 'RandomForestClassifier2': array([0, 0, 1, ..., 1, 0, 0]),\n",
       " 'RandomForestClassifier3': array([0, 0, 1, ..., 1, 0, 0]),\n",
       " 'RandomForestClassifier4': array([0, 0, 1, ..., 1, 0, 0]),\n",
       " 'RandomForestClassifier5': array([0, 0, 1, ..., 1, 0, 0]),\n",
       " 'RandomForestClassifier6': array([0, 0, 1, ..., 1, 0, 0]),\n",
       " 'RandomForestClassifier7': array([0, 0, 1, ..., 1, 0, 0]),\n",
       " 'XGBClassifier8': array([0, 0, 1, ..., 1, 0, 0], dtype=int64),\n",
       " 'XGBClassifier9': array([0, 0, 1, ..., 1, 0, 0], dtype=int64),\n",
       " 'XGBClassifier10': array([0, 0, 1, ..., 1, 0, 0], dtype=int64),\n",
       " 'XGBClassifier11': array([0, 0, 0, ..., 1, 0, 0], dtype=int64),\n",
       " 'XGBClassifier12': array([0, 0, 2, ..., 1, 0, 0], dtype=int64),\n",
       " 'XGBClassifier13': array([0, 0, 0, ..., 1, 0, 0], dtype=int64),\n",
       " 'XGBClassifier14': array([0, 0, 0, ..., 1, 0, 0], dtype=int64),\n",
       " 'XGBClassifier15': array([0, 0, 0, ..., 1, 0, 0], dtype=int64),\n",
       " 'XGBClassifier16': array([0, 0, 0, ..., 1, 0, 0], dtype=int64),\n",
       " 'XGBClassifier17': array([0, 0, 0, ..., 1, 0, 0], dtype=int64),\n",
       " 'XGBClassifier18': array([0, 0, 0, ..., 1, 0, 0], dtype=int64)}"
      ]
     },
     "execution_count": 6,
     "metadata": {},
     "output_type": "execute_result"
    }
   ],
   "execution_count": 6
  },
  {
   "metadata": {
    "ExecuteTime": {
     "end_time": "2024-11-02T20:10:22.718505Z",
     "start_time": "2024-11-02T20:10:22.619822Z"
    }
   },
   "cell_type": "code",
   "source": [
    "import pandas as pd\n",
    "\n",
    "df = pd.DataFrame(data=pipeline.calculate_metrics())\n",
    "df.T"
   ],
   "id": "751fad2660242db5",
   "outputs": [
    {
     "name": "stderr",
     "output_type": "stream",
     "text": [
      "INFO:utils.ml:Metrics for classifier GT: {'accuracy': 1.0, 'precision': 1.0, 'recall': 1.0, 'f1': 1.0, 'kappa': 1.0}\n",
      "INFO:utils.ml:Metrics for classifier RandomForestClassifier0: {'accuracy': 0.8062992125984252, 'precision': 0.8675962546310542, 'recall': 0.5866730588959742, 'f1': 0.5690029433406917, 'kappa': 0.6361573972711223}\n",
      "INFO:utils.ml:Metrics for classifier RandomForestClassifier1: {'accuracy': 0.8118110236220473, 'precision': 0.8710387036897685, 'recall': 0.5933467126524046, 'f1': 0.5791835413481873, 'kappa': 0.6463805058996774}\n",
      "INFO:utils.ml:Metrics for classifier RandomForestClassifier2: {'accuracy': 0.8023622047244094, 'precision': 0.7540638745458023, 'recall': 0.5833263386817842, 'f1': 0.5661959747567226, 'kappa': 0.6285476571130263}\n",
      "INFO:utils.ml:Metrics for classifier RandomForestClassifier3: {'accuracy': 0.8196850393700787, 'precision': 0.8757356117049994, 'recall': 0.6137131214873931, 'f1': 0.6147157924425688, 'kappa': 0.6619010639485138}\n",
      "INFO:utils.ml:Metrics for classifier RandomForestClassifier4: {'accuracy': 0.8078740157480315, 'precision': 0.7022331760391932, 'recall': 0.5842464819423303, 'f1': 0.5634449332029977, 'kappa': 0.6387368146165396}\n",
      "INFO:utils.ml:Metrics for classifier RandomForestClassifier5: {'accuracy': 0.8181102362204724, 'precision': 0.8333927875960033, 'recall': 0.6091422742372238, 'f1': 0.6074830364636596, 'kappa': 0.6585910261005572}\n",
      "INFO:utils.ml:Metrics for classifier RandomForestClassifier6: {'accuracy': 0.8062992125984252, 'precision': 0.7010577231856133, 'recall': 0.5827300918983788, 'f1': 0.5622897665230373, 'kappa': 0.6353164746091926}\n",
      "INFO:utils.ml:Metrics for classifier RandomForestClassifier7: {'accuracy': 0.8181102362204724, 'precision': 0.8333425264444596, 'recall': 0.6089645722789483, 'f1': 0.6074251263378551, 'kappa': 0.6584479330144877}\n",
      "INFO:utils.ml:Metrics for classifier XGBClassifier8: {'accuracy': 0.8291338582677166, 'precision': 0.7811207704824726, 'recall': 0.6230226876249112, 'f1': 0.6257031047777523, 'kappa': 0.679900853938431}\n",
      "INFO:utils.ml:Metrics for classifier XGBClassifier9: {'accuracy': 0.8291338582677166, 'precision': 0.7448522057423942, 'recall': 0.6285984961625198, 'f1': 0.6347248217985105, 'kappa': 0.6807329969091609}\n",
      "INFO:utils.ml:Metrics for classifier XGBClassifier10: {'accuracy': 0.8275590551181102, 'precision': 0.7506895564647594, 'recall': 0.6301365633247861, 'f1': 0.6385032072439554, 'kappa': 0.6777396704748222}\n",
      "INFO:utils.ml:Metrics for classifier XGBClassifier11: {'accuracy': 0.8047244094488188, 'precision': 0.7131722562561947, 'recall': 0.6029503062145022, 'f1': 0.6026022437517311, 'kappa': 0.6353532312964549}\n",
      "INFO:utils.ml:Metrics for classifier XGBClassifier12: {'accuracy': 0.831496062992126, 'precision': 0.7813848583802491, 'recall': 0.6309619322075851, 'f1': 0.6375793220863643, 'kappa': 0.6851643336067207}\n",
      "INFO:utils.ml:Metrics for classifier XGBClassifier13: {'accuracy': 0.8354330708661417, 'precision': 0.7774750149092111, 'recall': 0.6368300037531661, 'f1': 0.6450473691560278, 'kappa': 0.69287182145535}\n",
      "INFO:utils.ml:Metrics for classifier XGBClassifier14: {'accuracy': 0.8259842519685039, 'precision': 0.7860632183908046, 'recall': 0.6232220667015013, 'f1': 0.628602258300984, 'kappa': 0.6739489042954592}\n",
      "INFO:utils.ml:Metrics for classifier XGBClassifier15: {'accuracy': 0.8307086614173228, 'precision': 0.8172330220669851, 'recall': 0.621129216546094, 'f1': 0.6217771666214201, 'kappa': 0.6823374749872028}\n",
      "INFO:utils.ml:Metrics for classifier XGBClassifier16: {'accuracy': 0.8283464566929134, 'precision': 0.8403292909004684, 'recall': 0.6165998330861889, 'f1': 0.6147163379873875, 'kappa': 0.6776694779097763}\n"
     ]
    },
    {
     "name": "stdout",
     "output_type": "stream",
     "text": [
      "cannot access local variable 'report' where it is not associated with a value\n",
      "cannot access local variable 'report' where it is not associated with a value\n",
      "cannot access local variable 'report' where it is not associated with a value\n",
      "cannot access local variable 'report' where it is not associated with a value\n",
      "cannot access local variable 'report' where it is not associated with a value\n",
      "cannot access local variable 'report' where it is not associated with a value\n",
      "cannot access local variable 'report' where it is not associated with a value\n",
      "cannot access local variable 'report' where it is not associated with a value\n",
      "cannot access local variable 'report' where it is not associated with a value\n",
      "cannot access local variable 'report' where it is not associated with a value\n",
      "cannot access local variable 'report' where it is not associated with a value\n",
      "cannot access local variable 'report' where it is not associated with a value\n",
      "cannot access local variable 'report' where it is not associated with a value\n",
      "cannot access local variable 'report' where it is not associated with a value\n",
      "cannot access local variable 'report' where it is not associated with a value\n",
      "cannot access local variable 'report' where it is not associated with a value\n",
      "cannot access local variable 'report' where it is not associated with a value\n",
      "cannot access local variable 'report' where it is not associated with a value\n"
     ]
    },
    {
     "name": "stderr",
     "output_type": "stream",
     "text": [
      "INFO:utils.ml:Metrics for classifier XGBClassifier17: {'accuracy': 0.8338582677165355, 'precision': 0.8080557864765593, 'recall': 0.6383680709154322, 'f1': 0.6497274470760258, 'kappa': 0.6895290044814786}\n",
      "INFO:utils.ml:Metrics for classifier XGBClassifier18: {'accuracy': 0.8362204724409449, 'precision': 0.8252287232585531, 'recall': 0.6403761030439463, 'f1': 0.6519723039797016, 'kappa': 0.6939276809135824}\n"
     ]
    },
    {
     "name": "stdout",
     "output_type": "stream",
     "text": [
      "cannot access local variable 'report' where it is not associated with a value\n",
      "cannot access local variable 'report' where it is not associated with a value\n"
     ]
    },
    {
     "data": {
      "text/plain": [
       "                         accuracy  precision    recall        f1     kappa\n",
       "GT                       1.000000   1.000000  1.000000  1.000000  1.000000\n",
       "RandomForestClassifier0  0.806299   0.867596  0.586673  0.569003  0.636157\n",
       "RandomForestClassifier1  0.811811   0.871039  0.593347  0.579184  0.646381\n",
       "RandomForestClassifier2  0.802362   0.754064  0.583326  0.566196  0.628548\n",
       "RandomForestClassifier3  0.819685   0.875736  0.613713  0.614716  0.661901\n",
       "RandomForestClassifier4  0.807874   0.702233  0.584246  0.563445  0.638737\n",
       "RandomForestClassifier5  0.818110   0.833393  0.609142  0.607483  0.658591\n",
       "RandomForestClassifier6  0.806299   0.701058  0.582730  0.562290  0.635316\n",
       "RandomForestClassifier7  0.818110   0.833343  0.608965  0.607425  0.658448\n",
       "XGBClassifier8           0.829134   0.781121  0.623023  0.625703  0.679901\n",
       "XGBClassifier9           0.829134   0.744852  0.628598  0.634725  0.680733\n",
       "XGBClassifier10          0.827559   0.750690  0.630137  0.638503  0.677740\n",
       "XGBClassifier11          0.804724   0.713172  0.602950  0.602602  0.635353\n",
       "XGBClassifier12          0.831496   0.781385  0.630962  0.637579  0.685164\n",
       "XGBClassifier13          0.835433   0.777475  0.636830  0.645047  0.692872\n",
       "XGBClassifier14          0.825984   0.786063  0.623222  0.628602  0.673949\n",
       "XGBClassifier15          0.830709   0.817233  0.621129  0.621777  0.682337\n",
       "XGBClassifier16          0.828346   0.840329  0.616600  0.614716  0.677669\n",
       "XGBClassifier17          0.833858   0.808056  0.638368  0.649727  0.689529\n",
       "XGBClassifier18          0.836220   0.825229  0.640376  0.651972  0.693928"
      ],
      "text/html": [
       "<div>\n",
       "<style scoped>\n",
       "    .dataframe tbody tr th:only-of-type {\n",
       "        vertical-align: middle;\n",
       "    }\n",
       "\n",
       "    .dataframe tbody tr th {\n",
       "        vertical-align: top;\n",
       "    }\n",
       "\n",
       "    .dataframe thead th {\n",
       "        text-align: right;\n",
       "    }\n",
       "</style>\n",
       "<table border=\"1\" class=\"dataframe\">\n",
       "  <thead>\n",
       "    <tr style=\"text-align: right;\">\n",
       "      <th></th>\n",
       "      <th>accuracy</th>\n",
       "      <th>precision</th>\n",
       "      <th>recall</th>\n",
       "      <th>f1</th>\n",
       "      <th>kappa</th>\n",
       "    </tr>\n",
       "  </thead>\n",
       "  <tbody>\n",
       "    <tr>\n",
       "      <th>GT</th>\n",
       "      <td>1.000000</td>\n",
       "      <td>1.000000</td>\n",
       "      <td>1.000000</td>\n",
       "      <td>1.000000</td>\n",
       "      <td>1.000000</td>\n",
       "    </tr>\n",
       "    <tr>\n",
       "      <th>RandomForestClassifier0</th>\n",
       "      <td>0.806299</td>\n",
       "      <td>0.867596</td>\n",
       "      <td>0.586673</td>\n",
       "      <td>0.569003</td>\n",
       "      <td>0.636157</td>\n",
       "    </tr>\n",
       "    <tr>\n",
       "      <th>RandomForestClassifier1</th>\n",
       "      <td>0.811811</td>\n",
       "      <td>0.871039</td>\n",
       "      <td>0.593347</td>\n",
       "      <td>0.579184</td>\n",
       "      <td>0.646381</td>\n",
       "    </tr>\n",
       "    <tr>\n",
       "      <th>RandomForestClassifier2</th>\n",
       "      <td>0.802362</td>\n",
       "      <td>0.754064</td>\n",
       "      <td>0.583326</td>\n",
       "      <td>0.566196</td>\n",
       "      <td>0.628548</td>\n",
       "    </tr>\n",
       "    <tr>\n",
       "      <th>RandomForestClassifier3</th>\n",
       "      <td>0.819685</td>\n",
       "      <td>0.875736</td>\n",
       "      <td>0.613713</td>\n",
       "      <td>0.614716</td>\n",
       "      <td>0.661901</td>\n",
       "    </tr>\n",
       "    <tr>\n",
       "      <th>RandomForestClassifier4</th>\n",
       "      <td>0.807874</td>\n",
       "      <td>0.702233</td>\n",
       "      <td>0.584246</td>\n",
       "      <td>0.563445</td>\n",
       "      <td>0.638737</td>\n",
       "    </tr>\n",
       "    <tr>\n",
       "      <th>RandomForestClassifier5</th>\n",
       "      <td>0.818110</td>\n",
       "      <td>0.833393</td>\n",
       "      <td>0.609142</td>\n",
       "      <td>0.607483</td>\n",
       "      <td>0.658591</td>\n",
       "    </tr>\n",
       "    <tr>\n",
       "      <th>RandomForestClassifier6</th>\n",
       "      <td>0.806299</td>\n",
       "      <td>0.701058</td>\n",
       "      <td>0.582730</td>\n",
       "      <td>0.562290</td>\n",
       "      <td>0.635316</td>\n",
       "    </tr>\n",
       "    <tr>\n",
       "      <th>RandomForestClassifier7</th>\n",
       "      <td>0.818110</td>\n",
       "      <td>0.833343</td>\n",
       "      <td>0.608965</td>\n",
       "      <td>0.607425</td>\n",
       "      <td>0.658448</td>\n",
       "    </tr>\n",
       "    <tr>\n",
       "      <th>XGBClassifier8</th>\n",
       "      <td>0.829134</td>\n",
       "      <td>0.781121</td>\n",
       "      <td>0.623023</td>\n",
       "      <td>0.625703</td>\n",
       "      <td>0.679901</td>\n",
       "    </tr>\n",
       "    <tr>\n",
       "      <th>XGBClassifier9</th>\n",
       "      <td>0.829134</td>\n",
       "      <td>0.744852</td>\n",
       "      <td>0.628598</td>\n",
       "      <td>0.634725</td>\n",
       "      <td>0.680733</td>\n",
       "    </tr>\n",
       "    <tr>\n",
       "      <th>XGBClassifier10</th>\n",
       "      <td>0.827559</td>\n",
       "      <td>0.750690</td>\n",
       "      <td>0.630137</td>\n",
       "      <td>0.638503</td>\n",
       "      <td>0.677740</td>\n",
       "    </tr>\n",
       "    <tr>\n",
       "      <th>XGBClassifier11</th>\n",
       "      <td>0.804724</td>\n",
       "      <td>0.713172</td>\n",
       "      <td>0.602950</td>\n",
       "      <td>0.602602</td>\n",
       "      <td>0.635353</td>\n",
       "    </tr>\n",
       "    <tr>\n",
       "      <th>XGBClassifier12</th>\n",
       "      <td>0.831496</td>\n",
       "      <td>0.781385</td>\n",
       "      <td>0.630962</td>\n",
       "      <td>0.637579</td>\n",
       "      <td>0.685164</td>\n",
       "    </tr>\n",
       "    <tr>\n",
       "      <th>XGBClassifier13</th>\n",
       "      <td>0.835433</td>\n",
       "      <td>0.777475</td>\n",
       "      <td>0.636830</td>\n",
       "      <td>0.645047</td>\n",
       "      <td>0.692872</td>\n",
       "    </tr>\n",
       "    <tr>\n",
       "      <th>XGBClassifier14</th>\n",
       "      <td>0.825984</td>\n",
       "      <td>0.786063</td>\n",
       "      <td>0.623222</td>\n",
       "      <td>0.628602</td>\n",
       "      <td>0.673949</td>\n",
       "    </tr>\n",
       "    <tr>\n",
       "      <th>XGBClassifier15</th>\n",
       "      <td>0.830709</td>\n",
       "      <td>0.817233</td>\n",
       "      <td>0.621129</td>\n",
       "      <td>0.621777</td>\n",
       "      <td>0.682337</td>\n",
       "    </tr>\n",
       "    <tr>\n",
       "      <th>XGBClassifier16</th>\n",
       "      <td>0.828346</td>\n",
       "      <td>0.840329</td>\n",
       "      <td>0.616600</td>\n",
       "      <td>0.614716</td>\n",
       "      <td>0.677669</td>\n",
       "    </tr>\n",
       "    <tr>\n",
       "      <th>XGBClassifier17</th>\n",
       "      <td>0.833858</td>\n",
       "      <td>0.808056</td>\n",
       "      <td>0.638368</td>\n",
       "      <td>0.649727</td>\n",
       "      <td>0.689529</td>\n",
       "    </tr>\n",
       "    <tr>\n",
       "      <th>XGBClassifier18</th>\n",
       "      <td>0.836220</td>\n",
       "      <td>0.825229</td>\n",
       "      <td>0.640376</td>\n",
       "      <td>0.651972</td>\n",
       "      <td>0.693928</td>\n",
       "    </tr>\n",
       "  </tbody>\n",
       "</table>\n",
       "</div>"
      ]
     },
     "execution_count": 7,
     "metadata": {},
     "output_type": "execute_result"
    }
   ],
   "execution_count": 7
  },
  {
   "metadata": {},
   "cell_type": "markdown",
   "source": [
    "___\n",
    "# Balance the data"
   ],
   "id": "ad0e6dcd404dcf15"
  },
  {
   "metadata": {
    "ExecuteTime": {
     "end_time": "2024-11-02T20:10:22.766394Z",
     "start_time": "2024-11-02T20:10:22.759266Z"
    }
   },
   "cell_type": "code",
   "source": [
    "# Backup\n",
    "pipeline.backup_feature_matrix = pipeline.feature_matrix.copy()\n",
    "pipeline.backup_labels = pipeline.labels.copy()"
   ],
   "id": "da1b19771d4cde2f",
   "outputs": [],
   "execution_count": 8
  },
  {
   "metadata": {
    "ExecuteTime": {
     "end_time": "2024-11-02T20:10:22.808914Z",
     "start_time": "2024-11-02T20:10:22.804457Z"
    }
   },
   "cell_type": "code",
   "source": [
    "print(pipeline.backup_feature_matrix.shape)\n",
    "print(pipeline.feature_matrix.shape)\n",
    "\n",
    "print(pipeline.backup_labels.shape)\n",
    "print(pipeline.labels.shape)"
   ],
   "id": "3425dcf3bd509008",
   "outputs": [
    {
     "name": "stdout",
     "output_type": "stream",
     "text": [
      "(5082, 252)\n",
      "(5082, 252)\n",
      "(5082,)\n",
      "(5082,)\n"
     ]
    }
   ],
   "execution_count": 9
  },
  {
   "metadata": {
    "ExecuteTime": {
     "end_time": "2024-11-02T20:10:23.256675Z",
     "start_time": "2024-11-02T20:10:22.831097Z"
    }
   },
   "cell_type": "code",
   "source": [
    "from imblearn.over_sampling import SMOTE\n",
    "\n",
    "smote = SMOTE(random_state=42)\n",
    "pipeline.feature_matrix, pipeline.labels = smote.fit_resample(pipeline.feature_matrix, pipeline.labels)"
   ],
   "id": "6f226a41aafa84b7",
   "outputs": [],
   "execution_count": 10
  },
  {
   "metadata": {
    "ExecuteTime": {
     "end_time": "2024-11-02T20:14:46.741408Z",
     "start_time": "2024-11-02T20:10:23.279609Z"
    }
   },
   "cell_type": "code",
   "source": [
    "pipeline.fitted_classifiers = {}\n",
    "pipeline.fit_classifiers()"
   ],
   "id": "e25b1eeaa9b9b112",
   "outputs": [
    {
     "name": "stderr",
     "output_type": "stream",
     "text": [
      "INFO:utils.ml:Fitting classifiers...\n",
      "INFO:utils.ml:Fitting classifier: RandomForestClassifier0\n",
      "INFO:utils.ml:Top 10 features for RandomForestClassifier0: [('color_moments_hsv_channel_0_mean', 0.025189814877910263), ('color_moments_lab_channel_0_skew', 0.023159984002411368), ('var_lab_channel_2', 0.012882468762287342), ('var_lab_channel_0', 0.012144807106830368), ('var_lab_channel_1', 0.01213369156439068), ('color_moments_rgb_channel_2_mean', 0.011847228762639366), ('color_moments_rgb_channel_2_std', 0.011449515278480935), ('color_moments_lab_channel_2_mean', 0.010657304827664532), ('var_rgb_channel_2', 0.010546591377447638), ('color_moments_rgb_channel_1_mean', 0.009791860019408294)]\n",
      "INFO:utils.ml:Fitted classifier: RandomForestClassifier0; Done in 7.689535617828369 seconds\n",
      "INFO:utils.ml:Fitting classifier: RandomForestClassifier1\n",
      "INFO:utils.ml:Top 10 features for RandomForestClassifier1: [('color_moments_hsv_channel_0_mean', 0.02207587080755871), ('color_moments_lab_channel_0_skew', 0.02197674685726965), ('var_lab_channel_1', 0.016051065482874737), ('var_lab_channel_2', 0.013969853476570657), ('var_lab_channel_0', 0.013402914808081135), ('color_moments_rgb_channel_1_mean', 0.011772839366410942), ('gradient_magnitude_mean', 0.010276090073412836), ('color_moments_rgb_channel_2_std', 0.010059077170308866), ('color_moments_rgb_channel_2_mean', 0.009780025768541914), ('color_moments_lab_channel_0_std', 0.00969875830855828)]\n",
      "INFO:utils.ml:Fitted classifier: RandomForestClassifier1; Done in 11.575552225112915 seconds\n",
      "INFO:utils.ml:Fitting classifier: RandomForestClassifier2\n",
      "INFO:utils.ml:Top 10 features for RandomForestClassifier2: [('color_moments_hsv_channel_0_mean', 0.023836234652165618), ('color_moments_lab_channel_0_skew', 0.022205718302358016), ('var_lab_channel_2', 0.016277149250803247), ('var_lab_channel_1', 0.013747006094423591), ('color_moments_rgb_channel_2_mean', 0.011799641831313957), ('color_moments_rgb_channel_1_mean', 0.011719159335012197), ('color_moments_lab_channel_2_mean', 0.01136594074314049), ('color_moments_rgb_channel_2_std', 0.01071668819131149), ('var_rgb_channel_2', 0.010054843901267334), ('var_lab_channel_0', 0.009880818049531606)]\n",
      "INFO:utils.ml:Fitted classifier: RandomForestClassifier2; Done in 7.9255211353302 seconds\n",
      "INFO:utils.ml:Fitting classifier: RandomForestClassifier3\n",
      "INFO:utils.ml:Top 10 features for RandomForestClassifier3: [('color_moments_hsv_channel_0_mean', 0.02318195931708873), ('color_moments_lab_channel_0_skew', 0.019426470585344864), ('var_lab_channel_2', 0.016993086542543837), ('var_lab_channel_1', 0.015032460868752786), ('color_moments_rgb_channel_2_mean', 0.012352564950644095), ('color_moments_lab_channel_2_mean', 0.011931610733083176), ('color_moments_rgb_channel_1_mean', 0.011422649084720073), ('color_moments_rgb_channel_2_std', 0.010856573041474202), ('var_lab_channel_0', 0.010384841255600448), ('gradient_magnitude_mean', 0.009883021644907737)]\n",
      "INFO:utils.ml:Fitted classifier: RandomForestClassifier3; Done in 11.340091943740845 seconds\n",
      "INFO:utils.ml:Fitting classifier: RandomForestClassifier4\n",
      "INFO:utils.ml:Top 10 features for RandomForestClassifier4: [('color_moments_hsv_channel_0_mean', 0.023614758516284157), ('color_moments_lab_channel_0_skew', 0.022184080161910737), ('var_lab_channel_2', 0.01510390555435848), ('var_lab_channel_1', 0.014516570776287575), ('color_moments_lab_channel_2_mean', 0.011655572942999822), ('color_moments_rgb_channel_2_mean', 0.01137503391077126), ('var_rgb_channel_2', 0.011014025104237483), ('color_moments_rgb_channel_1_mean', 0.010739458120515348), ('var_lab_channel_0', 0.01063599590496289), ('color_moments_rgb_channel_2_std', 0.01021947441826074)]\n",
      "INFO:utils.ml:Fitted classifier: RandomForestClassifier4; Done in 11.911865949630737 seconds\n",
      "INFO:utils.ml:Fitting classifier: RandomForestClassifier5\n",
      "INFO:utils.ml:Top 10 features for RandomForestClassifier5: [('color_moments_hsv_channel_0_mean', 0.022214455857692814), ('color_moments_lab_channel_0_skew', 0.019609373171172607), ('var_lab_channel_2', 0.015808162851197353), ('var_lab_channel_1', 0.014992044635440707), ('color_moments_rgb_channel_2_mean', 0.012318910870066877), ('color_moments_lab_channel_2_mean', 0.011541124627749927), ('color_moments_rgb_channel_1_mean', 0.011285083099292293), ('color_moments_rgb_channel_2_std', 0.011210649764357379), ('var_lab_channel_0', 0.010587710482781502), ('var_rgb_channel_2', 0.010317583775514623)]\n",
      "INFO:utils.ml:Fitted classifier: RandomForestClassifier5; Done in 17.164448738098145 seconds\n",
      "INFO:utils.ml:Fitting classifier: RandomForestClassifier6\n",
      "INFO:utils.ml:Top 10 features for RandomForestClassifier6: [('color_moments_hsv_channel_0_mean', 0.023662134160969576), ('color_moments_lab_channel_0_skew', 0.021646432340695947), ('var_lab_channel_1', 0.015116474927068945), ('var_lab_channel_2', 0.014682874570374876), ('color_moments_lab_channel_2_mean', 0.011417257697717958), ('color_moments_rgb_channel_2_mean', 0.011411944346951258), ('var_lab_channel_0', 0.011006386515222224), ('color_moments_rgb_channel_2_std', 0.010734053618760803), ('var_rgb_channel_2', 0.01058922342455644), ('color_moments_rgb_channel_1_mean', 0.010113593446189945)]\n",
      "INFO:utils.ml:Fitted classifier: RandomForestClassifier6; Done in 16.17475724220276 seconds\n",
      "INFO:utils.ml:Fitting classifier: RandomForestClassifier7\n",
      "INFO:utils.ml:Top 10 features for RandomForestClassifier7: [('color_moments_hsv_channel_0_mean', 0.02284088228141925), ('color_moments_lab_channel_0_skew', 0.020860112796151076), ('var_lab_channel_1', 0.015605475569529417), ('var_lab_channel_2', 0.015263177420128348), ('color_moments_rgb_channel_2_mean', 0.011739670529498451), ('color_moments_lab_channel_2_mean', 0.011179118321390895), ('var_rgb_channel_2', 0.010906674900567737), ('color_moments_rgb_channel_2_std', 0.01075094820296342), ('color_moments_rgb_channel_1_mean', 0.01067344472747718), ('var_lab_channel_0', 0.01055390541403689)]\n",
      "INFO:utils.ml:Fitted classifier: RandomForestClassifier7; Done in 23.446691036224365 seconds\n",
      "INFO:utils.ml:Fitting classifier: XGBClassifier8\n",
      "INFO:utils.ml:Fitted classifier: XGBClassifier8; Done in 7.355695486068726 seconds\n",
      "INFO:utils.ml:Fitting classifier: XGBClassifier9\n"
     ]
    },
    {
     "name": "stdout",
     "output_type": "stream",
     "text": [
      "list index out of range\n"
     ]
    },
    {
     "name": "stderr",
     "output_type": "stream",
     "text": [
      "INFO:utils.ml:Fitted classifier: XGBClassifier9; Done in 8.433682203292847 seconds\n",
      "INFO:utils.ml:Fitting classifier: XGBClassifier10\n"
     ]
    },
    {
     "name": "stdout",
     "output_type": "stream",
     "text": [
      "list index out of range\n"
     ]
    },
    {
     "name": "stderr",
     "output_type": "stream",
     "text": [
      "INFO:utils.ml:Fitted classifier: XGBClassifier10; Done in 9.733409643173218 seconds\n",
      "INFO:utils.ml:Fitting classifier: XGBClassifier11\n"
     ]
    },
    {
     "name": "stdout",
     "output_type": "stream",
     "text": [
      "list index out of range\n"
     ]
    },
    {
     "name": "stderr",
     "output_type": "stream",
     "text": [
      "INFO:utils.ml:Top 10 features for XGBClassifier11: [('color_moments_hsv_channel_0_mean', 0.02618271), ('var_lab_channel_0', 0.0140603), ('lbp_rad1_bins64_9', 0.012978315), ('lbp_rad1_bins64_16', 0.012964124), ('color_moments_lab_channel_1_std', 0.01222537), ('var_lab_channel_1', 0.011894069), ('lbp_rad2_bins64_8', 0.011763771), ('color_moments_lab_channel_1_skew', 0.011108612), ('gradient_magnitude_mean', 0.009903481), ('color_moments_lab_channel_0_skew', 0.009742757)]\n",
      "INFO:utils.ml:Fitted classifier: XGBClassifier11; Done in 3.739762306213379 seconds\n",
      "INFO:utils.ml:Fitting classifier: XGBClassifier12\n",
      "INFO:utils.ml:Fitted classifier: XGBClassifier12; Done in 10.224793434143066 seconds\n",
      "INFO:utils.ml:Fitting classifier: XGBClassifier13\n"
     ]
    },
    {
     "name": "stdout",
     "output_type": "stream",
     "text": [
      "list index out of range\n"
     ]
    },
    {
     "name": "stderr",
     "output_type": "stream",
     "text": [
      "INFO:utils.ml:Top 10 features for XGBClassifier13: [('color_moments_hsv_channel_0_mean', 0.022849651), ('lbp_rad2_bins64_8', 0.021082457), ('var_lab_channel_0', 0.015250812), ('var_lab_channel_1', 0.014459662), ('color_moments_lab_channel_1_std', 0.013492688), ('lbp_rad1_bins64_9', 0.012475105), ('lbp_rad3_bins64_8', 0.011289164), ('var_lab_channel_2', 0.010134945), ('gradient_magnitude_mean', 0.0096933665), ('color_moments_lab_channel_0_skew', 0.009192759)]\n",
      "INFO:utils.ml:Fitted classifier: XGBClassifier13; Done in 6.862001657485962 seconds\n",
      "INFO:utils.ml:Fitting classifier: XGBClassifier14\n",
      "INFO:utils.ml:Fitted classifier: XGBClassifier14; Done in 7.784689664840698 seconds\n",
      "INFO:utils.ml:Fitting classifier: XGBClassifier15\n"
     ]
    },
    {
     "name": "stdout",
     "output_type": "stream",
     "text": [
      "list index out of range\n"
     ]
    },
    {
     "name": "stderr",
     "output_type": "stream",
     "text": [
      "INFO:utils.ml:Top 10 features for XGBClassifier15: [('color_moments_hsv_channel_0_mean', 0.022531783), ('var_lab_channel_0', 0.018590655), ('var_lab_channel_1', 0.014160898), ('lbp_rad2_bins64_8', 0.014004299), ('lbp_rad1_bins64_9', 0.01244467), ('color_moments_lab_channel_1_std', 0.01232961), ('color_moments_lab_channel_1_skew', 0.0099974945), ('var_lab_channel_2', 0.009568464), ('gradient_magnitude_mean', 0.0095445365), ('lbp_rad3_bins64_8', 0.009075515)]\n",
      "INFO:utils.ml:Fitted classifier: XGBClassifier15; Done in 30.05023455619812 seconds\n",
      "INFO:utils.ml:Fitting classifier: XGBClassifier16\n",
      "INFO:utils.ml:Top 10 features for XGBClassifier16: [('color_moments_hsv_channel_0_mean', 0.023295276), ('var_lab_channel_0', 0.018214742), ('var_lab_channel_1', 0.014081606), ('lbp_rad2_bins64_8', 0.013252051), ('color_moments_lab_channel_1_std', 0.01267974), ('lbp_rad1_bins64_9', 0.012036265), ('color_moments_lab_channel_1_skew', 0.009998684), ('gradient_magnitude_mean', 0.009484538), ('var_lab_channel_2', 0.009351927), ('lbp_rad3_bins64_8', 0.00889972)]\n",
      "INFO:utils.ml:Fitted classifier: XGBClassifier16; Done in 46.90678572654724 seconds\n",
      "INFO:utils.ml:Fitting classifier: XGBClassifier17\n",
      "INFO:utils.ml:Top 10 features for XGBClassifier17: [('color_moments_hsv_channel_0_mean', 0.02251477), ('var_lab_channel_0', 0.018294552), ('lbp_rad2_bins64_8', 0.01784921), ('var_lab_channel_1', 0.015750108), ('lbp_rad1_bins64_9', 0.012026861), ('color_moments_lab_channel_1_std', 0.0111239785), ('var_lab_channel_2', 0.010222295), ('lbp_rad3_bins64_46', 0.009212044), ('gradient_magnitude_mean', 0.008961635), ('color_moments_lab_channel_0_skew', 0.008467065)]\n",
      "INFO:utils.ml:Fitted classifier: XGBClassifier17; Done in 11.661855459213257 seconds\n",
      "INFO:utils.ml:Fitting classifier: XGBClassifier18\n",
      "INFO:utils.ml:Top 10 features for XGBClassifier18: [('color_moments_hsv_channel_0_mean', 0.021878844), ('var_lab_channel_0', 0.018976102), ('lbp_rad2_bins64_8', 0.018361058), ('var_lab_channel_1', 0.015949398), ('lbp_rad1_bins64_9', 0.012136491), ('color_moments_lab_channel_1_std', 0.010719011), ('var_lab_channel_2', 0.010381808), ('gradient_magnitude_mean', 0.009076046), ('lbp_rad3_bins64_46', 0.008919817), ('color_moments_lab_channel_0_skew', 0.008549037)]\n",
      "INFO:utils.ml:Fitted classifier: XGBClassifier18; Done in 13.462804794311523 seconds\n",
      "INFO:utils.ml:Fitting completed in 263.45 seconds.\n"
     ]
    }
   ],
   "execution_count": 11
  },
  {
   "metadata": {
    "ExecuteTime": {
     "end_time": "2024-11-02T20:16:59.124509Z",
     "start_time": "2024-11-02T20:14:46.824182Z"
    }
   },
   "cell_type": "code",
   "source": "pipeline.predict_with_classifiers(VAL_PATH)",
   "id": "eaa13003ad0706a4",
   "outputs": [
    {
     "name": "stderr",
     "output_type": "stream",
     "text": [
      "INFO:utils.ml:Predicting with classifiers on dataset: C:\\Users\\gimes\\Src\\repos\\CADx-Project\\dataset\\multiclass\\val\n"
     ]
    },
    {
     "name": "stdout",
     "output_type": "stream",
     "text": [
      "Processed 5/27 batches.\n",
      "Processed 10/27 batches.\n",
      "Processed 15/27 batches.\n",
      "Processed 20/27 batches.\n",
      "Processed 25/27 batches.\n"
     ]
    },
    {
     "name": "stderr",
     "output_type": "stream",
     "text": [
      "INFO:utils.ml:Predictions made with classifier: RandomForestClassifier0\n",
      "INFO:utils.ml:Predictions made with classifier: RandomForestClassifier1\n",
      "INFO:utils.ml:Predictions made with classifier: RandomForestClassifier2\n",
      "INFO:utils.ml:Predictions made with classifier: RandomForestClassifier3\n",
      "INFO:utils.ml:Predictions made with classifier: RandomForestClassifier4\n",
      "INFO:utils.ml:Predictions made with classifier: RandomForestClassifier5\n",
      "INFO:utils.ml:Predictions made with classifier: RandomForestClassifier6\n"
     ]
    },
    {
     "name": "stdout",
     "output_type": "stream",
     "text": [
      "Processed 27/27 batches.\n"
     ]
    },
    {
     "name": "stderr",
     "output_type": "stream",
     "text": [
      "INFO:utils.ml:Predictions made with classifier: RandomForestClassifier7\n",
      "INFO:utils.ml:Predictions made with classifier: XGBClassifier8\n",
      "INFO:utils.ml:Predictions made with classifier: XGBClassifier9\n",
      "INFO:utils.ml:Predictions made with classifier: XGBClassifier10\n",
      "INFO:utils.ml:Predictions made with classifier: XGBClassifier11\n",
      "INFO:utils.ml:Predictions made with classifier: XGBClassifier12\n",
      "INFO:utils.ml:Predictions made with classifier: XGBClassifier13\n",
      "INFO:utils.ml:Predictions made with classifier: XGBClassifier14\n",
      "INFO:utils.ml:Predictions made with classifier: XGBClassifier15\n",
      "INFO:utils.ml:Predictions made with classifier: XGBClassifier16\n",
      "INFO:utils.ml:Predictions made with classifier: XGBClassifier17\n",
      "INFO:utils.ml:Predictions made with classifier: XGBClassifier18\n"
     ]
    },
    {
     "data": {
      "text/plain": [
       "{'GT': array([0, 0, 0, ..., 2, 2, 2]),\n",
       " 'RandomForestClassifier0': array([0, 0, 2, ..., 1, 0, 0]),\n",
       " 'RandomForestClassifier1': array([0, 0, 2, ..., 1, 0, 0]),\n",
       " 'RandomForestClassifier2': array([0, 0, 2, ..., 1, 0, 0]),\n",
       " 'RandomForestClassifier3': array([0, 0, 2, ..., 1, 0, 0]),\n",
       " 'RandomForestClassifier4': array([0, 0, 2, ..., 1, 0, 0]),\n",
       " 'RandomForestClassifier5': array([0, 0, 2, ..., 1, 0, 0]),\n",
       " 'RandomForestClassifier6': array([0, 0, 2, ..., 1, 0, 0]),\n",
       " 'RandomForestClassifier7': array([0, 0, 2, ..., 1, 0, 0]),\n",
       " 'XGBClassifier8': array([0, 0, 2, ..., 1, 0, 0], dtype=int64),\n",
       " 'XGBClassifier9': array([0, 0, 2, ..., 1, 0, 0], dtype=int64),\n",
       " 'XGBClassifier10': array([0, 0, 2, ..., 1, 0, 0], dtype=int64),\n",
       " 'XGBClassifier11': array([0, 0, 2, ..., 1, 0, 0], dtype=int64),\n",
       " 'XGBClassifier12': array([0, 0, 2, ..., 1, 0, 0], dtype=int64),\n",
       " 'XGBClassifier13': array([0, 0, 2, ..., 1, 0, 0], dtype=int64),\n",
       " 'XGBClassifier14': array([0, 0, 2, ..., 1, 0, 0], dtype=int64),\n",
       " 'XGBClassifier15': array([0, 0, 2, ..., 1, 0, 0], dtype=int64),\n",
       " 'XGBClassifier16': array([0, 0, 2, ..., 1, 0, 0], dtype=int64),\n",
       " 'XGBClassifier17': array([0, 0, 2, ..., 1, 0, 0], dtype=int64),\n",
       " 'XGBClassifier18': array([0, 0, 2, ..., 1, 0, 0], dtype=int64)}"
      ]
     },
     "execution_count": 12,
     "metadata": {},
     "output_type": "execute_result"
    }
   ],
   "execution_count": 12
  },
  {
   "metadata": {
    "ExecuteTime": {
     "end_time": "2024-11-02T20:18:14.500888Z",
     "start_time": "2024-11-02T20:18:14.389307Z"
    }
   },
   "cell_type": "code",
   "source": [
    "import pandas as pd\n",
    "\n",
    "df_smote = pd.DataFrame(data=pipeline.calculate_metrics())\n",
    "df_smote = df_smote.T\n",
    "df_smote"
   ],
   "id": "441842170622e9a",
   "outputs": [
    {
     "name": "stderr",
     "output_type": "stream",
     "text": [
      "INFO:utils.ml:Metrics for classifier GT: {'accuracy': 1.0, 'precision': 1.0, 'recall': 1.0, 'f1': 1.0, 'kappa': 1.0}\n",
      "INFO:utils.ml:Metrics for classifier RandomForestClassifier0: {'accuracy': 0.7937007874015748, 'precision': 0.6843907861707198, 'recall': 0.6891561727988966, 'f1': 0.685134720190281, 'kappa': 0.6336672905427723}\n",
      "INFO:utils.ml:Metrics for classifier RandomForestClassifier1: {'accuracy': 0.8039370078740158, 'precision': 0.6806631670640014, 'recall': 0.6793532001602091, 'f1': 0.6776645947539149, 'kappa': 0.6511727953829455}\n",
      "INFO:utils.ml:Metrics for classifier RandomForestClassifier2: {'accuracy': 0.7992125984251969, 'precision': 0.6702815305686834, 'recall': 0.670294433240399, 'f1': 0.6677909293014243, 'kappa': 0.6432096915639501}\n",
      "INFO:utils.ml:Metrics for classifier RandomForestClassifier3: {'accuracy': 0.8070866141732284, 'precision': 0.6951363740676993, 'recall': 0.6667582903004726, 'f1': 0.6744524078509272, 'kappa': 0.6518780571853084}\n",
      "INFO:utils.ml:Metrics for classifier RandomForestClassifier4: {'accuracy': 0.7992125984251969, 'precision': 0.6707646253367502, 'recall': 0.669939029323848, 'f1': 0.6680835504364917, 'kappa': 0.6426963763223047}\n",
      "INFO:utils.ml:Metrics for classifier RandomForestClassifier5: {'accuracy': 0.8062992125984252, 'precision': 0.6807242438238039, 'recall': 0.6572809785555326, 'f1': 0.6628680939425405, 'kappa': 0.650597882248735}\n",
      "INFO:utils.ml:Metrics for classifier RandomForestClassifier6: {'accuracy': 0.8007874015748031, 'precision': 0.6703857029140777, 'recall': 0.671277717409524, 'f1': 0.6685156602198273, 'kappa': 0.6460252060106642}\n",
      "INFO:utils.ml:Metrics for classifier RandomForestClassifier7: {'accuracy': 0.8086614173228347, 'precision': 0.68675222018384, 'recall': 0.6616326600571621, 'f1': 0.6681154390463799, 'kappa': 0.6545807422132084}\n",
      "INFO:utils.ml:Metrics for classifier XGBClassifier8: {'accuracy': 0.8196850393700787, 'precision': 0.6937974269344934, 'recall': 0.6843545650624843, 'f1': 0.6880296300913732, 'kappa': 0.6750154206484718}\n",
      "INFO:utils.ml:Metrics for classifier XGBClassifier9: {'accuracy': 0.8228346456692913, 'precision': 0.6959567547117049, 'recall': 0.6836220801110674, 'f1': 0.6883654958900692, 'kappa': 0.6801301195971934}\n",
      "INFO:utils.ml:Metrics for classifier XGBClassifier10: {'accuracy': 0.8244094488188977, 'precision': 0.6982785839581762, 'recall': 0.6846053642801925, 'f1': 0.6898893154386255, 'kappa': 0.6827020462306513}\n",
      "INFO:utils.ml:Metrics for classifier XGBClassifier11: {'accuracy': 0.7622047244094489, 'precision': 0.6319462810910271, 'recall': 0.6571620064643183, 'f1': 0.6364177013075871, 'kappa': 0.5905692362217164}\n",
      "INFO:utils.ml:Metrics for classifier XGBClassifier12: {'accuracy': 0.8196850393700787, 'precision': 0.6885714285714286, 'recall': 0.6705038946976004, 'f1': 0.676331559714935, 'kappa': 0.673855021755708}\n",
      "INFO:utils.ml:Metrics for classifier XGBClassifier13: {'accuracy': 0.8188976377952756, 'precision': 0.6859843067609588, 'recall': 0.6735998156940823, 'f1': 0.6773692847763604, 'kappa': 0.6737625089349535}\n",
      "INFO:utils.ml:Metrics for classifier XGBClassifier14: {'accuracy': 0.8196850393700787, 'precision': 0.6942870566126381, 'recall': 0.6800226702328046, 'f1': 0.6847812774259102, 'kappa': 0.6749195207010641}\n",
      "INFO:utils.ml:Metrics for classifier XGBClassifier15: {'accuracy': 0.8204724409448819, 'precision': 0.6921570945453371, 'recall': 0.6745830998632073, 'f1': 0.6801302916280223, 'kappa': 0.6758187379366863}\n",
      "INFO:utils.ml:Metrics for classifier XGBClassifier16: {'accuracy': 0.8212598425196851, 'precision': 0.692762356112885, 'recall': 0.6752524439060453, 'f1': 0.6806884005936139, 'kappa': 0.6773706192281694}\n",
      "INFO:utils.ml:Metrics for classifier XGBClassifier17: {'accuracy': 0.8299212598425196, 'precision': 0.7029492125840883, 'recall': 0.6806605068362321, 'f1': 0.6881219150044192, 'kappa': 0.6916547144276638}\n",
      "INFO:utils.ml:Metrics for classifier XGBClassifier18: {'accuracy': 0.8251968503937008, 'precision': 0.6908602048900893, 'recall': 0.6710686340415953, 'f1': 0.677560357928778, 'kappa': 0.682961277060853}\n"
     ]
    },
    {
     "name": "stdout",
     "output_type": "stream",
     "text": [
      "cannot access local variable 'report' where it is not associated with a value\n",
      "cannot access local variable 'report' where it is not associated with a value\n",
      "cannot access local variable 'report' where it is not associated with a value\n",
      "cannot access local variable 'report' where it is not associated with a value\n",
      "cannot access local variable 'report' where it is not associated with a value\n",
      "cannot access local variable 'report' where it is not associated with a value\n",
      "cannot access local variable 'report' where it is not associated with a value\n",
      "cannot access local variable 'report' where it is not associated with a value\n",
      "cannot access local variable 'report' where it is not associated with a value\n",
      "cannot access local variable 'report' where it is not associated with a value\n",
      "cannot access local variable 'report' where it is not associated with a value\n",
      "cannot access local variable 'report' where it is not associated with a value\n",
      "cannot access local variable 'report' where it is not associated with a value\n",
      "cannot access local variable 'report' where it is not associated with a value\n",
      "cannot access local variable 'report' where it is not associated with a value\n",
      "cannot access local variable 'report' where it is not associated with a value\n",
      "cannot access local variable 'report' where it is not associated with a value\n",
      "cannot access local variable 'report' where it is not associated with a value\n",
      "cannot access local variable 'report' where it is not associated with a value\n",
      "cannot access local variable 'report' where it is not associated with a value\n"
     ]
    },
    {
     "data": {
      "text/plain": [
       "                         accuracy  precision    recall        f1     kappa\n",
       "GT                       1.000000   1.000000  1.000000  1.000000  1.000000\n",
       "RandomForestClassifier0  0.793701   0.684391  0.689156  0.685135  0.633667\n",
       "RandomForestClassifier1  0.803937   0.680663  0.679353  0.677665  0.651173\n",
       "RandomForestClassifier2  0.799213   0.670282  0.670294  0.667791  0.643210\n",
       "RandomForestClassifier3  0.807087   0.695136  0.666758  0.674452  0.651878\n",
       "RandomForestClassifier4  0.799213   0.670765  0.669939  0.668084  0.642696\n",
       "RandomForestClassifier5  0.806299   0.680724  0.657281  0.662868  0.650598\n",
       "RandomForestClassifier6  0.800787   0.670386  0.671278  0.668516  0.646025\n",
       "RandomForestClassifier7  0.808661   0.686752  0.661633  0.668115  0.654581\n",
       "XGBClassifier8           0.819685   0.693797  0.684355  0.688030  0.675015\n",
       "XGBClassifier9           0.822835   0.695957  0.683622  0.688365  0.680130\n",
       "XGBClassifier10          0.824409   0.698279  0.684605  0.689889  0.682702\n",
       "XGBClassifier11          0.762205   0.631946  0.657162  0.636418  0.590569\n",
       "XGBClassifier12          0.819685   0.688571  0.670504  0.676332  0.673855\n",
       "XGBClassifier13          0.818898   0.685984  0.673600  0.677369  0.673763\n",
       "XGBClassifier14          0.819685   0.694287  0.680023  0.684781  0.674920\n",
       "XGBClassifier15          0.820472   0.692157  0.674583  0.680130  0.675819\n",
       "XGBClassifier16          0.821260   0.692762  0.675252  0.680688  0.677371\n",
       "XGBClassifier17          0.829921   0.702949  0.680661  0.688122  0.691655\n",
       "XGBClassifier18          0.825197   0.690860  0.671069  0.677560  0.682961"
      ],
      "text/html": [
       "<div>\n",
       "<style scoped>\n",
       "    .dataframe tbody tr th:only-of-type {\n",
       "        vertical-align: middle;\n",
       "    }\n",
       "\n",
       "    .dataframe tbody tr th {\n",
       "        vertical-align: top;\n",
       "    }\n",
       "\n",
       "    .dataframe thead th {\n",
       "        text-align: right;\n",
       "    }\n",
       "</style>\n",
       "<table border=\"1\" class=\"dataframe\">\n",
       "  <thead>\n",
       "    <tr style=\"text-align: right;\">\n",
       "      <th></th>\n",
       "      <th>accuracy</th>\n",
       "      <th>precision</th>\n",
       "      <th>recall</th>\n",
       "      <th>f1</th>\n",
       "      <th>kappa</th>\n",
       "    </tr>\n",
       "  </thead>\n",
       "  <tbody>\n",
       "    <tr>\n",
       "      <th>GT</th>\n",
       "      <td>1.000000</td>\n",
       "      <td>1.000000</td>\n",
       "      <td>1.000000</td>\n",
       "      <td>1.000000</td>\n",
       "      <td>1.000000</td>\n",
       "    </tr>\n",
       "    <tr>\n",
       "      <th>RandomForestClassifier0</th>\n",
       "      <td>0.793701</td>\n",
       "      <td>0.684391</td>\n",
       "      <td>0.689156</td>\n",
       "      <td>0.685135</td>\n",
       "      <td>0.633667</td>\n",
       "    </tr>\n",
       "    <tr>\n",
       "      <th>RandomForestClassifier1</th>\n",
       "      <td>0.803937</td>\n",
       "      <td>0.680663</td>\n",
       "      <td>0.679353</td>\n",
       "      <td>0.677665</td>\n",
       "      <td>0.651173</td>\n",
       "    </tr>\n",
       "    <tr>\n",
       "      <th>RandomForestClassifier2</th>\n",
       "      <td>0.799213</td>\n",
       "      <td>0.670282</td>\n",
       "      <td>0.670294</td>\n",
       "      <td>0.667791</td>\n",
       "      <td>0.643210</td>\n",
       "    </tr>\n",
       "    <tr>\n",
       "      <th>RandomForestClassifier3</th>\n",
       "      <td>0.807087</td>\n",
       "      <td>0.695136</td>\n",
       "      <td>0.666758</td>\n",
       "      <td>0.674452</td>\n",
       "      <td>0.651878</td>\n",
       "    </tr>\n",
       "    <tr>\n",
       "      <th>RandomForestClassifier4</th>\n",
       "      <td>0.799213</td>\n",
       "      <td>0.670765</td>\n",
       "      <td>0.669939</td>\n",
       "      <td>0.668084</td>\n",
       "      <td>0.642696</td>\n",
       "    </tr>\n",
       "    <tr>\n",
       "      <th>RandomForestClassifier5</th>\n",
       "      <td>0.806299</td>\n",
       "      <td>0.680724</td>\n",
       "      <td>0.657281</td>\n",
       "      <td>0.662868</td>\n",
       "      <td>0.650598</td>\n",
       "    </tr>\n",
       "    <tr>\n",
       "      <th>RandomForestClassifier6</th>\n",
       "      <td>0.800787</td>\n",
       "      <td>0.670386</td>\n",
       "      <td>0.671278</td>\n",
       "      <td>0.668516</td>\n",
       "      <td>0.646025</td>\n",
       "    </tr>\n",
       "    <tr>\n",
       "      <th>RandomForestClassifier7</th>\n",
       "      <td>0.808661</td>\n",
       "      <td>0.686752</td>\n",
       "      <td>0.661633</td>\n",
       "      <td>0.668115</td>\n",
       "      <td>0.654581</td>\n",
       "    </tr>\n",
       "    <tr>\n",
       "      <th>XGBClassifier8</th>\n",
       "      <td>0.819685</td>\n",
       "      <td>0.693797</td>\n",
       "      <td>0.684355</td>\n",
       "      <td>0.688030</td>\n",
       "      <td>0.675015</td>\n",
       "    </tr>\n",
       "    <tr>\n",
       "      <th>XGBClassifier9</th>\n",
       "      <td>0.822835</td>\n",
       "      <td>0.695957</td>\n",
       "      <td>0.683622</td>\n",
       "      <td>0.688365</td>\n",
       "      <td>0.680130</td>\n",
       "    </tr>\n",
       "    <tr>\n",
       "      <th>XGBClassifier10</th>\n",
       "      <td>0.824409</td>\n",
       "      <td>0.698279</td>\n",
       "      <td>0.684605</td>\n",
       "      <td>0.689889</td>\n",
       "      <td>0.682702</td>\n",
       "    </tr>\n",
       "    <tr>\n",
       "      <th>XGBClassifier11</th>\n",
       "      <td>0.762205</td>\n",
       "      <td>0.631946</td>\n",
       "      <td>0.657162</td>\n",
       "      <td>0.636418</td>\n",
       "      <td>0.590569</td>\n",
       "    </tr>\n",
       "    <tr>\n",
       "      <th>XGBClassifier12</th>\n",
       "      <td>0.819685</td>\n",
       "      <td>0.688571</td>\n",
       "      <td>0.670504</td>\n",
       "      <td>0.676332</td>\n",
       "      <td>0.673855</td>\n",
       "    </tr>\n",
       "    <tr>\n",
       "      <th>XGBClassifier13</th>\n",
       "      <td>0.818898</td>\n",
       "      <td>0.685984</td>\n",
       "      <td>0.673600</td>\n",
       "      <td>0.677369</td>\n",
       "      <td>0.673763</td>\n",
       "    </tr>\n",
       "    <tr>\n",
       "      <th>XGBClassifier14</th>\n",
       "      <td>0.819685</td>\n",
       "      <td>0.694287</td>\n",
       "      <td>0.680023</td>\n",
       "      <td>0.684781</td>\n",
       "      <td>0.674920</td>\n",
       "    </tr>\n",
       "    <tr>\n",
       "      <th>XGBClassifier15</th>\n",
       "      <td>0.820472</td>\n",
       "      <td>0.692157</td>\n",
       "      <td>0.674583</td>\n",
       "      <td>0.680130</td>\n",
       "      <td>0.675819</td>\n",
       "    </tr>\n",
       "    <tr>\n",
       "      <th>XGBClassifier16</th>\n",
       "      <td>0.821260</td>\n",
       "      <td>0.692762</td>\n",
       "      <td>0.675252</td>\n",
       "      <td>0.680688</td>\n",
       "      <td>0.677371</td>\n",
       "    </tr>\n",
       "    <tr>\n",
       "      <th>XGBClassifier17</th>\n",
       "      <td>0.829921</td>\n",
       "      <td>0.702949</td>\n",
       "      <td>0.680661</td>\n",
       "      <td>0.688122</td>\n",
       "      <td>0.691655</td>\n",
       "    </tr>\n",
       "    <tr>\n",
       "      <th>XGBClassifier18</th>\n",
       "      <td>0.825197</td>\n",
       "      <td>0.690860</td>\n",
       "      <td>0.671069</td>\n",
       "      <td>0.677560</td>\n",
       "      <td>0.682961</td>\n",
       "    </tr>\n",
       "  </tbody>\n",
       "</table>\n",
       "</div>"
      ]
     },
     "execution_count": 14,
     "metadata": {},
     "output_type": "execute_result"
    }
   ],
   "execution_count": 14
  },
  {
   "metadata": {
    "ExecuteTime": {
     "end_time": "2024-11-02T20:18:49.016666Z",
     "start_time": "2024-11-02T20:18:49.006224Z"
    }
   },
   "cell_type": "code",
   "source": "confusion_matrix(pipeline.predictions[\"GT\"],pipeline.predictions[\"XGBClassifier17\"])",
   "id": "cdc894cce6a949f2",
   "outputs": [
    {
     "data": {
      "text/plain": [
       "array([[433,  43,  22],\n",
       "       [ 67, 593,  18],\n",
       "       [ 45,  21,  28]], dtype=int64)"
      ]
     },
     "execution_count": 15,
     "metadata": {},
     "output_type": "execute_result"
    }
   ],
   "execution_count": 15
  },
  {
   "metadata": {},
   "cell_type": "markdown",
   "source": [
    "___\n",
    "# Borderline SMOTE"
   ],
   "id": "1e752cdfc948f3bc"
  },
  {
   "metadata": {
    "ExecuteTime": {
     "end_time": "2024-11-02T20:18:51.283219Z",
     "start_time": "2024-11-02T20:18:51.098569Z"
    }
   },
   "cell_type": "code",
   "source": [
    "from imblearn.over_sampling import BorderlineSMOTE\n",
    "smote = BorderlineSMOTE(sampling_strategy='auto', random_state=42)\n",
    "\n",
    "pipeline.feature_matrix, pipeline.labels = smote.fit_resample(\n",
    "    pipeline.backup_feature_matrix, pipeline.backup_labels)\n",
    "\n",
    "print(pipeline.backup_feature_matrix.shape)\n",
    "print(pipeline.feature_matrix.shape)\n",
    "\n",
    "print(pipeline.backup_labels.shape)\n",
    "print(pipeline.labels.shape)"
   ],
   "id": "ca12420fbcc1eb2b",
   "outputs": [
    {
     "name": "stdout",
     "output_type": "stream",
     "text": [
      "(5082, 252)\n",
      "(8139, 252)\n",
      "(5082,)\n",
      "(8139,)\n"
     ]
    }
   ],
   "execution_count": 16
  },
  {
   "metadata": {
    "ExecuteTime": {
     "end_time": "2024-11-02T20:22:46.909930Z",
     "start_time": "2024-11-02T20:18:52.726414Z"
    }
   },
   "cell_type": "code",
   "source": [
    "pipeline.fitted_classifiers = {}\n",
    "\n",
    "pipeline.fit_classifiers()"
   ],
   "id": "a4ea57f5e5a38f80",
   "outputs": [
    {
     "name": "stderr",
     "output_type": "stream",
     "text": [
      "INFO:utils.ml:Fitting classifiers...\n",
      "INFO:utils.ml:Fitting classifier: RandomForestClassifier0\n",
      "INFO:utils.ml:Top 10 features for RandomForestClassifier0: [('color_moments_lab_channel_0_skew', 0.024642895577035882), ('color_moments_hsv_channel_0_mean', 0.02015596566185286), ('var_lab_channel_1', 0.016598769678566428), ('var_lab_channel_2', 0.013157546850449994), ('var_lab_channel_0', 0.012139962985897187), ('color_moments_rgb_channel_2_mean', 0.011951745213025326), ('color_moments_hsv_channel_1_mean', 0.011314777077500553), ('color_moments_hsv_channel_2_std', 0.01090544948967954), ('color_moments_rgb_channel_2_std', 0.010680693958617331), ('color_moments_lab_channel_2_mean', 0.01065121760686456)]\n",
      "INFO:utils.ml:Fitted classifier: RandomForestClassifier0; Done in 8.557301044464111 seconds\n",
      "INFO:utils.ml:Fitting classifier: RandomForestClassifier1\n",
      "INFO:utils.ml:Top 10 features for RandomForestClassifier1: [('color_moments_lab_channel_0_skew', 0.0246908235587676), ('color_moments_hsv_channel_0_mean', 0.023056098744903754), ('var_lab_channel_2', 0.01478486372434511), ('var_lab_channel_1', 0.014632140422817142), ('color_moments_rgb_channel_2_mean', 0.011714661296051889), ('color_moments_hsv_channel_2_mean', 0.011258179766163817), ('color_moments_lab_channel_1_skew', 0.011136486375013459), ('var_lab_channel_0', 0.010716341815997569), ('color_moments_rgb_channel_1_skew', 0.010566561679632025), ('color_moments_rgb_channel_2_std', 0.010090085900317756)]\n",
      "INFO:utils.ml:Fitted classifier: RandomForestClassifier1; Done in 12.53212022781372 seconds\n",
      "INFO:utils.ml:Fitting classifier: RandomForestClassifier2\n",
      "INFO:utils.ml:Top 10 features for RandomForestClassifier2: [('color_moments_hsv_channel_0_mean', 0.023909144234554328), ('color_moments_lab_channel_0_skew', 0.02056259072350783), ('var_lab_channel_1', 0.015035725129619017), ('var_lab_channel_2', 0.015024166739163746), ('color_moments_rgb_channel_2_mean', 0.011866395557472343), ('color_moments_hsv_channel_2_std', 0.010965652007015088), ('var_rgb_channel_2', 0.01095102214732906), ('color_moments_lab_channel_1_skew', 0.010850154251716952), ('color_moments_hsv_channel_1_mean', 0.010760824073676133), ('color_moments_rgb_channel_2_std', 0.01009844023043812)]\n",
      "INFO:utils.ml:Fitted classifier: RandomForestClassifier2; Done in 8.787772178649902 seconds\n",
      "INFO:utils.ml:Fitting classifier: RandomForestClassifier3\n",
      "INFO:utils.ml:Top 10 features for RandomForestClassifier3: [('color_moments_hsv_channel_0_mean', 0.024999124299253078), ('color_moments_lab_channel_0_skew', 0.024223819523073897), ('var_lab_channel_2', 0.016906468249753708), ('var_lab_channel_1', 0.01455852114678319), ('color_moments_hsv_channel_1_mean', 0.012424760014116243), ('color_moments_hsv_channel_2_std', 0.011311646944042807), ('var_lab_channel_0', 0.011281293243997953), ('color_moments_rgb_channel_2_mean', 0.011151112384624424), ('color_moments_lab_channel_1_skew', 0.010448226187132878), ('color_moments_hsv_channel_2_mean', 0.010360202557925042)]\n",
      "INFO:utils.ml:Fitted classifier: RandomForestClassifier3; Done in 12.356564998626709 seconds\n",
      "INFO:utils.ml:Fitting classifier: RandomForestClassifier4\n",
      "INFO:utils.ml:Top 10 features for RandomForestClassifier4: [('color_moments_hsv_channel_0_mean', 0.02405169001459736), ('color_moments_lab_channel_0_skew', 0.020844367585260752), ('var_lab_channel_2', 0.01523231192068335), ('var_lab_channel_1', 0.015029267643337427), ('color_moments_rgb_channel_2_mean', 0.012202106450528095), ('color_moments_lab_channel_1_skew', 0.01107543986654062), ('color_moments_hsv_channel_2_std', 0.01085809921984655), ('var_rgb_channel_2', 0.010857542562111952), ('color_moments_hsv_channel_1_mean', 0.010680839765050599), ('var_hsv_channel_0', 0.010073655345949725)]\n",
      "INFO:utils.ml:Fitted classifier: RandomForestClassifier4; Done in 12.802634716033936 seconds\n",
      "INFO:utils.ml:Fitting classifier: RandomForestClassifier5\n",
      "INFO:utils.ml:Top 10 features for RandomForestClassifier5: [('color_moments_lab_channel_0_skew', 0.024642318314385386), ('color_moments_hsv_channel_0_mean', 0.024510584466898362), ('var_lab_channel_2', 0.016282471690044556), ('var_lab_channel_1', 0.01452930051690191), ('color_moments_hsv_channel_1_mean', 0.012261155587932527), ('color_moments_hsv_channel_2_std', 0.011371037212987288), ('var_lab_channel_0', 0.011217803378648156), ('color_moments_rgb_channel_2_mean', 0.011198482628633079), ('var_rgb_channel_2', 0.01084730176475223), ('color_moments_lab_channel_1_skew', 0.010469977728886902)]\n",
      "INFO:utils.ml:Fitted classifier: RandomForestClassifier5; Done in 18.89104723930359 seconds\n",
      "INFO:utils.ml:Fitting classifier: RandomForestClassifier6\n",
      "INFO:utils.ml:Top 10 features for RandomForestClassifier6: [('color_moments_hsv_channel_0_mean', 0.025633443899104304), ('color_moments_lab_channel_0_skew', 0.020579788644857714), ('var_lab_channel_1', 0.01557815658164831), ('var_lab_channel_2', 0.015232105926170128), ('color_moments_rgb_channel_2_mean', 0.011352398371602014), ('color_moments_hsv_channel_1_mean', 0.010937913058985877), ('color_moments_hsv_channel_2_std', 0.010846684807861122), ('var_lab_channel_0', 0.010712303826002793), ('var_rgb_channel_2', 0.010460955193828538), ('color_moments_lab_channel_1_skew', 0.010272835043544166)]\n",
      "INFO:utils.ml:Fitted classifier: RandomForestClassifier6; Done in 16.756754636764526 seconds\n",
      "INFO:utils.ml:Fitting classifier: RandomForestClassifier7\n",
      "INFO:utils.ml:Top 10 features for RandomForestClassifier7: [('color_moments_hsv_channel_0_mean', 0.024444491937226875), ('color_moments_lab_channel_0_skew', 0.024442804867203755), ('var_lab_channel_2', 0.015385417262196817), ('var_lab_channel_1', 0.015057301790884381), ('color_moments_hsv_channel_1_mean', 0.01239935850450594), ('color_moments_hsv_channel_2_std', 0.011956845950947738), ('var_lab_channel_0', 0.011799744158539904), ('color_moments_rgb_channel_2_mean', 0.010745791772808457), ('var_rgb_channel_2', 0.010664823212773112), ('color_moments_lab_channel_1_skew', 0.010373516931991235)]\n",
      "INFO:utils.ml:Fitted classifier: RandomForestClassifier7; Done in 24.62300753593445 seconds\n",
      "INFO:utils.ml:Fitting classifier: XGBClassifier8\n",
      "INFO:utils.ml:Top 10 features for XGBClassifier8: [('var_lab_channel_0', 0.022603428), ('color_moments_hsv_channel_0_mean', 0.022471955), ('lbp_rad2_bins64_8', 0.02103913), ('color_moments_hsv_channel_2_mean', 0.016979273), ('lbp_rad2_bins64_46', 0.01483942), ('lbp_rad3_bins64_23', 0.014765367), ('var_lab_channel_1', 0.01398176), ('color_moments_lab_channel_1_std', 0.013844503), ('lbp_rad1_bins64_9', 0.013218037), ('lbp_rad2_bins64_9', 0.0124514215)]\n",
      "INFO:utils.ml:Fitted classifier: XGBClassifier8; Done in 7.463228464126587 seconds\n",
      "INFO:utils.ml:Fitting classifier: XGBClassifier9\n",
      "INFO:utils.ml:Top 10 features for XGBClassifier9: [('var_lab_channel_0', 0.022786174), ('lbp_rad2_bins64_8', 0.022291599), ('color_moments_hsv_channel_0_mean', 0.021839384), ('color_moments_hsv_channel_2_mean', 0.016644774), ('lbp_rad2_bins64_46', 0.014766271), ('lbp_rad3_bins64_23', 0.014359832), ('color_moments_lab_channel_1_std', 0.014047697), ('var_lab_channel_1', 0.013709685), ('lbp_rad2_bins64_9', 0.012891768), ('lbp_rad1_bins64_9', 0.012485742)]\n",
      "INFO:utils.ml:Fitted classifier: XGBClassifier9; Done in 8.707475662231445 seconds\n",
      "INFO:utils.ml:Fitting classifier: XGBClassifier10\n",
      "INFO:utils.ml:Top 10 features for XGBClassifier10: [('var_lab_channel_0', 0.024275318), ('color_moments_hsv_channel_0_mean', 0.021435257), ('lbp_rad2_bins64_8', 0.02137485), ('color_moments_hsv_channel_2_mean', 0.016591895), ('lbp_rad3_bins64_23', 0.014206622), ('var_lab_channel_1', 0.013972958), ('lbp_rad2_bins64_46', 0.013916983), ('color_moments_lab_channel_1_std', 0.013778616), ('lbp_rad2_bins64_9', 0.013399629), ('color_moments_rgb_channel_2_mean', 0.012219521)]\n",
      "INFO:utils.ml:Fitted classifier: XGBClassifier10; Done in 10.370808601379395 seconds\n",
      "INFO:utils.ml:Fitting classifier: XGBClassifier11\n",
      "INFO:utils.ml:Fitted classifier: XGBClassifier11; Done in 3.889094591140747 seconds\n",
      "INFO:utils.ml:Fitting classifier: XGBClassifier12\n"
     ]
    },
    {
     "name": "stdout",
     "output_type": "stream",
     "text": [
      "list index out of range\n"
     ]
    },
    {
     "name": "stderr",
     "output_type": "stream",
     "text": [
      "INFO:utils.ml:Top 10 features for XGBClassifier12: [('color_moments_lab_channel_1_std', 0.014347131), ('var_lab_channel_0', 0.013992742), ('lbp_rad1_bins64_9', 0.013876258), ('color_moments_hsv_channel_0_mean', 0.013406085), ('var_lab_channel_1', 0.013069536), ('color_moments_lab_channel_0_skew', 0.012982804), ('color_moments_hsv_channel_2_mean', 0.010927656), ('lbp_rad3_bins64_8', 0.010203553), ('color_moments_lab_channel_1_skew', 0.010150538), ('var_lab_channel_2', 0.009440798)]\n",
      "INFO:utils.ml:Fitted classifier: XGBClassifier12; Done in 10.212116479873657 seconds\n",
      "INFO:utils.ml:Fitting classifier: XGBClassifier13\n",
      "INFO:utils.ml:Top 10 features for XGBClassifier13: [('color_moments_hsv_channel_0_mean', 0.019046733), ('var_lab_channel_0', 0.016562335), ('color_moments_lab_channel_1_std', 0.013868792), ('var_lab_channel_1', 0.013152718), ('lbp_rad1_bins64_9', 0.012547502), ('color_moments_hsv_channel_2_mean', 0.0120021105), ('lbp_rad3_bins64_47', 0.0109874755), ('lbp_rad2_bins64_8', 0.010541615), ('color_moments_lab_channel_0_skew', 0.010347216), ('color_moments_lab_channel_1_skew', 0.009514444)]\n",
      "INFO:utils.ml:Fitted classifier: XGBClassifier13; Done in 7.221152305603027 seconds\n",
      "INFO:utils.ml:Fitting classifier: XGBClassifier14\n",
      "INFO:utils.ml:Top 10 features for XGBClassifier14: [('color_moments_hsv_channel_0_mean', 0.020753399), ('var_lab_channel_0', 0.01987724), ('color_moments_lab_channel_1_std', 0.017193923), ('lbp_rad2_bins64_8', 0.014689132), ('var_lab_channel_1', 0.014013797), ('lbp_rad1_bins64_9', 0.013910405), ('color_moments_hsv_channel_2_mean', 0.0114523815), ('color_moments_lab_channel_1_skew', 0.00994852), ('lbp_rad3_bins64_21', 0.0096053025), ('var_lab_channel_2', 0.009449384)]\n",
      "INFO:utils.ml:Fitted classifier: XGBClassifier14; Done in 7.989427089691162 seconds\n",
      "INFO:utils.ml:Fitting classifier: XGBClassifier15\n",
      "INFO:utils.ml:Top 10 features for XGBClassifier15: [('color_moments_hsv_channel_0_mean', 0.020135326), ('var_lab_channel_0', 0.015273055), ('color_moments_lab_channel_1_std', 0.012923958), ('var_lab_channel_1', 0.012729984), ('lbp_rad1_bins64_9', 0.012505966), ('color_moments_hsv_channel_2_mean', 0.011447896), ('color_moments_rgb_channel_1_skew', 0.009939398), ('lbp_rad2_bins64_8', 0.009915038), ('color_moments_rgb_channel_2_mean', 0.009001125), ('var_lab_channel_2', 0.0088921795)]\n",
      "INFO:utils.ml:Fitted classifier: XGBClassifier15; Done in 18.07566547393799 seconds\n",
      "INFO:utils.ml:Fitting classifier: XGBClassifier16\n",
      "INFO:utils.ml:Top 10 features for XGBClassifier16: [('color_moments_hsv_channel_0_mean', 0.020283686), ('var_lab_channel_0', 0.01506863), ('color_moments_lab_channel_1_std', 0.013453317), ('var_lab_channel_1', 0.012569549), ('lbp_rad1_bins64_9', 0.012423769), ('color_moments_hsv_channel_2_mean', 0.011297118), ('lbp_rad2_bins64_8', 0.00975941), ('color_moments_rgb_channel_1_skew', 0.009745439), ('color_moments_rgb_channel_2_mean', 0.008857997), ('var_lab_channel_2', 0.008731605)]\n",
      "INFO:utils.ml:Fitted classifier: XGBClassifier16; Done in 15.739926815032959 seconds\n",
      "INFO:utils.ml:Fitting classifier: XGBClassifier17\n",
      "INFO:utils.ml:Top 10 features for XGBClassifier17: [('color_moments_hsv_channel_0_mean', 0.0208506), ('var_lab_channel_0', 0.016536832), ('color_moments_lab_channel_1_std', 0.014648828), ('lbp_rad1_bins64_9', 0.014300588), ('var_lab_channel_1', 0.014096868), ('color_moments_hsv_channel_2_mean', 0.012374796), ('lbp_rad2_bins64_8', 0.010461663), ('color_moments_lab_channel_1_skew', 0.010413031), ('var_lab_channel_2', 0.010092374), ('lbp_rad3_bins64_48', 0.009328578)]\n",
      "INFO:utils.ml:Fitted classifier: XGBClassifier17; Done in 13.115684270858765 seconds\n",
      "INFO:utils.ml:Fitting classifier: XGBClassifier18\n",
      "INFO:utils.ml:Top 10 features for XGBClassifier18: [('color_moments_hsv_channel_0_mean', 0.020377282), ('var_lab_channel_0', 0.016567389), ('color_moments_lab_channel_1_std', 0.0146314055), ('lbp_rad1_bins64_9', 0.014309631), ('var_lab_channel_1', 0.013932172), ('color_moments_hsv_channel_2_mean', 0.012152498), ('lbp_rad2_bins64_8', 0.010700769), ('color_moments_lab_channel_1_skew', 0.010333408), ('var_lab_channel_2', 0.01012531), ('lbp_rad3_bins64_48', 0.009349612)]\n",
      "INFO:utils.ml:Fitted classifier: XGBClassifier18; Done in 16.071086168289185 seconds\n",
      "INFO:utils.ml:Fitting completed in 234.16 seconds.\n"
     ]
    }
   ],
   "execution_count": 17
  },
  {
   "metadata": {
    "ExecuteTime": {
     "end_time": "2024-11-02T20:25:09.016880Z",
     "start_time": "2024-11-02T20:22:46.909930Z"
    }
   },
   "cell_type": "code",
   "source": "pipeline.predict_with_classifiers(VAL_PATH)",
   "id": "156c56b343fa5df1",
   "outputs": [
    {
     "name": "stderr",
     "output_type": "stream",
     "text": [
      "INFO:utils.ml:Predicting with classifiers on dataset: C:\\Users\\gimes\\Src\\repos\\CADx-Project\\dataset\\multiclass\\val\n"
     ]
    },
    {
     "name": "stdout",
     "output_type": "stream",
     "text": [
      "Processed 5/27 batches.\n",
      "Processed 10/27 batches.\n",
      "Processed 15/27 batches.\n",
      "Processed 20/27 batches.\n",
      "Processed 25/27 batches.\n"
     ]
    },
    {
     "name": "stderr",
     "output_type": "stream",
     "text": [
      "INFO:utils.ml:Predictions made with classifier: RandomForestClassifier0\n",
      "INFO:utils.ml:Predictions made with classifier: RandomForestClassifier1\n",
      "INFO:utils.ml:Predictions made with classifier: RandomForestClassifier2\n",
      "INFO:utils.ml:Predictions made with classifier: RandomForestClassifier3\n",
      "INFO:utils.ml:Predictions made with classifier: RandomForestClassifier4\n",
      "INFO:utils.ml:Predictions made with classifier: RandomForestClassifier5\n",
      "INFO:utils.ml:Predictions made with classifier: RandomForestClassifier6\n"
     ]
    },
    {
     "name": "stdout",
     "output_type": "stream",
     "text": [
      "Processed 27/27 batches.\n"
     ]
    },
    {
     "name": "stderr",
     "output_type": "stream",
     "text": [
      "INFO:utils.ml:Predictions made with classifier: RandomForestClassifier7\n",
      "INFO:utils.ml:Predictions made with classifier: XGBClassifier8\n",
      "INFO:utils.ml:Predictions made with classifier: XGBClassifier9\n",
      "INFO:utils.ml:Predictions made with classifier: XGBClassifier10\n",
      "INFO:utils.ml:Predictions made with classifier: XGBClassifier11\n",
      "INFO:utils.ml:Predictions made with classifier: XGBClassifier12\n",
      "INFO:utils.ml:Predictions made with classifier: XGBClassifier13\n",
      "INFO:utils.ml:Predictions made with classifier: XGBClassifier14\n",
      "INFO:utils.ml:Predictions made with classifier: XGBClassifier15\n",
      "INFO:utils.ml:Predictions made with classifier: XGBClassifier16\n",
      "INFO:utils.ml:Predictions made with classifier: XGBClassifier17\n",
      "INFO:utils.ml:Predictions made with classifier: XGBClassifier18\n"
     ]
    },
    {
     "data": {
      "text/plain": [
       "{'GT': array([0, 0, 0, ..., 2, 2, 2]),\n",
       " 'RandomForestClassifier0': array([0, 0, 2, ..., 1, 0, 0]),\n",
       " 'RandomForestClassifier1': array([0, 0, 2, ..., 1, 0, 0]),\n",
       " 'RandomForestClassifier2': array([0, 0, 2, ..., 1, 0, 0]),\n",
       " 'RandomForestClassifier3': array([0, 0, 2, ..., 1, 0, 0]),\n",
       " 'RandomForestClassifier4': array([0, 0, 2, ..., 1, 0, 0]),\n",
       " 'RandomForestClassifier5': array([0, 0, 2, ..., 1, 0, 0]),\n",
       " 'RandomForestClassifier6': array([0, 0, 2, ..., 1, 0, 0]),\n",
       " 'RandomForestClassifier7': array([0, 0, 2, ..., 1, 0, 0]),\n",
       " 'XGBClassifier8': array([0, 0, 2, ..., 1, 0, 0], dtype=int64),\n",
       " 'XGBClassifier9': array([0, 0, 2, ..., 1, 0, 0], dtype=int64),\n",
       " 'XGBClassifier10': array([0, 0, 2, ..., 1, 0, 0], dtype=int64),\n",
       " 'XGBClassifier11': array([0, 0, 2, ..., 1, 0, 0], dtype=int64),\n",
       " 'XGBClassifier12': array([0, 0, 2, ..., 1, 0, 0], dtype=int64),\n",
       " 'XGBClassifier13': array([0, 0, 2, ..., 1, 0, 0], dtype=int64),\n",
       " 'XGBClassifier14': array([0, 0, 2, ..., 1, 0, 0], dtype=int64),\n",
       " 'XGBClassifier15': array([0, 0, 2, ..., 1, 0, 0], dtype=int64),\n",
       " 'XGBClassifier16': array([0, 0, 2, ..., 1, 0, 0], dtype=int64),\n",
       " 'XGBClassifier17': array([0, 0, 2, ..., 1, 0, 0], dtype=int64),\n",
       " 'XGBClassifier18': array([0, 0, 2, ..., 1, 0, 0], dtype=int64)}"
      ]
     },
     "execution_count": 18,
     "metadata": {},
     "output_type": "execute_result"
    }
   ],
   "execution_count": 18
  },
  {
   "metadata": {
    "ExecuteTime": {
     "end_time": "2024-11-02T20:25:09.142312Z",
     "start_time": "2024-11-02T20:25:09.038636Z"
    }
   },
   "cell_type": "code",
   "source": [
    "df_borderline_smote = pd.DataFrame(data=pipeline.calculate_metrics(\n",
    "    [\"accuracy\", \"precision\", \"recall\", \"f1\", \"kappa\"],))\n",
    "df_borderline_smote = df_borderline_smote.T\n",
    "df_borderline_smote"
   ],
   "id": "dec33139485e5176",
   "outputs": [
    {
     "name": "stderr",
     "output_type": "stream",
     "text": [
      "INFO:utils.ml:Metrics for classifier GT: {'accuracy': 1.0, 'precision': 1.0, 'recall': 1.0, 'f1': 1.0, 'kappa': 1.0}\n",
      "INFO:utils.ml:Metrics for classifier RandomForestClassifier0: {'accuracy': 0.7811023622047244, 'precision': 0.6442775734476833, 'recall': 0.636716955060561, 'f1': 0.6366486334638249, 'kappa': 0.6090957807233932}\n",
      "INFO:utils.ml:Metrics for classifier RandomForestClassifier1: {'accuracy': 0.7913385826771654, 'precision': 0.6562174664608534, 'recall': 0.6429306002015972, 'f1': 0.6456383420908606, 'kappa': 0.624948737607874}\n",
      "INFO:utils.ml:Metrics for classifier RandomForestClassifier2: {'accuracy': 0.7952755905511811, 'precision': 0.661457077855144, 'recall': 0.649331777622005, 'f1': 0.651318934421736, 'kappa': 0.6330181423738458}\n",
      "INFO:utils.ml:Metrics for classifier RandomForestClassifier3: {'accuracy': 0.8047244094488188, 'precision': 0.6875052445748512, 'recall': 0.64947797214087, 'f1': 0.6583800263678313, 'kappa': 0.6453696280749796}\n",
      "INFO:utils.ml:Metrics for classifier RandomForestClassifier4: {'accuracy': 0.7976377952755905, 'precision': 0.6680545018173883, 'recall': 0.6538611610819101, 'f1': 0.6568152511586215, 'kappa': 0.6367988355841219}\n",
      "INFO:utils.ml:Metrics for classifier RandomForestClassifier5: {'accuracy': 0.8102362204724409, 'precision': 0.6927098890269262, 'recall': 0.6511089232345185, 'f1': 0.659919258350332, 'kappa': 0.6551184048028991}\n",
      "INFO:utils.ml:Metrics for classifier RandomForestClassifier6: {'accuracy': 0.8007874015748031, 'precision': 0.6734637193756666, 'recall': 0.6594152925012042, 'f1': 0.6621607080269482, 'kappa': 0.6429698472807439}\n",
      "INFO:utils.ml:Metrics for classifier RandomForestClassifier7: {'accuracy': 0.8118110236220473, 'precision': 0.6952086974809274, 'recall': 0.6553243665681366, 'f1': 0.6640822612569931, 'kappa': 0.6585683560706959}\n",
      "INFO:utils.ml:Metrics for classifier XGBClassifier8: {'accuracy': 0.8275590551181102, 'precision': 0.7072576114893893, 'recall': 0.682062335830487, 'f1': 0.6903693519038198, 'kappa': 0.687546340608528}\n",
      "INFO:utils.ml:Metrics for classifier XGBClassifier9: {'accuracy': 0.8251968503937008, 'precision': 0.7010157464751797, 'recall': 0.6769998464957553, 'f1': 0.6849384846003671, 'kappa': 0.6830738932203846}\n",
      "INFO:utils.ml:Metrics for classifier XGBClassifier10: {'accuracy': 0.8283464566929134, 'precision': 0.7065369419953417, 'recall': 0.6791441167922804, 'f1': 0.6881297739749654, 'kappa': 0.6883119807263639}\n",
      "INFO:utils.ml:Metrics for classifier XGBClassifier11: {'accuracy': 0.7748031496062993, 'precision': 0.6421012014710532, 'recall': 0.6642839480686821, 'f1': 0.6486257237625573, 'kappa': 0.6076351380547034}\n",
      "INFO:utils.ml:Metrics for classifier XGBClassifier12: {'accuracy': 0.8204724409448819, 'precision': 0.6887045452206464, 'recall': 0.6699293250325095, 'f1': 0.6764417049446384, 'kappa': 0.6745566120439679}\n",
      "INFO:utils.ml:Metrics for classifier XGBClassifier13: {'accuracy': 0.8141732283464567, 'precision': 0.6802350438039212, 'recall': 0.6629417311497922, 'f1': 0.6686381215770233, 'kappa': 0.6635459464313778}\n",
      "INFO:utils.ml:Metrics for classifier XGBClassifier14: {'accuracy': 0.8181102362204724, 'precision': 0.6918558599852987, 'recall': 0.6727527696929689, 'f1': 0.6789042875330823, 'kappa': 0.6712057023737475}\n",
      "INFO:utils.ml:Metrics for classifier XGBClassifier15: {'accuracy': 0.8251968503937008, 'precision': 0.7005330909277556, 'recall': 0.6755447069140176, 'f1': 0.6827587981141806, 'kappa': 0.6838103355463843}\n",
      "INFO:utils.ml:Metrics for classifier XGBClassifier16: {'accuracy': 0.8236220472440945, 'precision': 0.6973052132578986, 'recall': 0.6769050721180081, 'f1': 0.6831302173035289, 'kappa': 0.6814747468413958}\n",
      "INFO:utils.ml:Metrics for classifier XGBClassifier17: {'accuracy': 0.8267716535433071, 'precision': 0.7082457559154861, 'recall': 0.6810375878710978, 'f1': 0.6901480057822459, 'kappa': 0.6856591257858522}\n",
      "INFO:utils.ml:Metrics for classifier XGBClassifier18: {'accuracy': 0.8291338582677166, 'precision': 0.7135322461737772, 'recall': 0.6826902160830607, 'f1': 0.6928705281600909, 'kappa': 0.6895376240880682}\n"
     ]
    },
    {
     "name": "stdout",
     "output_type": "stream",
     "text": [
      "cannot access local variable 'report' where it is not associated with a value\n",
      "cannot access local variable 'report' where it is not associated with a value\n",
      "cannot access local variable 'report' where it is not associated with a value\n",
      "cannot access local variable 'report' where it is not associated with a value\n",
      "cannot access local variable 'report' where it is not associated with a value\n",
      "cannot access local variable 'report' where it is not associated with a value\n",
      "cannot access local variable 'report' where it is not associated with a value\n",
      "cannot access local variable 'report' where it is not associated with a value\n",
      "cannot access local variable 'report' where it is not associated with a value\n",
      "cannot access local variable 'report' where it is not associated with a value\n",
      "cannot access local variable 'report' where it is not associated with a value\n",
      "cannot access local variable 'report' where it is not associated with a value\n",
      "cannot access local variable 'report' where it is not associated with a value\n",
      "cannot access local variable 'report' where it is not associated with a value\n",
      "cannot access local variable 'report' where it is not associated with a value\n",
      "cannot access local variable 'report' where it is not associated with a value\n",
      "cannot access local variable 'report' where it is not associated with a value\n",
      "cannot access local variable 'report' where it is not associated with a value\n",
      "cannot access local variable 'report' where it is not associated with a value\n",
      "cannot access local variable 'report' where it is not associated with a value\n"
     ]
    },
    {
     "data": {
      "text/plain": [
       "                         accuracy  precision    recall        f1     kappa\n",
       "GT                       1.000000   1.000000  1.000000  1.000000  1.000000\n",
       "RandomForestClassifier0  0.781102   0.644278  0.636717  0.636649  0.609096\n",
       "RandomForestClassifier1  0.791339   0.656217  0.642931  0.645638  0.624949\n",
       "RandomForestClassifier2  0.795276   0.661457  0.649332  0.651319  0.633018\n",
       "RandomForestClassifier3  0.804724   0.687505  0.649478  0.658380  0.645370\n",
       "RandomForestClassifier4  0.797638   0.668055  0.653861  0.656815  0.636799\n",
       "RandomForestClassifier5  0.810236   0.692710  0.651109  0.659919  0.655118\n",
       "RandomForestClassifier6  0.800787   0.673464  0.659415  0.662161  0.642970\n",
       "RandomForestClassifier7  0.811811   0.695209  0.655324  0.664082  0.658568\n",
       "XGBClassifier8           0.827559   0.707258  0.682062  0.690369  0.687546\n",
       "XGBClassifier9           0.825197   0.701016  0.677000  0.684938  0.683074\n",
       "XGBClassifier10          0.828346   0.706537  0.679144  0.688130  0.688312\n",
       "XGBClassifier11          0.774803   0.642101  0.664284  0.648626  0.607635\n",
       "XGBClassifier12          0.820472   0.688705  0.669929  0.676442  0.674557\n",
       "XGBClassifier13          0.814173   0.680235  0.662942  0.668638  0.663546\n",
       "XGBClassifier14          0.818110   0.691856  0.672753  0.678904  0.671206\n",
       "XGBClassifier15          0.825197   0.700533  0.675545  0.682759  0.683810\n",
       "XGBClassifier16          0.823622   0.697305  0.676905  0.683130  0.681475\n",
       "XGBClassifier17          0.826772   0.708246  0.681038  0.690148  0.685659\n",
       "XGBClassifier18          0.829134   0.713532  0.682690  0.692871  0.689538"
      ],
      "text/html": [
       "<div>\n",
       "<style scoped>\n",
       "    .dataframe tbody tr th:only-of-type {\n",
       "        vertical-align: middle;\n",
       "    }\n",
       "\n",
       "    .dataframe tbody tr th {\n",
       "        vertical-align: top;\n",
       "    }\n",
       "\n",
       "    .dataframe thead th {\n",
       "        text-align: right;\n",
       "    }\n",
       "</style>\n",
       "<table border=\"1\" class=\"dataframe\">\n",
       "  <thead>\n",
       "    <tr style=\"text-align: right;\">\n",
       "      <th></th>\n",
       "      <th>accuracy</th>\n",
       "      <th>precision</th>\n",
       "      <th>recall</th>\n",
       "      <th>f1</th>\n",
       "      <th>kappa</th>\n",
       "    </tr>\n",
       "  </thead>\n",
       "  <tbody>\n",
       "    <tr>\n",
       "      <th>GT</th>\n",
       "      <td>1.000000</td>\n",
       "      <td>1.000000</td>\n",
       "      <td>1.000000</td>\n",
       "      <td>1.000000</td>\n",
       "      <td>1.000000</td>\n",
       "    </tr>\n",
       "    <tr>\n",
       "      <th>RandomForestClassifier0</th>\n",
       "      <td>0.781102</td>\n",
       "      <td>0.644278</td>\n",
       "      <td>0.636717</td>\n",
       "      <td>0.636649</td>\n",
       "      <td>0.609096</td>\n",
       "    </tr>\n",
       "    <tr>\n",
       "      <th>RandomForestClassifier1</th>\n",
       "      <td>0.791339</td>\n",
       "      <td>0.656217</td>\n",
       "      <td>0.642931</td>\n",
       "      <td>0.645638</td>\n",
       "      <td>0.624949</td>\n",
       "    </tr>\n",
       "    <tr>\n",
       "      <th>RandomForestClassifier2</th>\n",
       "      <td>0.795276</td>\n",
       "      <td>0.661457</td>\n",
       "      <td>0.649332</td>\n",
       "      <td>0.651319</td>\n",
       "      <td>0.633018</td>\n",
       "    </tr>\n",
       "    <tr>\n",
       "      <th>RandomForestClassifier3</th>\n",
       "      <td>0.804724</td>\n",
       "      <td>0.687505</td>\n",
       "      <td>0.649478</td>\n",
       "      <td>0.658380</td>\n",
       "      <td>0.645370</td>\n",
       "    </tr>\n",
       "    <tr>\n",
       "      <th>RandomForestClassifier4</th>\n",
       "      <td>0.797638</td>\n",
       "      <td>0.668055</td>\n",
       "      <td>0.653861</td>\n",
       "      <td>0.656815</td>\n",
       "      <td>0.636799</td>\n",
       "    </tr>\n",
       "    <tr>\n",
       "      <th>RandomForestClassifier5</th>\n",
       "      <td>0.810236</td>\n",
       "      <td>0.692710</td>\n",
       "      <td>0.651109</td>\n",
       "      <td>0.659919</td>\n",
       "      <td>0.655118</td>\n",
       "    </tr>\n",
       "    <tr>\n",
       "      <th>RandomForestClassifier6</th>\n",
       "      <td>0.800787</td>\n",
       "      <td>0.673464</td>\n",
       "      <td>0.659415</td>\n",
       "      <td>0.662161</td>\n",
       "      <td>0.642970</td>\n",
       "    </tr>\n",
       "    <tr>\n",
       "      <th>RandomForestClassifier7</th>\n",
       "      <td>0.811811</td>\n",
       "      <td>0.695209</td>\n",
       "      <td>0.655324</td>\n",
       "      <td>0.664082</td>\n",
       "      <td>0.658568</td>\n",
       "    </tr>\n",
       "    <tr>\n",
       "      <th>XGBClassifier8</th>\n",
       "      <td>0.827559</td>\n",
       "      <td>0.707258</td>\n",
       "      <td>0.682062</td>\n",
       "      <td>0.690369</td>\n",
       "      <td>0.687546</td>\n",
       "    </tr>\n",
       "    <tr>\n",
       "      <th>XGBClassifier9</th>\n",
       "      <td>0.825197</td>\n",
       "      <td>0.701016</td>\n",
       "      <td>0.677000</td>\n",
       "      <td>0.684938</td>\n",
       "      <td>0.683074</td>\n",
       "    </tr>\n",
       "    <tr>\n",
       "      <th>XGBClassifier10</th>\n",
       "      <td>0.828346</td>\n",
       "      <td>0.706537</td>\n",
       "      <td>0.679144</td>\n",
       "      <td>0.688130</td>\n",
       "      <td>0.688312</td>\n",
       "    </tr>\n",
       "    <tr>\n",
       "      <th>XGBClassifier11</th>\n",
       "      <td>0.774803</td>\n",
       "      <td>0.642101</td>\n",
       "      <td>0.664284</td>\n",
       "      <td>0.648626</td>\n",
       "      <td>0.607635</td>\n",
       "    </tr>\n",
       "    <tr>\n",
       "      <th>XGBClassifier12</th>\n",
       "      <td>0.820472</td>\n",
       "      <td>0.688705</td>\n",
       "      <td>0.669929</td>\n",
       "      <td>0.676442</td>\n",
       "      <td>0.674557</td>\n",
       "    </tr>\n",
       "    <tr>\n",
       "      <th>XGBClassifier13</th>\n",
       "      <td>0.814173</td>\n",
       "      <td>0.680235</td>\n",
       "      <td>0.662942</td>\n",
       "      <td>0.668638</td>\n",
       "      <td>0.663546</td>\n",
       "    </tr>\n",
       "    <tr>\n",
       "      <th>XGBClassifier14</th>\n",
       "      <td>0.818110</td>\n",
       "      <td>0.691856</td>\n",
       "      <td>0.672753</td>\n",
       "      <td>0.678904</td>\n",
       "      <td>0.671206</td>\n",
       "    </tr>\n",
       "    <tr>\n",
       "      <th>XGBClassifier15</th>\n",
       "      <td>0.825197</td>\n",
       "      <td>0.700533</td>\n",
       "      <td>0.675545</td>\n",
       "      <td>0.682759</td>\n",
       "      <td>0.683810</td>\n",
       "    </tr>\n",
       "    <tr>\n",
       "      <th>XGBClassifier16</th>\n",
       "      <td>0.823622</td>\n",
       "      <td>0.697305</td>\n",
       "      <td>0.676905</td>\n",
       "      <td>0.683130</td>\n",
       "      <td>0.681475</td>\n",
       "    </tr>\n",
       "    <tr>\n",
       "      <th>XGBClassifier17</th>\n",
       "      <td>0.826772</td>\n",
       "      <td>0.708246</td>\n",
       "      <td>0.681038</td>\n",
       "      <td>0.690148</td>\n",
       "      <td>0.685659</td>\n",
       "    </tr>\n",
       "    <tr>\n",
       "      <th>XGBClassifier18</th>\n",
       "      <td>0.829134</td>\n",
       "      <td>0.713532</td>\n",
       "      <td>0.682690</td>\n",
       "      <td>0.692871</td>\n",
       "      <td>0.689538</td>\n",
       "    </tr>\n",
       "  </tbody>\n",
       "</table>\n",
       "</div>"
      ]
     },
     "execution_count": 19,
     "metadata": {},
     "output_type": "execute_result"
    }
   ],
   "execution_count": 19
  },
  {
   "metadata": {
    "ExecuteTime": {
     "end_time": "2024-11-02T20:26:25.347112Z",
     "start_time": "2024-11-02T20:26:25.340593Z"
    }
   },
   "cell_type": "code",
   "source": "confusion_matrix(pipeline.predictions[\"GT\"], pipeline.predictions[\"XGBClassifier13\"])",
   "id": "5e3d245571ac5c69",
   "outputs": [
    {
     "data": {
      "text/plain": [
       "array([[423,  49,  26],\n",
       "       [ 75, 585,  18],\n",
       "       [ 47,  21,  26]], dtype=int64)"
      ]
     },
     "execution_count": 20,
     "metadata": {},
     "output_type": "execute_result"
    }
   ],
   "execution_count": 20
  },
  {
   "metadata": {},
   "cell_type": "markdown",
   "source": "",
   "id": "4177e527fe0edeb1"
  },
  {
   "metadata": {},
   "cell_type": "markdown",
   "source": [
    "___\n",
    "PCA"
   ],
   "id": "ba27735e389e88cf"
  },
  {
   "metadata": {
    "ExecuteTime": {
     "end_time": "2024-11-02T21:00:34.584149Z",
     "start_time": "2024-11-02T20:56:45.013989Z"
    }
   },
   "cell_type": "code",
   "source": [
    "from sklearn.decomposition import PCA\n",
    "from imblearn.over_sampling import BorderlineSMOTE\n",
    "smote = BorderlineSMOTE(sampling_strategy='auto', random_state=42)\n",
    "\n",
    "pipeline.feature_matrix, pipeline.labels = smote.fit_resample(\n",
    "    pipeline.backup_feature_matrix, pipeline.backup_labels)\n",
    "\n",
    "pca = PCA(n_components=100)\n",
    "\n",
    "pipeline.feature_matrix = pca.fit_transform(pipeline.feature_matrix, pipeline.labels)\n",
    "\n",
    "print(pipeline.backup_feature_matrix.shape)\n",
    "print(pipeline.feature_matrix.shape)\n",
    "\n",
    "print(pipeline.backup_labels.shape)\n",
    "print(pipeline.labels.shape)\n",
    "\n",
    "print(pca.get_feature_names_out())\n",
    "\n",
    "pipeline.fitted_classifiers = {}\n",
    "pipeline.fit_classifiers()"
   ],
   "id": "7f3f0be89a7b9f88",
   "outputs": [
    {
     "name": "stderr",
     "output_type": "stream",
     "text": [
      "INFO:utils.ml:Fitting classifiers...\n",
      "INFO:utils.ml:Fitting classifier: RandomForestClassifier0\n"
     ]
    },
    {
     "name": "stdout",
     "output_type": "stream",
     "text": [
      "(5082, 252)\n",
      "(8139, 100)\n",
      "(5082,)\n",
      "(8139,)\n",
      "['pca0' 'pca1' 'pca2' 'pca3' 'pca4' 'pca5' 'pca6' 'pca7' 'pca8' 'pca9'\n",
      " 'pca10' 'pca11' 'pca12' 'pca13' 'pca14' 'pca15' 'pca16' 'pca17' 'pca18'\n",
      " 'pca19' 'pca20' 'pca21' 'pca22' 'pca23' 'pca24' 'pca25' 'pca26' 'pca27'\n",
      " 'pca28' 'pca29' 'pca30' 'pca31' 'pca32' 'pca33' 'pca34' 'pca35' 'pca36'\n",
      " 'pca37' 'pca38' 'pca39' 'pca40' 'pca41' 'pca42' 'pca43' 'pca44' 'pca45'\n",
      " 'pca46' 'pca47' 'pca48' 'pca49' 'pca50' 'pca51' 'pca52' 'pca53' 'pca54'\n",
      " 'pca55' 'pca56' 'pca57' 'pca58' 'pca59' 'pca60' 'pca61' 'pca62' 'pca63'\n",
      " 'pca64' 'pca65' 'pca66' 'pca67' 'pca68' 'pca69' 'pca70' 'pca71' 'pca72'\n",
      " 'pca73' 'pca74' 'pca75' 'pca76' 'pca77' 'pca78' 'pca79' 'pca80' 'pca81'\n",
      " 'pca82' 'pca83' 'pca84' 'pca85' 'pca86' 'pca87' 'pca88' 'pca89' 'pca90'\n",
      " 'pca91' 'pca92' 'pca93' 'pca94' 'pca95' 'pca96' 'pca97' 'pca98' 'pca99']\n"
     ]
    },
    {
     "name": "stderr",
     "output_type": "stream",
     "text": [
      "INFO:utils.ml:Top 10 features for RandomForestClassifier0: [('color_moments_rgb_channel_0_std', 0.0422789641803917), ('gradient_direction_mean', 0.038086715790584605), ('color_moments_lab_channel_0_std', 0.025170651229483226), ('gradient_magnitude_mean', 0.023844981344221607), ('var_rgb_channel_1', 0.023303285337066496), ('color_moments_lab_channel_1_std', 0.0188195126494748), ('color_moments_lab_channel_1_mean', 0.017616407381439898), ('var_lab_channel_1', 0.01572854055658206), ('var_rgb_channel_0', 0.015187758461230877), ('gradient_magnitude_std', 0.014912843252187858)]\n",
      "INFO:utils.ml:Fitted classifier: RandomForestClassifier0; Done in 6.822502374649048 seconds\n",
      "INFO:utils.ml:Fitting classifier: RandomForestClassifier1\n",
      "INFO:utils.ml:Top 10 features for RandomForestClassifier1: [('color_moments_rgb_channel_0_std', 0.04171744740903234), ('gradient_direction_mean', 0.03505524852566532), ('color_moments_lab_channel_0_std', 0.026296317499708302), ('var_rgb_channel_1', 0.024728841601333807), ('gradient_magnitude_mean', 0.022505705257716665), ('color_moments_lab_channel_1_std', 0.019222428700914583), ('lbp_rad1_bins64_9', 0.01695046267997906), ('var_lab_channel_1', 0.016429178038370428), ('color_moments_lab_channel_1_mean', 0.016426295939944557), ('color_moments_lab_channel_0_mean', 0.015983243160221365)]\n",
      "INFO:utils.ml:Fitted classifier: RandomForestClassifier1; Done in 10.153744459152222 seconds\n",
      "INFO:utils.ml:Fitting classifier: RandomForestClassifier2\n",
      "INFO:utils.ml:Top 10 features for RandomForestClassifier2: [('color_moments_rgb_channel_0_std', 0.038804519205235005), ('gradient_direction_mean', 0.0366109561987426), ('color_moments_lab_channel_0_std', 0.02838239064793089), ('gradient_magnitude_mean', 0.023662184845883578), ('var_rgb_channel_1', 0.023470137168932963), ('color_moments_lab_channel_1_std', 0.021316385202890302), ('color_moments_lab_channel_1_mean', 0.017971542060795334), ('lbp_rad1_bins64_11', 0.016693958541036356), ('var_rgb_channel_0', 0.016691268495301236), ('lbp_rad1_bins64_9', 0.015762378930937956)]\n",
      "INFO:utils.ml:Fitted classifier: RandomForestClassifier2; Done in 6.614757299423218 seconds\n",
      "INFO:utils.ml:Fitting classifier: RandomForestClassifier3\n",
      "INFO:utils.ml:Top 10 features for RandomForestClassifier3: [('color_moments_rgb_channel_0_std', 0.03985851449458751), ('gradient_direction_mean', 0.03753137468133193), ('color_moments_lab_channel_0_std', 0.02677624711563463), ('gradient_magnitude_mean', 0.025905473296244794), ('var_rgb_channel_1', 0.021998271005469184), ('color_moments_lab_channel_1_std', 0.02103268350839887), ('color_moments_lab_channel_1_mean', 0.01856671472062688), ('lbp_rad1_bins64_11', 0.016828805800656755), ('var_rgb_channel_0', 0.01628331958923011), ('color_moments_lab_channel_0_mean', 0.015856655818164977)]\n",
      "INFO:utils.ml:Fitted classifier: RandomForestClassifier3; Done in 10.010780572891235 seconds\n",
      "INFO:utils.ml:Fitting classifier: RandomForestClassifier4\n",
      "INFO:utils.ml:Top 10 features for RandomForestClassifier4: [('color_moments_rgb_channel_0_std', 0.040631125820311795), ('gradient_direction_mean', 0.037015666242538804), ('color_moments_lab_channel_0_std', 0.028057553947532673), ('var_rgb_channel_1', 0.023511132998249865), ('gradient_magnitude_mean', 0.02346339910994215), ('color_moments_lab_channel_1_std', 0.021470002208622406), ('color_moments_lab_channel_1_mean', 0.017033482334718957), ('lbp_rad1_bins64_11', 0.016422210063785986), ('lbp_rad1_bins64_9', 0.01609364485893064), ('var_rgb_channel_0', 0.015572037241317529)]\n",
      "INFO:utils.ml:Fitted classifier: RandomForestClassifier4; Done in 10.041210412979126 seconds\n",
      "INFO:utils.ml:Fitting classifier: RandomForestClassifier5\n",
      "INFO:utils.ml:Top 10 features for RandomForestClassifier5: [('color_moments_rgb_channel_0_std', 0.04116612851430268), ('gradient_direction_mean', 0.038422239449839454), ('color_moments_lab_channel_0_std', 0.026794241311770037), ('gradient_magnitude_mean', 0.025348989040180896), ('var_rgb_channel_1', 0.022738011079530638), ('color_moments_lab_channel_1_std', 0.020973490299553945), ('color_moments_lab_channel_1_mean', 0.017762588262012383), ('lbp_rad1_bins64_11', 0.016327509199704385), ('var_rgb_channel_0', 0.016163780920998527), ('var_lab_channel_1', 0.01593340250797965)]\n",
      "INFO:utils.ml:Fitted classifier: RandomForestClassifier5; Done in 14.81385350227356 seconds\n",
      "INFO:utils.ml:Fitting classifier: RandomForestClassifier6\n",
      "INFO:utils.ml:Top 10 features for RandomForestClassifier6: [('color_moments_rgb_channel_0_std', 0.039977823792405394), ('gradient_direction_mean', 0.0368778569389453), ('color_moments_lab_channel_0_std', 0.02782841350640474), ('gradient_magnitude_mean', 0.02425791988188607), ('var_rgb_channel_1', 0.02405972381550523), ('color_moments_lab_channel_1_std', 0.02084781016275338), ('color_moments_lab_channel_1_mean', 0.01729981563232863), ('lbp_rad1_bins64_11', 0.016587783780301252), ('lbp_rad1_bins64_9', 0.015598845530233135), ('color_moments_lab_channel_0_mean', 0.015346329653241729)]\n",
      "INFO:utils.ml:Fitted classifier: RandomForestClassifier6; Done in 13.48804497718811 seconds\n",
      "INFO:utils.ml:Fitting classifier: RandomForestClassifier7\n",
      "INFO:utils.ml:Top 10 features for RandomForestClassifier7: [('color_moments_rgb_channel_0_std', 0.041543118368522154), ('gradient_direction_mean', 0.03875350898491394), ('color_moments_lab_channel_0_std', 0.027000570886773483), ('gradient_magnitude_mean', 0.025454981914651665), ('var_rgb_channel_1', 0.022893479790473837), ('color_moments_lab_channel_1_std', 0.02105305370566719), ('color_moments_lab_channel_1_mean', 0.01751914931075702), ('lbp_rad1_bins64_11', 0.016137189875484157), ('var_rgb_channel_0', 0.016037366067099948), ('var_lab_channel_1', 0.015818562255424263)]\n",
      "INFO:utils.ml:Fitted classifier: RandomForestClassifier7; Done in 34.91418790817261 seconds\n",
      "INFO:utils.ml:Fitting classifier: XGBClassifier8\n",
      "INFO:utils.ml:Top 10 features for XGBClassifier8: [('color_moments_rgb_channel_0_std', 0.039799646), ('gradient_magnitude_mean', 0.03536741), ('gradient_direction_mean', 0.031614058), ('var_rgb_channel_1', 0.024565421), ('color_moments_lab_channel_0_std', 0.023733653), ('color_moments_lab_channel_1_mean', 0.021010801), ('lbp_rad1_bins64_11', 0.020985091), ('color_moments_lab_channel_1_std', 0.020699233), ('var_lab_channel_1', 0.01763852), ('lbp_rad1_bins64_9', 0.017293455)]\n",
      "INFO:utils.ml:Fitted classifier: XGBClassifier8; Done in 25.692806005477905 seconds\n",
      "INFO:utils.ml:Fitting classifier: XGBClassifier9\n",
      "INFO:utils.ml:Top 10 features for XGBClassifier9: [('color_moments_rgb_channel_0_std', 0.03902318), ('gradient_magnitude_mean', 0.03621658), ('gradient_direction_mean', 0.031344235), ('var_rgb_channel_1', 0.024560584), ('color_moments_lab_channel_0_std', 0.023756212), ('color_moments_lab_channel_1_mean', 0.021132909), ('lbp_rad1_bins64_11', 0.021132002), ('color_moments_lab_channel_1_std', 0.020660326), ('var_lab_channel_1', 0.017884811), ('lbp_rad1_bins64_9', 0.017674485)]\n",
      "INFO:utils.ml:Fitted classifier: XGBClassifier9; Done in 29.26332712173462 seconds\n",
      "INFO:utils.ml:Fitting classifier: XGBClassifier10\n",
      "INFO:utils.ml:Top 10 features for XGBClassifier10: [('color_moments_rgb_channel_0_std', 0.038812716), ('gradient_magnitude_mean', 0.036612272), ('gradient_direction_mean', 0.03168204), ('var_rgb_channel_1', 0.024398515), ('color_moments_lab_channel_0_std', 0.023558093), ('color_moments_lab_channel_1_mean', 0.021057563), ('lbp_rad1_bins64_11', 0.021042464), ('color_moments_lab_channel_1_std', 0.020656656), ('var_lab_channel_1', 0.018033152), ('lbp_rad1_bins64_9', 0.01772282)]\n",
      "INFO:utils.ml:Fitted classifier: XGBClassifier10; Done in 21.31266689300537 seconds\n",
      "INFO:utils.ml:Fitting classifier: XGBClassifier11\n",
      "INFO:utils.ml:Top 10 features for XGBClassifier11: [('color_moments_rgb_channel_0_std', 0.032067347), ('gradient_direction_mean', 0.025517743), ('gradient_magnitude_mean', 0.0239794), ('lbp_rad1_bins64_11', 0.023243183), ('var_rgb_channel_1', 0.023042426), ('color_moments_lab_channel_1_std', 0.022948861), ('lbp_rad1_bins64_9', 0.020619841), ('color_moments_lab_channel_0_std', 0.020509297), ('color_moments_lab_channel_1_mean', 0.017798563), ('color_moments_rgb_channel_0_mean', 0.016573315)]\n",
      "INFO:utils.ml:Fitted classifier: XGBClassifier11; Done in 2.1412229537963867 seconds\n",
      "INFO:utils.ml:Fitting classifier: XGBClassifier12\n",
      "INFO:utils.ml:Top 10 features for XGBClassifier12: [('color_moments_rgb_channel_0_std', 0.0325825), ('gradient_direction_mean', 0.027232796), ('gradient_magnitude_mean', 0.022551887), ('color_moments_lab_channel_0_std', 0.022534462), ('color_moments_lab_channel_1_std', 0.018945336), ('var_rgb_channel_1', 0.018439708), ('color_moments_lab_channel_1_mean', 0.0172821), ('lbp_rad1_bins64_9', 0.016544469), ('lbp_rad1_bins64_11', 0.016170008), ('gradient_direction_std', 0.015326275)]\n",
      "INFO:utils.ml:Fitted classifier: XGBClassifier12; Done in 5.816991567611694 seconds\n",
      "INFO:utils.ml:Fitting classifier: XGBClassifier13\n",
      "INFO:utils.ml:Top 10 features for XGBClassifier13: [('color_moments_rgb_channel_0_std', 0.035309475), ('gradient_direction_mean', 0.02773774), ('gradient_magnitude_mean', 0.023445753), ('var_rgb_channel_1', 0.022559814), ('color_moments_lab_channel_0_std', 0.02242808), ('color_moments_lab_channel_1_std', 0.021056924), ('lbp_rad1_bins64_11', 0.020251563), ('color_moments_lab_channel_1_mean', 0.018296154), ('lbp_rad1_bins64_9', 0.016738491), ('color_moments_lab_channel_0_mean', 0.01605104)]\n",
      "INFO:utils.ml:Fitted classifier: XGBClassifier13; Done in 3.823117971420288 seconds\n",
      "INFO:utils.ml:Fitting classifier: XGBClassifier14\n",
      "INFO:utils.ml:Top 10 features for XGBClassifier14: [('color_moments_rgb_channel_0_std', 0.037592784), ('gradient_direction_mean', 0.029305598), ('gradient_magnitude_mean', 0.023133324), ('color_moments_lab_channel_1_std', 0.022468755), ('color_moments_lab_channel_0_std', 0.022008464), ('var_rgb_channel_1', 0.020867407), ('lbp_rad1_bins64_11', 0.019725095), ('color_moments_lab_channel_1_mean', 0.018926954), ('color_moments_lab_channel_0_mean', 0.017422207), ('lbp_rad1_bins64_9', 0.017041348)]\n",
      "INFO:utils.ml:Fitted classifier: XGBClassifier14; Done in 4.056839466094971 seconds\n",
      "INFO:utils.ml:Fitting classifier: XGBClassifier15\n",
      "INFO:utils.ml:Top 10 features for XGBClassifier15: [('color_moments_rgb_channel_0_std', 0.03631813), ('gradient_direction_mean', 0.029110897), ('gradient_magnitude_mean', 0.0230328), ('color_moments_lab_channel_0_std', 0.02182055), ('color_moments_lab_channel_1_std', 0.021193234), ('var_rgb_channel_1', 0.019889854), ('color_moments_lab_channel_1_mean', 0.018552396), ('lbp_rad1_bins64_11', 0.018496096), ('lbp_rad1_bins64_9', 0.017850451), ('var_rgb_channel_0', 0.015955871)]\n",
      "INFO:utils.ml:Fitted classifier: XGBClassifier15; Done in 9.593331336975098 seconds\n",
      "INFO:utils.ml:Fitting classifier: XGBClassifier16\n",
      "INFO:utils.ml:Top 10 features for XGBClassifier16: [('color_moments_rgb_channel_0_std', 0.03576339), ('gradient_direction_mean', 0.029082106), ('gradient_magnitude_mean', 0.022590237), ('color_moments_lab_channel_0_std', 0.021920627), ('color_moments_lab_channel_1_std', 0.021059662), ('var_rgb_channel_1', 0.020137053), ('lbp_rad1_bins64_11', 0.018715495), ('color_moments_lab_channel_1_mean', 0.018530086), ('lbp_rad1_bins64_9', 0.017702881), ('lbp_rad1_bins64_5', 0.016030645)]\n",
      "INFO:utils.ml:Fitted classifier: XGBClassifier16; Done in 7.468662738800049 seconds\n",
      "INFO:utils.ml:Fitting classifier: XGBClassifier17\n",
      "INFO:utils.ml:Top 10 features for XGBClassifier17: [('color_moments_rgb_channel_0_std', 0.03642085), ('gradient_direction_mean', 0.028391372), ('gradient_magnitude_mean', 0.024416557), ('color_moments_lab_channel_0_std', 0.022500914), ('color_moments_lab_channel_1_std', 0.019431636), ('var_rgb_channel_1', 0.019246394), ('lbp_rad1_bins64_11', 0.018910324), ('lbp_rad1_bins64_9', 0.018559378), ('var_rgb_channel_0', 0.017901516), ('color_moments_lab_channel_1_mean', 0.01740268)]\n",
      "INFO:utils.ml:Fitted classifier: XGBClassifier17; Done in 6.298920631408691 seconds\n",
      "INFO:utils.ml:Fitting classifier: XGBClassifier18\n",
      "INFO:utils.ml:Top 10 features for XGBClassifier18: [('color_moments_rgb_channel_0_std', 0.03645734), ('gradient_direction_mean', 0.02824626), ('gradient_magnitude_mean', 0.024848763), ('color_moments_lab_channel_0_std', 0.022632817), ('color_moments_lab_channel_1_std', 0.01963565), ('var_rgb_channel_1', 0.019196296), ('lbp_rad1_bins64_11', 0.018961241), ('lbp_rad1_bins64_9', 0.018699808), ('var_rgb_channel_0', 0.01777444), ('color_moments_lab_channel_1_mean', 0.017530134)]\n",
      "INFO:utils.ml:Fitted classifier: XGBClassifier18; Done in 7.010334491729736 seconds\n",
      "INFO:utils.ml:Fitting completed in 229.34 seconds.\n"
     ]
    }
   ],
   "execution_count": 37
  },
  {
   "metadata": {
    "ExecuteTime": {
     "end_time": "2024-11-02T21:04:03.449770Z",
     "start_time": "2024-11-02T21:00:34.589151Z"
    }
   },
   "cell_type": "code",
   "source": [
    "# Load and extract features from the new dataset\n",
    "new_loader = FactoryLoader(path=VAL_PATH, factory=pipeline.loader.get_factory(),\n",
    "                           percentage=percent, batch_size=pipeline.batch_size)\n",
    "new_feature_matrix, new_labels = pipeline.feature_strategy.run(new_loader.get_loader())\n",
    "\n",
    "new_feature_matrix = np.nan_to_num(new_feature_matrix) # Impute nans\n",
    "new_feature_matrix = pca.transform(new_feature_matrix) # Impute nans\n",
    "\n",
    "# Store predictions in the class attribute\n",
    "pipeline.predictions = {\"GT\": new_labels, }\n",
    "for clf_name, clf in pipeline.fitted_classifiers.items():\n",
    "\n",
    "    pipeline.predictions[clf_name] = clf.predict(new_feature_matrix)\n",
    "    if pipeline.verbose:\n",
    "        logger.info(\"Predictions made with classifier: %s\", clf_name)\n"
   ],
   "id": "10f5e0c30ff726e6",
   "outputs": [
    {
     "name": "stdout",
     "output_type": "stream",
     "text": [
      "Processed 5/27 batches.\n",
      "Processed 10/27 batches.\n",
      "Processed 15/27 batches.\n",
      "Processed 20/27 batches.\n",
      "Processed 25/27 batches.\n"
     ]
    },
    {
     "name": "stderr",
     "output_type": "stream",
     "text": [
      "INFO:utils.utils:Predictions made with classifier: RandomForestClassifier0\n",
      "INFO:utils.utils:Predictions made with classifier: RandomForestClassifier1\n",
      "INFO:utils.utils:Predictions made with classifier: RandomForestClassifier2\n",
      "INFO:utils.utils:Predictions made with classifier: RandomForestClassifier3\n",
      "INFO:utils.utils:Predictions made with classifier: RandomForestClassifier4\n",
      "INFO:utils.utils:Predictions made with classifier: RandomForestClassifier5\n",
      "INFO:utils.utils:Predictions made with classifier: RandomForestClassifier6\n"
     ]
    },
    {
     "name": "stdout",
     "output_type": "stream",
     "text": [
      "Processed 27/27 batches.\n"
     ]
    },
    {
     "name": "stderr",
     "output_type": "stream",
     "text": [
      "INFO:utils.utils:Predictions made with classifier: RandomForestClassifier7\n",
      "INFO:utils.utils:Predictions made with classifier: XGBClassifier8\n",
      "INFO:utils.utils:Predictions made with classifier: XGBClassifier9\n",
      "INFO:utils.utils:Predictions made with classifier: XGBClassifier10\n",
      "INFO:utils.utils:Predictions made with classifier: XGBClassifier11\n",
      "INFO:utils.utils:Predictions made with classifier: XGBClassifier12\n",
      "INFO:utils.utils:Predictions made with classifier: XGBClassifier13\n",
      "INFO:utils.utils:Predictions made with classifier: XGBClassifier14\n",
      "INFO:utils.utils:Predictions made with classifier: XGBClassifier15\n",
      "INFO:utils.utils:Predictions made with classifier: XGBClassifier16\n",
      "INFO:utils.utils:Predictions made with classifier: XGBClassifier17\n",
      "INFO:utils.utils:Predictions made with classifier: XGBClassifier18\n"
     ]
    }
   ],
   "execution_count": 38
  },
  {
   "metadata": {
    "ExecuteTime": {
     "end_time": "2024-11-02T21:28:29.271859Z",
     "start_time": "2024-11-02T21:28:29.156952Z"
    }
   },
   "cell_type": "code",
   "source": [
    "df_pca = pd.DataFrame(data=pipeline.calculate_metrics(avg=\"macro\"))\n",
    "df_pca = df_pca.T\n",
    "df_pca"
   ],
   "id": "bc7b72c1d262e670",
   "outputs": [
    {
     "name": "stderr",
     "output_type": "stream",
     "text": [
      "INFO:utils.ml:Metrics for classifier GT: {'accuracy': 1.0, 'precision': 1.0, 'recall': 1.0, 'f1': 1.0, 'kappa': 1.0}\n",
      "INFO:utils.ml:Metrics for classifier RandomForestClassifier0: {'accuracy': 0.8086614173228347, 'precision': 0.694230819219157, 'recall': 0.6584340248082016, 'f1': 0.6695111303283432, 'kappa': 0.6510499821346998}\n",
      "INFO:utils.ml:Metrics for classifier RandomForestClassifier1: {'accuracy': 0.7921259842519685, 'precision': 0.6680148655105943, 'recall': 0.6389461694137374, 'f1': 0.646736818388215, 'kappa': 0.6224307316699624}\n",
      "INFO:utils.ml:Metrics for classifier RandomForestClassifier2: {'accuracy': 0.8118110236220473, 'precision': 0.6987406877620277, 'recall': 0.6463722208232919, 'f1': 0.6583145656619592, 'kappa': 0.6548143801374693}\n",
      "INFO:utils.ml:Metrics for classifier RandomForestClassifier3: {'accuracy': 0.815748031496063, 'precision': 0.7016145326648208, 'recall': 0.6495412390792065, 'f1': 0.6612958116289487, 'kappa': 0.6621050046389784}\n",
      "INFO:utils.ml:Metrics for classifier RandomForestClassifier4: {'accuracy': 0.8015748031496063, 'precision': 0.6809031379114976, 'recall': 0.6428576289719223, 'f1': 0.6521809503489906, 'kappa': 0.6383859566659736}\n",
      "INFO:utils.ml:Metrics for classifier RandomForestClassifier5: {'accuracy': 0.8196850393700787, 'precision': 0.7072779022675042, 'recall': 0.6523548534185698, 'f1': 0.6646252109498613, 'kappa': 0.6689696776543435}\n",
      "INFO:utils.ml:Metrics for classifier RandomForestClassifier6: {'accuracy': 0.8007874015748031, 'precision': 0.678389328440928, 'recall': 0.6425436888456355, 'f1': 0.6512808507614849, 'kappa': 0.6373378059902299}\n",
      "INFO:utils.ml:Metrics for classifier RandomForestClassifier7: {'accuracy': 0.8196850393700787, 'precision': 0.7090175464125044, 'recall': 0.6586414697892807, 'f1': 0.6710275895733028, 'kappa': 0.6700497824005374}\n",
      "INFO:utils.ml:Metrics for classifier XGBClassifier8: {'accuracy': 0.8070866141732284, 'precision': 0.6753099815478207, 'recall': 0.6579838465139035, 'f1': 0.6636411537906356, 'kappa': 0.6508561682263965}\n",
      "INFO:utils.ml:Metrics for classifier XGBClassifier9: {'accuracy': 0.805511811023622, 'precision': 0.6714039166347859, 'recall': 0.6561120525534007, 'f1': 0.6614148580221761, 'kappa': 0.6478985484472022}\n",
      "INFO:utils.ml:Metrics for classifier XGBClassifier10: {'accuracy': 0.805511811023622, 'precision': 0.6753536733565665, 'recall': 0.6562897545116763, 'f1': 0.6627495882246063, 'kappa': 0.6473475463060812}\n",
      "INFO:utils.ml:Metrics for classifier XGBClassifier11: {'accuracy': 0.7496062992125985, 'precision': 0.6175965731055281, 'recall': 0.637255606244724, 'f1': 0.6231912419524094, 'kappa': 0.5636700720842193}\n",
      "INFO:utils.ml:Metrics for classifier XGBClassifier12: {'accuracy': 0.8133858267716535, 'precision': 0.6749423968963106, 'recall': 0.6559857707362431, 'f1': 0.6621327465736506, 'kappa': 0.6610427167934703}\n",
      "INFO:utils.ml:Metrics for classifier XGBClassifier13: {'accuracy': 0.8023622047244094, 'precision': 0.6638094374884006, 'recall': 0.6543231861734266, 'f1': 0.6573962682193112, 'kappa': 0.6437241262148943}\n",
      "INFO:utils.ml:Metrics for classifier XGBClassifier14: {'accuracy': 0.8070866141732284, 'precision': 0.6867755262640173, 'recall': 0.6640927609263388, 'f1': 0.6715516386533791, 'kappa': 0.6507511404044395}\n",
      "INFO:utils.ml:Metrics for classifier XGBClassifier15: {'accuracy': 0.8125984251968504, 'precision': 0.6922163231711381, 'recall': 0.667889659434827, 'f1': 0.6760551060300063, 'kappa': 0.6600948216920364}\n",
      "INFO:utils.ml:Metrics for classifier XGBClassifier16: {'accuracy': 0.8062992125984252, 'precision': 0.6775042260538444, 'recall': 0.6546154491813989, 'f1': 0.6617057758366328, 'kappa': 0.6484923492349235}\n",
      "INFO:utils.ml:Metrics for classifier XGBClassifier17: {'accuracy': 0.8102362204724409, 'precision': 0.6855925921450566, 'recall': 0.6714574358439217, 'f1': 0.6767380501568265, 'kappa': 0.6572119110657151}\n",
      "INFO:utils.ml:Metrics for classifier XGBClassifier18: {'accuracy': 0.8094488188976378, 'precision': 0.6824530064016573, 'recall': 0.6679113365531415, 'f1': 0.6732714971965569, 'kappa': 0.6555642721057939}\n"
     ]
    },
    {
     "name": "stdout",
     "output_type": "stream",
     "text": [
      "cannot access local variable 'report' where it is not associated with a value\n",
      "cannot access local variable 'report' where it is not associated with a value\n",
      "cannot access local variable 'report' where it is not associated with a value\n",
      "cannot access local variable 'report' where it is not associated with a value\n",
      "cannot access local variable 'report' where it is not associated with a value\n",
      "cannot access local variable 'report' where it is not associated with a value\n",
      "cannot access local variable 'report' where it is not associated with a value\n",
      "cannot access local variable 'report' where it is not associated with a value\n",
      "cannot access local variable 'report' where it is not associated with a value\n",
      "cannot access local variable 'report' where it is not associated with a value\n",
      "cannot access local variable 'report' where it is not associated with a value\n",
      "cannot access local variable 'report' where it is not associated with a value\n",
      "cannot access local variable 'report' where it is not associated with a value\n",
      "cannot access local variable 'report' where it is not associated with a value\n",
      "cannot access local variable 'report' where it is not associated with a value\n",
      "cannot access local variable 'report' where it is not associated with a value\n",
      "cannot access local variable 'report' where it is not associated with a value\n",
      "cannot access local variable 'report' where it is not associated with a value\n",
      "cannot access local variable 'report' where it is not associated with a value\n",
      "cannot access local variable 'report' where it is not associated with a value\n"
     ]
    },
    {
     "data": {
      "text/plain": [
       "                         accuracy  precision    recall        f1     kappa\n",
       "GT                       1.000000   1.000000  1.000000  1.000000  1.000000\n",
       "RandomForestClassifier0  0.808661   0.694231  0.658434  0.669511  0.651050\n",
       "RandomForestClassifier1  0.792126   0.668015  0.638946  0.646737  0.622431\n",
       "RandomForestClassifier2  0.811811   0.698741  0.646372  0.658315  0.654814\n",
       "RandomForestClassifier3  0.815748   0.701615  0.649541  0.661296  0.662105\n",
       "RandomForestClassifier4  0.801575   0.680903  0.642858  0.652181  0.638386\n",
       "RandomForestClassifier5  0.819685   0.707278  0.652355  0.664625  0.668970\n",
       "RandomForestClassifier6  0.800787   0.678389  0.642544  0.651281  0.637338\n",
       "RandomForestClassifier7  0.819685   0.709018  0.658641  0.671028  0.670050\n",
       "XGBClassifier8           0.807087   0.675310  0.657984  0.663641  0.650856\n",
       "XGBClassifier9           0.805512   0.671404  0.656112  0.661415  0.647899\n",
       "XGBClassifier10          0.805512   0.675354  0.656290  0.662750  0.647348\n",
       "XGBClassifier11          0.749606   0.617597  0.637256  0.623191  0.563670\n",
       "XGBClassifier12          0.813386   0.674942  0.655986  0.662133  0.661043\n",
       "XGBClassifier13          0.802362   0.663809  0.654323  0.657396  0.643724\n",
       "XGBClassifier14          0.807087   0.686776  0.664093  0.671552  0.650751\n",
       "XGBClassifier15          0.812598   0.692216  0.667890  0.676055  0.660095\n",
       "XGBClassifier16          0.806299   0.677504  0.654615  0.661706  0.648492\n",
       "XGBClassifier17          0.810236   0.685593  0.671457  0.676738  0.657212\n",
       "XGBClassifier18          0.809449   0.682453  0.667911  0.673271  0.655564"
      ],
      "text/html": [
       "<div>\n",
       "<style scoped>\n",
       "    .dataframe tbody tr th:only-of-type {\n",
       "        vertical-align: middle;\n",
       "    }\n",
       "\n",
       "    .dataframe tbody tr th {\n",
       "        vertical-align: top;\n",
       "    }\n",
       "\n",
       "    .dataframe thead th {\n",
       "        text-align: right;\n",
       "    }\n",
       "</style>\n",
       "<table border=\"1\" class=\"dataframe\">\n",
       "  <thead>\n",
       "    <tr style=\"text-align: right;\">\n",
       "      <th></th>\n",
       "      <th>accuracy</th>\n",
       "      <th>precision</th>\n",
       "      <th>recall</th>\n",
       "      <th>f1</th>\n",
       "      <th>kappa</th>\n",
       "    </tr>\n",
       "  </thead>\n",
       "  <tbody>\n",
       "    <tr>\n",
       "      <th>GT</th>\n",
       "      <td>1.000000</td>\n",
       "      <td>1.000000</td>\n",
       "      <td>1.000000</td>\n",
       "      <td>1.000000</td>\n",
       "      <td>1.000000</td>\n",
       "    </tr>\n",
       "    <tr>\n",
       "      <th>RandomForestClassifier0</th>\n",
       "      <td>0.808661</td>\n",
       "      <td>0.694231</td>\n",
       "      <td>0.658434</td>\n",
       "      <td>0.669511</td>\n",
       "      <td>0.651050</td>\n",
       "    </tr>\n",
       "    <tr>\n",
       "      <th>RandomForestClassifier1</th>\n",
       "      <td>0.792126</td>\n",
       "      <td>0.668015</td>\n",
       "      <td>0.638946</td>\n",
       "      <td>0.646737</td>\n",
       "      <td>0.622431</td>\n",
       "    </tr>\n",
       "    <tr>\n",
       "      <th>RandomForestClassifier2</th>\n",
       "      <td>0.811811</td>\n",
       "      <td>0.698741</td>\n",
       "      <td>0.646372</td>\n",
       "      <td>0.658315</td>\n",
       "      <td>0.654814</td>\n",
       "    </tr>\n",
       "    <tr>\n",
       "      <th>RandomForestClassifier3</th>\n",
       "      <td>0.815748</td>\n",
       "      <td>0.701615</td>\n",
       "      <td>0.649541</td>\n",
       "      <td>0.661296</td>\n",
       "      <td>0.662105</td>\n",
       "    </tr>\n",
       "    <tr>\n",
       "      <th>RandomForestClassifier4</th>\n",
       "      <td>0.801575</td>\n",
       "      <td>0.680903</td>\n",
       "      <td>0.642858</td>\n",
       "      <td>0.652181</td>\n",
       "      <td>0.638386</td>\n",
       "    </tr>\n",
       "    <tr>\n",
       "      <th>RandomForestClassifier5</th>\n",
       "      <td>0.819685</td>\n",
       "      <td>0.707278</td>\n",
       "      <td>0.652355</td>\n",
       "      <td>0.664625</td>\n",
       "      <td>0.668970</td>\n",
       "    </tr>\n",
       "    <tr>\n",
       "      <th>RandomForestClassifier6</th>\n",
       "      <td>0.800787</td>\n",
       "      <td>0.678389</td>\n",
       "      <td>0.642544</td>\n",
       "      <td>0.651281</td>\n",
       "      <td>0.637338</td>\n",
       "    </tr>\n",
       "    <tr>\n",
       "      <th>RandomForestClassifier7</th>\n",
       "      <td>0.819685</td>\n",
       "      <td>0.709018</td>\n",
       "      <td>0.658641</td>\n",
       "      <td>0.671028</td>\n",
       "      <td>0.670050</td>\n",
       "    </tr>\n",
       "    <tr>\n",
       "      <th>XGBClassifier8</th>\n",
       "      <td>0.807087</td>\n",
       "      <td>0.675310</td>\n",
       "      <td>0.657984</td>\n",
       "      <td>0.663641</td>\n",
       "      <td>0.650856</td>\n",
       "    </tr>\n",
       "    <tr>\n",
       "      <th>XGBClassifier9</th>\n",
       "      <td>0.805512</td>\n",
       "      <td>0.671404</td>\n",
       "      <td>0.656112</td>\n",
       "      <td>0.661415</td>\n",
       "      <td>0.647899</td>\n",
       "    </tr>\n",
       "    <tr>\n",
       "      <th>XGBClassifier10</th>\n",
       "      <td>0.805512</td>\n",
       "      <td>0.675354</td>\n",
       "      <td>0.656290</td>\n",
       "      <td>0.662750</td>\n",
       "      <td>0.647348</td>\n",
       "    </tr>\n",
       "    <tr>\n",
       "      <th>XGBClassifier11</th>\n",
       "      <td>0.749606</td>\n",
       "      <td>0.617597</td>\n",
       "      <td>0.637256</td>\n",
       "      <td>0.623191</td>\n",
       "      <td>0.563670</td>\n",
       "    </tr>\n",
       "    <tr>\n",
       "      <th>XGBClassifier12</th>\n",
       "      <td>0.813386</td>\n",
       "      <td>0.674942</td>\n",
       "      <td>0.655986</td>\n",
       "      <td>0.662133</td>\n",
       "      <td>0.661043</td>\n",
       "    </tr>\n",
       "    <tr>\n",
       "      <th>XGBClassifier13</th>\n",
       "      <td>0.802362</td>\n",
       "      <td>0.663809</td>\n",
       "      <td>0.654323</td>\n",
       "      <td>0.657396</td>\n",
       "      <td>0.643724</td>\n",
       "    </tr>\n",
       "    <tr>\n",
       "      <th>XGBClassifier14</th>\n",
       "      <td>0.807087</td>\n",
       "      <td>0.686776</td>\n",
       "      <td>0.664093</td>\n",
       "      <td>0.671552</td>\n",
       "      <td>0.650751</td>\n",
       "    </tr>\n",
       "    <tr>\n",
       "      <th>XGBClassifier15</th>\n",
       "      <td>0.812598</td>\n",
       "      <td>0.692216</td>\n",
       "      <td>0.667890</td>\n",
       "      <td>0.676055</td>\n",
       "      <td>0.660095</td>\n",
       "    </tr>\n",
       "    <tr>\n",
       "      <th>XGBClassifier16</th>\n",
       "      <td>0.806299</td>\n",
       "      <td>0.677504</td>\n",
       "      <td>0.654615</td>\n",
       "      <td>0.661706</td>\n",
       "      <td>0.648492</td>\n",
       "    </tr>\n",
       "    <tr>\n",
       "      <th>XGBClassifier17</th>\n",
       "      <td>0.810236</td>\n",
       "      <td>0.685593</td>\n",
       "      <td>0.671457</td>\n",
       "      <td>0.676738</td>\n",
       "      <td>0.657212</td>\n",
       "    </tr>\n",
       "    <tr>\n",
       "      <th>XGBClassifier18</th>\n",
       "      <td>0.809449</td>\n",
       "      <td>0.682453</td>\n",
       "      <td>0.667911</td>\n",
       "      <td>0.673271</td>\n",
       "      <td>0.655564</td>\n",
       "    </tr>\n",
       "  </tbody>\n",
       "</table>\n",
       "</div>"
      ]
     },
     "execution_count": 40,
     "metadata": {},
     "output_type": "execute_result"
    }
   ],
   "execution_count": 40
  },
  {
   "metadata": {
    "ExecuteTime": {
     "end_time": "2024-11-02T21:34:27.690984Z",
     "start_time": "2024-11-02T21:34:27.669953Z"
    }
   },
   "cell_type": "code",
   "source": [
    "highest = df_pca[df_pca[\"kappa\"] == df_pca.iloc[1:][\"kappa\"].max()]\n",
    "idx = highest.index[0]\n",
    "\n",
    "confusion_matrix(pipeline.predictions[\"GT\"], pipeline.predictions[idx])"
   ],
   "id": "5664e1f83005a5b2",
   "outputs": [
    {
     "data": {
      "text/plain": [
       "array([[431,  49,  18],\n",
       "       [ 83, 587,   8],\n",
       "       [ 47,  24,  23]], dtype=int64)"
      ]
     },
     "execution_count": 58,
     "metadata": {},
     "output_type": "execute_result"
    }
   ],
   "execution_count": 58
  },
  {
   "metadata": {},
   "cell_type": "code",
   "outputs": [],
   "execution_count": null,
   "source": "",
   "id": "10dfe1d1e30e3fdb"
  }
 ],
 "metadata": {
  "kernelspec": {
   "display_name": "Python 3",
   "language": "python",
   "name": "python3"
  },
  "language_info": {
   "codemirror_mode": {
    "name": "ipython",
    "version": 2
   },
   "file_extension": ".py",
   "mimetype": "text/x-python",
   "name": "python",
   "nbconvert_exporter": "python",
   "pygments_lexer": "ipython2",
   "version": "2.7.6"
  }
 },
 "nbformat": 4,
 "nbformat_minor": 5
}

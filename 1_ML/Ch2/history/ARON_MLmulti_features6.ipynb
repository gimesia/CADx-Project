{
 "cells": [
  {
   "cell_type": "code",
   "id": "initial_id",
   "metadata": {
    "collapsed": true,
    "ExecuteTime": {
     "end_time": "2024-11-03T20:15:23.241951Z",
     "start_time": "2024-11-03T20:15:20.434442Z"
    }
   },
   "source": [
    "import numpy as np\n",
    "from sklearn.metrics import confusion_matrix, recall_score, cohen_kappa_score\n",
    "\n",
    "from utils.loader import FactoryLoader\n",
    "from utils.ml import MLPipeline\n",
    "from utils.preprocessing import PreprocessingFactory\n",
    "from utils.feature_extraction import *\n",
    "from utils.utils import *\n",
    "\n",
    "VAL_PATH = r\"C:\\Users\\gimes\\Src\\repos\\CADx-Project\\dataset\\multiclass\\val\"\n",
    "TRAIN_PATH = r\"C:\\Users\\gimes\\Src\\repos\\CADx-Project\\dataset\\multiclass\\train\""
   ],
   "outputs": [
    {
     "name": "stderr",
     "output_type": "stream",
     "text": [
      "INFO:numexpr.utils:Note: NumExpr detected 16 cores but \"NUMEXPR_MAX_THREADS\" not set, so enforcing safe limit of 8.\n",
      "INFO:numexpr.utils:NumExpr defaulting to 8 threads.\n"
     ]
    }
   ],
   "execution_count": 1
  },
  {
   "metadata": {
    "ExecuteTime": {
     "end_time": "2024-11-03T21:02:33.978389Z",
     "start_time": "2024-11-03T21:02:33.952288Z"
    }
   },
   "cell_type": "code",
   "source": [
    "percent = 100\n",
    "random = False\n",
    "batch_size = 24\n",
    "th = 0.1\n",
    "\n",
    "# Initialize the FactoryLoader\n",
    "factory = PreprocessingFactory()\n",
    "factory.pad2square(fill=np.nan)\n",
    "factory.resize((200,200))\n",
    "factory.normalize2float()\n",
    "\n",
    "# Create the feature extraction pipeline strategy and add desired features\n",
    "strategy = FeatureExtractionStrategy()\n",
    "\n",
    "strategy.add_extractor(GradientExtractor(threshold=th)) # Add gradient feature\n",
    "\n",
    "strategy.add_extractor(ColorMomentsExtractor(\"rgb\", threshold=th))   # Add color moments feature\n",
    "strategy.add_extractor(ColorMomentsExtractor(\"lab\", threshold=th))   # Add color moments feature\n",
    "strategy.add_extractor(ColorMomentsExtractor(\"hsv\", threshold=th))   # Add color moments feature\n",
    "\n",
    "strategy.add_extractor(LBPExtractor(radius=1, n_points=8))\n",
    "strategy.add_extractor(LBPExtractor(radius=2, n_points=16))\n",
    "strategy.add_extractor(LBPExtractor(radius=3, n_points=24))\n",
    "strategy.add_extractor(LBPExtractor(radius=4, n_points=32))\n",
    "strategy.add_extractor(LBPExtractor(radius=5, n_points=40))\n",
    "\n",
    "strategy.add_extractor(FourierTransformExtractor())\n",
    "strategy.add_extractor(FFTExtractor())\n",
    "\n",
    "strategy.add_extractor(GLCMExtractor(properties=['contrast', 'dissimilarity', 'homogeneity', 'energy', 'correlation', 'ASM']))\n",
    "\n",
    "pipeline = MLPipeline(dataset_path=TRAIN_PATH, preprocessing_factory=factory, feature_strategy=strategy, classifiers=[], percentage=percent, verbose=True, shuffle=random, batch_size=batch_size)"
   ],
   "id": "d7c81ba220d9e517",
   "outputs": [
    {
     "name": "stderr",
     "output_type": "stream",
     "text": [
      "INFO:utils.ml:MLPipeline initialized with dataset path: C:\\Users\\gimes\\Src\\repos\\CADx-Project\\dataset\\multiclass\\train\n",
      "INFO:utils.ml:Preprocessing steps\n"
     ]
    }
   ],
   "execution_count": 32
  },
  {
   "metadata": {
    "ExecuteTime": {
     "end_time": "2024-11-03T21:13:59.892059Z",
     "start_time": "2024-11-03T21:02:34.459691Z"
    }
   },
   "cell_type": "code",
   "source": [
    "pipeline.feature_matrix = None\n",
    "pipeline.run_feature_extraction()"
   ],
   "id": "21f510c52296a049",
   "outputs": [
    {
     "name": "stderr",
     "output_type": "stream",
     "text": [
      "INFO:utils.ml:Running feature extraction...\n"
     ]
    },
    {
     "name": "stdout",
     "output_type": "stream",
     "text": [
      "Processed 5/212 batches.\n",
      "Processed 10/212 batches.\n",
      "Processed 15/212 batches.\n",
      "Processed 20/212 batches.\n",
      "Processed 25/212 batches.\n",
      "Processed 30/212 batches.\n",
      "Processed 35/212 batches.\n",
      "Processed 40/212 batches.\n",
      "Processed 45/212 batches.\n",
      "Processed 50/212 batches.\n",
      "Processed 55/212 batches.\n",
      "Processed 60/212 batches.\n",
      "Processed 65/212 batches.\n",
      "Processed 70/212 batches.\n",
      "Processed 75/212 batches.\n",
      "Processed 80/212 batches.\n",
      "Processed 85/212 batches.\n",
      "Processed 90/212 batches.\n",
      "Processed 95/212 batches.\n",
      "Processed 100/212 batches.\n",
      "Processed 105/212 batches.\n",
      "Processed 110/212 batches.\n",
      "Processed 115/212 batches.\n",
      "Processed 120/212 batches.\n",
      "Processed 125/212 batches.\n",
      "Processed 130/212 batches.\n",
      "Processed 135/212 batches.\n",
      "Processed 140/212 batches.\n",
      "Processed 145/212 batches.\n",
      "Processed 150/212 batches.\n",
      "Processed 155/212 batches.\n",
      "Processed 160/212 batches.\n",
      "Processed 165/212 batches.\n",
      "Processed 170/212 batches.\n",
      "Processed 175/212 batches.\n",
      "Processed 180/212 batches.\n",
      "Processed 185/212 batches.\n",
      "Processed 190/212 batches.\n",
      "Processed 195/212 batches.\n",
      "Processed 200/212 batches.\n",
      "Processed 205/212 batches.\n",
      "Processed 210/212 batches.\n"
     ]
    },
    {
     "name": "stderr",
     "output_type": "stream",
     "text": [
      "INFO:utils.ml:Feature extraction completed. Extracted 5082 features.\n"
     ]
    },
    {
     "name": "stdout",
     "output_type": "stream",
     "text": [
      "Processed 212/212 batches.\n"
     ]
    }
   ],
   "execution_count": 33
  },
  {
   "metadata": {
    "ExecuteTime": {
     "end_time": "2024-11-03T21:14:00.045450Z",
     "start_time": "2024-11-03T21:14:00.030110Z"
    }
   },
   "cell_type": "code",
   "source": [
    "from xgboost import XGBClassifier\n",
    "from sklearn.ensemble import RandomForestClassifier\n",
    "\n",
    "xgb0 = XGBClassifier(learning_rate=0.1, n_estimators=400, max_depth=7, min_child_weight=3, subsample=0.7, colsample_bytree=0.7)\n",
    "xgb1 = XGBClassifier(learning_rate=0.1, n_estimators=400, max_depth=5, min_child_weight=5, gamma=0.2, subsample=0.8, colsample_bytree=0.8)\n",
    "xgb2 = XGBClassifier(learning_rate=0.1, n_estimators=400, max_depth=5, min_child_weight=1, subsample=0.8, colsample_bytree=0.8, reg_alpha=0.1, reg_lambda=0.1)\n",
    "xgb3 = XGBClassifier(learning_rate=0.1, n_estimators=400, max_depth=7, min_child_weight=1, subsample=0.8, colsample_bytree=0.8) # THIS!!\n",
    "xgb4 = XGBClassifier(learning_rate=0.1, n_estimators=500, max_depth=7, min_child_weight=1, subsample=0.8, colsample_bytree=0.8)\n",
    "xgb5 = XGBClassifier(learning_rate=0.1, n_estimators=750, max_depth=7, min_child_weight=3, subsample=0.7, colsample_bytree=0.7)\n",
    "xgb6 = XGBClassifier(learning_rate=0.1, n_estimators=750, max_depth=5, min_child_weight=5, gamma=0.2, subsample=0.8, colsample_bytree=0.8) # THIS\n",
    "xgb7 = XGBClassifier(learning_rate=0.1, n_estimators=750, max_depth=5, min_child_weight=1, subsample=0.8, colsample_bytree=0.8, reg_alpha=0.1, reg_lambda=0.1) # THIS\n",
    "xgb8 = XGBClassifier(learning_rate=0.1, n_estimators=1000, max_depth=7, min_child_weight=3, subsample=0.7, colsample_bytree=0.7)\n",
    "xgb9 = XGBClassifier(learning_rate=0.1, n_estimators=1000, max_depth=5, min_child_weight=5, gamma=0.2, subsample=0.8, colsample_bytree=0.8)\n",
    "xgb10 = XGBClassifier(learning_rate=0.1, n_estimators=1000, max_depth=5, min_child_weight=1, subsample=0.8, colsample_bytree=0.8, reg_alpha=0.1, reg_lambda=0.1)\n",
    "xgb11 = XGBClassifier(learning_rate=0.1, n_estimators=1000, max_depth=7, min_child_weight=1, subsample=0.8, colsample_bytree=0.8)\n",
    "xgb12 = XGBClassifier(learning_rate=0.1, n_estimators=1000, max_depth=9, min_child_weight=1, subsample=0.8, colsample_bytree=0.8)\n",
    "xgb13 = XGBClassifier(learning_rate=0.1, n_estimators=1000, max_depth=5, min_child_weight=5, gamma=0.2, subsample=0.8, colsample_bytree=0.8)\n",
    "xgb14 = XGBClassifier(learning_rate=0.1, n_estimators=1000, max_depth=5, min_child_weight=1, subsample=0.8, colsample_bytree=0.8, reg_alpha=0.1, reg_lambda=0.1)\n",
    "xgb15 = XGBClassifier(learning_rate=0.1, n_estimators=1000, max_depth=7, min_child_weight=1, subsample=0.8, colsample_bytree=0.8)\n",
    "xgb16 = XGBClassifier(learning_rate=0.1, n_estimators=1000, max_depth=9, min_child_weight=1, subsample=0.8, colsample_bytree=0.8)\n",
    "\n",
    "\n",
    "pipeline.classifiers = [xgb0, xgb1, xgb2, xgb3, xgb4, xgb5, xgb6, xgb7, xgb8, xgb9, xgb10, xgb11, xgb12, xgb13, xgb14, xgb15, xgb16]\n",
    "pipeline.fitted_classifiers = {}"
   ],
   "id": "74470ba20848a156",
   "outputs": [],
   "execution_count": 34
  },
  {
   "metadata": {},
   "cell_type": "markdown",
   "source": [
    "___\n",
    "# Balance the data"
   ],
   "id": "ad0e6dcd404dcf15"
  },
  {
   "metadata": {
    "ExecuteTime": {
     "end_time": "2024-11-03T21:14:00.079673Z",
     "start_time": "2024-11-03T21:14:00.072035Z"
    }
   },
   "cell_type": "code",
   "source": [
    "# Backup\n",
    "pipeline.backup_feature_matrix = pipeline.feature_matrix.copy()\n",
    "pipeline.backup_labels = pipeline.labels.copy()"
   ],
   "id": "da1b19771d4cde2f",
   "outputs": [],
   "execution_count": 35
  },
  {
   "metadata": {
    "ExecuteTime": {
     "end_time": "2024-11-03T21:14:00.273187Z",
     "start_time": "2024-11-03T21:14:00.099319Z"
    }
   },
   "cell_type": "code",
   "source": [
    "from imblearn.over_sampling import SMOTE\n",
    "\n",
    "smote = SMOTE(random_state=42)\n",
    "\n",
    "pipeline.feature_matrix, pipeline.labels = smote.fit_resample(np.nan_to_num(pipeline.feature_matrix), pipeline.labels)"
   ],
   "id": "6f226a41aafa84b7",
   "outputs": [],
   "execution_count": 36
  },
  {
   "metadata": {
    "ExecuteTime": {
     "end_time": "2024-11-03T21:14:00.298540Z",
     "start_time": "2024-11-03T21:14:00.293127Z"
    }
   },
   "cell_type": "code",
   "source": [
    "print(pipeline.backup_feature_matrix.shape)\n",
    "print(pipeline.feature_matrix.shape)\n",
    "\n",
    "print(pipeline.backup_labels.shape)\n",
    "print(pipeline.labels.shape)"
   ],
   "id": "3425dcf3bd509008",
   "outputs": [
    {
     "name": "stdout",
     "output_type": "stream",
     "text": [
      "(5082, 519)\n",
      "(8139, 519)\n",
      "(5082,)\n",
      "(8139,)\n"
     ]
    }
   ],
   "execution_count": 37
  },
  {
   "metadata": {
    "ExecuteTime": {
     "end_time": "2024-11-03T21:24:21.205034Z",
     "start_time": "2024-11-03T21:14:00.326213Z"
    }
   },
   "cell_type": "code",
   "source": [
    "pipeline.fitted_classifiers = {}\n",
    "pipeline.fit_classifiers()"
   ],
   "id": "e25b1eeaa9b9b112",
   "outputs": [
    {
     "name": "stderr",
     "output_type": "stream",
     "text": [
      "INFO:utils.ml:Fitting classifiers...\n",
      "INFO:utils.ml:Fitting classifier: XGBClassifier0\n",
      "INFO:utils.ml:Top 10 features for XGBClassifier0: [('color_moments_rgb_B_iqr', 0.026797362), ('fft_radial_variance_83', 0.016851636), ('color_moments_lab_L_iqr', 0.0153307505), ('fft_radial_variance_107', 0.013709151), ('color_moments_lab_B_var', 0.009709959), ('lbp_rad1_bins8_4', 0.007945936), ('fft_radial_mean_102', 0.006948025), ('lbp_rad4_bins32_20', 0.0062142746), ('color_moments_hsv_H_median', 0.00620055), ('fft_radial_variance_67', 0.0061397473)]\n",
      "INFO:utils.ml:Fitted classifier: XGBClassifier0; Done in 24.354575395584106 seconds\n",
      "INFO:utils.ml:Fitting classifier: XGBClassifier1\n",
      "INFO:utils.ml:Top 10 features for XGBClassifier1: [('color_moments_rgb_B_iqr', 0.028739294), ('color_moments_lab_L_iqr', 0.018154874), ('color_moments_lab_B_var', 0.011482409), ('lbp_rad4_bins32_20', 0.008865193), ('lbp_rad1_bins8_4', 0.008857697), ('lbp_rad4_bins32_6', 0.008291549), ('color_moments_hsv_H_median', 0.008165653), ('fft_high_freq_energy', 0.007887955), ('fft_radial_mean_114', 0.0068076574), ('fft_radial_mean_27', 0.0067386525)]\n",
      "INFO:utils.ml:Fitted classifier: XGBClassifier1; Done in 16.357160568237305 seconds\n",
      "INFO:utils.ml:Fitting classifier: XGBClassifier2\n",
      "INFO:utils.ml:Top 10 features for XGBClassifier2: [('color_moments_rgb_B_iqr', 0.029105566), ('color_moments_lab_L_iqr', 0.016992342), ('color_moments_lab_B_var', 0.013360981), ('fft_radial_variance_35', 0.01312949), ('lbp_rad1_bins8_4', 0.010081536), ('fft_radial_mean_107', 0.009394675), ('color_moments_hsv_H_median', 0.009137624), ('fft_high_freq_energy', 0.008731007), ('fft_radial_mean_52', 0.008172289), ('lbp_rad4_bins32_6', 0.007949877)]\n",
      "INFO:utils.ml:Fitted classifier: XGBClassifier2; Done in 18.541680335998535 seconds\n",
      "INFO:utils.ml:Fitting classifier: XGBClassifier3\n",
      "INFO:utils.ml:Top 10 features for XGBClassifier3: [('color_moments_rgb_B_iqr', 0.0318973), ('fft_radial_variance_85', 0.017527057), ('color_moments_lab_L_iqr', 0.015585805), ('color_moments_lab_B_var', 0.011702208), ('fft_radial_variance_28', 0.0099418685), ('lbp_rad4_bins32_20', 0.009635759), ('lbp_rad1_bins8_4', 0.009334443), ('fft_radial_variance_36', 0.008923039), ('fft_radial_variance_122', 0.008416621), ('color_moments_hsv_H_median', 0.00831379)]\n",
      "INFO:utils.ml:Fitted classifier: XGBClassifier3; Done in 29.884034872055054 seconds\n",
      "INFO:utils.ml:Fitting classifier: XGBClassifier4\n",
      "INFO:utils.ml:Top 10 features for XGBClassifier4: [('color_moments_rgb_B_iqr', 0.031078), ('fft_radial_variance_85', 0.01898641), ('color_moments_lab_L_iqr', 0.015871335), ('color_moments_lab_B_var', 0.011477548), ('lbp_rad4_bins32_20', 0.010097237), ('fft_radial_variance_36', 0.009665996), ('lbp_rad1_bins8_4', 0.009251796), ('fft_radial_variance_28', 0.0092374515), ('fft_radial_variance_122', 0.009117412), ('color_moments_hsv_H_median', 0.008184743)]\n",
      "INFO:utils.ml:Fitted classifier: XGBClassifier4; Done in 34.41662240028381 seconds\n",
      "INFO:utils.ml:Fitting classifier: XGBClassifier5\n",
      "INFO:utils.ml:Top 10 features for XGBClassifier5: [('color_moments_rgb_B_iqr', 0.02617879), ('fft_radial_variance_107', 0.01673201), ('color_moments_lab_L_iqr', 0.015203825), ('color_moments_lab_B_var', 0.009697956), ('lbp_rad1_bins8_4', 0.007972811), ('fft_radial_variance_65', 0.0073549617), ('fft_radial_variance_28', 0.007268713), ('fft_radial_mean_102', 0.0070834807), ('fft_radial_variance_83', 0.0068998975), ('fft_radial_variance_75', 0.0066484646)]\n",
      "INFO:utils.ml:Fitted classifier: XGBClassifier5; Done in 37.1753671169281 seconds\n",
      "INFO:utils.ml:Fitting classifier: XGBClassifier6\n",
      "INFO:utils.ml:Top 10 features for XGBClassifier6: [('color_moments_rgb_B_iqr', 0.028302753), ('color_moments_lab_L_iqr', 0.018058453), ('color_moments_lab_B_var', 0.011062853), ('lbp_rad1_bins8_4', 0.008707418), ('lbp_rad4_bins32_6', 0.008443195), ('lbp_rad4_bins32_20', 0.00840937), ('color_moments_hsv_H_median', 0.0081921965), ('fft_high_freq_energy', 0.007905642), ('fft_radial_mean_114', 0.0073489198), ('fft_radial_mean_27', 0.007274428)]\n",
      "INFO:utils.ml:Fitted classifier: XGBClassifier6; Done in 21.31016254425049 seconds\n",
      "INFO:utils.ml:Fitting classifier: XGBClassifier7\n",
      "INFO:utils.ml:Top 10 features for XGBClassifier7: [('color_moments_rgb_B_iqr', 0.029347371), ('color_moments_lab_L_iqr', 0.018224886), ('fft_radial_mean_107', 0.014555423), ('color_moments_lab_B_var', 0.012352368), ('lbp_rad1_bins8_4', 0.01019492), ('color_moments_hsv_H_median', 0.009033408), ('fft_radial_variance_35', 0.00822243), ('lbp_rad4_bins32_20', 0.0078614), ('fft_high_freq_energy', 0.007745913), ('color_moments_rgb_B_std', 0.0074381265)]\n",
      "INFO:utils.ml:Fitted classifier: XGBClassifier7; Done in 33.16328716278076 seconds\n",
      "INFO:utils.ml:Fitting classifier: XGBClassifier8\n",
      "INFO:utils.ml:Top 10 features for XGBClassifier8: [('color_moments_rgb_B_iqr', 0.025619652), ('fft_radial_variance_107', 0.018040389), ('color_moments_lab_L_iqr', 0.016075257), ('color_moments_lab_B_var', 0.009734348), ('lbp_rad1_bins8_4', 0.008187453), ('fft_radial_variance_65', 0.0079300925), ('fft_radial_variance_28', 0.007837099), ('fft_radial_mean_102', 0.007637382), ('fft_radial_variance_75', 0.0071683493), ('lbp_rad4_bins32_20', 0.006702468)]\n",
      "INFO:utils.ml:Fitted classifier: XGBClassifier8; Done in 44.302695989608765 seconds\n",
      "INFO:utils.ml:Fitting classifier: XGBClassifier9\n",
      "INFO:utils.ml:Top 10 features for XGBClassifier9: [('color_moments_rgb_B_iqr', 0.028558813), ('color_moments_lab_L_iqr', 0.018221831), ('color_moments_lab_B_var', 0.0110713905), ('lbp_rad1_bins8_4', 0.0086893), ('lbp_rad4_bins32_6', 0.0085195815), ('lbp_rad4_bins32_20', 0.00848545), ('color_moments_hsv_H_median', 0.008238751), ('fft_high_freq_energy', 0.007977165), ('fft_radial_mean_114', 0.0074154064), ('fft_radial_mean_27', 0.0073402408)]\n",
      "INFO:utils.ml:Fitted classifier: XGBClassifier9; Done in 23.952640533447266 seconds\n",
      "INFO:utils.ml:Fitting classifier: XGBClassifier10\n",
      "INFO:utils.ml:Top 10 features for XGBClassifier10: [('color_moments_rgb_B_iqr', 0.028222777), ('color_moments_lab_L_iqr', 0.018144066), ('color_moments_lab_B_var', 0.012205546), ('lbp_rad1_bins8_4', 0.010161039), ('fft_radial_variance_35', 0.009650365), ('color_moments_hsv_H_median', 0.008875136), ('fft_radial_mean_107', 0.008547108), ('fft_radial_mean_52', 0.008526394), ('lbp_rad4_bins32_20', 0.008240441), ('color_moments_rgb_B_std', 0.008000378)]\n",
      "INFO:utils.ml:Fitted classifier: XGBClassifier10; Done in 42.921361207962036 seconds\n",
      "INFO:utils.ml:Fitting classifier: XGBClassifier11\n",
      "INFO:utils.ml:Top 10 features for XGBClassifier11: [('color_moments_rgb_B_iqr', 0.029370407), ('fft_radial_variance_85', 0.023238115), ('color_moments_lab_L_iqr', 0.01588491), ('color_moments_lab_B_var', 0.01128432), ('fft_radial_variance_122', 0.011159113), ('lbp_rad4_bins32_20', 0.010927589), ('lbp_rad1_bins8_4', 0.009255094), ('fft_radial_variance_28', 0.008797775), ('color_moments_hsv_H_median', 0.008015636), ('fft_radial_variance_65', 0.0068734596)]\n",
      "INFO:utils.ml:Fitted classifier: XGBClassifier11; Done in 53.096861362457275 seconds\n",
      "INFO:utils.ml:Fitting classifier: XGBClassifier12\n",
      "INFO:utils.ml:Top 10 features for XGBClassifier12: [('color_moments_rgb_B_iqr', 0.029844237), ('color_moments_lab_L_iqr', 0.019109696), ('lbp_rad4_bins32_20', 0.01184114), ('color_moments_lab_B_var', 0.011219007), ('lbp_rad1_bins8_4', 0.009566868), ('fft_radial_variance_113', 0.008407972), ('color_moments_hsv_H_median', 0.008280048), ('fft_radial_mean_65', 0.007476049), ('fft_radial_variance_44', 0.007289066), ('fft_radial_mean_45', 0.007177083)]\n",
      "INFO:utils.ml:Fitted classifier: XGBClassifier12; Done in 59.839423179626465 seconds\n",
      "INFO:utils.ml:Fitting classifier: XGBClassifier13\n",
      "INFO:utils.ml:Top 10 features for XGBClassifier13: [('color_moments_rgb_B_iqr', 0.028558813), ('color_moments_lab_L_iqr', 0.018221831), ('color_moments_lab_B_var', 0.0110713905), ('lbp_rad1_bins8_4', 0.0086893), ('lbp_rad4_bins32_6', 0.0085195815), ('lbp_rad4_bins32_20', 0.00848545), ('color_moments_hsv_H_median', 0.008238751), ('fft_high_freq_energy', 0.007977165), ('fft_radial_mean_114', 0.0074154064), ('fft_radial_mean_27', 0.0073402408)]\n",
      "INFO:utils.ml:Fitted classifier: XGBClassifier13; Done in 24.047217845916748 seconds\n",
      "INFO:utils.ml:Fitting classifier: XGBClassifier14\n",
      "INFO:utils.ml:Top 10 features for XGBClassifier14: [('color_moments_rgb_B_iqr', 0.028222777), ('color_moments_lab_L_iqr', 0.018144066), ('color_moments_lab_B_var', 0.012205546), ('lbp_rad1_bins8_4', 0.010161039), ('fft_radial_variance_35', 0.009650365), ('color_moments_hsv_H_median', 0.008875136), ('fft_radial_mean_107', 0.008547108), ('fft_radial_mean_52', 0.008526394), ('lbp_rad4_bins32_20', 0.008240441), ('color_moments_rgb_B_std', 0.008000378)]\n",
      "INFO:utils.ml:Fitted classifier: XGBClassifier14; Done in 43.12671756744385 seconds\n",
      "INFO:utils.ml:Fitting classifier: XGBClassifier15\n",
      "INFO:utils.ml:Top 10 features for XGBClassifier15: [('color_moments_rgb_B_iqr', 0.029370407), ('fft_radial_variance_85', 0.023238115), ('color_moments_lab_L_iqr', 0.01588491), ('color_moments_lab_B_var', 0.01128432), ('fft_radial_variance_122', 0.011159113), ('lbp_rad4_bins32_20', 0.010927589), ('lbp_rad1_bins8_4', 0.009255094), ('fft_radial_variance_28', 0.008797775), ('color_moments_hsv_H_median', 0.008015636), ('fft_radial_variance_65', 0.0068734596)]\n",
      "INFO:utils.ml:Fitted classifier: XGBClassifier15; Done in 54.02412390708923 seconds\n",
      "INFO:utils.ml:Fitting classifier: XGBClassifier16\n",
      "INFO:utils.ml:Top 10 features for XGBClassifier16: [('color_moments_rgb_B_iqr', 0.029844237), ('color_moments_lab_L_iqr', 0.019109696), ('lbp_rad4_bins32_20', 0.01184114), ('color_moments_lab_B_var', 0.011219007), ('lbp_rad1_bins8_4', 0.009566868), ('fft_radial_variance_113', 0.008407972), ('color_moments_hsv_H_median', 0.008280048), ('fft_radial_mean_65', 0.007476049), ('fft_radial_variance_44', 0.007289066), ('fft_radial_mean_45', 0.007177083)]\n",
      "INFO:utils.ml:Fitted classifier: XGBClassifier16; Done in 60.33947706222534 seconds\n",
      "INFO:utils.ml:Fitting completed in 620.87 seconds.\n"
     ]
    }
   ],
   "execution_count": 38
  },
  {
   "metadata": {
    "ExecuteTime": {
     "end_time": "2024-11-03T21:27:48.196476Z",
     "start_time": "2024-11-03T21:24:21.231070Z"
    }
   },
   "cell_type": "code",
   "source": "pipeline.predict_with_classifiers(VAL_PATH, percent)",
   "id": "eaa13003ad0706a4",
   "outputs": [
    {
     "name": "stderr",
     "output_type": "stream",
     "text": [
      "INFO:utils.ml:Predicting with classifiers on dataset: C:\\Users\\gimes\\Src\\repos\\CADx-Project\\dataset\\multiclass\\val\n"
     ]
    },
    {
     "name": "stdout",
     "output_type": "stream",
     "text": [
      "Processed 5/53 batches.\n",
      "Processed 10/53 batches.\n",
      "Processed 15/53 batches.\n",
      "Processed 20/53 batches.\n",
      "Processed 25/53 batches.\n",
      "Processed 30/53 batches.\n",
      "Processed 35/53 batches.\n",
      "Processed 40/53 batches.\n",
      "Processed 45/53 batches.\n",
      "Processed 50/53 batches.\n"
     ]
    },
    {
     "name": "stderr",
     "output_type": "stream",
     "text": [
      "INFO:utils.ml:Predictions made with classifier: XGBClassifier0\n",
      "INFO:utils.ml:Predictions made with classifier: XGBClassifier1\n",
      "INFO:utils.ml:Predictions made with classifier: XGBClassifier2\n",
      "INFO:utils.ml:Predictions made with classifier: XGBClassifier3\n",
      "INFO:utils.ml:Predictions made with classifier: XGBClassifier4\n",
      "INFO:utils.ml:Predictions made with classifier: XGBClassifier5\n",
      "INFO:utils.ml:Predictions made with classifier: XGBClassifier6\n",
      "INFO:utils.ml:Predictions made with classifier: XGBClassifier7\n",
      "INFO:utils.ml:Predictions made with classifier: XGBClassifier8\n",
      "INFO:utils.ml:Predictions made with classifier: XGBClassifier9\n",
      "INFO:utils.ml:Predictions made with classifier: XGBClassifier10\n",
      "INFO:utils.ml:Predictions made with classifier: XGBClassifier11\n",
      "INFO:utils.ml:Predictions made with classifier: XGBClassifier12\n"
     ]
    },
    {
     "name": "stdout",
     "output_type": "stream",
     "text": [
      "Processed 53/53 batches.\n"
     ]
    },
    {
     "name": "stderr",
     "output_type": "stream",
     "text": [
      "INFO:utils.ml:Predictions made with classifier: XGBClassifier13\n",
      "INFO:utils.ml:Predictions made with classifier: XGBClassifier14\n",
      "INFO:utils.ml:Predictions made with classifier: XGBClassifier15\n",
      "INFO:utils.ml:Predictions made with classifier: XGBClassifier16\n"
     ]
    },
    {
     "data": {
      "text/plain": [
       "{'GT': array([0, 0, 0, ..., 2, 2, 2]),\n",
       " 'XGBClassifier0': array([0, 0, 2, ..., 0, 2, 0], dtype=int64),\n",
       " 'XGBClassifier1': array([0, 0, 2, ..., 0, 2, 0], dtype=int64),\n",
       " 'XGBClassifier2': array([0, 0, 2, ..., 0, 2, 0], dtype=int64),\n",
       " 'XGBClassifier3': array([0, 0, 2, ..., 1, 2, 2], dtype=int64),\n",
       " 'XGBClassifier4': array([0, 0, 2, ..., 1, 2, 2], dtype=int64),\n",
       " 'XGBClassifier5': array([0, 0, 2, ..., 0, 2, 0], dtype=int64),\n",
       " 'XGBClassifier6': array([0, 0, 2, ..., 0, 2, 0], dtype=int64),\n",
       " 'XGBClassifier7': array([0, 0, 2, ..., 0, 2, 0], dtype=int64),\n",
       " 'XGBClassifier8': array([0, 0, 2, ..., 0, 2, 0], dtype=int64),\n",
       " 'XGBClassifier9': array([0, 0, 2, ..., 0, 2, 0], dtype=int64),\n",
       " 'XGBClassifier10': array([0, 0, 2, ..., 0, 2, 0], dtype=int64),\n",
       " 'XGBClassifier11': array([0, 0, 2, ..., 0, 2, 2], dtype=int64),\n",
       " 'XGBClassifier12': array([0, 0, 2, ..., 1, 2, 0], dtype=int64),\n",
       " 'XGBClassifier13': array([0, 0, 2, ..., 0, 2, 0], dtype=int64),\n",
       " 'XGBClassifier14': array([0, 0, 2, ..., 0, 2, 0], dtype=int64),\n",
       " 'XGBClassifier15': array([0, 0, 2, ..., 0, 2, 2], dtype=int64),\n",
       " 'XGBClassifier16': array([0, 0, 2, ..., 1, 2, 0], dtype=int64)}"
      ]
     },
     "execution_count": 39,
     "metadata": {},
     "output_type": "execute_result"
    }
   ],
   "execution_count": 39
  },
  {
   "metadata": {
    "ExecuteTime": {
     "end_time": "2024-11-03T21:27:48.374626Z",
     "start_time": "2024-11-03T21:27:48.229042Z"
    }
   },
   "cell_type": "code",
   "source": [
    "import pandas as pd\n",
    "\n",
    "smote_classifiers = pipeline.fitted_classifiers.copy()\n",
    "smote_predictions = pipeline.predictions.copy()\n",
    "\n",
    "df_smote = pd.DataFrame(data=pipeline.calculate_metrics())\n",
    "df_smote = df_smote.T\n",
    "df_smote"
   ],
   "id": "c07d748cb247f0f6",
   "outputs": [
    {
     "name": "stderr",
     "output_type": "stream",
     "text": [
      "INFO:utils.ml:Metrics for classifier GT: {'accuracy': 1.0, 'precision': 1.0, 'recall': 1.0, 'f1': 1.0, 'kappa': 1.0}\n",
      "INFO:utils.ml:Metrics for classifier XGBClassifier0: {'accuracy': 0.8740157480314961, 'precision': 0.782604199249378, 'recall': 0.7750351181919669, 'f1': 0.7786806229252421, 'kappa': 0.7726143530475496}\n",
      "INFO:utils.ml:Metrics for classifier XGBClassifier1: {'accuracy': 0.8748031496062992, 'precision': 0.7767144541702434, 'recall': 0.7735385148199653, 'f1': 0.775043103827698, 'kappa': 0.7747382934861182}\n",
      "INFO:utils.ml:Metrics for classifier XGBClassifier2: {'accuracy': 0.8771653543307086, 'precision': 0.7910044574865783, 'recall': 0.7805892496112611, 'f1': 0.7854970094681247, 'kappa': 0.7783218160335136}\n",
      "INFO:utils.ml:Metrics for classifier XGBClassifier3: {'accuracy': 0.8818897637795275, 'precision': 0.7927998711117145, 'recall': 0.7900034204476224, 'f1': 0.7913768865480963, 'kappa': 0.7873285790199922}\n",
      "INFO:utils.ml:Metrics for classifier XGBClassifier4: {'accuracy': 0.8826771653543307, 'precision': 0.7965764470021058, 'recall': 0.7906727644904604, 'f1': 0.7935263811005829, 'kappa': 0.7885556573625048}\n",
      "INFO:utils.ml:Metrics for classifier XGBClassifier5: {'accuracy': 0.8740157480314961, 'precision': 0.7861930170444772, 'recall': 0.7691039057378072, 'f1': 0.7769347608921828, 'kappa': 0.7718576535469848}\n",
      "INFO:utils.ml:Metrics for classifier XGBClassifier6: {'accuracy': 0.8724409448818897, 'precision': 0.7748680523146363, 'recall': 0.7718858866080024, 'f1': 0.7732758848571767, 'kappa': 0.770580206604935}\n",
      "INFO:utils.ml:Metrics for classifier XGBClassifier7: {'accuracy': 0.878740157480315, 'precision': 0.7906147441545671, 'recall': 0.7817502357386616, 'f1': 0.7859688577721539, 'kappa': 0.7812186784077892}\n",
      "INFO:utils.ml:Metrics for classifier XGBClassifier8: {'accuracy': 0.8771653543307086, 'precision': 0.7902598661330232, 'recall': 0.7717812819091593, 'f1': 0.7801503433680607, 'kappa': 0.7775951720236011}\n",
      "INFO:utils.ml:Metrics for classifier XGBClassifier9: {'accuracy': 0.8732283464566929, 'precision': 0.7754273929936303, 'recall': 0.7725552306508404, 'f1': 0.7738798957382964, 'kappa': 0.772042133240576}\n",
      "INFO:utils.ml:Metrics for classifier XGBClassifier10: {'accuracy': 0.8795275590551181, 'precision': 0.7963398472466027, 'recall': 0.7825972817397752, 'f1': 0.7889519655210373, 'kappa': 0.7824319785018475}\n",
      "INFO:utils.ml:Metrics for classifier XGBClassifier11: {'accuracy': 0.8834645669291339, 'precision': 0.798882483985543, 'recall': 0.7909867046167474, 'f1': 0.7947870530823605, 'kappa': 0.7897529742862384}\n",
      "INFO:utils.ml:Metrics for classifier XGBClassifier12: {'accuracy': 0.8771653543307086, 'precision': 0.7847932271293244, 'recall': 0.7716035799508836, 'f1': 0.7777334368141803, 'kappa': 0.7779421654337593}\n",
      "INFO:utils.ml:Metrics for classifier XGBClassifier13: {'accuracy': 0.8732283464566929, 'precision': 0.7754273929936303, 'recall': 0.7725552306508404, 'f1': 0.7738798957382964, 'kappa': 0.772042133240576}\n",
      "INFO:utils.ml:Metrics for classifier XGBClassifier14: {'accuracy': 0.8795275590551181, 'precision': 0.7963398472466027, 'recall': 0.7825972817397752, 'f1': 0.7889519655210373, 'kappa': 0.7824319785018475}\n",
      "INFO:utils.ml:Metrics for classifier XGBClassifier15: {'accuracy': 0.8834645669291339, 'precision': 0.798882483985543, 'recall': 0.7909867046167474, 'f1': 0.7947870530823605, 'kappa': 0.7897529742862384}\n",
      "INFO:utils.ml:Metrics for classifier XGBClassifier16: {'accuracy': 0.8771653543307086, 'precision': 0.7847932271293244, 'recall': 0.7716035799508836, 'f1': 0.7777334368141803, 'kappa': 0.7779421654337593}\n"
     ]
    },
    {
     "data": {
      "text/plain": [
       "                 accuracy  precision    recall        f1     kappa\n",
       "GT               1.000000   1.000000  1.000000  1.000000  1.000000\n",
       "XGBClassifier0   0.874016   0.782604  0.775035  0.778681  0.772614\n",
       "XGBClassifier1   0.874803   0.776714  0.773539  0.775043  0.774738\n",
       "XGBClassifier2   0.877165   0.791004  0.780589  0.785497  0.778322\n",
       "XGBClassifier3   0.881890   0.792800  0.790003  0.791377  0.787329\n",
       "XGBClassifier4   0.882677   0.796576  0.790673  0.793526  0.788556\n",
       "XGBClassifier5   0.874016   0.786193  0.769104  0.776935  0.771858\n",
       "XGBClassifier6   0.872441   0.774868  0.771886  0.773276  0.770580\n",
       "XGBClassifier7   0.878740   0.790615  0.781750  0.785969  0.781219\n",
       "XGBClassifier8   0.877165   0.790260  0.771781  0.780150  0.777595\n",
       "XGBClassifier9   0.873228   0.775427  0.772555  0.773880  0.772042\n",
       "XGBClassifier10  0.879528   0.796340  0.782597  0.788952  0.782432\n",
       "XGBClassifier11  0.883465   0.798882  0.790987  0.794787  0.789753\n",
       "XGBClassifier12  0.877165   0.784793  0.771604  0.777733  0.777942\n",
       "XGBClassifier13  0.873228   0.775427  0.772555  0.773880  0.772042\n",
       "XGBClassifier14  0.879528   0.796340  0.782597  0.788952  0.782432\n",
       "XGBClassifier15  0.883465   0.798882  0.790987  0.794787  0.789753\n",
       "XGBClassifier16  0.877165   0.784793  0.771604  0.777733  0.777942"
      ],
      "text/html": [
       "<div>\n",
       "<style scoped>\n",
       "    .dataframe tbody tr th:only-of-type {\n",
       "        vertical-align: middle;\n",
       "    }\n",
       "\n",
       "    .dataframe tbody tr th {\n",
       "        vertical-align: top;\n",
       "    }\n",
       "\n",
       "    .dataframe thead th {\n",
       "        text-align: right;\n",
       "    }\n",
       "</style>\n",
       "<table border=\"1\" class=\"dataframe\">\n",
       "  <thead>\n",
       "    <tr style=\"text-align: right;\">\n",
       "      <th></th>\n",
       "      <th>accuracy</th>\n",
       "      <th>precision</th>\n",
       "      <th>recall</th>\n",
       "      <th>f1</th>\n",
       "      <th>kappa</th>\n",
       "    </tr>\n",
       "  </thead>\n",
       "  <tbody>\n",
       "    <tr>\n",
       "      <th>GT</th>\n",
       "      <td>1.000000</td>\n",
       "      <td>1.000000</td>\n",
       "      <td>1.000000</td>\n",
       "      <td>1.000000</td>\n",
       "      <td>1.000000</td>\n",
       "    </tr>\n",
       "    <tr>\n",
       "      <th>XGBClassifier0</th>\n",
       "      <td>0.874016</td>\n",
       "      <td>0.782604</td>\n",
       "      <td>0.775035</td>\n",
       "      <td>0.778681</td>\n",
       "      <td>0.772614</td>\n",
       "    </tr>\n",
       "    <tr>\n",
       "      <th>XGBClassifier1</th>\n",
       "      <td>0.874803</td>\n",
       "      <td>0.776714</td>\n",
       "      <td>0.773539</td>\n",
       "      <td>0.775043</td>\n",
       "      <td>0.774738</td>\n",
       "    </tr>\n",
       "    <tr>\n",
       "      <th>XGBClassifier2</th>\n",
       "      <td>0.877165</td>\n",
       "      <td>0.791004</td>\n",
       "      <td>0.780589</td>\n",
       "      <td>0.785497</td>\n",
       "      <td>0.778322</td>\n",
       "    </tr>\n",
       "    <tr>\n",
       "      <th>XGBClassifier3</th>\n",
       "      <td>0.881890</td>\n",
       "      <td>0.792800</td>\n",
       "      <td>0.790003</td>\n",
       "      <td>0.791377</td>\n",
       "      <td>0.787329</td>\n",
       "    </tr>\n",
       "    <tr>\n",
       "      <th>XGBClassifier4</th>\n",
       "      <td>0.882677</td>\n",
       "      <td>0.796576</td>\n",
       "      <td>0.790673</td>\n",
       "      <td>0.793526</td>\n",
       "      <td>0.788556</td>\n",
       "    </tr>\n",
       "    <tr>\n",
       "      <th>XGBClassifier5</th>\n",
       "      <td>0.874016</td>\n",
       "      <td>0.786193</td>\n",
       "      <td>0.769104</td>\n",
       "      <td>0.776935</td>\n",
       "      <td>0.771858</td>\n",
       "    </tr>\n",
       "    <tr>\n",
       "      <th>XGBClassifier6</th>\n",
       "      <td>0.872441</td>\n",
       "      <td>0.774868</td>\n",
       "      <td>0.771886</td>\n",
       "      <td>0.773276</td>\n",
       "      <td>0.770580</td>\n",
       "    </tr>\n",
       "    <tr>\n",
       "      <th>XGBClassifier7</th>\n",
       "      <td>0.878740</td>\n",
       "      <td>0.790615</td>\n",
       "      <td>0.781750</td>\n",
       "      <td>0.785969</td>\n",
       "      <td>0.781219</td>\n",
       "    </tr>\n",
       "    <tr>\n",
       "      <th>XGBClassifier8</th>\n",
       "      <td>0.877165</td>\n",
       "      <td>0.790260</td>\n",
       "      <td>0.771781</td>\n",
       "      <td>0.780150</td>\n",
       "      <td>0.777595</td>\n",
       "    </tr>\n",
       "    <tr>\n",
       "      <th>XGBClassifier9</th>\n",
       "      <td>0.873228</td>\n",
       "      <td>0.775427</td>\n",
       "      <td>0.772555</td>\n",
       "      <td>0.773880</td>\n",
       "      <td>0.772042</td>\n",
       "    </tr>\n",
       "    <tr>\n",
       "      <th>XGBClassifier10</th>\n",
       "      <td>0.879528</td>\n",
       "      <td>0.796340</td>\n",
       "      <td>0.782597</td>\n",
       "      <td>0.788952</td>\n",
       "      <td>0.782432</td>\n",
       "    </tr>\n",
       "    <tr>\n",
       "      <th>XGBClassifier11</th>\n",
       "      <td>0.883465</td>\n",
       "      <td>0.798882</td>\n",
       "      <td>0.790987</td>\n",
       "      <td>0.794787</td>\n",
       "      <td>0.789753</td>\n",
       "    </tr>\n",
       "    <tr>\n",
       "      <th>XGBClassifier12</th>\n",
       "      <td>0.877165</td>\n",
       "      <td>0.784793</td>\n",
       "      <td>0.771604</td>\n",
       "      <td>0.777733</td>\n",
       "      <td>0.777942</td>\n",
       "    </tr>\n",
       "    <tr>\n",
       "      <th>XGBClassifier13</th>\n",
       "      <td>0.873228</td>\n",
       "      <td>0.775427</td>\n",
       "      <td>0.772555</td>\n",
       "      <td>0.773880</td>\n",
       "      <td>0.772042</td>\n",
       "    </tr>\n",
       "    <tr>\n",
       "      <th>XGBClassifier14</th>\n",
       "      <td>0.879528</td>\n",
       "      <td>0.796340</td>\n",
       "      <td>0.782597</td>\n",
       "      <td>0.788952</td>\n",
       "      <td>0.782432</td>\n",
       "    </tr>\n",
       "    <tr>\n",
       "      <th>XGBClassifier15</th>\n",
       "      <td>0.883465</td>\n",
       "      <td>0.798882</td>\n",
       "      <td>0.790987</td>\n",
       "      <td>0.794787</td>\n",
       "      <td>0.789753</td>\n",
       "    </tr>\n",
       "    <tr>\n",
       "      <th>XGBClassifier16</th>\n",
       "      <td>0.877165</td>\n",
       "      <td>0.784793</td>\n",
       "      <td>0.771604</td>\n",
       "      <td>0.777733</td>\n",
       "      <td>0.777942</td>\n",
       "    </tr>\n",
       "  </tbody>\n",
       "</table>\n",
       "</div>"
      ]
     },
     "execution_count": 40,
     "metadata": {},
     "output_type": "execute_result"
    }
   ],
   "execution_count": 40
  },
  {
   "metadata": {
    "ExecuteTime": {
     "end_time": "2024-11-03T21:27:48.458073Z",
     "start_time": "2024-11-03T21:27:48.447574Z"
    }
   },
   "cell_type": "code",
   "source": [
    "highest = df_smote[df_smote[\"kappa\"] == df_smote.iloc[1:][\"kappa\"].max()]\n",
    "idx = highest.index[0]\n",
    "\n",
    "confusion_matrix(pipeline.predictions[\"GT\"], pipeline.predictions[idx])"
   ],
   "id": "cdc894cce6a949f2",
   "outputs": [
    {
     "data": {
      "text/plain": [
       "array([[436,  36,  26],\n",
       "       [ 35, 633,  10],\n",
       "       [ 30,  11,  53]], dtype=int64)"
      ]
     },
     "execution_count": 41,
     "metadata": {},
     "output_type": "execute_result"
    }
   ],
   "execution_count": 41
  },
  {
   "metadata": {},
   "cell_type": "markdown",
   "source": [
    "___\n",
    "# Borderline SMOTE"
   ],
   "id": "1e752cdfc948f3bc"
  },
  {
   "metadata": {
    "ExecuteTime": {
     "end_time": "2024-11-03T21:27:48.879160Z",
     "start_time": "2024-11-03T21:27:48.563938Z"
    }
   },
   "cell_type": "code",
   "source": [
    "from imblearn.over_sampling import BorderlineSMOTE\n",
    "smote = BorderlineSMOTE(sampling_strategy='auto', random_state=42)\n",
    "\n",
    "pipeline.feature_matrix, pipeline.labels = smote.fit_resample(\n",
    "    np.nan_to_num(pipeline.backup_feature_matrix), pipeline.backup_labels)\n",
    "\n",
    "print(pipeline.backup_feature_matrix.shape)\n",
    "print(pipeline.feature_matrix.shape)\n",
    "\n",
    "print(pipeline.backup_labels.shape)\n",
    "print(pipeline.labels.shape)"
   ],
   "id": "ca12420fbcc1eb2b",
   "outputs": [
    {
     "name": "stdout",
     "output_type": "stream",
     "text": [
      "(5082, 519)\n",
      "(8139, 519)\n",
      "(5082,)\n",
      "(8139,)\n"
     ]
    }
   ],
   "execution_count": 42
  },
  {
   "metadata": {
    "ExecuteTime": {
     "end_time": "2024-11-03T21:51:22.002038Z",
     "start_time": "2024-11-03T21:27:48.917527Z"
    }
   },
   "cell_type": "code",
   "source": [
    "pipeline.fitted_classifiers = {}\n",
    "\n",
    "pipeline.fit_classifiers()"
   ],
   "id": "a4ea57f5e5a38f80",
   "outputs": [
    {
     "name": "stderr",
     "output_type": "stream",
     "text": [
      "INFO:utils.ml:Fitting classifiers...\n",
      "INFO:utils.ml:Fitting classifier: XGBClassifier0\n",
      "INFO:utils.ml:Top 10 features for XGBClassifier0: [('color_moments_rgb_B_iqr', 0.028127212), ('fft_radial_mean_113', 0.017429804), ('color_moments_lab_L_iqr', 0.016140258), ('color_moments_lab_B_var', 0.0091401655), ('lbp_rad1_bins8_4', 0.007685275), ('color_moments_rgb_G_entropy', 0.00721154), ('fft_radial_variance_28', 0.0070289066), ('fft_radial_variance_19', 0.006940012), ('color_moments_lab_A_iqr', 0.00673417), ('fft_radial_variance_10', 0.006557303)]\n",
      "INFO:utils.ml:Fitted classifier: XGBClassifier0; Done in 42.7605619430542 seconds\n",
      "INFO:utils.ml:Fitting classifier: XGBClassifier1\n",
      "INFO:utils.ml:Top 10 features for XGBClassifier1: [('color_moments_rgb_B_iqr', 0.02953613), ('fft_radial_variance_34', 0.02824795), ('fft_radial_mean_134', 0.013825244), ('color_moments_lab_L_iqr', 0.013313653), ('fft_radial_variance_89', 0.011321802), ('color_moments_lab_B_var', 0.010541675), ('lbp_rad4_bins32_8', 0.008393417), ('lbp_rad1_bins8_4', 0.008318016), ('color_moments_lab_B_std', 0.0075606857), ('color_moments_rgb_G_entropy', 0.0067199264)]\n",
      "INFO:utils.ml:Fitted classifier: XGBClassifier1; Done in 30.291134357452393 seconds\n",
      "INFO:utils.ml:Fitting classifier: XGBClassifier2\n",
      "INFO:utils.ml:Top 10 features for XGBClassifier2: [('fft_radial_mean_134', 0.034348555), ('color_moments_rgb_B_iqr', 0.025439993), ('color_moments_lab_L_iqr', 0.013942428), ('fft_radial_variance_34', 0.011763848), ('color_moments_lab_B_var', 0.011152168), ('lbp_rad1_bins8_4', 0.00909079), ('lbp_rad4_bins32_8', 0.008877516), ('fft_radial_mean_15', 0.0071103685), ('color_moments_lab_L_std', 0.0070092482), ('lbp_rad4_bins32_21', 0.006845738)]\n",
      "INFO:utils.ml:Fitted classifier: XGBClassifier2; Done in 30.886167287826538 seconds\n",
      "INFO:utils.ml:Fitting classifier: XGBClassifier3\n",
      "INFO:utils.ml:Top 10 features for XGBClassifier3: [('color_moments_rgb_B_iqr', 0.030317266), ('color_moments_lab_L_iqr', 0.016687008), ('fft_radial_mean_134', 0.015294668), ('color_moments_lab_B_var', 0.010297023), ('lbp_rad1_bins8_4', 0.008498985), ('fft_radial_variance_45', 0.007976834), ('fft_radial_mean_36', 0.007369475), ('color_moments_lab_A_iqr', 0.006883968), ('fft_radial_variance_59', 0.0068611517), ('lbp_rad4_bins32_21', 0.006563112)]\n",
      "INFO:utils.ml:Fitted classifier: XGBClassifier3; Done in 46.424171686172485 seconds\n",
      "INFO:utils.ml:Fitting classifier: XGBClassifier4\n",
      "INFO:utils.ml:Top 10 features for XGBClassifier4: [('color_moments_rgb_B_iqr', 0.030002419), ('fft_radial_mean_134', 0.016608465), ('color_moments_lab_L_iqr', 0.016570391), ('color_moments_lab_B_var', 0.010604914), ('fft_radial_variance_45', 0.008662037), ('lbp_rad1_bins8_4', 0.008548167), ('fft_radial_variance_59', 0.007450518), ('fft_radial_mean_36', 0.006865231), ('color_moments_lab_A_iqr', 0.006812472), ('fft_radial_mean_120', 0.0066712857)]\n",
      "INFO:utils.ml:Fitted classifier: XGBClassifier4; Done in 57.62658143043518 seconds\n",
      "INFO:utils.ml:Fitting classifier: XGBClassifier5\n",
      "INFO:utils.ml:Top 10 features for XGBClassifier5: [('color_moments_rgb_B_iqr', 0.029166875), ('color_moments_lab_L_iqr', 0.016729256), ('color_moments_lab_B_var', 0.009086886), ('lbp_rad1_bins8_4', 0.007864411), ('fft_radial_variance_32', 0.0072070356), ('fft_radial_mean_113', 0.0071945367), ('fft_radial_variance_10', 0.007079437), ('lbp_rad4_bins32_21', 0.0069967853), ('color_moments_rgb_G_entropy', 0.006921097), ('fft_radial_variance_19', 0.0068517937)]\n",
      "INFO:utils.ml:Fitted classifier: XGBClassifier5; Done in 69.37279748916626 seconds\n",
      "INFO:utils.ml:Fitting classifier: XGBClassifier6\n",
      "INFO:utils.ml:Top 10 features for XGBClassifier6: [('fft_radial_variance_34', 0.030511992), ('color_moments_rgb_B_iqr', 0.029593637), ('fft_radial_mean_134', 0.0149333235), ('color_moments_lab_L_iqr', 0.013626707), ('fft_radial_variance_89', 0.012229232), ('color_moments_lab_B_var', 0.01033704), ('lbp_rad4_bins32_8', 0.008436986), ('lbp_rad1_bins8_4', 0.008032898), ('color_moments_lab_B_std', 0.0073174476), ('fft_radial_variance_28', 0.007022792)]\n",
      "INFO:utils.ml:Fitted classifier: XGBClassifier6; Done in 38.34586548805237 seconds\n",
      "INFO:utils.ml:Fitting classifier: XGBClassifier7\n",
      "INFO:utils.ml:Top 10 features for XGBClassifier7: [('color_moments_rgb_B_iqr', 0.027390357), ('fft_radial_mean_134', 0.026981207), ('color_moments_lab_L_iqr', 0.013361165), ('color_moments_lab_B_var', 0.011116356), ('lbp_rad4_bins32_8', 0.009310788), ('fft_radial_variance_34', 0.009275648), ('lbp_rad1_bins8_4', 0.009158813), ('fft_radial_variance_29', 0.008472814), ('color_moments_lab_L_std', 0.0073562544), ('fft_radial_mean_107', 0.007340163)]\n",
      "INFO:utils.ml:Fitted classifier: XGBClassifier7; Done in 85.97598958015442 seconds\n",
      "INFO:utils.ml:Fitting classifier: XGBClassifier8\n",
      "INFO:utils.ml:Top 10 features for XGBClassifier8: [('color_moments_rgb_B_iqr', 0.028633917), ('color_moments_lab_L_iqr', 0.017050687), ('color_moments_lab_B_var', 0.009119113), ('fft_radial_variance_32', 0.0077482616), ('fft_radial_mean_113', 0.007734824), ('lbp_rad1_bins8_4', 0.007697259), ('fft_radial_mean_75', 0.0073427632), ('fft_radial_variance_10', 0.0073081558), ('fft_radial_variance_113', 0.007230916), ('lbp_rad4_bins32_21', 0.006918115)]\n",
      "INFO:utils.ml:Fitted classifier: XGBClassifier8; Done in 129.3153748512268 seconds\n",
      "INFO:utils.ml:Fitting classifier: XGBClassifier9\n",
      "INFO:utils.ml:Top 10 features for XGBClassifier9: [('fft_radial_variance_34', 0.030913625), ('color_moments_rgb_B_iqr', 0.029767485), ('color_moments_lab_L_iqr', 0.013806077), ('fft_radial_variance_89', 0.012390207), ('color_moments_lab_B_var', 0.01041295), ('fft_radial_mean_134', 0.010157269), ('lbp_rad4_bins32_8', 0.008355327), ('lbp_rad1_bins8_4', 0.008138636), ('color_moments_lab_B_std', 0.007368529), ('fft_radial_variance_28', 0.007115234)]\n",
      "INFO:utils.ml:Fitted classifier: XGBClassifier9; Done in 69.57837915420532 seconds\n",
      "INFO:utils.ml:Fitting classifier: XGBClassifier10\n",
      "INFO:utils.ml:Top 10 features for XGBClassifier10: [('fft_radial_mean_134', 0.031379037), ('color_moments_rgb_B_iqr', 0.027237158), ('color_moments_lab_L_iqr', 0.013066846), ('color_moments_lab_B_var', 0.010806356), ('lbp_rad4_bins32_8', 0.009698374), ('fft_radial_variance_34', 0.009249261), ('lbp_rad1_bins8_4', 0.00897688), ('fft_radial_mean_107', 0.00853658), ('fft_radial_variance_29', 0.0082142325), ('color_moments_lab_L_std', 0.007416516)]\n",
      "INFO:utils.ml:Fitted classifier: XGBClassifier10; Done in 112.24523544311523 seconds\n",
      "INFO:utils.ml:Fitting classifier: XGBClassifier11\n",
      "INFO:utils.ml:Top 10 features for XGBClassifier11: [('color_moments_rgb_B_iqr', 0.03150495), ('color_moments_lab_L_iqr', 0.016013773), ('fft_radial_mean_134', 0.01345402), ('color_moments_lab_B_var', 0.010422032), ('fft_radial_variance_59', 0.009049676), ('lbp_rad1_bins8_4', 0.008480553), ('lbp_rad4_bins32_21', 0.007708642), ('fft_radial_variance_51', 0.0076669888), ('fft_radial_variance_29', 0.0069652074), ('color_moments_lab_A_iqr', 0.006922296)]\n",
      "INFO:utils.ml:Fitted classifier: XGBClassifier11; Done in 135.75186967849731 seconds\n",
      "INFO:utils.ml:Fitting classifier: XGBClassifier12\n",
      "INFO:utils.ml:Top 10 features for XGBClassifier12: [('color_moments_rgb_B_iqr', 0.031358726), ('fft_radial_variance_72', 0.021415837), ('fft_radial_mean_134', 0.016653014), ('color_moments_lab_L_iqr', 0.015204006), ('fft_radial_variance_49', 0.011609416), ('fft_radial_variance_22', 0.01147665), ('color_moments_lab_B_var', 0.009327633), ('fft_radial_variance_28', 0.00928177), ('fft_radial_variance_59', 0.00824665), ('lbp_rad1_bins8_4', 0.007812632)]\n",
      "INFO:utils.ml:Fitted classifier: XGBClassifier12; Done in 154.1715350151062 seconds\n",
      "INFO:utils.ml:Fitting classifier: XGBClassifier13\n",
      "INFO:utils.ml:Top 10 features for XGBClassifier13: [('fft_radial_variance_34', 0.030913625), ('color_moments_rgb_B_iqr', 0.029767485), ('color_moments_lab_L_iqr', 0.013806077), ('fft_radial_variance_89', 0.012390207), ('color_moments_lab_B_var', 0.01041295), ('fft_radial_mean_134', 0.010157269), ('lbp_rad4_bins32_8', 0.008355327), ('lbp_rad1_bins8_4', 0.008138636), ('color_moments_lab_B_std', 0.007368529), ('fft_radial_variance_28', 0.007115234)]\n",
      "INFO:utils.ml:Fitted classifier: XGBClassifier13; Done in 64.86823630332947 seconds\n",
      "INFO:utils.ml:Fitting classifier: XGBClassifier14\n",
      "INFO:utils.ml:Top 10 features for XGBClassifier14: [('fft_radial_mean_134', 0.031379037), ('color_moments_rgb_B_iqr', 0.027237158), ('color_moments_lab_L_iqr', 0.013066846), ('color_moments_lab_B_var', 0.010806356), ('lbp_rad4_bins32_8', 0.009698374), ('fft_radial_variance_34', 0.009249261), ('lbp_rad1_bins8_4', 0.00897688), ('fft_radial_mean_107', 0.00853658), ('fft_radial_variance_29', 0.0082142325), ('color_moments_lab_L_std', 0.007416516)]\n",
      "INFO:utils.ml:Fitted classifier: XGBClassifier14; Done in 116.02513074874878 seconds\n",
      "INFO:utils.ml:Fitting classifier: XGBClassifier15\n",
      "INFO:utils.ml:Top 10 features for XGBClassifier15: [('color_moments_rgb_B_iqr', 0.03150495), ('color_moments_lab_L_iqr', 0.016013773), ('fft_radial_mean_134', 0.01345402), ('color_moments_lab_B_var', 0.010422032), ('fft_radial_variance_59', 0.009049676), ('lbp_rad1_bins8_4', 0.008480553), ('lbp_rad4_bins32_21', 0.007708642), ('fft_radial_variance_51', 0.0076669888), ('fft_radial_variance_29', 0.0069652074), ('color_moments_lab_A_iqr', 0.006922296)]\n",
      "INFO:utils.ml:Fitted classifier: XGBClassifier15; Done in 121.21125197410583 seconds\n",
      "INFO:utils.ml:Fitting classifier: XGBClassifier16\n",
      "INFO:utils.ml:Top 10 features for XGBClassifier16: [('color_moments_rgb_B_iqr', 0.031358726), ('fft_radial_variance_72', 0.021415837), ('fft_radial_mean_134', 0.016653014), ('color_moments_lab_L_iqr', 0.015204006), ('fft_radial_variance_49', 0.011609416), ('fft_radial_variance_22', 0.01147665), ('color_moments_lab_B_var', 0.009327633), ('fft_radial_variance_28', 0.00928177), ('fft_radial_variance_59', 0.00824665), ('lbp_rad1_bins8_4', 0.007812632)]\n",
      "INFO:utils.ml:Fitted classifier: XGBClassifier16; Done in 108.20749735832214 seconds\n",
      "INFO:utils.ml:Fitting completed in 1413.07 seconds.\n"
     ]
    }
   ],
   "execution_count": 43
  },
  {
   "metadata": {
    "ExecuteTime": {
     "end_time": "2024-11-03T21:56:18.270002Z",
     "start_time": "2024-11-03T21:51:22.156962Z"
    }
   },
   "cell_type": "code",
   "source": "pipeline.predict_with_classifiers(VAL_PATH, percent)",
   "id": "156c56b343fa5df1",
   "outputs": [
    {
     "name": "stderr",
     "output_type": "stream",
     "text": [
      "INFO:utils.ml:Predicting with classifiers on dataset: C:\\Users\\gimes\\Src\\repos\\CADx-Project\\dataset\\multiclass\\val\n"
     ]
    },
    {
     "name": "stdout",
     "output_type": "stream",
     "text": [
      "Processed 5/53 batches.\n",
      "Processed 10/53 batches.\n",
      "Processed 15/53 batches.\n",
      "Processed 20/53 batches.\n",
      "Processed 25/53 batches.\n",
      "Processed 30/53 batches.\n",
      "Processed 35/53 batches.\n",
      "Processed 40/53 batches.\n",
      "Processed 45/53 batches.\n",
      "Processed 50/53 batches.\n"
     ]
    },
    {
     "name": "stderr",
     "output_type": "stream",
     "text": [
      "INFO:utils.ml:Predictions made with classifier: XGBClassifier0\n",
      "INFO:utils.ml:Predictions made with classifier: XGBClassifier1\n",
      "INFO:utils.ml:Predictions made with classifier: XGBClassifier2\n",
      "INFO:utils.ml:Predictions made with classifier: XGBClassifier3\n",
      "INFO:utils.ml:Predictions made with classifier: XGBClassifier4\n",
      "INFO:utils.ml:Predictions made with classifier: XGBClassifier5\n",
      "INFO:utils.ml:Predictions made with classifier: XGBClassifier6\n",
      "INFO:utils.ml:Predictions made with classifier: XGBClassifier7\n",
      "INFO:utils.ml:Predictions made with classifier: XGBClassifier8\n",
      "INFO:utils.ml:Predictions made with classifier: XGBClassifier9\n",
      "INFO:utils.ml:Predictions made with classifier: XGBClassifier10\n",
      "INFO:utils.ml:Predictions made with classifier: XGBClassifier11\n"
     ]
    },
    {
     "name": "stdout",
     "output_type": "stream",
     "text": [
      "Processed 53/53 batches.\n"
     ]
    },
    {
     "name": "stderr",
     "output_type": "stream",
     "text": [
      "INFO:utils.ml:Predictions made with classifier: XGBClassifier12\n",
      "INFO:utils.ml:Predictions made with classifier: XGBClassifier13\n",
      "INFO:utils.ml:Predictions made with classifier: XGBClassifier14\n",
      "INFO:utils.ml:Predictions made with classifier: XGBClassifier15\n",
      "INFO:utils.ml:Predictions made with classifier: XGBClassifier16\n"
     ]
    },
    {
     "data": {
      "text/plain": [
       "{'GT': array([0, 0, 0, ..., 2, 2, 2]),\n",
       " 'XGBClassifier0': array([0, 0, 0, ..., 0, 2, 0], dtype=int64),\n",
       " 'XGBClassifier1': array([0, 0, 2, ..., 0, 2, 2], dtype=int64),\n",
       " 'XGBClassifier2': array([0, 0, 2, ..., 0, 2, 0], dtype=int64),\n",
       " 'XGBClassifier3': array([0, 0, 2, ..., 1, 2, 2], dtype=int64),\n",
       " 'XGBClassifier4': array([0, 0, 2, ..., 1, 2, 0], dtype=int64),\n",
       " 'XGBClassifier5': array([0, 0, 0, ..., 0, 2, 0], dtype=int64),\n",
       " 'XGBClassifier6': array([0, 0, 2, ..., 0, 2, 2], dtype=int64),\n",
       " 'XGBClassifier7': array([0, 0, 0, ..., 0, 2, 0], dtype=int64),\n",
       " 'XGBClassifier8': array([0, 0, 0, ..., 0, 2, 0], dtype=int64),\n",
       " 'XGBClassifier9': array([0, 0, 2, ..., 0, 2, 2], dtype=int64),\n",
       " 'XGBClassifier10': array([0, 0, 0, ..., 0, 2, 0], dtype=int64),\n",
       " 'XGBClassifier11': array([0, 0, 0, ..., 1, 2, 0], dtype=int64),\n",
       " 'XGBClassifier12': array([0, 0, 2, ..., 1, 2, 0], dtype=int64),\n",
       " 'XGBClassifier13': array([0, 0, 2, ..., 0, 2, 2], dtype=int64),\n",
       " 'XGBClassifier14': array([0, 0, 0, ..., 0, 2, 0], dtype=int64),\n",
       " 'XGBClassifier15': array([0, 0, 0, ..., 1, 2, 0], dtype=int64),\n",
       " 'XGBClassifier16': array([0, 0, 2, ..., 1, 2, 0], dtype=int64)}"
      ]
     },
     "execution_count": 44,
     "metadata": {},
     "output_type": "execute_result"
    }
   ],
   "execution_count": 44
  },
  {
   "metadata": {
    "ExecuteTime": {
     "end_time": "2024-11-03T21:56:18.571867Z",
     "start_time": "2024-11-03T21:56:18.308067Z"
    }
   },
   "cell_type": "code",
   "source": [
    "borderline_smote_classifiers = pipeline.fitted_classifiers.copy()\n",
    "borderline_smote_predictions = pipeline.predictions.copy()\n",
    "\n",
    "df_borderline_smote = pd.DataFrame(data=pipeline.calculate_metrics(\n",
    "    [\"accuracy\", \"precision\", \"recall\", \"f1\", \"kappa\"],))\n",
    "df_borderline_smote = df_borderline_smote.T\n",
    "df_borderline_smote"
   ],
   "id": "dec33139485e5176",
   "outputs": [
    {
     "name": "stderr",
     "output_type": "stream",
     "text": [
      "INFO:utils.ml:Metrics for classifier GT: {'accuracy': 1.0, 'precision': 1.0, 'recall': 1.0, 'f1': 1.0, 'kappa': 1.0}\n",
      "INFO:utils.ml:Metrics for classifier XGBClassifier0: {'accuracy': 0.8724409448818897, 'precision': 0.7903603005553631, 'recall': 0.7738741320645666, 'f1': 0.7815106787484595, 'kappa': 0.7690172849707426}\n",
      "INFO:utils.ml:Metrics for classifier XGBClassifier1: {'accuracy': 0.8811023622047244, 'precision': 0.7984370342740252, 'recall': 0.7963315006085977, 'f1': 0.797321788084972, 'kappa': 0.7862114942118688}\n",
      "INFO:utils.ml:Metrics for classifier XGBClassifier2: {'accuracy': 0.8724409448818897, 'precision': 0.7826752521876253, 'recall': 0.7745849398976689, 'f1': 0.7783923211474395, 'kappa': 0.7700848855453192}\n",
      "INFO:utils.ml:Metrics for classifier XGBClassifier3: {'accuracy': 0.8811023622047244, 'precision': 0.8013503981478377, 'recall': 0.7871681289899447, 'f1': 0.7937394440861342, 'kappa': 0.785232719616539}\n",
      "INFO:utils.ml:Metrics for classifier XGBClassifier4: {'accuracy': 0.8803149606299212, 'precision': 0.8003176022659634, 'recall': 0.7893755401950487, 'f1': 0.7945355246293103, 'kappa': 0.7840058720326543}\n",
      "INFO:utils.ml:Metrics for classifier XGBClassifier5: {'accuracy': 0.8740157480314961, 'precision': 0.794666186801661, 'recall': 0.7782672773564602, 'f1': 0.785850636084684, 'kappa': 0.772053181608102}\n",
      "INFO:utils.ml:Metrics for classifier XGBClassifier6: {'accuracy': 0.8818897637795275, 'precision': 0.8006609800852734, 'recall': 0.7968231426931601, 'f1': 0.7986527970198961, 'kappa': 0.7874889561189794}\n",
      "INFO:utils.ml:Metrics for classifier XGBClassifier7: {'accuracy': 0.8795275590551181, 'precision': 0.794532509021827, 'recall': 0.7827749836980508, 'f1': 0.7882361228515075, 'kappa': 0.7826179374043478}\n",
      "INFO:utils.ml:Metrics for classifier XGBClassifier8: {'accuracy': 0.8732283464566929, 'precision': 0.7946959200168443, 'recall': 0.7748988800239558, 'f1': 0.7838965641004735, 'kappa': 0.7703740139794799}\n",
      "INFO:utils.ml:Metrics for classifier XGBClassifier9: {'accuracy': 0.8826771653543307, 'precision': 0.8012644406875177, 'recall': 0.7973147847777226, 'f1': 0.7992079641830886, 'kappa': 0.7888633006190279}\n",
      "INFO:utils.ml:Metrics for classifier XGBClassifier10: {'accuracy': 0.8779527559055118, 'precision': 0.7952505446623094, 'recall': 0.7816139975706503, 'f1': 0.7879083875302705, 'kappa': 0.7796323661114097}\n",
      "INFO:utils.ml:Metrics for classifier XGBClassifier11: {'accuracy': 0.8826771653543307, 'precision': 0.8024989344183225, 'recall': 0.788329115117345, 'f1': 0.7948941395297089, 'kappa': 0.7880773193567173}\n",
      "INFO:utils.ml:Metrics for classifier XGBClassifier12: {'accuracy': 0.8779527559055118, 'precision': 0.8046046357215344, 'recall': 0.7782041364478816, 'f1': 0.7899203634246829, 'kappa': 0.7784059184812954}\n",
      "INFO:utils.ml:Metrics for classifier XGBClassifier13: {'accuracy': 0.8826771653543307, 'precision': 0.8012644406875177, 'recall': 0.7973147847777226, 'f1': 0.7992079641830886, 'kappa': 0.7888633006190279}\n",
      "INFO:utils.ml:Metrics for classifier XGBClassifier14: {'accuracy': 0.8779527559055118, 'precision': 0.7952505446623094, 'recall': 0.7816139975706503, 'f1': 0.7879083875302705, 'kappa': 0.7796323661114097}\n",
      "INFO:utils.ml:Metrics for classifier XGBClassifier15: {'accuracy': 0.8826771653543307, 'precision': 0.8024989344183225, 'recall': 0.788329115117345, 'f1': 0.7948941395297089, 'kappa': 0.7880773193567173}\n",
      "INFO:utils.ml:Metrics for classifier XGBClassifier16: {'accuracy': 0.8779527559055118, 'precision': 0.8046046357215344, 'recall': 0.7782041364478816, 'f1': 0.7899203634246829, 'kappa': 0.7784059184812954}\n"
     ]
    },
    {
     "data": {
      "text/plain": [
       "                 accuracy  precision    recall        f1     kappa\n",
       "GT               1.000000   1.000000  1.000000  1.000000  1.000000\n",
       "XGBClassifier0   0.872441   0.790360  0.773874  0.781511  0.769017\n",
       "XGBClassifier1   0.881102   0.798437  0.796332  0.797322  0.786211\n",
       "XGBClassifier2   0.872441   0.782675  0.774585  0.778392  0.770085\n",
       "XGBClassifier3   0.881102   0.801350  0.787168  0.793739  0.785233\n",
       "XGBClassifier4   0.880315   0.800318  0.789376  0.794536  0.784006\n",
       "XGBClassifier5   0.874016   0.794666  0.778267  0.785851  0.772053\n",
       "XGBClassifier6   0.881890   0.800661  0.796823  0.798653  0.787489\n",
       "XGBClassifier7   0.879528   0.794533  0.782775  0.788236  0.782618\n",
       "XGBClassifier8   0.873228   0.794696  0.774899  0.783897  0.770374\n",
       "XGBClassifier9   0.882677   0.801264  0.797315  0.799208  0.788863\n",
       "XGBClassifier10  0.877953   0.795251  0.781614  0.787908  0.779632\n",
       "XGBClassifier11  0.882677   0.802499  0.788329  0.794894  0.788077\n",
       "XGBClassifier12  0.877953   0.804605  0.778204  0.789920  0.778406\n",
       "XGBClassifier13  0.882677   0.801264  0.797315  0.799208  0.788863\n",
       "XGBClassifier14  0.877953   0.795251  0.781614  0.787908  0.779632\n",
       "XGBClassifier15  0.882677   0.802499  0.788329  0.794894  0.788077\n",
       "XGBClassifier16  0.877953   0.804605  0.778204  0.789920  0.778406"
      ],
      "text/html": [
       "<div>\n",
       "<style scoped>\n",
       "    .dataframe tbody tr th:only-of-type {\n",
       "        vertical-align: middle;\n",
       "    }\n",
       "\n",
       "    .dataframe tbody tr th {\n",
       "        vertical-align: top;\n",
       "    }\n",
       "\n",
       "    .dataframe thead th {\n",
       "        text-align: right;\n",
       "    }\n",
       "</style>\n",
       "<table border=\"1\" class=\"dataframe\">\n",
       "  <thead>\n",
       "    <tr style=\"text-align: right;\">\n",
       "      <th></th>\n",
       "      <th>accuracy</th>\n",
       "      <th>precision</th>\n",
       "      <th>recall</th>\n",
       "      <th>f1</th>\n",
       "      <th>kappa</th>\n",
       "    </tr>\n",
       "  </thead>\n",
       "  <tbody>\n",
       "    <tr>\n",
       "      <th>GT</th>\n",
       "      <td>1.000000</td>\n",
       "      <td>1.000000</td>\n",
       "      <td>1.000000</td>\n",
       "      <td>1.000000</td>\n",
       "      <td>1.000000</td>\n",
       "    </tr>\n",
       "    <tr>\n",
       "      <th>XGBClassifier0</th>\n",
       "      <td>0.872441</td>\n",
       "      <td>0.790360</td>\n",
       "      <td>0.773874</td>\n",
       "      <td>0.781511</td>\n",
       "      <td>0.769017</td>\n",
       "    </tr>\n",
       "    <tr>\n",
       "      <th>XGBClassifier1</th>\n",
       "      <td>0.881102</td>\n",
       "      <td>0.798437</td>\n",
       "      <td>0.796332</td>\n",
       "      <td>0.797322</td>\n",
       "      <td>0.786211</td>\n",
       "    </tr>\n",
       "    <tr>\n",
       "      <th>XGBClassifier2</th>\n",
       "      <td>0.872441</td>\n",
       "      <td>0.782675</td>\n",
       "      <td>0.774585</td>\n",
       "      <td>0.778392</td>\n",
       "      <td>0.770085</td>\n",
       "    </tr>\n",
       "    <tr>\n",
       "      <th>XGBClassifier3</th>\n",
       "      <td>0.881102</td>\n",
       "      <td>0.801350</td>\n",
       "      <td>0.787168</td>\n",
       "      <td>0.793739</td>\n",
       "      <td>0.785233</td>\n",
       "    </tr>\n",
       "    <tr>\n",
       "      <th>XGBClassifier4</th>\n",
       "      <td>0.880315</td>\n",
       "      <td>0.800318</td>\n",
       "      <td>0.789376</td>\n",
       "      <td>0.794536</td>\n",
       "      <td>0.784006</td>\n",
       "    </tr>\n",
       "    <tr>\n",
       "      <th>XGBClassifier5</th>\n",
       "      <td>0.874016</td>\n",
       "      <td>0.794666</td>\n",
       "      <td>0.778267</td>\n",
       "      <td>0.785851</td>\n",
       "      <td>0.772053</td>\n",
       "    </tr>\n",
       "    <tr>\n",
       "      <th>XGBClassifier6</th>\n",
       "      <td>0.881890</td>\n",
       "      <td>0.800661</td>\n",
       "      <td>0.796823</td>\n",
       "      <td>0.798653</td>\n",
       "      <td>0.787489</td>\n",
       "    </tr>\n",
       "    <tr>\n",
       "      <th>XGBClassifier7</th>\n",
       "      <td>0.879528</td>\n",
       "      <td>0.794533</td>\n",
       "      <td>0.782775</td>\n",
       "      <td>0.788236</td>\n",
       "      <td>0.782618</td>\n",
       "    </tr>\n",
       "    <tr>\n",
       "      <th>XGBClassifier8</th>\n",
       "      <td>0.873228</td>\n",
       "      <td>0.794696</td>\n",
       "      <td>0.774899</td>\n",
       "      <td>0.783897</td>\n",
       "      <td>0.770374</td>\n",
       "    </tr>\n",
       "    <tr>\n",
       "      <th>XGBClassifier9</th>\n",
       "      <td>0.882677</td>\n",
       "      <td>0.801264</td>\n",
       "      <td>0.797315</td>\n",
       "      <td>0.799208</td>\n",
       "      <td>0.788863</td>\n",
       "    </tr>\n",
       "    <tr>\n",
       "      <th>XGBClassifier10</th>\n",
       "      <td>0.877953</td>\n",
       "      <td>0.795251</td>\n",
       "      <td>0.781614</td>\n",
       "      <td>0.787908</td>\n",
       "      <td>0.779632</td>\n",
       "    </tr>\n",
       "    <tr>\n",
       "      <th>XGBClassifier11</th>\n",
       "      <td>0.882677</td>\n",
       "      <td>0.802499</td>\n",
       "      <td>0.788329</td>\n",
       "      <td>0.794894</td>\n",
       "      <td>0.788077</td>\n",
       "    </tr>\n",
       "    <tr>\n",
       "      <th>XGBClassifier12</th>\n",
       "      <td>0.877953</td>\n",
       "      <td>0.804605</td>\n",
       "      <td>0.778204</td>\n",
       "      <td>0.789920</td>\n",
       "      <td>0.778406</td>\n",
       "    </tr>\n",
       "    <tr>\n",
       "      <th>XGBClassifier13</th>\n",
       "      <td>0.882677</td>\n",
       "      <td>0.801264</td>\n",
       "      <td>0.797315</td>\n",
       "      <td>0.799208</td>\n",
       "      <td>0.788863</td>\n",
       "    </tr>\n",
       "    <tr>\n",
       "      <th>XGBClassifier14</th>\n",
       "      <td>0.877953</td>\n",
       "      <td>0.795251</td>\n",
       "      <td>0.781614</td>\n",
       "      <td>0.787908</td>\n",
       "      <td>0.779632</td>\n",
       "    </tr>\n",
       "    <tr>\n",
       "      <th>XGBClassifier15</th>\n",
       "      <td>0.882677</td>\n",
       "      <td>0.802499</td>\n",
       "      <td>0.788329</td>\n",
       "      <td>0.794894</td>\n",
       "      <td>0.788077</td>\n",
       "    </tr>\n",
       "    <tr>\n",
       "      <th>XGBClassifier16</th>\n",
       "      <td>0.877953</td>\n",
       "      <td>0.804605</td>\n",
       "      <td>0.778204</td>\n",
       "      <td>0.789920</td>\n",
       "      <td>0.778406</td>\n",
       "    </tr>\n",
       "  </tbody>\n",
       "</table>\n",
       "</div>"
      ]
     },
     "execution_count": 45,
     "metadata": {},
     "output_type": "execute_result"
    }
   ],
   "execution_count": 45
  },
  {
   "metadata": {
    "ExecuteTime": {
     "end_time": "2024-11-03T20:47:54.142687Z",
     "start_time": "2024-11-03T20:47:54.134929Z"
    }
   },
   "cell_type": "code",
   "source": [
    "highest = df_borderline_smote[df_borderline_smote[\"kappa\"] == df_borderline_smote.iloc[1:][\"kappa\"].max()]\n",
    "idx = highest.index[0]\n",
    "\n",
    "confusion_matrix(pipeline.predictions[\"GT\"], pipeline.predictions[idx])"
   ],
   "id": "5e3d245571ac5c69",
   "outputs": [
    {
     "data": {
      "text/plain": [
       "array([[440,  33,  25],\n",
       "       [ 41, 626,  11],\n",
       "       [ 26,  13,  55]], dtype=int64)"
      ]
     },
     "execution_count": 21,
     "metadata": {},
     "output_type": "execute_result"
    }
   ],
   "execution_count": 21
  },
  {
   "metadata": {},
   "cell_type": "code",
   "outputs": [],
   "execution_count": null,
   "source": "",
   "id": "46355029bf35871f"
  }
 ],
 "metadata": {
  "kernelspec": {
   "display_name": "Python 3",
   "language": "python",
   "name": "python3"
  },
  "language_info": {
   "codemirror_mode": {
    "name": "ipython",
    "version": 2
   },
   "file_extension": ".py",
   "mimetype": "text/x-python",
   "name": "python",
   "nbconvert_exporter": "python",
   "pygments_lexer": "ipython2",
   "version": "2.7.6"
  }
 },
 "nbformat": 4,
 "nbformat_minor": 5
}

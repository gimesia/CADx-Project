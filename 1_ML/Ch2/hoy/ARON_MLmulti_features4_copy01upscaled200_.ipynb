{
 "cells": [
  {
   "cell_type": "code",
   "id": "initial_id",
   "metadata": {
    "collapsed": true,
    "ExecuteTime": {
     "end_time": "2024-11-03T14:07:29.066110Z",
     "start_time": "2024-11-03T14:07:29.053768Z"
    }
   },
   "source": [
    "import numpy as np\n",
    "from sklearn.metrics import confusion_matrix, recall_score, cohen_kappa_score\n",
    "\n",
    "from utils.loader import FactoryLoader\n",
    "from utils.ml import MLPipeline\n",
    "from utils.preprocessing import PreprocessingFactory\n",
    "from utils.feature_extraction import *\n",
    "from utils.utils import *\n",
    "\n",
    "VAL_PATH = r\"C:\\Users\\gimes\\Src\\repos\\CADx-Project\\dataset\\multiclass\\val\"\n",
    "TRAIN_PATH = r\"C:\\Users\\gimes\\Src\\repos\\CADx-Project\\dataset\\multiclass\\train\""
   ],
   "outputs": [],
   "execution_count": 32
  },
  {
   "metadata": {
    "ExecuteTime": {
     "end_time": "2024-11-03T14:07:29.133552Z",
     "start_time": "2024-11-03T14:07:29.109106Z"
    }
   },
   "cell_type": "code",
   "source": [
    "percent = 100\n",
    "random = False\n",
    "batch_size = 24\n",
    "th = 0.1\n",
    "\n",
    "# Initialize the FactoryLoader\n",
    "factory = PreprocessingFactory()\n",
    "factory.pad2square(fill=np.nan)\n",
    "factory.resize((200,200))\n",
    "factory.normalize2float()\n",
    "\n",
    "# Create the feature extraction pipeline strategy and add desired features\n",
    "strategy = FeatureExtractionStrategy()\n",
    "\n",
    "strategy.add_extractor(GradientExtractor(threshold=th)) # Add gradient feature\n",
    "\n",
    "strategy.add_extractor(ColorMomentsExtractor(\"rgb\", threshold=th))   # Add color moments feature\n",
    "strategy.add_extractor(ColorMomentsExtractor(\"lab\", threshold=th))   # Add color moments feature\n",
    "strategy.add_extractor(ColorMomentsExtractor(\"hsv\", threshold=th))   # Add color moments feature\n",
    "\n",
    "strategy.add_extractor(LBPExtractor(radius=1, n_points=8))\n",
    "strategy.add_extractor(LBPExtractor(radius=2, n_points=16))\n",
    "strategy.add_extractor(LBPExtractor(radius=3, n_points=24))\n",
    "strategy.add_extractor(LBPExtractor(radius=4, n_points=32))\n",
    "strategy.add_extractor(LBPExtractor(radius=5, n_points=40))\n",
    "\n",
    "strategy.add_extractor(FourierTransformExtractor())\n",
    "strategy.add_extractor(FFTExtractor())\n",
    "\n",
    "strategy.add_extractor(GLCMExtractor(properties=['contrast', 'dissimilarity', 'homogeneity', 'energy', 'correlation', 'ASM']))\n",
    "\n",
    "pipeline = MLPipeline(dataset_path=TRAIN_PATH, preprocessing_factory=factory, feature_strategy=strategy, classifiers=[], percentage=percent, verbose=True, shuffle=random, batch_size=batch_size)"
   ],
   "id": "d7c81ba220d9e517",
   "outputs": [
    {
     "name": "stderr",
     "output_type": "stream",
     "text": [
      "INFO:utils.ml:MLPipeline initialized with dataset path: C:\\Users\\gimes\\Src\\repos\\CADx-Project\\dataset\\multiclass\\train\n",
      "INFO:utils.ml:Preprocessing steps\n"
     ]
    }
   ],
   "execution_count": 33
  },
  {
   "metadata": {
    "ExecuteTime": {
     "end_time": "2024-11-03T14:16:37.852109Z",
     "start_time": "2024-11-03T14:07:29.148059Z"
    }
   },
   "cell_type": "code",
   "source": [
    "pipeline.feature_matrix = None\n",
    "pipeline.run_feature_extraction()"
   ],
   "id": "21f510c52296a049",
   "outputs": [
    {
     "name": "stderr",
     "output_type": "stream",
     "text": [
      "INFO:utils.ml:Running feature extraction...\n"
     ]
    },
    {
     "name": "stdout",
     "output_type": "stream",
     "text": [
      "Processed 5/212 batches.\n",
      "Processed 10/212 batches.\n",
      "Processed 15/212 batches.\n",
      "Processed 20/212 batches.\n",
      "Processed 25/212 batches.\n",
      "Processed 30/212 batches.\n",
      "Processed 35/212 batches.\n",
      "Processed 40/212 batches.\n",
      "Processed 45/212 batches.\n",
      "Processed 50/212 batches.\n",
      "Processed 55/212 batches.\n",
      "Processed 60/212 batches.\n",
      "Processed 65/212 batches.\n",
      "Processed 70/212 batches.\n",
      "Processed 75/212 batches.\n",
      "Processed 80/212 batches.\n",
      "Processed 85/212 batches.\n",
      "Processed 90/212 batches.\n",
      "Processed 95/212 batches.\n",
      "Processed 100/212 batches.\n",
      "Processed 105/212 batches.\n",
      "Processed 110/212 batches.\n",
      "Processed 115/212 batches.\n",
      "Processed 120/212 batches.\n",
      "Processed 125/212 batches.\n",
      "Processed 130/212 batches.\n",
      "Processed 135/212 batches.\n",
      "Processed 140/212 batches.\n",
      "Processed 145/212 batches.\n",
      "Processed 150/212 batches.\n",
      "Processed 155/212 batches.\n",
      "Processed 160/212 batches.\n",
      "Processed 165/212 batches.\n",
      "Processed 170/212 batches.\n",
      "Processed 175/212 batches.\n",
      "Processed 180/212 batches.\n",
      "Processed 185/212 batches.\n",
      "Processed 190/212 batches.\n",
      "Processed 195/212 batches.\n",
      "Processed 200/212 batches.\n",
      "Processed 205/212 batches.\n",
      "Processed 210/212 batches.\n"
     ]
    },
    {
     "name": "stderr",
     "output_type": "stream",
     "text": [
      "INFO:utils.ml:Feature extraction completed. Extracted 5082 features.\n"
     ]
    },
    {
     "name": "stdout",
     "output_type": "stream",
     "text": [
      "Processed 212/212 batches.\n"
     ]
    }
   ],
   "execution_count": 34
  },
  {
   "metadata": {
    "ExecuteTime": {
     "end_time": "2024-11-03T14:16:37.884687Z",
     "start_time": "2024-11-03T14:16:37.874775Z"
    }
   },
   "cell_type": "code",
   "source": [
    "from xgboost import XGBClassifier\n",
    "from sklearn.ensemble import RandomForestClassifier\n",
    "\n",
    "# Random Forest with Bootstrap Disabled\n",
    "rf0 = RandomForestClassifier(n_estimators=100, bootstrap=False, random_state=42)\n",
    "# Random Forest with Out-of-Bag Error (OOB)\n",
    "rf1 = RandomForestClassifier(n_estimators=150, oob_score=True, random_state=42)\n",
    "# Random Forest with Bootstrap Disabled\n",
    "rf2 = RandomForestClassifier(n_estimators=150, bootstrap=False, random_state=42)\n",
    "# Random Forest with Bootstrap Disabled\n",
    "rf3 = RandomForestClassifier(n_estimators=200, bootstrap=False, random_state=42)\n",
    "\n",
    "xgb4 = XGBClassifier(learning_rate=0.1, n_estimators=400, max_depth=7, min_child_weight=3, subsample=0.7, colsample_bytree=0.7) # 2ND\n",
    "xgb5 = XGBClassifier(learning_rate=0.1, n_estimators=400, max_depth=5, min_child_weight=5, gamma=0.2, subsample=0.8, colsample_bytree=0.8) # THIS\n",
    "xgb6 = XGBClassifier(learning_rate=0.1, n_estimators=400, max_depth=5, min_child_weight=1, subsample=0.8, colsample_bytree=0.8, reg_alpha=0.1, reg_lambda=0.1)\n",
    "xgb7 = XGBClassifier(learning_rate=0.1, n_estimators=400, max_depth=7, min_child_weight=1, subsample=0.8, colsample_bytree=0.8)\n",
    "xgb8 = XGBClassifier(learning_rate=0.1, n_estimators=500, max_depth=7, min_child_weight=1, subsample=0.8, colsample_bytree=0.8)\n",
    "\n",
    "\n",
    "xgb9 = XGBClassifier(learning_rate=0.1, n_estimators=750, max_depth=7, min_child_weight=3, subsample=0.7, colsample_bytree=0.7)\n",
    "xgb10 = XGBClassifier(learning_rate=0.1, n_estimators=750, max_depth=5, min_child_weight=5, gamma=0.2, subsample=0.8, colsample_bytree=0.8) # THIS\n",
    "xgb11 = XGBClassifier(learning_rate=0.1, n_estimators=750, max_depth=5, min_child_weight=1, subsample=0.8, colsample_bytree=0.8, reg_alpha=0.1, reg_lambda=0.1)\n",
    "xgb12 = XGBClassifier(learning_rate=0.1, n_estimators=750, max_depth=7, min_child_weight=1, subsample=0.8, colsample_bytree=0.8)\n",
    "xgb13 = XGBClassifier(learning_rate=0.1, n_estimators=1000, max_depth=7, min_child_weight=3, subsample=0.7, colsample_bytree=0.7)\n",
    "xgb14 = XGBClassifier(learning_rate=0.1, n_estimators=1000, max_depth=5, min_child_weight=5, gamma=0.2, subsample=0.8, colsample_bytree=0.8) # THIS\n",
    "xgb15 = XGBClassifier(learning_rate=0.1, n_estimators=1000, max_depth=5, min_child_weight=1, subsample=0.8, colsample_bytree=0.8, reg_alpha=0.1, reg_lambda=0.1)\n",
    "xgb16 = XGBClassifier(learning_rate=0.1, n_estimators=1000, max_depth=7, min_child_weight=1, subsample=0.8, colsample_bytree=0.8)\n",
    "\n",
    "pipeline.classifiers = [rf0, rf1, rf2, rf3,\n",
    "                        # svm1, svm2, svm3, svm6, svm7, svm8,\n",
    "                        xgb8, xgb9, xgb10, xgb11, xgb12, xgb13, xgb14, xgb15, xgb16]\n",
    "pipeline.fitted_classifiers = {}"
   ],
   "id": "74470ba20848a156",
   "outputs": [],
   "execution_count": 35
  },
  {
   "metadata": {
    "ExecuteTime": {
     "end_time": "2024-11-03T14:19:28.832977Z",
     "start_time": "2024-11-03T14:16:37.910092Z"
    }
   },
   "cell_type": "code",
   "source": "pipeline.fit_classifiers()",
   "id": "5269ac4d3392fbae",
   "outputs": [
    {
     "name": "stderr",
     "output_type": "stream",
     "text": [
      "INFO:utils.ml:Fitting classifiers...\n",
      "INFO:utils.ml:Fitting classifier: RandomForestClassifier0\n",
      "INFO:utils.ml:Top 10 features for RandomForestClassifier0: [('color_moments_lab_B_var', 0.03678171562927555), ('color_moments_lab_B_std', 0.033195052551086665), ('color_moments_rgb_B_iqr', 0.02367868802470365), ('color_moments_rgb_B_var', 0.018855286614254636), ('color_moments_rgb_R_iqr', 0.018038690955580746), ('color_moments_rgb_B_std', 0.01515474177964628), ('color_moments_rgb_R_skew', 0.014060165472765212), ('color_moments_lab_L_iqr', 0.01315417280578557), ('color_moments_lab_B_iqr', 0.013137011317174953), ('color_moments_rgb_G_iqr', 0.012804093587298669)]\n",
      "INFO:utils.ml:Fitted classifier: RandomForestClassifier0; Done in 5.984819412231445 seconds\n",
      "INFO:utils.ml:Fitting classifier: RandomForestClassifier1\n",
      "INFO:utils.ml:Top 10 features for RandomForestClassifier1: [('color_moments_lab_B_var', 0.036313918522740414), ('color_moments_lab_B_std', 0.0358567546759903), ('color_moments_rgb_R_iqr', 0.019634024445305577), ('color_moments_lab_L_iqr', 0.019177678647132212), ('color_moments_rgb_B_iqr', 0.017312547790711976), ('color_moments_rgb_B_std', 0.01507669933898869), ('color_moments_rgb_G_iqr', 0.014723007844709996), ('color_moments_rgb_B_var', 0.014535590455435777), ('color_moments_rgb_R_kurtosis', 0.013649518832792825), ('color_moments_lab_B_iqr', 0.01220831909063034)]\n",
      "INFO:utils.ml:Fitted classifier: RandomForestClassifier1; Done in 7.542480707168579 seconds\n",
      "INFO:utils.ml:Fitting classifier: RandomForestClassifier2\n",
      "INFO:utils.ml:Top 10 features for RandomForestClassifier2: [('color_moments_lab_B_std', 0.0358045245572718), ('color_moments_lab_B_var', 0.035621686477204956), ('color_moments_rgb_B_iqr', 0.019156766270467977), ('color_moments_rgb_R_iqr', 0.01880390112354627), ('color_moments_lab_L_iqr', 0.018776744907580058), ('color_moments_rgb_B_var', 0.015421359714661804), ('color_moments_rgb_B_std', 0.01511877110175448), ('color_moments_rgb_G_iqr', 0.014620577073345627), ('color_moments_lab_B_iqr', 0.013300677070933293), ('color_moments_rgb_R_skew', 0.012525362516057719)]\n",
      "INFO:utils.ml:Fitted classifier: RandomForestClassifier2; Done in 12.628306865692139 seconds\n",
      "INFO:utils.ml:Fitting classifier: RandomForestClassifier3\n",
      "INFO:utils.ml:Top 10 features for RandomForestClassifier3: [('color_moments_lab_B_std', 0.036456518319580675), ('color_moments_lab_B_var', 0.03480414045630112), ('color_moments_rgb_B_iqr', 0.020611158846701585), ('color_moments_lab_L_iqr', 0.017623228014316615), ('color_moments_rgb_R_iqr', 0.017564032520599838), ('color_moments_rgb_B_var', 0.017392314228565717), ('color_moments_rgb_B_std', 0.01599441591222138), ('color_moments_rgb_R_kurtosis', 0.012918748609640027), ('color_moments_lab_B_iqr', 0.012724099170558303), ('color_moments_rgb_G_iqr', 0.012615304750024868)]\n",
      "INFO:utils.ml:Fitted classifier: RandomForestClassifier3; Done in 17.500635385513306 seconds\n",
      "INFO:utils.ml:Fitting classifier: XGBClassifier4\n",
      "INFO:utils.ml:Top 10 features for XGBClassifier4: [('color_moments_lab_B_var', 0.05377986), ('color_moments_rgb_B_iqr', 0.03617542), ('color_moments_lab_B_std', 0.028525265), ('lbp_rad1_bins8_4', 0.01823659), ('color_moments_lab_L_iqr', 0.014425661), ('lbp_rad2_bins16_8', 0.01155795), ('color_moments_rgb_B_var', 0.011426014), ('lbp_rad3_bins24_12', 0.011236472), ('color_moments_hsv_V_var', 0.010743563), ('color_moments_lab_L_mean', 0.010038144)]\n",
      "INFO:utils.ml:Fitted classifier: XGBClassifier4; Done in 16.443403959274292 seconds\n",
      "INFO:utils.ml:Fitting classifier: XGBClassifier5\n",
      "INFO:utils.ml:Top 10 features for XGBClassifier5: [('color_moments_lab_B_var', 0.03843347), ('color_moments_rgb_B_iqr', 0.028486278), ('color_moments_lab_B_std', 0.027035143), ('color_moments_lab_L_iqr', 0.016661214), ('lbp_rad2_bins16_8', 0.016195372), ('color_moments_rgb_B_var', 0.016150625), ('color_moments_hsv_V_var', 0.0153008085), ('lbp_rad1_bins8_4', 0.014727721), ('lbp_rad3_bins24_12', 0.010894299), ('lbp_rad1_bins8_8', 0.010497092)]\n",
      "INFO:utils.ml:Fitted classifier: XGBClassifier5; Done in 17.198224782943726 seconds\n",
      "INFO:utils.ml:Fitting classifier: XGBClassifier6\n",
      "INFO:utils.ml:Top 10 features for XGBClassifier6: [('color_moments_lab_B_var', 0.052425265), ('color_moments_rgb_B_iqr', 0.032927457), ('color_moments_lab_B_std', 0.027050648), ('color_moments_hsv_V_var', 0.017222686), ('lbp_rad1_bins8_4', 0.01692212), ('lbp_rad3_bins24_12', 0.015339834), ('color_moments_rgb_B_var', 0.0152382), ('color_moments_lab_L_iqr', 0.01433648), ('lbp_rad2_bins16_8', 0.011021384), ('lbp_rad1_bins8_8', 0.010161841)]\n",
      "INFO:utils.ml:Fitted classifier: XGBClassifier6; Done in 8.947266340255737 seconds\n",
      "INFO:utils.ml:Fitting classifier: XGBClassifier7\n",
      "INFO:utils.ml:Top 10 features for XGBClassifier7: [('color_moments_lab_B_var', 0.043226417), ('color_moments_rgb_B_iqr', 0.03537544), ('color_moments_lab_B_std', 0.028601943), ('lbp_rad1_bins8_4', 0.017465692), ('color_moments_lab_L_iqr', 0.015488937), ('color_moments_rgb_B_var', 0.015332176), ('lbp_rad3_bins24_12', 0.014310932), ('lbp_rad2_bins16_8', 0.013794752), ('color_moments_hsv_V_var', 0.011585401), ('color_moments_rgb_B_std', 0.011261397)]\n",
      "INFO:utils.ml:Fitted classifier: XGBClassifier7; Done in 15.238666772842407 seconds\n",
      "INFO:utils.ml:Fitting classifier: XGBClassifier8\n",
      "INFO:utils.ml:Top 10 features for XGBClassifier8: [('color_moments_lab_B_var', 0.053678244), ('color_moments_rgb_B_iqr', 0.035420116), ('color_moments_lab_B_std', 0.028479015), ('lbp_rad1_bins8_4', 0.017902384), ('color_moments_lab_L_iqr', 0.014867357), ('lbp_rad2_bins16_8', 0.011852174), ('color_moments_rgb_B_var', 0.0115764905), ('color_moments_hsv_V_var', 0.01119011), ('lbp_rad3_bins24_12', 0.011141663), ('color_moments_lab_L_mean', 0.009997416)]\n",
      "INFO:utils.ml:Fitted classifier: XGBClassifier8; Done in 22.103349924087524 seconds\n",
      "INFO:utils.ml:Fitting classifier: XGBClassifier9\n",
      "INFO:utils.ml:Top 10 features for XGBClassifier9: [('color_moments_lab_B_var', 0.03973027), ('color_moments_rgb_B_iqr', 0.028035935), ('color_moments_lab_B_std', 0.026948294), ('color_moments_rgb_B_var', 0.017003527), ('color_moments_lab_L_iqr', 0.016570073), ('lbp_rad2_bins16_8', 0.01624548), ('color_moments_hsv_V_var', 0.015871968), ('lbp_rad1_bins8_4', 0.014903282), ('lbp_rad3_bins24_12', 0.010977633), ('color_moments_rgb_B_std', 0.010757897)]\n",
      "INFO:utils.ml:Fitted classifier: XGBClassifier9; Done in 15.31368374824524 seconds\n",
      "INFO:utils.ml:Fitting classifier: XGBClassifier10\n",
      "INFO:utils.ml:Top 10 features for XGBClassifier10: [('color_moments_lab_B_var', 0.052876778), ('color_moments_rgb_B_iqr', 0.033011034), ('color_moments_lab_B_std', 0.02690144), ('color_moments_hsv_V_var', 0.017371016), ('lbp_rad1_bins8_4', 0.016620548), ('lbp_rad3_bins24_12', 0.015279534), ('color_moments_rgb_B_var', 0.014934665), ('color_moments_lab_L_iqr', 0.014330409), ('lbp_rad2_bins16_8', 0.01105281), ('lbp_rad1_bins8_8', 0.0102493595)]\n",
      "INFO:utils.ml:Fitted classifier: XGBClassifier10; Done in 6.370387315750122 seconds\n",
      "INFO:utils.ml:Fitting classifier: XGBClassifier11\n",
      "INFO:utils.ml:Top 10 features for XGBClassifier11: [('color_moments_lab_B_var', 0.043477595), ('color_moments_rgb_B_iqr', 0.036125127), ('color_moments_lab_B_std', 0.02890799), ('lbp_rad1_bins8_4', 0.018089868), ('color_moments_rgb_B_var', 0.016091352), ('lbp_rad3_bins24_12', 0.01513915), ('color_moments_lab_L_iqr', 0.01496199), ('lbp_rad2_bins16_8', 0.013666647), ('color_moments_hsv_V_var', 0.011757908), ('color_moments_rgb_B_std', 0.011344627)]\n",
      "INFO:utils.ml:Fitted classifier: XGBClassifier11; Done in 11.573492527008057 seconds\n",
      "INFO:utils.ml:Fitting classifier: XGBClassifier12\n",
      "INFO:utils.ml:Top 10 features for XGBClassifier12: [('color_moments_lab_B_var', 0.05321188), ('color_moments_rgb_B_iqr', 0.036164377), ('color_moments_lab_B_std', 0.028620841), ('lbp_rad1_bins8_4', 0.018235639), ('color_moments_lab_L_iqr', 0.014741128), ('color_moments_rgb_B_var', 0.011975787), ('lbp_rad2_bins16_8', 0.011784119), ('color_moments_hsv_V_var', 0.011741517), ('lbp_rad3_bins24_12', 0.011102819), ('color_moments_lab_L_mean', 0.010129287)]\n",
      "INFO:utils.ml:Fitted classifier: XGBClassifier12; Done in 14.058794260025024 seconds\n",
      "INFO:utils.ml:Fitting completed in 170.92 seconds.\n"
     ]
    }
   ],
   "execution_count": 36
  },
  {
   "metadata": {
    "ExecuteTime": {
     "end_time": "2024-11-03T14:21:29.018906Z",
     "start_time": "2024-11-03T14:19:28.861667Z"
    }
   },
   "cell_type": "code",
   "source": "pipeline.predict_with_classifiers(VAL_PATH, percent)",
   "id": "f71e18a07f5ee7bb",
   "outputs": [
    {
     "name": "stderr",
     "output_type": "stream",
     "text": [
      "INFO:utils.ml:Predicting with classifiers on dataset: C:\\Users\\gimes\\Src\\repos\\CADx-Project\\dataset\\multiclass\\val\n"
     ]
    },
    {
     "name": "stdout",
     "output_type": "stream",
     "text": [
      "Processed 5/53 batches.\n",
      "Processed 10/53 batches.\n",
      "Processed 15/53 batches.\n",
      "Processed 20/53 batches.\n",
      "Processed 25/53 batches.\n",
      "Processed 30/53 batches.\n",
      "Processed 35/53 batches.\n",
      "Processed 40/53 batches.\n",
      "Processed 45/53 batches.\n",
      "Processed 50/53 batches.\n"
     ]
    },
    {
     "name": "stderr",
     "output_type": "stream",
     "text": [
      "INFO:utils.ml:Predictions made with classifier: RandomForestClassifier0\n",
      "INFO:utils.ml:Predictions made with classifier: RandomForestClassifier1\n",
      "INFO:utils.ml:Predictions made with classifier: RandomForestClassifier2\n",
      "INFO:utils.ml:Predictions made with classifier: RandomForestClassifier3\n",
      "INFO:utils.ml:Predictions made with classifier: XGBClassifier4\n",
      "INFO:utils.ml:Predictions made with classifier: XGBClassifier5\n",
      "INFO:utils.ml:Predictions made with classifier: XGBClassifier6\n",
      "INFO:utils.ml:Predictions made with classifier: XGBClassifier7\n",
      "INFO:utils.ml:Predictions made with classifier: XGBClassifier8\n",
      "INFO:utils.ml:Predictions made with classifier: XGBClassifier9\n",
      "INFO:utils.ml:Predictions made with classifier: XGBClassifier10\n",
      "INFO:utils.ml:Predictions made with classifier: XGBClassifier11\n"
     ]
    },
    {
     "name": "stdout",
     "output_type": "stream",
     "text": [
      "Processed 53/53 batches.\n"
     ]
    },
    {
     "name": "stderr",
     "output_type": "stream",
     "text": [
      "INFO:utils.ml:Predictions made with classifier: XGBClassifier12\n"
     ]
    },
    {
     "data": {
      "text/plain": [
       "{'GT': array([0, 0, 0, ..., 2, 2, 2]),\n",
       " 'RandomForestClassifier0': array([0, 0, 1, ..., 1, 0, 0]),\n",
       " 'RandomForestClassifier1': array([0, 0, 0, ..., 1, 0, 0]),\n",
       " 'RandomForestClassifier2': array([0, 0, 0, ..., 1, 0, 0]),\n",
       " 'RandomForestClassifier3': array([0, 0, 0, ..., 1, 0, 0]),\n",
       " 'XGBClassifier4': array([0, 0, 0, ..., 0, 2, 0], dtype=int64),\n",
       " 'XGBClassifier5': array([0, 0, 2, ..., 0, 2, 0], dtype=int64),\n",
       " 'XGBClassifier6': array([0, 0, 2, ..., 0, 2, 0], dtype=int64),\n",
       " 'XGBClassifier7': array([0, 0, 0, ..., 0, 2, 0], dtype=int64),\n",
       " 'XGBClassifier8': array([0, 0, 0, ..., 0, 2, 0], dtype=int64),\n",
       " 'XGBClassifier9': array([0, 0, 2, ..., 0, 2, 0], dtype=int64),\n",
       " 'XGBClassifier10': array([0, 0, 2, ..., 0, 2, 0], dtype=int64),\n",
       " 'XGBClassifier11': array([0, 0, 0, ..., 0, 2, 0], dtype=int64),\n",
       " 'XGBClassifier12': array([0, 0, 0, ..., 0, 2, 0], dtype=int64)}"
      ]
     },
     "execution_count": 37,
     "metadata": {},
     "output_type": "execute_result"
    }
   ],
   "execution_count": 37
  },
  {
   "metadata": {
    "ExecuteTime": {
     "end_time": "2024-11-03T14:21:29.123441Z",
     "start_time": "2024-11-03T14:21:29.047916Z"
    }
   },
   "cell_type": "code",
   "source": [
    "import pandas as pd\n",
    "\n",
    "df = pd.DataFrame(data=pipeline.calculate_metrics())\n",
    "df = df.T\n",
    "df"
   ],
   "id": "751fad2660242db5",
   "outputs": [
    {
     "name": "stderr",
     "output_type": "stream",
     "text": [
      "INFO:utils.ml:Metrics for classifier GT: {'accuracy': 1.0, 'precision': 1.0, 'recall': 1.0, 'f1': 1.0, 'kappa': 1.0}\n",
      "INFO:utils.ml:Metrics for classifier RandomForestClassifier0: {'accuracy': 0.8433070866141732, 'precision': 0.873349477285119, 'recall': 0.6586515521698921, 'f1': 0.6816697547191483, 'kappa': 0.7066041634741744}\n",
      "INFO:utils.ml:Metrics for classifier RandomForestClassifier1: {'accuracy': 0.8244094488188977, 'precision': 0.878517161954888, 'recall': 0.617407305743403, 'f1': 0.6228420740140242, 'kappa': 0.6686966856800602}\n",
      "INFO:utils.ml:Metrics for classifier RandomForestClassifier2: {'accuracy': 0.8433070866141732, 'precision': 0.8714071232726225, 'recall': 0.6521872338409056, 'f1': 0.6719846647800538, 'kappa': 0.7059596885660169}\n",
      "INFO:utils.ml:Metrics for classifier RandomForestClassifier3: {'accuracy': 0.84251968503937, 'precision': 0.8709376397045473, 'recall': 0.6516955917563431, 'f1': 0.6715043573833199, 'kappa': 0.7044820990613234}\n",
      "INFO:utils.ml:Metrics for classifier XGBClassifier4: {'accuracy': 0.8811023622047244, 'precision': 0.8525385112025313, 'recall': 0.7161712814983021, 'f1': 0.7455988091225705, 'kappa': 0.7793058208852165}\n",
      "INFO:utils.ml:Metrics for classifier XGBClassifier5: {'accuracy': 0.868503937007874, 'precision': 0.8346707689364248, 'recall': 0.7034735313563297, 'f1': 0.7317294485574499, 'kappa': 0.7557692307692307}\n",
      "INFO:utils.ml:Metrics for classifier XGBClassifier6: {'accuracy': 0.8700787401574803, 'precision': 0.8197623025385066, 'recall': 0.7073335707733968, 'f1': 0.734269270524018, 'kappa': 0.7588929440949195}\n",
      "INFO:utils.ml:Metrics for classifier XGBClassifier7: {'accuracy': 0.8803149606299212, 'precision': 0.8449423333230871, 'recall': 0.7165681492051178, 'f1': 0.744390821662147, 'kappa': 0.7784978611687382}\n",
      "INFO:utils.ml:Metrics for classifier XGBClassifier8: {'accuracy': 0.8779527559055118, 'precision': 0.8434003776348648, 'recall': 0.7136716072852257, 'f1': 0.7424059100716341, 'kappa': 0.7735180012057563}\n",
      "INFO:utils.ml:Metrics for classifier XGBClassifier9: {'accuracy': 0.8708661417322835, 'precision': 0.831780923670733, 'recall': 0.7085360206910615, 'f1': 0.7364194802199258, 'kappa': 0.760627416366704}\n",
      "INFO:utils.ml:Metrics for classifier XGBClassifier10: {'accuracy': 0.8724409448818897, 'precision': 0.8248335875048628, 'recall': 0.7061094437374175, 'f1': 0.7330251450288406, 'kappa': 0.7630564269821307}\n",
      "INFO:utils.ml:Metrics for classifier XGBClassifier11: {'accuracy': 0.8779527559055118, 'precision': 0.8346562185146226, 'recall': 0.7116833618286615, 'f1': 0.7381459687258404, 'kappa': 0.7739860660142095}\n",
      "INFO:utils.ml:Metrics for classifier XGBClassifier12: {'accuracy': 0.8811023622047244, 'precision': 0.8494167611737747, 'recall': 0.7221024939524621, 'f1': 0.7520706386224295, 'kappa': 0.7796587968729174}\n"
     ]
    },
    {
     "data": {
      "text/plain": [
       "                         accuracy  precision    recall        f1     kappa\n",
       "GT                       1.000000   1.000000  1.000000  1.000000  1.000000\n",
       "RandomForestClassifier0  0.843307   0.873349  0.658652  0.681670  0.706604\n",
       "RandomForestClassifier1  0.824409   0.878517  0.617407  0.622842  0.668697\n",
       "RandomForestClassifier2  0.843307   0.871407  0.652187  0.671985  0.705960\n",
       "RandomForestClassifier3  0.842520   0.870938  0.651696  0.671504  0.704482\n",
       "XGBClassifier4           0.881102   0.852539  0.716171  0.745599  0.779306\n",
       "XGBClassifier5           0.868504   0.834671  0.703474  0.731729  0.755769\n",
       "XGBClassifier6           0.870079   0.819762  0.707334  0.734269  0.758893\n",
       "XGBClassifier7           0.880315   0.844942  0.716568  0.744391  0.778498\n",
       "XGBClassifier8           0.877953   0.843400  0.713672  0.742406  0.773518\n",
       "XGBClassifier9           0.870866   0.831781  0.708536  0.736419  0.760627\n",
       "XGBClassifier10          0.872441   0.824834  0.706109  0.733025  0.763056\n",
       "XGBClassifier11          0.877953   0.834656  0.711683  0.738146  0.773986\n",
       "XGBClassifier12          0.881102   0.849417  0.722102  0.752071  0.779659"
      ],
      "text/html": [
       "<div>\n",
       "<style scoped>\n",
       "    .dataframe tbody tr th:only-of-type {\n",
       "        vertical-align: middle;\n",
       "    }\n",
       "\n",
       "    .dataframe tbody tr th {\n",
       "        vertical-align: top;\n",
       "    }\n",
       "\n",
       "    .dataframe thead th {\n",
       "        text-align: right;\n",
       "    }\n",
       "</style>\n",
       "<table border=\"1\" class=\"dataframe\">\n",
       "  <thead>\n",
       "    <tr style=\"text-align: right;\">\n",
       "      <th></th>\n",
       "      <th>accuracy</th>\n",
       "      <th>precision</th>\n",
       "      <th>recall</th>\n",
       "      <th>f1</th>\n",
       "      <th>kappa</th>\n",
       "    </tr>\n",
       "  </thead>\n",
       "  <tbody>\n",
       "    <tr>\n",
       "      <th>GT</th>\n",
       "      <td>1.000000</td>\n",
       "      <td>1.000000</td>\n",
       "      <td>1.000000</td>\n",
       "      <td>1.000000</td>\n",
       "      <td>1.000000</td>\n",
       "    </tr>\n",
       "    <tr>\n",
       "      <th>RandomForestClassifier0</th>\n",
       "      <td>0.843307</td>\n",
       "      <td>0.873349</td>\n",
       "      <td>0.658652</td>\n",
       "      <td>0.681670</td>\n",
       "      <td>0.706604</td>\n",
       "    </tr>\n",
       "    <tr>\n",
       "      <th>RandomForestClassifier1</th>\n",
       "      <td>0.824409</td>\n",
       "      <td>0.878517</td>\n",
       "      <td>0.617407</td>\n",
       "      <td>0.622842</td>\n",
       "      <td>0.668697</td>\n",
       "    </tr>\n",
       "    <tr>\n",
       "      <th>RandomForestClassifier2</th>\n",
       "      <td>0.843307</td>\n",
       "      <td>0.871407</td>\n",
       "      <td>0.652187</td>\n",
       "      <td>0.671985</td>\n",
       "      <td>0.705960</td>\n",
       "    </tr>\n",
       "    <tr>\n",
       "      <th>RandomForestClassifier3</th>\n",
       "      <td>0.842520</td>\n",
       "      <td>0.870938</td>\n",
       "      <td>0.651696</td>\n",
       "      <td>0.671504</td>\n",
       "      <td>0.704482</td>\n",
       "    </tr>\n",
       "    <tr>\n",
       "      <th>XGBClassifier4</th>\n",
       "      <td>0.881102</td>\n",
       "      <td>0.852539</td>\n",
       "      <td>0.716171</td>\n",
       "      <td>0.745599</td>\n",
       "      <td>0.779306</td>\n",
       "    </tr>\n",
       "    <tr>\n",
       "      <th>XGBClassifier5</th>\n",
       "      <td>0.868504</td>\n",
       "      <td>0.834671</td>\n",
       "      <td>0.703474</td>\n",
       "      <td>0.731729</td>\n",
       "      <td>0.755769</td>\n",
       "    </tr>\n",
       "    <tr>\n",
       "      <th>XGBClassifier6</th>\n",
       "      <td>0.870079</td>\n",
       "      <td>0.819762</td>\n",
       "      <td>0.707334</td>\n",
       "      <td>0.734269</td>\n",
       "      <td>0.758893</td>\n",
       "    </tr>\n",
       "    <tr>\n",
       "      <th>XGBClassifier7</th>\n",
       "      <td>0.880315</td>\n",
       "      <td>0.844942</td>\n",
       "      <td>0.716568</td>\n",
       "      <td>0.744391</td>\n",
       "      <td>0.778498</td>\n",
       "    </tr>\n",
       "    <tr>\n",
       "      <th>XGBClassifier8</th>\n",
       "      <td>0.877953</td>\n",
       "      <td>0.843400</td>\n",
       "      <td>0.713672</td>\n",
       "      <td>0.742406</td>\n",
       "      <td>0.773518</td>\n",
       "    </tr>\n",
       "    <tr>\n",
       "      <th>XGBClassifier9</th>\n",
       "      <td>0.870866</td>\n",
       "      <td>0.831781</td>\n",
       "      <td>0.708536</td>\n",
       "      <td>0.736419</td>\n",
       "      <td>0.760627</td>\n",
       "    </tr>\n",
       "    <tr>\n",
       "      <th>XGBClassifier10</th>\n",
       "      <td>0.872441</td>\n",
       "      <td>0.824834</td>\n",
       "      <td>0.706109</td>\n",
       "      <td>0.733025</td>\n",
       "      <td>0.763056</td>\n",
       "    </tr>\n",
       "    <tr>\n",
       "      <th>XGBClassifier11</th>\n",
       "      <td>0.877953</td>\n",
       "      <td>0.834656</td>\n",
       "      <td>0.711683</td>\n",
       "      <td>0.738146</td>\n",
       "      <td>0.773986</td>\n",
       "    </tr>\n",
       "    <tr>\n",
       "      <th>XGBClassifier12</th>\n",
       "      <td>0.881102</td>\n",
       "      <td>0.849417</td>\n",
       "      <td>0.722102</td>\n",
       "      <td>0.752071</td>\n",
       "      <td>0.779659</td>\n",
       "    </tr>\n",
       "  </tbody>\n",
       "</table>\n",
       "</div>"
      ]
     },
     "execution_count": 38,
     "metadata": {},
     "output_type": "execute_result"
    }
   ],
   "execution_count": 38
  },
  {
   "metadata": {
    "ExecuteTime": {
     "end_time": "2024-11-03T14:21:29.190772Z",
     "start_time": "2024-11-03T14:21:29.182477Z"
    }
   },
   "cell_type": "code",
   "source": [
    "highest = df[df[\"kappa\"] == df.iloc[1:][\"kappa\"].max()]\n",
    "idx = highest.index[0]\n",
    "\n",
    "confusion_matrix(pipeline.predictions[\"GT\"], pipeline.predictions[idx])"
   ],
   "id": "22f7f750a102a0bd",
   "outputs": [
    {
     "data": {
      "text/plain": [
       "array([[452,  40,   6],\n",
       "       [ 39, 637,   2],\n",
       "       [ 44,  20,  30]], dtype=int64)"
      ]
     },
     "execution_count": 39,
     "metadata": {},
     "output_type": "execute_result"
    }
   ],
   "execution_count": 39
  },
  {
   "metadata": {},
   "cell_type": "markdown",
   "source": [
    "___\n",
    "# Balance the data"
   ],
   "id": "ad0e6dcd404dcf15"
  },
  {
   "metadata": {
    "ExecuteTime": {
     "end_time": "2024-11-03T14:21:29.248962Z",
     "start_time": "2024-11-03T14:21:29.242684Z"
    }
   },
   "cell_type": "code",
   "source": [
    "# Backup\n",
    "pipeline.backup_feature_matrix = pipeline.feature_matrix.copy()\n",
    "pipeline.backup_labels = pipeline.labels.copy()"
   ],
   "id": "da1b19771d4cde2f",
   "outputs": [],
   "execution_count": 40
  },
  {
   "metadata": {
    "ExecuteTime": {
     "end_time": "2024-11-03T14:21:29.283511Z",
     "start_time": "2024-11-03T14:21:29.278442Z"
    }
   },
   "cell_type": "code",
   "source": [
    "print(pipeline.backup_feature_matrix.shape)\n",
    "print(pipeline.feature_matrix.shape)\n",
    "\n",
    "print(pipeline.backup_labels.shape)\n",
    "print(pipeline.labels.shape)"
   ],
   "id": "3425dcf3bd509008",
   "outputs": [
    {
     "name": "stdout",
     "output_type": "stream",
     "text": [
      "(5082, 190)\n",
      "(5082, 190)\n",
      "(5082,)\n",
      "(5082,)\n"
     ]
    }
   ],
   "execution_count": 41
  },
  {
   "metadata": {
    "ExecuteTime": {
     "end_time": "2024-11-03T14:21:29.293337Z",
     "start_time": "2024-11-03T14:21:29.285851Z"
    }
   },
   "cell_type": "code",
   "source": "pipeline.get_feature_names()",
   "id": "7cc809550b1f26d1",
   "outputs": [
    {
     "data": {
      "text/plain": [
       "['gradient_magnitude_mean',\n",
       " 'gradient_magnitude_std',\n",
       " 'gradient_direction_mean',\n",
       " 'gradient_direction_std',\n",
       " 'color_moments_rgb_R_mean',\n",
       " 'color_moments_rgb_R_std',\n",
       " 'color_moments_rgb_R_skew',\n",
       " 'color_moments_rgb_R_kurtosis',\n",
       " 'color_moments_rgb_R_median',\n",
       " 'color_moments_rgb_R_var',\n",
       " 'color_moments_rgb_R_min',\n",
       " 'color_moments_rgb_R_max',\n",
       " 'color_moments_rgb_R_iqr',\n",
       " 'color_moments_rgb_R_entropy',\n",
       " 'color_moments_rgb_G_mean',\n",
       " 'color_moments_rgb_G_std',\n",
       " 'color_moments_rgb_G_skew',\n",
       " 'color_moments_rgb_G_kurtosis',\n",
       " 'color_moments_rgb_G_median',\n",
       " 'color_moments_rgb_G_var',\n",
       " 'color_moments_rgb_G_min',\n",
       " 'color_moments_rgb_G_max',\n",
       " 'color_moments_rgb_G_iqr',\n",
       " 'color_moments_rgb_G_entropy',\n",
       " 'color_moments_rgb_B_mean',\n",
       " 'color_moments_rgb_B_std',\n",
       " 'color_moments_rgb_B_skew',\n",
       " 'color_moments_rgb_B_kurtosis',\n",
       " 'color_moments_rgb_B_median',\n",
       " 'color_moments_rgb_B_var',\n",
       " 'color_moments_rgb_B_min',\n",
       " 'color_moments_rgb_B_max',\n",
       " 'color_moments_rgb_B_iqr',\n",
       " 'color_moments_rgb_B_entropy',\n",
       " 'color_moments_lab_L_mean',\n",
       " 'color_moments_lab_L_std',\n",
       " 'color_moments_lab_L_skew',\n",
       " 'color_moments_lab_L_kurtosis',\n",
       " 'color_moments_lab_L_median',\n",
       " 'color_moments_lab_L_var',\n",
       " 'color_moments_lab_L_min',\n",
       " 'color_moments_lab_L_max',\n",
       " 'color_moments_lab_L_iqr',\n",
       " 'color_moments_lab_L_entropy',\n",
       " 'color_moments_lab_A_mean',\n",
       " 'color_moments_lab_A_std',\n",
       " 'color_moments_lab_A_skew',\n",
       " 'color_moments_lab_A_kurtosis',\n",
       " 'color_moments_lab_A_median',\n",
       " 'color_moments_lab_A_var',\n",
       " 'color_moments_lab_A_min',\n",
       " 'color_moments_lab_A_max',\n",
       " 'color_moments_lab_A_iqr',\n",
       " 'color_moments_lab_A_entropy',\n",
       " 'color_moments_lab_B_mean',\n",
       " 'color_moments_lab_B_std',\n",
       " 'color_moments_lab_B_skew',\n",
       " 'color_moments_lab_B_kurtosis',\n",
       " 'color_moments_lab_B_median',\n",
       " 'color_moments_lab_B_var',\n",
       " 'color_moments_lab_B_min',\n",
       " 'color_moments_lab_B_max',\n",
       " 'color_moments_lab_B_iqr',\n",
       " 'color_moments_lab_B_entropy',\n",
       " 'color_moments_hsv_H_mean',\n",
       " 'color_moments_hsv_H_std',\n",
       " 'color_moments_hsv_H_skew',\n",
       " 'color_moments_hsv_H_kurtosis',\n",
       " 'color_moments_hsv_H_median',\n",
       " 'color_moments_hsv_H_var',\n",
       " 'color_moments_hsv_H_min',\n",
       " 'color_moments_hsv_H_max',\n",
       " 'color_moments_hsv_H_iqr',\n",
       " 'color_moments_hsv_H_entropy',\n",
       " 'color_moments_hsv_S_mean',\n",
       " 'color_moments_hsv_S_std',\n",
       " 'color_moments_hsv_S_skew',\n",
       " 'color_moments_hsv_S_kurtosis',\n",
       " 'color_moments_hsv_S_median',\n",
       " 'color_moments_hsv_S_var',\n",
       " 'color_moments_hsv_S_min',\n",
       " 'color_moments_hsv_S_max',\n",
       " 'color_moments_hsv_S_iqr',\n",
       " 'color_moments_hsv_S_entropy',\n",
       " 'color_moments_hsv_V_mean',\n",
       " 'color_moments_hsv_V_std',\n",
       " 'color_moments_hsv_V_skew',\n",
       " 'color_moments_hsv_V_kurtosis',\n",
       " 'color_moments_hsv_V_median',\n",
       " 'color_moments_hsv_V_var',\n",
       " 'color_moments_hsv_V_min',\n",
       " 'color_moments_hsv_V_max',\n",
       " 'color_moments_hsv_V_iqr',\n",
       " 'color_moments_hsv_V_entropy',\n",
       " 'lbp_rad1_bins8_0',\n",
       " 'lbp_rad1_bins8_1',\n",
       " 'lbp_rad1_bins8_2',\n",
       " 'lbp_rad1_bins8_3',\n",
       " 'lbp_rad1_bins8_4',\n",
       " 'lbp_rad1_bins8_5',\n",
       " 'lbp_rad1_bins8_6',\n",
       " 'lbp_rad1_bins8_7',\n",
       " 'lbp_rad1_bins8_8',\n",
       " 'lbp_rad1_bins8_9',\n",
       " 'lbp_rad2_bins16_0',\n",
       " 'lbp_rad2_bins16_1',\n",
       " 'lbp_rad2_bins16_2',\n",
       " 'lbp_rad2_bins16_3',\n",
       " 'lbp_rad2_bins16_4',\n",
       " 'lbp_rad2_bins16_5',\n",
       " 'lbp_rad2_bins16_6',\n",
       " 'lbp_rad2_bins16_7',\n",
       " 'lbp_rad2_bins16_8',\n",
       " 'lbp_rad2_bins16_9',\n",
       " 'lbp_rad2_bins16_10',\n",
       " 'lbp_rad2_bins16_11',\n",
       " 'lbp_rad2_bins16_12',\n",
       " 'lbp_rad2_bins16_13',\n",
       " 'lbp_rad2_bins16_14',\n",
       " 'lbp_rad2_bins16_15',\n",
       " 'lbp_rad2_bins16_16',\n",
       " 'lbp_rad2_bins16_17',\n",
       " 'lbp_rad3_bins24_0',\n",
       " 'lbp_rad3_bins24_1',\n",
       " 'lbp_rad3_bins24_2',\n",
       " 'lbp_rad3_bins24_3',\n",
       " 'lbp_rad3_bins24_4',\n",
       " 'lbp_rad3_bins24_5',\n",
       " 'lbp_rad3_bins24_6',\n",
       " 'lbp_rad3_bins24_7',\n",
       " 'lbp_rad3_bins24_8',\n",
       " 'lbp_rad3_bins24_9',\n",
       " 'lbp_rad3_bins24_10',\n",
       " 'lbp_rad3_bins24_11',\n",
       " 'lbp_rad3_bins24_12',\n",
       " 'lbp_rad3_bins24_13',\n",
       " 'lbp_rad3_bins24_14',\n",
       " 'lbp_rad3_bins24_15',\n",
       " 'lbp_rad3_bins24_16',\n",
       " 'lbp_rad3_bins24_17',\n",
       " 'lbp_rad3_bins24_18',\n",
       " 'lbp_rad3_bins24_19',\n",
       " 'lbp_rad3_bins24_20',\n",
       " 'lbp_rad3_bins24_21',\n",
       " 'lbp_rad3_bins24_22',\n",
       " 'lbp_rad3_bins24_23',\n",
       " 'lbp_rad3_bins24_24',\n",
       " 'lbp_rad3_bins24_25',\n",
       " 'lbp_rad4_bins32_0',\n",
       " 'lbp_rad4_bins32_1',\n",
       " 'lbp_rad4_bins32_2',\n",
       " 'lbp_rad4_bins32_3',\n",
       " 'lbp_rad4_bins32_4',\n",
       " 'lbp_rad4_bins32_5',\n",
       " 'lbp_rad4_bins32_6',\n",
       " 'lbp_rad4_bins32_7',\n",
       " 'lbp_rad4_bins32_8',\n",
       " 'lbp_rad4_bins32_9',\n",
       " 'lbp_rad4_bins32_10',\n",
       " 'lbp_rad4_bins32_11',\n",
       " 'lbp_rad4_bins32_12',\n",
       " 'lbp_rad4_bins32_13',\n",
       " 'lbp_rad4_bins32_14',\n",
       " 'lbp_rad4_bins32_15',\n",
       " 'lbp_rad4_bins32_16',\n",
       " 'lbp_rad4_bins32_17',\n",
       " 'lbp_rad4_bins32_18',\n",
       " 'lbp_rad4_bins32_19',\n",
       " 'lbp_rad4_bins32_20',\n",
       " 'lbp_rad4_bins32_21',\n",
       " 'lbp_rad4_bins32_22',\n",
       " 'lbp_rad4_bins32_23',\n",
       " 'lbp_rad4_bins32_24',\n",
       " 'lbp_rad4_bins32_25',\n",
       " 'lbp_rad4_bins32_26',\n",
       " 'lbp_rad4_bins32_27',\n",
       " 'lbp_rad4_bins32_28',\n",
       " 'lbp_rad4_bins32_29',\n",
       " 'lbp_rad4_bins32_30',\n",
       " 'lbp_rad4_bins32_31',\n",
       " 'lbp_rad4_bins32_32',\n",
       " 'lbp_rad4_bins32_33',\n",
       " 'fourier_transform_magnitude_mean',\n",
       " 'fourier_transform_magnitude_std',\n",
       " 'glcm_contrast_dist_1_angle_0',\n",
       " 'glcm_dissimilarity_dist_1_angle_0',\n",
       " 'glcm_homogeneity_dist_1_angle_0',\n",
       " 'glcm_energy_dist_1_angle_0',\n",
       " 'glcm_correlation_dist_1_angle_0',\n",
       " 'glcm_ASM_dist_1_angle_0']"
      ]
     },
     "execution_count": 42,
     "metadata": {},
     "output_type": "execute_result"
    }
   ],
   "execution_count": 42
  },
  {
   "metadata": {
    "ExecuteTime": {
     "end_time": "2024-11-03T14:21:29.410676Z",
     "start_time": "2024-11-03T14:21:29.319540Z"
    }
   },
   "cell_type": "code",
   "source": [
    "from imblearn.over_sampling import SMOTE\n",
    "\n",
    "smote = SMOTE(random_state=42)\n",
    "\n",
    "\n",
    "pipeline.feature_matrix, pipeline.labels = smote.fit_resample(np.nan_to_num(pipeline.feature_matrix), pipeline.labels)"
   ],
   "id": "6f226a41aafa84b7",
   "outputs": [],
   "execution_count": 43
  },
  {
   "metadata": {
    "ExecuteTime": {
     "end_time": "2024-11-03T14:25:24.916478Z",
     "start_time": "2024-11-03T14:21:29.433823Z"
    }
   },
   "cell_type": "code",
   "source": [
    "pipeline.fitted_classifiers = {}\n",
    "pipeline.fit_classifiers()"
   ],
   "id": "e25b1eeaa9b9b112",
   "outputs": [
    {
     "name": "stderr",
     "output_type": "stream",
     "text": [
      "INFO:utils.ml:Fitting classifiers...\n",
      "INFO:utils.ml:Fitting classifier: RandomForestClassifier0\n",
      "INFO:utils.ml:Top 10 features for RandomForestClassifier0: [('color_moments_lab_B_var', 0.020103475475452246), ('color_moments_lab_B_std', 0.01887654583079339), ('color_moments_rgb_B_iqr', 0.018601631705106522), ('color_moments_rgb_B_var', 0.016366039371529625), ('color_moments_rgb_G_iqr', 0.015103918777083445), ('color_moments_rgb_B_std', 0.014193034368277863), ('color_moments_rgb_R_iqr', 0.013737786888031896), ('lbp_rad1_bins8_4', 0.01313108092663636), ('color_moments_lab_L_iqr', 0.012708989211170417), ('color_moments_rgb_B_kurtosis', 0.01193028036010276)]\n",
      "INFO:utils.ml:Fitted classifier: RandomForestClassifier0; Done in 11.163585424423218 seconds\n",
      "INFO:utils.ml:Fitting classifier: RandomForestClassifier1\n",
      "INFO:utils.ml:Top 10 features for RandomForestClassifier1: [('color_moments_lab_B_var', 0.021371863466320702), ('color_moments_lab_B_std', 0.0210420187599849), ('color_moments_rgb_B_iqr', 0.020291805862050497), ('color_moments_lab_L_iqr', 0.016006625134652053), ('color_moments_rgb_B_var', 0.015078252667803911), ('color_moments_rgb_G_iqr', 0.01493752205503652), ('color_moments_rgb_R_iqr', 0.01413209992314306), ('color_moments_rgb_B_std', 0.012589922622442636), ('color_moments_rgb_R_kurtosis', 0.011429720253474837), ('lbp_rad1_bins8_4', 0.010756979052970123)]\n",
      "INFO:utils.ml:Fitted classifier: RandomForestClassifier1; Done in 11.661612749099731 seconds\n",
      "INFO:utils.ml:Fitting classifier: RandomForestClassifier2\n",
      "INFO:utils.ml:Top 10 features for RandomForestClassifier2: [('color_moments_lab_B_std', 0.021112597381388026), ('color_moments_lab_B_var', 0.020664188832113906), ('color_moments_rgb_B_iqr', 0.017789004849881516), ('color_moments_rgb_G_iqr', 0.016232567636234194), ('color_moments_lab_L_iqr', 0.015672385415446684), ('color_moments_rgb_B_var', 0.014004404930302968), ('color_moments_rgb_B_std', 0.013589216425922436), ('color_moments_rgb_R_iqr', 0.01336923091835969), ('lbp_rad1_bins8_4', 0.012348500199861905), ('glcm_ASM_dist_1_angle_0', 0.01147678473210234)]\n",
      "INFO:utils.ml:Fitted classifier: RandomForestClassifier2; Done in 17.300770044326782 seconds\n",
      "INFO:utils.ml:Fitting classifier: RandomForestClassifier3\n",
      "INFO:utils.ml:Top 10 features for RandomForestClassifier3: [('color_moments_lab_B_std', 0.0217451738077693), ('color_moments_lab_B_var', 0.019831317480867135), ('color_moments_rgb_B_iqr', 0.017754667502729315), ('color_moments_rgb_B_var', 0.015621439122226369), ('color_moments_lab_L_iqr', 0.01512402036346281), ('color_moments_rgb_B_std', 0.014402996283874172), ('color_moments_rgb_G_iqr', 0.01384153423083277), ('color_moments_rgb_R_iqr', 0.01353347075442691), ('lbp_rad1_bins8_4', 0.011756944100593388), ('glcm_ASM_dist_1_angle_0', 0.011497362158995737)]\n",
      "INFO:utils.ml:Fitted classifier: RandomForestClassifier3; Done in 22.133420944213867 seconds\n",
      "INFO:utils.ml:Fitting classifier: XGBClassifier4\n",
      "INFO:utils.ml:Top 10 features for XGBClassifier4: [('color_moments_rgb_B_iqr', 0.053628843), ('glcm_ASM_dist_1_angle_0', 0.03296638), ('color_moments_lab_L_iqr', 0.028469022), ('lbp_rad1_bins8_4', 0.018866291), ('color_moments_lab_B_std', 0.016532911), ('gradient_magnitude_std', 0.01608039), ('color_moments_lab_B_var', 0.013926544), ('color_moments_lab_A_iqr', 0.013894576), ('gradient_magnitude_mean', 0.011400702), ('gradient_direction_std', 0.011029175)]\n",
      "INFO:utils.ml:Fitted classifier: XGBClassifier4; Done in 11.533257961273193 seconds\n",
      "INFO:utils.ml:Fitting classifier: XGBClassifier5\n",
      "INFO:utils.ml:Top 10 features for XGBClassifier5: [('color_moments_lab_L_iqr', 0.03953556), ('color_moments_rgb_B_iqr', 0.03880667), ('glcm_ASM_dist_1_angle_0', 0.02734982), ('lbp_rad1_bins8_4', 0.016558804), ('color_moments_lab_B_std', 0.015658362), ('gradient_magnitude_std', 0.01499652), ('color_moments_lab_A_iqr', 0.012710756), ('color_moments_lab_B_var', 0.012630635), ('gradient_direction_std', 0.012194855), ('gradient_magnitude_mean', 0.0108880075)]\n",
      "INFO:utils.ml:Fitted classifier: XGBClassifier5; Done in 18.610311269760132 seconds\n",
      "INFO:utils.ml:Fitting classifier: XGBClassifier6\n",
      "INFO:utils.ml:Top 10 features for XGBClassifier6: [('color_moments_rgb_B_iqr', 0.047279425), ('glcm_ASM_dist_1_angle_0', 0.032103527), ('color_moments_lab_L_iqr', 0.027370038), ('lbp_rad1_bins8_4', 0.020131186), ('color_moments_lab_B_std', 0.017828219), ('color_moments_lab_A_iqr', 0.015170521), ('color_moments_lab_B_var', 0.014873644), ('gradient_magnitude_std', 0.013558502), ('gradient_direction_std', 0.012286951), ('gradient_magnitude_mean', 0.0120468065)]\n",
      "INFO:utils.ml:Fitted classifier: XGBClassifier6; Done in 12.216799259185791 seconds\n",
      "INFO:utils.ml:Fitting classifier: XGBClassifier7\n",
      "INFO:utils.ml:Top 10 features for XGBClassifier7: [('color_moments_rgb_B_iqr', 0.052751254), ('glcm_ASM_dist_1_angle_0', 0.03290025), ('color_moments_lab_L_iqr', 0.025740435), ('lbp_rad1_bins8_4', 0.020615896), ('color_moments_lab_B_std', 0.017623862), ('gradient_magnitude_std', 0.016328646), ('color_moments_lab_A_iqr', 0.0145174), ('color_moments_lab_B_var', 0.014270851), ('color_moments_rgb_B_std', 0.01388381), ('gradient_magnitude_mean', 0.01272226)]\n",
      "INFO:utils.ml:Fitted classifier: XGBClassifier7; Done in 16.120495319366455 seconds\n",
      "INFO:utils.ml:Fitting classifier: XGBClassifier8\n",
      "INFO:utils.ml:Top 10 features for XGBClassifier8: [('color_moments_rgb_B_iqr', 0.05335938), ('glcm_ASM_dist_1_angle_0', 0.034551997), ('color_moments_lab_L_iqr', 0.029327674), ('lbp_rad1_bins8_4', 0.019323297), ('color_moments_lab_B_std', 0.016626615), ('gradient_magnitude_std', 0.016527407), ('color_moments_lab_A_iqr', 0.014176757), ('color_moments_lab_B_var', 0.0138515085), ('gradient_magnitude_mean', 0.01214855), ('gradient_direction_std', 0.010991574)]\n",
      "INFO:utils.ml:Fitted classifier: XGBClassifier8; Done in 24.1098415851593 seconds\n",
      "INFO:utils.ml:Fitting classifier: XGBClassifier9\n",
      "INFO:utils.ml:Top 10 features for XGBClassifier9: [('color_moments_lab_L_iqr', 0.040040035), ('color_moments_rgb_B_iqr', 0.038577646), ('glcm_ASM_dist_1_angle_0', 0.027281908), ('lbp_rad1_bins8_4', 0.01669803), ('color_moments_lab_B_std', 0.015789913), ('gradient_magnitude_std', 0.015049922), ('color_moments_lab_B_var', 0.0127181355), ('color_moments_lab_A_iqr', 0.012639526), ('gradient_direction_std', 0.012486689), ('gradient_magnitude_mean', 0.010875266)]\n",
      "INFO:utils.ml:Fitted classifier: XGBClassifier9; Done in 25.437605619430542 seconds\n",
      "INFO:utils.ml:Fitting classifier: XGBClassifier10\n",
      "INFO:utils.ml:Top 10 features for XGBClassifier10: [('color_moments_rgb_B_iqr', 0.04728008), ('glcm_ASM_dist_1_angle_0', 0.032415275), ('color_moments_lab_L_iqr', 0.027635818), ('lbp_rad1_bins8_4', 0.020149793), ('color_moments_lab_B_std', 0.0176008), ('color_moments_lab_A_iqr', 0.015159191), ('color_moments_lab_B_var', 0.014953933), ('gradient_magnitude_std', 0.013690164), ('gradient_magnitude_mean', 0.012163789), ('gradient_direction_std', 0.012135584)]\n",
      "INFO:utils.ml:Fitted classifier: XGBClassifier10; Done in 13.575728178024292 seconds\n",
      "INFO:utils.ml:Fitting classifier: XGBClassifier11\n",
      "INFO:utils.ml:Top 10 features for XGBClassifier11: [('color_moments_rgb_B_iqr', 0.05349486), ('glcm_ASM_dist_1_angle_0', 0.035098124), ('color_moments_lab_L_iqr', 0.026228074), ('lbp_rad1_bins8_4', 0.020929448), ('color_moments_lab_B_std', 0.017629884), ('gradient_magnitude_std', 0.016107934), ('color_moments_lab_B_var', 0.014642083), ('color_moments_rgb_B_std', 0.014449445), ('color_moments_lab_A_iqr', 0.014275763), ('gradient_magnitude_mean', 0.012863872)]\n",
      "INFO:utils.ml:Fitted classifier: XGBClassifier11; Done in 21.79701828956604 seconds\n",
      "INFO:utils.ml:Fitting classifier: XGBClassifier12\n",
      "INFO:utils.ml:Top 10 features for XGBClassifier12: [('color_moments_rgb_B_iqr', 0.0533361), ('glcm_ASM_dist_1_angle_0', 0.03543079), ('color_moments_lab_L_iqr', 0.029124495), ('lbp_rad1_bins8_4', 0.019104108), ('gradient_magnitude_std', 0.017081587), ('color_moments_lab_B_std', 0.016673572), ('color_moments_lab_A_iqr', 0.013859538), ('color_moments_lab_B_var', 0.0138291465), ('gradient_magnitude_mean', 0.01250529), ('gradient_direction_std', 0.011132416)]\n",
      "INFO:utils.ml:Fitted classifier: XGBClassifier12; Done in 29.81863045692444 seconds\n",
      "INFO:utils.ml:Fitting completed in 235.48 seconds.\n"
     ]
    }
   ],
   "execution_count": 44
  },
  {
   "metadata": {
    "ExecuteTime": {
     "end_time": "2024-11-03T14:27:32.864147Z",
     "start_time": "2024-11-03T14:25:24.995050Z"
    }
   },
   "cell_type": "code",
   "source": "pipeline.predict_with_classifiers(VAL_PATH, percent)",
   "id": "eaa13003ad0706a4",
   "outputs": [
    {
     "name": "stderr",
     "output_type": "stream",
     "text": [
      "INFO:utils.ml:Predicting with classifiers on dataset: C:\\Users\\gimes\\Src\\repos\\CADx-Project\\dataset\\multiclass\\val\n"
     ]
    },
    {
     "name": "stdout",
     "output_type": "stream",
     "text": [
      "Processed 5/53 batches.\n",
      "Processed 10/53 batches.\n",
      "Processed 15/53 batches.\n",
      "Processed 20/53 batches.\n",
      "Processed 25/53 batches.\n",
      "Processed 30/53 batches.\n",
      "Processed 35/53 batches.\n",
      "Processed 40/53 batches.\n",
      "Processed 45/53 batches.\n",
      "Processed 50/53 batches.\n"
     ]
    },
    {
     "name": "stderr",
     "output_type": "stream",
     "text": [
      "INFO:utils.ml:Predictions made with classifier: RandomForestClassifier0\n",
      "INFO:utils.ml:Predictions made with classifier: RandomForestClassifier1\n",
      "INFO:utils.ml:Predictions made with classifier: RandomForestClassifier2\n",
      "INFO:utils.ml:Predictions made with classifier: RandomForestClassifier3\n",
      "INFO:utils.ml:Predictions made with classifier: XGBClassifier4\n",
      "INFO:utils.ml:Predictions made with classifier: XGBClassifier5\n",
      "INFO:utils.ml:Predictions made with classifier: XGBClassifier6\n",
      "INFO:utils.ml:Predictions made with classifier: XGBClassifier7\n",
      "INFO:utils.ml:Predictions made with classifier: XGBClassifier8\n",
      "INFO:utils.ml:Predictions made with classifier: XGBClassifier9\n"
     ]
    },
    {
     "name": "stdout",
     "output_type": "stream",
     "text": [
      "Processed 53/53 batches.\n"
     ]
    },
    {
     "name": "stderr",
     "output_type": "stream",
     "text": [
      "INFO:utils.ml:Predictions made with classifier: XGBClassifier10\n",
      "INFO:utils.ml:Predictions made with classifier: XGBClassifier11\n",
      "INFO:utils.ml:Predictions made with classifier: XGBClassifier12\n"
     ]
    },
    {
     "data": {
      "text/plain": [
       "{'GT': array([0, 0, 0, ..., 2, 2, 2]),\n",
       " 'RandomForestClassifier0': array([0, 0, 2, ..., 1, 2, 0]),\n",
       " 'RandomForestClassifier1': array([0, 0, 2, ..., 1, 2, 0]),\n",
       " 'RandomForestClassifier2': array([0, 0, 2, ..., 1, 2, 0]),\n",
       " 'RandomForestClassifier3': array([0, 0, 2, ..., 1, 2, 0]),\n",
       " 'XGBClassifier4': array([0, 0, 2, ..., 0, 2, 0], dtype=int64),\n",
       " 'XGBClassifier5': array([0, 0, 2, ..., 0, 2, 0], dtype=int64),\n",
       " 'XGBClassifier6': array([0, 0, 2, ..., 0, 2, 0], dtype=int64),\n",
       " 'XGBClassifier7': array([0, 0, 2, ..., 0, 2, 0], dtype=int64),\n",
       " 'XGBClassifier8': array([0, 0, 2, ..., 0, 2, 0], dtype=int64),\n",
       " 'XGBClassifier9': array([0, 0, 2, ..., 0, 2, 0], dtype=int64),\n",
       " 'XGBClassifier10': array([0, 0, 2, ..., 0, 2, 0], dtype=int64),\n",
       " 'XGBClassifier11': array([0, 0, 2, ..., 0, 2, 0], dtype=int64),\n",
       " 'XGBClassifier12': array([0, 0, 2, ..., 0, 2, 0], dtype=int64)}"
      ]
     },
     "execution_count": 45,
     "metadata": {},
     "output_type": "execute_result"
    }
   ],
   "execution_count": 45
  },
  {
   "metadata": {
    "ExecuteTime": {
     "end_time": "2024-11-03T14:27:32.955508Z",
     "start_time": "2024-11-03T14:27:32.864147Z"
    }
   },
   "cell_type": "code",
   "source": [
    "import pandas as pd\n",
    "\n",
    "df_smote = pd.DataFrame(data=pipeline.calculate_metrics())\n",
    "df_smote = df_smote.T\n",
    "df_smote"
   ],
   "id": "441842170622e9a",
   "outputs": [
    {
     "name": "stderr",
     "output_type": "stream",
     "text": [
      "INFO:utils.ml:Metrics for classifier GT: {'accuracy': 1.0, 'precision': 1.0, 'recall': 1.0, 'f1': 1.0, 'kappa': 1.0}\n",
      "INFO:utils.ml:Metrics for classifier RandomForestClassifier0: {'accuracy': 0.8448818897637795, 'precision': 0.7580491058898616, 'recall': 0.7397950554493123, 'f1': 0.7479090488553602, 'kappa': 0.7193555913510505}\n",
      "INFO:utils.ml:Metrics for classifier RandomForestClassifier1: {'accuracy': 0.8362204724409449, 'precision': 0.7374628976282226, 'recall': 0.7245128130673701, 'f1': 0.7302551175950313, 'kappa': 0.7043708704138092}\n",
      "INFO:utils.ml:Metrics for classifier RandomForestClassifier2: {'accuracy': 0.8401574803149606, 'precision': 0.7422943408366467, 'recall': 0.7269710234901824, 'f1': 0.7338565449725793, 'kappa': 0.7107639216108635}\n",
      "INFO:utils.ml:Metrics for classifier RandomForestClassifier3: {'accuracy': 0.8440944881889764, 'precision': 0.7503685774195681, 'recall': 0.7328390950357635, 'f1': 0.7406611061791807, 'kappa': 0.717703005509877}\n",
      "INFO:utils.ml:Metrics for classifier XGBClassifier4: {'accuracy': 0.8763779527559055, 'precision': 0.7810418693252643, 'recall': 0.7704011300332189, 'f1': 0.7754457223171315, 'kappa': 0.7764956709277352}\n",
      "INFO:utils.ml:Metrics for classifier XGBClassifier5: {'accuracy': 0.8724409448818897, 'precision': 0.7863196805235587, 'recall': 0.7740518340228421, 'f1': 0.7798105745125614, 'kappa': 0.7695058502986767}\n",
      "INFO:utils.ml:Metrics for classifier XGBClassifier6: {'accuracy': 0.862992125984252, 'precision': 0.7657833793657037, 'recall': 0.7516359292690753, 'f1': 0.7581653911351841, 'kappa': 0.7520076850908339}\n",
      "INFO:utils.ml:Metrics for classifier XGBClassifier7: {'accuracy': 0.8755905511811024, 'precision': 0.787128712871287, 'recall': 0.7736747529879765, 'f1': 0.779924461182019, 'kappa': 0.7751406351554271}\n",
      "INFO:utils.ml:Metrics for classifier XGBClassifier8: {'accuracy': 0.8763779527559055, 'precision': 0.7844216625677434, 'recall': 0.7731001833228855, 'f1': 0.7784658386913815, 'kappa': 0.7763603000556323}\n",
      "INFO:utils.ml:Metrics for classifier XGBClassifier9: {'accuracy': 0.8732283464566929, 'precision': 0.7869274000861678, 'recall': 0.7745434761074046, 'f1': 0.7803616557734205, 'kappa': 0.7708824504943839}\n",
      "INFO:utils.ml:Metrics for classifier XGBClassifier10: {'accuracy': 0.8645669291338582, 'precision': 0.7685868553062388, 'recall': 0.7500978621068093, 'f1': 0.7583939663557976, 'kappa': 0.7545242868573175}\n",
      "INFO:utils.ml:Metrics for classifier XGBClassifier11: {'accuracy': 0.8755905511811024, 'precision': 0.7858412035005887, 'recall': 0.7648667852858746, 'f1': 0.7741743028419522, 'kappa': 0.7745393258426967}\n",
      "INFO:utils.ml:Metrics for classifier XGBClassifier12: {'accuracy': 0.8779527559055118, 'precision': 0.7890159151351911, 'recall': 0.7744388714085616, 'f1': 0.781243649994162, 'kappa': 0.7790089361893214}\n"
     ]
    },
    {
     "data": {
      "text/plain": [
       "                         accuracy  precision    recall        f1     kappa\n",
       "GT                       1.000000   1.000000  1.000000  1.000000  1.000000\n",
       "RandomForestClassifier0  0.844882   0.758049  0.739795  0.747909  0.719356\n",
       "RandomForestClassifier1  0.836220   0.737463  0.724513  0.730255  0.704371\n",
       "RandomForestClassifier2  0.840157   0.742294  0.726971  0.733857  0.710764\n",
       "RandomForestClassifier3  0.844094   0.750369  0.732839  0.740661  0.717703\n",
       "XGBClassifier4           0.876378   0.781042  0.770401  0.775446  0.776496\n",
       "XGBClassifier5           0.872441   0.786320  0.774052  0.779811  0.769506\n",
       "XGBClassifier6           0.862992   0.765783  0.751636  0.758165  0.752008\n",
       "XGBClassifier7           0.875591   0.787129  0.773675  0.779924  0.775141\n",
       "XGBClassifier8           0.876378   0.784422  0.773100  0.778466  0.776360\n",
       "XGBClassifier9           0.873228   0.786927  0.774543  0.780362  0.770882\n",
       "XGBClassifier10          0.864567   0.768587  0.750098  0.758394  0.754524\n",
       "XGBClassifier11          0.875591   0.785841  0.764867  0.774174  0.774539\n",
       "XGBClassifier12          0.877953   0.789016  0.774439  0.781244  0.779009"
      ],
      "text/html": [
       "<div>\n",
       "<style scoped>\n",
       "    .dataframe tbody tr th:only-of-type {\n",
       "        vertical-align: middle;\n",
       "    }\n",
       "\n",
       "    .dataframe tbody tr th {\n",
       "        vertical-align: top;\n",
       "    }\n",
       "\n",
       "    .dataframe thead th {\n",
       "        text-align: right;\n",
       "    }\n",
       "</style>\n",
       "<table border=\"1\" class=\"dataframe\">\n",
       "  <thead>\n",
       "    <tr style=\"text-align: right;\">\n",
       "      <th></th>\n",
       "      <th>accuracy</th>\n",
       "      <th>precision</th>\n",
       "      <th>recall</th>\n",
       "      <th>f1</th>\n",
       "      <th>kappa</th>\n",
       "    </tr>\n",
       "  </thead>\n",
       "  <tbody>\n",
       "    <tr>\n",
       "      <th>GT</th>\n",
       "      <td>1.000000</td>\n",
       "      <td>1.000000</td>\n",
       "      <td>1.000000</td>\n",
       "      <td>1.000000</td>\n",
       "      <td>1.000000</td>\n",
       "    </tr>\n",
       "    <tr>\n",
       "      <th>RandomForestClassifier0</th>\n",
       "      <td>0.844882</td>\n",
       "      <td>0.758049</td>\n",
       "      <td>0.739795</td>\n",
       "      <td>0.747909</td>\n",
       "      <td>0.719356</td>\n",
       "    </tr>\n",
       "    <tr>\n",
       "      <th>RandomForestClassifier1</th>\n",
       "      <td>0.836220</td>\n",
       "      <td>0.737463</td>\n",
       "      <td>0.724513</td>\n",
       "      <td>0.730255</td>\n",
       "      <td>0.704371</td>\n",
       "    </tr>\n",
       "    <tr>\n",
       "      <th>RandomForestClassifier2</th>\n",
       "      <td>0.840157</td>\n",
       "      <td>0.742294</td>\n",
       "      <td>0.726971</td>\n",
       "      <td>0.733857</td>\n",
       "      <td>0.710764</td>\n",
       "    </tr>\n",
       "    <tr>\n",
       "      <th>RandomForestClassifier3</th>\n",
       "      <td>0.844094</td>\n",
       "      <td>0.750369</td>\n",
       "      <td>0.732839</td>\n",
       "      <td>0.740661</td>\n",
       "      <td>0.717703</td>\n",
       "    </tr>\n",
       "    <tr>\n",
       "      <th>XGBClassifier4</th>\n",
       "      <td>0.876378</td>\n",
       "      <td>0.781042</td>\n",
       "      <td>0.770401</td>\n",
       "      <td>0.775446</td>\n",
       "      <td>0.776496</td>\n",
       "    </tr>\n",
       "    <tr>\n",
       "      <th>XGBClassifier5</th>\n",
       "      <td>0.872441</td>\n",
       "      <td>0.786320</td>\n",
       "      <td>0.774052</td>\n",
       "      <td>0.779811</td>\n",
       "      <td>0.769506</td>\n",
       "    </tr>\n",
       "    <tr>\n",
       "      <th>XGBClassifier6</th>\n",
       "      <td>0.862992</td>\n",
       "      <td>0.765783</td>\n",
       "      <td>0.751636</td>\n",
       "      <td>0.758165</td>\n",
       "      <td>0.752008</td>\n",
       "    </tr>\n",
       "    <tr>\n",
       "      <th>XGBClassifier7</th>\n",
       "      <td>0.875591</td>\n",
       "      <td>0.787129</td>\n",
       "      <td>0.773675</td>\n",
       "      <td>0.779924</td>\n",
       "      <td>0.775141</td>\n",
       "    </tr>\n",
       "    <tr>\n",
       "      <th>XGBClassifier8</th>\n",
       "      <td>0.876378</td>\n",
       "      <td>0.784422</td>\n",
       "      <td>0.773100</td>\n",
       "      <td>0.778466</td>\n",
       "      <td>0.776360</td>\n",
       "    </tr>\n",
       "    <tr>\n",
       "      <th>XGBClassifier9</th>\n",
       "      <td>0.873228</td>\n",
       "      <td>0.786927</td>\n",
       "      <td>0.774543</td>\n",
       "      <td>0.780362</td>\n",
       "      <td>0.770882</td>\n",
       "    </tr>\n",
       "    <tr>\n",
       "      <th>XGBClassifier10</th>\n",
       "      <td>0.864567</td>\n",
       "      <td>0.768587</td>\n",
       "      <td>0.750098</td>\n",
       "      <td>0.758394</td>\n",
       "      <td>0.754524</td>\n",
       "    </tr>\n",
       "    <tr>\n",
       "      <th>XGBClassifier11</th>\n",
       "      <td>0.875591</td>\n",
       "      <td>0.785841</td>\n",
       "      <td>0.764867</td>\n",
       "      <td>0.774174</td>\n",
       "      <td>0.774539</td>\n",
       "    </tr>\n",
       "    <tr>\n",
       "      <th>XGBClassifier12</th>\n",
       "      <td>0.877953</td>\n",
       "      <td>0.789016</td>\n",
       "      <td>0.774439</td>\n",
       "      <td>0.781244</td>\n",
       "      <td>0.779009</td>\n",
       "    </tr>\n",
       "  </tbody>\n",
       "</table>\n",
       "</div>"
      ]
     },
     "execution_count": 46,
     "metadata": {},
     "output_type": "execute_result"
    }
   ],
   "execution_count": 46
  },
  {
   "metadata": {
    "ExecuteTime": {
     "end_time": "2024-11-03T14:27:33.017934Z",
     "start_time": "2024-11-03T14:27:33.011077Z"
    }
   },
   "cell_type": "code",
   "source": [
    "highest = df_smote[df_smote[\"kappa\"] == df_smote.iloc[1:][\"kappa\"].max()]\n",
    "idx = highest.index[0]\n",
    "\n",
    "confusion_matrix(pipeline.predictions[\"GT\"], pipeline.predictions[idx])"
   ],
   "id": "cdc894cce6a949f2",
   "outputs": [
    {
     "data": {
      "text/plain": [
       "array([[431,  41,  26],\n",
       "       [ 33, 635,  10],\n",
       "       [ 32,  13,  49]], dtype=int64)"
      ]
     },
     "execution_count": 47,
     "metadata": {},
     "output_type": "execute_result"
    }
   ],
   "execution_count": 47
  },
  {
   "metadata": {
    "ExecuteTime": {
     "end_time": "2024-11-03T14:27:33.086780Z",
     "start_time": "2024-11-03T14:27:33.083904Z"
    }
   },
   "cell_type": "code",
   "source": "",
   "id": "92315b05b4dd3a3b",
   "outputs": [],
   "execution_count": null
  },
  {
   "metadata": {
    "ExecuteTime": {
     "end_time": "2024-11-03T14:27:33.157345Z",
     "start_time": "2024-11-03T14:27:33.150546Z"
    }
   },
   "cell_type": "code",
   "source": [
    "df_sorted = df_smote.sort_values(\"kappa\", ascending=False)\n",
    "df_sorted.head(8).index"
   ],
   "id": "5e37bac0841521d4",
   "outputs": [
    {
     "data": {
      "text/plain": [
       "Index(['GT', 'XGBClassifier12', 'XGBClassifier4', 'XGBClassifier8',\n",
       "       'XGBClassifier7', 'XGBClassifier11', 'XGBClassifier9',\n",
       "       'XGBClassifier5'],\n",
       "      dtype='object')"
      ]
     },
     "execution_count": 48,
     "metadata": {},
     "output_type": "execute_result"
    }
   ],
   "execution_count": 48
  },
  {
   "metadata": {},
   "cell_type": "markdown",
   "source": [
    "___\n",
    "# Borderline SMOTE"
   ],
   "id": "1e752cdfc948f3bc"
  },
  {
   "metadata": {
    "ExecuteTime": {
     "end_time": "2024-11-03T14:27:33.322332Z",
     "start_time": "2024-11-03T14:27:33.160852Z"
    }
   },
   "cell_type": "code",
   "source": [
    "from imblearn.over_sampling import BorderlineSMOTE\n",
    "smote = BorderlineSMOTE(sampling_strategy='auto', random_state=42)\n",
    "\n",
    "pipeline.feature_matrix, pipeline.labels = smote.fit_resample(\n",
    "    np.nan_to_num(pipeline.backup_feature_matrix), pipeline.backup_labels)\n",
    "\n",
    "print(pipeline.backup_feature_matrix.shape)\n",
    "print(pipeline.feature_matrix.shape)\n",
    "\n",
    "print(pipeline.backup_labels.shape)\n",
    "print(pipeline.labels.shape)"
   ],
   "id": "ca12420fbcc1eb2b",
   "outputs": [
    {
     "name": "stdout",
     "output_type": "stream",
     "text": [
      "(5082, 190)\n",
      "(8139, 190)\n",
      "(5082,)\n",
      "(8139,)\n"
     ]
    }
   ],
   "execution_count": 49
  },
  {
   "metadata": {
    "ExecuteTime": {
     "end_time": "2024-11-03T14:31:05.505548Z",
     "start_time": "2024-11-03T14:27:33.344692Z"
    }
   },
   "cell_type": "code",
   "source": [
    "pipeline.fitted_classifiers = {}\n",
    "\n",
    "pipeline.fit_classifiers()"
   ],
   "id": "a4ea57f5e5a38f80",
   "outputs": [
    {
     "name": "stderr",
     "output_type": "stream",
     "text": [
      "INFO:utils.ml:Fitting classifiers...\n",
      "INFO:utils.ml:Fitting classifier: RandomForestClassifier0\n",
      "INFO:utils.ml:Top 10 features for RandomForestClassifier0: [('color_moments_lab_B_var', 0.02280485651507314), ('color_moments_rgb_B_iqr', 0.01948241848058574), ('color_moments_lab_B_std', 0.018483455795756963), ('color_moments_rgb_B_var', 0.016758705757086247), ('color_moments_rgb_R_iqr', 0.013408101003226938), ('color_moments_rgb_G_iqr', 0.012327187749164787), ('color_moments_rgb_B_std', 0.011997393964135157), ('color_moments_lab_L_iqr', 0.01183032350494857), ('color_moments_rgb_B_kurtosis', 0.011212692406473275), ('lbp_rad1_bins8_4', 0.011154352660797251)]\n",
      "INFO:utils.ml:Fitted classifier: RandomForestClassifier0; Done in 11.47402024269104 seconds\n",
      "INFO:utils.ml:Fitting classifier: RandomForestClassifier1\n",
      "INFO:utils.ml:Top 10 features for RandomForestClassifier1: [('color_moments_lab_B_std', 0.020128441003352194), ('color_moments_lab_B_var', 0.019880976228302403), ('color_moments_rgb_B_iqr', 0.018812581634701796), ('color_moments_lab_L_iqr', 0.015834817855951866), ('color_moments_rgb_B_var', 0.015275644750765874), ('color_moments_rgb_R_iqr', 0.015034576930721799), ('color_moments_rgb_G_iqr', 0.013301140278604032), ('color_moments_rgb_B_std', 0.012849313241183167), ('color_moments_rgb_B_kurtosis', 0.011721467595360295), ('lbp_rad1_bins8_4', 0.010508817608936294)]\n",
      "INFO:utils.ml:Fitted classifier: RandomForestClassifier1; Done in 11.863290071487427 seconds\n",
      "INFO:utils.ml:Fitting classifier: RandomForestClassifier2\n",
      "INFO:utils.ml:Top 10 features for RandomForestClassifier2: [('color_moments_lab_B_var', 0.021383569872175923), ('color_moments_lab_B_std', 0.020089809060832277), ('color_moments_rgb_B_iqr', 0.017667424570557276), ('color_moments_lab_L_iqr', 0.015572499802107679), ('color_moments_rgb_G_iqr', 0.01401602051510713), ('color_moments_rgb_B_var', 0.01369416463473604), ('color_moments_rgb_R_iqr', 0.013335781099405478), ('color_moments_rgb_B_std', 0.012231814313818846), ('color_moments_rgb_B_kurtosis', 0.011266723939818455), ('glcm_ASM_dist_1_angle_0', 0.011031277763573535)]\n",
      "INFO:utils.ml:Fitted classifier: RandomForestClassifier2; Done in 17.01311492919922 seconds\n",
      "INFO:utils.ml:Fitting classifier: RandomForestClassifier3\n",
      "INFO:utils.ml:Top 10 features for RandomForestClassifier3: [('color_moments_lab_B_var', 0.021303379237751642), ('color_moments_lab_B_std', 0.020281996250392426), ('color_moments_rgb_B_iqr', 0.017614118429402203), ('color_moments_rgb_B_var', 0.015261668183638815), ('color_moments_lab_L_iqr', 0.014435753022151969), ('color_moments_rgb_B_std', 0.013080369549999972), ('color_moments_rgb_R_iqr', 0.012939410026175525), ('color_moments_rgb_G_iqr', 0.011788859965546971), ('color_moments_rgb_B_kurtosis', 0.011487895183885415), ('gradient_direction_std', 0.010807965066410692)]\n",
      "INFO:utils.ml:Fitted classifier: RandomForestClassifier3; Done in 22.917953729629517 seconds\n",
      "INFO:utils.ml:Fitting classifier: XGBClassifier4\n",
      "INFO:utils.ml:Top 10 features for XGBClassifier4: [('color_moments_rgb_B_iqr', 0.05063034), ('glcm_ASM_dist_1_angle_0', 0.035926875), ('color_moments_lab_L_iqr', 0.02111112), ('color_moments_lab_L_std', 0.02104164), ('color_moments_hsv_H_mean', 0.018740276), ('lbp_rad1_bins8_4', 0.016606491), ('color_moments_lab_B_var', 0.014268953), ('color_moments_lab_B_std', 0.014062913), ('lbp_rad4_bins32_5', 0.011827953), ('gradient_magnitude_mean', 0.010818049)]\n",
      "INFO:utils.ml:Fitted classifier: XGBClassifier4; Done in 11.685874700546265 seconds\n",
      "INFO:utils.ml:Fitting classifier: XGBClassifier5\n",
      "INFO:utils.ml:Top 10 features for XGBClassifier5: [('color_moments_rgb_B_iqr', 0.039950494), ('color_moments_lab_L_iqr', 0.0342449), ('glcm_ASM_dist_1_angle_0', 0.025782289), ('color_moments_lab_L_std', 0.021433443), ('lbp_rad1_bins8_4', 0.014443532), ('color_moments_hsv_H_mean', 0.014380317), ('color_moments_lab_B_std', 0.014138149), ('lbp_rad4_bins32_5', 0.01401459), ('color_moments_lab_B_var', 0.011870552), ('gradient_direction_std', 0.011812696)]\n",
      "INFO:utils.ml:Fitted classifier: XGBClassifier5; Done in 12.223010301589966 seconds\n",
      "INFO:utils.ml:Fitting classifier: XGBClassifier6\n",
      "INFO:utils.ml:Top 10 features for XGBClassifier6: [('color_moments_rgb_B_iqr', 0.050214447), ('glcm_ASM_dist_1_angle_0', 0.029803582), ('color_moments_lab_L_iqr', 0.025818266), ('color_moments_hsv_H_mean', 0.02058276), ('color_moments_lab_L_std', 0.018899739), ('lbp_rad1_bins8_4', 0.01726074), ('color_moments_lab_B_std', 0.015131997), ('color_moments_lab_B_var', 0.013438716), ('lbp_rad4_bins32_5', 0.012567418), ('gradient_magnitude_mean', 0.012177098)]\n",
      "INFO:utils.ml:Fitted classifier: XGBClassifier6; Done in 7.236449718475342 seconds\n",
      "INFO:utils.ml:Fitting classifier: XGBClassifier7\n",
      "INFO:utils.ml:Top 10 features for XGBClassifier7: [('color_moments_rgb_B_iqr', 0.045970015), ('glcm_ASM_dist_1_angle_0', 0.03179661), ('color_moments_lab_L_iqr', 0.021174446), ('color_moments_hsv_H_mean', 0.020538293), ('color_moments_lab_L_std', 0.020248782), ('lbp_rad1_bins8_4', 0.018914787), ('color_moments_lab_B_std', 0.015030719), ('color_moments_lab_B_var', 0.014978928), ('gradient_magnitude_mean', 0.012836188), ('lbp_rad4_bins32_5', 0.0125328405)]\n",
      "INFO:utils.ml:Fitted classifier: XGBClassifier7; Done in 11.0241060256958 seconds\n",
      "INFO:utils.ml:Fitting classifier: XGBClassifier8\n",
      "INFO:utils.ml:Top 10 features for XGBClassifier8: [('color_moments_rgb_B_iqr', 0.05049284), ('glcm_ASM_dist_1_angle_0', 0.03432242), ('color_moments_lab_L_iqr', 0.02160971), ('color_moments_lab_L_std', 0.020628657), ('color_moments_hsv_H_mean', 0.019279918), ('lbp_rad1_bins8_4', 0.016339235), ('color_moments_lab_B_var', 0.014388175), ('color_moments_lab_B_std', 0.014295616), ('lbp_rad4_bins32_5', 0.011939452), ('gradient_magnitude_mean', 0.011729697)]\n",
      "INFO:utils.ml:Fitted classifier: XGBClassifier8; Done in 15.089080810546875 seconds\n",
      "INFO:utils.ml:Fitting classifier: XGBClassifier9\n",
      "INFO:utils.ml:Top 10 features for XGBClassifier9: [('color_moments_rgb_B_iqr', 0.039774343), ('color_moments_lab_L_iqr', 0.033135764), ('glcm_ASM_dist_1_angle_0', 0.02672128), ('color_moments_lab_L_std', 0.021477621), ('lbp_rad1_bins8_4', 0.014733655), ('color_moments_hsv_H_mean', 0.014585203), ('color_moments_lab_B_std', 0.01440093), ('lbp_rad4_bins32_5', 0.013637574), ('color_moments_lab_B_var', 0.0121423835), ('gradient_direction_std', 0.012119458)]\n",
      "INFO:utils.ml:Fitted classifier: XGBClassifier9; Done in 22.484920978546143 seconds\n",
      "INFO:utils.ml:Fitting classifier: XGBClassifier10\n",
      "INFO:utils.ml:Top 10 features for XGBClassifier10: [('color_moments_rgb_B_iqr', 0.050162464), ('glcm_ASM_dist_1_angle_0', 0.029847028), ('color_moments_lab_L_iqr', 0.024903433), ('color_moments_hsv_H_mean', 0.020688474), ('color_moments_lab_L_std', 0.018971048), ('lbp_rad1_bins8_4', 0.017034182), ('color_moments_lab_B_std', 0.015122685), ('color_moments_lab_B_var', 0.013431191), ('lbp_rad4_bins32_5', 0.012590351), ('gradient_magnitude_mean', 0.012315086)]\n",
      "INFO:utils.ml:Fitted classifier: XGBClassifier10; Done in 14.213650941848755 seconds\n",
      "INFO:utils.ml:Fitting classifier: XGBClassifier11\n",
      "INFO:utils.ml:Top 10 features for XGBClassifier11: [('color_moments_rgb_B_iqr', 0.046862975), ('glcm_ASM_dist_1_angle_0', 0.034179017), ('color_moments_lab_L_std', 0.02125365), ('color_moments_hsv_H_mean', 0.020997433), ('color_moments_lab_L_iqr', 0.020430533), ('lbp_rad1_bins8_4', 0.018684259), ('color_moments_lab_B_var', 0.014984801), ('color_moments_lab_B_std', 0.014960074), ('gradient_magnitude_mean', 0.013067981), ('lbp_rad4_bins32_5', 0.012421267)]\n",
      "INFO:utils.ml:Fitted classifier: XGBClassifier11; Done in 23.35152554512024 seconds\n",
      "INFO:utils.ml:Fitting classifier: XGBClassifier12\n",
      "INFO:utils.ml:Top 10 features for XGBClassifier12: [('color_moments_rgb_B_iqr', 0.050870907), ('glcm_ASM_dist_1_angle_0', 0.03479531), ('color_moments_lab_L_iqr', 0.021694478), ('color_moments_lab_L_std', 0.020538932), ('color_moments_hsv_H_mean', 0.018701129), ('lbp_rad1_bins8_4', 0.016361222), ('color_moments_lab_B_var', 0.014592344), ('color_moments_lab_B_std', 0.0142593635), ('gradient_magnitude_mean', 0.011665482), ('lbp_rad4_bins32_5', 0.011594051)]\n",
      "INFO:utils.ml:Fitted classifier: XGBClassifier12; Done in 31.5810284614563 seconds\n",
      "INFO:utils.ml:Fitting completed in 212.16 seconds.\n"
     ]
    }
   ],
   "execution_count": 50
  },
  {
   "metadata": {
    "ExecuteTime": {
     "end_time": "2024-11-03T14:33:38.019564Z",
     "start_time": "2024-11-03T14:31:05.544340Z"
    }
   },
   "cell_type": "code",
   "source": "pipeline.predict_with_classifiers(VAL_PATH, percent)",
   "id": "156c56b343fa5df1",
   "outputs": [
    {
     "name": "stderr",
     "output_type": "stream",
     "text": [
      "INFO:utils.ml:Predicting with classifiers on dataset: C:\\Users\\gimes\\Src\\repos\\CADx-Project\\dataset\\multiclass\\val\n"
     ]
    },
    {
     "name": "stdout",
     "output_type": "stream",
     "text": [
      "Processed 5/53 batches.\n",
      "Processed 10/53 batches.\n",
      "Processed 15/53 batches.\n",
      "Processed 20/53 batches.\n",
      "Processed 25/53 batches.\n",
      "Processed 30/53 batches.\n",
      "Processed 35/53 batches.\n",
      "Processed 40/53 batches.\n",
      "Processed 45/53 batches.\n",
      "Processed 50/53 batches.\n"
     ]
    },
    {
     "name": "stderr",
     "output_type": "stream",
     "text": [
      "INFO:utils.ml:Predictions made with classifier: RandomForestClassifier0\n",
      "INFO:utils.ml:Predictions made with classifier: RandomForestClassifier1\n",
      "INFO:utils.ml:Predictions made with classifier: RandomForestClassifier2\n",
      "INFO:utils.ml:Predictions made with classifier: RandomForestClassifier3\n",
      "INFO:utils.ml:Predictions made with classifier: XGBClassifier4\n",
      "INFO:utils.ml:Predictions made with classifier: XGBClassifier5\n",
      "INFO:utils.ml:Predictions made with classifier: XGBClassifier6\n",
      "INFO:utils.ml:Predictions made with classifier: XGBClassifier7\n",
      "INFO:utils.ml:Predictions made with classifier: XGBClassifier8\n",
      "INFO:utils.ml:Predictions made with classifier: XGBClassifier9\n"
     ]
    },
    {
     "name": "stdout",
     "output_type": "stream",
     "text": [
      "Processed 53/53 batches.\n"
     ]
    },
    {
     "name": "stderr",
     "output_type": "stream",
     "text": [
      "INFO:utils.ml:Predictions made with classifier: XGBClassifier10\n",
      "INFO:utils.ml:Predictions made with classifier: XGBClassifier11\n",
      "INFO:utils.ml:Predictions made with classifier: XGBClassifier12\n"
     ]
    },
    {
     "data": {
      "text/plain": [
       "{'GT': array([0, 0, 0, ..., 2, 2, 2]),\n",
       " 'RandomForestClassifier0': array([0, 0, 2, ..., 1, 2, 0]),\n",
       " 'RandomForestClassifier1': array([0, 0, 2, ..., 1, 2, 0]),\n",
       " 'RandomForestClassifier2': array([0, 0, 2, ..., 1, 2, 0]),\n",
       " 'RandomForestClassifier3': array([0, 0, 2, ..., 1, 2, 0]),\n",
       " 'XGBClassifier4': array([0, 0, 2, ..., 0, 2, 2], dtype=int64),\n",
       " 'XGBClassifier5': array([0, 0, 2, ..., 0, 2, 0], dtype=int64),\n",
       " 'XGBClassifier6': array([0, 0, 2, ..., 0, 2, 0], dtype=int64),\n",
       " 'XGBClassifier7': array([0, 0, 2, ..., 0, 2, 0], dtype=int64),\n",
       " 'XGBClassifier8': array([0, 0, 2, ..., 0, 2, 2], dtype=int64),\n",
       " 'XGBClassifier9': array([0, 0, 2, ..., 0, 2, 0], dtype=int64),\n",
       " 'XGBClassifier10': array([0, 0, 2, ..., 0, 2, 0], dtype=int64),\n",
       " 'XGBClassifier11': array([0, 0, 2, ..., 0, 2, 0], dtype=int64),\n",
       " 'XGBClassifier12': array([0, 0, 2, ..., 0, 2, 2], dtype=int64)}"
      ]
     },
     "execution_count": 51,
     "metadata": {},
     "output_type": "execute_result"
    }
   ],
   "execution_count": 51
  },
  {
   "metadata": {
    "ExecuteTime": {
     "end_time": "2024-11-03T14:33:38.140289Z",
     "start_time": "2024-11-03T14:33:38.050555Z"
    }
   },
   "cell_type": "code",
   "source": [
    "df_borderline_smote = pd.DataFrame(data=pipeline.calculate_metrics(\n",
    "    [\"accuracy\", \"precision\", \"recall\", \"f1\", \"kappa\"],))\n",
    "df_borderline_smote = df_borderline_smote.T\n",
    "df_borderline_smote"
   ],
   "id": "dec33139485e5176",
   "outputs": [
    {
     "name": "stderr",
     "output_type": "stream",
     "text": [
      "INFO:utils.ml:Metrics for classifier GT: {'accuracy': 1.0, 'precision': 1.0, 'recall': 1.0, 'f1': 1.0, 'kappa': 1.0}\n",
      "INFO:utils.ml:Metrics for classifier RandomForestClassifier0: {'accuracy': 0.8496062992125984, 'precision': 0.7657490758860622, 'recall': 0.7350031520042387, 'f1': 0.7474814767120478, 'kappa': 0.7271342629464145}\n",
      "INFO:utils.ml:Metrics for classifier RandomForestClassifier1: {'accuracy': 0.841732283464567, 'precision': 0.7468524157482639, 'recall': 0.7349517318631206, 'f1': 0.7402115336643464, 'kappa': 0.7146788334547926}\n",
      "INFO:utils.ml:Metrics for classifier RandomForestClassifier2: {'accuracy': 0.8543307086614174, 'precision': 0.7691407018351097, 'recall': 0.7386638123447157, 'f1': 0.7509721903807641, 'kappa': 0.7358129472457979}\n",
      "INFO:utils.ml:Metrics for classifier RandomForestClassifier3: {'accuracy': 0.8519685039370078, 'precision': 0.7675434193819887, 'recall': 0.7336013230099838, 'f1': 0.7470597574662615, 'kappa': 0.7311757738435694}\n",
      "INFO:utils.ml:Metrics for classifier XGBClassifier4: {'accuracy': 0.8669291338582678, 'precision': 0.7776976401851069, 'recall': 0.7609138619374253, 'f1': 0.768606288744798, 'kappa': 0.7589759368978048}\n",
      "INFO:utils.ml:Metrics for classifier XGBClassifier5: {'accuracy': 0.8645669291338582, 'precision': 0.7722094050304009, 'recall': 0.7617825850568533, 'f1': 0.7667249374433868, 'kappa': 0.7552405240299932}\n",
      "INFO:utils.ml:Metrics for classifier XGBClassifier6: {'accuracy': 0.8653543307086614, 'precision': 0.7633781033781033, 'recall': 0.7599305777683004, 'f1': 0.7615980679220055, 'kappa': 0.7575426703464537}\n",
      "INFO:utils.ml:Metrics for classifier XGBClassifier7: {'accuracy': 0.8716535433070867, 'precision': 0.7774304900306644, 'recall': 0.7618754689882357, 'f1': 0.7689574642451357, 'kappa': 0.7678146016249949}\n",
      "INFO:utils.ml:Metrics for classifier XGBClassifier8: {'accuracy': 0.8708661417322835, 'precision': 0.7844826002796657, 'recall': 0.7604953171122953, 'f1': 0.7711173686902679, 'kappa': 0.7654441111021019}\n",
      "INFO:utils.ml:Metrics for classifier XGBClassifier9: {'accuracy': 0.8637795275590551, 'precision': 0.7718621999195374, 'recall': 0.7609355390557396, 'f1': 0.7661150575457603, 'kappa': 0.753618735337786}\n",
      "INFO:utils.ml:Metrics for classifier XGBClassifier10: {'accuracy': 0.8645669291338582, 'precision': 0.7641737891737891, 'recall': 0.7592612337254624, 'f1': 0.7616261386844618, 'kappa': 0.7559656805791403}\n",
      "INFO:utils.ml:Metrics for classifier XGBClassifier11: {'accuracy': 0.8732283464566929, 'precision': 0.7839398199360866, 'recall': 0.7633918590321872, 'f1': 0.7724620005485443, 'kappa': 0.7704441350817316}\n",
      "INFO:utils.ml:Metrics for classifier XGBClassifier12: {'accuracy': 0.8716535433070867, 'precision': 0.7831956384773285, 'recall': 0.7608092572385822, 'f1': 0.7708169021537342, 'kappa': 0.7668858809486272}\n"
     ]
    },
    {
     "data": {
      "text/plain": [
       "                         accuracy  precision    recall        f1     kappa\n",
       "GT                       1.000000   1.000000  1.000000  1.000000  1.000000\n",
       "RandomForestClassifier0  0.849606   0.765749  0.735003  0.747481  0.727134\n",
       "RandomForestClassifier1  0.841732   0.746852  0.734952  0.740212  0.714679\n",
       "RandomForestClassifier2  0.854331   0.769141  0.738664  0.750972  0.735813\n",
       "RandomForestClassifier3  0.851969   0.767543  0.733601  0.747060  0.731176\n",
       "XGBClassifier4           0.866929   0.777698  0.760914  0.768606  0.758976\n",
       "XGBClassifier5           0.864567   0.772209  0.761783  0.766725  0.755241\n",
       "XGBClassifier6           0.865354   0.763378  0.759931  0.761598  0.757543\n",
       "XGBClassifier7           0.871654   0.777430  0.761875  0.768957  0.767815\n",
       "XGBClassifier8           0.870866   0.784483  0.760495  0.771117  0.765444\n",
       "XGBClassifier9           0.863780   0.771862  0.760936  0.766115  0.753619\n",
       "XGBClassifier10          0.864567   0.764174  0.759261  0.761626  0.755966\n",
       "XGBClassifier11          0.873228   0.783940  0.763392  0.772462  0.770444\n",
       "XGBClassifier12          0.871654   0.783196  0.760809  0.770817  0.766886"
      ],
      "text/html": [
       "<div>\n",
       "<style scoped>\n",
       "    .dataframe tbody tr th:only-of-type {\n",
       "        vertical-align: middle;\n",
       "    }\n",
       "\n",
       "    .dataframe tbody tr th {\n",
       "        vertical-align: top;\n",
       "    }\n",
       "\n",
       "    .dataframe thead th {\n",
       "        text-align: right;\n",
       "    }\n",
       "</style>\n",
       "<table border=\"1\" class=\"dataframe\">\n",
       "  <thead>\n",
       "    <tr style=\"text-align: right;\">\n",
       "      <th></th>\n",
       "      <th>accuracy</th>\n",
       "      <th>precision</th>\n",
       "      <th>recall</th>\n",
       "      <th>f1</th>\n",
       "      <th>kappa</th>\n",
       "    </tr>\n",
       "  </thead>\n",
       "  <tbody>\n",
       "    <tr>\n",
       "      <th>GT</th>\n",
       "      <td>1.000000</td>\n",
       "      <td>1.000000</td>\n",
       "      <td>1.000000</td>\n",
       "      <td>1.000000</td>\n",
       "      <td>1.000000</td>\n",
       "    </tr>\n",
       "    <tr>\n",
       "      <th>RandomForestClassifier0</th>\n",
       "      <td>0.849606</td>\n",
       "      <td>0.765749</td>\n",
       "      <td>0.735003</td>\n",
       "      <td>0.747481</td>\n",
       "      <td>0.727134</td>\n",
       "    </tr>\n",
       "    <tr>\n",
       "      <th>RandomForestClassifier1</th>\n",
       "      <td>0.841732</td>\n",
       "      <td>0.746852</td>\n",
       "      <td>0.734952</td>\n",
       "      <td>0.740212</td>\n",
       "      <td>0.714679</td>\n",
       "    </tr>\n",
       "    <tr>\n",
       "      <th>RandomForestClassifier2</th>\n",
       "      <td>0.854331</td>\n",
       "      <td>0.769141</td>\n",
       "      <td>0.738664</td>\n",
       "      <td>0.750972</td>\n",
       "      <td>0.735813</td>\n",
       "    </tr>\n",
       "    <tr>\n",
       "      <th>RandomForestClassifier3</th>\n",
       "      <td>0.851969</td>\n",
       "      <td>0.767543</td>\n",
       "      <td>0.733601</td>\n",
       "      <td>0.747060</td>\n",
       "      <td>0.731176</td>\n",
       "    </tr>\n",
       "    <tr>\n",
       "      <th>XGBClassifier4</th>\n",
       "      <td>0.866929</td>\n",
       "      <td>0.777698</td>\n",
       "      <td>0.760914</td>\n",
       "      <td>0.768606</td>\n",
       "      <td>0.758976</td>\n",
       "    </tr>\n",
       "    <tr>\n",
       "      <th>XGBClassifier5</th>\n",
       "      <td>0.864567</td>\n",
       "      <td>0.772209</td>\n",
       "      <td>0.761783</td>\n",
       "      <td>0.766725</td>\n",
       "      <td>0.755241</td>\n",
       "    </tr>\n",
       "    <tr>\n",
       "      <th>XGBClassifier6</th>\n",
       "      <td>0.865354</td>\n",
       "      <td>0.763378</td>\n",
       "      <td>0.759931</td>\n",
       "      <td>0.761598</td>\n",
       "      <td>0.757543</td>\n",
       "    </tr>\n",
       "    <tr>\n",
       "      <th>XGBClassifier7</th>\n",
       "      <td>0.871654</td>\n",
       "      <td>0.777430</td>\n",
       "      <td>0.761875</td>\n",
       "      <td>0.768957</td>\n",
       "      <td>0.767815</td>\n",
       "    </tr>\n",
       "    <tr>\n",
       "      <th>XGBClassifier8</th>\n",
       "      <td>0.870866</td>\n",
       "      <td>0.784483</td>\n",
       "      <td>0.760495</td>\n",
       "      <td>0.771117</td>\n",
       "      <td>0.765444</td>\n",
       "    </tr>\n",
       "    <tr>\n",
       "      <th>XGBClassifier9</th>\n",
       "      <td>0.863780</td>\n",
       "      <td>0.771862</td>\n",
       "      <td>0.760936</td>\n",
       "      <td>0.766115</td>\n",
       "      <td>0.753619</td>\n",
       "    </tr>\n",
       "    <tr>\n",
       "      <th>XGBClassifier10</th>\n",
       "      <td>0.864567</td>\n",
       "      <td>0.764174</td>\n",
       "      <td>0.759261</td>\n",
       "      <td>0.761626</td>\n",
       "      <td>0.755966</td>\n",
       "    </tr>\n",
       "    <tr>\n",
       "      <th>XGBClassifier11</th>\n",
       "      <td>0.873228</td>\n",
       "      <td>0.783940</td>\n",
       "      <td>0.763392</td>\n",
       "      <td>0.772462</td>\n",
       "      <td>0.770444</td>\n",
       "    </tr>\n",
       "    <tr>\n",
       "      <th>XGBClassifier12</th>\n",
       "      <td>0.871654</td>\n",
       "      <td>0.783196</td>\n",
       "      <td>0.760809</td>\n",
       "      <td>0.770817</td>\n",
       "      <td>0.766886</td>\n",
       "    </tr>\n",
       "  </tbody>\n",
       "</table>\n",
       "</div>"
      ]
     },
     "execution_count": 52,
     "metadata": {},
     "output_type": "execute_result"
    }
   ],
   "execution_count": 52
  },
  {
   "metadata": {
    "ExecuteTime": {
     "end_time": "2024-11-03T14:33:38.195840Z",
     "start_time": "2024-11-03T14:33:38.188896Z"
    }
   },
   "cell_type": "code",
   "source": [
    "highest = df_borderline_smote[df_borderline_smote[\"kappa\"] == df_borderline_smote.iloc[1:][\"kappa\"].max()]\n",
    "idx = highest.index[0]\n",
    "\n",
    "confusion_matrix(pipeline.predictions[\"GT\"], pipeline.predictions[idx])"
   ],
   "id": "5e3d245571ac5c69",
   "outputs": [
    {
     "data": {
      "text/plain": [
       "array([[437,  38,  23],\n",
       "       [ 41, 626,  11],\n",
       "       [ 34,  14,  46]], dtype=int64)"
      ]
     },
     "execution_count": 53,
     "metadata": {},
     "output_type": "execute_result"
    }
   ],
   "execution_count": 53
  },
  {
   "metadata": {},
   "cell_type": "markdown",
   "source": "",
   "id": "4177e527fe0edeb1"
  },
  {
   "metadata": {},
   "cell_type": "markdown",
   "source": [
    "___\n",
    "# PCA"
   ],
   "id": "ba27735e389e88cf"
  },
  {
   "metadata": {
    "ExecuteTime": {
     "end_time": "2024-11-03T14:35:43.026116Z",
     "start_time": "2024-11-03T14:33:38.264022Z"
    }
   },
   "cell_type": "code",
   "source": [
    "from sklearn.decomposition import PCA\n",
    "from imblearn.over_sampling import BorderlineSMOTE\n",
    "smote = BorderlineSMOTE(sampling_strategy='auto', random_state=42)\n",
    "\n",
    "pipeline.feature_matrix, pipeline.labels = smote.fit_resample(\n",
    "    np.nan_to_num(pipeline.backup_feature_matrix), pipeline.backup_labels)\n",
    "\n",
    "pca = PCA(n_components=100)\n",
    "\n",
    "pipeline.feature_matrix = pca.fit_transform(pipeline.feature_matrix, pipeline.labels)\n",
    "\n",
    "print(pipeline.backup_feature_matrix.shape)\n",
    "print(pipeline.feature_matrix.shape)\n",
    "\n",
    "print(pipeline.backup_labels.shape)\n",
    "print(pipeline.labels.shape)\n",
    "\n",
    "print(pca.get_feature_names_out())\n",
    "\n",
    "pipeline.fitted_classifiers = {}\n",
    "pipeline.fit_classifiers()"
   ],
   "id": "7f3f0be89a7b9f88",
   "outputs": [
    {
     "name": "stderr",
     "output_type": "stream",
     "text": [
      "INFO:utils.ml:Fitting classifiers...\n"
     ]
    },
    {
     "name": "stdout",
     "output_type": "stream",
     "text": [
      "(5082, 190)\n",
      "(8139, 100)\n",
      "(5082,)\n",
      "(8139,)\n",
      "['pca0' 'pca1' 'pca2' 'pca3' 'pca4' 'pca5' 'pca6' 'pca7' 'pca8' 'pca9'\n",
      " 'pca10' 'pca11' 'pca12' 'pca13' 'pca14' 'pca15' 'pca16' 'pca17' 'pca18'\n",
      " 'pca19' 'pca20' 'pca21' 'pca22' 'pca23' 'pca24' 'pca25' 'pca26' 'pca27'\n",
      " 'pca28' 'pca29' 'pca30' 'pca31' 'pca32' 'pca33' 'pca34' 'pca35' 'pca36'\n",
      " 'pca37' 'pca38' 'pca39' 'pca40' 'pca41' 'pca42' 'pca43' 'pca44' 'pca45'\n",
      " 'pca46' 'pca47' 'pca48' 'pca49' 'pca50' 'pca51' 'pca52' 'pca53' 'pca54'\n",
      " 'pca55' 'pca56' 'pca57' 'pca58' 'pca59' 'pca60' 'pca61' 'pca62' 'pca63'\n",
      " 'pca64' 'pca65' 'pca66' 'pca67' 'pca68' 'pca69' 'pca70' 'pca71' 'pca72'\n",
      " 'pca73' 'pca74' 'pca75' 'pca76' 'pca77' 'pca78' 'pca79' 'pca80' 'pca81'\n",
      " 'pca82' 'pca83' 'pca84' 'pca85' 'pca86' 'pca87' 'pca88' 'pca89' 'pca90'\n",
      " 'pca91' 'pca92' 'pca93' 'pca94' 'pca95' 'pca96' 'pca97' 'pca98' 'pca99']\n"
     ]
    },
    {
     "name": "stderr",
     "output_type": "stream",
     "text": [
      "INFO:utils.ml:Fitting classifier: RandomForestClassifier0\n",
      "INFO:utils.ml:Top 10 features for RandomForestClassifier0: [('gradient_direction_mean', 0.04955539805118837), ('color_moments_rgb_R_median', 0.030846212098150066), ('color_moments_rgb_R_skew', 0.024109006919812246), ('gradient_magnitude_std', 0.022834336064755933), ('color_moments_lab_B_min', 0.02175719407989049), ('color_moments_lab_L_var', 0.020520016183174943), ('gradient_direction_std', 0.020251705585997506), ('color_moments_rgb_B_max', 0.01814614978390262), ('color_moments_lab_A_mean', 0.016984353311596076), ('color_moments_rgb_G_entropy', 0.015360724080591534)]\n",
      "INFO:utils.ml:Fitted classifier: RandomForestClassifier0; Done in 10.875952005386353 seconds\n",
      "INFO:utils.ml:Fitting classifier: RandomForestClassifier1\n",
      "INFO:utils.ml:Top 10 features for RandomForestClassifier1: [('gradient_direction_mean', 0.04796118427919965), ('color_moments_rgb_R_median', 0.03110844334017325), ('color_moments_rgb_R_skew', 0.022484593770461175), ('gradient_magnitude_std', 0.022154507303362186), ('gradient_direction_std', 0.02130303569371758), ('color_moments_lab_B_min', 0.021302926550013035), ('color_moments_lab_L_var', 0.020801744666789867), ('color_moments_rgb_B_max', 0.018767097443949873), ('color_moments_lab_A_mean', 0.017622308477272367), ('color_moments_rgb_G_entropy', 0.016145537238780646)]\n",
      "INFO:utils.ml:Fitted classifier: RandomForestClassifier1; Done in 11.302027940750122 seconds\n",
      "INFO:utils.ml:Fitting classifier: RandomForestClassifier2\n",
      "INFO:utils.ml:Top 10 features for RandomForestClassifier2: [('gradient_direction_mean', 0.049270273832855226), ('color_moments_rgb_R_median', 0.031436761027166346), ('color_moments_rgb_R_skew', 0.02390898634431376), ('gradient_magnitude_std', 0.022204237898096484), ('color_moments_lab_B_min', 0.022004977880894592), ('color_moments_lab_L_var', 0.02036587448567134), ('gradient_direction_std', 0.02020301620085543), ('color_moments_rgb_B_max', 0.018697945239358558), ('color_moments_lab_A_mean', 0.017105870693850344), ('color_moments_rgb_G_entropy', 0.015456541730966602)]\n",
      "INFO:utils.ml:Fitted classifier: RandomForestClassifier2; Done in 16.263768196105957 seconds\n",
      "INFO:utils.ml:Fitting classifier: RandomForestClassifier3\n",
      "INFO:utils.ml:Top 10 features for RandomForestClassifier3: [('gradient_direction_mean', 0.049995526446563646), ('color_moments_rgb_R_median', 0.031011187684510978), ('color_moments_rgb_R_skew', 0.024168863852632394), ('gradient_magnitude_std', 0.022582367754033675), ('color_moments_lab_B_min', 0.021375275224116683), ('color_moments_lab_L_var', 0.02025939798386047), ('gradient_direction_std', 0.020071605789421087), ('color_moments_rgb_B_max', 0.018927123157583468), ('color_moments_lab_A_mean', 0.017050647638307593), ('color_moments_rgb_G_entropy', 0.015540854667054677)]\n",
      "INFO:utils.ml:Fitted classifier: RandomForestClassifier3; Done in 21.51552724838257 seconds\n",
      "INFO:utils.ml:Fitting classifier: XGBClassifier4\n",
      "INFO:utils.ml:Top 10 features for XGBClassifier4: [('gradient_direction_mean', 0.050538592), ('color_moments_rgb_R_median', 0.02545273), ('color_moments_lab_B_min', 0.022406656), ('color_moments_rgb_R_skew', 0.021478944), ('color_moments_lab_L_var', 0.018791987), ('gradient_direction_std', 0.017775217), ('lbp_rad1_bins8_3', 0.016958889), ('color_moments_rgb_G_std', 0.016777214), ('color_moments_hsv_H_min', 0.0161289), ('color_moments_rgb_G_entropy', 0.015766706)]\n",
      "INFO:utils.ml:Fitted classifier: XGBClassifier4; Done in 6.828068256378174 seconds\n",
      "INFO:utils.ml:Fitting classifier: XGBClassifier5\n",
      "INFO:utils.ml:Top 10 features for XGBClassifier5: [('gradient_direction_mean', 0.046941437), ('color_moments_rgb_R_median', 0.023172023), ('color_moments_lab_B_min', 0.021809867), ('color_moments_rgb_R_skew', 0.021034153), ('color_moments_lab_L_var', 0.018672716), ('gradient_magnitude_std', 0.018159576), ('gradient_direction_std', 0.017611511), ('color_moments_rgb_G_entropy', 0.016046397), ('color_moments_rgb_B_max', 0.015259605), ('color_moments_hsv_H_min', 0.015103031)]\n",
      "INFO:utils.ml:Fitted classifier: XGBClassifier5; Done in 6.984236717224121 seconds\n",
      "INFO:utils.ml:Fitting classifier: XGBClassifier6\n",
      "INFO:utils.ml:Top 10 features for XGBClassifier6: [('gradient_direction_mean', 0.048074093), ('color_moments_rgb_R_median', 0.023573289), ('color_moments_lab_B_min', 0.022469271), ('color_moments_rgb_R_skew', 0.021714406), ('color_moments_lab_L_var', 0.018585274), ('color_moments_rgb_G_std', 0.017536743), ('color_moments_rgb_B_max', 0.016450088), ('color_moments_hsv_H_min', 0.016425401), ('gradient_direction_std', 0.016399985), ('color_moments_rgb_G_entropy', 0.015761739)]\n",
      "INFO:utils.ml:Fitted classifier: XGBClassifier6; Done in 4.2076640129089355 seconds\n",
      "INFO:utils.ml:Fitting classifier: XGBClassifier7\n",
      "INFO:utils.ml:Top 10 features for XGBClassifier7: [('gradient_direction_mean', 0.053440798), ('color_moments_rgb_R_median', 0.026483556), ('color_moments_lab_B_min', 0.02286883), ('color_moments_rgb_R_skew', 0.02248011), ('color_moments_lab_L_var', 0.020901028), ('color_moments_rgb_G_std', 0.018062085), ('gradient_direction_std', 0.017405292), ('color_moments_hsv_H_min', 0.01721377), ('color_moments_rgb_G_entropy', 0.016719276), ('lbp_rad1_bins8_3', 0.016501218)]\n",
      "INFO:utils.ml:Fitted classifier: XGBClassifier7; Done in 6.278786897659302 seconds\n",
      "INFO:utils.ml:Fitting classifier: XGBClassifier8\n",
      "INFO:utils.ml:Top 10 features for XGBClassifier8: [('gradient_direction_mean', 0.050778415), ('color_moments_rgb_R_median', 0.02538949), ('color_moments_lab_B_min', 0.022525122), ('color_moments_rgb_R_skew', 0.02172477), ('color_moments_lab_L_var', 0.018997993), ('gradient_direction_std', 0.017772378), ('lbp_rad1_bins8_3', 0.016939979), ('color_moments_rgb_G_std', 0.016475141), ('color_moments_hsv_H_min', 0.016047664), ('color_moments_rgb_G_entropy', 0.015735293)]\n",
      "INFO:utils.ml:Fitted classifier: XGBClassifier8; Done in 8.58348798751831 seconds\n",
      "INFO:utils.ml:Fitting classifier: XGBClassifier9\n",
      "INFO:utils.ml:Top 10 features for XGBClassifier9: [('gradient_direction_mean', 0.047589995), ('color_moments_rgb_R_median', 0.02317865), ('color_moments_lab_B_min', 0.021933045), ('color_moments_rgb_R_skew', 0.021048112), ('color_moments_lab_L_var', 0.018805163), ('gradient_magnitude_std', 0.018382652), ('gradient_direction_std', 0.017936246), ('color_moments_rgb_G_entropy', 0.016100429), ('color_moments_hsv_H_min', 0.015346052), ('color_moments_rgb_B_max', 0.015152955)]\n",
      "INFO:utils.ml:Fitted classifier: XGBClassifier9; Done in 8.56642484664917 seconds\n",
      "INFO:utils.ml:Fitting classifier: XGBClassifier10\n",
      "INFO:utils.ml:Top 10 features for XGBClassifier10: [('gradient_direction_mean', 0.04832716), ('color_moments_rgb_R_median', 0.023665126), ('color_moments_lab_B_min', 0.022347834), ('color_moments_rgb_R_skew', 0.021567471), ('color_moments_lab_L_var', 0.018641448), ('color_moments_rgb_G_std', 0.017534077), ('color_moments_rgb_B_max', 0.016506664), ('color_moments_hsv_H_min', 0.0164984), ('gradient_direction_std', 0.016415471), ('color_moments_rgb_G_entropy', 0.015647387)]\n",
      "INFO:utils.ml:Fitted classifier: XGBClassifier10; Done in 4.873077869415283 seconds\n",
      "INFO:utils.ml:Fitting classifier: XGBClassifier11\n",
      "INFO:utils.ml:Top 10 features for XGBClassifier11: [('gradient_direction_mean', 0.05431215), ('color_moments_rgb_R_median', 0.026653448), ('color_moments_lab_B_min', 0.023048982), ('color_moments_rgb_R_skew', 0.022623915), ('color_moments_lab_L_var', 0.020928273), ('color_moments_rgb_G_std', 0.017916912), ('color_moments_hsv_H_min', 0.017619528), ('gradient_direction_std', 0.017355159), ('color_moments_rgb_G_entropy', 0.017117122), ('lbp_rad1_bins8_3', 0.016711392)]\n",
      "INFO:utils.ml:Fitted classifier: XGBClassifier11; Done in 8.09530234336853 seconds\n",
      "INFO:utils.ml:Fitting classifier: XGBClassifier12\n",
      "INFO:utils.ml:Top 10 features for XGBClassifier12: [('gradient_direction_mean', 0.050897323), ('color_moments_rgb_R_median', 0.025474241), ('color_moments_lab_B_min', 0.022713792), ('color_moments_rgb_R_skew', 0.021712814), ('color_moments_lab_L_var', 0.01917481), ('gradient_direction_std', 0.017877871), ('lbp_rad1_bins8_3', 0.016728759), ('color_moments_hsv_H_min', 0.016314449), ('color_moments_rgb_G_std', 0.016271388), ('color_moments_rgb_G_entropy', 0.015728189)]\n",
      "INFO:utils.ml:Fitted classifier: XGBClassifier12; Done in 10.162327289581299 seconds\n",
      "INFO:utils.ml:Fitting completed in 124.57 seconds.\n"
     ]
    }
   ],
   "execution_count": 54
  },
  {
   "metadata": {
    "ExecuteTime": {
     "end_time": "2024-11-03T14:38:32.562746Z",
     "start_time": "2024-11-03T14:35:43.088260Z"
    }
   },
   "cell_type": "code",
   "source": [
    "# Load and extract features from the new dataset\n",
    "new_loader = FactoryLoader(path=VAL_PATH, factory=pipeline.loader.get_factory(),\n",
    "                           percentage=percent, batch_size=pipeline.batch_size)\n",
    "new_feature_matrix, new_labels = pipeline.feature_strategy.run(new_loader.get_loader())\n",
    "\n",
    "new_feature_matrix = np.nan_to_num(new_feature_matrix) # Impute nans\n",
    "new_feature_matrix = pca.transform(new_feature_matrix) # Impute nans\n",
    "\n",
    "# Store predictions in the class attribute\n",
    "pipeline.predictions = {\"GT\": new_labels, }\n",
    "for clf_name, clf in pipeline.fitted_classifiers.items():\n",
    "\n",
    "    pipeline.predictions[clf_name] = clf.predict(new_feature_matrix)\n",
    "    if pipeline.verbose:\n",
    "        logger.info(\"Predictions made with classifier: %s\", clf_name)\n"
   ],
   "id": "10f5e0c30ff726e6",
   "outputs": [
    {
     "name": "stdout",
     "output_type": "stream",
     "text": [
      "Processed 5/53 batches.\n",
      "Processed 10/53 batches.\n",
      "Processed 15/53 batches.\n",
      "Processed 20/53 batches.\n",
      "Processed 25/53 batches.\n",
      "Processed 30/53 batches.\n",
      "Processed 35/53 batches.\n",
      "Processed 40/53 batches.\n",
      "Processed 45/53 batches.\n",
      "Processed 50/53 batches.\n"
     ]
    },
    {
     "name": "stderr",
     "output_type": "stream",
     "text": [
      "INFO:utils.utils:Predictions made with classifier: RandomForestClassifier0\n",
      "INFO:utils.utils:Predictions made with classifier: RandomForestClassifier1\n",
      "INFO:utils.utils:Predictions made with classifier: RandomForestClassifier2\n",
      "INFO:utils.utils:Predictions made with classifier: RandomForestClassifier3\n",
      "INFO:utils.utils:Predictions made with classifier: XGBClassifier4\n",
      "INFO:utils.utils:Predictions made with classifier: XGBClassifier5\n",
      "INFO:utils.utils:Predictions made with classifier: XGBClassifier6\n"
     ]
    },
    {
     "name": "stdout",
     "output_type": "stream",
     "text": [
      "Processed 53/53 batches.\n"
     ]
    },
    {
     "name": "stderr",
     "output_type": "stream",
     "text": [
      "INFO:utils.utils:Predictions made with classifier: XGBClassifier7\n",
      "INFO:utils.utils:Predictions made with classifier: XGBClassifier8\n",
      "INFO:utils.utils:Predictions made with classifier: XGBClassifier9\n",
      "INFO:utils.utils:Predictions made with classifier: XGBClassifier10\n",
      "INFO:utils.utils:Predictions made with classifier: XGBClassifier11\n",
      "INFO:utils.utils:Predictions made with classifier: XGBClassifier12\n"
     ]
    }
   ],
   "execution_count": 55
  },
  {
   "metadata": {
    "ExecuteTime": {
     "end_time": "2024-11-03T14:38:32.733263Z",
     "start_time": "2024-11-03T14:38:32.651764Z"
    }
   },
   "cell_type": "code",
   "source": [
    "df_pca = pd.DataFrame(data=pipeline.calculate_metrics(avg=\"macro\"))\n",
    "df_pca = df_pca.T\n",
    "df_pca"
   ],
   "id": "bc7b72c1d262e670",
   "outputs": [
    {
     "name": "stderr",
     "output_type": "stream",
     "text": [
      "INFO:utils.ml:Metrics for classifier GT: {'accuracy': 1.0, 'precision': 1.0, 'recall': 1.0, 'f1': 1.0, 'kappa': 1.0}\n",
      "INFO:utils.ml:Metrics for classifier RandomForestClassifier0: {'accuracy': 0.8307086614173228, 'precision': 0.7533966345569589, 'recall': 0.674332426675257, 'f1': 0.6944397219018827, 'kappa': 0.6877844300422157}\n",
      "INFO:utils.ml:Metrics for classifier RandomForestClassifier1: {'accuracy': 0.8173228346456692, 'precision': 0.7537313724850817, 'recall': 0.6801805855191304, 'f1': 0.7016019028618498, 'kappa': 0.6649228949642906}\n",
      "INFO:utils.ml:Metrics for classifier RandomForestClassifier2: {'accuracy': 0.8362204724409449, 'precision': 0.7685628248218069, 'recall': 0.6810060804316872, 'f1': 0.703246294587908, 'kappa': 0.697560886251019}\n",
      "INFO:utils.ml:Metrics for classifier RandomForestClassifier3: {'accuracy': 0.831496062992126, 'precision': 0.770024482734652, 'recall': 0.6771677181329346, 'f1': 0.7006046831002783, 'kappa': 0.6882427434822109}\n",
      "INFO:utils.ml:Metrics for classifier XGBClassifier4: {'accuracy': 0.8543307086614174, 'precision': 0.7861128678746508, 'recall': 0.7235692282719026, 'f1': 0.7449868844605687, 'kappa': 0.7330756681344949}\n",
      "INFO:utils.ml:Metrics for classifier XGBClassifier5: {'accuracy': 0.8535433070866142, 'precision': 0.7860438899269372, 'recall': 0.7156912341514429, 'f1': 0.737301859041496, 'kappa': 0.7317851919810335}\n",
      "INFO:utils.ml:Metrics for classifier XGBClassifier6: {'accuracy': 0.8496062992125984, 'precision': 0.7562610229276895, 'recall': 0.7236738329707456, 'f1': 0.7363882729736387, 'kappa': 0.7265954329253173}\n",
      "INFO:utils.ml:Metrics for classifier XGBClassifier7: {'accuracy': 0.852755905511811, 'precision': 0.7752392488940228, 'recall': 0.7265289111003733, 'f1': 0.7439882921214415, 'kappa': 0.7315744977123533}\n",
      "INFO:utils.ml:Metrics for classifier XGBClassifier8: {'accuracy': 0.8566929133858268, 'precision': 0.7889445772204735, 'recall': 0.7223451012359234, 'f1': 0.7444319366270585, 'kappa': 0.7371628966891213}\n",
      "INFO:utils.ml:Metrics for classifier XGBClassifier9: {'accuracy': 0.8543307086614174, 'precision': 0.790736476084963, 'recall': 0.7222917906484407, 'f1': 0.7440792699291494, 'kappa': 0.7336349001201732}\n",
      "INFO:utils.ml:Metrics for classifier XGBClassifier10: {'accuracy': 0.8472440944881889, 'precision': 0.7525330950423941, 'recall': 0.7220212047587827, 'f1': 0.734035429692998, 'kappa': 0.722483791467486}\n",
      "INFO:utils.ml:Metrics for classifier XGBClassifier11: {'accuracy': 0.8503937007874016, 'precision': 0.7708112370213241, 'recall': 0.7243431770135836, 'f1': 0.7413062729873824, 'kappa': 0.7272262767121553}\n",
      "INFO:utils.ml:Metrics for classifier XGBClassifier12: {'accuracy': 0.8551181102362204, 'precision': 0.7878614250510974, 'recall': 0.7215395190250741, 'f1': 0.7434471318024345, 'kappa': 0.7344376460320201}\n"
     ]
    },
    {
     "data": {
      "text/plain": [
       "                         accuracy  precision    recall        f1     kappa\n",
       "GT                       1.000000   1.000000  1.000000  1.000000  1.000000\n",
       "RandomForestClassifier0  0.830709   0.753397  0.674332  0.694440  0.687784\n",
       "RandomForestClassifier1  0.817323   0.753731  0.680181  0.701602  0.664923\n",
       "RandomForestClassifier2  0.836220   0.768563  0.681006  0.703246  0.697561\n",
       "RandomForestClassifier3  0.831496   0.770024  0.677168  0.700605  0.688243\n",
       "XGBClassifier4           0.854331   0.786113  0.723569  0.744987  0.733076\n",
       "XGBClassifier5           0.853543   0.786044  0.715691  0.737302  0.731785\n",
       "XGBClassifier6           0.849606   0.756261  0.723674  0.736388  0.726595\n",
       "XGBClassifier7           0.852756   0.775239  0.726529  0.743988  0.731574\n",
       "XGBClassifier8           0.856693   0.788945  0.722345  0.744432  0.737163\n",
       "XGBClassifier9           0.854331   0.790736  0.722292  0.744079  0.733635\n",
       "XGBClassifier10          0.847244   0.752533  0.722021  0.734035  0.722484\n",
       "XGBClassifier11          0.850394   0.770811  0.724343  0.741306  0.727226\n",
       "XGBClassifier12          0.855118   0.787861  0.721540  0.743447  0.734438"
      ],
      "text/html": [
       "<div>\n",
       "<style scoped>\n",
       "    .dataframe tbody tr th:only-of-type {\n",
       "        vertical-align: middle;\n",
       "    }\n",
       "\n",
       "    .dataframe tbody tr th {\n",
       "        vertical-align: top;\n",
       "    }\n",
       "\n",
       "    .dataframe thead th {\n",
       "        text-align: right;\n",
       "    }\n",
       "</style>\n",
       "<table border=\"1\" class=\"dataframe\">\n",
       "  <thead>\n",
       "    <tr style=\"text-align: right;\">\n",
       "      <th></th>\n",
       "      <th>accuracy</th>\n",
       "      <th>precision</th>\n",
       "      <th>recall</th>\n",
       "      <th>f1</th>\n",
       "      <th>kappa</th>\n",
       "    </tr>\n",
       "  </thead>\n",
       "  <tbody>\n",
       "    <tr>\n",
       "      <th>GT</th>\n",
       "      <td>1.000000</td>\n",
       "      <td>1.000000</td>\n",
       "      <td>1.000000</td>\n",
       "      <td>1.000000</td>\n",
       "      <td>1.000000</td>\n",
       "    </tr>\n",
       "    <tr>\n",
       "      <th>RandomForestClassifier0</th>\n",
       "      <td>0.830709</td>\n",
       "      <td>0.753397</td>\n",
       "      <td>0.674332</td>\n",
       "      <td>0.694440</td>\n",
       "      <td>0.687784</td>\n",
       "    </tr>\n",
       "    <tr>\n",
       "      <th>RandomForestClassifier1</th>\n",
       "      <td>0.817323</td>\n",
       "      <td>0.753731</td>\n",
       "      <td>0.680181</td>\n",
       "      <td>0.701602</td>\n",
       "      <td>0.664923</td>\n",
       "    </tr>\n",
       "    <tr>\n",
       "      <th>RandomForestClassifier2</th>\n",
       "      <td>0.836220</td>\n",
       "      <td>0.768563</td>\n",
       "      <td>0.681006</td>\n",
       "      <td>0.703246</td>\n",
       "      <td>0.697561</td>\n",
       "    </tr>\n",
       "    <tr>\n",
       "      <th>RandomForestClassifier3</th>\n",
       "      <td>0.831496</td>\n",
       "      <td>0.770024</td>\n",
       "      <td>0.677168</td>\n",
       "      <td>0.700605</td>\n",
       "      <td>0.688243</td>\n",
       "    </tr>\n",
       "    <tr>\n",
       "      <th>XGBClassifier4</th>\n",
       "      <td>0.854331</td>\n",
       "      <td>0.786113</td>\n",
       "      <td>0.723569</td>\n",
       "      <td>0.744987</td>\n",
       "      <td>0.733076</td>\n",
       "    </tr>\n",
       "    <tr>\n",
       "      <th>XGBClassifier5</th>\n",
       "      <td>0.853543</td>\n",
       "      <td>0.786044</td>\n",
       "      <td>0.715691</td>\n",
       "      <td>0.737302</td>\n",
       "      <td>0.731785</td>\n",
       "    </tr>\n",
       "    <tr>\n",
       "      <th>XGBClassifier6</th>\n",
       "      <td>0.849606</td>\n",
       "      <td>0.756261</td>\n",
       "      <td>0.723674</td>\n",
       "      <td>0.736388</td>\n",
       "      <td>0.726595</td>\n",
       "    </tr>\n",
       "    <tr>\n",
       "      <th>XGBClassifier7</th>\n",
       "      <td>0.852756</td>\n",
       "      <td>0.775239</td>\n",
       "      <td>0.726529</td>\n",
       "      <td>0.743988</td>\n",
       "      <td>0.731574</td>\n",
       "    </tr>\n",
       "    <tr>\n",
       "      <th>XGBClassifier8</th>\n",
       "      <td>0.856693</td>\n",
       "      <td>0.788945</td>\n",
       "      <td>0.722345</td>\n",
       "      <td>0.744432</td>\n",
       "      <td>0.737163</td>\n",
       "    </tr>\n",
       "    <tr>\n",
       "      <th>XGBClassifier9</th>\n",
       "      <td>0.854331</td>\n",
       "      <td>0.790736</td>\n",
       "      <td>0.722292</td>\n",
       "      <td>0.744079</td>\n",
       "      <td>0.733635</td>\n",
       "    </tr>\n",
       "    <tr>\n",
       "      <th>XGBClassifier10</th>\n",
       "      <td>0.847244</td>\n",
       "      <td>0.752533</td>\n",
       "      <td>0.722021</td>\n",
       "      <td>0.734035</td>\n",
       "      <td>0.722484</td>\n",
       "    </tr>\n",
       "    <tr>\n",
       "      <th>XGBClassifier11</th>\n",
       "      <td>0.850394</td>\n",
       "      <td>0.770811</td>\n",
       "      <td>0.724343</td>\n",
       "      <td>0.741306</td>\n",
       "      <td>0.727226</td>\n",
       "    </tr>\n",
       "    <tr>\n",
       "      <th>XGBClassifier12</th>\n",
       "      <td>0.855118</td>\n",
       "      <td>0.787861</td>\n",
       "      <td>0.721540</td>\n",
       "      <td>0.743447</td>\n",
       "      <td>0.734438</td>\n",
       "    </tr>\n",
       "  </tbody>\n",
       "</table>\n",
       "</div>"
      ]
     },
     "execution_count": 56,
     "metadata": {},
     "output_type": "execute_result"
    }
   ],
   "execution_count": 56
  },
  {
   "metadata": {
    "ExecuteTime": {
     "end_time": "2024-11-03T14:38:32.801404Z",
     "start_time": "2024-11-03T14:38:32.793663Z"
    }
   },
   "cell_type": "code",
   "source": [
    "highest = df_pca[df_pca[\"kappa\"] == df_pca.iloc[1:][\"kappa\"].max()]\n",
    "idx = highest.index[0]\n",
    "\n",
    "confusion_matrix(pipeline.predictions[\"GT\"], pipeline.predictions[idx])"
   ],
   "id": "5664e1f83005a5b2",
   "outputs": [
    {
     "data": {
      "text/plain": [
       "array([[436,  47,  15],\n",
       "       [ 57, 616,   5],\n",
       "       [ 34,  24,  36]], dtype=int64)"
      ]
     },
     "execution_count": 57,
     "metadata": {},
     "output_type": "execute_result"
    }
   ],
   "execution_count": 57
  },
  {
   "metadata": {
    "ExecuteTime": {
     "end_time": "2024-11-03T14:38:32.859791Z",
     "start_time": "2024-11-03T14:38:32.855919Z"
    }
   },
   "cell_type": "code",
   "source": "",
   "id": "10dfe1d1e30e3fdb",
   "outputs": [],
   "execution_count": null
  }
 ],
 "metadata": {
  "kernelspec": {
   "display_name": "Python 3",
   "language": "python",
   "name": "python3"
  },
  "language_info": {
   "codemirror_mode": {
    "name": "ipython",
    "version": 2
   },
   "file_extension": ".py",
   "mimetype": "text/x-python",
   "name": "python",
   "nbconvert_exporter": "python",
   "pygments_lexer": "ipython2",
   "version": "2.7.6"
  }
 },
 "nbformat": 4,
 "nbformat_minor": 5
}

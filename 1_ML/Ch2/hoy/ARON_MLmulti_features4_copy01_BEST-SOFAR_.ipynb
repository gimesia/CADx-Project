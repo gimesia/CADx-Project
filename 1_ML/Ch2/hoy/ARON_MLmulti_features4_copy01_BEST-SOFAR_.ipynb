{
 "cells": [
  {
   "cell_type": "code",
   "id": "initial_id",
   "metadata": {
    "collapsed": true,
    "ExecuteTime": {
     "end_time": "2024-11-03T14:37:09.981803Z",
     "start_time": "2024-11-03T14:37:09.967838Z"
    }
   },
   "source": [
    "import numpy as np\n",
    "from sklearn.metrics import confusion_matrix, recall_score, cohen_kappa_score\n",
    "\n",
    "from utils.loader import FactoryLoader\n",
    "from utils.ml import MLPipeline\n",
    "from utils.preprocessing import PreprocessingFactory\n",
    "from utils.feature_extraction import *\n",
    "from utils.utils import *\n",
    "\n",
    "VAL_PATH = r\"C:\\Users\\gimes\\Src\\repos\\CADx-Project\\dataset\\multiclass\\val\"\n",
    "TRAIN_PATH = r\"C:\\Users\\gimes\\Src\\repos\\CADx-Project\\dataset\\multiclass\\train\""
   ],
   "outputs": [],
   "execution_count": 28
  },
  {
   "metadata": {
    "ExecuteTime": {
     "end_time": "2024-11-03T14:37:10.050980Z",
     "start_time": "2024-11-03T14:37:09.983814Z"
    }
   },
   "cell_type": "code",
   "source": [
    "percent = 100\n",
    "random = False\n",
    "batch_size = 24\n",
    "th = 0.1\n",
    "\n",
    "# Initialize the FactoryLoader\n",
    "factory = PreprocessingFactory()\n",
    "factory.pad2square(fill=np.nan)\n",
    "factory.resize((150,150))\n",
    "factory.normalize2float()\n",
    "\n",
    "factory_loader = FactoryLoader(path=VAL_PATH, batch_size=batch_size, factory=factory, percentage=percent, shuffle=random)\n",
    "\n",
    "# Create the feature extraction pipeline strategy and add desired features\n",
    "strategy = FeatureExtractionStrategy()\n",
    "\n",
    "strategy.add_extractor(GradientExtractor(threshold=th)) # Add gradient feature\n",
    "\n",
    "strategy.add_extractor(ColorMomentsExtractor(\"rgb\", threshold=th))   # Add color moments feature\n",
    "strategy.add_extractor(ColorMomentsExtractor(\"lab\", threshold=th))   # Add color moments feature\n",
    "strategy.add_extractor(ColorMomentsExtractor(\"hsv\", threshold=th))   # Add color moments feature\n",
    "\n",
    "strategy.add_extractor(LBPExtractor(radius=1, n_points=8))\n",
    "strategy.add_extractor(LBPExtractor(radius=2, n_points=16))\n",
    "strategy.add_extractor(LBPExtractor(radius=3, n_points=24))\n",
    "strategy.add_extractor(LBPExtractor(radius=4, n_points=32))\n",
    "strategy.add_extractor(LBPExtractor(radius=5, n_points=40))\n",
    "\n",
    "strategy.add_extractor(FourierTransformExtractor())\n",
    "strategy.add_extractor(FFTExtractor())\n",
    "\n",
    "strategy.add_extractor(GLCMExtractor(properties=['contrast', 'dissimilarity', 'homogeneity', 'energy', 'correlation', \"ASM\"]))\n",
    "\n",
    "pipeline = MLPipeline(dataset_path=TRAIN_PATH, preprocessing_factory=factory, feature_strategy=strategy, classifiers=[], percentage=percent, verbose=True, shuffle=random, batch_size=batch_size)"
   ],
   "id": "d7c81ba220d9e517",
   "outputs": [
    {
     "name": "stderr",
     "output_type": "stream",
     "text": [
      "INFO:utils.ml:MLPipeline initialized with dataset path: C:\\Users\\gimes\\Src\\repos\\CADx-Project\\dataset\\multiclass\\train\n",
      "INFO:utils.ml:Preprocessing steps\n"
     ]
    }
   ],
   "execution_count": 29
  },
  {
   "metadata": {
    "ExecuteTime": {
     "end_time": "2024-11-03T14:44:14.884430Z",
     "start_time": "2024-11-03T14:37:10.088945Z"
    }
   },
   "cell_type": "code",
   "source": [
    "pipeline.feature_matrix = None\n",
    "pipeline.run_feature_extraction()"
   ],
   "id": "21f510c52296a049",
   "outputs": [
    {
     "name": "stderr",
     "output_type": "stream",
     "text": [
      "INFO:utils.ml:Running feature extraction...\n"
     ]
    },
    {
     "name": "stdout",
     "output_type": "stream",
     "text": [
      "Processed 5/212 batches.\n",
      "Processed 10/212 batches.\n",
      "Processed 15/212 batches.\n",
      "Processed 20/212 batches.\n",
      "Processed 25/212 batches.\n",
      "Processed 30/212 batches.\n",
      "Processed 35/212 batches.\n",
      "Processed 40/212 batches.\n",
      "Processed 45/212 batches.\n",
      "Processed 50/212 batches.\n",
      "Processed 55/212 batches.\n",
      "Processed 60/212 batches.\n",
      "Processed 65/212 batches.\n",
      "Processed 70/212 batches.\n",
      "Processed 75/212 batches.\n",
      "Processed 80/212 batches.\n",
      "Processed 85/212 batches.\n",
      "Processed 90/212 batches.\n",
      "Processed 95/212 batches.\n",
      "Processed 100/212 batches.\n",
      "Processed 105/212 batches.\n",
      "Processed 110/212 batches.\n",
      "Processed 115/212 batches.\n",
      "Processed 120/212 batches.\n",
      "Processed 125/212 batches.\n",
      "Processed 130/212 batches.\n",
      "Processed 135/212 batches.\n",
      "Processed 140/212 batches.\n",
      "Processed 145/212 batches.\n",
      "Processed 150/212 batches.\n",
      "Processed 155/212 batches.\n",
      "Processed 160/212 batches.\n",
      "Processed 165/212 batches.\n",
      "Processed 170/212 batches.\n",
      "Processed 175/212 batches.\n",
      "Processed 180/212 batches.\n",
      "Processed 185/212 batches.\n",
      "Processed 190/212 batches.\n",
      "Processed 195/212 batches.\n",
      "Processed 200/212 batches.\n",
      "Processed 205/212 batches.\n",
      "Processed 210/212 batches.\n"
     ]
    },
    {
     "name": "stderr",
     "output_type": "stream",
     "text": [
      "INFO:utils.ml:Feature extraction completed. Extracted 5082 features.\n"
     ]
    },
    {
     "name": "stdout",
     "output_type": "stream",
     "text": [
      "Processed 212/212 batches.\n"
     ]
    }
   ],
   "execution_count": 30
  },
  {
   "metadata": {
    "ExecuteTime": {
     "end_time": "2024-11-03T14:44:15.098037Z",
     "start_time": "2024-11-03T14:44:14.933592Z"
    }
   },
   "cell_type": "code",
   "source": [
    "from xgboost import XGBClassifier\n",
    "from sklearn.ensemble import RandomForestClassifier\n",
    "\n",
    "# Random Forest with Bootstrap Disabled\n",
    "rf0 = RandomForestClassifier(n_estimators=100, bootstrap=False, random_state=42)\n",
    "# Random Forest with Out-of-Bag Error (OOB)\n",
    "rf1 = RandomForestClassifier(n_estimators=150, oob_score=True, random_state=42)\n",
    "# Random Forest with Bootstrap Disabled\n",
    "rf2 = RandomForestClassifier(n_estimators=150, bootstrap=False, random_state=42)\n",
    "# Random Forest with Bootstrap Disabled\n",
    "rf3 = RandomForestClassifier(n_estimators=200, bootstrap=False, random_state=42)\n",
    "\n",
    "xgb4 = XGBClassifier(learning_rate=0.1, n_estimators=400, max_depth=7, min_child_weight=3, subsample=0.7, colsample_bytree=0.7) # 2ND\n",
    "xgb5 = XGBClassifier(learning_rate=0.1, n_estimators=400, max_depth=5, min_child_weight=5, gamma=0.2, subsample=0.8, colsample_bytree=0.8) # THIS\n",
    "xgb6 = XGBClassifier(learning_rate=0.1, n_estimators=400, max_depth=5, min_child_weight=1, subsample=0.8, colsample_bytree=0.8, reg_alpha=0.1, reg_lambda=0.1)\n",
    "xgb7 = XGBClassifier(learning_rate=0.1, n_estimators=400, max_depth=7, min_child_weight=1, subsample=0.8, colsample_bytree=0.8)\n",
    "xgb8 = XGBClassifier(learning_rate=0.1, n_estimators=500, max_depth=7, min_child_weight=1, subsample=0.8, colsample_bytree=0.8)\n",
    "\n",
    "\n",
    "xgb9 = XGBClassifier(learning_rate=0.1, n_estimators=750, max_depth=7, min_child_weight=3, subsample=0.7, colsample_bytree=0.7)\n",
    "xgb10 = XGBClassifier(learning_rate=0.1, n_estimators=750, max_depth=5, min_child_weight=5, gamma=0.2, subsample=0.8, colsample_bytree=0.8) # THIS\n",
    "xgb11 = XGBClassifier(learning_rate=0.1, n_estimators=750, max_depth=5, min_child_weight=1, subsample=0.8, colsample_bytree=0.8, reg_alpha=0.1, reg_lambda=0.1)\n",
    "xgb12 = XGBClassifier(learning_rate=0.1, n_estimators=750, max_depth=7, min_child_weight=1, subsample=0.8, colsample_bytree=0.8)\n",
    "\n",
    "xgb13 = XGBClassifier(learning_rate=0.1, n_estimators=1000, max_depth=7, min_child_weight=3, subsample=0.7, colsample_bytree=0.7)\n",
    "xgb14 = XGBClassifier(learning_rate=0.1, n_estimators=1000, max_depth=5, min_child_weight=5, gamma=0.2, subsample=0.8, colsample_bytree=0.8) # THIS\n",
    "xgb15 = XGBClassifier(learning_rate=0.1, n_estimators=1000, max_depth=5, min_child_weight=1, subsample=0.8, colsample_bytree=0.8, reg_alpha=0.1, reg_lambda=0.1)\n",
    "xgb16 = XGBClassifier(learning_rate=0.1, n_estimators=1000, max_depth=7, min_child_weight=1, subsample=0.8, colsample_bytree=0.8)\n",
    "\n",
    "\n",
    "\n",
    "pipeline.classifiers = [rf0, rf1, rf2, rf3,\n",
    "                        # svm1, svm2, svm3, svm6, svm7, svm8,\n",
    "                        xgb8, xgb9, xgb10, xgb11, xgb12, xgb13, xgb14, xgb15, xgb16]\n",
    "pipeline.fitted_classifiers = {}"
   ],
   "id": "74470ba20848a156",
   "outputs": [],
   "execution_count": 31
  },
  {
   "metadata": {
    "ExecuteTime": {
     "end_time": "2024-11-03T14:46:16.047511Z",
     "start_time": "2024-11-03T14:44:15.098037Z"
    }
   },
   "cell_type": "code",
   "source": "pipeline.fit_classifiers()",
   "id": "5269ac4d3392fbae",
   "outputs": [
    {
     "name": "stderr",
     "output_type": "stream",
     "text": [
      "INFO:utils.ml:Fitting classifiers...\n",
      "INFO:utils.ml:Fitting classifier: RandomForestClassifier0\n",
      "INFO:utils.ml:Top 10 features for RandomForestClassifier0: [('color_moments_lab_B_std', 0.04215343644857018), ('color_moments_lab_B_var', 0.03128957847280606), ('color_moments_lab_L_iqr', 0.022582198396617043), ('color_moments_rgb_B_std', 0.020792965896980386), ('color_moments_rgb_B_iqr', 0.019230327362332614), ('color_moments_rgb_B_var', 0.019047079061545246), ('lbp_rad1_bins8_4', 0.011604825198381869), ('color_moments_rgb_B_kurtosis', 0.011532230120517272), ('color_moments_lab_B_skew', 0.011445582192714783), ('color_moments_lab_B_iqr', 0.011086083782091081)]\n",
      "INFO:utils.ml:Fitted classifier: RandomForestClassifier0; Done in 5.609627962112427 seconds\n",
      "INFO:utils.ml:Fitting classifier: RandomForestClassifier1\n",
      "INFO:utils.ml:Top 10 features for RandomForestClassifier1: [('color_moments_lab_B_std', 0.04051510272458046), ('color_moments_lab_B_var', 0.030963890623933097), ('color_moments_lab_L_iqr', 0.021888175530300993), ('color_moments_rgb_B_var', 0.020523795229073202), ('color_moments_rgb_B_iqr', 0.020148228888205878), ('color_moments_rgb_B_std', 0.0167961063166962), ('color_moments_rgb_R_skew', 0.012845601789381806), ('lbp_rad1_bins8_4', 0.01284259960201217), ('color_moments_rgb_B_kurtosis', 0.012691689467991589), ('color_moments_lab_B_iqr', 0.011161147591289798)]\n",
      "INFO:utils.ml:Fitted classifier: RandomForestClassifier1; Done in 5.912269830703735 seconds\n",
      "INFO:utils.ml:Fitting classifier: RandomForestClassifier2\n",
      "INFO:utils.ml:Top 10 features for RandomForestClassifier2: [('color_moments_lab_B_std', 0.04357472157168993), ('color_moments_lab_B_var', 0.03036987519020221), ('color_moments_lab_L_iqr', 0.02186946270922832), ('color_moments_rgb_B_var', 0.02028494072794635), ('color_moments_rgb_B_std', 0.019135522598208127), ('color_moments_rgb_B_iqr', 0.018091538081657532), ('color_moments_rgb_B_kurtosis', 0.012659768953247903), ('lbp_rad1_bins8_4', 0.012106931193901329), ('color_moments_rgb_R_iqr', 0.011659849402019713), ('color_moments_lab_B_skew', 0.01150833677558474)]\n",
      "INFO:utils.ml:Fitted classifier: RandomForestClassifier2; Done in 8.378432989120483 seconds\n",
      "INFO:utils.ml:Fitting classifier: RandomForestClassifier3\n",
      "INFO:utils.ml:Top 10 features for RandomForestClassifier3: [('color_moments_lab_B_std', 0.041813883381214036), ('color_moments_lab_B_var', 0.029899996479255436), ('color_moments_lab_L_iqr', 0.022633277114894487), ('color_moments_rgb_B_iqr', 0.019711688599958085), ('color_moments_rgb_B_var', 0.018307236425047523), ('color_moments_rgb_B_std', 0.017561372352182653), ('color_moments_rgb_R_iqr', 0.01431827615662563), ('color_moments_rgb_B_kurtosis', 0.01426692451329866), ('lbp_rad1_bins8_4', 0.011781806354149575), ('color_moments_rgb_R_kurtosis', 0.011464047902302604)]\n",
      "INFO:utils.ml:Fitted classifier: RandomForestClassifier3; Done in 11.233383178710938 seconds\n",
      "INFO:utils.ml:Fitting classifier: XGBClassifier4\n",
      "INFO:utils.ml:Top 10 features for XGBClassifier4: [('color_moments_rgb_B_iqr', 0.03856138), ('color_moments_lab_B_var', 0.03497255), ('color_moments_lab_B_std', 0.02924984), ('lbp_rad1_bins8_4', 0.017316978), ('lbp_rad1_bins8_8', 0.01681576), ('color_moments_lab_L_iqr', 0.013612161), ('color_moments_rgb_B_var', 0.013321997), ('lbp_rad3_bins24_12', 0.012071233), ('color_moments_hsv_H_min', 0.010913303), ('color_moments_rgb_B_std', 0.009456808)]\n",
      "INFO:utils.ml:Fitted classifier: XGBClassifier4; Done in 9.343775749206543 seconds\n",
      "INFO:utils.ml:Fitting classifier: XGBClassifier5\n",
      "INFO:utils.ml:Top 10 features for XGBClassifier5: [('color_moments_rgb_B_iqr', 0.038294174), ('color_moments_lab_B_var', 0.03308379), ('color_moments_lab_B_std', 0.026290044), ('lbp_rad1_bins8_4', 0.019164423), ('color_moments_lab_L_iqr', 0.014723554), ('color_moments_rgb_B_std', 0.011805021), ('color_moments_rgb_B_var', 0.010882434), ('lbp_rad3_bins24_12', 0.010634225), ('lbp_rad1_bins8_8', 0.010259182), ('lbp_rad4_bins32_32', 0.009391746)]\n",
      "INFO:utils.ml:Fitted classifier: XGBClassifier5; Done in 9.885783195495605 seconds\n",
      "INFO:utils.ml:Fitting classifier: XGBClassifier6\n",
      "INFO:utils.ml:Top 10 features for XGBClassifier6: [('color_moments_rgb_B_iqr', 0.04300493), ('color_moments_lab_B_var', 0.03604852), ('color_moments_lab_B_std', 0.02756726), ('lbp_rad1_bins8_8', 0.017964553), ('lbp_rad1_bins8_4', 0.01627726), ('color_moments_lab_L_iqr', 0.014682879), ('lbp_rad3_bins24_12', 0.013741113), ('color_moments_rgb_B_std', 0.012118136), ('color_moments_rgb_B_var', 0.011574664), ('color_moments_lab_L_mean', 0.009844423)]\n",
      "INFO:utils.ml:Fitted classifier: XGBClassifier6; Done in 5.846168756484985 seconds\n",
      "INFO:utils.ml:Fitting classifier: XGBClassifier7\n",
      "INFO:utils.ml:Top 10 features for XGBClassifier7: [('color_moments_rgb_B_iqr', 0.04258064), ('color_moments_lab_B_var', 0.034028057), ('color_moments_lab_B_std', 0.030238865), ('lbp_rad1_bins8_4', 0.019983921), ('lbp_rad1_bins8_8', 0.01610442), ('color_moments_lab_L_iqr', 0.0147107085), ('color_moments_rgb_B_std', 0.013283098), ('lbp_rad3_bins24_12', 0.01246796), ('lbp_rad2_bins16_8', 0.012445944), ('color_moments_rgb_B_var', 0.009918918)]\n",
      "INFO:utils.ml:Fitted classifier: XGBClassifier7; Done in 9.04820203781128 seconds\n",
      "INFO:utils.ml:Fitting classifier: XGBClassifier8\n",
      "INFO:utils.ml:Top 10 features for XGBClassifier8: [('color_moments_rgb_B_iqr', 0.03805919), ('color_moments_lab_B_var', 0.036828514), ('color_moments_lab_B_std', 0.029087896), ('lbp_rad1_bins8_4', 0.017390842), ('lbp_rad1_bins8_8', 0.017283674), ('color_moments_lab_L_iqr', 0.014320052), ('color_moments_rgb_B_var', 0.013506352), ('color_moments_hsv_H_min', 0.012366084), ('lbp_rad3_bins24_12', 0.011919921), ('color_moments_rgb_B_std', 0.009675308)]\n",
      "INFO:utils.ml:Fitted classifier: XGBClassifier8; Done in 12.034438610076904 seconds\n",
      "INFO:utils.ml:Fitting classifier: XGBClassifier9\n",
      "INFO:utils.ml:Top 10 features for XGBClassifier9: [('color_moments_rgb_B_iqr', 0.036825616), ('color_moments_lab_B_var', 0.033892967), ('color_moments_lab_B_std', 0.02678063), ('lbp_rad1_bins8_4', 0.019629585), ('color_moments_lab_L_iqr', 0.0147245275), ('color_moments_rgb_B_std', 0.011925487), ('color_moments_rgb_B_var', 0.011283607), ('lbp_rad1_bins8_8', 0.01068347), ('lbp_rad3_bins24_12', 0.0102778105), ('lbp_rad4_bins32_32', 0.009768431)]\n",
      "INFO:utils.ml:Fitted classifier: XGBClassifier9; Done in 12.005365371704102 seconds\n",
      "INFO:utils.ml:Fitting classifier: XGBClassifier10\n",
      "INFO:utils.ml:Top 10 features for XGBClassifier10: [('color_moments_rgb_B_iqr', 0.043428782), ('color_moments_lab_B_var', 0.035609003), ('color_moments_lab_B_std', 0.027531024), ('lbp_rad1_bins8_8', 0.018141612), ('lbp_rad1_bins8_4', 0.016064892), ('color_moments_lab_L_iqr', 0.014827592), ('lbp_rad3_bins24_12', 0.013876544), ('color_moments_rgb_B_std', 0.0121688945), ('color_moments_rgb_B_var', 0.011424), ('color_moments_lab_L_mean', 0.009647403)]\n",
      "INFO:utils.ml:Fitted classifier: XGBClassifier10; Done in 6.584295988082886 seconds\n",
      "INFO:utils.ml:Fitting classifier: XGBClassifier11\n",
      "INFO:utils.ml:Top 10 features for XGBClassifier11: [('color_moments_rgb_B_iqr', 0.041994195), ('color_moments_lab_B_var', 0.034653153), ('color_moments_lab_B_std', 0.031027911), ('lbp_rad1_bins8_4', 0.02057757), ('lbp_rad1_bins8_8', 0.016135247), ('color_moments_lab_L_iqr', 0.0149440905), ('color_moments_rgb_B_std', 0.013160684), ('lbp_rad3_bins24_12', 0.012497573), ('lbp_rad2_bins16_8', 0.011861914), ('color_moments_rgb_B_var', 0.010688319)]\n",
      "INFO:utils.ml:Fitted classifier: XGBClassifier11; Done in 11.112464189529419 seconds\n",
      "INFO:utils.ml:Fitting classifier: XGBClassifier12\n",
      "INFO:utils.ml:Top 10 features for XGBClassifier12: [('color_moments_rgb_B_iqr', 0.037159674), ('color_moments_lab_B_var', 0.03583208), ('color_moments_lab_B_std', 0.029644318), ('lbp_rad1_bins8_4', 0.017732423), ('lbp_rad1_bins8_8', 0.017700681), ('color_moments_lab_L_iqr', 0.014634389), ('color_moments_rgb_B_var', 0.014240862), ('color_moments_hsv_H_min', 0.0134135615), ('lbp_rad3_bins24_12', 0.011753293), ('color_moments_rgb_B_std', 0.00976107)]\n",
      "INFO:utils.ml:Fitted classifier: XGBClassifier12; Done in 13.936935663223267 seconds\n",
      "INFO:utils.ml:Fitting completed in 120.95 seconds.\n"
     ]
    }
   ],
   "execution_count": 32
  },
  {
   "metadata": {
    "ExecuteTime": {
     "end_time": "2024-11-03T14:47:42.096138Z",
     "start_time": "2024-11-03T14:46:16.079135Z"
    }
   },
   "cell_type": "code",
   "source": "pipeline.predict_with_classifiers(VAL_PATH, percent)",
   "id": "f71e18a07f5ee7bb",
   "outputs": [
    {
     "name": "stderr",
     "output_type": "stream",
     "text": [
      "INFO:utils.ml:Predicting with classifiers on dataset: C:\\Users\\gimes\\Src\\repos\\CADx-Project\\dataset\\multiclass\\val\n"
     ]
    },
    {
     "name": "stdout",
     "output_type": "stream",
     "text": [
      "Processed 5/53 batches.\n",
      "Processed 10/53 batches.\n",
      "Processed 15/53 batches.\n",
      "Processed 20/53 batches.\n",
      "Processed 25/53 batches.\n",
      "Processed 30/53 batches.\n",
      "Processed 35/53 batches.\n",
      "Processed 40/53 batches.\n",
      "Processed 45/53 batches.\n",
      "Processed 50/53 batches.\n"
     ]
    },
    {
     "name": "stderr",
     "output_type": "stream",
     "text": [
      "INFO:utils.ml:Predictions made with classifier: RandomForestClassifier0\n",
      "INFO:utils.ml:Predictions made with classifier: RandomForestClassifier1\n",
      "INFO:utils.ml:Predictions made with classifier: RandomForestClassifier2\n",
      "INFO:utils.ml:Predictions made with classifier: RandomForestClassifier3\n",
      "INFO:utils.ml:Predictions made with classifier: XGBClassifier4\n",
      "INFO:utils.ml:Predictions made with classifier: XGBClassifier5\n",
      "INFO:utils.ml:Predictions made with classifier: XGBClassifier6\n",
      "INFO:utils.ml:Predictions made with classifier: XGBClassifier7\n",
      "INFO:utils.ml:Predictions made with classifier: XGBClassifier8\n",
      "INFO:utils.ml:Predictions made with classifier: XGBClassifier9\n",
      "INFO:utils.ml:Predictions made with classifier: XGBClassifier10\n",
      "INFO:utils.ml:Predictions made with classifier: XGBClassifier11\n",
      "INFO:utils.ml:Predictions made with classifier: XGBClassifier12\n"
     ]
    },
    {
     "name": "stdout",
     "output_type": "stream",
     "text": [
      "Processed 53/53 batches.\n"
     ]
    },
    {
     "data": {
      "text/plain": [
       "{'GT': array([0, 0, 0, ..., 2, 2, 2]),\n",
       " 'RandomForestClassifier0': array([0, 0, 0, ..., 1, 0, 0]),\n",
       " 'RandomForestClassifier1': array([0, 0, 0, ..., 1, 0, 0]),\n",
       " 'RandomForestClassifier2': array([0, 0, 0, ..., 1, 0, 0]),\n",
       " 'RandomForestClassifier3': array([0, 0, 0, ..., 1, 0, 0]),\n",
       " 'XGBClassifier4': array([0, 0, 0, ..., 0, 0, 0], dtype=int64),\n",
       " 'XGBClassifier5': array([0, 0, 0, ..., 0, 0, 0], dtype=int64),\n",
       " 'XGBClassifier6': array([0, 0, 0, ..., 0, 2, 0], dtype=int64),\n",
       " 'XGBClassifier7': array([0, 0, 0, ..., 0, 0, 0], dtype=int64),\n",
       " 'XGBClassifier8': array([0, 0, 0, ..., 0, 0, 0], dtype=int64),\n",
       " 'XGBClassifier9': array([0, 0, 0, ..., 0, 0, 0], dtype=int64),\n",
       " 'XGBClassifier10': array([0, 0, 0, ..., 0, 0, 0], dtype=int64),\n",
       " 'XGBClassifier11': array([0, 0, 0, ..., 0, 0, 0], dtype=int64),\n",
       " 'XGBClassifier12': array([0, 0, 0, ..., 0, 0, 0], dtype=int64)}"
      ]
     },
     "execution_count": 33,
     "metadata": {},
     "output_type": "execute_result"
    }
   ],
   "execution_count": 33
  },
  {
   "metadata": {
    "ExecuteTime": {
     "end_time": "2024-11-03T14:47:42.198479Z",
     "start_time": "2024-11-03T14:47:42.122060Z"
    }
   },
   "cell_type": "code",
   "source": [
    "import pandas as pd\n",
    "\n",
    "df = pd.DataFrame(data=pipeline.calculate_metrics())\n",
    "df = df.T\n",
    "df"
   ],
   "id": "751fad2660242db5",
   "outputs": [
    {
     "name": "stderr",
     "output_type": "stream",
     "text": [
      "INFO:utils.ml:Metrics for classifier GT: {'accuracy': 1.0, 'precision': 1.0, 'recall': 1.0, 'f1': 1.0, 'kappa': 1.0}\n",
      "INFO:utils.ml:Metrics for classifier RandomForestClassifier0: {'accuracy': 0.841732283464567, 'precision': 0.8432633294001132, 'recall': 0.6389861208469099, 'f1': 0.6503783001865329, 'kappa': 0.7022729287283822}\n",
      "INFO:utils.ml:Metrics for classifier RandomForestClassifier1: {'accuracy': 0.8291338582677166, 'precision': 0.8816627816627817, 'recall': 0.6210679660838799, 'f1': 0.6262076017069599, 'kappa': 0.677814201006341}\n",
      "INFO:utils.ml:Metrics for classifier RandomForestClassifier2: {'accuracy': 0.8401574803149606, 'precision': 0.8889376946880453, 'recall': 0.635126081429843, 'f1': 0.6449280574643127, 'kappa': 0.6990113759479957}\n",
      "INFO:utils.ml:Metrics for classifier RandomForestClassifier3: {'accuracy': 0.8448818897637795, 'precision': 0.8921406016444869, 'recall': 0.6472393055558707, 'f1': 0.6639505174339944, 'kappa': 0.7080752733840818}\n",
      "INFO:utils.ml:Metrics for classifier XGBClassifier4: {'accuracy': 0.8677165354330708, 'precision': 0.8518355460088944, 'recall': 0.6945293254862165, 'f1': 0.7222238296064568, 'kappa': 0.7536190379410053}\n",
      "INFO:utils.ml:Metrics for classifier XGBClassifier5: {'accuracy': 0.8716535433070867, 'precision': 0.8214956338967373, 'recall': 0.7030964503214641, 'f1': 0.7287050365105783, 'kappa': 0.7618779217432915}\n",
      "INFO:utils.ml:Metrics for classifier XGBClassifier6: {'accuracy': 0.8716535433070867, 'precision': 0.8300945232137892, 'recall': 0.6980537476586822, 'f1': 0.7228792368234015, 'kappa': 0.7616816404721009}\n",
      "INFO:utils.ml:Metrics for classifier XGBClassifier7: {'accuracy': 0.8700787401574803, 'precision': 0.815952503212522, 'recall': 0.6909615490771218, 'f1': 0.7127940481576434, 'kappa': 0.7587952539469868}\n",
      "INFO:utils.ml:Metrics for classifier XGBClassifier8: {'accuracy': 0.8692913385826772, 'precision': 0.8381424870283185, 'recall': 0.6987447688198346, 'f1': 0.7256166767083797, 'kappa': 0.7571444369695238}\n",
      "INFO:utils.ml:Metrics for classifier XGBClassifier9: {'accuracy': 0.8724409448818897, 'precision': 0.8160221867718324, 'recall': 0.7039434963225778, 'f1': 0.7286034649666971, 'kappa': 0.7635954994208813}\n",
      "INFO:utils.ml:Metrics for classifier XGBClassifier10: {'accuracy': 0.8708661417322835, 'precision': 0.8268383946844654, 'recall': 0.6943299464096264, 'f1': 0.7181852192458958, 'kappa': 0.7600582458953693}\n",
      "INFO:utils.ml:Metrics for classifier XGBClassifier11: {'accuracy': 0.8677165354330708, 'precision': 0.8069819723680652, 'recall': 0.7013490477317542, 'f1': 0.7246800260588891, 'kappa': 0.7555095156026549}\n",
      "INFO:utils.ml:Metrics for classifier XGBClassifier12: {'accuracy': 0.8700787401574803, 'precision': 0.8386964344594517, 'recall': 0.699236410904397, 'f1': 0.7261552617702761, 'kappa': 0.7585573586140467}\n"
     ]
    },
    {
     "data": {
      "text/plain": [
       "                         accuracy  precision    recall        f1     kappa\n",
       "GT                       1.000000   1.000000  1.000000  1.000000  1.000000\n",
       "RandomForestClassifier0  0.841732   0.843263  0.638986  0.650378  0.702273\n",
       "RandomForestClassifier1  0.829134   0.881663  0.621068  0.626208  0.677814\n",
       "RandomForestClassifier2  0.840157   0.888938  0.635126  0.644928  0.699011\n",
       "RandomForestClassifier3  0.844882   0.892141  0.647239  0.663951  0.708075\n",
       "XGBClassifier4           0.867717   0.851836  0.694529  0.722224  0.753619\n",
       "XGBClassifier5           0.871654   0.821496  0.703096  0.728705  0.761878\n",
       "XGBClassifier6           0.871654   0.830095  0.698054  0.722879  0.761682\n",
       "XGBClassifier7           0.870079   0.815953  0.690962  0.712794  0.758795\n",
       "XGBClassifier8           0.869291   0.838142  0.698745  0.725617  0.757144\n",
       "XGBClassifier9           0.872441   0.816022  0.703943  0.728603  0.763595\n",
       "XGBClassifier10          0.870866   0.826838  0.694330  0.718185  0.760058\n",
       "XGBClassifier11          0.867717   0.806982  0.701349  0.724680  0.755510\n",
       "XGBClassifier12          0.870079   0.838696  0.699236  0.726155  0.758557"
      ],
      "text/html": [
       "<div>\n",
       "<style scoped>\n",
       "    .dataframe tbody tr th:only-of-type {\n",
       "        vertical-align: middle;\n",
       "    }\n",
       "\n",
       "    .dataframe tbody tr th {\n",
       "        vertical-align: top;\n",
       "    }\n",
       "\n",
       "    .dataframe thead th {\n",
       "        text-align: right;\n",
       "    }\n",
       "</style>\n",
       "<table border=\"1\" class=\"dataframe\">\n",
       "  <thead>\n",
       "    <tr style=\"text-align: right;\">\n",
       "      <th></th>\n",
       "      <th>accuracy</th>\n",
       "      <th>precision</th>\n",
       "      <th>recall</th>\n",
       "      <th>f1</th>\n",
       "      <th>kappa</th>\n",
       "    </tr>\n",
       "  </thead>\n",
       "  <tbody>\n",
       "    <tr>\n",
       "      <th>GT</th>\n",
       "      <td>1.000000</td>\n",
       "      <td>1.000000</td>\n",
       "      <td>1.000000</td>\n",
       "      <td>1.000000</td>\n",
       "      <td>1.000000</td>\n",
       "    </tr>\n",
       "    <tr>\n",
       "      <th>RandomForestClassifier0</th>\n",
       "      <td>0.841732</td>\n",
       "      <td>0.843263</td>\n",
       "      <td>0.638986</td>\n",
       "      <td>0.650378</td>\n",
       "      <td>0.702273</td>\n",
       "    </tr>\n",
       "    <tr>\n",
       "      <th>RandomForestClassifier1</th>\n",
       "      <td>0.829134</td>\n",
       "      <td>0.881663</td>\n",
       "      <td>0.621068</td>\n",
       "      <td>0.626208</td>\n",
       "      <td>0.677814</td>\n",
       "    </tr>\n",
       "    <tr>\n",
       "      <th>RandomForestClassifier2</th>\n",
       "      <td>0.840157</td>\n",
       "      <td>0.888938</td>\n",
       "      <td>0.635126</td>\n",
       "      <td>0.644928</td>\n",
       "      <td>0.699011</td>\n",
       "    </tr>\n",
       "    <tr>\n",
       "      <th>RandomForestClassifier3</th>\n",
       "      <td>0.844882</td>\n",
       "      <td>0.892141</td>\n",
       "      <td>0.647239</td>\n",
       "      <td>0.663951</td>\n",
       "      <td>0.708075</td>\n",
       "    </tr>\n",
       "    <tr>\n",
       "      <th>XGBClassifier4</th>\n",
       "      <td>0.867717</td>\n",
       "      <td>0.851836</td>\n",
       "      <td>0.694529</td>\n",
       "      <td>0.722224</td>\n",
       "      <td>0.753619</td>\n",
       "    </tr>\n",
       "    <tr>\n",
       "      <th>XGBClassifier5</th>\n",
       "      <td>0.871654</td>\n",
       "      <td>0.821496</td>\n",
       "      <td>0.703096</td>\n",
       "      <td>0.728705</td>\n",
       "      <td>0.761878</td>\n",
       "    </tr>\n",
       "    <tr>\n",
       "      <th>XGBClassifier6</th>\n",
       "      <td>0.871654</td>\n",
       "      <td>0.830095</td>\n",
       "      <td>0.698054</td>\n",
       "      <td>0.722879</td>\n",
       "      <td>0.761682</td>\n",
       "    </tr>\n",
       "    <tr>\n",
       "      <th>XGBClassifier7</th>\n",
       "      <td>0.870079</td>\n",
       "      <td>0.815953</td>\n",
       "      <td>0.690962</td>\n",
       "      <td>0.712794</td>\n",
       "      <td>0.758795</td>\n",
       "    </tr>\n",
       "    <tr>\n",
       "      <th>XGBClassifier8</th>\n",
       "      <td>0.869291</td>\n",
       "      <td>0.838142</td>\n",
       "      <td>0.698745</td>\n",
       "      <td>0.725617</td>\n",
       "      <td>0.757144</td>\n",
       "    </tr>\n",
       "    <tr>\n",
       "      <th>XGBClassifier9</th>\n",
       "      <td>0.872441</td>\n",
       "      <td>0.816022</td>\n",
       "      <td>0.703943</td>\n",
       "      <td>0.728603</td>\n",
       "      <td>0.763595</td>\n",
       "    </tr>\n",
       "    <tr>\n",
       "      <th>XGBClassifier10</th>\n",
       "      <td>0.870866</td>\n",
       "      <td>0.826838</td>\n",
       "      <td>0.694330</td>\n",
       "      <td>0.718185</td>\n",
       "      <td>0.760058</td>\n",
       "    </tr>\n",
       "    <tr>\n",
       "      <th>XGBClassifier11</th>\n",
       "      <td>0.867717</td>\n",
       "      <td>0.806982</td>\n",
       "      <td>0.701349</td>\n",
       "      <td>0.724680</td>\n",
       "      <td>0.755510</td>\n",
       "    </tr>\n",
       "    <tr>\n",
       "      <th>XGBClassifier12</th>\n",
       "      <td>0.870079</td>\n",
       "      <td>0.838696</td>\n",
       "      <td>0.699236</td>\n",
       "      <td>0.726155</td>\n",
       "      <td>0.758557</td>\n",
       "    </tr>\n",
       "  </tbody>\n",
       "</table>\n",
       "</div>"
      ]
     },
     "execution_count": 34,
     "metadata": {},
     "output_type": "execute_result"
    }
   ],
   "execution_count": 34
  },
  {
   "metadata": {
    "ExecuteTime": {
     "end_time": "2024-11-03T14:47:42.251906Z",
     "start_time": "2024-11-03T14:47:42.244856Z"
    }
   },
   "cell_type": "code",
   "source": [
    "highest = df[df[\"kappa\"] == df.iloc[1:][\"kappa\"].max()]\n",
    "idx = highest.index[0]\n",
    "\n",
    "confusion_matrix(pipeline.predictions[\"GT\"], pipeline.predictions[idx])"
   ],
   "id": "22f7f750a102a0bd",
   "outputs": [
    {
     "data": {
      "text/plain": [
       "array([[449,  41,   8],\n",
       "       [ 42, 633,   3],\n",
       "       [ 47,  21,  26]], dtype=int64)"
      ]
     },
     "execution_count": 35,
     "metadata": {},
     "output_type": "execute_result"
    }
   ],
   "execution_count": 35
  },
  {
   "metadata": {},
   "cell_type": "markdown",
   "source": [
    "___\n",
    "# Balance the data"
   ],
   "id": "ad0e6dcd404dcf15"
  },
  {
   "metadata": {
    "ExecuteTime": {
     "end_time": "2024-11-03T14:47:42.306568Z",
     "start_time": "2024-11-03T14:47:42.301545Z"
    }
   },
   "cell_type": "code",
   "source": [
    "# Backup\n",
    "pipeline.backup_feature_matrix = pipeline.feature_matrix.copy()\n",
    "pipeline.backup_labels = pipeline.labels.copy()"
   ],
   "id": "da1b19771d4cde2f",
   "outputs": [],
   "execution_count": 36
  },
  {
   "metadata": {
    "ExecuteTime": {
     "end_time": "2024-11-03T14:47:42.338480Z",
     "start_time": "2024-11-03T14:47:42.332853Z"
    }
   },
   "cell_type": "code",
   "source": [
    "print(pipeline.backup_feature_matrix.shape)\n",
    "print(pipeline.feature_matrix.shape)\n",
    "\n",
    "print(pipeline.backup_labels.shape)\n",
    "print(pipeline.labels.shape)"
   ],
   "id": "3425dcf3bd509008",
   "outputs": [
    {
     "name": "stdout",
     "output_type": "stream",
     "text": [
      "(5082, 189)\n",
      "(5082, 189)\n",
      "(5082,)\n",
      "(5082,)\n"
     ]
    }
   ],
   "execution_count": 37
  },
  {
   "metadata": {
    "ExecuteTime": {
     "end_time": "2024-11-03T14:47:42.358160Z",
     "start_time": "2024-11-03T14:47:42.348491Z"
    }
   },
   "cell_type": "code",
   "source": "pipeline.get_feature_names()",
   "id": "7cc809550b1f26d1",
   "outputs": [
    {
     "data": {
      "text/plain": [
       "['gradient_magnitude_mean',\n",
       " 'gradient_magnitude_std',\n",
       " 'gradient_direction_mean',\n",
       " 'gradient_direction_std',\n",
       " 'color_moments_rgb_R_mean',\n",
       " 'color_moments_rgb_R_std',\n",
       " 'color_moments_rgb_R_skew',\n",
       " 'color_moments_rgb_R_kurtosis',\n",
       " 'color_moments_rgb_R_median',\n",
       " 'color_moments_rgb_R_var',\n",
       " 'color_moments_rgb_R_min',\n",
       " 'color_moments_rgb_R_max',\n",
       " 'color_moments_rgb_R_iqr',\n",
       " 'color_moments_rgb_R_entropy',\n",
       " 'color_moments_rgb_G_mean',\n",
       " 'color_moments_rgb_G_std',\n",
       " 'color_moments_rgb_G_skew',\n",
       " 'color_moments_rgb_G_kurtosis',\n",
       " 'color_moments_rgb_G_median',\n",
       " 'color_moments_rgb_G_var',\n",
       " 'color_moments_rgb_G_min',\n",
       " 'color_moments_rgb_G_max',\n",
       " 'color_moments_rgb_G_iqr',\n",
       " 'color_moments_rgb_G_entropy',\n",
       " 'color_moments_rgb_B_mean',\n",
       " 'color_moments_rgb_B_std',\n",
       " 'color_moments_rgb_B_skew',\n",
       " 'color_moments_rgb_B_kurtosis',\n",
       " 'color_moments_rgb_B_median',\n",
       " 'color_moments_rgb_B_var',\n",
       " 'color_moments_rgb_B_min',\n",
       " 'color_moments_rgb_B_max',\n",
       " 'color_moments_rgb_B_iqr',\n",
       " 'color_moments_rgb_B_entropy',\n",
       " 'color_moments_lab_L_mean',\n",
       " 'color_moments_lab_L_std',\n",
       " 'color_moments_lab_L_skew',\n",
       " 'color_moments_lab_L_kurtosis',\n",
       " 'color_moments_lab_L_median',\n",
       " 'color_moments_lab_L_var',\n",
       " 'color_moments_lab_L_min',\n",
       " 'color_moments_lab_L_max',\n",
       " 'color_moments_lab_L_iqr',\n",
       " 'color_moments_lab_L_entropy',\n",
       " 'color_moments_lab_A_mean',\n",
       " 'color_moments_lab_A_std',\n",
       " 'color_moments_lab_A_skew',\n",
       " 'color_moments_lab_A_kurtosis',\n",
       " 'color_moments_lab_A_median',\n",
       " 'color_moments_lab_A_var',\n",
       " 'color_moments_lab_A_min',\n",
       " 'color_moments_lab_A_max',\n",
       " 'color_moments_lab_A_iqr',\n",
       " 'color_moments_lab_A_entropy',\n",
       " 'color_moments_lab_B_mean',\n",
       " 'color_moments_lab_B_std',\n",
       " 'color_moments_lab_B_skew',\n",
       " 'color_moments_lab_B_kurtosis',\n",
       " 'color_moments_lab_B_median',\n",
       " 'color_moments_lab_B_var',\n",
       " 'color_moments_lab_B_min',\n",
       " 'color_moments_lab_B_max',\n",
       " 'color_moments_lab_B_iqr',\n",
       " 'color_moments_lab_B_entropy',\n",
       " 'color_moments_hsv_H_mean',\n",
       " 'color_moments_hsv_H_std',\n",
       " 'color_moments_hsv_H_skew',\n",
       " 'color_moments_hsv_H_kurtosis',\n",
       " 'color_moments_hsv_H_median',\n",
       " 'color_moments_hsv_H_var',\n",
       " 'color_moments_hsv_H_min',\n",
       " 'color_moments_hsv_H_max',\n",
       " 'color_moments_hsv_H_iqr',\n",
       " 'color_moments_hsv_H_entropy',\n",
       " 'color_moments_hsv_S_mean',\n",
       " 'color_moments_hsv_S_std',\n",
       " 'color_moments_hsv_S_skew',\n",
       " 'color_moments_hsv_S_kurtosis',\n",
       " 'color_moments_hsv_S_median',\n",
       " 'color_moments_hsv_S_var',\n",
       " 'color_moments_hsv_S_min',\n",
       " 'color_moments_hsv_S_max',\n",
       " 'color_moments_hsv_S_iqr',\n",
       " 'color_moments_hsv_S_entropy',\n",
       " 'color_moments_hsv_V_mean',\n",
       " 'color_moments_hsv_V_std',\n",
       " 'color_moments_hsv_V_skew',\n",
       " 'color_moments_hsv_V_kurtosis',\n",
       " 'color_moments_hsv_V_median',\n",
       " 'color_moments_hsv_V_var',\n",
       " 'color_moments_hsv_V_min',\n",
       " 'color_moments_hsv_V_max',\n",
       " 'color_moments_hsv_V_iqr',\n",
       " 'color_moments_hsv_V_entropy',\n",
       " 'lbp_rad1_bins8_0',\n",
       " 'lbp_rad1_bins8_1',\n",
       " 'lbp_rad1_bins8_2',\n",
       " 'lbp_rad1_bins8_3',\n",
       " 'lbp_rad1_bins8_4',\n",
       " 'lbp_rad1_bins8_5',\n",
       " 'lbp_rad1_bins8_6',\n",
       " 'lbp_rad1_bins8_7',\n",
       " 'lbp_rad1_bins8_8',\n",
       " 'lbp_rad1_bins8_9',\n",
       " 'lbp_rad2_bins16_0',\n",
       " 'lbp_rad2_bins16_1',\n",
       " 'lbp_rad2_bins16_2',\n",
       " 'lbp_rad2_bins16_3',\n",
       " 'lbp_rad2_bins16_4',\n",
       " 'lbp_rad2_bins16_5',\n",
       " 'lbp_rad2_bins16_6',\n",
       " 'lbp_rad2_bins16_7',\n",
       " 'lbp_rad2_bins16_8',\n",
       " 'lbp_rad2_bins16_9',\n",
       " 'lbp_rad2_bins16_10',\n",
       " 'lbp_rad2_bins16_11',\n",
       " 'lbp_rad2_bins16_12',\n",
       " 'lbp_rad2_bins16_13',\n",
       " 'lbp_rad2_bins16_14',\n",
       " 'lbp_rad2_bins16_15',\n",
       " 'lbp_rad2_bins16_16',\n",
       " 'lbp_rad2_bins16_17',\n",
       " 'lbp_rad3_bins24_0',\n",
       " 'lbp_rad3_bins24_1',\n",
       " 'lbp_rad3_bins24_2',\n",
       " 'lbp_rad3_bins24_3',\n",
       " 'lbp_rad3_bins24_4',\n",
       " 'lbp_rad3_bins24_5',\n",
       " 'lbp_rad3_bins24_6',\n",
       " 'lbp_rad3_bins24_7',\n",
       " 'lbp_rad3_bins24_8',\n",
       " 'lbp_rad3_bins24_9',\n",
       " 'lbp_rad3_bins24_10',\n",
       " 'lbp_rad3_bins24_11',\n",
       " 'lbp_rad3_bins24_12',\n",
       " 'lbp_rad3_bins24_13',\n",
       " 'lbp_rad3_bins24_14',\n",
       " 'lbp_rad3_bins24_15',\n",
       " 'lbp_rad3_bins24_16',\n",
       " 'lbp_rad3_bins24_17',\n",
       " 'lbp_rad3_bins24_18',\n",
       " 'lbp_rad3_bins24_19',\n",
       " 'lbp_rad3_bins24_20',\n",
       " 'lbp_rad3_bins24_21',\n",
       " 'lbp_rad3_bins24_22',\n",
       " 'lbp_rad3_bins24_23',\n",
       " 'lbp_rad3_bins24_24',\n",
       " 'lbp_rad3_bins24_25',\n",
       " 'lbp_rad4_bins32_0',\n",
       " 'lbp_rad4_bins32_1',\n",
       " 'lbp_rad4_bins32_2',\n",
       " 'lbp_rad4_bins32_3',\n",
       " 'lbp_rad4_bins32_4',\n",
       " 'lbp_rad4_bins32_5',\n",
       " 'lbp_rad4_bins32_6',\n",
       " 'lbp_rad4_bins32_7',\n",
       " 'lbp_rad4_bins32_8',\n",
       " 'lbp_rad4_bins32_9',\n",
       " 'lbp_rad4_bins32_10',\n",
       " 'lbp_rad4_bins32_11',\n",
       " 'lbp_rad4_bins32_12',\n",
       " 'lbp_rad4_bins32_13',\n",
       " 'lbp_rad4_bins32_14',\n",
       " 'lbp_rad4_bins32_15',\n",
       " 'lbp_rad4_bins32_16',\n",
       " 'lbp_rad4_bins32_17',\n",
       " 'lbp_rad4_bins32_18',\n",
       " 'lbp_rad4_bins32_19',\n",
       " 'lbp_rad4_bins32_20',\n",
       " 'lbp_rad4_bins32_21',\n",
       " 'lbp_rad4_bins32_22',\n",
       " 'lbp_rad4_bins32_23',\n",
       " 'lbp_rad4_bins32_24',\n",
       " 'lbp_rad4_bins32_25',\n",
       " 'lbp_rad4_bins32_26',\n",
       " 'lbp_rad4_bins32_27',\n",
       " 'lbp_rad4_bins32_28',\n",
       " 'lbp_rad4_bins32_29',\n",
       " 'lbp_rad4_bins32_30',\n",
       " 'lbp_rad4_bins32_31',\n",
       " 'lbp_rad4_bins32_32',\n",
       " 'lbp_rad4_bins32_33',\n",
       " 'fourier_transform_magnitude_mean',\n",
       " 'fourier_transform_magnitude_std',\n",
       " 'glcm_contrast_dist_1_angle_0',\n",
       " 'glcm_dissimilarity_dist_1_angle_0',\n",
       " 'glcm_homogeneity_dist_1_angle_0',\n",
       " 'glcm_energy_dist_1_angle_0',\n",
       " 'glcm_correlation_dist_1_angle_0']"
      ]
     },
     "execution_count": 38,
     "metadata": {},
     "output_type": "execute_result"
    }
   ],
   "execution_count": 38
  },
  {
   "metadata": {
    "ExecuteTime": {
     "end_time": "2024-11-03T14:47:42.491113Z",
     "start_time": "2024-11-03T14:47:42.379499Z"
    }
   },
   "cell_type": "code",
   "source": [
    "from imblearn.over_sampling import SMOTE\n",
    "\n",
    "smote = SMOTE(random_state=42)\n",
    "\n",
    "\n",
    "pipeline.feature_matrix, pipeline.labels = smote.fit_resample(np.nan_to_num(pipeline.feature_matrix), pipeline.labels)"
   ],
   "id": "6f226a41aafa84b7",
   "outputs": [],
   "execution_count": 39
  },
  {
   "metadata": {
    "ExecuteTime": {
     "end_time": "2024-11-03T14:50:29.783740Z",
     "start_time": "2024-11-03T14:47:42.511930Z"
    }
   },
   "cell_type": "code",
   "source": [
    "pipeline.fitted_classifiers = {}\n",
    "pipeline.fit_classifiers()"
   ],
   "id": "e25b1eeaa9b9b112",
   "outputs": [
    {
     "name": "stderr",
     "output_type": "stream",
     "text": [
      "INFO:utils.ml:Fitting classifiers...\n",
      "INFO:utils.ml:Fitting classifier: RandomForestClassifier0\n",
      "INFO:utils.ml:Top 10 features for RandomForestClassifier0: [('color_moments_lab_B_std', 0.02785575828196386), ('color_moments_rgb_B_std', 0.020073434168764264), ('color_moments_lab_L_iqr', 0.018552789115056992), ('color_moments_lab_B_var', 0.018013427787625942), ('color_moments_rgb_B_iqr', 0.01795349239382182), ('color_moments_rgb_B_var', 0.015061474715758466), ('gradient_direction_std', 0.015023963244203098), ('lbp_rad1_bins8_4', 0.012304962013360001), ('color_moments_rgb_G_iqr', 0.009811632383418017), ('color_moments_rgb_R_kurtosis', 0.009700275364815615)]\n",
      "INFO:utils.ml:Fitted classifier: RandomForestClassifier0; Done in 11.045897960662842 seconds\n",
      "INFO:utils.ml:Fitting classifier: RandomForestClassifier1\n",
      "INFO:utils.ml:Top 10 features for RandomForestClassifier1: [('color_moments_lab_B_std', 0.026315139896826562), ('color_moments_lab_L_iqr', 0.022162327827716485), ('color_moments_lab_B_var', 0.017612827873662383), ('color_moments_rgb_B_std', 0.017130022667713164), ('color_moments_rgb_B_iqr', 0.016810261163604075), ('color_moments_rgb_B_var', 0.015424361692463352), ('lbp_rad1_bins8_4', 0.013698465942830482), ('gradient_direction_std', 0.0112695060448396), ('color_moments_rgb_G_iqr', 0.010941559190296444), ('color_moments_lab_A_iqr', 0.010016892631912378)]\n",
      "INFO:utils.ml:Fitted classifier: RandomForestClassifier1; Done in 10.74610948562622 seconds\n",
      "INFO:utils.ml:Fitting classifier: RandomForestClassifier2\n",
      "INFO:utils.ml:Top 10 features for RandomForestClassifier2: [('color_moments_lab_B_std', 0.026451321658450183), ('color_moments_lab_L_iqr', 0.020657922129409038), ('color_moments_rgb_B_std', 0.019176549325741192), ('color_moments_lab_B_var', 0.01728079759680416), ('color_moments_rgb_B_iqr', 0.016520357000586516), ('color_moments_rgb_B_var', 0.015836136488007135), ('gradient_direction_std', 0.01434500779332074), ('lbp_rad1_bins8_4', 0.011683926419167955), ('color_moments_rgb_B_kurtosis', 0.009852987847195412), ('color_moments_rgb_G_iqr', 0.009771547968271302)]\n",
      "INFO:utils.ml:Fitted classifier: RandomForestClassifier2; Done in 15.46136212348938 seconds\n",
      "INFO:utils.ml:Fitting classifier: RandomForestClassifier3\n",
      "INFO:utils.ml:Top 10 features for RandomForestClassifier3: [('color_moments_lab_B_std', 0.025198171253648555), ('color_moments_lab_L_iqr', 0.020665590943285267), ('color_moments_rgb_B_iqr', 0.01868700650878398), ('color_moments_lab_B_var', 0.017758315096776976), ('color_moments_rgb_B_std', 0.017548051374557817), ('color_moments_rgb_B_var', 0.01529225200808348), ('gradient_direction_std', 0.014442087561805001), ('lbp_rad1_bins8_4', 0.011566109459087159), ('color_moments_rgb_B_kurtosis', 0.011186120962647886), ('color_moments_rgb_R_iqr', 0.010177233930374292)]\n",
      "INFO:utils.ml:Fitted classifier: RandomForestClassifier3; Done in 20.64734673500061 seconds\n",
      "INFO:utils.ml:Fitting classifier: XGBClassifier4\n",
      "INFO:utils.ml:Top 10 features for XGBClassifier4: [('color_moments_rgb_B_iqr', 0.05083421), ('color_moments_lab_L_iqr', 0.027644148), ('gradient_magnitude_mean', 0.02431428), ('color_moments_lab_B_var', 0.020207299), ('lbp_rad1_bins8_4', 0.017344998), ('gradient_direction_std', 0.016480751), ('color_moments_lab_A_iqr', 0.013728871), ('color_moments_lab_B_std', 0.012547851), ('glcm_energy_dist_1_angle_0', 0.01228154), ('lbp_rad4_bins32_32', 0.011920581)]\n",
      "INFO:utils.ml:Fitted classifier: XGBClassifier4; Done in 10.76359486579895 seconds\n",
      "INFO:utils.ml:Fitting classifier: XGBClassifier5\n",
      "INFO:utils.ml:Top 10 features for XGBClassifier5: [('color_moments_rgb_B_iqr', 0.042837027), ('color_moments_lab_L_iqr', 0.035367586), ('color_moments_lab_B_var', 0.01829072), ('gradient_magnitude_mean', 0.017899249), ('gradient_direction_std', 0.017344268), ('lbp_rad1_bins8_4', 0.017291779), ('color_moments_lab_A_iqr', 0.012496775), ('color_moments_lab_B_std', 0.012484631), ('glcm_energy_dist_1_angle_0', 0.011777423), ('gradient_magnitude_std', 0.010662213)]\n",
      "INFO:utils.ml:Fitted classifier: XGBClassifier5; Done in 11.520632028579712 seconds\n",
      "INFO:utils.ml:Fitting classifier: XGBClassifier6\n",
      "INFO:utils.ml:Top 10 features for XGBClassifier6: [('color_moments_rgb_B_iqr', 0.04279486), ('color_moments_lab_L_iqr', 0.03473588), ('gradient_magnitude_mean', 0.021052433), ('lbp_rad1_bins8_4', 0.018295933), ('color_moments_lab_B_var', 0.017075462), ('gradient_direction_std', 0.015004201), ('glcm_energy_dist_1_angle_0', 0.014525613), ('color_moments_lab_B_std', 0.014328694), ('color_moments_lab_A_iqr', 0.012587903), ('lbp_rad4_bins32_32', 0.01196758)]\n",
      "INFO:utils.ml:Fitted classifier: XGBClassifier6; Done in 6.670195579528809 seconds\n",
      "INFO:utils.ml:Fitting classifier: XGBClassifier7\n",
      "INFO:utils.ml:Top 10 features for XGBClassifier7: [('color_moments_rgb_B_iqr', 0.041886102), ('color_moments_lab_L_iqr', 0.035421025), ('gradient_magnitude_mean', 0.024178283), ('color_moments_lab_B_var', 0.01973871), ('lbp_rad1_bins8_4', 0.018555999), ('gradient_direction_std', 0.014690012), ('glcm_energy_dist_1_angle_0', 0.014037347), ('color_moments_lab_B_std', 0.013937316), ('lbp_rad4_bins32_32', 0.013741887), ('lbp_rad1_bins8_8', 0.01330999)]\n",
      "INFO:utils.ml:Fitted classifier: XGBClassifier7; Done in 9.87755823135376 seconds\n",
      "INFO:utils.ml:Fitting classifier: XGBClassifier8\n",
      "INFO:utils.ml:Top 10 features for XGBClassifier8: [('color_moments_rgb_B_iqr', 0.049891345), ('color_moments_lab_L_iqr', 0.028658897), ('gradient_magnitude_mean', 0.025532862), ('color_moments_lab_B_var', 0.019964542), ('lbp_rad1_bins8_4', 0.017675865), ('gradient_direction_std', 0.016706917), ('color_moments_lab_A_iqr', 0.013788982), ('glcm_energy_dist_1_angle_0', 0.012552838), ('color_moments_lab_B_std', 0.012493612), ('lbp_rad4_bins32_32', 0.011949382)]\n",
      "INFO:utils.ml:Fitted classifier: XGBClassifier8; Done in 13.563915252685547 seconds\n",
      "INFO:utils.ml:Fitting classifier: XGBClassifier9\n",
      "INFO:utils.ml:Top 10 features for XGBClassifier9: [('color_moments_rgb_B_iqr', 0.042500705), ('color_moments_lab_L_iqr', 0.0338337), ('gradient_magnitude_mean', 0.018420352), ('color_moments_lab_B_var', 0.017894628), ('gradient_direction_std', 0.017734917), ('lbp_rad1_bins8_4', 0.017664336), ('color_moments_lab_B_std', 0.012719066), ('color_moments_lab_A_iqr', 0.012491633), ('glcm_energy_dist_1_angle_0', 0.012027741), ('gradient_magnitude_std', 0.011093373)]\n",
      "INFO:utils.ml:Fitted classifier: XGBClassifier9; Done in 13.494529485702515 seconds\n",
      "INFO:utils.ml:Fitting classifier: XGBClassifier10\n",
      "INFO:utils.ml:Top 10 features for XGBClassifier10: [('color_moments_rgb_B_iqr', 0.042274285), ('color_moments_lab_L_iqr', 0.03510113), ('gradient_magnitude_mean', 0.020835577), ('lbp_rad1_bins8_4', 0.018094895), ('color_moments_lab_B_var', 0.017046537), ('gradient_direction_std', 0.015070838), ('glcm_energy_dist_1_angle_0', 0.014530888), ('color_moments_lab_B_std', 0.014400268), ('color_moments_lab_A_iqr', 0.01261436), ('lbp_rad4_bins32_32', 0.012093419)]\n",
      "INFO:utils.ml:Fitted classifier: XGBClassifier10; Done in 7.769751310348511 seconds\n",
      "INFO:utils.ml:Fitting classifier: XGBClassifier11\n",
      "INFO:utils.ml:Top 10 features for XGBClassifier11: [('color_moments_rgb_B_iqr', 0.039893433), ('color_moments_lab_L_iqr', 0.03701143), ('gradient_magnitude_mean', 0.025812047), ('color_moments_lab_B_var', 0.019609695), ('lbp_rad1_bins8_4', 0.018797366), ('gradient_direction_std', 0.014835258), ('glcm_energy_dist_1_angle_0', 0.014563122), ('color_moments_lab_B_std', 0.014193421), ('lbp_rad4_bins32_32', 0.01415758), ('lbp_rad1_bins8_8', 0.013921854)]\n",
      "INFO:utils.ml:Fitted classifier: XGBClassifier11; Done in 12.573614120483398 seconds\n",
      "INFO:utils.ml:Fitting classifier: XGBClassifier12\n",
      "INFO:utils.ml:Top 10 features for XGBClassifier12: [('color_moments_rgb_B_iqr', 0.049193524), ('color_moments_lab_L_iqr', 0.029736048), ('gradient_magnitude_mean', 0.025997855), ('color_moments_lab_B_var', 0.019810108), ('lbp_rad1_bins8_4', 0.01804895), ('gradient_direction_std', 0.016557796), ('color_moments_lab_A_iqr', 0.013830284), ('glcm_energy_dist_1_angle_0', 0.012765035), ('color_moments_lab_B_std', 0.012513668), ('lbp_rad4_bins32_32', 0.012285486)]\n",
      "INFO:utils.ml:Fitted classifier: XGBClassifier12; Done in 23.118116855621338 seconds\n",
      "INFO:utils.ml:Fitting completed in 167.27 seconds.\n"
     ]
    }
   ],
   "execution_count": 40
  },
  {
   "metadata": {
    "ExecuteTime": {
     "end_time": "2024-11-03T14:52:26.907Z",
     "start_time": "2024-11-03T14:50:29.817604Z"
    }
   },
   "cell_type": "code",
   "source": "pipeline.predict_with_classifiers(VAL_PATH, percent)",
   "id": "eaa13003ad0706a4",
   "outputs": [
    {
     "name": "stderr",
     "output_type": "stream",
     "text": [
      "INFO:utils.ml:Predicting with classifiers on dataset: C:\\Users\\gimes\\Src\\repos\\CADx-Project\\dataset\\multiclass\\val\n"
     ]
    },
    {
     "name": "stdout",
     "output_type": "stream",
     "text": [
      "Processed 5/53 batches.\n",
      "Processed 10/53 batches.\n",
      "Processed 15/53 batches.\n",
      "Processed 20/53 batches.\n",
      "Processed 25/53 batches.\n",
      "Processed 30/53 batches.\n",
      "Processed 35/53 batches.\n",
      "Processed 40/53 batches.\n",
      "Processed 45/53 batches.\n",
      "Processed 50/53 batches.\n"
     ]
    },
    {
     "name": "stderr",
     "output_type": "stream",
     "text": [
      "INFO:utils.ml:Predictions made with classifier: RandomForestClassifier0\n",
      "INFO:utils.ml:Predictions made with classifier: RandomForestClassifier1\n",
      "INFO:utils.ml:Predictions made with classifier: RandomForestClassifier2\n",
      "INFO:utils.ml:Predictions made with classifier: RandomForestClassifier3\n",
      "INFO:utils.ml:Predictions made with classifier: XGBClassifier4\n",
      "INFO:utils.ml:Predictions made with classifier: XGBClassifier5\n",
      "INFO:utils.ml:Predictions made with classifier: XGBClassifier6\n",
      "INFO:utils.ml:Predictions made with classifier: XGBClassifier7\n",
      "INFO:utils.ml:Predictions made with classifier: XGBClassifier8\n",
      "INFO:utils.ml:Predictions made with classifier: XGBClassifier9\n",
      "INFO:utils.ml:Predictions made with classifier: XGBClassifier10\n",
      "INFO:utils.ml:Predictions made with classifier: XGBClassifier11\n"
     ]
    },
    {
     "name": "stdout",
     "output_type": "stream",
     "text": [
      "Processed 53/53 batches.\n"
     ]
    },
    {
     "name": "stderr",
     "output_type": "stream",
     "text": [
      "INFO:utils.ml:Predictions made with classifier: XGBClassifier12\n"
     ]
    },
    {
     "data": {
      "text/plain": [
       "{'GT': array([0, 0, 0, ..., 2, 2, 2]),\n",
       " 'RandomForestClassifier0': array([0, 0, 2, ..., 1, 0, 0]),\n",
       " 'RandomForestClassifier1': array([0, 0, 2, ..., 1, 0, 0]),\n",
       " 'RandomForestClassifier2': array([0, 0, 2, ..., 1, 0, 0]),\n",
       " 'RandomForestClassifier3': array([0, 0, 2, ..., 1, 0, 0]),\n",
       " 'XGBClassifier4': array([0, 0, 2, ..., 0, 0, 0], dtype=int64),\n",
       " 'XGBClassifier5': array([0, 0, 2, ..., 0, 0, 0], dtype=int64),\n",
       " 'XGBClassifier6': array([0, 0, 2, ..., 0, 0, 0], dtype=int64),\n",
       " 'XGBClassifier7': array([0, 0, 2, ..., 0, 0, 0], dtype=int64),\n",
       " 'XGBClassifier8': array([0, 0, 2, ..., 0, 0, 0], dtype=int64),\n",
       " 'XGBClassifier9': array([0, 0, 2, ..., 0, 0, 0], dtype=int64),\n",
       " 'XGBClassifier10': array([0, 0, 2, ..., 0, 0, 0], dtype=int64),\n",
       " 'XGBClassifier11': array([0, 0, 2, ..., 0, 0, 0], dtype=int64),\n",
       " 'XGBClassifier12': array([0, 0, 2, ..., 0, 0, 0], dtype=int64)}"
      ]
     },
     "execution_count": 41,
     "metadata": {},
     "output_type": "execute_result"
    }
   ],
   "execution_count": 41
  },
  {
   "metadata": {
    "ExecuteTime": {
     "end_time": "2024-11-03T14:52:27.021016Z",
     "start_time": "2024-11-03T14:52:26.934482Z"
    }
   },
   "cell_type": "code",
   "source": [
    "import pandas as pd\n",
    "\n",
    "df_smote = pd.DataFrame(data=pipeline.calculate_metrics())\n",
    "df_smote = df_smote.T\n",
    "df_smote"
   ],
   "id": "441842170622e9a",
   "outputs": [
    {
     "name": "stderr",
     "output_type": "stream",
     "text": [
      "INFO:utils.ml:Metrics for classifier GT: {'accuracy': 1.0, 'precision': 1.0, 'recall': 1.0, 'f1': 1.0, 'kappa': 1.0}\n",
      "INFO:utils.ml:Metrics for classifier RandomForestClassifier0: {'accuracy': 0.8362204724409449, 'precision': 0.7376897970767703, 'recall': 0.722524567610806, 'f1': 0.7290675080441099, 'kappa': 0.7042225765420377}\n",
      "INFO:utils.ml:Metrics for classifier RandomForestClassifier1: {'accuracy': 0.8275590551181102, 'precision': 0.7202776587643637, 'recall': 0.7218038034268499, 'f1': 0.7209435872528968, 'kappa': 0.6906490663748115}\n",
      "INFO:utils.ml:Metrics for classifier RandomForestClassifier2: {'accuracy': 0.8354330708661417, 'precision': 0.7363151613625997, 'recall': 0.7161017130720837, 'f1': 0.7244461254762924, 'kappa': 0.7023219404531731}\n",
      "INFO:utils.ml:Metrics for classifier RandomForestClassifier3: {'accuracy': 0.8385826771653543, 'precision': 0.742108379670829, 'recall': 0.7187790892434358, 'f1': 0.7281125522131936, 'kappa': 0.7079903093384777}\n",
      "INFO:utils.ml:Metrics for classifier XGBClassifier4: {'accuracy': 0.8748031496062992, 'precision': 0.7783218794553015, 'recall': 0.7703063556554719, 'f1': 0.7741085355371647, 'kappa': 0.7741608621545812}\n",
      "INFO:utils.ml:Metrics for classifier XGBClassifier5: {'accuracy': 0.8661417322834646, 'precision': 0.7753513723125686, 'recall': 0.7550241132735297, 'f1': 0.7640286821594285, 'kappa': 0.7574647824035589}\n",
      "INFO:utils.ml:Metrics for classifier XGBClassifier6: {'accuracy': 0.862992125984252, 'precision': 0.7680702124878068, 'recall': 0.7589887573894397, 'f1': 0.7632404541281425, 'kappa': 0.7528431205876827}\n",
      "INFO:utils.ml:Metrics for classifier XGBClassifier7: {'accuracy': 0.8732283464566929, 'precision': 0.785684581097, 'recall': 0.7696784754028982, 'f1': 0.7769318470760047, 'kappa': 0.7708485563021971}\n",
      "INFO:utils.ml:Metrics for classifier XGBClassifier8: {'accuracy': 0.8748031496062992, 'precision': 0.7800132332335696, 'recall': 0.7670741964909786, 'f1': 0.773090177978446, 'kappa': 0.7736261518800027}\n",
      "INFO:utils.ml:Metrics for classifier XGBClassifier9: {'accuracy': 0.8661417322834646, 'precision': 0.7700293828940245, 'recall': 0.7550241132735297, 'f1': 0.7618411369171363, 'kappa': 0.7578923288089066}\n",
      "INFO:utils.ml:Metrics for classifier XGBClassifier10: {'accuracy': 0.8622047244094488, 'precision': 0.7643766889898679, 'recall': 0.7583194133466017, 'f1': 0.7611945928841903, 'kappa': 0.7516970625958019}\n",
      "INFO:utils.ml:Metrics for classifier XGBClassifier11: {'accuracy': 0.8700787401574803, 'precision': 0.7781813711677965, 'recall': 0.7643020459418796, 'f1': 0.7706428282084264, 'kappa': 0.76526163441978}\n",
      "INFO:utils.ml:Metrics for classifier XGBClassifier12: {'accuracy': 0.8755905511811024, 'precision': 0.782169098331735, 'recall': 0.7680989444503679, 'f1': 0.7745479988716403, 'kappa': 0.7751295476143516}\n"
     ]
    },
    {
     "data": {
      "text/plain": [
       "                         accuracy  precision    recall        f1     kappa\n",
       "GT                       1.000000   1.000000  1.000000  1.000000  1.000000\n",
       "RandomForestClassifier0  0.836220   0.737690  0.722525  0.729068  0.704223\n",
       "RandomForestClassifier1  0.827559   0.720278  0.721804  0.720944  0.690649\n",
       "RandomForestClassifier2  0.835433   0.736315  0.716102  0.724446  0.702322\n",
       "RandomForestClassifier3  0.838583   0.742108  0.718779  0.728113  0.707990\n",
       "XGBClassifier4           0.874803   0.778322  0.770306  0.774109  0.774161\n",
       "XGBClassifier5           0.866142   0.775351  0.755024  0.764029  0.757465\n",
       "XGBClassifier6           0.862992   0.768070  0.758989  0.763240  0.752843\n",
       "XGBClassifier7           0.873228   0.785685  0.769678  0.776932  0.770849\n",
       "XGBClassifier8           0.874803   0.780013  0.767074  0.773090  0.773626\n",
       "XGBClassifier9           0.866142   0.770029  0.755024  0.761841  0.757892\n",
       "XGBClassifier10          0.862205   0.764377  0.758319  0.761195  0.751697\n",
       "XGBClassifier11          0.870079   0.778181  0.764302  0.770643  0.765262\n",
       "XGBClassifier12          0.875591   0.782169  0.768099  0.774548  0.775130"
      ],
      "text/html": [
       "<div>\n",
       "<style scoped>\n",
       "    .dataframe tbody tr th:only-of-type {\n",
       "        vertical-align: middle;\n",
       "    }\n",
       "\n",
       "    .dataframe tbody tr th {\n",
       "        vertical-align: top;\n",
       "    }\n",
       "\n",
       "    .dataframe thead th {\n",
       "        text-align: right;\n",
       "    }\n",
       "</style>\n",
       "<table border=\"1\" class=\"dataframe\">\n",
       "  <thead>\n",
       "    <tr style=\"text-align: right;\">\n",
       "      <th></th>\n",
       "      <th>accuracy</th>\n",
       "      <th>precision</th>\n",
       "      <th>recall</th>\n",
       "      <th>f1</th>\n",
       "      <th>kappa</th>\n",
       "    </tr>\n",
       "  </thead>\n",
       "  <tbody>\n",
       "    <tr>\n",
       "      <th>GT</th>\n",
       "      <td>1.000000</td>\n",
       "      <td>1.000000</td>\n",
       "      <td>1.000000</td>\n",
       "      <td>1.000000</td>\n",
       "      <td>1.000000</td>\n",
       "    </tr>\n",
       "    <tr>\n",
       "      <th>RandomForestClassifier0</th>\n",
       "      <td>0.836220</td>\n",
       "      <td>0.737690</td>\n",
       "      <td>0.722525</td>\n",
       "      <td>0.729068</td>\n",
       "      <td>0.704223</td>\n",
       "    </tr>\n",
       "    <tr>\n",
       "      <th>RandomForestClassifier1</th>\n",
       "      <td>0.827559</td>\n",
       "      <td>0.720278</td>\n",
       "      <td>0.721804</td>\n",
       "      <td>0.720944</td>\n",
       "      <td>0.690649</td>\n",
       "    </tr>\n",
       "    <tr>\n",
       "      <th>RandomForestClassifier2</th>\n",
       "      <td>0.835433</td>\n",
       "      <td>0.736315</td>\n",
       "      <td>0.716102</td>\n",
       "      <td>0.724446</td>\n",
       "      <td>0.702322</td>\n",
       "    </tr>\n",
       "    <tr>\n",
       "      <th>RandomForestClassifier3</th>\n",
       "      <td>0.838583</td>\n",
       "      <td>0.742108</td>\n",
       "      <td>0.718779</td>\n",
       "      <td>0.728113</td>\n",
       "      <td>0.707990</td>\n",
       "    </tr>\n",
       "    <tr>\n",
       "      <th>XGBClassifier4</th>\n",
       "      <td>0.874803</td>\n",
       "      <td>0.778322</td>\n",
       "      <td>0.770306</td>\n",
       "      <td>0.774109</td>\n",
       "      <td>0.774161</td>\n",
       "    </tr>\n",
       "    <tr>\n",
       "      <th>XGBClassifier5</th>\n",
       "      <td>0.866142</td>\n",
       "      <td>0.775351</td>\n",
       "      <td>0.755024</td>\n",
       "      <td>0.764029</td>\n",
       "      <td>0.757465</td>\n",
       "    </tr>\n",
       "    <tr>\n",
       "      <th>XGBClassifier6</th>\n",
       "      <td>0.862992</td>\n",
       "      <td>0.768070</td>\n",
       "      <td>0.758989</td>\n",
       "      <td>0.763240</td>\n",
       "      <td>0.752843</td>\n",
       "    </tr>\n",
       "    <tr>\n",
       "      <th>XGBClassifier7</th>\n",
       "      <td>0.873228</td>\n",
       "      <td>0.785685</td>\n",
       "      <td>0.769678</td>\n",
       "      <td>0.776932</td>\n",
       "      <td>0.770849</td>\n",
       "    </tr>\n",
       "    <tr>\n",
       "      <th>XGBClassifier8</th>\n",
       "      <td>0.874803</td>\n",
       "      <td>0.780013</td>\n",
       "      <td>0.767074</td>\n",
       "      <td>0.773090</td>\n",
       "      <td>0.773626</td>\n",
       "    </tr>\n",
       "    <tr>\n",
       "      <th>XGBClassifier9</th>\n",
       "      <td>0.866142</td>\n",
       "      <td>0.770029</td>\n",
       "      <td>0.755024</td>\n",
       "      <td>0.761841</td>\n",
       "      <td>0.757892</td>\n",
       "    </tr>\n",
       "    <tr>\n",
       "      <th>XGBClassifier10</th>\n",
       "      <td>0.862205</td>\n",
       "      <td>0.764377</td>\n",
       "      <td>0.758319</td>\n",
       "      <td>0.761195</td>\n",
       "      <td>0.751697</td>\n",
       "    </tr>\n",
       "    <tr>\n",
       "      <th>XGBClassifier11</th>\n",
       "      <td>0.870079</td>\n",
       "      <td>0.778181</td>\n",
       "      <td>0.764302</td>\n",
       "      <td>0.770643</td>\n",
       "      <td>0.765262</td>\n",
       "    </tr>\n",
       "    <tr>\n",
       "      <th>XGBClassifier12</th>\n",
       "      <td>0.875591</td>\n",
       "      <td>0.782169</td>\n",
       "      <td>0.768099</td>\n",
       "      <td>0.774548</td>\n",
       "      <td>0.775130</td>\n",
       "    </tr>\n",
       "  </tbody>\n",
       "</table>\n",
       "</div>"
      ]
     },
     "execution_count": 42,
     "metadata": {},
     "output_type": "execute_result"
    }
   ],
   "execution_count": 42
  },
  {
   "metadata": {
    "ExecuteTime": {
     "end_time": "2024-11-03T14:52:27.068944Z",
     "start_time": "2024-11-03T14:52:27.062057Z"
    }
   },
   "cell_type": "code",
   "source": [
    "highest = df_smote[df_smote[\"kappa\"] == df_smote.iloc[1:][\"kappa\"].max()]\n",
    "idx = highest.index[0]\n",
    "\n",
    "confusion_matrix(pipeline.predictions[\"GT\"], pipeline.predictions[idx])"
   ],
   "id": "cdc894cce6a949f2",
   "outputs": [
    {
     "data": {
      "text/plain": [
       "array([[438,  36,  24],\n",
       "       [ 38, 627,  13],\n",
       "       [ 32,  15,  47]], dtype=int64)"
      ]
     },
     "execution_count": 43,
     "metadata": {},
     "output_type": "execute_result"
    }
   ],
   "execution_count": 43
  },
  {
   "metadata": {},
   "cell_type": "markdown",
   "source": [
    "___\n",
    "# Borderline SMOTE"
   ],
   "id": "1e752cdfc948f3bc"
  },
  {
   "metadata": {
    "ExecuteTime": {
     "end_time": "2024-11-03T14:52:27.266666Z",
     "start_time": "2024-11-03T14:52:27.119801Z"
    }
   },
   "cell_type": "code",
   "source": [
    "from imblearn.over_sampling import BorderlineSMOTE\n",
    "smote = BorderlineSMOTE(sampling_strategy='auto', random_state=42)\n",
    "\n",
    "pipeline.feature_matrix, pipeline.labels = smote.fit_resample(\n",
    "    np.nan_to_num(pipeline.backup_feature_matrix), pipeline.backup_labels)\n",
    "\n",
    "print(pipeline.backup_feature_matrix.shape)\n",
    "print(pipeline.feature_matrix.shape)\n",
    "\n",
    "print(pipeline.backup_labels.shape)\n",
    "print(pipeline.labels.shape)"
   ],
   "id": "ca12420fbcc1eb2b",
   "outputs": [
    {
     "name": "stdout",
     "output_type": "stream",
     "text": [
      "(5082, 189)\n",
      "(8139, 189)\n",
      "(5082,)\n",
      "(8139,)\n"
     ]
    }
   ],
   "execution_count": 44
  },
  {
   "metadata": {
    "ExecuteTime": {
     "end_time": "2024-11-03T14:55:11.255526Z",
     "start_time": "2024-11-03T14:52:27.290099Z"
    }
   },
   "cell_type": "code",
   "source": [
    "pipeline.fitted_classifiers = {}\n",
    "\n",
    "pipeline.fit_classifiers()"
   ],
   "id": "a4ea57f5e5a38f80",
   "outputs": [
    {
     "name": "stderr",
     "output_type": "stream",
     "text": [
      "INFO:utils.ml:Fitting classifiers...\n",
      "INFO:utils.ml:Fitting classifier: RandomForestClassifier0\n",
      "INFO:utils.ml:Top 10 features for RandomForestClassifier0: [('color_moments_lab_B_std', 0.0268864453409031), ('color_moments_lab_L_iqr', 0.02044096228212243), ('color_moments_lab_B_var', 0.019790453619906542), ('color_moments_rgb_B_std', 0.017477040576347896), ('color_moments_rgb_B_iqr', 0.015372329569749401), ('color_moments_rgb_B_var', 0.013501314181172504), ('lbp_rad1_bins8_4', 0.011843153025938344), ('color_moments_rgb_R_kurtosis', 0.011026341290058854), ('color_moments_rgb_B_kurtosis', 0.01083527029073624), ('color_moments_rgb_G_skew', 0.010716065380903974)]\n",
      "INFO:utils.ml:Fitted classifier: RandomForestClassifier0; Done in 10.602392673492432 seconds\n",
      "INFO:utils.ml:Fitting classifier: RandomForestClassifier1\n",
      "INFO:utils.ml:Top 10 features for RandomForestClassifier1: [('color_moments_lab_B_std', 0.025447869555592216), ('color_moments_lab_L_iqr', 0.0215959513748903), ('color_moments_lab_B_var', 0.01808302253899377), ('color_moments_rgb_B_iqr', 0.016691151133624935), ('color_moments_rgb_B_std', 0.016483787793086485), ('color_moments_rgb_B_var', 0.01459463354270078), ('color_moments_rgb_B_kurtosis', 0.010739829531865197), ('lbp_rad1_bins8_4', 0.010377644072992387), ('color_moments_rgb_B_skew', 0.01006224666929879), ('color_moments_rgb_G_skew', 0.009947976798830877)]\n",
      "INFO:utils.ml:Fitted classifier: RandomForestClassifier1; Done in 11.027200937271118 seconds\n",
      "INFO:utils.ml:Fitting classifier: RandomForestClassifier2\n",
      "INFO:utils.ml:Top 10 features for RandomForestClassifier2: [('color_moments_lab_B_std', 0.026019033507999226), ('color_moments_lab_L_iqr', 0.02079651786136051), ('color_moments_lab_B_var', 0.019122275177465033), ('color_moments_rgb_B_std', 0.016486458437888908), ('color_moments_rgb_B_var', 0.014788034097337897), ('color_moments_rgb_B_iqr', 0.01476911963335885), ('lbp_rad1_bins8_4', 0.012505160115962834), ('color_moments_rgb_B_kurtosis', 0.010938765039595219), ('color_moments_rgb_G_skew', 0.010751567063102352), ('color_moments_rgb_R_iqr', 0.010566271078235953)]\n",
      "INFO:utils.ml:Fitted classifier: RandomForestClassifier2; Done in 15.889384984970093 seconds\n",
      "INFO:utils.ml:Fitting classifier: RandomForestClassifier3\n",
      "INFO:utils.ml:Top 10 features for RandomForestClassifier3: [('color_moments_lab_B_std', 0.02521515957942829), ('color_moments_lab_L_iqr', 0.02053796673631982), ('color_moments_lab_B_var', 0.018515767080611686), ('color_moments_rgb_B_iqr', 0.01687023994884126), ('color_moments_rgb_B_std', 0.015287648291376165), ('color_moments_rgb_B_var', 0.014227714661912458), ('color_moments_rgb_B_kurtosis', 0.012663545156839248), ('color_moments_rgb_R_iqr', 0.012216444937680846), ('lbp_rad1_bins8_4', 0.012037308877823238), ('color_moments_rgb_R_kurtosis', 0.011052516623984482)]\n",
      "INFO:utils.ml:Fitted classifier: RandomForestClassifier3; Done in 21.099092960357666 seconds\n",
      "INFO:utils.ml:Fitting classifier: XGBClassifier4\n",
      "INFO:utils.ml:Top 10 features for XGBClassifier4: [('color_moments_lab_L_iqr', 0.048132908), ('color_moments_rgb_B_iqr', 0.036650546), ('lbp_rad2_bins16_16', 0.021087376), ('color_moments_lab_B_var', 0.018751964), ('lbp_rad1_bins8_4', 0.017623413), ('glcm_energy_dist_1_angle_0', 0.013608964), ('color_moments_lab_B_std', 0.012651313), ('color_moments_hsv_H_mean', 0.012277092), ('gradient_direction_std', 0.011795092), ('lbp_rad4_bins32_33', 0.010711005)]\n",
      "INFO:utils.ml:Fitted classifier: XGBClassifier4; Done in 10.612788915634155 seconds\n",
      "INFO:utils.ml:Fitting classifier: XGBClassifier5\n",
      "INFO:utils.ml:Top 10 features for XGBClassifier5: [('color_moments_lab_L_iqr', 0.051180415), ('color_moments_rgb_B_iqr', 0.02740432), ('lbp_rad2_bins16_16', 0.021344496), ('lbp_rad1_bins8_4', 0.018439077), ('color_moments_lab_B_var', 0.016134115), ('color_moments_lab_B_std', 0.013381741), ('glcm_energy_dist_1_angle_0', 0.012701682), ('gradient_direction_std', 0.012151721), ('color_moments_hsv_H_min', 0.011285323), ('lbp_rad4_bins32_32', 0.010790751)]\n",
      "INFO:utils.ml:Fitted classifier: XGBClassifier5; Done in 11.68581748008728 seconds\n",
      "INFO:utils.ml:Fitting classifier: XGBClassifier6\n",
      "INFO:utils.ml:Top 10 features for XGBClassifier6: [('color_moments_lab_L_iqr', 0.052243892), ('color_moments_rgb_B_iqr', 0.027442545), ('color_moments_lab_B_var', 0.017810212), ('lbp_rad2_bins16_16', 0.017293295), ('lbp_rad1_bins8_4', 0.016544264), ('glcm_energy_dist_1_angle_0', 0.0143190175), ('color_moments_lab_B_std', 0.013338566), ('color_moments_hsv_H_mean', 0.012019551), ('gradient_direction_std', 0.012001003), ('lbp_rad1_bins8_8', 0.009826265)]\n",
      "INFO:utils.ml:Fitted classifier: XGBClassifier6; Done in 6.9441962242126465 seconds\n",
      "INFO:utils.ml:Fitting classifier: XGBClassifier7\n",
      "INFO:utils.ml:Top 10 features for XGBClassifier7: [('color_moments_lab_L_iqr', 0.05345813), ('color_moments_rgb_B_iqr', 0.027462197), ('lbp_rad1_bins8_4', 0.01987965), ('color_moments_lab_B_var', 0.019797878), ('lbp_rad2_bins16_16', 0.018649701), ('gradient_direction_std', 0.014003229), ('color_moments_lab_B_std', 0.013183429), ('glcm_energy_dist_1_angle_0', 0.012896345), ('color_moments_hsv_H_mean', 0.012416565), ('color_moments_rgb_B_std', 0.012207128)]\n",
      "INFO:utils.ml:Fitted classifier: XGBClassifier7; Done in 10.207722425460815 seconds\n",
      "INFO:utils.ml:Fitting classifier: XGBClassifier8\n",
      "INFO:utils.ml:Top 10 features for XGBClassifier8: [('color_moments_lab_L_iqr', 0.049675837), ('color_moments_rgb_B_iqr', 0.036202382), ('lbp_rad2_bins16_16', 0.022102768), ('color_moments_lab_B_var', 0.018640503), ('lbp_rad1_bins8_4', 0.01792908), ('glcm_energy_dist_1_angle_0', 0.014068726), ('color_moments_lab_B_std', 0.012698064), ('color_moments_hsv_H_mean', 0.012437153), ('gradient_direction_std', 0.012276834), ('lbp_rad4_bins32_33', 0.010884903)]\n",
      "INFO:utils.ml:Fitted classifier: XGBClassifier8; Done in 13.89487624168396 seconds\n",
      "INFO:utils.ml:Fitting classifier: XGBClassifier9\n",
      "INFO:utils.ml:Top 10 features for XGBClassifier9: [('color_moments_lab_L_iqr', 0.0524137), ('color_moments_rgb_B_iqr', 0.027194977), ('lbp_rad2_bins16_16', 0.021070568), ('lbp_rad1_bins8_4', 0.018797306), ('color_moments_lab_B_var', 0.016294312), ('color_moments_lab_B_std', 0.013561099), ('glcm_energy_dist_1_angle_0', 0.012772109), ('gradient_direction_std', 0.012247735), ('color_moments_hsv_H_min', 0.012213926), ('lbp_rad4_bins32_32', 0.011007893)]\n",
      "INFO:utils.ml:Fitted classifier: XGBClassifier9; Done in 14.06168818473816 seconds\n",
      "INFO:utils.ml:Fitting classifier: XGBClassifier10\n",
      "INFO:utils.ml:Top 10 features for XGBClassifier10: [('color_moments_lab_L_iqr', 0.052861776), ('color_moments_rgb_B_iqr', 0.027492011), ('color_moments_lab_B_var', 0.017835164), ('lbp_rad2_bins16_16', 0.01749782), ('lbp_rad1_bins8_4', 0.016440574), ('glcm_energy_dist_1_angle_0', 0.014329907), ('color_moments_lab_B_std', 0.013283881), ('color_moments_hsv_H_mean', 0.012085552), ('gradient_direction_std', 0.011861671), ('lbp_rad1_bins8_8', 0.00980187)]\n",
      "INFO:utils.ml:Fitted classifier: XGBClassifier10; Done in 7.960400581359863 seconds\n",
      "INFO:utils.ml:Fitting classifier: XGBClassifier11\n",
      "INFO:utils.ml:Top 10 features for XGBClassifier11: [('color_moments_lab_L_iqr', 0.05431255), ('color_moments_rgb_B_iqr', 0.028047401), ('lbp_rad1_bins8_4', 0.020459915), ('lbp_rad2_bins16_16', 0.020206751), ('color_moments_lab_B_var', 0.019494524), ('gradient_direction_std', 0.014518539), ('color_moments_hsv_H_min', 0.013987859), ('color_moments_lab_B_std', 0.013657859), ('glcm_energy_dist_1_angle_0', 0.012886995), ('color_moments_hsv_H_mean', 0.01267797)]\n",
      "INFO:utils.ml:Fitted classifier: XGBClassifier11; Done in 13.235395193099976 seconds\n",
      "INFO:utils.ml:Fitting classifier: XGBClassifier12\n",
      "INFO:utils.ml:Top 10 features for XGBClassifier12: [('color_moments_lab_L_iqr', 0.04954569), ('color_moments_rgb_B_iqr', 0.03621017), ('lbp_rad2_bins16_16', 0.022613887), ('color_moments_lab_B_var', 0.018594164), ('lbp_rad1_bins8_4', 0.01830388), ('glcm_energy_dist_1_angle_0', 0.01428737), ('color_moments_lab_B_std', 0.012920662), ('color_moments_hsv_H_mean', 0.012686716), ('gradient_direction_std', 0.012424345), ('lbp_rad4_bins32_32', 0.011078642)]\n",
      "INFO:utils.ml:Fitted classifier: XGBClassifier12; Done in 16.731626510620117 seconds\n",
      "INFO:utils.ml:Fitting completed in 163.95 seconds.\n"
     ]
    }
   ],
   "execution_count": 45
  },
  {
   "metadata": {
    "ExecuteTime": {
     "end_time": "2024-11-03T14:56:39.104734Z",
     "start_time": "2024-11-03T14:55:11.258529Z"
    }
   },
   "cell_type": "code",
   "source": "pipeline.predict_with_classifiers(VAL_PATH, percent)",
   "id": "156c56b343fa5df1",
   "outputs": [
    {
     "name": "stderr",
     "output_type": "stream",
     "text": [
      "INFO:utils.ml:Predicting with classifiers on dataset: C:\\Users\\gimes\\Src\\repos\\CADx-Project\\dataset\\multiclass\\val\n"
     ]
    },
    {
     "name": "stdout",
     "output_type": "stream",
     "text": [
      "Processed 5/53 batches.\n",
      "Processed 10/53 batches.\n",
      "Processed 15/53 batches.\n",
      "Processed 20/53 batches.\n",
      "Processed 25/53 batches.\n",
      "Processed 30/53 batches.\n",
      "Processed 35/53 batches.\n",
      "Processed 40/53 batches.\n",
      "Processed 45/53 batches.\n",
      "Processed 50/53 batches.\n"
     ]
    },
    {
     "name": "stderr",
     "output_type": "stream",
     "text": [
      "INFO:utils.ml:Predictions made with classifier: RandomForestClassifier0\n",
      "INFO:utils.ml:Predictions made with classifier: RandomForestClassifier1\n",
      "INFO:utils.ml:Predictions made with classifier: RandomForestClassifier2\n",
      "INFO:utils.ml:Predictions made with classifier: RandomForestClassifier3\n",
      "INFO:utils.ml:Predictions made with classifier: XGBClassifier4\n",
      "INFO:utils.ml:Predictions made with classifier: XGBClassifier5\n",
      "INFO:utils.ml:Predictions made with classifier: XGBClassifier6\n",
      "INFO:utils.ml:Predictions made with classifier: XGBClassifier7\n",
      "INFO:utils.ml:Predictions made with classifier: XGBClassifier8\n",
      "INFO:utils.ml:Predictions made with classifier: XGBClassifier9\n",
      "INFO:utils.ml:Predictions made with classifier: XGBClassifier10\n"
     ]
    },
    {
     "name": "stdout",
     "output_type": "stream",
     "text": [
      "Processed 53/53 batches.\n"
     ]
    },
    {
     "name": "stderr",
     "output_type": "stream",
     "text": [
      "INFO:utils.ml:Predictions made with classifier: XGBClassifier11\n",
      "INFO:utils.ml:Predictions made with classifier: XGBClassifier12\n"
     ]
    },
    {
     "data": {
      "text/plain": [
       "{'GT': array([0, 0, 0, ..., 2, 2, 2]),\n",
       " 'RandomForestClassifier0': array([0, 0, 2, ..., 1, 0, 0]),\n",
       " 'RandomForestClassifier1': array([0, 0, 2, ..., 1, 0, 0]),\n",
       " 'RandomForestClassifier2': array([0, 0, 2, ..., 1, 0, 0]),\n",
       " 'RandomForestClassifier3': array([0, 0, 2, ..., 1, 0, 0]),\n",
       " 'XGBClassifier4': array([0, 0, 2, ..., 0, 0, 0], dtype=int64),\n",
       " 'XGBClassifier5': array([0, 0, 2, ..., 0, 0, 0], dtype=int64),\n",
       " 'XGBClassifier6': array([0, 0, 2, ..., 0, 0, 0], dtype=int64),\n",
       " 'XGBClassifier7': array([0, 0, 2, ..., 0, 0, 0], dtype=int64),\n",
       " 'XGBClassifier8': array([0, 0, 2, ..., 0, 0, 0], dtype=int64),\n",
       " 'XGBClassifier9': array([0, 0, 2, ..., 0, 0, 0], dtype=int64),\n",
       " 'XGBClassifier10': array([0, 0, 2, ..., 0, 0, 0], dtype=int64),\n",
       " 'XGBClassifier11': array([0, 0, 2, ..., 0, 0, 0], dtype=int64),\n",
       " 'XGBClassifier12': array([0, 0, 2, ..., 0, 0, 0], dtype=int64)}"
      ]
     },
     "execution_count": 46,
     "metadata": {},
     "output_type": "execute_result"
    }
   ],
   "execution_count": 46
  },
  {
   "metadata": {
    "ExecuteTime": {
     "end_time": "2024-11-03T14:56:39.215463Z",
     "start_time": "2024-11-03T14:56:39.134793Z"
    }
   },
   "cell_type": "code",
   "source": [
    "df_borderline_smote = pd.DataFrame(data=pipeline.calculate_metrics(\n",
    "    [\"accuracy\", \"precision\", \"recall\", \"f1\", \"kappa\"],))\n",
    "df_borderline_smote = df_borderline_smote.T\n",
    "df_borderline_smote"
   ],
   "id": "dec33139485e5176",
   "outputs": [
    {
     "name": "stderr",
     "output_type": "stream",
     "text": [
      "INFO:utils.ml:Metrics for classifier GT: {'accuracy': 1.0, 'precision': 1.0, 'recall': 1.0, 'f1': 1.0, 'kappa': 1.0}\n",
      "INFO:utils.ml:Metrics for classifier RandomForestClassifier0: {'accuracy': 0.8433070866141732, 'precision': 0.7493291233171293, 'recall': 0.7247833989570283, 'f1': 0.734778349453585, 'kappa': 0.7162505052319577}\n",
      "INFO:utils.ml:Metrics for classifier RandomForestClassifier1: {'accuracy': 0.831496062992126, 'precision': 0.724771322921228, 'recall': 0.710055939568227, 'f1': 0.716208445676218, 'kappa': 0.6957981688343668}\n",
      "INFO:utils.ml:Metrics for classifier RandomForestClassifier2: {'accuracy': 0.8440944881889764, 'precision': 0.7537905406616977, 'recall': 0.7250973390833151, 'f1': 0.7366623342686385, 'kappa': 0.7171912114014252}\n",
      "INFO:utils.ml:Metrics for classifier RandomForestClassifier3: {'accuracy': 0.8448818897637795, 'precision': 0.7562745903582903, 'recall': 0.728288034457544, 'f1': 0.7397858551704705, 'kappa': 0.7185764935614207}\n",
      "INFO:utils.ml:Metrics for classifier XGBClassifier4: {'accuracy': 0.8748031496062992, 'precision': 0.7782558359956283, 'recall': 0.7672518984492541, 'f1': 0.7723950531657845, 'kappa': 0.7738654637812947}\n",
      "INFO:utils.ml:Metrics for classifier XGBClassifier5: {'accuracy': 0.8732283464566929, 'precision': 0.7863721715567505, 'recall': 0.763036455115636, 'f1': 0.7733369428214037, 'kappa': 0.7699679145347608}\n",
      "INFO:utils.ml:Metrics for classifier XGBClassifier6: {'accuracy': 0.8677165354330708, 'precision': 0.7766001615894756, 'recall': 0.76211631185509, 'f1': 0.7687854219473736, 'kappa': 0.7607524590825705}\n",
      "INFO:utils.ml:Metrics for classifier XGBClassifier7: {'accuracy': 0.8795275590551181, 'precision': 0.7918397971402924, 'recall': 0.7748555257873267, 'f1': 0.7823602655776414, 'kappa': 0.7824436711496863}\n",
      "INFO:utils.ml:Metrics for classifier XGBClassifier8: {'accuracy': 0.8779527559055118, 'precision': 0.7822461657930498, 'recall': 0.7695738707040553, 'f1': 0.7754515255898683, 'kappa': 0.7794101167663999}\n",
      "INFO:utils.ml:Metrics for classifier XGBClassifier9: {'accuracy': 0.8724409448818897, 'precision': 0.786246472975161, 'recall': 0.7596680577831315, 'f1': 0.7711743348564485, 'kappa': 0.768281585064783}\n",
      "INFO:utils.ml:Metrics for classifier XGBClassifier10: {'accuracy': 0.8677165354330708, 'precision': 0.7749186783730941, 'recall': 0.7619386098968143, 'f1': 0.7679751949222866, 'kappa': 0.7608125378354745}\n",
      "INFO:utils.ml:Metrics for classifier XGBClassifier11: {'accuracy': 0.8779527559055118, 'precision': 0.7890942411846767, 'recall': 0.7702846785371574, 'f1': 0.7786112796257832, 'kappa': 0.7792775418122452}\n",
      "INFO:utils.ml:Metrics for classifier XGBClassifier12: {'accuracy': 0.8779527559055118, 'precision': 0.7823161313871699, 'recall': 0.7693961687457795, 'f1': 0.7754025714673102, 'kappa': 0.7793210914553486}\n"
     ]
    },
    {
     "data": {
      "text/plain": [
       "                         accuracy  precision    recall        f1     kappa\n",
       "GT                       1.000000   1.000000  1.000000  1.000000  1.000000\n",
       "RandomForestClassifier0  0.843307   0.749329  0.724783  0.734778  0.716251\n",
       "RandomForestClassifier1  0.831496   0.724771  0.710056  0.716208  0.695798\n",
       "RandomForestClassifier2  0.844094   0.753791  0.725097  0.736662  0.717191\n",
       "RandomForestClassifier3  0.844882   0.756275  0.728288  0.739786  0.718576\n",
       "XGBClassifier4           0.874803   0.778256  0.767252  0.772395  0.773865\n",
       "XGBClassifier5           0.873228   0.786372  0.763036  0.773337  0.769968\n",
       "XGBClassifier6           0.867717   0.776600  0.762116  0.768785  0.760752\n",
       "XGBClassifier7           0.879528   0.791840  0.774856  0.782360  0.782444\n",
       "XGBClassifier8           0.877953   0.782246  0.769574  0.775452  0.779410\n",
       "XGBClassifier9           0.872441   0.786246  0.759668  0.771174  0.768282\n",
       "XGBClassifier10          0.867717   0.774919  0.761939  0.767975  0.760813\n",
       "XGBClassifier11          0.877953   0.789094  0.770285  0.778611  0.779278\n",
       "XGBClassifier12          0.877953   0.782316  0.769396  0.775403  0.779321"
      ],
      "text/html": [
       "<div>\n",
       "<style scoped>\n",
       "    .dataframe tbody tr th:only-of-type {\n",
       "        vertical-align: middle;\n",
       "    }\n",
       "\n",
       "    .dataframe tbody tr th {\n",
       "        vertical-align: top;\n",
       "    }\n",
       "\n",
       "    .dataframe thead th {\n",
       "        text-align: right;\n",
       "    }\n",
       "</style>\n",
       "<table border=\"1\" class=\"dataframe\">\n",
       "  <thead>\n",
       "    <tr style=\"text-align: right;\">\n",
       "      <th></th>\n",
       "      <th>accuracy</th>\n",
       "      <th>precision</th>\n",
       "      <th>recall</th>\n",
       "      <th>f1</th>\n",
       "      <th>kappa</th>\n",
       "    </tr>\n",
       "  </thead>\n",
       "  <tbody>\n",
       "    <tr>\n",
       "      <th>GT</th>\n",
       "      <td>1.000000</td>\n",
       "      <td>1.000000</td>\n",
       "      <td>1.000000</td>\n",
       "      <td>1.000000</td>\n",
       "      <td>1.000000</td>\n",
       "    </tr>\n",
       "    <tr>\n",
       "      <th>RandomForestClassifier0</th>\n",
       "      <td>0.843307</td>\n",
       "      <td>0.749329</td>\n",
       "      <td>0.724783</td>\n",
       "      <td>0.734778</td>\n",
       "      <td>0.716251</td>\n",
       "    </tr>\n",
       "    <tr>\n",
       "      <th>RandomForestClassifier1</th>\n",
       "      <td>0.831496</td>\n",
       "      <td>0.724771</td>\n",
       "      <td>0.710056</td>\n",
       "      <td>0.716208</td>\n",
       "      <td>0.695798</td>\n",
       "    </tr>\n",
       "    <tr>\n",
       "      <th>RandomForestClassifier2</th>\n",
       "      <td>0.844094</td>\n",
       "      <td>0.753791</td>\n",
       "      <td>0.725097</td>\n",
       "      <td>0.736662</td>\n",
       "      <td>0.717191</td>\n",
       "    </tr>\n",
       "    <tr>\n",
       "      <th>RandomForestClassifier3</th>\n",
       "      <td>0.844882</td>\n",
       "      <td>0.756275</td>\n",
       "      <td>0.728288</td>\n",
       "      <td>0.739786</td>\n",
       "      <td>0.718576</td>\n",
       "    </tr>\n",
       "    <tr>\n",
       "      <th>XGBClassifier4</th>\n",
       "      <td>0.874803</td>\n",
       "      <td>0.778256</td>\n",
       "      <td>0.767252</td>\n",
       "      <td>0.772395</td>\n",
       "      <td>0.773865</td>\n",
       "    </tr>\n",
       "    <tr>\n",
       "      <th>XGBClassifier5</th>\n",
       "      <td>0.873228</td>\n",
       "      <td>0.786372</td>\n",
       "      <td>0.763036</td>\n",
       "      <td>0.773337</td>\n",
       "      <td>0.769968</td>\n",
       "    </tr>\n",
       "    <tr>\n",
       "      <th>XGBClassifier6</th>\n",
       "      <td>0.867717</td>\n",
       "      <td>0.776600</td>\n",
       "      <td>0.762116</td>\n",
       "      <td>0.768785</td>\n",
       "      <td>0.760752</td>\n",
       "    </tr>\n",
       "    <tr>\n",
       "      <th>XGBClassifier7</th>\n",
       "      <td>0.879528</td>\n",
       "      <td>0.791840</td>\n",
       "      <td>0.774856</td>\n",
       "      <td>0.782360</td>\n",
       "      <td>0.782444</td>\n",
       "    </tr>\n",
       "    <tr>\n",
       "      <th>XGBClassifier8</th>\n",
       "      <td>0.877953</td>\n",
       "      <td>0.782246</td>\n",
       "      <td>0.769574</td>\n",
       "      <td>0.775452</td>\n",
       "      <td>0.779410</td>\n",
       "    </tr>\n",
       "    <tr>\n",
       "      <th>XGBClassifier9</th>\n",
       "      <td>0.872441</td>\n",
       "      <td>0.786246</td>\n",
       "      <td>0.759668</td>\n",
       "      <td>0.771174</td>\n",
       "      <td>0.768282</td>\n",
       "    </tr>\n",
       "    <tr>\n",
       "      <th>XGBClassifier10</th>\n",
       "      <td>0.867717</td>\n",
       "      <td>0.774919</td>\n",
       "      <td>0.761939</td>\n",
       "      <td>0.767975</td>\n",
       "      <td>0.760813</td>\n",
       "    </tr>\n",
       "    <tr>\n",
       "      <th>XGBClassifier11</th>\n",
       "      <td>0.877953</td>\n",
       "      <td>0.789094</td>\n",
       "      <td>0.770285</td>\n",
       "      <td>0.778611</td>\n",
       "      <td>0.779278</td>\n",
       "    </tr>\n",
       "    <tr>\n",
       "      <th>XGBClassifier12</th>\n",
       "      <td>0.877953</td>\n",
       "      <td>0.782316</td>\n",
       "      <td>0.769396</td>\n",
       "      <td>0.775403</td>\n",
       "      <td>0.779321</td>\n",
       "    </tr>\n",
       "  </tbody>\n",
       "</table>\n",
       "</div>"
      ]
     },
     "execution_count": 47,
     "metadata": {},
     "output_type": "execute_result"
    }
   ],
   "execution_count": 47
  },
  {
   "metadata": {
    "ExecuteTime": {
     "end_time": "2024-11-03T14:56:39.265670Z",
     "start_time": "2024-11-03T14:56:39.258843Z"
    }
   },
   "cell_type": "code",
   "source": [
    "highest = df_borderline_smote[df_borderline_smote[\"kappa\"] == df_borderline_smote.iloc[1:][\"kappa\"].max()]\n",
    "idx = highest.index[0]\n",
    "\n",
    "confusion_matrix(pipeline.predictions[\"GT\"], pipeline.predictions[idx])"
   ],
   "id": "5e3d245571ac5c69",
   "outputs": [
    {
     "data": {
      "text/plain": [
       "array([[445,  29,  24],\n",
       "       [ 44, 624,  10],\n",
       "       [ 30,  16,  48]], dtype=int64)"
      ]
     },
     "execution_count": 48,
     "metadata": {},
     "output_type": "execute_result"
    }
   ],
   "execution_count": 48
  },
  {
   "metadata": {},
   "cell_type": "markdown",
   "source": "",
   "id": "4177e527fe0edeb1"
  }
 ],
 "metadata": {
  "kernelspec": {
   "display_name": "Python 3",
   "language": "python",
   "name": "python3"
  },
  "language_info": {
   "codemirror_mode": {
    "name": "ipython",
    "version": 2
   },
   "file_extension": ".py",
   "mimetype": "text/x-python",
   "name": "python",
   "nbconvert_exporter": "python",
   "pygments_lexer": "ipython2",
   "version": "2.7.6"
  }
 },
 "nbformat": 4,
 "nbformat_minor": 5
}

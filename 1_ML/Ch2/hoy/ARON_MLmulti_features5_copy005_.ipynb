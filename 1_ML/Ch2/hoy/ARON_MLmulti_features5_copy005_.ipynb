{
 "cells": [
  {
   "cell_type": "code",
   "id": "initial_id",
   "metadata": {
    "collapsed": true,
    "ExecuteTime": {
     "end_time": "2024-11-03T12:13:20.022408Z",
     "start_time": "2024-11-03T12:13:15.351245Z"
    }
   },
   "source": [
    "import numpy as np\n",
    "from sklearn.metrics import confusion_matrix, recall_score, cohen_kappa_score\n",
    "\n",
    "from utils.loader import FactoryLoader\n",
    "from utils.ml import MLPipeline\n",
    "from utils.preprocessing import PreprocessingFactory\n",
    "from utils.feature_extraction import *\n",
    "from utils.utils import *\n",
    "\n",
    "VAL_PATH = r\"C:\\Users\\gimes\\Src\\repos\\CADx-Project\\dataset\\multiclass\\val\"\n",
    "TRAIN_PATH = r\"C:\\Users\\gimes\\Src\\repos\\CADx-Project\\dataset\\multiclass\\train\""
   ],
   "outputs": [
    {
     "name": "stderr",
     "output_type": "stream",
     "text": [
      "INFO:numexpr.utils:Note: NumExpr detected 16 cores but \"NUMEXPR_MAX_THREADS\" not set, so enforcing safe limit of 8.\n",
      "INFO:numexpr.utils:NumExpr defaulting to 8 threads.\n"
     ]
    }
   ],
   "execution_count": 1
  },
  {
   "metadata": {
    "ExecuteTime": {
     "end_time": "2024-11-03T12:13:20.057571Z",
     "start_time": "2024-11-03T12:13:20.022408Z"
    }
   },
   "cell_type": "code",
   "source": [
    "percent = 100\n",
    "random = False\n",
    "batch_size = 24\n",
    "th = 0.05\n",
    "\n",
    "# Initialize the FactoryLoader\n",
    "factory = PreprocessingFactory()\n",
    "factory.gaussian_smoothing(5)\n",
    "factory.clahe(clip_limit=1.5)\n",
    "factory.pad2square(fill=np.nan)\n",
    "factory.resize((150,150))\n",
    "factory.hair_removal()\n",
    "factory.normalize2float()\n",
    "\n",
    "factory_loader = FactoryLoader(path=VAL_PATH, batch_size=batch_size, factory=factory, percentage=percent, shuffle=random)\n",
    "\n",
    "# Create the feature extraction pipeline strategy and add desired features\n",
    "strategy = FeatureExtractionStrategy()\n",
    "\n",
    "strategy.add_extractor(GradientExtractor(threshold=th)) # Add gradient feature\n",
    "\n",
    "strategy.add_extractor(ColorMomentsExtractor(\"rgb\", threshold=th))   # Add color moments feature\n",
    "strategy.add_extractor(ColorMomentsExtractor(\"lab\", threshold=th))   # Add color moments feature\n",
    "strategy.add_extractor(ColorMomentsExtractor(\"hsv\", threshold=th))   # Add color moments feature\n",
    "\n",
    "strategy.add_extractor(LBPExtractor(radius=1, n_points=8))\n",
    "strategy.add_extractor(LBPExtractor(radius=2, n_points=16))\n",
    "strategy.add_extractor(LBPExtractor(radius=3, n_points=24))\n",
    "strategy.add_extractor(LBPExtractor(radius=4, n_points=32))\n",
    "\n",
    "strategy.add_extractor(FourierTransformExtractor())\n",
    "\n",
    "strategy.add_extractor(GLCMExtractor(properties=['contrast', 'dissimilarity', 'homogeneity', 'energy', 'correlation',]))\n",
    "\n",
    "pipeline = MLPipeline(dataset_path=TRAIN_PATH, preprocessing_factory=factory, feature_strategy=strategy, classifiers=[], percentage=percent, verbose=True, shuffle=random, batch_size=batch_size)"
   ],
   "id": "d7c81ba220d9e517",
   "outputs": [
    {
     "name": "stderr",
     "output_type": "stream",
     "text": [
      "INFO:utils.ml:MLPipeline initialized with dataset path: C:\\Users\\gimes\\Src\\repos\\CADx-Project\\dataset\\multiclass\\train\n",
      "INFO:utils.ml:Preprocessing steps\n"
     ]
    }
   ],
   "execution_count": 2
  },
  {
   "metadata": {
    "ExecuteTime": {
     "end_time": "2024-11-03T12:21:20.845675Z",
     "start_time": "2024-11-03T12:13:20.130070Z"
    }
   },
   "cell_type": "code",
   "source": [
    "pipeline.feature_matrix = None\n",
    "pipeline.run_feature_extraction()"
   ],
   "id": "21f510c52296a049",
   "outputs": [
    {
     "name": "stderr",
     "output_type": "stream",
     "text": [
      "INFO:utils.ml:Running feature extraction...\n"
     ]
    },
    {
     "name": "stdout",
     "output_type": "stream",
     "text": [
      "Processed 5/212 batches.\n",
      "Processed 10/212 batches.\n",
      "Processed 15/212 batches.\n",
      "Processed 20/212 batches.\n",
      "Processed 25/212 batches.\n",
      "Processed 30/212 batches.\n",
      "Processed 35/212 batches.\n",
      "Processed 40/212 batches.\n",
      "Processed 45/212 batches.\n",
      "Processed 50/212 batches.\n",
      "Processed 55/212 batches.\n",
      "Processed 60/212 batches.\n",
      "Processed 65/212 batches.\n",
      "Processed 70/212 batches.\n",
      "Processed 75/212 batches.\n",
      "Processed 80/212 batches.\n",
      "Processed 85/212 batches.\n",
      "Processed 90/212 batches.\n",
      "Processed 95/212 batches.\n",
      "Processed 100/212 batches.\n",
      "Processed 105/212 batches.\n",
      "Processed 110/212 batches.\n",
      "Processed 115/212 batches.\n",
      "Processed 120/212 batches.\n",
      "Processed 125/212 batches.\n",
      "Processed 130/212 batches.\n",
      "Processed 135/212 batches.\n",
      "Processed 140/212 batches.\n",
      "Processed 145/212 batches.\n",
      "Processed 150/212 batches.\n",
      "Processed 155/212 batches.\n",
      "Processed 160/212 batches.\n",
      "Processed 165/212 batches.\n",
      "Processed 170/212 batches.\n",
      "Processed 175/212 batches.\n",
      "Processed 180/212 batches.\n",
      "Processed 185/212 batches.\n",
      "Processed 190/212 batches.\n",
      "Processed 195/212 batches.\n",
      "Processed 200/212 batches.\n",
      "Processed 205/212 batches.\n",
      "Processed 210/212 batches.\n"
     ]
    },
    {
     "name": "stderr",
     "output_type": "stream",
     "text": [
      "INFO:utils.ml:Feature extraction completed. Extracted 5082 features.\n"
     ]
    },
    {
     "name": "stdout",
     "output_type": "stream",
     "text": [
      "Processed 212/212 batches.\n"
     ]
    }
   ],
   "execution_count": 3
  },
  {
   "metadata": {
    "ExecuteTime": {
     "end_time": "2024-11-03T12:21:20.973912Z",
     "start_time": "2024-11-03T12:21:20.855259Z"
    }
   },
   "cell_type": "code",
   "source": [
    "from xgboost import XGBClassifier\n",
    "from sklearn.ensemble import RandomForestClassifier\n",
    "\n",
    "rf1 = RandomForestClassifier(n_estimators=100)\n",
    "rf2 = RandomForestClassifier(n_estimators=150)\n",
    "# Random Forest with Out-of-Bag Error (OOB)\n",
    "rf3 = RandomForestClassifier(n_estimators=100, oob_score=True, random_state=42)\n",
    "# Random Forest with Bootstrap Disabled\n",
    "rf4 = RandomForestClassifier(n_estimators=100, bootstrap=False, random_state=42)\n",
    "# Random Forest with Out-of-Bag Error (OOB)\n",
    "rf5 = RandomForestClassifier(n_estimators=150, oob_score=True, random_state=42)\n",
    "# Random Forest with Bootstrap Disabled\n",
    "rf6 = RandomForestClassifier(n_estimators=150, bootstrap=False, random_state=42)\n",
    "# Random Forest with Out-of-Bag Error (OOB)\n",
    "rf7 = RandomForestClassifier(n_estimators=200, oob_score=True, random_state=42)\n",
    "# Random Forest with Bootstrap Disabled\n",
    "rf8 = RandomForestClassifier(n_estimators=200, bootstrap=False, random_state=42)\n",
    "\n",
    "\n",
    "xgb1 = XGBClassifier(n_estimators=350)\n",
    "xgb2 = XGBClassifier(n_estimators=450)\n",
    "xgb3 = XGBClassifier(n_estimators=550)\n",
    "xgb4 = XGBClassifier(learning_rate=0.05, n_estimators=400, max_depth=3, min_child_weight=4, subsample=0.8, colsample_bytree=0.8)\n",
    "xgb5 = XGBClassifier(learning_rate=0.1, n_estimators=400, max_depth=7, min_child_weight=3, subsample=0.7, colsample_bytree=0.7) # 2ND\n",
    "xgb6 = XGBClassifier(learning_rate=0.1, n_estimators=400, max_depth=5, min_child_weight=5, gamma=0.2, subsample=0.8, colsample_bytree=0.8) # THIS\n",
    "xgb7 = XGBClassifier(learning_rate=0.1, n_estimators=400, max_depth=5, min_child_weight=1, subsample=0.8, colsample_bytree=0.8, reg_alpha=0.1, reg_lambda=0.1)\n",
    "xgb8 = XGBClassifier(learning_rate=0.05, n_estimators=500, max_depth=7, min_child_weight=1, subsample=0.8, colsample_bytree=0.8)\n",
    "xgb9 = XGBClassifier(learning_rate=0.05, n_estimators=400, max_depth=7, min_child_weight=1, subsample=0.8, colsample_bytree=0.8)\n",
    "xgb10 = XGBClassifier(learning_rate=0.1, n_estimators=400, max_depth=7, min_child_weight=1, subsample=0.8, colsample_bytree=0.8)\n",
    "xgb11 = XGBClassifier(learning_rate=0.1, n_estimators=500, max_depth=7, min_child_weight=1, subsample=0.8, colsample_bytree=0.8)\n",
    "\n",
    "\n",
    "pipeline.classifiers = [rf1, rf2, rf3, rf4, rf5, rf6, rf7, rf8,\n",
    "                        # svm1, svm2, svm3, svm6, svm7, svm8,\n",
    "                        xgb1, xgb2, xgb3, xgb4, xgb5, xgb6, xgb7, xgb8, xgb9, xgb10, xgb11]\n",
    "pipeline.fitted_classifiers = {}"
   ],
   "id": "74470ba20848a156",
   "outputs": [],
   "execution_count": 4
  },
  {
   "metadata": {
    "ExecuteTime": {
     "end_time": "2024-11-03T12:24:47.733792Z",
     "start_time": "2024-11-03T12:21:20.994541Z"
    }
   },
   "cell_type": "code",
   "source": "pipeline.fit_classifiers()",
   "id": "5269ac4d3392fbae",
   "outputs": [
    {
     "name": "stderr",
     "output_type": "stream",
     "text": [
      "INFO:utils.ml:Fitting classifiers...\n",
      "INFO:utils.ml:Fitting classifier: RandomForestClassifier0\n",
      "INFO:utils.ml:Top 10 features for RandomForestClassifier0: [('color_moments_lab_B_var', 0.0353893213967684), ('color_moments_lab_B_std', 0.03034697311586578), ('color_moments_rgb_B_std', 0.02982552504059772), ('color_moments_rgb_B_var', 0.02853938828033203), ('color_moments_lab_L_iqr', 0.018751214649847893), ('color_moments_rgb_G_iqr', 0.017102921057258535), ('color_moments_rgb_R_kurtosis', 0.015568017177376296), ('color_moments_rgb_R_iqr', 0.015317285317026075), ('color_moments_rgb_B_iqr', 0.014552049463672202), ('color_moments_rgb_R_skew', 0.013992014374031622)]\n",
      "INFO:utils.ml:Fitted classifier: RandomForestClassifier0; Done in 5.890469074249268 seconds\n",
      "INFO:utils.ml:Fitting classifier: RandomForestClassifier1\n",
      "INFO:utils.ml:Top 10 features for RandomForestClassifier1: [('color_moments_lab_B_var', 0.034483008038700996), ('color_moments_rgb_B_std', 0.031332387712206304), ('color_moments_lab_B_std', 0.030010254744813777), ('color_moments_rgb_B_var', 0.02730177544170634), ('color_moments_rgb_R_iqr', 0.02120632554710938), ('color_moments_rgb_B_kurtosis', 0.01614426863048915), ('color_moments_rgb_B_iqr', 0.016029936115283958), ('color_moments_rgb_R_kurtosis', 0.014228501258938762), ('color_moments_rgb_G_std', 0.01252934616898189), ('color_moments_rgb_R_skew', 0.01249175266580506)]\n",
      "INFO:utils.ml:Fitted classifier: RandomForestClassifier1; Done in 8.98436689376831 seconds\n",
      "INFO:utils.ml:Fitting classifier: RandomForestClassifier2\n",
      "INFO:utils.ml:Top 10 features for RandomForestClassifier2: [('color_moments_lab_B_std', 0.03785395157397985), ('color_moments_rgb_B_std', 0.033846546076509276), ('color_moments_lab_B_var', 0.03156850191189255), ('color_moments_rgb_B_var', 0.030837247198739523), ('color_moments_rgb_R_iqr', 0.021009778943232357), ('color_moments_lab_L_iqr', 0.014486456623644036), ('color_moments_rgb_R_skew', 0.013878318619873112), ('color_moments_rgb_B_iqr', 0.013306877693400047), ('color_moments_rgb_G_var', 0.012504790617201668), ('color_moments_rgb_G_std', 0.012240246709222205)]\n",
      "INFO:utils.ml:Fitted classifier: RandomForestClassifier2; Done in 5.9825286865234375 seconds\n",
      "INFO:utils.ml:Fitting classifier: RandomForestClassifier3\n",
      "INFO:utils.ml:Top 10 features for RandomForestClassifier3: [('color_moments_lab_B_std', 0.04046707590521756), ('color_moments_rgb_B_std', 0.03567758855147457), ('color_moments_lab_B_var', 0.03182139728401362), ('color_moments_rgb_B_var', 0.02976757801078935), ('color_moments_rgb_R_iqr', 0.01845644698181341), ('color_moments_lab_L_iqr', 0.01623924007817494), ('color_moments_rgb_R_skew', 0.013666248598399086), ('color_moments_rgb_G_std', 0.012629135356133837), ('color_moments_rgb_B_iqr', 0.012280363381378612), ('color_moments_lab_L_kurtosis', 0.012120178870659167)]\n",
      "INFO:utils.ml:Fitted classifier: RandomForestClassifier3; Done in 8.182994604110718 seconds\n",
      "INFO:utils.ml:Fitting classifier: RandomForestClassifier4\n",
      "INFO:utils.ml:Top 10 features for RandomForestClassifier4: [('color_moments_lab_B_std', 0.03864856678402285), ('color_moments_rgb_B_std', 0.03165553862466041), ('color_moments_rgb_B_var', 0.030440199867198092), ('color_moments_lab_B_var', 0.029157115256040953), ('color_moments_rgb_R_iqr', 0.019879095807457323), ('color_moments_lab_L_iqr', 0.017194724738135297), ('color_moments_rgb_R_skew', 0.013939751067419136), ('color_moments_rgb_B_iqr', 0.013377049412323446), ('color_moments_rgb_G_var', 0.01275935311089217), ('color_moments_lab_L_var', 0.012017628970991082)]\n",
      "INFO:utils.ml:Fitted classifier: RandomForestClassifier4; Done in 8.760147333145142 seconds\n",
      "INFO:utils.ml:Fitting classifier: RandomForestClassifier5\n",
      "INFO:utils.ml:Top 10 features for RandomForestClassifier5: [('color_moments_lab_B_std', 0.04058972256330155), ('color_moments_rgb_B_std', 0.03315478193735647), ('color_moments_rgb_B_var', 0.030130501357149668), ('color_moments_lab_B_var', 0.030122487836008502), ('color_moments_rgb_R_iqr', 0.019123814866771623), ('color_moments_lab_L_iqr', 0.017229572698052892), ('color_moments_rgb_R_skew', 0.014033065331131243), ('color_moments_rgb_B_iqr', 0.011799026246582764), ('color_moments_rgb_G_var', 0.011766747076532566), ('color_moments_lab_L_std', 0.011582816617024951)]\n",
      "INFO:utils.ml:Fitted classifier: RandomForestClassifier5; Done in 13.564168453216553 seconds\n",
      "INFO:utils.ml:Fitting classifier: RandomForestClassifier6\n",
      "INFO:utils.ml:Top 10 features for RandomForestClassifier6: [('color_moments_lab_B_std', 0.037959762352244235), ('color_moments_rgb_B_std', 0.029537058899230976), ('color_moments_lab_B_var', 0.02906639108723033), ('color_moments_rgb_B_var', 0.028588036881078444), ('color_moments_rgb_R_iqr', 0.02404139222917448), ('color_moments_lab_L_iqr', 0.017195736706233332), ('color_moments_rgb_B_iqr', 0.014839817459412747), ('color_moments_rgb_B_kurtosis', 0.013513604454133772), ('color_moments_rgb_R_skew', 0.012832180747810371), ('color_moments_rgb_R_kurtosis', 0.012368890554369466)]\n",
      "INFO:utils.ml:Fitted classifier: RandomForestClassifier6; Done in 10.943584680557251 seconds\n",
      "INFO:utils.ml:Fitting classifier: RandomForestClassifier7\n",
      "INFO:utils.ml:Top 10 features for RandomForestClassifier7: [('color_moments_lab_B_std', 0.03892710825471864), ('color_moments_rgb_B_std', 0.030323729209538044), ('color_moments_rgb_B_var', 0.029399182960264045), ('color_moments_lab_B_var', 0.028384461930496766), ('color_moments_rgb_R_iqr', 0.02347965162686851), ('color_moments_lab_L_iqr', 0.01752261474535323), ('color_moments_rgb_B_kurtosis', 0.013539790670702849), ('color_moments_rgb_B_iqr', 0.013527815198078861), ('color_moments_rgb_R_skew', 0.013375711421442893), ('color_moments_rgb_R_kurtosis', 0.012225530350345187)]\n",
      "INFO:utils.ml:Fitted classifier: RandomForestClassifier7; Done in 14.800823211669922 seconds\n",
      "INFO:utils.ml:Fitting classifier: XGBClassifier8\n",
      "INFO:utils.ml:Top 10 features for XGBClassifier8: [('color_moments_rgb_R_iqr', 0.064304836), ('color_moments_rgb_B_std', 0.053295523), ('color_moments_hsv_H_min', 0.02409271), ('color_moments_lab_B_std', 0.022416767), ('lbp_rad1_bins8_8', 0.021084534), ('lbp_rad1_bins8_4', 0.015811933), ('lbp_rad2_bins16_8', 0.015248699), ('glcm_energy_dist_1_angle_0', 0.014145379), ('lbp_rad2_bins16_12', 0.012857054), ('lbp_rad3_bins24_24', 0.012515127)]\n",
      "INFO:utils.ml:Fitted classifier: XGBClassifier8; Done in 8.054393529891968 seconds\n",
      "INFO:utils.ml:Fitting classifier: XGBClassifier9\n",
      "INFO:utils.ml:Top 10 features for XGBClassifier9: [('color_moments_rgb_R_iqr', 0.06737354), ('color_moments_rgb_B_std', 0.054267254), ('color_moments_hsv_H_min', 0.025889415), ('color_moments_lab_B_std', 0.022229455), ('lbp_rad1_bins8_8', 0.022105027), ('lbp_rad1_bins8_4', 0.015126119), ('lbp_rad2_bins16_8', 0.014551608), ('glcm_energy_dist_1_angle_0', 0.01444193), ('lbp_rad2_bins16_12', 0.013616113), ('lbp_rad3_bins24_24', 0.012824327)]\n",
      "INFO:utils.ml:Fitted classifier: XGBClassifier9; Done in 9.45706033706665 seconds\n",
      "INFO:utils.ml:Fitting classifier: XGBClassifier10\n",
      "INFO:utils.ml:Top 10 features for XGBClassifier10: [('color_moments_rgb_R_iqr', 0.06855053), ('color_moments_rgb_B_std', 0.055164956), ('color_moments_hsv_H_min', 0.027439013), ('color_moments_lab_B_std', 0.022436451), ('lbp_rad1_bins8_8', 0.021348242), ('lbp_rad2_bins16_8', 0.01478592), ('lbp_rad1_bins8_4', 0.01459015), ('glcm_energy_dist_1_angle_0', 0.014351295), ('lbp_rad2_bins16_12', 0.0142253125), ('lbp_rad3_bins24_24', 0.012988616)]\n",
      "INFO:utils.ml:Fitted classifier: XGBClassifier10; Done in 10.724337816238403 seconds\n",
      "INFO:utils.ml:Fitting classifier: XGBClassifier11\n",
      "INFO:utils.ml:Top 10 features for XGBClassifier11: [('color_moments_rgb_R_iqr', 0.043613214), ('color_moments_rgb_B_var', 0.03581426), ('color_moments_rgb_B_std', 0.031167673), ('color_moments_lab_B_std', 0.023479706), ('color_moments_lab_B_var', 0.019974997), ('lbp_rad1_bins8_3', 0.01713164), ('lbp_rad1_bins8_4', 0.013283286), ('lbp_rad2_bins16_8', 0.012237635), ('color_moments_rgb_B_min', 0.011062241), ('fourier_transform_magnitude_mean', 0.010887257)]\n",
      "INFO:utils.ml:Fitted classifier: XGBClassifier11; Done in 4.880181074142456 seconds\n",
      "INFO:utils.ml:Fitting classifier: XGBClassifier12\n",
      "INFO:utils.ml:Top 10 features for XGBClassifier12: [('color_moments_rgb_B_std', 0.039461277), ('color_moments_rgb_R_iqr', 0.03412809), ('color_moments_rgb_B_var', 0.031929698), ('color_moments_lab_B_var', 0.023110725), ('color_moments_lab_B_std', 0.018313998), ('lbp_rad1_bins8_4', 0.012204277), ('lbp_rad2_bins16_8', 0.012137521), ('color_moments_rgb_R_std', 0.01206611), ('lbp_rad1_bins8_8', 0.009839453), ('lbp_rad3_bins24_11', 0.008226843)]\n",
      "INFO:utils.ml:Fitted classifier: XGBClassifier12; Done in 11.450597286224365 seconds\n",
      "INFO:utils.ml:Fitting classifier: XGBClassifier13\n",
      "INFO:utils.ml:Top 10 features for XGBClassifier13: [('color_moments_rgb_R_iqr', 0.048621796), ('color_moments_rgb_B_var', 0.038820803), ('color_moments_rgb_B_std', 0.034453996), ('color_moments_lab_B_var', 0.020491952), ('color_moments_lab_B_std', 0.01905256), ('lbp_rad1_bins8_3', 0.012697301), ('lbp_rad1_bins8_4', 0.011625164), ('color_moments_rgb_R_std', 0.01126002), ('lbp_rad2_bins16_8', 0.0109004015), ('glcm_energy_dist_1_angle_0', 0.010657194)]\n",
      "INFO:utils.ml:Fitted classifier: XGBClassifier13; Done in 7.3386194705963135 seconds\n",
      "INFO:utils.ml:Fitting classifier: XGBClassifier14\n",
      "INFO:utils.ml:Top 10 features for XGBClassifier14: [('color_moments_rgb_R_iqr', 0.056421068), ('color_moments_rgb_B_std', 0.037246797), ('color_moments_rgb_B_var', 0.035519138), ('color_moments_lab_B_std', 0.018364707), ('color_moments_lab_B_var', 0.017958118), ('lbp_rad1_bins8_4', 0.012686425), ('lbp_rad2_bins16_8', 0.0124080395), ('color_moments_rgb_R_std', 0.01171544), ('fourier_transform_magnitude_std', 0.010445034), ('lbp_rad1_bins8_3', 0.009874801)]\n",
      "INFO:utils.ml:Fitted classifier: XGBClassifier14; Done in 9.233518838882446 seconds\n",
      "INFO:utils.ml:Fitting classifier: XGBClassifier15\n",
      "INFO:utils.ml:Top 10 features for XGBClassifier15: [('color_moments_rgb_B_var', 0.041258972), ('color_moments_rgb_R_iqr', 0.040601775), ('color_moments_rgb_B_std', 0.035415076), ('color_moments_lab_B_std', 0.019207394), ('color_moments_lab_B_var', 0.017858712), ('lbp_rad2_bins16_8', 0.014081213), ('lbp_rad1_bins8_4', 0.012776338), ('color_moments_rgb_R_std', 0.011053669), ('fourier_transform_magnitude_std', 0.009660411), ('lbp_rad1_bins8_3', 0.00913092)]\n",
      "INFO:utils.ml:Fitted classifier: XGBClassifier15; Done in 20.18721580505371 seconds\n",
      "INFO:utils.ml:Fitting classifier: XGBClassifier16\n",
      "INFO:utils.ml:Top 10 features for XGBClassifier16: [('color_moments_rgb_B_var', 0.039720643), ('color_moments_rgb_R_iqr', 0.03968843), ('color_moments_rgb_B_std', 0.034295507), ('color_moments_lab_B_std', 0.018843567), ('color_moments_lab_B_var', 0.018412696), ('lbp_rad2_bins16_8', 0.01429128), ('lbp_rad1_bins8_4', 0.012646594), ('color_moments_rgb_R_std', 0.010709252), ('fourier_transform_magnitude_std', 0.009717305), ('lbp_rad1_bins8_3', 0.00931411)]\n",
      "INFO:utils.ml:Fitted classifier: XGBClassifier16; Done in 17.908990144729614 seconds\n",
      "INFO:utils.ml:Fitting classifier: XGBClassifier17\n",
      "INFO:utils.ml:Top 10 features for XGBClassifier17: [('color_moments_rgb_R_iqr', 0.04551154), ('color_moments_rgb_B_var', 0.038692206), ('color_moments_rgb_B_std', 0.038546514), ('color_moments_lab_B_var', 0.019458055), ('color_moments_lab_B_std', 0.01886849), ('lbp_rad1_bins8_4', 0.013294008), ('color_moments_rgb_R_std', 0.012398021), ('lbp_rad2_bins16_8', 0.011027017), ('lbp_rad1_bins8_3', 0.01084685), ('lbp_rad3_bins24_11', 0.009748177)]\n",
      "INFO:utils.ml:Fitted classifier: XGBClassifier17; Done in 14.665234804153442 seconds\n",
      "INFO:utils.ml:Fitting classifier: XGBClassifier18\n",
      "INFO:utils.ml:Top 10 features for XGBClassifier18: [('color_moments_rgb_R_iqr', 0.046144925), ('color_moments_rgb_B_std', 0.039038844), ('color_moments_rgb_B_var', 0.037757866), ('color_moments_lab_B_var', 0.0192256), ('color_moments_lab_B_std', 0.019143617), ('lbp_rad1_bins8_4', 0.013532812), ('color_moments_rgb_R_std', 0.012829885), ('lbp_rad2_bins16_8', 0.010996092), ('lbp_rad1_bins8_3', 0.01089821), ('color_moments_hsv_H_min', 0.01039065)]\n",
      "INFO:utils.ml:Fitted classifier: XGBClassifier18; Done in 15.722472667694092 seconds\n",
      "INFO:utils.ml:Fitting completed in 206.73 seconds.\n"
     ]
    }
   ],
   "execution_count": 5
  },
  {
   "metadata": {
    "ExecuteTime": {
     "end_time": "2024-11-03T12:26:41.712535Z",
     "start_time": "2024-11-03T12:24:47.751573Z"
    }
   },
   "cell_type": "code",
   "source": "pipeline.predict_with_classifiers(VAL_PATH, percent)",
   "id": "f71e18a07f5ee7bb",
   "outputs": [
    {
     "name": "stderr",
     "output_type": "stream",
     "text": [
      "INFO:utils.ml:Predicting with classifiers on dataset: C:\\Users\\gimes\\Src\\repos\\CADx-Project\\dataset\\multiclass\\val\n"
     ]
    },
    {
     "name": "stdout",
     "output_type": "stream",
     "text": [
      "Processed 5/53 batches.\n",
      "Processed 10/53 batches.\n",
      "Processed 15/53 batches.\n",
      "Processed 20/53 batches.\n",
      "Processed 25/53 batches.\n",
      "Processed 30/53 batches.\n",
      "Processed 35/53 batches.\n",
      "Processed 40/53 batches.\n",
      "Processed 45/53 batches.\n",
      "Processed 50/53 batches.\n"
     ]
    },
    {
     "name": "stderr",
     "output_type": "stream",
     "text": [
      "INFO:utils.ml:Predictions made with classifier: RandomForestClassifier0\n",
      "INFO:utils.ml:Predictions made with classifier: RandomForestClassifier1\n",
      "INFO:utils.ml:Predictions made with classifier: RandomForestClassifier2\n",
      "INFO:utils.ml:Predictions made with classifier: RandomForestClassifier3\n",
      "INFO:utils.ml:Predictions made with classifier: RandomForestClassifier4\n",
      "INFO:utils.ml:Predictions made with classifier: RandomForestClassifier5\n",
      "INFO:utils.ml:Predictions made with classifier: RandomForestClassifier6\n",
      "INFO:utils.ml:Predictions made with classifier: RandomForestClassifier7\n"
     ]
    },
    {
     "name": "stdout",
     "output_type": "stream",
     "text": [
      "Processed 53/53 batches.\n"
     ]
    },
    {
     "name": "stderr",
     "output_type": "stream",
     "text": [
      "INFO:utils.ml:Predictions made with classifier: XGBClassifier8\n",
      "INFO:utils.ml:Predictions made with classifier: XGBClassifier9\n",
      "INFO:utils.ml:Predictions made with classifier: XGBClassifier10\n",
      "INFO:utils.ml:Predictions made with classifier: XGBClassifier11\n",
      "INFO:utils.ml:Predictions made with classifier: XGBClassifier12\n",
      "INFO:utils.ml:Predictions made with classifier: XGBClassifier13\n",
      "INFO:utils.ml:Predictions made with classifier: XGBClassifier14\n",
      "INFO:utils.ml:Predictions made with classifier: XGBClassifier15\n",
      "INFO:utils.ml:Predictions made with classifier: XGBClassifier16\n",
      "INFO:utils.ml:Predictions made with classifier: XGBClassifier17\n",
      "INFO:utils.ml:Predictions made with classifier: XGBClassifier18\n"
     ]
    },
    {
     "data": {
      "text/plain": [
       "{'GT': array([0, 0, 0, ..., 2, 2, 2]),\n",
       " 'RandomForestClassifier0': array([0, 0, 1, ..., 1, 0, 0]),\n",
       " 'RandomForestClassifier1': array([0, 0, 0, ..., 1, 0, 0]),\n",
       " 'RandomForestClassifier2': array([0, 0, 0, ..., 1, 0, 0]),\n",
       " 'RandomForestClassifier3': array([0, 0, 0, ..., 1, 0, 0]),\n",
       " 'RandomForestClassifier4': array([0, 0, 0, ..., 1, 0, 0]),\n",
       " 'RandomForestClassifier5': array([0, 0, 0, ..., 1, 0, 0]),\n",
       " 'RandomForestClassifier6': array([0, 0, 0, ..., 1, 0, 0]),\n",
       " 'RandomForestClassifier7': array([0, 0, 0, ..., 1, 0, 0]),\n",
       " 'XGBClassifier8': array([0, 0, 0, ..., 1, 0, 0], dtype=int64),\n",
       " 'XGBClassifier9': array([0, 0, 0, ..., 1, 0, 0], dtype=int64),\n",
       " 'XGBClassifier10': array([0, 0, 0, ..., 1, 0, 0], dtype=int64),\n",
       " 'XGBClassifier11': array([0, 0, 0, ..., 0, 0, 0], dtype=int64),\n",
       " 'XGBClassifier12': array([0, 0, 0, ..., 1, 0, 0], dtype=int64),\n",
       " 'XGBClassifier13': array([0, 0, 0, ..., 1, 0, 0], dtype=int64),\n",
       " 'XGBClassifier14': array([0, 0, 0, ..., 1, 0, 0], dtype=int64),\n",
       " 'XGBClassifier15': array([0, 0, 0, ..., 1, 0, 0], dtype=int64),\n",
       " 'XGBClassifier16': array([0, 0, 0, ..., 1, 0, 0], dtype=int64),\n",
       " 'XGBClassifier17': array([0, 0, 0, ..., 1, 0, 0], dtype=int64),\n",
       " 'XGBClassifier18': array([0, 0, 0, ..., 1, 0, 0], dtype=int64)}"
      ]
     },
     "execution_count": 6,
     "metadata": {},
     "output_type": "execute_result"
    }
   ],
   "execution_count": 6
  },
  {
   "metadata": {
    "ExecuteTime": {
     "end_time": "2024-11-03T12:26:41.845516Z",
     "start_time": "2024-11-03T12:26:41.726703Z"
    }
   },
   "cell_type": "code",
   "source": [
    "import pandas as pd\n",
    "\n",
    "df = pd.DataFrame(data=pipeline.calculate_metrics())\n",
    "df = df.T"
   ],
   "id": "751fad2660242db5",
   "outputs": [
    {
     "name": "stderr",
     "output_type": "stream",
     "text": [
      "INFO:utils.ml:Metrics for classifier GT: {'accuracy': 1.0, 'precision': 1.0, 'recall': 1.0, 'f1': 1.0, 'kappa': 1.0}\n",
      "INFO:utils.ml:Metrics for classifier RandomForestClassifier0: {'accuracy': 0.8188976377952756, 'precision': 0.8337459918009498, 'recall': 0.6092785124052351, 'f1': 0.607812105455065, 'kappa': 0.6598552317782084}\n",
      "INFO:utils.ml:Metrics for classifier RandomForestClassifier1: {'accuracy': 0.8220472440944881, 'precision': 0.83016610936368, 'recall': 0.6087237294120939, 'f1': 0.604382269805928, 'kappa': 0.6654029806203718}\n",
      "INFO:utils.ml:Metrics for classifier RandomForestClassifier2: {'accuracy': 0.8228346456692913, 'precision': 0.8305697936552211, 'recall': 0.6090376695383807, 'f1': 0.6047670938416777, 'kappa': 0.6668135835117324}\n",
      "INFO:utils.ml:Metrics for classifier RandomForestClassifier3: {'accuracy': 0.831496062992126, 'precision': 0.8831314272856975, 'recall': 0.6367154427034694, 'f1': 0.6500519182283584, 'kappa': 0.6844581289939069}\n",
      "INFO:utils.ml:Metrics for classifier RandomForestClassifier4: {'accuracy': 0.8204724409448819, 'precision': 0.8211577896497761, 'recall': 0.6045082860784757, 'f1': 0.5971892003098734, 'kappa': 0.662353775257001}\n",
      "INFO:utils.ml:Metrics for classifier RandomForestClassifier5: {'accuracy': 0.8275590551181102, 'precision': 0.8553636609436257, 'recall': 0.6310250731161638, 'f1': 0.6416078848049193, 'kappa': 0.6772879798387659}\n",
      "INFO:utils.ml:Metrics for classifier RandomForestClassifier6: {'accuracy': 0.8220472440944881, 'precision': 0.8773446584761616, 'recall': 0.6089014313703695, 'f1': 0.6045384959762395, 'kappa': 0.6654560204395625}\n",
      "INFO:utils.ml:Metrics for classifier RandomForestClassifier7: {'accuracy': 0.8330708661417323, 'precision': 0.8590058483675506, 'recall': 0.6346442696663765, 'f1': 0.6453672196994389, 'kappa': 0.6872764102992966}\n",
      "INFO:utils.ml:Metrics for classifier XGBClassifier8: {'accuracy': 0.8551181102362204, 'precision': 0.81445224162086, 'recall': 0.6890067015063327, 'f1': 0.7145288405908347, 'kappa': 0.7311167262701996}\n",
      "INFO:utils.ml:Metrics for classifier XGBClassifier9: {'accuracy': 0.8543307086614174, 'precision': 0.8112748445993289, 'recall': 0.6854606022155526, 'f1': 0.7100314441548076, 'kappa': 0.7295296728799823}\n",
      "INFO:utils.ml:Metrics for classifier XGBClassifier10: {'accuracy': 0.8559055118110236, 'precision': 0.8084926769292897, 'recall': 0.6896760455491707, 'f1': 0.7143798282483987, 'kappa': 0.7327576294183934}\n",
      "INFO:utils.ml:Metrics for classifier XGBClassifier11: {'accuracy': 0.8228346456692913, 'precision': 0.7573935253623505, 'recall': 0.6259427971094823, 'f1': 0.6352235784924481, 'kappa': 0.6682710391039661}\n",
      "INFO:utils.ml:Metrics for classifier XGBClassifier12: {'accuracy': 0.8535433070866142, 'precision': 0.8521603186748302, 'recall': 0.6659314090605818, 'f1': 0.6880711500549483, 'kappa': 0.7253396337861784}\n",
      "INFO:utils.ml:Metrics for classifier XGBClassifier13: {'accuracy': 0.8519685039370078, 'precision': 0.8533585970902896, 'recall': 0.6672917742645722, 'f1': 0.6913836087413152, 'kappa': 0.7222261002294229}\n",
      "INFO:utils.ml:Metrics for classifier XGBClassifier14: {'accuracy': 0.8582677165354331, 'precision': 0.8309730560230614, 'recall': 0.6695920694010588, 'f1': 0.6899092906807468, 'kappa': 0.7348925885894801}\n",
      "INFO:utils.ml:Metrics for classifier XGBClassifier15: {'accuracy': 0.8535433070866142, 'precision': 0.865419621380692, 'recall': 0.6668199188519597, 'f1': 0.6887290412691746, 'kappa': 0.7260137329498004}\n",
      "INFO:utils.ml:Metrics for classifier XGBClassifier16: {'accuracy': 0.8503937007874016, 'precision': 0.8615473907177488, 'recall': 0.6616211913492166, 'f1': 0.6818357078675247, 'kappa': 0.7200488203300477}\n",
      "INFO:utils.ml:Metrics for classifier XGBClassifier17: {'accuracy': 0.8614173228346457, 'precision': 0.8470712071491024, 'recall': 0.6756793066951796, 'f1': 0.697559867768408, 'kappa': 0.7412160253411939}\n",
      "INFO:utils.ml:Metrics for classifier XGBClassifier18: {'accuracy': 0.8606299212598425, 'precision': 0.848901098901099, 'recall': 0.6780644198585594, 'f1': 0.701444118302846, 'kappa': 0.7398673356971588}\n"
     ]
    },
    {
     "data": {
      "text/plain": [
       "                         accuracy  precision    recall        f1     kappa\n",
       "GT                       1.000000   1.000000  1.000000  1.000000  1.000000\n",
       "RandomForestClassifier0  0.818898   0.833746  0.609279  0.607812  0.659855\n",
       "RandomForestClassifier1  0.822047   0.830166  0.608724  0.604382  0.665403\n",
       "RandomForestClassifier2  0.822835   0.830570  0.609038  0.604767  0.666814\n",
       "RandomForestClassifier3  0.831496   0.883131  0.636715  0.650052  0.684458\n",
       "RandomForestClassifier4  0.820472   0.821158  0.604508  0.597189  0.662354\n",
       "RandomForestClassifier5  0.827559   0.855364  0.631025  0.641608  0.677288\n",
       "RandomForestClassifier6  0.822047   0.877345  0.608901  0.604538  0.665456\n",
       "RandomForestClassifier7  0.833071   0.859006  0.634644  0.645367  0.687276\n",
       "XGBClassifier8           0.855118   0.814452  0.689007  0.714529  0.731117\n",
       "XGBClassifier9           0.854331   0.811275  0.685461  0.710031  0.729530\n",
       "XGBClassifier10          0.855906   0.808493  0.689676  0.714380  0.732758\n",
       "XGBClassifier11          0.822835   0.757394  0.625943  0.635224  0.668271\n",
       "XGBClassifier12          0.853543   0.852160  0.665931  0.688071  0.725340\n",
       "XGBClassifier13          0.851969   0.853359  0.667292  0.691384  0.722226\n",
       "XGBClassifier14          0.858268   0.830973  0.669592  0.689909  0.734893\n",
       "XGBClassifier15          0.853543   0.865420  0.666820  0.688729  0.726014\n",
       "XGBClassifier16          0.850394   0.861547  0.661621  0.681836  0.720049\n",
       "XGBClassifier17          0.861417   0.847071  0.675679  0.697560  0.741216\n",
       "XGBClassifier18          0.860630   0.848901  0.678064  0.701444  0.739867"
      ],
      "text/html": [
       "<div>\n",
       "<style scoped>\n",
       "    .dataframe tbody tr th:only-of-type {\n",
       "        vertical-align: middle;\n",
       "    }\n",
       "\n",
       "    .dataframe tbody tr th {\n",
       "        vertical-align: top;\n",
       "    }\n",
       "\n",
       "    .dataframe thead th {\n",
       "        text-align: right;\n",
       "    }\n",
       "</style>\n",
       "<table border=\"1\" class=\"dataframe\">\n",
       "  <thead>\n",
       "    <tr style=\"text-align: right;\">\n",
       "      <th></th>\n",
       "      <th>accuracy</th>\n",
       "      <th>precision</th>\n",
       "      <th>recall</th>\n",
       "      <th>f1</th>\n",
       "      <th>kappa</th>\n",
       "    </tr>\n",
       "  </thead>\n",
       "  <tbody>\n",
       "    <tr>\n",
       "      <th>GT</th>\n",
       "      <td>1.000000</td>\n",
       "      <td>1.000000</td>\n",
       "      <td>1.000000</td>\n",
       "      <td>1.000000</td>\n",
       "      <td>1.000000</td>\n",
       "    </tr>\n",
       "    <tr>\n",
       "      <th>RandomForestClassifier0</th>\n",
       "      <td>0.818898</td>\n",
       "      <td>0.833746</td>\n",
       "      <td>0.609279</td>\n",
       "      <td>0.607812</td>\n",
       "      <td>0.659855</td>\n",
       "    </tr>\n",
       "    <tr>\n",
       "      <th>RandomForestClassifier1</th>\n",
       "      <td>0.822047</td>\n",
       "      <td>0.830166</td>\n",
       "      <td>0.608724</td>\n",
       "      <td>0.604382</td>\n",
       "      <td>0.665403</td>\n",
       "    </tr>\n",
       "    <tr>\n",
       "      <th>RandomForestClassifier2</th>\n",
       "      <td>0.822835</td>\n",
       "      <td>0.830570</td>\n",
       "      <td>0.609038</td>\n",
       "      <td>0.604767</td>\n",
       "      <td>0.666814</td>\n",
       "    </tr>\n",
       "    <tr>\n",
       "      <th>RandomForestClassifier3</th>\n",
       "      <td>0.831496</td>\n",
       "      <td>0.883131</td>\n",
       "      <td>0.636715</td>\n",
       "      <td>0.650052</td>\n",
       "      <td>0.684458</td>\n",
       "    </tr>\n",
       "    <tr>\n",
       "      <th>RandomForestClassifier4</th>\n",
       "      <td>0.820472</td>\n",
       "      <td>0.821158</td>\n",
       "      <td>0.604508</td>\n",
       "      <td>0.597189</td>\n",
       "      <td>0.662354</td>\n",
       "    </tr>\n",
       "    <tr>\n",
       "      <th>RandomForestClassifier5</th>\n",
       "      <td>0.827559</td>\n",
       "      <td>0.855364</td>\n",
       "      <td>0.631025</td>\n",
       "      <td>0.641608</td>\n",
       "      <td>0.677288</td>\n",
       "    </tr>\n",
       "    <tr>\n",
       "      <th>RandomForestClassifier6</th>\n",
       "      <td>0.822047</td>\n",
       "      <td>0.877345</td>\n",
       "      <td>0.608901</td>\n",
       "      <td>0.604538</td>\n",
       "      <td>0.665456</td>\n",
       "    </tr>\n",
       "    <tr>\n",
       "      <th>RandomForestClassifier7</th>\n",
       "      <td>0.833071</td>\n",
       "      <td>0.859006</td>\n",
       "      <td>0.634644</td>\n",
       "      <td>0.645367</td>\n",
       "      <td>0.687276</td>\n",
       "    </tr>\n",
       "    <tr>\n",
       "      <th>XGBClassifier8</th>\n",
       "      <td>0.855118</td>\n",
       "      <td>0.814452</td>\n",
       "      <td>0.689007</td>\n",
       "      <td>0.714529</td>\n",
       "      <td>0.731117</td>\n",
       "    </tr>\n",
       "    <tr>\n",
       "      <th>XGBClassifier9</th>\n",
       "      <td>0.854331</td>\n",
       "      <td>0.811275</td>\n",
       "      <td>0.685461</td>\n",
       "      <td>0.710031</td>\n",
       "      <td>0.729530</td>\n",
       "    </tr>\n",
       "    <tr>\n",
       "      <th>XGBClassifier10</th>\n",
       "      <td>0.855906</td>\n",
       "      <td>0.808493</td>\n",
       "      <td>0.689676</td>\n",
       "      <td>0.714380</td>\n",
       "      <td>0.732758</td>\n",
       "    </tr>\n",
       "    <tr>\n",
       "      <th>XGBClassifier11</th>\n",
       "      <td>0.822835</td>\n",
       "      <td>0.757394</td>\n",
       "      <td>0.625943</td>\n",
       "      <td>0.635224</td>\n",
       "      <td>0.668271</td>\n",
       "    </tr>\n",
       "    <tr>\n",
       "      <th>XGBClassifier12</th>\n",
       "      <td>0.853543</td>\n",
       "      <td>0.852160</td>\n",
       "      <td>0.665931</td>\n",
       "      <td>0.688071</td>\n",
       "      <td>0.725340</td>\n",
       "    </tr>\n",
       "    <tr>\n",
       "      <th>XGBClassifier13</th>\n",
       "      <td>0.851969</td>\n",
       "      <td>0.853359</td>\n",
       "      <td>0.667292</td>\n",
       "      <td>0.691384</td>\n",
       "      <td>0.722226</td>\n",
       "    </tr>\n",
       "    <tr>\n",
       "      <th>XGBClassifier14</th>\n",
       "      <td>0.858268</td>\n",
       "      <td>0.830973</td>\n",
       "      <td>0.669592</td>\n",
       "      <td>0.689909</td>\n",
       "      <td>0.734893</td>\n",
       "    </tr>\n",
       "    <tr>\n",
       "      <th>XGBClassifier15</th>\n",
       "      <td>0.853543</td>\n",
       "      <td>0.865420</td>\n",
       "      <td>0.666820</td>\n",
       "      <td>0.688729</td>\n",
       "      <td>0.726014</td>\n",
       "    </tr>\n",
       "    <tr>\n",
       "      <th>XGBClassifier16</th>\n",
       "      <td>0.850394</td>\n",
       "      <td>0.861547</td>\n",
       "      <td>0.661621</td>\n",
       "      <td>0.681836</td>\n",
       "      <td>0.720049</td>\n",
       "    </tr>\n",
       "    <tr>\n",
       "      <th>XGBClassifier17</th>\n",
       "      <td>0.861417</td>\n",
       "      <td>0.847071</td>\n",
       "      <td>0.675679</td>\n",
       "      <td>0.697560</td>\n",
       "      <td>0.741216</td>\n",
       "    </tr>\n",
       "    <tr>\n",
       "      <th>XGBClassifier18</th>\n",
       "      <td>0.860630</td>\n",
       "      <td>0.848901</td>\n",
       "      <td>0.678064</td>\n",
       "      <td>0.701444</td>\n",
       "      <td>0.739867</td>\n",
       "    </tr>\n",
       "  </tbody>\n",
       "</table>\n",
       "</div>"
      ]
     },
     "execution_count": 7,
     "metadata": {},
     "output_type": "execute_result"
    }
   ],
   "execution_count": 7
  },
  {
   "metadata": {},
   "cell_type": "code",
   "outputs": [],
   "execution_count": null,
   "source": [
    "highest = df[df[\"kappa\"] == df.iloc[1:][\"kappa\"].max()]\n",
    "idx = highest.index[0]\n",
    "\n",
    "confusion_matrix(pipeline.predictions[\"GT\"], pipeline.predictions[idx])"
   ],
   "id": "f49d8c605c28e6e6"
  },
  {
   "metadata": {},
   "cell_type": "markdown",
   "source": [
    "___\n",
    "# Balance the data"
   ],
   "id": "ad0e6dcd404dcf15"
  },
  {
   "metadata": {
    "ExecuteTime": {
     "end_time": "2024-11-03T12:26:41.929942Z",
     "start_time": "2024-11-03T12:26:41.922926Z"
    }
   },
   "cell_type": "code",
   "source": [
    "# Backup\n",
    "pipeline.backup_feature_matrix = pipeline.feature_matrix.copy()\n",
    "pipeline.backup_labels = pipeline.labels.copy()"
   ],
   "id": "da1b19771d4cde2f",
   "outputs": [],
   "execution_count": 8
  },
  {
   "metadata": {
    "ExecuteTime": {
     "end_time": "2024-11-03T12:26:41.995769Z",
     "start_time": "2024-11-03T12:26:41.988763Z"
    }
   },
   "cell_type": "code",
   "source": [
    "print(pipeline.backup_feature_matrix.shape)\n",
    "print(pipeline.feature_matrix.shape)\n",
    "\n",
    "print(pipeline.backup_labels.shape)\n",
    "print(pipeline.labels.shape)"
   ],
   "id": "3425dcf3bd509008",
   "outputs": [
    {
     "name": "stdout",
     "output_type": "stream",
     "text": [
      "(5082, 189)\n",
      "(5082, 189)\n",
      "(5082,)\n",
      "(5082,)\n"
     ]
    }
   ],
   "execution_count": 9
  },
  {
   "metadata": {
    "ExecuteTime": {
     "end_time": "2024-11-03T12:26:42.492899Z",
     "start_time": "2024-11-03T12:26:42.070542Z"
    }
   },
   "cell_type": "code",
   "source": [
    "from imblearn.over_sampling import SMOTE\n",
    "\n",
    "smote = SMOTE(random_state=42)\n",
    "\n",
    "\n",
    "pipeline.feature_matrix, pipeline.labels = smote.fit_resample(np.nan_to_num(pipeline.feature_matrix), pipeline.labels)"
   ],
   "id": "6f226a41aafa84b7",
   "outputs": [],
   "execution_count": 11
  },
  {
   "metadata": {
    "ExecuteTime": {
     "end_time": "2024-11-03T12:31:32.719098Z",
     "start_time": "2024-11-03T12:26:42.512222Z"
    }
   },
   "cell_type": "code",
   "source": [
    "pipeline.fitted_classifiers = {}\n",
    "pipeline.fit_classifiers()"
   ],
   "id": "e25b1eeaa9b9b112",
   "outputs": [
    {
     "name": "stderr",
     "output_type": "stream",
     "text": [
      "INFO:utils.ml:Fitting classifiers...\n",
      "INFO:utils.ml:Fitting classifier: RandomForestClassifier0\n",
      "INFO:utils.ml:Top 10 features for RandomForestClassifier0: [('color_moments_lab_B_var', 0.02075437021445796), ('color_moments_rgb_B_var', 0.02005565355631588), ('color_moments_rgb_B_std', 0.018573078724268284), ('color_moments_rgb_R_iqr', 0.01829569504328892), ('color_moments_rgb_B_iqr', 0.017999794243148178), ('color_moments_lab_B_std', 0.01716009184570479), ('color_moments_rgb_R_kurtosis', 0.014854781267992936), ('color_moments_lab_L_iqr', 0.014226704808568646), ('color_moments_rgb_G_iqr', 0.013027557045981644), ('color_moments_lab_L_std', 0.012035818587425876)]\n",
      "INFO:utils.ml:Fitted classifier: RandomForestClassifier0; Done in 8.683569431304932 seconds\n",
      "INFO:utils.ml:Fitting classifier: RandomForestClassifier1\n",
      "INFO:utils.ml:Top 10 features for RandomForestClassifier1: [('color_moments_rgb_B_std', 0.029689329486616844), ('color_moments_rgb_B_var', 0.02407280376496609), ('color_moments_lab_B_var', 0.01995750986371175), ('color_moments_lab_L_iqr', 0.01828117537987317), ('color_moments_lab_B_std', 0.016744789992711513), ('color_moments_rgb_R_iqr', 0.014834827932403956), ('color_moments_rgb_B_iqr', 0.013871387474614728), ('color_moments_rgb_G_std', 0.0132384530316931), ('color_moments_rgb_B_kurtosis', 0.012373602201482009), ('color_moments_rgb_G_iqr', 0.011458775468297601)]\n",
      "INFO:utils.ml:Fitted classifier: RandomForestClassifier1; Done in 16.270389318466187 seconds\n",
      "INFO:utils.ml:Fitting classifier: RandomForestClassifier2\n",
      "INFO:utils.ml:Top 10 features for RandomForestClassifier2: [('color_moments_rgb_B_std', 0.027741922891279875), ('color_moments_rgb_B_var', 0.02425597168274019), ('color_moments_lab_B_std', 0.022299591741211412), ('color_moments_lab_B_var', 0.01877714895434811), ('color_moments_rgb_R_iqr', 0.015877544107688015), ('color_moments_lab_L_iqr', 0.014649872984298418), ('color_moments_rgb_B_iqr', 0.013621116744996204), ('color_moments_lab_L_std', 0.013410682291614389), ('fourier_transform_magnitude_std', 0.012021079568123715), ('color_moments_rgb_G_std', 0.011757608547084051)]\n",
      "INFO:utils.ml:Fitted classifier: RandomForestClassifier2; Done in 11.279313087463379 seconds\n",
      "INFO:utils.ml:Fitting classifier: RandomForestClassifier3\n",
      "INFO:utils.ml:Top 10 features for RandomForestClassifier3: [('color_moments_rgb_B_std', 0.029294058156446912), ('color_moments_rgb_B_var', 0.023097307678092725), ('color_moments_lab_B_std', 0.021835155772643125), ('color_moments_lab_B_var', 0.01749826970849709), ('color_moments_rgb_R_iqr', 0.015160953780962492), ('color_moments_lab_L_iqr', 0.014904700656619174), ('color_moments_rgb_B_iqr', 0.0138735771822816), ('color_moments_lab_L_std', 0.013611054604250135), ('fourier_transform_magnitude_std', 0.013237089277725576), ('color_moments_rgb_G_std', 0.012303268986836426)]\n",
      "INFO:utils.ml:Fitted classifier: RandomForestClassifier3; Done in 16.46712017059326 seconds\n",
      "INFO:utils.ml:Fitting classifier: RandomForestClassifier4\n",
      "INFO:utils.ml:Top 10 features for RandomForestClassifier4: [('color_moments_rgb_B_std', 0.025582444261749604), ('color_moments_rgb_B_var', 0.025564189482148916), ('color_moments_lab_B_std', 0.02297232884020495), ('color_moments_lab_B_var', 0.017124853120121124), ('color_moments_lab_L_iqr', 0.016556234348962712), ('color_moments_rgb_R_iqr', 0.015543906014096654), ('color_moments_rgb_B_iqr', 0.013365839597665042), ('color_moments_rgb_G_var', 0.012643613396169526), ('color_moments_lab_L_std', 0.012490463716088852), ('fourier_transform_magnitude_std', 0.012475558557198639)]\n",
      "INFO:utils.ml:Fitted classifier: RandomForestClassifier4; Done in 16.46317458152771 seconds\n",
      "INFO:utils.ml:Fitting classifier: RandomForestClassifier5\n",
      "INFO:utils.ml:Top 10 features for RandomForestClassifier5: [('color_moments_rgb_B_std', 0.028217122361070407), ('color_moments_rgb_B_var', 0.02360635154942361), ('color_moments_lab_B_std', 0.021266977200575455), ('color_moments_lab_L_iqr', 0.01670194387310454), ('color_moments_lab_B_var', 0.01665139672922621), ('color_moments_rgb_R_iqr', 0.01592519725705101), ('fourier_transform_magnitude_std', 0.012739955671329333), ('color_moments_rgb_B_iqr', 0.012604895700943348), ('color_moments_lab_L_std', 0.012188085396651623), ('color_moments_rgb_G_std', 0.012160732720431828)]\n",
      "INFO:utils.ml:Fitted classifier: RandomForestClassifier5; Done in 24.106148719787598 seconds\n",
      "INFO:utils.ml:Fitting classifier: RandomForestClassifier6\n",
      "INFO:utils.ml:Top 10 features for RandomForestClassifier6: [('color_moments_rgb_B_std', 0.02436513534087476), ('color_moments_rgb_B_var', 0.02365533892439518), ('color_moments_lab_B_std', 0.02293815815343647), ('color_moments_rgb_R_iqr', 0.019158612530917874), ('color_moments_lab_B_var', 0.017203482835085403), ('color_moments_lab_L_iqr', 0.01651046089014406), ('color_moments_rgb_B_iqr', 0.01449403486937392), ('color_moments_rgb_R_kurtosis', 0.013128830678084522), ('color_moments_rgb_G_var', 0.012177629300652264), ('fourier_transform_magnitude_std', 0.011554856416506805)]\n",
      "INFO:utils.ml:Fitted classifier: RandomForestClassifier6; Done in 20.163205862045288 seconds\n",
      "INFO:utils.ml:Fitting classifier: RandomForestClassifier7\n",
      "INFO:utils.ml:Top 10 features for RandomForestClassifier7: [('color_moments_rgb_B_std', 0.027111991059638622), ('color_moments_rgb_B_var', 0.022813644996433263), ('color_moments_lab_B_std', 0.02069831578601964), ('color_moments_rgb_R_iqr', 0.01922088230532216), ('color_moments_lab_B_var', 0.016130528283050234), ('color_moments_lab_L_iqr', 0.01608210406422659), ('color_moments_rgb_B_iqr', 0.013777861336492432), ('fourier_transform_magnitude_std', 0.012330934549427141), ('color_moments_rgb_G_var', 0.012180318874122107), ('color_moments_lab_L_var', 0.01192190513673565)]\n",
      "INFO:utils.ml:Fitted classifier: RandomForestClassifier7; Done in 27.139055013656616 seconds\n",
      "INFO:utils.ml:Fitting classifier: XGBClassifier8\n",
      "INFO:utils.ml:Top 10 features for XGBClassifier8: [('color_moments_rgb_B_std', 0.070859246), ('color_moments_rgb_R_iqr', 0.03582867), ('lbp_rad4_bins32_32', 0.018007018), ('glcm_energy_dist_1_angle_0', 0.016146932), ('lbp_rad1_bins8_3', 0.015128205), ('color_moments_lab_L_var', 0.014314658), ('gradient_magnitude_mean', 0.014008913), ('color_moments_hsv_H_min', 0.013684667), ('lbp_rad2_bins16_8', 0.01366381), ('fourier_transform_magnitude_std', 0.013408533)]\n",
      "INFO:utils.ml:Fitted classifier: XGBClassifier8; Done in 10.106118440628052 seconds\n",
      "INFO:utils.ml:Fitting classifier: XGBClassifier9\n",
      "INFO:utils.ml:Top 10 features for XGBClassifier9: [('color_moments_rgb_B_std', 0.07233125), ('color_moments_rgb_R_iqr', 0.034961972), ('lbp_rad4_bins32_32', 0.018518463), ('glcm_energy_dist_1_angle_0', 0.016375434), ('lbp_rad1_bins8_3', 0.015123196), ('color_moments_hsv_H_min', 0.014899988), ('gradient_magnitude_mean', 0.014418098), ('color_moments_lab_L_var', 0.013946586), ('lbp_rad2_bins16_8', 0.013615358), ('color_moments_lab_B_std', 0.01276247)]\n",
      "INFO:utils.ml:Fitted classifier: XGBClassifier9; Done in 11.866007328033447 seconds\n",
      "INFO:utils.ml:Fitting classifier: XGBClassifier10\n",
      "INFO:utils.ml:Top 10 features for XGBClassifier10: [('color_moments_rgb_B_std', 0.073272884), ('color_moments_rgb_R_iqr', 0.034169562), ('lbp_rad4_bins32_32', 0.018323984), ('glcm_energy_dist_1_angle_0', 0.015850333), ('color_moments_hsv_H_min', 0.015835054), ('lbp_rad1_bins8_3', 0.015813237), ('gradient_magnitude_mean', 0.014914636), ('lbp_rad2_bins16_8', 0.013944015), ('color_moments_lab_L_var', 0.013738298), ('color_moments_lab_B_std', 0.012899816)]\n",
      "INFO:utils.ml:Fitted classifier: XGBClassifier10; Done in 13.563587427139282 seconds\n",
      "INFO:utils.ml:Fitting classifier: XGBClassifier11\n",
      "INFO:utils.ml:Top 10 features for XGBClassifier11: [('color_moments_rgb_B_std', 0.039555203), ('color_moments_rgb_R_iqr', 0.034915246), ('color_moments_rgb_B_var', 0.029232465), ('color_moments_lab_L_std', 0.017134016), ('lbp_rad1_bins8_4', 0.0165007), ('color_moments_lab_B_std', 0.016095666), ('color_moments_lab_B_var', 0.013149029), ('lbp_rad4_bins32_32', 0.013028424), ('fourier_transform_magnitude_std', 0.0121615855), ('color_moments_rgb_B_iqr', 0.011890341)]\n",
      "INFO:utils.ml:Fitted classifier: XGBClassifier11; Done in 5.297607660293579 seconds\n",
      "INFO:utils.ml:Fitting classifier: XGBClassifier12\n",
      "INFO:utils.ml:Top 10 features for XGBClassifier12: [('color_moments_rgb_B_std', 0.04591665), ('color_moments_rgb_B_var', 0.03026708), ('color_moments_rgb_R_iqr', 0.02160449), ('lbp_rad3_bins24_24', 0.01462283), ('lbp_rad4_bins32_32', 0.014618382), ('lbp_rad1_bins8_3', 0.0119938785), ('lbp_rad1_bins8_4', 0.011799747), ('gradient_magnitude_mean', 0.011783021), ('color_moments_lab_B_std', 0.011259532), ('glcm_energy_dist_1_angle_0', 0.01085748)]\n",
      "INFO:utils.ml:Fitted classifier: XGBClassifier12; Done in 14.080133199691772 seconds\n",
      "INFO:utils.ml:Fitting classifier: XGBClassifier13\n",
      "INFO:utils.ml:Top 10 features for XGBClassifier13: [('color_moments_rgb_B_std', 0.058440734), ('color_moments_rgb_R_iqr', 0.032983962), ('color_moments_rgb_B_var', 0.022200868), ('glcm_energy_dist_1_angle_0', 0.013979539), ('fourier_transform_magnitude_std', 0.0139480475), ('lbp_rad1_bins8_3', 0.013755418), ('lbp_rad1_bins8_4', 0.013452209), ('color_moments_lab_B_std', 0.013323114), ('color_moments_lab_B_var', 0.0125398785), ('lbp_rad4_bins32_32', 0.012130372)]\n",
      "INFO:utils.ml:Fitted classifier: XGBClassifier13; Done in 11.271555423736572 seconds\n",
      "INFO:utils.ml:Fitting classifier: XGBClassifier14\n",
      "INFO:utils.ml:Top 10 features for XGBClassifier14: [('color_moments_rgb_B_std', 0.056487214), ('color_moments_rgb_R_iqr', 0.028562501), ('color_moments_rgb_B_var', 0.024685571), ('glcm_energy_dist_1_angle_0', 0.01490425), ('fourier_transform_magnitude_std', 0.013897647), ('lbp_rad4_bins32_32', 0.013878423), ('lbp_rad1_bins8_4', 0.013022212), ('color_moments_lab_B_var', 0.012950706), ('lbp_rad1_bins8_3', 0.012263968), ('lbp_rad3_bins24_24', 0.012220735)]\n",
      "INFO:utils.ml:Fitted classifier: XGBClassifier14; Done in 11.213297843933105 seconds\n",
      "INFO:utils.ml:Fitting classifier: XGBClassifier15\n",
      "INFO:utils.ml:Top 10 features for XGBClassifier15: [('color_moments_rgb_B_std', 0.047033634), ('color_moments_rgb_R_iqr', 0.027753681), ('color_moments_rgb_B_var', 0.02727369), ('glcm_energy_dist_1_angle_0', 0.0135117555), ('fourier_transform_magnitude_std', 0.012897028), ('color_moments_lab_B_var', 0.012833818), ('lbp_rad1_bins8_4', 0.01256091), ('lbp_rad4_bins32_32', 0.012515867), ('color_moments_lab_B_std', 0.011275959), ('gradient_magnitude_mean', 0.011087648)]\n",
      "INFO:utils.ml:Fitted classifier: XGBClassifier15; Done in 26.12005639076233 seconds\n",
      "INFO:utils.ml:Fitting classifier: XGBClassifier16\n",
      "INFO:utils.ml:Top 10 features for XGBClassifier16: [('color_moments_rgb_B_std', 0.045163363), ('color_moments_rgb_B_var', 0.027405085), ('color_moments_rgb_R_iqr', 0.026494808), ('glcm_energy_dist_1_angle_0', 0.013347515), ('fourier_transform_magnitude_std', 0.0130710965), ('color_moments_lab_B_var', 0.012975838), ('lbp_rad1_bins8_4', 0.012724458), ('lbp_rad4_bins32_32', 0.012176242), ('color_moments_lab_B_std', 0.011006938), ('lbp_rad2_bins16_8', 0.010925562)]\n",
      "INFO:utils.ml:Fitted classifier: XGBClassifier16; Done in 18.973299503326416 seconds\n",
      "INFO:utils.ml:Fitting classifier: XGBClassifier17\n",
      "INFO:utils.ml:Top 10 features for XGBClassifier17: [('color_moments_rgb_B_std', 0.0540829), ('color_moments_rgb_R_iqr', 0.027594743), ('color_moments_rgb_B_var', 0.026307214), ('lbp_rad4_bins32_32', 0.01521396), ('glcm_energy_dist_1_angle_0', 0.013311032), ('lbp_rad1_bins8_4', 0.013172434), ('fourier_transform_magnitude_std', 0.0128109865), ('lbp_rad1_bins8_3', 0.012462389), ('gradient_magnitude_mean', 0.012089031), ('color_moments_lab_B_var', 0.011796186)]\n",
      "INFO:utils.ml:Fitted classifier: XGBClassifier17; Done in 15.50043535232544 seconds\n",
      "INFO:utils.ml:Fitting classifier: XGBClassifier18\n",
      "INFO:utils.ml:Top 10 features for XGBClassifier18: [('color_moments_rgb_B_std', 0.054891266), ('color_moments_rgb_R_iqr', 0.027976686), ('color_moments_rgb_B_var', 0.025698641), ('lbp_rad4_bins32_32', 0.015277609), ('glcm_energy_dist_1_angle_0', 0.013700602), ('lbp_rad1_bins8_4', 0.013168107), ('lbp_rad1_bins8_3', 0.012982564), ('fourier_transform_magnitude_std', 0.012507111), ('gradient_magnitude_mean', 0.012445271), ('color_moments_lab_B_std', 0.011700684)]\n",
      "INFO:utils.ml:Fitted classifier: XGBClassifier18; Done in 11.623017311096191 seconds\n",
      "INFO:utils.ml:Fitting completed in 290.19 seconds.\n"
     ]
    }
   ],
   "execution_count": 12
  },
  {
   "metadata": {
    "ExecuteTime": {
     "end_time": "2024-11-03T12:33:49.182208Z",
     "start_time": "2024-11-03T12:31:32.743550Z"
    }
   },
   "cell_type": "code",
   "source": "pipeline.predict_with_classifiers(VAL_PATH, percent)",
   "id": "eaa13003ad0706a4",
   "outputs": [
    {
     "name": "stderr",
     "output_type": "stream",
     "text": [
      "INFO:utils.ml:Predicting with classifiers on dataset: C:\\Users\\gimes\\Src\\repos\\CADx-Project\\dataset\\multiclass\\val\n"
     ]
    },
    {
     "name": "stdout",
     "output_type": "stream",
     "text": [
      "Processed 5/53 batches.\n",
      "Processed 10/53 batches.\n",
      "Processed 15/53 batches.\n",
      "Processed 20/53 batches.\n",
      "Processed 25/53 batches.\n",
      "Processed 30/53 batches.\n",
      "Processed 35/53 batches.\n",
      "Processed 40/53 batches.\n",
      "Processed 45/53 batches.\n",
      "Processed 50/53 batches.\n"
     ]
    },
    {
     "name": "stderr",
     "output_type": "stream",
     "text": [
      "INFO:utils.ml:Predictions made with classifier: RandomForestClassifier0\n",
      "INFO:utils.ml:Predictions made with classifier: RandomForestClassifier1\n",
      "INFO:utils.ml:Predictions made with classifier: RandomForestClassifier2\n",
      "INFO:utils.ml:Predictions made with classifier: RandomForestClassifier3\n",
      "INFO:utils.ml:Predictions made with classifier: RandomForestClassifier4\n"
     ]
    },
    {
     "name": "stdout",
     "output_type": "stream",
     "text": [
      "Processed 53/53 batches.\n"
     ]
    },
    {
     "name": "stderr",
     "output_type": "stream",
     "text": [
      "INFO:utils.ml:Predictions made with classifier: RandomForestClassifier5\n",
      "INFO:utils.ml:Predictions made with classifier: RandomForestClassifier6\n",
      "INFO:utils.ml:Predictions made with classifier: RandomForestClassifier7\n",
      "INFO:utils.ml:Predictions made with classifier: XGBClassifier8\n",
      "INFO:utils.ml:Predictions made with classifier: XGBClassifier9\n",
      "INFO:utils.ml:Predictions made with classifier: XGBClassifier10\n",
      "INFO:utils.ml:Predictions made with classifier: XGBClassifier11\n",
      "INFO:utils.ml:Predictions made with classifier: XGBClassifier12\n",
      "INFO:utils.ml:Predictions made with classifier: XGBClassifier13\n",
      "INFO:utils.ml:Predictions made with classifier: XGBClassifier14\n",
      "INFO:utils.ml:Predictions made with classifier: XGBClassifier15\n",
      "INFO:utils.ml:Predictions made with classifier: XGBClassifier16\n",
      "INFO:utils.ml:Predictions made with classifier: XGBClassifier17\n",
      "INFO:utils.ml:Predictions made with classifier: XGBClassifier18\n"
     ]
    },
    {
     "data": {
      "text/plain": [
       "{'GT': array([0, 0, 0, ..., 2, 2, 2]),\n",
       " 'RandomForestClassifier0': array([0, 0, 2, ..., 1, 0, 0]),\n",
       " 'RandomForestClassifier1': array([0, 0, 2, ..., 1, 2, 0]),\n",
       " 'RandomForestClassifier2': array([0, 0, 2, ..., 1, 0, 0]),\n",
       " 'RandomForestClassifier3': array([0, 0, 1, ..., 1, 2, 0]),\n",
       " 'RandomForestClassifier4': array([0, 0, 2, ..., 1, 2, 0]),\n",
       " 'RandomForestClassifier5': array([0, 0, 1, ..., 1, 2, 0]),\n",
       " 'RandomForestClassifier6': array([0, 0, 2, ..., 1, 2, 0]),\n",
       " 'RandomForestClassifier7': array([0, 0, 1, ..., 1, 2, 0]),\n",
       " 'XGBClassifier8': array([0, 0, 0, ..., 1, 0, 0], dtype=int64),\n",
       " 'XGBClassifier9': array([0, 0, 0, ..., 1, 0, 0], dtype=int64),\n",
       " 'XGBClassifier10': array([0, 0, 0, ..., 1, 0, 0], dtype=int64),\n",
       " 'XGBClassifier11': array([0, 0, 2, ..., 0, 0, 0], dtype=int64),\n",
       " 'XGBClassifier12': array([0, 0, 0, ..., 1, 2, 0], dtype=int64),\n",
       " 'XGBClassifier13': array([0, 0, 0, ..., 1, 0, 0], dtype=int64),\n",
       " 'XGBClassifier14': array([0, 0, 0, ..., 1, 0, 0], dtype=int64),\n",
       " 'XGBClassifier15': array([0, 0, 0, ..., 1, 0, 0], dtype=int64),\n",
       " 'XGBClassifier16': array([0, 0, 0, ..., 1, 0, 0], dtype=int64),\n",
       " 'XGBClassifier17': array([0, 0, 0, ..., 1, 0, 0], dtype=int64),\n",
       " 'XGBClassifier18': array([0, 0, 0, ..., 1, 0, 0], dtype=int64)}"
      ]
     },
     "execution_count": 13,
     "metadata": {},
     "output_type": "execute_result"
    }
   ],
   "execution_count": 13
  },
  {
   "metadata": {
    "ExecuteTime": {
     "end_time": "2024-11-03T12:33:49.398502Z",
     "start_time": "2024-11-03T12:33:49.209464Z"
    }
   },
   "cell_type": "code",
   "source": [
    "import pandas as pd\n",
    "\n",
    "df_smote = pd.DataFrame(data=pipeline.calculate_metrics())\n",
    "df_smote = df_smote.T\n",
    "df_smote"
   ],
   "id": "441842170622e9a",
   "outputs": [
    {
     "name": "stderr",
     "output_type": "stream",
     "text": [
      "INFO:utils.ml:Metrics for classifier GT: {'accuracy': 1.0, 'precision': 1.0, 'recall': 1.0, 'f1': 1.0, 'kappa': 1.0}\n",
      "INFO:utils.ml:Metrics for classifier RandomForestClassifier0: {'accuracy': 0.8196850393700787, 'precision': 0.7009277930278297, 'recall': 0.6908188833914709, 'f1': 0.6944755901437688, 'kappa': 0.675732870694538}\n",
      "INFO:utils.ml:Metrics for classifier RandomForestClassifier1: {'accuracy': 0.8188976377952756, 'precision': 0.7095713866835219, 'recall': 0.711886143708708, 'f1': 0.7099943575444653, 'kappa': 0.676648748217749}\n",
      "INFO:utils.ml:Metrics for classifier RandomForestClassifier2: {'accuracy': 0.8133858267716535, 'precision': 0.7028975735831186, 'recall': 0.7021580327460599, 'f1': 0.7015995690290097, 'kappa': 0.6664930747922437}\n",
      "INFO:utils.ml:Metrics for classifier RandomForestClassifier3: {'accuracy': 0.8283464566929134, 'precision': 0.7368771671487843, 'recall': 0.7068119336065154, 'f1': 0.7177117856588074, 'kappa': 0.6895840340845386}\n",
      "INFO:utils.ml:Metrics for classifier RandomForestClassifier4: {'accuracy': 0.8078740157480315, 'precision': 0.692572511196305, 'recall': 0.6949512731148028, 'f1': 0.6929301193353284, 'kappa': 0.6571714319852372}\n",
      "INFO:utils.ml:Metrics for classifier RandomForestClassifier5: {'accuracy': 0.8220472440944881, 'precision': 0.7178089544847519, 'recall': 0.692826915519985, 'f1': 0.7019162845324144, 'kappa': 0.6780785657885292}\n",
      "INFO:utils.ml:Metrics for classifier RandomForestClassifier6: {'accuracy': 0.8188976377952756, 'precision': 0.7065840597445853, 'recall': 0.7090093884607658, 'f1': 0.7069906651298613, 'kappa': 0.6767775574519315}\n",
      "INFO:utils.ml:Metrics for classifier RandomForestClassifier7: {'accuracy': 0.8275590551181102, 'precision': 0.7305688594877445, 'recall': 0.7063202915219531, 'f1': 0.7153354011409935, 'kappa': 0.6885205144400693}\n",
      "INFO:utils.ml:Metrics for classifier XGBClassifier8: {'accuracy': 0.8535433070866142, 'precision': 0.7588305717927694, 'recall': 0.7230775861873403, 'f1': 0.7367449951534217, 'kappa': 0.7333474813517077}\n",
      "INFO:utils.ml:Metrics for classifier XGBClassifier9: {'accuracy': 0.8503937007874016, 'precision': 0.7522912285484761, 'recall': 0.7180565606428727, 'f1': 0.7310448892855188, 'kappa': 0.727723666037787}\n",
      "INFO:utils.ml:Metrics for classifier XGBClassifier10: {'accuracy': 0.8488188976377953, 'precision': 0.7470266863690234, 'recall': 0.7167178725571968, 'f1': 0.728486512608104, 'kappa': 0.725108225108225}\n",
      "INFO:utils.ml:Metrics for classifier XGBClassifier11: {'accuracy': 0.8007874015748031, 'precision': 0.6695585027059797, 'recall': 0.6883940708544339, 'f1': 0.6768683125055109, 'kappa': 0.6486787320025892}\n",
      "INFO:utils.ml:Metrics for classifier XGBClassifier12: {'accuracy': 0.8496062992125984, 'precision': 0.739903944731083, 'recall': 0.7152212691851948, 'f1': 0.7247575300130918, 'kappa': 0.7272312231807918}\n",
      "INFO:utils.ml:Metrics for classifier XGBClassifier13: {'accuracy': 0.852755905511811, 'precision': 0.7405881325076331, 'recall': 0.7285171565569376, 'f1': 0.7336084138964271, 'kappa': 0.7344724108013345}\n",
      "INFO:utils.ml:Metrics for classifier XGBClassifier14: {'accuracy': 0.8511811023622047, 'precision': 0.7411466320891118, 'recall': 0.7277115743460882, 'f1': 0.7333354135247109, 'kappa': 0.7315112684059579}\n",
      "INFO:utils.ml:Metrics for classifier XGBClassifier15: {'accuracy': 0.8503937007874016, 'precision': 0.7488438172684049, 'recall': 0.7270422303032502, 'f1': 0.7359813959480523, 'kappa': 0.7291515135188528}\n",
      "INFO:utils.ml:Metrics for classifier XGBClassifier16: {'accuracy': 0.8503937007874016, 'precision': 0.7467248281205894, 'recall': 0.7239877730970327, 'f1': 0.7332129642823412, 'kappa': 0.728973852098122}\n",
      "INFO:utils.ml:Metrics for classifier XGBClassifier17: {'accuracy': 0.8480314960629921, 'precision': 0.7342982307906268, 'recall': 0.7171147402640122, 'f1': 0.7239711625494847, 'kappa': 0.725332478697607}\n",
      "INFO:utils.ml:Metrics for classifier XGBClassifier18: {'accuracy': 0.8480314960629921, 'precision': 0.7343108111400795, 'recall': 0.7172924422222877, 'f1': 0.7240194822740348, 'kappa': 0.7254432381814353}\n"
     ]
    },
    {
     "data": {
      "text/plain": [
       "                         accuracy  precision    recall        f1     kappa\n",
       "GT                       1.000000   1.000000  1.000000  1.000000  1.000000\n",
       "RandomForestClassifier0  0.819685   0.700928  0.690819  0.694476  0.675733\n",
       "RandomForestClassifier1  0.818898   0.709571  0.711886  0.709994  0.676649\n",
       "RandomForestClassifier2  0.813386   0.702898  0.702158  0.701600  0.666493\n",
       "RandomForestClassifier3  0.828346   0.736877  0.706812  0.717712  0.689584\n",
       "RandomForestClassifier4  0.807874   0.692573  0.694951  0.692930  0.657171\n",
       "RandomForestClassifier5  0.822047   0.717809  0.692827  0.701916  0.678079\n",
       "RandomForestClassifier6  0.818898   0.706584  0.709009  0.706991  0.676778\n",
       "RandomForestClassifier7  0.827559   0.730569  0.706320  0.715335  0.688521\n",
       "XGBClassifier8           0.853543   0.758831  0.723078  0.736745  0.733347\n",
       "XGBClassifier9           0.850394   0.752291  0.718057  0.731045  0.727724\n",
       "XGBClassifier10          0.848819   0.747027  0.716718  0.728487  0.725108\n",
       "XGBClassifier11          0.800787   0.669559  0.688394  0.676868  0.648679\n",
       "XGBClassifier12          0.849606   0.739904  0.715221  0.724758  0.727231\n",
       "XGBClassifier13          0.852756   0.740588  0.728517  0.733608  0.734472\n",
       "XGBClassifier14          0.851181   0.741147  0.727712  0.733335  0.731511\n",
       "XGBClassifier15          0.850394   0.748844  0.727042  0.735981  0.729152\n",
       "XGBClassifier16          0.850394   0.746725  0.723988  0.733213  0.728974\n",
       "XGBClassifier17          0.848031   0.734298  0.717115  0.723971  0.725332\n",
       "XGBClassifier18          0.848031   0.734311  0.717292  0.724019  0.725443"
      ],
      "text/html": [
       "<div>\n",
       "<style scoped>\n",
       "    .dataframe tbody tr th:only-of-type {\n",
       "        vertical-align: middle;\n",
       "    }\n",
       "\n",
       "    .dataframe tbody tr th {\n",
       "        vertical-align: top;\n",
       "    }\n",
       "\n",
       "    .dataframe thead th {\n",
       "        text-align: right;\n",
       "    }\n",
       "</style>\n",
       "<table border=\"1\" class=\"dataframe\">\n",
       "  <thead>\n",
       "    <tr style=\"text-align: right;\">\n",
       "      <th></th>\n",
       "      <th>accuracy</th>\n",
       "      <th>precision</th>\n",
       "      <th>recall</th>\n",
       "      <th>f1</th>\n",
       "      <th>kappa</th>\n",
       "    </tr>\n",
       "  </thead>\n",
       "  <tbody>\n",
       "    <tr>\n",
       "      <th>GT</th>\n",
       "      <td>1.000000</td>\n",
       "      <td>1.000000</td>\n",
       "      <td>1.000000</td>\n",
       "      <td>1.000000</td>\n",
       "      <td>1.000000</td>\n",
       "    </tr>\n",
       "    <tr>\n",
       "      <th>RandomForestClassifier0</th>\n",
       "      <td>0.819685</td>\n",
       "      <td>0.700928</td>\n",
       "      <td>0.690819</td>\n",
       "      <td>0.694476</td>\n",
       "      <td>0.675733</td>\n",
       "    </tr>\n",
       "    <tr>\n",
       "      <th>RandomForestClassifier1</th>\n",
       "      <td>0.818898</td>\n",
       "      <td>0.709571</td>\n",
       "      <td>0.711886</td>\n",
       "      <td>0.709994</td>\n",
       "      <td>0.676649</td>\n",
       "    </tr>\n",
       "    <tr>\n",
       "      <th>RandomForestClassifier2</th>\n",
       "      <td>0.813386</td>\n",
       "      <td>0.702898</td>\n",
       "      <td>0.702158</td>\n",
       "      <td>0.701600</td>\n",
       "      <td>0.666493</td>\n",
       "    </tr>\n",
       "    <tr>\n",
       "      <th>RandomForestClassifier3</th>\n",
       "      <td>0.828346</td>\n",
       "      <td>0.736877</td>\n",
       "      <td>0.706812</td>\n",
       "      <td>0.717712</td>\n",
       "      <td>0.689584</td>\n",
       "    </tr>\n",
       "    <tr>\n",
       "      <th>RandomForestClassifier4</th>\n",
       "      <td>0.807874</td>\n",
       "      <td>0.692573</td>\n",
       "      <td>0.694951</td>\n",
       "      <td>0.692930</td>\n",
       "      <td>0.657171</td>\n",
       "    </tr>\n",
       "    <tr>\n",
       "      <th>RandomForestClassifier5</th>\n",
       "      <td>0.822047</td>\n",
       "      <td>0.717809</td>\n",
       "      <td>0.692827</td>\n",
       "      <td>0.701916</td>\n",
       "      <td>0.678079</td>\n",
       "    </tr>\n",
       "    <tr>\n",
       "      <th>RandomForestClassifier6</th>\n",
       "      <td>0.818898</td>\n",
       "      <td>0.706584</td>\n",
       "      <td>0.709009</td>\n",
       "      <td>0.706991</td>\n",
       "      <td>0.676778</td>\n",
       "    </tr>\n",
       "    <tr>\n",
       "      <th>RandomForestClassifier7</th>\n",
       "      <td>0.827559</td>\n",
       "      <td>0.730569</td>\n",
       "      <td>0.706320</td>\n",
       "      <td>0.715335</td>\n",
       "      <td>0.688521</td>\n",
       "    </tr>\n",
       "    <tr>\n",
       "      <th>XGBClassifier8</th>\n",
       "      <td>0.853543</td>\n",
       "      <td>0.758831</td>\n",
       "      <td>0.723078</td>\n",
       "      <td>0.736745</td>\n",
       "      <td>0.733347</td>\n",
       "    </tr>\n",
       "    <tr>\n",
       "      <th>XGBClassifier9</th>\n",
       "      <td>0.850394</td>\n",
       "      <td>0.752291</td>\n",
       "      <td>0.718057</td>\n",
       "      <td>0.731045</td>\n",
       "      <td>0.727724</td>\n",
       "    </tr>\n",
       "    <tr>\n",
       "      <th>XGBClassifier10</th>\n",
       "      <td>0.848819</td>\n",
       "      <td>0.747027</td>\n",
       "      <td>0.716718</td>\n",
       "      <td>0.728487</td>\n",
       "      <td>0.725108</td>\n",
       "    </tr>\n",
       "    <tr>\n",
       "      <th>XGBClassifier11</th>\n",
       "      <td>0.800787</td>\n",
       "      <td>0.669559</td>\n",
       "      <td>0.688394</td>\n",
       "      <td>0.676868</td>\n",
       "      <td>0.648679</td>\n",
       "    </tr>\n",
       "    <tr>\n",
       "      <th>XGBClassifier12</th>\n",
       "      <td>0.849606</td>\n",
       "      <td>0.739904</td>\n",
       "      <td>0.715221</td>\n",
       "      <td>0.724758</td>\n",
       "      <td>0.727231</td>\n",
       "    </tr>\n",
       "    <tr>\n",
       "      <th>XGBClassifier13</th>\n",
       "      <td>0.852756</td>\n",
       "      <td>0.740588</td>\n",
       "      <td>0.728517</td>\n",
       "      <td>0.733608</td>\n",
       "      <td>0.734472</td>\n",
       "    </tr>\n",
       "    <tr>\n",
       "      <th>XGBClassifier14</th>\n",
       "      <td>0.851181</td>\n",
       "      <td>0.741147</td>\n",
       "      <td>0.727712</td>\n",
       "      <td>0.733335</td>\n",
       "      <td>0.731511</td>\n",
       "    </tr>\n",
       "    <tr>\n",
       "      <th>XGBClassifier15</th>\n",
       "      <td>0.850394</td>\n",
       "      <td>0.748844</td>\n",
       "      <td>0.727042</td>\n",
       "      <td>0.735981</td>\n",
       "      <td>0.729152</td>\n",
       "    </tr>\n",
       "    <tr>\n",
       "      <th>XGBClassifier16</th>\n",
       "      <td>0.850394</td>\n",
       "      <td>0.746725</td>\n",
       "      <td>0.723988</td>\n",
       "      <td>0.733213</td>\n",
       "      <td>0.728974</td>\n",
       "    </tr>\n",
       "    <tr>\n",
       "      <th>XGBClassifier17</th>\n",
       "      <td>0.848031</td>\n",
       "      <td>0.734298</td>\n",
       "      <td>0.717115</td>\n",
       "      <td>0.723971</td>\n",
       "      <td>0.725332</td>\n",
       "    </tr>\n",
       "    <tr>\n",
       "      <th>XGBClassifier18</th>\n",
       "      <td>0.848031</td>\n",
       "      <td>0.734311</td>\n",
       "      <td>0.717292</td>\n",
       "      <td>0.724019</td>\n",
       "      <td>0.725443</td>\n",
       "    </tr>\n",
       "  </tbody>\n",
       "</table>\n",
       "</div>"
      ]
     },
     "execution_count": 14,
     "metadata": {},
     "output_type": "execute_result"
    }
   ],
   "execution_count": 14
  },
  {
   "metadata": {
    "ExecuteTime": {
     "end_time": "2024-11-03T12:33:49.480368Z",
     "start_time": "2024-11-03T12:33:49.468319Z"
    }
   },
   "cell_type": "code",
   "source": [
    "highest = df_smote[df_smote[\"kappa\"] == df_smote.iloc[1:][\"kappa\"].max()]\n",
    "idx = highest.index[0]\n",
    "\n",
    "confusion_matrix(pipeline.predictions[\"GT\"], pipeline.predictions[idx])"
   ],
   "id": "cdc894cce6a949f2",
   "outputs": [
    {
     "data": {
      "text/plain": [
       "array([[433,  33,  32],\n",
       "       [ 56, 611,  11],\n",
       "       [ 37,  18,  39]], dtype=int64)"
      ]
     },
     "execution_count": 15,
     "metadata": {},
     "output_type": "execute_result"
    }
   ],
   "execution_count": 15
  },
  {
   "metadata": {},
   "cell_type": "markdown",
   "source": [
    "___\n",
    "# Borderline SMOTE"
   ],
   "id": "1e752cdfc948f3bc"
  },
  {
   "metadata": {
    "ExecuteTime": {
     "end_time": "2024-11-03T12:33:49.798711Z",
     "start_time": "2024-11-03T12:33:49.534193Z"
    }
   },
   "cell_type": "code",
   "source": [
    "from imblearn.over_sampling import BorderlineSMOTE\n",
    "smote = BorderlineSMOTE(sampling_strategy='auto', random_state=42)\n",
    "\n",
    "pipeline.feature_matrix, pipeline.labels = smote.fit_resample(\n",
    "    np.nan_to_num(pipeline.backup_feature_matrix), pipeline.backup_labels)\n",
    "\n",
    "print(pipeline.backup_feature_matrix.shape)\n",
    "print(pipeline.feature_matrix.shape)\n",
    "\n",
    "print(pipeline.backup_labels.shape)\n",
    "print(pipeline.labels.shape)"
   ],
   "id": "ca12420fbcc1eb2b",
   "outputs": [
    {
     "name": "stdout",
     "output_type": "stream",
     "text": [
      "(5082, 189)\n",
      "(8139, 189)\n",
      "(5082,)\n",
      "(8139,)\n"
     ]
    }
   ],
   "execution_count": 16
  },
  {
   "metadata": {
    "ExecuteTime": {
     "end_time": "2024-11-03T12:38:55.880547Z",
     "start_time": "2024-11-03T12:33:49.845090Z"
    }
   },
   "cell_type": "code",
   "source": [
    "pipeline.fitted_classifiers = {}\n",
    "\n",
    "pipeline.fit_classifiers()"
   ],
   "id": "a4ea57f5e5a38f80",
   "outputs": [
    {
     "name": "stderr",
     "output_type": "stream",
     "text": [
      "INFO:utils.ml:Fitting classifiers...\n",
      "INFO:utils.ml:Fitting classifier: RandomForestClassifier0\n",
      "INFO:utils.ml:Top 10 features for RandomForestClassifier0: [('color_moments_rgb_B_std', 0.024502788313120753), ('color_moments_lab_B_std', 0.023365371333508567), ('color_moments_rgb_B_var', 0.020518269774211017), ('color_moments_lab_B_var', 0.019490048055665947), ('color_moments_rgb_R_iqr', 0.016945742729011806), ('color_moments_rgb_G_iqr', 0.013670540953271632), ('color_moments_rgb_B_iqr', 0.011734817230004248), ('fourier_transform_magnitude_std', 0.011645573907266147), ('color_moments_rgb_R_kurtosis', 0.011498268753539827), ('color_moments_rgb_G_skew', 0.01149451656266843)]\n",
      "INFO:utils.ml:Fitted classifier: RandomForestClassifier0; Done in 12.305140256881714 seconds\n",
      "INFO:utils.ml:Fitting classifier: RandomForestClassifier1\n",
      "INFO:utils.ml:Top 10 features for RandomForestClassifier1: [('color_moments_rgb_B_var', 0.023524697743686655), ('color_moments_rgb_B_std', 0.021504094540170646), ('color_moments_lab_B_var', 0.021262540767512866), ('color_moments_rgb_R_iqr', 0.018933520089154186), ('color_moments_lab_B_std', 0.018259114960555364), ('color_moments_rgb_B_iqr', 0.014929111879951957), ('color_moments_lab_L_iqr', 0.01258686298409013), ('color_moments_rgb_B_kurtosis', 0.012344942351313826), ('color_moments_rgb_G_std', 0.012021067483118686), ('color_moments_rgb_G_skew', 0.011792258542483561)]\n",
      "INFO:utils.ml:Fitted classifier: RandomForestClassifier1; Done in 18.415475368499756 seconds\n",
      "INFO:utils.ml:Fitting classifier: RandomForestClassifier2\n",
      "INFO:utils.ml:Top 10 features for RandomForestClassifier2: [('color_moments_rgb_B_std', 0.030166551583803655), ('color_moments_lab_B_std', 0.025002224909728334), ('color_moments_rgb_B_var', 0.019462844033979642), ('color_moments_lab_B_var', 0.018319612621204965), ('color_moments_lab_L_std', 0.013694594210103422), ('color_moments_lab_L_iqr', 0.013497987683467425), ('color_moments_rgb_R_kurtosis', 0.013479335298113022), ('color_moments_rgb_R_iqr', 0.013361397626638502), ('color_moments_rgb_G_skew', 0.012841186578679751), ('color_moments_rgb_G_std', 0.012476751890827325)]\n",
      "INFO:utils.ml:Fitted classifier: RandomForestClassifier2; Done in 12.768735408782959 seconds\n",
      "INFO:utils.ml:Fitting classifier: RandomForestClassifier3\n",
      "INFO:utils.ml:Top 10 features for RandomForestClassifier3: [('color_moments_rgb_B_std', 0.028886885389176217), ('color_moments_lab_B_std', 0.023586315500612715), ('color_moments_rgb_B_var', 0.02314122417816908), ('color_moments_lab_B_var', 0.01722599555776885), ('color_moments_rgb_R_iqr', 0.014482868690045092), ('color_moments_rgb_G_skew', 0.01436688459561698), ('color_moments_lab_L_iqr', 0.014018380066399341), ('fourier_transform_magnitude_std', 0.013621206182727061), ('color_moments_lab_L_std', 0.012778992277490499), ('color_moments_rgb_G_var', 0.011909773451398868)]\n",
      "INFO:utils.ml:Fitted classifier: RandomForestClassifier3; Done in 18.758824586868286 seconds\n",
      "INFO:utils.ml:Fitting classifier: RandomForestClassifier4\n",
      "INFO:utils.ml:Top 10 features for RandomForestClassifier4: [('color_moments_rgb_B_std', 0.027914284456298462), ('color_moments_lab_B_std', 0.024579532911604456), ('color_moments_rgb_B_var', 0.021826404394530107), ('color_moments_lab_B_var', 0.017297194279141847), ('color_moments_lab_L_iqr', 0.01590277539140632), ('color_moments_rgb_R_iqr', 0.013756095219736005), ('color_moments_rgb_G_skew', 0.012942938811802154), ('color_moments_rgb_R_kurtosis', 0.012628980767489226), ('color_moments_lab_L_std', 0.012387018811536206), ('color_moments_rgb_G_std', 0.012251873358334246)]\n",
      "INFO:utils.ml:Fitted classifier: RandomForestClassifier4; Done in 18.80809760093689 seconds\n",
      "INFO:utils.ml:Fitting classifier: RandomForestClassifier5\n",
      "INFO:utils.ml:Top 10 features for RandomForestClassifier5: [('color_moments_rgb_B_std', 0.025891398977741488), ('color_moments_lab_B_std', 0.024652365826711514), ('color_moments_rgb_B_var', 0.02413186333256333), ('color_moments_lab_B_var', 0.015734691312287864), ('color_moments_rgb_R_iqr', 0.015403572435181095), ('color_moments_lab_L_iqr', 0.015090884607165638), ('color_moments_rgb_G_skew', 0.013548820403522864), ('fourier_transform_magnitude_std', 0.012984631394929468), ('color_moments_lab_L_std', 0.012087946563765052), ('color_moments_hsv_H_median', 0.01175446275575438)]\n",
      "INFO:utils.ml:Fitted classifier: RandomForestClassifier5; Done in 26.37714695930481 seconds\n",
      "INFO:utils.ml:Fitting classifier: RandomForestClassifier6\n",
      "INFO:utils.ml:Top 10 features for RandomForestClassifier6: [('color_moments_rgb_B_std', 0.025832146549895626), ('color_moments_lab_B_std', 0.02368701996059879), ('color_moments_rgb_B_var', 0.021300141521056446), ('color_moments_rgb_R_iqr', 0.0173041604614475), ('color_moments_lab_B_var', 0.016835634383158635), ('color_moments_lab_L_iqr', 0.015626516955412957), ('color_moments_rgb_R_kurtosis', 0.01421725467133014), ('color_moments_rgb_G_skew', 0.012566106739312024), ('color_moments_rgb_B_iqr', 0.011791770097915471), ('color_moments_rgb_G_std', 0.011616368917782517)]\n",
      "INFO:utils.ml:Fitted classifier: RandomForestClassifier6; Done in 22.7121524810791 seconds\n",
      "INFO:utils.ml:Fitting classifier: RandomForestClassifier7\n",
      "INFO:utils.ml:Top 10 features for RandomForestClassifier7: [('color_moments_rgb_B_std', 0.024306207515032763), ('color_moments_lab_B_std', 0.02334098541172184), ('color_moments_rgb_B_var', 0.023086557801547447), ('color_moments_rgb_R_iqr', 0.01865013684797192), ('color_moments_lab_B_var', 0.015934271536807456), ('color_moments_lab_L_iqr', 0.014787578949546196), ('color_moments_rgb_G_skew', 0.013284935918424128), ('color_moments_rgb_R_kurtosis', 0.012302181732478658), ('color_moments_rgb_B_iqr', 0.012221953089375712), ('color_moments_hsv_H_median', 0.01189611154840222)]\n",
      "INFO:utils.ml:Fitted classifier: RandomForestClassifier7; Done in 34.06794023513794 seconds\n",
      "INFO:utils.ml:Fitting classifier: XGBClassifier8\n",
      "INFO:utils.ml:Top 10 features for XGBClassifier8: [('color_moments_rgb_B_std', 0.06257815), ('color_moments_rgb_R_iqr', 0.04104761), ('color_moments_hsv_H_median', 0.034257047), ('glcm_energy_dist_1_angle_0', 0.019859554), ('lbp_rad2_bins16_8', 0.01681904), ('lbp_rad4_bins32_32', 0.014337665), ('color_moments_lab_B_std', 0.013680696), ('gradient_magnitude_mean', 0.013205286), ('color_moments_lab_B_var', 0.013133836), ('color_moments_rgb_R_std', 0.011156667)]\n",
      "INFO:utils.ml:Fitted classifier: XGBClassifier8; Done in 13.841501474380493 seconds\n",
      "INFO:utils.ml:Fitting classifier: XGBClassifier9\n",
      "INFO:utils.ml:Top 10 features for XGBClassifier9: [('color_moments_rgb_B_std', 0.06270581), ('color_moments_rgb_R_iqr', 0.03985287), ('color_moments_hsv_H_median', 0.03425582), ('glcm_energy_dist_1_angle_0', 0.01936247), ('lbp_rad2_bins16_8', 0.016016275), ('lbp_rad4_bins32_32', 0.014177224), ('color_moments_lab_B_std', 0.013853942), ('color_moments_lab_B_var', 0.013571166), ('gradient_magnitude_mean', 0.013170431), ('color_moments_rgb_R_std', 0.011604066)]\n",
      "INFO:utils.ml:Fitted classifier: XGBClassifier9; Done in 16.71174454689026 seconds\n",
      "INFO:utils.ml:Fitting classifier: XGBClassifier10\n",
      "INFO:utils.ml:Top 10 features for XGBClassifier10: [('color_moments_rgb_B_std', 0.06376882), ('color_moments_rgb_R_iqr', 0.039787866), ('color_moments_hsv_H_median', 0.03382347), ('glcm_energy_dist_1_angle_0', 0.019541547), ('lbp_rad2_bins16_8', 0.01642355), ('lbp_rad4_bins32_32', 0.014523672), ('color_moments_lab_B_std', 0.014055866), ('color_moments_lab_B_var', 0.013560848), ('gradient_magnitude_mean', 0.013533085), ('color_moments_rgb_R_std', 0.011707038)]\n",
      "INFO:utils.ml:Fitted classifier: XGBClassifier10; Done in 19.58551001548767 seconds\n",
      "INFO:utils.ml:Fitting classifier: XGBClassifier11\n",
      "INFO:utils.ml:Top 10 features for XGBClassifier11: [('color_moments_rgb_R_iqr', 0.035486147), ('color_moments_rgb_B_std', 0.033077497), ('color_moments_hsv_H_median', 0.03045171), ('color_moments_rgb_B_var', 0.022408886), ('color_moments_lab_B_std', 0.017017536), ('color_moments_lab_B_var', 0.013344357), ('lbp_rad2_bins16_8', 0.013053822), ('fourier_transform_magnitude_std', 0.012908336), ('lbp_rad4_bins32_32', 0.012889654), ('lbp_rad4_bins32_5', 0.012670463)]\n",
      "INFO:utils.ml:Fitted classifier: XGBClassifier11; Done in 7.238151550292969 seconds\n",
      "INFO:utils.ml:Fitting classifier: XGBClassifier12\n",
      "INFO:utils.ml:Top 10 features for XGBClassifier12: [('color_moments_rgb_B_std', 0.038845334), ('color_moments_rgb_B_var', 0.022632124), ('color_moments_hsv_H_median', 0.021673566), ('color_moments_rgb_R_iqr', 0.019461986), ('lbp_rad4_bins32_32', 0.015531433), ('glcm_energy_dist_1_angle_0', 0.014489524), ('color_moments_lab_B_var', 0.013014308), ('color_moments_lab_L_std', 0.012782454), ('lbp_rad1_bins8_4', 0.01239801), ('color_moments_lab_B_std', 0.012015847)]\n",
      "INFO:utils.ml:Fitted classifier: XGBClassifier12; Done in 15.617490530014038 seconds\n",
      "INFO:utils.ml:Fitting classifier: XGBClassifier13\n",
      "INFO:utils.ml:Top 10 features for XGBClassifier13: [('color_moments_rgb_B_std', 0.044975754), ('color_moments_rgb_R_iqr', 0.028275123), ('color_moments_hsv_H_median', 0.026584754), ('color_moments_rgb_B_var', 0.018052453), ('color_moments_lab_B_var', 0.01480491), ('glcm_energy_dist_1_angle_0', 0.014729034), ('lbp_rad1_bins8_4', 0.013691738), ('gradient_magnitude_mean', 0.013690736), ('fourier_transform_magnitude_std', 0.012492714), ('color_moments_lab_B_std', 0.012142074)]\n",
      "INFO:utils.ml:Fitted classifier: XGBClassifier13; Done in 6.431167840957642 seconds\n",
      "INFO:utils.ml:Fitting classifier: XGBClassifier14\n",
      "INFO:utils.ml:Top 10 features for XGBClassifier14: [('color_moments_rgb_B_std', 0.046097115), ('color_moments_rgb_R_iqr', 0.026965745), ('color_moments_hsv_H_median', 0.024122734), ('color_moments_rgb_B_var', 0.01984601), ('color_moments_lab_B_var', 0.01563774), ('glcm_energy_dist_1_angle_0', 0.015126469), ('lbp_rad1_bins8_4', 0.014992636), ('fourier_transform_magnitude_std', 0.013315978), ('gradient_magnitude_mean', 0.012399278), ('color_moments_lab_B_std', 0.011697882)]\n",
      "INFO:utils.ml:Fitted classifier: XGBClassifier14; Done in 7.1767308712005615 seconds\n",
      "INFO:utils.ml:Fitting classifier: XGBClassifier15\n",
      "INFO:utils.ml:Top 10 features for XGBClassifier15: [('color_moments_rgb_B_std', 0.044226196), ('color_moments_rgb_R_iqr', 0.026731081), ('color_moments_hsv_H_median', 0.02398079), ('color_moments_rgb_B_var', 0.019273331), ('lbp_rad4_bins32_32', 0.015190441), ('color_moments_lab_B_var', 0.01425822), ('glcm_energy_dist_1_angle_0', 0.013826227), ('color_moments_lab_B_std', 0.0113373), ('fourier_transform_magnitude_std', 0.011200129), ('lbp_rad2_bins16_8', 0.010868907)]\n",
      "INFO:utils.ml:Fitted classifier: XGBClassifier15; Done in 16.154581308364868 seconds\n",
      "INFO:utils.ml:Fitting classifier: XGBClassifier16\n",
      "INFO:utils.ml:Top 10 features for XGBClassifier16: [('color_moments_rgb_B_std', 0.04287864), ('color_moments_rgb_R_iqr', 0.0266652), ('color_moments_hsv_H_median', 0.024349468), ('color_moments_rgb_B_var', 0.019573616), ('lbp_rad4_bins32_32', 0.015158437), ('color_moments_lab_B_var', 0.014545923), ('glcm_energy_dist_1_angle_0', 0.01342775), ('fourier_transform_magnitude_std', 0.01133845), ('color_moments_lab_B_std', 0.011129492), ('lbp_rad2_bins16_8', 0.010711198)]\n",
      "INFO:utils.ml:Fitted classifier: XGBClassifier16; Done in 14.880269527435303 seconds\n",
      "INFO:utils.ml:Fitting classifier: XGBClassifier17\n",
      "INFO:utils.ml:Top 10 features for XGBClassifier17: [('color_moments_rgb_B_std', 0.04701994), ('color_moments_rgb_R_iqr', 0.026336096), ('color_moments_hsv_H_median', 0.025167944), ('color_moments_rgb_B_var', 0.018785615), ('glcm_energy_dist_1_angle_0', 0.017859243), ('lbp_rad4_bins32_32', 0.014956508), ('color_moments_lab_B_var', 0.013386933), ('color_moments_lab_L_std', 0.011700416), ('lbp_rad1_bins8_4', 0.011184626), ('color_moments_lab_B_std', 0.011107257)]\n",
      "INFO:utils.ml:Fitted classifier: XGBClassifier17; Done in 11.476946115493774 seconds\n",
      "INFO:utils.ml:Fitting classifier: XGBClassifier18\n",
      "INFO:utils.ml:Top 10 features for XGBClassifier18: [('color_moments_rgb_B_std', 0.047861066), ('color_moments_rgb_R_iqr', 0.02684331), ('color_moments_hsv_H_median', 0.025454989), ('glcm_energy_dist_1_angle_0', 0.018156517), ('color_moments_rgb_B_var', 0.017920367), ('lbp_rad4_bins32_32', 0.015456019), ('color_moments_lab_B_var', 0.013530674), ('color_moments_lab_L_std', 0.011797145), ('color_moments_lab_B_std', 0.011299643), ('lbp_rad1_bins8_4', 0.011108931)]\n",
      "INFO:utils.ml:Fitted classifier: XGBClassifier18; Done in 12.692410230636597 seconds\n",
      "INFO:utils.ml:Fitting completed in 306.02 seconds.\n"
     ]
    }
   ],
   "execution_count": 17
  },
  {
   "metadata": {
    "ExecuteTime": {
     "end_time": "2024-11-03T12:41:02.172531Z",
     "start_time": "2024-11-03T12:38:56.047158Z"
    }
   },
   "cell_type": "code",
   "source": "pipeline.predict_with_classifiers(VAL_PATH, percent)",
   "id": "156c56b343fa5df1",
   "outputs": [
    {
     "name": "stderr",
     "output_type": "stream",
     "text": [
      "INFO:utils.ml:Predicting with classifiers on dataset: C:\\Users\\gimes\\Src\\repos\\CADx-Project\\dataset\\multiclass\\val\n"
     ]
    },
    {
     "name": "stdout",
     "output_type": "stream",
     "text": [
      "Processed 5/53 batches.\n",
      "Processed 10/53 batches.\n",
      "Processed 15/53 batches.\n",
      "Processed 20/53 batches.\n",
      "Processed 25/53 batches.\n",
      "Processed 30/53 batches.\n",
      "Processed 35/53 batches.\n",
      "Processed 40/53 batches.\n",
      "Processed 45/53 batches.\n",
      "Processed 50/53 batches.\n"
     ]
    },
    {
     "name": "stderr",
     "output_type": "stream",
     "text": [
      "INFO:utils.ml:Predictions made with classifier: RandomForestClassifier0\n",
      "INFO:utils.ml:Predictions made with classifier: RandomForestClassifier1\n",
      "INFO:utils.ml:Predictions made with classifier: RandomForestClassifier2\n",
      "INFO:utils.ml:Predictions made with classifier: RandomForestClassifier3\n",
      "INFO:utils.ml:Predictions made with classifier: RandomForestClassifier4\n",
      "INFO:utils.ml:Predictions made with classifier: RandomForestClassifier5\n"
     ]
    },
    {
     "name": "stdout",
     "output_type": "stream",
     "text": [
      "Processed 53/53 batches.\n"
     ]
    },
    {
     "name": "stderr",
     "output_type": "stream",
     "text": [
      "INFO:utils.ml:Predictions made with classifier: RandomForestClassifier6\n",
      "INFO:utils.ml:Predictions made with classifier: RandomForestClassifier7\n",
      "INFO:utils.ml:Predictions made with classifier: XGBClassifier8\n",
      "INFO:utils.ml:Predictions made with classifier: XGBClassifier9\n",
      "INFO:utils.ml:Predictions made with classifier: XGBClassifier10\n",
      "INFO:utils.ml:Predictions made with classifier: XGBClassifier11\n",
      "INFO:utils.ml:Predictions made with classifier: XGBClassifier12\n",
      "INFO:utils.ml:Predictions made with classifier: XGBClassifier13\n",
      "INFO:utils.ml:Predictions made with classifier: XGBClassifier14\n",
      "INFO:utils.ml:Predictions made with classifier: XGBClassifier15\n",
      "INFO:utils.ml:Predictions made with classifier: XGBClassifier16\n",
      "INFO:utils.ml:Predictions made with classifier: XGBClassifier17\n",
      "INFO:utils.ml:Predictions made with classifier: XGBClassifier18\n"
     ]
    },
    {
     "data": {
      "text/plain": [
       "{'GT': array([0, 0, 0, ..., 2, 2, 2]),\n",
       " 'RandomForestClassifier0': array([0, 0, 2, ..., 1, 0, 0]),\n",
       " 'RandomForestClassifier1': array([0, 0, 2, ..., 1, 0, 0]),\n",
       " 'RandomForestClassifier2': array([0, 0, 2, ..., 1, 0, 0]),\n",
       " 'RandomForestClassifier3': array([0, 0, 2, ..., 1, 0, 0]),\n",
       " 'RandomForestClassifier4': array([0, 0, 2, ..., 1, 0, 0]),\n",
       " 'RandomForestClassifier5': array([0, 0, 2, ..., 1, 0, 0]),\n",
       " 'RandomForestClassifier6': array([0, 0, 2, ..., 1, 0, 0]),\n",
       " 'RandomForestClassifier7': array([0, 0, 2, ..., 1, 0, 0]),\n",
       " 'XGBClassifier8': array([0, 0, 0, ..., 1, 0, 0], dtype=int64),\n",
       " 'XGBClassifier9': array([0, 0, 0, ..., 1, 0, 0], dtype=int64),\n",
       " 'XGBClassifier10': array([0, 0, 0, ..., 1, 0, 0], dtype=int64),\n",
       " 'XGBClassifier11': array([0, 0, 2, ..., 0, 0, 0], dtype=int64),\n",
       " 'XGBClassifier12': array([0, 0, 0, ..., 1, 2, 0], dtype=int64),\n",
       " 'XGBClassifier13': array([0, 0, 0, ..., 1, 0, 0], dtype=int64),\n",
       " 'XGBClassifier14': array([0, 0, 0, ..., 1, 0, 0], dtype=int64),\n",
       " 'XGBClassifier15': array([0, 0, 0, ..., 1, 0, 0], dtype=int64),\n",
       " 'XGBClassifier16': array([0, 0, 0, ..., 1, 0, 0], dtype=int64),\n",
       " 'XGBClassifier17': array([0, 0, 0, ..., 1, 0, 0], dtype=int64),\n",
       " 'XGBClassifier18': array([0, 0, 0, ..., 1, 0, 0], dtype=int64)}"
      ]
     },
     "execution_count": 18,
     "metadata": {},
     "output_type": "execute_result"
    }
   ],
   "execution_count": 18
  },
  {
   "metadata": {
    "ExecuteTime": {
     "end_time": "2024-11-03T12:41:02.344972Z",
     "start_time": "2024-11-03T12:41:02.198114Z"
    }
   },
   "cell_type": "code",
   "source": [
    "df_borderline_smote = pd.DataFrame(data=pipeline.calculate_metrics(\n",
    "    [\"accuracy\", \"precision\", \"recall\", \"f1\", \"kappa\"],))\n",
    "df_borderline_smote = df_borderline_smote.T\n",
    "df_borderline_smote"
   ],
   "id": "dec33139485e5176",
   "outputs": [
    {
     "name": "stderr",
     "output_type": "stream",
     "text": [
      "INFO:utils.ml:Metrics for classifier GT: {'accuracy': 1.0, 'precision': 1.0, 'recall': 1.0, 'f1': 1.0, 'kappa': 1.0}\n",
      "INFO:utils.ml:Metrics for classifier RandomForestClassifier0: {'accuracy': 0.805511811023622, 'precision': 0.682276547368795, 'recall': 0.6760381134151872, 'f1': 0.6774160103754335, 'kappa': 0.6517465406682417}\n",
      "INFO:utils.ml:Metrics for classifier RandomForestClassifier1: {'accuracy': 0.8173228346456692, 'precision': 0.6950056705363812, 'recall': 0.6871780097229437, 'f1': 0.6895272641818329, 'kappa': 0.672224521308076}\n",
      "INFO:utils.ml:Metrics for classifier RandomForestClassifier2: {'accuracy': 0.8086614173228347, 'precision': 0.6887340627489683, 'recall': 0.6824807546258592, 'f1': 0.6833040868754461, 'kappa': 0.6581377418768803}\n",
      "INFO:utils.ml:Metrics for classifier RandomForestClassifier3: {'accuracy': 0.8307086614173228, 'precision': 0.7192562059973554, 'recall': 0.6937253816622165, 'f1': 0.7023554618930842, 'kappa': 0.6939024882403849}\n",
      "INFO:utils.ml:Metrics for classifier RandomForestClassifier4: {'accuracy': 0.8070866141732284, 'precision': 0.682329735556053, 'recall': 0.6771990995425875, 'f1': 0.678134598221146, 'kappa': 0.6547212691254345}\n",
      "INFO:utils.ml:Metrics for classifier RandomForestClassifier5: {'accuracy': 0.8291338582677166, 'precision': 0.7221753930128806, 'recall': 0.6837564278327141, 'f1': 0.6954170636313791, 'kappa': 0.6896019642736467}\n",
      "INFO:utils.ml:Metrics for classifier RandomForestClassifier6: {'accuracy': 0.8062992125984252, 'precision': 0.6805315937947997, 'recall': 0.6713093508786921, 'f1': 0.6735116010320904, 'kappa': 0.652741653661985}\n",
      "INFO:utils.ml:Metrics for classifier RandomForestClassifier7: {'accuracy': 0.8346456692913385, 'precision': 0.7342573342573342, 'recall': 0.6995934532077976, 'f1': 0.7112193510554249, 'kappa': 0.7002360346184107}\n",
      "INFO:utils.ml:Metrics for classifier XGBClassifier8: {'accuracy': 0.8456692913385827, 'precision': 0.7406204906204906, 'recall': 0.7118745489710049, 'f1': 0.7228872089890489, 'kappa': 0.7196089033072002}\n",
      "INFO:utils.ml:Metrics for classifier XGBClassifier9: {'accuracy': 0.8480314960629921, 'precision': 0.7507056549388199, 'recall': 0.7196360915954032, 'f1': 0.7316143132804692, 'kappa': 0.7239565736423632}\n",
      "INFO:utils.ml:Metrics for classifier XGBClassifier10: {'accuracy': 0.8472440944881889, 'precision': 0.7502967778524442, 'recall': 0.7216658008422318, 'f1': 0.7330681821299719, 'kappa': 0.7226100192747644}\n",
      "INFO:utils.ml:Metrics for classifier XGBClassifier11: {'accuracy': 0.8, 'precision': 0.661290527342643, 'recall': 0.6762177058198274, 'f1': 0.6671298904015982, 'kappa': 0.6466828184761513}\n",
      "INFO:utils.ml:Metrics for classifier XGBClassifier12: {'accuracy': 0.8448818897637795, 'precision': 0.7368530775740214, 'recall': 0.7144373640926601, 'f1': 0.7233151363874623, 'kappa': 0.7189747898404539}\n",
      "INFO:utils.ml:Metrics for classifier XGBClassifier13: {'accuracy': 0.84251968503937, 'precision': 0.7242293960822584, 'recall': 0.7070312253848129, 'f1': 0.7137916165720576, 'kappa': 0.7151840538952505}\n",
      "INFO:utils.ml:Metrics for classifier XGBClassifier14: {'accuracy': 0.8456692913385827, 'precision': 0.7293730011157281, 'recall': 0.7149290061772225, 'f1': 0.7208009207918566, 'kappa': 0.7213153663921469}\n",
      "INFO:utils.ml:Metrics for classifier XGBClassifier15: {'accuracy': 0.8543307086614174, 'precision': 0.7548460449909725, 'recall': 0.717993419734294, 'f1': 0.7315523037389354, 'kappa': 0.7347008369429227}\n",
      "INFO:utils.ml:Metrics for classifier XGBClassifier16: {'accuracy': 0.8480314960629921, 'precision': 0.7421778014238302, 'recall': 0.7137048791412433, 'f1': 0.7245241272336492, 'kappa': 0.7240684453450411}\n",
      "INFO:utils.ml:Metrics for classifier XGBClassifier17: {'accuracy': 0.8519685039370078, 'precision': 0.7534624661281234, 'recall': 0.7201060565616512, 'f1': 0.7324824639305506, 'kappa': 0.7310813063438502}\n",
      "INFO:utils.ml:Metrics for classifier XGBClassifier18: {'accuracy': 0.8519685039370078, 'precision': 0.7513596489622496, 'recall': 0.7201060565616512, 'f1': 0.7317970704694257, 'kappa': 0.7312580759897167}\n"
     ]
    },
    {
     "data": {
      "text/plain": [
       "                         accuracy  precision    recall        f1     kappa\n",
       "GT                       1.000000   1.000000  1.000000  1.000000  1.000000\n",
       "RandomForestClassifier0  0.805512   0.682277  0.676038  0.677416  0.651747\n",
       "RandomForestClassifier1  0.817323   0.695006  0.687178  0.689527  0.672225\n",
       "RandomForestClassifier2  0.808661   0.688734  0.682481  0.683304  0.658138\n",
       "RandomForestClassifier3  0.830709   0.719256  0.693725  0.702355  0.693902\n",
       "RandomForestClassifier4  0.807087   0.682330  0.677199  0.678135  0.654721\n",
       "RandomForestClassifier5  0.829134   0.722175  0.683756  0.695417  0.689602\n",
       "RandomForestClassifier6  0.806299   0.680532  0.671309  0.673512  0.652742\n",
       "RandomForestClassifier7  0.834646   0.734257  0.699593  0.711219  0.700236\n",
       "XGBClassifier8           0.845669   0.740620  0.711875  0.722887  0.719609\n",
       "XGBClassifier9           0.848031   0.750706  0.719636  0.731614  0.723957\n",
       "XGBClassifier10          0.847244   0.750297  0.721666  0.733068  0.722610\n",
       "XGBClassifier11          0.800000   0.661291  0.676218  0.667130  0.646683\n",
       "XGBClassifier12          0.844882   0.736853  0.714437  0.723315  0.718975\n",
       "XGBClassifier13          0.842520   0.724229  0.707031  0.713792  0.715184\n",
       "XGBClassifier14          0.845669   0.729373  0.714929  0.720801  0.721315\n",
       "XGBClassifier15          0.854331   0.754846  0.717993  0.731552  0.734701\n",
       "XGBClassifier16          0.848031   0.742178  0.713705  0.724524  0.724068\n",
       "XGBClassifier17          0.851969   0.753462  0.720106  0.732482  0.731081\n",
       "XGBClassifier18          0.851969   0.751360  0.720106  0.731797  0.731258"
      ],
      "text/html": [
       "<div>\n",
       "<style scoped>\n",
       "    .dataframe tbody tr th:only-of-type {\n",
       "        vertical-align: middle;\n",
       "    }\n",
       "\n",
       "    .dataframe tbody tr th {\n",
       "        vertical-align: top;\n",
       "    }\n",
       "\n",
       "    .dataframe thead th {\n",
       "        text-align: right;\n",
       "    }\n",
       "</style>\n",
       "<table border=\"1\" class=\"dataframe\">\n",
       "  <thead>\n",
       "    <tr style=\"text-align: right;\">\n",
       "      <th></th>\n",
       "      <th>accuracy</th>\n",
       "      <th>precision</th>\n",
       "      <th>recall</th>\n",
       "      <th>f1</th>\n",
       "      <th>kappa</th>\n",
       "    </tr>\n",
       "  </thead>\n",
       "  <tbody>\n",
       "    <tr>\n",
       "      <th>GT</th>\n",
       "      <td>1.000000</td>\n",
       "      <td>1.000000</td>\n",
       "      <td>1.000000</td>\n",
       "      <td>1.000000</td>\n",
       "      <td>1.000000</td>\n",
       "    </tr>\n",
       "    <tr>\n",
       "      <th>RandomForestClassifier0</th>\n",
       "      <td>0.805512</td>\n",
       "      <td>0.682277</td>\n",
       "      <td>0.676038</td>\n",
       "      <td>0.677416</td>\n",
       "      <td>0.651747</td>\n",
       "    </tr>\n",
       "    <tr>\n",
       "      <th>RandomForestClassifier1</th>\n",
       "      <td>0.817323</td>\n",
       "      <td>0.695006</td>\n",
       "      <td>0.687178</td>\n",
       "      <td>0.689527</td>\n",
       "      <td>0.672225</td>\n",
       "    </tr>\n",
       "    <tr>\n",
       "      <th>RandomForestClassifier2</th>\n",
       "      <td>0.808661</td>\n",
       "      <td>0.688734</td>\n",
       "      <td>0.682481</td>\n",
       "      <td>0.683304</td>\n",
       "      <td>0.658138</td>\n",
       "    </tr>\n",
       "    <tr>\n",
       "      <th>RandomForestClassifier3</th>\n",
       "      <td>0.830709</td>\n",
       "      <td>0.719256</td>\n",
       "      <td>0.693725</td>\n",
       "      <td>0.702355</td>\n",
       "      <td>0.693902</td>\n",
       "    </tr>\n",
       "    <tr>\n",
       "      <th>RandomForestClassifier4</th>\n",
       "      <td>0.807087</td>\n",
       "      <td>0.682330</td>\n",
       "      <td>0.677199</td>\n",
       "      <td>0.678135</td>\n",
       "      <td>0.654721</td>\n",
       "    </tr>\n",
       "    <tr>\n",
       "      <th>RandomForestClassifier5</th>\n",
       "      <td>0.829134</td>\n",
       "      <td>0.722175</td>\n",
       "      <td>0.683756</td>\n",
       "      <td>0.695417</td>\n",
       "      <td>0.689602</td>\n",
       "    </tr>\n",
       "    <tr>\n",
       "      <th>RandomForestClassifier6</th>\n",
       "      <td>0.806299</td>\n",
       "      <td>0.680532</td>\n",
       "      <td>0.671309</td>\n",
       "      <td>0.673512</td>\n",
       "      <td>0.652742</td>\n",
       "    </tr>\n",
       "    <tr>\n",
       "      <th>RandomForestClassifier7</th>\n",
       "      <td>0.834646</td>\n",
       "      <td>0.734257</td>\n",
       "      <td>0.699593</td>\n",
       "      <td>0.711219</td>\n",
       "      <td>0.700236</td>\n",
       "    </tr>\n",
       "    <tr>\n",
       "      <th>XGBClassifier8</th>\n",
       "      <td>0.845669</td>\n",
       "      <td>0.740620</td>\n",
       "      <td>0.711875</td>\n",
       "      <td>0.722887</td>\n",
       "      <td>0.719609</td>\n",
       "    </tr>\n",
       "    <tr>\n",
       "      <th>XGBClassifier9</th>\n",
       "      <td>0.848031</td>\n",
       "      <td>0.750706</td>\n",
       "      <td>0.719636</td>\n",
       "      <td>0.731614</td>\n",
       "      <td>0.723957</td>\n",
       "    </tr>\n",
       "    <tr>\n",
       "      <th>XGBClassifier10</th>\n",
       "      <td>0.847244</td>\n",
       "      <td>0.750297</td>\n",
       "      <td>0.721666</td>\n",
       "      <td>0.733068</td>\n",
       "      <td>0.722610</td>\n",
       "    </tr>\n",
       "    <tr>\n",
       "      <th>XGBClassifier11</th>\n",
       "      <td>0.800000</td>\n",
       "      <td>0.661291</td>\n",
       "      <td>0.676218</td>\n",
       "      <td>0.667130</td>\n",
       "      <td>0.646683</td>\n",
       "    </tr>\n",
       "    <tr>\n",
       "      <th>XGBClassifier12</th>\n",
       "      <td>0.844882</td>\n",
       "      <td>0.736853</td>\n",
       "      <td>0.714437</td>\n",
       "      <td>0.723315</td>\n",
       "      <td>0.718975</td>\n",
       "    </tr>\n",
       "    <tr>\n",
       "      <th>XGBClassifier13</th>\n",
       "      <td>0.842520</td>\n",
       "      <td>0.724229</td>\n",
       "      <td>0.707031</td>\n",
       "      <td>0.713792</td>\n",
       "      <td>0.715184</td>\n",
       "    </tr>\n",
       "    <tr>\n",
       "      <th>XGBClassifier14</th>\n",
       "      <td>0.845669</td>\n",
       "      <td>0.729373</td>\n",
       "      <td>0.714929</td>\n",
       "      <td>0.720801</td>\n",
       "      <td>0.721315</td>\n",
       "    </tr>\n",
       "    <tr>\n",
       "      <th>XGBClassifier15</th>\n",
       "      <td>0.854331</td>\n",
       "      <td>0.754846</td>\n",
       "      <td>0.717993</td>\n",
       "      <td>0.731552</td>\n",
       "      <td>0.734701</td>\n",
       "    </tr>\n",
       "    <tr>\n",
       "      <th>XGBClassifier16</th>\n",
       "      <td>0.848031</td>\n",
       "      <td>0.742178</td>\n",
       "      <td>0.713705</td>\n",
       "      <td>0.724524</td>\n",
       "      <td>0.724068</td>\n",
       "    </tr>\n",
       "    <tr>\n",
       "      <th>XGBClassifier17</th>\n",
       "      <td>0.851969</td>\n",
       "      <td>0.753462</td>\n",
       "      <td>0.720106</td>\n",
       "      <td>0.732482</td>\n",
       "      <td>0.731081</td>\n",
       "    </tr>\n",
       "    <tr>\n",
       "      <th>XGBClassifier18</th>\n",
       "      <td>0.851969</td>\n",
       "      <td>0.751360</td>\n",
       "      <td>0.720106</td>\n",
       "      <td>0.731797</td>\n",
       "      <td>0.731258</td>\n",
       "    </tr>\n",
       "  </tbody>\n",
       "</table>\n",
       "</div>"
      ]
     },
     "execution_count": 19,
     "metadata": {},
     "output_type": "execute_result"
    }
   ],
   "execution_count": 19
  },
  {
   "metadata": {
    "ExecuteTime": {
     "end_time": "2024-11-03T12:41:02.543998Z",
     "start_time": "2024-11-03T12:41:02.535192Z"
    }
   },
   "cell_type": "code",
   "source": [
    "highest = df_borderline_smote[df_borderline_smote[\"kappa\"] == df_borderline_smote.iloc[1:][\"kappa\"].max()]\n",
    "idx = highest.index[0]\n",
    "\n",
    "confusion_matrix(pipeline.predictions[\"GT\"], pipeline.predictions[idx])"
   ],
   "id": "5e3d245571ac5c69",
   "outputs": [
    {
     "data": {
      "text/plain": [
       "array([[437,  40,  21],\n",
       "       [ 55, 613,  10],\n",
       "       [ 37,  22,  35]], dtype=int64)"
      ]
     },
     "execution_count": 20,
     "metadata": {},
     "output_type": "execute_result"
    }
   ],
   "execution_count": 20
  },
  {
   "metadata": {},
   "cell_type": "markdown",
   "source": "",
   "id": "4177e527fe0edeb1"
  },
  {
   "metadata": {},
   "cell_type": "markdown",
   "source": [
    "___\n",
    "# PCA"
   ],
   "id": "ba27735e389e88cf"
  },
  {
   "metadata": {
    "ExecuteTime": {
     "end_time": "2024-11-03T12:43:46.499551Z",
     "start_time": "2024-11-03T12:41:02.583972Z"
    }
   },
   "cell_type": "code",
   "source": [
    "from sklearn.decomposition import PCA\n",
    "from imblearn.over_sampling import BorderlineSMOTE\n",
    "smote = BorderlineSMOTE(sampling_strategy='auto', random_state=42)\n",
    "\n",
    "pipeline.feature_matrix, pipeline.labels = smote.fit_resample(\n",
    "    np.nan_to_num(pipeline.backup_feature_matrix), pipeline.backup_labels)\n",
    "\n",
    "pca = PCA(n_components=100)\n",
    "\n",
    "pipeline.feature_matrix = pca.fit_transform(pipeline.feature_matrix, pipeline.labels)\n",
    "\n",
    "print(pipeline.backup_feature_matrix.shape)\n",
    "print(pipeline.feature_matrix.shape)\n",
    "\n",
    "print(pipeline.backup_labels.shape)\n",
    "print(pipeline.labels.shape)\n",
    "\n",
    "print(pca.get_feature_names_out())\n",
    "\n",
    "pipeline.fitted_classifiers = {}\n",
    "pipeline.fit_classifiers()"
   ],
   "id": "7f3f0be89a7b9f88",
   "outputs": [
    {
     "name": "stderr",
     "output_type": "stream",
     "text": [
      "INFO:utils.ml:Fitting classifiers...\n",
      "INFO:utils.ml:Fitting classifier: RandomForestClassifier0\n"
     ]
    },
    {
     "name": "stdout",
     "output_type": "stream",
     "text": [
      "(5082, 189)\n",
      "(8139, 100)\n",
      "(5082,)\n",
      "(8139,)\n",
      "['pca0' 'pca1' 'pca2' 'pca3' 'pca4' 'pca5' 'pca6' 'pca7' 'pca8' 'pca9'\n",
      " 'pca10' 'pca11' 'pca12' 'pca13' 'pca14' 'pca15' 'pca16' 'pca17' 'pca18'\n",
      " 'pca19' 'pca20' 'pca21' 'pca22' 'pca23' 'pca24' 'pca25' 'pca26' 'pca27'\n",
      " 'pca28' 'pca29' 'pca30' 'pca31' 'pca32' 'pca33' 'pca34' 'pca35' 'pca36'\n",
      " 'pca37' 'pca38' 'pca39' 'pca40' 'pca41' 'pca42' 'pca43' 'pca44' 'pca45'\n",
      " 'pca46' 'pca47' 'pca48' 'pca49' 'pca50' 'pca51' 'pca52' 'pca53' 'pca54'\n",
      " 'pca55' 'pca56' 'pca57' 'pca58' 'pca59' 'pca60' 'pca61' 'pca62' 'pca63'\n",
      " 'pca64' 'pca65' 'pca66' 'pca67' 'pca68' 'pca69' 'pca70' 'pca71' 'pca72'\n",
      " 'pca73' 'pca74' 'pca75' 'pca76' 'pca77' 'pca78' 'pca79' 'pca80' 'pca81'\n",
      " 'pca82' 'pca83' 'pca84' 'pca85' 'pca86' 'pca87' 'pca88' 'pca89' 'pca90'\n",
      " 'pca91' 'pca92' 'pca93' 'pca94' 'pca95' 'pca96' 'pca97' 'pca98' 'pca99']\n"
     ]
    },
    {
     "name": "stderr",
     "output_type": "stream",
     "text": [
      "INFO:utils.ml:Top 10 features for RandomForestClassifier0: [('gradient_magnitude_std', 0.04971835613540176), ('gradient_direction_mean', 0.04478021265734986), ('color_moments_rgb_R_var', 0.03327746212701115), ('color_moments_rgb_R_median', 0.025814085174920478), ('color_moments_rgb_R_std', 0.02150431385185512), ('gradient_direction_std', 0.020036727681335586), ('color_moments_rgb_G_iqr', 0.01901756595528073), ('color_moments_rgb_R_skew', 0.01859483067717707), ('color_moments_lab_L_skew', 0.015990141537534246), ('color_moments_rgb_B_std', 0.015031558313582476)]\n",
      "INFO:utils.ml:Fitted classifier: RandomForestClassifier0; Done in 9.932084798812866 seconds\n",
      "INFO:utils.ml:Fitting classifier: RandomForestClassifier1\n",
      "INFO:utils.ml:Top 10 features for RandomForestClassifier1: [('gradient_magnitude_std', 0.052061676830491455), ('gradient_direction_mean', 0.04142272971014154), ('color_moments_rgb_R_var', 0.03509320283291889), ('color_moments_rgb_R_median', 0.025364740889965265), ('gradient_direction_std', 0.02263095752052921), ('color_moments_rgb_R_std', 0.02104839827731224), ('color_moments_rgb_G_iqr', 0.01925641547308392), ('color_moments_rgb_R_skew', 0.01781100112122562), ('color_moments_rgb_R_kurtosis', 0.017024990249125044), ('color_moments_lab_L_skew', 0.015579583718652264)]\n",
      "INFO:utils.ml:Fitted classifier: RandomForestClassifier1; Done in 15.487281560897827 seconds\n",
      "INFO:utils.ml:Fitting classifier: RandomForestClassifier2\n",
      "INFO:utils.ml:Top 10 features for RandomForestClassifier2: [('gradient_magnitude_std', 0.055056624398058716), ('color_moments_rgb_R_var', 0.03716125129484047), ('gradient_direction_mean', 0.03582495519083558), ('gradient_direction_std', 0.02394559985177961), ('color_moments_rgb_R_median', 0.02256670214748314), ('color_moments_rgb_R_std', 0.02074404205070763), ('color_moments_rgb_G_iqr', 0.019780982535876273), ('color_moments_rgb_R_skew', 0.01633587380740049), ('color_moments_rgb_R_kurtosis', 0.0161040631519652), ('color_moments_lab_L_skew', 0.014787273011269092)]\n",
      "INFO:utils.ml:Fitted classifier: RandomForestClassifier2; Done in 10.178438425064087 seconds\n",
      "INFO:utils.ml:Fitting classifier: RandomForestClassifier3\n",
      "INFO:utils.ml:Top 10 features for RandomForestClassifier3: [('gradient_magnitude_std', 0.05600015083438231), ('gradient_direction_mean', 0.041287441618471636), ('color_moments_rgb_R_var', 0.0367563814654621), ('color_moments_rgb_R_median', 0.02523468061714113), ('gradient_direction_std', 0.024472276673127884), ('color_moments_rgb_R_std', 0.02298267387307129), ('color_moments_rgb_G_iqr', 0.01934839852506444), ('color_moments_rgb_R_skew', 0.01612599578297963), ('color_moments_lab_L_skew', 0.015174576436078549), ('color_moments_lab_L_iqr', 0.014743505698024024)]\n",
      "INFO:utils.ml:Fitted classifier: RandomForestClassifier3; Done in 12.797507286071777 seconds\n",
      "INFO:utils.ml:Fitting classifier: RandomForestClassifier4\n",
      "INFO:utils.ml:Top 10 features for RandomForestClassifier4: [('gradient_magnitude_std', 0.053979749995276695), ('gradient_direction_mean', 0.03816246568318855), ('color_moments_rgb_R_var', 0.03519781647693511), ('gradient_direction_std', 0.024506139488694317), ('color_moments_rgb_R_median', 0.024327294635131537), ('color_moments_rgb_R_std', 0.021311619561340017), ('color_moments_rgb_G_iqr', 0.019625904415151173), ('color_moments_lab_L_skew', 0.015723194928792338), ('color_moments_rgb_R_skew', 0.01543853157282755), ('color_moments_rgb_R_kurtosis', 0.015408871537141884)]\n",
      "INFO:utils.ml:Fitted classifier: RandomForestClassifier4; Done in 10.986215591430664 seconds\n",
      "INFO:utils.ml:Fitting classifier: RandomForestClassifier5\n",
      "INFO:utils.ml:Top 10 features for RandomForestClassifier5: [('gradient_magnitude_std', 0.05557512820873621), ('gradient_direction_mean', 0.04110878620704635), ('color_moments_rgb_R_var', 0.03603349076316397), ('color_moments_rgb_R_median', 0.02483253307546192), ('gradient_direction_std', 0.024718702447097122), ('color_moments_rgb_R_std', 0.022941437400153405), ('color_moments_rgb_G_iqr', 0.019674303169019147), ('color_moments_rgb_R_skew', 0.016400399020217653), ('color_moments_lab_L_skew', 0.01574102945854368), ('color_moments_lab_L_iqr', 0.014992502056099815)]\n",
      "INFO:utils.ml:Fitted classifier: RandomForestClassifier5; Done in 16.04069948196411 seconds\n",
      "INFO:utils.ml:Fitting classifier: RandomForestClassifier6\n",
      "INFO:utils.ml:Top 10 features for RandomForestClassifier6: [('gradient_magnitude_std', 0.05345297224879021), ('gradient_direction_mean', 0.03978529945275043), ('color_moments_rgb_R_var', 0.03563647287751451), ('gradient_direction_std', 0.023975543836481924), ('color_moments_rgb_R_median', 0.023767232383598628), ('color_moments_rgb_R_std', 0.020865585244037803), ('color_moments_rgb_G_iqr', 0.019839314044536444), ('color_moments_rgb_R_skew', 0.015593047318970267), ('color_moments_lab_L_skew', 0.015530857278632097), ('color_moments_lab_L_iqr', 0.015274726568615673)]\n",
      "INFO:utils.ml:Fitted classifier: RandomForestClassifier6; Done in 14.512009382247925 seconds\n",
      "INFO:utils.ml:Fitting classifier: RandomForestClassifier7\n",
      "INFO:utils.ml:Top 10 features for RandomForestClassifier7: [('gradient_magnitude_std', 0.05482967816659308), ('gradient_direction_mean', 0.042157387021848625), ('color_moments_rgb_R_var', 0.036889899021829736), ('gradient_direction_std', 0.024825869220939937), ('color_moments_rgb_R_median', 0.02433581508341638), ('color_moments_rgb_R_std', 0.022791176621960306), ('color_moments_rgb_G_iqr', 0.01927155715337095), ('color_moments_rgb_R_skew', 0.016293500307618062), ('color_moments_lab_L_skew', 0.015220554326680196), ('color_moments_lab_L_iqr', 0.015030685876557967)]\n",
      "INFO:utils.ml:Fitted classifier: RandomForestClassifier7; Done in 21.38435983657837 seconds\n",
      "INFO:utils.ml:Fitting classifier: XGBClassifier8\n",
      "INFO:utils.ml:Top 10 features for XGBClassifier8: [('gradient_magnitude_std', 0.04897241), ('color_moments_rgb_R_var', 0.039643805), ('gradient_direction_mean', 0.03506316), ('color_moments_rgb_R_std', 0.024910485), ('color_moments_rgb_R_median', 0.021348247), ('color_moments_lab_B_mean', 0.019821139), ('color_moments_rgb_G_iqr', 0.019529583), ('color_moments_rgb_B_min', 0.018757815), ('color_moments_rgb_B_mean', 0.01810809), ('color_moments_lab_L_skew', 0.017132405)]\n",
      "INFO:utils.ml:Fitted classifier: XGBClassifier8; Done in 3.1904406547546387 seconds\n",
      "INFO:utils.ml:Fitting classifier: XGBClassifier9\n",
      "INFO:utils.ml:Top 10 features for XGBClassifier9: [('gradient_magnitude_std', 0.0482517), ('color_moments_rgb_R_var', 0.040451363), ('gradient_direction_mean', 0.034937438), ('color_moments_rgb_R_std', 0.025154531), ('color_moments_rgb_R_median', 0.021114677), ('color_moments_lab_B_mean', 0.019963842), ('color_moments_rgb_G_iqr', 0.01983059), ('color_moments_rgb_B_min', 0.018469507), ('color_moments_rgb_B_mean', 0.018271556), ('color_moments_lab_L_skew', 0.01748805)]\n",
      "INFO:utils.ml:Fitted classifier: XGBClassifier9; Done in 4.171669006347656 seconds\n",
      "INFO:utils.ml:Fitting classifier: XGBClassifier10\n",
      "INFO:utils.ml:Top 10 features for XGBClassifier10: [('gradient_magnitude_std', 0.04697475), ('color_moments_rgb_R_var', 0.040809114), ('gradient_direction_mean', 0.034839626), ('color_moments_rgb_R_std', 0.025337428), ('color_moments_rgb_R_median', 0.021337813), ('color_moments_rgb_G_iqr', 0.020302974), ('color_moments_lab_B_mean', 0.02005806), ('color_moments_rgb_B_mean', 0.018618133), ('color_moments_rgb_B_min', 0.018408379), ('color_moments_lab_L_skew', 0.017410051)]\n",
      "INFO:utils.ml:Fitted classifier: XGBClassifier10; Done in 4.7990882396698 seconds\n",
      "INFO:utils.ml:Fitting classifier: XGBClassifier11\n",
      "INFO:utils.ml:Top 10 features for XGBClassifier11: [('gradient_magnitude_std', 0.0374591), ('color_moments_rgb_R_var', 0.030701585), ('gradient_direction_mean', 0.028042488), ('gradient_direction_std', 0.022590622), ('color_moments_rgb_R_median', 0.021882614), ('color_moments_rgb_R_std', 0.020541342), ('color_moments_lab_B_mean', 0.018621325), ('color_moments_lab_L_iqr', 0.017480748), ('color_moments_rgb_G_iqr', 0.01714025), ('color_moments_rgb_R_skew', 0.016739003)]\n",
      "INFO:utils.ml:Fitted classifier: XGBClassifier11; Done in 1.9826328754425049 seconds\n",
      "INFO:utils.ml:Fitting classifier: XGBClassifier12\n",
      "INFO:utils.ml:Top 10 features for XGBClassifier12: [('gradient_magnitude_std', 0.04103208), ('color_moments_rgb_R_var', 0.031071119), ('gradient_direction_mean', 0.030484853), ('color_moments_rgb_R_std', 0.020903332), ('gradient_direction_std', 0.019686257), ('color_moments_rgb_R_median', 0.01908888), ('color_moments_rgb_G_iqr', 0.017358366), ('color_moments_rgb_B_mean', 0.016291909), ('color_moments_lab_L_skew', 0.016289415), ('color_moments_lab_B_mean', 0.016131295)]\n",
      "INFO:utils.ml:Fitted classifier: XGBClassifier12; Done in 4.711918354034424 seconds\n",
      "INFO:utils.ml:Fitting classifier: XGBClassifier13\n",
      "INFO:utils.ml:Top 10 features for XGBClassifier13: [('gradient_magnitude_std', 0.042395663), ('gradient_direction_mean', 0.03252495), ('color_moments_rgb_R_var', 0.030410606), ('color_moments_rgb_R_median', 0.022682508), ('gradient_direction_std', 0.02146496), ('color_moments_rgb_R_std', 0.02133404), ('color_moments_lab_B_mean', 0.017592281), ('color_moments_rgb_G_iqr', 0.017178169), ('color_moments_rgb_B_mean', 0.01708739), ('color_moments_lab_L_iqr', 0.016804418)]\n",
      "INFO:utils.ml:Fitted classifier: XGBClassifier13; Done in 3.0601413249969482 seconds\n",
      "INFO:utils.ml:Fitting classifier: XGBClassifier14\n",
      "INFO:utils.ml:Top 10 features for XGBClassifier14: [('gradient_magnitude_std', 0.043112393), ('gradient_direction_mean', 0.035166416), ('color_moments_rgb_R_var', 0.0332025), ('color_moments_rgb_R_median', 0.024228072), ('color_moments_rgb_R_std', 0.022691954), ('gradient_direction_std', 0.02243054), ('color_moments_lab_B_mean', 0.017490944), ('color_moments_rgb_B_mean', 0.017265024), ('color_moments_rgb_G_iqr', 0.01698594), ('color_moments_lab_L_iqr', 0.016468685)]\n",
      "INFO:utils.ml:Fitted classifier: XGBClassifier14; Done in 3.4793739318847656 seconds\n",
      "INFO:utils.ml:Fitting classifier: XGBClassifier15\n",
      "INFO:utils.ml:Top 10 features for XGBClassifier15: [('gradient_magnitude_std', 0.040914156), ('gradient_direction_mean', 0.034099028), ('color_moments_rgb_R_var', 0.031384006), ('color_moments_rgb_R_std', 0.022816278), ('color_moments_rgb_R_median', 0.021097504), ('gradient_direction_std', 0.019328086), ('color_moments_rgb_G_iqr', 0.017325195), ('color_moments_rgb_B_mean', 0.017024934), ('color_moments_lab_B_mean', 0.016357804), ('color_moments_lab_L_skew', 0.015599298)]\n",
      "INFO:utils.ml:Fitted classifier: XGBClassifier15; Done in 8.656482934951782 seconds\n",
      "INFO:utils.ml:Fitting classifier: XGBClassifier16\n",
      "INFO:utils.ml:Top 10 features for XGBClassifier16: [('gradient_magnitude_std', 0.039884582), ('gradient_direction_mean', 0.033653352), ('color_moments_rgb_R_var', 0.031175962), ('color_moments_rgb_R_std', 0.022654694), ('color_moments_rgb_R_median', 0.020839754), ('gradient_direction_std', 0.019184573), ('color_moments_rgb_G_iqr', 0.01733209), ('color_moments_rgb_B_mean', 0.01671564), ('color_moments_lab_B_mean', 0.016694771), ('color_moments_lab_L_iqr', 0.015684)]\n",
      "INFO:utils.ml:Fitted classifier: XGBClassifier16; Done in 7.00518274307251 seconds\n",
      "INFO:utils.ml:Fitting classifier: XGBClassifier17\n",
      "INFO:utils.ml:Top 10 features for XGBClassifier17: [('gradient_magnitude_std', 0.040847518), ('gradient_direction_mean', 0.034924414), ('color_moments_rgb_R_var', 0.032581344), ('color_moments_rgb_R_median', 0.022123627), ('color_moments_rgb_R_std', 0.021277098), ('gradient_direction_std', 0.020324143), ('color_moments_rgb_B_mean', 0.018162865), ('color_moments_lab_B_mean', 0.01742077), ('color_moments_rgb_G_iqr', 0.016501866), ('color_moments_lab_L_iqr', 0.01629345)]\n",
      "INFO:utils.ml:Fitted classifier: XGBClassifier17; Done in 5.347803831100464 seconds\n",
      "INFO:utils.ml:Fitting classifier: XGBClassifier18\n",
      "INFO:utils.ml:Top 10 features for XGBClassifier18: [('gradient_magnitude_std', 0.041237887), ('gradient_direction_mean', 0.03505402), ('color_moments_rgb_R_var', 0.032790195), ('color_moments_rgb_R_median', 0.022462912), ('color_moments_rgb_R_std', 0.021469133), ('gradient_direction_std', 0.020373365), ('color_moments_rgb_B_mean', 0.018405437), ('color_moments_lab_B_mean', 0.017250547), ('color_moments_rgb_G_iqr', 0.016548268), ('color_moments_lab_L_iqr', 0.016157085)]\n",
      "INFO:utils.ml:Fitted classifier: XGBClassifier18; Done in 5.9453284740448 seconds\n",
      "INFO:utils.ml:Fitting completed in 163.70 seconds.\n"
     ]
    }
   ],
   "execution_count": 21
  },
  {
   "metadata": {
    "ExecuteTime": {
     "end_time": "2024-11-03T12:45:34.174654Z",
     "start_time": "2024-11-03T12:43:46.689551Z"
    }
   },
   "cell_type": "code",
   "source": [
    "# Load and extract features from the new dataset\n",
    "new_loader = FactoryLoader(path=VAL_PATH, factory=pipeline.loader.get_factory(),\n",
    "                           percentage=percent, batch_size=pipeline.batch_size)\n",
    "new_feature_matrix, new_labels = pipeline.feature_strategy.run(new_loader.get_loader())\n",
    "\n",
    "new_feature_matrix = np.nan_to_num(new_feature_matrix) # Impute nans\n",
    "new_feature_matrix = pca.transform(new_feature_matrix) # Impute nans\n",
    "\n",
    "# Store predictions in the class attribute\n",
    "pipeline.predictions = {\"GT\": new_labels, }\n",
    "for clf_name, clf in pipeline.fitted_classifiers.items():\n",
    "\n",
    "    pipeline.predictions[clf_name] = clf.predict(new_feature_matrix)\n",
    "    if pipeline.verbose:\n",
    "        logger.info(\"Predictions made with classifier: %s\", clf_name)\n"
   ],
   "id": "10f5e0c30ff726e6",
   "outputs": [
    {
     "name": "stdout",
     "output_type": "stream",
     "text": [
      "Processed 5/53 batches.\n",
      "Processed 10/53 batches.\n",
      "Processed 15/53 batches.\n",
      "Processed 20/53 batches.\n",
      "Processed 25/53 batches.\n",
      "Processed 30/53 batches.\n",
      "Processed 35/53 batches.\n",
      "Processed 40/53 batches.\n",
      "Processed 45/53 batches.\n",
      "Processed 50/53 batches.\n"
     ]
    },
    {
     "name": "stderr",
     "output_type": "stream",
     "text": [
      "INFO:utils.utils:Predictions made with classifier: RandomForestClassifier0\n",
      "INFO:utils.utils:Predictions made with classifier: RandomForestClassifier1\n",
      "INFO:utils.utils:Predictions made with classifier: RandomForestClassifier2\n",
      "INFO:utils.utils:Predictions made with classifier: RandomForestClassifier3\n",
      "INFO:utils.utils:Predictions made with classifier: RandomForestClassifier4\n",
      "INFO:utils.utils:Predictions made with classifier: RandomForestClassifier5\n",
      "INFO:utils.utils:Predictions made with classifier: RandomForestClassifier6\n"
     ]
    },
    {
     "name": "stdout",
     "output_type": "stream",
     "text": [
      "Processed 53/53 batches.\n"
     ]
    },
    {
     "name": "stderr",
     "output_type": "stream",
     "text": [
      "INFO:utils.utils:Predictions made with classifier: RandomForestClassifier7\n",
      "INFO:utils.utils:Predictions made with classifier: XGBClassifier8\n",
      "INFO:utils.utils:Predictions made with classifier: XGBClassifier9\n",
      "INFO:utils.utils:Predictions made with classifier: XGBClassifier10\n",
      "INFO:utils.utils:Predictions made with classifier: XGBClassifier11\n",
      "INFO:utils.utils:Predictions made with classifier: XGBClassifier12\n",
      "INFO:utils.utils:Predictions made with classifier: XGBClassifier13\n",
      "INFO:utils.utils:Predictions made with classifier: XGBClassifier14\n",
      "INFO:utils.utils:Predictions made with classifier: XGBClassifier15\n",
      "INFO:utils.utils:Predictions made with classifier: XGBClassifier16\n",
      "INFO:utils.utils:Predictions made with classifier: XGBClassifier17\n",
      "INFO:utils.utils:Predictions made with classifier: XGBClassifier18\n"
     ]
    }
   ],
   "execution_count": 22
  },
  {
   "metadata": {
    "ExecuteTime": {
     "end_time": "2024-11-03T12:45:34.445231Z",
     "start_time": "2024-11-03T12:45:34.349940Z"
    }
   },
   "cell_type": "code",
   "source": [
    "df_pca = pd.DataFrame(data=pipeline.calculate_metrics(avg=\"macro\"))\n",
    "df_pca = df_pca.T\n",
    "df_pca"
   ],
   "id": "bc7b72c1d262e670",
   "outputs": [
    {
     "name": "stderr",
     "output_type": "stream",
     "text": [
      "INFO:utils.ml:Metrics for classifier GT: {'accuracy': 1.0, 'precision': 1.0, 'recall': 1.0, 'f1': 1.0, 'kappa': 1.0}\n",
      "INFO:utils.ml:Metrics for classifier RandomForestClassifier0: {'accuracy': 0.7913385826771654, 'precision': 0.6726898418384816, 'recall': 0.6453077734902455, 'f1': 0.6545131081883088, 'kappa': 0.6200935571118306}\n",
      "INFO:utils.ml:Metrics for classifier RandomForestClassifier1: {'accuracy': 0.8031496062992126, 'precision': 0.7000194501905801, 'recall': 0.6573361795893798, 'f1': 0.6705809608974328, 'kappa': 0.6403032555104409}\n",
      "INFO:utils.ml:Metrics for classifier RandomForestClassifier2: {'accuracy': 0.7952755905511811, 'precision': 0.6775091290333669, 'recall': 0.6488321956627111, 'f1': 0.6582408405910258, 'kappa': 0.6272430889830125}\n",
      "INFO:utils.ml:Metrics for classifier RandomForestClassifier3: {'accuracy': 0.8, 'precision': 0.713995304154777, 'recall': 0.6473059752976634, 'f1': 0.6656451064645738, 'kappa': 0.6306736216379598}\n",
      "INFO:utils.ml:Metrics for classifier RandomForestClassifier4: {'accuracy': 0.8, 'precision': 0.6882524651480941, 'recall': 0.6523151540449125, 'f1': 0.6634424369679973, 'kappa': 0.6353281119994212}\n",
      "INFO:utils.ml:Metrics for classifier RandomForestClassifier5: {'accuracy': 0.805511811023622, 'precision': 0.7176841174324151, 'recall': 0.6546904368871961, 'f1': 0.6726136713792265, 'kappa': 0.6416265668627101}\n",
      "INFO:utils.ml:Metrics for classifier RandomForestClassifier6: {'accuracy': 0.8023622047244094, 'precision': 0.6797061405986923, 'recall': 0.6480365698027155, 'f1': 0.657534042699854, 'kappa': 0.6395619157029204}\n",
      "INFO:utils.ml:Metrics for classifier RandomForestClassifier7: {'accuracy': 0.8078740157480315, 'precision': 0.7162303822207713, 'recall': 0.6541771176843192, 'f1': 0.6710879719701284, 'kappa': 0.6463251507694836}\n",
      "INFO:utils.ml:Metrics for classifier XGBClassifier8: {'accuracy': 0.837007874015748, 'precision': 0.7299611502741857, 'recall': 0.6991136579204534, 'f1': 0.7108033777971626, 'kappa': 0.7030605467779318}\n",
      "INFO:utils.ml:Metrics for classifier XGBClassifier9: {'accuracy': 0.8346456692913385, 'precision': 0.7269929175636104, 'recall': 0.700693188872984, 'f1': 0.7109533802355305, 'kappa': 0.699473994978838}\n",
      "INFO:utils.ml:Metrics for classifier XGBClassifier10: {'accuracy': 0.8385826771653543, 'precision': 0.7353107781763617, 'recall': 0.7035068032123474, 'f1': 0.7155148766650044, 'kappa': 0.7061684867253841}\n",
      "INFO:utils.ml:Metrics for classifier XGBClassifier11: {'accuracy': 0.7771653543307087, 'precision': 0.6378055371665595, 'recall': 0.6544295552888766, 'f1': 0.64346906092957, 'kappa': 0.6087688208093492}\n",
      "INFO:utils.ml:Metrics for classifier XGBClassifier12: {'accuracy': 0.8393700787401575, 'precision': 0.7328000877101899, 'recall': 0.6948350736782567, 'f1': 0.708324346094226, 'kappa': 0.7063956519176984}\n",
      "INFO:utils.ml:Metrics for classifier XGBClassifier13: {'accuracy': 0.8354330708661417, 'precision': 0.7224873984791906, 'recall': 0.7006517250827197, 'f1': 0.709541625877867, 'kappa': 0.7010707978953439}\n",
      "INFO:utils.ml:Metrics for classifier XGBClassifier14: {'accuracy': 0.8346456692913385, 'precision': 0.7162568034707185, 'recall': 0.6917075192126063, 'f1': 0.7010697623894511, 'kappa': 0.6992150493977534}\n",
      "INFO:utils.ml:Metrics for classifier XGBClassifier15: {'accuracy': 0.8354330708661417, 'precision': 0.7247749445847463, 'recall': 0.6886115982161244, 'f1': 0.7013533838287471, 'kappa': 0.6993221352738872}\n",
      "INFO:utils.ml:Metrics for classifier XGBClassifier16: {'accuracy': 0.8346456692913385, 'precision': 0.7210158491979209, 'recall': 0.6915298172543309, 'f1': 0.7023356397293249, 'kappa': 0.6989257508229588}\n",
      "INFO:utils.ml:Metrics for classifier XGBClassifier17: {'accuracy': 0.8377952755905512, 'precision': 0.7259522199684473, 'recall': 0.6965508427987982, 'f1': 0.7076149334622484, 'kappa': 0.7045551048432996}\n",
      "INFO:utils.ml:Metrics for classifier XGBClassifier18: {'accuracy': 0.8440944881889764, 'precision': 0.7343438088710613, 'recall': 0.7011947873084, 'f1': 0.7133986928104575, 'kappa': 0.7156536370462172}\n"
     ]
    },
    {
     "data": {
      "text/plain": [
       "                         accuracy  precision    recall        f1     kappa\n",
       "GT                       1.000000   1.000000  1.000000  1.000000  1.000000\n",
       "RandomForestClassifier0  0.791339   0.672690  0.645308  0.654513  0.620094\n",
       "RandomForestClassifier1  0.803150   0.700019  0.657336  0.670581  0.640303\n",
       "RandomForestClassifier2  0.795276   0.677509  0.648832  0.658241  0.627243\n",
       "RandomForestClassifier3  0.800000   0.713995  0.647306  0.665645  0.630674\n",
       "RandomForestClassifier4  0.800000   0.688252  0.652315  0.663442  0.635328\n",
       "RandomForestClassifier5  0.805512   0.717684  0.654690  0.672614  0.641627\n",
       "RandomForestClassifier6  0.802362   0.679706  0.648037  0.657534  0.639562\n",
       "RandomForestClassifier7  0.807874   0.716230  0.654177  0.671088  0.646325\n",
       "XGBClassifier8           0.837008   0.729961  0.699114  0.710803  0.703061\n",
       "XGBClassifier9           0.834646   0.726993  0.700693  0.710953  0.699474\n",
       "XGBClassifier10          0.838583   0.735311  0.703507  0.715515  0.706168\n",
       "XGBClassifier11          0.777165   0.637806  0.654430  0.643469  0.608769\n",
       "XGBClassifier12          0.839370   0.732800  0.694835  0.708324  0.706396\n",
       "XGBClassifier13          0.835433   0.722487  0.700652  0.709542  0.701071\n",
       "XGBClassifier14          0.834646   0.716257  0.691708  0.701070  0.699215\n",
       "XGBClassifier15          0.835433   0.724775  0.688612  0.701353  0.699322\n",
       "XGBClassifier16          0.834646   0.721016  0.691530  0.702336  0.698926\n",
       "XGBClassifier17          0.837795   0.725952  0.696551  0.707615  0.704555\n",
       "XGBClassifier18          0.844094   0.734344  0.701195  0.713399  0.715654"
      ],
      "text/html": [
       "<div>\n",
       "<style scoped>\n",
       "    .dataframe tbody tr th:only-of-type {\n",
       "        vertical-align: middle;\n",
       "    }\n",
       "\n",
       "    .dataframe tbody tr th {\n",
       "        vertical-align: top;\n",
       "    }\n",
       "\n",
       "    .dataframe thead th {\n",
       "        text-align: right;\n",
       "    }\n",
       "</style>\n",
       "<table border=\"1\" class=\"dataframe\">\n",
       "  <thead>\n",
       "    <tr style=\"text-align: right;\">\n",
       "      <th></th>\n",
       "      <th>accuracy</th>\n",
       "      <th>precision</th>\n",
       "      <th>recall</th>\n",
       "      <th>f1</th>\n",
       "      <th>kappa</th>\n",
       "    </tr>\n",
       "  </thead>\n",
       "  <tbody>\n",
       "    <tr>\n",
       "      <th>GT</th>\n",
       "      <td>1.000000</td>\n",
       "      <td>1.000000</td>\n",
       "      <td>1.000000</td>\n",
       "      <td>1.000000</td>\n",
       "      <td>1.000000</td>\n",
       "    </tr>\n",
       "    <tr>\n",
       "      <th>RandomForestClassifier0</th>\n",
       "      <td>0.791339</td>\n",
       "      <td>0.672690</td>\n",
       "      <td>0.645308</td>\n",
       "      <td>0.654513</td>\n",
       "      <td>0.620094</td>\n",
       "    </tr>\n",
       "    <tr>\n",
       "      <th>RandomForestClassifier1</th>\n",
       "      <td>0.803150</td>\n",
       "      <td>0.700019</td>\n",
       "      <td>0.657336</td>\n",
       "      <td>0.670581</td>\n",
       "      <td>0.640303</td>\n",
       "    </tr>\n",
       "    <tr>\n",
       "      <th>RandomForestClassifier2</th>\n",
       "      <td>0.795276</td>\n",
       "      <td>0.677509</td>\n",
       "      <td>0.648832</td>\n",
       "      <td>0.658241</td>\n",
       "      <td>0.627243</td>\n",
       "    </tr>\n",
       "    <tr>\n",
       "      <th>RandomForestClassifier3</th>\n",
       "      <td>0.800000</td>\n",
       "      <td>0.713995</td>\n",
       "      <td>0.647306</td>\n",
       "      <td>0.665645</td>\n",
       "      <td>0.630674</td>\n",
       "    </tr>\n",
       "    <tr>\n",
       "      <th>RandomForestClassifier4</th>\n",
       "      <td>0.800000</td>\n",
       "      <td>0.688252</td>\n",
       "      <td>0.652315</td>\n",
       "      <td>0.663442</td>\n",
       "      <td>0.635328</td>\n",
       "    </tr>\n",
       "    <tr>\n",
       "      <th>RandomForestClassifier5</th>\n",
       "      <td>0.805512</td>\n",
       "      <td>0.717684</td>\n",
       "      <td>0.654690</td>\n",
       "      <td>0.672614</td>\n",
       "      <td>0.641627</td>\n",
       "    </tr>\n",
       "    <tr>\n",
       "      <th>RandomForestClassifier6</th>\n",
       "      <td>0.802362</td>\n",
       "      <td>0.679706</td>\n",
       "      <td>0.648037</td>\n",
       "      <td>0.657534</td>\n",
       "      <td>0.639562</td>\n",
       "    </tr>\n",
       "    <tr>\n",
       "      <th>RandomForestClassifier7</th>\n",
       "      <td>0.807874</td>\n",
       "      <td>0.716230</td>\n",
       "      <td>0.654177</td>\n",
       "      <td>0.671088</td>\n",
       "      <td>0.646325</td>\n",
       "    </tr>\n",
       "    <tr>\n",
       "      <th>XGBClassifier8</th>\n",
       "      <td>0.837008</td>\n",
       "      <td>0.729961</td>\n",
       "      <td>0.699114</td>\n",
       "      <td>0.710803</td>\n",
       "      <td>0.703061</td>\n",
       "    </tr>\n",
       "    <tr>\n",
       "      <th>XGBClassifier9</th>\n",
       "      <td>0.834646</td>\n",
       "      <td>0.726993</td>\n",
       "      <td>0.700693</td>\n",
       "      <td>0.710953</td>\n",
       "      <td>0.699474</td>\n",
       "    </tr>\n",
       "    <tr>\n",
       "      <th>XGBClassifier10</th>\n",
       "      <td>0.838583</td>\n",
       "      <td>0.735311</td>\n",
       "      <td>0.703507</td>\n",
       "      <td>0.715515</td>\n",
       "      <td>0.706168</td>\n",
       "    </tr>\n",
       "    <tr>\n",
       "      <th>XGBClassifier11</th>\n",
       "      <td>0.777165</td>\n",
       "      <td>0.637806</td>\n",
       "      <td>0.654430</td>\n",
       "      <td>0.643469</td>\n",
       "      <td>0.608769</td>\n",
       "    </tr>\n",
       "    <tr>\n",
       "      <th>XGBClassifier12</th>\n",
       "      <td>0.839370</td>\n",
       "      <td>0.732800</td>\n",
       "      <td>0.694835</td>\n",
       "      <td>0.708324</td>\n",
       "      <td>0.706396</td>\n",
       "    </tr>\n",
       "    <tr>\n",
       "      <th>XGBClassifier13</th>\n",
       "      <td>0.835433</td>\n",
       "      <td>0.722487</td>\n",
       "      <td>0.700652</td>\n",
       "      <td>0.709542</td>\n",
       "      <td>0.701071</td>\n",
       "    </tr>\n",
       "    <tr>\n",
       "      <th>XGBClassifier14</th>\n",
       "      <td>0.834646</td>\n",
       "      <td>0.716257</td>\n",
       "      <td>0.691708</td>\n",
       "      <td>0.701070</td>\n",
       "      <td>0.699215</td>\n",
       "    </tr>\n",
       "    <tr>\n",
       "      <th>XGBClassifier15</th>\n",
       "      <td>0.835433</td>\n",
       "      <td>0.724775</td>\n",
       "      <td>0.688612</td>\n",
       "      <td>0.701353</td>\n",
       "      <td>0.699322</td>\n",
       "    </tr>\n",
       "    <tr>\n",
       "      <th>XGBClassifier16</th>\n",
       "      <td>0.834646</td>\n",
       "      <td>0.721016</td>\n",
       "      <td>0.691530</td>\n",
       "      <td>0.702336</td>\n",
       "      <td>0.698926</td>\n",
       "    </tr>\n",
       "    <tr>\n",
       "      <th>XGBClassifier17</th>\n",
       "      <td>0.837795</td>\n",
       "      <td>0.725952</td>\n",
       "      <td>0.696551</td>\n",
       "      <td>0.707615</td>\n",
       "      <td>0.704555</td>\n",
       "    </tr>\n",
       "    <tr>\n",
       "      <th>XGBClassifier18</th>\n",
       "      <td>0.844094</td>\n",
       "      <td>0.734344</td>\n",
       "      <td>0.701195</td>\n",
       "      <td>0.713399</td>\n",
       "      <td>0.715654</td>\n",
       "    </tr>\n",
       "  </tbody>\n",
       "</table>\n",
       "</div>"
      ]
     },
     "execution_count": 23,
     "metadata": {},
     "output_type": "execute_result"
    }
   ],
   "execution_count": 23
  },
  {
   "metadata": {
    "ExecuteTime": {
     "end_time": "2024-11-03T12:45:34.497387Z",
     "start_time": "2024-11-03T12:45:34.489211Z"
    }
   },
   "cell_type": "code",
   "source": [
    "highest = df_pca[df_pca[\"kappa\"] == df_pca.iloc[1:][\"kappa\"].max()]\n",
    "idx = highest.index[0]\n",
    "\n",
    "confusion_matrix(pipeline.predictions[\"GT\"], pipeline.predictions[idx])"
   ],
   "id": "5664e1f83005a5b2",
   "outputs": [
    {
     "data": {
      "text/plain": [
       "array([[430,  44,  24],\n",
       "       [ 58, 610,  10],\n",
       "       [ 34,  28,  32]], dtype=int64)"
      ]
     },
     "execution_count": 24,
     "metadata": {},
     "output_type": "execute_result"
    }
   ],
   "execution_count": 24
  },
  {
   "metadata": {
    "ExecuteTime": {
     "end_time": "2024-11-03T12:45:34.533677Z",
     "start_time": "2024-11-03T12:45:34.529880Z"
    }
   },
   "cell_type": "code",
   "source": "",
   "id": "10dfe1d1e30e3fdb",
   "outputs": [],
   "execution_count": null
  }
 ],
 "metadata": {
  "kernelspec": {
   "display_name": "Python 3",
   "language": "python",
   "name": "python3"
  },
  "language_info": {
   "codemirror_mode": {
    "name": "ipython",
    "version": 2
   },
   "file_extension": ".py",
   "mimetype": "text/x-python",
   "name": "python",
   "nbconvert_exporter": "python",
   "pygments_lexer": "ipython2",
   "version": "2.7.6"
  }
 },
 "nbformat": 4,
 "nbformat_minor": 5
}

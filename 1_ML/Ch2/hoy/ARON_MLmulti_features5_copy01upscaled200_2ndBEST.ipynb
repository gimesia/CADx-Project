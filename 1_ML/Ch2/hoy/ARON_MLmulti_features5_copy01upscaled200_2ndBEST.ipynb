{
 "cells": [
  {
   "cell_type": "code",
   "id": "initial_id",
   "metadata": {
    "collapsed": true,
    "ExecuteTime": {
     "end_time": "2024-11-03T19:21:46.506764Z",
     "start_time": "2024-11-03T19:21:43.767343Z"
    }
   },
   "source": [
    "import numpy as np\n",
    "from sklearn.metrics import confusion_matrix, recall_score, cohen_kappa_score\n",
    "\n",
    "from utils.loader import FactoryLoader\n",
    "from utils.ml import MLPipeline\n",
    "from utils.preprocessing import PreprocessingFactory\n",
    "from utils.feature_extraction import *\n",
    "from utils.utils import *\n",
    "\n",
    "VAL_PATH = r\"C:\\Users\\gimes\\Src\\repos\\CADx-Project\\dataset\\multiclass\\val\"\n",
    "TRAIN_PATH = r\"C:\\Users\\gimes\\Src\\repos\\CADx-Project\\dataset\\multiclass\\train\""
   ],
   "outputs": [
    {
     "name": "stderr",
     "output_type": "stream",
     "text": [
      "INFO:numexpr.utils:Note: NumExpr detected 16 cores but \"NUMEXPR_MAX_THREADS\" not set, so enforcing safe limit of 8.\n",
      "INFO:numexpr.utils:NumExpr defaulting to 8 threads.\n"
     ]
    }
   ],
   "execution_count": 1
  },
  {
   "metadata": {
    "ExecuteTime": {
     "end_time": "2024-11-03T19:21:46.539370Z",
     "start_time": "2024-11-03T19:21:46.509507Z"
    }
   },
   "cell_type": "code",
   "source": [
    "percent = 100\n",
    "random = False\n",
    "batch_size = 24\n",
    "th = 0.1\n",
    "\n",
    "# Initialize the FactoryLoader\n",
    "factory = PreprocessingFactory()\n",
    "factory.pad2square(fill=np.nan)\n",
    "factory.resize((200,200))\n",
    "factory.normalize2float()\n",
    "\n",
    "# Create the feature extraction pipeline strategy and add desired features\n",
    "strategy = FeatureExtractionStrategy()\n",
    "\n",
    "strategy.add_extractor(GradientExtractor(threshold=th)) # Add gradient feature\n",
    "\n",
    "strategy.add_extractor(ColorMomentsExtractor(\"rgb\", threshold=th))   # Add color moments feature\n",
    "strategy.add_extractor(ColorMomentsExtractor(\"lab\", threshold=th))   # Add color moments feature\n",
    "strategy.add_extractor(ColorMomentsExtractor(\"hsv\", threshold=th))   # Add color moments feature\n",
    "\n",
    "strategy.add_extractor(LBPExtractor(radius=1, n_points=8))\n",
    "strategy.add_extractor(LBPExtractor(radius=2, n_points=16))\n",
    "strategy.add_extractor(LBPExtractor(radius=3, n_points=24))\n",
    "strategy.add_extractor(LBPExtractor(radius=4, n_points=32))\n",
    "strategy.add_extractor(LBPExtractor(radius=5, n_points=40))\n",
    "\n",
    "strategy.add_extractor(FourierTransformExtractor())\n",
    "strategy.add_extractor(FFTExtractor())\n",
    "\n",
    "strategy.add_extractor(GLCMExtractor(properties=['contrast', 'dissimilarity', 'homogeneity', 'energy', 'correlation', 'ASM']))\n",
    "\n",
    "pipeline = MLPipeline(dataset_path=TRAIN_PATH, preprocessing_factory=factory, feature_strategy=strategy, classifiers=[], percentage=percent, verbose=True, shuffle=random, batch_size=batch_size)"
   ],
   "id": "d7c81ba220d9e517",
   "outputs": [
    {
     "name": "stderr",
     "output_type": "stream",
     "text": [
      "INFO:utils.ml:MLPipeline initialized with dataset path: C:\\Users\\gimes\\Src\\repos\\CADx-Project\\dataset\\multiclass\\train\n",
      "INFO:utils.ml:Preprocessing steps\n"
     ]
    }
   ],
   "execution_count": 2
  },
  {
   "metadata": {
    "ExecuteTime": {
     "end_time": "2024-11-03T19:31:47.604678Z",
     "start_time": "2024-11-03T19:21:46.593719Z"
    }
   },
   "cell_type": "code",
   "source": [
    "pipeline.feature_matrix = None\n",
    "pipeline.run_feature_extraction()"
   ],
   "id": "21f510c52296a049",
   "outputs": [
    {
     "name": "stderr",
     "output_type": "stream",
     "text": [
      "INFO:utils.ml:Running feature extraction...\n"
     ]
    },
    {
     "name": "stdout",
     "output_type": "stream",
     "text": [
      "Processed 5/212 batches.\n",
      "Processed 10/212 batches.\n",
      "Processed 15/212 batches.\n",
      "Processed 20/212 batches.\n",
      "Processed 25/212 batches.\n",
      "Processed 30/212 batches.\n",
      "Processed 35/212 batches.\n",
      "Processed 40/212 batches.\n",
      "Processed 45/212 batches.\n",
      "Processed 50/212 batches.\n",
      "Processed 55/212 batches.\n",
      "Processed 60/212 batches.\n",
      "Processed 65/212 batches.\n",
      "Processed 70/212 batches.\n",
      "Processed 75/212 batches.\n",
      "Processed 80/212 batches.\n",
      "Processed 85/212 batches.\n",
      "Processed 90/212 batches.\n",
      "Processed 95/212 batches.\n",
      "Processed 100/212 batches.\n",
      "Processed 105/212 batches.\n",
      "Processed 110/212 batches.\n",
      "Processed 115/212 batches.\n",
      "Processed 120/212 batches.\n",
      "Processed 125/212 batches.\n",
      "Processed 130/212 batches.\n",
      "Processed 135/212 batches.\n",
      "Processed 140/212 batches.\n",
      "Processed 145/212 batches.\n",
      "Processed 150/212 batches.\n",
      "Processed 155/212 batches.\n",
      "Processed 160/212 batches.\n",
      "Processed 165/212 batches.\n",
      "Processed 170/212 batches.\n",
      "Processed 175/212 batches.\n",
      "Processed 180/212 batches.\n",
      "Processed 185/212 batches.\n",
      "Processed 190/212 batches.\n",
      "Processed 195/212 batches.\n",
      "Processed 200/212 batches.\n",
      "Processed 205/212 batches.\n",
      "Processed 210/212 batches.\n"
     ]
    },
    {
     "name": "stderr",
     "output_type": "stream",
     "text": [
      "INFO:utils.ml:Feature extraction completed. Extracted 5082 features.\n"
     ]
    },
    {
     "name": "stdout",
     "output_type": "stream",
     "text": [
      "Processed 212/212 batches.\n"
     ]
    }
   ],
   "execution_count": 3
  },
  {
   "metadata": {
    "ExecuteTime": {
     "end_time": "2024-11-03T19:31:47.667436Z",
     "start_time": "2024-11-03T19:31:47.614128Z"
    }
   },
   "cell_type": "code",
   "source": [
    "from xgboost import XGBClassifier\n",
    "from sklearn.ensemble import RandomForestClassifier\n",
    "\n",
    "# Random Forest with Bootstrap Disabled\n",
    "rf0 = RandomForestClassifier(n_estimators=100, bootstrap=False, random_state=42)\n",
    "# Random Forest with Out-of-Bag Error (OOB)\n",
    "rf1 = RandomForestClassifier(n_estimators=150, oob_score=True, random_state=42)\n",
    "# Random Forest with Bootstrap Disabled\n",
    "rf2 = RandomForestClassifier(n_estimators=150, bootstrap=False, random_state=42)\n",
    "# Random Forest with Bootstrap Disabled\n",
    "rf3 = RandomForestClassifier(n_estimators=200, bootstrap=False, random_state=42)\n",
    "\n",
    "xgb4 = XGBClassifier(learning_rate=0.1, n_estimators=400, max_depth=7, min_child_weight=3, subsample=0.7, colsample_bytree=0.7)\n",
    "xgb5 = XGBClassifier(learning_rate=0.1, n_estimators=400, max_depth=5, min_child_weight=5, gamma=0.2, subsample=0.8, colsample_bytree=0.8)\n",
    "xgb6 = XGBClassifier(learning_rate=0.1, n_estimators=400, max_depth=5, min_child_weight=1, subsample=0.8, colsample_bytree=0.8, reg_alpha=0.1, reg_lambda=0.1)\n",
    "xgb7 = XGBClassifier(learning_rate=0.1, n_estimators=400, max_depth=7, min_child_weight=1, subsample=0.8, colsample_bytree=0.8) # THIS!!\n",
    "xgb8 = XGBClassifier(learning_rate=0.1, n_estimators=500, max_depth=7, min_child_weight=1, subsample=0.8, colsample_bytree=0.8)\n",
    "\n",
    "\n",
    "xgb9 = XGBClassifier(learning_rate=0.1, n_estimators=750, max_depth=7, min_child_weight=3, subsample=0.7, colsample_bytree=0.7)\n",
    "xgb10 = XGBClassifier(learning_rate=0.1, n_estimators=750, max_depth=5, min_child_weight=5, gamma=0.2, subsample=0.8, colsample_bytree=0.8) # THIS\n",
    "xgb11 = XGBClassifier(learning_rate=0.1, n_estimators=750, max_depth=5, min_child_weight=1, subsample=0.8, colsample_bytree=0.8, reg_alpha=0.1, reg_lambda=0.1)\n",
    "xgb12 = XGBClassifier(learning_rate=0.1, n_estimators=750, max_depth=7, min_child_weight=1, subsample=0.8, colsample_bytree=0.8)\n",
    "xgb13 = XGBClassifier(learning_rate=0.1, n_estimators=1000, max_depth=7, min_child_weight=3, subsample=0.7, colsample_bytree=0.7)\n",
    "xgb14 = XGBClassifier(learning_rate=0.1, n_estimators=1000, max_depth=5, min_child_weight=5, gamma=0.2, subsample=0.8, colsample_bytree=0.8) # THIS\n",
    "xgb15 = XGBClassifier(learning_rate=0.1, n_estimators=1000, max_depth=5, min_child_weight=1, subsample=0.8, colsample_bytree=0.8, reg_alpha=0.1, reg_lambda=0.1)\n",
    "xgb16 = XGBClassifier(learning_rate=0.1, n_estimators=1000, max_depth=7, min_child_weight=1, subsample=0.8, colsample_bytree=0.8)\n",
    "\n",
    "pipeline.classifiers = [rf0, rf1, rf2, rf3,\n",
    "                        # svm1, svm2, svm3, svm6, svm7, svm8,\n",
    "                        xgb8, xgb9, xgb10, xgb11, xgb12, xgb13, xgb14, xgb15, xgb16]\n",
    "pipeline.fitted_classifiers = {}"
   ],
   "id": "74470ba20848a156",
   "outputs": [],
   "execution_count": 4
  },
  {
   "metadata": {
    "ExecuteTime": {
     "end_time": "2024-11-03T19:36:58.676277Z",
     "start_time": "2024-11-03T19:31:47.678664Z"
    }
   },
   "cell_type": "code",
   "source": "pipeline.fit_classifiers()",
   "id": "5269ac4d3392fbae",
   "outputs": [
    {
     "name": "stderr",
     "output_type": "stream",
     "text": [
      "INFO:utils.ml:Fitting classifiers...\n",
      "INFO:utils.ml:Fitting classifier: RandomForestClassifier0\n",
      "INFO:utils.ml:Fitted classifier: RandomForestClassifier0; Done in 9.719164848327637 seconds\n",
      "INFO:utils.ml:Fitting classifier: RandomForestClassifier1\n"
     ]
    },
    {
     "name": "stdout",
     "output_type": "stream",
     "text": [
      "'list' object has no attribute 'shape'\n"
     ]
    },
    {
     "name": "stderr",
     "output_type": "stream",
     "text": [
      "INFO:utils.ml:Fitted classifier: RandomForestClassifier1; Done in 10.235319375991821 seconds\n",
      "INFO:utils.ml:Fitting classifier: RandomForestClassifier2\n"
     ]
    },
    {
     "name": "stdout",
     "output_type": "stream",
     "text": [
      "'list' object has no attribute 'shape'\n"
     ]
    },
    {
     "name": "stderr",
     "output_type": "stream",
     "text": [
      "INFO:utils.ml:Fitted classifier: RandomForestClassifier2; Done in 14.50141191482544 seconds\n",
      "INFO:utils.ml:Fitting classifier: RandomForestClassifier3\n"
     ]
    },
    {
     "name": "stdout",
     "output_type": "stream",
     "text": [
      "'list' object has no attribute 'shape'\n"
     ]
    },
    {
     "name": "stderr",
     "output_type": "stream",
     "text": [
      "INFO:utils.ml:Fitted classifier: RandomForestClassifier3; Done in 20.471442699432373 seconds\n",
      "INFO:utils.ml:Fitting classifier: XGBClassifier4\n"
     ]
    },
    {
     "name": "stdout",
     "output_type": "stream",
     "text": [
      "'list' object has no attribute 'shape'\n"
     ]
    },
    {
     "name": "stderr",
     "output_type": "stream",
     "text": [
      "INFO:utils.ml:Fitted classifier: XGBClassifier4; Done in 28.371830463409424 seconds\n",
      "INFO:utils.ml:Fitting classifier: XGBClassifier5\n"
     ]
    },
    {
     "name": "stdout",
     "output_type": "stream",
     "text": [
      "'list' object has no attribute 'shape'\n"
     ]
    },
    {
     "name": "stderr",
     "output_type": "stream",
     "text": [
      "INFO:utils.ml:Fitted classifier: XGBClassifier5; Done in 28.825389623641968 seconds\n",
      "INFO:utils.ml:Fitting classifier: XGBClassifier6\n"
     ]
    },
    {
     "name": "stdout",
     "output_type": "stream",
     "text": [
      "'list' object has no attribute 'shape'\n"
     ]
    },
    {
     "name": "stderr",
     "output_type": "stream",
     "text": [
      "INFO:utils.ml:Fitted classifier: XGBClassifier6; Done in 16.76242995262146 seconds\n",
      "INFO:utils.ml:Fitting classifier: XGBClassifier7\n"
     ]
    },
    {
     "name": "stdout",
     "output_type": "stream",
     "text": [
      "'list' object has no attribute 'shape'\n"
     ]
    },
    {
     "name": "stderr",
     "output_type": "stream",
     "text": [
      "INFO:utils.ml:Fitted classifier: XGBClassifier7; Done in 27.435635805130005 seconds\n",
      "INFO:utils.ml:Fitting classifier: XGBClassifier8\n"
     ]
    },
    {
     "name": "stdout",
     "output_type": "stream",
     "text": [
      "'list' object has no attribute 'shape'\n"
     ]
    },
    {
     "name": "stderr",
     "output_type": "stream",
     "text": [
      "INFO:utils.ml:Fitted classifier: XGBClassifier8; Done in 33.596564054489136 seconds\n",
      "INFO:utils.ml:Fitting classifier: XGBClassifier9\n"
     ]
    },
    {
     "name": "stdout",
     "output_type": "stream",
     "text": [
      "'list' object has no attribute 'shape'\n"
     ]
    },
    {
     "name": "stderr",
     "output_type": "stream",
     "text": [
      "INFO:utils.ml:Fitted classifier: XGBClassifier9; Done in 31.460536241531372 seconds\n",
      "INFO:utils.ml:Fitting classifier: XGBClassifier10\n"
     ]
    },
    {
     "name": "stdout",
     "output_type": "stream",
     "text": [
      "'list' object has no attribute 'shape'\n"
     ]
    },
    {
     "name": "stderr",
     "output_type": "stream",
     "text": [
      "INFO:utils.ml:Fitted classifier: XGBClassifier10; Done in 17.13995671272278 seconds\n",
      "INFO:utils.ml:Fitting classifier: XGBClassifier11\n"
     ]
    },
    {
     "name": "stdout",
     "output_type": "stream",
     "text": [
      "'list' object has no attribute 'shape'\n"
     ]
    },
    {
     "name": "stderr",
     "output_type": "stream",
     "text": [
      "INFO:utils.ml:Fitted classifier: XGBClassifier11; Done in 31.850087881088257 seconds\n",
      "INFO:utils.ml:Fitting classifier: XGBClassifier12\n"
     ]
    },
    {
     "name": "stdout",
     "output_type": "stream",
     "text": [
      "'list' object has no attribute 'shape'\n"
     ]
    },
    {
     "name": "stderr",
     "output_type": "stream",
     "text": [
      "INFO:utils.ml:Fitted classifier: XGBClassifier12; Done in 40.62158131599426 seconds\n",
      "INFO:utils.ml:Fitting completed in 310.99 seconds.\n"
     ]
    },
    {
     "name": "stdout",
     "output_type": "stream",
     "text": [
      "'list' object has no attribute 'shape'\n"
     ]
    }
   ],
   "execution_count": 5
  },
  {
   "metadata": {
    "ExecuteTime": {
     "end_time": "2024-11-03T19:39:28.296550Z",
     "start_time": "2024-11-03T19:36:58.695183Z"
    }
   },
   "cell_type": "code",
   "source": "pipeline.predict_with_classifiers(VAL_PATH, percent)",
   "id": "f71e18a07f5ee7bb",
   "outputs": [
    {
     "name": "stderr",
     "output_type": "stream",
     "text": [
      "INFO:utils.ml:Predicting with classifiers on dataset: C:\\Users\\gimes\\Src\\repos\\CADx-Project\\dataset\\multiclass\\val\n"
     ]
    },
    {
     "name": "stdout",
     "output_type": "stream",
     "text": [
      "Processed 5/53 batches.\n",
      "Processed 10/53 batches.\n",
      "Processed 15/53 batches.\n",
      "Processed 20/53 batches.\n",
      "Processed 25/53 batches.\n",
      "Processed 30/53 batches.\n",
      "Processed 35/53 batches.\n",
      "Processed 40/53 batches.\n",
      "Processed 45/53 batches.\n",
      "Processed 50/53 batches.\n"
     ]
    },
    {
     "name": "stderr",
     "output_type": "stream",
     "text": [
      "INFO:utils.ml:Predictions made with classifier: RandomForestClassifier0\n",
      "INFO:utils.ml:Predictions made with classifier: RandomForestClassifier1\n",
      "INFO:utils.ml:Predictions made with classifier: RandomForestClassifier2\n",
      "INFO:utils.ml:Predictions made with classifier: RandomForestClassifier3\n",
      "INFO:utils.ml:Predictions made with classifier: XGBClassifier4\n",
      "INFO:utils.ml:Predictions made with classifier: XGBClassifier5\n",
      "INFO:utils.ml:Predictions made with classifier: XGBClassifier6\n",
      "INFO:utils.ml:Predictions made with classifier: XGBClassifier7\n",
      "INFO:utils.ml:Predictions made with classifier: XGBClassifier8\n"
     ]
    },
    {
     "name": "stdout",
     "output_type": "stream",
     "text": [
      "Processed 53/53 batches.\n"
     ]
    },
    {
     "name": "stderr",
     "output_type": "stream",
     "text": [
      "INFO:utils.ml:Predictions made with classifier: XGBClassifier9\n",
      "INFO:utils.ml:Predictions made with classifier: XGBClassifier10\n",
      "INFO:utils.ml:Predictions made with classifier: XGBClassifier11\n",
      "INFO:utils.ml:Predictions made with classifier: XGBClassifier12\n"
     ]
    },
    {
     "data": {
      "text/plain": [
       "{'GT': array([0, 0, 0, ..., 2, 2, 2]),\n",
       " 'RandomForestClassifier0': array([0, 0, 1, ..., 1, 0, 0]),\n",
       " 'RandomForestClassifier1': array([0, 0, 1, ..., 1, 0, 0]),\n",
       " 'RandomForestClassifier2': array([0, 0, 1, ..., 1, 0, 0]),\n",
       " 'RandomForestClassifier3': array([0, 0, 1, ..., 1, 0, 0]),\n",
       " 'XGBClassifier4': array([0, 0, 0, ..., 1, 2, 0], dtype=int64),\n",
       " 'XGBClassifier5': array([0, 0, 0, ..., 0, 2, 0], dtype=int64),\n",
       " 'XGBClassifier6': array([0, 0, 0, ..., 1, 2, 0], dtype=int64),\n",
       " 'XGBClassifier7': array([0, 0, 0, ..., 1, 2, 0], dtype=int64),\n",
       " 'XGBClassifier8': array([0, 0, 0, ..., 1, 2, 0], dtype=int64),\n",
       " 'XGBClassifier9': array([0, 0, 0, ..., 0, 2, 0], dtype=int64),\n",
       " 'XGBClassifier10': array([0, 0, 0, ..., 1, 2, 0], dtype=int64),\n",
       " 'XGBClassifier11': array([0, 0, 0, ..., 1, 2, 0], dtype=int64),\n",
       " 'XGBClassifier12': array([0, 0, 0, ..., 1, 2, 0], dtype=int64)}"
      ]
     },
     "execution_count": 6,
     "metadata": {},
     "output_type": "execute_result"
    }
   ],
   "execution_count": 6
  },
  {
   "metadata": {
    "ExecuteTime": {
     "end_time": "2024-11-03T19:39:28.395214Z",
     "start_time": "2024-11-03T19:39:28.311406Z"
    }
   },
   "cell_type": "code",
   "source": [
    "import pandas as pd\n",
    "\n",
    "df = pd.DataFrame(data=pipeline.calculate_metrics())\n",
    "df = df.T\n",
    "df"
   ],
   "id": "751fad2660242db5",
   "outputs": [
    {
     "name": "stderr",
     "output_type": "stream",
     "text": [
      "INFO:utils.ml:Metrics for classifier GT: {'accuracy': 1.0, 'precision': 1.0, 'recall': 1.0, 'f1': 1.0, 'kappa': 1.0}\n",
      "INFO:utils.ml:Metrics for classifier RandomForestClassifier0: {'accuracy': 0.8401574803149606, 'precision': 0.826753742204386, 'recall': 0.6538082285837002, 'f1': 0.6730170110108676, 'kappa': 0.7012990323298235}\n",
      "INFO:utils.ml:Metrics for classifier RandomForestClassifier1: {'accuracy': 0.8228346456692913, 'precision': 0.8771457300869065, 'recall': 0.6193007768222202, 'f1': 0.62716131250614, 'kappa': 0.6661643067433058}\n",
      "INFO:utils.ml:Metrics for classifier RandomForestClassifier2: {'accuracy': 0.84251968503937, 'precision': 0.8413347719857666, 'recall': 0.6543946450460097, 'f1': 0.6748697276222165, 'kappa': 0.7048364980128756}\n",
      "INFO:utils.ml:Metrics for classifier RandomForestClassifier3: {'accuracy': 0.8448818897637795, 'precision': 0.8376211622021678, 'recall': 0.6499383588455371, 'f1': 0.6669742489766524, 'kappa': 0.7087467928271083}\n",
      "INFO:utils.ml:Metrics for classifier XGBClassifier4: {'accuracy': 0.8740157480314961, 'precision': 0.8627950029487582, 'recall': 0.7105025890293112, 'f1': 0.7421192181147607, 'kappa': 0.7656913029039518}\n",
      "INFO:utils.ml:Metrics for classifier XGBClassifier5: {'accuracy': 0.8740157480314961, 'precision': 0.840258812192798, 'recall': 0.7193105567314131, 'f1': 0.7495504972795898, 'kappa': 0.7664528883065536}\n",
      "INFO:utils.ml:Metrics for classifier XGBClassifier6: {'accuracy': 0.8740157480314961, 'precision': 0.8498445014827677, 'recall': 0.7133793442772535, 'f1': 0.7442860271424153, 'kappa': 0.7658241560680585}\n",
      "INFO:utils.ml:Metrics for classifier XGBClassifier7: {'accuracy': 0.8669291338582678, 'precision': 0.826664896441848, 'recall': 0.693682279485103, 'f1': 0.7190990492877285, 'kappa': 0.7525502439564291}\n",
      "INFO:utils.ml:Metrics for classifier XGBClassifier8: {'accuracy': 0.8763779527559055, 'precision': 0.8684799605852237, 'recall': 0.7211408869016518, 'f1': 0.7548938749445293, 'kappa': 0.7704530383687304}\n",
      "INFO:utils.ml:Metrics for classifier XGBClassifier9: {'accuracy': 0.8748031496062992, 'precision': 0.8313330303736034, 'recall': 0.7230343579804689, 'f1': 0.7518140298240685, 'kappa': 0.7684267745575648}\n",
      "INFO:utils.ml:Metrics for classifier XGBClassifier10: {'accuracy': 0.8724409448818897, 'precision': 0.8295791523553563, 'recall': 0.7122183581498529, 'f1': 0.7405851579944046, 'kappa': 0.763276708747739}\n",
      "INFO:utils.ml:Metrics for classifier XGBClassifier11: {'accuracy': 0.8708661417322835, 'precision': 0.8249878757473139, 'recall': 0.699550351030684, 'f1': 0.725134215693981, 'kappa': 0.7600947273363926}\n",
      "INFO:utils.ml:Metrics for classifier XGBClassifier12: {'accuracy': 0.8748031496062992, 'precision': 0.8601458912193375, 'recall': 0.7199799007742511, 'f1': 0.7528298977833986, 'kappa': 0.7676369461053039}\n"
     ]
    },
    {
     "data": {
      "text/plain": [
       "                         accuracy  precision    recall        f1     kappa\n",
       "GT                       1.000000   1.000000  1.000000  1.000000  1.000000\n",
       "RandomForestClassifier0  0.840157   0.826754  0.653808  0.673017  0.701299\n",
       "RandomForestClassifier1  0.822835   0.877146  0.619301  0.627161  0.666164\n",
       "RandomForestClassifier2  0.842520   0.841335  0.654395  0.674870  0.704836\n",
       "RandomForestClassifier3  0.844882   0.837621  0.649938  0.666974  0.708747\n",
       "XGBClassifier4           0.874016   0.862795  0.710503  0.742119  0.765691\n",
       "XGBClassifier5           0.874016   0.840259  0.719311  0.749550  0.766453\n",
       "XGBClassifier6           0.874016   0.849845  0.713379  0.744286  0.765824\n",
       "XGBClassifier7           0.866929   0.826665  0.693682  0.719099  0.752550\n",
       "XGBClassifier8           0.876378   0.868480  0.721141  0.754894  0.770453\n",
       "XGBClassifier9           0.874803   0.831333  0.723034  0.751814  0.768427\n",
       "XGBClassifier10          0.872441   0.829579  0.712218  0.740585  0.763277\n",
       "XGBClassifier11          0.870866   0.824988  0.699550  0.725134  0.760095\n",
       "XGBClassifier12          0.874803   0.860146  0.719980  0.752830  0.767637"
      ],
      "text/html": [
       "<div>\n",
       "<style scoped>\n",
       "    .dataframe tbody tr th:only-of-type {\n",
       "        vertical-align: middle;\n",
       "    }\n",
       "\n",
       "    .dataframe tbody tr th {\n",
       "        vertical-align: top;\n",
       "    }\n",
       "\n",
       "    .dataframe thead th {\n",
       "        text-align: right;\n",
       "    }\n",
       "</style>\n",
       "<table border=\"1\" class=\"dataframe\">\n",
       "  <thead>\n",
       "    <tr style=\"text-align: right;\">\n",
       "      <th></th>\n",
       "      <th>accuracy</th>\n",
       "      <th>precision</th>\n",
       "      <th>recall</th>\n",
       "      <th>f1</th>\n",
       "      <th>kappa</th>\n",
       "    </tr>\n",
       "  </thead>\n",
       "  <tbody>\n",
       "    <tr>\n",
       "      <th>GT</th>\n",
       "      <td>1.000000</td>\n",
       "      <td>1.000000</td>\n",
       "      <td>1.000000</td>\n",
       "      <td>1.000000</td>\n",
       "      <td>1.000000</td>\n",
       "    </tr>\n",
       "    <tr>\n",
       "      <th>RandomForestClassifier0</th>\n",
       "      <td>0.840157</td>\n",
       "      <td>0.826754</td>\n",
       "      <td>0.653808</td>\n",
       "      <td>0.673017</td>\n",
       "      <td>0.701299</td>\n",
       "    </tr>\n",
       "    <tr>\n",
       "      <th>RandomForestClassifier1</th>\n",
       "      <td>0.822835</td>\n",
       "      <td>0.877146</td>\n",
       "      <td>0.619301</td>\n",
       "      <td>0.627161</td>\n",
       "      <td>0.666164</td>\n",
       "    </tr>\n",
       "    <tr>\n",
       "      <th>RandomForestClassifier2</th>\n",
       "      <td>0.842520</td>\n",
       "      <td>0.841335</td>\n",
       "      <td>0.654395</td>\n",
       "      <td>0.674870</td>\n",
       "      <td>0.704836</td>\n",
       "    </tr>\n",
       "    <tr>\n",
       "      <th>RandomForestClassifier3</th>\n",
       "      <td>0.844882</td>\n",
       "      <td>0.837621</td>\n",
       "      <td>0.649938</td>\n",
       "      <td>0.666974</td>\n",
       "      <td>0.708747</td>\n",
       "    </tr>\n",
       "    <tr>\n",
       "      <th>XGBClassifier4</th>\n",
       "      <td>0.874016</td>\n",
       "      <td>0.862795</td>\n",
       "      <td>0.710503</td>\n",
       "      <td>0.742119</td>\n",
       "      <td>0.765691</td>\n",
       "    </tr>\n",
       "    <tr>\n",
       "      <th>XGBClassifier5</th>\n",
       "      <td>0.874016</td>\n",
       "      <td>0.840259</td>\n",
       "      <td>0.719311</td>\n",
       "      <td>0.749550</td>\n",
       "      <td>0.766453</td>\n",
       "    </tr>\n",
       "    <tr>\n",
       "      <th>XGBClassifier6</th>\n",
       "      <td>0.874016</td>\n",
       "      <td>0.849845</td>\n",
       "      <td>0.713379</td>\n",
       "      <td>0.744286</td>\n",
       "      <td>0.765824</td>\n",
       "    </tr>\n",
       "    <tr>\n",
       "      <th>XGBClassifier7</th>\n",
       "      <td>0.866929</td>\n",
       "      <td>0.826665</td>\n",
       "      <td>0.693682</td>\n",
       "      <td>0.719099</td>\n",
       "      <td>0.752550</td>\n",
       "    </tr>\n",
       "    <tr>\n",
       "      <th>XGBClassifier8</th>\n",
       "      <td>0.876378</td>\n",
       "      <td>0.868480</td>\n",
       "      <td>0.721141</td>\n",
       "      <td>0.754894</td>\n",
       "      <td>0.770453</td>\n",
       "    </tr>\n",
       "    <tr>\n",
       "      <th>XGBClassifier9</th>\n",
       "      <td>0.874803</td>\n",
       "      <td>0.831333</td>\n",
       "      <td>0.723034</td>\n",
       "      <td>0.751814</td>\n",
       "      <td>0.768427</td>\n",
       "    </tr>\n",
       "    <tr>\n",
       "      <th>XGBClassifier10</th>\n",
       "      <td>0.872441</td>\n",
       "      <td>0.829579</td>\n",
       "      <td>0.712218</td>\n",
       "      <td>0.740585</td>\n",
       "      <td>0.763277</td>\n",
       "    </tr>\n",
       "    <tr>\n",
       "      <th>XGBClassifier11</th>\n",
       "      <td>0.870866</td>\n",
       "      <td>0.824988</td>\n",
       "      <td>0.699550</td>\n",
       "      <td>0.725134</td>\n",
       "      <td>0.760095</td>\n",
       "    </tr>\n",
       "    <tr>\n",
       "      <th>XGBClassifier12</th>\n",
       "      <td>0.874803</td>\n",
       "      <td>0.860146</td>\n",
       "      <td>0.719980</td>\n",
       "      <td>0.752830</td>\n",
       "      <td>0.767637</td>\n",
       "    </tr>\n",
       "  </tbody>\n",
       "</table>\n",
       "</div>"
      ]
     },
     "execution_count": 7,
     "metadata": {},
     "output_type": "execute_result"
    }
   ],
   "execution_count": 7
  },
  {
   "metadata": {
    "ExecuteTime": {
     "end_time": "2024-11-03T19:39:28.416248Z",
     "start_time": "2024-11-03T19:39:28.407714Z"
    }
   },
   "cell_type": "code",
   "source": [
    "highest = df[df[\"kappa\"] == df.iloc[1:][\"kappa\"].max()]\n",
    "idx = highest.index[0]\n",
    "\n",
    "confusion_matrix(pipeline.predictions[\"GT\"], pipeline.predictions[idx])"
   ],
   "id": "22f7f750a102a0bd",
   "outputs": [
    {
     "data": {
      "text/plain": [
       "array([[446,  48,   4],\n",
       "       [ 41, 636,   1],\n",
       "       [ 45,  18,  31]], dtype=int64)"
      ]
     },
     "execution_count": 8,
     "metadata": {},
     "output_type": "execute_result"
    }
   ],
   "execution_count": 8
  },
  {
   "metadata": {},
   "cell_type": "markdown",
   "source": [
    "___\n",
    "# Balance the data"
   ],
   "id": "ad0e6dcd404dcf15"
  },
  {
   "metadata": {
    "ExecuteTime": {
     "end_time": "2024-11-03T19:39:28.445855Z",
     "start_time": "2024-11-03T19:39:28.437026Z"
    }
   },
   "cell_type": "code",
   "source": [
    "# Backup\n",
    "pipeline.backup_feature_matrix = pipeline.feature_matrix.copy()\n",
    "pipeline.backup_labels = pipeline.labels.copy()"
   ],
   "id": "da1b19771d4cde2f",
   "outputs": [],
   "execution_count": 9
  },
  {
   "metadata": {
    "ExecuteTime": {
     "end_time": "2024-11-03T19:39:28.832918Z",
     "start_time": "2024-11-03T19:39:28.478441Z"
    }
   },
   "cell_type": "code",
   "source": [
    "from imblearn.over_sampling import SMOTE\n",
    "\n",
    "smote = SMOTE(random_state=42)\n",
    "\n",
    "pipeline.feature_matrix, pipeline.labels = smote.fit_resample(np.nan_to_num(pipeline.feature_matrix), pipeline.labels)"
   ],
   "id": "6f226a41aafa84b7",
   "outputs": [],
   "execution_count": 11
  },
  {
   "metadata": {
    "ExecuteTime": {
     "end_time": "2024-11-03T19:39:28.455421Z",
     "start_time": "2024-11-03T19:39:28.445855Z"
    }
   },
   "cell_type": "code",
   "outputs": [
    {
     "name": "stdout",
     "output_type": "stream",
     "text": [
      "(5082, 519)\n",
      "(5082, 519)\n",
      "(5082,)\n",
      "(5082,)\n"
     ]
    }
   ],
   "execution_count": 10,
   "source": [
    "print(pipeline.backup_feature_matrix.shape)\n",
    "print(pipeline.feature_matrix.shape)\n",
    "\n",
    "print(pipeline.backup_labels.shape)\n",
    "print(pipeline.labels.shape)"
   ],
   "id": "3425dcf3bd509008"
  },
  {
   "metadata": {
    "ExecuteTime": {
     "end_time": "2024-11-03T19:47:03.428008Z",
     "start_time": "2024-11-03T19:39:28.836871Z"
    }
   },
   "cell_type": "code",
   "source": [
    "pipeline.fitted_classifiers = {}\n",
    "pipeline.fit_classifiers()"
   ],
   "id": "e25b1eeaa9b9b112",
   "outputs": [
    {
     "name": "stderr",
     "output_type": "stream",
     "text": [
      "INFO:utils.ml:Fitting classifiers...\n",
      "INFO:utils.ml:Fitting classifier: RandomForestClassifier0\n",
      "INFO:utils.ml:Fitted classifier: RandomForestClassifier0; Done in 18.71985125541687 seconds\n",
      "INFO:utils.ml:Fitting classifier: RandomForestClassifier1\n"
     ]
    },
    {
     "name": "stdout",
     "output_type": "stream",
     "text": [
      "'list' object has no attribute 'shape'\n"
     ]
    },
    {
     "name": "stderr",
     "output_type": "stream",
     "text": [
      "INFO:utils.ml:Fitted classifier: RandomForestClassifier1; Done in 25.031797170639038 seconds\n",
      "INFO:utils.ml:Fitting classifier: RandomForestClassifier2\n"
     ]
    },
    {
     "name": "stdout",
     "output_type": "stream",
     "text": [
      "'list' object has no attribute 'shape'\n"
     ]
    },
    {
     "name": "stderr",
     "output_type": "stream",
     "text": [
      "INFO:utils.ml:Fitted classifier: RandomForestClassifier2; Done in 36.87735342979431 seconds\n",
      "INFO:utils.ml:Fitting classifier: RandomForestClassifier3\n"
     ]
    },
    {
     "name": "stdout",
     "output_type": "stream",
     "text": [
      "'list' object has no attribute 'shape'\n"
     ]
    },
    {
     "name": "stderr",
     "output_type": "stream",
     "text": [
      "INFO:utils.ml:Fitted classifier: RandomForestClassifier3; Done in 36.77544021606445 seconds\n",
      "INFO:utils.ml:Fitting classifier: XGBClassifier4\n"
     ]
    },
    {
     "name": "stdout",
     "output_type": "stream",
     "text": [
      "'list' object has no attribute 'shape'\n"
     ]
    },
    {
     "name": "stderr",
     "output_type": "stream",
     "text": [
      "INFO:utils.ml:Fitted classifier: XGBClassifier4; Done in 34.01800513267517 seconds\n",
      "INFO:utils.ml:Fitting classifier: XGBClassifier5\n"
     ]
    },
    {
     "name": "stdout",
     "output_type": "stream",
     "text": [
      "'list' object has no attribute 'shape'\n"
     ]
    },
    {
     "name": "stderr",
     "output_type": "stream",
     "text": [
      "INFO:utils.ml:Fitted classifier: XGBClassifier5; Done in 37.792242765426636 seconds\n",
      "INFO:utils.ml:Fitting classifier: XGBClassifier6\n"
     ]
    },
    {
     "name": "stdout",
     "output_type": "stream",
     "text": [
      "'list' object has no attribute 'shape'\n"
     ]
    },
    {
     "name": "stderr",
     "output_type": "stream",
     "text": [
      "INFO:utils.ml:Fitted classifier: XGBClassifier6; Done in 22.587767601013184 seconds\n",
      "INFO:utils.ml:Fitting classifier: XGBClassifier7\n"
     ]
    },
    {
     "name": "stdout",
     "output_type": "stream",
     "text": [
      "'list' object has no attribute 'shape'\n"
     ]
    },
    {
     "name": "stderr",
     "output_type": "stream",
     "text": [
      "INFO:utils.ml:Fitted classifier: XGBClassifier7; Done in 33.2621123790741 seconds\n",
      "INFO:utils.ml:Fitting classifier: XGBClassifier8\n"
     ]
    },
    {
     "name": "stdout",
     "output_type": "stream",
     "text": [
      "'list' object has no attribute 'shape'\n"
     ]
    },
    {
     "name": "stderr",
     "output_type": "stream",
     "text": [
      "INFO:utils.ml:Fitted classifier: XGBClassifier8; Done in 45.6057813167572 seconds\n",
      "INFO:utils.ml:Fitting classifier: XGBClassifier9\n"
     ]
    },
    {
     "name": "stdout",
     "output_type": "stream",
     "text": [
      "'list' object has no attribute 'shape'\n"
     ]
    },
    {
     "name": "stderr",
     "output_type": "stream",
     "text": [
      "INFO:utils.ml:Fitted classifier: XGBClassifier9; Done in 44.74539017677307 seconds\n",
      "INFO:utils.ml:Fitting classifier: XGBClassifier10\n"
     ]
    },
    {
     "name": "stdout",
     "output_type": "stream",
     "text": [
      "'list' object has no attribute 'shape'\n"
     ]
    },
    {
     "name": "stderr",
     "output_type": "stream",
     "text": [
      "INFO:utils.ml:Fitted classifier: XGBClassifier10; Done in 25.86698889732361 seconds\n",
      "INFO:utils.ml:Fitting classifier: XGBClassifier11\n"
     ]
    },
    {
     "name": "stdout",
     "output_type": "stream",
     "text": [
      "'list' object has no attribute 'shape'\n"
     ]
    },
    {
     "name": "stderr",
     "output_type": "stream",
     "text": [
      "INFO:utils.ml:Fitted classifier: XGBClassifier11; Done in 41.84835958480835 seconds\n",
      "INFO:utils.ml:Fitting classifier: XGBClassifier12\n"
     ]
    },
    {
     "name": "stdout",
     "output_type": "stream",
     "text": [
      "'list' object has no attribute 'shape'\n"
     ]
    },
    {
     "name": "stderr",
     "output_type": "stream",
     "text": [
      "INFO:utils.ml:Fitted classifier: XGBClassifier12; Done in 51.43301296234131 seconds\n",
      "INFO:utils.ml:Fitting completed in 454.58 seconds.\n"
     ]
    },
    {
     "name": "stdout",
     "output_type": "stream",
     "text": [
      "'list' object has no attribute 'shape'\n"
     ]
    }
   ],
   "execution_count": 12
  },
  {
   "metadata": {
    "ExecuteTime": {
     "end_time": "2024-11-03T19:49:50.221752Z",
     "start_time": "2024-11-03T19:47:03.480876Z"
    }
   },
   "cell_type": "code",
   "source": "pipeline.predict_with_classifiers(VAL_PATH, percent)",
   "id": "eaa13003ad0706a4",
   "outputs": [
    {
     "name": "stderr",
     "output_type": "stream",
     "text": [
      "INFO:utils.ml:Predicting with classifiers on dataset: C:\\Users\\gimes\\Src\\repos\\CADx-Project\\dataset\\multiclass\\val\n"
     ]
    },
    {
     "name": "stdout",
     "output_type": "stream",
     "text": [
      "Processed 5/53 batches.\n",
      "Processed 10/53 batches.\n",
      "Processed 15/53 batches.\n",
      "Processed 20/53 batches.\n",
      "Processed 25/53 batches.\n",
      "Processed 30/53 batches.\n",
      "Processed 35/53 batches.\n",
      "Processed 40/53 batches.\n",
      "Processed 45/53 batches.\n",
      "Processed 50/53 batches.\n"
     ]
    },
    {
     "name": "stderr",
     "output_type": "stream",
     "text": [
      "INFO:utils.ml:Predictions made with classifier: RandomForestClassifier0\n",
      "INFO:utils.ml:Predictions made with classifier: RandomForestClassifier1\n",
      "INFO:utils.ml:Predictions made with classifier: RandomForestClassifier2\n",
      "INFO:utils.ml:Predictions made with classifier: RandomForestClassifier3\n",
      "INFO:utils.ml:Predictions made with classifier: XGBClassifier4\n",
      "INFO:utils.ml:Predictions made with classifier: XGBClassifier5\n",
      "INFO:utils.ml:Predictions made with classifier: XGBClassifier6\n",
      "INFO:utils.ml:Predictions made with classifier: XGBClassifier7\n",
      "INFO:utils.ml:Predictions made with classifier: XGBClassifier8\n",
      "INFO:utils.ml:Predictions made with classifier: XGBClassifier9\n"
     ]
    },
    {
     "name": "stdout",
     "output_type": "stream",
     "text": [
      "Processed 53/53 batches.\n"
     ]
    },
    {
     "name": "stderr",
     "output_type": "stream",
     "text": [
      "INFO:utils.ml:Predictions made with classifier: XGBClassifier10\n",
      "INFO:utils.ml:Predictions made with classifier: XGBClassifier11\n",
      "INFO:utils.ml:Predictions made with classifier: XGBClassifier12\n"
     ]
    },
    {
     "data": {
      "text/plain": [
       "{'GT': array([0, 0, 0, ..., 2, 2, 2]),\n",
       " 'RandomForestClassifier0': array([0, 0, 2, ..., 1, 2, 0]),\n",
       " 'RandomForestClassifier1': array([0, 0, 2, ..., 1, 2, 0]),\n",
       " 'RandomForestClassifier2': array([0, 0, 2, ..., 1, 2, 0]),\n",
       " 'RandomForestClassifier3': array([0, 0, 2, ..., 1, 2, 0]),\n",
       " 'XGBClassifier4': array([0, 0, 2, ..., 1, 2, 0], dtype=int64),\n",
       " 'XGBClassifier5': array([0, 0, 2, ..., 0, 2, 0], dtype=int64),\n",
       " 'XGBClassifier6': array([0, 0, 2, ..., 0, 2, 0], dtype=int64),\n",
       " 'XGBClassifier7': array([0, 0, 2, ..., 0, 2, 0], dtype=int64),\n",
       " 'XGBClassifier8': array([0, 0, 2, ..., 1, 2, 0], dtype=int64),\n",
       " 'XGBClassifier9': array([0, 0, 2, ..., 0, 2, 0], dtype=int64),\n",
       " 'XGBClassifier10': array([0, 0, 2, ..., 0, 2, 0], dtype=int64),\n",
       " 'XGBClassifier11': array([0, 0, 2, ..., 0, 2, 0], dtype=int64),\n",
       " 'XGBClassifier12': array([0, 0, 2, ..., 1, 2, 0], dtype=int64)}"
      ]
     },
     "execution_count": 13,
     "metadata": {},
     "output_type": "execute_result"
    }
   ],
   "execution_count": 13
  },
  {
   "metadata": {
    "ExecuteTime": {
     "end_time": "2024-11-03T19:49:50.318049Z",
     "start_time": "2024-11-03T19:49:50.241864Z"
    }
   },
   "cell_type": "code",
   "source": [
    "import pandas as pd\n",
    "\n",
    "df_smote = pd.DataFrame(data=pipeline.calculate_metrics())\n",
    "df_smote = df_smote.T\n",
    "df_smote"
   ],
   "id": "c07d748cb247f0f6",
   "outputs": [
    {
     "name": "stderr",
     "output_type": "stream",
     "text": [
      "INFO:utils.ml:Metrics for classifier GT: {'accuracy': 1.0, 'precision': 1.0, 'recall': 1.0, 'f1': 1.0, 'kappa': 1.0}\n",
      "INFO:utils.ml:Metrics for classifier RandomForestClassifier0: {'accuracy': 0.841732283464567, 'precision': 0.7557113301923907, 'recall': 0.7388946988607161, 'f1': 0.7460230475142774, 'kappa': 0.714636731116636}\n",
      "INFO:utils.ml:Metrics for classifier RandomForestClassifier1: {'accuracy': 0.8251968503937008, 'precision': 0.7362288583250421, 'recall': 0.7359565671208023, 'f1': 0.7357579621937909, 'kappa': 0.6868196319236477}\n",
      "INFO:utils.ml:Metrics for classifier RandomForestClassifier2: {'accuracy': 0.841732283464567, 'precision': 0.7522776982815214, 'recall': 0.7333188903231075, 'f1': 0.741155668513055, 'kappa': 0.7144362557555743}\n",
      "INFO:utils.ml:Metrics for classifier RandomForestClassifier3: {'accuracy': 0.8409448818897638, 'precision': 0.7497403278063656, 'recall': 0.7322941423637185, 'f1': 0.7396212076997917, 'kappa': 0.7130296657568571}\n",
      "INFO:utils.ml:Metrics for classifier XGBClassifier4: {'accuracy': 0.878740157480315, 'precision': 0.7911747073458382, 'recall': 0.7786957785324439, 'f1': 0.784561931512703, 'kappa': 0.7807998708873358}\n",
      "INFO:utils.ml:Metrics for classifier XGBClassifier5: {'accuracy': 0.8763779527559055, 'precision': 0.7876157077102669, 'recall': 0.7718227456994234, 'f1': 0.7789518221371486, 'kappa': 0.7766318789405053}\n",
      "INFO:utils.ml:Metrics for classifier XGBClassifier6: {'accuracy': 0.8724409448818897, 'precision': 0.7776996874682638, 'recall': 0.7718858866080024, 'f1': 0.7745790948756993, 'kappa': 0.770419435901785}\n",
      "INFO:utils.ml:Metrics for classifier XGBClassifier7: {'accuracy': 0.8850393700787401, 'precision': 0.8010919914501552, 'recall': 0.781173775627206, 'f1': 0.7900120329211378, 'kappa': 0.7920936845457277}\n",
      "INFO:utils.ml:Metrics for classifier XGBClassifier8: {'accuracy': 0.8803149606299212, 'precision': 0.7920041758101285, 'recall': 0.782911221866062, 'f1': 0.7872491220120086, 'kappa': 0.7839729988630157}\n",
      "INFO:utils.ml:Metrics for classifier XGBClassifier9: {'accuracy': 0.8748031496062992, 'precision': 0.7851865488463426, 'recall': 0.7645528451595878, 'f1': 0.773673076224426, 'kappa': 0.7732499382397198}\n",
      "INFO:utils.ml:Metrics for classifier XGBClassifier10: {'accuracy': 0.8732283464566929, 'precision': 0.7783780147176342, 'recall': 0.7723775286925648, 'f1': 0.7751857171346977, 'kappa': 0.7717449062063237}\n",
      "INFO:utils.ml:Metrics for classifier XGBClassifier11: {'accuracy': 0.8850393700787401, 'precision': 0.8010919914501552, 'recall': 0.781173775627206, 'f1': 0.7900120329211378, 'kappa': 0.7920936845457277}\n",
      "INFO:utils.ml:Metrics for classifier XGBClassifier12: {'accuracy': 0.878740157480315, 'precision': 0.7912633333817963, 'recall': 0.7759967252427775, 'f1': 0.7830333193687288, 'kappa': 0.780689754159023}\n"
     ]
    },
    {
     "data": {
      "text/plain": [
       "                         accuracy  precision    recall        f1     kappa\n",
       "GT                       1.000000   1.000000  1.000000  1.000000  1.000000\n",
       "RandomForestClassifier0  0.841732   0.755711  0.738895  0.746023  0.714637\n",
       "RandomForestClassifier1  0.825197   0.736229  0.735957  0.735758  0.686820\n",
       "RandomForestClassifier2  0.841732   0.752278  0.733319  0.741156  0.714436\n",
       "RandomForestClassifier3  0.840945   0.749740  0.732294  0.739621  0.713030\n",
       "XGBClassifier4           0.878740   0.791175  0.778696  0.784562  0.780800\n",
       "XGBClassifier5           0.876378   0.787616  0.771823  0.778952  0.776632\n",
       "XGBClassifier6           0.872441   0.777700  0.771886  0.774579  0.770419\n",
       "XGBClassifier7           0.885039   0.801092  0.781174  0.790012  0.792094\n",
       "XGBClassifier8           0.880315   0.792004  0.782911  0.787249  0.783973\n",
       "XGBClassifier9           0.874803   0.785187  0.764553  0.773673  0.773250\n",
       "XGBClassifier10          0.873228   0.778378  0.772378  0.775186  0.771745\n",
       "XGBClassifier11          0.885039   0.801092  0.781174  0.790012  0.792094\n",
       "XGBClassifier12          0.878740   0.791263  0.775997  0.783033  0.780690"
      ],
      "text/html": [
       "<div>\n",
       "<style scoped>\n",
       "    .dataframe tbody tr th:only-of-type {\n",
       "        vertical-align: middle;\n",
       "    }\n",
       "\n",
       "    .dataframe tbody tr th {\n",
       "        vertical-align: top;\n",
       "    }\n",
       "\n",
       "    .dataframe thead th {\n",
       "        text-align: right;\n",
       "    }\n",
       "</style>\n",
       "<table border=\"1\" class=\"dataframe\">\n",
       "  <thead>\n",
       "    <tr style=\"text-align: right;\">\n",
       "      <th></th>\n",
       "      <th>accuracy</th>\n",
       "      <th>precision</th>\n",
       "      <th>recall</th>\n",
       "      <th>f1</th>\n",
       "      <th>kappa</th>\n",
       "    </tr>\n",
       "  </thead>\n",
       "  <tbody>\n",
       "    <tr>\n",
       "      <th>GT</th>\n",
       "      <td>1.000000</td>\n",
       "      <td>1.000000</td>\n",
       "      <td>1.000000</td>\n",
       "      <td>1.000000</td>\n",
       "      <td>1.000000</td>\n",
       "    </tr>\n",
       "    <tr>\n",
       "      <th>RandomForestClassifier0</th>\n",
       "      <td>0.841732</td>\n",
       "      <td>0.755711</td>\n",
       "      <td>0.738895</td>\n",
       "      <td>0.746023</td>\n",
       "      <td>0.714637</td>\n",
       "    </tr>\n",
       "    <tr>\n",
       "      <th>RandomForestClassifier1</th>\n",
       "      <td>0.825197</td>\n",
       "      <td>0.736229</td>\n",
       "      <td>0.735957</td>\n",
       "      <td>0.735758</td>\n",
       "      <td>0.686820</td>\n",
       "    </tr>\n",
       "    <tr>\n",
       "      <th>RandomForestClassifier2</th>\n",
       "      <td>0.841732</td>\n",
       "      <td>0.752278</td>\n",
       "      <td>0.733319</td>\n",
       "      <td>0.741156</td>\n",
       "      <td>0.714436</td>\n",
       "    </tr>\n",
       "    <tr>\n",
       "      <th>RandomForestClassifier3</th>\n",
       "      <td>0.840945</td>\n",
       "      <td>0.749740</td>\n",
       "      <td>0.732294</td>\n",
       "      <td>0.739621</td>\n",
       "      <td>0.713030</td>\n",
       "    </tr>\n",
       "    <tr>\n",
       "      <th>XGBClassifier4</th>\n",
       "      <td>0.878740</td>\n",
       "      <td>0.791175</td>\n",
       "      <td>0.778696</td>\n",
       "      <td>0.784562</td>\n",
       "      <td>0.780800</td>\n",
       "    </tr>\n",
       "    <tr>\n",
       "      <th>XGBClassifier5</th>\n",
       "      <td>0.876378</td>\n",
       "      <td>0.787616</td>\n",
       "      <td>0.771823</td>\n",
       "      <td>0.778952</td>\n",
       "      <td>0.776632</td>\n",
       "    </tr>\n",
       "    <tr>\n",
       "      <th>XGBClassifier6</th>\n",
       "      <td>0.872441</td>\n",
       "      <td>0.777700</td>\n",
       "      <td>0.771886</td>\n",
       "      <td>0.774579</td>\n",
       "      <td>0.770419</td>\n",
       "    </tr>\n",
       "    <tr>\n",
       "      <th>XGBClassifier7</th>\n",
       "      <td>0.885039</td>\n",
       "      <td>0.801092</td>\n",
       "      <td>0.781174</td>\n",
       "      <td>0.790012</td>\n",
       "      <td>0.792094</td>\n",
       "    </tr>\n",
       "    <tr>\n",
       "      <th>XGBClassifier8</th>\n",
       "      <td>0.880315</td>\n",
       "      <td>0.792004</td>\n",
       "      <td>0.782911</td>\n",
       "      <td>0.787249</td>\n",
       "      <td>0.783973</td>\n",
       "    </tr>\n",
       "    <tr>\n",
       "      <th>XGBClassifier9</th>\n",
       "      <td>0.874803</td>\n",
       "      <td>0.785187</td>\n",
       "      <td>0.764553</td>\n",
       "      <td>0.773673</td>\n",
       "      <td>0.773250</td>\n",
       "    </tr>\n",
       "    <tr>\n",
       "      <th>XGBClassifier10</th>\n",
       "      <td>0.873228</td>\n",
       "      <td>0.778378</td>\n",
       "      <td>0.772378</td>\n",
       "      <td>0.775186</td>\n",
       "      <td>0.771745</td>\n",
       "    </tr>\n",
       "    <tr>\n",
       "      <th>XGBClassifier11</th>\n",
       "      <td>0.885039</td>\n",
       "      <td>0.801092</td>\n",
       "      <td>0.781174</td>\n",
       "      <td>0.790012</td>\n",
       "      <td>0.792094</td>\n",
       "    </tr>\n",
       "    <tr>\n",
       "      <th>XGBClassifier12</th>\n",
       "      <td>0.878740</td>\n",
       "      <td>0.791263</td>\n",
       "      <td>0.775997</td>\n",
       "      <td>0.783033</td>\n",
       "      <td>0.780690</td>\n",
       "    </tr>\n",
       "  </tbody>\n",
       "</table>\n",
       "</div>"
      ]
     },
     "execution_count": 14,
     "metadata": {},
     "output_type": "execute_result"
    }
   ],
   "execution_count": 14
  },
  {
   "metadata": {
    "tags": [
     "BEST RESULT 03-11"
    ],
    "ExecuteTime": {
     "end_time": "2024-11-03T19:49:50.413631Z",
     "start_time": "2024-11-03T19:49:50.352805Z"
    }
   },
   "cell_type": "code",
   "source": [
    "import pandas as pd\n",
    "\n",
    "df_smote = pd.DataFrame(data=pipeline.calculate_metrics())\n",
    "df_smote = df_smote.T\n",
    "df_smote"
   ],
   "id": "441842170622e9a",
   "outputs": [
    {
     "name": "stderr",
     "output_type": "stream",
     "text": [
      "INFO:utils.ml:Metrics for classifier GT: {'accuracy': 1.0, 'precision': 1.0, 'recall': 1.0, 'f1': 1.0, 'kappa': 1.0}\n",
      "INFO:utils.ml:Metrics for classifier RandomForestClassifier0: {'accuracy': 0.841732283464567, 'precision': 0.7557113301923907, 'recall': 0.7388946988607161, 'f1': 0.7460230475142774, 'kappa': 0.714636731116636}\n",
      "INFO:utils.ml:Metrics for classifier RandomForestClassifier1: {'accuracy': 0.8251968503937008, 'precision': 0.7362288583250421, 'recall': 0.7359565671208023, 'f1': 0.7357579621937909, 'kappa': 0.6868196319236477}\n",
      "INFO:utils.ml:Metrics for classifier RandomForestClassifier2: {'accuracy': 0.841732283464567, 'precision': 0.7522776982815214, 'recall': 0.7333188903231075, 'f1': 0.741155668513055, 'kappa': 0.7144362557555743}\n",
      "INFO:utils.ml:Metrics for classifier RandomForestClassifier3: {'accuracy': 0.8409448818897638, 'precision': 0.7497403278063656, 'recall': 0.7322941423637185, 'f1': 0.7396212076997917, 'kappa': 0.7130296657568571}\n",
      "INFO:utils.ml:Metrics for classifier XGBClassifier4: {'accuracy': 0.878740157480315, 'precision': 0.7911747073458382, 'recall': 0.7786957785324439, 'f1': 0.784561931512703, 'kappa': 0.7807998708873358}\n",
      "INFO:utils.ml:Metrics for classifier XGBClassifier5: {'accuracy': 0.8763779527559055, 'precision': 0.7876157077102669, 'recall': 0.7718227456994234, 'f1': 0.7789518221371486, 'kappa': 0.7766318789405053}\n",
      "INFO:utils.ml:Metrics for classifier XGBClassifier6: {'accuracy': 0.8724409448818897, 'precision': 0.7776996874682638, 'recall': 0.7718858866080024, 'f1': 0.7745790948756993, 'kappa': 0.770419435901785}\n",
      "INFO:utils.ml:Metrics for classifier XGBClassifier7: {'accuracy': 0.8850393700787401, 'precision': 0.8010919914501552, 'recall': 0.781173775627206, 'f1': 0.7900120329211378, 'kappa': 0.7920936845457277}\n",
      "INFO:utils.ml:Metrics for classifier XGBClassifier8: {'accuracy': 0.8803149606299212, 'precision': 0.7920041758101285, 'recall': 0.782911221866062, 'f1': 0.7872491220120086, 'kappa': 0.7839729988630157}\n",
      "INFO:utils.ml:Metrics for classifier XGBClassifier9: {'accuracy': 0.8748031496062992, 'precision': 0.7851865488463426, 'recall': 0.7645528451595878, 'f1': 0.773673076224426, 'kappa': 0.7732499382397198}\n",
      "INFO:utils.ml:Metrics for classifier XGBClassifier10: {'accuracy': 0.8732283464566929, 'precision': 0.7783780147176342, 'recall': 0.7723775286925648, 'f1': 0.7751857171346977, 'kappa': 0.7717449062063237}\n",
      "INFO:utils.ml:Metrics for classifier XGBClassifier11: {'accuracy': 0.8850393700787401, 'precision': 0.8010919914501552, 'recall': 0.781173775627206, 'f1': 0.7900120329211378, 'kappa': 0.7920936845457277}\n",
      "INFO:utils.ml:Metrics for classifier XGBClassifier12: {'accuracy': 0.878740157480315, 'precision': 0.7912633333817963, 'recall': 0.7759967252427775, 'f1': 0.7830333193687288, 'kappa': 0.780689754159023}\n"
     ]
    },
    {
     "data": {
      "text/plain": [
       "                         accuracy  precision    recall        f1     kappa\n",
       "GT                       1.000000   1.000000  1.000000  1.000000  1.000000\n",
       "RandomForestClassifier0  0.841732   0.755711  0.738895  0.746023  0.714637\n",
       "RandomForestClassifier1  0.825197   0.736229  0.735957  0.735758  0.686820\n",
       "RandomForestClassifier2  0.841732   0.752278  0.733319  0.741156  0.714436\n",
       "RandomForestClassifier3  0.840945   0.749740  0.732294  0.739621  0.713030\n",
       "XGBClassifier4           0.878740   0.791175  0.778696  0.784562  0.780800\n",
       "XGBClassifier5           0.876378   0.787616  0.771823  0.778952  0.776632\n",
       "XGBClassifier6           0.872441   0.777700  0.771886  0.774579  0.770419\n",
       "XGBClassifier7           0.885039   0.801092  0.781174  0.790012  0.792094\n",
       "XGBClassifier8           0.880315   0.792004  0.782911  0.787249  0.783973\n",
       "XGBClassifier9           0.874803   0.785187  0.764553  0.773673  0.773250\n",
       "XGBClassifier10          0.873228   0.778378  0.772378  0.775186  0.771745\n",
       "XGBClassifier11          0.885039   0.801092  0.781174  0.790012  0.792094\n",
       "XGBClassifier12          0.878740   0.791263  0.775997  0.783033  0.780690"
      ],
      "text/html": [
       "<div>\n",
       "<style scoped>\n",
       "    .dataframe tbody tr th:only-of-type {\n",
       "        vertical-align: middle;\n",
       "    }\n",
       "\n",
       "    .dataframe tbody tr th {\n",
       "        vertical-align: top;\n",
       "    }\n",
       "\n",
       "    .dataframe thead th {\n",
       "        text-align: right;\n",
       "    }\n",
       "</style>\n",
       "<table border=\"1\" class=\"dataframe\">\n",
       "  <thead>\n",
       "    <tr style=\"text-align: right;\">\n",
       "      <th></th>\n",
       "      <th>accuracy</th>\n",
       "      <th>precision</th>\n",
       "      <th>recall</th>\n",
       "      <th>f1</th>\n",
       "      <th>kappa</th>\n",
       "    </tr>\n",
       "  </thead>\n",
       "  <tbody>\n",
       "    <tr>\n",
       "      <th>GT</th>\n",
       "      <td>1.000000</td>\n",
       "      <td>1.000000</td>\n",
       "      <td>1.000000</td>\n",
       "      <td>1.000000</td>\n",
       "      <td>1.000000</td>\n",
       "    </tr>\n",
       "    <tr>\n",
       "      <th>RandomForestClassifier0</th>\n",
       "      <td>0.841732</td>\n",
       "      <td>0.755711</td>\n",
       "      <td>0.738895</td>\n",
       "      <td>0.746023</td>\n",
       "      <td>0.714637</td>\n",
       "    </tr>\n",
       "    <tr>\n",
       "      <th>RandomForestClassifier1</th>\n",
       "      <td>0.825197</td>\n",
       "      <td>0.736229</td>\n",
       "      <td>0.735957</td>\n",
       "      <td>0.735758</td>\n",
       "      <td>0.686820</td>\n",
       "    </tr>\n",
       "    <tr>\n",
       "      <th>RandomForestClassifier2</th>\n",
       "      <td>0.841732</td>\n",
       "      <td>0.752278</td>\n",
       "      <td>0.733319</td>\n",
       "      <td>0.741156</td>\n",
       "      <td>0.714436</td>\n",
       "    </tr>\n",
       "    <tr>\n",
       "      <th>RandomForestClassifier3</th>\n",
       "      <td>0.840945</td>\n",
       "      <td>0.749740</td>\n",
       "      <td>0.732294</td>\n",
       "      <td>0.739621</td>\n",
       "      <td>0.713030</td>\n",
       "    </tr>\n",
       "    <tr>\n",
       "      <th>XGBClassifier4</th>\n",
       "      <td>0.878740</td>\n",
       "      <td>0.791175</td>\n",
       "      <td>0.778696</td>\n",
       "      <td>0.784562</td>\n",
       "      <td>0.780800</td>\n",
       "    </tr>\n",
       "    <tr>\n",
       "      <th>XGBClassifier5</th>\n",
       "      <td>0.876378</td>\n",
       "      <td>0.787616</td>\n",
       "      <td>0.771823</td>\n",
       "      <td>0.778952</td>\n",
       "      <td>0.776632</td>\n",
       "    </tr>\n",
       "    <tr>\n",
       "      <th>XGBClassifier6</th>\n",
       "      <td>0.872441</td>\n",
       "      <td>0.777700</td>\n",
       "      <td>0.771886</td>\n",
       "      <td>0.774579</td>\n",
       "      <td>0.770419</td>\n",
       "    </tr>\n",
       "    <tr>\n",
       "      <th>XGBClassifier7</th>\n",
       "      <td>0.885039</td>\n",
       "      <td>0.801092</td>\n",
       "      <td>0.781174</td>\n",
       "      <td>0.790012</td>\n",
       "      <td>0.792094</td>\n",
       "    </tr>\n",
       "    <tr>\n",
       "      <th>XGBClassifier8</th>\n",
       "      <td>0.880315</td>\n",
       "      <td>0.792004</td>\n",
       "      <td>0.782911</td>\n",
       "      <td>0.787249</td>\n",
       "      <td>0.783973</td>\n",
       "    </tr>\n",
       "    <tr>\n",
       "      <th>XGBClassifier9</th>\n",
       "      <td>0.874803</td>\n",
       "      <td>0.785187</td>\n",
       "      <td>0.764553</td>\n",
       "      <td>0.773673</td>\n",
       "      <td>0.773250</td>\n",
       "    </tr>\n",
       "    <tr>\n",
       "      <th>XGBClassifier10</th>\n",
       "      <td>0.873228</td>\n",
       "      <td>0.778378</td>\n",
       "      <td>0.772378</td>\n",
       "      <td>0.775186</td>\n",
       "      <td>0.771745</td>\n",
       "    </tr>\n",
       "    <tr>\n",
       "      <th>XGBClassifier11</th>\n",
       "      <td>0.885039</td>\n",
       "      <td>0.801092</td>\n",
       "      <td>0.781174</td>\n",
       "      <td>0.790012</td>\n",
       "      <td>0.792094</td>\n",
       "    </tr>\n",
       "    <tr>\n",
       "      <th>XGBClassifier12</th>\n",
       "      <td>0.878740</td>\n",
       "      <td>0.791263</td>\n",
       "      <td>0.775997</td>\n",
       "      <td>0.783033</td>\n",
       "      <td>0.780690</td>\n",
       "    </tr>\n",
       "  </tbody>\n",
       "</table>\n",
       "</div>"
      ]
     },
     "execution_count": 15,
     "metadata": {},
     "output_type": "execute_result"
    }
   ],
   "execution_count": 15
  },
  {
   "metadata": {
    "ExecuteTime": {
     "end_time": "2024-11-03T19:49:50.447441Z",
     "start_time": "2024-11-03T19:49:50.438691Z"
    }
   },
   "cell_type": "code",
   "source": [
    "highest = df_smote[df_smote[\"kappa\"] == df_smote.iloc[1:][\"kappa\"].max()]\n",
    "idx = highest.index[0]\n",
    "\n",
    "confusion_matrix(pipeline.predictions[\"GT\"], pipeline.predictions[idx])"
   ],
   "id": "cdc894cce6a949f2",
   "outputs": [
    {
     "data": {
      "text/plain": [
       "array([[444,  31,  23],\n",
       "       [ 38, 631,   9],\n",
       "       [ 33,  12,  49]], dtype=int64)"
      ]
     },
     "execution_count": 16,
     "metadata": {},
     "output_type": "execute_result"
    }
   ],
   "execution_count": 16
  },
  {
   "metadata": {},
   "cell_type": "markdown",
   "source": [
    "___\n",
    "# Borderline SMOTE"
   ],
   "id": "1e752cdfc948f3bc"
  },
  {
   "metadata": {
    "ExecuteTime": {
     "end_time": "2024-11-03T19:49:50.708301Z",
     "start_time": "2024-11-03T19:49:50.493808Z"
    }
   },
   "cell_type": "code",
   "source": [
    "from imblearn.over_sampling import BorderlineSMOTE\n",
    "smote = BorderlineSMOTE(sampling_strategy='auto', random_state=42)\n",
    "\n",
    "pipeline.feature_matrix, pipeline.labels = smote.fit_resample(\n",
    "    np.nan_to_num(pipeline.backup_feature_matrix), pipeline.backup_labels)\n",
    "\n",
    "print(pipeline.backup_feature_matrix.shape)\n",
    "print(pipeline.feature_matrix.shape)\n",
    "\n",
    "print(pipeline.backup_labels.shape)\n",
    "print(pipeline.labels.shape)"
   ],
   "id": "ca12420fbcc1eb2b",
   "outputs": [
    {
     "name": "stdout",
     "output_type": "stream",
     "text": [
      "(5082, 519)\n",
      "(8139, 519)\n",
      "(5082,)\n",
      "(8139,)\n"
     ]
    }
   ],
   "execution_count": 17
  },
  {
   "metadata": {
    "ExecuteTime": {
     "end_time": "2024-11-03T19:57:08.734016Z",
     "start_time": "2024-11-03T19:49:50.753899Z"
    }
   },
   "cell_type": "code",
   "source": [
    "pipeline.fitted_classifiers = {}\n",
    "\n",
    "pipeline.fit_classifiers()"
   ],
   "id": "a4ea57f5e5a38f80",
   "outputs": [
    {
     "name": "stderr",
     "output_type": "stream",
     "text": [
      "INFO:utils.ml:Fitting classifiers...\n",
      "INFO:utils.ml:Fitting classifier: RandomForestClassifier0\n",
      "INFO:utils.ml:Fitted classifier: RandomForestClassifier0; Done in 19.617548942565918 seconds\n",
      "INFO:utils.ml:Fitting classifier: RandomForestClassifier1\n"
     ]
    },
    {
     "name": "stdout",
     "output_type": "stream",
     "text": [
      "'list' object has no attribute 'shape'\n"
     ]
    },
    {
     "name": "stderr",
     "output_type": "stream",
     "text": [
      "INFO:utils.ml:Fitted classifier: RandomForestClassifier1; Done in 20.356825828552246 seconds\n",
      "INFO:utils.ml:Fitting classifier: RandomForestClassifier2\n"
     ]
    },
    {
     "name": "stdout",
     "output_type": "stream",
     "text": [
      "'list' object has no attribute 'shape'\n"
     ]
    },
    {
     "name": "stderr",
     "output_type": "stream",
     "text": [
      "INFO:utils.ml:Fitted classifier: RandomForestClassifier2; Done in 29.118584394454956 seconds\n",
      "INFO:utils.ml:Fitting classifier: RandomForestClassifier3\n"
     ]
    },
    {
     "name": "stdout",
     "output_type": "stream",
     "text": [
      "'list' object has no attribute 'shape'\n"
     ]
    },
    {
     "name": "stderr",
     "output_type": "stream",
     "text": [
      "INFO:utils.ml:Fitted classifier: RandomForestClassifier3; Done in 37.67693829536438 seconds\n",
      "INFO:utils.ml:Fitting classifier: XGBClassifier4\n"
     ]
    },
    {
     "name": "stdout",
     "output_type": "stream",
     "text": [
      "'list' object has no attribute 'shape'\n"
     ]
    },
    {
     "name": "stderr",
     "output_type": "stream",
     "text": [
      "INFO:utils.ml:Fitted classifier: XGBClassifier4; Done in 34.55964517593384 seconds\n",
      "INFO:utils.ml:Fitting classifier: XGBClassifier5\n"
     ]
    },
    {
     "name": "stdout",
     "output_type": "stream",
     "text": [
      "'list' object has no attribute 'shape'\n"
     ]
    },
    {
     "name": "stderr",
     "output_type": "stream",
     "text": [
      "INFO:utils.ml:Fitted classifier: XGBClassifier5; Done in 35.703076124191284 seconds\n",
      "INFO:utils.ml:Fitting classifier: XGBClassifier6\n"
     ]
    },
    {
     "name": "stdout",
     "output_type": "stream",
     "text": [
      "'list' object has no attribute 'shape'\n"
     ]
    },
    {
     "name": "stderr",
     "output_type": "stream",
     "text": [
      "INFO:utils.ml:Fitted classifier: XGBClassifier6; Done in 19.952351331710815 seconds\n",
      "INFO:utils.ml:Fitting classifier: XGBClassifier7\n"
     ]
    },
    {
     "name": "stdout",
     "output_type": "stream",
     "text": [
      "'list' object has no attribute 'shape'\n"
     ]
    },
    {
     "name": "stderr",
     "output_type": "stream",
     "text": [
      "INFO:utils.ml:Fitted classifier: XGBClassifier7; Done in 30.00417923927307 seconds\n",
      "INFO:utils.ml:Fitting classifier: XGBClassifier8\n"
     ]
    },
    {
     "name": "stdout",
     "output_type": "stream",
     "text": [
      "'list' object has no attribute 'shape'\n"
     ]
    },
    {
     "name": "stderr",
     "output_type": "stream",
     "text": [
      "INFO:utils.ml:Fitted classifier: XGBClassifier8; Done in 49.55645823478699 seconds\n",
      "INFO:utils.ml:Fitting classifier: XGBClassifier9\n"
     ]
    },
    {
     "name": "stdout",
     "output_type": "stream",
     "text": [
      "'list' object has no attribute 'shape'\n"
     ]
    },
    {
     "name": "stderr",
     "output_type": "stream",
     "text": [
      "INFO:utils.ml:Fitted classifier: XGBClassifier9; Done in 44.49885630607605 seconds\n",
      "INFO:utils.ml:Fitting classifier: XGBClassifier10\n"
     ]
    },
    {
     "name": "stdout",
     "output_type": "stream",
     "text": [
      "'list' object has no attribute 'shape'\n"
     ]
    },
    {
     "name": "stderr",
     "output_type": "stream",
     "text": [
      "INFO:utils.ml:Fitted classifier: XGBClassifier10; Done in 24.57122564315796 seconds\n",
      "INFO:utils.ml:Fitting classifier: XGBClassifier11\n"
     ]
    },
    {
     "name": "stdout",
     "output_type": "stream",
     "text": [
      "'list' object has no attribute 'shape'\n"
     ]
    },
    {
     "name": "stderr",
     "output_type": "stream",
     "text": [
      "INFO:utils.ml:Fitted classifier: XGBClassifier11; Done in 41.96625638008118 seconds\n",
      "INFO:utils.ml:Fitting classifier: XGBClassifier12\n"
     ]
    },
    {
     "name": "stdout",
     "output_type": "stream",
     "text": [
      "'list' object has no attribute 'shape'\n"
     ]
    },
    {
     "name": "stderr",
     "output_type": "stream",
     "text": [
      "INFO:utils.ml:Fitted classifier: XGBClassifier12; Done in 50.3948757648468 seconds\n",
      "INFO:utils.ml:Fitting completed in 437.98 seconds.\n"
     ]
    },
    {
     "name": "stdout",
     "output_type": "stream",
     "text": [
      "'list' object has no attribute 'shape'\n"
     ]
    }
   ],
   "execution_count": 18
  },
  {
   "metadata": {
    "ExecuteTime": {
     "end_time": "2024-11-03T19:59:48.871603Z",
     "start_time": "2024-11-03T19:57:08.910948Z"
    }
   },
   "cell_type": "code",
   "source": "pipeline.predict_with_classifiers(VAL_PATH, percent)",
   "id": "156c56b343fa5df1",
   "outputs": [
    {
     "name": "stderr",
     "output_type": "stream",
     "text": [
      "INFO:utils.ml:Predicting with classifiers on dataset: C:\\Users\\gimes\\Src\\repos\\CADx-Project\\dataset\\multiclass\\val\n"
     ]
    },
    {
     "name": "stdout",
     "output_type": "stream",
     "text": [
      "Processed 5/53 batches.\n",
      "Processed 10/53 batches.\n",
      "Processed 15/53 batches.\n",
      "Processed 20/53 batches.\n",
      "Processed 25/53 batches.\n",
      "Processed 30/53 batches.\n",
      "Processed 35/53 batches.\n",
      "Processed 40/53 batches.\n",
      "Processed 45/53 batches.\n",
      "Processed 50/53 batches.\n"
     ]
    },
    {
     "name": "stderr",
     "output_type": "stream",
     "text": [
      "INFO:utils.ml:Predictions made with classifier: RandomForestClassifier0\n",
      "INFO:utils.ml:Predictions made with classifier: RandomForestClassifier1\n",
      "INFO:utils.ml:Predictions made with classifier: RandomForestClassifier2\n",
      "INFO:utils.ml:Predictions made with classifier: RandomForestClassifier3\n",
      "INFO:utils.ml:Predictions made with classifier: XGBClassifier4\n",
      "INFO:utils.ml:Predictions made with classifier: XGBClassifier5\n",
      "INFO:utils.ml:Predictions made with classifier: XGBClassifier6\n",
      "INFO:utils.ml:Predictions made with classifier: XGBClassifier7\n",
      "INFO:utils.ml:Predictions made with classifier: XGBClassifier8\n",
      "INFO:utils.ml:Predictions made with classifier: XGBClassifier9\n"
     ]
    },
    {
     "name": "stdout",
     "output_type": "stream",
     "text": [
      "Processed 53/53 batches.\n"
     ]
    },
    {
     "name": "stderr",
     "output_type": "stream",
     "text": [
      "INFO:utils.ml:Predictions made with classifier: XGBClassifier10\n",
      "INFO:utils.ml:Predictions made with classifier: XGBClassifier11\n",
      "INFO:utils.ml:Predictions made with classifier: XGBClassifier12\n"
     ]
    },
    {
     "data": {
      "text/plain": [
       "{'GT': array([0, 0, 0, ..., 2, 2, 2]),\n",
       " 'RandomForestClassifier0': array([0, 0, 2, ..., 1, 2, 0]),\n",
       " 'RandomForestClassifier1': array([0, 0, 2, ..., 1, 2, 0]),\n",
       " 'RandomForestClassifier2': array([2, 0, 2, ..., 1, 2, 0]),\n",
       " 'RandomForestClassifier3': array([0, 0, 2, ..., 1, 2, 0]),\n",
       " 'XGBClassifier4': array([0, 0, 2, ..., 0, 2, 0], dtype=int64),\n",
       " 'XGBClassifier5': array([0, 0, 0, ..., 0, 2, 0], dtype=int64),\n",
       " 'XGBClassifier6': array([0, 0, 2, ..., 0, 2, 0], dtype=int64),\n",
       " 'XGBClassifier7': array([0, 0, 0, ..., 0, 2, 0], dtype=int64),\n",
       " 'XGBClassifier8': array([0, 0, 2, ..., 0, 2, 0], dtype=int64),\n",
       " 'XGBClassifier9': array([0, 0, 0, ..., 0, 2, 0], dtype=int64),\n",
       " 'XGBClassifier10': array([0, 0, 2, ..., 0, 2, 0], dtype=int64),\n",
       " 'XGBClassifier11': array([0, 0, 0, ..., 0, 2, 0], dtype=int64),\n",
       " 'XGBClassifier12': array([0, 0, 2, ..., 0, 2, 0], dtype=int64)}"
      ]
     },
     "execution_count": 19,
     "metadata": {},
     "output_type": "execute_result"
    }
   ],
   "execution_count": 19
  },
  {
   "metadata": {
    "ExecuteTime": {
     "end_time": "2024-11-03T19:59:49.015262Z",
     "start_time": "2024-11-03T19:59:48.943943Z"
    }
   },
   "cell_type": "code",
   "source": [
    "df_borderline_smote = pd.DataFrame(data=pipeline.calculate_metrics(\n",
    "    [\"accuracy\", \"precision\", \"recall\", \"f1\", \"kappa\"],))\n",
    "df_borderline_smote = df_borderline_smote.T\n",
    "df_borderline_smote"
   ],
   "id": "dec33139485e5176",
   "outputs": [
    {
     "name": "stderr",
     "output_type": "stream",
     "text": [
      "INFO:utils.ml:Metrics for classifier GT: {'accuracy': 1.0, 'precision': 1.0, 'recall': 1.0, 'f1': 1.0, 'kappa': 1.0}\n",
      "INFO:utils.ml:Metrics for classifier RandomForestClassifier0: {'accuracy': 0.8496062992125984, 'precision': 0.7733413473351555, 'recall': 0.7446996294977185, 'f1': 0.756405588301574, 'kappa': 0.7278774960735921}\n",
      "INFO:utils.ml:Metrics for classifier RandomForestClassifier1: {'accuracy': 0.8275590551181102, 'precision': 0.7405335669910782, 'recall': 0.7316779828786054, 'f1': 0.7354332524492153, 'kappa': 0.6900312498606906}\n",
      "INFO:utils.ml:Metrics for classifier RandomForestClassifier2: {'accuracy': 0.84251968503937, 'precision': 0.7636128425502746, 'recall': 0.7420853942349451, 'f1': 0.7512525555551118, 'kappa': 0.7155132633540762}\n",
      "INFO:utils.ml:Metrics for classifier RandomForestClassifier3: {'accuracy': 0.84251968503937, 'precision': 0.763685815714855, 'recall': 0.7422630961932208, 'f1': 0.7513576672496395, 'kappa': 0.7155706056778378}\n",
      "INFO:utils.ml:Metrics for classifier XGBClassifier4: {'accuracy': 0.8795275590551181, 'precision': 0.7988085519922254, 'recall': 0.7820641758649485, 'f1': 0.7898198012772939, 'kappa': 0.7818937339487437}\n",
      "INFO:utils.ml:Metrics for classifier XGBClassifier5: {'accuracy': 0.8795275590551181, 'precision': 0.7981265989735599, 'recall': 0.7854740369877174, 'f1': 0.7914048514681399, 'kappa': 0.7823988425065288}\n",
      "INFO:utils.ml:Metrics for classifier XGBClassifier6: {'accuracy': 0.878740157480315, 'precision': 0.7904627893467212, 'recall': 0.7828164474883151, 'f1': 0.7863339154817593, 'kappa': 0.7817021827549412}\n",
      "INFO:utils.ml:Metrics for classifier XGBClassifier7: {'accuracy': 0.8755905511811024, 'precision': 0.7944190072618076, 'recall': 0.7738524549462521, 'f1': 0.7830588794921883, 'kappa': 0.7747782127720709}\n",
      "INFO:utils.ml:Metrics for classifier XGBClassifier8: {'accuracy': 0.878740157480315, 'precision': 0.7980664365650737, 'recall': 0.7815725337803859, 'f1': 0.7892040896016543, 'kappa': 0.7805568770364519}\n",
      "INFO:utils.ml:Metrics for classifier XGBClassifier9: {'accuracy': 0.8803149606299212, 'precision': 0.7971012301453456, 'recall': 0.7832666257826132, 'f1': 0.7896736780933343, 'kappa': 0.7838104197464498}\n",
      "INFO:utils.ml:Metrics for classifier XGBClassifier10: {'accuracy': 0.8795275590551181, 'precision': 0.792776092573868, 'recall': 0.7834857915311532, 'f1': 0.7877372747630917, 'kappa': 0.783021859729679}\n",
      "INFO:utils.ml:Metrics for classifier XGBClassifier11: {'accuracy': 0.8755905511811024, 'precision': 0.7924631999909625, 'recall': 0.7736747529879765, 'f1': 0.7821729528217406, 'kappa': 0.774834823512514}\n",
      "INFO:utils.ml:Metrics for classifier XGBClassifier12: {'accuracy': 0.878740157480315, 'precision': 0.7979437396398296, 'recall': 0.7815725337803859, 'f1': 0.7891419810365727, 'kappa': 0.7806011872977983}\n"
     ]
    },
    {
     "data": {
      "text/plain": [
       "                         accuracy  precision    recall        f1     kappa\n",
       "GT                       1.000000   1.000000  1.000000  1.000000  1.000000\n",
       "RandomForestClassifier0  0.849606   0.773341  0.744700  0.756406  0.727877\n",
       "RandomForestClassifier1  0.827559   0.740534  0.731678  0.735433  0.690031\n",
       "RandomForestClassifier2  0.842520   0.763613  0.742085  0.751253  0.715513\n",
       "RandomForestClassifier3  0.842520   0.763686  0.742263  0.751358  0.715571\n",
       "XGBClassifier4           0.879528   0.798809  0.782064  0.789820  0.781894\n",
       "XGBClassifier5           0.879528   0.798127  0.785474  0.791405  0.782399\n",
       "XGBClassifier6           0.878740   0.790463  0.782816  0.786334  0.781702\n",
       "XGBClassifier7           0.875591   0.794419  0.773852  0.783059  0.774778\n",
       "XGBClassifier8           0.878740   0.798066  0.781573  0.789204  0.780557\n",
       "XGBClassifier9           0.880315   0.797101  0.783267  0.789674  0.783810\n",
       "XGBClassifier10          0.879528   0.792776  0.783486  0.787737  0.783022\n",
       "XGBClassifier11          0.875591   0.792463  0.773675  0.782173  0.774835\n",
       "XGBClassifier12          0.878740   0.797944  0.781573  0.789142  0.780601"
      ],
      "text/html": [
       "<div>\n",
       "<style scoped>\n",
       "    .dataframe tbody tr th:only-of-type {\n",
       "        vertical-align: middle;\n",
       "    }\n",
       "\n",
       "    .dataframe tbody tr th {\n",
       "        vertical-align: top;\n",
       "    }\n",
       "\n",
       "    .dataframe thead th {\n",
       "        text-align: right;\n",
       "    }\n",
       "</style>\n",
       "<table border=\"1\" class=\"dataframe\">\n",
       "  <thead>\n",
       "    <tr style=\"text-align: right;\">\n",
       "      <th></th>\n",
       "      <th>accuracy</th>\n",
       "      <th>precision</th>\n",
       "      <th>recall</th>\n",
       "      <th>f1</th>\n",
       "      <th>kappa</th>\n",
       "    </tr>\n",
       "  </thead>\n",
       "  <tbody>\n",
       "    <tr>\n",
       "      <th>GT</th>\n",
       "      <td>1.000000</td>\n",
       "      <td>1.000000</td>\n",
       "      <td>1.000000</td>\n",
       "      <td>1.000000</td>\n",
       "      <td>1.000000</td>\n",
       "    </tr>\n",
       "    <tr>\n",
       "      <th>RandomForestClassifier0</th>\n",
       "      <td>0.849606</td>\n",
       "      <td>0.773341</td>\n",
       "      <td>0.744700</td>\n",
       "      <td>0.756406</td>\n",
       "      <td>0.727877</td>\n",
       "    </tr>\n",
       "    <tr>\n",
       "      <th>RandomForestClassifier1</th>\n",
       "      <td>0.827559</td>\n",
       "      <td>0.740534</td>\n",
       "      <td>0.731678</td>\n",
       "      <td>0.735433</td>\n",
       "      <td>0.690031</td>\n",
       "    </tr>\n",
       "    <tr>\n",
       "      <th>RandomForestClassifier2</th>\n",
       "      <td>0.842520</td>\n",
       "      <td>0.763613</td>\n",
       "      <td>0.742085</td>\n",
       "      <td>0.751253</td>\n",
       "      <td>0.715513</td>\n",
       "    </tr>\n",
       "    <tr>\n",
       "      <th>RandomForestClassifier3</th>\n",
       "      <td>0.842520</td>\n",
       "      <td>0.763686</td>\n",
       "      <td>0.742263</td>\n",
       "      <td>0.751358</td>\n",
       "      <td>0.715571</td>\n",
       "    </tr>\n",
       "    <tr>\n",
       "      <th>XGBClassifier4</th>\n",
       "      <td>0.879528</td>\n",
       "      <td>0.798809</td>\n",
       "      <td>0.782064</td>\n",
       "      <td>0.789820</td>\n",
       "      <td>0.781894</td>\n",
       "    </tr>\n",
       "    <tr>\n",
       "      <th>XGBClassifier5</th>\n",
       "      <td>0.879528</td>\n",
       "      <td>0.798127</td>\n",
       "      <td>0.785474</td>\n",
       "      <td>0.791405</td>\n",
       "      <td>0.782399</td>\n",
       "    </tr>\n",
       "    <tr>\n",
       "      <th>XGBClassifier6</th>\n",
       "      <td>0.878740</td>\n",
       "      <td>0.790463</td>\n",
       "      <td>0.782816</td>\n",
       "      <td>0.786334</td>\n",
       "      <td>0.781702</td>\n",
       "    </tr>\n",
       "    <tr>\n",
       "      <th>XGBClassifier7</th>\n",
       "      <td>0.875591</td>\n",
       "      <td>0.794419</td>\n",
       "      <td>0.773852</td>\n",
       "      <td>0.783059</td>\n",
       "      <td>0.774778</td>\n",
       "    </tr>\n",
       "    <tr>\n",
       "      <th>XGBClassifier8</th>\n",
       "      <td>0.878740</td>\n",
       "      <td>0.798066</td>\n",
       "      <td>0.781573</td>\n",
       "      <td>0.789204</td>\n",
       "      <td>0.780557</td>\n",
       "    </tr>\n",
       "    <tr>\n",
       "      <th>XGBClassifier9</th>\n",
       "      <td>0.880315</td>\n",
       "      <td>0.797101</td>\n",
       "      <td>0.783267</td>\n",
       "      <td>0.789674</td>\n",
       "      <td>0.783810</td>\n",
       "    </tr>\n",
       "    <tr>\n",
       "      <th>XGBClassifier10</th>\n",
       "      <td>0.879528</td>\n",
       "      <td>0.792776</td>\n",
       "      <td>0.783486</td>\n",
       "      <td>0.787737</td>\n",
       "      <td>0.783022</td>\n",
       "    </tr>\n",
       "    <tr>\n",
       "      <th>XGBClassifier11</th>\n",
       "      <td>0.875591</td>\n",
       "      <td>0.792463</td>\n",
       "      <td>0.773675</td>\n",
       "      <td>0.782173</td>\n",
       "      <td>0.774835</td>\n",
       "    </tr>\n",
       "    <tr>\n",
       "      <th>XGBClassifier12</th>\n",
       "      <td>0.878740</td>\n",
       "      <td>0.797944</td>\n",
       "      <td>0.781573</td>\n",
       "      <td>0.789142</td>\n",
       "      <td>0.780601</td>\n",
       "    </tr>\n",
       "  </tbody>\n",
       "</table>\n",
       "</div>"
      ]
     },
     "execution_count": 20,
     "metadata": {},
     "output_type": "execute_result"
    }
   ],
   "execution_count": 20
  },
  {
   "metadata": {
    "ExecuteTime": {
     "end_time": "2024-11-03T19:59:49.061951Z",
     "start_time": "2024-11-03T19:59:49.054577Z"
    }
   },
   "cell_type": "code",
   "source": [
    "highest = df_borderline_smote[df_borderline_smote[\"kappa\"] == df_borderline_smote.iloc[1:][\"kappa\"].max()]\n",
    "idx = highest.index[0]\n",
    "\n",
    "confusion_matrix(pipeline.predictions[\"GT\"], pipeline.predictions[idx])"
   ],
   "id": "5e3d245571ac5c69",
   "outputs": [
    {
     "data": {
      "text/plain": [
       "array([[438,  35,  25],\n",
       "       [ 40, 629,   9],\n",
       "       [ 30,  13,  51]], dtype=int64)"
      ]
     },
     "execution_count": 21,
     "metadata": {},
     "output_type": "execute_result"
    }
   ],
   "execution_count": 21
  },
  {
   "metadata": {},
   "cell_type": "markdown",
   "source": [
    "___\n",
    "# PCA"
   ],
   "id": "ba27735e389e88cf"
  },
  {
   "metadata": {
    "ExecuteTime": {
     "end_time": "2024-11-03T20:02:53.000467Z",
     "start_time": "2024-11-03T19:59:49.091446Z"
    }
   },
   "cell_type": "code",
   "source": [
    "from sklearn.decomposition import PCA\n",
    "from imblearn.over_sampling import BorderlineSMOTE\n",
    "smote = BorderlineSMOTE(sampling_strategy='auto', random_state=42)\n",
    "\n",
    "pipeline.feature_matrix, pipeline.labels = smote.fit_resample(\n",
    "    np.nan_to_num(pipeline.backup_feature_matrix), pipeline.backup_labels)\n",
    "\n",
    "pca = PCA(n_components=200)\n",
    "\n",
    "pipeline.feature_matrix = pca.fit_transform(pipeline.feature_matrix, pipeline.labels)\n",
    "\n",
    "print(pipeline.backup_feature_matrix.shape)\n",
    "print(pipeline.feature_matrix.shape)\n",
    "\n",
    "print(pipeline.backup_labels.shape)\n",
    "print(pipeline.labels.shape)\n",
    "\n",
    "print(pca.get_feature_names_out())\n",
    "\n",
    "pipeline.fitted_classifiers = {}\n",
    "pipeline.fit_classifiers()"
   ],
   "id": "7f3f0be89a7b9f88",
   "outputs": [
    {
     "name": "stderr",
     "output_type": "stream",
     "text": [
      "INFO:utils.ml:Fitting classifiers...\n",
      "INFO:utils.ml:Fitting classifier: RandomForestClassifier0\n"
     ]
    },
    {
     "name": "stdout",
     "output_type": "stream",
     "text": [
      "(5082, 519)\n",
      "(8139, 200)\n",
      "(5082,)\n",
      "(8139,)\n",
      "['pca0' 'pca1' 'pca2' 'pca3' 'pca4' 'pca5' 'pca6' 'pca7' 'pca8' 'pca9'\n",
      " 'pca10' 'pca11' 'pca12' 'pca13' 'pca14' 'pca15' 'pca16' 'pca17' 'pca18'\n",
      " 'pca19' 'pca20' 'pca21' 'pca22' 'pca23' 'pca24' 'pca25' 'pca26' 'pca27'\n",
      " 'pca28' 'pca29' 'pca30' 'pca31' 'pca32' 'pca33' 'pca34' 'pca35' 'pca36'\n",
      " 'pca37' 'pca38' 'pca39' 'pca40' 'pca41' 'pca42' 'pca43' 'pca44' 'pca45'\n",
      " 'pca46' 'pca47' 'pca48' 'pca49' 'pca50' 'pca51' 'pca52' 'pca53' 'pca54'\n",
      " 'pca55' 'pca56' 'pca57' 'pca58' 'pca59' 'pca60' 'pca61' 'pca62' 'pca63'\n",
      " 'pca64' 'pca65' 'pca66' 'pca67' 'pca68' 'pca69' 'pca70' 'pca71' 'pca72'\n",
      " 'pca73' 'pca74' 'pca75' 'pca76' 'pca77' 'pca78' 'pca79' 'pca80' 'pca81'\n",
      " 'pca82' 'pca83' 'pca84' 'pca85' 'pca86' 'pca87' 'pca88' 'pca89' 'pca90'\n",
      " 'pca91' 'pca92' 'pca93' 'pca94' 'pca95' 'pca96' 'pca97' 'pca98' 'pca99'\n",
      " 'pca100' 'pca101' 'pca102' 'pca103' 'pca104' 'pca105' 'pca106' 'pca107'\n",
      " 'pca108' 'pca109' 'pca110' 'pca111' 'pca112' 'pca113' 'pca114' 'pca115'\n",
      " 'pca116' 'pca117' 'pca118' 'pca119' 'pca120' 'pca121' 'pca122' 'pca123'\n",
      " 'pca124' 'pca125' 'pca126' 'pca127' 'pca128' 'pca129' 'pca130' 'pca131'\n",
      " 'pca132' 'pca133' 'pca134' 'pca135' 'pca136' 'pca137' 'pca138' 'pca139'\n",
      " 'pca140' 'pca141' 'pca142' 'pca143' 'pca144' 'pca145' 'pca146' 'pca147'\n",
      " 'pca148' 'pca149' 'pca150' 'pca151' 'pca152' 'pca153' 'pca154' 'pca155'\n",
      " 'pca156' 'pca157' 'pca158' 'pca159' 'pca160' 'pca161' 'pca162' 'pca163'\n",
      " 'pca164' 'pca165' 'pca166' 'pca167' 'pca168' 'pca169' 'pca170' 'pca171'\n",
      " 'pca172' 'pca173' 'pca174' 'pca175' 'pca176' 'pca177' 'pca178' 'pca179'\n",
      " 'pca180' 'pca181' 'pca182' 'pca183' 'pca184' 'pca185' 'pca186' 'pca187'\n",
      " 'pca188' 'pca189' 'pca190' 'pca191' 'pca192' 'pca193' 'pca194' 'pca195'\n",
      " 'pca196' 'pca197' 'pca198' 'pca199']\n"
     ]
    },
    {
     "name": "stderr",
     "output_type": "stream",
     "text": [
      "INFO:utils.ml:Fitted classifier: RandomForestClassifier0; Done in 13.480910301208496 seconds\n",
      "INFO:utils.ml:Fitting classifier: RandomForestClassifier1\n"
     ]
    },
    {
     "name": "stdout",
     "output_type": "stream",
     "text": [
      "'list' object has no attribute 'shape'\n"
     ]
    },
    {
     "name": "stderr",
     "output_type": "stream",
     "text": [
      "INFO:utils.ml:Fitted classifier: RandomForestClassifier1; Done in 13.796612739562988 seconds\n",
      "INFO:utils.ml:Fitting classifier: RandomForestClassifier2\n"
     ]
    },
    {
     "name": "stdout",
     "output_type": "stream",
     "text": [
      "'list' object has no attribute 'shape'\n"
     ]
    },
    {
     "name": "stderr",
     "output_type": "stream",
     "text": [
      "INFO:utils.ml:Fitted classifier: RandomForestClassifier2; Done in 20.23788571357727 seconds\n",
      "INFO:utils.ml:Fitting classifier: RandomForestClassifier3\n"
     ]
    },
    {
     "name": "stdout",
     "output_type": "stream",
     "text": [
      "'list' object has no attribute 'shape'\n"
     ]
    },
    {
     "name": "stderr",
     "output_type": "stream",
     "text": [
      "INFO:utils.ml:Fitted classifier: RandomForestClassifier3; Done in 27.195294857025146 seconds\n",
      "INFO:utils.ml:Fitting classifier: XGBClassifier4\n"
     ]
    },
    {
     "name": "stdout",
     "output_type": "stream",
     "text": [
      "'list' object has no attribute 'shape'\n"
     ]
    },
    {
     "name": "stderr",
     "output_type": "stream",
     "text": [
      "INFO:utils.ml:Fitted classifier: XGBClassifier4; Done in 11.358813524246216 seconds\n",
      "INFO:utils.ml:Fitting classifier: XGBClassifier5\n"
     ]
    },
    {
     "name": "stdout",
     "output_type": "stream",
     "text": [
      "'list' object has no attribute 'shape'\n"
     ]
    },
    {
     "name": "stderr",
     "output_type": "stream",
     "text": [
      "INFO:utils.ml:Fitted classifier: XGBClassifier5; Done in 12.353408813476562 seconds\n",
      "INFO:utils.ml:Fitting classifier: XGBClassifier6\n"
     ]
    },
    {
     "name": "stdout",
     "output_type": "stream",
     "text": [
      "'list' object has no attribute 'shape'\n"
     ]
    },
    {
     "name": "stderr",
     "output_type": "stream",
     "text": [
      "INFO:utils.ml:Fitted classifier: XGBClassifier6; Done in 7.158859968185425 seconds\n",
      "INFO:utils.ml:Fitting classifier: XGBClassifier7\n"
     ]
    },
    {
     "name": "stdout",
     "output_type": "stream",
     "text": [
      "'list' object has no attribute 'shape'\n"
     ]
    },
    {
     "name": "stderr",
     "output_type": "stream",
     "text": [
      "INFO:utils.ml:Fitted classifier: XGBClassifier7; Done in 11.075444459915161 seconds\n",
      "INFO:utils.ml:Fitting classifier: XGBClassifier8\n"
     ]
    },
    {
     "name": "stdout",
     "output_type": "stream",
     "text": [
      "'list' object has no attribute 'shape'\n"
     ]
    },
    {
     "name": "stderr",
     "output_type": "stream",
     "text": [
      "INFO:utils.ml:Fitted classifier: XGBClassifier8; Done in 14.238271236419678 seconds\n",
      "INFO:utils.ml:Fitting classifier: XGBClassifier9\n"
     ]
    },
    {
     "name": "stdout",
     "output_type": "stream",
     "text": [
      "'list' object has no attribute 'shape'\n"
     ]
    },
    {
     "name": "stderr",
     "output_type": "stream",
     "text": [
      "INFO:utils.ml:Fitted classifier: XGBClassifier9; Done in 14.401986360549927 seconds\n",
      "INFO:utils.ml:Fitting classifier: XGBClassifier10\n"
     ]
    },
    {
     "name": "stdout",
     "output_type": "stream",
     "text": [
      "'list' object has no attribute 'shape'\n"
     ]
    },
    {
     "name": "stderr",
     "output_type": "stream",
     "text": [
      "INFO:utils.ml:Fitted classifier: XGBClassifier10; Done in 7.853266477584839 seconds\n",
      "INFO:utils.ml:Fitting classifier: XGBClassifier11\n"
     ]
    },
    {
     "name": "stdout",
     "output_type": "stream",
     "text": [
      "'list' object has no attribute 'shape'\n"
     ]
    },
    {
     "name": "stderr",
     "output_type": "stream",
     "text": [
      "INFO:utils.ml:Fitted classifier: XGBClassifier11; Done in 13.49010181427002 seconds\n",
      "INFO:utils.ml:Fitting classifier: XGBClassifier12\n"
     ]
    },
    {
     "name": "stdout",
     "output_type": "stream",
     "text": [
      "'list' object has no attribute 'shape'\n"
     ]
    },
    {
     "name": "stderr",
     "output_type": "stream",
     "text": [
      "INFO:utils.ml:Fitted classifier: XGBClassifier12; Done in 16.943157196044922 seconds\n",
      "INFO:utils.ml:Fitting completed in 183.61 seconds.\n"
     ]
    },
    {
     "name": "stdout",
     "output_type": "stream",
     "text": [
      "'list' object has no attribute 'shape'\n"
     ]
    }
   ],
   "execution_count": 22
  },
  {
   "metadata": {
    "ExecuteTime": {
     "end_time": "2024-11-03T20:05:34.083485Z",
     "start_time": "2024-11-03T20:02:53.796871Z"
    }
   },
   "cell_type": "code",
   "source": [
    "# Load and extract features from the new dataset\n",
    "new_loader = FactoryLoader(path=VAL_PATH, factory=pipeline.loader.get_factory(),\n",
    "                           percentage=percent, batch_size=pipeline.batch_size)\n",
    "new_feature_matrix, new_labels = pipeline.feature_strategy.run(new_loader.get_loader())\n",
    "\n",
    "new_feature_matrix = np.nan_to_num(new_feature_matrix) # Impute nans\n",
    "new_feature_matrix = pca.transform(new_feature_matrix) # Impute nans\n",
    "\n",
    "# Store predictions in the class attribute\n",
    "pipeline.predictions = {\"GT\": new_labels, }\n",
    "for clf_name, clf in pipeline.fitted_classifiers.items():\n",
    "\n",
    "    pipeline.predictions[clf_name] = clf.predict(new_feature_matrix)\n",
    "    if pipeline.verbose:\n",
    "        logger.info(\"Predictions made with classifier: %s\", clf_name)\n"
   ],
   "id": "10f5e0c30ff726e6",
   "outputs": [
    {
     "name": "stdout",
     "output_type": "stream",
     "text": [
      "Processed 5/53 batches.\n",
      "Processed 10/53 batches.\n",
      "Processed 15/53 batches.\n",
      "Processed 20/53 batches.\n",
      "Processed 25/53 batches.\n",
      "Processed 30/53 batches.\n",
      "Processed 35/53 batches.\n",
      "Processed 40/53 batches.\n",
      "Processed 45/53 batches.\n",
      "Processed 50/53 batches.\n"
     ]
    },
    {
     "name": "stderr",
     "output_type": "stream",
     "text": [
      "INFO:utils.utils:Predictions made with classifier: RandomForestClassifier0\n",
      "INFO:utils.utils:Predictions made with classifier: RandomForestClassifier1\n",
      "INFO:utils.utils:Predictions made with classifier: RandomForestClassifier2\n",
      "INFO:utils.utils:Predictions made with classifier: RandomForestClassifier3\n",
      "INFO:utils.utils:Predictions made with classifier: XGBClassifier4\n",
      "INFO:utils.utils:Predictions made with classifier: XGBClassifier5\n",
      "INFO:utils.utils:Predictions made with classifier: XGBClassifier6\n",
      "INFO:utils.utils:Predictions made with classifier: XGBClassifier7\n",
      "INFO:utils.utils:Predictions made with classifier: XGBClassifier8\n",
      "INFO:utils.utils:Predictions made with classifier: XGBClassifier9\n",
      "INFO:utils.utils:Predictions made with classifier: XGBClassifier10\n"
     ]
    },
    {
     "name": "stdout",
     "output_type": "stream",
     "text": [
      "Processed 53/53 batches.\n"
     ]
    },
    {
     "name": "stderr",
     "output_type": "stream",
     "text": [
      "INFO:utils.utils:Predictions made with classifier: XGBClassifier11\n",
      "INFO:utils.utils:Predictions made with classifier: XGBClassifier12\n"
     ]
    }
   ],
   "execution_count": 23
  },
  {
   "metadata": {
    "ExecuteTime": {
     "end_time": "2024-11-03T20:05:34.185671Z",
     "start_time": "2024-11-03T20:05:34.110444Z"
    }
   },
   "cell_type": "code",
   "source": [
    "df_pca = pd.DataFrame(data=pipeline.calculate_metrics(avg=\"macro\"))\n",
    "df_pca = df_pca.T\n",
    "df_pca"
   ],
   "id": "bc7b72c1d262e670",
   "outputs": [
    {
     "name": "stderr",
     "output_type": "stream",
     "text": [
      "INFO:utils.ml:Metrics for classifier GT: {'accuracy': 1.0, 'precision': 1.0, 'recall': 1.0, 'f1': 1.0, 'kappa': 1.0}\n",
      "INFO:utils.ml:Metrics for classifier RandomForestClassifier0: {'accuracy': 0.7881889763779527, 'precision': 0.7925925585930726, 'recall': 0.6115862432974225, 'f1': 0.6348015395668556, 'kappa': 0.5996761129807917}\n",
      "INFO:utils.ml:Metrics for classifier RandomForestClassifier1: {'accuracy': 0.7771653543307087, 'precision': 0.7690614668809631, 'recall': 0.6020042008238817, 'f1': 0.6224017823506117, 'kappa': 0.5802579578260909}\n",
      "INFO:utils.ml:Metrics for classifier RandomForestClassifier2: {'accuracy': 0.7889763779527559, 'precision': 0.790245501339155, 'recall': 0.6093788320923184, 'f1': 0.630901956667494, 'kappa': 0.6009754038781683}\n",
      "INFO:utils.ml:Metrics for classifier RandomForestClassifier3: {'accuracy': 0.794488188976378, 'precision': 0.8245795682466525, 'recall': 0.6162301878070243, 'f1': 0.6406354211359363, 'kappa': 0.6111314459476581}\n",
      "INFO:utils.ml:Metrics for classifier XGBClassifier4: {'accuracy': 0.837007874015748, 'precision': 0.78395664398775, 'recall': 0.681320020557974, 'f1': 0.7062587303063902, 'kappa': 0.6979733921555111}\n",
      "INFO:utils.ml:Metrics for classifier XGBClassifier5: {'accuracy': 0.8330708661417323, 'precision': 0.7702033365575267, 'recall': 0.6723974918061751, 'f1': 0.6950801183850971, 'kappa': 0.6906624263536678}\n",
      "INFO:utils.ml:Metrics for classifier XGBClassifier6: {'accuracy': 0.8322834645669291, 'precision': 0.7741513016228447, 'recall': 0.6866450298778747, 'f1': 0.7111076427964473, 'kappa': 0.6902098478706007}\n",
      "INFO:utils.ml:Metrics for classifier XGBClassifier7: {'accuracy': 0.837007874015748, 'precision': 0.7837395125514321, 'recall': 0.6692798936913787, 'f1': 0.6923683460254123, 'kappa': 0.6969414010624171}\n",
      "INFO:utils.ml:Metrics for classifier XGBClassifier8: {'accuracy': 0.8377952755905512, 'precision': 0.7845816770365249, 'recall': 0.6816339606842609, 'f1': 0.7067513261298428, 'kappa': 0.6992458729939761}\n",
      "INFO:utils.ml:Metrics for classifier XGBClassifier9: {'accuracy': 0.8346456692913385, 'precision': 0.7742677448337826, 'recall': 0.6764352331815179, 'f1': 0.6999286462313812, 'kappa': 0.6936595451412819}\n",
      "INFO:utils.ml:Metrics for classifier XGBClassifier10: {'accuracy': 0.8299212598425196, 'precision': 0.7724626470579411, 'recall': 0.6849924016659118, 'f1': 0.7094299383997784, 'kappa': 0.6859113517078399}\n",
      "INFO:utils.ml:Metrics for classifier XGBClassifier11: {'accuracy': 0.8393700787401575, 'precision': 0.7882582612460237, 'recall': 0.6799181915637192, 'f1': 0.7049158882539573, 'kappa': 0.7019506426214722}\n",
      "INFO:utils.ml:Metrics for classifier XGBClassifier12: {'accuracy': 0.8401574803149606, 'precision': 0.7914247184373421, 'recall': 0.6836419928127749, 'f1': 0.7092617231122206, 'kappa': 0.7036721163748711}\n"
     ]
    },
    {
     "data": {
      "text/plain": [
       "                         accuracy  precision    recall        f1     kappa\n",
       "GT                       1.000000   1.000000  1.000000  1.000000  1.000000\n",
       "RandomForestClassifier0  0.788189   0.792593  0.611586  0.634802  0.599676\n",
       "RandomForestClassifier1  0.777165   0.769061  0.602004  0.622402  0.580258\n",
       "RandomForestClassifier2  0.788976   0.790246  0.609379  0.630902  0.600975\n",
       "RandomForestClassifier3  0.794488   0.824580  0.616230  0.640635  0.611131\n",
       "XGBClassifier4           0.837008   0.783957  0.681320  0.706259  0.697973\n",
       "XGBClassifier5           0.833071   0.770203  0.672397  0.695080  0.690662\n",
       "XGBClassifier6           0.832283   0.774151  0.686645  0.711108  0.690210\n",
       "XGBClassifier7           0.837008   0.783740  0.669280  0.692368  0.696941\n",
       "XGBClassifier8           0.837795   0.784582  0.681634  0.706751  0.699246\n",
       "XGBClassifier9           0.834646   0.774268  0.676435  0.699929  0.693660\n",
       "XGBClassifier10          0.829921   0.772463  0.684992  0.709430  0.685911\n",
       "XGBClassifier11          0.839370   0.788258  0.679918  0.704916  0.701951\n",
       "XGBClassifier12          0.840157   0.791425  0.683642  0.709262  0.703672"
      ],
      "text/html": [
       "<div>\n",
       "<style scoped>\n",
       "    .dataframe tbody tr th:only-of-type {\n",
       "        vertical-align: middle;\n",
       "    }\n",
       "\n",
       "    .dataframe tbody tr th {\n",
       "        vertical-align: top;\n",
       "    }\n",
       "\n",
       "    .dataframe thead th {\n",
       "        text-align: right;\n",
       "    }\n",
       "</style>\n",
       "<table border=\"1\" class=\"dataframe\">\n",
       "  <thead>\n",
       "    <tr style=\"text-align: right;\">\n",
       "      <th></th>\n",
       "      <th>accuracy</th>\n",
       "      <th>precision</th>\n",
       "      <th>recall</th>\n",
       "      <th>f1</th>\n",
       "      <th>kappa</th>\n",
       "    </tr>\n",
       "  </thead>\n",
       "  <tbody>\n",
       "    <tr>\n",
       "      <th>GT</th>\n",
       "      <td>1.000000</td>\n",
       "      <td>1.000000</td>\n",
       "      <td>1.000000</td>\n",
       "      <td>1.000000</td>\n",
       "      <td>1.000000</td>\n",
       "    </tr>\n",
       "    <tr>\n",
       "      <th>RandomForestClassifier0</th>\n",
       "      <td>0.788189</td>\n",
       "      <td>0.792593</td>\n",
       "      <td>0.611586</td>\n",
       "      <td>0.634802</td>\n",
       "      <td>0.599676</td>\n",
       "    </tr>\n",
       "    <tr>\n",
       "      <th>RandomForestClassifier1</th>\n",
       "      <td>0.777165</td>\n",
       "      <td>0.769061</td>\n",
       "      <td>0.602004</td>\n",
       "      <td>0.622402</td>\n",
       "      <td>0.580258</td>\n",
       "    </tr>\n",
       "    <tr>\n",
       "      <th>RandomForestClassifier2</th>\n",
       "      <td>0.788976</td>\n",
       "      <td>0.790246</td>\n",
       "      <td>0.609379</td>\n",
       "      <td>0.630902</td>\n",
       "      <td>0.600975</td>\n",
       "    </tr>\n",
       "    <tr>\n",
       "      <th>RandomForestClassifier3</th>\n",
       "      <td>0.794488</td>\n",
       "      <td>0.824580</td>\n",
       "      <td>0.616230</td>\n",
       "      <td>0.640635</td>\n",
       "      <td>0.611131</td>\n",
       "    </tr>\n",
       "    <tr>\n",
       "      <th>XGBClassifier4</th>\n",
       "      <td>0.837008</td>\n",
       "      <td>0.783957</td>\n",
       "      <td>0.681320</td>\n",
       "      <td>0.706259</td>\n",
       "      <td>0.697973</td>\n",
       "    </tr>\n",
       "    <tr>\n",
       "      <th>XGBClassifier5</th>\n",
       "      <td>0.833071</td>\n",
       "      <td>0.770203</td>\n",
       "      <td>0.672397</td>\n",
       "      <td>0.695080</td>\n",
       "      <td>0.690662</td>\n",
       "    </tr>\n",
       "    <tr>\n",
       "      <th>XGBClassifier6</th>\n",
       "      <td>0.832283</td>\n",
       "      <td>0.774151</td>\n",
       "      <td>0.686645</td>\n",
       "      <td>0.711108</td>\n",
       "      <td>0.690210</td>\n",
       "    </tr>\n",
       "    <tr>\n",
       "      <th>XGBClassifier7</th>\n",
       "      <td>0.837008</td>\n",
       "      <td>0.783740</td>\n",
       "      <td>0.669280</td>\n",
       "      <td>0.692368</td>\n",
       "      <td>0.696941</td>\n",
       "    </tr>\n",
       "    <tr>\n",
       "      <th>XGBClassifier8</th>\n",
       "      <td>0.837795</td>\n",
       "      <td>0.784582</td>\n",
       "      <td>0.681634</td>\n",
       "      <td>0.706751</td>\n",
       "      <td>0.699246</td>\n",
       "    </tr>\n",
       "    <tr>\n",
       "      <th>XGBClassifier9</th>\n",
       "      <td>0.834646</td>\n",
       "      <td>0.774268</td>\n",
       "      <td>0.676435</td>\n",
       "      <td>0.699929</td>\n",
       "      <td>0.693660</td>\n",
       "    </tr>\n",
       "    <tr>\n",
       "      <th>XGBClassifier10</th>\n",
       "      <td>0.829921</td>\n",
       "      <td>0.772463</td>\n",
       "      <td>0.684992</td>\n",
       "      <td>0.709430</td>\n",
       "      <td>0.685911</td>\n",
       "    </tr>\n",
       "    <tr>\n",
       "      <th>XGBClassifier11</th>\n",
       "      <td>0.839370</td>\n",
       "      <td>0.788258</td>\n",
       "      <td>0.679918</td>\n",
       "      <td>0.704916</td>\n",
       "      <td>0.701951</td>\n",
       "    </tr>\n",
       "    <tr>\n",
       "      <th>XGBClassifier12</th>\n",
       "      <td>0.840157</td>\n",
       "      <td>0.791425</td>\n",
       "      <td>0.683642</td>\n",
       "      <td>0.709262</td>\n",
       "      <td>0.703672</td>\n",
       "    </tr>\n",
       "  </tbody>\n",
       "</table>\n",
       "</div>"
      ]
     },
     "execution_count": 24,
     "metadata": {},
     "output_type": "execute_result"
    }
   ],
   "execution_count": 24
  },
  {
   "metadata": {
    "ExecuteTime": {
     "end_time": "2024-11-03T20:05:44.299423Z",
     "start_time": "2024-11-03T20:05:44.292375Z"
    }
   },
   "cell_type": "code",
   "source": [
    "highest = df_pca[df_pca[\"kappa\"] == df_pca.iloc[1:][\"kappa\"].max()]\n",
    "idx = highest.index[0]\n",
    "\n",
    "confusion_matrix(pipeline.predictions[\"GT\"], pipeline.predictions[idx])"
   ],
   "id": "5664e1f83005a5b2",
   "outputs": [
    {
     "data": {
      "text/plain": [
       "array([[431,  61,   6],\n",
       "       [ 63, 609,   6],\n",
       "       [ 36,  31,  27]], dtype=int64)"
      ]
     },
     "execution_count": 27,
     "metadata": {},
     "output_type": "execute_result"
    }
   ],
   "execution_count": 27
  },
  {
   "metadata": {
    "ExecuteTime": {
     "end_time": "2024-11-03T20:05:34.263816Z",
     "start_time": "2024-11-03T20:05:34.259154Z"
    }
   },
   "cell_type": "code",
   "source": "print(\"f\")",
   "id": "10dfe1d1e30e3fdb",
   "outputs": [
    {
     "name": "stdout",
     "output_type": "stream",
     "text": [
      "f\n"
     ]
    }
   ],
   "execution_count": 26
  },
  {
   "metadata": {
    "ExecuteTime": {
     "end_time": "2024-11-03T20:05:34.295888Z",
     "start_time": "2024-11-03T20:05:34.292937Z"
    }
   },
   "cell_type": "code",
   "source": "",
   "id": "90ff68d6e20a7ab4",
   "outputs": [],
   "execution_count": null
  }
 ],
 "metadata": {
  "kernelspec": {
   "display_name": "Python 3",
   "language": "python",
   "name": "python3"
  },
  "language_info": {
   "codemirror_mode": {
    "name": "ipython",
    "version": 2
   },
   "file_extension": ".py",
   "mimetype": "text/x-python",
   "name": "python",
   "nbconvert_exporter": "python",
   "pygments_lexer": "ipython2",
   "version": "2.7.6"
  }
 },
 "nbformat": 4,
 "nbformat_minor": 5
}

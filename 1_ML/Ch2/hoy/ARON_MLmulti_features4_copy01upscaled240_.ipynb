{
 "cells": [
  {
   "cell_type": "code",
   "id": "initial_id",
   "metadata": {
    "collapsed": true,
    "ExecuteTime": {
     "end_time": "2024-11-03T14:06:10.979356Z",
     "start_time": "2024-11-03T14:06:07.546539Z"
    }
   },
   "source": [
    "import numpy as np\n",
    "from sklearn.metrics import confusion_matrix, recall_score, cohen_kappa_score\n",
    "\n",
    "from utils.loader import FactoryLoader\n",
    "from utils.ml import MLPipeline\n",
    "from utils.preprocessing import PreprocessingFactory\n",
    "from utils.feature_extraction import *\n",
    "from utils.utils import *\n",
    "\n",
    "VAL_PATH = r\"C:\\Users\\gimes\\Src\\repos\\CADx-Project\\dataset\\multiclass\\val\"\n",
    "TRAIN_PATH = r\"C:\\Users\\gimes\\Src\\repos\\CADx-Project\\dataset\\multiclass\\train\""
   ],
   "outputs": [
    {
     "name": "stderr",
     "output_type": "stream",
     "text": [
      "INFO:numexpr.utils:Note: NumExpr detected 16 cores but \"NUMEXPR_MAX_THREADS\" not set, so enforcing safe limit of 8.\n",
      "INFO:numexpr.utils:NumExpr defaulting to 8 threads.\n"
     ]
    }
   ],
   "execution_count": 1
  },
  {
   "metadata": {
    "ExecuteTime": {
     "end_time": "2024-11-03T14:06:11.004680Z",
     "start_time": "2024-11-03T14:06:10.981609Z"
    }
   },
   "cell_type": "code",
   "source": [
    "percent = 100\n",
    "random = False\n",
    "batch_size = 24\n",
    "\n",
    "# Initialize the FactoryLoader\n",
    "factory = PreprocessingFactory()\n",
    "factory.pad2square(fill=np.nan)\n",
    "factory.resize((240,240))\n",
    "factory.normalize2float()\n",
    "\n",
    "# Create the feature extraction pipeline strategy and add desired features\n",
    "strategy = FeatureExtractionStrategy()\n",
    "\n",
    "strategy.add_extractor(GradientExtractor()) # Add gradient feature\n",
    "\n",
    "strategy.add_extractor(ColorMomentsExtractor(\"rgb\",))   # Add color moments feature\n",
    "strategy.add_extractor(ColorMomentsExtractor(\"lab\",))   # Add color moments feature\n",
    "strategy.add_extractor(ColorMomentsExtractor(\"hsv\",))   # Add color moments feature\n",
    "\n",
    "strategy.add_extractor(LBPExtractor(radius=1, n_points=8))\n",
    "strategy.add_extractor(LBPExtractor(radius=2, n_points=16))\n",
    "strategy.add_extractor(LBPExtractor(radius=3, n_points=24))\n",
    "strategy.add_extractor(LBPExtractor(radius=4, n_points=32))\n",
    "strategy.add_extractor(LBPExtractor(radius=5, n_points=40))\n",
    "\n",
    "strategy.add_extractor(FourierTransformExtractor())\n",
    "strategy.add_extractor(FFTExtractor())\n",
    "\n",
    "strategy.add_extractor(GLCMExtractor(properties=['contrast', 'dissimilarity', 'homogeneity', 'energy', 'correlation', 'ASM']))\n",
    "\n",
    "pipeline = MLPipeline(dataset_path=TRAIN_PATH, preprocessing_factory=factory, feature_strategy=strategy, classifiers=[], percentage=percent, verbose=True, shuffle=random, batch_size=batch_size)"
   ],
   "id": "d7c81ba220d9e517",
   "outputs": [
    {
     "name": "stderr",
     "output_type": "stream",
     "text": [
      "INFO:utils.ml:MLPipeline initialized with dataset path: C:\\Users\\gimes\\Src\\repos\\CADx-Project\\dataset\\multiclass\\train\n",
      "INFO:utils.ml:Preprocessing steps\n"
     ]
    }
   ],
   "execution_count": 2
  },
  {
   "metadata": {
    "ExecuteTime": {
     "end_time": "2024-11-03T14:16:14.606015Z",
     "start_time": "2024-11-03T14:06:11.060977Z"
    }
   },
   "cell_type": "code",
   "source": [
    "pipeline.feature_matrix = None\n",
    "pipeline.run_feature_extraction()"
   ],
   "id": "21f510c52296a049",
   "outputs": [
    {
     "name": "stderr",
     "output_type": "stream",
     "text": [
      "INFO:utils.ml:Running feature extraction...\n"
     ]
    },
    {
     "name": "stdout",
     "output_type": "stream",
     "text": [
      "Processed 5/212 batches.\n",
      "Processed 10/212 batches.\n",
      "Processed 15/212 batches.\n",
      "Processed 20/212 batches.\n",
      "Processed 25/212 batches.\n",
      "Processed 30/212 batches.\n",
      "Processed 35/212 batches.\n",
      "Processed 40/212 batches.\n",
      "Processed 45/212 batches.\n",
      "Processed 50/212 batches.\n",
      "Processed 55/212 batches.\n",
      "Processed 60/212 batches.\n",
      "Processed 65/212 batches.\n",
      "Processed 70/212 batches.\n",
      "Processed 75/212 batches.\n",
      "Processed 80/212 batches.\n",
      "Processed 85/212 batches.\n",
      "Processed 90/212 batches.\n",
      "Processed 95/212 batches.\n",
      "Processed 100/212 batches.\n",
      "Processed 105/212 batches.\n",
      "Processed 110/212 batches.\n",
      "Processed 115/212 batches.\n",
      "Processed 120/212 batches.\n",
      "Processed 125/212 batches.\n",
      "Processed 130/212 batches.\n",
      "Processed 135/212 batches.\n",
      "Processed 140/212 batches.\n",
      "Processed 145/212 batches.\n",
      "Processed 150/212 batches.\n",
      "Processed 155/212 batches.\n",
      "Processed 160/212 batches.\n",
      "Processed 165/212 batches.\n",
      "Processed 170/212 batches.\n",
      "Processed 175/212 batches.\n",
      "Processed 180/212 batches.\n",
      "Processed 185/212 batches.\n",
      "Processed 190/212 batches.\n",
      "Processed 195/212 batches.\n",
      "Processed 200/212 batches.\n",
      "Processed 205/212 batches.\n",
      "Processed 210/212 batches.\n"
     ]
    },
    {
     "name": "stderr",
     "output_type": "stream",
     "text": [
      "INFO:utils.ml:Feature extraction completed. Extracted 5082 features.\n"
     ]
    },
    {
     "name": "stdout",
     "output_type": "stream",
     "text": [
      "Processed 212/212 batches.\n"
     ]
    }
   ],
   "execution_count": 3
  },
  {
   "metadata": {
    "ExecuteTime": {
     "end_time": "2024-11-03T14:16:14.677013Z",
     "start_time": "2024-11-03T14:16:14.613449Z"
    }
   },
   "cell_type": "code",
   "source": [
    "from xgboost import XGBClassifier\n",
    "from sklearn.ensemble import RandomForestClassifier\n",
    "\n",
    "# Random Forest with Bootstrap Disabled\n",
    "rf0 = RandomForestClassifier(n_estimators=100, bootstrap=False, random_state=42)\n",
    "# Random Forest with Out-of-Bag Error (OOB)\n",
    "rf1 = RandomForestClassifier(n_estimators=150, oob_score=True, random_state=42)\n",
    "# Random Forest with Bootstrap Disabled\n",
    "rf2 = RandomForestClassifier(n_estimators=150, bootstrap=False, random_state=42)\n",
    "# Random Forest with Bootstrap Disabled\n",
    "rf3 = RandomForestClassifier(n_estimators=200, bootstrap=False, random_state=42)\n",
    "\n",
    "xgb4 = XGBClassifier(learning_rate=0.1, n_estimators=400, max_depth=7, min_child_weight=3, subsample=0.7, colsample_bytree=0.7) # 2ND\n",
    "xgb5 = XGBClassifier(learning_rate=0.1, n_estimators=400, max_depth=5, min_child_weight=5, gamma=0.2, subsample=0.8, colsample_bytree=0.8) # THIS\n",
    "xgb6 = XGBClassifier(learning_rate=0.1, n_estimators=400, max_depth=5, min_child_weight=1, subsample=0.8, colsample_bytree=0.8, reg_alpha=0.1, reg_lambda=0.1)\n",
    "xgb7 = XGBClassifier(learning_rate=0.1, n_estimators=400, max_depth=7, min_child_weight=1, subsample=0.8, colsample_bytree=0.8)\n",
    "xgb8 = XGBClassifier(learning_rate=0.1, n_estimators=500, max_depth=7, min_child_weight=1, subsample=0.8, colsample_bytree=0.8)\n",
    "\n",
    "xgb9 = XGBClassifier(learning_rate=0.1, n_estimators=750, max_depth=7, min_child_weight=3, subsample=0.7, colsample_bytree=0.7)\n",
    "xgb10 = XGBClassifier(learning_rate=0.1, n_estimators=750, max_depth=5, min_child_weight=5, gamma=0.2, subsample=0.8, colsample_bytree=0.8) # THIS\n",
    "xgb11 = XGBClassifier(learning_rate=0.1, n_estimators=750, max_depth=5, min_child_weight=1, subsample=0.8, colsample_bytree=0.8, reg_alpha=0.1, reg_lambda=0.1)\n",
    "xgb12 = XGBClassifier(learning_rate=0.1, n_estimators=750, max_depth=7, min_child_weight=1, subsample=0.8, colsample_bytree=0.8)\n",
    "\n",
    "xgb13 = XGBClassifier(learning_rate=0.1, n_estimators=1000, max_depth=7, min_child_weight=3, subsample=0.7, colsample_bytree=0.7)\n",
    "xgb14 = XGBClassifier(learning_rate=0.1, n_estimators=1000, max_depth=5, min_child_weight=5, gamma=0.2, subsample=0.8, colsample_bytree=0.8) # THIS\n",
    "xgb15 = XGBClassifier(learning_rate=0.1, n_estimators=1000, max_depth=5, min_child_weight=1, subsample=0.8, colsample_bytree=0.8, reg_alpha=0.1, reg_lambda=0.1)\n",
    "xgb16 = XGBClassifier(learning_rate=0.1, n_estimators=1000, max_depth=7, min_child_weight=1, subsample=0.8, colsample_bytree=0.8)\n",
    "\n",
    "\n",
    "\n",
    "pipeline.classifiers = [rf0, rf1, rf2, rf3,\n",
    "                        # svm1, svm2, svm3, svm6, svm7, svm8,\n",
    "                        xgb8, xgb9, xgb10, xgb11, xgb12, xgb13, xgb14, xgb15, xgb16]\n",
    "pipeline.fitted_classifiers = {}"
   ],
   "id": "74470ba20848a156",
   "outputs": [],
   "execution_count": 4
  },
  {
   "metadata": {
    "ExecuteTime": {
     "end_time": "2024-11-03T14:18:53.367493Z",
     "start_time": "2024-11-03T14:16:14.689995Z"
    }
   },
   "cell_type": "code",
   "source": "pipeline.fit_classifiers()",
   "id": "5269ac4d3392fbae",
   "outputs": [
    {
     "name": "stderr",
     "output_type": "stream",
     "text": [
      "INFO:utils.ml:Fitting classifiers...\n",
      "INFO:utils.ml:Fitting classifier: RandomForestClassifier0\n",
      "INFO:utils.ml:Top 10 features for RandomForestClassifier0: [('color_moments_lab_B_var', 0.040078301369389877), ('color_moments_lab_B_std', 0.032312646875050505), ('color_moments_rgb_B_iqr', 0.02100261973888299), ('color_moments_rgb_B_std', 0.01907227104341949), ('color_moments_rgb_B_var', 0.01742389117842051), ('color_moments_rgb_R_iqr', 0.017218257480761456), ('color_moments_lab_L_iqr', 0.01398176197075886), ('color_moments_lab_B_iqr', 0.01285717963389727), ('color_moments_rgb_B_kurtosis', 0.012764181567512228), ('color_moments_rgb_R_skew', 0.012649381094118036)]\n",
      "INFO:utils.ml:Fitted classifier: RandomForestClassifier0; Done in 5.857973337173462 seconds\n",
      "INFO:utils.ml:Fitting classifier: RandomForestClassifier1\n",
      "INFO:utils.ml:Top 10 features for RandomForestClassifier1: [('color_moments_lab_B_std', 0.03745268003455307), ('color_moments_lab_B_var', 0.0361345414796509), ('color_moments_rgb_B_iqr', 0.01995630986300329), ('color_moments_lab_L_iqr', 0.019571537933211588), ('color_moments_rgb_R_iqr', 0.019055168364619755), ('color_moments_rgb_B_std', 0.016223810586142303), ('color_moments_rgb_G_iqr', 0.01384649211747806), ('color_moments_rgb_R_kurtosis', 0.013291688006197594), ('color_moments_rgb_B_var', 0.012875950288111252), ('color_moments_lab_B_iqr', 0.012176656425432152)]\n",
      "INFO:utils.ml:Fitted classifier: RandomForestClassifier1; Done in 6.500911474227905 seconds\n",
      "INFO:utils.ml:Fitting classifier: RandomForestClassifier2\n",
      "INFO:utils.ml:Top 10 features for RandomForestClassifier2: [('color_moments_lab_B_var', 0.03946470889536516), ('color_moments_lab_B_std', 0.035602573576083485), ('color_moments_lab_L_iqr', 0.018177162920916142), ('color_moments_rgb_B_std', 0.018006977164956424), ('color_moments_rgb_R_iqr', 0.01757786566370956), ('color_moments_rgb_B_iqr', 0.01747331432048221), ('color_moments_rgb_B_var', 0.015789265679662337), ('color_moments_rgb_G_iqr', 0.013576369257566194), ('color_moments_rgb_R_kurtosis', 0.012899256655971423), ('color_moments_rgb_B_kurtosis', 0.012875055058575427)]\n",
      "INFO:utils.ml:Fitted classifier: RandomForestClassifier2; Done in 9.2042818069458 seconds\n",
      "INFO:utils.ml:Fitting classifier: RandomForestClassifier3\n",
      "INFO:utils.ml:Top 10 features for RandomForestClassifier3: [('color_moments_lab_B_var', 0.03829505667348125), ('color_moments_lab_B_std', 0.03702036372793456), ('color_moments_rgb_B_iqr', 0.018480956936011244), ('color_moments_rgb_B_std', 0.017905756373119818), ('color_moments_rgb_B_var', 0.017402141917013277), ('color_moments_lab_L_iqr', 0.01689421301983746), ('color_moments_rgb_R_iqr', 0.016836115006538886), ('color_moments_rgb_R_kurtosis', 0.013340337912631967), ('color_moments_rgb_B_kurtosis', 0.01327217160740887), ('color_moments_lab_B_iqr', 0.011924697139387423)]\n",
      "INFO:utils.ml:Fitted classifier: RandomForestClassifier3; Done in 12.353676795959473 seconds\n",
      "INFO:utils.ml:Fitting classifier: XGBClassifier4\n",
      "INFO:utils.ml:Top 10 features for XGBClassifier4: [('color_moments_lab_B_var', 0.045811955), ('color_moments_rgb_B_iqr', 0.03268432), ('color_moments_lab_B_std', 0.027629118), ('color_moments_lab_L_iqr', 0.018329162), ('lbp_rad2_bins16_8', 0.015102519), ('lbp_rad3_bins24_12', 0.014409398), ('lbp_rad1_bins8_8', 0.013510032), ('lbp_rad1_bins8_4', 0.013346863), ('color_moments_rgb_B_var', 0.011422734), ('color_moments_rgb_B_std', 0.010056446)]\n",
      "INFO:utils.ml:Fitted classifier: XGBClassifier4; Done in 10.298025131225586 seconds\n",
      "INFO:utils.ml:Fitting classifier: XGBClassifier5\n",
      "INFO:utils.ml:Top 10 features for XGBClassifier5: [('color_moments_lab_B_var', 0.03968464), ('color_moments_rgb_B_iqr', 0.028729513), ('color_moments_lab_B_std', 0.025647346), ('color_moments_lab_L_iqr', 0.017738516), ('lbp_rad2_bins16_8', 0.015672928), ('lbp_rad3_bins24_12', 0.013860068), ('color_moments_rgb_B_var', 0.013800384), ('lbp_rad1_bins8_4', 0.012098441), ('color_moments_rgb_B_std', 0.010473385), ('lbp_rad1_bins8_8', 0.010330649)]\n",
      "INFO:utils.ml:Fitted classifier: XGBClassifier5; Done in 10.199589252471924 seconds\n",
      "INFO:utils.ml:Fitting classifier: XGBClassifier6\n",
      "INFO:utils.ml:Top 10 features for XGBClassifier6: [('color_moments_lab_B_var', 0.046992227), ('color_moments_rgb_B_iqr', 0.031314477), ('color_moments_lab_B_std', 0.026857646), ('lbp_rad3_bins24_12', 0.015096981), ('color_moments_rgb_B_var', 0.014987661), ('lbp_rad2_bins16_8', 0.01489756), ('color_moments_lab_L_iqr', 0.013115968), ('lbp_rad1_bins8_8', 0.011488219), ('lbp_rad1_bins8_4', 0.011476178), ('color_moments_rgb_R_kurtosis', 0.010258681)]\n",
      "INFO:utils.ml:Fitted classifier: XGBClassifier6; Done in 5.733308792114258 seconds\n",
      "INFO:utils.ml:Fitting classifier: XGBClassifier7\n",
      "INFO:utils.ml:Top 10 features for XGBClassifier7: [('color_moments_lab_B_var', 0.05620872), ('color_moments_rgb_B_iqr', 0.031976316), ('color_moments_lab_B_std', 0.026939321), ('color_moments_lab_L_iqr', 0.017562902), ('lbp_rad3_bins24_12', 0.017123403), ('lbp_rad2_bins16_8', 0.015780497), ('color_moments_rgb_B_var', 0.01540173), ('lbp_rad1_bins8_4', 0.013053109), ('lbp_rad1_bins8_8', 0.012090737), ('color_moments_rgb_B_std', 0.011306373)]\n",
      "INFO:utils.ml:Fitted classifier: XGBClassifier7; Done in 11.79089903831482 seconds\n",
      "INFO:utils.ml:Fitting classifier: XGBClassifier8\n",
      "INFO:utils.ml:Top 10 features for XGBClassifier8: [('color_moments_lab_B_var', 0.047560595), ('color_moments_rgb_B_iqr', 0.03206241), ('color_moments_lab_B_std', 0.027554415), ('color_moments_lab_L_iqr', 0.018468807), ('lbp_rad2_bins16_8', 0.014961028), ('lbp_rad3_bins24_12', 0.014192294), ('lbp_rad1_bins8_8', 0.013521505), ('lbp_rad1_bins8_4', 0.013131281), ('color_moments_rgb_B_var', 0.011551087), ('color_moments_rgb_B_std', 0.010368118)]\n",
      "INFO:utils.ml:Fitted classifier: XGBClassifier8; Done in 19.3930344581604 seconds\n",
      "INFO:utils.ml:Fitting classifier: XGBClassifier9\n",
      "INFO:utils.ml:Top 10 features for XGBClassifier9: [('color_moments_lab_B_var', 0.040698092), ('color_moments_rgb_B_iqr', 0.02848505), ('color_moments_lab_B_std', 0.02604315), ('color_moments_lab_L_iqr', 0.017450964), ('lbp_rad2_bins16_8', 0.015765978), ('color_moments_rgb_B_var', 0.014315935), ('lbp_rad3_bins24_12', 0.013562343), ('lbp_rad1_bins8_4', 0.01215579), ('color_moments_rgb_R_iqr', 0.0105990395), ('color_moments_rgb_B_std', 0.010548888)]\n",
      "INFO:utils.ml:Fitted classifier: XGBClassifier9; Done in 17.21000909805298 seconds\n",
      "INFO:utils.ml:Fitting classifier: XGBClassifier10\n",
      "INFO:utils.ml:Top 10 features for XGBClassifier10: [('color_moments_lab_B_var', 0.047072634), ('color_moments_rgb_B_iqr', 0.03171198), ('color_moments_lab_B_std', 0.026783897), ('lbp_rad3_bins24_12', 0.015156085), ('color_moments_rgb_B_var', 0.014839111), ('lbp_rad2_bins16_8', 0.014599512), ('color_moments_lab_L_iqr', 0.01308794), ('lbp_rad1_bins8_4', 0.011439088), ('lbp_rad1_bins8_8', 0.011402741), ('color_moments_rgb_R_kurtosis', 0.0103190895)]\n",
      "INFO:utils.ml:Fitted classifier: XGBClassifier10; Done in 10.238370180130005 seconds\n",
      "INFO:utils.ml:Fitting classifier: XGBClassifier11\n",
      "INFO:utils.ml:Top 10 features for XGBClassifier11: [('color_moments_lab_B_var', 0.054014295), ('color_moments_rgb_B_iqr', 0.033711586), ('color_moments_lab_B_std', 0.027672162), ('color_moments_lab_L_iqr', 0.017928237), ('lbp_rad3_bins24_12', 0.017117409), ('lbp_rad2_bins16_8', 0.015937293), ('color_moments_rgb_B_var', 0.015454916), ('lbp_rad1_bins8_4', 0.013232495), ('lbp_rad1_bins8_8', 0.012584604), ('color_moments_rgb_B_std', 0.011567127)]\n",
      "INFO:utils.ml:Fitted classifier: XGBClassifier11; Done in 19.508245706558228 seconds\n",
      "INFO:utils.ml:Fitting classifier: XGBClassifier12\n",
      "INFO:utils.ml:Top 10 features for XGBClassifier12: [('color_moments_lab_B_var', 0.048756544), ('color_moments_rgb_B_iqr', 0.03268315), ('color_moments_lab_B_std', 0.027472025), ('color_moments_lab_L_iqr', 0.018365586), ('lbp_rad2_bins16_8', 0.01482501), ('lbp_rad3_bins24_12', 0.013863277), ('lbp_rad1_bins8_8', 0.013690911), ('lbp_rad1_bins8_4', 0.012951944), ('color_moments_rgb_B_var', 0.011857056), ('color_moments_rgb_B_std', 0.0104576405)]\n",
      "INFO:utils.ml:Fitted classifier: XGBClassifier12; Done in 20.37449812889099 seconds\n",
      "INFO:utils.ml:Fitting completed in 158.66 seconds.\n"
     ]
    }
   ],
   "execution_count": 5
  },
  {
   "metadata": {
    "ExecuteTime": {
     "end_time": "2024-11-03T14:21:41.088878Z",
     "start_time": "2024-11-03T14:18:53.384642Z"
    }
   },
   "cell_type": "code",
   "source": "pipeline.predict_with_classifiers(VAL_PATH, percent)",
   "id": "f71e18a07f5ee7bb",
   "outputs": [
    {
     "name": "stderr",
     "output_type": "stream",
     "text": [
      "INFO:utils.ml:Predicting with classifiers on dataset: C:\\Users\\gimes\\Src\\repos\\CADx-Project\\dataset\\multiclass\\val\n"
     ]
    },
    {
     "name": "stdout",
     "output_type": "stream",
     "text": [
      "Processed 5/53 batches.\n",
      "Processed 10/53 batches.\n",
      "Processed 15/53 batches.\n",
      "Processed 20/53 batches.\n",
      "Processed 25/53 batches.\n",
      "Processed 30/53 batches.\n",
      "Processed 35/53 batches.\n",
      "Processed 40/53 batches.\n",
      "Processed 45/53 batches.\n",
      "Processed 50/53 batches.\n"
     ]
    },
    {
     "name": "stderr",
     "output_type": "stream",
     "text": [
      "INFO:utils.ml:Predictions made with classifier: RandomForestClassifier0\n",
      "INFO:utils.ml:Predictions made with classifier: RandomForestClassifier1\n",
      "INFO:utils.ml:Predictions made with classifier: RandomForestClassifier2\n",
      "INFO:utils.ml:Predictions made with classifier: RandomForestClassifier3\n",
      "INFO:utils.ml:Predictions made with classifier: XGBClassifier4\n",
      "INFO:utils.ml:Predictions made with classifier: XGBClassifier5\n",
      "INFO:utils.ml:Predictions made with classifier: XGBClassifier6\n",
      "INFO:utils.ml:Predictions made with classifier: XGBClassifier7\n",
      "INFO:utils.ml:Predictions made with classifier: XGBClassifier8\n",
      "INFO:utils.ml:Predictions made with classifier: XGBClassifier9\n",
      "INFO:utils.ml:Predictions made with classifier: XGBClassifier10\n",
      "INFO:utils.ml:Predictions made with classifier: XGBClassifier11\n"
     ]
    },
    {
     "name": "stdout",
     "output_type": "stream",
     "text": [
      "Processed 53/53 batches.\n"
     ]
    },
    {
     "name": "stderr",
     "output_type": "stream",
     "text": [
      "INFO:utils.ml:Predictions made with classifier: XGBClassifier12\n"
     ]
    },
    {
     "data": {
      "text/plain": [
       "{'GT': array([0, 0, 0, ..., 2, 2, 2]),\n",
       " 'RandomForestClassifier0': array([0, 0, 1, ..., 1, 0, 0]),\n",
       " 'RandomForestClassifier1': array([0, 0, 0, ..., 1, 0, 0]),\n",
       " 'RandomForestClassifier2': array([0, 0, 0, ..., 1, 0, 0]),\n",
       " 'RandomForestClassifier3': array([0, 0, 1, ..., 1, 0, 0]),\n",
       " 'XGBClassifier4': array([0, 0, 0, ..., 1, 0, 0], dtype=int64),\n",
       " 'XGBClassifier5': array([0, 0, 0, ..., 0, 0, 0], dtype=int64),\n",
       " 'XGBClassifier6': array([0, 0, 0, ..., 0, 0, 0], dtype=int64),\n",
       " 'XGBClassifier7': array([0, 0, 0, ..., 0, 0, 0], dtype=int64),\n",
       " 'XGBClassifier8': array([0, 0, 0, ..., 1, 0, 0], dtype=int64),\n",
       " 'XGBClassifier9': array([0, 0, 0, ..., 0, 0, 0], dtype=int64),\n",
       " 'XGBClassifier10': array([0, 0, 0, ..., 0, 0, 0], dtype=int64),\n",
       " 'XGBClassifier11': array([0, 0, 0, ..., 0, 0, 0], dtype=int64),\n",
       " 'XGBClassifier12': array([0, 0, 0, ..., 1, 0, 0], dtype=int64)}"
      ]
     },
     "execution_count": 6,
     "metadata": {},
     "output_type": "execute_result"
    }
   ],
   "execution_count": 6
  },
  {
   "metadata": {
    "ExecuteTime": {
     "end_time": "2024-11-03T14:21:41.186401Z",
     "start_time": "2024-11-03T14:21:41.105976Z"
    }
   },
   "cell_type": "code",
   "source": [
    "import pandas as pd\n",
    "\n",
    "df = pd.DataFrame(data=pipeline.calculate_metrics())\n",
    "df = df.T\n",
    "df"
   ],
   "id": "751fad2660242db5",
   "outputs": [
    {
     "name": "stderr",
     "output_type": "stream",
     "text": [
      "INFO:utils.ml:Metrics for classifier GT: {'accuracy': 1.0, 'precision': 1.0, 'recall': 1.0, 'f1': 1.0, 'kappa': 1.0}\n",
      "INFO:utils.ml:Metrics for classifier RandomForestClassifier0: {'accuracy': 0.84251968503937, 'precision': 0.8720269913244364, 'recall': 0.6552831548373876, 'f1': 0.6765557987064076, 'kappa': 0.7049914517208058}\n",
      "INFO:utils.ml:Metrics for classifier RandomForestClassifier1: {'accuracy': 0.8330708661417323, 'precision': 0.8841015466535761, 'recall': 0.6274691435042877, 'f1': 0.634591292792572, 'kappa': 0.6859808724049452}\n",
      "INFO:utils.ml:Metrics for classifier RandomForestClassifier2: {'accuracy': 0.8456692913385827, 'precision': 0.8731582243656547, 'recall': 0.6547283718442464, 'f1': 0.6740220744316682, 'kappa': 0.7108163872262909}\n",
      "INFO:utils.ml:Metrics for classifier RandomForestClassifier3: {'accuracy': 0.8464566929133859, 'precision': 0.8746639908820567, 'recall': 0.658096769176751, 'f1': 0.6792776739687029, 'kappa': 0.7123666654277856}\n",
      "INFO:utils.ml:Metrics for classifier XGBClassifier4: {'accuracy': 0.8716535433070867, 'precision': 0.8578939889157312, 'recall': 0.7046957679459442, 'f1': 0.7331434432626486, 'kappa': 0.7621624478391147}\n",
      "INFO:utils.ml:Metrics for classifier XGBClassifier5: {'accuracy': 0.8692913385826772, 'precision': 0.8403412847945931, 'recall': 0.7014438221095012, 'f1': 0.7294634084300081, 'kappa': 0.7571063837631574}\n",
      "INFO:utils.ml:Metrics for classifier XGBClassifier6: {'accuracy': 0.8661417322834646, 'precision': 0.858378008445159, 'recall': 0.6920909017353541, 'f1': 0.7181499775049921, 'kappa': 0.751487163431434}\n",
      "INFO:utils.ml:Metrics for classifier XGBClassifier7: {'accuracy': 0.8748031496062992, 'precision': 0.8570676803409633, 'recall': 0.7158257079028472, 'f1': 0.7460318870697695, 'kappa': 0.7683332568491579}\n",
      "INFO:utils.ml:Metrics for classifier XGBClassifier8: {'accuracy': 0.8700787401574803, 'precision': 0.8503032223171626, 'recall': 0.706411537066486, 'f1': 0.7349529615828851, 'kappa': 0.7595171752133417}\n",
      "INFO:utils.ml:Metrics for classifier XGBClassifier9: {'accuracy': 0.8732283464566929, 'precision': 0.8418593473004593, 'recall': 0.7135985100257932, 'f1': 0.7427361879475479, 'kappa': 0.7652004758689431}\n",
      "INFO:utils.ml:Metrics for classifier XGBClassifier10: {'accuracy': 0.8669291338582678, 'precision': 0.849208499312153, 'recall': 0.6925825438199166, 'f1': 0.71787264571388, 'kappa': 0.7530638354663979}\n",
      "INFO:utils.ml:Metrics for classifier XGBClassifier11: {'accuracy': 0.8732283464566929, 'precision': 0.8488661746025, 'recall': 0.7148424237337223, 'f1': 0.7441241111829348, 'kappa': 0.7655762739846645}\n",
      "INFO:utils.ml:Metrics for classifier XGBClassifier12: {'accuracy': 0.8677165354330708, 'precision': 0.848724386114818, 'recall': 0.7047589088545231, 'f1': 0.7333392140171173, 'kappa': 0.7551447602172207}\n"
     ]
    },
    {
     "data": {
      "text/plain": [
       "                         accuracy  precision    recall        f1     kappa\n",
       "GT                       1.000000   1.000000  1.000000  1.000000  1.000000\n",
       "RandomForestClassifier0  0.842520   0.872027  0.655283  0.676556  0.704991\n",
       "RandomForestClassifier1  0.833071   0.884102  0.627469  0.634591  0.685981\n",
       "RandomForestClassifier2  0.845669   0.873158  0.654728  0.674022  0.710816\n",
       "RandomForestClassifier3  0.846457   0.874664  0.658097  0.679278  0.712367\n",
       "XGBClassifier4           0.871654   0.857894  0.704696  0.733143  0.762162\n",
       "XGBClassifier5           0.869291   0.840341  0.701444  0.729463  0.757106\n",
       "XGBClassifier6           0.866142   0.858378  0.692091  0.718150  0.751487\n",
       "XGBClassifier7           0.874803   0.857068  0.715826  0.746032  0.768333\n",
       "XGBClassifier8           0.870079   0.850303  0.706412  0.734953  0.759517\n",
       "XGBClassifier9           0.873228   0.841859  0.713599  0.742736  0.765200\n",
       "XGBClassifier10          0.866929   0.849208  0.692583  0.717873  0.753064\n",
       "XGBClassifier11          0.873228   0.848866  0.714842  0.744124  0.765576\n",
       "XGBClassifier12          0.867717   0.848724  0.704759  0.733339  0.755145"
      ],
      "text/html": [
       "<div>\n",
       "<style scoped>\n",
       "    .dataframe tbody tr th:only-of-type {\n",
       "        vertical-align: middle;\n",
       "    }\n",
       "\n",
       "    .dataframe tbody tr th {\n",
       "        vertical-align: top;\n",
       "    }\n",
       "\n",
       "    .dataframe thead th {\n",
       "        text-align: right;\n",
       "    }\n",
       "</style>\n",
       "<table border=\"1\" class=\"dataframe\">\n",
       "  <thead>\n",
       "    <tr style=\"text-align: right;\">\n",
       "      <th></th>\n",
       "      <th>accuracy</th>\n",
       "      <th>precision</th>\n",
       "      <th>recall</th>\n",
       "      <th>f1</th>\n",
       "      <th>kappa</th>\n",
       "    </tr>\n",
       "  </thead>\n",
       "  <tbody>\n",
       "    <tr>\n",
       "      <th>GT</th>\n",
       "      <td>1.000000</td>\n",
       "      <td>1.000000</td>\n",
       "      <td>1.000000</td>\n",
       "      <td>1.000000</td>\n",
       "      <td>1.000000</td>\n",
       "    </tr>\n",
       "    <tr>\n",
       "      <th>RandomForestClassifier0</th>\n",
       "      <td>0.842520</td>\n",
       "      <td>0.872027</td>\n",
       "      <td>0.655283</td>\n",
       "      <td>0.676556</td>\n",
       "      <td>0.704991</td>\n",
       "    </tr>\n",
       "    <tr>\n",
       "      <th>RandomForestClassifier1</th>\n",
       "      <td>0.833071</td>\n",
       "      <td>0.884102</td>\n",
       "      <td>0.627469</td>\n",
       "      <td>0.634591</td>\n",
       "      <td>0.685981</td>\n",
       "    </tr>\n",
       "    <tr>\n",
       "      <th>RandomForestClassifier2</th>\n",
       "      <td>0.845669</td>\n",
       "      <td>0.873158</td>\n",
       "      <td>0.654728</td>\n",
       "      <td>0.674022</td>\n",
       "      <td>0.710816</td>\n",
       "    </tr>\n",
       "    <tr>\n",
       "      <th>RandomForestClassifier3</th>\n",
       "      <td>0.846457</td>\n",
       "      <td>0.874664</td>\n",
       "      <td>0.658097</td>\n",
       "      <td>0.679278</td>\n",
       "      <td>0.712367</td>\n",
       "    </tr>\n",
       "    <tr>\n",
       "      <th>XGBClassifier4</th>\n",
       "      <td>0.871654</td>\n",
       "      <td>0.857894</td>\n",
       "      <td>0.704696</td>\n",
       "      <td>0.733143</td>\n",
       "      <td>0.762162</td>\n",
       "    </tr>\n",
       "    <tr>\n",
       "      <th>XGBClassifier5</th>\n",
       "      <td>0.869291</td>\n",
       "      <td>0.840341</td>\n",
       "      <td>0.701444</td>\n",
       "      <td>0.729463</td>\n",
       "      <td>0.757106</td>\n",
       "    </tr>\n",
       "    <tr>\n",
       "      <th>XGBClassifier6</th>\n",
       "      <td>0.866142</td>\n",
       "      <td>0.858378</td>\n",
       "      <td>0.692091</td>\n",
       "      <td>0.718150</td>\n",
       "      <td>0.751487</td>\n",
       "    </tr>\n",
       "    <tr>\n",
       "      <th>XGBClassifier7</th>\n",
       "      <td>0.874803</td>\n",
       "      <td>0.857068</td>\n",
       "      <td>0.715826</td>\n",
       "      <td>0.746032</td>\n",
       "      <td>0.768333</td>\n",
       "    </tr>\n",
       "    <tr>\n",
       "      <th>XGBClassifier8</th>\n",
       "      <td>0.870079</td>\n",
       "      <td>0.850303</td>\n",
       "      <td>0.706412</td>\n",
       "      <td>0.734953</td>\n",
       "      <td>0.759517</td>\n",
       "    </tr>\n",
       "    <tr>\n",
       "      <th>XGBClassifier9</th>\n",
       "      <td>0.873228</td>\n",
       "      <td>0.841859</td>\n",
       "      <td>0.713599</td>\n",
       "      <td>0.742736</td>\n",
       "      <td>0.765200</td>\n",
       "    </tr>\n",
       "    <tr>\n",
       "      <th>XGBClassifier10</th>\n",
       "      <td>0.866929</td>\n",
       "      <td>0.849208</td>\n",
       "      <td>0.692583</td>\n",
       "      <td>0.717873</td>\n",
       "      <td>0.753064</td>\n",
       "    </tr>\n",
       "    <tr>\n",
       "      <th>XGBClassifier11</th>\n",
       "      <td>0.873228</td>\n",
       "      <td>0.848866</td>\n",
       "      <td>0.714842</td>\n",
       "      <td>0.744124</td>\n",
       "      <td>0.765576</td>\n",
       "    </tr>\n",
       "    <tr>\n",
       "      <th>XGBClassifier12</th>\n",
       "      <td>0.867717</td>\n",
       "      <td>0.848724</td>\n",
       "      <td>0.704759</td>\n",
       "      <td>0.733339</td>\n",
       "      <td>0.755145</td>\n",
       "    </tr>\n",
       "  </tbody>\n",
       "</table>\n",
       "</div>"
      ]
     },
     "execution_count": 7,
     "metadata": {},
     "output_type": "execute_result"
    }
   ],
   "execution_count": 7
  },
  {
   "metadata": {
    "ExecuteTime": {
     "end_time": "2024-11-03T14:21:41.228496Z",
     "start_time": "2024-11-03T14:21:41.221039Z"
    }
   },
   "cell_type": "code",
   "source": [
    "highest = df[df[\"kappa\"] == df.iloc[1:][\"kappa\"].max()]\n",
    "idx = highest.index[0]\n",
    "\n",
    "confusion_matrix(pipeline.predictions[\"GT\"], pipeline.predictions[idx])"
   ],
   "id": "22f7f750a102a0bd",
   "outputs": [
    {
     "data": {
      "text/plain": [
       "array([[456,  38,   4],\n",
       "       [ 50, 626,   2],\n",
       "       [ 46,  19,  29]], dtype=int64)"
      ]
     },
     "execution_count": 8,
     "metadata": {},
     "output_type": "execute_result"
    }
   ],
   "execution_count": 8
  },
  {
   "metadata": {},
   "cell_type": "markdown",
   "source": [
    "___\n",
    "# Balance the data"
   ],
   "id": "ad0e6dcd404dcf15"
  },
  {
   "metadata": {
    "ExecuteTime": {
     "end_time": "2024-11-03T14:21:41.261730Z",
     "start_time": "2024-11-03T14:21:41.254247Z"
    }
   },
   "cell_type": "code",
   "source": [
    "# Backup\n",
    "pipeline.backup_feature_matrix = pipeline.feature_matrix.copy()\n",
    "pipeline.backup_labels = pipeline.labels.copy()"
   ],
   "id": "da1b19771d4cde2f",
   "outputs": [],
   "execution_count": 9
  },
  {
   "metadata": {
    "ExecuteTime": {
     "end_time": "2024-11-03T14:21:41.301645Z",
     "start_time": "2024-11-03T14:21:41.296740Z"
    }
   },
   "cell_type": "code",
   "source": [
    "print(pipeline.backup_feature_matrix.shape)\n",
    "print(pipeline.feature_matrix.shape)\n",
    "\n",
    "print(pipeline.backup_labels.shape)\n",
    "print(pipeline.labels.shape)"
   ],
   "id": "3425dcf3bd509008",
   "outputs": [
    {
     "name": "stdout",
     "output_type": "stream",
     "text": [
      "(5082, 190)\n",
      "(5082, 190)\n",
      "(5082,)\n",
      "(5082,)\n"
     ]
    }
   ],
   "execution_count": 10
  },
  {
   "metadata": {
    "ExecuteTime": {
     "end_time": "2024-11-03T14:21:41.341827Z",
     "start_time": "2024-11-03T14:21:41.331812Z"
    }
   },
   "cell_type": "code",
   "source": "pipeline.get_feature_names()",
   "id": "7cc809550b1f26d1",
   "outputs": [
    {
     "data": {
      "text/plain": [
       "['gradient_magnitude_mean',\n",
       " 'gradient_magnitude_std',\n",
       " 'gradient_direction_mean',\n",
       " 'gradient_direction_std',\n",
       " 'color_moments_rgb_R_mean',\n",
       " 'color_moments_rgb_R_std',\n",
       " 'color_moments_rgb_R_skew',\n",
       " 'color_moments_rgb_R_kurtosis',\n",
       " 'color_moments_rgb_R_median',\n",
       " 'color_moments_rgb_R_var',\n",
       " 'color_moments_rgb_R_min',\n",
       " 'color_moments_rgb_R_max',\n",
       " 'color_moments_rgb_R_iqr',\n",
       " 'color_moments_rgb_R_entropy',\n",
       " 'color_moments_rgb_G_mean',\n",
       " 'color_moments_rgb_G_std',\n",
       " 'color_moments_rgb_G_skew',\n",
       " 'color_moments_rgb_G_kurtosis',\n",
       " 'color_moments_rgb_G_median',\n",
       " 'color_moments_rgb_G_var',\n",
       " 'color_moments_rgb_G_min',\n",
       " 'color_moments_rgb_G_max',\n",
       " 'color_moments_rgb_G_iqr',\n",
       " 'color_moments_rgb_G_entropy',\n",
       " 'color_moments_rgb_B_mean',\n",
       " 'color_moments_rgb_B_std',\n",
       " 'color_moments_rgb_B_skew',\n",
       " 'color_moments_rgb_B_kurtosis',\n",
       " 'color_moments_rgb_B_median',\n",
       " 'color_moments_rgb_B_var',\n",
       " 'color_moments_rgb_B_min',\n",
       " 'color_moments_rgb_B_max',\n",
       " 'color_moments_rgb_B_iqr',\n",
       " 'color_moments_rgb_B_entropy',\n",
       " 'color_moments_lab_L_mean',\n",
       " 'color_moments_lab_L_std',\n",
       " 'color_moments_lab_L_skew',\n",
       " 'color_moments_lab_L_kurtosis',\n",
       " 'color_moments_lab_L_median',\n",
       " 'color_moments_lab_L_var',\n",
       " 'color_moments_lab_L_min',\n",
       " 'color_moments_lab_L_max',\n",
       " 'color_moments_lab_L_iqr',\n",
       " 'color_moments_lab_L_entropy',\n",
       " 'color_moments_lab_A_mean',\n",
       " 'color_moments_lab_A_std',\n",
       " 'color_moments_lab_A_skew',\n",
       " 'color_moments_lab_A_kurtosis',\n",
       " 'color_moments_lab_A_median',\n",
       " 'color_moments_lab_A_var',\n",
       " 'color_moments_lab_A_min',\n",
       " 'color_moments_lab_A_max',\n",
       " 'color_moments_lab_A_iqr',\n",
       " 'color_moments_lab_A_entropy',\n",
       " 'color_moments_lab_B_mean',\n",
       " 'color_moments_lab_B_std',\n",
       " 'color_moments_lab_B_skew',\n",
       " 'color_moments_lab_B_kurtosis',\n",
       " 'color_moments_lab_B_median',\n",
       " 'color_moments_lab_B_var',\n",
       " 'color_moments_lab_B_min',\n",
       " 'color_moments_lab_B_max',\n",
       " 'color_moments_lab_B_iqr',\n",
       " 'color_moments_lab_B_entropy',\n",
       " 'color_moments_hsv_H_mean',\n",
       " 'color_moments_hsv_H_std',\n",
       " 'color_moments_hsv_H_skew',\n",
       " 'color_moments_hsv_H_kurtosis',\n",
       " 'color_moments_hsv_H_median',\n",
       " 'color_moments_hsv_H_var',\n",
       " 'color_moments_hsv_H_min',\n",
       " 'color_moments_hsv_H_max',\n",
       " 'color_moments_hsv_H_iqr',\n",
       " 'color_moments_hsv_H_entropy',\n",
       " 'color_moments_hsv_S_mean',\n",
       " 'color_moments_hsv_S_std',\n",
       " 'color_moments_hsv_S_skew',\n",
       " 'color_moments_hsv_S_kurtosis',\n",
       " 'color_moments_hsv_S_median',\n",
       " 'color_moments_hsv_S_var',\n",
       " 'color_moments_hsv_S_min',\n",
       " 'color_moments_hsv_S_max',\n",
       " 'color_moments_hsv_S_iqr',\n",
       " 'color_moments_hsv_S_entropy',\n",
       " 'color_moments_hsv_V_mean',\n",
       " 'color_moments_hsv_V_std',\n",
       " 'color_moments_hsv_V_skew',\n",
       " 'color_moments_hsv_V_kurtosis',\n",
       " 'color_moments_hsv_V_median',\n",
       " 'color_moments_hsv_V_var',\n",
       " 'color_moments_hsv_V_min',\n",
       " 'color_moments_hsv_V_max',\n",
       " 'color_moments_hsv_V_iqr',\n",
       " 'color_moments_hsv_V_entropy',\n",
       " 'lbp_rad1_bins8_0',\n",
       " 'lbp_rad1_bins8_1',\n",
       " 'lbp_rad1_bins8_2',\n",
       " 'lbp_rad1_bins8_3',\n",
       " 'lbp_rad1_bins8_4',\n",
       " 'lbp_rad1_bins8_5',\n",
       " 'lbp_rad1_bins8_6',\n",
       " 'lbp_rad1_bins8_7',\n",
       " 'lbp_rad1_bins8_8',\n",
       " 'lbp_rad1_bins8_9',\n",
       " 'lbp_rad2_bins16_0',\n",
       " 'lbp_rad2_bins16_1',\n",
       " 'lbp_rad2_bins16_2',\n",
       " 'lbp_rad2_bins16_3',\n",
       " 'lbp_rad2_bins16_4',\n",
       " 'lbp_rad2_bins16_5',\n",
       " 'lbp_rad2_bins16_6',\n",
       " 'lbp_rad2_bins16_7',\n",
       " 'lbp_rad2_bins16_8',\n",
       " 'lbp_rad2_bins16_9',\n",
       " 'lbp_rad2_bins16_10',\n",
       " 'lbp_rad2_bins16_11',\n",
       " 'lbp_rad2_bins16_12',\n",
       " 'lbp_rad2_bins16_13',\n",
       " 'lbp_rad2_bins16_14',\n",
       " 'lbp_rad2_bins16_15',\n",
       " 'lbp_rad2_bins16_16',\n",
       " 'lbp_rad2_bins16_17',\n",
       " 'lbp_rad3_bins24_0',\n",
       " 'lbp_rad3_bins24_1',\n",
       " 'lbp_rad3_bins24_2',\n",
       " 'lbp_rad3_bins24_3',\n",
       " 'lbp_rad3_bins24_4',\n",
       " 'lbp_rad3_bins24_5',\n",
       " 'lbp_rad3_bins24_6',\n",
       " 'lbp_rad3_bins24_7',\n",
       " 'lbp_rad3_bins24_8',\n",
       " 'lbp_rad3_bins24_9',\n",
       " 'lbp_rad3_bins24_10',\n",
       " 'lbp_rad3_bins24_11',\n",
       " 'lbp_rad3_bins24_12',\n",
       " 'lbp_rad3_bins24_13',\n",
       " 'lbp_rad3_bins24_14',\n",
       " 'lbp_rad3_bins24_15',\n",
       " 'lbp_rad3_bins24_16',\n",
       " 'lbp_rad3_bins24_17',\n",
       " 'lbp_rad3_bins24_18',\n",
       " 'lbp_rad3_bins24_19',\n",
       " 'lbp_rad3_bins24_20',\n",
       " 'lbp_rad3_bins24_21',\n",
       " 'lbp_rad3_bins24_22',\n",
       " 'lbp_rad3_bins24_23',\n",
       " 'lbp_rad3_bins24_24',\n",
       " 'lbp_rad3_bins24_25',\n",
       " 'lbp_rad4_bins32_0',\n",
       " 'lbp_rad4_bins32_1',\n",
       " 'lbp_rad4_bins32_2',\n",
       " 'lbp_rad4_bins32_3',\n",
       " 'lbp_rad4_bins32_4',\n",
       " 'lbp_rad4_bins32_5',\n",
       " 'lbp_rad4_bins32_6',\n",
       " 'lbp_rad4_bins32_7',\n",
       " 'lbp_rad4_bins32_8',\n",
       " 'lbp_rad4_bins32_9',\n",
       " 'lbp_rad4_bins32_10',\n",
       " 'lbp_rad4_bins32_11',\n",
       " 'lbp_rad4_bins32_12',\n",
       " 'lbp_rad4_bins32_13',\n",
       " 'lbp_rad4_bins32_14',\n",
       " 'lbp_rad4_bins32_15',\n",
       " 'lbp_rad4_bins32_16',\n",
       " 'lbp_rad4_bins32_17',\n",
       " 'lbp_rad4_bins32_18',\n",
       " 'lbp_rad4_bins32_19',\n",
       " 'lbp_rad4_bins32_20',\n",
       " 'lbp_rad4_bins32_21',\n",
       " 'lbp_rad4_bins32_22',\n",
       " 'lbp_rad4_bins32_23',\n",
       " 'lbp_rad4_bins32_24',\n",
       " 'lbp_rad4_bins32_25',\n",
       " 'lbp_rad4_bins32_26',\n",
       " 'lbp_rad4_bins32_27',\n",
       " 'lbp_rad4_bins32_28',\n",
       " 'lbp_rad4_bins32_29',\n",
       " 'lbp_rad4_bins32_30',\n",
       " 'lbp_rad4_bins32_31',\n",
       " 'lbp_rad4_bins32_32',\n",
       " 'lbp_rad4_bins32_33',\n",
       " 'fourier_transform_magnitude_mean',\n",
       " 'fourier_transform_magnitude_std',\n",
       " 'glcm_contrast_dist_1_angle_0',\n",
       " 'glcm_dissimilarity_dist_1_angle_0',\n",
       " 'glcm_homogeneity_dist_1_angle_0',\n",
       " 'glcm_energy_dist_1_angle_0',\n",
       " 'glcm_correlation_dist_1_angle_0',\n",
       " 'glcm_ASM_dist_1_angle_0']"
      ]
     },
     "execution_count": 11,
     "metadata": {},
     "output_type": "execute_result"
    }
   ],
   "execution_count": 11
  },
  {
   "metadata": {
    "ExecuteTime": {
     "end_time": "2024-11-03T14:21:41.717123Z",
     "start_time": "2024-11-03T14:21:41.347342Z"
    }
   },
   "cell_type": "code",
   "source": [
    "from imblearn.over_sampling import SMOTE\n",
    "\n",
    "smote = SMOTE(random_state=42)\n",
    "\n",
    "\n",
    "pipeline.feature_matrix, pipeline.labels = smote.fit_resample(np.nan_to_num(pipeline.feature_matrix), pipeline.labels)"
   ],
   "id": "6f226a41aafa84b7",
   "outputs": [],
   "execution_count": 12
  },
  {
   "metadata": {
    "ExecuteTime": {
     "end_time": "2024-11-03T14:25:37.472304Z",
     "start_time": "2024-11-03T14:21:41.731873Z"
    }
   },
   "cell_type": "code",
   "source": [
    "pipeline.fitted_classifiers = {}\n",
    "pipeline.fit_classifiers()"
   ],
   "id": "e25b1eeaa9b9b112",
   "outputs": [
    {
     "name": "stderr",
     "output_type": "stream",
     "text": [
      "INFO:utils.ml:Fitting classifiers...\n",
      "INFO:utils.ml:Fitting classifier: RandomForestClassifier0\n",
      "INFO:utils.ml:Top 10 features for RandomForestClassifier0: [('color_moments_rgb_B_iqr', 0.02141248972034945), ('color_moments_lab_B_std', 0.02123731819864567), ('color_moments_lab_B_var', 0.02053418529773359), ('color_moments_rgb_B_var', 0.01757289101859818), ('color_moments_lab_L_iqr', 0.01389085167379286), ('color_moments_rgb_G_iqr', 0.013708811176309057), ('color_moments_rgb_R_iqr', 0.013685514709031763), ('color_moments_rgb_B_std', 0.012375685473543868), ('glcm_ASM_dist_1_angle_0', 0.010647785351581151), ('gradient_direction_std', 0.010569430919342622)]\n",
      "INFO:utils.ml:Fitted classifier: RandomForestClassifier0; Done in 11.050365686416626 seconds\n",
      "INFO:utils.ml:Fitting classifier: RandomForestClassifier1\n",
      "INFO:utils.ml:Top 10 features for RandomForestClassifier1: [('color_moments_lab_B_var', 0.020037756705878002), ('color_moments_rgb_B_iqr', 0.01991791778312504), ('color_moments_lab_B_std', 0.01964286196004288), ('color_moments_lab_L_iqr', 0.015637819503319314), ('color_moments_rgb_R_iqr', 0.01517208791664001), ('color_moments_rgb_B_var', 0.014447710670230865), ('color_moments_rgb_G_iqr', 0.013932255092438374), ('color_moments_rgb_B_std', 0.013567532939896172), ('color_moments_rgb_R_kurtosis', 0.01094294408272506), ('glcm_ASM_dist_1_angle_0', 0.0105319295519119)]\n",
      "INFO:utils.ml:Fitted classifier: RandomForestClassifier1; Done in 11.278133630752563 seconds\n",
      "INFO:utils.ml:Fitting classifier: RandomForestClassifier2\n",
      "INFO:utils.ml:Top 10 features for RandomForestClassifier2: [('color_moments_lab_B_std', 0.021993939545018604), ('color_moments_lab_B_var', 0.020781470312003624), ('color_moments_rgb_B_iqr', 0.01942125209992107), ('color_moments_lab_L_iqr', 0.017349430140337727), ('color_moments_rgb_B_var', 0.015379362235101723), ('color_moments_rgb_G_iqr', 0.01492760596962926), ('color_moments_rgb_R_iqr', 0.013480842510363574), ('color_moments_rgb_B_std', 0.012875507536163273), ('glcm_ASM_dist_1_angle_0', 0.011375979666536199), ('lbp_rad1_bins8_4', 0.009995122371068825)]\n",
      "INFO:utils.ml:Fitted classifier: RandomForestClassifier2; Done in 16.2818820476532 seconds\n",
      "INFO:utils.ml:Fitting classifier: RandomForestClassifier3\n",
      "INFO:utils.ml:Top 10 features for RandomForestClassifier3: [('color_moments_lab_B_std', 0.022695762391164397), ('color_moments_lab_B_var', 0.02033217853455441), ('color_moments_rgb_B_iqr', 0.018946720337153403), ('color_moments_rgb_B_var', 0.01697953481148524), ('color_moments_lab_L_iqr', 0.016381779980928074), ('color_moments_rgb_B_std', 0.01437816296205288), ('color_moments_rgb_R_iqr', 0.013328118623178883), ('color_moments_rgb_G_iqr', 0.01318173295434521), ('glcm_ASM_dist_1_angle_0', 0.011769983490689606), ('color_moments_rgb_R_kurtosis', 0.010193897684341273)]\n",
      "INFO:utils.ml:Fitted classifier: RandomForestClassifier3; Done in 27.10593867301941 seconds\n",
      "INFO:utils.ml:Fitting classifier: XGBClassifier4\n",
      "INFO:utils.ml:Top 10 features for XGBClassifier4: [('color_moments_rgb_B_iqr', 0.049827512), ('color_moments_lab_L_iqr', 0.034977943), ('glcm_ASM_dist_1_angle_0', 0.028268917), ('lbp_rad1_bins8_4', 0.017955603), ('color_moments_lab_B_std', 0.017305193), ('gradient_direction_std', 0.017197546), ('color_moments_lab_B_var', 0.013517547), ('color_moments_lab_A_iqr', 0.0130110625), ('gradient_magnitude_std', 0.010661846), ('lbp_rad3_bins24_12', 0.010254117)]\n",
      "INFO:utils.ml:Fitted classifier: XGBClassifier4; Done in 17.037362098693848 seconds\n",
      "INFO:utils.ml:Fitting classifier: XGBClassifier5\n",
      "INFO:utils.ml:Top 10 features for XGBClassifier5: [('color_moments_lab_L_iqr', 0.04680409), ('color_moments_rgb_B_iqr', 0.035623062), ('glcm_ASM_dist_1_angle_0', 0.029426988), ('color_moments_lab_B_std', 0.017053822), ('gradient_direction_std', 0.01466255), ('lbp_rad1_bins8_4', 0.014570436), ('gradient_magnitude_std', 0.012955011), ('color_moments_lab_A_iqr', 0.012805908), ('gradient_magnitude_mean', 0.012240957), ('color_moments_lab_B_var', 0.01153552)]\n",
      "INFO:utils.ml:Fitted classifier: XGBClassifier5; Done in 20.146037340164185 seconds\n",
      "INFO:utils.ml:Fitting classifier: XGBClassifier6\n",
      "INFO:utils.ml:Top 10 features for XGBClassifier6: [('color_moments_rgb_B_iqr', 0.048657484), ('color_moments_lab_L_iqr', 0.032344747), ('glcm_ASM_dist_1_angle_0', 0.030918567), ('lbp_rad1_bins8_4', 0.017773751), ('color_moments_lab_B_std', 0.016914973), ('gradient_direction_std', 0.014359908), ('color_moments_lab_B_var', 0.01416109), ('color_moments_lab_A_iqr', 0.012357874), ('gradient_magnitude_mean', 0.011758592), ('gradient_magnitude_std', 0.009813685)]\n",
      "INFO:utils.ml:Fitted classifier: XGBClassifier6; Done in 12.496335506439209 seconds\n",
      "INFO:utils.ml:Fitting classifier: XGBClassifier7\n",
      "INFO:utils.ml:Top 10 features for XGBClassifier7: [('color_moments_rgb_B_iqr', 0.04892091), ('color_moments_lab_L_iqr', 0.0371393), ('glcm_ASM_dist_1_angle_0', 0.029338459), ('color_moments_lab_B_std', 0.017476043), ('lbp_rad1_bins8_4', 0.016846543), ('color_moments_lab_B_var', 0.014837555), ('lbp_rad3_bins24_24', 0.014652322), ('gradient_direction_std', 0.01312012), ('gradient_magnitude_mean', 0.012738842), ('color_moments_rgb_B_std', 0.012237858)]\n",
      "INFO:utils.ml:Fitted classifier: XGBClassifier7; Done in 16.95286536216736 seconds\n",
      "INFO:utils.ml:Fitting classifier: XGBClassifier8\n",
      "INFO:utils.ml:Top 10 features for XGBClassifier8: [('color_moments_rgb_B_iqr', 0.049284182), ('color_moments_lab_L_iqr', 0.03636844), ('glcm_ASM_dist_1_angle_0', 0.029372329), ('gradient_direction_std', 0.018007832), ('lbp_rad1_bins8_4', 0.017749757), ('color_moments_lab_B_std', 0.01748504), ('color_moments_lab_B_var', 0.013318695), ('color_moments_lab_A_iqr', 0.012969867), ('gradient_magnitude_std', 0.011150288), ('lbp_rad3_bins24_12', 0.010183897)]\n",
      "INFO:utils.ml:Fitted classifier: XGBClassifier8; Done in 22.65285587310791 seconds\n",
      "INFO:utils.ml:Fitting classifier: XGBClassifier9\n",
      "INFO:utils.ml:Top 10 features for XGBClassifier9: [('color_moments_lab_L_iqr', 0.046964154), ('color_moments_rgb_B_iqr', 0.035728328), ('glcm_ASM_dist_1_angle_0', 0.03016768), ('color_moments_lab_B_std', 0.0173106), ('gradient_direction_std', 0.01505109), ('lbp_rad1_bins8_4', 0.014443098), ('gradient_magnitude_std', 0.013520635), ('color_moments_lab_A_iqr', 0.012833537), ('gradient_magnitude_mean', 0.012322103), ('color_moments_lab_B_var', 0.011655368)]\n",
      "INFO:utils.ml:Fitted classifier: XGBClassifier9; Done in 24.12772798538208 seconds\n",
      "INFO:utils.ml:Fitting classifier: XGBClassifier10\n",
      "INFO:utils.ml:Top 10 features for XGBClassifier10: [('color_moments_rgb_B_iqr', 0.04897339), ('color_moments_lab_L_iqr', 0.032133505), ('glcm_ASM_dist_1_angle_0', 0.031271923), ('lbp_rad1_bins8_4', 0.017663782), ('color_moments_lab_B_std', 0.016940506), ('gradient_direction_std', 0.014430488), ('color_moments_lab_B_var', 0.014322933), ('color_moments_lab_A_iqr', 0.012309724), ('gradient_magnitude_mean', 0.011892976), ('gradient_magnitude_std', 0.009925842)]\n",
      "INFO:utils.ml:Fitted classifier: XGBClassifier10; Done in 13.213011980056763 seconds\n",
      "INFO:utils.ml:Fitting classifier: XGBClassifier11\n",
      "INFO:utils.ml:Top 10 features for XGBClassifier11: [('color_moments_rgb_B_iqr', 0.047059994), ('color_moments_lab_L_iqr', 0.036787156), ('glcm_ASM_dist_1_angle_0', 0.030851465), ('color_moments_lab_B_std', 0.018145418), ('lbp_rad1_bins8_4', 0.016957624), ('color_moments_lab_B_var', 0.0147395255), ('lbp_rad3_bins24_24', 0.014149512), ('gradient_magnitude_mean', 0.013987026), ('gradient_direction_std', 0.013367762), ('color_moments_rgb_B_std', 0.0125337895)]\n",
      "INFO:utils.ml:Fitted classifier: XGBClassifier11; Done in 23.765747547149658 seconds\n",
      "INFO:utils.ml:Fitting classifier: XGBClassifier12\n",
      "INFO:utils.ml:Top 10 features for XGBClassifier12: [('color_moments_rgb_B_iqr', 0.048249464), ('color_moments_lab_L_iqr', 0.036834497), ('glcm_ASM_dist_1_angle_0', 0.030774599), ('gradient_direction_std', 0.018323025), ('color_moments_lab_B_std', 0.01771411), ('lbp_rad1_bins8_4', 0.01752221), ('color_moments_lab_B_var', 0.013218172), ('color_moments_lab_A_iqr', 0.013070203), ('gradient_magnitude_std', 0.01149715), ('color_moments_hsv_H_min', 0.010959579)]\n",
      "INFO:utils.ml:Fitted classifier: XGBClassifier12; Done in 19.614981174468994 seconds\n",
      "INFO:utils.ml:Fitting completed in 235.72 seconds.\n"
     ]
    }
   ],
   "execution_count": 13
  },
  {
   "metadata": {
    "ExecuteTime": {
     "end_time": "2024-11-03T14:28:17.017948Z",
     "start_time": "2024-11-03T14:25:37.495239Z"
    }
   },
   "cell_type": "code",
   "source": "pipeline.predict_with_classifiers(VAL_PATH, percent)",
   "id": "eaa13003ad0706a4",
   "outputs": [
    {
     "name": "stderr",
     "output_type": "stream",
     "text": [
      "INFO:utils.ml:Predicting with classifiers on dataset: C:\\Users\\gimes\\Src\\repos\\CADx-Project\\dataset\\multiclass\\val\n"
     ]
    },
    {
     "name": "stdout",
     "output_type": "stream",
     "text": [
      "Processed 5/53 batches.\n",
      "Processed 10/53 batches.\n",
      "Processed 15/53 batches.\n",
      "Processed 20/53 batches.\n",
      "Processed 25/53 batches.\n",
      "Processed 30/53 batches.\n",
      "Processed 35/53 batches.\n",
      "Processed 40/53 batches.\n",
      "Processed 45/53 batches.\n",
      "Processed 50/53 batches.\n"
     ]
    },
    {
     "name": "stderr",
     "output_type": "stream",
     "text": [
      "INFO:utils.ml:Predictions made with classifier: RandomForestClassifier0\n",
      "INFO:utils.ml:Predictions made with classifier: RandomForestClassifier1\n",
      "INFO:utils.ml:Predictions made with classifier: RandomForestClassifier2\n",
      "INFO:utils.ml:Predictions made with classifier: RandomForestClassifier3\n",
      "INFO:utils.ml:Predictions made with classifier: XGBClassifier4\n",
      "INFO:utils.ml:Predictions made with classifier: XGBClassifier5\n",
      "INFO:utils.ml:Predictions made with classifier: XGBClassifier6\n",
      "INFO:utils.ml:Predictions made with classifier: XGBClassifier7\n",
      "INFO:utils.ml:Predictions made with classifier: XGBClassifier8\n"
     ]
    },
    {
     "name": "stdout",
     "output_type": "stream",
     "text": [
      "Processed 53/53 batches.\n"
     ]
    },
    {
     "name": "stderr",
     "output_type": "stream",
     "text": [
      "INFO:utils.ml:Predictions made with classifier: XGBClassifier9\n",
      "INFO:utils.ml:Predictions made with classifier: XGBClassifier10\n",
      "INFO:utils.ml:Predictions made with classifier: XGBClassifier11\n",
      "INFO:utils.ml:Predictions made with classifier: XGBClassifier12\n"
     ]
    },
    {
     "data": {
      "text/plain": [
       "{'GT': array([0, 0, 0, ..., 2, 2, 2]),\n",
       " 'RandomForestClassifier0': array([0, 0, 2, ..., 1, 0, 0]),\n",
       " 'RandomForestClassifier1': array([0, 0, 2, ..., 1, 0, 0]),\n",
       " 'RandomForestClassifier2': array([0, 0, 2, ..., 1, 0, 0]),\n",
       " 'RandomForestClassifier3': array([0, 0, 2, ..., 1, 0, 0]),\n",
       " 'XGBClassifier4': array([0, 0, 2, ..., 0, 2, 0], dtype=int64),\n",
       " 'XGBClassifier5': array([0, 0, 2, ..., 0, 2, 0], dtype=int64),\n",
       " 'XGBClassifier6': array([0, 0, 2, ..., 0, 2, 0], dtype=int64),\n",
       " 'XGBClassifier7': array([0, 0, 2, ..., 0, 2, 0], dtype=int64),\n",
       " 'XGBClassifier8': array([0, 0, 2, ..., 0, 2, 0], dtype=int64),\n",
       " 'XGBClassifier9': array([0, 0, 2, ..., 0, 2, 0], dtype=int64),\n",
       " 'XGBClassifier10': array([0, 0, 2, ..., 0, 2, 0], dtype=int64),\n",
       " 'XGBClassifier11': array([0, 0, 2, ..., 1, 0, 0], dtype=int64),\n",
       " 'XGBClassifier12': array([0, 0, 2, ..., 0, 2, 0], dtype=int64)}"
      ]
     },
     "execution_count": 14,
     "metadata": {},
     "output_type": "execute_result"
    }
   ],
   "execution_count": 14
  },
  {
   "metadata": {
    "ExecuteTime": {
     "end_time": "2024-11-03T14:28:17.119283Z",
     "start_time": "2024-11-03T14:28:17.035615Z"
    }
   },
   "cell_type": "code",
   "source": [
    "import pandas as pd\n",
    "\n",
    "df_smote = pd.DataFrame(data=pipeline.calculate_metrics())\n",
    "df_smote = df_smote.T\n",
    "df_smote"
   ],
   "id": "441842170622e9a",
   "outputs": [
    {
     "name": "stderr",
     "output_type": "stream",
     "text": [
      "INFO:utils.ml:Metrics for classifier GT: {'accuracy': 1.0, 'precision': 1.0, 'recall': 1.0, 'f1': 1.0, 'kappa': 1.0}\n",
      "INFO:utils.ml:Metrics for classifier RandomForestClassifier0: {'accuracy': 0.8330708661417323, 'precision': 0.7315370168423604, 'recall': 0.707273958698032, 'f1': 0.717112657340968, 'kappa': 0.697270895549239}\n",
      "INFO:utils.ml:Metrics for classifier RandomForestClassifier1: {'accuracy': 0.8330708661417323, 'precision': 0.7285846706180128, 'recall': 0.7099730119876985, 'f1': 0.717873063344903, 'kappa': 0.6977588986228295}\n",
      "INFO:utils.ml:Metrics for classifier RandomForestClassifier2: {'accuracy': 0.8362204724409449, 'precision': 0.7391375363564207, 'recall': 0.7040201224152242, 'f1': 0.7170975682658617, 'kappa': 0.7020353099888557}\n",
      "INFO:utils.ml:Metrics for classifier RandomForestClassifier3: {'accuracy': 0.8346456692913385, 'precision': 0.7403414195867026, 'recall': 0.7087903487419837, 'f1': 0.7209996294908048, 'kappa': 0.6997027428725848}\n",
      "INFO:utils.ml:Metrics for classifier XGBClassifier4: {'accuracy': 0.8732283464566929, 'precision': 0.7943478275634887, 'recall': 0.7745434761074046, 'f1': 0.7835448446319216, 'kappa': 0.7703740139794799}\n",
      "INFO:utils.ml:Metrics for classifier XGBClassifier5: {'accuracy': 0.8692913385826772, 'precision': 0.7898826334875203, 'recall': 0.7686754045618236, 'f1': 0.7782233719790214, 'kappa': 0.7631353056702814}\n",
      "INFO:utils.ml:Metrics for classifier XGBClassifier6: {'accuracy': 0.8574803149606299, 'precision': 0.7619132539701101, 'recall': 0.754125647131298, 'f1': 0.7578136386124522, 'kappa': 0.7429644240488777}\n",
      "INFO:utils.ml:Metrics for classifier XGBClassifier7: {'accuracy': 0.8700787401574803, 'precision': 0.7883245938133508, 'recall': 0.7697001525212127, 'f1': 0.778105007087308, 'kappa': 0.7649541012733195}\n",
      "INFO:utils.ml:Metrics for classifier XGBClassifier8: {'accuracy': 0.8740157480314961, 'precision': 0.7929530429158532, 'recall': 0.7750351181919669, 'f1': 0.7832507719762255, 'kappa': 0.7719037505668731}\n",
      "INFO:utils.ml:Metrics for classifier XGBClassifier9: {'accuracy': 0.8700787401574803, 'precision': 0.7941791158366874, 'recall': 0.7720438018943282, 'f1': 0.78203663003663, 'kappa': 0.7644192718638703}\n",
      "INFO:utils.ml:Metrics for classifier XGBClassifier10: {'accuracy': 0.8590551181102363, 'precision': 0.7647691812550956, 'recall': 0.7583410904649162, 'f1': 0.7614051244567167, 'kappa': 0.7459704814861168}\n",
      "INFO:utils.ml:Metrics for classifier XGBClassifier11: {'accuracy': 0.8669291338582678, 'precision': 0.7843828998326859, 'recall': 0.7645014250184695, 'f1': 0.7733726519726299, 'kappa': 0.7591955157836159}\n",
      "INFO:utils.ml:Metrics for classifier XGBClassifier12: {'accuracy': 0.8716535433070867, 'precision': 0.7861049579680284, 'recall': 0.7670958736092931, 'f1': 0.7757360703812317, 'kappa': 0.7674274903155642}\n"
     ]
    },
    {
     "data": {
      "text/plain": [
       "                         accuracy  precision    recall        f1     kappa\n",
       "GT                       1.000000   1.000000  1.000000  1.000000  1.000000\n",
       "RandomForestClassifier0  0.833071   0.731537  0.707274  0.717113  0.697271\n",
       "RandomForestClassifier1  0.833071   0.728585  0.709973  0.717873  0.697759\n",
       "RandomForestClassifier2  0.836220   0.739138  0.704020  0.717098  0.702035\n",
       "RandomForestClassifier3  0.834646   0.740341  0.708790  0.721000  0.699703\n",
       "XGBClassifier4           0.873228   0.794348  0.774543  0.783545  0.770374\n",
       "XGBClassifier5           0.869291   0.789883  0.768675  0.778223  0.763135\n",
       "XGBClassifier6           0.857480   0.761913  0.754126  0.757814  0.742964\n",
       "XGBClassifier7           0.870079   0.788325  0.769700  0.778105  0.764954\n",
       "XGBClassifier8           0.874016   0.792953  0.775035  0.783251  0.771904\n",
       "XGBClassifier9           0.870079   0.794179  0.772044  0.782037  0.764419\n",
       "XGBClassifier10          0.859055   0.764769  0.758341  0.761405  0.745970\n",
       "XGBClassifier11          0.866929   0.784383  0.764501  0.773373  0.759196\n",
       "XGBClassifier12          0.871654   0.786105  0.767096  0.775736  0.767427"
      ],
      "text/html": [
       "<div>\n",
       "<style scoped>\n",
       "    .dataframe tbody tr th:only-of-type {\n",
       "        vertical-align: middle;\n",
       "    }\n",
       "\n",
       "    .dataframe tbody tr th {\n",
       "        vertical-align: top;\n",
       "    }\n",
       "\n",
       "    .dataframe thead th {\n",
       "        text-align: right;\n",
       "    }\n",
       "</style>\n",
       "<table border=\"1\" class=\"dataframe\">\n",
       "  <thead>\n",
       "    <tr style=\"text-align: right;\">\n",
       "      <th></th>\n",
       "      <th>accuracy</th>\n",
       "      <th>precision</th>\n",
       "      <th>recall</th>\n",
       "      <th>f1</th>\n",
       "      <th>kappa</th>\n",
       "    </tr>\n",
       "  </thead>\n",
       "  <tbody>\n",
       "    <tr>\n",
       "      <th>GT</th>\n",
       "      <td>1.000000</td>\n",
       "      <td>1.000000</td>\n",
       "      <td>1.000000</td>\n",
       "      <td>1.000000</td>\n",
       "      <td>1.000000</td>\n",
       "    </tr>\n",
       "    <tr>\n",
       "      <th>RandomForestClassifier0</th>\n",
       "      <td>0.833071</td>\n",
       "      <td>0.731537</td>\n",
       "      <td>0.707274</td>\n",
       "      <td>0.717113</td>\n",
       "      <td>0.697271</td>\n",
       "    </tr>\n",
       "    <tr>\n",
       "      <th>RandomForestClassifier1</th>\n",
       "      <td>0.833071</td>\n",
       "      <td>0.728585</td>\n",
       "      <td>0.709973</td>\n",
       "      <td>0.717873</td>\n",
       "      <td>0.697759</td>\n",
       "    </tr>\n",
       "    <tr>\n",
       "      <th>RandomForestClassifier2</th>\n",
       "      <td>0.836220</td>\n",
       "      <td>0.739138</td>\n",
       "      <td>0.704020</td>\n",
       "      <td>0.717098</td>\n",
       "      <td>0.702035</td>\n",
       "    </tr>\n",
       "    <tr>\n",
       "      <th>RandomForestClassifier3</th>\n",
       "      <td>0.834646</td>\n",
       "      <td>0.740341</td>\n",
       "      <td>0.708790</td>\n",
       "      <td>0.721000</td>\n",
       "      <td>0.699703</td>\n",
       "    </tr>\n",
       "    <tr>\n",
       "      <th>XGBClassifier4</th>\n",
       "      <td>0.873228</td>\n",
       "      <td>0.794348</td>\n",
       "      <td>0.774543</td>\n",
       "      <td>0.783545</td>\n",
       "      <td>0.770374</td>\n",
       "    </tr>\n",
       "    <tr>\n",
       "      <th>XGBClassifier5</th>\n",
       "      <td>0.869291</td>\n",
       "      <td>0.789883</td>\n",
       "      <td>0.768675</td>\n",
       "      <td>0.778223</td>\n",
       "      <td>0.763135</td>\n",
       "    </tr>\n",
       "    <tr>\n",
       "      <th>XGBClassifier6</th>\n",
       "      <td>0.857480</td>\n",
       "      <td>0.761913</td>\n",
       "      <td>0.754126</td>\n",
       "      <td>0.757814</td>\n",
       "      <td>0.742964</td>\n",
       "    </tr>\n",
       "    <tr>\n",
       "      <th>XGBClassifier7</th>\n",
       "      <td>0.870079</td>\n",
       "      <td>0.788325</td>\n",
       "      <td>0.769700</td>\n",
       "      <td>0.778105</td>\n",
       "      <td>0.764954</td>\n",
       "    </tr>\n",
       "    <tr>\n",
       "      <th>XGBClassifier8</th>\n",
       "      <td>0.874016</td>\n",
       "      <td>0.792953</td>\n",
       "      <td>0.775035</td>\n",
       "      <td>0.783251</td>\n",
       "      <td>0.771904</td>\n",
       "    </tr>\n",
       "    <tr>\n",
       "      <th>XGBClassifier9</th>\n",
       "      <td>0.870079</td>\n",
       "      <td>0.794179</td>\n",
       "      <td>0.772044</td>\n",
       "      <td>0.782037</td>\n",
       "      <td>0.764419</td>\n",
       "    </tr>\n",
       "    <tr>\n",
       "      <th>XGBClassifier10</th>\n",
       "      <td>0.859055</td>\n",
       "      <td>0.764769</td>\n",
       "      <td>0.758341</td>\n",
       "      <td>0.761405</td>\n",
       "      <td>0.745970</td>\n",
       "    </tr>\n",
       "    <tr>\n",
       "      <th>XGBClassifier11</th>\n",
       "      <td>0.866929</td>\n",
       "      <td>0.784383</td>\n",
       "      <td>0.764501</td>\n",
       "      <td>0.773373</td>\n",
       "      <td>0.759196</td>\n",
       "    </tr>\n",
       "    <tr>\n",
       "      <th>XGBClassifier12</th>\n",
       "      <td>0.871654</td>\n",
       "      <td>0.786105</td>\n",
       "      <td>0.767096</td>\n",
       "      <td>0.775736</td>\n",
       "      <td>0.767427</td>\n",
       "    </tr>\n",
       "  </tbody>\n",
       "</table>\n",
       "</div>"
      ]
     },
     "execution_count": 15,
     "metadata": {},
     "output_type": "execute_result"
    }
   ],
   "execution_count": 15
  },
  {
   "metadata": {
    "ExecuteTime": {
     "end_time": "2024-11-03T14:28:17.166521Z",
     "start_time": "2024-11-03T14:28:17.157617Z"
    }
   },
   "cell_type": "code",
   "source": [
    "highest = df_smote[df_smote[\"kappa\"] == df_smote.iloc[1:][\"kappa\"].max()]\n",
    "idx = highest.index[0]\n",
    "\n",
    "confusion_matrix(pipeline.predictions[\"GT\"], pipeline.predictions[idx])"
   ],
   "id": "cdc894cce6a949f2",
   "outputs": [
    {
     "data": {
      "text/plain": [
       "array([[431,  40,  27],\n",
       "       [ 43, 629,   6],\n",
       "       [ 29,  15,  50]], dtype=int64)"
      ]
     },
     "execution_count": 16,
     "metadata": {},
     "output_type": "execute_result"
    }
   ],
   "execution_count": 16
  },
  {
   "metadata": {},
   "cell_type": "markdown",
   "source": [
    "___\n",
    "# Borderline SMOTE"
   ],
   "id": "1e752cdfc948f3bc"
  },
  {
   "metadata": {
    "ExecuteTime": {
     "end_time": "2024-11-03T14:28:17.347894Z",
     "start_time": "2024-11-03T14:28:17.193210Z"
    }
   },
   "cell_type": "code",
   "source": [
    "from imblearn.over_sampling import BorderlineSMOTE\n",
    "smote = BorderlineSMOTE(sampling_strategy='auto', random_state=42)\n",
    "\n",
    "pipeline.feature_matrix, pipeline.labels = smote.fit_resample(\n",
    "    np.nan_to_num(pipeline.backup_feature_matrix), pipeline.backup_labels)\n",
    "\n",
    "print(pipeline.backup_feature_matrix.shape)\n",
    "print(pipeline.feature_matrix.shape)\n",
    "\n",
    "print(pipeline.backup_labels.shape)\n",
    "print(pipeline.labels.shape)"
   ],
   "id": "ca12420fbcc1eb2b",
   "outputs": [
    {
     "name": "stdout",
     "output_type": "stream",
     "text": [
      "(5082, 190)\n",
      "(8139, 190)\n",
      "(5082,)\n",
      "(8139,)\n"
     ]
    }
   ],
   "execution_count": 17
  },
  {
   "metadata": {
    "ExecuteTime": {
     "end_time": "2024-11-03T14:32:01.905526Z",
     "start_time": "2024-11-03T14:28:17.374962Z"
    }
   },
   "cell_type": "code",
   "source": [
    "pipeline.fitted_classifiers = {}\n",
    "\n",
    "pipeline.fit_classifiers()"
   ],
   "id": "a4ea57f5e5a38f80",
   "outputs": [
    {
     "name": "stderr",
     "output_type": "stream",
     "text": [
      "INFO:utils.ml:Fitting classifiers...\n",
      "INFO:utils.ml:Fitting classifier: RandomForestClassifier0\n",
      "INFO:utils.ml:Top 10 features for RandomForestClassifier0: [('color_moments_lab_B_var', 0.02195088523407914), ('color_moments_rgb_B_iqr', 0.020569778786657538), ('color_moments_lab_B_std', 0.018532280309344187), ('color_moments_rgb_R_iqr', 0.01746095239755185), ('color_moments_rgb_B_std', 0.014076965942762169), ('color_moments_rgb_B_var', 0.01327280536226767), ('color_moments_rgb_G_iqr', 0.012660526857984442), ('color_moments_rgb_B_kurtosis', 0.011614555223653044), ('color_moments_hsv_H_median', 0.01142598618674037), ('color_moments_lab_L_iqr', 0.010561869143768318)]\n",
      "INFO:utils.ml:Fitted classifier: RandomForestClassifier0; Done in 11.84119701385498 seconds\n",
      "INFO:utils.ml:Fitting classifier: RandomForestClassifier1\n",
      "INFO:utils.ml:Top 10 features for RandomForestClassifier1: [('color_moments_lab_B_var', 0.020776825438865665), ('color_moments_lab_B_std', 0.02071574380164637), ('color_moments_rgb_B_iqr', 0.01887919715664502), ('color_moments_rgb_R_iqr', 0.016287635030865232), ('color_moments_lab_L_iqr', 0.015424622099354704), ('color_moments_rgb_G_iqr', 0.013846331416403804), ('color_moments_rgb_B_std', 0.012988662296257962), ('gradient_direction_std', 0.011308004856283402), ('color_moments_rgb_B_var', 0.011237157909651062), ('color_moments_rgb_B_kurtosis', 0.010724573677412587)]\n",
      "INFO:utils.ml:Fitted classifier: RandomForestClassifier1; Done in 13.111039161682129 seconds\n",
      "INFO:utils.ml:Fitting classifier: RandomForestClassifier2\n",
      "INFO:utils.ml:Top 10 features for RandomForestClassifier2: [('color_moments_lab_B_var', 0.02094249906158224), ('color_moments_lab_B_std', 0.02083352765727213), ('color_moments_rgb_B_iqr', 0.019049746536012272), ('color_moments_rgb_R_iqr', 0.016277063325042168), ('color_moments_lab_L_iqr', 0.0151578184924621), ('color_moments_rgb_G_iqr', 0.014108902506167286), ('color_moments_rgb_B_std', 0.013672960241494947), ('color_moments_rgb_B_var', 0.011336195264229902), ('color_moments_hsv_H_median', 0.01102243469299125), ('color_moments_rgb_B_kurtosis', 0.011006269833496857)]\n",
      "INFO:utils.ml:Fitted classifier: RandomForestClassifier2; Done in 25.587462663650513 seconds\n",
      "INFO:utils.ml:Fitting classifier: RandomForestClassifier3\n",
      "INFO:utils.ml:Top 10 features for RandomForestClassifier3: [('color_moments_lab_B_std', 0.021888102077988403), ('color_moments_lab_B_var', 0.0213933136762311), ('color_moments_rgb_B_iqr', 0.01888606127102294), ('color_moments_rgb_R_iqr', 0.015729196505461014), ('color_moments_lab_L_iqr', 0.014239240627854073), ('color_moments_rgb_B_std', 0.014045749059219147), ('color_moments_rgb_B_var', 0.013010625892204405), ('color_moments_rgb_G_iqr', 0.011943628022806557), ('color_moments_rgb_R_kurtosis', 0.011861103718576354), ('color_moments_rgb_B_kurtosis', 0.01085068969082271)]\n",
      "INFO:utils.ml:Fitted classifier: RandomForestClassifier3; Done in 33.50345301628113 seconds\n",
      "INFO:utils.ml:Fitting classifier: XGBClassifier4\n",
      "INFO:utils.ml:Top 10 features for XGBClassifier4: [('color_moments_rgb_B_iqr', 0.04276888), ('glcm_ASM_dist_1_angle_0', 0.03158204), ('color_moments_lab_L_iqr', 0.02062914), ('lbp_rad1_bins8_4', 0.01783532), ('color_moments_lab_B_std', 0.016676502), ('color_moments_hsv_H_mean', 0.015163721), ('gradient_direction_std', 0.014284832), ('color_moments_lab_B_var', 0.014026376), ('lbp_rad3_bins24_12', 0.013387277), ('color_moments_hsv_V_mean', 0.012191571)]\n",
      "INFO:utils.ml:Fitted classifier: XGBClassifier4; Done in 17.110407829284668 seconds\n",
      "INFO:utils.ml:Fitting classifier: XGBClassifier5\n",
      "INFO:utils.ml:Top 10 features for XGBClassifier5: [('color_moments_rgb_B_iqr', 0.035658266), ('color_moments_lab_L_iqr', 0.028475245), ('glcm_ASM_dist_1_angle_0', 0.021685278), ('gradient_direction_std', 0.016638221), ('color_moments_lab_B_std', 0.016506057), ('lbp_rad1_bins8_4', 0.014797631), ('lbp_rad1_bins8_8', 0.012195254), ('color_moments_lab_B_var', 0.012155678), ('color_moments_hsv_H_mean', 0.012012166), ('lbp_rad3_bins24_24', 0.0116091855)]\n",
      "INFO:utils.ml:Fitted classifier: XGBClassifier5; Done in 20.26318597793579 seconds\n",
      "INFO:utils.ml:Fitting classifier: XGBClassifier6\n",
      "INFO:utils.ml:Top 10 features for XGBClassifier6: [('color_moments_rgb_B_iqr', 0.04312863), ('glcm_ASM_dist_1_angle_0', 0.022331795), ('color_moments_lab_L_iqr', 0.0197912), ('color_moments_lab_B_std', 0.017220344), ('lbp_rad1_bins8_4', 0.016719706), ('color_moments_hsv_H_mean', 0.016394872), ('color_moments_lab_B_var', 0.014239428), ('lbp_rad1_bins8_8', 0.01223595), ('gradient_direction_std', 0.012054556), ('color_moments_rgb_B_std', 0.011624704)]\n",
      "INFO:utils.ml:Fitted classifier: XGBClassifier6; Done in 12.10753607749939 seconds\n",
      "INFO:utils.ml:Fitting classifier: XGBClassifier7\n",
      "INFO:utils.ml:Top 10 features for XGBClassifier7: [('color_moments_rgb_B_iqr', 0.040816084), ('glcm_ASM_dist_1_angle_0', 0.029362647), ('color_moments_lab_L_iqr', 0.019868797), ('lbp_rad1_bins8_4', 0.017688528), ('color_moments_lab_B_std', 0.016316526), ('color_moments_hsv_H_mean', 0.015554258), ('color_moments_lab_B_var', 0.014070697), ('gradient_direction_std', 0.013743236), ('lbp_rad1_bins8_8', 0.013656936), ('lbp_rad3_bins24_24', 0.012473478)]\n",
      "INFO:utils.ml:Fitted classifier: XGBClassifier7; Done in 17.831960201263428 seconds\n",
      "INFO:utils.ml:Fitting classifier: XGBClassifier8\n",
      "INFO:utils.ml:Top 10 features for XGBClassifier8: [('color_moments_rgb_B_iqr', 0.042127036), ('glcm_ASM_dist_1_angle_0', 0.03282056), ('color_moments_lab_L_iqr', 0.021956408), ('lbp_rad1_bins8_4', 0.017627757), ('color_moments_lab_B_std', 0.01679986), ('color_moments_hsv_H_mean', 0.015901003), ('gradient_direction_std', 0.014753424), ('lbp_rad3_bins24_12', 0.013702404), ('color_moments_lab_B_var', 0.013619494), ('lbp_rad3_bins24_24', 0.012306237)]\n",
      "INFO:utils.ml:Fitted classifier: XGBClassifier8; Done in 20.532026767730713 seconds\n",
      "INFO:utils.ml:Fitting classifier: XGBClassifier9\n",
      "INFO:utils.ml:Top 10 features for XGBClassifier9: [('color_moments_rgb_B_iqr', 0.0351038), ('color_moments_lab_L_iqr', 0.029228754), ('glcm_ASM_dist_1_angle_0', 0.022703955), ('color_moments_lab_B_std', 0.016820483), ('gradient_direction_std', 0.0167199), ('lbp_rad1_bins8_4', 0.0146988025), ('color_moments_lab_B_var', 0.012223455), ('color_moments_hsv_H_mean', 0.011979934), ('lbp_rad1_bins8_8', 0.011739087), ('gradient_magnitude_mean', 0.011385111)]\n",
      "INFO:utils.ml:Fitted classifier: XGBClassifier9; Done in 14.174365758895874 seconds\n",
      "INFO:utils.ml:Fitting classifier: XGBClassifier10\n",
      "INFO:utils.ml:Top 10 features for XGBClassifier10: [('color_moments_rgb_B_iqr', 0.043418415), ('glcm_ASM_dist_1_angle_0', 0.022214355), ('color_moments_lab_L_iqr', 0.019859644), ('color_moments_lab_B_std', 0.01707438), ('lbp_rad1_bins8_4', 0.016702134), ('color_moments_hsv_H_mean', 0.016364599), ('color_moments_lab_B_var', 0.014134155), ('lbp_rad1_bins8_8', 0.012108432), ('gradient_direction_std', 0.012070595), ('color_moments_rgb_B_std', 0.011637169)]\n",
      "INFO:utils.ml:Fitted classifier: XGBClassifier10; Done in 8.087576389312744 seconds\n",
      "INFO:utils.ml:Fitting classifier: XGBClassifier11\n",
      "INFO:utils.ml:Top 10 features for XGBClassifier11: [('color_moments_rgb_B_iqr', 0.04086547), ('glcm_ASM_dist_1_angle_0', 0.031300634), ('color_moments_lab_L_iqr', 0.020637216), ('lbp_rad1_bins8_4', 0.0174373), ('color_moments_lab_B_std', 0.01686082), ('color_moments_hsv_H_mean', 0.015609245), ('lbp_rad1_bins8_8', 0.014183876), ('color_moments_lab_B_var', 0.014126966), ('gradient_direction_std', 0.01388807), ('color_moments_hsv_H_min', 0.012432843)]\n",
      "INFO:utils.ml:Fitted classifier: XGBClassifier11; Done in 13.268853425979614 seconds\n",
      "INFO:utils.ml:Fitting classifier: XGBClassifier12\n",
      "INFO:utils.ml:Top 10 features for XGBClassifier12: [('color_moments_rgb_B_iqr', 0.042347886), ('glcm_ASM_dist_1_angle_0', 0.033983182), ('color_moments_lab_L_iqr', 0.02201036), ('lbp_rad1_bins8_4', 0.017605623), ('color_moments_lab_B_std', 0.017061383), ('color_moments_hsv_H_mean', 0.016052358), ('gradient_direction_std', 0.014827479), ('lbp_rad3_bins24_12', 0.01386468), ('color_moments_lab_B_var', 0.013474498), ('lbp_rad3_bins24_24', 0.012292891)]\n",
      "INFO:utils.ml:Fitted classifier: XGBClassifier12; Done in 17.102237462997437 seconds\n",
      "INFO:utils.ml:Fitting completed in 224.52 seconds.\n"
     ]
    }
   ],
   "execution_count": 18
  },
  {
   "metadata": {
    "ExecuteTime": {
     "end_time": "2024-11-03T14:34:42.490616Z",
     "start_time": "2024-11-03T14:32:01.958775Z"
    }
   },
   "cell_type": "code",
   "source": "pipeline.predict_with_classifiers(VAL_PATH, percent)",
   "id": "156c56b343fa5df1",
   "outputs": [
    {
     "name": "stderr",
     "output_type": "stream",
     "text": [
      "INFO:utils.ml:Predicting with classifiers on dataset: C:\\Users\\gimes\\Src\\repos\\CADx-Project\\dataset\\multiclass\\val\n"
     ]
    },
    {
     "name": "stdout",
     "output_type": "stream",
     "text": [
      "Processed 5/53 batches.\n",
      "Processed 10/53 batches.\n",
      "Processed 15/53 batches.\n",
      "Processed 20/53 batches.\n",
      "Processed 25/53 batches.\n",
      "Processed 30/53 batches.\n",
      "Processed 35/53 batches.\n",
      "Processed 40/53 batches.\n",
      "Processed 45/53 batches.\n",
      "Processed 50/53 batches.\n"
     ]
    },
    {
     "name": "stderr",
     "output_type": "stream",
     "text": [
      "INFO:utils.ml:Predictions made with classifier: RandomForestClassifier0\n",
      "INFO:utils.ml:Predictions made with classifier: RandomForestClassifier1\n",
      "INFO:utils.ml:Predictions made with classifier: RandomForestClassifier2\n",
      "INFO:utils.ml:Predictions made with classifier: RandomForestClassifier3\n",
      "INFO:utils.ml:Predictions made with classifier: XGBClassifier4\n",
      "INFO:utils.ml:Predictions made with classifier: XGBClassifier5\n",
      "INFO:utils.ml:Predictions made with classifier: XGBClassifier6\n"
     ]
    },
    {
     "name": "stdout",
     "output_type": "stream",
     "text": [
      "Processed 53/53 batches.\n"
     ]
    },
    {
     "name": "stderr",
     "output_type": "stream",
     "text": [
      "INFO:utils.ml:Predictions made with classifier: XGBClassifier7\n",
      "INFO:utils.ml:Predictions made with classifier: XGBClassifier8\n",
      "INFO:utils.ml:Predictions made with classifier: XGBClassifier9\n",
      "INFO:utils.ml:Predictions made with classifier: XGBClassifier10\n",
      "INFO:utils.ml:Predictions made with classifier: XGBClassifier11\n",
      "INFO:utils.ml:Predictions made with classifier: XGBClassifier12\n"
     ]
    },
    {
     "data": {
      "text/plain": [
       "{'GT': array([0, 0, 0, ..., 2, 2, 2]),\n",
       " 'RandomForestClassifier0': array([0, 0, 2, ..., 1, 0, 0]),\n",
       " 'RandomForestClassifier1': array([0, 0, 2, ..., 1, 0, 0]),\n",
       " 'RandomForestClassifier2': array([0, 0, 2, ..., 1, 0, 0]),\n",
       " 'RandomForestClassifier3': array([0, 0, 2, ..., 1, 0, 0]),\n",
       " 'XGBClassifier4': array([0, 0, 2, ..., 1, 2, 0], dtype=int64),\n",
       " 'XGBClassifier5': array([0, 0, 2, ..., 0, 2, 0], dtype=int64),\n",
       " 'XGBClassifier6': array([0, 0, 2, ..., 0, 2, 0], dtype=int64),\n",
       " 'XGBClassifier7': array([0, 0, 2, ..., 1, 2, 0], dtype=int64),\n",
       " 'XGBClassifier8': array([0, 0, 2, ..., 1, 2, 0], dtype=int64),\n",
       " 'XGBClassifier9': array([0, 0, 2, ..., 0, 2, 0], dtype=int64),\n",
       " 'XGBClassifier10': array([0, 0, 2, ..., 0, 2, 0], dtype=int64),\n",
       " 'XGBClassifier11': array([0, 0, 2, ..., 1, 2, 0], dtype=int64),\n",
       " 'XGBClassifier12': array([0, 0, 2, ..., 1, 2, 0], dtype=int64)}"
      ]
     },
     "execution_count": 19,
     "metadata": {},
     "output_type": "execute_result"
    }
   ],
   "execution_count": 19
  },
  {
   "metadata": {
    "ExecuteTime": {
     "end_time": "2024-11-03T14:34:42.625809Z",
     "start_time": "2024-11-03T14:34:42.515263Z"
    }
   },
   "cell_type": "code",
   "source": [
    "df_borderline_smote = pd.DataFrame(data=pipeline.calculate_metrics(\n",
    "    [\"accuracy\", \"precision\", \"recall\", \"f1\", \"kappa\"],))\n",
    "df_borderline_smote = df_borderline_smote.T\n",
    "df_borderline_smote"
   ],
   "id": "dec33139485e5176",
   "outputs": [
    {
     "name": "stderr",
     "output_type": "stream",
     "text": [
      "INFO:utils.ml:Metrics for classifier GT: {'accuracy': 1.0, 'precision': 1.0, 'recall': 1.0, 'f1': 1.0, 'kappa': 1.0}\n",
      "INFO:utils.ml:Metrics for classifier RandomForestClassifier0: {'accuracy': 0.8377952755905512, 'precision': 0.7618519024017827, 'recall': 0.71129002295506, 'f1': 0.7293431079634861, 'kappa': 0.7039251811848425}\n",
      "INFO:utils.ml:Metrics for classifier RandomForestClassifier1: {'accuracy': 0.8291338582677166, 'precision': 0.7276391736918053, 'recall': 0.7080479074397131, 'f1': 0.7161045383929473, 'kappa': 0.6909899444748433}\n",
      "INFO:utils.ml:Metrics for classifier RandomForestClassifier2: {'accuracy': 0.8440944881889764, 'precision': 0.7631711100322622, 'recall': 0.7188107227126039, 'f1': 0.7352712507595118, 'kappa': 0.7158130283441073}\n",
      "INFO:utils.ml:Metrics for classifier RandomForestClassifier3: {'accuracy': 0.8433070866141732, 'precision': 0.7660191552454817, 'recall': 0.7269493463718679, 'f1': 0.7422656979262096, 'kappa': 0.7148984269946845}\n",
      "INFO:utils.ml:Metrics for classifier XGBClassifier4: {'accuracy': 0.868503937007874, 'precision': 0.7769389598657891, 'recall': 0.7591980928168836, 'f1': 0.7672385172253278, 'kappa': 0.7618165238172245}\n",
      "INFO:utils.ml:Metrics for classifier XGBClassifier5: {'accuracy': 0.8740157480314961, 'precision': 0.7946124163884701, 'recall': 0.7780895753981847, 'f1': 0.7857356608204502, 'kappa': 0.7720071449729371}\n",
      "INFO:utils.ml:Metrics for classifier XGBClassifier6: {'accuracy': 0.8716535433070867, 'precision': 0.7858352097674173, 'recall': 0.7676289794841198, 'f1': 0.7758486201865963, 'kappa': 0.7677562523279348}\n",
      "INFO:utils.ml:Metrics for classifier XGBClassifier7: {'accuracy': 0.8724409448818897, 'precision': 0.7815988920618349, 'recall': 0.7677652176521311, 'f1': 0.7742180927136767, 'kappa': 0.7691686300908785}\n",
      "INFO:utils.ml:Metrics for classifier XGBClassifier8: {'accuracy': 0.8700787401574803, 'precision': 0.7814927182194169, 'recall': 0.7635912381087774, 'f1': 0.7716860127085491, 'kappa': 0.7648116472949131}\n",
      "INFO:utils.ml:Metrics for classifier XGBClassifier9: {'accuracy': 0.8748031496062992, 'precision': 0.7952234911477012, 'recall': 0.7785812174827472, 'f1': 0.7862868735393267, 'kappa': 0.7733863329278311}\n",
      "INFO:utils.ml:Metrics for classifier XGBClassifier10: {'accuracy': 0.8677165354330708, 'precision': 0.7793512329594803, 'recall': 0.7646376631864809, 'f1': 0.7714022602247965, 'kappa': 0.7608489995023292}\n",
      "INFO:utils.ml:Metrics for classifier XGBClassifier11: {'accuracy': 0.8748031496062992, 'precision': 0.7966838543004191, 'recall': 0.7695955478223696, 'f1': 0.7814886213348302, 'kappa': 0.7725839366077583}\n",
      "INFO:utils.ml:Metrics for classifier XGBClassifier12: {'accuracy': 0.8708661417322835, 'precision': 0.7838995290110443, 'recall': 0.7644382841098909, 'f1': 0.7731345209827155, 'kappa': 0.7662254866748078}\n"
     ]
    },
    {
     "data": {
      "text/plain": [
       "                         accuracy  precision    recall        f1     kappa\n",
       "GT                       1.000000   1.000000  1.000000  1.000000  1.000000\n",
       "RandomForestClassifier0  0.837795   0.761852  0.711290  0.729343  0.703925\n",
       "RandomForestClassifier1  0.829134   0.727639  0.708048  0.716105  0.690990\n",
       "RandomForestClassifier2  0.844094   0.763171  0.718811  0.735271  0.715813\n",
       "RandomForestClassifier3  0.843307   0.766019  0.726949  0.742266  0.714898\n",
       "XGBClassifier4           0.868504   0.776939  0.759198  0.767239  0.761817\n",
       "XGBClassifier5           0.874016   0.794612  0.778090  0.785736  0.772007\n",
       "XGBClassifier6           0.871654   0.785835  0.767629  0.775849  0.767756\n",
       "XGBClassifier7           0.872441   0.781599  0.767765  0.774218  0.769169\n",
       "XGBClassifier8           0.870079   0.781493  0.763591  0.771686  0.764812\n",
       "XGBClassifier9           0.874803   0.795223  0.778581  0.786287  0.773386\n",
       "XGBClassifier10          0.867717   0.779351  0.764638  0.771402  0.760849\n",
       "XGBClassifier11          0.874803   0.796684  0.769596  0.781489  0.772584\n",
       "XGBClassifier12          0.870866   0.783900  0.764438  0.773135  0.766225"
      ],
      "text/html": [
       "<div>\n",
       "<style scoped>\n",
       "    .dataframe tbody tr th:only-of-type {\n",
       "        vertical-align: middle;\n",
       "    }\n",
       "\n",
       "    .dataframe tbody tr th {\n",
       "        vertical-align: top;\n",
       "    }\n",
       "\n",
       "    .dataframe thead th {\n",
       "        text-align: right;\n",
       "    }\n",
       "</style>\n",
       "<table border=\"1\" class=\"dataframe\">\n",
       "  <thead>\n",
       "    <tr style=\"text-align: right;\">\n",
       "      <th></th>\n",
       "      <th>accuracy</th>\n",
       "      <th>precision</th>\n",
       "      <th>recall</th>\n",
       "      <th>f1</th>\n",
       "      <th>kappa</th>\n",
       "    </tr>\n",
       "  </thead>\n",
       "  <tbody>\n",
       "    <tr>\n",
       "      <th>GT</th>\n",
       "      <td>1.000000</td>\n",
       "      <td>1.000000</td>\n",
       "      <td>1.000000</td>\n",
       "      <td>1.000000</td>\n",
       "      <td>1.000000</td>\n",
       "    </tr>\n",
       "    <tr>\n",
       "      <th>RandomForestClassifier0</th>\n",
       "      <td>0.837795</td>\n",
       "      <td>0.761852</td>\n",
       "      <td>0.711290</td>\n",
       "      <td>0.729343</td>\n",
       "      <td>0.703925</td>\n",
       "    </tr>\n",
       "    <tr>\n",
       "      <th>RandomForestClassifier1</th>\n",
       "      <td>0.829134</td>\n",
       "      <td>0.727639</td>\n",
       "      <td>0.708048</td>\n",
       "      <td>0.716105</td>\n",
       "      <td>0.690990</td>\n",
       "    </tr>\n",
       "    <tr>\n",
       "      <th>RandomForestClassifier2</th>\n",
       "      <td>0.844094</td>\n",
       "      <td>0.763171</td>\n",
       "      <td>0.718811</td>\n",
       "      <td>0.735271</td>\n",
       "      <td>0.715813</td>\n",
       "    </tr>\n",
       "    <tr>\n",
       "      <th>RandomForestClassifier3</th>\n",
       "      <td>0.843307</td>\n",
       "      <td>0.766019</td>\n",
       "      <td>0.726949</td>\n",
       "      <td>0.742266</td>\n",
       "      <td>0.714898</td>\n",
       "    </tr>\n",
       "    <tr>\n",
       "      <th>XGBClassifier4</th>\n",
       "      <td>0.868504</td>\n",
       "      <td>0.776939</td>\n",
       "      <td>0.759198</td>\n",
       "      <td>0.767239</td>\n",
       "      <td>0.761817</td>\n",
       "    </tr>\n",
       "    <tr>\n",
       "      <th>XGBClassifier5</th>\n",
       "      <td>0.874016</td>\n",
       "      <td>0.794612</td>\n",
       "      <td>0.778090</td>\n",
       "      <td>0.785736</td>\n",
       "      <td>0.772007</td>\n",
       "    </tr>\n",
       "    <tr>\n",
       "      <th>XGBClassifier6</th>\n",
       "      <td>0.871654</td>\n",
       "      <td>0.785835</td>\n",
       "      <td>0.767629</td>\n",
       "      <td>0.775849</td>\n",
       "      <td>0.767756</td>\n",
       "    </tr>\n",
       "    <tr>\n",
       "      <th>XGBClassifier7</th>\n",
       "      <td>0.872441</td>\n",
       "      <td>0.781599</td>\n",
       "      <td>0.767765</td>\n",
       "      <td>0.774218</td>\n",
       "      <td>0.769169</td>\n",
       "    </tr>\n",
       "    <tr>\n",
       "      <th>XGBClassifier8</th>\n",
       "      <td>0.870079</td>\n",
       "      <td>0.781493</td>\n",
       "      <td>0.763591</td>\n",
       "      <td>0.771686</td>\n",
       "      <td>0.764812</td>\n",
       "    </tr>\n",
       "    <tr>\n",
       "      <th>XGBClassifier9</th>\n",
       "      <td>0.874803</td>\n",
       "      <td>0.795223</td>\n",
       "      <td>0.778581</td>\n",
       "      <td>0.786287</td>\n",
       "      <td>0.773386</td>\n",
       "    </tr>\n",
       "    <tr>\n",
       "      <th>XGBClassifier10</th>\n",
       "      <td>0.867717</td>\n",
       "      <td>0.779351</td>\n",
       "      <td>0.764638</td>\n",
       "      <td>0.771402</td>\n",
       "      <td>0.760849</td>\n",
       "    </tr>\n",
       "    <tr>\n",
       "      <th>XGBClassifier11</th>\n",
       "      <td>0.874803</td>\n",
       "      <td>0.796684</td>\n",
       "      <td>0.769596</td>\n",
       "      <td>0.781489</td>\n",
       "      <td>0.772584</td>\n",
       "    </tr>\n",
       "    <tr>\n",
       "      <th>XGBClassifier12</th>\n",
       "      <td>0.870866</td>\n",
       "      <td>0.783900</td>\n",
       "      <td>0.764438</td>\n",
       "      <td>0.773135</td>\n",
       "      <td>0.766225</td>\n",
       "    </tr>\n",
       "  </tbody>\n",
       "</table>\n",
       "</div>"
      ]
     },
     "execution_count": 20,
     "metadata": {},
     "output_type": "execute_result"
    }
   ],
   "execution_count": 20
  },
  {
   "metadata": {
    "ExecuteTime": {
     "end_time": "2024-11-03T14:34:42.701466Z",
     "start_time": "2024-11-03T14:34:42.693179Z"
    }
   },
   "cell_type": "code",
   "source": [
    "highest = df_borderline_smote[df_borderline_smote[\"kappa\"] == df_borderline_smote.iloc[1:][\"kappa\"].max()]\n",
    "idx = highest.index[0]\n",
    "\n",
    "confusion_matrix(pipeline.predictions[\"GT\"], pipeline.predictions[idx])"
   ],
   "id": "5e3d245571ac5c69",
   "outputs": [
    {
     "data": {
      "text/plain": [
       "array([[431,  43,  24],\n",
       "       [ 40, 629,   9],\n",
       "       [ 30,  13,  51]], dtype=int64)"
      ]
     },
     "execution_count": 21,
     "metadata": {},
     "output_type": "execute_result"
    }
   ],
   "execution_count": 21
  }
 ],
 "metadata": {
  "kernelspec": {
   "display_name": "Python 3",
   "language": "python",
   "name": "python3"
  },
  "language_info": {
   "codemirror_mode": {
    "name": "ipython",
    "version": 2
   },
   "file_extension": ".py",
   "mimetype": "text/x-python",
   "name": "python",
   "nbconvert_exporter": "python",
   "pygments_lexer": "ipython2",
   "version": "2.7.6"
  }
 },
 "nbformat": 4,
 "nbformat_minor": 5
}

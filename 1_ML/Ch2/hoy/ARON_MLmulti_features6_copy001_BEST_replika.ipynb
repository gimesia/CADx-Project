{
 "cells": [
  {
   "cell_type": "code",
   "id": "initial_id",
   "metadata": {
    "collapsed": true,
    "ExecuteTime": {
     "end_time": "2024-11-04T10:10:49.304784Z",
     "start_time": "2024-11-04T10:10:49.294309Z"
    }
   },
   "source": [
    "import numpy as np\n",
    "from pygments.lexer import combined\n",
    "from sklearn.metrics import confusion_matrix, recall_score, cohen_kappa_score\n",
    "\n",
    "from utils.loader import FactoryLoader\n",
    "from utils.ml import MLPipeline\n",
    "from utils.preprocessing import PreprocessingFactory\n",
    "from utils.feature_extraction import *\n",
    "from utils.utils import *\n",
    "\n",
    "VAL_PATH = r\"C:\\Users\\gimes\\Src\\repos\\CADx-Project\\dataset\\multiclass\\val\"\n",
    "TRAIN_PATH = r\"C:\\Users\\gimes\\Src\\repos\\CADx-Project\\dataset\\multiclass\\train\"\n",
    "TEST_PATH = r\"C:\\Users\\gimes\\Src\\repos\\CADx-Project\\dataset\\multiclass\\test\""
   ],
   "outputs": [],
   "execution_count": 26
  },
  {
   "metadata": {
    "ExecuteTime": {
     "end_time": "2024-11-04T10:10:49.338729Z",
     "start_time": "2024-11-04T10:10:49.310294Z"
    }
   },
   "cell_type": "code",
   "source": [
    "percent = 100\n",
    "random = False\n",
    "batch_size = 24\n",
    "th = 0.01\n",
    "\n",
    "# Initialize the FactoryLoader\n",
    "factory = PreprocessingFactory()\n",
    "factory.pad2square(fill=np.nan)\n",
    "factory.resize((200,200))\n",
    "factory.normalize2float()\n",
    "\n",
    "# Create the feature extraction pipeline strategy and add desired features\n",
    "strategy = FeatureExtractionStrategy()\n",
    "\n",
    "strategy.add_extractor(GradientExtractor(threshold=th)) # Add gradient feature\n",
    "\n",
    "strategy.add_extractor(ColorMomentsExtractor(\"rgb\", threshold=th))   # Add color moments feature\n",
    "strategy.add_extractor(ColorMomentsExtractor(\"lab\", threshold=th))   # Add color moments feature\n",
    "strategy.add_extractor(ColorMomentsExtractor(\"hsv\", threshold=th))   # Add color moments feature\n",
    "\n",
    "strategy.add_extractor(LBPExtractor(radius=1, n_points=8))\n",
    "strategy.add_extractor(LBPExtractor(radius=2, n_points=16))\n",
    "strategy.add_extractor(LBPExtractor(radius=3, n_points=24))\n",
    "strategy.add_extractor(LBPExtractor(radius=4, n_points=32))\n",
    "strategy.add_extractor(LBPExtractor(radius=5, n_points=40))\n",
    "\n",
    "strategy.add_extractor(FourierTransformExtractor())\n",
    "strategy.add_extractor(FFTExtractor())\n",
    "\n",
    "strategy.add_extractor(GLCMExtractor(properties=['contrast', 'dissimilarity', 'homogeneity', 'energy', 'correlation', 'ASM']))\n",
    "\n",
    "pipeline = MLPipeline(dataset_path=TRAIN_PATH, preprocessing_factory=factory, feature_strategy=strategy, classifiers=[], percentage=percent, verbose=True, shuffle=random, batch_size=batch_size)"
   ],
   "id": "d7c81ba220d9e517",
   "outputs": [
    {
     "name": "stderr",
     "output_type": "stream",
     "text": [
      "INFO:utils.ml:MLPipeline initialized with dataset path: C:\\Users\\gimes\\Src\\repos\\CADx-Project\\dataset\\multiclass\\train\n",
      "INFO:utils.ml:Preprocessing steps\n"
     ]
    }
   ],
   "execution_count": 27
  },
  {
   "metadata": {
    "ExecuteTime": {
     "end_time": "2024-11-04T10:23:59.009552Z",
     "start_time": "2024-11-04T10:10:49.373347Z"
    }
   },
   "cell_type": "code",
   "source": [
    "pipeline.feature_matrix = None\n",
    "pipeline.run_feature_extraction()"
   ],
   "id": "21f510c52296a049",
   "outputs": [
    {
     "name": "stderr",
     "output_type": "stream",
     "text": [
      "INFO:utils.ml:Running feature extraction...\n"
     ]
    },
    {
     "name": "stdout",
     "output_type": "stream",
     "text": [
      "Processed 5/212 batches.\n",
      "Processed 10/212 batches.\n",
      "Processed 15/212 batches.\n",
      "Processed 20/212 batches.\n",
      "Processed 25/212 batches.\n",
      "Processed 30/212 batches.\n",
      "Processed 35/212 batches.\n",
      "Processed 40/212 batches.\n",
      "Processed 45/212 batches.\n",
      "Processed 50/212 batches.\n",
      "Processed 55/212 batches.\n",
      "Processed 60/212 batches.\n",
      "Processed 65/212 batches.\n",
      "Processed 70/212 batches.\n",
      "Processed 75/212 batches.\n",
      "Processed 80/212 batches.\n",
      "Processed 85/212 batches.\n",
      "Processed 90/212 batches.\n",
      "Processed 95/212 batches.\n",
      "Processed 100/212 batches.\n",
      "Processed 105/212 batches.\n",
      "Processed 110/212 batches.\n",
      "Processed 115/212 batches.\n",
      "Processed 120/212 batches.\n",
      "Processed 125/212 batches.\n",
      "Processed 130/212 batches.\n",
      "Processed 135/212 batches.\n",
      "Processed 140/212 batches.\n",
      "Processed 145/212 batches.\n",
      "Processed 150/212 batches.\n",
      "Processed 155/212 batches.\n",
      "Processed 160/212 batches.\n",
      "Processed 165/212 batches.\n",
      "Processed 170/212 batches.\n",
      "Processed 175/212 batches.\n",
      "Processed 180/212 batches.\n",
      "Processed 185/212 batches.\n",
      "Processed 190/212 batches.\n",
      "Processed 195/212 batches.\n",
      "Processed 200/212 batches.\n",
      "Processed 205/212 batches.\n",
      "Processed 210/212 batches.\n"
     ]
    },
    {
     "name": "stderr",
     "output_type": "stream",
     "text": [
      "INFO:utils.ml:Feature extraction completed. Extracted 5082 features.\n"
     ]
    },
    {
     "name": "stdout",
     "output_type": "stream",
     "text": [
      "Processed 212/212 batches.\n"
     ]
    }
   ],
   "execution_count": 28
  },
  {
   "metadata": {
    "ExecuteTime": {
     "end_time": "2024-11-04T10:23:59.081509Z",
     "start_time": "2024-11-04T10:23:59.063751Z"
    }
   },
   "cell_type": "code",
   "source": [
    "from xgboost import XGBClassifier\n",
    "from sklearn.ensemble import RandomForestClassifier\n",
    "\n",
    "\n",
    "xgb0 = XGBClassifier(learning_rate=0.1, n_estimators=1200, max_depth=5, min_child_weight=1, subsample=0.8, colsample_bytree=0.8, reg_alpha=0.1, reg_lambda=0.1, random_state=42) # this\n",
    "xgb1 = XGBClassifier(learning_rate=0.1, n_estimators=750, max_depth=5, min_child_weight=5, gamma=0.2, subsample=0.8, colsample_bytree=0.8, random_state=42) # THIS\n",
    "xgb2 = XGBClassifier(learning_rate=0.1, n_estimators=750, max_depth=5, min_child_weight=1, subsample=0.8, colsample_bytree=0.8, reg_alpha=0.1, reg_lambda=0.1, random_state=42) # THIS\n",
    "xgb3 = XGBClassifier(learning_rate=0.1, n_estimators=1000, max_depth=7, min_child_weight=3, subsample=0.7, colsample_bytree=0.7, random_state=42)\n",
    "xgb4 = XGBClassifier(learning_rate=0.1, n_estimators=1000, max_depth=5, min_child_weight=5, gamma=0.2, subsample=0.8, colsample_bytree=0.8, random_state=42)\n",
    "xgb5 = XGBClassifier(learning_rate=0.1, n_estimators=1000, max_depth=5, min_child_weight=1, subsample=0.8, colsample_bytree=0.8, reg_alpha=0.1, reg_lambda=0.1, random_state=42) # this\n",
    "xgb6 = XGBClassifier(learning_rate=0.1, n_estimators=1000, max_depth=7, min_child_weight=1, subsample=0.8, colsample_bytree=0.8, random_state=42)\n",
    "xgb7 = XGBClassifier(learning_rate=0.1, n_estimators=1000, max_depth=9, min_child_weight=1, subsample=0.8, colsample_bytree=0.8, random_state=42)\n",
    "xgb8 = XGBClassifier(learning_rate=0.1, n_estimators=1000, max_depth=9, min_child_weight=1, subsample=0.8, colsample_bytree=0.8, random_state=42)\n",
    "\n",
    "CLFS = [xgb0, xgb1, xgb2, xgb3, xgb4, xgb5, xgb6, xgb7, xgb8]\n",
    "\n",
    "pipeline.classifiers = CLFS.copy()\n",
    "pipeline.fitted_classifiers = {}"
   ],
   "id": "74470ba20848a156",
   "outputs": [],
   "execution_count": 29
  },
  {
   "metadata": {},
   "cell_type": "markdown",
   "source": [
    "___\n",
    "# Balance the data"
   ],
   "id": "ad0e6dcd404dcf15"
  },
  {
   "metadata": {
    "ExecuteTime": {
     "end_time": "2024-11-04T10:23:59.137665Z",
     "start_time": "2024-11-04T10:23:59.125707Z"
    }
   },
   "cell_type": "code",
   "source": [
    "# Backup\n",
    "pipeline.backup_feature_matrix = pipeline.feature_matrix.copy()\n",
    "pipeline.backup_labels = pipeline.labels.copy()"
   ],
   "id": "da1b19771d4cde2f",
   "outputs": [],
   "execution_count": 30
  },
  {
   "metadata": {
    "ExecuteTime": {
     "end_time": "2024-11-04T10:23:59.463897Z",
     "start_time": "2024-11-04T10:23:59.180452Z"
    }
   },
   "cell_type": "code",
   "source": [
    "from imblearn.over_sampling import SMOTE\n",
    "\n",
    "smote = SMOTE(random_state=42)\n",
    "\n",
    "pipeline.feature_matrix, pipeline.labels = smote.fit_resample(np.nan_to_num(pipeline.feature_matrix), pipeline.labels)"
   ],
   "id": "6f226a41aafa84b7",
   "outputs": [],
   "execution_count": 31
  },
  {
   "metadata": {
    "ExecuteTime": {
     "end_time": "2024-11-04T10:23:59.515076Z",
     "start_time": "2024-11-04T10:23:59.507248Z"
    }
   },
   "cell_type": "code",
   "source": [
    "print(pipeline.backup_feature_matrix.shape)\n",
    "print(pipeline.feature_matrix.shape)\n",
    "\n",
    "print(pipeline.backup_labels.shape)\n",
    "print(pipeline.labels.shape)"
   ],
   "id": "3425dcf3bd509008",
   "outputs": [
    {
     "name": "stdout",
     "output_type": "stream",
     "text": [
      "(5082, 519)\n",
      "(8139, 519)\n",
      "(5082,)\n",
      "(8139,)\n"
     ]
    }
   ],
   "execution_count": 32
  },
  {
   "metadata": {
    "ExecuteTime": {
     "end_time": "2024-11-04T10:33:59.644593Z",
     "start_time": "2024-11-04T10:23:59.562597Z"
    }
   },
   "cell_type": "code",
   "source": [
    "pipeline.fitted_classifiers = {}\n",
    "pipeline.classifiers = CLFS.copy()\n",
    "pipeline.fit_classifiers()"
   ],
   "id": "e25b1eeaa9b9b112",
   "outputs": [
    {
     "name": "stderr",
     "output_type": "stream",
     "text": [
      "INFO:utils.ml:Fitting classifiers...\n",
      "INFO:utils.ml:Fitting classifier: XGBClassifier0\n",
      "INFO:utils.ml:Top 10 features for XGBClassifier0: [('fft_radial_variance_78', 0.03414021), ('color_moments_rgb_B_iqr', 0.02673978), ('color_moments_lab_L_iqr', 0.014872222), ('color_moments_lab_B_var', 0.011374275), ('color_moments_rgb_B_std', 0.009145864), ('color_moments_hsv_H_median', 0.008565589), ('fft_radial_variance_53', 0.008496182), ('fft_radial_mean_130', 0.008024439), ('lbp_rad1_bins8_4', 0.007917851), ('fft_radial_variance_114', 0.0074759256)]\n",
      "INFO:utils.ml:Fitted classifier: XGBClassifier0; Done in 110.83021521568298 seconds\n",
      "INFO:utils.ml:Fitting classifier: XGBClassifier1\n",
      "INFO:utils.ml:Top 10 features for XGBClassifier1: [('color_moments_rgb_B_iqr', 0.029413948), ('color_moments_lab_L_iqr', 0.017863724), ('fft_radial_mean_86', 0.017613973), ('fft_radial_variance_78', 0.014967409), ('color_moments_lab_B_var', 0.0109832585), ('fft_radial_variance_35', 0.007976364), ('color_moments_rgb_B_std', 0.0077386773), ('fft_radial_variance_63', 0.0075407233), ('color_moments_hsv_H_median', 0.0075365775), ('lbp_rad1_bins8_4', 0.0074349744)]\n",
      "INFO:utils.ml:Fitted classifier: XGBClassifier1; Done in 44.64834499359131 seconds\n",
      "INFO:utils.ml:Fitting classifier: XGBClassifier2\n",
      "INFO:utils.ml:Top 10 features for XGBClassifier2: [('fft_radial_variance_78', 0.027162094), ('color_moments_rgb_B_iqr', 0.025788287), ('color_moments_lab_L_iqr', 0.015395922), ('fft_radial_mean_130', 0.012765644), ('color_moments_lab_B_var', 0.011271149), ('color_moments_rgb_B_std', 0.008342163), ('color_moments_hsv_H_median', 0.008201957), ('lbp_rad1_bins8_4', 0.007813511), ('fft_radial_mean_121', 0.0069524865), ('fft_radial_variance_53', 0.0067595975)]\n",
      "INFO:utils.ml:Fitted classifier: XGBClassifier2; Done in 67.82235717773438 seconds\n",
      "INFO:utils.ml:Fitting classifier: XGBClassifier3\n",
      "INFO:utils.ml:Top 10 features for XGBClassifier3: [('fft_radial_variance_63', 0.025994528), ('color_moments_rgb_B_iqr', 0.022966025), ('color_moments_lab_L_iqr', 0.014392495), ('color_moments_lab_B_var', 0.011189729), ('fft_radial_variance_30', 0.010915388), ('fft_radial_mean_139', 0.009548401), ('color_moments_rgb_B_std', 0.008013916), ('lbp_rad1_bins8_4', 0.007075007), ('lbp_rad4_bins32_6', 0.0065860194), ('color_moments_lab_B_std', 0.0063592354)]\n",
      "INFO:utils.ml:Fitted classifier: XGBClassifier3; Done in 94.09225535392761 seconds\n",
      "INFO:utils.ml:Fitting classifier: XGBClassifier4\n",
      "INFO:utils.ml:Top 10 features for XGBClassifier4: [('color_moments_rgb_B_iqr', 0.029723767), ('fft_radial_mean_86', 0.017799504), ('color_moments_lab_L_iqr', 0.01754156), ('fft_radial_variance_78', 0.015125063), ('color_moments_lab_B_var', 0.010959351), ('fft_radial_variance_35', 0.00806038), ('color_moments_rgb_B_std', 0.0077217817), ('fft_radial_variance_63', 0.0076201507), ('color_moments_hsv_H_median', 0.0074638114), ('lbp_rad1_bins8_4', 0.007310094)]\n",
      "INFO:utils.ml:Fitted classifier: XGBClassifier4; Done in 49.52584767341614 seconds\n",
      "INFO:utils.ml:Fitting classifier: XGBClassifier5\n",
      "INFO:utils.ml:Top 10 features for XGBClassifier5: [('fft_radial_variance_78', 0.03153745), ('color_moments_rgb_B_iqr', 0.027170833), ('color_moments_lab_L_iqr', 0.01535422), ('fft_radial_mean_130', 0.0148219755), ('color_moments_lab_B_var', 0.011254082), ('color_moments_rgb_B_std', 0.008764561), ('color_moments_hsv_H_median', 0.008554085), ('fft_radial_variance_53', 0.007848456), ('lbp_rad1_bins8_4', 0.007827005), ('fft_radial_variance_114', 0.006905981)]\n",
      "INFO:utils.ml:Fitted classifier: XGBClassifier5; Done in 54.00054383277893 seconds\n",
      "INFO:utils.ml:Fitting classifier: XGBClassifier6\n",
      "INFO:utils.ml:Top 10 features for XGBClassifier6: [('color_moments_rgb_B_iqr', 0.030062957), ('fft_radial_variance_78', 0.029387522), ('color_moments_lab_L_iqr', 0.01607858), ('color_moments_lab_B_var', 0.010868031), ('color_moments_hsv_H_median', 0.008296426), ('fft_radial_variance_54', 0.008093417), ('lbp_rad1_bins8_4', 0.0078034084), ('fft_radial_variance_95', 0.007679764), ('lbp_rad4_bins32_6', 0.0073970445), ('color_moments_lab_B_std', 0.0065063685)]\n",
      "INFO:utils.ml:Fitted classifier: XGBClassifier6; Done in 56.275073766708374 seconds\n",
      "INFO:utils.ml:Fitting classifier: XGBClassifier7\n",
      "INFO:utils.ml:Top 10 features for XGBClassifier7: [('color_moments_rgb_B_iqr', 0.029961508), ('color_moments_lab_L_iqr', 0.017658837), ('fft_radial_mean_130', 0.012153572), ('fft_radial_variance_67', 0.012142823), ('color_moments_lab_B_var', 0.011467294), ('color_moments_hsv_H_median', 0.008331364), ('fft_radial_variance_52', 0.008068592), ('fft_radial_variance_112', 0.0076208063), ('lbp_rad1_bins8_4', 0.0075674816), ('lbp_rad4_bins32_19', 0.0072188643)]\n",
      "INFO:utils.ml:Fitted classifier: XGBClassifier7; Done in 61.64697623252869 seconds\n",
      "INFO:utils.ml:Fitting classifier: XGBClassifier8\n",
      "INFO:utils.ml:Top 10 features for XGBClassifier8: [('color_moments_rgb_B_iqr', 0.029961508), ('color_moments_lab_L_iqr', 0.017658837), ('fft_radial_mean_130', 0.012153572), ('fft_radial_variance_67', 0.012142823), ('color_moments_lab_B_var', 0.011467294), ('color_moments_hsv_H_median', 0.008331364), ('fft_radial_variance_52', 0.008068592), ('fft_radial_variance_112', 0.0076208063), ('lbp_rad1_bins8_4', 0.0075674816), ('lbp_rad4_bins32_19', 0.0072188643)]\n",
      "INFO:utils.ml:Fitted classifier: XGBClassifier8; Done in 61.22746443748474 seconds\n",
      "INFO:utils.ml:Fitting completed in 600.07 seconds.\n"
     ]
    }
   ],
   "execution_count": 33
  },
  {
   "metadata": {
    "ExecuteTime": {
     "end_time": "2024-11-04T10:36:52.243321Z",
     "start_time": "2024-11-04T10:33:59.682292Z"
    }
   },
   "cell_type": "code",
   "source": "pipeline.predict_with_classifiers(VAL_PATH, percent)",
   "id": "eaa13003ad0706a4",
   "outputs": [
    {
     "name": "stderr",
     "output_type": "stream",
     "text": [
      "INFO:utils.ml:Predicting with classifiers on dataset: C:\\Users\\gimes\\Src\\repos\\CADx-Project\\dataset\\multiclass\\val\n"
     ]
    },
    {
     "name": "stdout",
     "output_type": "stream",
     "text": [
      "Processed 5/53 batches.\n",
      "Processed 10/53 batches.\n",
      "Processed 15/53 batches.\n",
      "Processed 20/53 batches.\n",
      "Processed 25/53 batches.\n",
      "Processed 30/53 batches.\n",
      "Processed 35/53 batches.\n",
      "Processed 40/53 batches.\n",
      "Processed 45/53 batches.\n",
      "Processed 50/53 batches.\n"
     ]
    },
    {
     "name": "stderr",
     "output_type": "stream",
     "text": [
      "INFO:utils.ml:Predictions made with classifier: XGBClassifier0\n",
      "INFO:utils.ml:Predictions made with classifier: XGBClassifier1\n",
      "INFO:utils.ml:Predictions made with classifier: XGBClassifier2\n",
      "INFO:utils.ml:Predictions made with classifier: XGBClassifier3\n",
      "INFO:utils.ml:Predictions made with classifier: XGBClassifier4\n",
      "INFO:utils.ml:Predictions made with classifier: XGBClassifier5\n",
      "INFO:utils.ml:Predictions made with classifier: XGBClassifier6\n",
      "INFO:utils.ml:Predictions made with classifier: XGBClassifier7\n",
      "INFO:utils.ml:Predictions made with classifier: XGBClassifier8\n"
     ]
    },
    {
     "name": "stdout",
     "output_type": "stream",
     "text": [
      "Processed 53/53 batches.\n"
     ]
    },
    {
     "data": {
      "text/plain": [
       "{'GT': array([0, 0, 0, ..., 2, 2, 2]),\n",
       " 'XGBClassifier0': array([0, 0, 2, ..., 0, 2, 0], dtype=int64),\n",
       " 'XGBClassifier1': array([0, 0, 2, ..., 0, 2, 0], dtype=int64),\n",
       " 'XGBClassifier2': array([0, 0, 2, ..., 0, 2, 0], dtype=int64),\n",
       " 'XGBClassifier3': array([0, 0, 2, ..., 0, 2, 0], dtype=int64),\n",
       " 'XGBClassifier4': array([0, 0, 2, ..., 0, 2, 0], dtype=int64),\n",
       " 'XGBClassifier5': array([0, 0, 2, ..., 0, 2, 0], dtype=int64),\n",
       " 'XGBClassifier6': array([0, 0, 2, ..., 1, 2, 0], dtype=int64),\n",
       " 'XGBClassifier7': array([0, 0, 2, ..., 1, 2, 0], dtype=int64),\n",
       " 'XGBClassifier8': array([0, 0, 2, ..., 1, 2, 0], dtype=int64)}"
      ]
     },
     "execution_count": 34,
     "metadata": {},
     "output_type": "execute_result"
    }
   ],
   "execution_count": 34
  },
  {
   "metadata": {
    "ExecuteTime": {
     "end_time": "2024-11-04T10:36:52.351940Z",
     "start_time": "2024-11-04T10:36:52.277997Z"
    }
   },
   "cell_type": "code",
   "source": [
    "import pandas as pd\n",
    "\n",
    "smote_classifiers = pipeline.fitted_classifiers.copy()\n",
    "smote_predictions = pipeline.predictions.copy()\n",
    "\n",
    "df_smote = pd.DataFrame(data=pipeline.calculate_metrics())\n",
    "df_smote = df_smote.T\n",
    "df_smote"
   ],
   "id": "c07d748cb247f0f6",
   "outputs": [
    {
     "name": "stderr",
     "output_type": "stream",
     "text": [
      "INFO:utils.ml:Metrics for classifier GT: {'accuracy': 1.0, 'precision': 1.0, 'recall': 1.0, 'f1': 1.0, 'kappa': 1.0}\n",
      "INFO:utils.ml:Metrics for classifier XGBClassifier0: {'accuracy': 0.8842519685039371, 'precision': 0.8074837706210832, 'recall': 0.7893123992864699, 'f1': 0.7976096585149709, 'kappa': 0.7906480725582897}\n",
      "INFO:utils.ml:Metrics for classifier XGBClassifier1: {'accuracy': 0.8740157480314961, 'precision': 0.7841445940295183, 'recall': 0.7761013299416205, 'f1': 0.77988495683285, 'kappa': 0.7729233437484634}\n",
      "INFO:utils.ml:Metrics for classifier XGBClassifier2: {'accuracy': 0.8826771653543307, 'precision': 0.8062779225338229, 'recall': 0.788329115117345, 'f1': 0.79650263028054, 'kappa': 0.7878853776207472}\n",
      "INFO:utils.ml:Metrics for classifier XGBClassifier3: {'accuracy': 0.8771653543307086, 'precision': 0.7901299286285658, 'recall': 0.7744803351988258, 'f1': 0.7817134528975345, 'kappa': 0.7777069663486137}\n",
      "INFO:utils.ml:Metrics for classifier XGBClassifier4: {'accuracy': 0.8755905511811024, 'precision': 0.7867740716407462, 'recall': 0.7803167732752386, 'f1': 0.783357271420682, 'kappa': 0.7759530870373017}\n",
      "INFO:utils.ml:Metrics for classifier XGBClassifier5: {'accuracy': 0.8811023622047244, 'precision': 0.8032716248418073, 'recall': 0.786990427031669, 'f1': 0.7944908721553595, 'kappa': 0.7850488031241173}\n",
      "INFO:utils.ml:Metrics for classifier XGBClassifier6: {'accuracy': 0.8795275590551181, 'precision': 0.7934401925177007, 'recall': 0.7820641758649485, 'f1': 0.7874626531864206, 'kappa': 0.7822339872328217}\n",
      "INFO:utils.ml:Metrics for classifier XGBClassifier7: {'accuracy': 0.8755905511811024, 'precision': 0.78716557939432, 'recall': 0.7761961043193675, 'f1': 0.781398706467363, 'kappa': 0.7751628069577845}\n",
      "INFO:utils.ml:Metrics for classifier XGBClassifier8: {'accuracy': 0.8755905511811024, 'precision': 0.78716557939432, 'recall': 0.7761961043193675, 'f1': 0.781398706467363, 'kappa': 0.7751628069577845}\n"
     ]
    },
    {
     "data": {
      "text/plain": [
       "                accuracy  precision    recall        f1     kappa\n",
       "GT              1.000000   1.000000  1.000000  1.000000  1.000000\n",
       "XGBClassifier0  0.884252   0.807484  0.789312  0.797610  0.790648\n",
       "XGBClassifier1  0.874016   0.784145  0.776101  0.779885  0.772923\n",
       "XGBClassifier2  0.882677   0.806278  0.788329  0.796503  0.787885\n",
       "XGBClassifier3  0.877165   0.790130  0.774480  0.781713  0.777707\n",
       "XGBClassifier4  0.875591   0.786774  0.780317  0.783357  0.775953\n",
       "XGBClassifier5  0.881102   0.803272  0.786990  0.794491  0.785049\n",
       "XGBClassifier6  0.879528   0.793440  0.782064  0.787463  0.782234\n",
       "XGBClassifier7  0.875591   0.787166  0.776196  0.781399  0.775163\n",
       "XGBClassifier8  0.875591   0.787166  0.776196  0.781399  0.775163"
      ],
      "text/html": [
       "<div>\n",
       "<style scoped>\n",
       "    .dataframe tbody tr th:only-of-type {\n",
       "        vertical-align: middle;\n",
       "    }\n",
       "\n",
       "    .dataframe tbody tr th {\n",
       "        vertical-align: top;\n",
       "    }\n",
       "\n",
       "    .dataframe thead th {\n",
       "        text-align: right;\n",
       "    }\n",
       "</style>\n",
       "<table border=\"1\" class=\"dataframe\">\n",
       "  <thead>\n",
       "    <tr style=\"text-align: right;\">\n",
       "      <th></th>\n",
       "      <th>accuracy</th>\n",
       "      <th>precision</th>\n",
       "      <th>recall</th>\n",
       "      <th>f1</th>\n",
       "      <th>kappa</th>\n",
       "    </tr>\n",
       "  </thead>\n",
       "  <tbody>\n",
       "    <tr>\n",
       "      <th>GT</th>\n",
       "      <td>1.000000</td>\n",
       "      <td>1.000000</td>\n",
       "      <td>1.000000</td>\n",
       "      <td>1.000000</td>\n",
       "      <td>1.000000</td>\n",
       "    </tr>\n",
       "    <tr>\n",
       "      <th>XGBClassifier0</th>\n",
       "      <td>0.884252</td>\n",
       "      <td>0.807484</td>\n",
       "      <td>0.789312</td>\n",
       "      <td>0.797610</td>\n",
       "      <td>0.790648</td>\n",
       "    </tr>\n",
       "    <tr>\n",
       "      <th>XGBClassifier1</th>\n",
       "      <td>0.874016</td>\n",
       "      <td>0.784145</td>\n",
       "      <td>0.776101</td>\n",
       "      <td>0.779885</td>\n",
       "      <td>0.772923</td>\n",
       "    </tr>\n",
       "    <tr>\n",
       "      <th>XGBClassifier2</th>\n",
       "      <td>0.882677</td>\n",
       "      <td>0.806278</td>\n",
       "      <td>0.788329</td>\n",
       "      <td>0.796503</td>\n",
       "      <td>0.787885</td>\n",
       "    </tr>\n",
       "    <tr>\n",
       "      <th>XGBClassifier3</th>\n",
       "      <td>0.877165</td>\n",
       "      <td>0.790130</td>\n",
       "      <td>0.774480</td>\n",
       "      <td>0.781713</td>\n",
       "      <td>0.777707</td>\n",
       "    </tr>\n",
       "    <tr>\n",
       "      <th>XGBClassifier4</th>\n",
       "      <td>0.875591</td>\n",
       "      <td>0.786774</td>\n",
       "      <td>0.780317</td>\n",
       "      <td>0.783357</td>\n",
       "      <td>0.775953</td>\n",
       "    </tr>\n",
       "    <tr>\n",
       "      <th>XGBClassifier5</th>\n",
       "      <td>0.881102</td>\n",
       "      <td>0.803272</td>\n",
       "      <td>0.786990</td>\n",
       "      <td>0.794491</td>\n",
       "      <td>0.785049</td>\n",
       "    </tr>\n",
       "    <tr>\n",
       "      <th>XGBClassifier6</th>\n",
       "      <td>0.879528</td>\n",
       "      <td>0.793440</td>\n",
       "      <td>0.782064</td>\n",
       "      <td>0.787463</td>\n",
       "      <td>0.782234</td>\n",
       "    </tr>\n",
       "    <tr>\n",
       "      <th>XGBClassifier7</th>\n",
       "      <td>0.875591</td>\n",
       "      <td>0.787166</td>\n",
       "      <td>0.776196</td>\n",
       "      <td>0.781399</td>\n",
       "      <td>0.775163</td>\n",
       "    </tr>\n",
       "    <tr>\n",
       "      <th>XGBClassifier8</th>\n",
       "      <td>0.875591</td>\n",
       "      <td>0.787166</td>\n",
       "      <td>0.776196</td>\n",
       "      <td>0.781399</td>\n",
       "      <td>0.775163</td>\n",
       "    </tr>\n",
       "  </tbody>\n",
       "</table>\n",
       "</div>"
      ]
     },
     "execution_count": 35,
     "metadata": {},
     "output_type": "execute_result"
    }
   ],
   "execution_count": 35
  },
  {
   "metadata": {
    "ExecuteTime": {
     "end_time": "2024-11-04T10:36:52.415053Z",
     "start_time": "2024-11-04T10:36:52.410761Z"
    }
   },
   "cell_type": "code",
   "source": "# BEST",
   "id": "760a0df42c3f4323",
   "outputs": [],
   "execution_count": 36
  },
  {
   "metadata": {
    "ExecuteTime": {
     "end_time": "2024-11-04T10:36:52.453513Z",
     "start_time": "2024-11-04T10:36:52.443591Z"
    }
   },
   "cell_type": "code",
   "source": [
    "highest = df_smote[df_smote[\"kappa\"] == df_smote.iloc[1:][\"kappa\"].max()]\n",
    "idx = highest.index[0]\n",
    "\n",
    "confusion_matrix(pipeline.predictions[\"GT\"], pipeline.predictions[idx])"
   ],
   "id": "cdc894cce6a949f2",
   "outputs": [
    {
     "data": {
      "text/plain": [
       "array([[441,  36,  21],\n",
       "       [ 38, 630,  10],\n",
       "       [ 29,  13,  52]], dtype=int64)"
      ]
     },
     "execution_count": 37,
     "metadata": {},
     "output_type": "execute_result"
    }
   ],
   "execution_count": 37
  },
  {
   "metadata": {},
   "cell_type": "markdown",
   "source": [
    "___\n",
    "# Borderline SMOTE"
   ],
   "id": "1e752cdfc948f3bc"
  },
  {
   "metadata": {
    "ExecuteTime": {
     "end_time": "2024-11-04T10:36:52.717320Z",
     "start_time": "2024-11-04T10:36:52.495503Z"
    }
   },
   "cell_type": "code",
   "source": [
    "from imblearn.over_sampling import BorderlineSMOTE\n",
    "smote = BorderlineSMOTE(sampling_strategy='auto', random_state=42)\n",
    "\n",
    "pipeline.feature_matrix, pipeline.labels = smote.fit_resample(pipeline.backup_feature_matrix, pipeline.backup_labels)\n",
    "\n",
    "print(pipeline.backup_feature_matrix.shape)\n",
    "print(pipeline.feature_matrix.shape)\n",
    "\n",
    "print(pipeline.backup_labels.shape)\n",
    "print(pipeline.labels.shape)"
   ],
   "id": "ca12420fbcc1eb2b",
   "outputs": [
    {
     "name": "stdout",
     "output_type": "stream",
     "text": [
      "(5082, 519)\n",
      "(8139, 519)\n",
      "(5082,)\n",
      "(8139,)\n"
     ]
    }
   ],
   "execution_count": 38
  },
  {
   "metadata": {
    "ExecuteTime": {
     "end_time": "2024-11-04T10:43:48.324585Z",
     "start_time": "2024-11-04T10:36:52.746466Z"
    }
   },
   "cell_type": "code",
   "source": [
    "pipeline.fitted_classifiers = {}\n",
    "pipeline.classifiers = CLFS.copy()\n",
    "pipeline.fit_classifiers()"
   ],
   "id": "a4ea57f5e5a38f80",
   "outputs": [
    {
     "name": "stderr",
     "output_type": "stream",
     "text": [
      "INFO:utils.ml:Fitting classifiers...\n",
      "INFO:utils.ml:Fitting classifier: XGBClassifier0\n",
      "INFO:utils.ml:Top 10 features for XGBClassifier0: [('color_moments_rgb_B_iqr', 0.032523032), ('fft_radial_variance_95', 0.01458469), ('fft_radial_variance_76', 0.012896298), ('fft_radial_mean_115', 0.01176386), ('color_moments_lab_L_iqr', 0.0112523995), ('color_moments_rgb_B_std', 0.010745317), ('lbp_rad4_bins32_8', 0.010277651), ('color_moments_lab_B_var', 0.010192127), ('fft_radial_mean_87', 0.00889076), ('fft_radial_mean_133', 0.008795581)]\n",
      "INFO:utils.ml:Fitted classifier: XGBClassifier0; Done in 57.35542416572571 seconds\n",
      "INFO:utils.ml:Fitting classifier: XGBClassifier1\n",
      "INFO:utils.ml:Top 10 features for XGBClassifier1: [('color_moments_rgb_B_iqr', 0.035296135), ('fft_radial_mean_75', 0.013281713), ('color_moments_lab_L_iqr', 0.011927683), ('color_moments_lab_B_var', 0.010379287), ('lbp_rad4_bins32_8', 0.009416714), ('fft_radial_mean_17', 0.009127008), ('fft_radial_variance_14', 0.009101782), ('fft_radial_variance_74', 0.008090053), ('color_moments_lab_L_std', 0.007842591), ('color_moments_rgb_B_std', 0.0077954293)]\n",
      "INFO:utils.ml:Fitted classifier: XGBClassifier1; Done in 23.781478881835938 seconds\n",
      "INFO:utils.ml:Fitting classifier: XGBClassifier2\n",
      "INFO:utils.ml:Top 10 features for XGBClassifier2: [('color_moments_rgb_B_iqr', 0.032842085), ('fft_radial_variance_33', 0.012371841), ('fft_radial_mean_133', 0.011509735), ('fft_radial_variance_95', 0.011455661), ('color_moments_lab_L_iqr', 0.011369087), ('fft_radial_mean_87', 0.010467342), ('color_moments_lab_B_var', 0.010381632), ('fft_radial_variance_76', 0.0101295), ('fft_radial_mean_110', 0.009768135), ('color_moments_rgb_B_std', 0.009690317)]\n",
      "INFO:utils.ml:Fitted classifier: XGBClassifier2; Done in 37.74220657348633 seconds\n",
      "INFO:utils.ml:Fitting classifier: XGBClassifier3\n",
      "INFO:utils.ml:Top 10 features for XGBClassifier3: [('color_moments_rgb_B_iqr', 0.028502561), ('color_moments_lab_L_iqr', 0.015237549), ('color_moments_lab_B_var', 0.009666698), ('fft_radial_mean_101', 0.009071464), ('fft_radial_variance_15', 0.008055177), ('color_moments_lab_B_std', 0.0076260404), ('color_moments_rgb_B_std', 0.0074232244), ('fft_radial_variance_64', 0.00742191), ('lbp_rad1_bins8_4', 0.007214813), ('color_moments_lab_L_std', 0.007135292)]\n",
      "INFO:utils.ml:Fitted classifier: XGBClassifier3; Done in 49.389036893844604 seconds\n",
      "INFO:utils.ml:Fitting classifier: XGBClassifier4\n",
      "INFO:utils.ml:Top 10 features for XGBClassifier4: [('color_moments_rgb_B_iqr', 0.03565026), ('fft_radial_mean_75', 0.013414968), ('color_moments_lab_L_iqr', 0.011908576), ('color_moments_lab_B_var', 0.010367524), ('lbp_rad4_bins32_8', 0.009511191), ('fft_radial_mean_17', 0.009218578), ('fft_radial_variance_14', 0.0091931), ('fft_radial_variance_74', 0.00817122), ('color_moments_lab_L_std', 0.007846846), ('color_moments_rgb_B_std', 0.007822968)]\n",
      "INFO:utils.ml:Fitted classifier: XGBClassifier4; Done in 25.91676354408264 seconds\n",
      "INFO:utils.ml:Fitting classifier: XGBClassifier5\n",
      "INFO:utils.ml:Top 10 features for XGBClassifier5: [('color_moments_rgb_B_iqr', 0.03264803), ('fft_radial_mean_133', 0.013511432), ('fft_radial_variance_95', 0.013447954), ('fft_radial_variance_76', 0.011891156), ('color_moments_lab_L_iqr', 0.01111232), ('fft_radial_mean_115', 0.01084698), ('color_moments_rgb_B_std', 0.010610025), ('color_moments_lab_B_var', 0.01025606), ('lbp_rad4_bins32_8', 0.010017823), ('fft_radial_mean_17', 0.008404862)]\n",
      "INFO:utils.ml:Fitted classifier: XGBClassifier5; Done in 45.834015130996704 seconds\n",
      "INFO:utils.ml:Fitting classifier: XGBClassifier6\n",
      "INFO:utils.ml:Top 10 features for XGBClassifier6: [('color_moments_rgb_B_iqr', 0.034747113), ('color_moments_lab_L_iqr', 0.015676541), ('fft_radial_variance_85', 0.012769983), ('fft_radial_mean_17', 0.011271387), ('color_moments_lab_B_var', 0.01091926), ('fft_radial_mean_133', 0.008658167), ('fft_radial_variance_95', 0.008503803), ('color_moments_rgb_B_std', 0.007937373), ('color_moments_lab_B_std', 0.0076121488), ('lbp_rad1_bins8_4', 0.0075386376)]\n",
      "INFO:utils.ml:Fitted classifier: XGBClassifier6; Done in 55.00462627410889 seconds\n",
      "INFO:utils.ml:Fitting classifier: XGBClassifier7\n",
      "INFO:utils.ml:Top 10 features for XGBClassifier7: [('color_moments_rgb_B_iqr', 0.034715388), ('color_moments_lab_L_iqr', 0.01531021), ('fft_radial_variance_95', 0.012266243), ('fft_radial_variance_32', 0.010433329), ('color_moments_lab_B_var', 0.009292862), ('fft_radial_variance_72', 0.008382343), ('fft_radial_mean_17', 0.007916453), ('fft_radial_mean_133', 0.0077692973), ('fft_radial_variance_112', 0.0077184015), ('color_moments_lab_A_iqr', 0.007631713)]\n",
      "INFO:utils.ml:Fitted classifier: XGBClassifier7; Done in 60.33566975593567 seconds\n",
      "INFO:utils.ml:Fitting classifier: XGBClassifier8\n",
      "INFO:utils.ml:Top 10 features for XGBClassifier8: [('color_moments_rgb_B_iqr', 0.034715388), ('color_moments_lab_L_iqr', 0.01531021), ('fft_radial_variance_95', 0.012266243), ('fft_radial_variance_32', 0.010433329), ('color_moments_lab_B_var', 0.009292862), ('fft_radial_variance_72', 0.008382343), ('fft_radial_mean_17', 0.007916453), ('fft_radial_mean_133', 0.0077692973), ('fft_radial_variance_112', 0.0077184015), ('color_moments_lab_A_iqr', 0.007631713)]\n",
      "INFO:utils.ml:Fitted classifier: XGBClassifier8; Done in 60.20670509338379 seconds\n",
      "INFO:utils.ml:Fitting completed in 415.57 seconds.\n"
     ]
    }
   ],
   "execution_count": 39
  },
  {
   "metadata": {
    "ExecuteTime": {
     "end_time": "2024-11-04T10:46:37.857422Z",
     "start_time": "2024-11-04T10:43:48.430139Z"
    }
   },
   "cell_type": "code",
   "source": "pipeline.predict_with_classifiers(VAL_PATH, percent)",
   "id": "156c56b343fa5df1",
   "outputs": [
    {
     "name": "stderr",
     "output_type": "stream",
     "text": [
      "INFO:utils.ml:Predicting with classifiers on dataset: C:\\Users\\gimes\\Src\\repos\\CADx-Project\\dataset\\multiclass\\val\n"
     ]
    },
    {
     "name": "stdout",
     "output_type": "stream",
     "text": [
      "Processed 5/53 batches.\n",
      "Processed 10/53 batches.\n",
      "Processed 15/53 batches.\n",
      "Processed 20/53 batches.\n",
      "Processed 25/53 batches.\n",
      "Processed 30/53 batches.\n",
      "Processed 35/53 batches.\n",
      "Processed 40/53 batches.\n",
      "Processed 45/53 batches.\n",
      "Processed 50/53 batches.\n"
     ]
    },
    {
     "name": "stderr",
     "output_type": "stream",
     "text": [
      "INFO:utils.ml:Predictions made with classifier: XGBClassifier0\n",
      "INFO:utils.ml:Predictions made with classifier: XGBClassifier1\n",
      "INFO:utils.ml:Predictions made with classifier: XGBClassifier2\n",
      "INFO:utils.ml:Predictions made with classifier: XGBClassifier3\n",
      "INFO:utils.ml:Predictions made with classifier: XGBClassifier4\n",
      "INFO:utils.ml:Predictions made with classifier: XGBClassifier5\n",
      "INFO:utils.ml:Predictions made with classifier: XGBClassifier6\n",
      "INFO:utils.ml:Predictions made with classifier: XGBClassifier7\n",
      "INFO:utils.ml:Predictions made with classifier: XGBClassifier8\n"
     ]
    },
    {
     "name": "stdout",
     "output_type": "stream",
     "text": [
      "Processed 53/53 batches.\n"
     ]
    },
    {
     "data": {
      "text/plain": [
       "{'GT': array([0, 0, 0, ..., 2, 2, 2]),\n",
       " 'XGBClassifier0': array([0, 0, 0, ..., 0, 2, 0], dtype=int64),\n",
       " 'XGBClassifier1': array([0, 0, 2, ..., 0, 2, 2], dtype=int64),\n",
       " 'XGBClassifier2': array([0, 0, 0, ..., 0, 2, 0], dtype=int64),\n",
       " 'XGBClassifier3': array([0, 0, 0, ..., 0, 2, 0], dtype=int64),\n",
       " 'XGBClassifier4': array([0, 0, 2, ..., 0, 2, 0], dtype=int64),\n",
       " 'XGBClassifier5': array([0, 0, 0, ..., 0, 2, 0], dtype=int64),\n",
       " 'XGBClassifier6': array([0, 0, 0, ..., 1, 2, 0], dtype=int64),\n",
       " 'XGBClassifier7': array([0, 0, 0, ..., 0, 2, 0], dtype=int64),\n",
       " 'XGBClassifier8': array([0, 0, 0, ..., 0, 2, 0], dtype=int64)}"
      ]
     },
     "execution_count": 40,
     "metadata": {},
     "output_type": "execute_result"
    }
   ],
   "execution_count": 40
  },
  {
   "metadata": {
    "ExecuteTime": {
     "end_time": "2024-11-04T10:46:38.028187Z",
     "start_time": "2024-11-04T10:46:37.894250Z"
    }
   },
   "cell_type": "code",
   "source": [
    "borderline_smote_classifiers = pipeline.fitted_classifiers.copy()\n",
    "borderline_smote_predictions = pipeline.predictions.copy()\n",
    "\n",
    "df_borderline_smote = pd.DataFrame(data=pipeline.calculate_metrics(\n",
    "    [\"accuracy\", \"precision\", \"recall\", \"f1\", \"kappa\"],))\n",
    "df_borderline_smote = df_borderline_smote.T\n",
    "df_borderline_smote"
   ],
   "id": "dec33139485e5176",
   "outputs": [
    {
     "name": "stderr",
     "output_type": "stream",
     "text": [
      "INFO:utils.ml:Metrics for classifier GT: {'accuracy': 1.0, 'precision': 1.0, 'recall': 1.0, 'f1': 1.0, 'kappa': 1.0}\n",
      "INFO:utils.ml:Metrics for classifier XGBClassifier0: {'accuracy': 0.8826771653543307, 'precision': 0.7960991841754254, 'recall': 0.7769997960838522, 'f1': 0.7854260171501551, 'kappa': 0.7879072499114552}\n",
      "INFO:utils.ml:Metrics for classifier XGBClassifier1: {'accuracy': 0.878740157480315, 'precision': 0.7975821336286453, 'recall': 0.7848046929448794, 'f1': 0.7908011827759959, 'kappa': 0.7809324539866306}\n",
      "INFO:utils.ml:Metrics for classifier XGBClassifier2: {'accuracy': 0.8811023622047244, 'precision': 0.7965245703121483, 'recall': 0.7787155652043939, 'f1': 0.7866550780653344, 'kappa': 0.785157650390765}\n",
      "INFO:utils.ml:Metrics for classifier XGBClassifier3: {'accuracy': 0.8748031496062992, 'precision': 0.7849104519067027, 'recall': 0.7733608128616897, 'f1': 0.7787580585556823, 'kappa': 0.7739110378617557}\n",
      "INFO:utils.ml:Metrics for classifier XGBClassifier4: {'accuracy': 0.8771653543307086, 'precision': 0.7967301670381008, 'recall': 0.7805892496112611, 'f1': 0.7880393813447394, 'kappa': 0.7778415691481011}\n",
      "INFO:utils.ml:Metrics for classifier XGBClassifier5: {'accuracy': 0.8834645669291339, 'precision': 0.8016961055912639, 'recall': 0.78360035258085, 'f1': 0.7916393189588825, 'kappa': 0.7895109343223945}\n",
      "INFO:utils.ml:Metrics for classifier XGBClassifier6: {'accuracy': 0.8771653543307086, 'precision': 0.788957063745972, 'recall': 0.7687268247029415, 'f1': 0.7778305565402338, 'kappa': 0.7773141924548491}\n",
      "INFO:utils.ml:Metrics for classifier XGBClassifier7: {'accuracy': 0.8763779527559055, 'precision': 0.805867304387336, 'recall': 0.7741663950725389, 'f1': 0.7877956572631973, 'kappa': 0.7754222588652961}\n",
      "INFO:utils.ml:Metrics for classifier XGBClassifier8: {'accuracy': 0.8763779527559055, 'precision': 0.805867304387336, 'recall': 0.7741663950725389, 'f1': 0.7877956572631973, 'kappa': 0.7754222588652961}\n"
     ]
    },
    {
     "data": {
      "text/plain": [
       "                accuracy  precision    recall        f1     kappa\n",
       "GT              1.000000   1.000000  1.000000  1.000000  1.000000\n",
       "XGBClassifier0  0.882677   0.796099  0.777000  0.785426  0.787907\n",
       "XGBClassifier1  0.878740   0.797582  0.784805  0.790801  0.780932\n",
       "XGBClassifier2  0.881102   0.796525  0.778716  0.786655  0.785158\n",
       "XGBClassifier3  0.874803   0.784910  0.773361  0.778758  0.773911\n",
       "XGBClassifier4  0.877165   0.796730  0.780589  0.788039  0.777842\n",
       "XGBClassifier5  0.883465   0.801696  0.783600  0.791639  0.789511\n",
       "XGBClassifier6  0.877165   0.788957  0.768727  0.777831  0.777314\n",
       "XGBClassifier7  0.876378   0.805867  0.774166  0.787796  0.775422\n",
       "XGBClassifier8  0.876378   0.805867  0.774166  0.787796  0.775422"
      ],
      "text/html": [
       "<div>\n",
       "<style scoped>\n",
       "    .dataframe tbody tr th:only-of-type {\n",
       "        vertical-align: middle;\n",
       "    }\n",
       "\n",
       "    .dataframe tbody tr th {\n",
       "        vertical-align: top;\n",
       "    }\n",
       "\n",
       "    .dataframe thead th {\n",
       "        text-align: right;\n",
       "    }\n",
       "</style>\n",
       "<table border=\"1\" class=\"dataframe\">\n",
       "  <thead>\n",
       "    <tr style=\"text-align: right;\">\n",
       "      <th></th>\n",
       "      <th>accuracy</th>\n",
       "      <th>precision</th>\n",
       "      <th>recall</th>\n",
       "      <th>f1</th>\n",
       "      <th>kappa</th>\n",
       "    </tr>\n",
       "  </thead>\n",
       "  <tbody>\n",
       "    <tr>\n",
       "      <th>GT</th>\n",
       "      <td>1.000000</td>\n",
       "      <td>1.000000</td>\n",
       "      <td>1.000000</td>\n",
       "      <td>1.000000</td>\n",
       "      <td>1.000000</td>\n",
       "    </tr>\n",
       "    <tr>\n",
       "      <th>XGBClassifier0</th>\n",
       "      <td>0.882677</td>\n",
       "      <td>0.796099</td>\n",
       "      <td>0.777000</td>\n",
       "      <td>0.785426</td>\n",
       "      <td>0.787907</td>\n",
       "    </tr>\n",
       "    <tr>\n",
       "      <th>XGBClassifier1</th>\n",
       "      <td>0.878740</td>\n",
       "      <td>0.797582</td>\n",
       "      <td>0.784805</td>\n",
       "      <td>0.790801</td>\n",
       "      <td>0.780932</td>\n",
       "    </tr>\n",
       "    <tr>\n",
       "      <th>XGBClassifier2</th>\n",
       "      <td>0.881102</td>\n",
       "      <td>0.796525</td>\n",
       "      <td>0.778716</td>\n",
       "      <td>0.786655</td>\n",
       "      <td>0.785158</td>\n",
       "    </tr>\n",
       "    <tr>\n",
       "      <th>XGBClassifier3</th>\n",
       "      <td>0.874803</td>\n",
       "      <td>0.784910</td>\n",
       "      <td>0.773361</td>\n",
       "      <td>0.778758</td>\n",
       "      <td>0.773911</td>\n",
       "    </tr>\n",
       "    <tr>\n",
       "      <th>XGBClassifier4</th>\n",
       "      <td>0.877165</td>\n",
       "      <td>0.796730</td>\n",
       "      <td>0.780589</td>\n",
       "      <td>0.788039</td>\n",
       "      <td>0.777842</td>\n",
       "    </tr>\n",
       "    <tr>\n",
       "      <th>XGBClassifier5</th>\n",
       "      <td>0.883465</td>\n",
       "      <td>0.801696</td>\n",
       "      <td>0.783600</td>\n",
       "      <td>0.791639</td>\n",
       "      <td>0.789511</td>\n",
       "    </tr>\n",
       "    <tr>\n",
       "      <th>XGBClassifier6</th>\n",
       "      <td>0.877165</td>\n",
       "      <td>0.788957</td>\n",
       "      <td>0.768727</td>\n",
       "      <td>0.777831</td>\n",
       "      <td>0.777314</td>\n",
       "    </tr>\n",
       "    <tr>\n",
       "      <th>XGBClassifier7</th>\n",
       "      <td>0.876378</td>\n",
       "      <td>0.805867</td>\n",
       "      <td>0.774166</td>\n",
       "      <td>0.787796</td>\n",
       "      <td>0.775422</td>\n",
       "    </tr>\n",
       "    <tr>\n",
       "      <th>XGBClassifier8</th>\n",
       "      <td>0.876378</td>\n",
       "      <td>0.805867</td>\n",
       "      <td>0.774166</td>\n",
       "      <td>0.787796</td>\n",
       "      <td>0.775422</td>\n",
       "    </tr>\n",
       "  </tbody>\n",
       "</table>\n",
       "</div>"
      ]
     },
     "execution_count": 41,
     "metadata": {},
     "output_type": "execute_result"
    }
   ],
   "execution_count": 41
  },
  {
   "metadata": {
    "ExecuteTime": {
     "end_time": "2024-11-04T10:51:24.158508Z",
     "start_time": "2024-11-04T10:51:24.144038Z"
    }
   },
   "cell_type": "code",
   "source": [
    "highest = df_borderline_smote[df_borderline_smote[\"kappa\"] == df_borderline_smote.iloc[1:][\"kappa\"].max()]\n",
    "idx = highest.index[0]\n",
    "\n",
    "confusion_matrix(pipeline.predictions[\"GT\"], pipeline.predictions[idx])"
   ],
   "id": "5e3d245571ac5c69",
   "outputs": [
    {
     "data": {
      "text/plain": [
       "array([[446,  32,  20],\n",
       "       [ 40, 626,  12],\n",
       "       [ 32,  12,  50]], dtype=int64)"
      ]
     },
     "execution_count": 47,
     "metadata": {},
     "output_type": "execute_result"
    }
   ],
   "execution_count": 47
  },
  {
   "metadata": {},
   "cell_type": "markdown",
   "source": "# TRY CROSSVAL",
   "id": "7b5ba61b4da72558"
  },
  {
   "metadata": {},
   "cell_type": "code",
   "source": [
    "val_loader = FactoryLoader(VAL_PATH, pipeline.batch_size, factory, shuffle=False)\n",
    "\n",
    "# test_loader.show_images(100)\n",
    "\n",
    "val_feature_matrix, val_labels = pipeline.feature_strategy.run(val_loader.get_loader())"
   ],
   "id": "8458f5940cf40fad",
   "outputs": [],
   "execution_count": null
  },
  {
   "metadata": {
    "ExecuteTime": {
     "end_time": "2024-11-04T10:59:08.972903Z",
     "start_time": "2024-11-04T10:59:08.947377Z"
    }
   },
   "cell_type": "code",
   "source": [
    "\n",
    "combined_feature_matrix = np.vstack([pipeline.backup_feature_matrix, val_feature_matrix])\n",
    "combined_labels = np.hstack([pipeline.backup_labels, val_labels])\n",
    "\n",
    "print(combined_feature_matrix.shape)\n",
    "print(combined_labels.shape)\n",
    "\n",
    "smote = SMOTE(random_state=42)\n",
    "new_combined_feature_matrix, new_combined_labels = smote.fit_resample(np.nan_to_num(pipeline.feature_matrix), pipeline.labels)\n",
    "\n",
    "print(new_combined_feature_matrix.shape)\n",
    "print(new_combined_labels.shape)"
   ],
   "id": "d7622e0451ce49d3",
   "outputs": [
    {
     "name": "stdout",
     "output_type": "stream",
     "text": [
      "(6352, 519)\n",
      "(6352,)\n"
     ]
    }
   ],
   "execution_count": 49
  },
  {
   "metadata": {
    "ExecuteTime": {
     "end_time": "2024-11-04T11:30:50.474519Z",
     "start_time": "2024-11-04T11:11:22.677332Z"
    }
   },
   "cell_type": "code",
   "source": [
    "from sklearn.model_selection import cross_val_score\n",
    "from sklearn.metrics import make_scorer\n",
    "\n",
    "# Define the kappa scorer\n",
    "kappa_scorer = make_scorer(cohen_kappa_score)\n",
    "\n",
    "# Assuming X_combined and y_combined are the combined training and validation sets\n",
    "# and `model` is your ML model instance (e.g., an sklearn classifier)\n",
    "\n",
    "# Perform cross-validation using kappa score\n",
    "kappa_scores = cross_val_score(smote_classifiers[\"XGBClassifier0\"], combined_feature_matrix, combined_labels, cv=10, scoring=kappa_scorer)\n",
    "\n",
    "# Display the results\n",
    "print(\"Cross-validation Kappa scores:\", kappa_scores)\n",
    "print(\"Average Kappa score:\", np.mean(kappa_scores))"
   ],
   "id": "a3b0d856a66dcf19",
   "outputs": [
    {
     "name": "stdout",
     "output_type": "stream",
     "text": [
      "Cross-validation Kappa scores: [0.77124177 0.73338738 0.73136772 0.75889723 0.73866863 0.74554842\n",
      " 0.74609806 0.73142993 0.79129577 0.77961055]\n",
      "Average Kappa score: 0.7527545463247926\n"
     ]
    }
   ],
   "execution_count": 52
  },
  {
   "metadata": {},
   "cell_type": "markdown",
   "source": [
    "___\n",
    "# TEST SET"
   ],
   "id": "1d061c4912b8d61a"
  },
  {
   "metadata": {},
   "cell_type": "code",
   "outputs": [],
   "execution_count": null,
   "source": [
    "test_loader = FactoryLoader(TEST_PATH, pipeline.batch_size, pipeline.loader.get_factory(), shuffle=False)\n",
    "\n",
    "# test_loader.show_images(100)\n",
    "\n",
    "test_feature_matrix, _ = pipeline.feature_strategy.run(test_loader.get_loader())\n",
    "test_loader.show_images(40)"
   ],
   "id": "1fa12b575f1657d3"
  },
  {
   "metadata": {},
   "cell_type": "code",
   "outputs": [],
   "execution_count": null,
   "source": [
    "test_predictions = smote_classifiers[\"XGBClassifier14\"].predict(test_feature_matrix)\n",
    "\n",
    "np.histogram(test_predictions, bins=3)\n",
    "\n",
    "result = pd.DataFrame(data=test_predictions.reshape(-1,1), columns=[\"class\"])\n",
    "result.to_excel(\"multiclass_results.xlsx\", index=False, header=False)\n",
    "feature_importances_df = pd.DataFrame(data=smote_classifiers[\"XGBClassifier14\"].feature_importances_, index=strategy.get_feature_names())\n"
   ],
   "id": "9ac222cc3f14ebb6"
  }
 ],
 "metadata": {
  "kernelspec": {
   "display_name": "Python 3",
   "language": "python",
   "name": "python3"
  },
  "language_info": {
   "codemirror_mode": {
    "name": "ipython",
    "version": 2
   },
   "file_extension": ".py",
   "mimetype": "text/x-python",
   "name": "python",
   "nbconvert_exporter": "python",
   "pygments_lexer": "ipython2",
   "version": "2.7.6"
  }
 },
 "nbformat": 4,
 "nbformat_minor": 5
}

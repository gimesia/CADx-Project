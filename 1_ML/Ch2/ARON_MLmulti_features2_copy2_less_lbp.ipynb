{
 "cells": [
  {
   "cell_type": "code",
   "id": "initial_id",
   "metadata": {
    "collapsed": true,
    "ExecuteTime": {
     "end_time": "2024-11-02T15:05:39.932929Z",
     "start_time": "2024-11-02T15:05:36.434273Z"
    }
   },
   "source": [
    "import numpy as np\n",
    "from sklearn.metrics import confusion_matrix, recall_score, cohen_kappa_score\n",
    "\n",
    "from utils.loader import FactoryLoader\n",
    "from utils.ml import MLPipeline\n",
    "from utils.preprocessing import PreprocessingFactory\n",
    "from utils.feature_extraction import *\n",
    "from utils.utils import *\n",
    "\n",
    "VAL_PATH = r\"C:\\Users\\gimes\\Src\\repos\\CADx-Project\\dataset\\multiclass\\val\"\n",
    "TRAIN_PATH = r\"C:\\Users\\gimes\\Src\\repos\\CADx-Project\\dataset\\multiclass\\train\""
   ],
   "outputs": [],
   "execution_count": 1
  },
  {
   "metadata": {
    "ExecuteTime": {
     "end_time": "2024-11-02T15:05:39.969474Z",
     "start_time": "2024-11-02T15:05:39.939937Z"
    }
   },
   "cell_type": "code",
   "source": [
    "percent = 100\n",
    "random = False\n",
    "batch_size = 48\n",
    "\n",
    "# Initialize the FactoryLoader\n",
    "factory = PreprocessingFactory()\n",
    "factory.gaussian_smoothing(5)\n",
    "factory.clahe(clip_limit=1.5)\n",
    "factory.pad2square(fill=np.nan)\n",
    "factory.resize((150,150))\n",
    "factory.hair_removal()\n",
    "factory.normalize2float()\n",
    "\n",
    "factory_loader = FactoryLoader(path=VAL_PATH, batch_size=batch_size, factory=factory, percentage=percent, shuffle=random)\n",
    "\n",
    "# Create the feature extraction pipeline strategy and add desired features\n",
    "strategy = FeatureExtractionStrategy()\n",
    "\n",
    "strategy.add_extractor(GradientExtractor())   # Add variance feature\n",
    "\n",
    "# strategy.add_extractor(MeanExtractor())  # Add mean feature\n",
    "# strategy.add_extractor(StdExtractor())   # Add standard deviation feature\n",
    "strategy.add_extractor(VarExtractor())   # Add variance feature\n",
    "strategy.add_extractor(ColorMomentsExtractor())   # Add color moments feature\n",
    "\n",
    "\n",
    "# strategy.add_extractor(MeanExtractor(\"lab\"))  # Add mean feature\n",
    "# strategy.add_extractor(StdExtractor(\"lab\"))   # Add standard deviation feature\n",
    "strategy.add_extractor(VarExtractor(\"lab\"))   # Add variance feature\n",
    "strategy.add_extractor(ColorMomentsExtractor(\"lab\"))   # Add color moments feature\n",
    "\n",
    "# strategy.add_extractor(MeanExtractor(\"hsv\"))  # Add mean feature\n",
    "# strategy.add_extractor(StdExtractor(\"hsv\"))   # Add standard deviation feature\n",
    "strategy.add_extractor(VarExtractor(\"hsv\"))   # Add variance feature\n",
    "strategy.add_extractor(ColorMomentsExtractor(\"hsv\"))   # Add color moments feature\n",
    "\n",
    "strategy.add_extractor(LBPExtractor(radius=1, n_points=64))\n",
    "strategy.add_extractor(LBPExtractor(radius=2, n_points=64))\n",
    "strategy.add_extractor(LBPExtractor(radius=3, n_points=64))\n",
    "\n",
    "strategy.add_extractor(GLCMExtractor(properties=['contrast', 'dissimilarity', 'homogeneity', 'energy', 'correlation',]))\n",
    "\n",
    "pipeline = MLPipeline(dataset_path=TRAIN_PATH, preprocessing_factory=factory, feature_strategy=strategy, classifiers=[], percentage=percent, verbose=True, shuffle=random, batch_size=batch_size)"
   ],
   "id": "d7c81ba220d9e517",
   "outputs": [
    {
     "name": "stderr",
     "output_type": "stream",
     "text": [
      "INFO:utils.ml:MLPipeline initialized with dataset path: C:\\Users\\gimes\\Src\\repos\\CADx-Project\\dataset\\multiclass\\train\n",
      "INFO:utils.ml:Preprocessing steps\n"
     ]
    }
   ],
   "execution_count": 2
  },
  {
   "metadata": {
    "ExecuteTime": {
     "end_time": "2024-11-02T15:14:00.484807Z",
     "start_time": "2024-11-02T15:05:40.034379Z"
    }
   },
   "cell_type": "code",
   "source": [
    "pipeline.feature_matrix = None\n",
    "pipeline.run_feature_extraction()"
   ],
   "id": "21f510c52296a049",
   "outputs": [
    {
     "name": "stderr",
     "output_type": "stream",
     "text": [
      "INFO:utils.ml:Running feature extraction...\n"
     ]
    },
    {
     "name": "stdout",
     "output_type": "stream",
     "text": [
      "Processed 5/106 batches.\n",
      "Processed 10/106 batches.\n",
      "Processed 15/106 batches.\n",
      "Processed 20/106 batches.\n",
      "Processed 25/106 batches.\n",
      "Processed 30/106 batches.\n",
      "Processed 35/106 batches.\n",
      "Processed 40/106 batches.\n",
      "Processed 45/106 batches.\n",
      "Processed 50/106 batches.\n",
      "Processed 55/106 batches.\n",
      "Processed 60/106 batches.\n",
      "Processed 65/106 batches.\n",
      "Processed 70/106 batches.\n",
      "Processed 75/106 batches.\n",
      "Processed 80/106 batches.\n",
      "Processed 85/106 batches.\n",
      "Processed 90/106 batches.\n",
      "Processed 95/106 batches.\n",
      "Processed 100/106 batches.\n",
      "Processed 105/106 batches.\n"
     ]
    },
    {
     "name": "stderr",
     "output_type": "stream",
     "text": [
      "INFO:utils.ml:Feature extraction completed. Extracted 5082 features.\n"
     ]
    },
    {
     "name": "stdout",
     "output_type": "stream",
     "text": [
      "Processed 106/106 batches.\n"
     ]
    }
   ],
   "execution_count": 3
  },
  {
   "metadata": {
    "ExecuteTime": {
     "end_time": "2024-11-02T15:31:22.500997Z",
     "start_time": "2024-11-02T15:31:22.489182Z"
    }
   },
   "cell_type": "code",
   "source": [
    "from xgboost import XGBClassifier\n",
    "from sklearn.ensemble import RandomForestClassifier\n",
    "\n",
    "rf1 = RandomForestClassifier(n_estimators=100)\n",
    "rf2 = RandomForestClassifier(n_estimators=150)\n",
    "# Random Forest with Out-of-Bag Error (OOB)\n",
    "rf3 = RandomForestClassifier(n_estimators=100, oob_score=True, random_state=42)\n",
    "# Random Forest with Bootstrap Disabled\n",
    "rf4 = RandomForestClassifier(n_estimators=100, bootstrap=False, random_state=42)\n",
    "# Random Forest with Out-of-Bag Error (OOB)\n",
    "rf5 = RandomForestClassifier(n_estimators=150, oob_score=True, random_state=42)\n",
    "# Random Forest with Bootstrap Disabled\n",
    "rf6 = RandomForestClassifier(n_estimators=150, bootstrap=False, random_state=42)\n",
    "# Random Forest with Out-of-Bag Error (OOB)\n",
    "rf7 = RandomForestClassifier(n_estimators=200, oob_score=True, random_state=42)\n",
    "# Random Forest with Bootstrap Disabled\n",
    "rf8 = RandomForestClassifier(n_estimators=200, bootstrap=False, random_state=42)\n",
    "\n",
    "\n",
    "xgb1 = XGBClassifier(n_estimators=350)\n",
    "xgb2 = XGBClassifier(n_estimators=450)\n",
    "xgb3 = XGBClassifier(n_estimators=550)\n",
    "xgb4 = XGBClassifier(learning_rate=0.05, n_estimators=400, max_depth=3, min_child_weight=4, subsample=0.8, colsample_bytree=0.8)\n",
    "xgb5 = XGBClassifier(learning_rate=0.1, n_estimators=400, max_depth=7, min_child_weight=3, subsample=0.7, colsample_bytree=0.7) # 2ND\n",
    "xgb6 = XGBClassifier(learning_rate=0.1, n_estimators=400, max_depth=5, min_child_weight=5, gamma=0.2, subsample=0.8, colsample_bytree=0.8) # THIS\n",
    "xgb7 = XGBClassifier(learning_rate=0.1, n_estimators=400, max_depth=5, min_child_weight=1, subsample=0.8, colsample_bytree=0.8, reg_alpha=0.1, reg_lambda=0.1)\n",
    "xgb8 = XGBClassifier(learning_rate=0.05, n_estimators=500, max_depth=7, min_child_weight=1, subsample=0.8, colsample_bytree=0.8)\n",
    "xgb9 = XGBClassifier(learning_rate=0.05, n_estimators=400, max_depth=7, min_child_weight=1, subsample=0.8, colsample_bytree=0.8)\n",
    "xgb10 = XGBClassifier(learning_rate=0.1, n_estimators=400, max_depth=7, min_child_weight=1, subsample=0.8, colsample_bytree=0.8)\n",
    "xgb11 = XGBClassifier(learning_rate=0.1, n_estimators=500, max_depth=7, min_child_weight=1, subsample=0.8, colsample_bytree=0.8)\n",
    "\n",
    "\n",
    "pipeline.classifiers = [rf1, rf2, rf3, rf4, rf5, rf6, rf7, rf8,\n",
    "                        # svm1, svm2, svm3, svm6, svm7, svm8,\n",
    "                        xgb1, xgb2, xgb3, xgb4, xgb5, xgb6, xgb7, xgb8, xgb9, xgb10, xgb11]\n",
    "pipeline.fitted_classifiers = {}"
   ],
   "id": "74470ba20848a156",
   "outputs": [],
   "execution_count": 5
  },
  {
   "metadata": {
    "ExecuteTime": {
     "end_time": "2024-11-02T15:34:28.114572Z",
     "start_time": "2024-11-02T15:31:23.441335Z"
    }
   },
   "cell_type": "code",
   "source": "pipeline.fit_classifiers()",
   "id": "5269ac4d3392fbae",
   "outputs": [
    {
     "name": "stderr",
     "output_type": "stream",
     "text": [
      "INFO:utils.ml:Fitting classifiers...\n",
      "INFO:utils.ml:Fitting classifier: RandomForestClassifier0\n",
      "INFO:utils.ml:Top 10 features for RandomForestClassifier0: [('color_moments_lab_channel_0_skew', 0.037068829839332046), ('color_moments_hsv_channel_0_mean', 0.033001161897309186), ('var_lab_channel_0', 0.019133252061890895), ('var_rgb_channel_2', 0.01885539546292041), ('gradient_magnitude_std', 0.012533369500696025), ('color_moments_rgb_channel_1_mean', 0.011105893843380076), ('color_moments_rgb_channel_1_skew', 0.009974539252612259), ('color_moments_lab_channel_2_mean', 0.009700830666133626), ('color_moments_rgb_channel_0_std', 0.009396549237007779), ('var_rgb_channel_0', 0.00928613283807346)]\n",
      "INFO:utils.ml:Fitted classifier: RandomForestClassifier0; Done in 4.065468788146973 seconds\n",
      "INFO:utils.ml:Fitting classifier: RandomForestClassifier1\n",
      "INFO:utils.ml:Top 10 features for RandomForestClassifier1: [('color_moments_lab_channel_0_skew', 0.0385367940020902), ('color_moments_hsv_channel_0_mean', 0.03564815119513035), ('var_lab_channel_0', 0.019556479210002087), ('var_rgb_channel_2', 0.015740836514775043), ('color_moments_rgb_channel_1_mean', 0.01156266911993153), ('color_moments_rgb_channel_0_std', 0.011511279727584726), ('var_rgb_channel_0', 0.011135472896949238), ('gradient_magnitude_std', 0.01103708493075351), ('color_moments_rgb_channel_0_skew', 0.010642586330227632), ('color_moments_lab_channel_1_std', 0.009775495991282534)]\n",
      "INFO:utils.ml:Fitted classifier: RandomForestClassifier1; Done in 5.932353973388672 seconds\n",
      "INFO:utils.ml:Fitting classifier: RandomForestClassifier2\n",
      "INFO:utils.ml:Top 10 features for RandomForestClassifier2: [('color_moments_lab_channel_0_skew', 0.03612184827106001), ('color_moments_hsv_channel_0_mean', 0.0321725650608837), ('color_moments_rgb_channel_1_mean', 0.015068904017091479), ('var_rgb_channel_2', 0.014862625699820562), ('gradient_magnitude_std', 0.013200921630207262), ('var_lab_channel_0', 0.0122485994342062), ('color_moments_rgb_channel_0_skew', 0.011104806960655762), ('color_moments_lab_channel_0_mean', 0.011083600350164929), ('var_rgb_channel_0', 0.010979243951713624), ('color_moments_rgb_channel_1_skew', 0.010847784908522999)]\n",
      "INFO:utils.ml:Fitted classifier: RandomForestClassifier2; Done in 4.175853967666626 seconds\n",
      "INFO:utils.ml:Fitting classifier: RandomForestClassifier3\n",
      "INFO:utils.ml:Top 10 features for RandomForestClassifier3: [('color_moments_hsv_channel_0_mean', 0.036130114790925705), ('color_moments_lab_channel_0_skew', 0.03500721664232289), ('var_rgb_channel_2', 0.01493479644002942), ('var_lab_channel_0', 0.014601695072035238), ('color_moments_rgb_channel_1_mean', 0.013699680967825976), ('gradient_magnitude_std', 0.01330415605863335), ('color_moments_rgb_channel_0_std', 0.010882585999310291), ('var_rgb_channel_0', 0.01079552119240261), ('color_moments_hsv_channel_0_std', 0.0107927978181862), ('color_moments_lab_channel_0_mean', 0.01036129600044296)]\n",
      "INFO:utils.ml:Fitted classifier: RandomForestClassifier3; Done in 5.6558263301849365 seconds\n",
      "INFO:utils.ml:Fitting classifier: RandomForestClassifier4\n",
      "INFO:utils.ml:Top 10 features for RandomForestClassifier4: [('color_moments_lab_channel_0_skew', 0.036586656048286495), ('color_moments_hsv_channel_0_mean', 0.031092865956103194), ('var_rgb_channel_2', 0.015944679804583948), ('gradient_magnitude_std', 0.014262317708490038), ('color_moments_rgb_channel_1_mean', 0.01390604639651674), ('var_lab_channel_0', 0.013488502102438666), ('color_moments_rgb_channel_0_skew', 0.011228236307983253), ('color_moments_rgb_channel_1_skew', 0.010641626117267329), ('color_moments_lab_channel_0_mean', 0.010438948591714263), ('var_rgb_channel_0', 0.010422292836024012)]\n",
      "INFO:utils.ml:Fitted classifier: RandomForestClassifier4; Done in 5.969515562057495 seconds\n",
      "INFO:utils.ml:Fitting classifier: RandomForestClassifier5\n",
      "INFO:utils.ml:Top 10 features for RandomForestClassifier5: [('color_moments_hsv_channel_0_mean', 0.03508456920467042), ('color_moments_lab_channel_0_skew', 0.03412123807581832), ('var_rgb_channel_2', 0.016486736191331296), ('var_lab_channel_0', 0.015300974680807732), ('gradient_magnitude_std', 0.013858266009840327), ('color_moments_rgb_channel_1_mean', 0.013674485700784318), ('color_moments_hsv_channel_0_std', 0.010977535784219663), ('color_moments_rgb_channel_1_skew', 0.010606898960864718), ('var_rgb_channel_0', 0.010411328014064955), ('var_lab_channel_2', 0.010199728790821623)]\n",
      "INFO:utils.ml:Fitted classifier: RandomForestClassifier5; Done in 8.41708493232727 seconds\n",
      "INFO:utils.ml:Fitting classifier: RandomForestClassifier6\n",
      "INFO:utils.ml:Top 10 features for RandomForestClassifier6: [('color_moments_lab_channel_0_skew', 0.036557309461333246), ('color_moments_hsv_channel_0_mean', 0.03253506865031045), ('var_lab_channel_0', 0.01560764214896653), ('var_rgb_channel_2', 0.015267383037731857), ('gradient_magnitude_std', 0.014577267912291863), ('color_moments_rgb_channel_1_mean', 0.012720698925768738), ('color_moments_rgb_channel_0_skew', 0.010999593645748039), ('color_moments_lab_channel_0_mean', 0.010416031860417624), ('color_moments_rgb_channel_1_skew', 0.010298088336495563), ('lbp_rad1_bins64_58', 0.009907468642562381)]\n",
      "INFO:utils.ml:Fitted classifier: RandomForestClassifier6; Done in 8.189009428024292 seconds\n",
      "INFO:utils.ml:Fitting classifier: RandomForestClassifier7\n",
      "INFO:utils.ml:Top 10 features for RandomForestClassifier7: [('color_moments_hsv_channel_0_mean', 0.03668979300022624), ('color_moments_lab_channel_0_skew', 0.03448897351841173), ('var_lab_channel_0', 0.01711252820542416), ('var_rgb_channel_2', 0.016174308170441205), ('gradient_magnitude_std', 0.014381134708231698), ('color_moments_rgb_channel_1_mean', 0.012654237935070908), ('color_moments_hsv_channel_0_std', 0.010564555455375577), ('var_lab_channel_2', 0.010370341168392437), ('var_rgb_channel_0', 0.01016693143495537), ('color_moments_rgb_channel_1_skew', 0.009997505718529363)]\n",
      "INFO:utils.ml:Fitted classifier: RandomForestClassifier7; Done in 10.990304708480835 seconds\n",
      "INFO:utils.ml:Fitting classifier: XGBClassifier8\n",
      "INFO:utils.ml:Top 10 features for XGBClassifier8: [('color_moments_lab_channel_0_skew', 0.030582113), ('lbp_rad1_bins64_63', 0.023130383), ('lbp_rad1_bins64_58', 0.017355427), ('var_rgb_channel_2', 0.017011685), ('lbp_rad1_bins64_39', 0.014399986), ('lbp_rad1_bins64_26', 0.013694245), ('var_rgb_channel_0', 0.01219865), ('lbp_rad3_bins64_45', 0.010731895), ('lbp_rad2_bins64_29', 0.01060104), ('lbp_rad3_bins64_43', 0.010453882)]\n",
      "INFO:utils.ml:Fitted classifier: XGBClassifier8; Done in 5.8025994300842285 seconds\n",
      "INFO:utils.ml:Fitting classifier: XGBClassifier9\n",
      "INFO:utils.ml:Top 10 features for XGBClassifier9: [('color_moments_lab_channel_0_skew', 0.030547993), ('lbp_rad1_bins64_63', 0.023964038), ('var_rgb_channel_2', 0.017131684), ('lbp_rad1_bins64_58', 0.016661972), ('lbp_rad1_bins64_26', 0.013878241), ('lbp_rad1_bins64_39', 0.01386786), ('var_rgb_channel_0', 0.012776864), ('lbp_rad3_bins64_45', 0.011368199), ('lbp_rad3_bins64_43', 0.011073433), ('lbp_rad2_bins64_29', 0.010672377)]\n",
      "INFO:utils.ml:Fitted classifier: XGBClassifier9; Done in 6.783046245574951 seconds\n",
      "INFO:utils.ml:Fitting classifier: XGBClassifier10\n",
      "INFO:utils.ml:Top 10 features for XGBClassifier10: [('color_moments_lab_channel_0_skew', 0.030715736), ('lbp_rad1_bins64_63', 0.024073316), ('var_rgb_channel_2', 0.016869014), ('lbp_rad1_bins64_58', 0.016757878), ('lbp_rad1_bins64_26', 0.013963344), ('lbp_rad1_bins64_39', 0.013384527), ('var_rgb_channel_0', 0.012738012), ('lbp_rad3_bins64_43', 0.011693453), ('lbp_rad3_bins64_45', 0.011116425), ('lbp_rad2_bins64_29', 0.010369041)]\n",
      "INFO:utils.ml:Fitted classifier: XGBClassifier10; Done in 7.7728869915008545 seconds\n",
      "INFO:utils.ml:Fitting classifier: XGBClassifier11\n",
      "INFO:utils.ml:Top 10 features for XGBClassifier11: [('color_moments_hsv_channel_0_mean', 0.032476358), ('color_moments_lab_channel_0_skew', 0.02104973), ('lbp_rad1_bins64_63', 0.015186125), ('lbp_rad1_bins64_26', 0.014319334), ('lbp_rad1_bins64_58', 0.014156282), ('var_lab_channel_0', 0.011276366), ('lbp_rad1_bins64_31', 0.010079877), ('lbp_rad1_bins64_39', 0.009694666), ('color_moments_rgb_channel_0_std', 0.009200868), ('lbp_rad1_bins64_33', 0.008891867)]\n",
      "INFO:utils.ml:Fitted classifier: XGBClassifier11; Done in 4.17423152923584 seconds\n",
      "INFO:utils.ml:Fitting classifier: XGBClassifier12\n",
      "INFO:utils.ml:Top 10 features for XGBClassifier12: [('color_moments_hsv_channel_0_mean', 0.021118747), ('color_moments_lab_channel_0_skew', 0.018441977), ('lbp_rad1_bins64_63', 0.012457037), ('var_rgb_channel_2', 0.012321614), ('lbp_rad1_bins64_31', 0.0116057275), ('lbp_rad1_bins64_26', 0.010823557), ('lbp_rad1_bins64_58', 0.010450405), ('var_lab_channel_0', 0.010045248), ('var_rgb_channel_0', 0.009002738), ('lbp_rad3_bins64_43', 0.0082225725)]\n",
      "INFO:utils.ml:Fitted classifier: XGBClassifier12; Done in 10.350945234298706 seconds\n",
      "INFO:utils.ml:Fitting classifier: XGBClassifier13\n",
      "INFO:utils.ml:Top 10 features for XGBClassifier13: [('color_moments_hsv_channel_0_mean', 0.028135551), ('color_moments_lab_channel_0_skew', 0.020350993), ('lbp_rad1_bins64_63', 0.014882479), ('var_lab_channel_0', 0.014722616), ('lbp_rad1_bins64_58', 0.013317218), ('lbp_rad1_bins64_26', 0.013194819), ('lbp_rad1_bins64_31', 0.011875027), ('var_rgb_channel_0', 0.009394213), ('var_rgb_channel_2', 0.009203596), ('color_moments_rgb_channel_1_mean', 0.0084426645)]\n",
      "INFO:utils.ml:Fitted classifier: XGBClassifier13; Done in 6.771244764328003 seconds\n",
      "INFO:utils.ml:Fitting classifier: XGBClassifier14\n",
      "INFO:utils.ml:Top 10 features for XGBClassifier14: [('color_moments_hsv_channel_0_mean', 0.032422606), ('color_moments_lab_channel_0_skew', 0.019779501), ('var_lab_channel_0', 0.017052827), ('lbp_rad1_bins64_63', 0.014078794), ('lbp_rad1_bins64_58', 0.013735552), ('lbp_rad1_bins64_31', 0.0122864675), ('lbp_rad1_bins64_26', 0.011582833), ('var_rgb_channel_2', 0.009966525), ('var_rgb_channel_0', 0.008977049), ('color_moments_rgb_channel_0_std', 0.008899749)]\n",
      "INFO:utils.ml:Fitted classifier: XGBClassifier14; Done in 8.30330777168274 seconds\n",
      "INFO:utils.ml:Fitting classifier: XGBClassifier15\n",
      "INFO:utils.ml:Top 10 features for XGBClassifier15: [('color_moments_hsv_channel_0_mean', 0.028868526), ('color_moments_lab_channel_0_skew', 0.020069102), ('lbp_rad1_bins64_58', 0.013210944), ('var_lab_channel_0', 0.012990444), ('lbp_rad1_bins64_63', 0.012069939), ('lbp_rad1_bins64_31', 0.011812931), ('lbp_rad1_bins64_26', 0.011008055), ('var_rgb_channel_2', 0.010892709), ('color_moments_rgb_channel_0_std', 0.009143404), ('lbp_rad1_bins64_39', 0.008776562)]\n",
      "INFO:utils.ml:Fitted classifier: XGBClassifier15; Done in 19.093626499176025 seconds\n",
      "INFO:utils.ml:Fitting classifier: XGBClassifier16\n",
      "INFO:utils.ml:Top 10 features for XGBClassifier16: [('color_moments_hsv_channel_0_mean', 0.028639631), ('color_moments_lab_channel_0_skew', 0.020039832), ('lbp_rad1_bins64_58', 0.012970628), ('var_lab_channel_0', 0.01233897), ('lbp_rad1_bins64_63', 0.012104272), ('lbp_rad1_bins64_31', 0.011234613), ('lbp_rad1_bins64_26', 0.010772795), ('var_rgb_channel_2', 0.01047789), ('color_moments_rgb_channel_0_std', 0.009067863), ('lbp_rad1_bins64_39', 0.008533177)]\n",
      "INFO:utils.ml:Fitted classifier: XGBClassifier16; Done in 18.674745559692383 seconds\n",
      "INFO:utils.ml:Fitting classifier: XGBClassifier17\n",
      "INFO:utils.ml:Top 10 features for XGBClassifier17: [('color_moments_hsv_channel_0_mean', 0.029905539), ('color_moments_lab_channel_0_skew', 0.020428697), ('var_lab_channel_0', 0.015243464), ('lbp_rad1_bins64_63', 0.014828068), ('lbp_rad1_bins64_58', 0.013715793), ('lbp_rad1_bins64_26', 0.013480791), ('var_rgb_channel_2', 0.009856317), ('lbp_rad1_bins64_31', 0.009771393), ('var_rgb_channel_0', 0.009416743), ('color_moments_rgb_channel_0_std', 0.008669168)]\n",
      "INFO:utils.ml:Fitted classifier: XGBClassifier17; Done in 20.114779233932495 seconds\n",
      "INFO:utils.ml:Fitting classifier: XGBClassifier18\n",
      "INFO:utils.ml:Top 10 features for XGBClassifier18: [('color_moments_hsv_channel_0_mean', 0.029213127), ('color_moments_lab_channel_0_skew', 0.020339163), ('var_lab_channel_0', 0.015716631), ('lbp_rad1_bins64_63', 0.015260643), ('lbp_rad1_bins64_58', 0.013807587), ('lbp_rad1_bins64_26', 0.013646797), ('var_rgb_channel_2', 0.01006909), ('lbp_rad1_bins64_31', 0.010024692), ('var_rgb_channel_0', 0.009837025), ('color_moments_rgb_channel_1_mean', 0.008329943)]\n",
      "INFO:utils.ml:Fitted classifier: XGBClassifier18; Done in 23.422378301620483 seconds\n",
      "INFO:utils.ml:Fitting completed in 184.66 seconds.\n"
     ]
    }
   ],
   "execution_count": 6
  },
  {
   "metadata": {
    "ExecuteTime": {
     "end_time": "2024-11-02T15:37:28.849969Z",
     "start_time": "2024-11-02T15:34:28.132222Z"
    }
   },
   "cell_type": "code",
   "source": "pipeline.predict_with_classifiers(VAL_PATH)",
   "id": "f71e18a07f5ee7bb",
   "outputs": [
    {
     "name": "stderr",
     "output_type": "stream",
     "text": [
      "INFO:utils.ml:Predicting with classifiers on dataset: C:\\Users\\gimes\\Src\\repos\\CADx-Project\\dataset\\multiclass\\val\n"
     ]
    },
    {
     "name": "stdout",
     "output_type": "stream",
     "text": [
      "Processed 5/27 batches.\n",
      "Processed 10/27 batches.\n",
      "Processed 15/27 batches.\n",
      "Processed 20/27 batches.\n",
      "Processed 25/27 batches.\n"
     ]
    },
    {
     "name": "stderr",
     "output_type": "stream",
     "text": [
      "INFO:utils.ml:Predictions made with classifier: RandomForestClassifier0\n",
      "INFO:utils.ml:Predictions made with classifier: RandomForestClassifier1\n",
      "INFO:utils.ml:Predictions made with classifier: RandomForestClassifier2\n",
      "INFO:utils.ml:Predictions made with classifier: RandomForestClassifier3\n",
      "INFO:utils.ml:Predictions made with classifier: RandomForestClassifier4\n",
      "INFO:utils.ml:Predictions made with classifier: RandomForestClassifier5\n",
      "INFO:utils.ml:Predictions made with classifier: RandomForestClassifier6\n"
     ]
    },
    {
     "name": "stdout",
     "output_type": "stream",
     "text": [
      "Processed 27/27 batches.\n"
     ]
    },
    {
     "name": "stderr",
     "output_type": "stream",
     "text": [
      "INFO:utils.ml:Predictions made with classifier: RandomForestClassifier7\n",
      "INFO:utils.ml:Predictions made with classifier: XGBClassifier8\n",
      "INFO:utils.ml:Predictions made with classifier: XGBClassifier9\n",
      "INFO:utils.ml:Predictions made with classifier: XGBClassifier10\n",
      "INFO:utils.ml:Predictions made with classifier: XGBClassifier11\n",
      "INFO:utils.ml:Predictions made with classifier: XGBClassifier12\n",
      "INFO:utils.ml:Predictions made with classifier: XGBClassifier13\n",
      "INFO:utils.ml:Predictions made with classifier: XGBClassifier14\n",
      "INFO:utils.ml:Predictions made with classifier: XGBClassifier15\n",
      "INFO:utils.ml:Predictions made with classifier: XGBClassifier16\n",
      "INFO:utils.ml:Predictions made with classifier: XGBClassifier17\n",
      "INFO:utils.ml:Predictions made with classifier: XGBClassifier18\n"
     ]
    },
    {
     "data": {
      "text/plain": [
       "{'GT': array([0, 0, 0, ..., 2, 2, 2]),\n",
       " 'RandomForestClassifier0': array([0, 0, 1, ..., 1, 0, 0]),\n",
       " 'RandomForestClassifier1': array([0, 0, 1, ..., 1, 0, 0]),\n",
       " 'RandomForestClassifier2': array([0, 0, 1, ..., 1, 0, 0]),\n",
       " 'RandomForestClassifier3': array([0, 0, 1, ..., 1, 0, 0]),\n",
       " 'RandomForestClassifier4': array([0, 0, 1, ..., 1, 0, 0]),\n",
       " 'RandomForestClassifier5': array([0, 0, 1, ..., 1, 0, 0]),\n",
       " 'RandomForestClassifier6': array([0, 0, 1, ..., 1, 0, 0]),\n",
       " 'RandomForestClassifier7': array([0, 0, 1, ..., 1, 0, 0]),\n",
       " 'XGBClassifier8': array([0, 0, 1, ..., 1, 0, 0], dtype=int64),\n",
       " 'XGBClassifier9': array([2, 0, 1, ..., 1, 0, 0], dtype=int64),\n",
       " 'XGBClassifier10': array([0, 0, 1, ..., 1, 0, 0], dtype=int64),\n",
       " 'XGBClassifier11': array([0, 0, 2, ..., 1, 0, 0], dtype=int64),\n",
       " 'XGBClassifier12': array([0, 0, 2, ..., 1, 0, 0], dtype=int64),\n",
       " 'XGBClassifier13': array([0, 0, 2, ..., 1, 0, 0], dtype=int64),\n",
       " 'XGBClassifier14': array([2, 0, 2, ..., 1, 0, 0], dtype=int64),\n",
       " 'XGBClassifier15': array([0, 0, 2, ..., 1, 0, 0], dtype=int64),\n",
       " 'XGBClassifier16': array([0, 0, 2, ..., 1, 0, 0], dtype=int64),\n",
       " 'XGBClassifier17': array([0, 0, 2, ..., 1, 0, 0], dtype=int64),\n",
       " 'XGBClassifier18': array([0, 0, 2, ..., 1, 0, 0], dtype=int64)}"
      ]
     },
     "execution_count": 7,
     "metadata": {},
     "output_type": "execute_result"
    }
   ],
   "execution_count": 7
  },
  {
   "metadata": {
    "ExecuteTime": {
     "end_time": "2024-11-02T15:37:28.985309Z",
     "start_time": "2024-11-02T15:37:28.867168Z"
    }
   },
   "cell_type": "code",
   "source": [
    "import pandas as pd\n",
    "\n",
    "df = pd.DataFrame(data=pipeline.calculate_metrics())\n",
    "df.T"
   ],
   "id": "751fad2660242db5",
   "outputs": [
    {
     "name": "stderr",
     "output_type": "stream",
     "text": [
      "INFO:utils.ml:Metrics for classifier GT: {'accuracy': 1.0, 'precision': 1.0, 'recall': 1.0, 'f1': 1.0, 'kappa': 1.0}\n",
      "INFO:utils.ml:Metrics for classifier RandomForestClassifier0: {'accuracy': 0.8, 'precision': 0.7518246039823145, 'recall': 0.5791858830539632, 'f1': 0.5636660233013575, 'kappa': 0.6219671116777918}\n",
      "INFO:utils.ml:Metrics for classifier RandomForestClassifier1: {'accuracy': 0.8015748031496063, 'precision': 0.7533548843533736, 'recall': 0.5807022730979148, 'f1': 0.5652258096345807, 'kappa': 0.6247062520814474}\n",
      "INFO:utils.ml:Metrics for classifier RandomForestClassifier2: {'accuracy': 0.8039370078740158, 'precision': 0.8653424539622584, 'recall': 0.5854093585160954, 'f1': 0.5730737297809153, 'kappa': 0.6294087039675992}\n",
      "INFO:utils.ml:Metrics for classifier RandomForestClassifier3: {'accuracy': 0.805511811023622, 'precision': 0.8248426866386239, 'recall': 0.5975442597604376, 'f1': 0.5979821138474658, 'kappa': 0.6325575838221789}\n",
      "INFO:utils.ml:Metrics for classifier RandomForestClassifier4: {'accuracy': 0.8015748031496063, 'precision': 0.8638954005335058, 'recall': 0.5808799750561903, 'f1': 0.5650890672661112, 'kappa': 0.6248452680145542}\n",
      "INFO:utils.ml:Metrics for classifier RandomForestClassifier5: {'accuracy': 0.8094488188976378, 'precision': 0.8137694073346292, 'recall': 0.5947820655621923, 'f1': 0.589063287467346, 'kappa': 0.6398826402200964}\n",
      "INFO:utils.ml:Metrics for classifier RandomForestClassifier6: {'accuracy': 0.8062992125984252, 'precision': 0.8670767885213158, 'recall': 0.5872396886863339, 'f1': 0.574866745800265, 'kappa': 0.6337964113408007}\n",
      "INFO:utils.ml:Metrics for classifier RandomForestClassifier7: {'accuracy': 0.8102362204724409, 'precision': 0.8694678198535141, 'recall': 0.595984515479857, 'f1': 0.589972339878882, 'kappa': 0.641654568444715}\n",
      "INFO:utils.ml:Metrics for classifier XGBClassifier8: {'accuracy': 0.8322834645669291, 'precision': 0.8188564113057667, 'recall': 0.6571666695653512, 'f1': 0.6806577736971245, 'kappa': 0.6869749357772686}\n",
      "INFO:utils.ml:Metrics for classifier XGBClassifier9: {'accuracy': 0.8330708661417323, 'precision': 0.8035548179780982, 'recall': 0.6601796629813045, 'f1': 0.6838946491147841, 'kappa': 0.6886218126642241}\n",
      "INFO:utils.ml:Metrics for classifier XGBClassifier10: {'accuracy': 0.8307086614173228, 'precision': 0.8234853157184675, 'recall': 0.6497190670672396, 'f1': 0.6711598513771126, 'kappa': 0.6833277664894555}\n",
      "INFO:utils.ml:Metrics for classifier XGBClassifier11: {'accuracy': 0.8141732283464567, 'precision': 0.7707480893371553, 'recall': 0.6111936606023668, 'f1': 0.6148081663796334, 'kappa': 0.6512904997254256}\n",
      "INFO:utils.ml:Metrics for classifier XGBClassifier12: {'accuracy': 0.831496062992126, 'precision': 0.7387929345452887, 'recall': 0.6257750515020605, 'f1': 0.6308662850651333, 'kappa': 0.683745805076265}\n",
      "INFO:utils.ml:Metrics for classifier XGBClassifier13: {'accuracy': 0.8299212598425196, 'precision': 0.7743834480681562, 'recall': 0.6427631066536906, 'f1': 0.6589516731701318, 'kappa': 0.6819537260758062}\n",
      "INFO:utils.ml:Metrics for classifier XGBClassifier14: {'accuracy': 0.8322834645669291, 'precision': 0.7611312874562463, 'recall': 0.6264443955448985, 'f1': 0.6317631953201021, 'kappa': 0.6853232268241273}\n",
      "INFO:utils.ml:Metrics for classifier XGBClassifier15: {'accuracy': 0.837007874015748, 'precision': 0.7911346356724508, 'recall': 0.6356808644229841, 'f1': 0.6459243094056714, 'kappa': 0.6938825414421255}\n",
      "INFO:utils.ml:Metrics for classifier XGBClassifier16: {'accuracy': 0.8322834645669291, 'precision': 0.787901193997152, 'recall': 0.6320202040825071, 'f1': 0.6424988147026697, 'kappa': 0.6848774737077541}\n",
      "INFO:utils.ml:Metrics for classifier XGBClassifier17: {'accuracy': 0.8354330708661417, 'precision': 0.783320569774063, 'recall': 0.6377520374600769, 'f1': 0.6495374871197331, 'kappa': 0.691344673448409}\n",
      "INFO:utils.ml:Metrics for classifier XGBClassifier18: {'accuracy': 0.8362204724409449, 'precision': 0.7834825029998772, 'recall': 0.6441748919987992, 'f1': 0.6592601924248623, 'kappa': 0.6931896844090741}\n"
     ]
    },
    {
     "name": "stdout",
     "output_type": "stream",
     "text": [
      "cannot access local variable 'report' where it is not associated with a value\n",
      "cannot access local variable 'report' where it is not associated with a value\n",
      "cannot access local variable 'report' where it is not associated with a value\n",
      "cannot access local variable 'report' where it is not associated with a value\n",
      "cannot access local variable 'report' where it is not associated with a value\n",
      "cannot access local variable 'report' where it is not associated with a value\n",
      "cannot access local variable 'report' where it is not associated with a value\n",
      "cannot access local variable 'report' where it is not associated with a value\n",
      "cannot access local variable 'report' where it is not associated with a value\n",
      "cannot access local variable 'report' where it is not associated with a value\n",
      "cannot access local variable 'report' where it is not associated with a value\n",
      "cannot access local variable 'report' where it is not associated with a value\n",
      "cannot access local variable 'report' where it is not associated with a value\n",
      "cannot access local variable 'report' where it is not associated with a value\n",
      "cannot access local variable 'report' where it is not associated with a value\n",
      "cannot access local variable 'report' where it is not associated with a value\n",
      "cannot access local variable 'report' where it is not associated with a value\n",
      "cannot access local variable 'report' where it is not associated with a value\n",
      "cannot access local variable 'report' where it is not associated with a value\n",
      "cannot access local variable 'report' where it is not associated with a value\n"
     ]
    },
    {
     "data": {
      "text/plain": [
       "                         accuracy  precision    recall        f1     kappa\n",
       "GT                       1.000000   1.000000  1.000000  1.000000  1.000000\n",
       "RandomForestClassifier0  0.800000   0.751825  0.579186  0.563666  0.621967\n",
       "RandomForestClassifier1  0.801575   0.753355  0.580702  0.565226  0.624706\n",
       "RandomForestClassifier2  0.803937   0.865342  0.585409  0.573074  0.629409\n",
       "RandomForestClassifier3  0.805512   0.824843  0.597544  0.597982  0.632558\n",
       "RandomForestClassifier4  0.801575   0.863895  0.580880  0.565089  0.624845\n",
       "RandomForestClassifier5  0.809449   0.813769  0.594782  0.589063  0.639883\n",
       "RandomForestClassifier6  0.806299   0.867077  0.587240  0.574867  0.633796\n",
       "RandomForestClassifier7  0.810236   0.869468  0.595985  0.589972  0.641655\n",
       "XGBClassifier8           0.832283   0.818856  0.657167  0.680658  0.686975\n",
       "XGBClassifier9           0.833071   0.803555  0.660180  0.683895  0.688622\n",
       "XGBClassifier10          0.830709   0.823485  0.649719  0.671160  0.683328\n",
       "XGBClassifier11          0.814173   0.770748  0.611194  0.614808  0.651290\n",
       "XGBClassifier12          0.831496   0.738793  0.625775  0.630866  0.683746\n",
       "XGBClassifier13          0.829921   0.774383  0.642763  0.658952  0.681954\n",
       "XGBClassifier14          0.832283   0.761131  0.626444  0.631763  0.685323\n",
       "XGBClassifier15          0.837008   0.791135  0.635681  0.645924  0.693883\n",
       "XGBClassifier16          0.832283   0.787901  0.632020  0.642499  0.684877\n",
       "XGBClassifier17          0.835433   0.783321  0.637752  0.649537  0.691345\n",
       "XGBClassifier18          0.836220   0.783483  0.644175  0.659260  0.693190"
      ],
      "text/html": [
       "<div>\n",
       "<style scoped>\n",
       "    .dataframe tbody tr th:only-of-type {\n",
       "        vertical-align: middle;\n",
       "    }\n",
       "\n",
       "    .dataframe tbody tr th {\n",
       "        vertical-align: top;\n",
       "    }\n",
       "\n",
       "    .dataframe thead th {\n",
       "        text-align: right;\n",
       "    }\n",
       "</style>\n",
       "<table border=\"1\" class=\"dataframe\">\n",
       "  <thead>\n",
       "    <tr style=\"text-align: right;\">\n",
       "      <th></th>\n",
       "      <th>accuracy</th>\n",
       "      <th>precision</th>\n",
       "      <th>recall</th>\n",
       "      <th>f1</th>\n",
       "      <th>kappa</th>\n",
       "    </tr>\n",
       "  </thead>\n",
       "  <tbody>\n",
       "    <tr>\n",
       "      <th>GT</th>\n",
       "      <td>1.000000</td>\n",
       "      <td>1.000000</td>\n",
       "      <td>1.000000</td>\n",
       "      <td>1.000000</td>\n",
       "      <td>1.000000</td>\n",
       "    </tr>\n",
       "    <tr>\n",
       "      <th>RandomForestClassifier0</th>\n",
       "      <td>0.800000</td>\n",
       "      <td>0.751825</td>\n",
       "      <td>0.579186</td>\n",
       "      <td>0.563666</td>\n",
       "      <td>0.621967</td>\n",
       "    </tr>\n",
       "    <tr>\n",
       "      <th>RandomForestClassifier1</th>\n",
       "      <td>0.801575</td>\n",
       "      <td>0.753355</td>\n",
       "      <td>0.580702</td>\n",
       "      <td>0.565226</td>\n",
       "      <td>0.624706</td>\n",
       "    </tr>\n",
       "    <tr>\n",
       "      <th>RandomForestClassifier2</th>\n",
       "      <td>0.803937</td>\n",
       "      <td>0.865342</td>\n",
       "      <td>0.585409</td>\n",
       "      <td>0.573074</td>\n",
       "      <td>0.629409</td>\n",
       "    </tr>\n",
       "    <tr>\n",
       "      <th>RandomForestClassifier3</th>\n",
       "      <td>0.805512</td>\n",
       "      <td>0.824843</td>\n",
       "      <td>0.597544</td>\n",
       "      <td>0.597982</td>\n",
       "      <td>0.632558</td>\n",
       "    </tr>\n",
       "    <tr>\n",
       "      <th>RandomForestClassifier4</th>\n",
       "      <td>0.801575</td>\n",
       "      <td>0.863895</td>\n",
       "      <td>0.580880</td>\n",
       "      <td>0.565089</td>\n",
       "      <td>0.624845</td>\n",
       "    </tr>\n",
       "    <tr>\n",
       "      <th>RandomForestClassifier5</th>\n",
       "      <td>0.809449</td>\n",
       "      <td>0.813769</td>\n",
       "      <td>0.594782</td>\n",
       "      <td>0.589063</td>\n",
       "      <td>0.639883</td>\n",
       "    </tr>\n",
       "    <tr>\n",
       "      <th>RandomForestClassifier6</th>\n",
       "      <td>0.806299</td>\n",
       "      <td>0.867077</td>\n",
       "      <td>0.587240</td>\n",
       "      <td>0.574867</td>\n",
       "      <td>0.633796</td>\n",
       "    </tr>\n",
       "    <tr>\n",
       "      <th>RandomForestClassifier7</th>\n",
       "      <td>0.810236</td>\n",
       "      <td>0.869468</td>\n",
       "      <td>0.595985</td>\n",
       "      <td>0.589972</td>\n",
       "      <td>0.641655</td>\n",
       "    </tr>\n",
       "    <tr>\n",
       "      <th>XGBClassifier8</th>\n",
       "      <td>0.832283</td>\n",
       "      <td>0.818856</td>\n",
       "      <td>0.657167</td>\n",
       "      <td>0.680658</td>\n",
       "      <td>0.686975</td>\n",
       "    </tr>\n",
       "    <tr>\n",
       "      <th>XGBClassifier9</th>\n",
       "      <td>0.833071</td>\n",
       "      <td>0.803555</td>\n",
       "      <td>0.660180</td>\n",
       "      <td>0.683895</td>\n",
       "      <td>0.688622</td>\n",
       "    </tr>\n",
       "    <tr>\n",
       "      <th>XGBClassifier10</th>\n",
       "      <td>0.830709</td>\n",
       "      <td>0.823485</td>\n",
       "      <td>0.649719</td>\n",
       "      <td>0.671160</td>\n",
       "      <td>0.683328</td>\n",
       "    </tr>\n",
       "    <tr>\n",
       "      <th>XGBClassifier11</th>\n",
       "      <td>0.814173</td>\n",
       "      <td>0.770748</td>\n",
       "      <td>0.611194</td>\n",
       "      <td>0.614808</td>\n",
       "      <td>0.651290</td>\n",
       "    </tr>\n",
       "    <tr>\n",
       "      <th>XGBClassifier12</th>\n",
       "      <td>0.831496</td>\n",
       "      <td>0.738793</td>\n",
       "      <td>0.625775</td>\n",
       "      <td>0.630866</td>\n",
       "      <td>0.683746</td>\n",
       "    </tr>\n",
       "    <tr>\n",
       "      <th>XGBClassifier13</th>\n",
       "      <td>0.829921</td>\n",
       "      <td>0.774383</td>\n",
       "      <td>0.642763</td>\n",
       "      <td>0.658952</td>\n",
       "      <td>0.681954</td>\n",
       "    </tr>\n",
       "    <tr>\n",
       "      <th>XGBClassifier14</th>\n",
       "      <td>0.832283</td>\n",
       "      <td>0.761131</td>\n",
       "      <td>0.626444</td>\n",
       "      <td>0.631763</td>\n",
       "      <td>0.685323</td>\n",
       "    </tr>\n",
       "    <tr>\n",
       "      <th>XGBClassifier15</th>\n",
       "      <td>0.837008</td>\n",
       "      <td>0.791135</td>\n",
       "      <td>0.635681</td>\n",
       "      <td>0.645924</td>\n",
       "      <td>0.693883</td>\n",
       "    </tr>\n",
       "    <tr>\n",
       "      <th>XGBClassifier16</th>\n",
       "      <td>0.832283</td>\n",
       "      <td>0.787901</td>\n",
       "      <td>0.632020</td>\n",
       "      <td>0.642499</td>\n",
       "      <td>0.684877</td>\n",
       "    </tr>\n",
       "    <tr>\n",
       "      <th>XGBClassifier17</th>\n",
       "      <td>0.835433</td>\n",
       "      <td>0.783321</td>\n",
       "      <td>0.637752</td>\n",
       "      <td>0.649537</td>\n",
       "      <td>0.691345</td>\n",
       "    </tr>\n",
       "    <tr>\n",
       "      <th>XGBClassifier18</th>\n",
       "      <td>0.836220</td>\n",
       "      <td>0.783483</td>\n",
       "      <td>0.644175</td>\n",
       "      <td>0.659260</td>\n",
       "      <td>0.693190</td>\n",
       "    </tr>\n",
       "  </tbody>\n",
       "</table>\n",
       "</div>"
      ]
     },
     "execution_count": 8,
     "metadata": {},
     "output_type": "execute_result"
    }
   ],
   "execution_count": 8
  },
  {
   "metadata": {},
   "cell_type": "markdown",
   "source": [
    "___\n",
    "Balance the data"
   ],
   "id": "ad0e6dcd404dcf15"
  },
  {
   "metadata": {
    "ExecuteTime": {
     "end_time": "2024-11-02T15:37:29.012198Z",
     "start_time": "2024-11-02T15:37:29.005484Z"
    }
   },
   "cell_type": "code",
   "source": [
    "# Backup\n",
    "pipeline.backup_feature_matrix = pipeline.feature_matrix.copy()\n",
    "pipeline.backup_labels = pipeline.labels.copy()"
   ],
   "id": "da1b19771d4cde2f",
   "outputs": [],
   "execution_count": 9
  },
  {
   "metadata": {
    "ExecuteTime": {
     "end_time": "2024-11-02T15:37:29.038370Z",
     "start_time": "2024-11-02T15:37:29.034259Z"
    }
   },
   "cell_type": "code",
   "source": [
    "print(pipeline.backup_feature_matrix.shape)\n",
    "print(pipeline.feature_matrix.shape)\n",
    "\n",
    "print(pipeline.backup_labels.shape)\n",
    "print(pipeline.labels.shape)"
   ],
   "id": "3425dcf3bd509008",
   "outputs": [
    {
     "name": "stdout",
     "output_type": "stream",
     "text": [
      "(5082, 252)\n",
      "(5082, 252)\n",
      "(5082,)\n",
      "(5082,)\n"
     ]
    }
   ],
   "execution_count": 10
  },
  {
   "metadata": {
    "ExecuteTime": {
     "end_time": "2024-11-02T15:37:29.592613Z",
     "start_time": "2024-11-02T15:37:29.077639Z"
    }
   },
   "cell_type": "code",
   "source": [
    "from imblearn.over_sampling import SMOTE\n",
    "\n",
    "smote = SMOTE(random_state=42)\n",
    "pipeline.feature_matrix, pipeline.labels = smote.fit_resample(pipeline.feature_matrix, pipeline.labels)"
   ],
   "id": "6f226a41aafa84b7",
   "outputs": [],
   "execution_count": 11
  },
  {
   "metadata": {
    "ExecuteTime": {
     "end_time": "2024-11-02T15:42:14.590147Z",
     "start_time": "2024-11-02T15:37:29.592613Z"
    }
   },
   "cell_type": "code",
   "source": [
    "pipeline.fitted_classifiers = {}\n",
    "pipeline.fit_classifiers()"
   ],
   "id": "e25b1eeaa9b9b112",
   "outputs": [
    {
     "name": "stderr",
     "output_type": "stream",
     "text": [
      "INFO:utils.ml:Fitting classifiers...\n",
      "INFO:utils.ml:Fitting classifier: RandomForestClassifier0\n",
      "INFO:utils.ml:Fitted classifier: RandomForestClassifier0; Done in 8.41270661354065 seconds\n",
      "INFO:utils.ml:Fitting classifier: RandomForestClassifier1\n"
     ]
    },
    {
     "name": "stdout",
     "output_type": "stream",
     "text": [
      "list index out of range\n"
     ]
    },
    {
     "name": "stderr",
     "output_type": "stream",
     "text": [
      "INFO:utils.ml:Fitted classifier: RandomForestClassifier1; Done in 12.384106397628784 seconds\n",
      "INFO:utils.ml:Fitting classifier: RandomForestClassifier2\n"
     ]
    },
    {
     "name": "stdout",
     "output_type": "stream",
     "text": [
      "list index out of range\n"
     ]
    },
    {
     "name": "stderr",
     "output_type": "stream",
     "text": [
      "INFO:utils.ml:Top 10 features for RandomForestClassifier2: [('color_moments_hsv_channel_0_mean', 0.023676737171629717), ('color_moments_lab_channel_0_skew', 0.023354429572082197), ('var_lab_channel_0', 0.012429733482093017), ('var_rgb_channel_2', 0.011751850738382292), ('var_lab_channel_2', 0.010323461214958479), ('gradient_magnitude_std', 0.009680159486689975), ('lbp_rad1_bins64_58', 0.009678881608007374), ('var_rgb_channel_1', 0.009079951681670816), ('color_moments_rgb_channel_1_mean', 0.009016958923399536), ('lbp_rad1_bins64_63', 0.00875846950785717)]\n",
      "INFO:utils.ml:Fitted classifier: RandomForestClassifier2; Done in 8.275036334991455 seconds\n",
      "INFO:utils.ml:Fitting classifier: RandomForestClassifier3\n",
      "INFO:utils.ml:Fitted classifier: RandomForestClassifier3; Done in 12.206698894500732 seconds\n",
      "INFO:utils.ml:Fitting classifier: RandomForestClassifier4\n"
     ]
    },
    {
     "name": "stdout",
     "output_type": "stream",
     "text": [
      "list index out of range\n"
     ]
    },
    {
     "name": "stderr",
     "output_type": "stream",
     "text": [
      "INFO:utils.ml:Top 10 features for RandomForestClassifier4: [('color_moments_hsv_channel_0_mean', 0.022680992384350618), ('color_moments_lab_channel_0_skew', 0.022216228059814512), ('var_lab_channel_0', 0.01321764194168317), ('var_rgb_channel_2', 0.012503870149751975), ('gradient_magnitude_std', 0.010222242436823807), ('lbp_rad1_bins64_58', 0.00988275428231661), ('var_lab_channel_2', 0.009567236940924647), ('color_moments_rgb_channel_1_skew', 0.0088356988412234), ('color_moments_lab_channel_0_mean', 0.008826967941700252), ('var_rgb_channel_1', 0.00856656956193471)]\n",
      "INFO:utils.ml:Fitted classifier: RandomForestClassifier4; Done in 12.609432697296143 seconds\n",
      "INFO:utils.ml:Fitting classifier: RandomForestClassifier5\n",
      "INFO:utils.ml:Fitted classifier: RandomForestClassifier5; Done in 18.416342973709106 seconds\n",
      "INFO:utils.ml:Fitting classifier: RandomForestClassifier6\n"
     ]
    },
    {
     "name": "stdout",
     "output_type": "stream",
     "text": [
      "list index out of range\n"
     ]
    },
    {
     "name": "stderr",
     "output_type": "stream",
     "text": [
      "INFO:utils.ml:Fitted classifier: RandomForestClassifier6; Done in 16.76341938972473 seconds\n",
      "INFO:utils.ml:Fitting classifier: RandomForestClassifier7\n"
     ]
    },
    {
     "name": "stdout",
     "output_type": "stream",
     "text": [
      "list index out of range\n"
     ]
    },
    {
     "name": "stderr",
     "output_type": "stream",
     "text": [
      "INFO:utils.ml:Fitted classifier: RandomForestClassifier7; Done in 24.239660263061523 seconds\n",
      "INFO:utils.ml:Fitting classifier: XGBClassifier8\n"
     ]
    },
    {
     "name": "stdout",
     "output_type": "stream",
     "text": [
      "list index out of range\n"
     ]
    },
    {
     "name": "stderr",
     "output_type": "stream",
     "text": [
      "INFO:utils.ml:Top 10 features for XGBClassifier8: [('color_moments_hsv_channel_0_mean', 0.022525623), ('var_lab_channel_0', 0.019381149), ('lbp_rad1_bins64_63', 0.017691985), ('lbp_rad1_bins64_58', 0.017203888), ('color_moments_lab_channel_0_skew', 0.0129918335), ('lbp_rad2_bins64_29', 0.012246998), ('lbp_rad2_bins64_33', 0.01182223), ('lbp_rad3_bins64_20', 0.011368644), ('lbp_rad3_bins64_45', 0.010266431), ('color_moments_lab_channel_1_skew', 0.009721994)]\n",
      "INFO:utils.ml:Fitted classifier: XGBClassifier8; Done in 7.488611698150635 seconds\n",
      "INFO:utils.ml:Fitting classifier: XGBClassifier9\n",
      "INFO:utils.ml:Top 10 features for XGBClassifier9: [('color_moments_hsv_channel_0_mean', 0.02244438), ('var_lab_channel_0', 0.01974911), ('lbp_rad1_bins64_63', 0.018033085), ('lbp_rad1_bins64_58', 0.017949902), ('color_moments_lab_channel_0_skew', 0.013175661), ('lbp_rad2_bins64_29', 0.012480237), ('lbp_rad2_bins64_33', 0.011302541), ('lbp_rad3_bins64_20', 0.010441836), ('lbp_rad3_bins64_45', 0.010313227), ('color_moments_lab_channel_1_skew', 0.009710112)]\n",
      "INFO:utils.ml:Fitted classifier: XGBClassifier9; Done in 8.919861078262329 seconds\n",
      "INFO:utils.ml:Fitting classifier: XGBClassifier10\n",
      "INFO:utils.ml:Top 10 features for XGBClassifier10: [('color_moments_hsv_channel_0_mean', 0.022594864), ('var_lab_channel_0', 0.01930083), ('lbp_rad1_bins64_58', 0.018262506), ('lbp_rad1_bins64_63', 0.018229658), ('color_moments_lab_channel_0_skew', 0.013222147), ('lbp_rad2_bins64_29', 0.012637004), ('lbp_rad2_bins64_33', 0.011595995), ('lbp_rad3_bins64_20', 0.01111924), ('lbp_rad3_bins64_45', 0.010279002), ('color_moments_rgb_channel_1_mean', 0.009491539)]\n",
      "INFO:utils.ml:Fitted classifier: XGBClassifier10; Done in 15.77058744430542 seconds\n",
      "INFO:utils.ml:Fitting classifier: XGBClassifier11\n",
      "INFO:utils.ml:Fitted classifier: XGBClassifier11; Done in 6.540396213531494 seconds\n",
      "INFO:utils.ml:Fitting classifier: XGBClassifier12\n"
     ]
    },
    {
     "name": "stdout",
     "output_type": "stream",
     "text": [
      "list index out of range\n"
     ]
    },
    {
     "name": "stderr",
     "output_type": "stream",
     "text": [
      "INFO:utils.ml:Fitted classifier: XGBClassifier12; Done in 16.042921781539917 seconds\n",
      "INFO:utils.ml:Fitting classifier: XGBClassifier13\n"
     ]
    },
    {
     "name": "stdout",
     "output_type": "stream",
     "text": [
      "list index out of range\n"
     ]
    },
    {
     "name": "stderr",
     "output_type": "stream",
     "text": [
      "INFO:utils.ml:Top 10 features for XGBClassifier13: [('color_moments_hsv_channel_0_mean', 0.020007093), ('var_lab_channel_0', 0.015635483), ('lbp_rad2_bins64_29', 0.014351538), ('lbp_rad1_bins64_63', 0.012510046), ('lbp_rad1_bins64_58', 0.012245861), ('color_moments_lab_channel_0_skew', 0.011448943), ('lbp_rad1_bins64_31', 0.00884036), ('color_moments_hsv_channel_2_mean', 0.008507821), ('lbp_rad2_bins64_33', 0.00840943), ('lbp_rad3_bins64_43', 0.008374489)]\n",
      "INFO:utils.ml:Fitted classifier: XGBClassifier13; Done in 10.401842594146729 seconds\n",
      "INFO:utils.ml:Fitting classifier: XGBClassifier14\n",
      "INFO:utils.ml:Fitted classifier: XGBClassifier14; Done in 12.027280807495117 seconds\n",
      "INFO:utils.ml:Fitting classifier: XGBClassifier15\n"
     ]
    },
    {
     "name": "stdout",
     "output_type": "stream",
     "text": [
      "list index out of range\n"
     ]
    },
    {
     "name": "stderr",
     "output_type": "stream",
     "text": [
      "INFO:utils.ml:Top 10 features for XGBClassifier15: [('color_moments_hsv_channel_0_mean', 0.022183614), ('var_lab_channel_0', 0.015864968), ('lbp_rad1_bins64_63', 0.012427399), ('color_moments_lab_channel_0_skew', 0.0110761), ('lbp_rad1_bins64_58', 0.0107720215), ('color_moments_lab_channel_1_std', 0.010026593), ('lbp_rad1_bins64_31', 0.008620148), ('lbp_rad3_bins64_45', 0.008566836), ('lbp_rad3_bins64_20', 0.0085358145), ('lbp_rad2_bins64_29', 0.008356476)]\n",
      "INFO:utils.ml:Fitted classifier: XGBClassifier15; Done in 26.11559295654297 seconds\n",
      "INFO:utils.ml:Fitting classifier: XGBClassifier16\n",
      "INFO:utils.ml:Top 10 features for XGBClassifier16: [('color_moments_hsv_channel_0_mean', 0.022671245), ('var_lab_channel_0', 0.015904253), ('lbp_rad1_bins64_63', 0.012669197), ('color_moments_lab_channel_0_skew', 0.0109457085), ('color_moments_lab_channel_1_std', 0.010601211), ('lbp_rad1_bins64_58', 0.010509677), ('lbp_rad3_bins64_45', 0.008313071), ('lbp_rad1_bins64_31', 0.008280861), ('lbp_rad3_bins64_20', 0.008161736), ('lbp_rad2_bins64_29', 0.008159809)]\n",
      "INFO:utils.ml:Fitted classifier: XGBClassifier16; Done in 23.34044909477234 seconds\n",
      "INFO:utils.ml:Fitting classifier: XGBClassifier17\n",
      "INFO:utils.ml:Fitted classifier: XGBClassifier17; Done in 20.687058448791504 seconds\n",
      "INFO:utils.ml:Fitting classifier: XGBClassifier18\n"
     ]
    },
    {
     "name": "stdout",
     "output_type": "stream",
     "text": [
      "list index out of range\n"
     ]
    },
    {
     "name": "stderr",
     "output_type": "stream",
     "text": [
      "INFO:utils.ml:Fitted classifier: XGBClassifier18; Done in 24.307969570159912 seconds\n",
      "INFO:utils.ml:Fitting completed in 284.97 seconds.\n"
     ]
    },
    {
     "name": "stdout",
     "output_type": "stream",
     "text": [
      "list index out of range\n"
     ]
    }
   ],
   "execution_count": 12
  },
  {
   "metadata": {
    "ExecuteTime": {
     "end_time": "2024-11-02T15:45:59.135254Z",
     "start_time": "2024-11-02T15:42:14.618922Z"
    }
   },
   "cell_type": "code",
   "source": "pipeline.predict_with_classifiers(VAL_PATH)",
   "id": "eaa13003ad0706a4",
   "outputs": [
    {
     "name": "stderr",
     "output_type": "stream",
     "text": [
      "INFO:utils.ml:Predicting with classifiers on dataset: C:\\Users\\gimes\\Src\\repos\\CADx-Project\\dataset\\multiclass\\val\n"
     ]
    },
    {
     "name": "stdout",
     "output_type": "stream",
     "text": [
      "Processed 5/27 batches.\n",
      "Processed 10/27 batches.\n",
      "Processed 15/27 batches.\n",
      "Processed 20/27 batches.\n",
      "Processed 25/27 batches.\n"
     ]
    },
    {
     "name": "stderr",
     "output_type": "stream",
     "text": [
      "INFO:utils.ml:Predictions made with classifier: RandomForestClassifier0\n",
      "INFO:utils.ml:Predictions made with classifier: RandomForestClassifier1\n",
      "INFO:utils.ml:Predictions made with classifier: RandomForestClassifier2\n",
      "INFO:utils.ml:Predictions made with classifier: RandomForestClassifier3\n",
      "INFO:utils.ml:Predictions made with classifier: RandomForestClassifier4\n",
      "INFO:utils.ml:Predictions made with classifier: RandomForestClassifier5\n"
     ]
    },
    {
     "name": "stdout",
     "output_type": "stream",
     "text": [
      "Processed 27/27 batches.\n"
     ]
    },
    {
     "name": "stderr",
     "output_type": "stream",
     "text": [
      "INFO:utils.ml:Predictions made with classifier: RandomForestClassifier6\n",
      "INFO:utils.ml:Predictions made with classifier: RandomForestClassifier7\n",
      "INFO:utils.ml:Predictions made with classifier: XGBClassifier8\n",
      "INFO:utils.ml:Predictions made with classifier: XGBClassifier9\n",
      "INFO:utils.ml:Predictions made with classifier: XGBClassifier10\n",
      "INFO:utils.ml:Predictions made with classifier: XGBClassifier11\n",
      "INFO:utils.ml:Predictions made with classifier: XGBClassifier12\n",
      "INFO:utils.ml:Predictions made with classifier: XGBClassifier13\n",
      "INFO:utils.ml:Predictions made with classifier: XGBClassifier14\n",
      "INFO:utils.ml:Predictions made with classifier: XGBClassifier15\n",
      "INFO:utils.ml:Predictions made with classifier: XGBClassifier16\n",
      "INFO:utils.ml:Predictions made with classifier: XGBClassifier17\n",
      "INFO:utils.ml:Predictions made with classifier: XGBClassifier18\n"
     ]
    },
    {
     "data": {
      "text/plain": [
       "{'GT': array([0, 0, 0, ..., 2, 2, 2]),\n",
       " 'RandomForestClassifier0': array([0, 0, 2, ..., 1, 0, 0]),\n",
       " 'RandomForestClassifier1': array([0, 0, 2, ..., 1, 0, 0]),\n",
       " 'RandomForestClassifier2': array([0, 0, 2, ..., 1, 0, 0]),\n",
       " 'RandomForestClassifier3': array([2, 0, 2, ..., 1, 0, 0]),\n",
       " 'RandomForestClassifier4': array([0, 0, 2, ..., 1, 0, 0]),\n",
       " 'RandomForestClassifier5': array([2, 0, 2, ..., 1, 0, 0]),\n",
       " 'RandomForestClassifier6': array([0, 0, 2, ..., 1, 0, 0]),\n",
       " 'RandomForestClassifier7': array([0, 0, 2, ..., 1, 0, 0]),\n",
       " 'XGBClassifier8': array([2, 0, 2, ..., 1, 0, 0], dtype=int64),\n",
       " 'XGBClassifier9': array([2, 0, 2, ..., 1, 0, 0], dtype=int64),\n",
       " 'XGBClassifier10': array([2, 0, 2, ..., 1, 0, 0], dtype=int64),\n",
       " 'XGBClassifier11': array([2, 0, 2, ..., 1, 0, 0], dtype=int64),\n",
       " 'XGBClassifier12': array([2, 0, 2, ..., 1, 0, 0], dtype=int64),\n",
       " 'XGBClassifier13': array([2, 0, 2, ..., 1, 0, 0], dtype=int64),\n",
       " 'XGBClassifier14': array([2, 0, 2, ..., 1, 0, 0], dtype=int64),\n",
       " 'XGBClassifier15': array([2, 0, 2, ..., 1, 0, 0], dtype=int64),\n",
       " 'XGBClassifier16': array([2, 0, 2, ..., 1, 0, 0], dtype=int64),\n",
       " 'XGBClassifier17': array([2, 0, 2, ..., 1, 0, 0], dtype=int64),\n",
       " 'XGBClassifier18': array([2, 0, 2, ..., 1, 0, 0], dtype=int64)}"
      ]
     },
     "execution_count": 13,
     "metadata": {},
     "output_type": "execute_result"
    }
   ],
   "execution_count": 13
  },
  {
   "metadata": {},
   "cell_type": "code",
   "outputs": [],
   "execution_count": null,
   "source": [
    "import pandas as pd\n",
    "\n",
    "df_smote = pd.DataFrame(data=pipeline.calculate_metrics())\n",
    "df_smote = df_smote.T\n",
    "df_smote"
   ],
   "id": "6412b8ba741644ab"
  },
  {
   "metadata": {},
   "cell_type": "markdown",
   "source": [
    "___\n",
    "Borderline SMOTE"
   ],
   "id": "1e752cdfc948f3bc"
  },
  {
   "metadata": {
    "ExecuteTime": {
     "end_time": "2024-11-02T15:45:59.325424Z",
     "start_time": "2024-11-02T15:45:59.159811Z"
    }
   },
   "cell_type": "code",
   "source": [
    "from imblearn.over_sampling import BorderlineSMOTE\n",
    "smote = BorderlineSMOTE(sampling_strategy='auto', random_state=42)\n",
    "\n",
    "pipeline.feature_matrix, pipeline.labels = smote.fit_resample(\n",
    "    pipeline.backup_feature_matrix, pipeline.backup_labels)\n",
    "\n",
    "print(pipeline.backup_feature_matrix.shape)\n",
    "print(pipeline.feature_matrix.shape)\n",
    "\n",
    "print(pipeline.backup_labels.shape)\n",
    "print(pipeline.labels.shape)\n",
    "\n",
    "pipeline.fitted_classifiers = {}"
   ],
   "id": "ca12420fbcc1eb2b",
   "outputs": [
    {
     "name": "stdout",
     "output_type": "stream",
     "text": [
      "(5082, 252)\n",
      "(8139, 252)\n",
      "(5082,)\n",
      "(8139,)\n"
     ]
    }
   ],
   "execution_count": 14
  },
  {
   "metadata": {
    "ExecuteTime": {
     "end_time": "2024-11-02T15:51:09.757673Z",
     "start_time": "2024-11-02T15:45:59.340067Z"
    }
   },
   "cell_type": "code",
   "source": "pipeline.fit_classifiers()",
   "id": "a4ea57f5e5a38f80",
   "outputs": [
    {
     "name": "stderr",
     "output_type": "stream",
     "text": [
      "INFO:utils.ml:Fitting classifiers...\n",
      "INFO:utils.ml:Fitting classifier: RandomForestClassifier0\n",
      "INFO:utils.ml:Top 10 features for RandomForestClassifier0: [('color_moments_hsv_channel_0_mean', 0.025906491186997505), ('color_moments_lab_channel_0_skew', 0.02147555104358044), ('var_lab_channel_0', 0.012462696588293805), ('var_rgb_channel_2', 0.011823120851115386), ('color_moments_lab_channel_1_std', 0.011312950995102867), ('color_moments_rgb_channel_0_std', 0.00964467905167723), ('color_moments_hsv_channel_2_mean', 0.009545981439873105), ('color_moments_lab_channel_0_mean', 0.008771780695230007), ('var_lab_channel_1', 0.00874646250004753), ('gradient_magnitude_std', 0.00857881477678636)]\n",
      "INFO:utils.ml:Fitted classifier: RandomForestClassifier0; Done in 8.459166288375854 seconds\n",
      "INFO:utils.ml:Fitting classifier: RandomForestClassifier1\n",
      "INFO:utils.ml:Fitted classifier: RandomForestClassifier1; Done in 12.768406867980957 seconds\n",
      "INFO:utils.ml:Fitting classifier: RandomForestClassifier2\n"
     ]
    },
    {
     "name": "stdout",
     "output_type": "stream",
     "text": [
      "list index out of range\n"
     ]
    },
    {
     "name": "stderr",
     "output_type": "stream",
     "text": [
      "INFO:utils.ml:Fitted classifier: RandomForestClassifier2; Done in 8.507708072662354 seconds\n",
      "INFO:utils.ml:Fitting classifier: RandomForestClassifier3\n"
     ]
    },
    {
     "name": "stdout",
     "output_type": "stream",
     "text": [
      "list index out of range\n"
     ]
    },
    {
     "name": "stderr",
     "output_type": "stream",
     "text": [
      "INFO:utils.ml:Fitted classifier: RandomForestClassifier3; Done in 12.086453676223755 seconds\n",
      "INFO:utils.ml:Fitting classifier: RandomForestClassifier4\n"
     ]
    },
    {
     "name": "stdout",
     "output_type": "stream",
     "text": [
      "list index out of range\n"
     ]
    },
    {
     "name": "stderr",
     "output_type": "stream",
     "text": [
      "INFO:utils.ml:Fitted classifier: RandomForestClassifier4; Done in 12.92420744895935 seconds\n",
      "INFO:utils.ml:Fitting classifier: RandomForestClassifier5\n"
     ]
    },
    {
     "name": "stdout",
     "output_type": "stream",
     "text": [
      "list index out of range\n"
     ]
    },
    {
     "name": "stderr",
     "output_type": "stream",
     "text": [
      "INFO:utils.ml:Fitted classifier: RandomForestClassifier5; Done in 19.235591650009155 seconds\n",
      "INFO:utils.ml:Fitting classifier: RandomForestClassifier6\n"
     ]
    },
    {
     "name": "stdout",
     "output_type": "stream",
     "text": [
      "list index out of range\n"
     ]
    },
    {
     "name": "stderr",
     "output_type": "stream",
     "text": [
      "INFO:utils.ml:Fitted classifier: RandomForestClassifier6; Done in 18.199960947036743 seconds\n",
      "INFO:utils.ml:Fitting classifier: RandomForestClassifier7\n"
     ]
    },
    {
     "name": "stdout",
     "output_type": "stream",
     "text": [
      "list index out of range\n"
     ]
    },
    {
     "name": "stderr",
     "output_type": "stream",
     "text": [
      "INFO:utils.ml:Fitted classifier: RandomForestClassifier7; Done in 24.866418838500977 seconds\n",
      "INFO:utils.ml:Fitting classifier: XGBClassifier8\n"
     ]
    },
    {
     "name": "stdout",
     "output_type": "stream",
     "text": [
      "list index out of range\n"
     ]
    },
    {
     "name": "stderr",
     "output_type": "stream",
     "text": [
      "INFO:utils.ml:Top 10 features for XGBClassifier8: [('color_moments_hsv_channel_0_mean', 0.023151603), ('var_lab_channel_0', 0.022702685), ('lbp_rad1_bins64_63', 0.01697956), ('lbp_rad1_bins64_26', 0.016495844), ('color_moments_hsv_channel_2_mean', 0.014016181), ('lbp_rad1_bins64_31', 0.012804229), ('lbp_rad2_bins64_21', 0.012387632), ('color_moments_rgb_channel_1_skew', 0.012048776), ('color_moments_lab_channel_0_skew', 0.011016849), ('lbp_rad2_bins64_29', 0.0108621)]\n",
      "INFO:utils.ml:Fitted classifier: XGBClassifier8; Done in 8.051265716552734 seconds\n",
      "INFO:utils.ml:Fitting classifier: XGBClassifier9\n",
      "INFO:utils.ml:Top 10 features for XGBClassifier9: [('color_moments_hsv_channel_0_mean', 0.023029821), ('var_lab_channel_0', 0.022233825), ('lbp_rad1_bins64_63', 0.017246919), ('lbp_rad1_bins64_26', 0.016954593), ('lbp_rad1_bins64_31', 0.013645518), ('color_moments_hsv_channel_2_mean', 0.013569333), ('lbp_rad2_bins64_21', 0.012455537), ('color_moments_rgb_channel_1_skew', 0.012198857), ('lbp_rad2_bins64_29', 0.011175535), ('color_moments_lab_channel_0_skew', 0.011032624)]\n",
      "INFO:utils.ml:Fitted classifier: XGBClassifier9; Done in 11.083424806594849 seconds\n",
      "INFO:utils.ml:Fitting classifier: XGBClassifier10\n",
      "INFO:utils.ml:Top 10 features for XGBClassifier10: [('color_moments_hsv_channel_0_mean', 0.02278276), ('var_lab_channel_0', 0.021488698), ('lbp_rad1_bins64_63', 0.01744608), ('lbp_rad1_bins64_26', 0.017268607), ('lbp_rad1_bins64_31', 0.0138474265), ('color_moments_hsv_channel_2_mean', 0.013588994), ('lbp_rad2_bins64_21', 0.012303891), ('lbp_rad2_bins64_29', 0.011703508), ('color_moments_rgb_channel_1_skew', 0.01109097), ('color_moments_lab_channel_0_skew', 0.01104126)]\n",
      "INFO:utils.ml:Fitted classifier: XGBClassifier10; Done in 18.92604351043701 seconds\n",
      "INFO:utils.ml:Fitting classifier: XGBClassifier11\n",
      "INFO:utils.ml:Top 10 features for XGBClassifier11: [('lbp_rad3_bins64_20', 0.030605257), ('color_moments_hsv_channel_0_mean', 0.02216461), ('lbp_rad2_bins64_29', 0.019154273), ('color_moments_lab_channel_1_skew', 0.014356669), ('color_moments_lab_channel_0_skew', 0.013515991), ('lbp_rad2_bins64_21', 0.01239094), ('lbp_rad1_bins64_26', 0.011965701), ('lbp_rad1_bins64_63', 0.011326423), ('lbp_rad1_bins64_31', 0.0108531555), ('lbp_rad3_bins64_45', 0.010562574)]\n",
      "INFO:utils.ml:Fitted classifier: XGBClassifier11; Done in 6.891841650009155 seconds\n",
      "INFO:utils.ml:Fitting classifier: XGBClassifier12\n",
      "INFO:utils.ml:Top 10 features for XGBClassifier12: [('color_moments_hsv_channel_0_mean', 0.0151614025), ('lbp_rad1_bins64_31', 0.012786929), ('color_moments_lab_channel_0_skew', 0.012611078), ('var_lab_channel_0', 0.0119168125), ('lbp_rad1_bins64_63', 0.011261439), ('var_rgb_channel_2', 0.010980579), ('lbp_rad3_bins64_20', 0.009987156), ('lbp_rad2_bins64_21', 0.009845845), ('lbp_rad3_bins64_45', 0.009508641), ('color_moments_hsv_channel_2_mean', 0.009431691)]\n",
      "INFO:utils.ml:Fitted classifier: XGBClassifier12; Done in 17.502437114715576 seconds\n",
      "INFO:utils.ml:Fitting classifier: XGBClassifier13\n",
      "INFO:utils.ml:Top 10 features for XGBClassifier13: [('color_moments_hsv_channel_0_mean', 0.020537434), ('lbp_rad2_bins64_29', 0.014714923), ('lbp_rad1_bins64_31', 0.013596996), ('var_lab_channel_0', 0.013091192), ('lbp_rad1_bins64_63', 0.0124745555), ('color_moments_lab_channel_0_skew', 0.012326423), ('lbp_rad3_bins64_45', 0.012294812), ('color_moments_lab_channel_1_skew', 0.011715247), ('lbp_rad1_bins64_26', 0.011370487), ('color_moments_hsv_channel_2_mean', 0.010825866)]\n",
      "INFO:utils.ml:Fitted classifier: XGBClassifier13; Done in 12.092972755432129 seconds\n",
      "INFO:utils.ml:Fitting classifier: XGBClassifier14\n",
      "INFO:utils.ml:Top 10 features for XGBClassifier14: [('color_moments_hsv_channel_0_mean', 0.023775687), ('var_lab_channel_0', 0.014376497), ('lbp_rad1_bins64_31', 0.01287661), ('lbp_rad1_bins64_63', 0.012622793), ('color_moments_lab_channel_1_skew', 0.011845045), ('color_moments_hsv_channel_2_mean', 0.011242414), ('lbp_rad1_bins64_26', 0.01095573), ('lbp_rad2_bins64_29', 0.010496176), ('lbp_rad3_bins64_45', 0.010399938), ('color_moments_lab_channel_0_skew', 0.010273245)]\n",
      "INFO:utils.ml:Fitted classifier: XGBClassifier14; Done in 14.71862506866455 seconds\n",
      "INFO:utils.ml:Fitting classifier: XGBClassifier15\n",
      "INFO:utils.ml:Top 10 features for XGBClassifier15: [('color_moments_hsv_channel_0_mean', 0.022224274), ('var_lab_channel_0', 0.015683021), ('lbp_rad1_bins64_63', 0.013246119), ('lbp_rad1_bins64_26', 0.011273276), ('lbp_rad1_bins64_31', 0.010688704), ('color_moments_hsv_channel_2_mean', 0.010598019), ('color_moments_lab_channel_1_skew', 0.0105224205), ('color_moments_lab_channel_0_skew', 0.010241189), ('lbp_rad2_bins64_21', 0.008948556), ('lbp_rad3_bins64_20', 0.00883688)]\n",
      "INFO:utils.ml:Fitted classifier: XGBClassifier15; Done in 28.544859647750854 seconds\n",
      "INFO:utils.ml:Fitting classifier: XGBClassifier16\n",
      "INFO:utils.ml:Top 10 features for XGBClassifier16: [('color_moments_hsv_channel_0_mean', 0.022583682), ('var_lab_channel_0', 0.015714938), ('lbp_rad1_bins64_63', 0.012649464), ('lbp_rad1_bins64_26', 0.011214296), ('color_moments_lab_channel_1_skew', 0.010458435), ('color_moments_hsv_channel_2_mean', 0.010458258), ('lbp_rad1_bins64_31', 0.010313369), ('color_moments_lab_channel_0_skew', 0.00980877), ('lbp_rad3_bins64_20', 0.009374792), ('lbp_rad2_bins64_21', 0.009068096)]\n",
      "INFO:utils.ml:Fitted classifier: XGBClassifier16; Done in 26.187036514282227 seconds\n",
      "INFO:utils.ml:Fitting classifier: XGBClassifier17\n",
      "INFO:utils.ml:Top 10 features for XGBClassifier17: [('color_moments_hsv_channel_0_mean', 0.022256074), ('var_lab_channel_0', 0.014668856), ('lbp_rad1_bins64_63', 0.013651333), ('lbp_rad1_bins64_26', 0.012771012), ('lbp_rad1_bins64_31', 0.012614896), ('color_moments_lab_channel_1_skew', 0.011872683), ('color_moments_hsv_channel_2_mean', 0.010831958), ('lbp_rad2_bins64_29', 0.01054778), ('color_moments_lab_channel_0_skew', 0.010198433), ('lbp_rad3_bins64_20', 0.009576681)]\n",
      "INFO:utils.ml:Fitted classifier: XGBClassifier17; Done in 22.874685525894165 seconds\n",
      "INFO:utils.ml:Fitting classifier: XGBClassifier18\n",
      "INFO:utils.ml:Top 10 features for XGBClassifier18: [('color_moments_hsv_channel_0_mean', 0.021678677), ('var_lab_channel_0', 0.015013284), ('lbp_rad1_bins64_63', 0.013756015), ('lbp_rad1_bins64_26', 0.0133247115), ('lbp_rad1_bins64_31', 0.013153785), ('color_moments_lab_channel_1_skew', 0.011723945), ('lbp_rad2_bins64_29', 0.010983053), ('color_moments_hsv_channel_2_mean', 0.01067277), ('color_moments_lab_channel_0_skew', 0.010416692), ('lbp_rad3_bins64_45', 0.009299158)]\n",
      "INFO:utils.ml:Fitted classifier: XGBClassifier18; Done in 26.471296072006226 seconds\n",
      "INFO:utils.ml:Fitting completed in 310.41 seconds.\n"
     ]
    }
   ],
   "execution_count": 15
  },
  {
   "metadata": {
    "ExecuteTime": {
     "end_time": "2024-11-02T15:54:23.076855Z",
     "start_time": "2024-11-02T15:51:09.786036Z"
    }
   },
   "cell_type": "code",
   "source": "pipeline.predict_with_classifiers(VAL_PATH)",
   "id": "156c56b343fa5df1",
   "outputs": [
    {
     "name": "stderr",
     "output_type": "stream",
     "text": [
      "INFO:utils.ml:Predicting with classifiers on dataset: C:\\Users\\gimes\\Src\\repos\\CADx-Project\\dataset\\multiclass\\val\n"
     ]
    },
    {
     "name": "stdout",
     "output_type": "stream",
     "text": [
      "Processed 5/27 batches.\n",
      "Processed 10/27 batches.\n",
      "Processed 15/27 batches.\n",
      "Processed 20/27 batches.\n",
      "Processed 25/27 batches.\n"
     ]
    },
    {
     "name": "stderr",
     "output_type": "stream",
     "text": [
      "INFO:utils.ml:Predictions made with classifier: RandomForestClassifier0\n",
      "INFO:utils.ml:Predictions made with classifier: RandomForestClassifier1\n",
      "INFO:utils.ml:Predictions made with classifier: RandomForestClassifier2\n",
      "INFO:utils.ml:Predictions made with classifier: RandomForestClassifier3\n"
     ]
    },
    {
     "name": "stdout",
     "output_type": "stream",
     "text": [
      "Processed 27/27 batches.\n"
     ]
    },
    {
     "name": "stderr",
     "output_type": "stream",
     "text": [
      "INFO:utils.ml:Predictions made with classifier: RandomForestClassifier4\n",
      "INFO:utils.ml:Predictions made with classifier: RandomForestClassifier5\n",
      "INFO:utils.ml:Predictions made with classifier: RandomForestClassifier6\n",
      "INFO:utils.ml:Predictions made with classifier: RandomForestClassifier7\n",
      "INFO:utils.ml:Predictions made with classifier: XGBClassifier8\n",
      "INFO:utils.ml:Predictions made with classifier: XGBClassifier9\n",
      "INFO:utils.ml:Predictions made with classifier: XGBClassifier10\n",
      "INFO:utils.ml:Predictions made with classifier: XGBClassifier11\n",
      "INFO:utils.ml:Predictions made with classifier: XGBClassifier12\n",
      "INFO:utils.ml:Predictions made with classifier: XGBClassifier13\n",
      "INFO:utils.ml:Predictions made with classifier: XGBClassifier14\n",
      "INFO:utils.ml:Predictions made with classifier: XGBClassifier15\n",
      "INFO:utils.ml:Predictions made with classifier: XGBClassifier16\n",
      "INFO:utils.ml:Predictions made with classifier: XGBClassifier17\n",
      "INFO:utils.ml:Predictions made with classifier: XGBClassifier18\n"
     ]
    },
    {
     "data": {
      "text/plain": [
       "{'GT': array([0, 0, 0, ..., 2, 2, 2]),\n",
       " 'RandomForestClassifier0': array([0, 0, 2, ..., 1, 0, 0]),\n",
       " 'RandomForestClassifier1': array([2, 0, 2, ..., 1, 0, 0]),\n",
       " 'RandomForestClassifier2': array([0, 0, 2, ..., 1, 0, 0]),\n",
       " 'RandomForestClassifier3': array([0, 0, 2, ..., 1, 0, 0]),\n",
       " 'RandomForestClassifier4': array([0, 0, 2, ..., 1, 0, 0]),\n",
       " 'RandomForestClassifier5': array([0, 0, 2, ..., 1, 0, 0]),\n",
       " 'RandomForestClassifier6': array([0, 0, 2, ..., 1, 0, 0]),\n",
       " 'RandomForestClassifier7': array([0, 0, 2, ..., 1, 0, 0]),\n",
       " 'XGBClassifier8': array([2, 0, 2, ..., 1, 0, 0], dtype=int64),\n",
       " 'XGBClassifier9': array([2, 0, 2, ..., 1, 0, 0], dtype=int64),\n",
       " 'XGBClassifier10': array([2, 0, 2, ..., 1, 0, 0], dtype=int64),\n",
       " 'XGBClassifier11': array([0, 0, 2, ..., 1, 0, 0], dtype=int64),\n",
       " 'XGBClassifier12': array([2, 0, 2, ..., 1, 2, 0], dtype=int64),\n",
       " 'XGBClassifier13': array([2, 0, 2, ..., 1, 2, 0], dtype=int64),\n",
       " 'XGBClassifier14': array([2, 0, 2, ..., 1, 2, 0], dtype=int64),\n",
       " 'XGBClassifier15': array([2, 0, 2, ..., 1, 0, 0], dtype=int64),\n",
       " 'XGBClassifier16': array([2, 0, 2, ..., 1, 0, 0], dtype=int64),\n",
       " 'XGBClassifier17': array([2, 0, 2, ..., 1, 0, 0], dtype=int64),\n",
       " 'XGBClassifier18': array([2, 0, 2, ..., 1, 0, 0], dtype=int64)}"
      ]
     },
     "execution_count": 16,
     "metadata": {},
     "output_type": "execute_result"
    }
   ],
   "execution_count": 16
  },
  {
   "metadata": {
    "ExecuteTime": {
     "end_time": "2024-11-02T15:54:23.294987Z",
     "start_time": "2024-11-02T15:54:23.108835Z"
    }
   },
   "cell_type": "code",
   "source": [
    "df_borderline_smote = pd.DataFrame(data=pipeline.calculate_metrics(\n",
    "    [\"accuracy\", \"precision\", \"recall\", \"f1\", \"kappa\"],))\n",
    "df_borderline_smote = df_borderline_smote.T\n",
    "df_borderline_smote"
   ],
   "id": "dec33139485e5176",
   "outputs": [
    {
     "name": "stderr",
     "output_type": "stream",
     "text": [
      "INFO:utils.ml:Metrics for classifier GT: {'accuracy': 1.0, 'precision': 1.0, 'recall': 1.0, 'f1': 1.0, 'kappa': 1.0}\n",
      "INFO:utils.ml:Metrics for classifier RandomForestClassifier0: {'accuracy': 0.7889763779527559, 'precision': 0.6654092954369425, 'recall': 0.6659248555131843, 'f1': 0.6646714455509866, 'kappa': 0.6233389108744345}\n",
      "INFO:utils.ml:Metrics for classifier RandomForestClassifier1: {'accuracy': 0.7929133858267716, 'precision': 0.6787322635735883, 'recall': 0.6809562986774186, 'f1': 0.6790639471186939, 'kappa': 0.6304021635211217}\n",
      "INFO:utils.ml:Metrics for classifier RandomForestClassifier2: {'accuracy': 0.7905511811023622, 'precision': 0.6680048048048048, 'recall': 0.6681520533902382, 'f1': 0.6667783231445311, 'kappa': 0.6264292823178148}\n",
      "INFO:utils.ml:Metrics for classifier RandomForestClassifier3: {'accuracy': 0.8, 'precision': 0.6712543763777356, 'recall': 0.6494383987969703, 'f1': 0.6562801483864638, 'kappa': 0.6373729152708517}\n",
      "INFO:utils.ml:Metrics for classifier RandomForestClassifier4: {'accuracy': 0.7913385826771654, 'precision': 0.6689092978592409, 'recall': 0.6677551856834228, 'f1': 0.6674175861195546, 'kappa': 0.6268499505497187}\n",
      "INFO:utils.ml:Metrics for classifier RandomForestClassifier5: {'accuracy': 0.7952755905511811, 'precision': 0.6621938976060723, 'recall': 0.6432563871251024, 'f1': 0.6490352652331257, 'kappa': 0.6291254459030828}\n",
      "INFO:utils.ml:Metrics for classifier RandomForestClassifier6: {'accuracy': 0.7921259842519685, 'precision': 0.6735642058786194, 'recall': 0.6711235830159273, 'f1': 0.6713265195808188, 'kappa': 0.6281657151222368}\n",
      "INFO:utils.ml:Metrics for classifier RandomForestClassifier7: {'accuracy': 0.8007874015748031, 'precision': 0.6777876581801773, 'recall': 0.6592711144584614, 'f1': 0.6655309786510809, 'kappa': 0.6398370630091781}\n",
      "INFO:utils.ml:Metrics for classifier XGBClassifier8: {'accuracy': 0.8322834645669291, 'precision': 0.7298243114909782, 'recall': 0.7071377205300208, 'f1': 0.7164828967908251, 'kappa': 0.695796410417885}\n",
      "INFO:utils.ml:Metrics for classifier XGBClassifier9: {'accuracy': 0.8322834645669291, 'precision': 0.7270792067578938, 'recall': 0.7013842100341364, 'f1': 0.7115382522691421, 'kappa': 0.6954429593068291}\n",
      "INFO:utils.ml:Metrics for classifier XGBClassifier10: {'accuracy': 0.8338582677165355, 'precision': 0.7281385879187026, 'recall': 0.7023674942032613, 'f1': 0.7125736605000018, 'kappa': 0.6982414968897377}\n",
      "INFO:utils.ml:Metrics for classifier XGBClassifier11: {'accuracy': 0.7740157480314961, 'precision': 0.6408280156713422, 'recall': 0.6634369020675686, 'f1': 0.6475840285602849, 'kappa': 0.6058016343728776}\n",
      "INFO:utils.ml:Metrics for classifier XGBClassifier12: {'accuracy': 0.8291338582677166, 'precision': 0.7167157754445671, 'recall': 0.6979960260296819, 'f1': 0.7059511123715075, 'kappa': 0.6898632467859844}\n",
      "INFO:utils.ml:Metrics for classifier XGBClassifier13: {'accuracy': 0.8251968503937008, 'precision': 0.7051037180733526, 'recall': 0.6904951129440878, 'f1': 0.6965208515720599, 'kappa': 0.6836939839704179}\n",
      "INFO:utils.ml:Metrics for classifier XGBClassifier14: {'accuracy': 0.831496062992126, 'precision': 0.7175992981266549, 'recall': 0.7073568862785606, 'f1': 0.7117885688574787, 'kappa': 0.6959655984034223}\n",
      "INFO:utils.ml:Metrics for classifier XGBClassifier15: {'accuracy': 0.8362204724409449, 'precision': 0.7263678232222387, 'recall': 0.7092405270362817, 'f1': 0.7166886312417408, 'kappa': 0.7030562187779621}\n",
      "INFO:utils.ml:Metrics for classifier XGBClassifier16: {'accuracy': 0.8307086614173228, 'precision': 0.717613412585879, 'recall': 0.7086757876922868, 'f1': 0.7127376836355079, 'kappa': 0.6943903476372753}\n",
      "INFO:utils.ml:Metrics for classifier XGBClassifier17: {'accuracy': 0.837007874015748, 'precision': 0.7381670389500568, 'recall': 0.705222572332889, 'f1': 0.7176304180815086, 'kappa': 0.7035427370282328}\n",
      "INFO:utils.ml:Metrics for classifier XGBClassifier18: {'accuracy': 0.8377952755905512, 'precision': 0.7432099378402272, 'recall': 0.7085909696653935, 'f1': 0.7217902951268028, 'kappa': 0.7047351622703859}\n"
     ]
    },
    {
     "name": "stdout",
     "output_type": "stream",
     "text": [
      "cannot access local variable 'report' where it is not associated with a value\n",
      "cannot access local variable 'report' where it is not associated with a value\n",
      "cannot access local variable 'report' where it is not associated with a value\n",
      "cannot access local variable 'report' where it is not associated with a value\n",
      "cannot access local variable 'report' where it is not associated with a value\n",
      "cannot access local variable 'report' where it is not associated with a value\n",
      "cannot access local variable 'report' where it is not associated with a value\n",
      "cannot access local variable 'report' where it is not associated with a value\n",
      "cannot access local variable 'report' where it is not associated with a value\n",
      "cannot access local variable 'report' where it is not associated with a value\n",
      "cannot access local variable 'report' where it is not associated with a value\n",
      "cannot access local variable 'report' where it is not associated with a value\n",
      "cannot access local variable 'report' where it is not associated with a value\n",
      "cannot access local variable 'report' where it is not associated with a value\n",
      "cannot access local variable 'report' where it is not associated with a value\n",
      "cannot access local variable 'report' where it is not associated with a value\n",
      "cannot access local variable 'report' where it is not associated with a value\n",
      "cannot access local variable 'report' where it is not associated with a value\n",
      "cannot access local variable 'report' where it is not associated with a value\n",
      "cannot access local variable 'report' where it is not associated with a value\n"
     ]
    },
    {
     "data": {
      "text/plain": [
       "                         accuracy  precision    recall        f1     kappa\n",
       "GT                       1.000000   1.000000  1.000000  1.000000  1.000000\n",
       "RandomForestClassifier0  0.788976   0.665409  0.665925  0.664671  0.623339\n",
       "RandomForestClassifier1  0.792913   0.678732  0.680956  0.679064  0.630402\n",
       "RandomForestClassifier2  0.790551   0.668005  0.668152  0.666778  0.626429\n",
       "RandomForestClassifier3  0.800000   0.671254  0.649438  0.656280  0.637373\n",
       "RandomForestClassifier4  0.791339   0.668909  0.667755  0.667418  0.626850\n",
       "RandomForestClassifier5  0.795276   0.662194  0.643256  0.649035  0.629125\n",
       "RandomForestClassifier6  0.792126   0.673564  0.671124  0.671327  0.628166\n",
       "RandomForestClassifier7  0.800787   0.677788  0.659271  0.665531  0.639837\n",
       "XGBClassifier8           0.832283   0.729824  0.707138  0.716483  0.695796\n",
       "XGBClassifier9           0.832283   0.727079  0.701384  0.711538  0.695443\n",
       "XGBClassifier10          0.833858   0.728139  0.702367  0.712574  0.698241\n",
       "XGBClassifier11          0.774016   0.640828  0.663437  0.647584  0.605802\n",
       "XGBClassifier12          0.829134   0.716716  0.697996  0.705951  0.689863\n",
       "XGBClassifier13          0.825197   0.705104  0.690495  0.696521  0.683694\n",
       "XGBClassifier14          0.831496   0.717599  0.707357  0.711789  0.695966\n",
       "XGBClassifier15          0.836220   0.726368  0.709241  0.716689  0.703056\n",
       "XGBClassifier16          0.830709   0.717613  0.708676  0.712738  0.694390\n",
       "XGBClassifier17          0.837008   0.738167  0.705223  0.717630  0.703543\n",
       "XGBClassifier18          0.837795   0.743210  0.708591  0.721790  0.704735"
      ],
      "text/html": [
       "<div>\n",
       "<style scoped>\n",
       "    .dataframe tbody tr th:only-of-type {\n",
       "        vertical-align: middle;\n",
       "    }\n",
       "\n",
       "    .dataframe tbody tr th {\n",
       "        vertical-align: top;\n",
       "    }\n",
       "\n",
       "    .dataframe thead th {\n",
       "        text-align: right;\n",
       "    }\n",
       "</style>\n",
       "<table border=\"1\" class=\"dataframe\">\n",
       "  <thead>\n",
       "    <tr style=\"text-align: right;\">\n",
       "      <th></th>\n",
       "      <th>accuracy</th>\n",
       "      <th>precision</th>\n",
       "      <th>recall</th>\n",
       "      <th>f1</th>\n",
       "      <th>kappa</th>\n",
       "    </tr>\n",
       "  </thead>\n",
       "  <tbody>\n",
       "    <tr>\n",
       "      <th>GT</th>\n",
       "      <td>1.000000</td>\n",
       "      <td>1.000000</td>\n",
       "      <td>1.000000</td>\n",
       "      <td>1.000000</td>\n",
       "      <td>1.000000</td>\n",
       "    </tr>\n",
       "    <tr>\n",
       "      <th>RandomForestClassifier0</th>\n",
       "      <td>0.788976</td>\n",
       "      <td>0.665409</td>\n",
       "      <td>0.665925</td>\n",
       "      <td>0.664671</td>\n",
       "      <td>0.623339</td>\n",
       "    </tr>\n",
       "    <tr>\n",
       "      <th>RandomForestClassifier1</th>\n",
       "      <td>0.792913</td>\n",
       "      <td>0.678732</td>\n",
       "      <td>0.680956</td>\n",
       "      <td>0.679064</td>\n",
       "      <td>0.630402</td>\n",
       "    </tr>\n",
       "    <tr>\n",
       "      <th>RandomForestClassifier2</th>\n",
       "      <td>0.790551</td>\n",
       "      <td>0.668005</td>\n",
       "      <td>0.668152</td>\n",
       "      <td>0.666778</td>\n",
       "      <td>0.626429</td>\n",
       "    </tr>\n",
       "    <tr>\n",
       "      <th>RandomForestClassifier3</th>\n",
       "      <td>0.800000</td>\n",
       "      <td>0.671254</td>\n",
       "      <td>0.649438</td>\n",
       "      <td>0.656280</td>\n",
       "      <td>0.637373</td>\n",
       "    </tr>\n",
       "    <tr>\n",
       "      <th>RandomForestClassifier4</th>\n",
       "      <td>0.791339</td>\n",
       "      <td>0.668909</td>\n",
       "      <td>0.667755</td>\n",
       "      <td>0.667418</td>\n",
       "      <td>0.626850</td>\n",
       "    </tr>\n",
       "    <tr>\n",
       "      <th>RandomForestClassifier5</th>\n",
       "      <td>0.795276</td>\n",
       "      <td>0.662194</td>\n",
       "      <td>0.643256</td>\n",
       "      <td>0.649035</td>\n",
       "      <td>0.629125</td>\n",
       "    </tr>\n",
       "    <tr>\n",
       "      <th>RandomForestClassifier6</th>\n",
       "      <td>0.792126</td>\n",
       "      <td>0.673564</td>\n",
       "      <td>0.671124</td>\n",
       "      <td>0.671327</td>\n",
       "      <td>0.628166</td>\n",
       "    </tr>\n",
       "    <tr>\n",
       "      <th>RandomForestClassifier7</th>\n",
       "      <td>0.800787</td>\n",
       "      <td>0.677788</td>\n",
       "      <td>0.659271</td>\n",
       "      <td>0.665531</td>\n",
       "      <td>0.639837</td>\n",
       "    </tr>\n",
       "    <tr>\n",
       "      <th>XGBClassifier8</th>\n",
       "      <td>0.832283</td>\n",
       "      <td>0.729824</td>\n",
       "      <td>0.707138</td>\n",
       "      <td>0.716483</td>\n",
       "      <td>0.695796</td>\n",
       "    </tr>\n",
       "    <tr>\n",
       "      <th>XGBClassifier9</th>\n",
       "      <td>0.832283</td>\n",
       "      <td>0.727079</td>\n",
       "      <td>0.701384</td>\n",
       "      <td>0.711538</td>\n",
       "      <td>0.695443</td>\n",
       "    </tr>\n",
       "    <tr>\n",
       "      <th>XGBClassifier10</th>\n",
       "      <td>0.833858</td>\n",
       "      <td>0.728139</td>\n",
       "      <td>0.702367</td>\n",
       "      <td>0.712574</td>\n",
       "      <td>0.698241</td>\n",
       "    </tr>\n",
       "    <tr>\n",
       "      <th>XGBClassifier11</th>\n",
       "      <td>0.774016</td>\n",
       "      <td>0.640828</td>\n",
       "      <td>0.663437</td>\n",
       "      <td>0.647584</td>\n",
       "      <td>0.605802</td>\n",
       "    </tr>\n",
       "    <tr>\n",
       "      <th>XGBClassifier12</th>\n",
       "      <td>0.829134</td>\n",
       "      <td>0.716716</td>\n",
       "      <td>0.697996</td>\n",
       "      <td>0.705951</td>\n",
       "      <td>0.689863</td>\n",
       "    </tr>\n",
       "    <tr>\n",
       "      <th>XGBClassifier13</th>\n",
       "      <td>0.825197</td>\n",
       "      <td>0.705104</td>\n",
       "      <td>0.690495</td>\n",
       "      <td>0.696521</td>\n",
       "      <td>0.683694</td>\n",
       "    </tr>\n",
       "    <tr>\n",
       "      <th>XGBClassifier14</th>\n",
       "      <td>0.831496</td>\n",
       "      <td>0.717599</td>\n",
       "      <td>0.707357</td>\n",
       "      <td>0.711789</td>\n",
       "      <td>0.695966</td>\n",
       "    </tr>\n",
       "    <tr>\n",
       "      <th>XGBClassifier15</th>\n",
       "      <td>0.836220</td>\n",
       "      <td>0.726368</td>\n",
       "      <td>0.709241</td>\n",
       "      <td>0.716689</td>\n",
       "      <td>0.703056</td>\n",
       "    </tr>\n",
       "    <tr>\n",
       "      <th>XGBClassifier16</th>\n",
       "      <td>0.830709</td>\n",
       "      <td>0.717613</td>\n",
       "      <td>0.708676</td>\n",
       "      <td>0.712738</td>\n",
       "      <td>0.694390</td>\n",
       "    </tr>\n",
       "    <tr>\n",
       "      <th>XGBClassifier17</th>\n",
       "      <td>0.837008</td>\n",
       "      <td>0.738167</td>\n",
       "      <td>0.705223</td>\n",
       "      <td>0.717630</td>\n",
       "      <td>0.703543</td>\n",
       "    </tr>\n",
       "    <tr>\n",
       "      <th>XGBClassifier18</th>\n",
       "      <td>0.837795</td>\n",
       "      <td>0.743210</td>\n",
       "      <td>0.708591</td>\n",
       "      <td>0.721790</td>\n",
       "      <td>0.704735</td>\n",
       "    </tr>\n",
       "  </tbody>\n",
       "</table>\n",
       "</div>"
      ]
     },
     "execution_count": 17,
     "metadata": {},
     "output_type": "execute_result"
    }
   ],
   "execution_count": 17
  },
  {
   "metadata": {
    "ExecuteTime": {
     "end_time": "2024-11-02T15:59:53.095774Z",
     "start_time": "2024-11-02T15:59:53.087183Z"
    }
   },
   "cell_type": "code",
   "source": "confusion_matrix(pipeline.predictions[\"GT\"], pipeline.predictions[\"XGBClassifier15\"])",
   "id": "5e3d245571ac5c69",
   "outputs": [
    {
     "data": {
      "text/plain": [
       "array([[417,  55,  26],\n",
       "       [ 54, 608,  16],\n",
       "       [ 38,  19,  37]], dtype=int64)"
      ]
     },
     "execution_count": 21,
     "metadata": {},
     "output_type": "execute_result"
    }
   ],
   "execution_count": 21
  },
  {
   "metadata": {},
   "cell_type": "markdown",
   "source": [
    "___\n",
    "# PCA"
   ],
   "id": "fd1abf83108d3146"
  },
  {
   "metadata": {
    "ExecuteTime": {
     "end_time": "2024-11-02T16:08:55.118106Z",
     "start_time": "2024-11-02T16:08:54.901155Z"
    }
   },
   "cell_type": "code",
   "source": [
    "from sklearn.decomposition import PCA\n",
    "from matplotlib import pyplot as plt\n",
    "\n",
    "\n",
    "def plot_explained_variance(data, threshold=0.95):\n",
    "    \"\"\"\n",
    "    Plots the cumulative explained variance for each principal component in PCA \n",
    "    and indicates the number of components needed to reach a given threshold.\n",
    "\n",
    "    Parameters:\n",
    "    - data: array-like, shape (n_samples, n_features)\n",
    "        The input data for PCA.\n",
    "    - threshold: float, default=0.95\n",
    "        The cumulative explained variance threshold to reach.\n",
    "\n",
    "    Returns:\n",
    "    - num_components: int\n",
    "        The minimum number of components needed to reach the given threshold.\n",
    "    \"\"\"\n",
    "    # Run PCA\n",
    "    pca = PCA()\n",
    "    pca.fit(data)\n",
    "    \n",
    "    print(pca.explained_variance_ratio_)\n",
    "    \n",
    "    # Calculate cumulative explained variance\n",
    "    cumulative_explained_variance = np.cumsum(pca.explained_variance_ratio_)\n",
    "    \n",
    "    print(cumulative_explained_variance[3])\n",
    "    \n",
    "    # Find the number of components that meet or exceed the threshold\n",
    "    num_components = np.argmax(cumulative_explained_variance >= threshold) + 1\n",
    "    \n",
    "    # Plot cumulative explained variance\n",
    "    plt.figure(figsize=(10, 6))\n",
    "    plt.plot(range(1, len(cumulative_explained_variance) + 1), cumulative_explained_variance, \n",
    "             marker='o', linestyle='-')\n",
    "    plt.axhline(y=threshold, color='r', linestyle='--', label=f'{threshold*100}% Threshold')\n",
    "    plt.axvline(x=num_components, color='g', linestyle='--', label=f'{num_components} Components')\n",
    "\n",
    "    # Labels and title\n",
    "    plt.xlabel('Number of Principal Components')\n",
    "    plt.ylabel('Cumulative Explained Variance')\n",
    "    plt.title('Explained Variance by Number of Principal Components')\n",
    "    plt.legend(loc='lower right')\n",
    "    plt.grid(True)\n",
    "    plt.show()\n",
    "\n",
    "    return num_components\n",
    "\n",
    "# Example usage with the sample dataset\n",
    "plot_explained_variance(pipeline.feature_matrix, threshold=0.95)\n"
   ],
   "id": "66872df202609437",
   "outputs": [
    {
     "name": "stdout",
     "output_type": "stream",
     "text": [
      "[9.92545326e-01 4.78412364e-03 1.55317484e-03 4.70399312e-04\n",
      " 4.46168239e-04 1.14222735e-04 5.89590743e-05 1.55863104e-05\n",
      " 8.76300485e-06 1.41591874e-06 6.34238342e-07 3.77353730e-07\n",
      " 2.88493739e-07 1.79034493e-07 1.02382480e-07 8.29131189e-08\n",
      " 6.62689936e-08 3.17064289e-08 2.64330830e-08 2.40635691e-08\n",
      " 1.32732310e-08 7.55506147e-09 5.98595118e-09 4.43743013e-09\n",
      " 4.35670902e-09 3.31815099e-09 2.73108094e-09 2.25701125e-09\n",
      " 1.92756074e-09 8.48052749e-10 5.97857046e-10 2.60202728e-10\n",
      " 1.16149064e-10 8.42231362e-11 6.37231403e-11 4.50610077e-11\n",
      " 3.65833217e-11 2.94946481e-11 1.38484773e-11 1.09464441e-11\n",
      " 9.47064039e-12 7.70975450e-12 4.97028595e-12 3.59763281e-12\n",
      " 2.86921541e-12 2.47394507e-12 1.16855122e-12 8.39878254e-13\n",
      " 7.02038289e-13 5.62838962e-13 4.31088520e-13 3.56895633e-13\n",
      " 2.80087986e-13 2.45981363e-13 1.50195436e-13 1.01584620e-13\n",
      " 9.75993805e-14 8.32970484e-14 7.86219601e-14 7.67557239e-14\n",
      " 6.67456621e-14 6.02747121e-14 5.26027453e-14 5.15525338e-14\n",
      " 4.74023625e-14 4.37843250e-14 3.58173794e-14 3.11561765e-14\n",
      " 2.93760274e-14 2.79575975e-14 2.52075497e-14 2.20318523e-14\n",
      " 1.89037519e-14 1.67977960e-14 1.67607084e-14 1.52901739e-14\n",
      " 1.43230694e-14 1.38457648e-14 1.36609663e-14 1.20118780e-14\n",
      " 1.13957180e-14 1.10221136e-14 1.06281808e-14 1.03620917e-14\n",
      " 9.76558540e-15 9.72509528e-15 9.51773867e-15 9.04517660e-15\n",
      " 8.88620274e-15 8.61063370e-15 8.41845093e-15 8.31122076e-15\n",
      " 8.27934216e-15 7.50783744e-15 7.49382017e-15 7.34287657e-15\n",
      " 7.21484565e-15 7.14226615e-15 7.11397083e-15 6.96438634e-15\n",
      " 6.66302145e-15 6.64064172e-15 6.29856545e-15 5.96551848e-15\n",
      " 5.93796536e-15 5.90859063e-15 5.79274437e-15 5.77273376e-15\n",
      " 5.58980044e-15 5.36794014e-15 5.36697097e-15 5.27567836e-15\n",
      " 5.18056809e-15 5.10958439e-15 4.97518889e-15 4.97193551e-15\n",
      " 4.91212617e-15 4.84446191e-15 4.83229784e-15 4.75308444e-15\n",
      " 4.67836002e-15 4.67196261e-15 4.57966226e-15 4.54028270e-15\n",
      " 4.49727810e-15 4.42345179e-15 4.40221699e-15 4.28851216e-15\n",
      " 4.26981547e-15 4.22234175e-15 4.09241475e-15 4.08898414e-15\n",
      " 4.02367809e-15 3.87080305e-15 3.83771122e-15 3.83062998e-15\n",
      " 3.82659726e-15 3.68028128e-15 3.63432982e-15 3.61898783e-15\n",
      " 3.60457258e-15 3.59618491e-15 3.56174369e-15 3.52037817e-15\n",
      " 3.40389147e-15 3.38375403e-15 3.34208044e-15 3.34009008e-15\n",
      " 3.33976917e-15 3.33712463e-15 3.32188189e-15 3.28540081e-15\n",
      " 3.28407189e-15 3.27018499e-15 3.22626647e-15 3.21253868e-15\n",
      " 3.21018344e-15 3.19252574e-15 3.18504329e-15 3.09662564e-15\n",
      " 3.08636174e-15 3.07102691e-15 3.06747880e-15 3.01184935e-15\n",
      " 2.99051054e-15 2.98008781e-15 2.96961667e-15 2.96960898e-15\n",
      " 2.90548669e-15 2.86398250e-15 2.84866014e-15 2.84712541e-15\n",
      " 2.83690078e-15 2.81315749e-15 2.81081038e-15 2.77356889e-15\n",
      " 2.73864279e-15 2.72247172e-15 2.71248641e-15 2.65935725e-15\n",
      " 2.60869140e-15 2.60792536e-15 2.60785474e-15 2.60302975e-15\n",
      " 2.56091071e-15 2.51327441e-15 2.50829908e-15 2.50456206e-15\n",
      " 2.48682581e-15 2.47452163e-15 2.44519427e-15 2.43378376e-15\n",
      " 2.41303653e-15 2.39201511e-15 2.38015929e-15 2.37335992e-15\n",
      " 2.36838836e-15 2.35518933e-15 2.35403425e-15 2.34702512e-15\n",
      " 2.32510155e-15 2.30057094e-15 2.27563253e-15 2.27118125e-15\n",
      " 2.23930688e-15 2.21295946e-15 2.20453547e-15 2.16962697e-15\n",
      " 2.16125085e-15 2.13373803e-15 2.13326097e-15 2.11384930e-15\n",
      " 2.09874442e-15 2.09540264e-15 2.08440387e-15 2.07677359e-15\n",
      " 2.06497230e-15 2.06272625e-15 2.02480699e-15 2.00272557e-15\n",
      " 1.97649968e-15 1.96674843e-15 1.94992078e-15 1.94065149e-15\n",
      " 1.89764514e-15 1.89450969e-15 1.85518445e-15 1.84370816e-15\n",
      " 1.83555108e-15 1.83151076e-15 1.80428570e-15 1.78601937e-15\n",
      " 1.73613712e-15 1.71636917e-15 1.71510474e-15 1.70337278e-15\n",
      " 1.62888712e-15 1.62225929e-15 1.61098343e-15 1.56827152e-15\n",
      " 1.55906879e-15 1.51593523e-15 1.49648013e-15 1.49175642e-15\n",
      " 1.45545703e-15 1.34113334e-15 1.14856445e-15 1.08372808e-15\n",
      " 7.11732068e-16 9.14099053e-17 0.00000000e+00 0.00000000e+00]\n",
      "0.9993530238443419\n"
     ]
    },
    {
     "data": {
      "text/plain": [
       "<Figure size 1000x600 with 1 Axes>"
      ],
      "image/png": "[encoded data removed]"
     },
     "metadata": {},
     "output_type": "display_data"
    },
    {
     "data": {
      "text/plain": [
       "1"
      ]
     },
     "execution_count": 28,
     "metadata": {},
     "output_type": "execute_result"
    }
   ],
   "execution_count": 28
  },
  {
   "metadata": {
    "ExecuteTime": {
     "end_time": "2024-11-02T18:40:28.537584Z",
     "start_time": "2024-11-02T18:40:28.189082Z"
    }
   },
   "cell_type": "code",
   "source": [
    "from imblearn.over_sampling import BorderlineSMOTE\n",
    "smote = BorderlineSMOTE(sampling_strategy='auto', random_state=42)\n",
    "\n",
    "pipeline.feature_matrix, pipeline.labels = smote.fit_resample(\n",
    "    pipeline.backup_feature_matrix, pipeline.backup_labels)\n",
    "\n",
    "pca = PCA(n_components=75)\n",
    "\n",
    "pipeline.feature_matrix = pca.fit_transform(pipeline.feature_matrix, pipeline.labels)\n",
    "\n",
    "print(pipeline.backup_feature_matrix.shape)\n",
    "print(pipeline.feature_matrix.shape)\n",
    "\n",
    "print(pipeline.backup_labels.shape)\n",
    "print(pipeline.labels.shape)\n",
    "\n",
    "print(pca.get_feature_names_out())\n",
    "\n",
    "pipeline.fitted_classifiers = {}"
   ],
   "id": "f506ee610dd93262",
   "outputs": [
    {
     "name": "stdout",
     "output_type": "stream",
     "text": [
      "(5082, 252)\n",
      "(8139, 75)\n",
      "(5082,)\n",
      "(8139,)\n",
      "['pca0' 'pca1' 'pca2' 'pca3' 'pca4' 'pca5' 'pca6' 'pca7' 'pca8' 'pca9'\n",
      " 'pca10' 'pca11' 'pca12' 'pca13' 'pca14' 'pca15' 'pca16' 'pca17' 'pca18'\n",
      " 'pca19' 'pca20' 'pca21' 'pca22' 'pca23' 'pca24' 'pca25' 'pca26' 'pca27'\n",
      " 'pca28' 'pca29' 'pca30' 'pca31' 'pca32' 'pca33' 'pca34' 'pca35' 'pca36'\n",
      " 'pca37' 'pca38' 'pca39' 'pca40' 'pca41' 'pca42' 'pca43' 'pca44' 'pca45'\n",
      " 'pca46' 'pca47' 'pca48' 'pca49' 'pca50' 'pca51' 'pca52' 'pca53' 'pca54'\n",
      " 'pca55' 'pca56' 'pca57' 'pca58' 'pca59' 'pca60' 'pca61' 'pca62' 'pca63'\n",
      " 'pca64' 'pca65' 'pca66' 'pca67' 'pca68' 'pca69' 'pca70' 'pca71' 'pca72'\n",
      " 'pca73' 'pca74']\n"
     ]
    }
   ],
   "execution_count": 69
  },
  {
   "metadata": {
    "ExecuteTime": {
     "end_time": "2024-11-02T18:44:17.824664Z",
     "start_time": "2024-11-02T18:40:30.134685Z"
    }
   },
   "cell_type": "code",
   "source": "pipeline.fit_classifiers()",
   "id": "3d662d69f9b7b780",
   "outputs": [
    {
     "name": "stderr",
     "output_type": "stream",
     "text": [
      "INFO:utils.ml:Fitting classifiers...\n",
      "INFO:utils.ml:Fitting classifier: RandomForestClassifier0\n",
      "INFO:utils.ml:Top 10 features for RandomForestClassifier0: [('color_moments_rgb_channel_0_std', 0.054100625179642564), ('gradient_direction_mean', 0.03650740865338034), ('var_rgb_channel_1', 0.024084828454778006), ('color_moments_lab_channel_1_skew', 0.02216311180696273), ('color_moments_rgb_channel_0_mean', 0.020707023687695583), ('color_moments_lab_channel_0_skew', 0.01955605397687244), ('gradient_direction_std', 0.018957814524078298), ('lbp_rad1_bins64_2', 0.018575432869657914), ('lbp_rad1_bins64_1', 0.016588707113038188), ('gradient_magnitude_mean', 0.016493929871498964)]\n",
      "INFO:utils.ml:Fitted classifier: RandomForestClassifier0; Done in 8.977245569229126 seconds\n",
      "INFO:utils.ml:Fitting classifier: RandomForestClassifier1\n",
      "INFO:utils.ml:Top 10 features for RandomForestClassifier1: [('color_moments_rgb_channel_0_std', 0.052382999687906016), ('gradient_direction_mean', 0.038822575585306454), ('color_moments_lab_channel_1_skew', 0.02446978430865304), ('var_rgb_channel_1', 0.023843596777648735), ('color_moments_lab_channel_0_skew', 0.02189899591723094), ('color_moments_rgb_channel_0_mean', 0.019149971551845044), ('lbp_rad1_bins64_2', 0.017633655393089847), ('var_lab_channel_0', 0.017530082746300493), ('gradient_direction_std', 0.017519105584202933), ('gradient_magnitude_mean', 0.017391736565474204)]\n",
      "INFO:utils.ml:Fitted classifier: RandomForestClassifier1; Done in 29.897719860076904 seconds\n",
      "INFO:utils.ml:Fitting classifier: RandomForestClassifier2\n",
      "INFO:utils.ml:Top 10 features for RandomForestClassifier2: [('color_moments_rgb_channel_0_std', 0.053971533293462215), ('gradient_direction_mean', 0.037645525811041664), ('var_rgb_channel_1', 0.02411010527791259), ('color_moments_lab_channel_1_skew', 0.02383873813379026), ('color_moments_lab_channel_0_skew', 0.020188793619603306), ('color_moments_rgb_channel_0_mean', 0.019914978353141276), ('var_lab_channel_0', 0.018511396108182712), ('gradient_magnitude_mean', 0.017306073862904746), ('lbp_rad1_bins64_2', 0.017039320780255197), ('gradient_direction_std', 0.016820145587718605)]\n",
      "INFO:utils.ml:Fitted classifier: RandomForestClassifier2; Done in 9.284803628921509 seconds\n",
      "INFO:utils.ml:Fitting classifier: RandomForestClassifier3\n",
      "INFO:utils.ml:Top 10 features for RandomForestClassifier3: [('color_moments_rgb_channel_0_std', 0.05446237451670695), ('gradient_direction_mean', 0.03850701583864203), ('var_rgb_channel_1', 0.025273679206991397), ('color_moments_lab_channel_1_skew', 0.02353495089783743), ('color_moments_lab_channel_0_skew', 0.020231039478675578), ('color_moments_rgb_channel_0_mean', 0.019369150129238556), ('gradient_magnitude_mean', 0.0189389040206044), ('lbp_rad1_bins64_2', 0.01812950337732046), ('gradient_direction_std', 0.01808031220123485), ('var_lab_channel_0', 0.017487449969172956)]\n",
      "INFO:utils.ml:Fitted classifier: RandomForestClassifier3; Done in 11.593319416046143 seconds\n",
      "INFO:utils.ml:Fitting classifier: RandomForestClassifier4\n",
      "INFO:utils.ml:Top 10 features for RandomForestClassifier4: [('color_moments_rgb_channel_0_std', 0.052704900671003994), ('gradient_direction_mean', 0.03663778816859088), ('color_moments_lab_channel_1_skew', 0.024098239015822635), ('var_rgb_channel_1', 0.024051524493356805), ('color_moments_lab_channel_0_skew', 0.02050848625983275), ('color_moments_rgb_channel_0_mean', 0.019989180118220394), ('var_lab_channel_0', 0.01845800375124923), ('gradient_magnitude_mean', 0.01804800175380065), ('lbp_rad1_bins64_2', 0.017168898498319183), ('gradient_direction_std', 0.01708669950773478)]\n",
      "INFO:utils.ml:Fitted classifier: RandomForestClassifier4; Done in 12.329230070114136 seconds\n",
      "INFO:utils.ml:Fitting classifier: RandomForestClassifier5\n",
      "INFO:utils.ml:Top 10 features for RandomForestClassifier5: [('color_moments_rgb_channel_0_std', 0.05386535897478342), ('gradient_direction_mean', 0.037559041304037095), ('var_rgb_channel_1', 0.02501341786575152), ('color_moments_lab_channel_1_skew', 0.023464487814881967), ('color_moments_lab_channel_0_skew', 0.02040481205146622), ('color_moments_rgb_channel_0_mean', 0.019529286606202387), ('gradient_magnitude_mean', 0.019259231482284624), ('lbp_rad1_bins64_2', 0.018069903625826226), ('gradient_direction_std', 0.018003223256506853), ('var_lab_channel_0', 0.01778958572020433)]\n",
      "INFO:utils.ml:Fitted classifier: RandomForestClassifier5; Done in 18.091482162475586 seconds\n",
      "INFO:utils.ml:Fitting classifier: RandomForestClassifier6\n",
      "INFO:utils.ml:Top 10 features for RandomForestClassifier6: [('color_moments_rgb_channel_0_std', 0.05226289042944598), ('gradient_direction_mean', 0.036550930699623924), ('var_rgb_channel_1', 0.024102350133689845), ('color_moments_lab_channel_1_skew', 0.023740780744016005), ('color_moments_lab_channel_0_skew', 0.021160831924175366), ('color_moments_rgb_channel_0_mean', 0.020158165422963288), ('lbp_rad1_bins64_2', 0.018208921985160643), ('var_lab_channel_0', 0.01799313252537508), ('gradient_magnitude_mean', 0.01777639742040271), ('gradient_direction_std', 0.017351289590908783)]\n",
      "INFO:utils.ml:Fitted classifier: RandomForestClassifier6; Done in 16.37319278717041 seconds\n",
      "INFO:utils.ml:Fitting classifier: RandomForestClassifier7\n",
      "INFO:utils.ml:Top 10 features for RandomForestClassifier7: [('color_moments_rgb_channel_0_std', 0.053192176751169606), ('gradient_direction_mean', 0.037653769207219974), ('var_rgb_channel_1', 0.02491777998452315), ('color_moments_lab_channel_1_skew', 0.023371425674876385), ('color_moments_lab_channel_0_skew', 0.020289651701630013), ('color_moments_rgb_channel_0_mean', 0.019925863369309932), ('gradient_magnitude_mean', 0.01885788717868369), ('gradient_direction_std', 0.01813104965625134), ('lbp_rad1_bins64_2', 0.017874009099944646), ('var_lab_channel_0', 0.017486011736834565)]\n",
      "INFO:utils.ml:Fitted classifier: RandomForestClassifier7; Done in 24.433616161346436 seconds\n",
      "INFO:utils.ml:Fitting classifier: XGBClassifier8\n",
      "INFO:utils.ml:Top 10 features for XGBClassifier8: [('color_moments_rgb_channel_0_std', 0.06110959), ('gradient_direction_mean', 0.04013497), ('var_rgb_channel_1', 0.03264211), ('color_moments_lab_channel_1_skew', 0.027520634), ('var_lab_channel_0', 0.019958768), ('gradient_direction_std', 0.019689005), ('lbp_rad1_bins64_7', 0.019542968), ('color_moments_hsv_channel_2_std', 0.01894902), ('lbp_rad1_bins64_2', 0.018865159), ('gradient_magnitude_mean', 0.018461889)]\n",
      "INFO:utils.ml:Fitted classifier: XGBClassifier8; Done in 6.001443147659302 seconds\n",
      "INFO:utils.ml:Fitting classifier: XGBClassifier9\n",
      "INFO:utils.ml:Top 10 features for XGBClassifier9: [('color_moments_rgb_channel_0_std', 0.06041821), ('gradient_direction_mean', 0.039985705), ('var_rgb_channel_1', 0.031609982), ('color_moments_lab_channel_1_skew', 0.027881358), ('var_lab_channel_0', 0.020049082), ('gradient_direction_std', 0.019770887), ('lbp_rad1_bins64_7', 0.01973715), ('color_moments_hsv_channel_2_std', 0.0189064), ('lbp_rad1_bins64_2', 0.018738458), ('gradient_magnitude_mean', 0.018309917)]\n",
      "INFO:utils.ml:Fitted classifier: XGBClassifier9; Done in 6.807331085205078 seconds\n",
      "INFO:utils.ml:Fitting classifier: XGBClassifier10\n",
      "INFO:utils.ml:Top 10 features for XGBClassifier10: [('color_moments_rgb_channel_0_std', 0.059912425), ('gradient_direction_mean', 0.04031689), ('var_rgb_channel_1', 0.030966973), ('color_moments_lab_channel_1_skew', 0.02745343), ('var_lab_channel_0', 0.020004574), ('lbp_rad1_bins64_7', 0.019759312), ('gradient_direction_std', 0.019697962), ('color_moments_hsv_channel_2_std', 0.018993272), ('gradient_magnitude_mean', 0.018811073), ('lbp_rad1_bins64_2', 0.018696144)]\n",
      "INFO:utils.ml:Fitted classifier: XGBClassifier10; Done in 9.232811689376831 seconds\n",
      "INFO:utils.ml:Fitting classifier: XGBClassifier11\n",
      "INFO:utils.ml:Top 10 features for XGBClassifier11: [('color_moments_rgb_channel_0_std', 0.04918942), ('gradient_direction_mean', 0.030460486), ('var_rgb_channel_1', 0.030093862), ('color_moments_lab_channel_1_skew', 0.024791272), ('gradient_direction_std', 0.023222772), ('lbp_rad1_bins64_2', 0.019628612), ('lbp_rad1_bins64_7', 0.019500991), ('var_lab_channel_0', 0.019499157), ('color_moments_hsv_channel_0_std', 0.018828182), ('color_moments_lab_channel_2_skew', 0.01845175)]\n",
      "INFO:utils.ml:Fitted classifier: XGBClassifier11; Done in 3.3422658443450928 seconds\n",
      "INFO:utils.ml:Fitting classifier: XGBClassifier12\n",
      "INFO:utils.ml:Top 10 features for XGBClassifier12: [('color_moments_rgb_channel_0_std', 0.043128505), ('gradient_direction_mean', 0.030476224), ('var_rgb_channel_1', 0.026576763), ('color_moments_lab_channel_1_skew', 0.023988737), ('lbp_rad1_bins64_2', 0.018404577), ('color_moments_lab_channel_0_skew', 0.018127525), ('var_lab_channel_0', 0.01797991), ('lbp_rad1_bins64_7', 0.017897272), ('color_moments_lab_channel_1_mean', 0.017682644), ('lbp_rad1_bins64_8', 0.01754501)]\n",
      "INFO:utils.ml:Fitted classifier: XGBClassifier12; Done in 8.716420412063599 seconds\n",
      "INFO:utils.ml:Fitting classifier: XGBClassifier13\n",
      "INFO:utils.ml:Top 10 features for XGBClassifier13: [('color_moments_rgb_channel_0_std', 0.05449317), ('gradient_direction_mean', 0.035775997), ('var_rgb_channel_1', 0.028177798), ('color_moments_lab_channel_1_skew', 0.023965906), ('lbp_rad1_bins64_7', 0.020541526), ('lbp_rad1_bins64_8', 0.019574726), ('var_lab_channel_0', 0.019099034), ('lbp_rad1_bins64_2', 0.018974004), ('gradient_direction_std', 0.01883944), ('color_moments_lab_channel_0_skew', 0.017859263)]\n",
      "INFO:utils.ml:Fitted classifier: XGBClassifier13; Done in 6.017592906951904 seconds\n",
      "INFO:utils.ml:Fitting classifier: XGBClassifier14\n",
      "INFO:utils.ml:Top 10 features for XGBClassifier14: [('color_moments_rgb_channel_0_std', 0.056379285), ('gradient_direction_mean', 0.03617026), ('var_rgb_channel_1', 0.028278662), ('color_moments_lab_channel_1_skew', 0.025307802), ('lbp_rad1_bins64_7', 0.019482426), ('var_lab_channel_0', 0.01906057), ('lbp_rad1_bins64_2', 0.01880982), ('lbp_rad1_bins64_8', 0.018609442), ('color_moments_lab_channel_0_skew', 0.018471822), ('gradient_direction_std', 0.018036375)]\n",
      "INFO:utils.ml:Fitted classifier: XGBClassifier14; Done in 7.416962385177612 seconds\n",
      "INFO:utils.ml:Fitting classifier: XGBClassifier15\n",
      "INFO:utils.ml:Top 10 features for XGBClassifier15: [('color_moments_rgb_channel_0_std', 0.048663322), ('gradient_direction_mean', 0.033439767), ('var_rgb_channel_1', 0.02806805), ('color_moments_lab_channel_1_skew', 0.0251974), ('gradient_direction_std', 0.019342879), ('color_moments_lab_channel_0_skew', 0.018759264), ('var_lab_channel_0', 0.01833899), ('lbp_rad1_bins64_7', 0.018163133), ('lbp_rad1_bins64_2', 0.017963067), ('lbp_rad1_bins64_8', 0.017851636)]\n",
      "INFO:utils.ml:Fitted classifier: XGBClassifier15; Done in 13.497730731964111 seconds\n",
      "INFO:utils.ml:Fitting classifier: XGBClassifier16\n",
      "INFO:utils.ml:Top 10 features for XGBClassifier16: [('color_moments_rgb_channel_0_std', 0.04896086), ('gradient_direction_mean', 0.032875054), ('var_rgb_channel_1', 0.027933018), ('color_moments_lab_channel_1_skew', 0.024959877), ('gradient_direction_std', 0.019395791), ('color_moments_lab_channel_0_skew', 0.018468276), ('lbp_rad1_bins64_7', 0.018320268), ('var_lab_channel_0', 0.018115424), ('lbp_rad1_bins64_8', 0.017956275), ('lbp_rad1_bins64_2', 0.017931273)]\n",
      "INFO:utils.ml:Fitted classifier: XGBClassifier16; Done in 11.231961727142334 seconds\n",
      "INFO:utils.ml:Fitting classifier: XGBClassifier17\n",
      "INFO:utils.ml:Top 10 features for XGBClassifier17: [('color_moments_rgb_channel_0_std', 0.052663106), ('gradient_direction_mean', 0.033468097), ('var_rgb_channel_1', 0.026742425), ('color_moments_lab_channel_1_skew', 0.02551834), ('var_lab_channel_0', 0.01896772), ('gradient_direction_std', 0.018925613), ('lbp_rad1_bins64_7', 0.018723004), ('lbp_rad1_bins64_4', 0.018694669), ('lbp_rad1_bins64_8', 0.018417386), ('lbp_rad1_bins64_2', 0.017561235)]\n",
      "INFO:utils.ml:Fitted classifier: XGBClassifier17; Done in 11.504842042922974 seconds\n",
      "INFO:utils.ml:Fitting classifier: XGBClassifier18\n",
      "INFO:utils.ml:Top 10 features for XGBClassifier18: [('color_moments_rgb_channel_0_std', 0.05252329), ('gradient_direction_mean', 0.033295188), ('var_rgb_channel_1', 0.026972052), ('color_moments_lab_channel_1_skew', 0.025647288), ('var_lab_channel_0', 0.019304246), ('lbp_rad1_bins64_4', 0.018941091), ('gradient_direction_std', 0.018805552), ('lbp_rad1_bins64_7', 0.018606577), ('lbp_rad1_bins64_8', 0.01842457), ('color_moments_rgb_channel_1_std', 0.017791351)]\n",
      "INFO:utils.ml:Fitted classifier: XGBClassifier18; Done in 12.890276193618774 seconds\n",
      "INFO:utils.ml:Fitting completed in 227.67 seconds.\n"
     ]
    }
   ],
   "execution_count": 70
  },
  {
   "metadata": {
    "ExecuteTime": {
     "end_time": "2024-11-02T18:48:15.849705Z",
     "start_time": "2024-11-02T18:44:17.837671Z"
    }
   },
   "cell_type": "code",
   "source": [
    "# Load and extract features from the new dataset\n",
    "new_loader = FactoryLoader(path=VAL_PATH, factory=pipeline.loader.get_factory(),\n",
    "                           percentage=percent, batch_size=pipeline.batch_size)\n",
    "new_feature_matrix, new_labels = pipeline.feature_strategy.run(new_loader.get_loader())\n",
    "\n",
    "new_feature_matrix = np.nan_to_num(new_feature_matrix) # Impute nans\n",
    "new_feature_matrix = pca.transform(new_feature_matrix) # Impute nans\n",
    "\n",
    "# Store predictions in the class attribute\n",
    "pipeline.predictions = {\"GT\": new_labels, }\n",
    "for clf_name, clf in pipeline.fitted_classifiers.items():\n",
    "\n",
    "    pipeline.predictions[clf_name] = clf.predict(new_feature_matrix)\n",
    "    if pipeline.verbose:\n",
    "        logger.info(\"Predictions made with classifier: %s\", clf_name)\n"
   ],
   "id": "df2caa638a8015c9",
   "outputs": [
    {
     "name": "stdout",
     "output_type": "stream",
     "text": [
      "Processed 5/27 batches.\n",
      "Processed 10/27 batches.\n",
      "Processed 15/27 batches.\n",
      "Processed 20/27 batches.\n",
      "Processed 25/27 batches.\n"
     ]
    },
    {
     "name": "stderr",
     "output_type": "stream",
     "text": [
      "INFO:utils.utils:Predictions made with classifier: RandomForestClassifier0\n",
      "INFO:utils.utils:Predictions made with classifier: RandomForestClassifier1\n",
      "INFO:utils.utils:Predictions made with classifier: RandomForestClassifier2\n",
      "INFO:utils.utils:Predictions made with classifier: RandomForestClassifier3\n",
      "INFO:utils.utils:Predictions made with classifier: RandomForestClassifier4\n"
     ]
    },
    {
     "name": "stdout",
     "output_type": "stream",
     "text": [
      "Processed 27/27 batches.\n"
     ]
    },
    {
     "name": "stderr",
     "output_type": "stream",
     "text": [
      "INFO:utils.utils:Predictions made with classifier: RandomForestClassifier5\n",
      "INFO:utils.utils:Predictions made with classifier: RandomForestClassifier6\n",
      "INFO:utils.utils:Predictions made with classifier: RandomForestClassifier7\n",
      "INFO:utils.utils:Predictions made with classifier: XGBClassifier8\n",
      "INFO:utils.utils:Predictions made with classifier: XGBClassifier9\n",
      "INFO:utils.utils:Predictions made with classifier: XGBClassifier10\n",
      "INFO:utils.utils:Predictions made with classifier: XGBClassifier11\n",
      "INFO:utils.utils:Predictions made with classifier: XGBClassifier12\n",
      "INFO:utils.utils:Predictions made with classifier: XGBClassifier13\n",
      "INFO:utils.utils:Predictions made with classifier: XGBClassifier14\n",
      "INFO:utils.utils:Predictions made with classifier: XGBClassifier15\n",
      "INFO:utils.utils:Predictions made with classifier: XGBClassifier16\n",
      "INFO:utils.utils:Predictions made with classifier: XGBClassifier17\n",
      "INFO:utils.utils:Predictions made with classifier: XGBClassifier18\n"
     ]
    }
   ],
   "execution_count": 71
  },
  {
   "metadata": {
    "ExecuteTime": {
     "end_time": "2024-11-02T18:48:16.074259Z",
     "start_time": "2024-11-02T18:48:15.910932Z"
    }
   },
   "cell_type": "code",
   "source": [
    "df_pca = pd.DataFrame(data=pipeline.calculate_metrics(avg=\"weighted\"))\n",
    "df_pca = df_pca.T\n",
    "df_pca"
   ],
   "id": "7ad2f81bebf84012",
   "outputs": [
    {
     "name": "stderr",
     "output_type": "stream",
     "text": [
      "INFO:utils.ml:Metrics for classifier GT: {'accuracy': 1.0, 'precision': 1.0, 'recall': 1.0, 'f1': 1.0, 'kappa': 1.0}\n",
      "INFO:utils.ml:Metrics for classifier RandomForestClassifier0: {'accuracy': 0.8181102362204724, 'precision': 0.8099237981593277, 'recall': 0.8181102362204724, 'f1': 0.812140207205229, 'kappa': 0.6673341830370709}\n",
      "INFO:utils.ml:Metrics for classifier RandomForestClassifier1: {'accuracy': 0.8307086614173228, 'precision': 0.8241094396372608, 'recall': 0.8307086614173228, 'f1': 0.8247528306294989, 'kappa': 0.690392822964337}\n",
      "INFO:utils.ml:Metrics for classifier RandomForestClassifier2: {'accuracy': 0.8125984251968504, 'precision': 0.8041926333599244, 'recall': 0.8125984251968504, 'f1': 0.8064114016856745, 'kappa': 0.6571663195909497}\n",
      "INFO:utils.ml:Metrics for classifier RandomForestClassifier3: {'accuracy': 0.8125984251968504, 'precision': 0.8022426976996185, 'recall': 0.8125984251968504, 'f1': 0.8042287308284793, 'kappa': 0.6548976087393361}\n",
      "INFO:utils.ml:Metrics for classifier RandomForestClassifier4: {'accuracy': 0.8212598425196851, 'precision': 0.8109539670049238, 'recall': 0.8212598425196851, 'f1': 0.813582128157024, 'kappa': 0.6716559682555592}\n",
      "INFO:utils.ml:Metrics for classifier RandomForestClassifier5: {'accuracy': 0.8149606299212598, 'precision': 0.804805780066514, 'recall': 0.8149606299212598, 'f1': 0.8062404614599125, 'kappa': 0.6587926209116851}\n",
      "INFO:utils.ml:Metrics for classifier RandomForestClassifier6: {'accuracy': 0.8259842519685039, 'precision': 0.8176986447328162, 'recall': 0.8259842519685039, 'f1': 0.8189985645302934, 'kappa': 0.6805965869002153}\n",
      "INFO:utils.ml:Metrics for classifier RandomForestClassifier7: {'accuracy': 0.8251968503937008, 'precision': 0.816156225161533, 'recall': 0.8251968503937008, 'f1': 0.8165472808055582, 'kappa': 0.6770535517923906}\n",
      "INFO:utils.ml:Metrics for classifier XGBClassifier8: {'accuracy': 0.8401574803149606, 'precision': 0.8316222541100615, 'recall': 0.8401574803149606, 'f1': 0.8340117797219061, 'kappa': 0.7071791703201595}\n",
      "INFO:utils.ml:Metrics for classifier XGBClassifier9: {'accuracy': 0.841732283464567, 'precision': 0.8340531606564415, 'recall': 0.841732283464567, 'f1': 0.8360603085840694, 'kappa': 0.7101970846010626}\n",
      "INFO:utils.ml:Metrics for classifier XGBClassifier10: {'accuracy': 0.84251968503937, 'precision': 0.8347590883428109, 'recall': 0.84251968503937, 'f1': 0.8366724892586153, 'kappa': 0.7113885618969271}\n",
      "INFO:utils.ml:Metrics for classifier XGBClassifier11: {'accuracy': 0.778740157480315, 'precision': 0.7952446789723037, 'recall': 0.778740157480315, 'f1': 0.785993566909294, 'kappa': 0.6108661328029589}\n",
      "INFO:utils.ml:Metrics for classifier XGBClassifier12: {'accuracy': 0.8409448818897638, 'precision': 0.833913763964528, 'recall': 0.8409448818897638, 'f1': 0.8363921377782397, 'kappa': 0.7095098332291582}\n",
      "INFO:utils.ml:Metrics for classifier XGBClassifier13: {'accuracy': 0.8307086614173228, 'precision': 0.8261916768826565, 'recall': 0.8307086614173228, 'f1': 0.8281684765388894, 'kappa': 0.6931870789117665}\n",
      "INFO:utils.ml:Metrics for classifier XGBClassifier14: {'accuracy': 0.8401574803149606, 'precision': 0.8335332564258443, 'recall': 0.8401574803149606, 'f1': 0.8360521992163743, 'kappa': 0.7089457878931563}\n",
      "INFO:utils.ml:Metrics for classifier XGBClassifier15: {'accuracy': 0.8433070866141732, 'precision': 0.8366439276976527, 'recall': 0.8433070866141732, 'f1': 0.8390928670700423, 'kappa': 0.7144345412964286}\n",
      "INFO:utils.ml:Metrics for classifier XGBClassifier16: {'accuracy': 0.841732283464567, 'precision': 0.8356913221686465, 'recall': 0.841732283464567, 'f1': 0.8380358227706315, 'kappa': 0.7121928230290839}\n",
      "INFO:utils.ml:Metrics for classifier XGBClassifier17: {'accuracy': 0.8385826771653543, 'precision': 0.8321360504757935, 'recall': 0.8385826771653543, 'f1': 0.8342777849964534, 'kappa': 0.7054357762873253}\n",
      "INFO:utils.ml:Metrics for classifier XGBClassifier18: {'accuracy': 0.8393700787401575, 'precision': 0.8331859762486602, 'recall': 0.8393700787401575, 'f1': 0.8354652290636406, 'kappa': 0.707035755478662}\n"
     ]
    },
    {
     "name": "stdout",
     "output_type": "stream",
     "text": [
      "cannot access local variable 'report' where it is not associated with a value\n",
      "cannot access local variable 'report' where it is not associated with a value\n",
      "cannot access local variable 'report' where it is not associated with a value\n",
      "cannot access local variable 'report' where it is not associated with a value\n",
      "cannot access local variable 'report' where it is not associated with a value\n",
      "cannot access local variable 'report' where it is not associated with a value\n",
      "cannot access local variable 'report' where it is not associated with a value\n",
      "cannot access local variable 'report' where it is not associated with a value\n",
      "cannot access local variable 'report' where it is not associated with a value\n",
      "cannot access local variable 'report' where it is not associated with a value\n",
      "cannot access local variable 'report' where it is not associated with a value\n",
      "cannot access local variable 'report' where it is not associated with a value\n",
      "cannot access local variable 'report' where it is not associated with a value\n",
      "cannot access local variable 'report' where it is not associated with a value\n",
      "cannot access local variable 'report' where it is not associated with a value\n",
      "cannot access local variable 'report' where it is not associated with a value\n",
      "cannot access local variable 'report' where it is not associated with a value\n",
      "cannot access local variable 'report' where it is not associated with a value\n",
      "cannot access local variable 'report' where it is not associated with a value\n",
      "cannot access local variable 'report' where it is not associated with a value\n"
     ]
    },
    {
     "data": {
      "text/plain": [
       "                         accuracy  precision    recall        f1     kappa\n",
       "GT                       1.000000   1.000000  1.000000  1.000000  1.000000\n",
       "RandomForestClassifier0  0.818110   0.809924  0.818110  0.812140  0.667334\n",
       "RandomForestClassifier1  0.830709   0.824109  0.830709  0.824753  0.690393\n",
       "RandomForestClassifier2  0.812598   0.804193  0.812598  0.806411  0.657166\n",
       "RandomForestClassifier3  0.812598   0.802243  0.812598  0.804229  0.654898\n",
       "RandomForestClassifier4  0.821260   0.810954  0.821260  0.813582  0.671656\n",
       "RandomForestClassifier5  0.814961   0.804806  0.814961  0.806240  0.658793\n",
       "RandomForestClassifier6  0.825984   0.817699  0.825984  0.818999  0.680597\n",
       "RandomForestClassifier7  0.825197   0.816156  0.825197  0.816547  0.677054\n",
       "XGBClassifier8           0.840157   0.831622  0.840157  0.834012  0.707179\n",
       "XGBClassifier9           0.841732   0.834053  0.841732  0.836060  0.710197\n",
       "XGBClassifier10          0.842520   0.834759  0.842520  0.836672  0.711389\n",
       "XGBClassifier11          0.778740   0.795245  0.778740  0.785994  0.610866\n",
       "XGBClassifier12          0.840945   0.833914  0.840945  0.836392  0.709510\n",
       "XGBClassifier13          0.830709   0.826192  0.830709  0.828168  0.693187\n",
       "XGBClassifier14          0.840157   0.833533  0.840157  0.836052  0.708946\n",
       "XGBClassifier15          0.843307   0.836644  0.843307  0.839093  0.714435\n",
       "XGBClassifier16          0.841732   0.835691  0.841732  0.838036  0.712193\n",
       "XGBClassifier17          0.838583   0.832136  0.838583  0.834278  0.705436\n",
       "XGBClassifier18          0.839370   0.833186  0.839370  0.835465  0.707036"
      ],
      "text/html": [
       "<div>\n",
       "<style scoped>\n",
       "    .dataframe tbody tr th:only-of-type {\n",
       "        vertical-align: middle;\n",
       "    }\n",
       "\n",
       "    .dataframe tbody tr th {\n",
       "        vertical-align: top;\n",
       "    }\n",
       "\n",
       "    .dataframe thead th {\n",
       "        text-align: right;\n",
       "    }\n",
       "</style>\n",
       "<table border=\"1\" class=\"dataframe\">\n",
       "  <thead>\n",
       "    <tr style=\"text-align: right;\">\n",
       "      <th></th>\n",
       "      <th>accuracy</th>\n",
       "      <th>precision</th>\n",
       "      <th>recall</th>\n",
       "      <th>f1</th>\n",
       "      <th>kappa</th>\n",
       "    </tr>\n",
       "  </thead>\n",
       "  <tbody>\n",
       "    <tr>\n",
       "      <th>GT</th>\n",
       "      <td>1.000000</td>\n",
       "      <td>1.000000</td>\n",
       "      <td>1.000000</td>\n",
       "      <td>1.000000</td>\n",
       "      <td>1.000000</td>\n",
       "    </tr>\n",
       "    <tr>\n",
       "      <th>RandomForestClassifier0</th>\n",
       "      <td>0.818110</td>\n",
       "      <td>0.809924</td>\n",
       "      <td>0.818110</td>\n",
       "      <td>0.812140</td>\n",
       "      <td>0.667334</td>\n",
       "    </tr>\n",
       "    <tr>\n",
       "      <th>RandomForestClassifier1</th>\n",
       "      <td>0.830709</td>\n",
       "      <td>0.824109</td>\n",
       "      <td>0.830709</td>\n",
       "      <td>0.824753</td>\n",
       "      <td>0.690393</td>\n",
       "    </tr>\n",
       "    <tr>\n",
       "      <th>RandomForestClassifier2</th>\n",
       "      <td>0.812598</td>\n",
       "      <td>0.804193</td>\n",
       "      <td>0.812598</td>\n",
       "      <td>0.806411</td>\n",
       "      <td>0.657166</td>\n",
       "    </tr>\n",
       "    <tr>\n",
       "      <th>RandomForestClassifier3</th>\n",
       "      <td>0.812598</td>\n",
       "      <td>0.802243</td>\n",
       "      <td>0.812598</td>\n",
       "      <td>0.804229</td>\n",
       "      <td>0.654898</td>\n",
       "    </tr>\n",
       "    <tr>\n",
       "      <th>RandomForestClassifier4</th>\n",
       "      <td>0.821260</td>\n",
       "      <td>0.810954</td>\n",
       "      <td>0.821260</td>\n",
       "      <td>0.813582</td>\n",
       "      <td>0.671656</td>\n",
       "    </tr>\n",
       "    <tr>\n",
       "      <th>RandomForestClassifier5</th>\n",
       "      <td>0.814961</td>\n",
       "      <td>0.804806</td>\n",
       "      <td>0.814961</td>\n",
       "      <td>0.806240</td>\n",
       "      <td>0.658793</td>\n",
       "    </tr>\n",
       "    <tr>\n",
       "      <th>RandomForestClassifier6</th>\n",
       "      <td>0.825984</td>\n",
       "      <td>0.817699</td>\n",
       "      <td>0.825984</td>\n",
       "      <td>0.818999</td>\n",
       "      <td>0.680597</td>\n",
       "    </tr>\n",
       "    <tr>\n",
       "      <th>RandomForestClassifier7</th>\n",
       "      <td>0.825197</td>\n",
       "      <td>0.816156</td>\n",
       "      <td>0.825197</td>\n",
       "      <td>0.816547</td>\n",
       "      <td>0.677054</td>\n",
       "    </tr>\n",
       "    <tr>\n",
       "      <th>XGBClassifier8</th>\n",
       "      <td>0.840157</td>\n",
       "      <td>0.831622</td>\n",
       "      <td>0.840157</td>\n",
       "      <td>0.834012</td>\n",
       "      <td>0.707179</td>\n",
       "    </tr>\n",
       "    <tr>\n",
       "      <th>XGBClassifier9</th>\n",
       "      <td>0.841732</td>\n",
       "      <td>0.834053</td>\n",
       "      <td>0.841732</td>\n",
       "      <td>0.836060</td>\n",
       "      <td>0.710197</td>\n",
       "    </tr>\n",
       "    <tr>\n",
       "      <th>XGBClassifier10</th>\n",
       "      <td>0.842520</td>\n",
       "      <td>0.834759</td>\n",
       "      <td>0.842520</td>\n",
       "      <td>0.836672</td>\n",
       "      <td>0.711389</td>\n",
       "    </tr>\n",
       "    <tr>\n",
       "      <th>XGBClassifier11</th>\n",
       "      <td>0.778740</td>\n",
       "      <td>0.795245</td>\n",
       "      <td>0.778740</td>\n",
       "      <td>0.785994</td>\n",
       "      <td>0.610866</td>\n",
       "    </tr>\n",
       "    <tr>\n",
       "      <th>XGBClassifier12</th>\n",
       "      <td>0.840945</td>\n",
       "      <td>0.833914</td>\n",
       "      <td>0.840945</td>\n",
       "      <td>0.836392</td>\n",
       "      <td>0.709510</td>\n",
       "    </tr>\n",
       "    <tr>\n",
       "      <th>XGBClassifier13</th>\n",
       "      <td>0.830709</td>\n",
       "      <td>0.826192</td>\n",
       "      <td>0.830709</td>\n",
       "      <td>0.828168</td>\n",
       "      <td>0.693187</td>\n",
       "    </tr>\n",
       "    <tr>\n",
       "      <th>XGBClassifier14</th>\n",
       "      <td>0.840157</td>\n",
       "      <td>0.833533</td>\n",
       "      <td>0.840157</td>\n",
       "      <td>0.836052</td>\n",
       "      <td>0.708946</td>\n",
       "    </tr>\n",
       "    <tr>\n",
       "      <th>XGBClassifier15</th>\n",
       "      <td>0.843307</td>\n",
       "      <td>0.836644</td>\n",
       "      <td>0.843307</td>\n",
       "      <td>0.839093</td>\n",
       "      <td>0.714435</td>\n",
       "    </tr>\n",
       "    <tr>\n",
       "      <th>XGBClassifier16</th>\n",
       "      <td>0.841732</td>\n",
       "      <td>0.835691</td>\n",
       "      <td>0.841732</td>\n",
       "      <td>0.838036</td>\n",
       "      <td>0.712193</td>\n",
       "    </tr>\n",
       "    <tr>\n",
       "      <th>XGBClassifier17</th>\n",
       "      <td>0.838583</td>\n",
       "      <td>0.832136</td>\n",
       "      <td>0.838583</td>\n",
       "      <td>0.834278</td>\n",
       "      <td>0.705436</td>\n",
       "    </tr>\n",
       "    <tr>\n",
       "      <th>XGBClassifier18</th>\n",
       "      <td>0.839370</td>\n",
       "      <td>0.833186</td>\n",
       "      <td>0.839370</td>\n",
       "      <td>0.835465</td>\n",
       "      <td>0.707036</td>\n",
       "    </tr>\n",
       "  </tbody>\n",
       "</table>\n",
       "</div>"
      ]
     },
     "execution_count": 72,
     "metadata": {},
     "output_type": "execute_result"
    }
   ],
   "execution_count": 72
  },
  {
   "metadata": {
    "ExecuteTime": {
     "end_time": "2024-11-02T18:48:54.323121Z",
     "start_time": "2024-11-02T18:48:54.308491Z"
    }
   },
   "cell_type": "code",
   "source": "confusion_matrix(pipeline.predictions[\"GT\"], pipeline.predictions[\"XGBClassifier15\"])",
   "id": "9f2df13b1e91368a",
   "outputs": [
    {
     "data": {
      "text/plain": [
       "array([[428,  53,  17],\n",
       "       [ 53, 608,  17],\n",
       "       [ 35,  24,  35]], dtype=int64)"
      ]
     },
     "execution_count": 76,
     "metadata": {},
     "output_type": "execute_result"
    }
   ],
   "execution_count": 76
  },
  {
   "metadata": {},
   "cell_type": "code",
   "outputs": [],
   "execution_count": null,
   "source": "",
   "id": "bff8e58540bc354a"
  }
 ],
 "metadata": {
  "kernelspec": {
   "display_name": "Python 3",
   "language": "python",
   "name": "python3"
  },
  "language_info": {
   "codemirror_mode": {
    "name": "ipython",
    "version": 2
   },
   "file_extension": ".py",
   "mimetype": "text/x-python",
   "name": "python",
   "nbconvert_exporter": "python",
   "pygments_lexer": "ipython2",
   "version": "2.7.6"
  }
 },
 "nbformat": 4,
 "nbformat_minor": 5
}

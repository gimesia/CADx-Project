{
 "cells": [
  {
   "cell_type": "code",
   "id": "initial_id",
   "metadata": {
    "collapsed": true,
    "ExecuteTime": {
     "end_time": "2024-11-02T01:54:45.843295Z",
     "start_time": "2024-11-02T01:54:22.362918Z"
    }
   },
   "source": [
    "import numpy as np\n",
    "from sklearn.metrics import confusion_matrix, recall_score, cohen_kappa_score\n",
    "\n",
    "from utils.loader import FactoryLoader\n",
    "from utils.ml import MLPipeline\n",
    "from utils.preprocessing import PreprocessingFactory\n",
    "from utils.feature_extraction import *\n",
    "from utils.utils import *\n",
    "\n",
    "VAL_PATH = r\"C:\\Users\\gimes\\Src\\repos\\CADx-Project\\dataset\\multiclass\\val\"\n",
    "TRAIN_PATH = r\"C:\\Users\\gimes\\Src\\repos\\CADx-Project\\dataset\\multiclass\\train\""
   ],
   "outputs": [],
   "execution_count": 1
  },
  {
   "metadata": {
    "ExecuteTime": {
     "end_time": "2024-11-02T01:54:46.214824Z",
     "start_time": "2024-11-02T01:54:46.017218Z"
    }
   },
   "cell_type": "code",
   "source": [
    "percent = 100\n",
    "random = False\n",
    "batch_size = 48\n",
    "\n",
    "# Initialize the FactoryLoader\n",
    "factory = PreprocessingFactory()\n",
    "factory.gaussian_smoothing(3)\n",
    "factory.clahe(clip_limit=1.5)\n",
    "factory.pad2square(fill=np.nan)\n",
    "factory.resize((150,150))\n",
    "factory.hair_removal()\n",
    "factory.normalize2float()\n",
    "\n",
    "factory_loader = FactoryLoader(path=VAL_PATH, batch_size=batch_size, factory=factory, percentage=percent, shuffle=random)\n",
    "\n",
    "# Create the feature extraction pipeline strategy and add desired features\n",
    "strategy = FeatureExtractionStrategy()\n",
    "\n",
    "strategy.add_extractor(GradientExtractor())   # Add variance feature\n",
    "\n",
    "# strategy.add_extractor(MeanExtractor())  # Add mean feature\n",
    "# strategy.add_extractor(StdExtractor())   # Add standard deviation feature\n",
    "strategy.add_extractor(VarExtractor())   # Add variance feature\n",
    "strategy.add_extractor(ColorMomentsExtractor())   # Add color moments feature\n",
    "\n",
    "\n",
    "# strategy.add_extractor(MeanExtractor(\"lab\"))  # Add mean feature\n",
    "# strategy.add_extractor(StdExtractor(\"lab\"))   # Add standard deviation feature\n",
    "strategy.add_extractor(VarExtractor(\"lab\"))   # Add variance feature\n",
    "strategy.add_extractor(ColorMomentsExtractor(\"lab\"))   # Add color moments feature\n",
    "\n",
    "# strategy.add_extractor(MeanExtractor(\"hsv\"))  # Add mean feature\n",
    "# strategy.add_extractor(StdExtractor(\"hsv\"))   # Add standard deviation feature\n",
    "strategy.add_extractor(VarExtractor(\"hsv\"))   # Add variance feature\n",
    "strategy.add_extractor(ColorMomentsExtractor(\"hsv\"))   # Add color moments feature\n",
    "\n",
    "strategy.add_extractor(LBPExtractor(radius=1, n_points=16))\n",
    "strategy.add_extractor(LBPExtractor(radius=2, n_points=16))\n",
    "strategy.add_extractor(LBPExtractor(radius=3, n_points=16))\n",
    "strategy.add_extractor(LBPExtractor(radius=1, n_points=32))\n",
    "strategy.add_extractor(LBPExtractor(radius=2, n_points=32))\n",
    "strategy.add_extractor(LBPExtractor(radius=3, n_points=32))\n",
    "strategy.add_extractor(LBPExtractor(radius=1, n_points=64))\n",
    "strategy.add_extractor(LBPExtractor(radius=2, n_points=64))\n",
    "strategy.add_extractor(LBPExtractor(radius=3, n_points=64))\n",
    "\n",
    "strategy.add_extractor(GLCMExtractor(properties=['contrast', 'dissimilarity', 'homogeneity', 'energy', 'correlation',]))\n",
    "\n",
    "pipeline = MLPipeline(dataset_path=TRAIN_PATH, preprocessing_factory=factory, feature_strategy=strategy, classifiers=[], percentage=percent, verbose=True, shuffle=random, batch_size=batch_size)"
   ],
   "id": "d7c81ba220d9e517",
   "outputs": [
    {
     "name": "stderr",
     "output_type": "stream",
     "text": [
      "INFO:utils.ml:MLPipeline initialized with dataset path: C:\\Users\\gimes\\Src\\repos\\CADx-Project\\dataset\\multiclass\\train\n",
      "INFO:utils.ml:Preprocessing steps\n"
     ]
    }
   ],
   "execution_count": 2
  },
  {
   "metadata": {
    "ExecuteTime": {
     "end_time": "2024-11-02T02:13:54.439154Z",
     "start_time": "2024-11-02T01:54:46.706114Z"
    }
   },
   "cell_type": "code",
   "source": [
    "pipeline.feature_matrix = None\n",
    "pipeline.run_feature_extraction()"
   ],
   "id": "21f510c52296a049",
   "outputs": [
    {
     "name": "stderr",
     "output_type": "stream",
     "text": [
      "INFO:utils.ml:Running feature extraction...\n"
     ]
    },
    {
     "name": "stdout",
     "output_type": "stream",
     "text": [
      "Processed 5/106 batches.\n",
      "Processed 10/106 batches.\n",
      "Processed 15/106 batches.\n",
      "Processed 20/106 batches.\n",
      "Processed 25/106 batches.\n",
      "Processed 30/106 batches.\n",
      "Processed 35/106 batches.\n",
      "Processed 40/106 batches.\n",
      "Processed 45/106 batches.\n",
      "Processed 50/106 batches.\n",
      "Processed 55/106 batches.\n",
      "Processed 60/106 batches.\n",
      "Processed 65/106 batches.\n",
      "Processed 70/106 batches.\n",
      "Processed 75/106 batches.\n",
      "Processed 80/106 batches.\n",
      "Processed 85/106 batches.\n",
      "Processed 90/106 batches.\n",
      "Processed 95/106 batches.\n",
      "Processed 100/106 batches.\n",
      "Processed 105/106 batches.\n"
     ]
    },
    {
     "name": "stderr",
     "output_type": "stream",
     "text": [
      "INFO:utils.ml:Feature extraction completed. Extracted 5082 features.\n"
     ]
    },
    {
     "name": "stdout",
     "output_type": "stream",
     "text": [
      "Processed 106/106 batches.\n"
     ]
    }
   ],
   "execution_count": 3
  },
  {
   "metadata": {
    "ExecuteTime": {
     "end_time": "2024-11-02T02:13:54.523334Z",
     "start_time": "2024-11-02T02:13:54.450609Z"
    }
   },
   "cell_type": "code",
   "source": [
    "from xgboost import XGBClassifier\n",
    "from sklearn.ensemble import RandomForestClassifier\n",
    "\n",
    "rf1 = RandomForestClassifier(n_estimators=100)\n",
    "rf2 = RandomForestClassifier(n_estimators=150)\n",
    "rf3 = RandomForestClassifier(n_estimators=250)\n",
    "\n",
    "# Random Forest with Class Weight Balancing\n",
    "rf4 = RandomForestClassifier(n_estimators=100, class_weight=\"balanced\", random_state=42)\n",
    "# Random Forest with Feature Selection via max_features\n",
    "rf5 = RandomForestClassifier(n_estimators=100, max_features='sqrt', random_state=42)\n",
    "# Random Forest with Min Samples per Leaf\n",
    "rf6 = RandomForestClassifier(n_estimators=100, min_samples_leaf=5, random_state=42)\n",
    "# Random Forest with Out-of-Bag Error (OOB)\n",
    "rf7 = RandomForestClassifier(n_estimators=100, oob_score=True, random_state=42)\n",
    "# Random Forest with Bootstrap Disabled\n",
    "rf8 = RandomForestClassifier(n_estimators=100, bootstrap=False, random_state=42)\n",
    "# Random Forest with High Number of Trees and Limited Depth\n",
    "rf9 = RandomForestClassifier(n_estimators=100, max_depth=5, random_state=42)\n",
    "\n",
    "xgb1 = XGBClassifier(n_estimators=350)\n",
    "xgb2 = XGBClassifier(n_estimators=450)\n",
    "xgb3 = XGBClassifier(n_estimators=550)\n",
    "xgb4 = XGBClassifier(learning_rate=0.05, n_estimators=400, max_depth=3, min_child_weight=1, subsample=0.8, colsample_bytree=0.8)\n",
    "xgb5 = XGBClassifier(learning_rate=0.1, n_estimators=400, max_depth=7, min_child_weight=3, subsample=0.7, colsample_bytree=0.7)\n",
    "xgb6 = XGBClassifier(learning_rate=0.1, n_estimators=400, max_depth=5, min_child_weight=5, gamma=0.2, subsample=0.8, colsample_bytree=0.8)\n",
    "xgb7 = XGBClassifier(learning_rate=0.1, n_estimators=400, max_depth=5, min_child_weight=1, subsample=0.8, colsample_bytree=0.8, reg_alpha=0.1, reg_lambda=0.1)\n",
    "xgb8 = XGBClassifier(learning_rate=0.05, n_estimators=500, max_depth=7, min_child_weight=1, subsample=0.8, colsample_bytree=0.8)\n",
    "xgb9 = XGBClassifier(learning_rate=0.05, n_estimators=400, max_depth=7, min_child_weight=1, subsample=0.8, colsample_bytree=0.8)\n",
    "xgb10 = XGBClassifier(learning_rate=0.1, n_estimators=400, max_depth=7, min_child_weight=1, subsample=0.8, colsample_bytree=0.8)\n",
    "xgb11 = XGBClassifier(learning_rate=0.1, n_estimators=500, max_depth=7, min_child_weight=1, subsample=0.8, colsample_bytree=0.8)\n",
    "\n",
    "\n",
    "pipeline.classifiers = [rf1, rf2, rf3, rf4, rf5, rf6, rf7, rf8, rf9,\n",
    "                        # svm1, svm2, svm3, svm6, svm7, svm8,\n",
    "                        xgb1, xgb2, xgb3, xgb4, xgb5, xgb6, xgb7, xgb8, xgb9, xgb10, xgb11]\n",
    "pipeline.fitted_classifiers = {}"
   ],
   "id": "74470ba20848a156",
   "outputs": [],
   "execution_count": 4
  },
  {
   "metadata": {
    "ExecuteTime": {
     "end_time": "2024-11-02T02:20:04.209026Z",
     "start_time": "2024-11-02T02:13:54.544680Z"
    }
   },
   "cell_type": "code",
   "source": "pipeline.fit_classifiers()",
   "id": "5269ac4d3392fbae",
   "outputs": [
    {
     "name": "stderr",
     "output_type": "stream",
     "text": [
      "INFO:utils.ml:Fitting classifiers...\n",
      "INFO:utils.ml:Fitting classifier: RandomForestClassifier0\n",
      "INFO:utils.ml:Top 10 features for RandomForestClassifier0: [('color_moments_hsv_channel_0_mean', 0.029587400504046887), ('color_moments_lab_channel_0_skew', 0.02591669611055424), ('var_rgb_channel_2', 0.017263259389507683), ('var_lab_channel_0', 0.016797216260174656), ('color_moments_rgb_channel_1_mean', 0.011146676213786112), ('gradient_magnitude_std', 0.010253598383538523), ('var_rgb_channel_0', 0.00945869122532415), ('color_moments_lab_channel_1_std', 0.009171744156913707), ('color_moments_rgb_channel_0_std', 0.009099427626501172), ('color_moments_rgb_channel_1_skew', 0.008610169997555343)]\n",
      "INFO:utils.ml:Fitted classifier: RandomForestClassifier0; Done in 6.634038925170898 seconds\n",
      "INFO:utils.ml:Fitting classifier: RandomForestClassifier1\n",
      "INFO:utils.ml:Top 10 features for RandomForestClassifier1: [('color_moments_hsv_channel_0_mean', 0.02936956914735586), ('color_moments_lab_channel_0_skew', 0.0288075541584164), ('var_rgb_channel_2', 0.014133291190514761), ('var_lab_channel_0', 0.013326781844423161), ('var_rgb_channel_0', 0.011692984051298556), ('gradient_magnitude_std', 0.010513926197622541), ('color_moments_rgb_channel_1_mean', 0.010497422886172994), ('color_moments_lab_channel_0_mean', 0.010260413452854323), ('color_moments_lab_channel_1_std', 0.009543136753415527), ('color_moments_rgb_channel_0_skew', 0.009339861242630965)]\n",
      "INFO:utils.ml:Fitted classifier: RandomForestClassifier1; Done in 10.113292694091797 seconds\n",
      "INFO:utils.ml:Fitting classifier: RandomForestClassifier2\n",
      "INFO:utils.ml:Top 10 features for RandomForestClassifier2: [('color_moments_lab_channel_0_skew', 0.03277297483005802), ('color_moments_hsv_channel_0_mean', 0.032417173393991396), ('var_rgb_channel_2', 0.014246710117928621), ('var_lab_channel_0', 0.012658633673829394), ('color_moments_rgb_channel_1_mean', 0.011077636612231174), ('gradient_magnitude_std', 0.01047882605440397), ('color_moments_rgb_channel_1_skew', 0.00964115992480285), ('var_rgb_channel_0', 0.009603723038181276), ('color_moments_rgb_channel_0_std', 0.009096984253636916), ('color_moments_rgb_channel_0_skew', 0.0090525410047732)]\n",
      "INFO:utils.ml:Fitted classifier: RandomForestClassifier2; Done in 17.154343605041504 seconds\n",
      "INFO:utils.ml:Fitting classifier: RandomForestClassifier3\n",
      "INFO:utils.ml:Top 10 features for RandomForestClassifier3: [('color_moments_lab_channel_0_skew', 0.02259525815805904), ('color_moments_hsv_channel_0_mean', 0.021877613227011143), ('var_lab_channel_0', 0.010546503037213302), ('var_rgb_channel_2', 0.009989770922617318), ('color_moments_rgb_channel_1_mean', 0.008398616186425742), ('gradient_magnitude_std', 0.0075301749616383876), ('color_moments_rgb_channel_2_mean', 0.007390909596771773), ('var_lab_channel_2', 0.007384573507499079), ('color_moments_rgb_channel_0_skew', 0.007147611259099642), ('color_moments_lab_channel_1_std', 0.007113476853905609)]\n",
      "INFO:utils.ml:Fitted classifier: RandomForestClassifier3; Done in 6.783679723739624 seconds\n",
      "INFO:utils.ml:Fitting classifier: RandomForestClassifier4\n",
      "INFO:utils.ml:Top 10 features for RandomForestClassifier4: [('color_moments_hsv_channel_0_mean', 0.03691107566567631), ('color_moments_lab_channel_0_skew', 0.03548251331831728), ('var_rgb_channel_2', 0.015842773851710464), ('gradient_magnitude_std', 0.011711257597250058), ('var_lab_channel_0', 0.011349216523534362), ('color_moments_rgb_channel_1_skew', 0.009533536027798419), ('color_moments_rgb_channel_0_std', 0.009531209283757544), ('var_rgb_channel_1', 0.009377522010164285), ('var_lab_channel_2', 0.00870632809170481), ('color_moments_rgb_channel_1_mean', 0.008634036211230621)]\n",
      "INFO:utils.ml:Fitted classifier: RandomForestClassifier4; Done in 6.758100748062134 seconds\n",
      "INFO:utils.ml:Fitting classifier: RandomForestClassifier5\n",
      "INFO:utils.ml:Top 10 features for RandomForestClassifier5: [('color_moments_hsv_channel_0_mean', 0.0534660482974497), ('color_moments_lab_channel_0_skew', 0.039739759810172734), ('var_rgb_channel_2', 0.018594509749869655), ('gradient_magnitude_std', 0.015420698952450192), ('var_lab_channel_0', 0.015255720737355894), ('color_moments_rgb_channel_1_mean', 0.013189716615027205), ('var_rgb_channel_0', 0.011191821385480945), ('var_rgb_channel_1', 0.010913703746924519), ('var_lab_channel_2', 0.010713447219623529), ('color_moments_lab_channel_1_std', 0.010650921579962266)]\n",
      "INFO:utils.ml:Fitted classifier: RandomForestClassifier5; Done in 5.693060636520386 seconds\n",
      "INFO:utils.ml:Fitting classifier: RandomForestClassifier6\n",
      "INFO:utils.ml:Top 10 features for RandomForestClassifier6: [('color_moments_hsv_channel_0_mean', 0.03691107566567631), ('color_moments_lab_channel_0_skew', 0.03548251331831728), ('var_rgb_channel_2', 0.015842773851710464), ('gradient_magnitude_std', 0.011711257597250058), ('var_lab_channel_0', 0.011349216523534362), ('color_moments_rgb_channel_1_skew', 0.009533536027798419), ('color_moments_rgb_channel_0_std', 0.009531209283757544), ('var_rgb_channel_1', 0.009377522010164285), ('var_lab_channel_2', 0.00870632809170481), ('color_moments_rgb_channel_1_mean', 0.008634036211230621)]\n",
      "INFO:utils.ml:Fitted classifier: RandomForestClassifier6; Done in 6.996166706085205 seconds\n",
      "INFO:utils.ml:Fitting classifier: RandomForestClassifier7\n",
      "INFO:utils.ml:Top 10 features for RandomForestClassifier7: [('color_moments_lab_channel_0_skew', 0.03571038586046767), ('color_moments_hsv_channel_0_mean', 0.0341835422187766), ('var_rgb_channel_2', 0.01803812028359486), ('var_lab_channel_0', 0.012976751457050836), ('gradient_magnitude_std', 0.011044601100497766), ('color_moments_rgb_channel_1_skew', 0.009827758831126377), ('color_moments_lab_channel_1_std', 0.009725673221770788), ('var_rgb_channel_0', 0.009569627005701213), ('color_moments_rgb_channel_0_std', 0.00920034341823668), ('color_moments_rgb_channel_1_mean', 0.009066165254604385)]\n",
      "INFO:utils.ml:Fitted classifier: RandomForestClassifier7; Done in 11.021618604660034 seconds\n",
      "INFO:utils.ml:Fitting classifier: RandomForestClassifier8\n",
      "INFO:utils.ml:Top 10 features for RandomForestClassifier8: [('color_moments_hsv_channel_0_mean', 0.07752239970229856), ('color_moments_lab_channel_0_skew', 0.0703217200071199), ('var_rgb_channel_2', 0.03928542893290148), ('gradient_magnitude_std', 0.023711045010650942), ('color_moments_rgb_channel_0_std', 0.02323433300223638), ('var_lab_channel_0', 0.02276861297480172), ('color_moments_rgb_channel_1_mean', 0.019698197366203502), ('color_moments_rgb_channel_1_skew', 0.017043733894098814), ('var_rgb_channel_0', 0.016516706313475994), ('color_moments_hsv_channel_1_std', 0.015510275106472344)]\n",
      "INFO:utils.ml:Fitted classifier: RandomForestClassifier8; Done in 3.671679735183716 seconds\n",
      "INFO:utils.ml:Fitting classifier: XGBClassifier9\n",
      "INFO:utils.ml:Top 10 features for XGBClassifier9: [('lbp_rad1_bins64_58', 0.01910794), ('color_moments_lab_channel_0_skew', 0.018317375), ('lbp_rad2_bins16_4', 0.017902518), ('lbp_rad1_bins16_15', 0.012788092), ('lbp_rad2_bins32_0', 0.012644062), ('lbp_rad1_bins16_16', 0.01135836), ('lbp_rad2_bins16_13', 0.009639149), ('lbp_rad2_bins32_27', 0.009407662), ('var_rgb_channel_2', 0.0084607955), ('color_moments_lab_channel_1_mean', 0.006776537)]\n",
      "INFO:utils.ml:Fitted classifier: XGBClassifier9; Done in 19.543040990829468 seconds\n",
      "INFO:utils.ml:Fitting classifier: XGBClassifier10\n",
      "INFO:utils.ml:Top 10 features for XGBClassifier10: [('lbp_rad1_bins64_58', 0.018836193), ('lbp_rad2_bins16_4', 0.018217465), ('color_moments_lab_channel_0_skew', 0.017981127), ('lbp_rad1_bins16_15', 0.013096601), ('lbp_rad2_bins32_0', 0.013096342), ('lbp_rad1_bins16_16', 0.01231549), ('lbp_rad2_bins16_13', 0.009457988), ('lbp_rad2_bins32_27', 0.009068863), ('var_rgb_channel_2', 0.00827408), ('color_moments_lab_channel_1_mean', 0.0070810025)]\n",
      "INFO:utils.ml:Fitted classifier: XGBClassifier10; Done in 24.604097366333008 seconds\n",
      "INFO:utils.ml:Fitting classifier: XGBClassifier11\n",
      "INFO:utils.ml:Top 10 features for XGBClassifier11: [('lbp_rad2_bins16_4', 0.019009786), ('lbp_rad1_bins64_58', 0.018741313), ('color_moments_lab_channel_0_skew', 0.017836148), ('lbp_rad2_bins32_0', 0.013672192), ('lbp_rad1_bins16_15', 0.013146889), ('lbp_rad1_bins16_16', 0.012583285), ('lbp_rad2_bins16_13', 0.008419439), ('var_rgb_channel_2', 0.00832156), ('lbp_rad2_bins32_27', 0.007864323), ('color_moments_lab_channel_1_mean', 0.0069945497)]\n",
      "INFO:utils.ml:Fitted classifier: XGBClassifier11; Done in 25.340009927749634 seconds\n",
      "INFO:utils.ml:Fitting classifier: XGBClassifier12\n",
      "INFO:utils.ml:Top 10 features for XGBClassifier12: [('color_moments_hsv_channel_0_mean', 0.017604763), ('color_moments_lab_channel_0_skew', 0.015601684), ('lbp_rad1_bins64_58', 0.01466781), ('lbp_rad2_bins32_0', 0.012276106), ('lbp_rad2_bins16_4', 0.010004188), ('lbp_rad1_bins64_47', 0.009619624), ('lbp_rad1_bins64_63', 0.008159776), ('lbp_rad1_bins32_23', 0.006730916), ('lbp_rad1_bins32_21', 0.0065187607), ('lbp_rad1_bins16_16', 0.006355848)]\n",
      "INFO:utils.ml:Fitted classifier: XGBClassifier12; Done in 12.247416973114014 seconds\n",
      "INFO:utils.ml:Fitting classifier: XGBClassifier13\n",
      "INFO:utils.ml:Top 10 features for XGBClassifier13: [('color_moments_hsv_channel_0_mean', 0.014929192), ('lbp_rad1_bins64_58', 0.013210208), ('color_moments_lab_channel_0_skew', 0.011828162), ('lbp_rad2_bins16_4', 0.0117296595), ('lbp_rad2_bins32_0', 0.009330607), ('var_rgb_channel_2', 0.008380614), ('lbp_rad1_bins16_16', 0.00698953), ('lbp_rad1_bins16_15', 0.006838897), ('var_lab_channel_0', 0.006275084), ('color_moments_lab_channel_1_mean', 0.0060871076)]\n",
      "INFO:utils.ml:Fitted classifier: XGBClassifier13; Done in 27.185555458068848 seconds\n",
      "INFO:utils.ml:Fitting classifier: XGBClassifier14\n",
      "INFO:utils.ml:Top 10 features for XGBClassifier14: [('color_moments_hsv_channel_0_mean', 0.016432121), ('color_moments_lab_channel_0_skew', 0.014059654), ('lbp_rad1_bins64_58', 0.012230225), ('lbp_rad2_bins16_4', 0.01168722), ('lbp_rad2_bins32_0', 0.010289775), ('var_lab_channel_0', 0.0074504483), ('var_rgb_channel_2', 0.0066409884), ('lbp_rad1_bins16_15', 0.006494327), ('lbp_rad1_bins16_16', 0.00643261), ('lbp_rad1_bins64_63', 0.0059427773)]\n",
      "INFO:utils.ml:Fitted classifier: XGBClassifier14; Done in 16.820895195007324 seconds\n",
      "INFO:utils.ml:Fitting classifier: XGBClassifier15\n",
      "INFO:utils.ml:Top 10 features for XGBClassifier15: [('color_moments_hsv_channel_0_mean', 0.019514836), ('color_moments_lab_channel_0_skew', 0.014450017), ('lbp_rad2_bins16_4', 0.0132228425), ('lbp_rad1_bins64_58', 0.013180323), ('lbp_rad2_bins32_0', 0.010175822), ('var_lab_channel_0', 0.007364262), ('var_rgb_channel_2', 0.0070082783), ('lbp_rad1_bins16_16', 0.0068212375), ('lbp_rad2_bins16_12', 0.0062687094), ('lbp_rad3_bins64_8', 0.006128022)]\n",
      "INFO:utils.ml:Fitted classifier: XGBClassifier15; Done in 24.194830179214478 seconds\n",
      "INFO:utils.ml:Fitting classifier: XGBClassifier16\n",
      "INFO:utils.ml:Top 10 features for XGBClassifier16: [('color_moments_hsv_channel_0_mean', 0.015778612), ('color_moments_lab_channel_0_skew', 0.014775554), ('lbp_rad1_bins64_58', 0.0139017), ('lbp_rad2_bins16_4', 0.01125283), ('lbp_rad2_bins32_0', 0.0096062515), ('var_lab_channel_0', 0.007772626), ('var_rgb_channel_2', 0.0067567197), ('lbp_rad1_bins16_16', 0.0059367553), ('color_moments_lab_channel_1_mean', 0.005353227), ('color_moments_rgb_channel_1_mean', 0.0053529614)]\n",
      "INFO:utils.ml:Fitted classifier: XGBClassifier16; Done in 49.46862983703613 seconds\n",
      "INFO:utils.ml:Fitting classifier: XGBClassifier17\n",
      "INFO:utils.ml:Top 10 features for XGBClassifier17: [('color_moments_hsv_channel_0_mean', 0.015678568), ('color_moments_lab_channel_0_skew', 0.014738828), ('lbp_rad1_bins64_58', 0.013997287), ('lbp_rad2_bins16_4', 0.011036215), ('lbp_rad2_bins32_0', 0.009355383), ('var_lab_channel_0', 0.007467937), ('var_rgb_channel_2', 0.0067404187), ('lbp_rad1_bins16_16', 0.0054886), ('color_moments_lab_channel_1_mean', 0.0054155802), ('color_moments_rgb_channel_1_mean', 0.0053489474)]\n",
      "INFO:utils.ml:Fitted classifier: XGBClassifier17; Done in 35.36249494552612 seconds\n",
      "INFO:utils.ml:Fitting classifier: XGBClassifier18\n",
      "INFO:utils.ml:Top 10 features for XGBClassifier18: [('color_moments_hsv_channel_0_mean', 0.019099057), ('color_moments_lab_channel_0_skew', 0.014661972), ('lbp_rad2_bins16_4', 0.01433668), ('lbp_rad1_bins64_58', 0.013149646), ('lbp_rad2_bins32_0', 0.010310646), ('var_rgb_channel_2', 0.0071555977), ('var_lab_channel_0', 0.0069858884), ('lbp_rad1_bins64_26', 0.0063767675), ('color_moments_rgb_channel_1_mean', 0.0061290087), ('color_moments_lab_channel_1_mean', 0.0057590455)]\n",
      "INFO:utils.ml:Fitted classifier: XGBClassifier18; Done in 29.619779586791992 seconds\n",
      "INFO:utils.ml:Fitting classifier: XGBClassifier19\n",
      "INFO:utils.ml:Top 10 features for XGBClassifier19: [('color_moments_hsv_channel_0_mean', 0.018814374), ('lbp_rad2_bins16_4', 0.014821759), ('color_moments_lab_channel_0_skew', 0.014806853), ('lbp_rad1_bins64_58', 0.013033402), ('lbp_rad2_bins32_0', 0.009973263), ('var_rgb_channel_2', 0.00731878), ('var_lab_channel_0', 0.0071802502), ('lbp_rad1_bins64_26', 0.0064665433), ('color_moments_rgb_channel_1_mean', 0.006202868), ('var_rgb_channel_0', 0.005772189)]\n",
      "INFO:utils.ml:Fitted classifier: XGBClassifier19; Done in 30.43581485748291 seconds\n",
      "INFO:utils.ml:Fitting completed in 369.65 seconds.\n"
     ]
    }
   ],
   "execution_count": 5
  },
  {
   "metadata": {
    "ExecuteTime": {
     "end_time": "2024-11-02T02:24:57.855643Z",
     "start_time": "2024-11-02T02:20:04.231643Z"
    }
   },
   "cell_type": "code",
   "source": "pipeline.predict_with_classifiers(VAL_PATH)",
   "id": "f71e18a07f5ee7bb",
   "outputs": [
    {
     "name": "stderr",
     "output_type": "stream",
     "text": [
      "INFO:utils.ml:Predicting with classifiers on dataset: C:\\Users\\gimes\\Src\\repos\\CADx-Project\\dataset\\multiclass\\val\n"
     ]
    },
    {
     "name": "stdout",
     "output_type": "stream",
     "text": [
      "Processed 5/27 batches.\n",
      "Processed 10/27 batches.\n",
      "Processed 15/27 batches.\n",
      "Processed 20/27 batches.\n",
      "Processed 25/27 batches.\n"
     ]
    },
    {
     "name": "stderr",
     "output_type": "stream",
     "text": [
      "INFO:utils.ml:Predictions made with classifier: RandomForestClassifier0\n",
      "INFO:utils.ml:Predictions made with classifier: RandomForestClassifier1\n",
      "INFO:utils.ml:Predictions made with classifier: RandomForestClassifier2\n",
      "INFO:utils.ml:Predictions made with classifier: RandomForestClassifier3\n",
      "INFO:utils.ml:Predictions made with classifier: RandomForestClassifier4\n",
      "INFO:utils.ml:Predictions made with classifier: RandomForestClassifier5\n",
      "INFO:utils.ml:Predictions made with classifier: RandomForestClassifier6\n"
     ]
    },
    {
     "name": "stdout",
     "output_type": "stream",
     "text": [
      "Processed 27/27 batches.\n"
     ]
    },
    {
     "name": "stderr",
     "output_type": "stream",
     "text": [
      "INFO:utils.ml:Predictions made with classifier: RandomForestClassifier7\n",
      "INFO:utils.ml:Predictions made with classifier: RandomForestClassifier8\n",
      "INFO:utils.ml:Predictions made with classifier: XGBClassifier9\n",
      "INFO:utils.ml:Predictions made with classifier: XGBClassifier10\n",
      "INFO:utils.ml:Predictions made with classifier: XGBClassifier11\n",
      "INFO:utils.ml:Predictions made with classifier: XGBClassifier12\n",
      "INFO:utils.ml:Predictions made with classifier: XGBClassifier13\n",
      "INFO:utils.ml:Predictions made with classifier: XGBClassifier14\n",
      "INFO:utils.ml:Predictions made with classifier: XGBClassifier15\n",
      "INFO:utils.ml:Predictions made with classifier: XGBClassifier16\n",
      "INFO:utils.ml:Predictions made with classifier: XGBClassifier17\n",
      "INFO:utils.ml:Predictions made with classifier: XGBClassifier18\n",
      "INFO:utils.ml:Predictions made with classifier: XGBClassifier19\n"
     ]
    },
    {
     "data": {
      "text/plain": [
       "{'GT': array([0, 0, 0, ..., 2, 2, 2]),\n",
       " 'RandomForestClassifier0': array([0, 0, 1, ..., 1, 0, 0]),\n",
       " 'RandomForestClassifier1': array([0, 0, 1, ..., 1, 0, 0]),\n",
       " 'RandomForestClassifier2': array([0, 0, 1, ..., 1, 0, 0]),\n",
       " 'RandomForestClassifier3': array([0, 0, 2, ..., 1, 0, 0]),\n",
       " 'RandomForestClassifier4': array([0, 0, 1, ..., 1, 0, 0]),\n",
       " 'RandomForestClassifier5': array([0, 0, 1, ..., 1, 0, 0]),\n",
       " 'RandomForestClassifier6': array([0, 0, 1, ..., 1, 0, 0]),\n",
       " 'RandomForestClassifier7': array([0, 0, 1, ..., 1, 0, 0]),\n",
       " 'RandomForestClassifier8': array([0, 0, 1, ..., 1, 0, 0]),\n",
       " 'XGBClassifier9': array([0, 0, 2, ..., 0, 0, 0], dtype=int64),\n",
       " 'XGBClassifier10': array([0, 0, 2, ..., 0, 0, 0], dtype=int64),\n",
       " 'XGBClassifier11': array([0, 0, 2, ..., 0, 0, 0], dtype=int64),\n",
       " 'XGBClassifier12': array([0, 0, 2, ..., 1, 0, 0], dtype=int64),\n",
       " 'XGBClassifier13': array([0, 0, 2, ..., 1, 0, 0], dtype=int64),\n",
       " 'XGBClassifier14': array([0, 0, 2, ..., 1, 0, 0], dtype=int64),\n",
       " 'XGBClassifier15': array([0, 0, 2, ..., 1, 0, 0], dtype=int64),\n",
       " 'XGBClassifier16': array([0, 0, 2, ..., 1, 0, 0], dtype=int64),\n",
       " 'XGBClassifier17': array([0, 0, 2, ..., 1, 0, 0], dtype=int64),\n",
       " 'XGBClassifier18': array([0, 0, 2, ..., 1, 0, 0], dtype=int64),\n",
       " 'XGBClassifier19': array([0, 0, 2, ..., 1, 0, 0], dtype=int64)}"
      ]
     },
     "execution_count": 6,
     "metadata": {},
     "output_type": "execute_result"
    }
   ],
   "execution_count": 6
  },
  {
   "metadata": {
    "ExecuteTime": {
     "end_time": "2024-11-02T02:24:58.024135Z",
     "start_time": "2024-11-02T02:24:57.873113Z"
    }
   },
   "cell_type": "code",
   "source": [
    "import pandas as pd\n",
    "\n",
    "df = pd.DataFrame(data=pipeline.calculate_metrics())\n",
    "df.T"
   ],
   "id": "751fad2660242db5",
   "outputs": [
    {
     "name": "stderr",
     "output_type": "stream",
     "text": [
      "INFO:utils.ml:Metrics for classifier GT: {'accuracy': 1.0, 'precision': 1.0, 'recall': 1.0, 'f1': 1.0, 'kappa': 1.0}\n",
      "INFO:utils.ml:Metrics for classifier RandomForestClassifier0: {'accuracy': 0.7850393700787401, 'precision': 0.7418266345462997, 'recall': 0.568067663864521, 'f1': 0.553180435923755, 'kappa': 0.5933459380336668}\n",
      "INFO:utils.ml:Metrics for classifier RandomForestClassifier1: {'accuracy': 0.7960629921259843, 'precision': 0.8602862841129989, 'recall': 0.5736732154249332, 'f1': 0.5546106606294477, 'kappa': 0.6139971647984377}\n",
      "INFO:utils.ml:Metrics for classifier RandomForestClassifier2: {'accuracy': 0.7968503937007874, 'precision': 0.8607524845791993, 'recall': 0.5741648575094958, 'f1': 0.5550892440226041, 'kappa': 0.6154875232355095}\n",
      "INFO:utils.ml:Metrics for classifier RandomForestClassifier3: {'accuracy': 0.7913385826771654, 'precision': 0.6502032686553941, 'recall': 0.5754106616637894, 'f1': 0.563811999822456, 'kappa': 0.6064442344752745}\n",
      "INFO:utils.ml:Metrics for classifier RandomForestClassifier4: {'accuracy': 0.7913385826771654, 'precision': 0.6907671142827131, 'recall': 0.5691240452930785, 'f1': 0.5509852801519468, 'kappa': 0.6043232287130482}\n",
      "C:\\Programs\\miniconda3\\envs\\cv\\Lib\\site-packages\\sklearn\\metrics\\_classification.py:1531: UndefinedMetricWarning: Precision is ill-defined and being set to 0.0 in labels with no predicted samples. Use `zero_division` parameter to control this behavior.\n",
      "  _warn_prf(average, modifier, f\"{metric.capitalize()} is\", len(result))\n",
      "INFO:utils.ml:Metrics for classifier RandomForestClassifier5: {'accuracy': 0.784251968503937, 'precision': 0.5189750079088896, 'recall': 0.561111703450972, 'f1': 0.539203419053405, 'kappa': 0.5905828646728004}\n",
      "INFO:utils.ml:Metrics for classifier RandomForestClassifier6: {'accuracy': 0.7913385826771654, 'precision': 0.6907671142827131, 'recall': 0.5691240452930785, 'f1': 0.5509852801519468, 'kappa': 0.6043232287130482}\n",
      "INFO:utils.ml:Metrics for classifier RandomForestClassifier7: {'accuracy': 0.8094488188976378, 'precision': 0.8136213934009038, 'recall': 0.5946043636039167, 'f1': 0.5889013186957488, 'kappa': 0.6398826402200964}\n",
      "C:\\Programs\\miniconda3\\envs\\cv\\Lib\\site-packages\\sklearn\\metrics\\_classification.py:1531: UndefinedMetricWarning: Precision is ill-defined and being set to 0.0 in labels with no predicted samples. Use `zero_division` parameter to control this behavior.\n",
      "  _warn_prf(average, modifier, f\"{metric.capitalize()} is\", len(result))\n",
      "INFO:utils.ml:Metrics for classifier RandomForestClassifier8: {'accuracy': 0.7511811023622047, 'precision': 0.49711464127585697, 'recall': 0.532643849735224, 'f1': 0.5137001340264381, 'kappa': 0.5229763461309878}\n",
      "INFO:utils.ml:Metrics for classifier XGBClassifier9: {'accuracy': 0.8330708661417323, 'precision': 0.7597575510461173, 'recall': 0.6456181847833183, 'f1': 0.6599072855326075, 'kappa': 0.6891725274877512}\n",
      "INFO:utils.ml:Metrics for classifier XGBClassifier10: {'accuracy': 0.8346456692913385, 'precision': 0.7686799843321582, 'recall': 0.6471345748272699, 'f1': 0.6616773065001479, 'kappa': 0.6921531962047234}\n",
      "INFO:utils.ml:Metrics for classifier XGBClassifier11: {'accuracy': 0.8377952755905512, 'precision': 0.7754275652302794, 'recall': 0.652333302330013, 'f1': 0.6684451396130228, 'kappa': 0.6980322812979003}\n",
      "INFO:utils.ml:Metrics for classifier XGBClassifier12: {'accuracy': 0.8133858267716535, 'precision': 0.7838899634644315, 'recall': 0.6164555290136886, 'f1': 0.624952444206984, 'kappa': 0.6498487668683108}\n",
      "INFO:utils.ml:Metrics for classifier XGBClassifier13: {'accuracy': 0.8322834645669291, 'precision': 0.767083588800327, 'recall': 0.6447711387822047, 'f1': 0.6598785107912897, 'kappa': 0.6871704135442687}\n",
      "INFO:utils.ml:Metrics for classifier XGBClassifier14: {'accuracy': 0.8283464566929134, 'precision': 0.7546533321099794, 'recall': 0.628284556036233, 'f1': 0.6346122825380618, 'kappa': 0.6792453704561885}\n",
      "INFO:utils.ml:Metrics for classifier XGBClassifier15: {'accuracy': 0.8267716535433071, 'precision': 0.7600466994825194, 'recall': 0.629467219281948, 'f1': 0.6381404618943992, 'kappa': 0.6762516569797083}\n",
      "INFO:utils.ml:Metrics for classifier XGBClassifier16: {'accuracy': 0.8307086614173228, 'precision': 0.7740231125500247, 'recall': 0.631570025788209, 'f1': 0.6411360105799013, 'kappa': 0.6827331542401398}\n",
      "INFO:utils.ml:Metrics for classifier XGBClassifier17: {'accuracy': 0.8244094488188977, 'precision': 0.7478739780973562, 'recall': 0.6182958155347809, 'f1': 0.6214048419549086, 'kappa': 0.6704638011682298}\n",
      "INFO:utils.ml:Metrics for classifier XGBClassifier18: {'accuracy': 0.8307086614173228, 'precision': 0.7688854104036656, 'recall': 0.6355129927858046, 'f1': 0.6459656544321989, 'kappa': 0.6838235294117647}\n",
      "INFO:utils.ml:Metrics for classifier XGBClassifier19: {'accuracy': 0.8283464566929134, 'precision': 0.757455848627826, 'recall': 0.6336826626155662, 'f1': 0.6439042818332426, 'kappa': 0.6794280976883993}\n"
     ]
    },
    {
     "name": "stdout",
     "output_type": "stream",
     "text": [
      "cannot access local variable 'report' where it is not associated with a value\n",
      "cannot access local variable 'report' where it is not associated with a value\n",
      "cannot access local variable 'report' where it is not associated with a value\n",
      "cannot access local variable 'report' where it is not associated with a value\n",
      "cannot access local variable 'report' where it is not associated with a value\n",
      "cannot access local variable 'report' where it is not associated with a value\n",
      "cannot access local variable 'report' where it is not associated with a value\n",
      "cannot access local variable 'report' where it is not associated with a value\n",
      "cannot access local variable 'report' where it is not associated with a value\n",
      "cannot access local variable 'report' where it is not associated with a value\n",
      "cannot access local variable 'report' where it is not associated with a value\n",
      "cannot access local variable 'report' where it is not associated with a value\n",
      "cannot access local variable 'report' where it is not associated with a value\n",
      "cannot access local variable 'report' where it is not associated with a value\n",
      "cannot access local variable 'report' where it is not associated with a value\n",
      "cannot access local variable 'report' where it is not associated with a value\n",
      "cannot access local variable 'report' where it is not associated with a value\n",
      "cannot access local variable 'report' where it is not associated with a value\n",
      "cannot access local variable 'report' where it is not associated with a value\n",
      "cannot access local variable 'report' where it is not associated with a value\n",
      "cannot access local variable 'report' where it is not associated with a value\n"
     ]
    },
    {
     "data": {
      "text/plain": [
       "                         accuracy  precision    recall        f1     kappa\n",
       "GT                       1.000000   1.000000  1.000000  1.000000  1.000000\n",
       "RandomForestClassifier0  0.785039   0.741827  0.568068  0.553180  0.593346\n",
       "RandomForestClassifier1  0.796063   0.860286  0.573673  0.554611  0.613997\n",
       "RandomForestClassifier2  0.796850   0.860752  0.574165  0.555089  0.615488\n",
       "RandomForestClassifier3  0.791339   0.650203  0.575411  0.563812  0.606444\n",
       "RandomForestClassifier4  0.791339   0.690767  0.569124  0.550985  0.604323\n",
       "RandomForestClassifier5  0.784252   0.518975  0.561112  0.539203  0.590583\n",
       "RandomForestClassifier6  0.791339   0.690767  0.569124  0.550985  0.604323\n",
       "RandomForestClassifier7  0.809449   0.813621  0.594604  0.588901  0.639883\n",
       "RandomForestClassifier8  0.751181   0.497115  0.532644  0.513700  0.522976\n",
       "XGBClassifier9           0.833071   0.759758  0.645618  0.659907  0.689173\n",
       "XGBClassifier10          0.834646   0.768680  0.647135  0.661677  0.692153\n",
       "XGBClassifier11          0.837795   0.775428  0.652333  0.668445  0.698032\n",
       "XGBClassifier12          0.813386   0.783890  0.616456  0.624952  0.649849\n",
       "XGBClassifier13          0.832283   0.767084  0.644771  0.659879  0.687170\n",
       "XGBClassifier14          0.828346   0.754653  0.628285  0.634612  0.679245\n",
       "XGBClassifier15          0.826772   0.760047  0.629467  0.638140  0.676252\n",
       "XGBClassifier16          0.830709   0.774023  0.631570  0.641136  0.682733\n",
       "XGBClassifier17          0.824409   0.747874  0.618296  0.621405  0.670464\n",
       "XGBClassifier18          0.830709   0.768885  0.635513  0.645966  0.683824\n",
       "XGBClassifier19          0.828346   0.757456  0.633683  0.643904  0.679428"
      ],
      "text/html": [
       "<div>\n",
       "<style scoped>\n",
       "    .dataframe tbody tr th:only-of-type {\n",
       "        vertical-align: middle;\n",
       "    }\n",
       "\n",
       "    .dataframe tbody tr th {\n",
       "        vertical-align: top;\n",
       "    }\n",
       "\n",
       "    .dataframe thead th {\n",
       "        text-align: right;\n",
       "    }\n",
       "</style>\n",
       "<table border=\"1\" class=\"dataframe\">\n",
       "  <thead>\n",
       "    <tr style=\"text-align: right;\">\n",
       "      <th></th>\n",
       "      <th>accuracy</th>\n",
       "      <th>precision</th>\n",
       "      <th>recall</th>\n",
       "      <th>f1</th>\n",
       "      <th>kappa</th>\n",
       "    </tr>\n",
       "  </thead>\n",
       "  <tbody>\n",
       "    <tr>\n",
       "      <th>GT</th>\n",
       "      <td>1.000000</td>\n",
       "      <td>1.000000</td>\n",
       "      <td>1.000000</td>\n",
       "      <td>1.000000</td>\n",
       "      <td>1.000000</td>\n",
       "    </tr>\n",
       "    <tr>\n",
       "      <th>RandomForestClassifier0</th>\n",
       "      <td>0.785039</td>\n",
       "      <td>0.741827</td>\n",
       "      <td>0.568068</td>\n",
       "      <td>0.553180</td>\n",
       "      <td>0.593346</td>\n",
       "    </tr>\n",
       "    <tr>\n",
       "      <th>RandomForestClassifier1</th>\n",
       "      <td>0.796063</td>\n",
       "      <td>0.860286</td>\n",
       "      <td>0.573673</td>\n",
       "      <td>0.554611</td>\n",
       "      <td>0.613997</td>\n",
       "    </tr>\n",
       "    <tr>\n",
       "      <th>RandomForestClassifier2</th>\n",
       "      <td>0.796850</td>\n",
       "      <td>0.860752</td>\n",
       "      <td>0.574165</td>\n",
       "      <td>0.555089</td>\n",
       "      <td>0.615488</td>\n",
       "    </tr>\n",
       "    <tr>\n",
       "      <th>RandomForestClassifier3</th>\n",
       "      <td>0.791339</td>\n",
       "      <td>0.650203</td>\n",
       "      <td>0.575411</td>\n",
       "      <td>0.563812</td>\n",
       "      <td>0.606444</td>\n",
       "    </tr>\n",
       "    <tr>\n",
       "      <th>RandomForestClassifier4</th>\n",
       "      <td>0.791339</td>\n",
       "      <td>0.690767</td>\n",
       "      <td>0.569124</td>\n",
       "      <td>0.550985</td>\n",
       "      <td>0.604323</td>\n",
       "    </tr>\n",
       "    <tr>\n",
       "      <th>RandomForestClassifier5</th>\n",
       "      <td>0.784252</td>\n",
       "      <td>0.518975</td>\n",
       "      <td>0.561112</td>\n",
       "      <td>0.539203</td>\n",
       "      <td>0.590583</td>\n",
       "    </tr>\n",
       "    <tr>\n",
       "      <th>RandomForestClassifier6</th>\n",
       "      <td>0.791339</td>\n",
       "      <td>0.690767</td>\n",
       "      <td>0.569124</td>\n",
       "      <td>0.550985</td>\n",
       "      <td>0.604323</td>\n",
       "    </tr>\n",
       "    <tr>\n",
       "      <th>RandomForestClassifier7</th>\n",
       "      <td>0.809449</td>\n",
       "      <td>0.813621</td>\n",
       "      <td>0.594604</td>\n",
       "      <td>0.588901</td>\n",
       "      <td>0.639883</td>\n",
       "    </tr>\n",
       "    <tr>\n",
       "      <th>RandomForestClassifier8</th>\n",
       "      <td>0.751181</td>\n",
       "      <td>0.497115</td>\n",
       "      <td>0.532644</td>\n",
       "      <td>0.513700</td>\n",
       "      <td>0.522976</td>\n",
       "    </tr>\n",
       "    <tr>\n",
       "      <th>XGBClassifier9</th>\n",
       "      <td>0.833071</td>\n",
       "      <td>0.759758</td>\n",
       "      <td>0.645618</td>\n",
       "      <td>0.659907</td>\n",
       "      <td>0.689173</td>\n",
       "    </tr>\n",
       "    <tr>\n",
       "      <th>XGBClassifier10</th>\n",
       "      <td>0.834646</td>\n",
       "      <td>0.768680</td>\n",
       "      <td>0.647135</td>\n",
       "      <td>0.661677</td>\n",
       "      <td>0.692153</td>\n",
       "    </tr>\n",
       "    <tr>\n",
       "      <th>XGBClassifier11</th>\n",
       "      <td>0.837795</td>\n",
       "      <td>0.775428</td>\n",
       "      <td>0.652333</td>\n",
       "      <td>0.668445</td>\n",
       "      <td>0.698032</td>\n",
       "    </tr>\n",
       "    <tr>\n",
       "      <th>XGBClassifier12</th>\n",
       "      <td>0.813386</td>\n",
       "      <td>0.783890</td>\n",
       "      <td>0.616456</td>\n",
       "      <td>0.624952</td>\n",
       "      <td>0.649849</td>\n",
       "    </tr>\n",
       "    <tr>\n",
       "      <th>XGBClassifier13</th>\n",
       "      <td>0.832283</td>\n",
       "      <td>0.767084</td>\n",
       "      <td>0.644771</td>\n",
       "      <td>0.659879</td>\n",
       "      <td>0.687170</td>\n",
       "    </tr>\n",
       "    <tr>\n",
       "      <th>XGBClassifier14</th>\n",
       "      <td>0.828346</td>\n",
       "      <td>0.754653</td>\n",
       "      <td>0.628285</td>\n",
       "      <td>0.634612</td>\n",
       "      <td>0.679245</td>\n",
       "    </tr>\n",
       "    <tr>\n",
       "      <th>XGBClassifier15</th>\n",
       "      <td>0.826772</td>\n",
       "      <td>0.760047</td>\n",
       "      <td>0.629467</td>\n",
       "      <td>0.638140</td>\n",
       "      <td>0.676252</td>\n",
       "    </tr>\n",
       "    <tr>\n",
       "      <th>XGBClassifier16</th>\n",
       "      <td>0.830709</td>\n",
       "      <td>0.774023</td>\n",
       "      <td>0.631570</td>\n",
       "      <td>0.641136</td>\n",
       "      <td>0.682733</td>\n",
       "    </tr>\n",
       "    <tr>\n",
       "      <th>XGBClassifier17</th>\n",
       "      <td>0.824409</td>\n",
       "      <td>0.747874</td>\n",
       "      <td>0.618296</td>\n",
       "      <td>0.621405</td>\n",
       "      <td>0.670464</td>\n",
       "    </tr>\n",
       "    <tr>\n",
       "      <th>XGBClassifier18</th>\n",
       "      <td>0.830709</td>\n",
       "      <td>0.768885</td>\n",
       "      <td>0.635513</td>\n",
       "      <td>0.645966</td>\n",
       "      <td>0.683824</td>\n",
       "    </tr>\n",
       "    <tr>\n",
       "      <th>XGBClassifier19</th>\n",
       "      <td>0.828346</td>\n",
       "      <td>0.757456</td>\n",
       "      <td>0.633683</td>\n",
       "      <td>0.643904</td>\n",
       "      <td>0.679428</td>\n",
       "    </tr>\n",
       "  </tbody>\n",
       "</table>\n",
       "</div>"
      ]
     },
     "execution_count": 7,
     "metadata": {},
     "output_type": "execute_result"
    }
   ],
   "execution_count": 7
  },
  {
   "metadata": {},
   "cell_type": "markdown",
   "source": [
    "___\n",
    "Balance the data"
   ],
   "id": "ad0e6dcd404dcf15"
  },
  {
   "metadata": {
    "ExecuteTime": {
     "end_time": "2024-11-02T08:58:16.584383Z",
     "start_time": "2024-11-02T08:58:16.568994Z"
    }
   },
   "cell_type": "code",
   "source": [
    "# Backup\n",
    "pipeline.backup_feature_matrix = pipeline.feature_matrix.copy()\n",
    "pipeline.backup_labels = pipeline.labels.copy()"
   ],
   "id": "da1b19771d4cde2f",
   "outputs": [],
   "execution_count": 9
  },
  {
   "metadata": {
    "ExecuteTime": {
     "end_time": "2024-11-02T08:58:16.912407Z",
     "start_time": "2024-11-02T08:58:16.899555Z"
    }
   },
   "cell_type": "code",
   "source": [
    "print(pipeline.backup_feature_matrix.shape)\n",
    "print(pipeline.feature_matrix.shape)\n",
    "\n",
    "print(pipeline.backup_labels.shape)\n",
    "print(pipeline.labels.shape)"
   ],
   "id": "3425dcf3bd509008",
   "outputs": [
    {
     "name": "stdout",
     "output_type": "stream",
     "text": [
      "(5082, 408)\n",
      "(5082, 408)\n",
      "(5082,)\n",
      "(5082,)\n"
     ]
    }
   ],
   "execution_count": 10
  },
  {
   "metadata": {
    "ExecuteTime": {
     "end_time": "2024-11-02T08:58:18.280343Z",
     "start_time": "2024-11-02T08:58:17.676539Z"
    }
   },
   "cell_type": "code",
   "source": [
    "from imblearn.over_sampling import SMOTE\n",
    "\n",
    "smote = SMOTE(random_state=42)\n",
    "pipeline.feature_matrix, pipeline.labels = smote.fit_resample(pipeline.feature_matrix, pipeline.labels)"
   ],
   "id": "6f226a41aafa84b7",
   "outputs": [],
   "execution_count": 11
  },
  {
   "metadata": {
    "ExecuteTime": {
     "end_time": "2024-11-02T09:04:32.092272Z",
     "start_time": "2024-11-02T08:58:18.540869Z"
    }
   },
   "cell_type": "code",
   "source": [
    "pipeline.fitted_classifiers = {}\n",
    "pipeline.fit_classifiers()"
   ],
   "id": "e25b1eeaa9b9b112",
   "outputs": [
    {
     "name": "stderr",
     "output_type": "stream",
     "text": [
      "INFO:utils.ml:Fitting classifiers...\n",
      "INFO:utils.ml:Fitting classifier: RandomForestClassifier0\n",
      "INFO:utils.ml:Top 10 features for RandomForestClassifier0: [('color_moments_hsv_channel_0_mean', 0.026008558530876254), ('color_moments_lab_channel_0_skew', 0.017623271470553665), ('var_lab_channel_0', 0.011123282387172664), ('var_rgb_channel_2', 0.010996243209384441), ('gradient_magnitude_std', 0.010303261024935373), ('var_rgb_channel_1', 0.009393865760132892), ('color_moments_lab_channel_1_std', 0.008390497843031395), ('color_moments_rgb_channel_1_skew', 0.008025859659890075), ('color_moments_rgb_channel_2_std', 0.0077374636018902295), ('var_lab_channel_2', 0.007260742943628485)]\n",
      "INFO:utils.ml:Fitted classifier: RandomForestClassifier0; Done in 11.069393634796143 seconds\n",
      "INFO:utils.ml:Fitting classifier: RandomForestClassifier1\n",
      "INFO:utils.ml:Fitted classifier: RandomForestClassifier1; Done in 19.57318377494812 seconds\n",
      "INFO:utils.ml:Fitting classifier: RandomForestClassifier2\n"
     ]
    },
    {
     "name": "stdout",
     "output_type": "stream",
     "text": [
      "list index out of range\n"
     ]
    },
    {
     "name": "stderr",
     "output_type": "stream",
     "text": [
      "INFO:utils.ml:Fitted classifier: RandomForestClassifier2; Done in 31.78447914123535 seconds\n",
      "INFO:utils.ml:Fitting classifier: RandomForestClassifier3\n"
     ]
    },
    {
     "name": "stdout",
     "output_type": "stream",
     "text": [
      "list index out of range\n"
     ]
    },
    {
     "name": "stderr",
     "output_type": "stream",
     "text": [
      "INFO:utils.ml:Top 10 features for RandomForestClassifier3: [('color_moments_hsv_channel_0_mean', 0.024155399169778127), ('color_moments_lab_channel_0_skew', 0.02025170583166333), ('var_rgb_channel_2', 0.013040587890718859), ('var_lab_channel_0', 0.011464254001536677), ('gradient_magnitude_std', 0.009401918247800605), ('color_moments_rgb_channel_1_skew', 0.008086593058318756), ('color_moments_lab_channel_2_mean', 0.007834743733502418), ('color_moments_rgb_channel_1_mean', 0.007746993745761491), ('var_lab_channel_2', 0.007509421207016721), ('color_moments_lab_channel_1_std', 0.00750908722864548)]\n",
      "INFO:utils.ml:Fitted classifier: RandomForestClassifier3; Done in 11.094903945922852 seconds\n",
      "INFO:utils.ml:Fitting classifier: RandomForestClassifier4\n",
      "INFO:utils.ml:Top 10 features for RandomForestClassifier4: [('color_moments_hsv_channel_0_mean', 0.024155399169778127), ('color_moments_lab_channel_0_skew', 0.02025170583166333), ('var_rgb_channel_2', 0.013040587890718859), ('var_lab_channel_0', 0.011464254001536677), ('gradient_magnitude_std', 0.009401918247800605), ('color_moments_rgb_channel_1_skew', 0.008086593058318756), ('color_moments_lab_channel_2_mean', 0.007834743733502418), ('color_moments_rgb_channel_1_mean', 0.007746993745761491), ('var_lab_channel_2', 0.007509421207016721), ('color_moments_lab_channel_1_std', 0.00750908722864548)]\n",
      "INFO:utils.ml:Fitted classifier: RandomForestClassifier4; Done in 11.475268602371216 seconds\n",
      "INFO:utils.ml:Fitting classifier: RandomForestClassifier5\n",
      "INFO:utils.ml:Top 10 features for RandomForestClassifier5: [('color_moments_hsv_channel_0_mean', 0.030393224281043078), ('color_moments_lab_channel_0_skew', 0.025417217499536907), ('var_rgb_channel_2', 0.015769335901701636), ('var_lab_channel_0', 0.011894920788879276), ('gradient_magnitude_std', 0.01145015787076173), ('var_lab_channel_2', 0.009943068881688595), ('var_rgb_channel_1', 0.009280017890788621), ('color_moments_lab_channel_1_std', 0.009099831056938025), ('lbp_rad1_bins64_58', 0.008595659467986384), ('color_moments_lab_channel_2_mean', 0.008487507699094472)]\n",
      "INFO:utils.ml:Fitted classifier: RandomForestClassifier5; Done in 9.781187772750854 seconds\n",
      "INFO:utils.ml:Fitting classifier: RandomForestClassifier6\n",
      "INFO:utils.ml:Top 10 features for RandomForestClassifier6: [('color_moments_hsv_channel_0_mean', 0.024155399169778127), ('color_moments_lab_channel_0_skew', 0.02025170583166333), ('var_rgb_channel_2', 0.013040587890718859), ('var_lab_channel_0', 0.011464254001536677), ('gradient_magnitude_std', 0.009401918247800605), ('color_moments_rgb_channel_1_skew', 0.008086593058318756), ('color_moments_lab_channel_2_mean', 0.007834743733502418), ('color_moments_rgb_channel_1_mean', 0.007746993745761491), ('var_lab_channel_2', 0.007509421207016721), ('color_moments_lab_channel_1_std', 0.00750908722864548)]\n",
      "INFO:utils.ml:Fitted classifier: RandomForestClassifier6; Done in 11.66232442855835 seconds\n",
      "INFO:utils.ml:Fitting classifier: RandomForestClassifier7\n",
      "INFO:utils.ml:Fitted classifier: RandomForestClassifier7; Done in 16.95435333251953 seconds\n",
      "INFO:utils.ml:Fitting classifier: RandomForestClassifier8\n"
     ]
    },
    {
     "name": "stdout",
     "output_type": "stream",
     "text": [
      "list index out of range\n"
     ]
    },
    {
     "name": "stderr",
     "output_type": "stream",
     "text": [
      "INFO:utils.ml:Top 10 features for RandomForestClassifier8: [('color_moments_hsv_channel_0_mean', 0.06029093704211354), ('color_moments_lab_channel_0_skew', 0.04834247433876437), ('var_rgb_channel_2', 0.02990822773048195), ('var_lab_channel_0', 0.02383348012541294), ('lbp_rad1_bins64_58', 0.018810851859491218), ('var_lab_channel_2', 0.018680436134708142), ('gradient_magnitude_std', 0.01849518426646217), ('var_rgb_channel_1', 0.015099386821374565), ('color_moments_rgb_channel_1_skew', 0.014410524878269916), ('color_moments_lab_channel_1_std', 0.013566729316456232)]\n",
      "INFO:utils.ml:Fitted classifier: RandomForestClassifier8; Done in 4.2423272132873535 seconds\n",
      "INFO:utils.ml:Fitting classifier: XGBClassifier9\n",
      "INFO:utils.ml:Top 10 features for XGBClassifier9: [('var_lab_channel_0', 0.015200589), ('color_moments_hsv_channel_0_mean', 0.014973395), ('lbp_rad1_bins16_15', 0.014307985), ('lbp_rad2_bins16_4', 0.0135518275), ('lbp_rad1_bins16_16', 0.011419139), ('lbp_rad3_bins32_14', 0.010721969), ('lbp_rad1_bins64_26', 0.009269133), ('lbp_rad1_bins32_2', 0.009080713), ('color_moments_hsv_channel_2_std', 0.008680796), ('lbp_rad1_bins32_0', 0.008015074)]\n",
      "INFO:utils.ml:Fitted classifier: XGBClassifier9; Done in 13.653250455856323 seconds\n",
      "INFO:utils.ml:Fitting classifier: XGBClassifier10\n",
      "INFO:utils.ml:Top 10 features for XGBClassifier10: [('lbp_rad1_bins16_15', 0.015454491), ('var_lab_channel_0', 0.015282534), ('color_moments_hsv_channel_0_mean', 0.014518398), ('lbp_rad2_bins16_4', 0.013567738), ('lbp_rad1_bins16_16', 0.01182077), ('lbp_rad3_bins32_14', 0.011099302), ('lbp_rad1_bins32_2', 0.009808355), ('lbp_rad1_bins64_26', 0.009468257), ('lbp_rad1_bins32_0', 0.008224925), ('color_moments_hsv_channel_2_std', 0.008205654)]\n",
      "INFO:utils.ml:Fitted classifier: XGBClassifier10; Done in 17.344768047332764 seconds\n",
      "INFO:utils.ml:Fitting classifier: XGBClassifier11\n",
      "INFO:utils.ml:Top 10 features for XGBClassifier11: [('lbp_rad1_bins16_15', 0.015704973), ('var_lab_channel_0', 0.015310492), ('color_moments_hsv_channel_0_mean', 0.014382883), ('lbp_rad2_bins16_4', 0.01425481), ('lbp_rad1_bins16_16', 0.012570776), ('lbp_rad3_bins32_14', 0.010896006), ('lbp_rad1_bins64_26', 0.009550401), ('lbp_rad1_bins32_2', 0.009483093), ('lbp_rad1_bins32_0', 0.008746781), ('lbp_rad2_bins32_0', 0.008080424)]\n",
      "INFO:utils.ml:Fitted classifier: XGBClassifier11; Done in 21.298566579818726 seconds\n",
      "INFO:utils.ml:Fitting classifier: XGBClassifier12\n",
      "INFO:utils.ml:Top 10 features for XGBClassifier12: [('color_moments_hsv_channel_0_mean', 0.014692148), ('lbp_rad2_bins16_12', 0.0103002805), ('lbp_rad1_bins64_63', 0.009849747), ('lbp_rad1_bins64_58', 0.0096968375), ('lbp_rad3_bins32_14', 0.009643556), ('lbp_rad1_bins16_15', 0.009511383), ('color_moments_lab_channel_0_skew', 0.009340092), ('lbp_rad2_bins16_4', 0.008783742), ('lbp_rad1_bins64_26', 0.008043806), ('lbp_rad3_bins32_10', 0.007700852)]\n",
      "INFO:utils.ml:Fitted classifier: XGBClassifier12; Done in 7.729968309402466 seconds\n",
      "INFO:utils.ml:Fitting classifier: XGBClassifier13\n",
      "INFO:utils.ml:Top 10 features for XGBClassifier13: [('color_moments_hsv_channel_0_mean', 0.01066748), ('lbp_rad2_bins16_12', 0.010346786), ('lbp_rad1_bins16_15', 0.010187738), ('lbp_rad2_bins16_4', 0.009459998), ('color_moments_lab_channel_0_skew', 0.009348238), ('var_lab_channel_0', 0.008649146), ('lbp_rad1_bins64_58', 0.008251473), ('lbp_rad1_bins32_21', 0.006639572), ('lbp_rad3_bins64_45', 0.0064562936), ('lbp_rad1_bins32_2', 0.006164106)]\n",
      "INFO:utils.ml:Fitted classifier: XGBClassifier13; Done in 19.703481674194336 seconds\n",
      "INFO:utils.ml:Fitting classifier: XGBClassifier14\n",
      "INFO:utils.ml:Top 10 features for XGBClassifier14: [('color_moments_hsv_channel_0_mean', 0.011183897), ('lbp_rad1_bins16_15', 0.010997247), ('var_lab_channel_0', 0.010004911), ('color_moments_lab_channel_0_skew', 0.009934149), ('lbp_rad2_bins16_12', 0.009431962), ('lbp_rad2_bins16_4', 0.009402592), ('lbp_rad1_bins64_58', 0.009191579), ('lbp_rad3_bins32_14', 0.008783173), ('lbp_rad2_bins16_9', 0.007262241), ('lbp_rad3_bins16_0', 0.005911935)]\n",
      "INFO:utils.ml:Fitted classifier: XGBClassifier14; Done in 13.376386165618896 seconds\n",
      "INFO:utils.ml:Fitting classifier: XGBClassifier15\n",
      "INFO:utils.ml:Top 10 features for XGBClassifier15: [('color_moments_hsv_channel_0_mean', 0.012949678), ('var_lab_channel_0', 0.0118074985), ('lbp_rad1_bins16_15', 0.011028969), ('lbp_rad2_bins16_4', 0.01033249), ('color_moments_lab_channel_0_skew', 0.010329241), ('lbp_rad3_bins32_14', 0.008623263), ('lbp_rad2_bins16_12', 0.008394043), ('lbp_rad1_bins64_58', 0.008084023), ('lbp_rad1_bins64_26', 0.006638342), ('color_moments_rgb_channel_2_mean', 0.0059753824)]\n",
      "INFO:utils.ml:Fitted classifier: XGBClassifier15; Done in 14.501493215560913 seconds\n",
      "INFO:utils.ml:Fitting classifier: XGBClassifier16\n",
      "INFO:utils.ml:Top 10 features for XGBClassifier16: [('color_moments_hsv_channel_0_mean', 0.013297123), ('var_lab_channel_0', 0.010926562), ('lbp_rad2_bins16_4', 0.010611118), ('lbp_rad1_bins16_15', 0.010107741), ('color_moments_lab_channel_0_skew', 0.008814213), ('lbp_rad2_bins16_12', 0.0083019985), ('lbp_rad1_bins64_58', 0.008099358), ('lbp_rad1_bins64_26', 0.0071565676), ('lbp_rad3_bins32_14', 0.006808702), ('lbp_rad3_bins64_10', 0.0066947574)]\n",
      "INFO:utils.ml:Fitted classifier: XGBClassifier16; Done in 33.48078632354736 seconds\n",
      "INFO:utils.ml:Fitting classifier: XGBClassifier17\n",
      "INFO:utils.ml:Top 10 features for XGBClassifier17: [('color_moments_hsv_channel_0_mean', 0.013628697), ('var_lab_channel_0', 0.0108807245), ('lbp_rad2_bins16_4', 0.010223558), ('lbp_rad1_bins16_15', 0.009897403), ('color_moments_lab_channel_0_skew', 0.008537439), ('lbp_rad1_bins64_58', 0.007935152), ('lbp_rad2_bins16_12', 0.0077380133), ('lbp_rad1_bins64_26', 0.00711231), ('lbp_rad3_bins64_10', 0.006882855), ('lbp_rad3_bins32_14', 0.0068181343)]\n",
      "INFO:utils.ml:Fitted classifier: XGBClassifier17; Done in 30.359812021255493 seconds\n",
      "INFO:utils.ml:Fitting classifier: XGBClassifier18\n",
      "INFO:utils.ml:Top 10 features for XGBClassifier18: [('color_moments_hsv_channel_0_mean', 0.011616217), ('lbp_rad2_bins16_4', 0.011529171), ('var_lab_channel_0', 0.01150901), ('color_moments_lab_channel_0_skew', 0.009945381), ('lbp_rad1_bins16_15', 0.009914975), ('lbp_rad1_bins64_58', 0.008669046), ('lbp_rad3_bins32_14', 0.008046493), ('lbp_rad1_bins64_26', 0.0074004834), ('lbp_rad2_bins16_13', 0.0069477432), ('lbp_rad2_bins16_12', 0.0065988926)]\n",
      "INFO:utils.ml:Fitted classifier: XGBClassifier18; Done in 33.84770202636719 seconds\n",
      "INFO:utils.ml:Fitting classifier: XGBClassifier19\n",
      "INFO:utils.ml:Top 10 features for XGBClassifier19: [('lbp_rad2_bins16_4', 0.011705525), ('var_lab_channel_0', 0.011552044), ('color_moments_hsv_channel_0_mean', 0.011342831), ('color_moments_lab_channel_0_skew', 0.010083567), ('lbp_rad1_bins16_15', 0.009898535), ('lbp_rad1_bins64_58', 0.008581701), ('lbp_rad3_bins32_14', 0.0078051384), ('lbp_rad1_bins64_26', 0.007284648), ('lbp_rad2_bins16_12', 0.006882302), ('lbp_rad2_bins16_13', 0.0068091676)]\n",
      "INFO:utils.ml:Fitted classifier: XGBClassifier19; Done in 40.59477758407593 seconds\n",
      "INFO:utils.ml:Fitting completed in 373.54 seconds.\n"
     ]
    }
   ],
   "execution_count": 12
  },
  {
   "metadata": {
    "ExecuteTime": {
     "end_time": "2024-11-02T09:10:24.365505Z",
     "start_time": "2024-11-02T09:04:32.099281Z"
    }
   },
   "cell_type": "code",
   "source": "pipeline.predict_with_classifiers(VAL_PATH)",
   "id": "eaa13003ad0706a4",
   "outputs": [
    {
     "name": "stderr",
     "output_type": "stream",
     "text": [
      "INFO:utils.ml:Predicting with classifiers on dataset: C:\\Users\\gimes\\Src\\repos\\CADx-Project\\dataset\\multiclass\\val\n"
     ]
    },
    {
     "name": "stdout",
     "output_type": "stream",
     "text": [
      "Processed 5/27 batches.\n",
      "Processed 10/27 batches.\n",
      "Processed 15/27 batches.\n",
      "Processed 20/27 batches.\n",
      "Processed 25/27 batches.\n"
     ]
    },
    {
     "name": "stderr",
     "output_type": "stream",
     "text": [
      "INFO:utils.ml:Predictions made with classifier: RandomForestClassifier0\n",
      "INFO:utils.ml:Predictions made with classifier: RandomForestClassifier1\n",
      "INFO:utils.ml:Predictions made with classifier: RandomForestClassifier2\n",
      "INFO:utils.ml:Predictions made with classifier: RandomForestClassifier3\n",
      "INFO:utils.ml:Predictions made with classifier: RandomForestClassifier4\n",
      "INFO:utils.ml:Predictions made with classifier: RandomForestClassifier5\n",
      "INFO:utils.ml:Predictions made with classifier: RandomForestClassifier6\n"
     ]
    },
    {
     "name": "stdout",
     "output_type": "stream",
     "text": [
      "Processed 27/27 batches.\n"
     ]
    },
    {
     "name": "stderr",
     "output_type": "stream",
     "text": [
      "INFO:utils.ml:Predictions made with classifier: RandomForestClassifier7\n",
      "INFO:utils.ml:Predictions made with classifier: RandomForestClassifier8\n",
      "INFO:utils.ml:Predictions made with classifier: XGBClassifier9\n",
      "INFO:utils.ml:Predictions made with classifier: XGBClassifier10\n",
      "INFO:utils.ml:Predictions made with classifier: XGBClassifier11\n",
      "INFO:utils.ml:Predictions made with classifier: XGBClassifier12\n",
      "INFO:utils.ml:Predictions made with classifier: XGBClassifier13\n",
      "INFO:utils.ml:Predictions made with classifier: XGBClassifier14\n",
      "INFO:utils.ml:Predictions made with classifier: XGBClassifier15\n",
      "INFO:utils.ml:Predictions made with classifier: XGBClassifier16\n",
      "INFO:utils.ml:Predictions made with classifier: XGBClassifier17\n",
      "INFO:utils.ml:Predictions made with classifier: XGBClassifier18\n",
      "INFO:utils.ml:Predictions made with classifier: XGBClassifier19\n"
     ]
    },
    {
     "data": {
      "text/plain": [
       "{'GT': array([0, 0, 0, ..., 2, 2, 2]),\n",
       " 'RandomForestClassifier0': array([0, 0, 2, ..., 1, 0, 0]),\n",
       " 'RandomForestClassifier1': array([0, 0, 2, ..., 1, 0, 0]),\n",
       " 'RandomForestClassifier2': array([0, 0, 2, ..., 1, 0, 0]),\n",
       " 'RandomForestClassifier3': array([0, 0, 2, ..., 1, 0, 0]),\n",
       " 'RandomForestClassifier4': array([0, 0, 2, ..., 1, 0, 0]),\n",
       " 'RandomForestClassifier5': array([2, 0, 2, ..., 1, 0, 0]),\n",
       " 'RandomForestClassifier6': array([0, 0, 2, ..., 1, 0, 0]),\n",
       " 'RandomForestClassifier7': array([0, 0, 2, ..., 1, 0, 0]),\n",
       " 'RandomForestClassifier8': array([0, 0, 2, ..., 1, 0, 0]),\n",
       " 'XGBClassifier9': array([2, 0, 2, ..., 1, 2, 0], dtype=int64),\n",
       " 'XGBClassifier10': array([0, 0, 2, ..., 1, 2, 0], dtype=int64),\n",
       " 'XGBClassifier11': array([0, 0, 2, ..., 1, 2, 0], dtype=int64),\n",
       " 'XGBClassifier12': array([2, 0, 2, ..., 1, 0, 0], dtype=int64),\n",
       " 'XGBClassifier13': array([2, 0, 2, ..., 1, 2, 0], dtype=int64),\n",
       " 'XGBClassifier14': array([0, 0, 2, ..., 1, 2, 0], dtype=int64),\n",
       " 'XGBClassifier15': array([0, 0, 2, ..., 1, 0, 0], dtype=int64),\n",
       " 'XGBClassifier16': array([0, 0, 2, ..., 1, 0, 0], dtype=int64),\n",
       " 'XGBClassifier17': array([0, 0, 2, ..., 1, 0, 0], dtype=int64),\n",
       " 'XGBClassifier18': array([2, 0, 2, ..., 1, 0, 0], dtype=int64),\n",
       " 'XGBClassifier19': array([2, 0, 2, ..., 1, 0, 0], dtype=int64)}"
      ]
     },
     "execution_count": 13,
     "metadata": {},
     "output_type": "execute_result"
    }
   ],
   "execution_count": 13
  },
  {
   "metadata": {
    "ExecuteTime": {
     "end_time": "2024-11-02T09:10:24.509730Z",
     "start_time": "2024-11-02T09:10:24.390471Z"
    }
   },
   "cell_type": "code",
   "source": [
    "import pandas as pd\n",
    "\n",
    "df = pd.DataFrame(data=pipeline.calculate_metrics(\n",
    "    [\"accuracy\", \"precision\", \"recall\", \"f1\", \"kappa\"],))\n",
    "df.T"
   ],
   "id": "3b6534db74d47624",
   "outputs": [
    {
     "name": "stderr",
     "output_type": "stream",
     "text": [
      "INFO:utils.ml:Metrics for classifier GT: {'accuracy': 1.0, 'precision': 1.0, 'recall': 1.0, 'f1': 1.0, 'kappa': 1.0}\n",
      "INFO:utils.ml:Metrics for classifier RandomForestClassifier0: {'accuracy': 0.7889763779527559, 'precision': 0.6722362722594258, 'recall': 0.6793865980459843, 'f1': 0.6743538792149902, 'kappa': 0.6255550225969557}\n",
      "INFO:utils.ml:Metrics for classifier RandomForestClassifier1: {'accuracy': 0.7921259842519685, 'precision': 0.6777102532653937, 'recall': 0.6838745177156249, 'f1': 0.6797277472567019, 'kappa': 0.6303205916987523}\n",
      "INFO:utils.ml:Metrics for classifier RandomForestClassifier2: {'accuracy': 0.7929133858267716, 'precision': 0.6806240272172474, 'recall': 0.6825556163018988, 'f1': 0.6801041156742126, 'kappa': 0.6314120248778399}\n",
      "INFO:utils.ml:Metrics for classifier RandomForestClassifier3: {'accuracy': 0.7858267716535433, 'precision': 0.6701126693036078, 'recall': 0.6853394876184585, 'f1': 0.6759714803498548, 'kappa': 0.6215733015494638}\n",
      "INFO:utils.ml:Metrics for classifier RandomForestClassifier4: {'accuracy': 0.7858267716535433, 'precision': 0.6701126693036078, 'recall': 0.6853394876184585, 'f1': 0.6759714803498548, 'kappa': 0.6215733015494638}\n",
      "INFO:utils.ml:Metrics for classifier RandomForestClassifier5: {'accuracy': 0.7755905511811023, 'precision': 0.6559819549234954, 'recall': 0.6748274715632756, 'f1': 0.6632809561919893, 'kappa': 0.6044781012326252}\n",
      "INFO:utils.ml:Metrics for classifier RandomForestClassifier6: {'accuracy': 0.7858267716535433, 'precision': 0.6701126693036078, 'recall': 0.6853394876184585, 'f1': 0.6759714803498548, 'kappa': 0.6215733015494638}\n",
      "INFO:utils.ml:Metrics for classifier RandomForestClassifier7: {'accuracy': 0.7984251968503937, 'precision': 0.6819272018108612, 'recall': 0.6608506454109918, 'f1': 0.668062504067705, 'kappa': 0.6353276353276354}\n",
      "INFO:utils.ml:Metrics for classifier RandomForestClassifier8: {'accuracy': 0.6622047244094488, 'precision': 0.5683224718961154, 'recall': 0.5821066226873225, 'f1': 0.5545028497405357, 'kappa': 0.4412871019082154}\n",
      "INFO:utils.ml:Metrics for classifier XGBClassifier9: {'accuracy': 0.8299212598425196, 'precision': 0.729810706699381, 'recall': 0.7036745488197691, 'f1': 0.7138546766572867, 'kappa': 0.6915909285100758}\n",
      "INFO:utils.ml:Metrics for classifier XGBClassifier10: {'accuracy': 0.8307086614173228, 'precision': 0.7404608183966168, 'recall': 0.7073983500688249, 'f1': 0.7199074329387493, 'kappa': 0.6926621613712186}\n",
      "INFO:utils.ml:Metrics for classifier XGBClassifier11: {'accuracy': 0.8283464566929134, 'precision': 0.738793673691588, 'recall': 0.7084447751465285, 'f1': 0.7202585642763215, 'kappa': 0.6885938470121387}\n",
      "INFO:utils.ml:Metrics for classifier XGBClassifier12: {'accuracy': 0.7763779527559055, 'precision': 0.6440700729118508, 'recall': 0.6679662855274736, 'f1': 0.6511186018886789, 'kappa': 0.6103957829243001}\n",
      "INFO:utils.ml:Metrics for classifier XGBClassifier13: {'accuracy': 0.831496062992126, 'precision': 0.7178006479893272, 'recall': 0.704657832988894, 'f1': 0.7100094991560132, 'kappa': 0.6959819231285516}\n",
      "INFO:utils.ml:Metrics for classifier XGBClassifier14: {'accuracy': 0.8212598425196851, 'precision': 0.703235453411644, 'recall': 0.6946789228085378, 'f1': 0.6980849151448391, 'kappa': 0.6782089805467624}\n",
      "INFO:utils.ml:Metrics for classifier XGBClassifier15: {'accuracy': 0.8275590551181102, 'precision': 0.7132540565916301, 'recall': 0.6957353042370954, 'f1': 0.7026421291600252, 'kappa': 0.6881894742506591}\n",
      "INFO:utils.ml:Metrics for classifier XGBClassifier16: {'accuracy': 0.8291338582677166, 'precision': 0.7211748188107086, 'recall': 0.7057042580665978, 'f1': 0.7120879302594404, 'kappa': 0.691394107160454}\n",
      "INFO:utils.ml:Metrics for classifier XGBClassifier17: {'accuracy': 0.8283464566929134, 'precision': 0.7163907482034452, 'recall': 0.7053903179403108, 'f1': 0.7099259208328729, 'kappa': 0.6906412439605429}\n",
      "INFO:utils.ml:Metrics for classifier XGBClassifier18: {'accuracy': 0.8291338582677166, 'precision': 0.7168831628961639, 'recall': 0.6879106207041182, 'f1': 0.698291933281565, 'kappa': 0.6894578611929938}\n",
      "INFO:utils.ml:Metrics for classifier XGBClassifier19: {'accuracy': 0.8330708661417323, 'precision': 0.7248502024390452, 'recall': 0.6966554474976413, 'f1': 0.7072067830869503, 'kappa': 0.6967048019862208}\n"
     ]
    },
    {
     "name": "stdout",
     "output_type": "stream",
     "text": [
      "cannot access local variable 'report' where it is not associated with a value\n",
      "cannot access local variable 'report' where it is not associated with a value\n",
      "cannot access local variable 'report' where it is not associated with a value\n",
      "cannot access local variable 'report' where it is not associated with a value\n",
      "cannot access local variable 'report' where it is not associated with a value\n",
      "cannot access local variable 'report' where it is not associated with a value\n",
      "cannot access local variable 'report' where it is not associated with a value\n",
      "cannot access local variable 'report' where it is not associated with a value\n",
      "cannot access local variable 'report' where it is not associated with a value\n",
      "cannot access local variable 'report' where it is not associated with a value\n",
      "cannot access local variable 'report' where it is not associated with a value\n",
      "cannot access local variable 'report' where it is not associated with a value\n",
      "cannot access local variable 'report' where it is not associated with a value\n",
      "cannot access local variable 'report' where it is not associated with a value\n",
      "cannot access local variable 'report' where it is not associated with a value\n",
      "cannot access local variable 'report' where it is not associated with a value\n",
      "cannot access local variable 'report' where it is not associated with a value\n",
      "cannot access local variable 'report' where it is not associated with a value\n",
      "cannot access local variable 'report' where it is not associated with a value\n",
      "cannot access local variable 'report' where it is not associated with a value\n",
      "cannot access local variable 'report' where it is not associated with a value\n"
     ]
    },
    {
     "data": {
      "text/plain": [
       "                         accuracy  precision    recall        f1     kappa\n",
       "GT                       1.000000   1.000000  1.000000  1.000000  1.000000\n",
       "RandomForestClassifier0  0.788976   0.672236  0.679387  0.674354  0.625555\n",
       "RandomForestClassifier1  0.792126   0.677710  0.683875  0.679728  0.630321\n",
       "RandomForestClassifier2  0.792913   0.680624  0.682556  0.680104  0.631412\n",
       "RandomForestClassifier3  0.785827   0.670113  0.685339  0.675971  0.621573\n",
       "RandomForestClassifier4  0.785827   0.670113  0.685339  0.675971  0.621573\n",
       "RandomForestClassifier5  0.775591   0.655982  0.674827  0.663281  0.604478\n",
       "RandomForestClassifier6  0.785827   0.670113  0.685339  0.675971  0.621573\n",
       "RandomForestClassifier7  0.798425   0.681927  0.660851  0.668063  0.635328\n",
       "RandomForestClassifier8  0.662205   0.568322  0.582107  0.554503  0.441287\n",
       "XGBClassifier9           0.829921   0.729811  0.703675  0.713855  0.691591\n",
       "XGBClassifier10          0.830709   0.740461  0.707398  0.719907  0.692662\n",
       "XGBClassifier11          0.828346   0.738794  0.708445  0.720259  0.688594\n",
       "XGBClassifier12          0.776378   0.644070  0.667966  0.651119  0.610396\n",
       "XGBClassifier13          0.831496   0.717801  0.704658  0.710009  0.695982\n",
       "XGBClassifier14          0.821260   0.703235  0.694679  0.698085  0.678209\n",
       "XGBClassifier15          0.827559   0.713254  0.695735  0.702642  0.688189\n",
       "XGBClassifier16          0.829134   0.721175  0.705704  0.712088  0.691394\n",
       "XGBClassifier17          0.828346   0.716391  0.705390  0.709926  0.690641\n",
       "XGBClassifier18          0.829134   0.716883  0.687911  0.698292  0.689458\n",
       "XGBClassifier19          0.833071   0.724850  0.696655  0.707207  0.696705"
      ],
      "text/html": [
       "<div>\n",
       "<style scoped>\n",
       "    .dataframe tbody tr th:only-of-type {\n",
       "        vertical-align: middle;\n",
       "    }\n",
       "\n",
       "    .dataframe tbody tr th {\n",
       "        vertical-align: top;\n",
       "    }\n",
       "\n",
       "    .dataframe thead th {\n",
       "        text-align: right;\n",
       "    }\n",
       "</style>\n",
       "<table border=\"1\" class=\"dataframe\">\n",
       "  <thead>\n",
       "    <tr style=\"text-align: right;\">\n",
       "      <th></th>\n",
       "      <th>accuracy</th>\n",
       "      <th>precision</th>\n",
       "      <th>recall</th>\n",
       "      <th>f1</th>\n",
       "      <th>kappa</th>\n",
       "    </tr>\n",
       "  </thead>\n",
       "  <tbody>\n",
       "    <tr>\n",
       "      <th>GT</th>\n",
       "      <td>1.000000</td>\n",
       "      <td>1.000000</td>\n",
       "      <td>1.000000</td>\n",
       "      <td>1.000000</td>\n",
       "      <td>1.000000</td>\n",
       "    </tr>\n",
       "    <tr>\n",
       "      <th>RandomForestClassifier0</th>\n",
       "      <td>0.788976</td>\n",
       "      <td>0.672236</td>\n",
       "      <td>0.679387</td>\n",
       "      <td>0.674354</td>\n",
       "      <td>0.625555</td>\n",
       "    </tr>\n",
       "    <tr>\n",
       "      <th>RandomForestClassifier1</th>\n",
       "      <td>0.792126</td>\n",
       "      <td>0.677710</td>\n",
       "      <td>0.683875</td>\n",
       "      <td>0.679728</td>\n",
       "      <td>0.630321</td>\n",
       "    </tr>\n",
       "    <tr>\n",
       "      <th>RandomForestClassifier2</th>\n",
       "      <td>0.792913</td>\n",
       "      <td>0.680624</td>\n",
       "      <td>0.682556</td>\n",
       "      <td>0.680104</td>\n",
       "      <td>0.631412</td>\n",
       "    </tr>\n",
       "    <tr>\n",
       "      <th>RandomForestClassifier3</th>\n",
       "      <td>0.785827</td>\n",
       "      <td>0.670113</td>\n",
       "      <td>0.685339</td>\n",
       "      <td>0.675971</td>\n",
       "      <td>0.621573</td>\n",
       "    </tr>\n",
       "    <tr>\n",
       "      <th>RandomForestClassifier4</th>\n",
       "      <td>0.785827</td>\n",
       "      <td>0.670113</td>\n",
       "      <td>0.685339</td>\n",
       "      <td>0.675971</td>\n",
       "      <td>0.621573</td>\n",
       "    </tr>\n",
       "    <tr>\n",
       "      <th>RandomForestClassifier5</th>\n",
       "      <td>0.775591</td>\n",
       "      <td>0.655982</td>\n",
       "      <td>0.674827</td>\n",
       "      <td>0.663281</td>\n",
       "      <td>0.604478</td>\n",
       "    </tr>\n",
       "    <tr>\n",
       "      <th>RandomForestClassifier6</th>\n",
       "      <td>0.785827</td>\n",
       "      <td>0.670113</td>\n",
       "      <td>0.685339</td>\n",
       "      <td>0.675971</td>\n",
       "      <td>0.621573</td>\n",
       "    </tr>\n",
       "    <tr>\n",
       "      <th>RandomForestClassifier7</th>\n",
       "      <td>0.798425</td>\n",
       "      <td>0.681927</td>\n",
       "      <td>0.660851</td>\n",
       "      <td>0.668063</td>\n",
       "      <td>0.635328</td>\n",
       "    </tr>\n",
       "    <tr>\n",
       "      <th>RandomForestClassifier8</th>\n",
       "      <td>0.662205</td>\n",
       "      <td>0.568322</td>\n",
       "      <td>0.582107</td>\n",
       "      <td>0.554503</td>\n",
       "      <td>0.441287</td>\n",
       "    </tr>\n",
       "    <tr>\n",
       "      <th>XGBClassifier9</th>\n",
       "      <td>0.829921</td>\n",
       "      <td>0.729811</td>\n",
       "      <td>0.703675</td>\n",
       "      <td>0.713855</td>\n",
       "      <td>0.691591</td>\n",
       "    </tr>\n",
       "    <tr>\n",
       "      <th>XGBClassifier10</th>\n",
       "      <td>0.830709</td>\n",
       "      <td>0.740461</td>\n",
       "      <td>0.707398</td>\n",
       "      <td>0.719907</td>\n",
       "      <td>0.692662</td>\n",
       "    </tr>\n",
       "    <tr>\n",
       "      <th>XGBClassifier11</th>\n",
       "      <td>0.828346</td>\n",
       "      <td>0.738794</td>\n",
       "      <td>0.708445</td>\n",
       "      <td>0.720259</td>\n",
       "      <td>0.688594</td>\n",
       "    </tr>\n",
       "    <tr>\n",
       "      <th>XGBClassifier12</th>\n",
       "      <td>0.776378</td>\n",
       "      <td>0.644070</td>\n",
       "      <td>0.667966</td>\n",
       "      <td>0.651119</td>\n",
       "      <td>0.610396</td>\n",
       "    </tr>\n",
       "    <tr>\n",
       "      <th>XGBClassifier13</th>\n",
       "      <td>0.831496</td>\n",
       "      <td>0.717801</td>\n",
       "      <td>0.704658</td>\n",
       "      <td>0.710009</td>\n",
       "      <td>0.695982</td>\n",
       "    </tr>\n",
       "    <tr>\n",
       "      <th>XGBClassifier14</th>\n",
       "      <td>0.821260</td>\n",
       "      <td>0.703235</td>\n",
       "      <td>0.694679</td>\n",
       "      <td>0.698085</td>\n",
       "      <td>0.678209</td>\n",
       "    </tr>\n",
       "    <tr>\n",
       "      <th>XGBClassifier15</th>\n",
       "      <td>0.827559</td>\n",
       "      <td>0.713254</td>\n",
       "      <td>0.695735</td>\n",
       "      <td>0.702642</td>\n",
       "      <td>0.688189</td>\n",
       "    </tr>\n",
       "    <tr>\n",
       "      <th>XGBClassifier16</th>\n",
       "      <td>0.829134</td>\n",
       "      <td>0.721175</td>\n",
       "      <td>0.705704</td>\n",
       "      <td>0.712088</td>\n",
       "      <td>0.691394</td>\n",
       "    </tr>\n",
       "    <tr>\n",
       "      <th>XGBClassifier17</th>\n",
       "      <td>0.828346</td>\n",
       "      <td>0.716391</td>\n",
       "      <td>0.705390</td>\n",
       "      <td>0.709926</td>\n",
       "      <td>0.690641</td>\n",
       "    </tr>\n",
       "    <tr>\n",
       "      <th>XGBClassifier18</th>\n",
       "      <td>0.829134</td>\n",
       "      <td>0.716883</td>\n",
       "      <td>0.687911</td>\n",
       "      <td>0.698292</td>\n",
       "      <td>0.689458</td>\n",
       "    </tr>\n",
       "    <tr>\n",
       "      <th>XGBClassifier19</th>\n",
       "      <td>0.833071</td>\n",
       "      <td>0.724850</td>\n",
       "      <td>0.696655</td>\n",
       "      <td>0.707207</td>\n",
       "      <td>0.696705</td>\n",
       "    </tr>\n",
       "  </tbody>\n",
       "</table>\n",
       "</div>"
      ]
     },
     "execution_count": 14,
     "metadata": {},
     "output_type": "execute_result"
    }
   ],
   "execution_count": 14
  },
  {
   "metadata": {},
   "cell_type": "markdown",
   "source": [
    "___\n",
    "Borderline SMOTE"
   ],
   "id": "1e752cdfc948f3bc"
  },
  {
   "metadata": {
    "ExecuteTime": {
     "end_time": "2024-11-02T09:10:24.767419Z",
     "start_time": "2024-11-02T09:10:24.551715Z"
    }
   },
   "cell_type": "code",
   "source": [
    "from imblearn.over_sampling import BorderlineSMOTE\n",
    "smote = BorderlineSMOTE(sampling_strategy='auto', random_state=42)\n",
    "\n",
    "pipeline.feature_matrix, pipeline.labels = smote.fit_resample(\n",
    "    pipeline.backup_feature_matrix, pipeline.backup_labels)\n",
    "\n",
    "print(pipeline.backup_feature_matrix.shape)\n",
    "print(pipeline.feature_matrix.shape)\n",
    "\n",
    "print(pipeline.backup_labels.shape)\n",
    "print(pipeline.labels.shape)\n",
    "\n",
    "pipeline.fitted_classifiers = {}"
   ],
   "id": "ca12420fbcc1eb2b",
   "outputs": [
    {
     "name": "stdout",
     "output_type": "stream",
     "text": [
      "(5082, 408)\n",
      "(8139, 408)\n",
      "(5082,)\n",
      "(8139,)\n"
     ]
    }
   ],
   "execution_count": 15
  },
  {
   "metadata": {
    "ExecuteTime": {
     "end_time": "2024-11-02T09:16:14.888863Z",
     "start_time": "2024-11-02T09:10:24.795740Z"
    }
   },
   "cell_type": "code",
   "source": "pipeline.fit_classifiers()",
   "id": "a4ea57f5e5a38f80",
   "outputs": [
    {
     "name": "stderr",
     "output_type": "stream",
     "text": [
      "INFO:utils.ml:Fitting classifiers...\n",
      "INFO:utils.ml:Fitting classifier: RandomForestClassifier0\n",
      "INFO:utils.ml:Fitted classifier: RandomForestClassifier0; Done in 11.071761846542358 seconds\n",
      "INFO:utils.ml:Fitting classifier: RandomForestClassifier1\n"
     ]
    },
    {
     "name": "stdout",
     "output_type": "stream",
     "text": [
      "list index out of range\n"
     ]
    },
    {
     "name": "stderr",
     "output_type": "stream",
     "text": [
      "INFO:utils.ml:Fitted classifier: RandomForestClassifier1; Done in 16.740445852279663 seconds\n",
      "INFO:utils.ml:Fitting classifier: RandomForestClassifier2\n"
     ]
    },
    {
     "name": "stdout",
     "output_type": "stream",
     "text": [
      "list index out of range\n"
     ]
    },
    {
     "name": "stderr",
     "output_type": "stream",
     "text": [
      "INFO:utils.ml:Top 10 features for RandomForestClassifier2: [('color_moments_lab_channel_0_skew', 0.019820747437701507), ('color_moments_hsv_channel_0_mean', 0.017707205919324016), ('var_lab_channel_0', 0.012777465256529943), ('var_rgb_channel_2', 0.01134323524320351), ('color_moments_hsv_channel_2_mean', 0.008869025967237399), ('var_rgb_channel_1', 0.00879990342702696), ('color_moments_lab_channel_1_std', 0.008578474439866984), ('color_moments_rgb_channel_1_skew', 0.008531379424008972), ('gradient_magnitude_std', 0.008290083907492335), ('var_lab_channel_2', 0.007892913773635008)]\n",
      "INFO:utils.ml:Fitted classifier: RandomForestClassifier2; Done in 28.788798332214355 seconds\n",
      "INFO:utils.ml:Fitting classifier: RandomForestClassifier3\n",
      "INFO:utils.ml:Fitted classifier: RandomForestClassifier3; Done in 11.504178524017334 seconds\n",
      "INFO:utils.ml:Fitting classifier: RandomForestClassifier4\n"
     ]
    },
    {
     "name": "stdout",
     "output_type": "stream",
     "text": [
      "list index out of range\n"
     ]
    },
    {
     "name": "stderr",
     "output_type": "stream",
     "text": [
      "INFO:utils.ml:Fitted classifier: RandomForestClassifier4; Done in 11.624989748001099 seconds\n",
      "INFO:utils.ml:Fitting classifier: RandomForestClassifier5\n"
     ]
    },
    {
     "name": "stdout",
     "output_type": "stream",
     "text": [
      "list index out of range\n"
     ]
    },
    {
     "name": "stderr",
     "output_type": "stream",
     "text": [
      "INFO:utils.ml:Fitted classifier: RandomForestClassifier5; Done in 9.622249126434326 seconds\n",
      "INFO:utils.ml:Fitting classifier: RandomForestClassifier6\n"
     ]
    },
    {
     "name": "stdout",
     "output_type": "stream",
     "text": [
      "list index out of range\n"
     ]
    },
    {
     "name": "stderr",
     "output_type": "stream",
     "text": [
      "INFO:utils.ml:Fitted classifier: RandomForestClassifier6; Done in 11.733146667480469 seconds\n",
      "INFO:utils.ml:Fitting classifier: RandomForestClassifier7\n"
     ]
    },
    {
     "name": "stdout",
     "output_type": "stream",
     "text": [
      "list index out of range\n"
     ]
    },
    {
     "name": "stderr",
     "output_type": "stream",
     "text": [
      "INFO:utils.ml:Fitted classifier: RandomForestClassifier7; Done in 17.101027488708496 seconds\n",
      "INFO:utils.ml:Fitting classifier: RandomForestClassifier8\n"
     ]
    },
    {
     "name": "stdout",
     "output_type": "stream",
     "text": [
      "list index out of range\n"
     ]
    },
    {
     "name": "stderr",
     "output_type": "stream",
     "text": [
      "INFO:utils.ml:Fitted classifier: RandomForestClassifier8; Done in 4.09400486946106 seconds\n",
      "INFO:utils.ml:Fitting classifier: XGBClassifier9\n"
     ]
    },
    {
     "name": "stdout",
     "output_type": "stream",
     "text": [
      "list index out of range\n"
     ]
    },
    {
     "name": "stderr",
     "output_type": "stream",
     "text": [
      "INFO:utils.ml:Top 10 features for XGBClassifier9: [('lbp_rad2_bins16_12', 0.027490644), ('color_moments_hsv_channel_0_mean', 0.014926342), ('lbp_rad2_bins16_4', 0.0141115915), ('lbp_rad1_bins32_2', 0.013780878), ('var_lab_channel_0', 0.012862133), ('lbp_rad1_bins16_15', 0.011498478), ('lbp_rad1_bins64_9', 0.009550598), ('lbp_rad1_bins64_58', 0.00904974), ('color_moments_lab_channel_1_std', 0.009013804), ('color_moments_lab_channel_0_skew', 0.008985067)]\n",
      "INFO:utils.ml:Fitted classifier: XGBClassifier9; Done in 13.546777248382568 seconds\n",
      "INFO:utils.ml:Fitting classifier: XGBClassifier10\n",
      "INFO:utils.ml:Top 10 features for XGBClassifier10: [('lbp_rad2_bins16_12', 0.026554331), ('lbp_rad1_bins32_2', 0.014974523), ('color_moments_hsv_channel_0_mean', 0.014326155), ('lbp_rad2_bins16_4', 0.014136703), ('var_lab_channel_0', 0.0133110285), ('lbp_rad1_bins16_15', 0.0121044805), ('lbp_rad1_bins64_9', 0.009767645), ('color_moments_lab_channel_1_std', 0.009142162), ('color_moments_lab_channel_0_skew', 0.0090346355), ('lbp_rad1_bins64_58', 0.00891787)]\n",
      "INFO:utils.ml:Fitted classifier: XGBClassifier10; Done in 16.80064868927002 seconds\n",
      "INFO:utils.ml:Fitting classifier: XGBClassifier11\n",
      "INFO:utils.ml:Top 10 features for XGBClassifier11: [('lbp_rad2_bins16_12', 0.028045882), ('lbp_rad1_bins32_2', 0.01581564), ('lbp_rad2_bins16_4', 0.013849404), ('color_moments_hsv_channel_0_mean', 0.013770681), ('var_lab_channel_0', 0.013731862), ('lbp_rad1_bins16_15', 0.012784387), ('lbp_rad1_bins64_9', 0.009743539), ('color_moments_lab_channel_1_std', 0.009196158), ('color_moments_lab_channel_0_skew', 0.009053981), ('lbp_rad1_bins64_63', 0.009043461)]\n",
      "INFO:utils.ml:Fitted classifier: XGBClassifier11; Done in 20.190388441085815 seconds\n",
      "INFO:utils.ml:Fitting classifier: XGBClassifier12\n",
      "INFO:utils.ml:Top 10 features for XGBClassifier12: [('color_moments_hsv_channel_0_mean', 0.014337639), ('lbp_rad2_bins16_15', 0.0130143305), ('lbp_rad2_bins16_12', 0.012900726), ('lbp_rad1_bins64_63', 0.009932263), ('lbp_rad1_bins32_19', 0.009827615), ('lbp_rad2_bins16_5', 0.009239857), ('color_moments_lab_channel_0_skew', 0.0087491395), ('lbp_rad1_bins64_62', 0.008451303), ('color_moments_lab_channel_1_skew', 0.008167539), ('lbp_rad2_bins16_4', 0.008121975)]\n",
      "INFO:utils.ml:Fitted classifier: XGBClassifier12; Done in 8.411486387252808 seconds\n",
      "INFO:utils.ml:Fitting classifier: XGBClassifier13\n",
      "INFO:utils.ml:Top 10 features for XGBClassifier13: [('lbp_rad2_bins16_12', 0.012626183), ('color_moments_hsv_channel_0_mean', 0.010832824), ('lbp_rad1_bins16_15', 0.009506052), ('lbp_rad1_bins32_21', 0.009092142), ('lbp_rad2_bins16_4', 0.008983732), ('var_lab_channel_0', 0.008253685), ('lbp_rad1_bins64_26', 0.008242969), ('color_moments_lab_channel_0_skew', 0.008007811), ('lbp_rad1_bins64_58', 0.007879808), ('color_moments_hsv_channel_2_mean', 0.0066007017)]\n",
      "INFO:utils.ml:Fitted classifier: XGBClassifier13; Done in 18.56006360054016 seconds\n",
      "INFO:utils.ml:Fitting classifier: XGBClassifier14\n",
      "INFO:utils.ml:Top 10 features for XGBClassifier14: [('lbp_rad1_bins16_15', 0.012838424), ('color_moments_hsv_channel_0_mean', 0.011296384), ('var_lab_channel_0', 0.0105281565), ('color_moments_lab_channel_0_skew', 0.0102565745), ('lbp_rad2_bins16_12', 0.009553419), ('lbp_rad2_bins16_4', 0.008471033), ('lbp_rad1_bins32_0', 0.008131579), ('lbp_rad1_bins64_58', 0.008057671), ('color_moments_hsv_channel_2_mean', 0.0077380687), ('lbp_rad1_bins32_2', 0.007718949)]\n",
      "INFO:utils.ml:Fitted classifier: XGBClassifier14; Done in 12.269917726516724 seconds\n",
      "INFO:utils.ml:Fitting classifier: XGBClassifier15\n",
      "INFO:utils.ml:Top 10 features for XGBClassifier15: [('lbp_rad1_bins16_15', 0.01302888), ('color_moments_hsv_channel_0_mean', 0.013012352), ('var_lab_channel_0', 0.010747676), ('color_moments_lab_channel_0_skew', 0.009380036), ('lbp_rad2_bins16_12', 0.009285851), ('lbp_rad2_bins16_4', 0.008724223), ('lbp_rad1_bins64_58', 0.008445673), ('lbp_rad3_bins64_8', 0.008246586), ('color_moments_lab_channel_1_std', 0.0075921915), ('lbp_rad1_bins64_63', 0.0073733707)]\n",
      "INFO:utils.ml:Fitted classifier: XGBClassifier15; Done in 13.531484603881836 seconds\n",
      "INFO:utils.ml:Fitting classifier: XGBClassifier16\n",
      "INFO:utils.ml:Top 10 features for XGBClassifier16: [('color_moments_hsv_channel_0_mean', 0.01347068), ('var_lab_channel_0', 0.011309945), ('lbp_rad2_bins16_12', 0.009195875), ('lbp_rad1_bins16_15', 0.008791412), ('lbp_rad2_bins16_4', 0.008733889), ('lbp_rad1_bins64_63', 0.008733562), ('color_moments_lab_channel_0_skew', 0.008342569), ('color_moments_hsv_channel_2_mean', 0.007165477), ('lbp_rad1_bins64_58', 0.007125191), ('lbp_rad1_bins32_19', 0.006940843)]\n",
      "INFO:utils.ml:Fitted classifier: XGBClassifier16; Done in 31.309030055999756 seconds\n",
      "INFO:utils.ml:Fitting classifier: XGBClassifier17\n",
      "INFO:utils.ml:Top 10 features for XGBClassifier17: [('color_moments_hsv_channel_0_mean', 0.013993528), ('var_lab_channel_0', 0.011061312), ('lbp_rad1_bins64_63', 0.009002652), ('lbp_rad2_bins16_12', 0.008932756), ('lbp_rad1_bins16_15', 0.008479264), ('lbp_rad2_bins16_4', 0.008396877), ('color_moments_lab_channel_0_skew', 0.008038939), ('color_moments_hsv_channel_2_mean', 0.007052887), ('lbp_rad1_bins64_58', 0.0069429935), ('lbp_rad1_bins64_26', 0.006537796)]\n",
      "INFO:utils.ml:Fitted classifier: XGBClassifier17; Done in 26.463500499725342 seconds\n",
      "INFO:utils.ml:Fitting classifier: XGBClassifier18\n",
      "INFO:utils.ml:Top 10 features for XGBClassifier18: [('lbp_rad2_bins16_12', 0.012883072), ('color_moments_hsv_channel_0_mean', 0.011776006), ('var_lab_channel_0', 0.0113098845), ('color_moments_lab_channel_0_skew', 0.009527829), ('lbp_rad2_bins16_4', 0.009345702), ('lbp_rad1_bins16_15', 0.008530869), ('lbp_rad1_bins64_26', 0.0076718866), ('lbp_rad1_bins64_58', 0.0075599016), ('lbp_rad1_bins32_21', 0.0074330447), ('lbp_rad1_bins16_16', 0.0073189023)]\n",
      "INFO:utils.ml:Fitted classifier: XGBClassifier18; Done in 27.72044086456299 seconds\n",
      "INFO:utils.ml:Fitting classifier: XGBClassifier19\n",
      "INFO:utils.ml:Top 10 features for XGBClassifier19: [('lbp_rad2_bins16_12', 0.013111534), ('color_moments_hsv_channel_0_mean', 0.011639268), ('var_lab_channel_0', 0.011626471), ('color_moments_lab_channel_0_skew', 0.009779202), ('lbp_rad2_bins16_4', 0.009686861), ('lbp_rad1_bins16_15', 0.008761487), ('lbp_rad1_bins16_16', 0.007902348), ('lbp_rad1_bins64_26', 0.007827024), ('lbp_rad1_bins32_21', 0.007684727), ('lbp_rad1_bins64_58', 0.0075802193)]\n",
      "INFO:utils.ml:Fitted classifier: XGBClassifier19; Done in 38.99881982803345 seconds\n",
      "INFO:utils.ml:Fitting completed in 350.08 seconds.\n"
     ]
    }
   ],
   "execution_count": 16
  },
  {
   "metadata": {
    "ExecuteTime": {
     "end_time": "2024-11-02T09:22:27.905581Z",
     "start_time": "2024-11-02T09:16:14.973546Z"
    }
   },
   "cell_type": "code",
   "source": "pipeline.predict_with_classifiers(VAL_PATH)",
   "id": "156c56b343fa5df1",
   "outputs": [
    {
     "name": "stderr",
     "output_type": "stream",
     "text": [
      "INFO:utils.ml:Predicting with classifiers on dataset: C:\\Users\\gimes\\Src\\repos\\CADx-Project\\dataset\\multiclass\\val\n"
     ]
    },
    {
     "name": "stdout",
     "output_type": "stream",
     "text": [
      "Processed 5/27 batches.\n",
      "Processed 10/27 batches.\n",
      "Processed 15/27 batches.\n",
      "Processed 20/27 batches.\n",
      "Processed 25/27 batches.\n"
     ]
    },
    {
     "name": "stderr",
     "output_type": "stream",
     "text": [
      "INFO:utils.ml:Predictions made with classifier: RandomForestClassifier0\n",
      "INFO:utils.ml:Predictions made with classifier: RandomForestClassifier1\n",
      "INFO:utils.ml:Predictions made with classifier: RandomForestClassifier2\n",
      "INFO:utils.ml:Predictions made with classifier: RandomForestClassifier3\n",
      "INFO:utils.ml:Predictions made with classifier: RandomForestClassifier4\n",
      "INFO:utils.ml:Predictions made with classifier: RandomForestClassifier5\n",
      "INFO:utils.ml:Predictions made with classifier: RandomForestClassifier6\n"
     ]
    },
    {
     "name": "stdout",
     "output_type": "stream",
     "text": [
      "Processed 27/27 batches.\n"
     ]
    },
    {
     "name": "stderr",
     "output_type": "stream",
     "text": [
      "INFO:utils.ml:Predictions made with classifier: RandomForestClassifier7\n",
      "INFO:utils.ml:Predictions made with classifier: RandomForestClassifier8\n",
      "INFO:utils.ml:Predictions made with classifier: XGBClassifier9\n",
      "INFO:utils.ml:Predictions made with classifier: XGBClassifier10\n",
      "INFO:utils.ml:Predictions made with classifier: XGBClassifier11\n",
      "INFO:utils.ml:Predictions made with classifier: XGBClassifier12\n",
      "INFO:utils.ml:Predictions made with classifier: XGBClassifier13\n",
      "INFO:utils.ml:Predictions made with classifier: XGBClassifier14\n",
      "INFO:utils.ml:Predictions made with classifier: XGBClassifier15\n",
      "INFO:utils.ml:Predictions made with classifier: XGBClassifier16\n",
      "INFO:utils.ml:Predictions made with classifier: XGBClassifier17\n",
      "INFO:utils.ml:Predictions made with classifier: XGBClassifier18\n",
      "INFO:utils.ml:Predictions made with classifier: XGBClassifier19\n"
     ]
    },
    {
     "data": {
      "text/plain": [
       "{'GT': array([0, 0, 0, ..., 2, 2, 2]),\n",
       " 'RandomForestClassifier0': array([0, 0, 2, ..., 1, 0, 0]),\n",
       " 'RandomForestClassifier1': array([0, 0, 2, ..., 1, 0, 0]),\n",
       " 'RandomForestClassifier2': array([0, 0, 2, ..., 1, 0, 0]),\n",
       " 'RandomForestClassifier3': array([0, 0, 2, ..., 1, 0, 0]),\n",
       " 'RandomForestClassifier4': array([0, 0, 2, ..., 1, 0, 0]),\n",
       " 'RandomForestClassifier5': array([2, 0, 2, ..., 1, 0, 0]),\n",
       " 'RandomForestClassifier6': array([0, 0, 2, ..., 1, 0, 0]),\n",
       " 'RandomForestClassifier7': array([0, 0, 2, ..., 1, 0, 0]),\n",
       " 'RandomForestClassifier8': array([2, 0, 2, ..., 1, 0, 2]),\n",
       " 'XGBClassifier9': array([0, 0, 2, ..., 1, 2, 0], dtype=int64),\n",
       " 'XGBClassifier10': array([0, 0, 2, ..., 1, 2, 0], dtype=int64),\n",
       " 'XGBClassifier11': array([0, 0, 2, ..., 1, 2, 0], dtype=int64),\n",
       " 'XGBClassifier12': array([2, 0, 2, ..., 1, 0, 0], dtype=int64),\n",
       " 'XGBClassifier13': array([2, 0, 2, ..., 1, 2, 0], dtype=int64),\n",
       " 'XGBClassifier14': array([2, 0, 2, ..., 1, 2, 0], dtype=int64),\n",
       " 'XGBClassifier15': array([0, 0, 2, ..., 1, 2, 0], dtype=int64),\n",
       " 'XGBClassifier16': array([2, 0, 2, ..., 1, 2, 0], dtype=int64),\n",
       " 'XGBClassifier17': array([2, 0, 2, ..., 1, 2, 0], dtype=int64),\n",
       " 'XGBClassifier18': array([2, 0, 2, ..., 1, 2, 0], dtype=int64),\n",
       " 'XGBClassifier19': array([2, 0, 2, ..., 1, 2, 0], dtype=int64)}"
      ]
     },
     "execution_count": 17,
     "metadata": {},
     "output_type": "execute_result"
    }
   ],
   "execution_count": 17
  },
  {
   "metadata": {
    "ExecuteTime": {
     "end_time": "2024-11-02T09:22:28.250688Z",
     "start_time": "2024-11-02T09:22:28.120503Z"
    }
   },
   "cell_type": "code",
   "source": [
    "df = pd.DataFrame(data=pipeline.calculate_metrics(\n",
    "    [\"accuracy\", \"precision\", \"recall\", \"f1\", \"kappa\"],))\n",
    "df.T"
   ],
   "id": "d531dcc7576a4ec2",
   "outputs": [
    {
     "name": "stderr",
     "output_type": "stream",
     "text": [
      "INFO:utils.ml:Metrics for classifier GT: {'accuracy': 1.0, 'precision': 1.0, 'recall': 1.0, 'f1': 1.0, 'kappa': 1.0}\n",
      "INFO:utils.ml:Metrics for classifier RandomForestClassifier0: {'accuracy': 0.778740157480315, 'precision': 0.6666178939249581, 'recall': 0.6564790512076549, 'f1': 0.6595704345375312, 'kappa': 0.6030367074527252}\n",
      "INFO:utils.ml:Metrics for classifier RandomForestClassifier1: {'accuracy': 0.7858267716535433, 'precision': 0.674801338255859, 'recall': 0.6670127443811523, 'f1': 0.6693817306264792, 'kappa': 0.6161146499646608}\n",
      "INFO:utils.ml:Metrics for classifier RandomForestClassifier2: {'accuracy': 0.7905511811023622, 'precision': 0.6848449875266764, 'recall': 0.6708511066799049, 'f1': 0.6755753052859143, 'kappa': 0.6236626220406126}\n",
      "INFO:utils.ml:Metrics for classifier RandomForestClassifier3: {'accuracy': 0.7732283464566929, 'precision': 0.6525413496713812, 'recall': 0.6440518869553403, 'f1': 0.6457977870145115, 'kappa': 0.5942041848802894}\n",
      "INFO:utils.ml:Metrics for classifier RandomForestClassifier4: {'accuracy': 0.7732283464566929, 'precision': 0.6525413496713812, 'recall': 0.6440518869553403, 'f1': 0.6457977870145115, 'kappa': 0.5942041848802894}\n",
      "INFO:utils.ml:Metrics for classifier RandomForestClassifier5: {'accuracy': 0.7692913385826772, 'precision': 0.6552762861179802, 'recall': 0.6644300165577895, 'f1': 0.6585714370364131, 'kappa': 0.590846916425499}\n",
      "INFO:utils.ml:Metrics for classifier RandomForestClassifier6: {'accuracy': 0.7732283464566929, 'precision': 0.6525413496713812, 'recall': 0.6440518869553403, 'f1': 0.6457977870145115, 'kappa': 0.5942041848802894}\n",
      "INFO:utils.ml:Metrics for classifier RandomForestClassifier7: {'accuracy': 0.8086614173228347, 'precision': 0.7057998540975507, 'recall': 0.6781823837117124, 'f1': 0.6873322872719599, 'kappa': 0.6542308847189793}\n",
      "INFO:utils.ml:Metrics for classifier RandomForestClassifier8: {'accuracy': 0.6559055118110236, 'precision': 0.5689026109579407, 'recall': 0.5909579446260533, 'f1': 0.555055165123997, 'kappa': 0.4322771110465522}\n",
      "INFO:utils.ml:Metrics for classifier XGBClassifier9: {'accuracy': 0.8338582677165355, 'precision': 0.7359162101038687, 'recall': 0.7029006000780881, 'f1': 0.7153452150355002, 'kappa': 0.6978140942654933}\n",
      "INFO:utils.ml:Metrics for classifier XGBClassifier10: {'accuracy': 0.8338582677165355, 'precision': 0.742381025378568, 'recall': 0.7057773553260301, 'f1': 0.7195124844673976, 'kappa': 0.6976149530347961}\n",
      "INFO:utils.ml:Metrics for classifier XGBClassifier11: {'accuracy': 0.8330708661417323, 'precision': 0.7374168386611468, 'recall': 0.7024089579935255, 'f1': 0.715430361700696, 'kappa': 0.6963052197963338}\n",
      "INFO:utils.ml:Metrics for classifier XGBClassifier12: {'accuracy': 0.7740157480314961, 'precision': 0.6364154685792646, 'recall': 0.6537404245740888, 'f1': 0.6422878134532073, 'kappa': 0.6031993137173788}\n",
      "INFO:utils.ml:Metrics for classifier XGBClassifier13: {'accuracy': 0.8346456692913385, 'precision': 0.731416299933473, 'recall': 0.6951173803353753, 'f1': 0.7078108714242579, 'kappa': 0.6989420641263563}\n",
      "INFO:utils.ml:Metrics for classifier XGBClassifier14: {'accuracy': 0.8181102362204724, 'precision': 0.7070763569895823, 'recall': 0.6945228979685768, 'f1': 0.6998841553399164, 'kappa': 0.6714502018088886}\n",
      "INFO:utils.ml:Metrics for classifier XGBClassifier15: {'accuracy': 0.8228346456692913, 'precision': 0.7123128391122632, 'recall': 0.6945959952280093, 'f1': 0.7019478256211896, 'kappa': 0.6791445651636896}\n",
      "INFO:utils.ml:Metrics for classifier XGBClassifier16: {'accuracy': 0.8251968503937008, 'precision': 0.7062542720437457, 'recall': 0.6906728149023635, 'f1': 0.6969181039800626, 'kappa': 0.6838698971125124}\n",
      "INFO:utils.ml:Metrics for classifier XGBClassifier17: {'accuracy': 0.8244094488188977, 'precision': 0.7081732541781071, 'recall': 0.6928802261074676, 'f1': 0.699199540721093, 'kappa': 0.6823333318377804}\n",
      "INFO:utils.ml:Metrics for classifier XGBClassifier18: {'accuracy': 0.8354330708661417, 'precision': 0.7237975074672983, 'recall': 0.7017179368323733, 'f1': 0.7102462988920698, 'kappa': 0.7018417670899271}\n",
      "INFO:utils.ml:Metrics for classifier XGBClassifier19: {'accuracy': 0.8354330708661417, 'precision': 0.7262628714724523, 'recall': 0.7045946920803153, 'f1': 0.7131777837637956, 'kappa': 0.7017962107458072}\n"
     ]
    },
    {
     "name": "stdout",
     "output_type": "stream",
     "text": [
      "cannot access local variable 'report' where it is not associated with a value\n",
      "cannot access local variable 'report' where it is not associated with a value\n",
      "cannot access local variable 'report' where it is not associated with a value\n",
      "cannot access local variable 'report' where it is not associated with a value\n",
      "cannot access local variable 'report' where it is not associated with a value\n",
      "cannot access local variable 'report' where it is not associated with a value\n",
      "cannot access local variable 'report' where it is not associated with a value\n",
      "cannot access local variable 'report' where it is not associated with a value\n",
      "cannot access local variable 'report' where it is not associated with a value\n",
      "cannot access local variable 'report' where it is not associated with a value\n",
      "cannot access local variable 'report' where it is not associated with a value\n",
      "cannot access local variable 'report' where it is not associated with a value\n",
      "cannot access local variable 'report' where it is not associated with a value\n",
      "cannot access local variable 'report' where it is not associated with a value\n",
      "cannot access local variable 'report' where it is not associated with a value\n",
      "cannot access local variable 'report' where it is not associated with a value\n",
      "cannot access local variable 'report' where it is not associated with a value\n",
      "cannot access local variable 'report' where it is not associated with a value\n",
      "cannot access local variable 'report' where it is not associated with a value\n",
      "cannot access local variable 'report' where it is not associated with a value\n",
      "cannot access local variable 'report' where it is not associated with a value\n"
     ]
    },
    {
     "data": {
      "text/plain": [
       "                         accuracy  precision    recall        f1     kappa\n",
       "GT                       1.000000   1.000000  1.000000  1.000000  1.000000\n",
       "RandomForestClassifier0  0.778740   0.666618  0.656479  0.659570  0.603037\n",
       "RandomForestClassifier1  0.785827   0.674801  0.667013  0.669382  0.616115\n",
       "RandomForestClassifier2  0.790551   0.684845  0.670851  0.675575  0.623663\n",
       "RandomForestClassifier3  0.773228   0.652541  0.644052  0.645798  0.594204\n",
       "RandomForestClassifier4  0.773228   0.652541  0.644052  0.645798  0.594204\n",
       "RandomForestClassifier5  0.769291   0.655276  0.664430  0.658571  0.590847\n",
       "RandomForestClassifier6  0.773228   0.652541  0.644052  0.645798  0.594204\n",
       "RandomForestClassifier7  0.808661   0.705800  0.678182  0.687332  0.654231\n",
       "RandomForestClassifier8  0.655906   0.568903  0.590958  0.555055  0.432277\n",
       "XGBClassifier9           0.833858   0.735916  0.702901  0.715345  0.697814\n",
       "XGBClassifier10          0.833858   0.742381  0.705777  0.719512  0.697615\n",
       "XGBClassifier11          0.833071   0.737417  0.702409  0.715430  0.696305\n",
       "XGBClassifier12          0.774016   0.636415  0.653740  0.642288  0.603199\n",
       "XGBClassifier13          0.834646   0.731416  0.695117  0.707811  0.698942\n",
       "XGBClassifier14          0.818110   0.707076  0.694523  0.699884  0.671450\n",
       "XGBClassifier15          0.822835   0.712313  0.694596  0.701948  0.679145\n",
       "XGBClassifier16          0.825197   0.706254  0.690673  0.696918  0.683870\n",
       "XGBClassifier17          0.824409   0.708173  0.692880  0.699200  0.682333\n",
       "XGBClassifier18          0.835433   0.723798  0.701718  0.710246  0.701842\n",
       "XGBClassifier19          0.835433   0.726263  0.704595  0.713178  0.701796"
      ],
      "text/html": [
       "<div>\n",
       "<style scoped>\n",
       "    .dataframe tbody tr th:only-of-type {\n",
       "        vertical-align: middle;\n",
       "    }\n",
       "\n",
       "    .dataframe tbody tr th {\n",
       "        vertical-align: top;\n",
       "    }\n",
       "\n",
       "    .dataframe thead th {\n",
       "        text-align: right;\n",
       "    }\n",
       "</style>\n",
       "<table border=\"1\" class=\"dataframe\">\n",
       "  <thead>\n",
       "    <tr style=\"text-align: right;\">\n",
       "      <th></th>\n",
       "      <th>accuracy</th>\n",
       "      <th>precision</th>\n",
       "      <th>recall</th>\n",
       "      <th>f1</th>\n",
       "      <th>kappa</th>\n",
       "    </tr>\n",
       "  </thead>\n",
       "  <tbody>\n",
       "    <tr>\n",
       "      <th>GT</th>\n",
       "      <td>1.000000</td>\n",
       "      <td>1.000000</td>\n",
       "      <td>1.000000</td>\n",
       "      <td>1.000000</td>\n",
       "      <td>1.000000</td>\n",
       "    </tr>\n",
       "    <tr>\n",
       "      <th>RandomForestClassifier0</th>\n",
       "      <td>0.778740</td>\n",
       "      <td>0.666618</td>\n",
       "      <td>0.656479</td>\n",
       "      <td>0.659570</td>\n",
       "      <td>0.603037</td>\n",
       "    </tr>\n",
       "    <tr>\n",
       "      <th>RandomForestClassifier1</th>\n",
       "      <td>0.785827</td>\n",
       "      <td>0.674801</td>\n",
       "      <td>0.667013</td>\n",
       "      <td>0.669382</td>\n",
       "      <td>0.616115</td>\n",
       "    </tr>\n",
       "    <tr>\n",
       "      <th>RandomForestClassifier2</th>\n",
       "      <td>0.790551</td>\n",
       "      <td>0.684845</td>\n",
       "      <td>0.670851</td>\n",
       "      <td>0.675575</td>\n",
       "      <td>0.623663</td>\n",
       "    </tr>\n",
       "    <tr>\n",
       "      <th>RandomForestClassifier3</th>\n",
       "      <td>0.773228</td>\n",
       "      <td>0.652541</td>\n",
       "      <td>0.644052</td>\n",
       "      <td>0.645798</td>\n",
       "      <td>0.594204</td>\n",
       "    </tr>\n",
       "    <tr>\n",
       "      <th>RandomForestClassifier4</th>\n",
       "      <td>0.773228</td>\n",
       "      <td>0.652541</td>\n",
       "      <td>0.644052</td>\n",
       "      <td>0.645798</td>\n",
       "      <td>0.594204</td>\n",
       "    </tr>\n",
       "    <tr>\n",
       "      <th>RandomForestClassifier5</th>\n",
       "      <td>0.769291</td>\n",
       "      <td>0.655276</td>\n",
       "      <td>0.664430</td>\n",
       "      <td>0.658571</td>\n",
       "      <td>0.590847</td>\n",
       "    </tr>\n",
       "    <tr>\n",
       "      <th>RandomForestClassifier6</th>\n",
       "      <td>0.773228</td>\n",
       "      <td>0.652541</td>\n",
       "      <td>0.644052</td>\n",
       "      <td>0.645798</td>\n",
       "      <td>0.594204</td>\n",
       "    </tr>\n",
       "    <tr>\n",
       "      <th>RandomForestClassifier7</th>\n",
       "      <td>0.808661</td>\n",
       "      <td>0.705800</td>\n",
       "      <td>0.678182</td>\n",
       "      <td>0.687332</td>\n",
       "      <td>0.654231</td>\n",
       "    </tr>\n",
       "    <tr>\n",
       "      <th>RandomForestClassifier8</th>\n",
       "      <td>0.655906</td>\n",
       "      <td>0.568903</td>\n",
       "      <td>0.590958</td>\n",
       "      <td>0.555055</td>\n",
       "      <td>0.432277</td>\n",
       "    </tr>\n",
       "    <tr>\n",
       "      <th>XGBClassifier9</th>\n",
       "      <td>0.833858</td>\n",
       "      <td>0.735916</td>\n",
       "      <td>0.702901</td>\n",
       "      <td>0.715345</td>\n",
       "      <td>0.697814</td>\n",
       "    </tr>\n",
       "    <tr>\n",
       "      <th>XGBClassifier10</th>\n",
       "      <td>0.833858</td>\n",
       "      <td>0.742381</td>\n",
       "      <td>0.705777</td>\n",
       "      <td>0.719512</td>\n",
       "      <td>0.697615</td>\n",
       "    </tr>\n",
       "    <tr>\n",
       "      <th>XGBClassifier11</th>\n",
       "      <td>0.833071</td>\n",
       "      <td>0.737417</td>\n",
       "      <td>0.702409</td>\n",
       "      <td>0.715430</td>\n",
       "      <td>0.696305</td>\n",
       "    </tr>\n",
       "    <tr>\n",
       "      <th>XGBClassifier12</th>\n",
       "      <td>0.774016</td>\n",
       "      <td>0.636415</td>\n",
       "      <td>0.653740</td>\n",
       "      <td>0.642288</td>\n",
       "      <td>0.603199</td>\n",
       "    </tr>\n",
       "    <tr>\n",
       "      <th>XGBClassifier13</th>\n",
       "      <td>0.834646</td>\n",
       "      <td>0.731416</td>\n",
       "      <td>0.695117</td>\n",
       "      <td>0.707811</td>\n",
       "      <td>0.698942</td>\n",
       "    </tr>\n",
       "    <tr>\n",
       "      <th>XGBClassifier14</th>\n",
       "      <td>0.818110</td>\n",
       "      <td>0.707076</td>\n",
       "      <td>0.694523</td>\n",
       "      <td>0.699884</td>\n",
       "      <td>0.671450</td>\n",
       "    </tr>\n",
       "    <tr>\n",
       "      <th>XGBClassifier15</th>\n",
       "      <td>0.822835</td>\n",
       "      <td>0.712313</td>\n",
       "      <td>0.694596</td>\n",
       "      <td>0.701948</td>\n",
       "      <td>0.679145</td>\n",
       "    </tr>\n",
       "    <tr>\n",
       "      <th>XGBClassifier16</th>\n",
       "      <td>0.825197</td>\n",
       "      <td>0.706254</td>\n",
       "      <td>0.690673</td>\n",
       "      <td>0.696918</td>\n",
       "      <td>0.683870</td>\n",
       "    </tr>\n",
       "    <tr>\n",
       "      <th>XGBClassifier17</th>\n",
       "      <td>0.824409</td>\n",
       "      <td>0.708173</td>\n",
       "      <td>0.692880</td>\n",
       "      <td>0.699200</td>\n",
       "      <td>0.682333</td>\n",
       "    </tr>\n",
       "    <tr>\n",
       "      <th>XGBClassifier18</th>\n",
       "      <td>0.835433</td>\n",
       "      <td>0.723798</td>\n",
       "      <td>0.701718</td>\n",
       "      <td>0.710246</td>\n",
       "      <td>0.701842</td>\n",
       "    </tr>\n",
       "    <tr>\n",
       "      <th>XGBClassifier19</th>\n",
       "      <td>0.835433</td>\n",
       "      <td>0.726263</td>\n",
       "      <td>0.704595</td>\n",
       "      <td>0.713178</td>\n",
       "      <td>0.701796</td>\n",
       "    </tr>\n",
       "  </tbody>\n",
       "</table>\n",
       "</div>"
      ]
     },
     "execution_count": 18,
     "metadata": {},
     "output_type": "execute_result"
    }
   ],
   "execution_count": 18
  },
  {
   "metadata": {
    "ExecuteTime": {
     "end_time": "2024-11-02T11:09:34.802568Z",
     "start_time": "2024-11-02T11:09:34.788861Z"
    }
   },
   "cell_type": "code",
   "source": [
    "pipeline.fitted_classifiers[\"XGBClassifier19\"]\n",
    "\n",
    "confusion_matrix(pipeline.predictions[\"GT\"], pipeline.predictions[\"XGBClassifier9\"])"
   ],
   "id": "5a281e241058e0d8",
   "outputs": [
    {
     "data": {
      "text/plain": [
       "array([[424,  52,  22],\n",
       "       [ 67, 600,  11],\n",
       "       [ 38,  21,  35]], dtype=int64)"
      ]
     },
     "execution_count": 22,
     "metadata": {},
     "output_type": "execute_result"
    }
   ],
   "execution_count": 22
  },
  {
   "metadata": {},
   "cell_type": "markdown",
   "source": [
    "___\n",
    "SMOTETomek"
   ],
   "id": "e5d1612e8e3351b4"
  },
  {
   "metadata": {
    "ExecuteTime": {
     "end_time": "2024-11-02T02:24:58.726959500Z",
     "start_time": "2024-11-01T23:45:35.503200Z"
    }
   },
   "cell_type": "code",
   "source": [
    "from imblearn.combine import SMOTETomek\n",
    "\n",
    "smote_tomek = SMOTETomek(sampling_strategy='auto', random_state=42)\n",
    "\n",
    "\n",
    "pipeline.feature_matrix, pipeline.labels = smote_tomek.fit_resample(\n",
    "    pipeline.backup_feature_matrix, pipeline.backup_labels)\n",
    "\n",
    "print(pipeline.backup_feature_matrix.shape)\n",
    "print(pipeline.feature_matrix.shape)\n",
    "\n",
    "print(pipeline.backup_labels.shape)\n",
    "print(pipeline.labels.shape)\n",
    "\n",
    "pipeline.fitted_classifiers = {}"
   ],
   "id": "20ca36de88329f7c",
   "outputs": [
    {
     "name": "stdout",
     "output_type": "stream",
     "text": [
      "(5082, 408)\n",
      "(7313, 408)\n",
      "(5082,)\n",
      "(7313,)\n"
     ]
    }
   ],
   "execution_count": 21
  },
  {
   "metadata": {
    "ExecuteTime": {
     "end_time": "2024-11-02T02:24:58.726959500Z",
     "start_time": "2024-11-01T23:45:36.049748Z"
    }
   },
   "cell_type": "code",
   "source": "pipeline.fit_classifiers()",
   "id": "c18077d2c18ed2d5",
   "outputs": [
    {
     "name": "stderr",
     "output_type": "stream",
     "text": [
      "INFO:utils.ml:Fitting classifiers...\n",
      "INFO:utils.ml:Fitting classifier: RandomForestClassifier0\n",
      "INFO:utils.ml:Top 10 features for RandomForestClassifier0: [('color_moments_lab_channel_0_skew', 0.02348399667068677), ('color_moments_hsv_channel_0_mean', 0.021685100888737506), ('var_rgb_channel_2', 0.013466685511191803), ('var_lab_channel_0', 0.011273139645395643), ('gradient_magnitude_std', 0.009455156180856468), ('var_lab_channel_2', 0.009016029113925229), ('color_moments_lab_channel_1_std', 0.009012604432114048), ('color_moments_rgb_channel_1_skew', 0.00830917831133495), ('var_rgb_channel_1', 0.007748303523353629), ('color_moments_lab_channel_0_mean', 0.007688567101377091)]\n",
      "INFO:utils.ml:Fitted classifier: RandomForestClassifier0; Done in 10.850361585617065 seconds\n",
      "INFO:utils.ml:Fitting classifier: RandomForestClassifier1\n",
      "INFO:utils.ml:Top 10 features for RandomForestClassifier1: [('color_moments_hsv_channel_0_mean', 0.023212922020289208), ('color_moments_lab_channel_0_skew', 0.01936895225936078), ('var_rgb_channel_2', 0.013965574878387649), ('var_lab_channel_0', 0.0111221987852899), ('gradient_magnitude_std', 0.009072793664091855), ('lbp_rad1_bins64_58', 0.008991705183572871), ('var_rgb_channel_1', 0.008694090012655387), ('color_moments_lab_channel_1_std', 0.008490298782630879), ('var_lab_channel_2', 0.008383493382639445), ('color_moments_rgb_channel_1_skew', 0.008191373617866215)]\n",
      "INFO:utils.ml:Fitted classifier: RandomForestClassifier1; Done in 16.360222339630127 seconds\n",
      "INFO:utils.ml:Fitting classifier: RandomForestClassifier2\n",
      "INFO:utils.ml:Fitted classifier: RandomForestClassifier2; Done in 27.437122344970703 seconds\n",
      "INFO:utils.ml:Fitting classifier: XGBClassifier3\n"
     ]
    },
    {
     "name": "stdout",
     "output_type": "stream",
     "text": [
      "list index out of range\n"
     ]
    },
    {
     "name": "stderr",
     "output_type": "stream",
     "text": [
      "INFO:utils.ml:Top 10 features for XGBClassifier3: [('lbp_rad2_bins16_4', 0.019037437), ('color_moments_hsv_channel_0_mean', 0.016402645), ('lbp_rad2_bins32_0', 0.014515458), ('lbp_rad1_bins64_26', 0.013283062), ('var_lab_channel_0', 0.01299207), ('lbp_rad3_bins64_10', 0.0103029655), ('lbp_rad1_bins32_5', 0.0092928), ('lbp_rad2_bins16_13', 0.009221017), ('lbp_rad2_bins32_23', 0.0089618955), ('lbp_rad1_bins64_31', 0.008737473)]\n",
      "INFO:utils.ml:Fitted classifier: XGBClassifier3; Done in 15.687693357467651 seconds\n",
      "INFO:utils.ml:Fitting classifier: XGBClassifier4\n",
      "INFO:utils.ml:Top 10 features for XGBClassifier4: [('lbp_rad2_bins16_4', 0.019077742), ('color_moments_hsv_channel_0_mean', 0.0157324), ('lbp_rad2_bins32_0', 0.014432087), ('lbp_rad1_bins64_26', 0.013589403), ('var_lab_channel_0', 0.012795185), ('lbp_rad3_bins64_10', 0.010317609), ('lbp_rad1_bins32_5', 0.010042402), ('lbp_rad2_bins16_13', 0.009111489), ('color_moments_lab_channel_0_skew', 0.009054037), ('lbp_rad1_bins64_31', 0.00876016)]\n",
      "INFO:utils.ml:Fitted classifier: XGBClassifier4; Done in 17.76707100868225 seconds\n",
      "INFO:utils.ml:Fitting classifier: XGBClassifier5\n",
      "INFO:utils.ml:Top 10 features for XGBClassifier5: [('lbp_rad2_bins16_4', 0.019192992), ('color_moments_hsv_channel_0_mean', 0.015130564), ('lbp_rad2_bins32_0', 0.0140043), ('lbp_rad1_bins64_26', 0.013862681), ('var_lab_channel_0', 0.012656093), ('lbp_rad3_bins64_10', 0.010285758), ('color_moments_lab_channel_0_skew', 0.009464223), ('lbp_rad2_bins16_13', 0.0093979575), ('lbp_rad1_bins32_5', 0.0090769), ('lbp_rad1_bins64_31', 0.00886654)]\n",
      "INFO:utils.ml:Fitted classifier: XGBClassifier5; Done in 21.50994300842285 seconds\n",
      "INFO:utils.ml:Fitting classifier: XGBClassifier6\n",
      "INFO:utils.ml:Top 10 features for XGBClassifier6: [('color_moments_hsv_channel_0_mean', 0.015319412), ('color_moments_lab_channel_0_skew', 0.010968769), ('lbp_rad2_bins32_0', 0.0102894725), ('lbp_rad2_bins16_4', 0.010018208), ('lbp_rad3_bins64_10', 0.009445077), ('lbp_rad1_bins64_58', 0.009138747), ('var_lab_channel_0', 0.0090737045), ('lbp_rad1_bins64_26', 0.008306679), ('lbp_rad1_bins64_31', 0.007961004), ('lbp_rad1_bins64_35', 0.0073614316)]\n",
      "INFO:utils.ml:Fitted classifier: XGBClassifier6; Done in 11.931185722351074 seconds\n",
      "INFO:utils.ml:Fitting classifier: XGBClassifier7\n",
      "INFO:utils.ml:Top 10 features for XGBClassifier7: [('lbp_rad2_bins16_4', 0.011780678), ('color_moments_hsv_channel_0_mean', 0.010679071), ('lbp_rad1_bins64_26', 0.009773465), ('color_moments_lab_channel_0_skew', 0.009569382), ('lbp_rad1_bins64_58', 0.009502086), ('lbp_rad3_bins64_10', 0.00863285), ('var_lab_channel_0', 0.008466576), ('lbp_rad1_bins32_21', 0.007992453), ('lbp_rad1_bins16_15', 0.007773321), ('lbp_rad2_bins32_0', 0.0073850905)]\n",
      "INFO:utils.ml:Fitted classifier: XGBClassifier7; Done in 25.242959022521973 seconds\n",
      "INFO:utils.ml:Fitting classifier: XGBClassifier8\n",
      "INFO:utils.ml:Top 10 features for XGBClassifier8: [('color_moments_hsv_channel_0_mean', 0.011494903), ('lbp_rad2_bins16_4', 0.010963783), ('lbp_rad2_bins32_0', 0.010643507), ('color_moments_lab_channel_0_skew', 0.010538079), ('lbp_rad1_bins16_15', 0.009553269), ('lbp_rad1_bins64_26', 0.009470951), ('var_lab_channel_0', 0.009454612), ('lbp_rad3_bins64_10', 0.008674698), ('lbp_rad1_bins64_58', 0.008562098), ('lbp_rad1_bins64_31', 0.00850419)]\n",
      "INFO:utils.ml:Fitted classifier: XGBClassifier8; Done in 18.439099073410034 seconds\n",
      "INFO:utils.ml:Fitting classifier: XGBClassifier9\n",
      "C:\\Programs\\miniconda3\\envs\\cv\\Lib\\site-packages\\xgboost\\core.py:158: UserWarning: [00:48:21] WARNING: C:\\b\\abs_90_bwj_86a\\croot\\xgboost-split_1724073762025\\work\\src\\learner.cc:740: \n",
      "Parameters: { \"scale_pos_weight\" } are not used.\n",
      "\n",
      "  warnings.warn(smsg, UserWarning)\n",
      "INFO:utils.ml:Top 10 features for XGBClassifier9: [('color_moments_hsv_channel_0_mean', 0.012426062), ('lbp_rad2_bins16_4', 0.01123414), ('color_moments_lab_channel_0_skew', 0.0109666595), ('lbp_rad2_bins32_0', 0.010545), ('lbp_rad1_bins64_26', 0.010321957), ('var_lab_channel_0', 0.010045243), ('lbp_rad1_bins64_31', 0.00993793), ('lbp_rad3_bins64_10', 0.009080738), ('lbp_rad1_bins64_58', 0.0083685815), ('lbp_rad1_bins16_15', 0.007024321)]\n",
      "INFO:utils.ml:Fitted classifier: XGBClassifier9; Done in 21.311580419540405 seconds\n",
      "INFO:utils.ml:Fitting classifier: XGBClassifier10\n",
      "INFO:utils.ml:Top 10 features for XGBClassifier10: [('lbp_rad2_bins16_4', 0.013316945), ('var_lab_channel_0', 0.01246339), ('color_moments_hsv_channel_0_mean', 0.012420406), ('lbp_rad2_bins32_0', 0.011229197), ('color_moments_lab_channel_0_skew', 0.010610691), ('lbp_rad1_bins64_26', 0.009971908), ('lbp_rad3_bins64_10', 0.009397632), ('lbp_rad1_bins64_31', 0.009313198), ('lbp_rad1_bins64_58', 0.0082263285), ('lbp_rad1_bins16_15', 0.007876961)]\n",
      "INFO:utils.ml:Fitted classifier: XGBClassifier10; Done in 21.17090916633606 seconds\n",
      "INFO:utils.ml:Fitting classifier: XGBClassifier11\n",
      "INFO:utils.ml:Top 10 features for XGBClassifier11: [('color_moments_hsv_channel_0_mean', 0.021167587), ('lbp_rad3_bins64_10', 0.014875727), ('lbp_rad2_bins16_10', 0.013674044), ('var_lab_channel_0', 0.013264847), ('lbp_rad1_bins64_26', 0.012563043), ('lbp_rad1_bins32_5', 0.012108366), ('color_moments_lab_channel_0_skew', 0.012076402), ('lbp_rad1_bins16_10', 0.011842589), ('lbp_rad2_bins32_0', 0.011185104), ('lbp_rad2_bins16_4', 0.010474204)]\n",
      "INFO:utils.ml:Fitted classifier: XGBClassifier11; Done in 11.803066730499268 seconds\n",
      "INFO:utils.ml:Fitting completed in 219.52 seconds.\n"
     ]
    }
   ],
   "execution_count": 22
  },
  {
   "metadata": {
    "ExecuteTime": {
     "end_time": "2024-11-02T02:24:58.726959500Z",
     "start_time": "2024-11-01T23:49:15.578474Z"
    }
   },
   "cell_type": "code",
   "source": "pipeline.predict_with_classifiers(VAL_PATH)",
   "id": "50f77b34bc1a6d7e",
   "outputs": [
    {
     "name": "stderr",
     "output_type": "stream",
     "text": [
      "INFO:utils.ml:Predicting with classifiers on dataset: C:\\Users\\gimes\\Src\\repos\\CADx-Project\\dataset\\multiclass\\val\n"
     ]
    },
    {
     "name": "stdout",
     "output_type": "stream",
     "text": [
      "Processed 5/27 batches.\n",
      "Processed 10/27 batches.\n",
      "Processed 15/27 batches.\n",
      "Processed 20/27 batches.\n",
      "Processed 25/27 batches.\n"
     ]
    },
    {
     "name": "stderr",
     "output_type": "stream",
     "text": [
      "INFO:utils.ml:Predictions made with classifier: RandomForestClassifier0\n",
      "INFO:utils.ml:Predictions made with classifier: RandomForestClassifier1\n",
      "INFO:utils.ml:Predictions made with classifier: RandomForestClassifier2\n",
      "INFO:utils.ml:Predictions made with classifier: XGBClassifier3\n",
      "INFO:utils.ml:Predictions made with classifier: XGBClassifier4\n",
      "INFO:utils.ml:Predictions made with classifier: XGBClassifier5\n",
      "INFO:utils.ml:Predictions made with classifier: XGBClassifier6\n",
      "INFO:utils.ml:Predictions made with classifier: XGBClassifier7\n",
      "INFO:utils.ml:Predictions made with classifier: XGBClassifier8\n",
      "INFO:utils.ml:Predictions made with classifier: XGBClassifier9\n",
      "INFO:utils.ml:Predictions made with classifier: XGBClassifier10\n"
     ]
    },
    {
     "name": "stdout",
     "output_type": "stream",
     "text": [
      "Processed 27/27 batches.\n"
     ]
    },
    {
     "name": "stderr",
     "output_type": "stream",
     "text": [
      "INFO:utils.ml:Predictions made with classifier: XGBClassifier11\n"
     ]
    },
    {
     "data": {
      "text/plain": [
       "{'GT': array([0, 0, 0, ..., 2, 2, 2]),\n",
       " 'RandomForestClassifier0': array([0, 0, 2, ..., 1, 0, 0]),\n",
       " 'RandomForestClassifier1': array([0, 0, 2, ..., 1, 0, 0]),\n",
       " 'RandomForestClassifier2': array([0, 0, 2, ..., 1, 0, 0]),\n",
       " 'XGBClassifier3': array([0, 0, 2, ..., 1, 2, 0], dtype=int64),\n",
       " 'XGBClassifier4': array([0, 0, 2, ..., 1, 2, 0], dtype=int64),\n",
       " 'XGBClassifier5': array([0, 0, 2, ..., 1, 2, 0], dtype=int64),\n",
       " 'XGBClassifier6': array([2, 0, 2, ..., 1, 0, 0], dtype=int64),\n",
       " 'XGBClassifier7': array([0, 0, 2, ..., 1, 2, 0], dtype=int64),\n",
       " 'XGBClassifier8': array([2, 0, 2, ..., 1, 2, 0], dtype=int64),\n",
       " 'XGBClassifier9': array([2, 0, 2, ..., 1, 2, 0], dtype=int64),\n",
       " 'XGBClassifier10': array([0, 0, 2, ..., 1, 2, 0], dtype=int64),\n",
       " 'XGBClassifier11': array([2, 0, 2, ..., 1, 0, 0], dtype=int64)}"
      ]
     },
     "execution_count": 23,
     "metadata": {},
     "output_type": "execute_result"
    }
   ],
   "execution_count": 23
  },
  {
   "metadata": {
    "ExecuteTime": {
     "end_time": "2024-11-02T02:24:58.726959500Z",
     "start_time": "2024-11-02T01:29:51.916512Z"
    }
   },
   "cell_type": "code",
   "source": [
    "df = pd.DataFrame(data=pipeline.calculate_metrics(\n",
    "    [\"accuracy\", \"precision\", \"recall\", \"f1\", \"kappa\"],))\n",
    "df.T"
   ],
   "id": "52cd819ee2a597bf",
   "outputs": [
    {
     "name": "stderr",
     "output_type": "stream",
     "text": [
      "INFO:utils.ml:Metrics for classifier GT: {'accuracy': 1.0, 'precision': 1.0, 'recall': 1.0, 'f1': 1.0, 'kappa': 1.0}\n",
      "INFO:utils.ml:Metrics for classifier RandomForestClassifier0: {'accuracy': 0.7858267716535433, 'precision': 0.6635313225942864, 'recall': 0.6759984140415298, 'f1': 0.6686181637152407, 'kappa': 0.6203388638301988}\n",
      "INFO:utils.ml:Metrics for classifier RandomForestClassifier1: {'accuracy': 0.7803149606299212, 'precision': 0.6574319263895576, 'recall': 0.6749005688227081, 'f1': 0.6641131137164314, 'kappa': 0.6127100785225862}\n",
      "INFO:utils.ml:Metrics for classifier RandomForestClassifier2: {'accuracy': 0.784251968503937, 'precision': 0.6587898919380095, 'recall': 0.6683731095851427, 'f1': 0.6627448862263009, 'kappa': 0.6166574130379223}\n",
      "INFO:utils.ml:Metrics for classifier XGBClassifier3: {'accuracy': 0.8173228346456692, 'precision': 0.6899025243801352, 'recall': 0.68451248034881, 'f1': 0.686822576634054, 'kappa': 0.6709712289666816}\n",
      "INFO:utils.ml:Metrics for classifier XGBClassifier4: {'accuracy': 0.8125984251968504, 'precision': 0.6837002127815083, 'recall': 0.6812072239248842, 'f1': 0.6822227834074378, 'kappa': 0.6630533656761675}\n",
      "INFO:utils.ml:Metrics for classifier XGBClassifier5: {'accuracy': 0.8141732283464567, 'precision': 0.6871206986010612, 'recall': 0.6854226672585025, 'f1': 0.6860669265790186, 'kappa': 0.6661022236085736}\n",
      "INFO:utils.ml:Metrics for classifier XGBClassifier6: {'accuracy': 0.778740157480315, 'precision': 0.6370569166744892, 'recall': 0.6536358198752458, 'f1': 0.6420808184234099, 'kappa': 0.6121382986123187}\n",
      "INFO:utils.ml:Metrics for classifier XGBClassifier7: {'accuracy': 0.8220472440944881, 'precision': 0.6922300829486457, 'recall': 0.6851186834830693, 'f1': 0.6881725812163023, 'kappa': 0.6789973784748629}\n",
      "INFO:utils.ml:Metrics for classifier XGBClassifier8: {'accuracy': 0.8078740157480315, 'precision': 0.6785741619327096, 'recall': 0.6779019675009584, 'f1': 0.6780558742602928, 'kappa': 0.6550081048825238}\n",
      "INFO:utils.ml:Metrics for classifier XGBClassifier9: {'accuracy': 0.8165354330708662, 'precision': 0.6908595761536938, 'recall': 0.6852647519721766, 'f1': 0.6874449670441596, 'kappa': 0.6699348592334806}\n",
      "INFO:utils.ml:Metrics for classifier XGBClassifier10: {'accuracy': 0.8181102362204724, 'precision': 0.6917978480833767, 'recall': 0.688591685514417, 'f1': 0.6898176400473176, 'kappa': 0.673144285790684}\n",
      "INFO:utils.ml:Metrics for classifier XGBClassifier11: {'accuracy': 0.6921259842519685, 'precision': 0.5880427077795499, 'recall': 0.6115181872282957, 'f1': 0.5822784387560256, 'kappa': 0.4840295095594347}\n"
     ]
    },
    {
     "name": "stdout",
     "output_type": "stream",
     "text": [
      "cannot access local variable 'report' where it is not associated with a value\n",
      "cannot access local variable 'report' where it is not associated with a value\n",
      "cannot access local variable 'report' where it is not associated with a value\n",
      "cannot access local variable 'report' where it is not associated with a value\n",
      "cannot access local variable 'report' where it is not associated with a value\n",
      "cannot access local variable 'report' where it is not associated with a value\n",
      "cannot access local variable 'report' where it is not associated with a value\n",
      "cannot access local variable 'report' where it is not associated with a value\n",
      "cannot access local variable 'report' where it is not associated with a value\n",
      "cannot access local variable 'report' where it is not associated with a value\n",
      "cannot access local variable 'report' where it is not associated with a value\n",
      "cannot access local variable 'report' where it is not associated with a value\n",
      "cannot access local variable 'report' where it is not associated with a value\n"
     ]
    },
    {
     "data": {
      "text/plain": [
       "                         accuracy  precision    recall        f1     kappa\n",
       "GT                       1.000000   1.000000  1.000000  1.000000  1.000000\n",
       "RandomForestClassifier0  0.785827   0.663531  0.675998  0.668618  0.620339\n",
       "RandomForestClassifier1  0.780315   0.657432  0.674901  0.664113  0.612710\n",
       "RandomForestClassifier2  0.784252   0.658790  0.668373  0.662745  0.616657\n",
       "XGBClassifier3           0.817323   0.689903  0.684512  0.686823  0.670971\n",
       "XGBClassifier4           0.812598   0.683700  0.681207  0.682223  0.663053\n",
       "XGBClassifier5           0.814173   0.687121  0.685423  0.686067  0.666102\n",
       "XGBClassifier6           0.778740   0.637057  0.653636  0.642081  0.612138\n",
       "XGBClassifier7           0.822047   0.692230  0.685119  0.688173  0.678997\n",
       "XGBClassifier8           0.807874   0.678574  0.677902  0.678056  0.655008\n",
       "XGBClassifier9           0.816535   0.690860  0.685265  0.687445  0.669935\n",
       "XGBClassifier10          0.818110   0.691798  0.688592  0.689818  0.673144\n",
       "XGBClassifier11          0.692126   0.588043  0.611518  0.582278  0.484030"
      ],
      "text/html": [
       "<div>\n",
       "<style scoped>\n",
       "    .dataframe tbody tr th:only-of-type {\n",
       "        vertical-align: middle;\n",
       "    }\n",
       "\n",
       "    .dataframe tbody tr th {\n",
       "        vertical-align: top;\n",
       "    }\n",
       "\n",
       "    .dataframe thead th {\n",
       "        text-align: right;\n",
       "    }\n",
       "</style>\n",
       "<table border=\"1\" class=\"dataframe\">\n",
       "  <thead>\n",
       "    <tr style=\"text-align: right;\">\n",
       "      <th></th>\n",
       "      <th>accuracy</th>\n",
       "      <th>precision</th>\n",
       "      <th>recall</th>\n",
       "      <th>f1</th>\n",
       "      <th>kappa</th>\n",
       "    </tr>\n",
       "  </thead>\n",
       "  <tbody>\n",
       "    <tr>\n",
       "      <th>GT</th>\n",
       "      <td>1.000000</td>\n",
       "      <td>1.000000</td>\n",
       "      <td>1.000000</td>\n",
       "      <td>1.000000</td>\n",
       "      <td>1.000000</td>\n",
       "    </tr>\n",
       "    <tr>\n",
       "      <th>RandomForestClassifier0</th>\n",
       "      <td>0.785827</td>\n",
       "      <td>0.663531</td>\n",
       "      <td>0.675998</td>\n",
       "      <td>0.668618</td>\n",
       "      <td>0.620339</td>\n",
       "    </tr>\n",
       "    <tr>\n",
       "      <th>RandomForestClassifier1</th>\n",
       "      <td>0.780315</td>\n",
       "      <td>0.657432</td>\n",
       "      <td>0.674901</td>\n",
       "      <td>0.664113</td>\n",
       "      <td>0.612710</td>\n",
       "    </tr>\n",
       "    <tr>\n",
       "      <th>RandomForestClassifier2</th>\n",
       "      <td>0.784252</td>\n",
       "      <td>0.658790</td>\n",
       "      <td>0.668373</td>\n",
       "      <td>0.662745</td>\n",
       "      <td>0.616657</td>\n",
       "    </tr>\n",
       "    <tr>\n",
       "      <th>XGBClassifier3</th>\n",
       "      <td>0.817323</td>\n",
       "      <td>0.689903</td>\n",
       "      <td>0.684512</td>\n",
       "      <td>0.686823</td>\n",
       "      <td>0.670971</td>\n",
       "    </tr>\n",
       "    <tr>\n",
       "      <th>XGBClassifier4</th>\n",
       "      <td>0.812598</td>\n",
       "      <td>0.683700</td>\n",
       "      <td>0.681207</td>\n",
       "      <td>0.682223</td>\n",
       "      <td>0.663053</td>\n",
       "    </tr>\n",
       "    <tr>\n",
       "      <th>XGBClassifier5</th>\n",
       "      <td>0.814173</td>\n",
       "      <td>0.687121</td>\n",
       "      <td>0.685423</td>\n",
       "      <td>0.686067</td>\n",
       "      <td>0.666102</td>\n",
       "    </tr>\n",
       "    <tr>\n",
       "      <th>XGBClassifier6</th>\n",
       "      <td>0.778740</td>\n",
       "      <td>0.637057</td>\n",
       "      <td>0.653636</td>\n",
       "      <td>0.642081</td>\n",
       "      <td>0.612138</td>\n",
       "    </tr>\n",
       "    <tr>\n",
       "      <th>XGBClassifier7</th>\n",
       "      <td>0.822047</td>\n",
       "      <td>0.692230</td>\n",
       "      <td>0.685119</td>\n",
       "      <td>0.688173</td>\n",
       "      <td>0.678997</td>\n",
       "    </tr>\n",
       "    <tr>\n",
       "      <th>XGBClassifier8</th>\n",
       "      <td>0.807874</td>\n",
       "      <td>0.678574</td>\n",
       "      <td>0.677902</td>\n",
       "      <td>0.678056</td>\n",
       "      <td>0.655008</td>\n",
       "    </tr>\n",
       "    <tr>\n",
       "      <th>XGBClassifier9</th>\n",
       "      <td>0.816535</td>\n",
       "      <td>0.690860</td>\n",
       "      <td>0.685265</td>\n",
       "      <td>0.687445</td>\n",
       "      <td>0.669935</td>\n",
       "    </tr>\n",
       "    <tr>\n",
       "      <th>XGBClassifier10</th>\n",
       "      <td>0.818110</td>\n",
       "      <td>0.691798</td>\n",
       "      <td>0.688592</td>\n",
       "      <td>0.689818</td>\n",
       "      <td>0.673144</td>\n",
       "    </tr>\n",
       "    <tr>\n",
       "      <th>XGBClassifier11</th>\n",
       "      <td>0.692126</td>\n",
       "      <td>0.588043</td>\n",
       "      <td>0.611518</td>\n",
       "      <td>0.582278</td>\n",
       "      <td>0.484030</td>\n",
       "    </tr>\n",
       "  </tbody>\n",
       "</table>\n",
       "</div>"
      ]
     },
     "execution_count": 25,
     "metadata": {},
     "output_type": "execute_result"
    }
   ],
   "execution_count": 25
  },
  {
   "metadata": {},
   "cell_type": "code",
   "source": "",
   "id": "66872df202609437",
   "outputs": [],
   "execution_count": null
  }
 ],
 "metadata": {
  "kernelspec": {
   "display_name": "Python 3",
   "language": "python",
   "name": "python3"
  },
  "language_info": {
   "codemirror_mode": {
    "name": "ipython",
    "version": 2
   },
   "file_extension": ".py",
   "mimetype": "text/x-python",
   "name": "python",
   "nbconvert_exporter": "python",
   "pygments_lexer": "ipython2",
   "version": "2.7.6"
  }
 },
 "nbformat": 4,
 "nbformat_minor": 5
}

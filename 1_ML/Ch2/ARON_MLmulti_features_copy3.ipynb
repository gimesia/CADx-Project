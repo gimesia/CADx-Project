{
 "cells": [
  {
   "cell_type": "code",
   "id": "initial_id",
   "metadata": {
    "collapsed": true,
    "ExecuteTime": {
     "end_time": "2024-11-02T01:54:45.983882Z",
     "start_time": "2024-11-02T01:54:22.367116Z"
    }
   },
   "source": [
    "import numpy as np\n",
    "from sklearn.metrics import confusion_matrix, recall_score, cohen_kappa_score\n",
    "\n",
    "from utils.loader import FactoryLoader\n",
    "from utils.ml import MLPipeline\n",
    "from utils.preprocessing import PreprocessingFactory\n",
    "from utils.feature_extraction import *\n",
    "from utils.utils import *\n",
    "\n",
    "VAL_PATH = r\"C:\\Users\\gimes\\Src\\repos\\CADx-Project\\dataset\\multiclass\\val\"\n",
    "TRAIN_PATH = r\"C:\\Users\\gimes\\Src\\repos\\CADx-Project\\dataset\\multiclass\\train\""
   ],
   "outputs": [],
   "execution_count": 1
  },
  {
   "metadata": {
    "ExecuteTime": {
     "end_time": "2024-11-02T01:54:46.797258Z",
     "start_time": "2024-11-02T01:54:46.576768Z"
    }
   },
   "cell_type": "code",
   "source": [
    "percent = 100\n",
    "random = False\n",
    "batch_size = 48\n",
    "th = 0.01\n",
    "\n",
    "# Initialize the FactoryLoader\n",
    "factory = PreprocessingFactory()\n",
    "factory.gaussian_smoothing(5)\n",
    "factory.clahe(clip_limit=1.5)\n",
    "factory.pad2square(fill=np.nan)\n",
    "factory.resize((175,175))\n",
    "factory.hair_removal()\n",
    "factory.normalize2float()\n",
    "\n",
    "factory_loader = FactoryLoader(path=VAL_PATH, batch_size=batch_size, factory=factory, percentage=percent, shuffle=random)\n",
    "\n",
    "# Create the feature extraction pipeline strategy and add desired features\n",
    "strategy = FeatureExtractionStrategy()\n",
    "\n",
    "strategy.add_extractor(GradientExtractor(threshold=th))   # Add variance feature\n",
    "\n",
    "# strategy.add_extractor(MeanExtractor())  # Add mean feature\n",
    "# strategy.add_extractor(StdExtractor())   # Add standard deviation feature\n",
    "strategy.add_extractor(VarExtractor(threshold=th))   # Add variance feature\n",
    "strategy.add_extractor(ColorMomentsExtractor(threshold=th))   # Add color moments feature\n",
    "\n",
    "\n",
    "# strategy.add_extractor(MeanExtractor(\"lab\"))  # Add mean feature\n",
    "# strategy.add_extractor(StdExtractor(\"lab\"))   # Add standard deviation feature\n",
    "strategy.add_extractor(VarExtractor(\"lab\", threshold=th))   # Add variance feature\n",
    "strategy.add_extractor(ColorMomentsExtractor(\"lab\", threshold=th))   # Add color moments feature\n",
    "\n",
    "# strategy.add_extractor(MeanExtractor(\"hsv\"))  # Add mean feature\n",
    "# strategy.add_extractor(StdExtractor(\"hsv\"))   # Add standard deviation feature\n",
    "strategy.add_extractor(VarExtractor(\"hsv\", threshold=th))   # Add variance feature\n",
    "strategy.add_extractor(ColorMomentsExtractor(\"hsv\", threshold=th))   # Add color moments feature\n",
    "\n",
    "strategy.add_extractor(LBPExtractor(radius=1, n_points=16))\n",
    "strategy.add_extractor(LBPExtractor(radius=2, n_points=16))\n",
    "strategy.add_extractor(LBPExtractor(radius=3, n_points=16))\n",
    "strategy.add_extractor(LBPExtractor(radius=1, n_points=32))\n",
    "strategy.add_extractor(LBPExtractor(radius=2, n_points=32))\n",
    "strategy.add_extractor(LBPExtractor(radius=3, n_points=32))\n",
    "strategy.add_extractor(LBPExtractor(radius=1, n_points=64))\n",
    "strategy.add_extractor(LBPExtractor(radius=2, n_points=64))\n",
    "strategy.add_extractor(LBPExtractor(radius=3, n_points=64))\n",
    "\n",
    "strategy.add_extractor(GLCMExtractor(properties=['contrast', 'dissimilarity', 'homogeneity', 'energy', 'correlation',]))\n",
    "\n",
    "pipeline = MLPipeline(dataset_path=TRAIN_PATH, preprocessing_factory=factory, feature_strategy=strategy, classifiers=[], percentage=percent, verbose=True, shuffle=random, batch_size=batch_size)"
   ],
   "id": "d7c81ba220d9e517",
   "outputs": [
    {
     "name": "stderr",
     "output_type": "stream",
     "text": [
      "INFO:utils.ml:MLPipeline initialized with dataset path: C:\\Users\\gimes\\Src\\repos\\CADx-Project\\dataset\\multiclass\\train\n",
      "INFO:utils.ml:Preprocessing steps\n"
     ]
    }
   ],
   "execution_count": 2
  },
  {
   "metadata": {
    "ExecuteTime": {
     "end_time": "2024-11-02T02:20:38.117844Z",
     "start_time": "2024-11-02T01:54:47.150447Z"
    }
   },
   "cell_type": "code",
   "source": [
    "pipeline.feature_matrix = None\n",
    "pipeline.run_feature_extraction()"
   ],
   "id": "21f510c52296a049",
   "outputs": [
    {
     "name": "stderr",
     "output_type": "stream",
     "text": [
      "INFO:utils.ml:Running feature extraction...\n"
     ]
    },
    {
     "name": "stdout",
     "output_type": "stream",
     "text": [
      "Processed 5/106 batches.\n",
      "Processed 10/106 batches.\n",
      "Processed 15/106 batches.\n",
      "Processed 20/106 batches.\n",
      "Processed 25/106 batches.\n",
      "Processed 30/106 batches.\n",
      "Processed 35/106 batches.\n",
      "Processed 40/106 batches.\n",
      "Processed 45/106 batches.\n",
      "Processed 50/106 batches.\n",
      "Processed 55/106 batches.\n",
      "Processed 60/106 batches.\n",
      "Processed 65/106 batches.\n",
      "Processed 70/106 batches.\n",
      "Processed 75/106 batches.\n",
      "Processed 80/106 batches.\n",
      "Processed 85/106 batches.\n",
      "Processed 90/106 batches.\n",
      "Processed 95/106 batches.\n",
      "Processed 100/106 batches.\n",
      "Processed 105/106 batches.\n"
     ]
    },
    {
     "name": "stderr",
     "output_type": "stream",
     "text": [
      "INFO:utils.ml:Feature extraction completed. Extracted 5082 features.\n"
     ]
    },
    {
     "name": "stdout",
     "output_type": "stream",
     "text": [
      "Processed 106/106 batches.\n"
     ]
    }
   ],
   "execution_count": 3
  },
  {
   "metadata": {
    "ExecuteTime": {
     "end_time": "2024-11-02T02:20:38.208079Z",
     "start_time": "2024-11-02T02:20:38.124173Z"
    }
   },
   "cell_type": "code",
   "source": [
    "from xgboost import XGBClassifier\n",
    "from sklearn.ensemble import RandomForestClassifier\n",
    "\n",
    "rf1 = RandomForestClassifier(n_estimators=100)\n",
    "rf2 = RandomForestClassifier(n_estimators=150)\n",
    "rf3 = RandomForestClassifier(n_estimators=250)\n",
    "\n",
    "# Random Forest with Class Weight Balancing\n",
    "rf4 = RandomForestClassifier(n_estimators=100, class_weight=\"balanced\", random_state=42)\n",
    "# Random Forest with Feature Selection via max_features\n",
    "rf5 = RandomForestClassifier(n_estimators=100, max_features='sqrt', random_state=42)\n",
    "# Random Forest with Min Samples per Leaf\n",
    "rf6 = RandomForestClassifier(n_estimators=100, min_samples_leaf=5, random_state=42)\n",
    "# Random Forest with Out-of-Bag Error (OOB)\n",
    "rf7 = RandomForestClassifier(n_estimators=100, oob_score=True, random_state=42)\n",
    "# Random Forest with Bootstrap Disabled\n",
    "rf8 = RandomForestClassifier(n_estimators=100, bootstrap=False, random_state=42)\n",
    "# Random Forest with High Number of Trees and Limited Depth\n",
    "rf9 = RandomForestClassifier(n_estimators=100, max_depth=5, random_state=42)\n",
    "\n",
    "xgb1 = XGBClassifier(n_estimators=350)\n",
    "xgb2 = XGBClassifier(n_estimators=450)\n",
    "xgb3 = XGBClassifier(n_estimators=550)\n",
    "xgb4 = XGBClassifier(learning_rate=0.05, n_estimators=400, max_depth=3, min_child_weight=1, subsample=0.8, colsample_bytree=0.8)\n",
    "xgb5 = XGBClassifier(learning_rate=0.1, n_estimators=400, max_depth=7, min_child_weight=3, subsample=0.7, colsample_bytree=0.7)\n",
    "xgb6 = XGBClassifier(learning_rate=0.1, n_estimators=400, max_depth=5, min_child_weight=5, gamma=0.2, subsample=0.8, colsample_bytree=0.8)\n",
    "xgb7 = XGBClassifier(learning_rate=0.1, n_estimators=400, max_depth=5, min_child_weight=1, subsample=0.8, colsample_bytree=0.8, reg_alpha=0.1, reg_lambda=0.1)\n",
    "xgb8 = XGBClassifier(learning_rate=0.05, n_estimators=500, max_depth=7, min_child_weight=1, subsample=0.8, colsample_bytree=0.8)\n",
    "xgb9 = XGBClassifier(learning_rate=0.05, n_estimators=400, max_depth=7, min_child_weight=1, subsample=0.8, colsample_bytree=0.8)\n",
    "xgb10 = XGBClassifier(learning_rate=0.1, n_estimators=400, max_depth=7, min_child_weight=1, subsample=0.8, colsample_bytree=0.8)\n",
    "xgb11 = XGBClassifier(learning_rate=0.1, n_estimators=500, max_depth=7, min_child_weight=1, subsample=0.8, colsample_bytree=0.8)\n",
    "\n",
    "\n",
    "pipeline.classifiers = [rf1, rf2, rf3, rf4, rf5, rf6, rf7, rf8, rf9,\n",
    "                        # svm1, svm2, svm3, svm6, svm7, svm8,\n",
    "                        xgb1, xgb2, xgb3, xgb4, xgb5, xgb6, xgb7, xgb8, xgb9, xgb10, xgb11]\n",
    "pipeline.fitted_classifiers = {}"
   ],
   "id": "74470ba20848a156",
   "outputs": [],
   "execution_count": 4
  },
  {
   "metadata": {
    "ExecuteTime": {
     "end_time": "2024-11-02T02:24:38.923169Z",
     "start_time": "2024-11-02T02:20:38.223494Z"
    }
   },
   "cell_type": "code",
   "source": "pipeline.fit_classifiers()",
   "id": "5269ac4d3392fbae",
   "outputs": [
    {
     "name": "stderr",
     "output_type": "stream",
     "text": [
      "INFO:utils.ml:Fitting classifiers...\n",
      "INFO:utils.ml:Fitting classifier: RandomForestClassifier0\n",
      "INFO:utils.ml:Top 10 features for RandomForestClassifier0: [('color_moments_lab_channel_0_skew', 0.037478817790159116), ('color_moments_hsv_channel_0_mean', 0.030887996724097196), ('var_rgb_channel_2', 0.014398198878147472), ('color_moments_rgb_channel_1_mean', 0.012574996170911497), ('var_lab_channel_0', 0.012036055001947168), ('color_moments_rgb_channel_0_std', 0.011218855393035609), ('var_rgb_channel_0', 0.011210819327735844), ('color_moments_lab_channel_1_std', 0.010488910369226714), ('var_rgb_channel_1', 0.009912286915170508), ('color_moments_lab_channel_0_mean', 0.009568225403615934)]\n",
      "INFO:utils.ml:Fitted classifier: RandomForestClassifier0; Done in 6.528913974761963 seconds\n",
      "INFO:utils.ml:Fitting classifier: RandomForestClassifier1\n",
      "INFO:utils.ml:Top 10 features for RandomForestClassifier1: [('color_moments_hsv_channel_0_mean', 0.03546070517459316), ('color_moments_lab_channel_0_skew', 0.02687059554379694), ('var_rgb_channel_2', 0.014340710376169718), ('var_lab_channel_0', 0.013024568471855614), ('color_moments_rgb_channel_1_mean', 0.011993850562260652), ('gradient_magnitude_std', 0.010506950536024389), ('color_moments_rgb_channel_1_skew', 0.01030415947990752), ('color_moments_lab_channel_1_std', 0.00978996646961704), ('color_moments_lab_channel_0_mean', 0.009390608662459245), ('gradient_magnitude_mean', 0.008971543986798378)]\n",
      "INFO:utils.ml:Fitted classifier: RandomForestClassifier1; Done in 9.878525018692017 seconds\n",
      "INFO:utils.ml:Fitting classifier: RandomForestClassifier2\n",
      "INFO:utils.ml:Top 10 features for RandomForestClassifier2: [('color_moments_hsv_channel_0_mean', 0.03184445850887816), ('color_moments_lab_channel_0_skew', 0.031840959757882994), ('var_lab_channel_0', 0.015801263339952545), ('var_rgb_channel_2', 0.015085847113150903), ('gradient_magnitude_std', 0.010830017658660426), ('var_rgb_channel_0', 0.0107486235911019), ('color_moments_rgb_channel_1_mean', 0.009478863847576574), ('color_moments_lab_channel_0_mean', 0.009476934171620417), ('color_moments_rgb_channel_0_skew', 0.009240619868261368), ('var_lab_channel_2', 0.009098437958465622)]\n",
      "INFO:utils.ml:Fitted classifier: RandomForestClassifier2; Done in 16.4556941986084 seconds\n",
      "INFO:utils.ml:Fitting classifier: RandomForestClassifier3\n",
      "INFO:utils.ml:Top 10 features for RandomForestClassifier3: [('color_moments_hsv_channel_0_mean', 0.024649821051162566), ('color_moments_lab_channel_0_skew', 0.021375739067252267), ('var_rgb_channel_2', 0.010756989191534677), ('var_lab_channel_0', 0.01015920998173686), ('color_moments_rgb_channel_1_mean', 0.007556346699097758), ('color_moments_rgb_channel_0_skew', 0.007378443520519723), ('color_moments_lab_channel_1_std', 0.007217664514088325), ('color_moments_lab_channel_0_mean', 0.007097357698921515), ('var_lab_channel_2', 0.007073023581502021), ('var_rgb_channel_1', 0.007068507599022158)]\n",
      "INFO:utils.ml:Fitted classifier: RandomForestClassifier3; Done in 6.395465612411499 seconds\n",
      "INFO:utils.ml:Fitting classifier: RandomForestClassifier4\n",
      "INFO:utils.ml:Top 10 features for RandomForestClassifier4: [('color_moments_hsv_channel_0_mean', 0.03853622711335383), ('color_moments_lab_channel_0_skew', 0.03448915583318001), ('var_rgb_channel_2', 0.015399322810386175), ('var_lab_channel_0', 0.01251398203835693), ('gradient_magnitude_std', 0.011520630827579108), ('color_moments_rgb_channel_1_mean', 0.010624984989744297), ('var_rgb_channel_1', 0.00991401266385481), ('color_moments_lab_channel_0_mean', 0.009535669149854688), ('color_moments_lab_channel_1_std', 0.009323808333580291), ('color_moments_rgb_channel_0_std', 0.008660600740984521)]\n",
      "INFO:utils.ml:Fitted classifier: RandomForestClassifier4; Done in 6.682788133621216 seconds\n",
      "INFO:utils.ml:Fitting classifier: RandomForestClassifier5\n",
      "INFO:utils.ml:Top 10 features for RandomForestClassifier5: [('color_moments_hsv_channel_0_mean', 0.046198849604981475), ('color_moments_lab_channel_0_skew', 0.04594245572757309), ('var_rgb_channel_2', 0.020205912901197793), ('var_lab_channel_0', 0.01789607392363334), ('gradient_magnitude_std', 0.01508328760782706), ('color_moments_rgb_channel_1_mean', 0.012902102005040954), ('color_moments_rgb_channel_1_skew', 0.012698730814739743), ('var_lab_channel_2', 0.011864237215459057), ('var_rgb_channel_1', 0.011327840068853455), ('color_moments_rgb_channel_0_std', 0.01111691851377987)]\n",
      "INFO:utils.ml:Fitted classifier: RandomForestClassifier5; Done in 5.52135157585144 seconds\n",
      "INFO:utils.ml:Fitting classifier: RandomForestClassifier6\n",
      "INFO:utils.ml:Top 10 features for RandomForestClassifier6: [('color_moments_hsv_channel_0_mean', 0.03853622711335383), ('color_moments_lab_channel_0_skew', 0.03448915583318001), ('var_rgb_channel_2', 0.015399322810386175), ('var_lab_channel_0', 0.01251398203835693), ('gradient_magnitude_std', 0.011520630827579108), ('color_moments_rgb_channel_1_mean', 0.010624984989744297), ('var_rgb_channel_1', 0.00991401266385481), ('color_moments_lab_channel_0_mean', 0.009535669149854688), ('color_moments_lab_channel_1_std', 0.009323808333580291), ('color_moments_rgb_channel_0_std', 0.008660600740984521)]\n",
      "INFO:utils.ml:Fitted classifier: RandomForestClassifier6; Done in 6.813347578048706 seconds\n",
      "INFO:utils.ml:Fitting classifier: RandomForestClassifier7\n",
      "INFO:utils.ml:Top 10 features for RandomForestClassifier7: [('color_moments_hsv_channel_0_mean', 0.03483433445698671), ('color_moments_lab_channel_0_skew', 0.03313872876702793), ('var_rgb_channel_2', 0.016315045897316537), ('var_lab_channel_0', 0.014153260384432481), ('gradient_magnitude_std', 0.011465561482183024), ('color_moments_rgb_channel_1_mean', 0.011344656245549057), ('var_rgb_channel_0', 0.010879320884179948), ('color_moments_rgb_channel_0_skew', 0.009851321160829563), ('var_lab_channel_2', 0.009682902859287969), ('var_rgb_channel_1', 0.009497605517453264)]\n",
      "INFO:utils.ml:Fitted classifier: RandomForestClassifier7; Done in 9.599977731704712 seconds\n",
      "INFO:utils.ml:Fitting classifier: RandomForestClassifier8\n",
      "INFO:utils.ml:Top 10 features for RandomForestClassifier8: [('color_moments_hsv_channel_0_mean', 0.08394011831525214), ('color_moments_lab_channel_0_skew', 0.07238827081886173), ('var_rgb_channel_2', 0.03649426281817169), ('gradient_magnitude_std', 0.026272726431160857), ('var_lab_channel_0', 0.023626444927809843), ('color_moments_rgb_channel_0_std', 0.022406187263157143), ('color_moments_rgb_channel_1_mean', 0.022322050194121534), ('var_rgb_channel_1', 0.019622679760684394), ('var_lab_channel_2', 0.016673900674129386), ('color_moments_rgb_channel_1_skew', 0.016078381951072914)]\n",
      "INFO:utils.ml:Fitted classifier: RandomForestClassifier8; Done in 2.5115668773651123 seconds\n",
      "INFO:utils.ml:Fitting classifier: XGBClassifier9\n",
      "INFO:utils.ml:Top 10 features for XGBClassifier9: [('lbp_rad1_bins64_63', 0.024637574), ('color_moments_lab_channel_0_skew', 0.018615581), ('lbp_rad2_bins32_0', 0.018081952), ('lbp_rad1_bins64_58', 0.013742275), ('lbp_rad1_bins64_39', 0.009778451), ('lbp_rad2_bins32_21', 0.009594801), ('lbp_rad1_bins64_47', 0.008900771), ('var_rgb_channel_0', 0.0076933815), ('color_moments_rgb_channel_1_mean', 0.0076837884), ('var_rgb_channel_2', 0.0075463783)]\n",
      "INFO:utils.ml:Fitted classifier: XGBClassifier9; Done in 11.21800684928894 seconds\n",
      "INFO:utils.ml:Fitting classifier: XGBClassifier10\n",
      "INFO:utils.ml:Top 10 features for XGBClassifier10: [('lbp_rad1_bins64_63', 0.024681356), ('color_moments_lab_channel_0_skew', 0.018267646), ('lbp_rad2_bins32_0', 0.016104193), ('lbp_rad1_bins64_58', 0.0144346375), ('lbp_rad1_bins64_39', 0.010208651), ('lbp_rad1_bins64_47', 0.009624035), ('lbp_rad2_bins32_21', 0.009511372), ('color_moments_rgb_channel_1_mean', 0.0079174815), ('lbp_rad1_bins16_14', 0.007864712), ('var_rgb_channel_2', 0.00773896)]\n",
      "INFO:utils.ml:Fitted classifier: XGBClassifier10; Done in 13.084407329559326 seconds\n",
      "INFO:utils.ml:Fitting classifier: XGBClassifier11\n",
      "INFO:utils.ml:Top 10 features for XGBClassifier11: [('lbp_rad1_bins64_63', 0.025715264), ('color_moments_lab_channel_0_skew', 0.017963335), ('lbp_rad2_bins32_0', 0.015860014), ('lbp_rad1_bins64_58', 0.015045588), ('lbp_rad1_bins64_39', 0.0106097795), ('lbp_rad1_bins64_47', 0.009907137), ('lbp_rad1_bins16_14', 0.008083899), ('lbp_rad2_bins32_21', 0.008046701), ('color_moments_rgb_channel_1_mean', 0.007954405), ('lbp_rad3_bins64_43', 0.007937297)]\n",
      "INFO:utils.ml:Fitted classifier: XGBClassifier11; Done in 14.853061437606812 seconds\n",
      "INFO:utils.ml:Fitting classifier: XGBClassifier12\n",
      "INFO:utils.ml:Top 10 features for XGBClassifier12: [('color_moments_hsv_channel_0_mean', 0.016897619), ('color_moments_lab_channel_0_skew', 0.015488699), ('lbp_rad1_bins64_63', 0.0109217055), ('lbp_rad2_bins32_0', 0.010255618), ('lbp_rad2_bins16_4', 0.00999149), ('lbp_rad1_bins64_58', 0.009953706), ('lbp_rad1_bins16_16', 0.008712663), ('lbp_rad2_bins32_19', 0.008193931), ('lbp_rad1_bins64_31', 0.0066062384), ('color_moments_lab_channel_1_skew', 0.0059813024)]\n",
      "INFO:utils.ml:Fitted classifier: XGBClassifier12; Done in 5.614006042480469 seconds\n",
      "INFO:utils.ml:Fitting classifier: XGBClassifier13\n",
      "INFO:utils.ml:Top 10 features for XGBClassifier13: [('color_moments_hsv_channel_0_mean', 0.013974876), ('color_moments_lab_channel_0_skew', 0.011987331), ('lbp_rad1_bins64_47', 0.010806443), ('lbp_rad2_bins32_0', 0.009552948), ('lbp_rad1_bins64_58', 0.008284858), ('lbp_rad1_bins64_63', 0.00788153), ('var_rgb_channel_2', 0.007680078), ('lbp_rad2_bins16_4', 0.0073505547), ('lbp_rad3_bins32_27', 0.0071962974), ('lbp_rad1_bins64_39', 0.0069231796)]\n",
      "INFO:utils.ml:Fitted classifier: XGBClassifier13; Done in 14.247156858444214 seconds\n",
      "INFO:utils.ml:Fitting classifier: XGBClassifier14\n",
      "INFO:utils.ml:Top 10 features for XGBClassifier14: [('color_moments_hsv_channel_0_mean', 0.018703867), ('color_moments_lab_channel_0_skew', 0.013896725), ('lbp_rad1_bins64_58', 0.012853802), ('lbp_rad2_bins32_0', 0.010465461), ('lbp_rad2_bins16_4', 0.009935749), ('lbp_rad1_bins64_63', 0.00948168), ('lbp_rad1_bins16_16', 0.007106756), ('lbp_rad2_bins32_19', 0.006833301), ('lbp_rad3_bins32_27', 0.0067728655), ('lbp_rad1_bins64_47', 0.0064009354)]\n",
      "INFO:utils.ml:Fitted classifier: XGBClassifier14; Done in 9.981033325195312 seconds\n",
      "INFO:utils.ml:Fitting classifier: XGBClassifier15\n",
      "INFO:utils.ml:Top 10 features for XGBClassifier15: [('color_moments_hsv_channel_0_mean', 0.018515432), ('color_moments_lab_channel_0_skew', 0.0140553815), ('lbp_rad1_bins64_63', 0.010407262), ('lbp_rad1_bins64_58', 0.010100838), ('lbp_rad2_bins32_0', 0.009201668), ('lbp_rad2_bins16_4', 0.008730038), ('lbp_rad2_bins32_19', 0.008288912), ('var_lab_channel_0', 0.0069787563), ('var_rgb_channel_2', 0.006727889), ('lbp_rad1_bins64_39', 0.006375948)]\n",
      "INFO:utils.ml:Fitted classifier: XGBClassifier15; Done in 11.803105592727661 seconds\n",
      "INFO:utils.ml:Fitting classifier: XGBClassifier16\n",
      "INFO:utils.ml:Top 10 features for XGBClassifier16: [('color_moments_lab_channel_0_skew', 0.014663323), ('color_moments_hsv_channel_0_mean', 0.01436014), ('lbp_rad2_bins32_0', 0.010833815), ('lbp_rad1_bins64_58', 0.010054685), ('lbp_rad1_bins64_63', 0.009672941), ('lbp_rad1_bins16_16', 0.006875848), ('var_lab_channel_0', 0.006650318), ('lbp_rad1_bins64_47', 0.0063416553), ('var_rgb_channel_0', 0.0059303753), ('lbp_rad1_bins64_39', 0.005747975)]\n",
      "INFO:utils.ml:Fitted classifier: XGBClassifier16; Done in 26.50607919692993 seconds\n",
      "INFO:utils.ml:Fitting classifier: XGBClassifier17\n",
      "INFO:utils.ml:Top 10 features for XGBClassifier17: [('color_moments_lab_channel_0_skew', 0.0145461755), ('color_moments_hsv_channel_0_mean', 0.01451443), ('lbp_rad2_bins32_0', 0.010394995), ('lbp_rad1_bins64_58', 0.010295828), ('lbp_rad1_bins64_63', 0.009238631), ('lbp_rad1_bins16_16', 0.006473869), ('var_lab_channel_0', 0.0064231134), ('lbp_rad1_bins64_47', 0.0062001287), ('var_rgb_channel_0', 0.0058341553), ('lbp_rad1_bins64_39', 0.0058226)]\n",
      "INFO:utils.ml:Fitted classifier: XGBClassifier17; Done in 22.621496438980103 seconds\n",
      "INFO:utils.ml:Fitting classifier: XGBClassifier18\n",
      "INFO:utils.ml:Top 10 features for XGBClassifier18: [('color_moments_hsv_channel_0_mean', 0.016576005), ('color_moments_lab_channel_0_skew', 0.013838313), ('lbp_rad2_bins32_0', 0.012281509), ('lbp_rad1_bins64_58', 0.010403591), ('lbp_rad1_bins64_63', 0.009744072), ('lbp_rad1_bins16_16', 0.0077747474), ('lbp_rad2_bins32_19', 0.0074072657), ('lbp_rad1_bins64_47', 0.0068491567), ('var_rgb_channel_0', 0.006585378), ('var_rgb_channel_2', 0.0065661096)]\n",
      "INFO:utils.ml:Fitted classifier: XGBClassifier18; Done in 18.48573875427246 seconds\n",
      "INFO:utils.ml:Fitting classifier: XGBClassifier19\n",
      "INFO:utils.ml:Top 10 features for XGBClassifier19: [('color_moments_hsv_channel_0_mean', 0.016561633), ('color_moments_lab_channel_0_skew', 0.014083891), ('lbp_rad2_bins32_0', 0.01225903), ('lbp_rad1_bins64_58', 0.010641202), ('lbp_rad1_bins64_63', 0.009814567), ('lbp_rad1_bins16_16', 0.007848527), ('lbp_rad1_bins64_47', 0.0071712723), ('lbp_rad2_bins32_19', 0.0070895017), ('var_rgb_channel_2', 0.0067501375), ('var_rgb_channel_0', 0.006685713)]\n",
      "INFO:utils.ml:Fitted classifier: XGBClassifier19; Done in 21.893293380737305 seconds\n",
      "INFO:utils.ml:Fitting completed in 240.70 seconds.\n"
     ]
    }
   ],
   "execution_count": 5
  },
  {
   "metadata": {
    "ExecuteTime": {
     "end_time": "2024-11-02T02:28:51.789198Z",
     "start_time": "2024-11-02T02:24:38.940516Z"
    }
   },
   "cell_type": "code",
   "source": "pipeline.predict_with_classifiers(VAL_PATH)",
   "id": "f71e18a07f5ee7bb",
   "outputs": [
    {
     "name": "stderr",
     "output_type": "stream",
     "text": [
      "INFO:utils.ml:Predicting with classifiers on dataset: C:\\Users\\gimes\\Src\\repos\\CADx-Project\\dataset\\multiclass\\val\n"
     ]
    },
    {
     "name": "stdout",
     "output_type": "stream",
     "text": [
      "Processed 5/27 batches.\n",
      "Processed 10/27 batches.\n",
      "Processed 15/27 batches.\n",
      "Processed 20/27 batches.\n",
      "Processed 25/27 batches.\n"
     ]
    },
    {
     "name": "stderr",
     "output_type": "stream",
     "text": [
      "INFO:utils.ml:Predictions made with classifier: RandomForestClassifier0\n",
      "INFO:utils.ml:Predictions made with classifier: RandomForestClassifier1\n",
      "INFO:utils.ml:Predictions made with classifier: RandomForestClassifier2\n",
      "INFO:utils.ml:Predictions made with classifier: RandomForestClassifier3\n",
      "INFO:utils.ml:Predictions made with classifier: RandomForestClassifier4\n",
      "INFO:utils.ml:Predictions made with classifier: RandomForestClassifier5\n",
      "INFO:utils.ml:Predictions made with classifier: RandomForestClassifier6\n",
      "INFO:utils.ml:Predictions made with classifier: RandomForestClassifier7\n"
     ]
    },
    {
     "name": "stdout",
     "output_type": "stream",
     "text": [
      "Processed 27/27 batches.\n"
     ]
    },
    {
     "name": "stderr",
     "output_type": "stream",
     "text": [
      "INFO:utils.ml:Predictions made with classifier: RandomForestClassifier8\n",
      "INFO:utils.ml:Predictions made with classifier: XGBClassifier9\n",
      "INFO:utils.ml:Predictions made with classifier: XGBClassifier10\n",
      "INFO:utils.ml:Predictions made with classifier: XGBClassifier11\n",
      "INFO:utils.ml:Predictions made with classifier: XGBClassifier12\n",
      "INFO:utils.ml:Predictions made with classifier: XGBClassifier13\n",
      "INFO:utils.ml:Predictions made with classifier: XGBClassifier14\n",
      "INFO:utils.ml:Predictions made with classifier: XGBClassifier15\n",
      "INFO:utils.ml:Predictions made with classifier: XGBClassifier16\n",
      "INFO:utils.ml:Predictions made with classifier: XGBClassifier17\n",
      "INFO:utils.ml:Predictions made with classifier: XGBClassifier18\n",
      "INFO:utils.ml:Predictions made with classifier: XGBClassifier19\n"
     ]
    },
    {
     "data": {
      "text/plain": [
       "{'GT': array([0, 0, 0, ..., 2, 2, 2]),\n",
       " 'RandomForestClassifier0': array([0, 0, 1, ..., 1, 0, 0]),\n",
       " 'RandomForestClassifier1': array([0, 0, 1, ..., 1, 0, 0]),\n",
       " 'RandomForestClassifier2': array([0, 0, 1, ..., 1, 0, 0]),\n",
       " 'RandomForestClassifier3': array([0, 0, 2, ..., 1, 0, 0]),\n",
       " 'RandomForestClassifier4': array([0, 0, 1, ..., 1, 0, 0]),\n",
       " 'RandomForestClassifier5': array([0, 0, 1, ..., 1, 0, 0]),\n",
       " 'RandomForestClassifier6': array([0, 0, 1, ..., 1, 0, 0]),\n",
       " 'RandomForestClassifier7': array([0, 0, 1, ..., 1, 0, 0]),\n",
       " 'RandomForestClassifier8': array([0, 0, 1, ..., 1, 0, 0]),\n",
       " 'XGBClassifier9': array([0, 0, 1, ..., 1, 0, 0], dtype=int64),\n",
       " 'XGBClassifier10': array([0, 0, 1, ..., 1, 0, 0], dtype=int64),\n",
       " 'XGBClassifier11': array([0, 0, 1, ..., 1, 0, 0], dtype=int64),\n",
       " 'XGBClassifier12': array([0, 0, 2, ..., 1, 0, 0], dtype=int64),\n",
       " 'XGBClassifier13': array([0, 0, 1, ..., 1, 0, 0], dtype=int64),\n",
       " 'XGBClassifier14': array([0, 0, 1, ..., 0, 0, 0], dtype=int64),\n",
       " 'XGBClassifier15': array([0, 0, 2, ..., 1, 0, 0], dtype=int64),\n",
       " 'XGBClassifier16': array([0, 0, 2, ..., 1, 0, 0], dtype=int64),\n",
       " 'XGBClassifier17': array([0, 0, 2, ..., 1, 0, 0], dtype=int64),\n",
       " 'XGBClassifier18': array([0, 0, 2, ..., 1, 0, 0], dtype=int64),\n",
       " 'XGBClassifier19': array([0, 0, 2, ..., 1, 0, 0], dtype=int64)}"
      ]
     },
     "execution_count": 6,
     "metadata": {},
     "output_type": "execute_result"
    }
   ],
   "execution_count": 6
  },
  {
   "metadata": {
    "ExecuteTime": {
     "end_time": "2024-11-02T02:28:51.956517Z",
     "start_time": "2024-11-02T02:28:51.807956Z"
    }
   },
   "cell_type": "code",
   "source": [
    "import pandas as pd\n",
    "\n",
    "df = pd.DataFrame(data=pipeline.calculate_metrics())\n",
    "df.T"
   ],
   "id": "751fad2660242db5",
   "outputs": [
    {
     "name": "stderr",
     "output_type": "stream",
     "text": [
      "INFO:utils.ml:Metrics for classifier GT: {'accuracy': 1.0, 'precision': 1.0, 'recall': 1.0, 'f1': 1.0, 'kappa': 1.0}\n",
      "INFO:utils.ml:Metrics for classifier RandomForestClassifier0: {'accuracy': 0.8007874015748031, 'precision': 0.8631166627800478, 'recall': 0.5827319823447433, 'f1': 0.5706703242517351, 'kappa': 0.6232169911770087}\n",
      "INFO:utils.ml:Metrics for classifier RandomForestClassifier1: {'accuracy': 0.7952755905511811, 'precision': 0.859222349013144, 'recall': 0.5784019779614283, 'f1': 0.5665792304996756, 'kappa': 0.6127104171749207}\n",
      "INFO:utils.ml:Metrics for classifier RandomForestClassifier2: {'accuracy': 0.8047244094488188, 'precision': 0.8661529593786973, 'recall': 0.5832019473109913, 'f1': 0.5674049065454599, 'kappa': 0.6306442382565133}\n",
      "INFO:utils.ml:Metrics for classifier RandomForestClassifier3: {'accuracy': 0.7874015748031497, 'precision': 0.7074605189786295, 'recall': 0.5792390676116882, 'f1': 0.5734422491823589, 'kappa': 0.5995450065165904}\n",
      "INFO:utils.ml:Metrics for classifier RandomForestClassifier4: {'accuracy': 0.7921259842519685, 'precision': 0.7745219903447751, 'recall': 0.5769685154980053, 'f1': 0.5649075093005294, 'kappa': 0.6074354038750649}\n",
      "C:\\Programs\\miniconda3\\envs\\cv\\Lib\\site-packages\\sklearn\\metrics\\_classification.py:1531: UndefinedMetricWarning: Precision is ill-defined and being set to 0.0 in labels with no predicted samples. Use `zero_division` parameter to control this behavior.\n",
      "  _warn_prf(average, modifier, f\"{metric.capitalize()} is\", len(result))\n",
      "INFO:utils.ml:Metrics for classifier RandomForestClassifier5: {'accuracy': 0.7921259842519685, 'precision': 0.5240303368063156, 'recall': 0.5676274419210766, 'f1': 0.5448013733168139, 'kappa': 0.6066912230485888}\n",
      "INFO:utils.ml:Metrics for classifier RandomForestClassifier6: {'accuracy': 0.7921259842519685, 'precision': 0.7745219903447751, 'recall': 0.5769685154980053, 'f1': 0.5649075093005294, 'kappa': 0.6074354038750649}\n",
      "INFO:utils.ml:Metrics for classifier RandomForestClassifier7: {'accuracy': 0.8125984251968504, 'precision': 0.8429120546474304, 'recall': 0.6152530790960239, 'f1': 0.625219477382441, 'kappa': 0.6475052712107925}\n",
      "C:\\Programs\\miniconda3\\envs\\cv\\Lib\\site-packages\\sklearn\\metrics\\_classification.py:1531: UndefinedMetricWarning: Precision is ill-defined and being set to 0.0 in labels with no predicted samples. Use `zero_division` parameter to control this behavior.\n",
      "  _warn_prf(average, modifier, f\"{metric.capitalize()} is\", len(result))\n",
      "INFO:utils.ml:Metrics for classifier RandomForestClassifier8: {'accuracy': 0.7590551181102362, 'precision': 0.5026406926406927, 'recall': 0.5388041842887775, 'f1': 0.5196036640500153, 'kappa': 0.5383683360258482}\n",
      "INFO:utils.ml:Metrics for classifier XGBClassifier9: {'accuracy': 0.8338582677165355, 'precision': 0.7810913511295646, 'recall': 0.6559840063196362, 'f1': 0.6748028123361438, 'kappa': 0.6911834529555207}\n",
      "INFO:utils.ml:Metrics for classifier XGBClassifier10: {'accuracy': 0.8338582677165355, 'precision': 0.7668257068722064, 'recall': 0.6556286024030851, 'f1': 0.67345180095147, 'kappa': 0.6913428090948881}\n",
      "INFO:utils.ml:Metrics for classifier XGBClassifier11: {'accuracy': 0.8307086614173228, 'precision': 0.7645624628333563, 'recall': 0.652951226231733, 'f1': 0.6710434478362562, 'kappa': 0.6852957447789406}\n",
      "INFO:utils.ml:Metrics for classifier XGBClassifier12: {'accuracy': 0.8141732283464567, 'precision': 0.7737420926594964, 'recall': 0.6261105427169041, 'f1': 0.6395365351362904, 'kappa': 0.6526515853884665}\n",
      "INFO:utils.ml:Metrics for classifier XGBClassifier13: {'accuracy': 0.8401574803149606, 'precision': 0.7887781644346022, 'recall': 0.6626161962858023, 'f1': 0.6830804580220039, 'kappa': 0.7025987569156373}\n",
      "INFO:utils.ml:Metrics for classifier XGBClassifier14: {'accuracy': 0.8283464566929134, 'precision': 0.7574152058479662, 'recall': 0.6340380665321173, 'f1': 0.6439273111594933, 'kappa': 0.6798284770632017}\n",
      "INFO:utils.ml:Metrics for classifier XGBClassifier15: {'accuracy': 0.8228346456692913, 'precision': 0.7687733010081029, 'recall': 0.627364412775687, 'f1': 0.6359869615387442, 'kappa': 0.6693596163993001}\n",
      "INFO:utils.ml:Metrics for classifier XGBClassifier16: {'accuracy': 0.8322834645669291, 'precision': 0.798781486985583, 'recall': 0.6485364038215248, 'f1': 0.6663362799062066, 'kappa': 0.6873988850779797}\n",
      "INFO:utils.ml:Metrics for classifier XGBClassifier17: {'accuracy': 0.8299212598425196, 'precision': 0.779149312129244, 'recall': 0.634665946784691, 'f1': 0.6456437874706874, 'kappa': 0.6821379904891682}\n",
      "INFO:utils.ml:Metrics for classifier XGBClassifier18: {'accuracy': 0.8322834645669291, 'precision': 0.780876429968989, 'recall': 0.6364962769549295, 'f1': 0.64743949090838, 'kappa': 0.6864873510145613}\n",
      "INFO:utils.ml:Metrics for classifier XGBClassifier19: {'accuracy': 0.8354330708661417, 'precision': 0.7970731815008293, 'recall': 0.6476262169118324, 'f1': 0.6639213443686917, 'kappa': 0.6928703999407564}\n"
     ]
    },
    {
     "name": "stdout",
     "output_type": "stream",
     "text": [
      "cannot access local variable 'report' where it is not associated with a value\n",
      "cannot access local variable 'report' where it is not associated with a value\n",
      "cannot access local variable 'report' where it is not associated with a value\n",
      "cannot access local variable 'report' where it is not associated with a value\n",
      "cannot access local variable 'report' where it is not associated with a value\n",
      "cannot access local variable 'report' where it is not associated with a value\n",
      "cannot access local variable 'report' where it is not associated with a value\n",
      "cannot access local variable 'report' where it is not associated with a value\n",
      "cannot access local variable 'report' where it is not associated with a value\n",
      "cannot access local variable 'report' where it is not associated with a value\n",
      "cannot access local variable 'report' where it is not associated with a value\n",
      "cannot access local variable 'report' where it is not associated with a value\n",
      "cannot access local variable 'report' where it is not associated with a value\n",
      "cannot access local variable 'report' where it is not associated with a value\n",
      "cannot access local variable 'report' where it is not associated with a value\n",
      "cannot access local variable 'report' where it is not associated with a value\n",
      "cannot access local variable 'report' where it is not associated with a value\n",
      "cannot access local variable 'report' where it is not associated with a value\n",
      "cannot access local variable 'report' where it is not associated with a value\n",
      "cannot access local variable 'report' where it is not associated with a value\n",
      "cannot access local variable 'report' where it is not associated with a value\n"
     ]
    },
    {
     "data": {
      "text/plain": [
       "                         accuracy  precision    recall        f1     kappa\n",
       "GT                       1.000000   1.000000  1.000000  1.000000  1.000000\n",
       "RandomForestClassifier0  0.800787   0.863117  0.582732  0.570670  0.623217\n",
       "RandomForestClassifier1  0.795276   0.859222  0.578402  0.566579  0.612710\n",
       "RandomForestClassifier2  0.804724   0.866153  0.583202  0.567405  0.630644\n",
       "RandomForestClassifier3  0.787402   0.707461  0.579239  0.573442  0.599545\n",
       "RandomForestClassifier4  0.792126   0.774522  0.576969  0.564908  0.607435\n",
       "RandomForestClassifier5  0.792126   0.524030  0.567627  0.544801  0.606691\n",
       "RandomForestClassifier6  0.792126   0.774522  0.576969  0.564908  0.607435\n",
       "RandomForestClassifier7  0.812598   0.842912  0.615253  0.625219  0.647505\n",
       "RandomForestClassifier8  0.759055   0.502641  0.538804  0.519604  0.538368\n",
       "XGBClassifier9           0.833858   0.781091  0.655984  0.674803  0.691183\n",
       "XGBClassifier10          0.833858   0.766826  0.655629  0.673452  0.691343\n",
       "XGBClassifier11          0.830709   0.764562  0.652951  0.671043  0.685296\n",
       "XGBClassifier12          0.814173   0.773742  0.626111  0.639537  0.652652\n",
       "XGBClassifier13          0.840157   0.788778  0.662616  0.683080  0.702599\n",
       "XGBClassifier14          0.828346   0.757415  0.634038  0.643927  0.679828\n",
       "XGBClassifier15          0.822835   0.768773  0.627364  0.635987  0.669360\n",
       "XGBClassifier16          0.832283   0.798781  0.648536  0.666336  0.687399\n",
       "XGBClassifier17          0.829921   0.779149  0.634666  0.645644  0.682138\n",
       "XGBClassifier18          0.832283   0.780876  0.636496  0.647439  0.686487\n",
       "XGBClassifier19          0.835433   0.797073  0.647626  0.663921  0.692870"
      ],
      "text/html": [
       "<div>\n",
       "<style scoped>\n",
       "    .dataframe tbody tr th:only-of-type {\n",
       "        vertical-align: middle;\n",
       "    }\n",
       "\n",
       "    .dataframe tbody tr th {\n",
       "        vertical-align: top;\n",
       "    }\n",
       "\n",
       "    .dataframe thead th {\n",
       "        text-align: right;\n",
       "    }\n",
       "</style>\n",
       "<table border=\"1\" class=\"dataframe\">\n",
       "  <thead>\n",
       "    <tr style=\"text-align: right;\">\n",
       "      <th></th>\n",
       "      <th>accuracy</th>\n",
       "      <th>precision</th>\n",
       "      <th>recall</th>\n",
       "      <th>f1</th>\n",
       "      <th>kappa</th>\n",
       "    </tr>\n",
       "  </thead>\n",
       "  <tbody>\n",
       "    <tr>\n",
       "      <th>GT</th>\n",
       "      <td>1.000000</td>\n",
       "      <td>1.000000</td>\n",
       "      <td>1.000000</td>\n",
       "      <td>1.000000</td>\n",
       "      <td>1.000000</td>\n",
       "    </tr>\n",
       "    <tr>\n",
       "      <th>RandomForestClassifier0</th>\n",
       "      <td>0.800787</td>\n",
       "      <td>0.863117</td>\n",
       "      <td>0.582732</td>\n",
       "      <td>0.570670</td>\n",
       "      <td>0.623217</td>\n",
       "    </tr>\n",
       "    <tr>\n",
       "      <th>RandomForestClassifier1</th>\n",
       "      <td>0.795276</td>\n",
       "      <td>0.859222</td>\n",
       "      <td>0.578402</td>\n",
       "      <td>0.566579</td>\n",
       "      <td>0.612710</td>\n",
       "    </tr>\n",
       "    <tr>\n",
       "      <th>RandomForestClassifier2</th>\n",
       "      <td>0.804724</td>\n",
       "      <td>0.866153</td>\n",
       "      <td>0.583202</td>\n",
       "      <td>0.567405</td>\n",
       "      <td>0.630644</td>\n",
       "    </tr>\n",
       "    <tr>\n",
       "      <th>RandomForestClassifier3</th>\n",
       "      <td>0.787402</td>\n",
       "      <td>0.707461</td>\n",
       "      <td>0.579239</td>\n",
       "      <td>0.573442</td>\n",
       "      <td>0.599545</td>\n",
       "    </tr>\n",
       "    <tr>\n",
       "      <th>RandomForestClassifier4</th>\n",
       "      <td>0.792126</td>\n",
       "      <td>0.774522</td>\n",
       "      <td>0.576969</td>\n",
       "      <td>0.564908</td>\n",
       "      <td>0.607435</td>\n",
       "    </tr>\n",
       "    <tr>\n",
       "      <th>RandomForestClassifier5</th>\n",
       "      <td>0.792126</td>\n",
       "      <td>0.524030</td>\n",
       "      <td>0.567627</td>\n",
       "      <td>0.544801</td>\n",
       "      <td>0.606691</td>\n",
       "    </tr>\n",
       "    <tr>\n",
       "      <th>RandomForestClassifier6</th>\n",
       "      <td>0.792126</td>\n",
       "      <td>0.774522</td>\n",
       "      <td>0.576969</td>\n",
       "      <td>0.564908</td>\n",
       "      <td>0.607435</td>\n",
       "    </tr>\n",
       "    <tr>\n",
       "      <th>RandomForestClassifier7</th>\n",
       "      <td>0.812598</td>\n",
       "      <td>0.842912</td>\n",
       "      <td>0.615253</td>\n",
       "      <td>0.625219</td>\n",
       "      <td>0.647505</td>\n",
       "    </tr>\n",
       "    <tr>\n",
       "      <th>RandomForestClassifier8</th>\n",
       "      <td>0.759055</td>\n",
       "      <td>0.502641</td>\n",
       "      <td>0.538804</td>\n",
       "      <td>0.519604</td>\n",
       "      <td>0.538368</td>\n",
       "    </tr>\n",
       "    <tr>\n",
       "      <th>XGBClassifier9</th>\n",
       "      <td>0.833858</td>\n",
       "      <td>0.781091</td>\n",
       "      <td>0.655984</td>\n",
       "      <td>0.674803</td>\n",
       "      <td>0.691183</td>\n",
       "    </tr>\n",
       "    <tr>\n",
       "      <th>XGBClassifier10</th>\n",
       "      <td>0.833858</td>\n",
       "      <td>0.766826</td>\n",
       "      <td>0.655629</td>\n",
       "      <td>0.673452</td>\n",
       "      <td>0.691343</td>\n",
       "    </tr>\n",
       "    <tr>\n",
       "      <th>XGBClassifier11</th>\n",
       "      <td>0.830709</td>\n",
       "      <td>0.764562</td>\n",
       "      <td>0.652951</td>\n",
       "      <td>0.671043</td>\n",
       "      <td>0.685296</td>\n",
       "    </tr>\n",
       "    <tr>\n",
       "      <th>XGBClassifier12</th>\n",
       "      <td>0.814173</td>\n",
       "      <td>0.773742</td>\n",
       "      <td>0.626111</td>\n",
       "      <td>0.639537</td>\n",
       "      <td>0.652652</td>\n",
       "    </tr>\n",
       "    <tr>\n",
       "      <th>XGBClassifier13</th>\n",
       "      <td>0.840157</td>\n",
       "      <td>0.788778</td>\n",
       "      <td>0.662616</td>\n",
       "      <td>0.683080</td>\n",
       "      <td>0.702599</td>\n",
       "    </tr>\n",
       "    <tr>\n",
       "      <th>XGBClassifier14</th>\n",
       "      <td>0.828346</td>\n",
       "      <td>0.757415</td>\n",
       "      <td>0.634038</td>\n",
       "      <td>0.643927</td>\n",
       "      <td>0.679828</td>\n",
       "    </tr>\n",
       "    <tr>\n",
       "      <th>XGBClassifier15</th>\n",
       "      <td>0.822835</td>\n",
       "      <td>0.768773</td>\n",
       "      <td>0.627364</td>\n",
       "      <td>0.635987</td>\n",
       "      <td>0.669360</td>\n",
       "    </tr>\n",
       "    <tr>\n",
       "      <th>XGBClassifier16</th>\n",
       "      <td>0.832283</td>\n",
       "      <td>0.798781</td>\n",
       "      <td>0.648536</td>\n",
       "      <td>0.666336</td>\n",
       "      <td>0.687399</td>\n",
       "    </tr>\n",
       "    <tr>\n",
       "      <th>XGBClassifier17</th>\n",
       "      <td>0.829921</td>\n",
       "      <td>0.779149</td>\n",
       "      <td>0.634666</td>\n",
       "      <td>0.645644</td>\n",
       "      <td>0.682138</td>\n",
       "    </tr>\n",
       "    <tr>\n",
       "      <th>XGBClassifier18</th>\n",
       "      <td>0.832283</td>\n",
       "      <td>0.780876</td>\n",
       "      <td>0.636496</td>\n",
       "      <td>0.647439</td>\n",
       "      <td>0.686487</td>\n",
       "    </tr>\n",
       "    <tr>\n",
       "      <th>XGBClassifier19</th>\n",
       "      <td>0.835433</td>\n",
       "      <td>0.797073</td>\n",
       "      <td>0.647626</td>\n",
       "      <td>0.663921</td>\n",
       "      <td>0.692870</td>\n",
       "    </tr>\n",
       "  </tbody>\n",
       "</table>\n",
       "</div>"
      ]
     },
     "execution_count": 7,
     "metadata": {},
     "output_type": "execute_result"
    }
   ],
   "execution_count": 7
  },
  {
   "metadata": {},
   "cell_type": "markdown",
   "source": [
    "___\n",
    "Balance the data"
   ],
   "id": "ad0e6dcd404dcf15"
  },
  {
   "metadata": {
    "ExecuteTime": {
     "end_time": "2024-11-02T09:01:15.615344Z",
     "start_time": "2024-11-02T09:01:15.594513Z"
    }
   },
   "cell_type": "code",
   "source": [
    "# Backup\n",
    "pipeline.backup_feature_matrix = pipeline.feature_matrix.copy()\n",
    "pipeline.backup_labels = pipeline.labels.copy()"
   ],
   "id": "da1b19771d4cde2f",
   "outputs": [],
   "execution_count": 9
  },
  {
   "metadata": {
    "ExecuteTime": {
     "end_time": "2024-11-02T09:01:16.128787Z",
     "start_time": "2024-11-02T09:01:16.121940Z"
    }
   },
   "cell_type": "code",
   "source": [
    "print(pipeline.backup_feature_matrix.shape)\n",
    "print(pipeline.feature_matrix.shape)\n",
    "\n",
    "print(pipeline.backup_labels.shape)\n",
    "print(pipeline.labels.shape)"
   ],
   "id": "3425dcf3bd509008",
   "outputs": [
    {
     "name": "stdout",
     "output_type": "stream",
     "text": [
      "(5082, 408)\n",
      "(5082, 408)\n",
      "(5082,)\n",
      "(5082,)\n"
     ]
    }
   ],
   "execution_count": 10
  },
  {
   "metadata": {
    "ExecuteTime": {
     "end_time": "2024-11-02T09:01:18.195274Z",
     "start_time": "2024-11-02T09:01:17.397768Z"
    }
   },
   "cell_type": "code",
   "source": [
    "from imblearn.over_sampling import SMOTE\n",
    "\n",
    "smote = SMOTE(random_state=42)\n",
    "pipeline.feature_matrix, pipeline.labels = smote.fit_resample(pipeline.feature_matrix, pipeline.labels)"
   ],
   "id": "6f226a41aafa84b7",
   "outputs": [],
   "execution_count": 11
  },
  {
   "metadata": {
    "ExecuteTime": {
     "end_time": "2024-11-02T09:09:49.288217Z",
     "start_time": "2024-11-02T09:01:19.491908Z"
    }
   },
   "cell_type": "code",
   "source": [
    "pipeline.fitted_classifiers = {}\n",
    "pipeline.fit_classifiers()"
   ],
   "id": "e25b1eeaa9b9b112",
   "outputs": [
    {
     "name": "stderr",
     "output_type": "stream",
     "text": [
      "INFO:utils.ml:Fitting classifiers...\n",
      "INFO:utils.ml:Fitting classifier: RandomForestClassifier0\n",
      "INFO:utils.ml:Fitted classifier: RandomForestClassifier0; Done in 18.263119220733643 seconds\n",
      "INFO:utils.ml:Fitting classifier: RandomForestClassifier1\n"
     ]
    },
    {
     "name": "stdout",
     "output_type": "stream",
     "text": [
      "list index out of range\n"
     ]
    },
    {
     "name": "stderr",
     "output_type": "stream",
     "text": [
      "INFO:utils.ml:Fitted classifier: RandomForestClassifier1; Done in 27.036556482315063 seconds\n",
      "INFO:utils.ml:Fitting classifier: RandomForestClassifier2\n"
     ]
    },
    {
     "name": "stdout",
     "output_type": "stream",
     "text": [
      "list index out of range\n"
     ]
    },
    {
     "name": "stderr",
     "output_type": "stream",
     "text": [
      "INFO:utils.ml:Fitted classifier: RandomForestClassifier2; Done in 46.11542773246765 seconds\n",
      "INFO:utils.ml:Fitting classifier: RandomForestClassifier3\n"
     ]
    },
    {
     "name": "stdout",
     "output_type": "stream",
     "text": [
      "list index out of range\n"
     ]
    },
    {
     "name": "stderr",
     "output_type": "stream",
     "text": [
      "INFO:utils.ml:Fitted classifier: RandomForestClassifier3; Done in 18.347679615020752 seconds\n",
      "INFO:utils.ml:Fitting classifier: RandomForestClassifier4\n"
     ]
    },
    {
     "name": "stdout",
     "output_type": "stream",
     "text": [
      "list index out of range\n"
     ]
    },
    {
     "name": "stderr",
     "output_type": "stream",
     "text": [
      "INFO:utils.ml:Fitted classifier: RandomForestClassifier4; Done in 20.426493883132935 seconds\n",
      "INFO:utils.ml:Fitting classifier: RandomForestClassifier5\n"
     ]
    },
    {
     "name": "stdout",
     "output_type": "stream",
     "text": [
      "list index out of range\n"
     ]
    },
    {
     "name": "stderr",
     "output_type": "stream",
     "text": [
      "INFO:utils.ml:Fitted classifier: RandomForestClassifier5; Done in 17.104398488998413 seconds\n",
      "INFO:utils.ml:Fitting classifier: RandomForestClassifier6\n"
     ]
    },
    {
     "name": "stdout",
     "output_type": "stream",
     "text": [
      "list index out of range\n"
     ]
    },
    {
     "name": "stderr",
     "output_type": "stream",
     "text": [
      "INFO:utils.ml:Fitted classifier: RandomForestClassifier6; Done in 20.67967438697815 seconds\n",
      "INFO:utils.ml:Fitting classifier: RandomForestClassifier7\n"
     ]
    },
    {
     "name": "stdout",
     "output_type": "stream",
     "text": [
      "list index out of range\n"
     ]
    },
    {
     "name": "stderr",
     "output_type": "stream",
     "text": [
      "INFO:utils.ml:Fitted classifier: RandomForestClassifier7; Done in 29.94664430618286 seconds\n",
      "INFO:utils.ml:Fitting classifier: RandomForestClassifier8\n"
     ]
    },
    {
     "name": "stdout",
     "output_type": "stream",
     "text": [
      "list index out of range\n"
     ]
    },
    {
     "name": "stderr",
     "output_type": "stream",
     "text": [
      "INFO:utils.ml:Fitted classifier: RandomForestClassifier8; Done in 6.608959913253784 seconds\n",
      "INFO:utils.ml:Fitting classifier: XGBClassifier9\n"
     ]
    },
    {
     "name": "stdout",
     "output_type": "stream",
     "text": [
      "list index out of range\n"
     ]
    },
    {
     "name": "stderr",
     "output_type": "stream",
     "text": [
      "INFO:utils.ml:Top 10 features for XGBClassifier9: [('lbp_rad3_bins32_20', 0.036021594), ('lbp_rad2_bins16_4', 0.015654193), ('color_moments_hsv_channel_0_mean', 0.015541043), ('lbp_rad1_bins64_63', 0.012634068), ('var_lab_channel_0', 0.0118464), ('lbp_rad2_bins32_0', 0.011057287), ('lbp_rad1_bins64_58', 0.010788531), ('color_moments_lab_channel_0_skew', 0.008728428), ('lbp_rad1_bins32_0', 0.008696064), ('lbp_rad1_bins16_11', 0.008596509)]\n",
      "INFO:utils.ml:Fitted classifier: XGBClassifier9; Done in 22.958089113235474 seconds\n",
      "INFO:utils.ml:Fitting classifier: XGBClassifier10\n",
      "INFO:utils.ml:Top 10 features for XGBClassifier10: [('lbp_rad3_bins32_20', 0.035467196), ('lbp_rad2_bins16_4', 0.015675148), ('color_moments_hsv_channel_0_mean', 0.015149022), ('lbp_rad1_bins64_63', 0.013032092), ('var_lab_channel_0', 0.0114054885), ('lbp_rad2_bins32_0', 0.011271506), ('lbp_rad1_bins64_58', 0.010983816), ('lbp_rad1_bins32_0', 0.009170669), ('color_moments_lab_channel_0_skew', 0.008914389), ('lbp_rad1_bins16_11', 0.008887696)]\n",
      "INFO:utils.ml:Fitted classifier: XGBClassifier10; Done in 27.398908376693726 seconds\n",
      "INFO:utils.ml:Fitting classifier: XGBClassifier11\n",
      "INFO:utils.ml:Top 10 features for XGBClassifier11: [('lbp_rad3_bins32_20', 0.037513938), ('lbp_rad2_bins16_4', 0.015691932), ('color_moments_hsv_channel_0_mean', 0.014764319), ('lbp_rad1_bins64_63', 0.012865566), ('lbp_rad2_bins32_0', 0.011418545), ('var_lab_channel_0', 0.011310024), ('lbp_rad1_bins64_58', 0.0112795085), ('lbp_rad1_bins32_0', 0.00945133), ('lbp_rad1_bins16_11', 0.0094005875), ('lbp_rad3_bins16_12', 0.009256644)]\n",
      "INFO:utils.ml:Fitted classifier: XGBClassifier11; Done in 33.4729950428009 seconds\n",
      "INFO:utils.ml:Fitting classifier: XGBClassifier12\n",
      "INFO:utils.ml:Top 10 features for XGBClassifier12: [('lbp_rad2_bins16_15', 0.016551232), ('lbp_rad3_bins32_20', 0.015119064), ('color_moments_hsv_channel_0_mean', 0.0138972085), ('lbp_rad2_bins16_4', 0.011430444), ('color_moments_lab_channel_0_skew', 0.010654933), ('lbp_rad1_bins64_63', 0.010234689), ('lbp_rad3_bins64_32', 0.009783933), ('lbp_rad1_bins64_31', 0.008640138), ('lbp_rad1_bins64_58', 0.00839735), ('lbp_rad3_bins64_11', 0.007786055)]\n",
      "INFO:utils.ml:Fitted classifier: XGBClassifier12; Done in 13.193561792373657 seconds\n",
      "INFO:utils.ml:Fitting classifier: XGBClassifier13\n",
      "INFO:utils.ml:Top 10 features for XGBClassifier13: [('color_moments_hsv_channel_0_mean', 0.010469827), ('lbp_rad2_bins16_4', 0.010091218), ('color_moments_lab_channel_0_skew', 0.009027336), ('lbp_rad1_bins64_58', 0.008811322), ('lbp_rad2_bins32_0', 0.008653142), ('lbp_rad1_bins64_47', 0.008085561), ('lbp_rad2_bins32_21', 0.007273994), ('var_lab_channel_0', 0.007105549), ('lbp_rad1_bins64_63', 0.006805956), ('lbp_rad1_bins64_31', 0.0067826426)]\n",
      "INFO:utils.ml:Fitted classifier: XGBClassifier13; Done in 31.23195195198059 seconds\n",
      "INFO:utils.ml:Fitting classifier: XGBClassifier14\n",
      "INFO:utils.ml:Top 10 features for XGBClassifier14: [('lbp_rad2_bins16_15', 0.022977833), ('lbp_rad2_bins16_4', 0.012337557), ('color_moments_hsv_channel_0_mean', 0.011161916), ('color_moments_lab_channel_0_skew', 0.01061433), ('lbp_rad3_bins32_20', 0.010098629), ('lbp_rad1_bins64_58', 0.0094374595), ('lbp_rad1_bins64_63', 0.009247336), ('var_lab_channel_0', 0.008764823), ('lbp_rad3_bins64_32', 0.008441956), ('lbp_rad2_bins32_0', 0.008254138)]\n",
      "INFO:utils.ml:Fitted classifier: XGBClassifier14; Done in 22.152493238449097 seconds\n",
      "INFO:utils.ml:Fitting classifier: XGBClassifier15\n",
      "INFO:utils.ml:Top 10 features for XGBClassifier15: [('lbp_rad3_bins32_20', 0.012646144), ('color_moments_hsv_channel_0_mean', 0.012605389), ('lbp_rad2_bins16_15', 0.011785355), ('var_lab_channel_0', 0.011300757), ('lbp_rad2_bins16_4', 0.010782835), ('lbp_rad1_bins64_58', 0.010064953), ('color_moments_lab_channel_0_skew', 0.0099052545), ('lbp_rad1_bins64_63', 0.009837669), ('lbp_rad3_bins64_32', 0.008641132), ('lbp_rad2_bins32_0', 0.008150563)]\n",
      "INFO:utils.ml:Fitted classifier: XGBClassifier15; Done in 23.433634519577026 seconds\n",
      "INFO:utils.ml:Fitting classifier: XGBClassifier16\n",
      "INFO:utils.ml:Top 10 features for XGBClassifier16: [('color_moments_hsv_channel_0_mean', 0.013223604), ('lbp_rad2_bins16_15', 0.012208314), ('lbp_rad2_bins16_4', 0.0110264), ('var_lab_channel_0', 0.01059396), ('lbp_rad1_bins64_63', 0.01058525), ('lbp_rad3_bins32_20', 0.008749441), ('lbp_rad1_bins64_58', 0.008309416), ('color_moments_lab_channel_0_skew', 0.008197639), ('lbp_rad2_bins32_0', 0.00789008), ('lbp_rad1_bins64_31', 0.006058594)]\n",
      "INFO:utils.ml:Fitted classifier: XGBClassifier16; Done in 50.150482416152954 seconds\n",
      "INFO:utils.ml:Fitting classifier: XGBClassifier17\n",
      "INFO:utils.ml:Top 10 features for XGBClassifier17: [('color_moments_hsv_channel_0_mean', 0.013551093), ('lbp_rad2_bins16_15', 0.011567556), ('lbp_rad2_bins16_4', 0.010444857), ('var_lab_channel_0', 0.010421105), ('lbp_rad1_bins64_63', 0.01014881), ('lbp_rad1_bins64_58', 0.008275249), ('lbp_rad3_bins32_20', 0.00824347), ('color_moments_lab_channel_0_skew', 0.008012099), ('lbp_rad2_bins32_0', 0.007550634), ('lbp_rad3_bins64_32', 0.006097376)]\n",
      "INFO:utils.ml:Fitted classifier: XGBClassifier17; Done in 31.47794771194458 seconds\n",
      "INFO:utils.ml:Fitting classifier: XGBClassifier18\n",
      "INFO:utils.ml:Top 10 features for XGBClassifier18: [('color_moments_hsv_channel_0_mean', 0.01207456), ('lbp_rad2_bins16_15', 0.011279206), ('lbp_rad1_bins64_58', 0.0108627975), ('lbp_rad3_bins32_20', 0.010538254), ('lbp_rad2_bins16_4', 0.010177488), ('color_moments_lab_channel_0_skew', 0.010156307), ('var_lab_channel_0', 0.009918192), ('lbp_rad1_bins64_63', 0.009564014), ('lbp_rad2_bins32_0', 0.008314724), ('lbp_rad1_bins64_31', 0.0075599784)]\n",
      "INFO:utils.ml:Fitted classifier: XGBClassifier18; Done in 23.018943071365356 seconds\n",
      "INFO:utils.ml:Fitting classifier: XGBClassifier19\n",
      "INFO:utils.ml:Top 10 features for XGBClassifier19: [('color_moments_hsv_channel_0_mean', 0.011831), ('lbp_rad2_bins16_15', 0.010830012), ('lbp_rad1_bins64_58', 0.0108288145), ('lbp_rad2_bins16_4', 0.010737358), ('lbp_rad3_bins32_20', 0.010409151), ('color_moments_lab_channel_0_skew', 0.010375463), ('var_lab_channel_0', 0.009815304), ('lbp_rad1_bins64_63', 0.009383384), ('lbp_rad2_bins32_0', 0.008526883), ('lbp_rad1_bins64_31', 0.00787541)]\n",
      "INFO:utils.ml:Fitted classifier: XGBClassifier19; Done in 26.719010829925537 seconds\n",
      "INFO:utils.ml:Fitting completed in 509.78 seconds.\n"
     ]
    }
   ],
   "execution_count": 12
  },
  {
   "metadata": {
    "ExecuteTime": {
     "end_time": "2024-11-02T09:14:47.297035Z",
     "start_time": "2024-11-02T09:09:49.290220Z"
    }
   },
   "cell_type": "code",
   "source": "pipeline.predict_with_classifiers(VAL_PATH)",
   "id": "eaa13003ad0706a4",
   "outputs": [
    {
     "name": "stderr",
     "output_type": "stream",
     "text": [
      "INFO:utils.ml:Predicting with classifiers on dataset: C:\\Users\\gimes\\Src\\repos\\CADx-Project\\dataset\\multiclass\\val\n"
     ]
    },
    {
     "name": "stdout",
     "output_type": "stream",
     "text": [
      "Processed 5/27 batches.\n",
      "Processed 10/27 batches.\n",
      "Processed 15/27 batches.\n",
      "Processed 20/27 batches.\n",
      "Processed 25/27 batches.\n"
     ]
    },
    {
     "name": "stderr",
     "output_type": "stream",
     "text": [
      "INFO:utils.ml:Predictions made with classifier: RandomForestClassifier0\n",
      "INFO:utils.ml:Predictions made with classifier: RandomForestClassifier1\n",
      "INFO:utils.ml:Predictions made with classifier: RandomForestClassifier2\n"
     ]
    },
    {
     "name": "stdout",
     "output_type": "stream",
     "text": [
      "Processed 27/27 batches.\n"
     ]
    },
    {
     "name": "stderr",
     "output_type": "stream",
     "text": [
      "INFO:utils.ml:Predictions made with classifier: RandomForestClassifier3\n",
      "INFO:utils.ml:Predictions made with classifier: RandomForestClassifier4\n",
      "INFO:utils.ml:Predictions made with classifier: RandomForestClassifier5\n",
      "INFO:utils.ml:Predictions made with classifier: RandomForestClassifier6\n",
      "INFO:utils.ml:Predictions made with classifier: RandomForestClassifier7\n",
      "INFO:utils.ml:Predictions made with classifier: RandomForestClassifier8\n",
      "INFO:utils.ml:Predictions made with classifier: XGBClassifier9\n",
      "INFO:utils.ml:Predictions made with classifier: XGBClassifier10\n",
      "INFO:utils.ml:Predictions made with classifier: XGBClassifier11\n",
      "INFO:utils.ml:Predictions made with classifier: XGBClassifier12\n",
      "INFO:utils.ml:Predictions made with classifier: XGBClassifier13\n",
      "INFO:utils.ml:Predictions made with classifier: XGBClassifier14\n",
      "INFO:utils.ml:Predictions made with classifier: XGBClassifier15\n",
      "INFO:utils.ml:Predictions made with classifier: XGBClassifier16\n",
      "INFO:utils.ml:Predictions made with classifier: XGBClassifier17\n",
      "INFO:utils.ml:Predictions made with classifier: XGBClassifier18\n",
      "INFO:utils.ml:Predictions made with classifier: XGBClassifier19\n"
     ]
    },
    {
     "data": {
      "text/plain": [
       "{'GT': array([0, 0, 0, ..., 2, 2, 2]),\n",
       " 'RandomForestClassifier0': array([0, 0, 2, ..., 1, 0, 0]),\n",
       " 'RandomForestClassifier1': array([0, 0, 2, ..., 1, 0, 0]),\n",
       " 'RandomForestClassifier2': array([0, 0, 2, ..., 1, 0, 0]),\n",
       " 'RandomForestClassifier3': array([0, 0, 2, ..., 1, 0, 0]),\n",
       " 'RandomForestClassifier4': array([0, 0, 2, ..., 1, 0, 0]),\n",
       " 'RandomForestClassifier5': array([0, 0, 2, ..., 1, 0, 0]),\n",
       " 'RandomForestClassifier6': array([0, 0, 2, ..., 1, 0, 0]),\n",
       " 'RandomForestClassifier7': array([0, 0, 2, ..., 1, 0, 0]),\n",
       " 'RandomForestClassifier8': array([0, 0, 2, ..., 1, 0, 0]),\n",
       " 'XGBClassifier9': array([0, 0, 2, ..., 1, 2, 0], dtype=int64),\n",
       " 'XGBClassifier10': array([0, 0, 2, ..., 1, 2, 0], dtype=int64),\n",
       " 'XGBClassifier11': array([0, 0, 2, ..., 1, 2, 0], dtype=int64),\n",
       " 'XGBClassifier12': array([0, 0, 2, ..., 1, 0, 0], dtype=int64),\n",
       " 'XGBClassifier13': array([0, 0, 2, ..., 1, 2, 0], dtype=int64),\n",
       " 'XGBClassifier14': array([0, 0, 2, ..., 1, 2, 0], dtype=int64),\n",
       " 'XGBClassifier15': array([0, 0, 2, ..., 1, 2, 0], dtype=int64),\n",
       " 'XGBClassifier16': array([0, 0, 2, ..., 1, 2, 0], dtype=int64),\n",
       " 'XGBClassifier17': array([0, 0, 2, ..., 1, 2, 0], dtype=int64),\n",
       " 'XGBClassifier18': array([0, 0, 2, ..., 1, 2, 0], dtype=int64),\n",
       " 'XGBClassifier19': array([0, 0, 2, ..., 1, 2, 0], dtype=int64)}"
      ]
     },
     "execution_count": 13,
     "metadata": {},
     "output_type": "execute_result"
    }
   ],
   "execution_count": 13
  },
  {
   "metadata": {
    "ExecuteTime": {
     "end_time": "2024-11-02T09:14:47.515402Z",
     "start_time": "2024-11-02T09:14:47.326566Z"
    }
   },
   "cell_type": "code",
   "source": [
    "import pandas as pd\n",
    "\n",
    "df = pd.DataFrame(data=pipeline.calculate_metrics(\n",
    "    [\"accuracy\", \"precision\", \"recall\", \"f1\", \"kappa\"],))\n",
    "df.T"
   ],
   "id": "3b6534db74d47624",
   "outputs": [
    {
     "name": "stderr",
     "output_type": "stream",
     "text": [
      "INFO:utils.ml:Metrics for classifier GT: {'accuracy': 1.0, 'precision': 1.0, 'recall': 1.0, 'f1': 1.0, 'kappa': 1.0}\n",
      "INFO:utils.ml:Metrics for classifier RandomForestClassifier0: {'accuracy': 0.7952755905511811, 'precision': 0.6816273600288517, 'recall': 0.6818645951407462, 'f1': 0.6798966726278612, 'kappa': 0.6356534404378338}\n",
      "INFO:utils.ml:Metrics for classifier RandomForestClassifier1: {'accuracy': 0.789763779527559, 'precision': 0.6649117000714871, 'recall': 0.6727031139684577, 'f1': 0.667982346922638, 'kappa': 0.6260999007608337}\n",
      "INFO:utils.ml:Metrics for classifier RandomForestClassifier2: {'accuracy': 0.7968503937007874, 'precision': 0.6744010995554145, 'recall': 0.6773055946877954, 'f1': 0.6752572377310052, 'kappa': 0.6372296327788702}\n",
      "INFO:utils.ml:Metrics for classifier RandomForestClassifier3: {'accuracy': 0.789763779527559, 'precision': 0.6691301363488296, 'recall': 0.6734139218015601, 'f1': 0.670107173269427, 'kappa': 0.6259349145063431}\n",
      "INFO:utils.ml:Metrics for classifier RandomForestClassifier4: {'accuracy': 0.789763779527559, 'precision': 0.6691301363488296, 'recall': 0.6734139218015601, 'f1': 0.670107173269427, 'kappa': 0.6259349145063431}\n",
      "INFO:utils.ml:Metrics for classifier RandomForestClassifier5: {'accuracy': 0.7771653543307087, 'precision': 0.6480193162627231, 'recall': 0.6608938736178632, 'f1': 0.6530258212886878, 'kappa': 0.6058997166592104}\n",
      "INFO:utils.ml:Metrics for classifier RandomForestClassifier6: {'accuracy': 0.789763779527559, 'precision': 0.6691301363488296, 'recall': 0.6734139218015601, 'f1': 0.670107173269427, 'kappa': 0.6259349145063431}\n",
      "INFO:utils.ml:Metrics for classifier RandomForestClassifier7: {'accuracy': 0.8007874015748031, 'precision': 0.6703663101479015, 'recall': 0.6572828690018971, 'f1': 0.6612745112660873, 'kappa': 0.6409767631034375}\n",
      "INFO:utils.ml:Metrics for classifier RandomForestClassifier8: {'accuracy': 0.6653543307086615, 'precision': 0.5798525894609997, 'recall': 0.6006229146801226, 'f1': 0.5636040597279889, 'kappa': 0.44956046421505647}\n",
      "INFO:utils.ml:Metrics for classifier XGBClassifier9: {'accuracy': 0.8307086614173228, 'precision': 0.7119331553717574, 'recall': 0.6957136271187808, 'f1': 0.701915693019468, 'kappa': 0.694131537441302}\n",
      "INFO:utils.ml:Metrics for classifier XGBClassifier10: {'accuracy': 0.8299212598425196, 'precision': 0.7085227774187395, 'recall': 0.6948665811176672, 'f1': 0.7001998057998794, 'kappa': 0.6929249148133056}\n",
      "INFO:utils.ml:Metrics for classifier XGBClassifier11: {'accuracy': 0.8307086614173228, 'precision': 0.7090745511798143, 'recall': 0.6953582232022296, 'f1': 0.7007447629391058, 'kappa': 0.6942849593350292}\n",
      "INFO:utils.ml:Metrics for classifier XGBClassifier12: {'accuracy': 0.7732283464566929, 'precision': 0.6511459849488018, 'recall': 0.6820163349689475, 'f1': 0.6607967838262266, 'kappa': 0.6045034017724684}\n",
      "INFO:utils.ml:Metrics for classifier XGBClassifier13: {'accuracy': 0.8244094488188977, 'precision': 0.7081179450214554, 'recall': 0.6934133319822943, 'f1': 0.699286991346285, 'kappa': 0.6828455987421778}\n",
      "INFO:utils.ml:Metrics for classifier XGBClassifier14: {'accuracy': 0.8165354330708662, 'precision': 0.693919191772879, 'recall': 0.6906628585515097, 'f1': 0.6918475022132644, 'kappa': 0.6705125978184863}\n",
      "INFO:utils.ml:Metrics for classifier XGBClassifier15: {'accuracy': 0.8259842519685039, 'precision': 0.708995398358542, 'recall': 0.6979841792324636, 'f1': 0.7023533819898974, 'kappa': 0.6864316645141686}\n",
      "INFO:utils.ml:Metrics for classifier XGBClassifier16: {'accuracy': 0.8244094488188977, 'precision': 0.7006350410339502, 'recall': 0.6937687358988455, 'f1': 0.6963788325315768, 'kappa': 0.6842120521477728}\n",
      "INFO:utils.ml:Metrics for classifier XGBClassifier17: {'accuracy': 0.8220472440944881, 'precision': 0.7045901418314031, 'recall': 0.6982250220993179, 'f1': 0.7005591320559068, 'kappa': 0.6803643814869259}\n",
      "INFO:utils.ml:Metrics for classifier XGBClassifier18: {'accuracy': 0.8283464566929134, 'precision': 0.7162768557005905, 'recall': 0.704857212065484, 'f1': 0.7097028560929303, 'kappa': 0.6903298256916854}\n",
      "INFO:utils.ml:Metrics for classifier XGBClassifier19: {'accuracy': 0.8322834645669291, 'precision': 0.7243350171408104, 'recall': 0.7051494750734565, 'f1': 0.7128210014164394, 'kappa': 0.6966710173984418}\n"
     ]
    },
    {
     "name": "stdout",
     "output_type": "stream",
     "text": [
      "cannot access local variable 'report' where it is not associated with a value\n",
      "cannot access local variable 'report' where it is not associated with a value\n",
      "cannot access local variable 'report' where it is not associated with a value\n",
      "cannot access local variable 'report' where it is not associated with a value\n",
      "cannot access local variable 'report' where it is not associated with a value\n",
      "cannot access local variable 'report' where it is not associated with a value\n",
      "cannot access local variable 'report' where it is not associated with a value\n",
      "cannot access local variable 'report' where it is not associated with a value\n",
      "cannot access local variable 'report' where it is not associated with a value\n",
      "cannot access local variable 'report' where it is not associated with a value\n",
      "cannot access local variable 'report' where it is not associated with a value\n",
      "cannot access local variable 'report' where it is not associated with a value\n",
      "cannot access local variable 'report' where it is not associated with a value\n",
      "cannot access local variable 'report' where it is not associated with a value\n",
      "cannot access local variable 'report' where it is not associated with a value\n",
      "cannot access local variable 'report' where it is not associated with a value\n",
      "cannot access local variable 'report' where it is not associated with a value\n",
      "cannot access local variable 'report' where it is not associated with a value\n",
      "cannot access local variable 'report' where it is not associated with a value\n",
      "cannot access local variable 'report' where it is not associated with a value\n",
      "cannot access local variable 'report' where it is not associated with a value\n"
     ]
    },
    {
     "data": {
      "text/plain": [
       "                         accuracy  precision    recall        f1     kappa\n",
       "GT                       1.000000   1.000000  1.000000  1.000000  1.000000\n",
       "RandomForestClassifier0  0.795276   0.681627  0.681865  0.679897  0.635653\n",
       "RandomForestClassifier1  0.789764   0.664912  0.672703  0.667982  0.626100\n",
       "RandomForestClassifier2  0.796850   0.674401  0.677306  0.675257  0.637230\n",
       "RandomForestClassifier3  0.789764   0.669130  0.673414  0.670107  0.625935\n",
       "RandomForestClassifier4  0.789764   0.669130  0.673414  0.670107  0.625935\n",
       "RandomForestClassifier5  0.777165   0.648019  0.660894  0.653026  0.605900\n",
       "RandomForestClassifier6  0.789764   0.669130  0.673414  0.670107  0.625935\n",
       "RandomForestClassifier7  0.800787   0.670366  0.657283  0.661275  0.640977\n",
       "RandomForestClassifier8  0.665354   0.579853  0.600623  0.563604  0.449560\n",
       "XGBClassifier9           0.830709   0.711933  0.695714  0.701916  0.694132\n",
       "XGBClassifier10          0.829921   0.708523  0.694867  0.700200  0.692925\n",
       "XGBClassifier11          0.830709   0.709075  0.695358  0.700745  0.694285\n",
       "XGBClassifier12          0.773228   0.651146  0.682016  0.660797  0.604503\n",
       "XGBClassifier13          0.824409   0.708118  0.693413  0.699287  0.682846\n",
       "XGBClassifier14          0.816535   0.693919  0.690663  0.691848  0.670513\n",
       "XGBClassifier15          0.825984   0.708995  0.697984  0.702353  0.686432\n",
       "XGBClassifier16          0.824409   0.700635  0.693769  0.696379  0.684212\n",
       "XGBClassifier17          0.822047   0.704590  0.698225  0.700559  0.680364\n",
       "XGBClassifier18          0.828346   0.716277  0.704857  0.709703  0.690330\n",
       "XGBClassifier19          0.832283   0.724335  0.705149  0.712821  0.696671"
      ],
      "text/html": [
       "<div>\n",
       "<style scoped>\n",
       "    .dataframe tbody tr th:only-of-type {\n",
       "        vertical-align: middle;\n",
       "    }\n",
       "\n",
       "    .dataframe tbody tr th {\n",
       "        vertical-align: top;\n",
       "    }\n",
       "\n",
       "    .dataframe thead th {\n",
       "        text-align: right;\n",
       "    }\n",
       "</style>\n",
       "<table border=\"1\" class=\"dataframe\">\n",
       "  <thead>\n",
       "    <tr style=\"text-align: right;\">\n",
       "      <th></th>\n",
       "      <th>accuracy</th>\n",
       "      <th>precision</th>\n",
       "      <th>recall</th>\n",
       "      <th>f1</th>\n",
       "      <th>kappa</th>\n",
       "    </tr>\n",
       "  </thead>\n",
       "  <tbody>\n",
       "    <tr>\n",
       "      <th>GT</th>\n",
       "      <td>1.000000</td>\n",
       "      <td>1.000000</td>\n",
       "      <td>1.000000</td>\n",
       "      <td>1.000000</td>\n",
       "      <td>1.000000</td>\n",
       "    </tr>\n",
       "    <tr>\n",
       "      <th>RandomForestClassifier0</th>\n",
       "      <td>0.795276</td>\n",
       "      <td>0.681627</td>\n",
       "      <td>0.681865</td>\n",
       "      <td>0.679897</td>\n",
       "      <td>0.635653</td>\n",
       "    </tr>\n",
       "    <tr>\n",
       "      <th>RandomForestClassifier1</th>\n",
       "      <td>0.789764</td>\n",
       "      <td>0.664912</td>\n",
       "      <td>0.672703</td>\n",
       "      <td>0.667982</td>\n",
       "      <td>0.626100</td>\n",
       "    </tr>\n",
       "    <tr>\n",
       "      <th>RandomForestClassifier2</th>\n",
       "      <td>0.796850</td>\n",
       "      <td>0.674401</td>\n",
       "      <td>0.677306</td>\n",
       "      <td>0.675257</td>\n",
       "      <td>0.637230</td>\n",
       "    </tr>\n",
       "    <tr>\n",
       "      <th>RandomForestClassifier3</th>\n",
       "      <td>0.789764</td>\n",
       "      <td>0.669130</td>\n",
       "      <td>0.673414</td>\n",
       "      <td>0.670107</td>\n",
       "      <td>0.625935</td>\n",
       "    </tr>\n",
       "    <tr>\n",
       "      <th>RandomForestClassifier4</th>\n",
       "      <td>0.789764</td>\n",
       "      <td>0.669130</td>\n",
       "      <td>0.673414</td>\n",
       "      <td>0.670107</td>\n",
       "      <td>0.625935</td>\n",
       "    </tr>\n",
       "    <tr>\n",
       "      <th>RandomForestClassifier5</th>\n",
       "      <td>0.777165</td>\n",
       "      <td>0.648019</td>\n",
       "      <td>0.660894</td>\n",
       "      <td>0.653026</td>\n",
       "      <td>0.605900</td>\n",
       "    </tr>\n",
       "    <tr>\n",
       "      <th>RandomForestClassifier6</th>\n",
       "      <td>0.789764</td>\n",
       "      <td>0.669130</td>\n",
       "      <td>0.673414</td>\n",
       "      <td>0.670107</td>\n",
       "      <td>0.625935</td>\n",
       "    </tr>\n",
       "    <tr>\n",
       "      <th>RandomForestClassifier7</th>\n",
       "      <td>0.800787</td>\n",
       "      <td>0.670366</td>\n",
       "      <td>0.657283</td>\n",
       "      <td>0.661275</td>\n",
       "      <td>0.640977</td>\n",
       "    </tr>\n",
       "    <tr>\n",
       "      <th>RandomForestClassifier8</th>\n",
       "      <td>0.665354</td>\n",
       "      <td>0.579853</td>\n",
       "      <td>0.600623</td>\n",
       "      <td>0.563604</td>\n",
       "      <td>0.449560</td>\n",
       "    </tr>\n",
       "    <tr>\n",
       "      <th>XGBClassifier9</th>\n",
       "      <td>0.830709</td>\n",
       "      <td>0.711933</td>\n",
       "      <td>0.695714</td>\n",
       "      <td>0.701916</td>\n",
       "      <td>0.694132</td>\n",
       "    </tr>\n",
       "    <tr>\n",
       "      <th>XGBClassifier10</th>\n",
       "      <td>0.829921</td>\n",
       "      <td>0.708523</td>\n",
       "      <td>0.694867</td>\n",
       "      <td>0.700200</td>\n",
       "      <td>0.692925</td>\n",
       "    </tr>\n",
       "    <tr>\n",
       "      <th>XGBClassifier11</th>\n",
       "      <td>0.830709</td>\n",
       "      <td>0.709075</td>\n",
       "      <td>0.695358</td>\n",
       "      <td>0.700745</td>\n",
       "      <td>0.694285</td>\n",
       "    </tr>\n",
       "    <tr>\n",
       "      <th>XGBClassifier12</th>\n",
       "      <td>0.773228</td>\n",
       "      <td>0.651146</td>\n",
       "      <td>0.682016</td>\n",
       "      <td>0.660797</td>\n",
       "      <td>0.604503</td>\n",
       "    </tr>\n",
       "    <tr>\n",
       "      <th>XGBClassifier13</th>\n",
       "      <td>0.824409</td>\n",
       "      <td>0.708118</td>\n",
       "      <td>0.693413</td>\n",
       "      <td>0.699287</td>\n",
       "      <td>0.682846</td>\n",
       "    </tr>\n",
       "    <tr>\n",
       "      <th>XGBClassifier14</th>\n",
       "      <td>0.816535</td>\n",
       "      <td>0.693919</td>\n",
       "      <td>0.690663</td>\n",
       "      <td>0.691848</td>\n",
       "      <td>0.670513</td>\n",
       "    </tr>\n",
       "    <tr>\n",
       "      <th>XGBClassifier15</th>\n",
       "      <td>0.825984</td>\n",
       "      <td>0.708995</td>\n",
       "      <td>0.697984</td>\n",
       "      <td>0.702353</td>\n",
       "      <td>0.686432</td>\n",
       "    </tr>\n",
       "    <tr>\n",
       "      <th>XGBClassifier16</th>\n",
       "      <td>0.824409</td>\n",
       "      <td>0.700635</td>\n",
       "      <td>0.693769</td>\n",
       "      <td>0.696379</td>\n",
       "      <td>0.684212</td>\n",
       "    </tr>\n",
       "    <tr>\n",
       "      <th>XGBClassifier17</th>\n",
       "      <td>0.822047</td>\n",
       "      <td>0.704590</td>\n",
       "      <td>0.698225</td>\n",
       "      <td>0.700559</td>\n",
       "      <td>0.680364</td>\n",
       "    </tr>\n",
       "    <tr>\n",
       "      <th>XGBClassifier18</th>\n",
       "      <td>0.828346</td>\n",
       "      <td>0.716277</td>\n",
       "      <td>0.704857</td>\n",
       "      <td>0.709703</td>\n",
       "      <td>0.690330</td>\n",
       "    </tr>\n",
       "    <tr>\n",
       "      <th>XGBClassifier19</th>\n",
       "      <td>0.832283</td>\n",
       "      <td>0.724335</td>\n",
       "      <td>0.705149</td>\n",
       "      <td>0.712821</td>\n",
       "      <td>0.696671</td>\n",
       "    </tr>\n",
       "  </tbody>\n",
       "</table>\n",
       "</div>"
      ]
     },
     "execution_count": 14,
     "metadata": {},
     "output_type": "execute_result"
    }
   ],
   "execution_count": 14
  },
  {
   "metadata": {},
   "cell_type": "markdown",
   "source": [
    "___\n",
    "Borderline SMOTE"
   ],
   "id": "1e752cdfc948f3bc"
  },
  {
   "metadata": {
    "ExecuteTime": {
     "end_time": "2024-11-02T09:14:47.881349Z",
     "start_time": "2024-11-02T09:14:47.584705Z"
    }
   },
   "cell_type": "code",
   "source": [
    "from imblearn.over_sampling import BorderlineSMOTE\n",
    "smote = BorderlineSMOTE(sampling_strategy='auto', random_state=42)\n",
    "\n",
    "pipeline.feature_matrix, pipeline.labels = smote.fit_resample(\n",
    "    pipeline.backup_feature_matrix, pipeline.backup_labels)\n",
    "\n",
    "print(pipeline.backup_feature_matrix.shape)\n",
    "print(pipeline.feature_matrix.shape)\n",
    "\n",
    "print(pipeline.backup_labels.shape)\n",
    "print(pipeline.labels.shape)\n",
    "\n",
    "pipeline.fitted_classifiers = {}"
   ],
   "id": "ca12420fbcc1eb2b",
   "outputs": [
    {
     "name": "stdout",
     "output_type": "stream",
     "text": [
      "(5082, 408)\n",
      "(8139, 408)\n",
      "(5082,)\n",
      "(8139,)\n"
     ]
    }
   ],
   "execution_count": 15
  },
  {
   "metadata": {
    "ExecuteTime": {
     "end_time": "2024-11-02T09:22:27.256268Z",
     "start_time": "2024-11-02T09:14:47.929269Z"
    }
   },
   "cell_type": "code",
   "source": "pipeline.fit_classifiers()",
   "id": "a4ea57f5e5a38f80",
   "outputs": [
    {
     "name": "stderr",
     "output_type": "stream",
     "text": [
      "INFO:utils.ml:Fitting classifiers...\n",
      "INFO:utils.ml:Fitting classifier: RandomForestClassifier0\n",
      "INFO:utils.ml:Top 10 features for RandomForestClassifier0: [('color_moments_hsv_channel_0_mean', 0.022479863507657172), ('color_moments_lab_channel_0_skew', 0.01914817076035279), ('var_rgb_channel_2', 0.011903805996527428), ('var_lab_channel_0', 0.011571798702222883), ('color_moments_lab_channel_1_std', 0.009615274825500598), ('var_lab_channel_2', 0.009100913144114643), ('var_rgb_channel_1', 0.008655537101999585), ('color_moments_rgb_channel_1_skew', 0.008292855000602506), ('color_moments_lab_channel_0_mean', 0.008247429425519122), ('color_moments_rgb_channel_1_mean', 0.008140613091264702)]\n",
      "INFO:utils.ml:Fitted classifier: RandomForestClassifier0; Done in 19.095600366592407 seconds\n",
      "INFO:utils.ml:Fitting classifier: RandomForestClassifier1\n",
      "INFO:utils.ml:Fitted classifier: RandomForestClassifier1; Done in 30.11712074279785 seconds\n",
      "INFO:utils.ml:Fitting classifier: RandomForestClassifier2\n"
     ]
    },
    {
     "name": "stdout",
     "output_type": "stream",
     "text": [
      "list index out of range\n"
     ]
    },
    {
     "name": "stderr",
     "output_type": "stream",
     "text": [
      "INFO:utils.ml:Top 10 features for RandomForestClassifier2: [('color_moments_hsv_channel_0_mean', 0.020181560772535283), ('color_moments_lab_channel_0_skew', 0.01980511962289161), ('var_rgb_channel_2', 0.013376170249881296), ('var_lab_channel_0', 0.012876845800746606), ('var_rgb_channel_1', 0.010006570256993903), ('var_lab_channel_2', 0.008681272311879892), ('gradient_magnitude_std', 0.008580129876937058), ('color_moments_lab_channel_1_std', 0.008244604920297894), ('color_moments_rgb_channel_1_skew', 0.008133199375594171), ('color_moments_lab_channel_0_mean', 0.008078184515446127)]\n",
      "INFO:utils.ml:Fitted classifier: RandomForestClassifier2; Done in 50.68040084838867 seconds\n",
      "INFO:utils.ml:Fitting classifier: RandomForestClassifier3\n",
      "INFO:utils.ml:Fitted classifier: RandomForestClassifier3; Done in 19.31105947494507 seconds\n",
      "INFO:utils.ml:Fitting classifier: RandomForestClassifier4\n"
     ]
    },
    {
     "name": "stdout",
     "output_type": "stream",
     "text": [
      "list index out of range\n"
     ]
    },
    {
     "name": "stderr",
     "output_type": "stream",
     "text": [
      "INFO:utils.ml:Fitted classifier: RandomForestClassifier4; Done in 18.360855102539062 seconds\n",
      "INFO:utils.ml:Fitting classifier: RandomForestClassifier5\n"
     ]
    },
    {
     "name": "stdout",
     "output_type": "stream",
     "text": [
      "list index out of range\n"
     ]
    },
    {
     "name": "stderr",
     "output_type": "stream",
     "text": [
      "INFO:utils.ml:Fitted classifier: RandomForestClassifier5; Done in 15.865187644958496 seconds\n",
      "INFO:utils.ml:Fitting classifier: RandomForestClassifier6\n"
     ]
    },
    {
     "name": "stdout",
     "output_type": "stream",
     "text": [
      "list index out of range\n"
     ]
    },
    {
     "name": "stderr",
     "output_type": "stream",
     "text": [
      "INFO:utils.ml:Fitted classifier: RandomForestClassifier6; Done in 19.369632482528687 seconds\n",
      "INFO:utils.ml:Fitting classifier: RandomForestClassifier7\n"
     ]
    },
    {
     "name": "stdout",
     "output_type": "stream",
     "text": [
      "list index out of range\n"
     ]
    },
    {
     "name": "stderr",
     "output_type": "stream",
     "text": [
      "INFO:utils.ml:Fitted classifier: RandomForestClassifier7; Done in 28.48804473876953 seconds\n",
      "INFO:utils.ml:Fitting classifier: RandomForestClassifier8\n"
     ]
    },
    {
     "name": "stdout",
     "output_type": "stream",
     "text": [
      "list index out of range\n"
     ]
    },
    {
     "name": "stderr",
     "output_type": "stream",
     "text": [
      "INFO:utils.ml:Fitted classifier: RandomForestClassifier8; Done in 6.702448606491089 seconds\n",
      "INFO:utils.ml:Fitting classifier: XGBClassifier9\n"
     ]
    },
    {
     "name": "stdout",
     "output_type": "stream",
     "text": [
      "list index out of range\n"
     ]
    },
    {
     "name": "stderr",
     "output_type": "stream",
     "text": [
      "INFO:utils.ml:Top 10 features for XGBClassifier9: [('lbp_rad3_bins32_20', 0.023834197), ('color_moments_hsv_channel_2_std', 0.019076854), ('lbp_rad2_bins16_4', 0.015954211), ('color_moments_hsv_channel_0_mean', 0.015064743), ('lbp_rad2_bins32_19', 0.014769614), ('var_lab_channel_0', 0.014143953), ('lbp_rad1_bins64_63', 0.014087767), ('color_moments_lab_channel_1_std', 0.010153811), ('lbp_rad1_bins64_58', 0.009402944), ('lbp_rad2_bins32_0', 0.009031722)]\n",
      "INFO:utils.ml:Fitted classifier: XGBClassifier9; Done in 24.142266273498535 seconds\n",
      "INFO:utils.ml:Fitting classifier: XGBClassifier10\n",
      "INFO:utils.ml:Top 10 features for XGBClassifier10: [('lbp_rad3_bins32_20', 0.023440376), ('color_moments_hsv_channel_2_std', 0.019347608), ('lbp_rad2_bins16_4', 0.017258983), ('lbp_rad2_bins32_19', 0.014646686), ('color_moments_hsv_channel_0_mean', 0.014599767), ('lbp_rad1_bins64_63', 0.014055089), ('var_lab_channel_0', 0.013549805), ('color_moments_lab_channel_1_std', 0.010140001), ('lbp_rad1_bins64_58', 0.009562105), ('lbp_rad2_bins32_0', 0.008914053)]\n",
      "INFO:utils.ml:Fitted classifier: XGBClassifier10; Done in 28.27497911453247 seconds\n",
      "INFO:utils.ml:Fitting classifier: XGBClassifier11\n",
      "INFO:utils.ml:Top 10 features for XGBClassifier11: [('lbp_rad3_bins32_20', 0.023436002), ('color_moments_hsv_channel_2_std', 0.019309511), ('lbp_rad2_bins16_4', 0.018301312), ('color_moments_hsv_channel_0_mean', 0.014369889), ('lbp_rad1_bins64_63', 0.014269924), ('var_lab_channel_0', 0.013349562), ('lbp_rad2_bins32_19', 0.0133134555), ('color_moments_lab_channel_1_std', 0.010483813), ('lbp_rad1_bins64_58', 0.009940915), ('lbp_rad2_bins32_0', 0.008690651)]\n",
      "INFO:utils.ml:Fitted classifier: XGBClassifier11; Done in 33.02637457847595 seconds\n",
      "INFO:utils.ml:Fitting classifier: XGBClassifier12\n",
      "INFO:utils.ml:Top 10 features for XGBClassifier12: [('color_moments_hsv_channel_0_mean', 0.014278357), ('lbp_rad2_bins32_19', 0.013438908), ('lbp_rad2_bins64_29', 0.012164524), ('lbp_rad3_bins32_20', 0.011605945), ('color_moments_lab_channel_1_std', 0.011001326), ('lbp_rad1_bins64_63', 0.010877857), ('lbp_rad2_bins16_15', 0.010399289), ('lbp_rad2_bins16_4', 0.009037567), ('color_moments_lab_channel_0_skew', 0.00887075), ('color_moments_lab_channel_1_skew', 0.008414901)]\n",
      "INFO:utils.ml:Fitted classifier: XGBClassifier12; Done in 9.607529640197754 seconds\n",
      "INFO:utils.ml:Fitting classifier: XGBClassifier13\n",
      "INFO:utils.ml:Top 10 features for XGBClassifier13: [('lbp_rad2_bins32_19', 0.011898892), ('lbp_rad2_bins16_15', 0.010959089), ('var_lab_channel_0', 0.010844001), ('lbp_rad2_bins16_4', 0.010316485), ('color_moments_hsv_channel_0_mean', 0.010101765), ('lbp_rad3_bins32_27', 0.008422815), ('lbp_rad2_bins32_0', 0.0081928065), ('lbp_rad1_bins64_47', 0.0076509793), ('color_moments_lab_channel_0_skew', 0.0075393002), ('lbp_rad3_bins32_20', 0.007522152)]\n",
      "INFO:utils.ml:Fitted classifier: XGBClassifier13; Done in 19.326255083084106 seconds\n",
      "INFO:utils.ml:Fitting classifier: XGBClassifier14\n",
      "INFO:utils.ml:Top 10 features for XGBClassifier14: [('lbp_rad2_bins32_19', 0.021668673), ('var_lab_channel_0', 0.01185728), ('color_moments_hsv_channel_0_mean', 0.011578901), ('lbp_rad3_bins32_20', 0.011527363), ('lbp_rad1_bins64_63', 0.010232281), ('lbp_rad2_bins16_4', 0.010164749), ('color_moments_lab_channel_0_skew', 0.0093047535), ('lbp_rad2_bins32_0', 0.009162955), ('lbp_rad3_bins64_45', 0.008890627), ('lbp_rad1_bins64_58', 0.008433899)]\n",
      "INFO:utils.ml:Fitted classifier: XGBClassifier14; Done in 12.730241775512695 seconds\n",
      "INFO:utils.ml:Fitting classifier: XGBClassifier15\n",
      "INFO:utils.ml:Top 10 features for XGBClassifier15: [('lbp_rad2_bins32_19', 0.019125141), ('var_lab_channel_0', 0.012934488), ('color_moments_hsv_channel_0_mean', 0.012892632), ('lbp_rad1_bins64_63', 0.011813985), ('lbp_rad2_bins32_0', 0.01030633), ('lbp_rad2_bins16_4', 0.00916763), ('color_moments_lab_channel_0_skew', 0.00861067), ('lbp_rad1_bins64_58', 0.008375675), ('color_moments_lab_channel_1_std', 0.008265463), ('color_moments_lab_channel_1_skew', 0.0073033487)]\n",
      "INFO:utils.ml:Fitted classifier: XGBClassifier15; Done in 14.308325052261353 seconds\n",
      "INFO:utils.ml:Fitting classifier: XGBClassifier16\n",
      "INFO:utils.ml:Top 10 features for XGBClassifier16: [('lbp_rad2_bins32_19', 0.017678529), ('color_moments_hsv_channel_0_mean', 0.013197056), ('var_lab_channel_0', 0.012974011), ('lbp_rad1_bins64_63', 0.010073275), ('lbp_rad2_bins16_4', 0.009482195), ('color_moments_lab_channel_1_std', 0.009128875), ('lbp_rad3_bins32_20', 0.0085015595), ('color_moments_lab_channel_0_skew', 0.007728742), ('lbp_rad2_bins32_0', 0.007447793), ('lbp_rad2_bins64_32', 0.0069164066)]\n",
      "INFO:utils.ml:Fitted classifier: XGBClassifier16; Done in 32.447468757629395 seconds\n",
      "INFO:utils.ml:Fitting classifier: XGBClassifier17\n",
      "INFO:utils.ml:Top 10 features for XGBClassifier17: [('lbp_rad2_bins32_19', 0.019143373), ('color_moments_hsv_channel_0_mean', 0.013439371), ('var_lab_channel_0', 0.01280399), ('lbp_rad1_bins64_63', 0.009901235), ('color_moments_lab_channel_1_std', 0.009092372), ('lbp_rad2_bins16_4', 0.008769789), ('lbp_rad3_bins32_20', 0.008501218), ('color_moments_lab_channel_0_skew', 0.00728625), ('lbp_rad2_bins32_0', 0.0070789056), ('lbp_rad2_bins64_32', 0.007027424)]\n",
      "INFO:utils.ml:Fitted classifier: XGBClassifier17; Done in 27.020638704299927 seconds\n",
      "INFO:utils.ml:Fitting classifier: XGBClassifier18\n",
      "INFO:utils.ml:Top 10 features for XGBClassifier18: [('lbp_rad2_bins32_19', 0.01757935), ('var_lab_channel_0', 0.013995183), ('color_moments_hsv_channel_0_mean', 0.01219088), ('lbp_rad2_bins64_8', 0.011817323), ('color_moments_lab_channel_1_std', 0.01084449), ('lbp_rad2_bins16_4', 0.0100976275), ('lbp_rad1_bins64_63', 0.0089691905), ('color_moments_lab_channel_0_skew', 0.008383666), ('lbp_rad2_bins64_32', 0.008103705), ('lbp_rad2_bins32_0', 0.008021327)]\n",
      "INFO:utils.ml:Fitted classifier: XGBClassifier18; Done in 23.351996898651123 seconds\n",
      "INFO:utils.ml:Fitting classifier: XGBClassifier19\n",
      "INFO:utils.ml:Top 10 features for XGBClassifier19: [('lbp_rad2_bins32_19', 0.018639537), ('var_lab_channel_0', 0.013822321), ('color_moments_hsv_channel_0_mean', 0.011749855), ('color_moments_lab_channel_1_std', 0.011078843), ('lbp_rad2_bins64_8', 0.010593538), ('lbp_rad2_bins16_4', 0.010554746), ('lbp_rad1_bins64_63', 0.008987721), ('color_moments_lab_channel_0_skew', 0.008658451), ('lbp_rad2_bins32_0', 0.008488582), ('lbp_rad2_bins64_32', 0.008124584)]\n",
      "INFO:utils.ml:Fitted classifier: XGBClassifier19; Done in 27.058141469955444 seconds\n",
      "INFO:utils.ml:Fitting completed in 459.32 seconds.\n"
     ]
    }
   ],
   "execution_count": 16
  },
  {
   "metadata": {
    "ExecuteTime": {
     "end_time": "2024-11-02T09:26:16.116947Z",
     "start_time": "2024-11-02T09:22:27.260770Z"
    }
   },
   "cell_type": "code",
   "source": "pipeline.predict_with_classifiers(VAL_PATH)",
   "id": "156c56b343fa5df1",
   "outputs": [
    {
     "name": "stderr",
     "output_type": "stream",
     "text": [
      "INFO:utils.ml:Predicting with classifiers on dataset: C:\\Users\\gimes\\Src\\repos\\CADx-Project\\dataset\\multiclass\\val\n"
     ]
    },
    {
     "name": "stdout",
     "output_type": "stream",
     "text": [
      "Processed 5/27 batches.\n",
      "Processed 10/27 batches.\n",
      "Processed 15/27 batches.\n",
      "Processed 20/27 batches.\n",
      "Processed 25/27 batches.\n"
     ]
    },
    {
     "name": "stderr",
     "output_type": "stream",
     "text": [
      "INFO:utils.ml:Predictions made with classifier: RandomForestClassifier0\n",
      "INFO:utils.ml:Predictions made with classifier: RandomForestClassifier1\n",
      "INFO:utils.ml:Predictions made with classifier: RandomForestClassifier2\n",
      "INFO:utils.ml:Predictions made with classifier: RandomForestClassifier3\n",
      "INFO:utils.ml:Predictions made with classifier: RandomForestClassifier4\n",
      "INFO:utils.ml:Predictions made with classifier: RandomForestClassifier5\n",
      "INFO:utils.ml:Predictions made with classifier: RandomForestClassifier6\n"
     ]
    },
    {
     "name": "stdout",
     "output_type": "stream",
     "text": [
      "Processed 27/27 batches.\n"
     ]
    },
    {
     "name": "stderr",
     "output_type": "stream",
     "text": [
      "INFO:utils.ml:Predictions made with classifier: RandomForestClassifier7\n",
      "INFO:utils.ml:Predictions made with classifier: RandomForestClassifier8\n",
      "INFO:utils.ml:Predictions made with classifier: XGBClassifier9\n",
      "INFO:utils.ml:Predictions made with classifier: XGBClassifier10\n",
      "INFO:utils.ml:Predictions made with classifier: XGBClassifier11\n",
      "INFO:utils.ml:Predictions made with classifier: XGBClassifier12\n",
      "INFO:utils.ml:Predictions made with classifier: XGBClassifier13\n",
      "INFO:utils.ml:Predictions made with classifier: XGBClassifier14\n",
      "INFO:utils.ml:Predictions made with classifier: XGBClassifier15\n",
      "INFO:utils.ml:Predictions made with classifier: XGBClassifier16\n",
      "INFO:utils.ml:Predictions made with classifier: XGBClassifier17\n",
      "INFO:utils.ml:Predictions made with classifier: XGBClassifier18\n",
      "INFO:utils.ml:Predictions made with classifier: XGBClassifier19\n"
     ]
    },
    {
     "data": {
      "text/plain": [
       "{'GT': array([0, 0, 0, ..., 2, 2, 2]),\n",
       " 'RandomForestClassifier0': array([0, 0, 2, ..., 1, 0, 0]),\n",
       " 'RandomForestClassifier1': array([0, 0, 2, ..., 1, 0, 0]),\n",
       " 'RandomForestClassifier2': array([0, 0, 2, ..., 1, 0, 0]),\n",
       " 'RandomForestClassifier3': array([0, 0, 2, ..., 1, 0, 0]),\n",
       " 'RandomForestClassifier4': array([0, 0, 2, ..., 1, 0, 0]),\n",
       " 'RandomForestClassifier5': array([0, 0, 2, ..., 1, 0, 0]),\n",
       " 'RandomForestClassifier6': array([0, 0, 2, ..., 1, 0, 0]),\n",
       " 'RandomForestClassifier7': array([0, 0, 2, ..., 1, 0, 0]),\n",
       " 'RandomForestClassifier8': array([0, 0, 2, ..., 1, 0, 2]),\n",
       " 'XGBClassifier9': array([0, 0, 2, ..., 1, 2, 0], dtype=int64),\n",
       " 'XGBClassifier10': array([0, 0, 2, ..., 1, 2, 0], dtype=int64),\n",
       " 'XGBClassifier11': array([0, 0, 2, ..., 1, 2, 0], dtype=int64),\n",
       " 'XGBClassifier12': array([0, 0, 2, ..., 1, 0, 0], dtype=int64),\n",
       " 'XGBClassifier13': array([0, 0, 2, ..., 1, 2, 0], dtype=int64),\n",
       " 'XGBClassifier14': array([0, 0, 2, ..., 1, 0, 0], dtype=int64),\n",
       " 'XGBClassifier15': array([0, 0, 2, ..., 1, 0, 0], dtype=int64),\n",
       " 'XGBClassifier16': array([0, 0, 2, ..., 1, 2, 0], dtype=int64),\n",
       " 'XGBClassifier17': array([0, 0, 2, ..., 1, 2, 0], dtype=int64),\n",
       " 'XGBClassifier18': array([0, 0, 2, ..., 1, 2, 0], dtype=int64),\n",
       " 'XGBClassifier19': array([0, 0, 2, ..., 1, 2, 0], dtype=int64)}"
      ]
     },
     "execution_count": 17,
     "metadata": {},
     "output_type": "execute_result"
    }
   ],
   "execution_count": 17
  },
  {
   "metadata": {
    "ExecuteTime": {
     "end_time": "2024-11-02T09:26:16.257416Z",
     "start_time": "2024-11-02T09:26:16.140508Z"
    }
   },
   "cell_type": "code",
   "source": [
    "df = pd.DataFrame(data=pipeline.calculate_metrics(\n",
    "    [\"accuracy\", \"precision\", \"recall\", \"f1\", \"kappa\"],))\n",
    "df.T"
   ],
   "id": "d531dcc7576a4ec2",
   "outputs": [
    {
     "name": "stderr",
     "output_type": "stream",
     "text": [
      "INFO:utils.ml:Metrics for classifier GT: {'accuracy': 1.0, 'precision': 1.0, 'recall': 1.0, 'f1': 1.0, 'kappa': 1.0}\n",
      "INFO:utils.ml:Metrics for classifier RandomForestClassifier0: {'accuracy': 0.7929133858267716, 'precision': 0.6884935006654184, 'recall': 0.6825556163018988, 'f1': 0.6836099715708404, 'kappa': 0.6301107419712071}\n",
      "INFO:utils.ml:Metrics for classifier RandomForestClassifier1: {'accuracy': 0.7937007874015748, 'precision': 0.6785804424822621, 'recall': 0.6737061848095326, 'f1': 0.6746201716999911, 'kappa': 0.6309286126270022}\n",
      "INFO:utils.ml:Metrics for classifier RandomForestClassifier2: {'accuracy': 0.794488188976378, 'precision': 0.6767994768811763, 'recall': 0.6682666144399351, 'f1': 0.670546195820052, 'kappa': 0.6316770821295548}\n",
      "INFO:utils.ml:Metrics for classifier RandomForestClassifier3: {'accuracy': 0.7952755905511811, 'precision': 0.6789563213884153, 'recall': 0.6721681176472664, 'f1': 0.6733981013283948, 'kappa': 0.6340755253930751}\n",
      "INFO:utils.ml:Metrics for classifier RandomForestClassifier4: {'accuracy': 0.7952755905511811, 'precision': 0.6789563213884153, 'recall': 0.6721681176472664, 'f1': 0.6733981013283948, 'kappa': 0.6340755253930751}\n",
      "INFO:utils.ml:Metrics for classifier RandomForestClassifier5: {'accuracy': 0.7795275590551181, 'precision': 0.6579318567795641, 'recall': 0.665956362952595, 'f1': 0.6606700310443481, 'kappa': 0.6088267001078037}\n",
      "INFO:utils.ml:Metrics for classifier RandomForestClassifier6: {'accuracy': 0.7952755905511811, 'precision': 0.6789563213884153, 'recall': 0.6721681176472664, 'f1': 0.6733981013283948, 'kappa': 0.6340755253930751}\n",
      "INFO:utils.ml:Metrics for classifier RandomForestClassifier7: {'accuracy': 0.7905511811023622, 'precision': 0.6759613008686397, 'recall': 0.6568227343567454, 'f1': 0.6623788643769307, 'kappa': 0.6230798068426266}\n",
      "INFO:utils.ml:Metrics for classifier RandomForestClassifier8: {'accuracy': 0.6661417322834645, 'precision': 0.582031900944414, 'recall': 0.6113776640485246, 'f1': 0.5674656083001548, 'kappa': 0.4500727136064314}\n",
      "INFO:utils.ml:Metrics for classifier XGBClassifier9: {'accuracy': 0.8291338582677166, 'precision': 0.7147188114905997, 'recall': 0.6977848001558736, 'f1': 0.7042476831082528, 'kappa': 0.691410693970421}\n",
      "INFO:utils.ml:Metrics for classifier XGBClassifier10: {'accuracy': 0.8291338582677166, 'precision': 0.7108205990675854, 'recall': 0.6943749390331048, 'f1': 0.7007643117253753, 'kappa': 0.6910993942817688}\n",
      "INFO:utils.ml:Metrics for classifier XGBClassifier11: {'accuracy': 0.8307086614173228, 'precision': 0.7120069514278712, 'recall': 0.6958913290770563, 'f1': 0.7020148514271908, 'kappa': 0.6941931986685841}\n",
      "INFO:utils.ml:Metrics for classifier XGBClassifier12: {'accuracy': 0.7803149606299212, 'precision': 0.6494497185661647, 'recall': 0.6731235492399524, 'f1': 0.6571825598862585, 'kappa': 0.6156691324815065}\n",
      "INFO:utils.ml:Metrics for classifier XGBClassifier13: {'accuracy': 0.8251968503937008, 'precision': 0.7043741693469462, 'recall': 0.6991253786879142, 'f1': 0.7014176152290768, 'kappa': 0.6852954833639919}\n",
      "INFO:utils.ml:Metrics for classifier XGBClassifier14: {'accuracy': 0.8251968503937008, 'precision': 0.7035826662413172, 'recall': 0.6974925371479013, 'f1': 0.6998037529499371, 'kappa': 0.6857696937274309}\n",
      "INFO:utils.ml:Metrics for classifier XGBClassifier15: {'accuracy': 0.8204724409448819, 'precision': 0.6966974758208226, 'recall': 0.6875452604367133, 'f1': 0.6912718810907302, 'kappa': 0.676320272572402}\n",
      "INFO:utils.ml:Metrics for classifier XGBClassifier16: {'accuracy': 0.8299212598425196, 'precision': 0.7221884260571813, 'recall': 0.7151815698115377, 'f1': 0.7180991240624017, 'kappa': 0.6941546886915726}\n",
      "INFO:utils.ml:Metrics for classifier XGBClassifier17: {'accuracy': 0.8299212598425196, 'precision': 0.7234452117456961, 'recall': 0.7207573783491462, 'f1': 0.7218301258772236, 'kappa': 0.694582377697121}\n",
      "INFO:utils.ml:Metrics for classifier XGBClassifier18: {'accuracy': 0.8307086614173228, 'precision': 0.7185922530766163, 'recall': 0.7038107869877804, 'f1': 0.709878421165309, 'kappa': 0.6942384011036756}\n",
      "INFO:utils.ml:Metrics for classifier XGBClassifier19: {'accuracy': 0.8330708661417323, 'precision': 0.7218208312595348, 'recall': 0.7058188191162945, 'f1': 0.7122698562973927, 'kappa': 0.698489986248169}\n"
     ]
    },
    {
     "name": "stdout",
     "output_type": "stream",
     "text": [
      "cannot access local variable 'report' where it is not associated with a value\n",
      "cannot access local variable 'report' where it is not associated with a value\n",
      "cannot access local variable 'report' where it is not associated with a value\n",
      "cannot access local variable 'report' where it is not associated with a value\n",
      "cannot access local variable 'report' where it is not associated with a value\n",
      "cannot access local variable 'report' where it is not associated with a value\n",
      "cannot access local variable 'report' where it is not associated with a value\n",
      "cannot access local variable 'report' where it is not associated with a value\n",
      "cannot access local variable 'report' where it is not associated with a value\n",
      "cannot access local variable 'report' where it is not associated with a value\n",
      "cannot access local variable 'report' where it is not associated with a value\n",
      "cannot access local variable 'report' where it is not associated with a value\n",
      "cannot access local variable 'report' where it is not associated with a value\n",
      "cannot access local variable 'report' where it is not associated with a value\n",
      "cannot access local variable 'report' where it is not associated with a value\n",
      "cannot access local variable 'report' where it is not associated with a value\n",
      "cannot access local variable 'report' where it is not associated with a value\n",
      "cannot access local variable 'report' where it is not associated with a value\n",
      "cannot access local variable 'report' where it is not associated with a value\n",
      "cannot access local variable 'report' where it is not associated with a value\n",
      "cannot access local variable 'report' where it is not associated with a value\n"
     ]
    },
    {
     "data": {
      "text/plain": [
       "                         accuracy  precision    recall        f1     kappa\n",
       "GT                       1.000000   1.000000  1.000000  1.000000  1.000000\n",
       "RandomForestClassifier0  0.792913   0.688494  0.682556  0.683610  0.630111\n",
       "RandomForestClassifier1  0.793701   0.678580  0.673706  0.674620  0.630929\n",
       "RandomForestClassifier2  0.794488   0.676799  0.668267  0.670546  0.631677\n",
       "RandomForestClassifier3  0.795276   0.678956  0.672168  0.673398  0.634076\n",
       "RandomForestClassifier4  0.795276   0.678956  0.672168  0.673398  0.634076\n",
       "RandomForestClassifier5  0.779528   0.657932  0.665956  0.660670  0.608827\n",
       "RandomForestClassifier6  0.795276   0.678956  0.672168  0.673398  0.634076\n",
       "RandomForestClassifier7  0.790551   0.675961  0.656823  0.662379  0.623080\n",
       "RandomForestClassifier8  0.666142   0.582032  0.611378  0.567466  0.450073\n",
       "XGBClassifier9           0.829134   0.714719  0.697785  0.704248  0.691411\n",
       "XGBClassifier10          0.829134   0.710821  0.694375  0.700764  0.691099\n",
       "XGBClassifier11          0.830709   0.712007  0.695891  0.702015  0.694193\n",
       "XGBClassifier12          0.780315   0.649450  0.673124  0.657183  0.615669\n",
       "XGBClassifier13          0.825197   0.704374  0.699125  0.701418  0.685295\n",
       "XGBClassifier14          0.825197   0.703583  0.697493  0.699804  0.685770\n",
       "XGBClassifier15          0.820472   0.696697  0.687545  0.691272  0.676320\n",
       "XGBClassifier16          0.829921   0.722188  0.715182  0.718099  0.694155\n",
       "XGBClassifier17          0.829921   0.723445  0.720757  0.721830  0.694582\n",
       "XGBClassifier18          0.830709   0.718592  0.703811  0.709878  0.694238\n",
       "XGBClassifier19          0.833071   0.721821  0.705819  0.712270  0.698490"
      ],
      "text/html": [
       "<div>\n",
       "<style scoped>\n",
       "    .dataframe tbody tr th:only-of-type {\n",
       "        vertical-align: middle;\n",
       "    }\n",
       "\n",
       "    .dataframe tbody tr th {\n",
       "        vertical-align: top;\n",
       "    }\n",
       "\n",
       "    .dataframe thead th {\n",
       "        text-align: right;\n",
       "    }\n",
       "</style>\n",
       "<table border=\"1\" class=\"dataframe\">\n",
       "  <thead>\n",
       "    <tr style=\"text-align: right;\">\n",
       "      <th></th>\n",
       "      <th>accuracy</th>\n",
       "      <th>precision</th>\n",
       "      <th>recall</th>\n",
       "      <th>f1</th>\n",
       "      <th>kappa</th>\n",
       "    </tr>\n",
       "  </thead>\n",
       "  <tbody>\n",
       "    <tr>\n",
       "      <th>GT</th>\n",
       "      <td>1.000000</td>\n",
       "      <td>1.000000</td>\n",
       "      <td>1.000000</td>\n",
       "      <td>1.000000</td>\n",
       "      <td>1.000000</td>\n",
       "    </tr>\n",
       "    <tr>\n",
       "      <th>RandomForestClassifier0</th>\n",
       "      <td>0.792913</td>\n",
       "      <td>0.688494</td>\n",
       "      <td>0.682556</td>\n",
       "      <td>0.683610</td>\n",
       "      <td>0.630111</td>\n",
       "    </tr>\n",
       "    <tr>\n",
       "      <th>RandomForestClassifier1</th>\n",
       "      <td>0.793701</td>\n",
       "      <td>0.678580</td>\n",
       "      <td>0.673706</td>\n",
       "      <td>0.674620</td>\n",
       "      <td>0.630929</td>\n",
       "    </tr>\n",
       "    <tr>\n",
       "      <th>RandomForestClassifier2</th>\n",
       "      <td>0.794488</td>\n",
       "      <td>0.676799</td>\n",
       "      <td>0.668267</td>\n",
       "      <td>0.670546</td>\n",
       "      <td>0.631677</td>\n",
       "    </tr>\n",
       "    <tr>\n",
       "      <th>RandomForestClassifier3</th>\n",
       "      <td>0.795276</td>\n",
       "      <td>0.678956</td>\n",
       "      <td>0.672168</td>\n",
       "      <td>0.673398</td>\n",
       "      <td>0.634076</td>\n",
       "    </tr>\n",
       "    <tr>\n",
       "      <th>RandomForestClassifier4</th>\n",
       "      <td>0.795276</td>\n",
       "      <td>0.678956</td>\n",
       "      <td>0.672168</td>\n",
       "      <td>0.673398</td>\n",
       "      <td>0.634076</td>\n",
       "    </tr>\n",
       "    <tr>\n",
       "      <th>RandomForestClassifier5</th>\n",
       "      <td>0.779528</td>\n",
       "      <td>0.657932</td>\n",
       "      <td>0.665956</td>\n",
       "      <td>0.660670</td>\n",
       "      <td>0.608827</td>\n",
       "    </tr>\n",
       "    <tr>\n",
       "      <th>RandomForestClassifier6</th>\n",
       "      <td>0.795276</td>\n",
       "      <td>0.678956</td>\n",
       "      <td>0.672168</td>\n",
       "      <td>0.673398</td>\n",
       "      <td>0.634076</td>\n",
       "    </tr>\n",
       "    <tr>\n",
       "      <th>RandomForestClassifier7</th>\n",
       "      <td>0.790551</td>\n",
       "      <td>0.675961</td>\n",
       "      <td>0.656823</td>\n",
       "      <td>0.662379</td>\n",
       "      <td>0.623080</td>\n",
       "    </tr>\n",
       "    <tr>\n",
       "      <th>RandomForestClassifier8</th>\n",
       "      <td>0.666142</td>\n",
       "      <td>0.582032</td>\n",
       "      <td>0.611378</td>\n",
       "      <td>0.567466</td>\n",
       "      <td>0.450073</td>\n",
       "    </tr>\n",
       "    <tr>\n",
       "      <th>XGBClassifier9</th>\n",
       "      <td>0.829134</td>\n",
       "      <td>0.714719</td>\n",
       "      <td>0.697785</td>\n",
       "      <td>0.704248</td>\n",
       "      <td>0.691411</td>\n",
       "    </tr>\n",
       "    <tr>\n",
       "      <th>XGBClassifier10</th>\n",
       "      <td>0.829134</td>\n",
       "      <td>0.710821</td>\n",
       "      <td>0.694375</td>\n",
       "      <td>0.700764</td>\n",
       "      <td>0.691099</td>\n",
       "    </tr>\n",
       "    <tr>\n",
       "      <th>XGBClassifier11</th>\n",
       "      <td>0.830709</td>\n",
       "      <td>0.712007</td>\n",
       "      <td>0.695891</td>\n",
       "      <td>0.702015</td>\n",
       "      <td>0.694193</td>\n",
       "    </tr>\n",
       "    <tr>\n",
       "      <th>XGBClassifier12</th>\n",
       "      <td>0.780315</td>\n",
       "      <td>0.649450</td>\n",
       "      <td>0.673124</td>\n",
       "      <td>0.657183</td>\n",
       "      <td>0.615669</td>\n",
       "    </tr>\n",
       "    <tr>\n",
       "      <th>XGBClassifier13</th>\n",
       "      <td>0.825197</td>\n",
       "      <td>0.704374</td>\n",
       "      <td>0.699125</td>\n",
       "      <td>0.701418</td>\n",
       "      <td>0.685295</td>\n",
       "    </tr>\n",
       "    <tr>\n",
       "      <th>XGBClassifier14</th>\n",
       "      <td>0.825197</td>\n",
       "      <td>0.703583</td>\n",
       "      <td>0.697493</td>\n",
       "      <td>0.699804</td>\n",
       "      <td>0.685770</td>\n",
       "    </tr>\n",
       "    <tr>\n",
       "      <th>XGBClassifier15</th>\n",
       "      <td>0.820472</td>\n",
       "      <td>0.696697</td>\n",
       "      <td>0.687545</td>\n",
       "      <td>0.691272</td>\n",
       "      <td>0.676320</td>\n",
       "    </tr>\n",
       "    <tr>\n",
       "      <th>XGBClassifier16</th>\n",
       "      <td>0.829921</td>\n",
       "      <td>0.722188</td>\n",
       "      <td>0.715182</td>\n",
       "      <td>0.718099</td>\n",
       "      <td>0.694155</td>\n",
       "    </tr>\n",
       "    <tr>\n",
       "      <th>XGBClassifier17</th>\n",
       "      <td>0.829921</td>\n",
       "      <td>0.723445</td>\n",
       "      <td>0.720757</td>\n",
       "      <td>0.721830</td>\n",
       "      <td>0.694582</td>\n",
       "    </tr>\n",
       "    <tr>\n",
       "      <th>XGBClassifier18</th>\n",
       "      <td>0.830709</td>\n",
       "      <td>0.718592</td>\n",
       "      <td>0.703811</td>\n",
       "      <td>0.709878</td>\n",
       "      <td>0.694238</td>\n",
       "    </tr>\n",
       "    <tr>\n",
       "      <th>XGBClassifier19</th>\n",
       "      <td>0.833071</td>\n",
       "      <td>0.721821</td>\n",
       "      <td>0.705819</td>\n",
       "      <td>0.712270</td>\n",
       "      <td>0.698490</td>\n",
       "    </tr>\n",
       "  </tbody>\n",
       "</table>\n",
       "</div>"
      ]
     },
     "execution_count": 18,
     "metadata": {},
     "output_type": "execute_result"
    }
   ],
   "execution_count": 18
  },
  {
   "metadata": {},
   "cell_type": "code",
   "outputs": [],
   "execution_count": null,
   "source": "",
   "id": "ea1e450812eb249b"
  }
 ],
 "metadata": {
  "kernelspec": {
   "display_name": "Python 3",
   "language": "python",
   "name": "python3"
  },
  "language_info": {
   "codemirror_mode": {
    "name": "ipython",
    "version": 2
   },
   "file_extension": ".py",
   "mimetype": "text/x-python",
   "name": "python",
   "nbconvert_exporter": "python",
   "pygments_lexer": "ipython2",
   "version": "2.7.6"
  }
 },
 "nbformat": 4,
 "nbformat_minor": 5
}

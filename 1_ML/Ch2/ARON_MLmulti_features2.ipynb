{
 "cells": [
  {
   "cell_type": "code",
   "id": "initial_id",
   "metadata": {
    "collapsed": true,
    "ExecuteTime": {
     "end_time": "2024-11-02T15:04:43.186245Z",
     "start_time": "2024-11-02T15:04:38.621819Z"
    }
   },
   "source": [
    "import numpy as np\n",
    "from sklearn.metrics import confusion_matrix, recall_score, cohen_kappa_score\n",
    "\n",
    "from utils.loader import FactoryLoader\n",
    "from utils.ml import MLPipeline\n",
    "from utils.preprocessing import PreprocessingFactory\n",
    "from utils.feature_extraction import *\n",
    "from utils.utils import *\n",
    "\n",
    "VAL_PATH = r\"C:\\Users\\gimes\\Src\\repos\\CADx-Project\\dataset\\multiclass\\val\"\n",
    "TRAIN_PATH = r\"C:\\Users\\gimes\\Src\\repos\\CADx-Project\\dataset\\multiclass\\train\""
   ],
   "outputs": [],
   "execution_count": 1
  },
  {
   "metadata": {
    "ExecuteTime": {
     "end_time": "2024-11-02T15:04:43.221435Z",
     "start_time": "2024-11-02T15:04:43.186245Z"
    }
   },
   "cell_type": "code",
   "source": [
    "percent = 100\n",
    "random = False\n",
    "batch_size = 48\n",
    "\n",
    "# Initialize the FactoryLoader\n",
    "factory = PreprocessingFactory()\n",
    "factory.gaussian_smoothing(5)\n",
    "factory.clahe(clip_limit=1.5)\n",
    "factory.pad2square(fill=np.nan)\n",
    "factory.resize((150,150))\n",
    "factory.hair_removal()\n",
    "factory.normalize2float()\n",
    "\n",
    "factory_loader = FactoryLoader(path=VAL_PATH, batch_size=batch_size, factory=factory, percentage=percent, shuffle=random)\n",
    "\n",
    "# Create the feature extraction pipeline strategy and add desired features\n",
    "strategy = FeatureExtractionStrategy()\n",
    "\n",
    "strategy.add_extractor(GradientExtractor())   # Add variance feature\n",
    "\n",
    "# strategy.add_extractor(MeanExtractor())  # Add mean feature\n",
    "# strategy.add_extractor(StdExtractor())   # Add standard deviation feature\n",
    "strategy.add_extractor(VarExtractor())   # Add variance feature\n",
    "strategy.add_extractor(ColorMomentsExtractor())   # Add color moments feature\n",
    "\n",
    "\n",
    "# strategy.add_extractor(MeanExtractor(\"lab\"))  # Add mean feature\n",
    "# strategy.add_extractor(StdExtractor(\"lab\"))   # Add standard deviation feature\n",
    "strategy.add_extractor(VarExtractor(\"lab\"))   # Add variance feature\n",
    "strategy.add_extractor(ColorMomentsExtractor(\"lab\"))   # Add color moments feature\n",
    "\n",
    "# strategy.add_extractor(MeanExtractor(\"hsv\"))  # Add mean feature\n",
    "# strategy.add_extractor(StdExtractor(\"hsv\"))   # Add standard deviation feature\n",
    "strategy.add_extractor(VarExtractor(\"hsv\"))   # Add variance feature\n",
    "strategy.add_extractor(ColorMomentsExtractor(\"hsv\"))   # Add color moments feature\n",
    "\n",
    "strategy.add_extractor(LBPExtractor(radius=1, n_points=32))\n",
    "strategy.add_extractor(LBPExtractor(radius=2, n_points=32))\n",
    "strategy.add_extractor(LBPExtractor(radius=3, n_points=32))\n",
    "strategy.add_extractor(LBPExtractor(radius=1, n_points=64))\n",
    "strategy.add_extractor(LBPExtractor(radius=2, n_points=64))\n",
    "strategy.add_extractor(LBPExtractor(radius=3, n_points=64))\n",
    "\n",
    "strategy.add_extractor(GLCMExtractor(properties=['contrast', 'dissimilarity', 'homogeneity', 'energy', 'correlation',]))\n",
    "\n",
    "pipeline = MLPipeline(dataset_path=TRAIN_PATH, preprocessing_factory=factory, feature_strategy=strategy, classifiers=[], percentage=percent, verbose=True, shuffle=random, batch_size=batch_size)"
   ],
   "id": "d7c81ba220d9e517",
   "outputs": [
    {
     "name": "stderr",
     "output_type": "stream",
     "text": [
      "INFO:utils.ml:MLPipeline initialized with dataset path: C:\\Users\\gimes\\Src\\repos\\CADx-Project\\dataset\\multiclass\\train\n",
      "INFO:utils.ml:Preprocessing steps\n"
     ]
    }
   ],
   "execution_count": 2
  },
  {
   "metadata": {
    "ExecuteTime": {
     "end_time": "2024-11-02T15:15:47.103881Z",
     "start_time": "2024-11-02T15:04:43.281251Z"
    }
   },
   "cell_type": "code",
   "source": [
    "pipeline.feature_matrix = None\n",
    "pipeline.run_feature_extraction()"
   ],
   "id": "21f510c52296a049",
   "outputs": [
    {
     "name": "stderr",
     "output_type": "stream",
     "text": [
      "INFO:utils.ml:Running feature extraction...\n"
     ]
    },
    {
     "name": "stdout",
     "output_type": "stream",
     "text": [
      "Processed 5/106 batches.\n",
      "Processed 10/106 batches.\n",
      "Processed 15/106 batches.\n",
      "Processed 20/106 batches.\n",
      "Processed 25/106 batches.\n",
      "Processed 30/106 batches.\n",
      "Processed 35/106 batches.\n",
      "Processed 40/106 batches.\n",
      "Processed 45/106 batches.\n",
      "Processed 50/106 batches.\n",
      "Processed 55/106 batches.\n",
      "Processed 60/106 batches.\n",
      "Processed 65/106 batches.\n",
      "Processed 70/106 batches.\n",
      "Processed 75/106 batches.\n",
      "Processed 80/106 batches.\n",
      "Processed 85/106 batches.\n",
      "Processed 90/106 batches.\n",
      "Processed 95/106 batches.\n",
      "Processed 100/106 batches.\n",
      "Processed 105/106 batches.\n"
     ]
    },
    {
     "name": "stderr",
     "output_type": "stream",
     "text": [
      "INFO:utils.ml:Feature extraction completed. Extracted 5082 features.\n"
     ]
    },
    {
     "name": "stdout",
     "output_type": "stream",
     "text": [
      "Processed 106/106 batches.\n"
     ]
    }
   ],
   "execution_count": 3
  },
  {
   "metadata": {
    "ExecuteTime": {
     "end_time": "2024-11-02T16:02:40.430032Z",
     "start_time": "2024-11-02T16:02:40.359741Z"
    }
   },
   "cell_type": "code",
   "source": [
    "from xgboost import XGBClassifier\n",
    "from sklearn.ensemble import RandomForestClassifier\n",
    "\n",
    "rf1 = RandomForestClassifier(n_estimators=100)\n",
    "rf2 = RandomForestClassifier(n_estimators=150)\n",
    "# Random Forest with Out-of-Bag Error (OOB)\n",
    "rf3 = RandomForestClassifier(n_estimators=100, oob_score=True, random_state=42)\n",
    "# Random Forest with Bootstrap Disabled\n",
    "rf4 = RandomForestClassifier(n_estimators=100, bootstrap=False, random_state=42)\n",
    "# Random Forest with Out-of-Bag Error (OOB)\n",
    "rf5 = RandomForestClassifier(n_estimators=150, oob_score=True, random_state=42)\n",
    "# Random Forest with Bootstrap Disabled\n",
    "rf6 = RandomForestClassifier(n_estimators=150, bootstrap=False, random_state=42)\n",
    "# Random Forest with Out-of-Bag Error (OOB)\n",
    "rf7 = RandomForestClassifier(n_estimators=200, oob_score=True, random_state=42)\n",
    "# Random Forest with Bootstrap Disabled\n",
    "rf8 = RandomForestClassifier(n_estimators=200, bootstrap=False, random_state=42)\n",
    "\n",
    "\n",
    "xgb1 = XGBClassifier(n_estimators=350)\n",
    "xgb2 = XGBClassifier(n_estimators=450)\n",
    "xgb3 = XGBClassifier(n_estimators=550)\n",
    "xgb4 = XGBClassifier(learning_rate=0.05, n_estimators=400, max_depth=3, min_child_weight=4, subsample=0.8, colsample_bytree=0.8)\n",
    "xgb5 = XGBClassifier(learning_rate=0.1, n_estimators=400, max_depth=7, min_child_weight=3, subsample=0.7, colsample_bytree=0.7) # 2ND\n",
    "xgb6 = XGBClassifier(learning_rate=0.1, n_estimators=400, max_depth=5, min_child_weight=5, gamma=0.2, subsample=0.8, colsample_bytree=0.8) # THIS\n",
    "xgb7 = XGBClassifier(learning_rate=0.1, n_estimators=400, max_depth=5, min_child_weight=1, subsample=0.8, colsample_bytree=0.8, reg_alpha=0.1, reg_lambda=0.1)\n",
    "xgb8 = XGBClassifier(learning_rate=0.05, n_estimators=500, max_depth=7, min_child_weight=1, subsample=0.8, colsample_bytree=0.8)\n",
    "xgb9 = XGBClassifier(learning_rate=0.05, n_estimators=400, max_depth=7, min_child_weight=1, subsample=0.8, colsample_bytree=0.8)\n",
    "xgb10 = XGBClassifier(learning_rate=0.1, n_estimators=400, max_depth=7, min_child_weight=1, subsample=0.8, colsample_bytree=0.8)\n",
    "xgb11 = XGBClassifier(learning_rate=0.1, n_estimators=500, max_depth=7, min_child_weight=1, subsample=0.8, colsample_bytree=0.8)\n",
    "\n",
    "\n",
    "pipeline.classifiers = [rf1, rf2, rf3, rf4, rf5, rf6, rf7, rf8,\n",
    "                        # svm1, svm2, svm3, svm6, svm7, svm8,\n",
    "                        xgb1, xgb2, xgb3, xgb4, xgb5, xgb6, xgb7, xgb8, xgb9, xgb10, xgb11]\n",
    "pipeline.fitted_classifiers = {}"
   ],
   "id": "74470ba20848a156",
   "outputs": [],
   "execution_count": 21
  },
  {
   "metadata": {
    "ExecuteTime": {
     "end_time": "2024-11-02T16:09:34.191328Z",
     "start_time": "2024-11-02T16:02:40.981199Z"
    }
   },
   "cell_type": "code",
   "source": "pipeline.fit_classifiers()",
   "id": "5269ac4d3392fbae",
   "outputs": [
    {
     "name": "stderr",
     "output_type": "stream",
     "text": [
      "INFO:utils.ml:Fitting classifiers...\n",
      "INFO:utils.ml:Fitting classifier: RandomForestClassifier0\n",
      "INFO:utils.ml:Fitted classifier: RandomForestClassifier0; Done in 10.390198945999146 seconds\n",
      "INFO:utils.ml:Fitting classifier: RandomForestClassifier1\n"
     ]
    },
    {
     "name": "stdout",
     "output_type": "stream",
     "text": [
      "list index out of range\n"
     ]
    },
    {
     "name": "stderr",
     "output_type": "stream",
     "text": [
      "INFO:utils.ml:Fitted classifier: RandomForestClassifier1; Done in 27.617349863052368 seconds\n",
      "INFO:utils.ml:Fitting classifier: RandomForestClassifier2\n"
     ]
    },
    {
     "name": "stdout",
     "output_type": "stream",
     "text": [
      "list index out of range\n"
     ]
    },
    {
     "name": "stderr",
     "output_type": "stream",
     "text": [
      "INFO:utils.ml:Fitted classifier: RandomForestClassifier2; Done in 30.24943518638611 seconds\n",
      "INFO:utils.ml:Fitting classifier: RandomForestClassifier3\n"
     ]
    },
    {
     "name": "stdout",
     "output_type": "stream",
     "text": [
      "list index out of range\n"
     ]
    },
    {
     "name": "stderr",
     "output_type": "stream",
     "text": [
      "INFO:utils.ml:Fitted classifier: RandomForestClassifier3; Done in 43.9967999458313 seconds\n",
      "INFO:utils.ml:Fitting classifier: RandomForestClassifier4\n"
     ]
    },
    {
     "name": "stdout",
     "output_type": "stream",
     "text": [
      "list index out of range\n"
     ]
    },
    {
     "name": "stderr",
     "output_type": "stream",
     "text": [
      "INFO:utils.ml:Fitted classifier: RandomForestClassifier4; Done in 25.629243850708008 seconds\n",
      "INFO:utils.ml:Fitting classifier: RandomForestClassifier5\n"
     ]
    },
    {
     "name": "stdout",
     "output_type": "stream",
     "text": [
      "list index out of range\n"
     ]
    },
    {
     "name": "stderr",
     "output_type": "stream",
     "text": [
      "INFO:utils.ml:Fitted classifier: RandomForestClassifier5; Done in 23.045916318893433 seconds\n",
      "INFO:utils.ml:Fitting classifier: RandomForestClassifier6\n"
     ]
    },
    {
     "name": "stdout",
     "output_type": "stream",
     "text": [
      "list index out of range\n"
     ]
    },
    {
     "name": "stderr",
     "output_type": "stream",
     "text": [
      "INFO:utils.ml:Fitted classifier: RandomForestClassifier6; Done in 21.709500312805176 seconds\n",
      "INFO:utils.ml:Fitting classifier: RandomForestClassifier7\n"
     ]
    },
    {
     "name": "stdout",
     "output_type": "stream",
     "text": [
      "list index out of range\n"
     ]
    },
    {
     "name": "stderr",
     "output_type": "stream",
     "text": [
      "INFO:utils.ml:Fitted classifier: RandomForestClassifier7; Done in 29.68074083328247 seconds\n",
      "INFO:utils.ml:Fitting classifier: XGBClassifier8\n"
     ]
    },
    {
     "name": "stdout",
     "output_type": "stream",
     "text": [
      "list index out of range\n"
     ]
    },
    {
     "name": "stderr",
     "output_type": "stream",
     "text": [
      "INFO:utils.ml:Fitted classifier: XGBClassifier8; Done in 29.95575761795044 seconds\n",
      "INFO:utils.ml:Fitting classifier: XGBClassifier9\n"
     ]
    },
    {
     "name": "stdout",
     "output_type": "stream",
     "text": [
      "list index out of range\n"
     ]
    },
    {
     "name": "stderr",
     "output_type": "stream",
     "text": [
      "INFO:utils.ml:Fitted classifier: XGBClassifier9; Done in 15.264234781265259 seconds\n",
      "INFO:utils.ml:Fitting classifier: XGBClassifier10\n"
     ]
    },
    {
     "name": "stdout",
     "output_type": "stream",
     "text": [
      "list index out of range\n"
     ]
    },
    {
     "name": "stderr",
     "output_type": "stream",
     "text": [
      "INFO:utils.ml:Fitted classifier: XGBClassifier10; Done in 17.42990732192993 seconds\n",
      "INFO:utils.ml:Fitting classifier: XGBClassifier11\n"
     ]
    },
    {
     "name": "stdout",
     "output_type": "stream",
     "text": [
      "list index out of range\n"
     ]
    },
    {
     "name": "stderr",
     "output_type": "stream",
     "text": [
      "INFO:utils.ml:Top 10 features for XGBClassifier11: [('color_moments_hsv_channel_0_mean', 0.017054819), ('lbp_rad2_bins64_29', 0.013586495), ('lbp_rad2_bins32_16', 0.011955246), ('lbp_rad2_bins32_15', 0.011581601), ('lbp_rad1_bins32_22', 0.010779704), ('lbp_rad1_bins64_63', 0.010063744), ('color_moments_lab_channel_0_skew', 0.0099976985), ('color_moments_lab_channel_1_std', 0.009294928), ('lbp_rad2_bins64_41', 0.009251839), ('lbp_rad1_bins64_26', 0.008946392)]\n",
      "INFO:utils.ml:Fitted classifier: XGBClassifier11; Done in 6.199901819229126 seconds\n",
      "INFO:utils.ml:Fitting classifier: XGBClassifier12\n",
      "INFO:utils.ml:Top 10 features for XGBClassifier12: [('color_moments_hsv_channel_0_mean', 0.016213028), ('lbp_rad1_bins64_63', 0.010902622), ('var_lab_channel_0', 0.00989256), ('lbp_rad1_bins64_26', 0.009672324), ('lbp_rad2_bins32_15', 0.009448707), ('lbp_rad2_bins32_0', 0.008388236), ('lbp_rad1_bins64_31', 0.007700602), ('color_moments_lab_channel_0_skew', 0.0074120266), ('color_moments_lab_channel_1_std', 0.0072498415), ('color_moments_hsv_channel_2_mean', 0.007232819)]\n",
      "INFO:utils.ml:Fitted classifier: XGBClassifier12; Done in 16.476815938949585 seconds\n",
      "INFO:utils.ml:Fitting classifier: XGBClassifier13\n",
      "INFO:utils.ml:Top 10 features for XGBClassifier13: [('color_moments_hsv_channel_0_mean', 0.01686044), ('lbp_rad1_bins64_26', 0.011276173), ('lbp_rad1_bins64_63', 0.010820516), ('var_lab_channel_0', 0.010245308), ('lbp_rad2_bins32_0', 0.009734508), ('color_moments_lab_channel_0_skew', 0.008960459), ('lbp_rad1_bins64_31', 0.008633944), ('color_moments_lab_channel_1_skew', 0.008404431), ('lbp_rad2_bins64_29', 0.008285806), ('lbp_rad2_bins64_21', 0.0075196237)]\n",
      "INFO:utils.ml:Fitted classifier: XGBClassifier13; Done in 10.885290622711182 seconds\n",
      "INFO:utils.ml:Fitting classifier: XGBClassifier14\n",
      "INFO:utils.ml:Top 10 features for XGBClassifier14: [('color_moments_hsv_channel_0_mean', 0.017210964), ('lbp_rad2_bins32_0', 0.011525427), ('lbp_rad1_bins64_63', 0.011181777), ('var_lab_channel_0', 0.0106809), ('lbp_rad1_bins64_26', 0.01042471), ('lbp_rad2_bins32_15', 0.009298219), ('color_moments_lab_channel_1_std', 0.008183071), ('lbp_rad2_bins64_21', 0.008022419), ('lbp_rad1_bins64_31', 0.00798695), ('color_moments_lab_channel_0_skew', 0.007932411)]\n",
      "INFO:utils.ml:Fitted classifier: XGBClassifier14; Done in 11.960015058517456 seconds\n",
      "INFO:utils.ml:Fitting classifier: XGBClassifier15\n",
      "INFO:utils.ml:Top 10 features for XGBClassifier15: [('color_moments_hsv_channel_0_mean', 0.017568074), ('var_lab_channel_0', 0.01080091), ('lbp_rad1_bins64_63', 0.010236648), ('lbp_rad2_bins32_0', 0.009984274), ('lbp_rad1_bins64_26', 0.009735717), ('lbp_rad2_bins32_15', 0.009567352), ('color_moments_lab_channel_0_skew', 0.008370639), ('lbp_rad1_bins64_31', 0.008186102), ('color_moments_hsv_channel_2_mean', 0.007509481), ('color_moments_lab_channel_1_skew', 0.0074120304)]\n",
      "INFO:utils.ml:Fitted classifier: XGBClassifier15; Done in 28.239070892333984 seconds\n",
      "INFO:utils.ml:Fitting classifier: XGBClassifier16\n",
      "INFO:utils.ml:Top 10 features for XGBClassifier16: [('color_moments_hsv_channel_0_mean', 0.017659847), ('var_lab_channel_0', 0.010597351), ('lbp_rad1_bins64_63', 0.009857501), ('lbp_rad2_bins32_0', 0.009699014), ('lbp_rad1_bins64_26', 0.009332919), ('lbp_rad2_bins32_15', 0.009270976), ('lbp_rad1_bins64_31', 0.008351348), ('color_moments_lab_channel_0_skew', 0.008340273), ('color_moments_hsv_channel_2_mean', 0.007306149), ('color_moments_lab_channel_1_skew', 0.0071382653)]\n",
      "INFO:utils.ml:Fitted classifier: XGBClassifier16; Done in 22.49376368522644 seconds\n",
      "INFO:utils.ml:Fitting classifier: XGBClassifier17\n",
      "INFO:utils.ml:Top 10 features for XGBClassifier17: [('color_moments_hsv_channel_0_mean', 0.016788399), ('lbp_rad1_bins64_63', 0.012853589), ('var_lab_channel_0', 0.011318937), ('color_moments_lab_channel_1_skew', 0.01041546), ('lbp_rad2_bins32_15', 0.009475704), ('lbp_rad2_bins32_0', 0.009423409), ('lbp_rad1_bins64_26', 0.00939483), ('lbp_rad1_bins64_31', 0.00859511), ('color_moments_lab_channel_0_skew', 0.00809423), ('lbp_rad1_bins64_58', 0.008077719)]\n",
      "INFO:utils.ml:Fitted classifier: XGBClassifier17; Done in 19.453941345214844 seconds\n",
      "INFO:utils.ml:Fitting classifier: XGBClassifier18\n",
      "INFO:utils.ml:Top 10 features for XGBClassifier18: [('color_moments_hsv_channel_0_mean', 0.01654614), ('lbp_rad1_bins64_63', 0.013034057), ('var_lab_channel_0', 0.011498156), ('color_moments_lab_channel_1_skew', 0.010248735), ('lbp_rad1_bins64_26', 0.009704203), ('lbp_rad2_bins32_0', 0.009447761), ('lbp_rad2_bins32_15', 0.00929941), ('lbp_rad1_bins64_31', 0.008664334), ('color_moments_lab_channel_0_skew', 0.008162882), ('color_moments_lab_channel_1_std', 0.0077551166)]\n",
      "INFO:utils.ml:Fitted classifier: XGBClassifier18; Done in 22.506815671920776 seconds\n",
      "INFO:utils.ml:Fitting completed in 413.19 seconds.\n"
     ]
    }
   ],
   "execution_count": 22
  },
  {
   "metadata": {
    "ExecuteTime": {
     "end_time": "2024-11-02T16:13:51.825001Z",
     "start_time": "2024-11-02T16:09:34.191328Z"
    }
   },
   "cell_type": "code",
   "source": "pipeline.predict_with_classifiers(VAL_PATH)",
   "id": "f71e18a07f5ee7bb",
   "outputs": [
    {
     "name": "stderr",
     "output_type": "stream",
     "text": [
      "INFO:utils.ml:Predicting with classifiers on dataset: C:\\Users\\gimes\\Src\\repos\\CADx-Project\\dataset\\multiclass\\val\n"
     ]
    },
    {
     "name": "stdout",
     "output_type": "stream",
     "text": [
      "Processed 5/27 batches.\n",
      "Processed 10/27 batches.\n",
      "Processed 15/27 batches.\n",
      "Processed 20/27 batches.\n",
      "Processed 25/27 batches.\n"
     ]
    },
    {
     "name": "stderr",
     "output_type": "stream",
     "text": [
      "INFO:utils.ml:Predictions made with classifier: RandomForestClassifier0\n",
      "INFO:utils.ml:Predictions made with classifier: RandomForestClassifier1\n",
      "INFO:utils.ml:Predictions made with classifier: RandomForestClassifier2\n",
      "INFO:utils.ml:Predictions made with classifier: RandomForestClassifier3\n",
      "INFO:utils.ml:Predictions made with classifier: RandomForestClassifier4\n",
      "INFO:utils.ml:Predictions made with classifier: RandomForestClassifier5\n"
     ]
    },
    {
     "name": "stdout",
     "output_type": "stream",
     "text": [
      "Processed 27/27 batches.\n"
     ]
    },
    {
     "name": "stderr",
     "output_type": "stream",
     "text": [
      "INFO:utils.ml:Predictions made with classifier: RandomForestClassifier6\n",
      "INFO:utils.ml:Predictions made with classifier: RandomForestClassifier7\n",
      "INFO:utils.ml:Predictions made with classifier: XGBClassifier8\n",
      "INFO:utils.ml:Predictions made with classifier: XGBClassifier9\n",
      "INFO:utils.ml:Predictions made with classifier: XGBClassifier10\n",
      "INFO:utils.ml:Predictions made with classifier: XGBClassifier11\n",
      "INFO:utils.ml:Predictions made with classifier: XGBClassifier12\n",
      "INFO:utils.ml:Predictions made with classifier: XGBClassifier13\n",
      "INFO:utils.ml:Predictions made with classifier: XGBClassifier14\n",
      "INFO:utils.ml:Predictions made with classifier: XGBClassifier15\n",
      "INFO:utils.ml:Predictions made with classifier: XGBClassifier16\n",
      "INFO:utils.ml:Predictions made with classifier: XGBClassifier17\n",
      "INFO:utils.ml:Predictions made with classifier: XGBClassifier18\n"
     ]
    },
    {
     "data": {
      "text/plain": [
       "{'GT': array([0, 0, 0, ..., 2, 2, 2]),\n",
       " 'RandomForestClassifier0': array([0, 0, 2, ..., 1, 0, 0]),\n",
       " 'RandomForestClassifier1': array([0, 0, 2, ..., 1, 0, 0]),\n",
       " 'RandomForestClassifier2': array([0, 0, 2, ..., 1, 0, 0]),\n",
       " 'RandomForestClassifier3': array([0, 0, 2, ..., 1, 0, 0]),\n",
       " 'RandomForestClassifier4': array([0, 0, 2, ..., 1, 0, 0]),\n",
       " 'RandomForestClassifier5': array([0, 0, 2, ..., 1, 0, 0]),\n",
       " 'RandomForestClassifier6': array([0, 0, 2, ..., 1, 0, 0]),\n",
       " 'RandomForestClassifier7': array([0, 0, 2, ..., 1, 0, 0]),\n",
       " 'XGBClassifier8': array([2, 0, 2, ..., 1, 0, 0], dtype=int64),\n",
       " 'XGBClassifier9': array([2, 0, 2, ..., 1, 0, 0], dtype=int64),\n",
       " 'XGBClassifier10': array([2, 0, 2, ..., 1, 0, 0], dtype=int64),\n",
       " 'XGBClassifier11': array([2, 0, 2, ..., 1, 0, 0], dtype=int64),\n",
       " 'XGBClassifier12': array([2, 0, 2, ..., 1, 2, 0], dtype=int64),\n",
       " 'XGBClassifier13': array([2, 0, 2, ..., 1, 2, 0], dtype=int64),\n",
       " 'XGBClassifier14': array([2, 0, 2, ..., 1, 2, 0], dtype=int64),\n",
       " 'XGBClassifier15': array([2, 0, 2, ..., 1, 0, 0], dtype=int64),\n",
       " 'XGBClassifier16': array([2, 0, 2, ..., 1, 0, 0], dtype=int64),\n",
       " 'XGBClassifier17': array([2, 0, 2, ..., 1, 0, 0], dtype=int64),\n",
       " 'XGBClassifier18': array([2, 0, 2, ..., 1, 0, 0], dtype=int64)}"
      ]
     },
     "execution_count": 23,
     "metadata": {},
     "output_type": "execute_result"
    }
   ],
   "execution_count": 23
  },
  {
   "metadata": {
    "ExecuteTime": {
     "end_time": "2024-11-02T16:13:51.963578Z",
     "start_time": "2024-11-02T16:13:51.851150Z"
    }
   },
   "cell_type": "code",
   "source": [
    "import pandas as pd\n",
    "\n",
    "df = pd.DataFrame(data=pipeline.calculate_metrics())\n",
    "df = df.T\n",
    "df"
   ],
   "id": "751fad2660242db5",
   "outputs": [
    {
     "name": "stderr",
     "output_type": "stream",
     "text": [
      "INFO:utils.ml:Metrics for classifier GT: {'accuracy': 1.0, 'precision': 1.0, 'recall': 1.0, 'f1': 1.0, 'kappa': 1.0}\n",
      "INFO:utils.ml:Metrics for classifier RandomForestClassifier0: {'accuracy': 0.7968503937007874, 'precision': 0.6753896293217174, 'recall': 0.6753173492312311, 'f1': 0.6742957811080837, 'kappa': 0.6372312393436816}\n",
      "INFO:utils.ml:Metrics for classifier RandomForestClassifier1: {'accuracy': 0.7874015748031497, 'precision': 0.6690320976131559, 'recall': 0.6688845383416551, 'f1': 0.6674821144913423, 'kappa': 0.6211133455614242}\n",
      "INFO:utils.ml:Metrics for classifier RandomForestClassifier2: {'accuracy': 0.794488188976378, 'precision': 0.6743255744321446, 'recall': 0.6729539131861659, 'f1': 0.6728574055441944, 'kappa': 0.6321887802431436}\n",
      "INFO:utils.ml:Metrics for classifier RandomForestClassifier3: {'accuracy': 0.7976377952755905, 'precision': 0.6774553571428572, 'recall': 0.6578376519950384, 'f1': 0.6640093613789434, 'kappa': 0.6347143880383204}\n",
      "INFO:utils.ml:Metrics for classifier RandomForestClassifier4: {'accuracy': 0.7905511811023622, 'precision': 0.6697519737465574, 'recall': 0.6762492132592378, 'f1': 0.6721993401529623, 'kappa': 0.627168102135324}\n",
      "INFO:utils.ml:Metrics for classifier RandomForestClassifier5: {'accuracy': 0.7976377952755905, 'precision': 0.6762033735516572, 'recall': 0.6549608967470962, 'f1': 0.661400697660383, 'kappa': 0.6344574707803408}\n",
      "INFO:utils.ml:Metrics for classifier RandomForestClassifier6: {'accuracy': 0.7850393700787401, 'precision': 0.6638545222629609, 'recall': 0.6659879964217631, 'f1': 0.664182399096107, 'kappa': 0.6162725835941616}\n",
      "INFO:utils.ml:Metrics for classifier RandomForestClassifier7: {'accuracy': 0.8023622047244094, 'precision': 0.6841587369720362, 'recall': 0.6582661531710222, 'f1': 0.6661850038042731, 'kappa': 0.6421450863288354}\n",
      "INFO:utils.ml:Metrics for classifier XGBClassifier8: {'accuracy': 0.8299212598425196, 'precision': 0.7059846348420585, 'recall': 0.6975656344073338, 'f1': 0.701043344339983, 'kappa': 0.6934328104674501}\n",
      "INFO:utils.ml:Metrics for classifier XGBClassifier9: {'accuracy': 0.8291338582677166, 'precision': 0.7027932328259231, 'recall': 0.6873775148292914, 'f1': 0.6934850309923375, 'kappa': 0.6906625180715318}\n",
      "INFO:utils.ml:Metrics for classifier XGBClassifier10: {'accuracy': 0.8259842519685039, 'precision': 0.6992581602923774, 'recall': 0.684877840616215, 'f1': 0.6906870306428362, 'kappa': 0.6849760030888448}\n",
      "INFO:utils.ml:Metrics for classifier XGBClassifier11: {'accuracy': 0.7771653543307087, 'precision': 0.6521047914459501, 'recall': 0.6801426505620801, 'f1': 0.6611362019354973, 'kappa': 0.6109169719486953}\n",
      "INFO:utils.ml:Metrics for classifier XGBClassifier12: {'accuracy': 0.8354330708661417, 'precision': 0.7437161094326767, 'recall': 0.7161017130720837, 'f1': 0.7271585414677966, 'kappa': 0.701600428099902}\n",
      "INFO:utils.ml:Metrics for classifier XGBClassifier13: {'accuracy': 0.8228346456692913, 'precision': 0.7071829652939098, 'recall': 0.6920746438966184, 'f1': 0.6982685234223954, 'kappa': 0.6796136751983424}\n",
      "INFO:utils.ml:Metrics for classifier XGBClassifier14: {'accuracy': 0.8212598425196851, 'precision': 0.7086295119983866, 'recall': 0.6902028499361156, 'f1': 0.6977487291212782, 'kappa': 0.6761456058522732}\n",
      "INFO:utils.ml:Metrics for classifier XGBClassifier15: {'accuracy': 0.8322834645669291, 'precision': 0.7322278168008207, 'recall': 0.719533251313167, 'f1': 0.7252085874313358, 'kappa': 0.6970202680907494}\n",
      "INFO:utils.ml:Metrics for classifier XGBClassifier16: {'accuracy': 0.8299212598425196, 'precision': 0.7213470390286237, 'recall': 0.7150038678532621, 'f1': 0.7178345762004555, 'kappa': 0.6937394775976099}\n",
      "INFO:utils.ml:Metrics for classifier XGBClassifier17: {'accuracy': 0.8338582677165355, 'precision': 0.7307948004688676, 'recall': 0.7057773553260301, 'f1': 0.7158224831151574, 'kappa': 0.6983787166603634}\n",
      "INFO:utils.ml:Metrics for classifier XGBClassifier18: {'accuracy': 0.8322834645669291, 'precision': 0.7250721075546586, 'recall': 0.6988628587027454, 'f1': 0.7090501310104288, 'kappa': 0.6953043689823429}\n"
     ]
    },
    {
     "name": "stdout",
     "output_type": "stream",
     "text": [
      "cannot access local variable 'report' where it is not associated with a value\n",
      "cannot access local variable 'report' where it is not associated with a value\n",
      "cannot access local variable 'report' where it is not associated with a value\n",
      "cannot access local variable 'report' where it is not associated with a value\n",
      "cannot access local variable 'report' where it is not associated with a value\n",
      "cannot access local variable 'report' where it is not associated with a value\n",
      "cannot access local variable 'report' where it is not associated with a value\n",
      "cannot access local variable 'report' where it is not associated with a value\n",
      "cannot access local variable 'report' where it is not associated with a value\n",
      "cannot access local variable 'report' where it is not associated with a value\n",
      "cannot access local variable 'report' where it is not associated with a value\n",
      "cannot access local variable 'report' where it is not associated with a value\n",
      "cannot access local variable 'report' where it is not associated with a value\n",
      "cannot access local variable 'report' where it is not associated with a value\n",
      "cannot access local variable 'report' where it is not associated with a value\n",
      "cannot access local variable 'report' where it is not associated with a value\n",
      "cannot access local variable 'report' where it is not associated with a value\n",
      "cannot access local variable 'report' where it is not associated with a value\n",
      "cannot access local variable 'report' where it is not associated with a value\n",
      "cannot access local variable 'report' where it is not associated with a value\n"
     ]
    },
    {
     "data": {
      "text/plain": [
       "                         accuracy  precision    recall        f1     kappa\n",
       "GT                       1.000000   1.000000  1.000000  1.000000  1.000000\n",
       "RandomForestClassifier0  0.796850   0.675390  0.675317  0.674296  0.637231\n",
       "RandomForestClassifier1  0.787402   0.669032  0.668885  0.667482  0.621113\n",
       "RandomForestClassifier2  0.794488   0.674326  0.672954  0.672857  0.632189\n",
       "RandomForestClassifier3  0.797638   0.677455  0.657838  0.664009  0.634714\n",
       "RandomForestClassifier4  0.790551   0.669752  0.676249  0.672199  0.627168\n",
       "RandomForestClassifier5  0.797638   0.676203  0.654961  0.661401  0.634457\n",
       "RandomForestClassifier6  0.785039   0.663855  0.665988  0.664182  0.616273\n",
       "RandomForestClassifier7  0.802362   0.684159  0.658266  0.666185  0.642145\n",
       "XGBClassifier8           0.829921   0.705985  0.697566  0.701043  0.693433\n",
       "XGBClassifier9           0.829134   0.702793  0.687378  0.693485  0.690663\n",
       "XGBClassifier10          0.825984   0.699258  0.684878  0.690687  0.684976\n",
       "XGBClassifier11          0.777165   0.652105  0.680143  0.661136  0.610917\n",
       "XGBClassifier12          0.835433   0.743716  0.716102  0.727159  0.701600\n",
       "XGBClassifier13          0.822835   0.707183  0.692075  0.698269  0.679614\n",
       "XGBClassifier14          0.821260   0.708630  0.690203  0.697749  0.676146\n",
       "XGBClassifier15          0.832283   0.732228  0.719533  0.725209  0.697020\n",
       "XGBClassifier16          0.829921   0.721347  0.715004  0.717835  0.693739\n",
       "XGBClassifier17          0.833858   0.730795  0.705777  0.715822  0.698379\n",
       "XGBClassifier18          0.832283   0.725072  0.698863  0.709050  0.695304"
      ],
      "text/html": [
       "<div>\n",
       "<style scoped>\n",
       "    .dataframe tbody tr th:only-of-type {\n",
       "        vertical-align: middle;\n",
       "    }\n",
       "\n",
       "    .dataframe tbody tr th {\n",
       "        vertical-align: top;\n",
       "    }\n",
       "\n",
       "    .dataframe thead th {\n",
       "        text-align: right;\n",
       "    }\n",
       "</style>\n",
       "<table border=\"1\" class=\"dataframe\">\n",
       "  <thead>\n",
       "    <tr style=\"text-align: right;\">\n",
       "      <th></th>\n",
       "      <th>accuracy</th>\n",
       "      <th>precision</th>\n",
       "      <th>recall</th>\n",
       "      <th>f1</th>\n",
       "      <th>kappa</th>\n",
       "    </tr>\n",
       "  </thead>\n",
       "  <tbody>\n",
       "    <tr>\n",
       "      <th>GT</th>\n",
       "      <td>1.000000</td>\n",
       "      <td>1.000000</td>\n",
       "      <td>1.000000</td>\n",
       "      <td>1.000000</td>\n",
       "      <td>1.000000</td>\n",
       "    </tr>\n",
       "    <tr>\n",
       "      <th>RandomForestClassifier0</th>\n",
       "      <td>0.796850</td>\n",
       "      <td>0.675390</td>\n",
       "      <td>0.675317</td>\n",
       "      <td>0.674296</td>\n",
       "      <td>0.637231</td>\n",
       "    </tr>\n",
       "    <tr>\n",
       "      <th>RandomForestClassifier1</th>\n",
       "      <td>0.787402</td>\n",
       "      <td>0.669032</td>\n",
       "      <td>0.668885</td>\n",
       "      <td>0.667482</td>\n",
       "      <td>0.621113</td>\n",
       "    </tr>\n",
       "    <tr>\n",
       "      <th>RandomForestClassifier2</th>\n",
       "      <td>0.794488</td>\n",
       "      <td>0.674326</td>\n",
       "      <td>0.672954</td>\n",
       "      <td>0.672857</td>\n",
       "      <td>0.632189</td>\n",
       "    </tr>\n",
       "    <tr>\n",
       "      <th>RandomForestClassifier3</th>\n",
       "      <td>0.797638</td>\n",
       "      <td>0.677455</td>\n",
       "      <td>0.657838</td>\n",
       "      <td>0.664009</td>\n",
       "      <td>0.634714</td>\n",
       "    </tr>\n",
       "    <tr>\n",
       "      <th>RandomForestClassifier4</th>\n",
       "      <td>0.790551</td>\n",
       "      <td>0.669752</td>\n",
       "      <td>0.676249</td>\n",
       "      <td>0.672199</td>\n",
       "      <td>0.627168</td>\n",
       "    </tr>\n",
       "    <tr>\n",
       "      <th>RandomForestClassifier5</th>\n",
       "      <td>0.797638</td>\n",
       "      <td>0.676203</td>\n",
       "      <td>0.654961</td>\n",
       "      <td>0.661401</td>\n",
       "      <td>0.634457</td>\n",
       "    </tr>\n",
       "    <tr>\n",
       "      <th>RandomForestClassifier6</th>\n",
       "      <td>0.785039</td>\n",
       "      <td>0.663855</td>\n",
       "      <td>0.665988</td>\n",
       "      <td>0.664182</td>\n",
       "      <td>0.616273</td>\n",
       "    </tr>\n",
       "    <tr>\n",
       "      <th>RandomForestClassifier7</th>\n",
       "      <td>0.802362</td>\n",
       "      <td>0.684159</td>\n",
       "      <td>0.658266</td>\n",
       "      <td>0.666185</td>\n",
       "      <td>0.642145</td>\n",
       "    </tr>\n",
       "    <tr>\n",
       "      <th>XGBClassifier8</th>\n",
       "      <td>0.829921</td>\n",
       "      <td>0.705985</td>\n",
       "      <td>0.697566</td>\n",
       "      <td>0.701043</td>\n",
       "      <td>0.693433</td>\n",
       "    </tr>\n",
       "    <tr>\n",
       "      <th>XGBClassifier9</th>\n",
       "      <td>0.829134</td>\n",
       "      <td>0.702793</td>\n",
       "      <td>0.687378</td>\n",
       "      <td>0.693485</td>\n",
       "      <td>0.690663</td>\n",
       "    </tr>\n",
       "    <tr>\n",
       "      <th>XGBClassifier10</th>\n",
       "      <td>0.825984</td>\n",
       "      <td>0.699258</td>\n",
       "      <td>0.684878</td>\n",
       "      <td>0.690687</td>\n",
       "      <td>0.684976</td>\n",
       "    </tr>\n",
       "    <tr>\n",
       "      <th>XGBClassifier11</th>\n",
       "      <td>0.777165</td>\n",
       "      <td>0.652105</td>\n",
       "      <td>0.680143</td>\n",
       "      <td>0.661136</td>\n",
       "      <td>0.610917</td>\n",
       "    </tr>\n",
       "    <tr>\n",
       "      <th>XGBClassifier12</th>\n",
       "      <td>0.835433</td>\n",
       "      <td>0.743716</td>\n",
       "      <td>0.716102</td>\n",
       "      <td>0.727159</td>\n",
       "      <td>0.701600</td>\n",
       "    </tr>\n",
       "    <tr>\n",
       "      <th>XGBClassifier13</th>\n",
       "      <td>0.822835</td>\n",
       "      <td>0.707183</td>\n",
       "      <td>0.692075</td>\n",
       "      <td>0.698269</td>\n",
       "      <td>0.679614</td>\n",
       "    </tr>\n",
       "    <tr>\n",
       "      <th>XGBClassifier14</th>\n",
       "      <td>0.821260</td>\n",
       "      <td>0.708630</td>\n",
       "      <td>0.690203</td>\n",
       "      <td>0.697749</td>\n",
       "      <td>0.676146</td>\n",
       "    </tr>\n",
       "    <tr>\n",
       "      <th>XGBClassifier15</th>\n",
       "      <td>0.832283</td>\n",
       "      <td>0.732228</td>\n",
       "      <td>0.719533</td>\n",
       "      <td>0.725209</td>\n",
       "      <td>0.697020</td>\n",
       "    </tr>\n",
       "    <tr>\n",
       "      <th>XGBClassifier16</th>\n",
       "      <td>0.829921</td>\n",
       "      <td>0.721347</td>\n",
       "      <td>0.715004</td>\n",
       "      <td>0.717835</td>\n",
       "      <td>0.693739</td>\n",
       "    </tr>\n",
       "    <tr>\n",
       "      <th>XGBClassifier17</th>\n",
       "      <td>0.833858</td>\n",
       "      <td>0.730795</td>\n",
       "      <td>0.705777</td>\n",
       "      <td>0.715822</td>\n",
       "      <td>0.698379</td>\n",
       "    </tr>\n",
       "    <tr>\n",
       "      <th>XGBClassifier18</th>\n",
       "      <td>0.832283</td>\n",
       "      <td>0.725072</td>\n",
       "      <td>0.698863</td>\n",
       "      <td>0.709050</td>\n",
       "      <td>0.695304</td>\n",
       "    </tr>\n",
       "  </tbody>\n",
       "</table>\n",
       "</div>"
      ]
     },
     "execution_count": 24,
     "metadata": {},
     "output_type": "execute_result"
    }
   ],
   "execution_count": 24
  },
  {
   "metadata": {
    "ExecuteTime": {
     "end_time": "2024-11-02T17:25:48.147005Z",
     "start_time": "2024-11-02T17:25:48.126971Z"
    }
   },
   "cell_type": "code",
   "source": "df",
   "id": "6eb44d81192e4e98",
   "outputs": [
    {
     "data": {
      "text/plain": [
       "                         accuracy  precision    recall        f1     kappa\n",
       "GT                       1.000000   1.000000  1.000000  1.000000  1.000000\n",
       "RandomForestClassifier0  0.796850   0.675390  0.675317  0.674296  0.637231\n",
       "RandomForestClassifier1  0.787402   0.669032  0.668885  0.667482  0.621113\n",
       "RandomForestClassifier2  0.794488   0.674326  0.672954  0.672857  0.632189\n",
       "RandomForestClassifier3  0.797638   0.677455  0.657838  0.664009  0.634714\n",
       "RandomForestClassifier4  0.790551   0.669752  0.676249  0.672199  0.627168\n",
       "RandomForestClassifier5  0.797638   0.676203  0.654961  0.661401  0.634457\n",
       "RandomForestClassifier6  0.785039   0.663855  0.665988  0.664182  0.616273\n",
       "RandomForestClassifier7  0.802362   0.684159  0.658266  0.666185  0.642145\n",
       "XGBClassifier8           0.829921   0.705985  0.697566  0.701043  0.693433\n",
       "XGBClassifier9           0.829134   0.702793  0.687378  0.693485  0.690663\n",
       "XGBClassifier10          0.825984   0.699258  0.684878  0.690687  0.684976\n",
       "XGBClassifier11          0.777165   0.652105  0.680143  0.661136  0.610917\n",
       "XGBClassifier12          0.835433   0.743716  0.716102  0.727159  0.701600\n",
       "XGBClassifier13          0.822835   0.707183  0.692075  0.698269  0.679614\n",
       "XGBClassifier14          0.821260   0.708630  0.690203  0.697749  0.676146\n",
       "XGBClassifier15          0.832283   0.732228  0.719533  0.725209  0.697020\n",
       "XGBClassifier16          0.829921   0.721347  0.715004  0.717835  0.693739\n",
       "XGBClassifier17          0.833858   0.730795  0.705777  0.715822  0.698379\n",
       "XGBClassifier18          0.832283   0.725072  0.698863  0.709050  0.695304"
      ],
      "text/html": [
       "<div>\n",
       "<style scoped>\n",
       "    .dataframe tbody tr th:only-of-type {\n",
       "        vertical-align: middle;\n",
       "    }\n",
       "\n",
       "    .dataframe tbody tr th {\n",
       "        vertical-align: top;\n",
       "    }\n",
       "\n",
       "    .dataframe thead th {\n",
       "        text-align: right;\n",
       "    }\n",
       "</style>\n",
       "<table border=\"1\" class=\"dataframe\">\n",
       "  <thead>\n",
       "    <tr style=\"text-align: right;\">\n",
       "      <th></th>\n",
       "      <th>accuracy</th>\n",
       "      <th>precision</th>\n",
       "      <th>recall</th>\n",
       "      <th>f1</th>\n",
       "      <th>kappa</th>\n",
       "    </tr>\n",
       "  </thead>\n",
       "  <tbody>\n",
       "    <tr>\n",
       "      <th>GT</th>\n",
       "      <td>1.000000</td>\n",
       "      <td>1.000000</td>\n",
       "      <td>1.000000</td>\n",
       "      <td>1.000000</td>\n",
       "      <td>1.000000</td>\n",
       "    </tr>\n",
       "    <tr>\n",
       "      <th>RandomForestClassifier0</th>\n",
       "      <td>0.796850</td>\n",
       "      <td>0.675390</td>\n",
       "      <td>0.675317</td>\n",
       "      <td>0.674296</td>\n",
       "      <td>0.637231</td>\n",
       "    </tr>\n",
       "    <tr>\n",
       "      <th>RandomForestClassifier1</th>\n",
       "      <td>0.787402</td>\n",
       "      <td>0.669032</td>\n",
       "      <td>0.668885</td>\n",
       "      <td>0.667482</td>\n",
       "      <td>0.621113</td>\n",
       "    </tr>\n",
       "    <tr>\n",
       "      <th>RandomForestClassifier2</th>\n",
       "      <td>0.794488</td>\n",
       "      <td>0.674326</td>\n",
       "      <td>0.672954</td>\n",
       "      <td>0.672857</td>\n",
       "      <td>0.632189</td>\n",
       "    </tr>\n",
       "    <tr>\n",
       "      <th>RandomForestClassifier3</th>\n",
       "      <td>0.797638</td>\n",
       "      <td>0.677455</td>\n",
       "      <td>0.657838</td>\n",
       "      <td>0.664009</td>\n",
       "      <td>0.634714</td>\n",
       "    </tr>\n",
       "    <tr>\n",
       "      <th>RandomForestClassifier4</th>\n",
       "      <td>0.790551</td>\n",
       "      <td>0.669752</td>\n",
       "      <td>0.676249</td>\n",
       "      <td>0.672199</td>\n",
       "      <td>0.627168</td>\n",
       "    </tr>\n",
       "    <tr>\n",
       "      <th>RandomForestClassifier5</th>\n",
       "      <td>0.797638</td>\n",
       "      <td>0.676203</td>\n",
       "      <td>0.654961</td>\n",
       "      <td>0.661401</td>\n",
       "      <td>0.634457</td>\n",
       "    </tr>\n",
       "    <tr>\n",
       "      <th>RandomForestClassifier6</th>\n",
       "      <td>0.785039</td>\n",
       "      <td>0.663855</td>\n",
       "      <td>0.665988</td>\n",
       "      <td>0.664182</td>\n",
       "      <td>0.616273</td>\n",
       "    </tr>\n",
       "    <tr>\n",
       "      <th>RandomForestClassifier7</th>\n",
       "      <td>0.802362</td>\n",
       "      <td>0.684159</td>\n",
       "      <td>0.658266</td>\n",
       "      <td>0.666185</td>\n",
       "      <td>0.642145</td>\n",
       "    </tr>\n",
       "    <tr>\n",
       "      <th>XGBClassifier8</th>\n",
       "      <td>0.829921</td>\n",
       "      <td>0.705985</td>\n",
       "      <td>0.697566</td>\n",
       "      <td>0.701043</td>\n",
       "      <td>0.693433</td>\n",
       "    </tr>\n",
       "    <tr>\n",
       "      <th>XGBClassifier9</th>\n",
       "      <td>0.829134</td>\n",
       "      <td>0.702793</td>\n",
       "      <td>0.687378</td>\n",
       "      <td>0.693485</td>\n",
       "      <td>0.690663</td>\n",
       "    </tr>\n",
       "    <tr>\n",
       "      <th>XGBClassifier10</th>\n",
       "      <td>0.825984</td>\n",
       "      <td>0.699258</td>\n",
       "      <td>0.684878</td>\n",
       "      <td>0.690687</td>\n",
       "      <td>0.684976</td>\n",
       "    </tr>\n",
       "    <tr>\n",
       "      <th>XGBClassifier11</th>\n",
       "      <td>0.777165</td>\n",
       "      <td>0.652105</td>\n",
       "      <td>0.680143</td>\n",
       "      <td>0.661136</td>\n",
       "      <td>0.610917</td>\n",
       "    </tr>\n",
       "    <tr>\n",
       "      <th>XGBClassifier12</th>\n",
       "      <td>0.835433</td>\n",
       "      <td>0.743716</td>\n",
       "      <td>0.716102</td>\n",
       "      <td>0.727159</td>\n",
       "      <td>0.701600</td>\n",
       "    </tr>\n",
       "    <tr>\n",
       "      <th>XGBClassifier13</th>\n",
       "      <td>0.822835</td>\n",
       "      <td>0.707183</td>\n",
       "      <td>0.692075</td>\n",
       "      <td>0.698269</td>\n",
       "      <td>0.679614</td>\n",
       "    </tr>\n",
       "    <tr>\n",
       "      <th>XGBClassifier14</th>\n",
       "      <td>0.821260</td>\n",
       "      <td>0.708630</td>\n",
       "      <td>0.690203</td>\n",
       "      <td>0.697749</td>\n",
       "      <td>0.676146</td>\n",
       "    </tr>\n",
       "    <tr>\n",
       "      <th>XGBClassifier15</th>\n",
       "      <td>0.832283</td>\n",
       "      <td>0.732228</td>\n",
       "      <td>0.719533</td>\n",
       "      <td>0.725209</td>\n",
       "      <td>0.697020</td>\n",
       "    </tr>\n",
       "    <tr>\n",
       "      <th>XGBClassifier16</th>\n",
       "      <td>0.829921</td>\n",
       "      <td>0.721347</td>\n",
       "      <td>0.715004</td>\n",
       "      <td>0.717835</td>\n",
       "      <td>0.693739</td>\n",
       "    </tr>\n",
       "    <tr>\n",
       "      <th>XGBClassifier17</th>\n",
       "      <td>0.833858</td>\n",
       "      <td>0.730795</td>\n",
       "      <td>0.705777</td>\n",
       "      <td>0.715822</td>\n",
       "      <td>0.698379</td>\n",
       "    </tr>\n",
       "    <tr>\n",
       "      <th>XGBClassifier18</th>\n",
       "      <td>0.832283</td>\n",
       "      <td>0.725072</td>\n",
       "      <td>0.698863</td>\n",
       "      <td>0.709050</td>\n",
       "      <td>0.695304</td>\n",
       "    </tr>\n",
       "  </tbody>\n",
       "</table>\n",
       "</div>"
      ]
     },
     "execution_count": 26,
     "metadata": {},
     "output_type": "execute_result"
    }
   ],
   "execution_count": 26
  },
  {
   "metadata": {},
   "cell_type": "markdown",
   "source": [
    "___\n",
    "Balance the data"
   ],
   "id": "ad0e6dcd404dcf15"
  },
  {
   "metadata": {
    "ExecuteTime": {
     "end_time": "2024-11-02T15:39:01.615267Z",
     "start_time": "2024-11-02T15:39:01.606732Z"
    }
   },
   "cell_type": "code",
   "source": [
    "# Backup\n",
    "pipeline.backup_feature_matrix = pipeline.feature_matrix.copy()\n",
    "pipeline.backup_labels = pipeline.labels.copy()"
   ],
   "id": "da1b19771d4cde2f",
   "outputs": [],
   "execution_count": 9
  },
  {
   "metadata": {
    "ExecuteTime": {
     "end_time": "2024-11-02T15:39:01.649918Z",
     "start_time": "2024-11-02T15:39:01.645121Z"
    }
   },
   "cell_type": "code",
   "source": [
    "print(pipeline.backup_feature_matrix.shape)\n",
    "print(pipeline.feature_matrix.shape)\n",
    "\n",
    "print(pipeline.backup_labels.shape)\n",
    "print(pipeline.labels.shape)"
   ],
   "id": "3425dcf3bd509008",
   "outputs": [
    {
     "name": "stdout",
     "output_type": "stream",
     "text": [
      "(5082, 354)\n",
      "(5082, 354)\n",
      "(5082,)\n",
      "(5082,)\n"
     ]
    }
   ],
   "execution_count": 10
  },
  {
   "metadata": {
    "ExecuteTime": {
     "end_time": "2024-11-02T15:39:02.051983Z",
     "start_time": "2024-11-02T15:39:01.665430Z"
    }
   },
   "cell_type": "code",
   "source": [
    "from imblearn.over_sampling import SMOTE\n",
    "\n",
    "smote = SMOTE(random_state=42)\n",
    "pipeline.feature_matrix, pipeline.labels = smote.fit_resample(pipeline.feature_matrix, pipeline.labels)"
   ],
   "id": "6f226a41aafa84b7",
   "outputs": [],
   "execution_count": 11
  },
  {
   "metadata": {
    "ExecuteTime": {
     "end_time": "2024-11-02T15:45:45.038854Z",
     "start_time": "2024-11-02T15:39:02.072470Z"
    }
   },
   "cell_type": "code",
   "source": [
    "pipeline.fitted_classifiers = {}\n",
    "pipeline.fit_classifiers()"
   ],
   "id": "e25b1eeaa9b9b112",
   "outputs": [
    {
     "name": "stderr",
     "output_type": "stream",
     "text": [
      "INFO:utils.ml:Fitting classifiers...\n",
      "INFO:utils.ml:Fitting classifier: RandomForestClassifier0\n",
      "INFO:utils.ml:Fitted classifier: RandomForestClassifier0; Done in 9.74233078956604 seconds\n",
      "INFO:utils.ml:Fitting classifier: RandomForestClassifier1\n"
     ]
    },
    {
     "name": "stdout",
     "output_type": "stream",
     "text": [
      "list index out of range\n"
     ]
    },
    {
     "name": "stderr",
     "output_type": "stream",
     "text": [
      "INFO:utils.ml:Fitted classifier: RandomForestClassifier1; Done in 16.17583155632019 seconds\n",
      "INFO:utils.ml:Fitting classifier: RandomForestClassifier2\n"
     ]
    },
    {
     "name": "stdout",
     "output_type": "stream",
     "text": [
      "list index out of range\n"
     ]
    },
    {
     "name": "stderr",
     "output_type": "stream",
     "text": [
      "INFO:utils.ml:Fitted classifier: RandomForestClassifier2; Done in 14.872129917144775 seconds\n",
      "INFO:utils.ml:Fitting classifier: RandomForestClassifier3\n"
     ]
    },
    {
     "name": "stdout",
     "output_type": "stream",
     "text": [
      "list index out of range\n"
     ]
    },
    {
     "name": "stderr",
     "output_type": "stream",
     "text": [
      "INFO:utils.ml:Fitted classifier: RandomForestClassifier3; Done in 27.7579026222229 seconds\n",
      "INFO:utils.ml:Fitting classifier: RandomForestClassifier4\n"
     ]
    },
    {
     "name": "stdout",
     "output_type": "stream",
     "text": [
      "list index out of range\n"
     ]
    },
    {
     "name": "stderr",
     "output_type": "stream",
     "text": [
      "INFO:utils.ml:Fitted classifier: RandomForestClassifier4; Done in 27.495516538619995 seconds\n",
      "INFO:utils.ml:Fitting classifier: RandomForestClassifier5\n"
     ]
    },
    {
     "name": "stdout",
     "output_type": "stream",
     "text": [
      "list index out of range\n"
     ]
    },
    {
     "name": "stderr",
     "output_type": "stream",
     "text": [
      "INFO:utils.ml:Fitted classifier: RandomForestClassifier5; Done in 41.82298231124878 seconds\n",
      "INFO:utils.ml:Fitting classifier: RandomForestClassifier6\n"
     ]
    },
    {
     "name": "stdout",
     "output_type": "stream",
     "text": [
      "list index out of range\n"
     ]
    },
    {
     "name": "stderr",
     "output_type": "stream",
     "text": [
      "INFO:utils.ml:Fitted classifier: RandomForestClassifier6; Done in 37.18102526664734 seconds\n",
      "INFO:utils.ml:Fitting classifier: RandomForestClassifier7\n"
     ]
    },
    {
     "name": "stdout",
     "output_type": "stream",
     "text": [
      "list index out of range\n"
     ]
    },
    {
     "name": "stderr",
     "output_type": "stream",
     "text": [
      "INFO:utils.ml:Fitted classifier: RandomForestClassifier7; Done in 47.74561905860901 seconds\n",
      "INFO:utils.ml:Fitting classifier: XGBClassifier8\n"
     ]
    },
    {
     "name": "stdout",
     "output_type": "stream",
     "text": [
      "list index out of range\n"
     ]
    },
    {
     "name": "stderr",
     "output_type": "stream",
     "text": [
      "INFO:utils.ml:Fitted classifier: XGBClassifier8; Done in 12.20540714263916 seconds\n",
      "INFO:utils.ml:Fitting classifier: XGBClassifier9\n"
     ]
    },
    {
     "name": "stdout",
     "output_type": "stream",
     "text": [
      "list index out of range\n"
     ]
    },
    {
     "name": "stderr",
     "output_type": "stream",
     "text": [
      "INFO:utils.ml:Top 10 features for XGBClassifier9: [('color_moments_hsv_channel_0_mean', 0.017733097), ('var_lab_channel_0', 0.015833523), ('lbp_rad2_bins32_0', 0.014874804), ('lbp_rad2_bins64_29', 0.013070298), ('lbp_rad1_bins64_58', 0.012508532), ('lbp_rad1_bins64_31', 0.010982232), ('color_moments_lab_channel_0_skew', 0.010319066), ('lbp_rad3_bins64_20', 0.009157334), ('lbp_rad2_bins64_33', 0.009129643), ('lbp_rad1_bins64_63', 0.00910205)]\n",
      "INFO:utils.ml:Fitted classifier: XGBClassifier9; Done in 14.587161540985107 seconds\n",
      "INFO:utils.ml:Fitting classifier: XGBClassifier10\n",
      "INFO:utils.ml:Top 10 features for XGBClassifier10: [('color_moments_hsv_channel_0_mean', 0.017430328), ('var_lab_channel_0', 0.015962644), ('lbp_rad2_bins32_0', 0.015815852), ('lbp_rad2_bins64_29', 0.01350032), ('lbp_rad1_bins64_58', 0.0123061575), ('lbp_rad1_bins64_31', 0.010751022), ('color_moments_lab_channel_0_skew', 0.010404027), ('lbp_rad2_bins64_33', 0.0095666675), ('lbp_rad1_bins64_63', 0.009238388), ('lbp_rad3_bins64_20', 0.00883884)]\n",
      "INFO:utils.ml:Fitted classifier: XGBClassifier10; Done in 16.536356925964355 seconds\n",
      "INFO:utils.ml:Fitting classifier: XGBClassifier11\n",
      "INFO:utils.ml:Top 10 features for XGBClassifier11: [('color_moments_hsv_channel_0_mean', 0.018506164), ('lbp_rad2_bins64_29', 0.010651368), ('lbp_rad1_bins64_63', 0.009801821), ('lbp_rad2_bins64_41', 0.009611088), ('color_moments_lab_channel_1_std', 0.009406994), ('lbp_rad2_bins32_0', 0.009381), ('var_lab_channel_0', 0.009349686), ('lbp_rad1_bins64_58', 0.009335667), ('lbp_rad1_bins32_22', 0.009089527), ('color_moments_lab_channel_0_skew', 0.00907468)]\n",
      "INFO:utils.ml:Fitted classifier: XGBClassifier11; Done in 5.9571099281311035 seconds\n",
      "INFO:utils.ml:Fitting classifier: XGBClassifier12\n",
      "INFO:utils.ml:Top 10 features for XGBClassifier12: [('color_moments_hsv_channel_0_mean', 0.015875299), ('var_lab_channel_0', 0.012789069), ('lbp_rad2_bins32_0', 0.010771555), ('lbp_rad1_bins64_63', 0.009451584), ('lbp_rad3_bins64_20', 0.009159704), ('color_moments_lab_channel_0_skew', 0.0077685798), ('lbp_rad1_bins64_26', 0.0070729773), ('lbp_rad2_bins64_29', 0.0067608985), ('lbp_rad1_bins64_58', 0.006743619), ('lbp_rad3_bins64_43', 0.006328523)]\n",
      "INFO:utils.ml:Fitted classifier: XGBClassifier12; Done in 15.957036972045898 seconds\n",
      "INFO:utils.ml:Fitting classifier: XGBClassifier13\n",
      "INFO:utils.ml:Top 10 features for XGBClassifier13: [('color_moments_hsv_channel_0_mean', 0.017225005), ('var_lab_channel_0', 0.011136367), ('lbp_rad3_bins64_20', 0.010247533), ('lbp_rad2_bins32_0', 0.010137586), ('lbp_rad1_bins64_58', 0.009134843), ('lbp_rad2_bins64_29', 0.0090428535), ('color_moments_lab_channel_0_skew', 0.008994707), ('lbp_rad1_bins64_63', 0.008827183), ('lbp_rad2_bins32_19', 0.007943402), ('lbp_rad3_bins32_10', 0.007279259)]\n",
      "INFO:utils.ml:Fitted classifier: XGBClassifier13; Done in 10.774852514266968 seconds\n",
      "INFO:utils.ml:Fitting classifier: XGBClassifier14\n",
      "INFO:utils.ml:Top 10 features for XGBClassifier14: [('color_moments_hsv_channel_0_mean', 0.01805188), ('var_lab_channel_0', 0.013448478), ('lbp_rad2_bins32_0', 0.010717146), ('lbp_rad1_bins64_58', 0.009433379), ('lbp_rad3_bins64_20', 0.009170108), ('lbp_rad1_bins64_63', 0.008940089), ('color_moments_lab_channel_0_skew', 0.008343059), ('lbp_rad2_bins64_29', 0.00793582), ('color_moments_hsv_channel_2_mean', 0.0069631254), ('color_moments_lab_channel_1_std', 0.006766745)]\n",
      "INFO:utils.ml:Fitted classifier: XGBClassifier14; Done in 11.725984334945679 seconds\n",
      "INFO:utils.ml:Fitting classifier: XGBClassifier15\n",
      "INFO:utils.ml:Top 10 features for XGBClassifier15: [('color_moments_hsv_channel_0_mean', 0.017516373), ('var_lab_channel_0', 0.013620422), ('lbp_rad2_bins32_0', 0.010824033), ('lbp_rad1_bins64_63', 0.00854743), ('color_moments_lab_channel_0_skew', 0.00843674), ('lbp_rad2_bins64_29', 0.008362993), ('lbp_rad3_bins64_20', 0.008175269), ('lbp_rad1_bins64_58', 0.007597739), ('color_moments_lab_channel_1_std', 0.007223072), ('color_moments_hsv_channel_2_mean', 0.006145237)]\n",
      "INFO:utils.ml:Fitted classifier: XGBClassifier15; Done in 27.65716576576233 seconds\n",
      "INFO:utils.ml:Fitting classifier: XGBClassifier16\n",
      "INFO:utils.ml:Top 10 features for XGBClassifier16: [('color_moments_hsv_channel_0_mean', 0.017615594), ('var_lab_channel_0', 0.013244896), ('lbp_rad2_bins32_0', 0.0104845185), ('lbp_rad2_bins64_29', 0.008465102), ('lbp_rad3_bins64_20', 0.008333262), ('lbp_rad1_bins64_63', 0.008281674), ('color_moments_lab_channel_0_skew', 0.008270448), ('color_moments_lab_channel_1_std', 0.007594318), ('lbp_rad1_bins64_58', 0.007575976), ('color_moments_hsv_channel_2_mean', 0.0060557527)]\n",
      "INFO:utils.ml:Fitted classifier: XGBClassifier16; Done in 23.03988003730774 seconds\n",
      "INFO:utils.ml:Fitting classifier: XGBClassifier17\n",
      "INFO:utils.ml:Top 10 features for XGBClassifier17: [('color_moments_hsv_channel_0_mean', 0.01766401), ('var_lab_channel_0', 0.014095456), ('lbp_rad1_bins64_63', 0.010149116), ('lbp_rad2_bins32_0', 0.009569231), ('lbp_rad2_bins64_29', 0.008824356), ('lbp_rad3_bins64_20', 0.008593129), ('lbp_rad2_bins32_19', 0.008436022), ('color_moments_lab_channel_0_skew', 0.008293643), ('lbp_rad1_bins64_58', 0.008033099), ('color_moments_hsv_channel_2_mean', 0.0062713698)]\n",
      "INFO:utils.ml:Fitted classifier: XGBClassifier17; Done in 19.122790336608887 seconds\n",
      "INFO:utils.ml:Fitting classifier: XGBClassifier18\n",
      "INFO:utils.ml:Top 10 features for XGBClassifier18: [('color_moments_hsv_channel_0_mean', 0.017358799), ('var_lab_channel_0', 0.014463158), ('lbp_rad1_bins64_63', 0.009988241), ('lbp_rad2_bins32_0', 0.009571225), ('lbp_rad2_bins64_29', 0.008933986), ('lbp_rad2_bins32_19', 0.0086515155), ('color_moments_lab_channel_0_skew', 0.008518372), ('lbp_rad1_bins64_58', 0.008228331), ('lbp_rad3_bins64_20', 0.008133474), ('lbp_rad2_bins64_41', 0.00637734)]\n",
      "INFO:utils.ml:Fitted classifier: XGBClassifier18; Done in 22.589717626571655 seconds\n",
      "INFO:utils.ml:Fitting completed in 402.96 seconds.\n"
     ]
    }
   ],
   "execution_count": 12
  },
  {
   "metadata": {
    "ExecuteTime": {
     "end_time": "2024-11-02T15:48:57.627233Z",
     "start_time": "2024-11-02T15:45:45.069393Z"
    }
   },
   "cell_type": "code",
   "source": "pipeline.predict_with_classifiers(VAL_PATH)",
   "id": "eaa13003ad0706a4",
   "outputs": [
    {
     "name": "stderr",
     "output_type": "stream",
     "text": [
      "INFO:utils.ml:Predicting with classifiers on dataset: C:\\Users\\gimes\\Src\\repos\\CADx-Project\\dataset\\multiclass\\val\n"
     ]
    },
    {
     "name": "stdout",
     "output_type": "stream",
     "text": [
      "Processed 5/27 batches.\n",
      "Processed 10/27 batches.\n",
      "Processed 15/27 batches.\n",
      "Processed 20/27 batches.\n",
      "Processed 25/27 batches.\n"
     ]
    },
    {
     "name": "stderr",
     "output_type": "stream",
     "text": [
      "INFO:utils.ml:Predictions made with classifier: RandomForestClassifier0\n",
      "INFO:utils.ml:Predictions made with classifier: RandomForestClassifier1\n",
      "INFO:utils.ml:Predictions made with classifier: RandomForestClassifier2\n",
      "INFO:utils.ml:Predictions made with classifier: RandomForestClassifier3\n"
     ]
    },
    {
     "name": "stdout",
     "output_type": "stream",
     "text": [
      "Processed 27/27 batches.\n"
     ]
    },
    {
     "name": "stderr",
     "output_type": "stream",
     "text": [
      "INFO:utils.ml:Predictions made with classifier: RandomForestClassifier4\n",
      "INFO:utils.ml:Predictions made with classifier: RandomForestClassifier5\n",
      "INFO:utils.ml:Predictions made with classifier: RandomForestClassifier6\n",
      "INFO:utils.ml:Predictions made with classifier: RandomForestClassifier7\n",
      "INFO:utils.ml:Predictions made with classifier: XGBClassifier8\n",
      "INFO:utils.ml:Predictions made with classifier: XGBClassifier9\n",
      "INFO:utils.ml:Predictions made with classifier: XGBClassifier10\n",
      "INFO:utils.ml:Predictions made with classifier: XGBClassifier11\n",
      "INFO:utils.ml:Predictions made with classifier: XGBClassifier12\n",
      "INFO:utils.ml:Predictions made with classifier: XGBClassifier13\n",
      "INFO:utils.ml:Predictions made with classifier: XGBClassifier14\n",
      "INFO:utils.ml:Predictions made with classifier: XGBClassifier15\n",
      "INFO:utils.ml:Predictions made with classifier: XGBClassifier16\n",
      "INFO:utils.ml:Predictions made with classifier: XGBClassifier17\n",
      "INFO:utils.ml:Predictions made with classifier: XGBClassifier18\n"
     ]
    },
    {
     "data": {
      "text/plain": [
       "{'GT': array([0, 0, 0, ..., 2, 2, 2]),\n",
       " 'RandomForestClassifier0': array([2, 0, 2, ..., 1, 0, 0]),\n",
       " 'RandomForestClassifier1': array([2, 0, 2, ..., 1, 0, 0]),\n",
       " 'RandomForestClassifier2': array([2, 0, 2, ..., 1, 0, 0]),\n",
       " 'RandomForestClassifier3': array([2, 0, 2, ..., 1, 0, 0]),\n",
       " 'RandomForestClassifier4': array([2, 0, 2, ..., 1, 0, 0]),\n",
       " 'RandomForestClassifier5': array([2, 0, 2, ..., 1, 0, 0]),\n",
       " 'RandomForestClassifier6': array([2, 0, 2, ..., 1, 0, 0]),\n",
       " 'RandomForestClassifier7': array([2, 0, 2, ..., 1, 0, 0]),\n",
       " 'XGBClassifier8': array([2, 0, 2, ..., 1, 0, 0], dtype=int64),\n",
       " 'XGBClassifier9': array([2, 0, 2, ..., 1, 0, 0], dtype=int64),\n",
       " 'XGBClassifier10': array([2, 0, 2, ..., 1, 0, 0], dtype=int64),\n",
       " 'XGBClassifier11': array([0, 0, 2, ..., 1, 0, 0], dtype=int64),\n",
       " 'XGBClassifier12': array([2, 0, 2, ..., 1, 0, 0], dtype=int64),\n",
       " 'XGBClassifier13': array([2, 0, 2, ..., 1, 0, 0], dtype=int64),\n",
       " 'XGBClassifier14': array([2, 0, 2, ..., 1, 0, 0], dtype=int64),\n",
       " 'XGBClassifier15': array([2, 0, 2, ..., 1, 0, 0], dtype=int64),\n",
       " 'XGBClassifier16': array([2, 0, 2, ..., 1, 0, 0], dtype=int64),\n",
       " 'XGBClassifier17': array([2, 0, 2, ..., 1, 0, 0], dtype=int64),\n",
       " 'XGBClassifier18': array([2, 0, 2, ..., 1, 0, 0], dtype=int64)}"
      ]
     },
     "execution_count": 13,
     "metadata": {},
     "output_type": "execute_result"
    }
   ],
   "execution_count": 13
  },
  {
   "metadata": {},
   "cell_type": "markdown",
   "source": [
    "___\n",
    "Borderline SMOTE"
   ],
   "id": "1e752cdfc948f3bc"
  },
  {
   "metadata": {
    "ExecuteTime": {
     "end_time": "2024-11-02T15:48:58.053629Z",
     "start_time": "2024-11-02T15:48:57.740211Z"
    }
   },
   "cell_type": "code",
   "source": [
    "from imblearn.over_sampling import BorderlineSMOTE\n",
    "smote = BorderlineSMOTE(sampling_strategy='auto', random_state=42)\n",
    "\n",
    "pipeline.feature_matrix, pipeline.labels = smote.fit_resample(\n",
    "    pipeline.backup_feature_matrix, pipeline.backup_labels)\n",
    "\n",
    "print(pipeline.backup_feature_matrix.shape)\n",
    "print(pipeline.feature_matrix.shape)\n",
    "\n",
    "print(pipeline.backup_labels.shape)\n",
    "print(pipeline.labels.shape)\n",
    "\n",
    "pipeline.fitted_classifiers = {}"
   ],
   "id": "ca12420fbcc1eb2b",
   "outputs": [
    {
     "name": "stdout",
     "output_type": "stream",
     "text": [
      "(5082, 354)\n",
      "(8139, 354)\n",
      "(5082,)\n",
      "(8139,)\n"
     ]
    }
   ],
   "execution_count": 14
  },
  {
   "metadata": {
    "ExecuteTime": {
     "end_time": "2024-11-02T15:55:35.320730Z",
     "start_time": "2024-11-02T15:48:58.083508Z"
    }
   },
   "cell_type": "code",
   "source": "pipeline.fit_classifiers()",
   "id": "a4ea57f5e5a38f80",
   "outputs": [
    {
     "name": "stderr",
     "output_type": "stream",
     "text": [
      "INFO:utils.ml:Fitting classifiers...\n",
      "INFO:utils.ml:Fitting classifier: RandomForestClassifier0\n",
      "INFO:utils.ml:Fitted classifier: RandomForestClassifier0; Done in 18.79904079437256 seconds\n",
      "INFO:utils.ml:Fitting classifier: RandomForestClassifier1\n"
     ]
    },
    {
     "name": "stdout",
     "output_type": "stream",
     "text": [
      "list index out of range\n"
     ]
    },
    {
     "name": "stderr",
     "output_type": "stream",
     "text": [
      "INFO:utils.ml:Fitted classifier: RandomForestClassifier1; Done in 26.141379594802856 seconds\n",
      "INFO:utils.ml:Fitting classifier: RandomForestClassifier2\n"
     ]
    },
    {
     "name": "stdout",
     "output_type": "stream",
     "text": [
      "list index out of range\n"
     ]
    },
    {
     "name": "stderr",
     "output_type": "stream",
     "text": [
      "INFO:utils.ml:Fitted classifier: RandomForestClassifier2; Done in 19.60924983024597 seconds\n",
      "INFO:utils.ml:Fitting classifier: RandomForestClassifier3\n"
     ]
    },
    {
     "name": "stdout",
     "output_type": "stream",
     "text": [
      "list index out of range\n"
     ]
    },
    {
     "name": "stderr",
     "output_type": "stream",
     "text": [
      "INFO:utils.ml:Fitted classifier: RandomForestClassifier3; Done in 28.389144897460938 seconds\n",
      "INFO:utils.ml:Fitting classifier: RandomForestClassifier4\n"
     ]
    },
    {
     "name": "stdout",
     "output_type": "stream",
     "text": [
      "list index out of range\n"
     ]
    },
    {
     "name": "stderr",
     "output_type": "stream",
     "text": [
      "INFO:utils.ml:Fitted classifier: RandomForestClassifier4; Done in 29.00088882446289 seconds\n",
      "INFO:utils.ml:Fitting classifier: RandomForestClassifier5\n"
     ]
    },
    {
     "name": "stdout",
     "output_type": "stream",
     "text": [
      "list index out of range\n"
     ]
    },
    {
     "name": "stderr",
     "output_type": "stream",
     "text": [
      "INFO:utils.ml:Fitted classifier: RandomForestClassifier5; Done in 34.15178990364075 seconds\n",
      "INFO:utils.ml:Fitting classifier: RandomForestClassifier6\n"
     ]
    },
    {
     "name": "stdout",
     "output_type": "stream",
     "text": [
      "list index out of range\n"
     ]
    },
    {
     "name": "stderr",
     "output_type": "stream",
     "text": [
      "INFO:utils.ml:Fitted classifier: RandomForestClassifier6; Done in 21.0226411819458 seconds\n",
      "INFO:utils.ml:Fitting classifier: RandomForestClassifier7\n"
     ]
    },
    {
     "name": "stdout",
     "output_type": "stream",
     "text": [
      "list index out of range\n"
     ]
    },
    {
     "name": "stderr",
     "output_type": "stream",
     "text": [
      "INFO:utils.ml:Fitted classifier: RandomForestClassifier7; Done in 30.358280658721924 seconds\n",
      "INFO:utils.ml:Fitting classifier: XGBClassifier8\n"
     ]
    },
    {
     "name": "stdout",
     "output_type": "stream",
     "text": [
      "list index out of range\n"
     ]
    },
    {
     "name": "stderr",
     "output_type": "stream",
     "text": [
      "INFO:utils.ml:Fitted classifier: XGBClassifier8; Done in 12.190419912338257 seconds\n",
      "INFO:utils.ml:Fitting classifier: XGBClassifier9\n"
     ]
    },
    {
     "name": "stdout",
     "output_type": "stream",
     "text": [
      "list index out of range\n"
     ]
    },
    {
     "name": "stderr",
     "output_type": "stream",
     "text": [
      "INFO:utils.ml:Fitted classifier: XGBClassifier9; Done in 15.612688541412354 seconds\n",
      "INFO:utils.ml:Fitting classifier: XGBClassifier10\n"
     ]
    },
    {
     "name": "stdout",
     "output_type": "stream",
     "text": [
      "list index out of range\n"
     ]
    },
    {
     "name": "stderr",
     "output_type": "stream",
     "text": [
      "INFO:utils.ml:Fitted classifier: XGBClassifier10; Done in 18.50666093826294 seconds\n",
      "INFO:utils.ml:Fitting classifier: XGBClassifier11\n"
     ]
    },
    {
     "name": "stdout",
     "output_type": "stream",
     "text": [
      "list index out of range\n"
     ]
    },
    {
     "name": "stderr",
     "output_type": "stream",
     "text": [
      "INFO:utils.ml:Top 10 features for XGBClassifier11: [('color_moments_hsv_channel_0_mean', 0.017054819), ('lbp_rad2_bins64_29', 0.013586495), ('lbp_rad2_bins32_16', 0.011955246), ('lbp_rad2_bins32_15', 0.011581601), ('lbp_rad1_bins32_22', 0.010779704), ('lbp_rad1_bins64_63', 0.010063744), ('color_moments_lab_channel_0_skew', 0.0099976985), ('color_moments_lab_channel_1_std', 0.009294928), ('lbp_rad2_bins64_41', 0.009251839), ('lbp_rad1_bins64_26', 0.008946392)]\n",
      "INFO:utils.ml:Fitted classifier: XGBClassifier11; Done in 6.893215894699097 seconds\n",
      "INFO:utils.ml:Fitting classifier: XGBClassifier12\n",
      "INFO:utils.ml:Top 10 features for XGBClassifier12: [('color_moments_hsv_channel_0_mean', 0.016213028), ('lbp_rad1_bins64_63', 0.010902622), ('var_lab_channel_0', 0.00989256), ('lbp_rad1_bins64_26', 0.009672324), ('lbp_rad2_bins32_15', 0.009448707), ('lbp_rad2_bins32_0', 0.008388236), ('lbp_rad1_bins64_31', 0.007700602), ('color_moments_lab_channel_0_skew', 0.0074120266), ('color_moments_lab_channel_1_std', 0.0072498415), ('color_moments_hsv_channel_2_mean', 0.007232819)]\n",
      "INFO:utils.ml:Fitted classifier: XGBClassifier12; Done in 17.477777004241943 seconds\n",
      "INFO:utils.ml:Fitting classifier: XGBClassifier13\n",
      "INFO:utils.ml:Top 10 features for XGBClassifier13: [('color_moments_hsv_channel_0_mean', 0.01686044), ('lbp_rad1_bins64_26', 0.011276173), ('lbp_rad1_bins64_63', 0.010820516), ('var_lab_channel_0', 0.010245308), ('lbp_rad2_bins32_0', 0.009734508), ('color_moments_lab_channel_0_skew', 0.008960459), ('lbp_rad1_bins64_31', 0.008633944), ('color_moments_lab_channel_1_skew', 0.008404431), ('lbp_rad2_bins64_29', 0.008285806), ('lbp_rad2_bins64_21', 0.0075196237)]\n",
      "INFO:utils.ml:Fitted classifier: XGBClassifier13; Done in 11.522427082061768 seconds\n",
      "INFO:utils.ml:Fitting classifier: XGBClassifier14\n",
      "INFO:utils.ml:Top 10 features for XGBClassifier14: [('color_moments_hsv_channel_0_mean', 0.017210964), ('lbp_rad2_bins32_0', 0.011525427), ('lbp_rad1_bins64_63', 0.011181777), ('var_lab_channel_0', 0.0106809), ('lbp_rad1_bins64_26', 0.01042471), ('lbp_rad2_bins32_15', 0.009298219), ('color_moments_lab_channel_1_std', 0.008183071), ('lbp_rad2_bins64_21', 0.008022419), ('lbp_rad1_bins64_31', 0.00798695), ('color_moments_lab_channel_0_skew', 0.007932411)]\n",
      "INFO:utils.ml:Fitted classifier: XGBClassifier14; Done in 13.242554664611816 seconds\n",
      "INFO:utils.ml:Fitting classifier: XGBClassifier15\n",
      "INFO:utils.ml:Top 10 features for XGBClassifier15: [('color_moments_hsv_channel_0_mean', 0.017568074), ('var_lab_channel_0', 0.01080091), ('lbp_rad1_bins64_63', 0.010236648), ('lbp_rad2_bins32_0', 0.009984274), ('lbp_rad1_bins64_26', 0.009735717), ('lbp_rad2_bins32_15', 0.009567352), ('color_moments_lab_channel_0_skew', 0.008370639), ('lbp_rad1_bins64_31', 0.008186102), ('color_moments_hsv_channel_2_mean', 0.007509481), ('color_moments_lab_channel_1_skew', 0.0074120304)]\n",
      "INFO:utils.ml:Fitted classifier: XGBClassifier15; Done in 29.14088225364685 seconds\n",
      "INFO:utils.ml:Fitting classifier: XGBClassifier16\n",
      "INFO:utils.ml:Top 10 features for XGBClassifier16: [('color_moments_hsv_channel_0_mean', 0.017659847), ('var_lab_channel_0', 0.010597351), ('lbp_rad1_bins64_63', 0.009857501), ('lbp_rad2_bins32_0', 0.009699014), ('lbp_rad1_bins64_26', 0.009332919), ('lbp_rad2_bins32_15', 0.009270976), ('lbp_rad1_bins64_31', 0.008351348), ('color_moments_lab_channel_0_skew', 0.008340273), ('color_moments_hsv_channel_2_mean', 0.007306149), ('color_moments_lab_channel_1_skew', 0.0071382653)]\n",
      "INFO:utils.ml:Fitted classifier: XGBClassifier16; Done in 23.286656856536865 seconds\n",
      "INFO:utils.ml:Fitting classifier: XGBClassifier17\n",
      "INFO:utils.ml:Top 10 features for XGBClassifier17: [('color_moments_hsv_channel_0_mean', 0.016788399), ('lbp_rad1_bins64_63', 0.012853589), ('var_lab_channel_0', 0.011318937), ('color_moments_lab_channel_1_skew', 0.01041546), ('lbp_rad2_bins32_15', 0.009475704), ('lbp_rad2_bins32_0', 0.009423409), ('lbp_rad1_bins64_26', 0.00939483), ('lbp_rad1_bins64_31', 0.00859511), ('color_moments_lab_channel_0_skew', 0.00809423), ('lbp_rad1_bins64_58', 0.008077719)]\n",
      "INFO:utils.ml:Fitted classifier: XGBClassifier17; Done in 19.17153835296631 seconds\n",
      "INFO:utils.ml:Fitting classifier: XGBClassifier18\n",
      "INFO:utils.ml:Top 10 features for XGBClassifier18: [('color_moments_hsv_channel_0_mean', 0.01654614), ('lbp_rad1_bins64_63', 0.013034057), ('var_lab_channel_0', 0.011498156), ('color_moments_lab_channel_1_skew', 0.010248735), ('lbp_rad1_bins64_26', 0.009704203), ('lbp_rad2_bins32_0', 0.009447761), ('lbp_rad2_bins32_15', 0.00929941), ('lbp_rad1_bins64_31', 0.008664334), ('color_moments_lab_channel_0_skew', 0.008162882), ('color_moments_lab_channel_1_std', 0.0077551166)]\n",
      "INFO:utils.ml:Fitted classifier: XGBClassifier18; Done in 22.657899141311646 seconds\n",
      "INFO:utils.ml:Fitting completed in 397.22 seconds.\n"
     ]
    }
   ],
   "execution_count": 15
  },
  {
   "metadata": {
    "ExecuteTime": {
     "end_time": "2024-11-02T15:59:17.715950Z",
     "start_time": "2024-11-02T15:55:35.346756Z"
    }
   },
   "cell_type": "code",
   "source": "pipeline.predict_with_classifiers(VAL_PATH)",
   "id": "156c56b343fa5df1",
   "outputs": [
    {
     "name": "stderr",
     "output_type": "stream",
     "text": [
      "INFO:utils.ml:Predicting with classifiers on dataset: C:\\Users\\gimes\\Src\\repos\\CADx-Project\\dataset\\multiclass\\val\n"
     ]
    },
    {
     "name": "stdout",
     "output_type": "stream",
     "text": [
      "Processed 5/27 batches.\n",
      "Processed 10/27 batches.\n",
      "Processed 15/27 batches.\n",
      "Processed 20/27 batches.\n",
      "Processed 25/27 batches.\n"
     ]
    },
    {
     "name": "stderr",
     "output_type": "stream",
     "text": [
      "INFO:utils.ml:Predictions made with classifier: RandomForestClassifier0\n",
      "INFO:utils.ml:Predictions made with classifier: RandomForestClassifier1\n"
     ]
    },
    {
     "name": "stdout",
     "output_type": "stream",
     "text": [
      "Processed 27/27 batches.\n"
     ]
    },
    {
     "name": "stderr",
     "output_type": "stream",
     "text": [
      "INFO:utils.ml:Predictions made with classifier: RandomForestClassifier2\n",
      "INFO:utils.ml:Predictions made with classifier: RandomForestClassifier3\n",
      "INFO:utils.ml:Predictions made with classifier: RandomForestClassifier4\n",
      "INFO:utils.ml:Predictions made with classifier: RandomForestClassifier5\n",
      "INFO:utils.ml:Predictions made with classifier: RandomForestClassifier6\n",
      "INFO:utils.ml:Predictions made with classifier: RandomForestClassifier7\n",
      "INFO:utils.ml:Predictions made with classifier: XGBClassifier8\n",
      "INFO:utils.ml:Predictions made with classifier: XGBClassifier9\n",
      "INFO:utils.ml:Predictions made with classifier: XGBClassifier10\n",
      "INFO:utils.ml:Predictions made with classifier: XGBClassifier11\n",
      "INFO:utils.ml:Predictions made with classifier: XGBClassifier12\n",
      "INFO:utils.ml:Predictions made with classifier: XGBClassifier13\n",
      "INFO:utils.ml:Predictions made with classifier: XGBClassifier14\n",
      "INFO:utils.ml:Predictions made with classifier: XGBClassifier15\n",
      "INFO:utils.ml:Predictions made with classifier: XGBClassifier16\n",
      "INFO:utils.ml:Predictions made with classifier: XGBClassifier17\n",
      "INFO:utils.ml:Predictions made with classifier: XGBClassifier18\n"
     ]
    },
    {
     "data": {
      "text/plain": [
       "{'GT': array([0, 0, 0, ..., 2, 2, 2]),\n",
       " 'RandomForestClassifier0': array([0, 0, 2, ..., 1, 0, 0]),\n",
       " 'RandomForestClassifier1': array([0, 0, 2, ..., 1, 0, 0]),\n",
       " 'RandomForestClassifier2': array([0, 0, 2, ..., 1, 0, 0]),\n",
       " 'RandomForestClassifier3': array([0, 0, 2, ..., 1, 0, 0]),\n",
       " 'RandomForestClassifier4': array([0, 0, 2, ..., 1, 0, 0]),\n",
       " 'RandomForestClassifier5': array([0, 0, 2, ..., 1, 0, 0]),\n",
       " 'RandomForestClassifier6': array([0, 0, 2, ..., 1, 0, 0]),\n",
       " 'RandomForestClassifier7': array([0, 0, 2, ..., 1, 0, 0]),\n",
       " 'XGBClassifier8': array([2, 0, 2, ..., 1, 0, 0], dtype=int64),\n",
       " 'XGBClassifier9': array([2, 0, 2, ..., 1, 0, 0], dtype=int64),\n",
       " 'XGBClassifier10': array([2, 0, 2, ..., 1, 0, 0], dtype=int64),\n",
       " 'XGBClassifier11': array([2, 0, 2, ..., 1, 0, 0], dtype=int64),\n",
       " 'XGBClassifier12': array([2, 0, 2, ..., 1, 2, 0], dtype=int64),\n",
       " 'XGBClassifier13': array([2, 0, 2, ..., 1, 2, 0], dtype=int64),\n",
       " 'XGBClassifier14': array([2, 0, 2, ..., 1, 2, 0], dtype=int64),\n",
       " 'XGBClassifier15': array([2, 0, 2, ..., 1, 0, 0], dtype=int64),\n",
       " 'XGBClassifier16': array([2, 0, 2, ..., 1, 0, 0], dtype=int64),\n",
       " 'XGBClassifier17': array([2, 0, 2, ..., 1, 0, 0], dtype=int64),\n",
       " 'XGBClassifier18': array([2, 0, 2, ..., 1, 0, 0], dtype=int64)}"
      ]
     },
     "execution_count": 16,
     "metadata": {},
     "output_type": "execute_result"
    }
   ],
   "execution_count": 16
  },
  {
   "metadata": {
    "ExecuteTime": {
     "end_time": "2024-11-02T15:59:18.038239Z",
     "start_time": "2024-11-02T15:59:17.770116Z"
    }
   },
   "cell_type": "code",
   "source": [
    "df_borderline_smote = pd.DataFrame(data=pipeline.calculate_metrics(\n",
    "    [\"accuracy\", \"precision\", \"recall\", \"f1\", \"kappa\"],))\n",
    "df_borderline_smote = df_borderline_smote.T\n",
    "df_borderline_smote"
   ],
   "id": "dec33139485e5176",
   "outputs": [
    {
     "name": "stderr",
     "output_type": "stream",
     "text": [
      "INFO:utils.ml:Metrics for classifier GT: {'accuracy': 1.0, 'precision': 1.0, 'recall': 1.0, 'f1': 1.0, 'kappa': 1.0}\n",
      "INFO:utils.ml:Metrics for classifier RandomForestClassifier0: {'accuracy': 0.7937007874015748, 'precision': 0.6791109826867973, 'recall': 0.6783934835557632, 'f1': 0.6778509520595518, 'kappa': 0.6313130193905817}\n",
      "INFO:utils.ml:Metrics for classifier RandomForestClassifier1: {'accuracy': 0.7929133858267716, 'precision': 0.6727668510113314, 'recall': 0.6674610322290858, 'f1': 0.6680346939461946, 'kappa': 0.6300927176961004}\n",
      "INFO:utils.ml:Metrics for classifier RandomForestClassifier2: {'accuracy': 0.794488188976378, 'precision': 0.6743255744321446, 'recall': 0.6729539131861659, 'f1': 0.6728574055441944, 'kappa': 0.6321887802431436}\n",
      "INFO:utils.ml:Metrics for classifier RandomForestClassifier3: {'accuracy': 0.7976377952755905, 'precision': 0.6774553571428572, 'recall': 0.6578376519950384, 'f1': 0.6640093613789434, 'kappa': 0.6347143880383204}\n",
      "INFO:utils.ml:Metrics for classifier RandomForestClassifier4: {'accuracy': 0.7905511811023622, 'precision': 0.6697519737465574, 'recall': 0.6762492132592378, 'f1': 0.6721993401529623, 'kappa': 0.627168102135324}\n",
      "INFO:utils.ml:Metrics for classifier RandomForestClassifier5: {'accuracy': 0.7976377952755905, 'precision': 0.6762033735516572, 'recall': 0.6549608967470962, 'f1': 0.661400697660383, 'kappa': 0.6344574707803408}\n",
      "INFO:utils.ml:Metrics for classifier RandomForestClassifier6: {'accuracy': 0.7850393700787401, 'precision': 0.6638545222629609, 'recall': 0.6659879964217631, 'f1': 0.664182399096107, 'kappa': 0.6162725835941616}\n",
      "INFO:utils.ml:Metrics for classifier RandomForestClassifier7: {'accuracy': 0.8023622047244094, 'precision': 0.6841587369720362, 'recall': 0.6582661531710222, 'f1': 0.6661850038042731, 'kappa': 0.6421450863288354}\n",
      "INFO:utils.ml:Metrics for classifier XGBClassifier8: {'accuracy': 0.8299212598425196, 'precision': 0.7059846348420585, 'recall': 0.6975656344073338, 'f1': 0.701043344339983, 'kappa': 0.6934328104674501}\n",
      "INFO:utils.ml:Metrics for classifier XGBClassifier9: {'accuracy': 0.8291338582677166, 'precision': 0.7027932328259231, 'recall': 0.6873775148292914, 'f1': 0.6934850309923375, 'kappa': 0.6906625180715318}\n",
      "INFO:utils.ml:Metrics for classifier XGBClassifier10: {'accuracy': 0.8259842519685039, 'precision': 0.6992581602923774, 'recall': 0.684877840616215, 'f1': 0.6906870306428362, 'kappa': 0.6849760030888448}\n"
     ]
    },
    {
     "name": "stdout",
     "output_type": "stream",
     "text": [
      "cannot access local variable 'report' where it is not associated with a value\n",
      "cannot access local variable 'report' where it is not associated with a value\n",
      "cannot access local variable 'report' where it is not associated with a value\n",
      "cannot access local variable 'report' where it is not associated with a value\n",
      "cannot access local variable 'report' where it is not associated with a value\n",
      "cannot access local variable 'report' where it is not associated with a value\n",
      "cannot access local variable 'report' where it is not associated with a value\n",
      "cannot access local variable 'report' where it is not associated with a value\n",
      "cannot access local variable 'report' where it is not associated with a value\n",
      "cannot access local variable 'report' where it is not associated with a value\n",
      "cannot access local variable 'report' where it is not associated with a value\n",
      "cannot access local variable 'report' where it is not associated with a value\n"
     ]
    },
    {
     "name": "stderr",
     "output_type": "stream",
     "text": [
      "INFO:utils.ml:Metrics for classifier XGBClassifier11: {'accuracy': 0.7771653543307087, 'precision': 0.6521047914459501, 'recall': 0.6801426505620801, 'f1': 0.6611362019354973, 'kappa': 0.6109169719486953}\n",
      "INFO:utils.ml:Metrics for classifier XGBClassifier12: {'accuracy': 0.8354330708661417, 'precision': 0.7437161094326767, 'recall': 0.7161017130720837, 'f1': 0.7271585414677966, 'kappa': 0.701600428099902}\n",
      "INFO:utils.ml:Metrics for classifier XGBClassifier13: {'accuracy': 0.8228346456692913, 'precision': 0.7071829652939098, 'recall': 0.6920746438966184, 'f1': 0.6982685234223954, 'kappa': 0.6796136751983424}\n"
     ]
    },
    {
     "name": "stdout",
     "output_type": "stream",
     "text": [
      "cannot access local variable 'report' where it is not associated with a value\n",
      "cannot access local variable 'report' where it is not associated with a value\n",
      "cannot access local variable 'report' where it is not associated with a value\n"
     ]
    },
    {
     "name": "stderr",
     "output_type": "stream",
     "text": [
      "INFO:utils.ml:Metrics for classifier XGBClassifier14: {'accuracy': 0.8212598425196851, 'precision': 0.7086295119983866, 'recall': 0.6902028499361156, 'f1': 0.6977487291212782, 'kappa': 0.6761456058522732}\n",
      "INFO:utils.ml:Metrics for classifier XGBClassifier15: {'accuracy': 0.8322834645669291, 'precision': 0.7322278168008207, 'recall': 0.719533251313167, 'f1': 0.7252085874313358, 'kappa': 0.6970202680907494}\n",
      "INFO:utils.ml:Metrics for classifier XGBClassifier16: {'accuracy': 0.8299212598425196, 'precision': 0.7213470390286237, 'recall': 0.7150038678532621, 'f1': 0.7178345762004555, 'kappa': 0.6937394775976099}\n",
      "INFO:utils.ml:Metrics for classifier XGBClassifier17: {'accuracy': 0.8338582677165355, 'precision': 0.7307948004688676, 'recall': 0.7057773553260301, 'f1': 0.7158224831151574, 'kappa': 0.6983787166603634}\n",
      "INFO:utils.ml:Metrics for classifier XGBClassifier18: {'accuracy': 0.8322834645669291, 'precision': 0.7250721075546586, 'recall': 0.6988628587027454, 'f1': 0.7090501310104288, 'kappa': 0.6953043689823429}\n"
     ]
    },
    {
     "name": "stdout",
     "output_type": "stream",
     "text": [
      "cannot access local variable 'report' where it is not associated with a value\n",
      "cannot access local variable 'report' where it is not associated with a value\n",
      "cannot access local variable 'report' where it is not associated with a value\n",
      "cannot access local variable 'report' where it is not associated with a value\n",
      "cannot access local variable 'report' where it is not associated with a value\n"
     ]
    },
    {
     "data": {
      "text/plain": [
       "                         accuracy  precision    recall        f1     kappa\n",
       "GT                       1.000000   1.000000  1.000000  1.000000  1.000000\n",
       "RandomForestClassifier0  0.793701   0.679111  0.678393  0.677851  0.631313\n",
       "RandomForestClassifier1  0.792913   0.672767  0.667461  0.668035  0.630093\n",
       "RandomForestClassifier2  0.794488   0.674326  0.672954  0.672857  0.632189\n",
       "RandomForestClassifier3  0.797638   0.677455  0.657838  0.664009  0.634714\n",
       "RandomForestClassifier4  0.790551   0.669752  0.676249  0.672199  0.627168\n",
       "RandomForestClassifier5  0.797638   0.676203  0.654961  0.661401  0.634457\n",
       "RandomForestClassifier6  0.785039   0.663855  0.665988  0.664182  0.616273\n",
       "RandomForestClassifier7  0.802362   0.684159  0.658266  0.666185  0.642145\n",
       "XGBClassifier8           0.829921   0.705985  0.697566  0.701043  0.693433\n",
       "XGBClassifier9           0.829134   0.702793  0.687378  0.693485  0.690663\n",
       "XGBClassifier10          0.825984   0.699258  0.684878  0.690687  0.684976\n",
       "XGBClassifier11          0.777165   0.652105  0.680143  0.661136  0.610917\n",
       "XGBClassifier12          0.835433   0.743716  0.716102  0.727159  0.701600\n",
       "XGBClassifier13          0.822835   0.707183  0.692075  0.698269  0.679614\n",
       "XGBClassifier14          0.821260   0.708630  0.690203  0.697749  0.676146\n",
       "XGBClassifier15          0.832283   0.732228  0.719533  0.725209  0.697020\n",
       "XGBClassifier16          0.829921   0.721347  0.715004  0.717835  0.693739\n",
       "XGBClassifier17          0.833858   0.730795  0.705777  0.715822  0.698379\n",
       "XGBClassifier18          0.832283   0.725072  0.698863  0.709050  0.695304"
      ],
      "text/html": [
       "<div>\n",
       "<style scoped>\n",
       "    .dataframe tbody tr th:only-of-type {\n",
       "        vertical-align: middle;\n",
       "    }\n",
       "\n",
       "    .dataframe tbody tr th {\n",
       "        vertical-align: top;\n",
       "    }\n",
       "\n",
       "    .dataframe thead th {\n",
       "        text-align: right;\n",
       "    }\n",
       "</style>\n",
       "<table border=\"1\" class=\"dataframe\">\n",
       "  <thead>\n",
       "    <tr style=\"text-align: right;\">\n",
       "      <th></th>\n",
       "      <th>accuracy</th>\n",
       "      <th>precision</th>\n",
       "      <th>recall</th>\n",
       "      <th>f1</th>\n",
       "      <th>kappa</th>\n",
       "    </tr>\n",
       "  </thead>\n",
       "  <tbody>\n",
       "    <tr>\n",
       "      <th>GT</th>\n",
       "      <td>1.000000</td>\n",
       "      <td>1.000000</td>\n",
       "      <td>1.000000</td>\n",
       "      <td>1.000000</td>\n",
       "      <td>1.000000</td>\n",
       "    </tr>\n",
       "    <tr>\n",
       "      <th>RandomForestClassifier0</th>\n",
       "      <td>0.793701</td>\n",
       "      <td>0.679111</td>\n",
       "      <td>0.678393</td>\n",
       "      <td>0.677851</td>\n",
       "      <td>0.631313</td>\n",
       "    </tr>\n",
       "    <tr>\n",
       "      <th>RandomForestClassifier1</th>\n",
       "      <td>0.792913</td>\n",
       "      <td>0.672767</td>\n",
       "      <td>0.667461</td>\n",
       "      <td>0.668035</td>\n",
       "      <td>0.630093</td>\n",
       "    </tr>\n",
       "    <tr>\n",
       "      <th>RandomForestClassifier2</th>\n",
       "      <td>0.794488</td>\n",
       "      <td>0.674326</td>\n",
       "      <td>0.672954</td>\n",
       "      <td>0.672857</td>\n",
       "      <td>0.632189</td>\n",
       "    </tr>\n",
       "    <tr>\n",
       "      <th>RandomForestClassifier3</th>\n",
       "      <td>0.797638</td>\n",
       "      <td>0.677455</td>\n",
       "      <td>0.657838</td>\n",
       "      <td>0.664009</td>\n",
       "      <td>0.634714</td>\n",
       "    </tr>\n",
       "    <tr>\n",
       "      <th>RandomForestClassifier4</th>\n",
       "      <td>0.790551</td>\n",
       "      <td>0.669752</td>\n",
       "      <td>0.676249</td>\n",
       "      <td>0.672199</td>\n",
       "      <td>0.627168</td>\n",
       "    </tr>\n",
       "    <tr>\n",
       "      <th>RandomForestClassifier5</th>\n",
       "      <td>0.797638</td>\n",
       "      <td>0.676203</td>\n",
       "      <td>0.654961</td>\n",
       "      <td>0.661401</td>\n",
       "      <td>0.634457</td>\n",
       "    </tr>\n",
       "    <tr>\n",
       "      <th>RandomForestClassifier6</th>\n",
       "      <td>0.785039</td>\n",
       "      <td>0.663855</td>\n",
       "      <td>0.665988</td>\n",
       "      <td>0.664182</td>\n",
       "      <td>0.616273</td>\n",
       "    </tr>\n",
       "    <tr>\n",
       "      <th>RandomForestClassifier7</th>\n",
       "      <td>0.802362</td>\n",
       "      <td>0.684159</td>\n",
       "      <td>0.658266</td>\n",
       "      <td>0.666185</td>\n",
       "      <td>0.642145</td>\n",
       "    </tr>\n",
       "    <tr>\n",
       "      <th>XGBClassifier8</th>\n",
       "      <td>0.829921</td>\n",
       "      <td>0.705985</td>\n",
       "      <td>0.697566</td>\n",
       "      <td>0.701043</td>\n",
       "      <td>0.693433</td>\n",
       "    </tr>\n",
       "    <tr>\n",
       "      <th>XGBClassifier9</th>\n",
       "      <td>0.829134</td>\n",
       "      <td>0.702793</td>\n",
       "      <td>0.687378</td>\n",
       "      <td>0.693485</td>\n",
       "      <td>0.690663</td>\n",
       "    </tr>\n",
       "    <tr>\n",
       "      <th>XGBClassifier10</th>\n",
       "      <td>0.825984</td>\n",
       "      <td>0.699258</td>\n",
       "      <td>0.684878</td>\n",
       "      <td>0.690687</td>\n",
       "      <td>0.684976</td>\n",
       "    </tr>\n",
       "    <tr>\n",
       "      <th>XGBClassifier11</th>\n",
       "      <td>0.777165</td>\n",
       "      <td>0.652105</td>\n",
       "      <td>0.680143</td>\n",
       "      <td>0.661136</td>\n",
       "      <td>0.610917</td>\n",
       "    </tr>\n",
       "    <tr>\n",
       "      <th>XGBClassifier12</th>\n",
       "      <td>0.835433</td>\n",
       "      <td>0.743716</td>\n",
       "      <td>0.716102</td>\n",
       "      <td>0.727159</td>\n",
       "      <td>0.701600</td>\n",
       "    </tr>\n",
       "    <tr>\n",
       "      <th>XGBClassifier13</th>\n",
       "      <td>0.822835</td>\n",
       "      <td>0.707183</td>\n",
       "      <td>0.692075</td>\n",
       "      <td>0.698269</td>\n",
       "      <td>0.679614</td>\n",
       "    </tr>\n",
       "    <tr>\n",
       "      <th>XGBClassifier14</th>\n",
       "      <td>0.821260</td>\n",
       "      <td>0.708630</td>\n",
       "      <td>0.690203</td>\n",
       "      <td>0.697749</td>\n",
       "      <td>0.676146</td>\n",
       "    </tr>\n",
       "    <tr>\n",
       "      <th>XGBClassifier15</th>\n",
       "      <td>0.832283</td>\n",
       "      <td>0.732228</td>\n",
       "      <td>0.719533</td>\n",
       "      <td>0.725209</td>\n",
       "      <td>0.697020</td>\n",
       "    </tr>\n",
       "    <tr>\n",
       "      <th>XGBClassifier16</th>\n",
       "      <td>0.829921</td>\n",
       "      <td>0.721347</td>\n",
       "      <td>0.715004</td>\n",
       "      <td>0.717835</td>\n",
       "      <td>0.693739</td>\n",
       "    </tr>\n",
       "    <tr>\n",
       "      <th>XGBClassifier17</th>\n",
       "      <td>0.833858</td>\n",
       "      <td>0.730795</td>\n",
       "      <td>0.705777</td>\n",
       "      <td>0.715822</td>\n",
       "      <td>0.698379</td>\n",
       "    </tr>\n",
       "    <tr>\n",
       "      <th>XGBClassifier18</th>\n",
       "      <td>0.832283</td>\n",
       "      <td>0.725072</td>\n",
       "      <td>0.698863</td>\n",
       "      <td>0.709050</td>\n",
       "      <td>0.695304</td>\n",
       "    </tr>\n",
       "  </tbody>\n",
       "</table>\n",
       "</div>"
      ]
     },
     "execution_count": 17,
     "metadata": {},
     "output_type": "execute_result"
    }
   ],
   "execution_count": 17
  },
  {
   "metadata": {
    "ExecuteTime": {
     "end_time": "2024-11-02T15:59:18.077989Z",
     "start_time": "2024-11-02T15:59:18.066999Z"
    }
   },
   "cell_type": "code",
   "source": "confusion_matrix(pipeline.predictions[\"GT\"], pipeline.predictions[\"XGBClassifier14\"])",
   "id": "5e3d245571ac5c69",
   "outputs": [
    {
     "data": {
      "text/plain": [
       "array([[414,  55,  29],\n",
       "       [ 70, 595,  13],\n",
       "       [ 38,  22,  34]], dtype=int64)"
      ]
     },
     "execution_count": 18,
     "metadata": {},
     "output_type": "execute_result"
    }
   ],
   "execution_count": 18
  },
  {
   "metadata": {
    "ExecuteTime": {
     "end_time": "2024-11-02T15:15:47.707952800Z",
     "start_time": "2024-11-01T23:43:47.197755Z"
    }
   },
   "cell_type": "code",
   "source": "",
   "id": "66872df202609437",
   "outputs": [],
   "execution_count": null
  }
 ],
 "metadata": {
  "kernelspec": {
   "display_name": "Python 3",
   "language": "python",
   "name": "python3"
  },
  "language_info": {
   "codemirror_mode": {
    "name": "ipython",
    "version": 2
   },
   "file_extension": ".py",
   "mimetype": "text/x-python",
   "name": "python",
   "nbconvert_exporter": "python",
   "pygments_lexer": "ipython2",
   "version": "2.7.6"
  }
 },
 "nbformat": 4,
 "nbformat_minor": 5
}

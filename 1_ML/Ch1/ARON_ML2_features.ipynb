{
 "cells": [
  {
   "cell_type": "code",
   "id": "initial_id",
   "metadata": {
    "collapsed": true,
    "ExecuteTime": {
     "end_time": "2024-10-30T15:27:12.394033Z",
     "start_time": "2024-10-30T15:27:12.389395Z"
    }
   },
   "source": [
    "import time\n",
    "\n",
    "from utils.loader import FactoryLoader\n",
    "from utils.ml import MLPipeline\n",
    "from utils.preprocessing import PreprocessingFactory\n",
    "from utils.feature_extraction import *\n",
    "from utils.utils import *\n",
    "\n",
    "VAL_PATH = r\"C:\\Users\\gimes\\Src\\repos\\CADx-Project\\dataset\\binary\\val\"\n",
    "TRAIN_PATH = r\"C:\\Users\\gimes\\Src\\repos\\CADx-Project\\dataset\\binary\\train\""
   ],
   "outputs": [],
   "execution_count": 13
  },
  {
   "metadata": {
    "ExecuteTime": {
     "end_time": "2024-10-30T15:27:24.630606Z",
     "start_time": "2024-10-30T15:27:24.551327Z"
    }
   },
   "cell_type": "code",
   "source": [
    "percent = 100\n",
    "random = False\n",
    "\n",
    "# Initialize the FactoryLoader\n",
    "factory = PreprocessingFactory()\n",
    "factory.gaussian_smoothing(3)\n",
    "factory.clahe(clip_limit=3)\n",
    "factory.pad2square(fill=np.nan)\n",
    "factory.resize((150,150))\n",
    "factory.hair_removal()\n",
    "factory.normalize2float()\n",
    "\n",
    "factory_loader = FactoryLoader(path=VAL_PATH, batch_size=32, factory=factory, percentage=percent, shuffle=random)\n",
    "\n",
    "# Create the feature extraction pipeline strategy and add desired features\n",
    "strategy = FeatureExtractionStrategy()\n",
    "\n",
    "strategy.add_extractor(MeanExtractor())  # Add mean feature\n",
    "strategy.add_extractor(StdExtractor())   # Add standard deviation feature\n",
    "strategy.add_extractor(VarExtractor())   # Add variance feature\n",
    "\n",
    "strategy.add_extractor(MeanExtractor(\"lab\"))  # Add mean feature\n",
    "strategy.add_extractor(StdExtractor(\"lab\"))   # Add standard deviation feature\n",
    "strategy.add_extractor(VarExtractor(\"lab\"))   # Add variance feature\n",
    "\n",
    "strategy.add_extractor(MeanExtractor(\"hsv\"))  # Add mean feature\n",
    "strategy.add_extractor(StdExtractor(\"hsv\"))   # Add standard deviation feature\n",
    "strategy.add_extractor(VarExtractor(\"hsv\"))   # Add variance feature\n",
    "\n",
    "strategy.add_extractor(LBPExtractor(radius=1, n_points=8))\n",
    "strategy.add_extractor(LBPExtractor(radius=1, n_points=16))\n",
    "\n",
    "strategy.add_extractor(GLCMExtractor(properties=['contrast', 'dissimilarity', 'homogeneity', 'energy', 'correlation',]))\n",
    "\n",
    "pipeline = MLPipeline(dataset_path=TRAIN_PATH, preprocessing_factory=factory, feature_strategy=strategy, classifiers=[], percentage=percent, verbose=True, shuffle=random)"
   ],
   "id": "d7c81ba220d9e517",
   "outputs": [
    {
     "name": "stderr",
     "output_type": "stream",
     "text": [
      "INFO:utils.ml:MLPipeline initialized with dataset path: C:\\Users\\gimes\\Src\\repos\\CADx-Project\\dataset\\binary\\train\n",
      "INFO:utils.ml:Preprocessing steps\n"
     ]
    }
   ],
   "execution_count": 14
  },
  {
   "metadata": {
    "ExecuteTime": {
     "end_time": "2024-10-30T15:27:26.118643Z",
     "start_time": "2024-10-30T15:27:26.113903Z"
    }
   },
   "cell_type": "code",
   "source": "pipeline.loader.get_transformation_steps()",
   "id": "47f9aebfed114248",
   "outputs": [
    {
     "data": {
      "text/plain": [
       "{'smoothing': {'kernel_size': 3},\n",
       " 'clahe': {'clip_limit': 3, 'tile_grid_size': (8, 8)},\n",
       " 'pad2square': {'fill': nan},\n",
       " 'resize': {'size': (150, 150)},\n",
       " 'hair_removal': {},\n",
       " '01_norm': {}}"
      ]
     },
     "execution_count": 15,
     "metadata": {},
     "output_type": "execute_result"
    }
   ],
   "execution_count": 15
  },
  {
   "metadata": {
    "ExecuteTime": {
     "end_time": "2024-10-30T15:27:30.353725Z",
     "start_time": "2024-10-30T15:27:30.341884Z"
    }
   },
   "cell_type": "code",
   "source": "pipeline.get_feature_names()",
   "id": "87ee5770c8038594",
   "outputs": [
    {
     "data": {
      "text/plain": [
       "['mean_rgb_channel_0',\n",
       " 'mean_rgb_channel_1',\n",
       " 'mean_rgb_channel_2',\n",
       " 'std_rgb_channel_0',\n",
       " 'std_rgb_channel_1',\n",
       " 'std_rgb_channel_2',\n",
       " 'var_rgb_channel_0',\n",
       " 'var_rgb_channel_1',\n",
       " 'var_rgb_channel_2',\n",
       " 'mean_lab_channel_0',\n",
       " 'mean_lab_channel_1',\n",
       " 'mean_lab_channel_2',\n",
       " 'std_lab_channel_0',\n",
       " 'std_lab_channel_1',\n",
       " 'std_lab_channel_2',\n",
       " 'var_lab_channel_0',\n",
       " 'var_lab_channel_1',\n",
       " 'var_lab_channel_2',\n",
       " 'mean_hsv_channel_0',\n",
       " 'mean_hsv_channel_1',\n",
       " 'mean_hsv_channel_2',\n",
       " 'std_hsv_channel_0',\n",
       " 'std_hsv_channel_1',\n",
       " 'std_hsv_channel_2',\n",
       " 'var_hsv_channel_0',\n",
       " 'var_hsv_channel_1',\n",
       " 'var_hsv_channel_2',\n",
       " 'lbp_rad1_bins8_0',\n",
       " 'lbp_rad1_bins8_1',\n",
       " 'lbp_rad1_bins8_2',\n",
       " 'lbp_rad1_bins8_3',\n",
       " 'lbp_rad1_bins8_4',\n",
       " 'lbp_rad1_bins8_5',\n",
       " 'lbp_rad1_bins8_6',\n",
       " 'lbp_rad1_bins8_7',\n",
       " 'lbp_rad1_bins8_8',\n",
       " 'lbp_rad1_bins8_9',\n",
       " 'lbp_rad1_bins16_0',\n",
       " 'lbp_rad1_bins16_1',\n",
       " 'lbp_rad1_bins16_2',\n",
       " 'lbp_rad1_bins16_3',\n",
       " 'lbp_rad1_bins16_4',\n",
       " 'lbp_rad1_bins16_5',\n",
       " 'lbp_rad1_bins16_6',\n",
       " 'lbp_rad1_bins16_7',\n",
       " 'lbp_rad1_bins16_8',\n",
       " 'lbp_rad1_bins16_9',\n",
       " 'lbp_rad1_bins16_10',\n",
       " 'lbp_rad1_bins16_11',\n",
       " 'lbp_rad1_bins16_12',\n",
       " 'lbp_rad1_bins16_13',\n",
       " 'lbp_rad1_bins16_14',\n",
       " 'lbp_rad1_bins16_15',\n",
       " 'lbp_rad1_bins16_16',\n",
       " 'lbp_rad1_bins16_17',\n",
       " 'glcm_contrast_dist_1_angle_0',\n",
       " 'glcm_dissimilarity_dist_1_angle_0',\n",
       " 'glcm_homogeneity_dist_1_angle_0',\n",
       " 'glcm_energy_dist_1_angle_0',\n",
       " 'glcm_correlation_dist_1_angle_0']"
      ]
     },
     "execution_count": 16,
     "metadata": {},
     "output_type": "execute_result"
    }
   ],
   "execution_count": 16
  },
  {
   "metadata": {
    "ExecuteTime": {
     "end_time": "2024-10-30T15:51:03.629928Z",
     "start_time": "2024-10-30T15:27:31.898237Z"
    }
   },
   "cell_type": "code",
   "source": "pipeline.run_feature_extraction()",
   "id": "21f510c52296a049",
   "outputs": [
    {
     "name": "stderr",
     "output_type": "stream",
     "text": [
      "INFO:utils.ml:Running feature extraction...\n"
     ]
    },
    {
     "name": "stdout",
     "output_type": "stream",
     "text": [
      "Processed 5/634 batches.\n",
      "Processed 10/634 batches.\n",
      "Processed 15/634 batches.\n",
      "Processed 20/634 batches.\n",
      "Processed 25/634 batches.\n",
      "Processed 30/634 batches.\n",
      "Processed 35/634 batches.\n",
      "Processed 40/634 batches.\n",
      "Processed 45/634 batches.\n",
      "Processed 50/634 batches.\n",
      "Processed 55/634 batches.\n",
      "Processed 60/634 batches.\n",
      "Processed 65/634 batches.\n",
      "Processed 70/634 batches.\n",
      "Processed 75/634 batches.\n",
      "Processed 80/634 batches.\n",
      "Processed 85/634 batches.\n",
      "Processed 90/634 batches.\n",
      "Processed 95/634 batches.\n",
      "Processed 100/634 batches.\n",
      "Processed 105/634 batches.\n",
      "Processed 110/634 batches.\n",
      "Processed 115/634 batches.\n",
      "Processed 120/634 batches.\n",
      "Processed 125/634 batches.\n",
      "Processed 130/634 batches.\n",
      "Processed 135/634 batches.\n",
      "Processed 140/634 batches.\n",
      "Processed 145/634 batches.\n",
      "Processed 150/634 batches.\n",
      "Processed 155/634 batches.\n",
      "Processed 160/634 batches.\n",
      "Processed 165/634 batches.\n",
      "Processed 170/634 batches.\n",
      "Processed 175/634 batches.\n",
      "Processed 180/634 batches.\n",
      "Processed 185/634 batches.\n",
      "Processed 190/634 batches.\n",
      "Processed 195/634 batches.\n",
      "Processed 200/634 batches.\n",
      "Processed 205/634 batches.\n",
      "Processed 210/634 batches.\n",
      "Processed 215/634 batches.\n",
      "Processed 220/634 batches.\n",
      "Processed 225/634 batches.\n",
      "Processed 230/634 batches.\n",
      "Processed 235/634 batches.\n",
      "Processed 240/634 batches.\n",
      "Processed 245/634 batches.\n",
      "Processed 250/634 batches.\n",
      "Processed 255/634 batches.\n",
      "Processed 260/634 batches.\n",
      "Processed 265/634 batches.\n",
      "Processed 270/634 batches.\n",
      "Processed 275/634 batches.\n",
      "Processed 280/634 batches.\n",
      "Processed 285/634 batches.\n",
      "Processed 290/634 batches.\n",
      "Processed 295/634 batches.\n",
      "Processed 300/634 batches.\n",
      "Processed 305/634 batches.\n",
      "Processed 310/634 batches.\n",
      "Processed 315/634 batches.\n",
      "Processed 320/634 batches.\n",
      "Processed 325/634 batches.\n",
      "Processed 330/634 batches.\n",
      "Processed 335/634 batches.\n",
      "Processed 340/634 batches.\n",
      "Processed 345/634 batches.\n",
      "Processed 350/634 batches.\n",
      "Processed 355/634 batches.\n",
      "Processed 360/634 batches.\n",
      "Processed 365/634 batches.\n",
      "Processed 370/634 batches.\n",
      "Processed 375/634 batches.\n",
      "Processed 380/634 batches.\n",
      "Processed 385/634 batches.\n",
      "Processed 390/634 batches.\n",
      "Processed 395/634 batches.\n",
      "Processed 400/634 batches.\n",
      "Processed 405/634 batches.\n",
      "Processed 410/634 batches.\n",
      "Processed 415/634 batches.\n",
      "Processed 420/634 batches.\n",
      "Processed 425/634 batches.\n",
      "Processed 430/634 batches.\n",
      "Processed 435/634 batches.\n",
      "Processed 440/634 batches.\n",
      "Processed 445/634 batches.\n",
      "Processed 450/634 batches.\n",
      "Processed 455/634 batches.\n",
      "Processed 460/634 batches.\n",
      "Processed 465/634 batches.\n",
      "Processed 470/634 batches.\n",
      "Processed 475/634 batches.\n",
      "Processed 480/634 batches.\n",
      "Processed 485/634 batches.\n",
      "Processed 490/634 batches.\n",
      "Processed 495/634 batches.\n",
      "Processed 500/634 batches.\n",
      "Processed 505/634 batches.\n",
      "Processed 510/634 batches.\n",
      "Processed 515/634 batches.\n",
      "Processed 520/634 batches.\n",
      "Processed 525/634 batches.\n",
      "Processed 530/634 batches.\n",
      "Processed 535/634 batches.\n",
      "Processed 540/634 batches.\n",
      "Processed 545/634 batches.\n",
      "Processed 550/634 batches.\n",
      "Processed 555/634 batches.\n",
      "Processed 560/634 batches.\n",
      "Processed 565/634 batches.\n",
      "Processed 570/634 batches.\n",
      "Processed 575/634 batches.\n",
      "Processed 580/634 batches.\n",
      "Processed 585/634 batches.\n",
      "Processed 590/634 batches.\n",
      "Processed 595/634 batches.\n",
      "Processed 600/634 batches.\n",
      "Processed 605/634 batches.\n",
      "Processed 610/634 batches.\n",
      "Processed 615/634 batches.\n",
      "Processed 620/634 batches.\n",
      "Processed 625/634 batches.\n",
      "Processed 630/634 batches.\n"
     ]
    },
    {
     "name": "stderr",
     "output_type": "stream",
     "text": [
      "INFO:utils.ml:Feature extraction completed. Extracted 15195 features.\n"
     ]
    },
    {
     "name": "stdout",
     "output_type": "stream",
     "text": [
      "Processed 634/634 batches.\n"
     ]
    }
   ],
   "execution_count": 17
  },
  {
   "metadata": {
    "ExecuteTime": {
     "end_time": "2024-10-30T15:51:03.739616Z",
     "start_time": "2024-10-30T15:51:03.655181Z"
    }
   },
   "cell_type": "code",
   "source": [
    "from xgboost import XGBClassifier\n",
    "from sklearn.ensemble import RandomForestClassifier\n",
    "\n",
    "rf1 = RandomForestClassifier(n_estimators=100)\n",
    "rf2 = RandomForestClassifier(n_estimators=150)\n",
    "rf3 = RandomForestClassifier(n_estimators=250)\n",
    "\n",
    "xgb1 = XGBClassifier(n_estimators=250)\n",
    "xgb2 = XGBClassifier(n_estimators=350)\n",
    "xgb3 = XGBClassifier(n_estimators=450)\n",
    "\n",
    "pipeline.classifiers = [rf1, rf2, rf3,\n",
    "                        # svm1, svm2, svm3, svm6, svm7, svm8,\n",
    "                        xgb1, xgb2, xgb3]"
   ],
   "id": "74470ba20848a156",
   "outputs": [],
   "execution_count": 18
  },
  {
   "metadata": {
    "ExecuteTime": {
     "end_time": "2024-10-30T15:53:40.672757Z",
     "start_time": "2024-10-30T15:51:03.905450Z"
    }
   },
   "cell_type": "code",
   "source": "pipeline.fit_classifiers()",
   "id": "5269ac4d3392fbae",
   "outputs": [
    {
     "name": "stderr",
     "output_type": "stream",
     "text": [
      "INFO:utils.ml:Fitting classifiers...\n",
      "INFO:utils.ml:Fitting classifier: RandomForestClassifier0\n",
      "INFO:utils.ml:Fitted classifier: RandomForestClassifier0; Done in 22.863141536712646 seconds\n",
      "INFO:utils.ml:Fitting classifier: RandomForestClassifier1\n",
      "INFO:utils.ml:Fitted classifier: RandomForestClassifier1; Done in 35.46800994873047 seconds\n",
      "INFO:utils.ml:Fitting classifier: RandomForestClassifier2\n",
      "INFO:utils.ml:Fitted classifier: RandomForestClassifier2; Done in 59.546653747558594 seconds\n",
      "INFO:utils.ml:Fitting classifier: XGBClassifier3\n",
      "INFO:utils.ml:Fitted classifier: XGBClassifier3; Done in 9.264241695404053 seconds\n",
      "INFO:utils.ml:Fitting classifier: XGBClassifier4\n",
      "INFO:utils.ml:Fitted classifier: XGBClassifier4; Done in 13.182026863098145 seconds\n",
      "INFO:utils.ml:Fitting classifier: XGBClassifier5\n",
      "INFO:utils.ml:Fitted classifier: XGBClassifier5; Done in 16.433799028396606 seconds\n",
      "INFO:utils.ml:Fitting completed in 156.76 seconds.\n"
     ]
    }
   ],
   "execution_count": 19
  },
  {
   "metadata": {
    "ExecuteTime": {
     "end_time": "2024-10-30T15:58:17.754877Z",
     "start_time": "2024-10-30T15:53:40.700959Z"
    }
   },
   "cell_type": "code",
   "source": "pipeline.predict_with_classifiers(VAL_PATH)",
   "id": "f71e18a07f5ee7bb",
   "outputs": [
    {
     "name": "stderr",
     "output_type": "stream",
     "text": [
      "INFO:utils.ml:Predicting with classifiers on dataset: C:\\Users\\gimes\\Src\\repos\\CADx-Project\\dataset\\binary\\val\n"
     ]
    },
    {
     "name": "stdout",
     "output_type": "stream",
     "text": [
      "Processed 5/159 batches.\n",
      "Processed 10/159 batches.\n",
      "Processed 15/159 batches.\n",
      "Processed 20/159 batches.\n",
      "Processed 25/159 batches.\n",
      "Processed 30/159 batches.\n",
      "Processed 35/159 batches.\n",
      "Processed 40/159 batches.\n",
      "Processed 45/159 batches.\n",
      "Processed 50/159 batches.\n",
      "Processed 55/159 batches.\n",
      "Processed 60/159 batches.\n",
      "Processed 65/159 batches.\n",
      "Processed 70/159 batches.\n",
      "Processed 75/159 batches.\n",
      "Processed 80/159 batches.\n",
      "Processed 85/159 batches.\n",
      "Processed 90/159 batches.\n",
      "Processed 95/159 batches.\n",
      "Processed 100/159 batches.\n",
      "Processed 105/159 batches.\n",
      "Processed 110/159 batches.\n",
      "Processed 115/159 batches.\n",
      "Processed 120/159 batches.\n",
      "Processed 125/159 batches.\n",
      "Processed 130/159 batches.\n",
      "Processed 135/159 batches.\n",
      "Processed 140/159 batches.\n",
      "Processed 145/159 batches.\n",
      "Processed 150/159 batches.\n",
      "Processed 155/159 batches.\n"
     ]
    },
    {
     "name": "stderr",
     "output_type": "stream",
     "text": [
      "INFO:utils.ml:Predictions made with classifier: RandomForestClassifier0\n",
      "INFO:utils.ml:Predictions made with classifier: RandomForestClassifier1\n"
     ]
    },
    {
     "name": "stdout",
     "output_type": "stream",
     "text": [
      "Processed 159/159 batches.\n"
     ]
    },
    {
     "name": "stderr",
     "output_type": "stream",
     "text": [
      "INFO:utils.ml:Predictions made with classifier: RandomForestClassifier2\n",
      "INFO:utils.ml:Predictions made with classifier: XGBClassifier3\n",
      "INFO:utils.ml:Predictions made with classifier: XGBClassifier4\n",
      "INFO:utils.ml:Predictions made with classifier: XGBClassifier5\n"
     ]
    },
    {
     "data": {
      "text/plain": [
       "{'GT': array([0, 0, 0, ..., 1, 1, 1]),\n",
       " 'RandomForestClassifier0': array([0, 0, 1, ..., 0, 0, 1]),\n",
       " 'RandomForestClassifier1': array([0, 0, 1, ..., 0, 0, 1]),\n",
       " 'RandomForestClassifier2': array([0, 0, 1, ..., 0, 0, 1]),\n",
       " 'XGBClassifier3': array([0, 0, 0, ..., 0, 0, 1]),\n",
       " 'XGBClassifier4': array([0, 0, 0, ..., 1, 0, 1]),\n",
       " 'XGBClassifier5': array([0, 0, 0, ..., 0, 0, 1])}"
      ]
     },
     "execution_count": 20,
     "metadata": {},
     "output_type": "execute_result"
    }
   ],
   "execution_count": 20
  },
  {
   "metadata": {
    "ExecuteTime": {
     "end_time": "2024-10-30T15:58:17.899620Z",
     "start_time": "2024-10-30T15:58:17.843140Z"
    }
   },
   "cell_type": "code",
   "source": [
    "import pandas as pd\n",
    "\n",
    "df = pd.DataFrame(data=pipeline.calculate_metrics())\n",
    "df.T"
   ],
   "id": "751fad2660242db5",
   "outputs": [
    {
     "name": "stderr",
     "output_type": "stream",
     "text": [
      "INFO:utils.ml:Metrics for classifier GT: {'accuracy': 1.0, 'precision': 1.0, 'recall': 1.0, 'f1': 1.0}\n",
      "INFO:utils.ml:Metrics for classifier RandomForestClassifier0: {'accuracy': 0.8011064278187566, 'precision': 0.8012165555899041, 'recall': 0.8011064278187566, 'f1': 0.8011209637398138}\n",
      "INFO:utils.ml:Metrics for classifier RandomForestClassifier1: {'accuracy': 0.8016332982086407, 'precision': 0.8018315239845138, 'recall': 0.8016332982086407, 'f1': 0.8016477948270808}\n",
      "INFO:utils.ml:Metrics for classifier RandomForestClassifier2: {'accuracy': 0.804004214963119, 'precision': 0.8041782193283306, 'recall': 0.804004214963119, 'f1': 0.8040189057549869}\n",
      "INFO:utils.ml:Metrics for classifier XGBClassifier3: {'accuracy': 0.7992623814541623, 'precision': 0.7992543354824547, 'recall': 0.7992623814541623, 'f1': 0.799256361178513}\n",
      "INFO:utils.ml:Metrics for classifier XGBClassifier4: {'accuracy': 0.8016332982086407, 'precision': 0.8016246771683114, 'recall': 0.8016332982086407, 'f1': 0.8016262610408437}\n",
      "INFO:utils.ml:Metrics for classifier XGBClassifier5: {'accuracy': 0.8047945205479452, 'precision': 0.8047855676873094, 'recall': 0.8047945205479452, 'f1': 0.8047806018637899}\n"
     ]
    },
    {
     "data": {
      "text/plain": [
       "                         accuracy  precision    recall        f1\n",
       "GT                       1.000000   1.000000  1.000000  1.000000\n",
       "RandomForestClassifier0  0.801106   0.801217  0.801106  0.801121\n",
       "RandomForestClassifier1  0.801633   0.801832  0.801633  0.801648\n",
       "RandomForestClassifier2  0.804004   0.804178  0.804004  0.804019\n",
       "XGBClassifier3           0.799262   0.799254  0.799262  0.799256\n",
       "XGBClassifier4           0.801633   0.801625  0.801633  0.801626\n",
       "XGBClassifier5           0.804795   0.804786  0.804795  0.804781"
      ],
      "text/html": [
       "<div>\n",
       "<style scoped>\n",
       "    .dataframe tbody tr th:only-of-type {\n",
       "        vertical-align: middle;\n",
       "    }\n",
       "\n",
       "    .dataframe tbody tr th {\n",
       "        vertical-align: top;\n",
       "    }\n",
       "\n",
       "    .dataframe thead th {\n",
       "        text-align: right;\n",
       "    }\n",
       "</style>\n",
       "<table border=\"1\" class=\"dataframe\">\n",
       "  <thead>\n",
       "    <tr style=\"text-align: right;\">\n",
       "      <th></th>\n",
       "      <th>accuracy</th>\n",
       "      <th>precision</th>\n",
       "      <th>recall</th>\n",
       "      <th>f1</th>\n",
       "    </tr>\n",
       "  </thead>\n",
       "  <tbody>\n",
       "    <tr>\n",
       "      <th>GT</th>\n",
       "      <td>1.000000</td>\n",
       "      <td>1.000000</td>\n",
       "      <td>1.000000</td>\n",
       "      <td>1.000000</td>\n",
       "    </tr>\n",
       "    <tr>\n",
       "      <th>RandomForestClassifier0</th>\n",
       "      <td>0.801106</td>\n",
       "      <td>0.801217</td>\n",
       "      <td>0.801106</td>\n",
       "      <td>0.801121</td>\n",
       "    </tr>\n",
       "    <tr>\n",
       "      <th>RandomForestClassifier1</th>\n",
       "      <td>0.801633</td>\n",
       "      <td>0.801832</td>\n",
       "      <td>0.801633</td>\n",
       "      <td>0.801648</td>\n",
       "    </tr>\n",
       "    <tr>\n",
       "      <th>RandomForestClassifier2</th>\n",
       "      <td>0.804004</td>\n",
       "      <td>0.804178</td>\n",
       "      <td>0.804004</td>\n",
       "      <td>0.804019</td>\n",
       "    </tr>\n",
       "    <tr>\n",
       "      <th>XGBClassifier3</th>\n",
       "      <td>0.799262</td>\n",
       "      <td>0.799254</td>\n",
       "      <td>0.799262</td>\n",
       "      <td>0.799256</td>\n",
       "    </tr>\n",
       "    <tr>\n",
       "      <th>XGBClassifier4</th>\n",
       "      <td>0.801633</td>\n",
       "      <td>0.801625</td>\n",
       "      <td>0.801633</td>\n",
       "      <td>0.801626</td>\n",
       "    </tr>\n",
       "    <tr>\n",
       "      <th>XGBClassifier5</th>\n",
       "      <td>0.804795</td>\n",
       "      <td>0.804786</td>\n",
       "      <td>0.804795</td>\n",
       "      <td>0.804781</td>\n",
       "    </tr>\n",
       "  </tbody>\n",
       "</table>\n",
       "</div>"
      ]
     },
     "execution_count": 22,
     "metadata": {},
     "output_type": "execute_result"
    }
   ],
   "execution_count": 22
  },
  {
   "metadata": {
    "ExecuteTime": {
     "end_time": "2024-10-30T15:58:17.942602Z",
     "start_time": "2024-10-30T15:58:17.936280Z"
    }
   },
   "cell_type": "code",
   "source": "pipeline.get_feature_names()",
   "id": "78ce2dcb0269d91b",
   "outputs": [
    {
     "data": {
      "text/plain": [
       "['mean_rgb_channel_0',\n",
       " 'mean_rgb_channel_1',\n",
       " 'mean_rgb_channel_2',\n",
       " 'std_rgb_channel_0',\n",
       " 'std_rgb_channel_1',\n",
       " 'std_rgb_channel_2',\n",
       " 'var_rgb_channel_0',\n",
       " 'var_rgb_channel_1',\n",
       " 'var_rgb_channel_2',\n",
       " 'mean_lab_channel_0',\n",
       " 'mean_lab_channel_1',\n",
       " 'mean_lab_channel_2',\n",
       " 'std_lab_channel_0',\n",
       " 'std_lab_channel_1',\n",
       " 'std_lab_channel_2',\n",
       " 'var_lab_channel_0',\n",
       " 'var_lab_channel_1',\n",
       " 'var_lab_channel_2',\n",
       " 'mean_hsv_channel_0',\n",
       " 'mean_hsv_channel_1',\n",
       " 'mean_hsv_channel_2',\n",
       " 'std_hsv_channel_0',\n",
       " 'std_hsv_channel_1',\n",
       " 'std_hsv_channel_2',\n",
       " 'var_hsv_channel_0',\n",
       " 'var_hsv_channel_1',\n",
       " 'var_hsv_channel_2',\n",
       " 'lbp_rad1_bins8_0',\n",
       " 'lbp_rad1_bins8_1',\n",
       " 'lbp_rad1_bins8_2',\n",
       " 'lbp_rad1_bins8_3',\n",
       " 'lbp_rad1_bins8_4',\n",
       " 'lbp_rad1_bins8_5',\n",
       " 'lbp_rad1_bins8_6',\n",
       " 'lbp_rad1_bins8_7',\n",
       " 'lbp_rad1_bins8_8',\n",
       " 'lbp_rad1_bins8_9',\n",
       " 'lbp_rad1_bins16_0',\n",
       " 'lbp_rad1_bins16_1',\n",
       " 'lbp_rad1_bins16_2',\n",
       " 'lbp_rad1_bins16_3',\n",
       " 'lbp_rad1_bins16_4',\n",
       " 'lbp_rad1_bins16_5',\n",
       " 'lbp_rad1_bins16_6',\n",
       " 'lbp_rad1_bins16_7',\n",
       " 'lbp_rad1_bins16_8',\n",
       " 'lbp_rad1_bins16_9',\n",
       " 'lbp_rad1_bins16_10',\n",
       " 'lbp_rad1_bins16_11',\n",
       " 'lbp_rad1_bins16_12',\n",
       " 'lbp_rad1_bins16_13',\n",
       " 'lbp_rad1_bins16_14',\n",
       " 'lbp_rad1_bins16_15',\n",
       " 'lbp_rad1_bins16_16',\n",
       " 'lbp_rad1_bins16_17',\n",
       " 'glcm_contrast_dist_1_angle_0',\n",
       " 'glcm_dissimilarity_dist_1_angle_0',\n",
       " 'glcm_homogeneity_dist_1_angle_0',\n",
       " 'glcm_energy_dist_1_angle_0',\n",
       " 'glcm_correlation_dist_1_angle_0']"
      ]
     },
     "execution_count": 23,
     "metadata": {},
     "output_type": "execute_result"
    }
   ],
   "execution_count": 23
  },
  {
   "metadata": {
    "ExecuteTime": {
     "end_time": "2024-10-30T17:58:19.272155Z",
     "start_time": "2024-10-30T17:58:07.186453Z"
    }
   },
   "cell_type": "code",
   "source": "pipeline.save_feature_matrix_to_excel()",
   "id": "8983c3f52d9f4ceb",
   "outputs": [
    {
     "name": "stderr",
     "output_type": "stream",
     "text": [
      "INFO:utils.ml:Saving feature matrix to Excel...\n",
      "INFO:utils.ml:Feature matrix saved to ./features_smoothing_clahe_pad2square_resize_hair_removal_01_norm.xlsx\n"
     ]
    },
    {
     "data": {
      "text/plain": [
       "1730311099.264234"
      ]
     },
     "execution_count": 30,
     "metadata": {},
     "output_type": "execute_result"
    }
   ],
   "execution_count": 30
  },
  {
   "metadata": {
    "ExecuteTime": {
     "end_time": "2024-10-30T17:49:55.362109Z",
     "start_time": "2024-10-30T17:49:55.331223Z"
    }
   },
   "cell_type": "code",
   "source": "pipeline.get_preprocessing_steps()",
   "id": "3c8f72f2a78d96fc",
   "outputs": [
    {
     "data": {
      "text/plain": [
       "{'smoothing': {'kernel_size': 3},\n",
       " 'clahe': {'clip_limit': 3, 'tile_grid_size': (8, 8)},\n",
       " 'pad2square': {'fill': nan},\n",
       " 'resize': {'size': (150, 150)},\n",
       " 'hair_removal': {},\n",
       " '01_norm': {}}"
      ]
     },
     "execution_count": 29,
     "metadata": {},
     "output_type": "execute_result"
    }
   ],
   "execution_count": 29
  },
  {
   "metadata": {},
   "cell_type": "code",
   "outputs": [],
   "execution_count": null,
   "source": "",
   "id": "bd38f8f370aaf4c7"
  }
 ],
 "metadata": {
  "kernelspec": {
   "display_name": "Python 3",
   "language": "python",
   "name": "python3"
  },
  "language_info": {
   "codemirror_mode": {
    "name": "ipython",
    "version": 2
   },
   "file_extension": ".py",
   "mimetype": "text/x-python",
   "name": "python",
   "nbconvert_exporter": "python",
   "pygments_lexer": "ipython2",
   "version": "2.7.6"
  }
 },
 "nbformat": 4,
 "nbformat_minor": 5
}

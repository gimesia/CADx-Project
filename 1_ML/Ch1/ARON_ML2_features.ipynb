{
 "cells": [
  {
   "cell_type": "code",
   "id": "initial_id",
   "metadata": {
    "collapsed": true,
    "ExecuteTime": {
     "end_time": "2024-10-28T16:43:50.503275Z",
     "start_time": "2024-10-28T16:43:42.302443Z"
    }
   },
   "source": [
    "from utils.loader import FactoryLoader\n",
    "from utils.ml import MLPipeline\n",
    "from utils.preprocessing import PreprocessingFactory\n",
    "from utils.feature_extraction import *\n",
    "from utils.utils import *\n",
    "\n",
    "VAL_PATH = r\"C:\\Users\\gimes\\Src\\repos\\CADx-Project\\dataset\\binary\\val\"\n",
    "TRAIN_PATH = r\"C:\\Users\\gimes\\Src\\repos\\CADx-Project\\dataset\\binary\\train\""
   ],
   "outputs": [],
   "execution_count": 1
  },
  {
   "metadata": {
    "ExecuteTime": {
     "end_time": "2024-10-28T16:43:50.595849Z",
     "start_time": "2024-10-28T16:43:50.513785Z"
    }
   },
   "cell_type": "code",
   "source": [
    "percent = 100\n",
    "random = False\n",
    "\n",
    "# Initialize the FactoryLoader\n",
    "factory = PreprocessingFactory()\n",
    "factory.gaussian_smoothing(5)\n",
    "factory.clahe()\n",
    "factory.hair_removal()\n",
    "factory.normalize2float()\n",
    "factory.pad2square(fill=np.nan)\n",
    "factory.resize((200,200))\n",
    "\n",
    "factory_loader = FactoryLoader(path=VAL_PATH, batch_size=24, factory=factory, percentage=percent, shuffle=random)\n",
    "\n",
    "# Create the feature extraction pipeline strategy and add desired features\n",
    "strategy = FeatureExtractionStrategy()\n",
    "\n",
    "strategy.add_extractor(MeanExtractor())  # Add mean feature\n",
    "strategy.add_extractor(StdExtractor())   # Add standard deviation feature\n",
    "strategy.add_extractor(VarExtractor())   # Add variance feature\n",
    "\n",
    "strategy.add_extractor(StdExtractor(\"lab\"))   # Add standard deviation feature\n",
    "strategy.add_extractor(VarExtractor(\"lab\"))   # Add variance feature\n",
    "\n",
    "strategy.add_extractor(StdExtractor(\"hsv\"))   # Add standard deviation feature\n",
    "strategy.add_extractor(VarExtractor(\"hsv\"))   # Add variance feature\n",
    "\n",
    "strategy.add_extractor(LBPExtractor(radius=1, n_points=8))\n",
    "strategy.add_extractor(LBPExtractor(radius=1, n_points=16))\n",
    "\n",
    "strategy.add_extractor(GLCMExtractor(properties=['contrast', 'dissimilarity', 'homogeneity', 'energy', 'correlation',]))\n",
    "\n",
    "pipeline = MLPipeline(dataset_path=TRAIN_PATH, preprocessing_factory=factory, feature_strategy=strategy, classifiers=[], percentage=percent, verbose=True, shuffle=random)"
   ],
   "id": "d7c81ba220d9e517",
   "outputs": [
    {
     "name": "stderr",
     "output_type": "stream",
     "text": [
      "INFO:utils.ml:MLPipeline initialized with dataset path: C:\\Users\\gimes\\Src\\repos\\CADx-Project\\dataset\\binary\\train\n",
      "INFO:utils.ml:Preprocessing steps\n"
     ]
    }
   ],
   "execution_count": 2
  },
  {
   "metadata": {
    "ExecuteTime": {
     "end_time": "2024-10-28T16:43:50.704127Z",
     "start_time": "2024-10-28T16:43:50.689464Z"
    }
   },
   "cell_type": "code",
   "source": "pipeline.loader.get_transformation_steps()",
   "id": "47f9aebfed114248",
   "outputs": [
    {
     "data": {
      "text/plain": [
       "{'smoothing': {'kernel_size': 5},\n",
       " 'clahe': {'clip_limit': 2.0, 'tile_grid_size': (8, 8)},\n",
       " 'hair_removal': {},\n",
       " '01_norm': {},\n",
       " 'pad2square': {'fill': nan},\n",
       " 'resize': {'size': (200, 200)}}"
      ]
     },
     "execution_count": 3,
     "metadata": {},
     "output_type": "execute_result"
    }
   ],
   "execution_count": 3
  },
  {
   "metadata": {
    "ExecuteTime": {
     "end_time": "2024-10-28T16:43:50.729388Z",
     "start_time": "2024-10-28T16:43:50.716141Z"
    }
   },
   "cell_type": "code",
   "source": "pipeline.get_feature_names()",
   "id": "87ee5770c8038594",
   "outputs": [
    {
     "data": {
      "text/plain": [
       "['mean_rgb_channel_0',\n",
       " 'mean_rgb_channel_1',\n",
       " 'mean_rgb_channel_2',\n",
       " 'std_rgb_channel_0',\n",
       " 'std_rgb_channel_1',\n",
       " 'std_rgb_channel_2',\n",
       " 'var_rgb_channel_0',\n",
       " 'var_rgb_channel_1',\n",
       " 'var_rgb_channel_2',\n",
       " 'std_lab_channel_0',\n",
       " 'std_lab_channel_1',\n",
       " 'std_lab_channel_2',\n",
       " 'var_lab_channel_0',\n",
       " 'var_lab_channel_1',\n",
       " 'var_lab_channel_2',\n",
       " 'std_hsv_channel_0',\n",
       " 'std_hsv_channel_1',\n",
       " 'std_hsv_channel_2',\n",
       " 'var_hsv_channel_0',\n",
       " 'var_hsv_channel_1',\n",
       " 'var_hsv_channel_2',\n",
       " 'lbp_rad1_bins8_0',\n",
       " 'lbp_rad1_bins8_1',\n",
       " 'lbp_rad1_bins8_2',\n",
       " 'lbp_rad1_bins8_3',\n",
       " 'lbp_rad1_bins8_4',\n",
       " 'lbp_rad1_bins8_5',\n",
       " 'lbp_rad1_bins8_6',\n",
       " 'lbp_rad1_bins8_7',\n",
       " 'lbp_rad1_bins8_8',\n",
       " 'lbp_rad1_bins8_9',\n",
       " 'lbp_rad1_bins16_0',\n",
       " 'lbp_rad1_bins16_1',\n",
       " 'lbp_rad1_bins16_2',\n",
       " 'lbp_rad1_bins16_3',\n",
       " 'lbp_rad1_bins16_4',\n",
       " 'lbp_rad1_bins16_5',\n",
       " 'lbp_rad1_bins16_6',\n",
       " 'lbp_rad1_bins16_7',\n",
       " 'lbp_rad1_bins16_8',\n",
       " 'lbp_rad1_bins16_9',\n",
       " 'lbp_rad1_bins16_10',\n",
       " 'lbp_rad1_bins16_11',\n",
       " 'lbp_rad1_bins16_12',\n",
       " 'lbp_rad1_bins16_13',\n",
       " 'lbp_rad1_bins16_14',\n",
       " 'lbp_rad1_bins16_15',\n",
       " 'lbp_rad1_bins16_16',\n",
       " 'lbp_rad1_bins16_17',\n",
       " 'glcm_contrast_dist_1_angle_0',\n",
       " 'glcm_dissimilarity_dist_1_angle_0',\n",
       " 'glcm_homogeneity_dist_1_angle_0',\n",
       " 'glcm_energy_dist_1_angle_0',\n",
       " 'glcm_correlation_dist_1_angle_0']"
      ]
     },
     "execution_count": 4,
     "metadata": {},
     "output_type": "execute_result"
    }
   ],
   "execution_count": 4
  },
  {
   "metadata": {
    "ExecuteTime": {
     "end_time": "2024-10-28T17:06:20.692448Z",
     "start_time": "2024-10-28T16:43:50.740739Z"
    }
   },
   "cell_type": "code",
   "source": "pipeline.run_feature_extraction()",
   "id": "21f510c52296a049",
   "outputs": [
    {
     "name": "stderr",
     "output_type": "stream",
     "text": [
      "INFO:utils.ml:Running feature extraction...\n"
     ]
    },
    {
     "name": "stdout",
     "output_type": "stream",
     "text": [
      "Processed 5/475 batches.\n",
      "Processed 10/475 batches.\n",
      "Processed 15/475 batches.\n",
      "Processed 20/475 batches.\n",
      "Processed 25/475 batches.\n",
      "Processed 30/475 batches.\n",
      "Processed 35/475 batches.\n",
      "Processed 40/475 batches.\n",
      "Processed 45/475 batches.\n",
      "Processed 50/475 batches.\n",
      "Processed 55/475 batches.\n",
      "Processed 60/475 batches.\n",
      "Processed 65/475 batches.\n",
      "Processed 70/475 batches.\n",
      "Processed 75/475 batches.\n",
      "Processed 80/475 batches.\n",
      "Processed 85/475 batches.\n",
      "Processed 90/475 batches.\n",
      "Processed 95/475 batches.\n",
      "Processed 100/475 batches.\n",
      "Processed 105/475 batches.\n",
      "Processed 110/475 batches.\n",
      "Processed 115/475 batches.\n",
      "Processed 120/475 batches.\n",
      "Processed 125/475 batches.\n",
      "Processed 130/475 batches.\n",
      "Processed 135/475 batches.\n",
      "Processed 140/475 batches.\n",
      "Processed 145/475 batches.\n",
      "Processed 150/475 batches.\n",
      "Processed 155/475 batches.\n",
      "Processed 160/475 batches.\n",
      "Processed 165/475 batches.\n",
      "Processed 170/475 batches.\n",
      "Processed 175/475 batches.\n",
      "Processed 180/475 batches.\n",
      "Processed 185/475 batches.\n",
      "Processed 190/475 batches.\n",
      "Processed 195/475 batches.\n",
      "Processed 200/475 batches.\n",
      "Processed 205/475 batches.\n",
      "Processed 210/475 batches.\n",
      "Processed 215/475 batches.\n",
      "Processed 220/475 batches.\n",
      "Processed 225/475 batches.\n",
      "Processed 230/475 batches.\n",
      "Processed 235/475 batches.\n",
      "Processed 240/475 batches.\n",
      "Processed 245/475 batches.\n",
      "Processed 250/475 batches.\n",
      "Processed 255/475 batches.\n",
      "Processed 260/475 batches.\n",
      "Processed 265/475 batches.\n",
      "Processed 270/475 batches.\n",
      "Processed 275/475 batches.\n",
      "Processed 280/475 batches.\n",
      "Processed 285/475 batches.\n",
      "Processed 290/475 batches.\n",
      "Processed 295/475 batches.\n",
      "Processed 300/475 batches.\n",
      "Processed 305/475 batches.\n",
      "Processed 310/475 batches.\n",
      "Processed 315/475 batches.\n",
      "Processed 320/475 batches.\n",
      "Processed 325/475 batches.\n",
      "Processed 330/475 batches.\n",
      "Processed 335/475 batches.\n",
      "Processed 340/475 batches.\n",
      "Processed 345/475 batches.\n",
      "Processed 350/475 batches.\n",
      "Processed 355/475 batches.\n",
      "Processed 360/475 batches.\n",
      "Processed 365/475 batches.\n",
      "Processed 370/475 batches.\n",
      "Processed 375/475 batches.\n",
      "Processed 380/475 batches.\n",
      "Processed 385/475 batches.\n",
      "Processed 390/475 batches.\n",
      "Processed 395/475 batches.\n",
      "Processed 400/475 batches.\n",
      "Processed 405/475 batches.\n",
      "Processed 410/475 batches.\n",
      "Processed 415/475 batches.\n",
      "Processed 420/475 batches.\n",
      "Processed 425/475 batches.\n",
      "Processed 430/475 batches.\n",
      "Processed 435/475 batches.\n",
      "Processed 440/475 batches.\n",
      "Processed 445/475 batches.\n",
      "Processed 450/475 batches.\n",
      "Processed 455/475 batches.\n",
      "Processed 460/475 batches.\n",
      "Processed 465/475 batches.\n",
      "Processed 470/475 batches.\n"
     ]
    },
    {
     "name": "stderr",
     "output_type": "stream",
     "text": [
      "INFO:utils.ml:Feature extraction completed. Extracted 15195 features.\n"
     ]
    },
    {
     "name": "stdout",
     "output_type": "stream",
     "text": [
      "Processed 475/475 batches.\n"
     ]
    }
   ],
   "execution_count": 5
  },
  {
   "metadata": {
    "ExecuteTime": {
     "end_time": "2024-10-28T17:06:20.705163Z",
     "start_time": "2024-10-28T17:06:20.702965Z"
    }
   },
   "cell_type": "code",
   "source": "",
   "id": "74470ba20848a156",
   "outputs": [],
   "execution_count": null
  }
 ],
 "metadata": {
  "kernelspec": {
   "display_name": "Python 3",
   "language": "python",
   "name": "python3"
  },
  "language_info": {
   "codemirror_mode": {
    "name": "ipython",
    "version": 2
   },
   "file_extension": ".py",
   "mimetype": "text/x-python",
   "name": "python",
   "nbconvert_exporter": "python",
   "pygments_lexer": "ipython2",
   "version": "2.7.6"
  }
 },
 "nbformat": 4,
 "nbformat_minor": 5
}

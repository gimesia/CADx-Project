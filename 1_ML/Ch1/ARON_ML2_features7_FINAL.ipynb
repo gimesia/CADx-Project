{
 "cells": [
  {
   "metadata": {},
   "cell_type": "markdown",
   "source": [
    "# ML pipeline for the binary classification task (Challange 1)\n",
    "Developed by Pablo BETANCUR and Aron GIMESI\n",
    "\n",
    "*For the whole history of experiments, utility classes and functions, visit the GitHub repository at:*\n",
    "https://github.com/gimesia/CADx-Project\n",
    "___"
   ],
   "id": "8b8d49e8695e1e2d"
  },
  {
   "cell_type": "code",
   "id": "initial_id",
   "metadata": {
    "collapsed": true,
    "ExecuteTime": {
     "end_time": "2024-11-03T23:00:31.218240Z",
     "start_time": "2024-11-03T23:00:31.209800Z"
    }
   },
   "source": [
    "from utils.loader import FactoryLoader\n",
    "from utils.ml import MLPipeline\n",
    "from utils.preprocessing import PreprocessingFactory\n",
    "from utils.feature_extraction import *\n",
    "from utils.utils import *\n",
    "\n",
    "VAL_PATH = r\"C:\\Users\\gimes\\Src\\repos\\CADx-Project\\dataset\\binary\\val\"\n",
    "TRAIN_PATH = r\"C:\\Users\\gimes\\Src\\repos\\CADx-Project\\dataset\\binary\\train\"\n",
    "TEST_PATH = r\"C:\\Users\\gimes\\Src\\repos\\CADx-Project\\dataset\\binary\\test\""
   ],
   "outputs": [],
   "execution_count": 20
  },
  {
   "metadata": {
    "ExecuteTime": {
     "end_time": "2024-11-03T20:21:28.388997Z",
     "start_time": "2024-11-03T20:21:28.336281Z"
    }
   },
   "cell_type": "code",
   "source": [
    "percent = 100\n",
    "random = False\n",
    "batch_size = 24\n",
    "\n",
    "# Initialize the FactoryLoader\n",
    "factory = PreprocessingFactory()\n",
    "factory.pad2square(fill=np.nan)\n",
    "factory.resize((240,240))\n",
    "factory.normalize2float()\n",
    "\n",
    "# Create the feature extraction pipeline strategy and add desired features\n",
    "strategy = FeatureExtractionStrategy()\n",
    "\n",
    "strategy.add_extractor(GradientExtractor()) # Add gradient feature\n",
    "\n",
    "strategy.add_extractor(ColorMomentsExtractor(\"rgb\", ))   # Add color moments feature\n",
    "strategy.add_extractor(ColorMomentsExtractor(\"lab\", ))   # Add color moments feature\n",
    "strategy.add_extractor(ColorMomentsExtractor(\"hsv\", ))   # Add color moments feature\n",
    "\n",
    "strategy.add_extractor(LBPExtractor(radius=1, n_points=8))\n",
    "strategy.add_extractor(LBPExtractor(radius=2, n_points=16))\n",
    "strategy.add_extractor(LBPExtractor(radius=3, n_points=24))\n",
    "strategy.add_extractor(LBPExtractor(radius=4, n_points=32))\n",
    "strategy.add_extractor(LBPExtractor(radius=5, n_points=40))\n",
    "\n",
    "strategy.add_extractor(FourierTransformExtractor())\n",
    "strategy.add_extractor(FFTExtractor())\n",
    "\n",
    "strategy.add_extractor(GLCMExtractor(properties=['contrast', 'dissimilarity', 'homogeneity', 'energy', 'correlation', \"ASM\"]))\n",
    "\n",
    "pipeline = MLPipeline(dataset_path=TRAIN_PATH, preprocessing_factory=factory, feature_strategy=strategy, classifiers=[], percentage=percent, verbose=True, shuffle=random, batch_size=batch_size)"
   ],
   "id": "d7c81ba220d9e517",
   "outputs": [
    {
     "name": "stderr",
     "output_type": "stream",
     "text": [
      "INFO:utils.ml:MLPipeline initialized with dataset path: C:\\Users\\gimes\\Src\\repos\\CADx-Project\\dataset\\binary\\train\n",
      "INFO:utils.ml:Preprocessing steps\n"
     ]
    }
   ],
   "execution_count": 2
  },
  {
   "metadata": {
    "ExecuteTime": {
     "end_time": "2024-11-03T21:57:37.750614Z",
     "start_time": "2024-11-03T20:53:42.816636Z"
    }
   },
   "cell_type": "code",
   "source": "pipeline.run_feature_extraction()",
   "id": "21f510c52296a049",
   "outputs": [
    {
     "name": "stderr",
     "output_type": "stream",
     "text": [
      "INFO:utils.ml:Running feature extraction...\n"
     ]
    },
    {
     "name": "stdout",
     "output_type": "stream",
     "text": [
      "Processed 5/634 batches.\n",
      "Processed 10/634 batches.\n",
      "Processed 15/634 batches.\n",
      "Processed 20/634 batches.\n",
      "Processed 25/634 batches.\n",
      "Processed 30/634 batches.\n",
      "Processed 35/634 batches.\n",
      "Processed 40/634 batches.\n",
      "Processed 45/634 batches.\n",
      "Processed 50/634 batches.\n",
      "Processed 55/634 batches.\n",
      "Processed 60/634 batches.\n",
      "Processed 65/634 batches.\n",
      "Processed 70/634 batches.\n",
      "Processed 75/634 batches.\n",
      "Processed 80/634 batches.\n",
      "Processed 85/634 batches.\n",
      "Processed 90/634 batches.\n",
      "Processed 95/634 batches.\n",
      "Processed 100/634 batches.\n",
      "Processed 105/634 batches.\n",
      "Processed 110/634 batches.\n",
      "Processed 115/634 batches.\n",
      "Processed 120/634 batches.\n",
      "Processed 125/634 batches.\n",
      "Processed 130/634 batches.\n",
      "Processed 135/634 batches.\n",
      "Processed 140/634 batches.\n",
      "Processed 145/634 batches.\n",
      "Processed 150/634 batches.\n",
      "Processed 155/634 batches.\n",
      "Processed 160/634 batches.\n",
      "Processed 165/634 batches.\n",
      "Processed 170/634 batches.\n",
      "Processed 175/634 batches.\n",
      "Processed 180/634 batches.\n",
      "Processed 185/634 batches.\n",
      "Processed 190/634 batches.\n",
      "Processed 195/634 batches.\n",
      "Processed 200/634 batches.\n",
      "Processed 205/634 batches.\n",
      "Processed 210/634 batches.\n",
      "Processed 215/634 batches.\n",
      "Processed 220/634 batches.\n",
      "Processed 225/634 batches.\n",
      "Processed 230/634 batches.\n",
      "Processed 235/634 batches.\n",
      "Processed 240/634 batches.\n",
      "Processed 245/634 batches.\n",
      "Processed 250/634 batches.\n",
      "Processed 255/634 batches.\n",
      "Processed 260/634 batches.\n",
      "Processed 265/634 batches.\n",
      "Processed 270/634 batches.\n",
      "Processed 275/634 batches.\n",
      "Processed 280/634 batches.\n",
      "Processed 285/634 batches.\n",
      "Processed 290/634 batches.\n",
      "Processed 295/634 batches.\n",
      "Processed 300/634 batches.\n",
      "Processed 305/634 batches.\n",
      "Processed 310/634 batches.\n",
      "Processed 315/634 batches.\n",
      "Processed 320/634 batches.\n",
      "Processed 325/634 batches.\n",
      "Processed 330/634 batches.\n",
      "Processed 335/634 batches.\n",
      "Processed 340/634 batches.\n",
      "Processed 345/634 batches.\n",
      "Processed 350/634 batches.\n",
      "Processed 355/634 batches.\n",
      "Processed 360/634 batches.\n",
      "Processed 365/634 batches.\n",
      "Processed 370/634 batches.\n",
      "Processed 375/634 batches.\n",
      "Processed 380/634 batches.\n",
      "Processed 385/634 batches.\n",
      "Processed 390/634 batches.\n",
      "Processed 395/634 batches.\n",
      "Processed 400/634 batches.\n",
      "Processed 405/634 batches.\n",
      "Processed 410/634 batches.\n",
      "Processed 415/634 batches.\n",
      "Processed 420/634 batches.\n",
      "Processed 425/634 batches.\n",
      "Processed 430/634 batches.\n",
      "Processed 435/634 batches.\n",
      "Processed 440/634 batches.\n",
      "Processed 445/634 batches.\n",
      "Processed 450/634 batches.\n",
      "Processed 455/634 batches.\n",
      "Processed 460/634 batches.\n",
      "Processed 465/634 batches.\n",
      "Processed 470/634 batches.\n",
      "Processed 475/634 batches.\n",
      "Processed 480/634 batches.\n",
      "Processed 485/634 batches.\n",
      "Processed 490/634 batches.\n",
      "Processed 495/634 batches.\n",
      "Processed 500/634 batches.\n",
      "Processed 505/634 batches.\n",
      "Processed 510/634 batches.\n",
      "Processed 515/634 batches.\n",
      "Processed 520/634 batches.\n",
      "Processed 525/634 batches.\n",
      "Processed 530/634 batches.\n",
      "Processed 535/634 batches.\n",
      "Processed 540/634 batches.\n",
      "Processed 545/634 batches.\n",
      "Processed 550/634 batches.\n",
      "Processed 555/634 batches.\n",
      "Processed 560/634 batches.\n",
      "Processed 565/634 batches.\n",
      "Processed 570/634 batches.\n",
      "Processed 575/634 batches.\n",
      "Processed 580/634 batches.\n",
      "Processed 585/634 batches.\n",
      "Processed 590/634 batches.\n",
      "Processed 595/634 batches.\n",
      "Processed 600/634 batches.\n",
      "Processed 605/634 batches.\n",
      "Processed 610/634 batches.\n",
      "Processed 615/634 batches.\n",
      "Processed 620/634 batches.\n",
      "Processed 625/634 batches.\n",
      "Processed 630/634 batches.\n"
     ]
    },
    {
     "name": "stderr",
     "output_type": "stream",
     "text": [
      "INFO:utils.ml:Feature extraction completed. Extracted 15195 features.\n"
     ]
    },
    {
     "name": "stdout",
     "output_type": "stream",
     "text": [
      "Processed 634/634 batches.\n"
     ]
    }
   ],
   "execution_count": 4
  },
  {
   "metadata": {
    "ExecuteTime": {
     "end_time": "2024-11-04T10:19:23.840885Z",
     "start_time": "2024-11-04T10:19:23.678161Z"
    }
   },
   "cell_type": "code",
   "source": [
    "from xgboost import XGBClassifier\n",
    "from sklearn.ensemble import RandomForestClassifier\n",
    "\n",
    "xgb0 = XGBClassifier(learning_rate=0.1, n_estimators=500, max_depth=7, min_child_weight=1, subsample=0.8, colsample_bytree=0.8, random_state=42)\n",
    "xgb1 = XGBClassifier(learning_rate=0.1, n_estimators=1250, max_depth=7, min_child_weight=1, subsample=0.8, colsample_bytree=0.8, random_state=42)\n",
    "xgb2 = XGBClassifier(learning_rate=0.1, n_estimators=1250, max_depth=7, min_child_weight=1, subsample=0.8, colsample_bytree=0.8, random_state=42)\n",
    "xgb3 = XGBClassifier(learning_rate=0.1, n_estimators=1250, min_child_weight=1, subsample=0.8, colsample_bytree=0.8, random_state=42)\n",
    "xgb4 = XGBClassifier(learning_rate=0.1, n_estimators=1500, max_depth=7, min_child_weight=1, subsample=0.8, colsample_bytree=0.8, random_state=42)\n",
    "xgb5 = XGBClassifier(learning_rate=0.1, n_estimators=1500, max_depth=7, min_child_weight=1, subsample=0.8, colsample_bytree=0.8, random_state=42)\n",
    "xgb6 = XGBClassifier(learning_rate=0.1, n_estimators=1500, min_child_weight=1, subsample=0.8, colsample_bytree=0.8, random_state=42)\n",
    "xgb7 = XGBClassifier(learning_rate=0.1, n_estimators=1000, max_depth=7, min_child_weight=1, subsample=0.8, colsample_bytree=0.8, random_state=42)\n",
    "xgb8 = XGBClassifier(learning_rate=0.1, n_estimators=1000, max_depth=7, min_child_weight=1, subsample=0.8, colsample_bytree=0.8, random_state=42)\n",
    "xgb9 = XGBClassifier(learning_rate=0.1, n_estimators=1000, min_child_weight=1, subsample=0.8, colsample_bytree=0.8, random_state=42)\n",
    "xgb10 = XGBClassifier(learning_rate=0.1, n_estimators=1250, max_depth=9, min_child_weight=1, subsample=0.8, colsample_bytree=0.8, random_state=42)\n",
    "xgb11 = XGBClassifier(learning_rate=0.1, n_estimators=1250, max_depth=9, min_child_weight=2, subsample=0.8, colsample_bytree=0.8, random_state=42)\n",
    "\n",
    "pipeline.classifiers = [xgb1, xgb2, xgb3, xgb4, xgb5, xgb6, xgb7, xgb8, xgb9, xgb10, xgb11]\n",
    "pipeline.fitted_classifiers = {}"
   ],
   "id": "74470ba20848a156",
   "outputs": [],
   "execution_count": 57
  },
  {
   "metadata": {
    "ExecuteTime": {
     "end_time": "2024-11-04T10:30:23.470091Z",
     "start_time": "2024-11-04T10:19:27.204155Z"
    }
   },
   "cell_type": "code",
   "source": "pipeline.fit_classifiers()",
   "id": "5269ac4d3392fbae",
   "outputs": [
    {
     "name": "stderr",
     "output_type": "stream",
     "text": [
      "INFO:utils.ml:Fitting classifiers...\n",
      "INFO:utils.ml:Fitting classifier: XGBClassifier0\n",
      "INFO:utils.ml:Top 10 features for XGBClassifier0: [('color_moments_lab_A_min', 0.029896975), ('fft_radial_mean_160', 0.011958009), ('fft_radial_variance_44', 0.011491362), ('fft_radial_mean_153', 0.009268588), ('fft_radial_mean_168', 0.009166173), ('color_moments_hsv_V_min', 0.00868526), ('color_moments_lab_B_skew', 0.008655217), ('color_moments_rgb_B_var', 0.008541982), ('lbp_rad2_bins16_8', 0.007933629), ('fft_radial_mean_155', 0.0077383704)]\n",
      "INFO:utils.ml:Fitted classifier: XGBClassifier0; Done in 50.35639977455139 seconds\n",
      "INFO:utils.ml:Fitting classifier: XGBClassifier1\n",
      "INFO:utils.ml:Top 10 features for XGBClassifier1: [('color_moments_lab_A_min', 0.029896975), ('fft_radial_mean_160', 0.011958009), ('fft_radial_variance_44', 0.011491362), ('fft_radial_mean_153', 0.009268588), ('fft_radial_mean_168', 0.009166173), ('color_moments_hsv_V_min', 0.00868526), ('color_moments_lab_B_skew', 0.008655217), ('color_moments_rgb_B_var', 0.008541982), ('lbp_rad2_bins16_8', 0.007933629), ('fft_radial_mean_155', 0.0077383704)]\n",
      "INFO:utils.ml:Fitted classifier: XGBClassifier1; Done in 51.464364528656006 seconds\n",
      "INFO:utils.ml:Fitting classifier: XGBClassifier2\n",
      "INFO:utils.ml:Top 10 features for XGBClassifier2: [('color_moments_lab_A_min', 0.029922111), ('fft_radial_mean_164', 0.01503764), ('color_moments_rgb_B_var', 0.012306772), ('lbp_rad2_bins16_8', 0.010026935), ('color_moments_hsv_V_min', 0.009158086), ('color_moments_lab_B_skew', 0.009112696), ('color_moments_hsv_S_min', 0.0076410295), ('fft_radial_variance_48', 0.007373063), ('lbp_rad5_bins40_33', 0.0072006835), ('color_moments_hsv_H_max', 0.0070077665)]\n",
      "INFO:utils.ml:Fitted classifier: XGBClassifier2; Done in 42.45353293418884 seconds\n",
      "INFO:utils.ml:Fitting classifier: XGBClassifier3\n",
      "INFO:utils.ml:Top 10 features for XGBClassifier3: [('color_moments_lab_A_min', 0.030394414), ('fft_radial_mean_153', 0.01016678), ('fft_radial_mean_168', 0.010054439), ('color_moments_lab_B_skew', 0.008850818), ('color_moments_hsv_V_min', 0.0087942695), ('fft_radial_mean_160', 0.008752473), ('color_moments_rgb_B_var', 0.008486004), ('fft_radial_mean_111', 0.008152084), ('lbp_rad2_bins16_8', 0.007914898), ('lbp_rad5_bins40_33', 0.0074960836)]\n",
      "INFO:utils.ml:Fitted classifier: XGBClassifier3; Done in 59.2043035030365 seconds\n",
      "INFO:utils.ml:Fitting classifier: XGBClassifier4\n",
      "INFO:utils.ml:Top 10 features for XGBClassifier4: [('color_moments_lab_A_min', 0.030394414), ('fft_radial_mean_153', 0.01016678), ('fft_radial_mean_168', 0.010054439), ('color_moments_lab_B_skew', 0.008850818), ('color_moments_hsv_V_min', 0.0087942695), ('fft_radial_mean_160', 0.008752473), ('color_moments_rgb_B_var', 0.008486004), ('fft_radial_mean_111', 0.008152084), ('lbp_rad2_bins16_8', 0.007914898), ('lbp_rad5_bins40_33', 0.0074960836)]\n",
      "INFO:utils.ml:Fitted classifier: XGBClassifier4; Done in 58.4223792552948 seconds\n",
      "INFO:utils.ml:Fitting classifier: XGBClassifier5\n",
      "INFO:utils.ml:Top 10 features for XGBClassifier5: [('color_moments_lab_A_min', 0.030170592), ('fft_radial_mean_164', 0.016729077), ('color_moments_rgb_B_var', 0.011693089), ('lbp_rad2_bins16_8', 0.010046805), ('color_moments_hsv_V_min', 0.009222514), ('color_moments_lab_B_skew', 0.00921264), ('fft_radial_variance_48', 0.008202387), ('color_moments_hsv_S_min', 0.007753639), ('lbp_rad5_bins40_33', 0.0072012334), ('color_moments_hsv_H_max', 0.006990878)]\n",
      "INFO:utils.ml:Fitted classifier: XGBClassifier5; Done in 66.00578355789185 seconds\n",
      "INFO:utils.ml:Fitting classifier: XGBClassifier6\n",
      "INFO:utils.ml:Top 10 features for XGBClassifier6: [('color_moments_lab_A_min', 0.030158564), ('fft_radial_mean_153', 0.012472254), ('fft_radial_mean_111', 0.011103274), ('fft_radial_mean_160', 0.010750305), ('fft_radial_variance_44', 0.010330788), ('color_moments_lab_B_skew', 0.008710081), ('color_moments_rgb_B_var', 0.008683745), ('color_moments_hsv_V_min', 0.00843581), ('fft_radial_mean_168', 0.008240432), ('lbp_rad2_bins16_8', 0.007528094)]\n",
      "INFO:utils.ml:Fitted classifier: XGBClassifier6; Done in 60.67922258377075 seconds\n",
      "INFO:utils.ml:Fitting classifier: XGBClassifier7\n",
      "INFO:utils.ml:Top 10 features for XGBClassifier7: [('color_moments_lab_A_min', 0.030158564), ('fft_radial_mean_153', 0.012472254), ('fft_radial_mean_111', 0.011103274), ('fft_radial_mean_160', 0.010750305), ('fft_radial_variance_44', 0.010330788), ('color_moments_lab_B_skew', 0.008710081), ('color_moments_rgb_B_var', 0.008683745), ('color_moments_hsv_V_min', 0.00843581), ('fft_radial_mean_168', 0.008240432), ('lbp_rad2_bins16_8', 0.007528094)]\n",
      "INFO:utils.ml:Fitted classifier: XGBClassifier7; Done in 56.31146597862244 seconds\n",
      "INFO:utils.ml:Fitting classifier: XGBClassifier8\n",
      "INFO:utils.ml:Top 10 features for XGBClassifier8: [('color_moments_lab_A_min', 0.030696614), ('fft_radial_mean_164', 0.012979817), ('color_moments_rgb_B_var', 0.012127527), ('lbp_rad2_bins16_8', 0.010173469), ('color_moments_hsv_V_min', 0.009400221), ('color_moments_lab_B_skew', 0.008965746), ('color_moments_hsv_S_min', 0.008105204), ('fft_radial_mean_95', 0.007246762), ('lbp_rad5_bins40_33', 0.0071727918), ('lbp_rad2_bins16_1', 0.007130779)]\n",
      "INFO:utils.ml:Fitted classifier: XGBClassifier8; Done in 47.59902763366699 seconds\n",
      "INFO:utils.ml:Fitting classifier: XGBClassifier9\n",
      "INFO:utils.ml:Top 10 features for XGBClassifier9: [('color_moments_lab_A_min', 0.030951578), ('fft_radial_variance_122', 0.011519941), ('color_moments_rgb_B_var', 0.011138022), ('lbp_rad2_bins16_8', 0.01089661), ('color_moments_lab_B_skew', 0.010304031), ('fft_radial_variance_128', 0.009971004), ('fft_radial_mean_160', 0.00835225), ('color_moments_hsv_V_min', 0.007867928), ('color_moments_hsv_S_min', 0.007808311), ('lbp_rad5_bins40_33', 0.007306649)]\n",
      "INFO:utils.ml:Fitted classifier: XGBClassifier9; Done in 83.59897708892822 seconds\n",
      "INFO:utils.ml:Fitting classifier: XGBClassifier10\n",
      "INFO:utils.ml:Top 10 features for XGBClassifier10: [('color_moments_lab_A_min', 0.031777643), ('color_moments_rgb_B_var', 0.011774487), ('fft_radial_variance_40', 0.010130841), ('fft_radial_mean_151', 0.010082192), ('lbp_rad2_bins16_8', 0.009842492), ('color_moments_lab_B_skew', 0.009721578), ('color_moments_hsv_V_min', 0.009671071), ('fft_radial_mean_104', 0.009326442), ('lbp_rad5_bins40_33', 0.008113891), ('fft_radial_variance_93', 0.0077600707)]\n",
      "INFO:utils.ml:Fitted classifier: XGBClassifier10; Done in 80.15938782691956 seconds\n",
      "INFO:utils.ml:Fitting completed in 656.26 seconds.\n"
     ]
    }
   ],
   "execution_count": 58
  },
  {
   "metadata": {
    "ExecuteTime": {
     "end_time": "2024-11-04T10:46:19.993771Z",
     "start_time": "2024-11-04T10:30:23.476690Z"
    }
   },
   "cell_type": "code",
   "source": "pipeline.predict_with_classifiers(VAL_PATH)",
   "id": "f71e18a07f5ee7bb",
   "outputs": [
    {
     "name": "stderr",
     "output_type": "stream",
     "text": [
      "INFO:utils.ml:Predicting with classifiers on dataset: C:\\Users\\gimes\\Src\\repos\\CADx-Project\\dataset\\binary\\val\n"
     ]
    },
    {
     "name": "stdout",
     "output_type": "stream",
     "text": [
      "Processed 5/159 batches.\n",
      "Processed 10/159 batches.\n",
      "Processed 15/159 batches.\n",
      "Processed 20/159 batches.\n",
      "Processed 25/159 batches.\n",
      "Processed 30/159 batches.\n",
      "Processed 35/159 batches.\n",
      "Processed 40/159 batches.\n",
      "Processed 45/159 batches.\n",
      "Processed 50/159 batches.\n",
      "Processed 55/159 batches.\n",
      "Processed 60/159 batches.\n",
      "Processed 65/159 batches.\n",
      "Processed 70/159 batches.\n",
      "Processed 75/159 batches.\n",
      "Processed 80/159 batches.\n",
      "Processed 85/159 batches.\n",
      "Processed 90/159 batches.\n",
      "Processed 95/159 batches.\n",
      "Processed 100/159 batches.\n",
      "Processed 105/159 batches.\n",
      "Processed 110/159 batches.\n",
      "Processed 115/159 batches.\n",
      "Processed 120/159 batches.\n",
      "Processed 125/159 batches.\n",
      "Processed 130/159 batches.\n",
      "Processed 135/159 batches.\n",
      "Processed 140/159 batches.\n",
      "Processed 145/159 batches.\n",
      "Processed 150/159 batches.\n",
      "Processed 155/159 batches.\n"
     ]
    },
    {
     "name": "stderr",
     "output_type": "stream",
     "text": [
      "INFO:utils.ml:Predictions made with classifier: XGBClassifier0\n",
      "INFO:utils.ml:Predictions made with classifier: XGBClassifier1\n",
      "INFO:utils.ml:Predictions made with classifier: XGBClassifier2\n",
      "INFO:utils.ml:Predictions made with classifier: XGBClassifier3\n",
      "INFO:utils.ml:Predictions made with classifier: XGBClassifier4\n",
      "INFO:utils.ml:Predictions made with classifier: XGBClassifier5\n"
     ]
    },
    {
     "name": "stdout",
     "output_type": "stream",
     "text": [
      "Processed 159/159 batches.\n"
     ]
    },
    {
     "name": "stderr",
     "output_type": "stream",
     "text": [
      "INFO:utils.ml:Predictions made with classifier: XGBClassifier6\n",
      "INFO:utils.ml:Predictions made with classifier: XGBClassifier7\n",
      "INFO:utils.ml:Predictions made with classifier: XGBClassifier8\n",
      "INFO:utils.ml:Predictions made with classifier: XGBClassifier9\n",
      "INFO:utils.ml:Predictions made with classifier: XGBClassifier10\n"
     ]
    },
    {
     "data": {
      "text/plain": [
       "{'GT': array([0, 0, 0, ..., 1, 1, 1]),\n",
       " 'XGBClassifier0': array([0, 0, 0, ..., 0, 1, 1]),\n",
       " 'XGBClassifier1': array([0, 0, 0, ..., 0, 1, 1]),\n",
       " 'XGBClassifier2': array([0, 0, 0, ..., 0, 0, 1]),\n",
       " 'XGBClassifier3': array([0, 0, 0, ..., 0, 1, 1]),\n",
       " 'XGBClassifier4': array([0, 0, 0, ..., 0, 1, 1]),\n",
       " 'XGBClassifier5': array([0, 0, 0, ..., 0, 0, 1]),\n",
       " 'XGBClassifier6': array([0, 0, 0, ..., 0, 1, 1]),\n",
       " 'XGBClassifier7': array([0, 0, 0, ..., 0, 1, 1]),\n",
       " 'XGBClassifier8': array([0, 0, 0, ..., 0, 0, 1]),\n",
       " 'XGBClassifier9': array([0, 0, 0, ..., 0, 0, 1]),\n",
       " 'XGBClassifier10': array([0, 0, 0, ..., 0, 0, 1])}"
      ]
     },
     "execution_count": 59,
     "metadata": {},
     "output_type": "execute_result"
    }
   ],
   "execution_count": 59
  },
  {
   "metadata": {
    "tags": [
     "BEST 3-11"
    ],
    "ExecuteTime": {
     "end_time": "2024-11-04T12:12:42.413317Z",
     "start_time": "2024-11-04T12:12:42.284768Z"
    }
   },
   "cell_type": "code",
   "source": [
    "import pandas as pd\n",
    "\n",
    "df = pd.DataFrame(data=pipeline.calculate_metrics())\n",
    "df = df.T\n",
    "df"
   ],
   "id": "751fad2660242db5",
   "outputs": [
    {
     "name": "stderr",
     "output_type": "stream",
     "text": [
      "INFO:utils.ml:Metrics for classifier GT: {'accuracy': 1.0, 'precision': 1.0, 'recall': 1.0, 'f1': 1.0, 'kappa': 1.0}\n",
      "INFO:utils.ml:Metrics for classifier XGBClassifier0: {'accuracy': 0.8498419388830347, 'precision': 0.849832475969891, 'recall': 0.8497415527383747, 'f1': 0.8497785126592561, 'kappa': 0.6995600289814905}\n",
      "INFO:utils.ml:Metrics for classifier XGBClassifier1: {'accuracy': 0.8498419388830347, 'precision': 0.849832475969891, 'recall': 0.8497415527383747, 'f1': 0.8497785126592561, 'kappa': 0.6995600289814905}\n",
      "INFO:utils.ml:Metrics for classifier XGBClassifier2: {'accuracy': 0.8493150684931506, 'precision': 0.8492662524438122, 'recall': 0.8492786662649616, 'f1': 0.8492722234254647, 'kappa': 0.6985445305564726}\n",
      "INFO:utils.ml:Metrics for classifier XGBClassifier3: {'accuracy': 0.8495785036880927, 'precision': 0.8495573009242801, 'recall': 0.8494917828626487, 'f1': 0.8495197615716366, 'kappa': 0.6990412155673756}\n",
      "INFO:utils.ml:Metrics for classifier XGBClassifier4: {'accuracy': 0.8495785036880927, 'precision': 0.8495573009242801, 'recall': 0.8494917828626487, 'f1': 0.8495197615716366, 'kappa': 0.6990412155673756}\n",
      "INFO:utils.ml:Metrics for classifier XGBClassifier5: {'accuracy': 0.8524762908324552, 'precision': 0.8524283183157417, 'recall': 0.8524408445248471, 'f1': 0.852434344612343, 'kappa': 0.704868771174169}\n",
      "INFO:utils.ml:Metrics for classifier XGBClassifier6: {'accuracy': 0.8495785036880927, 'precision': 0.8495505448227674, 'recall': 0.8495009461821584, 'f1': 0.8495228538559388, 'kappa': 0.6990467314841864}\n",
      "INFO:utils.ml:Metrics for classifier XGBClassifier7: {'accuracy': 0.8495785036880927, 'precision': 0.8495505448227674, 'recall': 0.8495009461821584, 'f1': 0.8495228538559388, 'kappa': 0.6990467314841864}\n",
      "INFO:utils.ml:Metrics for classifier XGBClassifier8: {'accuracy': 0.8498419388830347, 'precision': 0.8497890564806653, 'recall': 0.849824022613962, 'f1': 0.8498044150443814, 'kappa': 0.6996095807512009}\n",
      "INFO:utils.ml:Metrics for classifier XGBClassifier9: {'accuracy': 0.8514225500526871, 'precision': 0.8513922835037961, 'recall': 0.8513501318268466, 'f1': 0.8513690786280224, 'kappa': 0.7027389001801385}\n",
      "INFO:utils.ml:Metrics for classifier XGBClassifier10: {'accuracy': 0.8493150684931506, 'precision': 0.8492839117516453, 'recall': 0.8492420129869228, 'f1': 0.8492608386085616, 'kappa': 0.6985224306791475}\n"
     ]
    },
    {
     "data": {
      "text/plain": [
       "                 accuracy  precision    recall        f1     kappa\n",
       "GT               1.000000   1.000000  1.000000  1.000000  1.000000\n",
       "XGBClassifier0   0.849842   0.849832  0.849742  0.849779  0.699560\n",
       "XGBClassifier1   0.849842   0.849832  0.849742  0.849779  0.699560\n",
       "XGBClassifier2   0.849315   0.849266  0.849279  0.849272  0.698545\n",
       "XGBClassifier3   0.849579   0.849557  0.849492  0.849520  0.699041\n",
       "XGBClassifier4   0.849579   0.849557  0.849492  0.849520  0.699041\n",
       "XGBClassifier5   0.852476   0.852428  0.852441  0.852434  0.704869\n",
       "XGBClassifier6   0.849579   0.849551  0.849501  0.849523  0.699047\n",
       "XGBClassifier7   0.849579   0.849551  0.849501  0.849523  0.699047\n",
       "XGBClassifier8   0.849842   0.849789  0.849824  0.849804  0.699610\n",
       "XGBClassifier9   0.851423   0.851392  0.851350  0.851369  0.702739\n",
       "XGBClassifier10  0.849315   0.849284  0.849242  0.849261  0.698522"
      ],
      "text/html": [
       "<div>\n",
       "<style scoped>\n",
       "    .dataframe tbody tr th:only-of-type {\n",
       "        vertical-align: middle;\n",
       "    }\n",
       "\n",
       "    .dataframe tbody tr th {\n",
       "        vertical-align: top;\n",
       "    }\n",
       "\n",
       "    .dataframe thead th {\n",
       "        text-align: right;\n",
       "    }\n",
       "</style>\n",
       "<table border=\"1\" class=\"dataframe\">\n",
       "  <thead>\n",
       "    <tr style=\"text-align: right;\">\n",
       "      <th></th>\n",
       "      <th>accuracy</th>\n",
       "      <th>precision</th>\n",
       "      <th>recall</th>\n",
       "      <th>f1</th>\n",
       "      <th>kappa</th>\n",
       "    </tr>\n",
       "  </thead>\n",
       "  <tbody>\n",
       "    <tr>\n",
       "      <th>GT</th>\n",
       "      <td>1.000000</td>\n",
       "      <td>1.000000</td>\n",
       "      <td>1.000000</td>\n",
       "      <td>1.000000</td>\n",
       "      <td>1.000000</td>\n",
       "    </tr>\n",
       "    <tr>\n",
       "      <th>XGBClassifier0</th>\n",
       "      <td>0.849842</td>\n",
       "      <td>0.849832</td>\n",
       "      <td>0.849742</td>\n",
       "      <td>0.849779</td>\n",
       "      <td>0.699560</td>\n",
       "    </tr>\n",
       "    <tr>\n",
       "      <th>XGBClassifier1</th>\n",
       "      <td>0.849842</td>\n",
       "      <td>0.849832</td>\n",
       "      <td>0.849742</td>\n",
       "      <td>0.849779</td>\n",
       "      <td>0.699560</td>\n",
       "    </tr>\n",
       "    <tr>\n",
       "      <th>XGBClassifier2</th>\n",
       "      <td>0.849315</td>\n",
       "      <td>0.849266</td>\n",
       "      <td>0.849279</td>\n",
       "      <td>0.849272</td>\n",
       "      <td>0.698545</td>\n",
       "    </tr>\n",
       "    <tr>\n",
       "      <th>XGBClassifier3</th>\n",
       "      <td>0.849579</td>\n",
       "      <td>0.849557</td>\n",
       "      <td>0.849492</td>\n",
       "      <td>0.849520</td>\n",
       "      <td>0.699041</td>\n",
       "    </tr>\n",
       "    <tr>\n",
       "      <th>XGBClassifier4</th>\n",
       "      <td>0.849579</td>\n",
       "      <td>0.849557</td>\n",
       "      <td>0.849492</td>\n",
       "      <td>0.849520</td>\n",
       "      <td>0.699041</td>\n",
       "    </tr>\n",
       "    <tr>\n",
       "      <th>XGBClassifier5</th>\n",
       "      <td>0.852476</td>\n",
       "      <td>0.852428</td>\n",
       "      <td>0.852441</td>\n",
       "      <td>0.852434</td>\n",
       "      <td>0.704869</td>\n",
       "    </tr>\n",
       "    <tr>\n",
       "      <th>XGBClassifier6</th>\n",
       "      <td>0.849579</td>\n",
       "      <td>0.849551</td>\n",
       "      <td>0.849501</td>\n",
       "      <td>0.849523</td>\n",
       "      <td>0.699047</td>\n",
       "    </tr>\n",
       "    <tr>\n",
       "      <th>XGBClassifier7</th>\n",
       "      <td>0.849579</td>\n",
       "      <td>0.849551</td>\n",
       "      <td>0.849501</td>\n",
       "      <td>0.849523</td>\n",
       "      <td>0.699047</td>\n",
       "    </tr>\n",
       "    <tr>\n",
       "      <th>XGBClassifier8</th>\n",
       "      <td>0.849842</td>\n",
       "      <td>0.849789</td>\n",
       "      <td>0.849824</td>\n",
       "      <td>0.849804</td>\n",
       "      <td>0.699610</td>\n",
       "    </tr>\n",
       "    <tr>\n",
       "      <th>XGBClassifier9</th>\n",
       "      <td>0.851423</td>\n",
       "      <td>0.851392</td>\n",
       "      <td>0.851350</td>\n",
       "      <td>0.851369</td>\n",
       "      <td>0.702739</td>\n",
       "    </tr>\n",
       "    <tr>\n",
       "      <th>XGBClassifier10</th>\n",
       "      <td>0.849315</td>\n",
       "      <td>0.849284</td>\n",
       "      <td>0.849242</td>\n",
       "      <td>0.849261</td>\n",
       "      <td>0.698522</td>\n",
       "    </tr>\n",
       "  </tbody>\n",
       "</table>\n",
       "</div>"
      ]
     },
     "execution_count": 84,
     "metadata": {},
     "output_type": "execute_result"
    }
   ],
   "execution_count": 84
  },
  {
   "metadata": {
    "ExecuteTime": {
     "end_time": "2024-11-04T12:12:44.003005Z",
     "start_time": "2024-11-04T12:12:43.976567Z"
    }
   },
   "cell_type": "code",
   "source": [
    "from sklearn.metrics import confusion_matrix, accuracy_score, classification_report\n",
    "\n",
    "highest = df[df[\"accuracy\"] == df.iloc[1:][\"accuracy\"].max()]\n",
    "idx = highest.index[0]\n",
    "\n",
    "print(classification_report(pipeline.predictions[\"GT\"], pipeline.predictions[idx]))\n",
    "print(confusion_matrix(pipeline.predictions[\"GT\"], pipeline.predictions[idx]))\n"
   ],
   "id": "2208e0e25786bb7e",
   "outputs": [
    {
     "name": "stdout",
     "output_type": "stream",
     "text": [
      "              precision    recall  f1-score   support\n",
      "\n",
      "           0       0.86      0.85      0.85      1931\n",
      "           1       0.85      0.85      0.85      1865\n",
      "\n",
      "    accuracy                           0.85      3796\n",
      "   macro avg       0.85      0.85      0.85      3796\n",
      "weighted avg       0.85      0.85      0.85      3796\n",
      "\n",
      "[[1650  281]\n",
      " [ 279 1586]]\n"
     ]
    }
   ],
   "execution_count": 85
  },
  {
   "metadata": {
    "ExecuteTime": {
     "end_time": "2024-11-04T12:12:44.912680Z",
     "start_time": "2024-11-04T12:12:44.892553Z"
    }
   },
   "cell_type": "code",
   "source": [
    "df_sorted = df.sort_values(\"accuracy\", ascending=False)\n",
    "df_sorted.head(8)"
   ],
   "id": "42a7454eecf3f29d",
   "outputs": [
    {
     "data": {
      "text/plain": [
       "                accuracy  precision    recall        f1     kappa\n",
       "GT              1.000000   1.000000  1.000000  1.000000  1.000000\n",
       "XGBClassifier5  0.852476   0.852428  0.852441  0.852434  0.704869\n",
       "XGBClassifier9  0.851423   0.851392  0.851350  0.851369  0.702739\n",
       "XGBClassifier0  0.849842   0.849832  0.849742  0.849779  0.699560\n",
       "XGBClassifier1  0.849842   0.849832  0.849742  0.849779  0.699560\n",
       "XGBClassifier8  0.849842   0.849789  0.849824  0.849804  0.699610\n",
       "XGBClassifier3  0.849579   0.849557  0.849492  0.849520  0.699041\n",
       "XGBClassifier4  0.849579   0.849557  0.849492  0.849520  0.699041"
      ],
      "text/html": [
       "<div>\n",
       "<style scoped>\n",
       "    .dataframe tbody tr th:only-of-type {\n",
       "        vertical-align: middle;\n",
       "    }\n",
       "\n",
       "    .dataframe tbody tr th {\n",
       "        vertical-align: top;\n",
       "    }\n",
       "\n",
       "    .dataframe thead th {\n",
       "        text-align: right;\n",
       "    }\n",
       "</style>\n",
       "<table border=\"1\" class=\"dataframe\">\n",
       "  <thead>\n",
       "    <tr style=\"text-align: right;\">\n",
       "      <th></th>\n",
       "      <th>accuracy</th>\n",
       "      <th>precision</th>\n",
       "      <th>recall</th>\n",
       "      <th>f1</th>\n",
       "      <th>kappa</th>\n",
       "    </tr>\n",
       "  </thead>\n",
       "  <tbody>\n",
       "    <tr>\n",
       "      <th>GT</th>\n",
       "      <td>1.000000</td>\n",
       "      <td>1.000000</td>\n",
       "      <td>1.000000</td>\n",
       "      <td>1.000000</td>\n",
       "      <td>1.000000</td>\n",
       "    </tr>\n",
       "    <tr>\n",
       "      <th>XGBClassifier5</th>\n",
       "      <td>0.852476</td>\n",
       "      <td>0.852428</td>\n",
       "      <td>0.852441</td>\n",
       "      <td>0.852434</td>\n",
       "      <td>0.704869</td>\n",
       "    </tr>\n",
       "    <tr>\n",
       "      <th>XGBClassifier9</th>\n",
       "      <td>0.851423</td>\n",
       "      <td>0.851392</td>\n",
       "      <td>0.851350</td>\n",
       "      <td>0.851369</td>\n",
       "      <td>0.702739</td>\n",
       "    </tr>\n",
       "    <tr>\n",
       "      <th>XGBClassifier0</th>\n",
       "      <td>0.849842</td>\n",
       "      <td>0.849832</td>\n",
       "      <td>0.849742</td>\n",
       "      <td>0.849779</td>\n",
       "      <td>0.699560</td>\n",
       "    </tr>\n",
       "    <tr>\n",
       "      <th>XGBClassifier1</th>\n",
       "      <td>0.849842</td>\n",
       "      <td>0.849832</td>\n",
       "      <td>0.849742</td>\n",
       "      <td>0.849779</td>\n",
       "      <td>0.699560</td>\n",
       "    </tr>\n",
       "    <tr>\n",
       "      <th>XGBClassifier8</th>\n",
       "      <td>0.849842</td>\n",
       "      <td>0.849789</td>\n",
       "      <td>0.849824</td>\n",
       "      <td>0.849804</td>\n",
       "      <td>0.699610</td>\n",
       "    </tr>\n",
       "    <tr>\n",
       "      <th>XGBClassifier3</th>\n",
       "      <td>0.849579</td>\n",
       "      <td>0.849557</td>\n",
       "      <td>0.849492</td>\n",
       "      <td>0.849520</td>\n",
       "      <td>0.699041</td>\n",
       "    </tr>\n",
       "    <tr>\n",
       "      <th>XGBClassifier4</th>\n",
       "      <td>0.849579</td>\n",
       "      <td>0.849557</td>\n",
       "      <td>0.849492</td>\n",
       "      <td>0.849520</td>\n",
       "      <td>0.699041</td>\n",
       "    </tr>\n",
       "  </tbody>\n",
       "</table>\n",
       "</div>"
      ]
     },
     "execution_count": 86,
     "metadata": {},
     "output_type": "execute_result"
    }
   ],
   "execution_count": 86
  },
  {
   "metadata": {},
   "cell_type": "markdown",
   "source": [
    "___\n",
    "# TEST PREDICTIONS"
   ],
   "id": "995d5c5c87614f1b"
  },
  {
   "metadata": {
    "ExecuteTime": {
     "end_time": "2024-11-03T23:31:03.264155Z",
     "start_time": "2024-11-03T23:13:54.695451Z"
    }
   },
   "cell_type": "code",
   "source": [
    "test_loader = FactoryLoader(TEST_PATH, pipeline.batch_size, factory, shuffle=False)\n",
    "\n",
    "# test_loader.show_images(100)\n",
    "\n",
    "test_feature_matrix, _ = pipeline.feature_strategy.run(test_loader.get_loader())"
   ],
   "id": "200530a0ae5b947",
   "outputs": [
    {
     "name": "stdout",
     "output_type": "stream",
     "text": [
      "Processed 5/265 batches.\n",
      "Processed 10/265 batches.\n",
      "Processed 15/265 batches.\n",
      "Processed 20/265 batches.\n",
      "Processed 25/265 batches.\n",
      "Processed 30/265 batches.\n",
      "Processed 35/265 batches.\n",
      "Processed 40/265 batches.\n",
      "Processed 45/265 batches.\n",
      "Processed 50/265 batches.\n",
      "Processed 55/265 batches.\n",
      "Processed 60/265 batches.\n",
      "Processed 65/265 batches.\n",
      "Processed 70/265 batches.\n",
      "Processed 75/265 batches.\n",
      "Processed 80/265 batches.\n",
      "Processed 85/265 batches.\n",
      "Processed 90/265 batches.\n",
      "Processed 95/265 batches.\n",
      "Processed 100/265 batches.\n",
      "Processed 105/265 batches.\n",
      "Processed 110/265 batches.\n",
      "Processed 115/265 batches.\n",
      "Processed 120/265 batches.\n",
      "Processed 125/265 batches.\n",
      "Processed 130/265 batches.\n",
      "Processed 135/265 batches.\n",
      "Processed 140/265 batches.\n",
      "Processed 145/265 batches.\n",
      "Processed 150/265 batches.\n",
      "Processed 155/265 batches.\n",
      "Processed 160/265 batches.\n",
      "Processed 165/265 batches.\n",
      "Processed 170/265 batches.\n",
      "Processed 175/265 batches.\n",
      "Processed 180/265 batches.\n",
      "Processed 185/265 batches.\n",
      "Processed 190/265 batches.\n",
      "Processed 195/265 batches.\n",
      "Processed 200/265 batches.\n",
      "Processed 205/265 batches.\n",
      "Processed 210/265 batches.\n",
      "Processed 215/265 batches.\n",
      "Processed 220/265 batches.\n",
      "Processed 225/265 batches.\n",
      "Processed 230/265 batches.\n",
      "Processed 235/265 batches.\n",
      "Processed 240/265 batches.\n",
      "Processed 245/265 batches.\n",
      "Processed 250/265 batches.\n",
      "Processed 255/265 batches.\n",
      "Processed 260/265 batches.\n",
      "Processed 265/265 batches.\n"
     ]
    }
   ],
   "execution_count": 34
  },
  {
   "metadata": {
    "ExecuteTime": {
     "end_time": "2024-11-04T17:52:31.728887Z",
     "start_time": "2024-11-04T17:52:31.689259Z"
    }
   },
   "cell_type": "code",
   "source": [
    "test_predictions = pipeline.fitted_classifiers[idx].predict(test_feature_matrix)\n",
    "test_predictions.shape"
   ],
   "id": "c8ab096fcb5b6ff7",
   "outputs": [
    {
     "data": {
      "text/plain": [
       "(6340,)"
      ]
     },
     "execution_count": 177,
     "metadata": {},
     "output_type": "execute_result"
    }
   ],
   "execution_count": 177
  },
  {
   "metadata": {
    "ExecuteTime": {
     "end_time": "2024-11-04T17:52:32.768165Z",
     "start_time": "2024-11-04T17:52:32.751226Z"
    }
   },
   "cell_type": "code",
   "source": "np.histogram(test_predictions, 2)",
   "id": "312bea85a4bfb983",
   "outputs": [
    {
     "data": {
      "text/plain": [
       "(array([3207, 3133], dtype=int64), array([0. , 0.5, 1. ]))"
      ]
     },
     "execution_count": 178,
     "metadata": {},
     "output_type": "execute_result"
    }
   ],
   "execution_count": 178
  },
  {
   "metadata": {
    "ExecuteTime": {
     "end_time": "2024-11-04T17:52:33.617446Z",
     "start_time": "2024-11-04T17:52:33.520946Z"
    }
   },
   "cell_type": "code",
   "source": [
    "result = pd.DataFrame(data=test_predictions.reshape(-1,1), columns=[\"class\"])\n",
    "result.to_excel(\"binary_results_04_11.xlsx\",index=False, header=False)"
   ],
   "id": "6ce8c5bb426499a3",
   "outputs": [],
   "execution_count": 179
  },
  {
   "metadata": {},
   "cell_type": "markdown",
   "source": [
    "___\n",
    "# CROSSVAL"
   ],
   "id": "232af36d32ec516c"
  },
  {
   "metadata": {},
   "cell_type": "code",
   "source": [
    "val_loader = FactoryLoader(VAL_PATH, pipeline.batch_size, factory, shuffle=False)\n",
    "\n",
    "# test_loader.show_images(100)\n",
    "\n",
    "val_feature_matrix, val_labels = pipeline.feature_strategy.run(val_loader.get_loader())"
   ],
   "id": "8fa69cfdf9ddd0b7",
   "outputs": [],
   "execution_count": null
  },
  {
   "metadata": {
    "ExecuteTime": {
     "end_time": "2024-11-04T12:02:39.345958Z",
     "start_time": "2024-11-04T12:02:39.217235Z"
    }
   },
   "cell_type": "code",
   "source": [
    "print(pipeline.feature_matrix.shape)\n",
    "print(pipeline.labels.shape)\n",
    "\n",
    "combined_feature_matrix = np.vstack([pipeline.feature_matrix, val_feature_matrix])\n",
    "combined_labels = np.hstack([pipeline.labels, val_labels])\n",
    "\n",
    "print(combined_feature_matrix.shape)\n",
    "print(combined_labels.shape)"
   ],
   "id": "89beecccfbd63ee9",
   "outputs": [
    {
     "name": "stdout",
     "output_type": "stream",
     "text": [
      "(15195, 575)\n",
      "(15195,)\n",
      "(18991, 575)\n",
      "(18991,)\n"
     ]
    }
   ],
   "execution_count": 79
  },
  {
   "metadata": {
    "ExecuteTime": {
     "end_time": "2024-11-04T18:06:24.887391Z",
     "start_time": "2024-11-04T17:57:05.152112Z"
    }
   },
   "cell_type": "code",
   "source": [
    "from sklearn.model_selection import cross_val_score\n",
    "from sklearn.metrics import make_scorer, cohen_kappa_score, accuracy_score\n",
    "\n",
    "# Define the kappa scorer\n",
    "accuracy_scorer = make_scorer(accuracy_score)\n",
    "\n",
    "# Assuming X_combined and y_combined are the combined training and validation sets\n",
    "# and `model` is your ML model instance (e.g., an sklearn classifier)\n",
    "\n",
    "# Perform cross-validation using kappa score\n",
    "scores = cross_val_score(pipeline.fitted_classifiers[idx], combined_feature_matrix, combined_labels, cv=10, scoring=accuracy_scorer)\n",
    "\n",
    "# Display the results\n",
    "print(\"Cross-validation acc scores:\", scores)\n",
    "print(\"Average acc score:\", np.mean(scores))"
   ],
   "id": "64555610a8088b59",
   "outputs": [
    {
     "name": "stdout",
     "output_type": "stream",
     "text": [
      "Cross-validation acc scores: [0.90157895 0.89468141 0.87361769 0.80779358 0.80674039 0.78725645\n",
      " 0.80674039 0.83464982 0.87256451 0.82622433]\n",
      "Average acc score: 0.8411847509769684\n"
     ]
    }
   ],
   "execution_count": 186
  },
  {
   "metadata": {},
   "cell_type": "markdown",
   "source": "# COMBINED DATASET with BEST CLF",
   "id": "86c81d687617523b"
  },
  {
   "metadata": {
    "ExecuteTime": {
     "end_time": "2024-11-05T09:29:24.298827Z",
     "start_time": "2024-11-05T09:29:24.262513Z"
    }
   },
   "cell_type": "code",
   "source": [
    "clf_key = \"XGBClassifier5\"\n",
    "idx"
   ],
   "id": "ecb482cc7faefd83",
   "outputs": [
    {
     "data": {
      "text/plain": [
       "'XGBClassifier5'"
      ]
     },
     "execution_count": 211,
     "metadata": {},
     "output_type": "execute_result"
    }
   ],
   "execution_count": 211
  },
  {
   "metadata": {
    "ExecuteTime": {
     "end_time": "2024-11-04T17:55:43.182229Z",
     "start_time": "2024-11-04T17:54:46.771524Z"
    }
   },
   "cell_type": "code",
   "source": [
    "final_clf = pipeline.fitted_classifiers[idx]\n",
    "\n",
    "final_clf = xgb5 = XGBClassifier(learning_rate=0.1, n_estimators=1500, max_depth=7, min_child_weight=1, subsample=0.8, colsample_bytree=0.8, random_state=42)\n",
    "\n",
    "final_clf.fit(combined_feature_matrix, combined_labels)"
   ],
   "id": "eb01e704fc6a2247",
   "outputs": [
    {
     "data": {
      "text/plain": [
       "XGBClassifier(base_score=None, booster=None, callbacks=None,\n",
       "              colsample_bylevel=None, colsample_bynode=None,\n",
       "              colsample_bytree=0.8, device=None, early_stopping_rounds=None,\n",
       "              enable_categorical=False, eval_metric=None, feature_types=None,\n",
       "              gamma=None, grow_policy=None, importance_type=None,\n",
       "              interaction_constraints=None, learning_rate=0.1, max_bin=None,\n",
       "              max_cat_threshold=None, max_cat_to_onehot=None,\n",
       "              max_delta_step=None, max_depth=7, max_leaves=None,\n",
       "              min_child_weight=1, missing=nan, monotone_constraints=None,\n",
       "              multi_strategy=None, n_estimators=1500, n_jobs=None,\n",
       "              num_parallel_tree=None, random_state=42, ...)"
      ],
      "text/html": [
       "<style>#sk-container-id-5 {\n",
       "  /* Definition of color scheme common for light and dark mode */\n",
       "  --sklearn-color-text: black;\n",
       "  --sklearn-color-line: gray;\n",
       "  /* Definition of color scheme for unfitted estimators */\n",
       "  --sklearn-color-unfitted-level-0: #fff5e6;\n",
       "  --sklearn-color-unfitted-level-1: #f6e4d2;\n",
       "  --sklearn-color-unfitted-level-2: #ffe0b3;\n",
       "  --sklearn-color-unfitted-level-3: chocolate;\n",
       "  /* Definition of color scheme for fitted estimators */\n",
       "  --sklearn-color-fitted-level-0: #f0f8ff;\n",
       "  --sklearn-color-fitted-level-1: #d4ebff;\n",
       "  --sklearn-color-fitted-level-2: #b3dbfd;\n",
       "  --sklearn-color-fitted-level-3: cornflowerblue;\n",
       "\n",
       "  /* Specific color for light theme */\n",
       "  --sklearn-color-text-on-default-background: var(--sg-text-color, var(--theme-code-foreground, var(--jp-content-font-color1, black)));\n",
       "  --sklearn-color-background: var(--sg-background-color, var(--theme-background, var(--jp-layout-color0, white)));\n",
       "  --sklearn-color-border-box: var(--sg-text-color, var(--theme-code-foreground, var(--jp-content-font-color1, black)));\n",
       "  --sklearn-color-icon: #696969;\n",
       "\n",
       "  @media (prefers-color-scheme: dark) {\n",
       "    /* Redefinition of color scheme for dark theme */\n",
       "    --sklearn-color-text-on-default-background: var(--sg-text-color, var(--theme-code-foreground, var(--jp-content-font-color1, white)));\n",
       "    --sklearn-color-background: var(--sg-background-color, var(--theme-background, var(--jp-layout-color0, #111)));\n",
       "    --sklearn-color-border-box: var(--sg-text-color, var(--theme-code-foreground, var(--jp-content-font-color1, white)));\n",
       "    --sklearn-color-icon: #878787;\n",
       "  }\n",
       "}\n",
       "\n",
       "#sk-container-id-5 {\n",
       "  color: var(--sklearn-color-text);\n",
       "}\n",
       "\n",
       "#sk-container-id-5 pre {\n",
       "  padding: 0;\n",
       "}\n",
       "\n",
       "#sk-container-id-5 input.sk-hidden--visually {\n",
       "  border: 0;\n",
       "  clip: rect(1px 1px 1px 1px);\n",
       "  clip: rect(1px, 1px, 1px, 1px);\n",
       "  height: 1px;\n",
       "  margin: -1px;\n",
       "  overflow: hidden;\n",
       "  padding: 0;\n",
       "  position: absolute;\n",
       "  width: 1px;\n",
       "}\n",
       "\n",
       "#sk-container-id-5 div.sk-dashed-wrapped {\n",
       "  border: 1px dashed var(--sklearn-color-line);\n",
       "  margin: 0 0.4em 0.5em 0.4em;\n",
       "  box-sizing: border-box;\n",
       "  padding-bottom: 0.4em;\n",
       "  background-color: var(--sklearn-color-background);\n",
       "}\n",
       "\n",
       "#sk-container-id-5 div.sk-container {\n",
       "  /* jupyter's `normalize.less` sets `[hidden] { display: none; }`\n",
       "     but bootstrap.min.css set `[hidden] { display: none !important; }`\n",
       "     so we also need the `!important` here to be able to override the\n",
       "     default hidden behavior on the sphinx rendered scikit-learn.org.\n",
       "     See: https://github.com/scikit-learn/scikit-learn/issues/21755 */\n",
       "  display: inline-block !important;\n",
       "  position: relative;\n",
       "}\n",
       "\n",
       "#sk-container-id-5 div.sk-text-repr-fallback {\n",
       "  display: none;\n",
       "}\n",
       "\n",
       "div.sk-parallel-item,\n",
       "div.sk-serial,\n",
       "div.sk-item {\n",
       "  /* draw centered vertical line to link estimators */\n",
       "  background-image: linear-gradient(var(--sklearn-color-text-on-default-background), var(--sklearn-color-text-on-default-background));\n",
       "  background-size: 2px 100%;\n",
       "  background-repeat: no-repeat;\n",
       "  background-position: center center;\n",
       "}\n",
       "\n",
       "/* Parallel-specific style estimator block */\n",
       "\n",
       "#sk-container-id-5 div.sk-parallel-item::after {\n",
       "  content: \"\";\n",
       "  width: 100%;\n",
       "  border-bottom: 2px solid var(--sklearn-color-text-on-default-background);\n",
       "  flex-grow: 1;\n",
       "}\n",
       "\n",
       "#sk-container-id-5 div.sk-parallel {\n",
       "  display: flex;\n",
       "  align-items: stretch;\n",
       "  justify-content: center;\n",
       "  background-color: var(--sklearn-color-background);\n",
       "  position: relative;\n",
       "}\n",
       "\n",
       "#sk-container-id-5 div.sk-parallel-item {\n",
       "  display: flex;\n",
       "  flex-direction: column;\n",
       "}\n",
       "\n",
       "#sk-container-id-5 div.sk-parallel-item:first-child::after {\n",
       "  align-self: flex-end;\n",
       "  width: 50%;\n",
       "}\n",
       "\n",
       "#sk-container-id-5 div.sk-parallel-item:last-child::after {\n",
       "  align-self: flex-start;\n",
       "  width: 50%;\n",
       "}\n",
       "\n",
       "#sk-container-id-5 div.sk-parallel-item:only-child::after {\n",
       "  width: 0;\n",
       "}\n",
       "\n",
       "/* Serial-specific style estimator block */\n",
       "\n",
       "#sk-container-id-5 div.sk-serial {\n",
       "  display: flex;\n",
       "  flex-direction: column;\n",
       "  align-items: center;\n",
       "  background-color: var(--sklearn-color-background);\n",
       "  padding-right: 1em;\n",
       "  padding-left: 1em;\n",
       "}\n",
       "\n",
       "\n",
       "/* Toggleable style: style used for estimator/Pipeline/ColumnTransformer box that is\n",
       "clickable and can be expanded/collapsed.\n",
       "- Pipeline and ColumnTransformer use this feature and define the default style\n",
       "- Estimators will overwrite some part of the style using the `sk-estimator` class\n",
       "*/\n",
       "\n",
       "/* Pipeline and ColumnTransformer style (default) */\n",
       "\n",
       "#sk-container-id-5 div.sk-toggleable {\n",
       "  /* Default theme specific background. It is overwritten whether we have a\n",
       "  specific estimator or a Pipeline/ColumnTransformer */\n",
       "  background-color: var(--sklearn-color-background);\n",
       "}\n",
       "\n",
       "/* Toggleable label */\n",
       "#sk-container-id-5 label.sk-toggleable__label {\n",
       "  cursor: pointer;\n",
       "  display: block;\n",
       "  width: 100%;\n",
       "  margin-bottom: 0;\n",
       "  padding: 0.5em;\n",
       "  box-sizing: border-box;\n",
       "  text-align: center;\n",
       "}\n",
       "\n",
       "#sk-container-id-5 label.sk-toggleable__label-arrow:before {\n",
       "  /* Arrow on the left of the label */\n",
       "  content: \"▸\";\n",
       "  float: left;\n",
       "  margin-right: 0.25em;\n",
       "  color: var(--sklearn-color-icon);\n",
       "}\n",
       "\n",
       "#sk-container-id-5 label.sk-toggleable__label-arrow:hover:before {\n",
       "  color: var(--sklearn-color-text);\n",
       "}\n",
       "\n",
       "/* Toggleable content - dropdown */\n",
       "\n",
       "#sk-container-id-5 div.sk-toggleable__content {\n",
       "  max-height: 0;\n",
       "  max-width: 0;\n",
       "  overflow: hidden;\n",
       "  text-align: left;\n",
       "  /* unfitted */\n",
       "  background-color: var(--sklearn-color-unfitted-level-0);\n",
       "}\n",
       "\n",
       "#sk-container-id-5 div.sk-toggleable__content.fitted {\n",
       "  /* fitted */\n",
       "  background-color: var(--sklearn-color-fitted-level-0);\n",
       "}\n",
       "\n",
       "#sk-container-id-5 div.sk-toggleable__content pre {\n",
       "  margin: 0.2em;\n",
       "  border-radius: 0.25em;\n",
       "  color: var(--sklearn-color-text);\n",
       "  /* unfitted */\n",
       "  background-color: var(--sklearn-color-unfitted-level-0);\n",
       "}\n",
       "\n",
       "#sk-container-id-5 div.sk-toggleable__content.fitted pre {\n",
       "  /* unfitted */\n",
       "  background-color: var(--sklearn-color-fitted-level-0);\n",
       "}\n",
       "\n",
       "#sk-container-id-5 input.sk-toggleable__control:checked~div.sk-toggleable__content {\n",
       "  /* Expand drop-down */\n",
       "  max-height: 200px;\n",
       "  max-width: 100%;\n",
       "  overflow: auto;\n",
       "}\n",
       "\n",
       "#sk-container-id-5 input.sk-toggleable__control:checked~label.sk-toggleable__label-arrow:before {\n",
       "  content: \"▾\";\n",
       "}\n",
       "\n",
       "/* Pipeline/ColumnTransformer-specific style */\n",
       "\n",
       "#sk-container-id-5 div.sk-label input.sk-toggleable__control:checked~label.sk-toggleable__label {\n",
       "  color: var(--sklearn-color-text);\n",
       "  background-color: var(--sklearn-color-unfitted-level-2);\n",
       "}\n",
       "\n",
       "#sk-container-id-5 div.sk-label.fitted input.sk-toggleable__control:checked~label.sk-toggleable__label {\n",
       "  background-color: var(--sklearn-color-fitted-level-2);\n",
       "}\n",
       "\n",
       "/* Estimator-specific style */\n",
       "\n",
       "/* Colorize estimator box */\n",
       "#sk-container-id-5 div.sk-estimator input.sk-toggleable__control:checked~label.sk-toggleable__label {\n",
       "  /* unfitted */\n",
       "  background-color: var(--sklearn-color-unfitted-level-2);\n",
       "}\n",
       "\n",
       "#sk-container-id-5 div.sk-estimator.fitted input.sk-toggleable__control:checked~label.sk-toggleable__label {\n",
       "  /* fitted */\n",
       "  background-color: var(--sklearn-color-fitted-level-2);\n",
       "}\n",
       "\n",
       "#sk-container-id-5 div.sk-label label.sk-toggleable__label,\n",
       "#sk-container-id-5 div.sk-label label {\n",
       "  /* The background is the default theme color */\n",
       "  color: var(--sklearn-color-text-on-default-background);\n",
       "}\n",
       "\n",
       "/* On hover, darken the color of the background */\n",
       "#sk-container-id-5 div.sk-label:hover label.sk-toggleable__label {\n",
       "  color: var(--sklearn-color-text);\n",
       "  background-color: var(--sklearn-color-unfitted-level-2);\n",
       "}\n",
       "\n",
       "/* Label box, darken color on hover, fitted */\n",
       "#sk-container-id-5 div.sk-label.fitted:hover label.sk-toggleable__label.fitted {\n",
       "  color: var(--sklearn-color-text);\n",
       "  background-color: var(--sklearn-color-fitted-level-2);\n",
       "}\n",
       "\n",
       "/* Estimator label */\n",
       "\n",
       "#sk-container-id-5 div.sk-label label {\n",
       "  font-family: monospace;\n",
       "  font-weight: bold;\n",
       "  display: inline-block;\n",
       "  line-height: 1.2em;\n",
       "}\n",
       "\n",
       "#sk-container-id-5 div.sk-label-container {\n",
       "  text-align: center;\n",
       "}\n",
       "\n",
       "/* Estimator-specific */\n",
       "#sk-container-id-5 div.sk-estimator {\n",
       "  font-family: monospace;\n",
       "  border: 1px dotted var(--sklearn-color-border-box);\n",
       "  border-radius: 0.25em;\n",
       "  box-sizing: border-box;\n",
       "  margin-bottom: 0.5em;\n",
       "  /* unfitted */\n",
       "  background-color: var(--sklearn-color-unfitted-level-0);\n",
       "}\n",
       "\n",
       "#sk-container-id-5 div.sk-estimator.fitted {\n",
       "  /* fitted */\n",
       "  background-color: var(--sklearn-color-fitted-level-0);\n",
       "}\n",
       "\n",
       "/* on hover */\n",
       "#sk-container-id-5 div.sk-estimator:hover {\n",
       "  /* unfitted */\n",
       "  background-color: var(--sklearn-color-unfitted-level-2);\n",
       "}\n",
       "\n",
       "#sk-container-id-5 div.sk-estimator.fitted:hover {\n",
       "  /* fitted */\n",
       "  background-color: var(--sklearn-color-fitted-level-2);\n",
       "}\n",
       "\n",
       "/* Specification for estimator info (e.g. \"i\" and \"?\") */\n",
       "\n",
       "/* Common style for \"i\" and \"?\" */\n",
       "\n",
       ".sk-estimator-doc-link,\n",
       "a:link.sk-estimator-doc-link,\n",
       "a:visited.sk-estimator-doc-link {\n",
       "  float: right;\n",
       "  font-size: smaller;\n",
       "  line-height: 1em;\n",
       "  font-family: monospace;\n",
       "  background-color: var(--sklearn-color-background);\n",
       "  border-radius: 1em;\n",
       "  height: 1em;\n",
       "  width: 1em;\n",
       "  text-decoration: none !important;\n",
       "  margin-left: 1ex;\n",
       "  /* unfitted */\n",
       "  border: var(--sklearn-color-unfitted-level-1) 1pt solid;\n",
       "  color: var(--sklearn-color-unfitted-level-1);\n",
       "}\n",
       "\n",
       ".sk-estimator-doc-link.fitted,\n",
       "a:link.sk-estimator-doc-link.fitted,\n",
       "a:visited.sk-estimator-doc-link.fitted {\n",
       "  /* fitted */\n",
       "  border: var(--sklearn-color-fitted-level-1) 1pt solid;\n",
       "  color: var(--sklearn-color-fitted-level-1);\n",
       "}\n",
       "\n",
       "/* On hover */\n",
       "div.sk-estimator:hover .sk-estimator-doc-link:hover,\n",
       ".sk-estimator-doc-link:hover,\n",
       "div.sk-label-container:hover .sk-estimator-doc-link:hover,\n",
       ".sk-estimator-doc-link:hover {\n",
       "  /* unfitted */\n",
       "  background-color: var(--sklearn-color-unfitted-level-3);\n",
       "  color: var(--sklearn-color-background);\n",
       "  text-decoration: none;\n",
       "}\n",
       "\n",
       "div.sk-estimator.fitted:hover .sk-estimator-doc-link.fitted:hover,\n",
       ".sk-estimator-doc-link.fitted:hover,\n",
       "div.sk-label-container:hover .sk-estimator-doc-link.fitted:hover,\n",
       ".sk-estimator-doc-link.fitted:hover {\n",
       "  /* fitted */\n",
       "  background-color: var(--sklearn-color-fitted-level-3);\n",
       "  color: var(--sklearn-color-background);\n",
       "  text-decoration: none;\n",
       "}\n",
       "\n",
       "/* Span, style for the box shown on hovering the info icon */\n",
       ".sk-estimator-doc-link span {\n",
       "  display: none;\n",
       "  z-index: 9999;\n",
       "  position: relative;\n",
       "  font-weight: normal;\n",
       "  right: .2ex;\n",
       "  padding: .5ex;\n",
       "  margin: .5ex;\n",
       "  width: min-content;\n",
       "  min-width: 20ex;\n",
       "  max-width: 50ex;\n",
       "  color: var(--sklearn-color-text);\n",
       "  box-shadow: 2pt 2pt 4pt #999;\n",
       "  /* unfitted */\n",
       "  background: var(--sklearn-color-unfitted-level-0);\n",
       "  border: .5pt solid var(--sklearn-color-unfitted-level-3);\n",
       "}\n",
       "\n",
       ".sk-estimator-doc-link.fitted span {\n",
       "  /* fitted */\n",
       "  background: var(--sklearn-color-fitted-level-0);\n",
       "  border: var(--sklearn-color-fitted-level-3);\n",
       "}\n",
       "\n",
       ".sk-estimator-doc-link:hover span {\n",
       "  display: block;\n",
       "}\n",
       "\n",
       "/* \"?\"-specific style due to the `<a>` HTML tag */\n",
       "\n",
       "#sk-container-id-5 a.estimator_doc_link {\n",
       "  float: right;\n",
       "  font-size: 1rem;\n",
       "  line-height: 1em;\n",
       "  font-family: monospace;\n",
       "  background-color: var(--sklearn-color-background);\n",
       "  border-radius: 1rem;\n",
       "  height: 1rem;\n",
       "  width: 1rem;\n",
       "  text-decoration: none;\n",
       "  /* unfitted */\n",
       "  color: var(--sklearn-color-unfitted-level-1);\n",
       "  border: var(--sklearn-color-unfitted-level-1) 1pt solid;\n",
       "}\n",
       "\n",
       "#sk-container-id-5 a.estimator_doc_link.fitted {\n",
       "  /* fitted */\n",
       "  border: var(--sklearn-color-fitted-level-1) 1pt solid;\n",
       "  color: var(--sklearn-color-fitted-level-1);\n",
       "}\n",
       "\n",
       "/* On hover */\n",
       "#sk-container-id-5 a.estimator_doc_link:hover {\n",
       "  /* unfitted */\n",
       "  background-color: var(--sklearn-color-unfitted-level-3);\n",
       "  color: var(--sklearn-color-background);\n",
       "  text-decoration: none;\n",
       "}\n",
       "\n",
       "#sk-container-id-5 a.estimator_doc_link.fitted:hover {\n",
       "  /* fitted */\n",
       "  background-color: var(--sklearn-color-fitted-level-3);\n",
       "}\n",
       "</style><div id=\"sk-container-id-5\" class=\"sk-top-container\"><div class=\"sk-text-repr-fallback\"><pre>XGBClassifier(base_score=None, booster=None, callbacks=None,\n",
       "              colsample_bylevel=None, colsample_bynode=None,\n",
       "              colsample_bytree=0.8, device=None, early_stopping_rounds=None,\n",
       "              enable_categorical=False, eval_metric=None, feature_types=None,\n",
       "              gamma=None, grow_policy=None, importance_type=None,\n",
       "              interaction_constraints=None, learning_rate=0.1, max_bin=None,\n",
       "              max_cat_threshold=None, max_cat_to_onehot=None,\n",
       "              max_delta_step=None, max_depth=7, max_leaves=None,\n",
       "              min_child_weight=1, missing=nan, monotone_constraints=None,\n",
       "              multi_strategy=None, n_estimators=1500, n_jobs=None,\n",
       "              num_parallel_tree=None, random_state=42, ...)</pre><b>In a Jupyter environment, please rerun this cell to show the HTML representation or trust the notebook. <br />On GitHub, the HTML representation is unable to render, please try loading this page with nbviewer.org.</b></div><div class=\"sk-container\" hidden><div class=\"sk-item\"><div class=\"sk-estimator fitted sk-toggleable\"><input class=\"sk-toggleable__control sk-hidden--visually\" id=\"sk-estimator-id-5\" type=\"checkbox\" checked><label for=\"sk-estimator-id-5\" class=\"sk-toggleable__label fitted sk-toggleable__label-arrow fitted\">&nbsp;XGBClassifier<span class=\"sk-estimator-doc-link fitted\">i<span>Fitted</span></span></label><div class=\"sk-toggleable__content fitted\"><pre>XGBClassifier(base_score=None, booster=None, callbacks=None,\n",
       "              colsample_bylevel=None, colsample_bynode=None,\n",
       "              colsample_bytree=0.8, device=None, early_stopping_rounds=None,\n",
       "              enable_categorical=False, eval_metric=None, feature_types=None,\n",
       "              gamma=None, grow_policy=None, importance_type=None,\n",
       "              interaction_constraints=None, learning_rate=0.1, max_bin=None,\n",
       "              max_cat_threshold=None, max_cat_to_onehot=None,\n",
       "              max_delta_step=None, max_depth=7, max_leaves=None,\n",
       "              min_child_weight=1, missing=nan, monotone_constraints=None,\n",
       "              multi_strategy=None, n_estimators=1500, n_jobs=None,\n",
       "              num_parallel_tree=None, random_state=42, ...)</pre></div> </div></div></div></div>"
      ]
     },
     "execution_count": 183,
     "metadata": {},
     "output_type": "execute_result"
    }
   ],
   "execution_count": 183
  },
  {
   "metadata": {
    "ExecuteTime": {
     "end_time": "2024-11-04T17:55:59.262956Z",
     "start_time": "2024-11-04T17:55:59.216283Z"
    }
   },
   "cell_type": "code",
   "source": "final_predictions = final_clf.predict(test_feature_matrix)",
   "id": "28f8bf315d6b0d46",
   "outputs": [],
   "execution_count": 184
  },
  {
   "metadata": {
    "ExecuteTime": {
     "end_time": "2024-11-04T17:56:00.114910Z",
     "start_time": "2024-11-04T17:56:00.105767Z"
    }
   },
   "cell_type": "code",
   "source": [
    "from sklearn.metrics import accuracy_score\n",
    "\n",
    "accuracy_score(result, final_predictions)"
   ],
   "id": "6de9b79be702818",
   "outputs": [
    {
     "data": {
      "text/plain": [
       "0.9575709779179811"
      ]
     },
     "execution_count": 185,
     "metadata": {},
     "output_type": "execute_result"
    }
   ],
   "execution_count": 185
  },
  {
   "metadata": {
    "ExecuteTime": {
     "end_time": "2024-11-04T11:43:55.997272Z",
     "start_time": "2024-11-04T11:43:55.879421Z"
    }
   },
   "cell_type": "code",
   "source": [
    "final_result = pd.DataFrame(data=final_predictions.reshape(-1, 1), columns=[\"class\"])\n",
    "final_result.to_excel(\"binary_results_final.xlsx\", index=False, header=False)"
   ],
   "id": "234aa9dca215c747",
   "outputs": [],
   "execution_count": 75
  },
  {
   "metadata": {
    "ExecuteTime": {
     "end_time": "2024-11-04T12:10:50.296831Z",
     "start_time": "2024-11-04T12:10:50.291497Z"
    }
   },
   "cell_type": "code",
   "source": "final_predictions.shape",
   "id": "91410f35c57dd173",
   "outputs": [
    {
     "data": {
      "text/plain": [
       "(6340,)"
      ]
     },
     "execution_count": 80,
     "metadata": {},
     "output_type": "execute_result"
    }
   ],
   "execution_count": 80
  },
  {
   "metadata": {},
   "cell_type": "markdown",
   "source": "# ANALYSE CLASSIFIER",
   "id": "2fa329ab184881fc"
  },
  {
   "metadata": {
    "ExecuteTime": {
     "end_time": "2024-11-04T18:40:42.246610Z",
     "start_time": "2024-11-04T18:40:42.222800Z"
    }
   },
   "cell_type": "code",
   "source": [
    "df_feature_importance = pd.DataFrame(data=final_clf.feature_importances_, index=pipeline.get_feature_names(), columns=[\"importance\"])\n",
    "df_feature_importance.sort_values(\"importance\", ascending=False, )"
   ],
   "id": "713d27226e926bff",
   "outputs": [
    {
     "data": {
      "text/plain": [
       "                         importance\n",
       "color_moments_lab_A_min    0.025315\n",
       "color_moments_rgb_B_var    0.013308\n",
       "fft_radial_variance_134    0.011874\n",
       "fft_radial_variance_92     0.011833\n",
       "lbp_rad2_bins16_8          0.011436\n",
       "...                             ...\n",
       "fft_radial_variance_120    0.000000\n",
       "fft_radial_variance_119    0.000000\n",
       "fft_radial_variance_117    0.000000\n",
       "fft_radial_variance_115    0.000000\n",
       "fft_radial_variance_93     0.000000\n",
       "\n",
       "[575 rows x 1 columns]"
      ],
      "text/html": [
       "<div>\n",
       "<style scoped>\n",
       "    .dataframe tbody tr th:only-of-type {\n",
       "        vertical-align: middle;\n",
       "    }\n",
       "\n",
       "    .dataframe tbody tr th {\n",
       "        vertical-align: top;\n",
       "    }\n",
       "\n",
       "    .dataframe thead th {\n",
       "        text-align: right;\n",
       "    }\n",
       "</style>\n",
       "<table border=\"1\" class=\"dataframe\">\n",
       "  <thead>\n",
       "    <tr style=\"text-align: right;\">\n",
       "      <th></th>\n",
       "      <th>importance</th>\n",
       "    </tr>\n",
       "  </thead>\n",
       "  <tbody>\n",
       "    <tr>\n",
       "      <th>color_moments_lab_A_min</th>\n",
       "      <td>0.025315</td>\n",
       "    </tr>\n",
       "    <tr>\n",
       "      <th>color_moments_rgb_B_var</th>\n",
       "      <td>0.013308</td>\n",
       "    </tr>\n",
       "    <tr>\n",
       "      <th>fft_radial_variance_134</th>\n",
       "      <td>0.011874</td>\n",
       "    </tr>\n",
       "    <tr>\n",
       "      <th>fft_radial_variance_92</th>\n",
       "      <td>0.011833</td>\n",
       "    </tr>\n",
       "    <tr>\n",
       "      <th>lbp_rad2_bins16_8</th>\n",
       "      <td>0.011436</td>\n",
       "    </tr>\n",
       "    <tr>\n",
       "      <th>...</th>\n",
       "      <td>...</td>\n",
       "    </tr>\n",
       "    <tr>\n",
       "      <th>fft_radial_variance_120</th>\n",
       "      <td>0.000000</td>\n",
       "    </tr>\n",
       "    <tr>\n",
       "      <th>fft_radial_variance_119</th>\n",
       "      <td>0.000000</td>\n",
       "    </tr>\n",
       "    <tr>\n",
       "      <th>fft_radial_variance_117</th>\n",
       "      <td>0.000000</td>\n",
       "    </tr>\n",
       "    <tr>\n",
       "      <th>fft_radial_variance_115</th>\n",
       "      <td>0.000000</td>\n",
       "    </tr>\n",
       "    <tr>\n",
       "      <th>fft_radial_variance_93</th>\n",
       "      <td>0.000000</td>\n",
       "    </tr>\n",
       "  </tbody>\n",
       "</table>\n",
       "<p>575 rows × 1 columns</p>\n",
       "</div>"
      ]
     },
     "execution_count": 188,
     "metadata": {},
     "output_type": "execute_result"
    }
   ],
   "execution_count": 188
  },
  {
   "metadata": {
    "ExecuteTime": {
     "end_time": "2024-11-05T09:40:56.246998Z",
     "start_time": "2024-11-05T09:40:55.986080Z"
    }
   },
   "cell_type": "code",
   "source": [
    "from matplotlib import pyplot as plt\n",
    "\n",
    "feature_rows = df_feature_importance[df_feature_importance.index.str.contains(\"fft\")]\n",
    "# \n",
    "# feature_rows = pd.concat([\n",
    "#     df_feature_importance[df_feature_importance.index.str.contains(\"fourier\")],\n",
    "#     feature_rows,])\n",
    "\n",
    "# PLOTTING\n",
    "# Define MAIA logo colors\n",
    "lime_green = '#A4C639'\n",
    "dark_lime_green = '#7A9A01'\n",
    "dark_gray = '#4A4A4A'\n",
    "\n",
    "\n",
    "plot_df = feature_rows.sort_values(\"importance\", ascending=False).head(20)\n",
    "filetered_rows_mean = feature_rows.importance.mean()\n",
    "print(filetered_rows_mean)\n",
    "\n",
    "# Plot with MAIA colors and rotated x-axis labels, ensuring all labels show\n",
    "ax = plot_df.plot(kind='bar', color=[dark_lime_green, dark_gray], legend=False)\n",
    "plt.xticks(rotation=90)\n",
    "# plt.axhline(filetered_rows_mean, color=dark_gray)\n",
    "\n",
    "custom_labels = [f\"Mean importance: {filetered_rows_mean:.5f})\"]\n",
    "plt.legend(custom_labels, loc='upper right')\n",
    "\n",
    "# Ensure all labels show by setting ticks to match index positions\n",
    "ax.set_xticks(range(len(plot_df)))\n",
    "ax.set_xticklabels(plot_df.index)\n",
    "pass"
   ],
   "id": "2a8499b467e19b60",
   "outputs": [
    {
     "name": "stdout",
     "output_type": "stream",
     "text": [
      "0.0014259594\n"
     ]
    },
    {
     "data": {
      "text/plain": [
       "<Figure size 640x480 with 1 Axes>"
      ],
      "image/png": "[encoded data removed]"
     },
     "metadata": {},
     "output_type": "display_data"
    }
   ],
   "execution_count": 215
  },
  {
   "metadata": {},
   "cell_type": "code",
   "outputs": [],
   "execution_count": null,
   "source": "",
   "id": "e097f10020d3b1cf"
  },
  {
   "metadata": {},
   "cell_type": "markdown",
   "source": "# ROC",
   "id": "db9a3ce90b39947"
  },
  {
   "metadata": {},
   "cell_type": "code",
   "source": [
    "from sklearn.metrics import roc_curve, auc\n",
    "\n",
    "pipeline.fitted_classifiers[idx].fit(pipeline.feature_matrix, pipeline.labels)\n",
    "a = pipeline.fitted_classifiers[idx].predict_proba(val_feature_matrix)\n",
    "y_pred = pipeline.fitted_classifiers[idx].predict(val_feature_matrix)\n",
    "_, y_prob = a[:,0], a[:,1]"
   ],
   "id": "21eee9fcfd667b96",
   "outputs": [],
   "execution_count": null
  },
  {
   "metadata": {
    "ExecuteTime": {
     "end_time": "2024-11-04T21:50:05.703813Z",
     "start_time": "2024-11-04T21:50:05.631872Z"
    }
   },
   "cell_type": "code",
   "source": [
    "\n",
    "print(accuracy_score(val_labels, y_pred))\n",
    "\n",
    "\n",
    "print(y_prob.shape)\n",
    "print(y_pred)\n",
    "\n",
    "\n",
    "fpr, tpr, thresholds = roc_curve(val_labels, y_prob)\n",
    "roc_auc = auc(fpr, tpr)\n",
    "print(roc_auc)\n",
    "\n",
    "plt.figure()\n",
    "plt.plot(fpr, tpr, color=dark_lime_green, lw=2, label=f'ROC curve (AUC = {roc_auc:.2f})')\n",
    "plt.plot([0, 1], [0, 1], color='gray', linestyle='--')  # Diagonal line for random performance\n",
    "plt.xlim([0.0, 1.0])\n",
    "plt.ylim([0.0, 1.05])\n",
    "plt.xlabel('False Positive Rate')\n",
    "plt.ylabel('True Positive Rate')\n",
    "plt.title('Receiver Operating Characteristic (ROC) Curve')\n",
    "plt.legend(loc=\"lower right\")\n",
    "plt.show()"
   ],
   "id": "a57968d4c4a263fa",
   "outputs": [
    {
     "name": "stdout",
     "output_type": "stream",
     "text": [
      "0.8524762908324552\n",
      "(3796,)\n",
      "[0 0 0 ... 0 0 1]\n",
      "0.9253246383612652\n"
     ]
    },
    {
     "data": {
      "text/plain": [
       "<Figure size 640x480 with 1 Axes>"
      ],
      "image/png": "[encoded data removed]"
     },
     "metadata": {},
     "output_type": "display_data"
    }
   ],
   "execution_count": 210
  },
  {
   "metadata": {},
   "cell_type": "code",
   "outputs": [],
   "execution_count": null,
   "source": "",
   "id": "beeff4797d6d3fa4"
  }
 ],
 "metadata": {
  "kernelspec": {
   "display_name": "Python 3",
   "language": "python",
   "name": "python3"
  },
  "language_info": {
   "codemirror_mode": {
    "name": "ipython",
    "version": 2
   },
   "file_extension": ".py",
   "mimetype": "text/x-python",
   "name": "python",
   "nbconvert_exporter": "python",
   "pygments_lexer": "ipython2",
   "version": "2.7.6"
  }
 },
 "nbformat": 4,
 "nbformat_minor": 5
}

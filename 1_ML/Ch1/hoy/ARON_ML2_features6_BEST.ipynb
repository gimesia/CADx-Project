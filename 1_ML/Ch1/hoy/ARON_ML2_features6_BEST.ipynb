{
 "cells": [
  {
   "cell_type": "code",
   "id": "initial_id",
   "metadata": {
    "collapsed": true,
    "ExecuteTime": {
     "end_time": "2024-11-03T23:00:31.218240Z",
     "start_time": "2024-11-03T23:00:31.209800Z"
    }
   },
   "source": [
    "from utils.loader import FactoryLoader\n",
    "from utils.ml import MLPipeline\n",
    "from utils.preprocessing import PreprocessingFactory\n",
    "from utils.feature_extraction import *\n",
    "from utils.utils import *\n",
    "\n",
    "VAL_PATH = r\"C:\\Users\\gimes\\Src\\repos\\CADx-Project\\dataset\\binary\\val\"\n",
    "TRAIN_PATH = r\"C:\\Users\\gimes\\Src\\repos\\CADx-Project\\dataset\\binary\\train\"\n",
    "TEST_PATH = r\"C:\\Users\\gimes\\Src\\repos\\CADx-Project\\dataset\\binary\\test\""
   ],
   "outputs": [],
   "execution_count": 20
  },
  {
   "metadata": {
    "ExecuteTime": {
     "end_time": "2024-11-03T20:21:28.388997Z",
     "start_time": "2024-11-03T20:21:28.336281Z"
    }
   },
   "cell_type": "code",
   "source": [
    "percent = 100\n",
    "random = False\n",
    "batch_size = 24\n",
    "\n",
    "# Initialize the FactoryLoader\n",
    "factory = PreprocessingFactory()\n",
    "factory.pad2square(fill=np.nan)\n",
    "factory.resize((240,240))\n",
    "factory.normalize2float()\n",
    "\n",
    "# Create the feature extraction pipeline strategy and add desired features\n",
    "strategy = FeatureExtractionStrategy()\n",
    "\n",
    "strategy.add_extractor(GradientExtractor()) # Add gradient feature\n",
    "\n",
    "strategy.add_extractor(ColorMomentsExtractor(\"rgb\", ))   # Add color moments feature\n",
    "strategy.add_extractor(ColorMomentsExtractor(\"lab\", ))   # Add color moments feature\n",
    "strategy.add_extractor(ColorMomentsExtractor(\"hsv\", ))   # Add color moments feature\n",
    "\n",
    "strategy.add_extractor(LBPExtractor(radius=1, n_points=8))\n",
    "strategy.add_extractor(LBPExtractor(radius=2, n_points=16))\n",
    "strategy.add_extractor(LBPExtractor(radius=3, n_points=24))\n",
    "strategy.add_extractor(LBPExtractor(radius=4, n_points=32))\n",
    "strategy.add_extractor(LBPExtractor(radius=5, n_points=40))\n",
    "\n",
    "strategy.add_extractor(FourierTransformExtractor())\n",
    "strategy.add_extractor(FFTExtractor())\n",
    "\n",
    "strategy.add_extractor(GLCMExtractor(properties=['contrast', 'dissimilarity', 'homogeneity', 'energy', 'correlation', \"ASM\"]))\n",
    "\n",
    "pipeline = MLPipeline(dataset_path=TRAIN_PATH, preprocessing_factory=factory, feature_strategy=strategy, classifiers=[], percentage=percent, verbose=True, shuffle=random, batch_size=batch_size)"
   ],
   "id": "d7c81ba220d9e517",
   "outputs": [
    {
     "name": "stderr",
     "output_type": "stream",
     "text": [
      "INFO:utils.ml:MLPipeline initialized with dataset path: C:\\Users\\gimes\\Src\\repos\\CADx-Project\\dataset\\binary\\train\n",
      "INFO:utils.ml:Preprocessing steps\n"
     ]
    }
   ],
   "execution_count": 2
  },
  {
   "metadata": {
    "ExecuteTime": {
     "end_time": "2024-11-03T21:57:37.750614Z",
     "start_time": "2024-11-03T20:53:42.816636Z"
    }
   },
   "cell_type": "code",
   "source": "pipeline.run_feature_extraction()",
   "id": "21f510c52296a049",
   "outputs": [
    {
     "name": "stderr",
     "output_type": "stream",
     "text": [
      "INFO:utils.ml:Running feature extraction...\n"
     ]
    },
    {
     "name": "stdout",
     "output_type": "stream",
     "text": [
      "Processed 5/634 batches.\n",
      "Processed 10/634 batches.\n",
      "Processed 15/634 batches.\n",
      "Processed 20/634 batches.\n",
      "Processed 25/634 batches.\n",
      "Processed 30/634 batches.\n",
      "Processed 35/634 batches.\n",
      "Processed 40/634 batches.\n",
      "Processed 45/634 batches.\n",
      "Processed 50/634 batches.\n",
      "Processed 55/634 batches.\n",
      "Processed 60/634 batches.\n",
      "Processed 65/634 batches.\n",
      "Processed 70/634 batches.\n",
      "Processed 75/634 batches.\n",
      "Processed 80/634 batches.\n",
      "Processed 85/634 batches.\n",
      "Processed 90/634 batches.\n",
      "Processed 95/634 batches.\n",
      "Processed 100/634 batches.\n",
      "Processed 105/634 batches.\n",
      "Processed 110/634 batches.\n",
      "Processed 115/634 batches.\n",
      "Processed 120/634 batches.\n",
      "Processed 125/634 batches.\n",
      "Processed 130/634 batches.\n",
      "Processed 135/634 batches.\n",
      "Processed 140/634 batches.\n",
      "Processed 145/634 batches.\n",
      "Processed 150/634 batches.\n",
      "Processed 155/634 batches.\n",
      "Processed 160/634 batches.\n",
      "Processed 165/634 batches.\n",
      "Processed 170/634 batches.\n",
      "Processed 175/634 batches.\n",
      "Processed 180/634 batches.\n",
      "Processed 185/634 batches.\n",
      "Processed 190/634 batches.\n",
      "Processed 195/634 batches.\n",
      "Processed 200/634 batches.\n",
      "Processed 205/634 batches.\n",
      "Processed 210/634 batches.\n",
      "Processed 215/634 batches.\n",
      "Processed 220/634 batches.\n",
      "Processed 225/634 batches.\n",
      "Processed 230/634 batches.\n",
      "Processed 235/634 batches.\n",
      "Processed 240/634 batches.\n",
      "Processed 245/634 batches.\n",
      "Processed 250/634 batches.\n",
      "Processed 255/634 batches.\n",
      "Processed 260/634 batches.\n",
      "Processed 265/634 batches.\n",
      "Processed 270/634 batches.\n",
      "Processed 275/634 batches.\n",
      "Processed 280/634 batches.\n",
      "Processed 285/634 batches.\n",
      "Processed 290/634 batches.\n",
      "Processed 295/634 batches.\n",
      "Processed 300/634 batches.\n",
      "Processed 305/634 batches.\n",
      "Processed 310/634 batches.\n",
      "Processed 315/634 batches.\n",
      "Processed 320/634 batches.\n",
      "Processed 325/634 batches.\n",
      "Processed 330/634 batches.\n",
      "Processed 335/634 batches.\n",
      "Processed 340/634 batches.\n",
      "Processed 345/634 batches.\n",
      "Processed 350/634 batches.\n",
      "Processed 355/634 batches.\n",
      "Processed 360/634 batches.\n",
      "Processed 365/634 batches.\n",
      "Processed 370/634 batches.\n",
      "Processed 375/634 batches.\n",
      "Processed 380/634 batches.\n",
      "Processed 385/634 batches.\n",
      "Processed 390/634 batches.\n",
      "Processed 395/634 batches.\n",
      "Processed 400/634 batches.\n",
      "Processed 405/634 batches.\n",
      "Processed 410/634 batches.\n",
      "Processed 415/634 batches.\n",
      "Processed 420/634 batches.\n",
      "Processed 425/634 batches.\n",
      "Processed 430/634 batches.\n",
      "Processed 435/634 batches.\n",
      "Processed 440/634 batches.\n",
      "Processed 445/634 batches.\n",
      "Processed 450/634 batches.\n",
      "Processed 455/634 batches.\n",
      "Processed 460/634 batches.\n",
      "Processed 465/634 batches.\n",
      "Processed 470/634 batches.\n",
      "Processed 475/634 batches.\n",
      "Processed 480/634 batches.\n",
      "Processed 485/634 batches.\n",
      "Processed 490/634 batches.\n",
      "Processed 495/634 batches.\n",
      "Processed 500/634 batches.\n",
      "Processed 505/634 batches.\n",
      "Processed 510/634 batches.\n",
      "Processed 515/634 batches.\n",
      "Processed 520/634 batches.\n",
      "Processed 525/634 batches.\n",
      "Processed 530/634 batches.\n",
      "Processed 535/634 batches.\n",
      "Processed 540/634 batches.\n",
      "Processed 545/634 batches.\n",
      "Processed 550/634 batches.\n",
      "Processed 555/634 batches.\n",
      "Processed 560/634 batches.\n",
      "Processed 565/634 batches.\n",
      "Processed 570/634 batches.\n",
      "Processed 575/634 batches.\n",
      "Processed 580/634 batches.\n",
      "Processed 585/634 batches.\n",
      "Processed 590/634 batches.\n",
      "Processed 595/634 batches.\n",
      "Processed 600/634 batches.\n",
      "Processed 605/634 batches.\n",
      "Processed 610/634 batches.\n",
      "Processed 615/634 batches.\n",
      "Processed 620/634 batches.\n",
      "Processed 625/634 batches.\n",
      "Processed 630/634 batches.\n"
     ]
    },
    {
     "name": "stderr",
     "output_type": "stream",
     "text": [
      "INFO:utils.ml:Feature extraction completed. Extracted 15195 features.\n"
     ]
    },
    {
     "name": "stdout",
     "output_type": "stream",
     "text": [
      "Processed 634/634 batches.\n"
     ]
    }
   ],
   "execution_count": 4
  },
  {
   "metadata": {
    "ExecuteTime": {
     "end_time": "2024-11-03T22:36:02.149527Z",
     "start_time": "2024-11-03T22:36:02.122919Z"
    }
   },
   "cell_type": "code",
   "source": [
    "from xgboost import XGBClassifier\n",
    "from sklearn.ensemble import RandomForestClassifier\n",
    "\n",
    "xgb0 = XGBClassifier(learning_rate=0.1, n_estimators=500, max_depth=7, min_child_weight=1, subsample=0.8, colsample_bytree=0.8)\n",
    "xgb1 = XGBClassifier(learning_rate=0.1, n_estimators=1250, max_depth=7, min_child_weight=1, subsample=0.8, colsample_bytree=0.8)\n",
    "xgb2 = XGBClassifier(learning_rate=0.1, n_estimators=1250, max_depth=7, min_child_weight=1, subsample=0.8, colsample_bytree=0.8)\n",
    "xgb3 = XGBClassifier(learning_rate=0.1, n_estimators=1250, min_child_weight=1, subsample=0.8, colsample_bytree=0.8)\n",
    "xgb4 = XGBClassifier(learning_rate=0.1, n_estimators=1500, max_depth=7, min_child_weight=1, subsample=0.8, colsample_bytree=0.8)\n",
    "xgb5 = XGBClassifier(learning_rate=0.1, n_estimators=1500, max_depth=7, min_child_weight=1, subsample=0.8, colsample_bytree=0.8)\n",
    "xgb6 = XGBClassifier(learning_rate=0.1, n_estimators=1500, min_child_weight=1, subsample=0.8, colsample_bytree=0.8)\n",
    "xgb7 = XGBClassifier(learning_rate=0.1, n_estimators=1000, max_depth=7, min_child_weight=1, subsample=0.8, colsample_bytree=0.8)\n",
    "xgb8 = XGBClassifier(learning_rate=0.1, n_estimators=1000, max_depth=7, min_child_weight=1, subsample=0.8, colsample_bytree=0.8)\n",
    "xgb9 = XGBClassifier(learning_rate=0.1, n_estimators=1000, min_child_weight=1, subsample=0.8, colsample_bytree=0.8)\n",
    "xgb10 = XGBClassifier(learning_rate=0.1, n_estimators=1250, max_depth=9, min_child_weight=1, subsample=0.8, colsample_bytree=0.8)\n",
    "xgb11 = XGBClassifier(learning_rate=0.1, n_estimators=1250, max_depth=9, min_child_weight=2, subsample=0.8, colsample_bytree=0.8)\n",
    "\n",
    "pipeline.classifiers = [xgb1, xgb2, xgb3, xgb4, xgb5, xgb6, xgb7, xgb8, xgb9, xgb10, xgb11]\n",
    "pipeline.fitted_classifiers = {}"
   ],
   "id": "74470ba20848a156",
   "outputs": [],
   "execution_count": 14
  },
  {
   "metadata": {
    "ExecuteTime": {
     "end_time": "2024-11-03T22:44:25.295675Z",
     "start_time": "2024-11-03T22:36:03.011875Z"
    }
   },
   "cell_type": "code",
   "source": "pipeline.fit_classifiers()",
   "id": "5269ac4d3392fbae",
   "outputs": [
    {
     "name": "stderr",
     "output_type": "stream",
     "text": [
      "INFO:utils.ml:Fitting classifiers...\n",
      "INFO:utils.ml:Fitting classifier: XGBClassifier0\n",
      "INFO:utils.ml:Top 10 features for XGBClassifier0: [('fft_radial_mean_121', 0.03146014), ('color_moments_lab_A_min', 0.027667955), ('lbp_rad2_bins16_8', 0.011241277), ('fft_radial_variance_60', 0.010746265), ('fft_radial_variance_62', 0.009892712), ('color_moments_lab_B_skew', 0.008092633), ('color_moments_hsv_H_max', 0.0077363444), ('color_moments_hsv_V_min', 0.0068387813), ('color_moments_hsv_H_min', 0.0067093405), ('lbp_rad2_bins16_1', 0.0065408354)]\n",
      "INFO:utils.ml:Fitted classifier: XGBClassifier0; Done in 44.57280397415161 seconds\n",
      "INFO:utils.ml:Fitting classifier: XGBClassifier1\n",
      "INFO:utils.ml:Top 10 features for XGBClassifier1: [('fft_radial_mean_121', 0.03146014), ('color_moments_lab_A_min', 0.027667955), ('lbp_rad2_bins16_8', 0.011241277), ('fft_radial_variance_60', 0.010746265), ('fft_radial_variance_62', 0.009892712), ('color_moments_lab_B_skew', 0.008092633), ('color_moments_hsv_H_max', 0.0077363444), ('color_moments_hsv_V_min', 0.0068387813), ('color_moments_hsv_H_min', 0.0067093405), ('lbp_rad2_bins16_1', 0.0065408354)]\n",
      "INFO:utils.ml:Fitted classifier: XGBClassifier1; Done in 45.48537826538086 seconds\n",
      "INFO:utils.ml:Fitting classifier: XGBClassifier2\n",
      "INFO:utils.ml:Top 10 features for XGBClassifier2: [('color_moments_lab_A_min', 0.027591886), ('fft_radial_mean_127', 0.013744451), ('lbp_rad2_bins16_8', 0.011023366), ('color_moments_hsv_V_min', 0.008742859), ('color_moments_hsv_H_max', 0.008467592), ('color_moments_lab_B_skew', 0.008339065), ('color_moments_lab_A_mean', 0.008251951), ('lbp_rad2_bins16_1', 0.0079745455), ('fft_radial_mean_144', 0.0078233415), ('gradient_magnitude_std', 0.0072237174)]\n",
      "INFO:utils.ml:Fitted classifier: XGBClassifier2; Done in 36.826334714889526 seconds\n",
      "INFO:utils.ml:Fitting classifier: XGBClassifier3\n",
      "INFO:utils.ml:Top 10 features for XGBClassifier3: [('fft_radial_mean_121', 0.034081243), ('color_moments_lab_A_min', 0.027741833), ('fft_radial_variance_60', 0.01164159), ('lbp_rad2_bins16_8', 0.01082211), ('fft_radial_variance_62', 0.010716924), ('color_moments_lab_B_skew', 0.008197442), ('color_moments_hsv_H_max', 0.007870071), ('color_moments_hsv_H_min', 0.0072683296), ('color_moments_hsv_V_min', 0.0068358304), ('fft_radial_mean_154', 0.006697076)]\n",
      "INFO:utils.ml:Fitted classifier: XGBClassifier3; Done in 51.37481212615967 seconds\n",
      "INFO:utils.ml:Fitting classifier: XGBClassifier4\n",
      "INFO:utils.ml:Top 10 features for XGBClassifier4: [('fft_radial_mean_121', 0.034081243), ('color_moments_lab_A_min', 0.027741833), ('fft_radial_variance_60', 0.01164159), ('lbp_rad2_bins16_8', 0.01082211), ('fft_radial_variance_62', 0.010716924), ('color_moments_lab_B_skew', 0.008197442), ('color_moments_hsv_H_max', 0.007870071), ('color_moments_hsv_H_min', 0.0072683296), ('color_moments_hsv_V_min', 0.0068358304), ('fft_radial_mean_154', 0.006697076)]\n",
      "INFO:utils.ml:Fitted classifier: XGBClassifier4; Done in 52.23345947265625 seconds\n",
      "INFO:utils.ml:Fitting classifier: XGBClassifier5\n",
      "INFO:utils.ml:Top 10 features for XGBClassifier5: [('color_moments_lab_A_min', 0.028766051), ('lbp_rad2_bins16_8', 0.0113815), ('fft_radial_mean_127', 0.010322341), ('color_moments_hsv_V_min', 0.0089113265), ('fft_radial_mean_144', 0.008795355), ('color_moments_hsv_H_max', 0.008693319), ('color_moments_lab_B_skew', 0.008640868), ('color_moments_lab_A_mean', 0.008217235), ('lbp_rad2_bins16_1', 0.008207768), ('gradient_magnitude_std', 0.007475802)]\n",
      "INFO:utils.ml:Fitted classifier: XGBClassifier5; Done in 45.98148727416992 seconds\n",
      "INFO:utils.ml:Fitting classifier: XGBClassifier6\n",
      "INFO:utils.ml:Top 10 features for XGBClassifier6: [('fft_radial_mean_121', 0.028425336), ('color_moments_lab_A_min', 0.027537018), ('lbp_rad2_bins16_8', 0.011609758), ('fft_radial_mean_83', 0.010303281), ('fft_radial_variance_60', 0.009709626), ('fft_radial_variance_62', 0.008938412), ('color_moments_lab_B_skew', 0.008181125), ('color_moments_hsv_H_max', 0.0076142475), ('color_moments_hsv_V_min', 0.00715932), ('lbp_rad2_bins16_1', 0.0068252725)]\n",
      "INFO:utils.ml:Fitted classifier: XGBClassifier6; Done in 37.32907009124756 seconds\n",
      "INFO:utils.ml:Fitting classifier: XGBClassifier7\n",
      "INFO:utils.ml:Top 10 features for XGBClassifier7: [('fft_radial_mean_121', 0.028425336), ('color_moments_lab_A_min', 0.027537018), ('lbp_rad2_bins16_8', 0.011609758), ('fft_radial_mean_83', 0.010303281), ('fft_radial_variance_60', 0.009709626), ('fft_radial_variance_62', 0.008938412), ('color_moments_lab_B_skew', 0.008181125), ('color_moments_hsv_H_max', 0.0076142475), ('color_moments_hsv_V_min', 0.00715932), ('lbp_rad2_bins16_1', 0.0068252725)]\n",
      "INFO:utils.ml:Fitted classifier: XGBClassifier7; Done in 38.959457874298096 seconds\n",
      "INFO:utils.ml:Fitting classifier: XGBClassifier8\n",
      "INFO:utils.ml:Top 10 features for XGBClassifier8: [('color_moments_lab_A_min', 0.027549656), ('fft_radial_mean_127', 0.011899343), ('lbp_rad2_bins16_8', 0.0108541045), ('color_moments_hsv_V_min', 0.008999256), ('lbp_rad2_bins16_1', 0.008623282), ('color_moments_lab_B_skew', 0.008460371), ('color_moments_hsv_H_max', 0.008415227), ('color_moments_lab_A_mean', 0.008159141), ('fft_radial_variance_48', 0.008088665), ('gradient_magnitude_std', 0.0073356177)]\n",
      "INFO:utils.ml:Fitted classifier: XGBClassifier8; Done in 30.592536687850952 seconds\n",
      "INFO:utils.ml:Fitting classifier: XGBClassifier9\n",
      "INFO:utils.ml:Top 10 features for XGBClassifier9: [('color_moments_lab_A_min', 0.030439718), ('lbp_rad2_bins16_8', 0.014464287), ('fft_radial_mean_168', 0.011626561), ('color_moments_lab_A_iqr', 0.008560697), ('fft_radial_variance_165', 0.007934906), ('color_moments_lab_B_skew', 0.00776868), ('color_moments_hsv_H_max', 0.007595974), ('lbp_rad2_bins16_1', 0.007327089), ('fft_radial_mean_24', 0.007044552), ('fft_radial_variance_38', 0.0066424822)]\n",
      "INFO:utils.ml:Fitted classifier: XGBClassifier9; Done in 61.77754807472229 seconds\n",
      "INFO:utils.ml:Fitting classifier: XGBClassifier10\n",
      "INFO:utils.ml:Top 10 features for XGBClassifier10: [('color_moments_lab_A_min', 0.03157093), ('lbp_rad2_bins16_8', 0.013688139), ('color_moments_lab_A_iqr', 0.008473339), ('fft_radial_mean_138', 0.008242062), ('color_moments_lab_B_skew', 0.008168929), ('fft_radial_variance_62', 0.00788698), ('color_moments_hsv_H_max', 0.007717221), ('lbp_rad2_bins16_1', 0.0074884067), ('color_moments_hsv_V_min', 0.007014684), ('fft_radial_mean_154', 0.006608175)]\n",
      "INFO:utils.ml:Fitted classifier: XGBClassifier10; Done in 57.13300585746765 seconds\n",
      "INFO:utils.ml:Fitting completed in 502.27 seconds.\n"
     ]
    }
   ],
   "execution_count": 15
  },
  {
   "metadata": {
    "ExecuteTime": {
     "end_time": "2024-11-03T22:55:43.410631Z",
     "start_time": "2024-11-03T22:44:25.299287Z"
    }
   },
   "cell_type": "code",
   "source": "pipeline.predict_with_classifiers(VAL_PATH)",
   "id": "f71e18a07f5ee7bb",
   "outputs": [
    {
     "name": "stderr",
     "output_type": "stream",
     "text": [
      "INFO:utils.ml:Predicting with classifiers on dataset: C:\\Users\\gimes\\Src\\repos\\CADx-Project\\dataset\\binary\\val\n"
     ]
    },
    {
     "name": "stdout",
     "output_type": "stream",
     "text": [
      "Processed 5/159 batches.\n",
      "Processed 10/159 batches.\n",
      "Processed 15/159 batches.\n",
      "Processed 20/159 batches.\n",
      "Processed 25/159 batches.\n",
      "Processed 30/159 batches.\n",
      "Processed 35/159 batches.\n",
      "Processed 40/159 batches.\n",
      "Processed 45/159 batches.\n",
      "Processed 50/159 batches.\n",
      "Processed 55/159 batches.\n",
      "Processed 60/159 batches.\n",
      "Processed 65/159 batches.\n",
      "Processed 70/159 batches.\n",
      "Processed 75/159 batches.\n",
      "Processed 80/159 batches.\n",
      "Processed 85/159 batches.\n",
      "Processed 90/159 batches.\n",
      "Processed 95/159 batches.\n",
      "Processed 100/159 batches.\n",
      "Processed 105/159 batches.\n",
      "Processed 110/159 batches.\n",
      "Processed 115/159 batches.\n",
      "Processed 120/159 batches.\n",
      "Processed 125/159 batches.\n",
      "Processed 130/159 batches.\n",
      "Processed 135/159 batches.\n",
      "Processed 140/159 batches.\n",
      "Processed 145/159 batches.\n",
      "Processed 150/159 batches.\n",
      "Processed 155/159 batches.\n"
     ]
    },
    {
     "name": "stderr",
     "output_type": "stream",
     "text": [
      "INFO:utils.ml:Predictions made with classifier: XGBClassifier0\n",
      "INFO:utils.ml:Predictions made with classifier: XGBClassifier1\n",
      "INFO:utils.ml:Predictions made with classifier: XGBClassifier2\n",
      "INFO:utils.ml:Predictions made with classifier: XGBClassifier3\n",
      "INFO:utils.ml:Predictions made with classifier: XGBClassifier4\n",
      "INFO:utils.ml:Predictions made with classifier: XGBClassifier5\n",
      "INFO:utils.ml:Predictions made with classifier: XGBClassifier6\n"
     ]
    },
    {
     "name": "stdout",
     "output_type": "stream",
     "text": [
      "Processed 159/159 batches.\n"
     ]
    },
    {
     "name": "stderr",
     "output_type": "stream",
     "text": [
      "INFO:utils.ml:Predictions made with classifier: XGBClassifier7\n",
      "INFO:utils.ml:Predictions made with classifier: XGBClassifier8\n",
      "INFO:utils.ml:Predictions made with classifier: XGBClassifier9\n",
      "INFO:utils.ml:Predictions made with classifier: XGBClassifier10\n"
     ]
    },
    {
     "data": {
      "text/plain": [
       "{'GT': array([0, 0, 0, ..., 1, 1, 1]),\n",
       " 'XGBClassifier0': array([0, 0, 0, ..., 0, 0, 1]),\n",
       " 'XGBClassifier1': array([0, 0, 0, ..., 0, 0, 1]),\n",
       " 'XGBClassifier2': array([0, 0, 0, ..., 1, 0, 1]),\n",
       " 'XGBClassifier3': array([0, 0, 0, ..., 0, 0, 1]),\n",
       " 'XGBClassifier4': array([0, 0, 0, ..., 0, 0, 1]),\n",
       " 'XGBClassifier5': array([0, 0, 0, ..., 1, 0, 1]),\n",
       " 'XGBClassifier6': array([0, 0, 0, ..., 0, 0, 1]),\n",
       " 'XGBClassifier7': array([0, 0, 0, ..., 0, 0, 1]),\n",
       " 'XGBClassifier8': array([0, 0, 0, ..., 1, 0, 1]),\n",
       " 'XGBClassifier9': array([0, 0, 0, ..., 0, 1, 1]),\n",
       " 'XGBClassifier10': array([0, 0, 0, ..., 0, 0, 1])}"
      ]
     },
     "execution_count": 16,
     "metadata": {},
     "output_type": "execute_result"
    }
   ],
   "execution_count": 16
  },
  {
   "metadata": {
    "tags": [
     "BEST 3-11"
    ],
    "ExecuteTime": {
     "end_time": "2024-11-03T22:55:43.516604Z",
     "start_time": "2024-11-03T22:55:43.431417Z"
    }
   },
   "cell_type": "code",
   "source": [
    "import pandas as pd\n",
    "\n",
    "df = pd.DataFrame(data=pipeline.calculate_metrics())\n",
    "df = df.T\n",
    "df"
   ],
   "id": "751fad2660242db5",
   "outputs": [
    {
     "name": "stderr",
     "output_type": "stream",
     "text": [
      "INFO:utils.ml:Metrics for classifier GT: {'accuracy': 1.0, 'precision': 1.0, 'recall': 1.0, 'f1': 1.0, 'kappa': 1.0}\n",
      "INFO:utils.ml:Metrics for classifier XGBClassifier0: {'accuracy': 0.8516859852476291, 'precision': 0.8516364274480883, 'recall': 0.8516548816196305, 'f1': 0.851645122221862, 'kappa': 0.7032904298145117}\n",
      "INFO:utils.ml:Metrics for classifier XGBClassifier1: {'accuracy': 0.8516859852476291, 'precision': 0.8516364274480883, 'recall': 0.8516548816196305, 'f1': 0.851645122221862, 'kappa': 0.7032904298145117}\n",
      "INFO:utils.ml:Metrics for classifier XGBClassifier2: {'accuracy': 0.8501053740779768, 'precision': 0.8501300108342362, 'recall': 0.8499729959750812, 'f1': 0.8500301790168034, 'kappa': 0.7000678759170469}\n",
      "INFO:utils.ml:Metrics for classifier XGBClassifier3: {'accuracy': 0.8516859852476291, 'precision': 0.8516528925619835, 'recall': 0.8516182283415918, 'f1': 0.851634081533124, 'kappa': 0.703268678061175}\n",
      "INFO:utils.ml:Metrics for classifier XGBClassifier4: {'accuracy': 0.8516859852476291, 'precision': 0.8516528925619835, 'recall': 0.8516182283415918, 'f1': 0.851634081533124, 'kappa': 0.703268678061175}\n",
      "INFO:utils.ml:Metrics for classifier XGBClassifier5: {'accuracy': 0.8516859852476291, 'precision': 0.851723356210661, 'recall': 0.8515449217855144, 'f1': 0.8516080387739327, 'kappa': 0.7032251649853831}\n",
      "INFO:utils.ml:Metrics for classifier XGBClassifier6: {'accuracy': 0.8493150684931506, 'precision': 0.8492610098906819, 'recall': 0.8493153195430003, 'f1': 0.8492822674241036, 'kappa': 0.6985666271939628}\n",
      "INFO:utils.ml:Metrics for classifier XGBClassifier7: {'accuracy': 0.8493150684931506, 'precision': 0.8492610098906819, 'recall': 0.8493153195430003, 'f1': 0.8492822674241036, 'kappa': 0.6985666271939628}\n",
      "INFO:utils.ml:Metrics for classifier XGBClassifier8: {'accuracy': 0.8498419388830347, 'precision': 0.849832475969891, 'recall': 0.8497415527383747, 'f1': 0.8497785126592561, 'kappa': 0.6995600289814905}\n",
      "INFO:utils.ml:Metrics for classifier XGBClassifier9: {'accuracy': 0.8503688092729189, 'precision': 0.8503516818934859, 'recall': 0.8502777457678654, 'f1': 0.850308806540478, 'kappa': 0.7006196915566157}\n",
      "INFO:utils.ml:Metrics for classifier XGBClassifier10: {'accuracy': 0.8479978925184405, 'precision': 0.8479633208922065, 'recall': 0.8479290203717254, 'f1': 0.847944698125422, 'kappa': 0.6958899240520389}\n"
     ]
    },
    {
     "data": {
      "text/plain": [
       "                 accuracy  precision    recall        f1     kappa\n",
       "GT               1.000000   1.000000  1.000000  1.000000  1.000000\n",
       "XGBClassifier0   0.851686   0.851636  0.851655  0.851645  0.703290\n",
       "XGBClassifier1   0.851686   0.851636  0.851655  0.851645  0.703290\n",
       "XGBClassifier2   0.850105   0.850130  0.849973  0.850030  0.700068\n",
       "XGBClassifier3   0.851686   0.851653  0.851618  0.851634  0.703269\n",
       "XGBClassifier4   0.851686   0.851653  0.851618  0.851634  0.703269\n",
       "XGBClassifier5   0.851686   0.851723  0.851545  0.851608  0.703225\n",
       "XGBClassifier6   0.849315   0.849261  0.849315  0.849282  0.698567\n",
       "XGBClassifier7   0.849315   0.849261  0.849315  0.849282  0.698567\n",
       "XGBClassifier8   0.849842   0.849832  0.849742  0.849779  0.699560\n",
       "XGBClassifier9   0.850369   0.850352  0.850278  0.850309  0.700620\n",
       "XGBClassifier10  0.847998   0.847963  0.847929  0.847945  0.695890"
      ],
      "text/html": [
       "<div>\n",
       "<style scoped>\n",
       "    .dataframe tbody tr th:only-of-type {\n",
       "        vertical-align: middle;\n",
       "    }\n",
       "\n",
       "    .dataframe tbody tr th {\n",
       "        vertical-align: top;\n",
       "    }\n",
       "\n",
       "    .dataframe thead th {\n",
       "        text-align: right;\n",
       "    }\n",
       "</style>\n",
       "<table border=\"1\" class=\"dataframe\">\n",
       "  <thead>\n",
       "    <tr style=\"text-align: right;\">\n",
       "      <th></th>\n",
       "      <th>accuracy</th>\n",
       "      <th>precision</th>\n",
       "      <th>recall</th>\n",
       "      <th>f1</th>\n",
       "      <th>kappa</th>\n",
       "    </tr>\n",
       "  </thead>\n",
       "  <tbody>\n",
       "    <tr>\n",
       "      <th>GT</th>\n",
       "      <td>1.000000</td>\n",
       "      <td>1.000000</td>\n",
       "      <td>1.000000</td>\n",
       "      <td>1.000000</td>\n",
       "      <td>1.000000</td>\n",
       "    </tr>\n",
       "    <tr>\n",
       "      <th>XGBClassifier0</th>\n",
       "      <td>0.851686</td>\n",
       "      <td>0.851636</td>\n",
       "      <td>0.851655</td>\n",
       "      <td>0.851645</td>\n",
       "      <td>0.703290</td>\n",
       "    </tr>\n",
       "    <tr>\n",
       "      <th>XGBClassifier1</th>\n",
       "      <td>0.851686</td>\n",
       "      <td>0.851636</td>\n",
       "      <td>0.851655</td>\n",
       "      <td>0.851645</td>\n",
       "      <td>0.703290</td>\n",
       "    </tr>\n",
       "    <tr>\n",
       "      <th>XGBClassifier2</th>\n",
       "      <td>0.850105</td>\n",
       "      <td>0.850130</td>\n",
       "      <td>0.849973</td>\n",
       "      <td>0.850030</td>\n",
       "      <td>0.700068</td>\n",
       "    </tr>\n",
       "    <tr>\n",
       "      <th>XGBClassifier3</th>\n",
       "      <td>0.851686</td>\n",
       "      <td>0.851653</td>\n",
       "      <td>0.851618</td>\n",
       "      <td>0.851634</td>\n",
       "      <td>0.703269</td>\n",
       "    </tr>\n",
       "    <tr>\n",
       "      <th>XGBClassifier4</th>\n",
       "      <td>0.851686</td>\n",
       "      <td>0.851653</td>\n",
       "      <td>0.851618</td>\n",
       "      <td>0.851634</td>\n",
       "      <td>0.703269</td>\n",
       "    </tr>\n",
       "    <tr>\n",
       "      <th>XGBClassifier5</th>\n",
       "      <td>0.851686</td>\n",
       "      <td>0.851723</td>\n",
       "      <td>0.851545</td>\n",
       "      <td>0.851608</td>\n",
       "      <td>0.703225</td>\n",
       "    </tr>\n",
       "    <tr>\n",
       "      <th>XGBClassifier6</th>\n",
       "      <td>0.849315</td>\n",
       "      <td>0.849261</td>\n",
       "      <td>0.849315</td>\n",
       "      <td>0.849282</td>\n",
       "      <td>0.698567</td>\n",
       "    </tr>\n",
       "    <tr>\n",
       "      <th>XGBClassifier7</th>\n",
       "      <td>0.849315</td>\n",
       "      <td>0.849261</td>\n",
       "      <td>0.849315</td>\n",
       "      <td>0.849282</td>\n",
       "      <td>0.698567</td>\n",
       "    </tr>\n",
       "    <tr>\n",
       "      <th>XGBClassifier8</th>\n",
       "      <td>0.849842</td>\n",
       "      <td>0.849832</td>\n",
       "      <td>0.849742</td>\n",
       "      <td>0.849779</td>\n",
       "      <td>0.699560</td>\n",
       "    </tr>\n",
       "    <tr>\n",
       "      <th>XGBClassifier9</th>\n",
       "      <td>0.850369</td>\n",
       "      <td>0.850352</td>\n",
       "      <td>0.850278</td>\n",
       "      <td>0.850309</td>\n",
       "      <td>0.700620</td>\n",
       "    </tr>\n",
       "    <tr>\n",
       "      <th>XGBClassifier10</th>\n",
       "      <td>0.847998</td>\n",
       "      <td>0.847963</td>\n",
       "      <td>0.847929</td>\n",
       "      <td>0.847945</td>\n",
       "      <td>0.695890</td>\n",
       "    </tr>\n",
       "  </tbody>\n",
       "</table>\n",
       "</div>"
      ]
     },
     "execution_count": 17,
     "metadata": {},
     "output_type": "execute_result"
    }
   ],
   "execution_count": 17
  },
  {
   "metadata": {
    "ExecuteTime": {
     "end_time": "2024-11-03T22:55:43.564099Z",
     "start_time": "2024-11-03T22:55:43.551668Z"
    }
   },
   "cell_type": "code",
   "source": [
    "from sklearn.metrics import confusion_matrix, accuracy_score, classification_report\n",
    "\n",
    "highest = df[df[\"accuracy\"] == df.iloc[1:][\"accuracy\"].max()]\n",
    "idx = highest.index[0]\n",
    "\n",
    "print(classification_report(pipeline.predictions[\"GT\"], pipeline.predictions[idx]))\n",
    "print(confusion_matrix(pipeline.predictions[\"GT\"], pipeline.predictions[idx]))\n"
   ],
   "id": "2208e0e25786bb7e",
   "outputs": [
    {
     "name": "stdout",
     "output_type": "stream",
     "text": [
      "              precision    recall  f1-score   support\n",
      "\n",
      "           0       0.85      0.85      0.85      1931\n",
      "           1       0.85      0.85      0.85      1865\n",
      "\n",
      "    accuracy                           0.85      3796\n",
      "   macro avg       0.85      0.85      0.85      3796\n",
      "weighted avg       0.85      0.85      0.85      3796\n",
      "\n",
      "[[1648  283]\n",
      " [ 280 1585]]\n"
     ]
    }
   ],
   "execution_count": 18
  },
  {
   "metadata": {
    "ExecuteTime": {
     "end_time": "2024-11-03T22:55:43.597979Z",
     "start_time": "2024-11-03T22:55:43.589352Z"
    }
   },
   "cell_type": "code",
   "source": [
    "df_sorted = df.sort_values(\"accuracy\", ascending=False)\n",
    "df_sorted.head(8).index\n",
    "df_sorted"
   ],
   "id": "42a7454eecf3f29d",
   "outputs": [
    {
     "data": {
      "text/plain": [
       "                 accuracy  precision    recall        f1     kappa\n",
       "GT               1.000000   1.000000  1.000000  1.000000  1.000000\n",
       "XGBClassifier0   0.851686   0.851636  0.851655  0.851645  0.703290\n",
       "XGBClassifier1   0.851686   0.851636  0.851655  0.851645  0.703290\n",
       "XGBClassifier3   0.851686   0.851653  0.851618  0.851634  0.703269\n",
       "XGBClassifier4   0.851686   0.851653  0.851618  0.851634  0.703269\n",
       "XGBClassifier5   0.851686   0.851723  0.851545  0.851608  0.703225\n",
       "XGBClassifier9   0.850369   0.850352  0.850278  0.850309  0.700620\n",
       "XGBClassifier2   0.850105   0.850130  0.849973  0.850030  0.700068\n",
       "XGBClassifier8   0.849842   0.849832  0.849742  0.849779  0.699560\n",
       "XGBClassifier6   0.849315   0.849261  0.849315  0.849282  0.698567\n",
       "XGBClassifier7   0.849315   0.849261  0.849315  0.849282  0.698567\n",
       "XGBClassifier10  0.847998   0.847963  0.847929  0.847945  0.695890"
      ],
      "text/html": [
       "<div>\n",
       "<style scoped>\n",
       "    .dataframe tbody tr th:only-of-type {\n",
       "        vertical-align: middle;\n",
       "    }\n",
       "\n",
       "    .dataframe tbody tr th {\n",
       "        vertical-align: top;\n",
       "    }\n",
       "\n",
       "    .dataframe thead th {\n",
       "        text-align: right;\n",
       "    }\n",
       "</style>\n",
       "<table border=\"1\" class=\"dataframe\">\n",
       "  <thead>\n",
       "    <tr style=\"text-align: right;\">\n",
       "      <th></th>\n",
       "      <th>accuracy</th>\n",
       "      <th>precision</th>\n",
       "      <th>recall</th>\n",
       "      <th>f1</th>\n",
       "      <th>kappa</th>\n",
       "    </tr>\n",
       "  </thead>\n",
       "  <tbody>\n",
       "    <tr>\n",
       "      <th>GT</th>\n",
       "      <td>1.000000</td>\n",
       "      <td>1.000000</td>\n",
       "      <td>1.000000</td>\n",
       "      <td>1.000000</td>\n",
       "      <td>1.000000</td>\n",
       "    </tr>\n",
       "    <tr>\n",
       "      <th>XGBClassifier0</th>\n",
       "      <td>0.851686</td>\n",
       "      <td>0.851636</td>\n",
       "      <td>0.851655</td>\n",
       "      <td>0.851645</td>\n",
       "      <td>0.703290</td>\n",
       "    </tr>\n",
       "    <tr>\n",
       "      <th>XGBClassifier1</th>\n",
       "      <td>0.851686</td>\n",
       "      <td>0.851636</td>\n",
       "      <td>0.851655</td>\n",
       "      <td>0.851645</td>\n",
       "      <td>0.703290</td>\n",
       "    </tr>\n",
       "    <tr>\n",
       "      <th>XGBClassifier3</th>\n",
       "      <td>0.851686</td>\n",
       "      <td>0.851653</td>\n",
       "      <td>0.851618</td>\n",
       "      <td>0.851634</td>\n",
       "      <td>0.703269</td>\n",
       "    </tr>\n",
       "    <tr>\n",
       "      <th>XGBClassifier4</th>\n",
       "      <td>0.851686</td>\n",
       "      <td>0.851653</td>\n",
       "      <td>0.851618</td>\n",
       "      <td>0.851634</td>\n",
       "      <td>0.703269</td>\n",
       "    </tr>\n",
       "    <tr>\n",
       "      <th>XGBClassifier5</th>\n",
       "      <td>0.851686</td>\n",
       "      <td>0.851723</td>\n",
       "      <td>0.851545</td>\n",
       "      <td>0.851608</td>\n",
       "      <td>0.703225</td>\n",
       "    </tr>\n",
       "    <tr>\n",
       "      <th>XGBClassifier9</th>\n",
       "      <td>0.850369</td>\n",
       "      <td>0.850352</td>\n",
       "      <td>0.850278</td>\n",
       "      <td>0.850309</td>\n",
       "      <td>0.700620</td>\n",
       "    </tr>\n",
       "    <tr>\n",
       "      <th>XGBClassifier2</th>\n",
       "      <td>0.850105</td>\n",
       "      <td>0.850130</td>\n",
       "      <td>0.849973</td>\n",
       "      <td>0.850030</td>\n",
       "      <td>0.700068</td>\n",
       "    </tr>\n",
       "    <tr>\n",
       "      <th>XGBClassifier8</th>\n",
       "      <td>0.849842</td>\n",
       "      <td>0.849832</td>\n",
       "      <td>0.849742</td>\n",
       "      <td>0.849779</td>\n",
       "      <td>0.699560</td>\n",
       "    </tr>\n",
       "    <tr>\n",
       "      <th>XGBClassifier6</th>\n",
       "      <td>0.849315</td>\n",
       "      <td>0.849261</td>\n",
       "      <td>0.849315</td>\n",
       "      <td>0.849282</td>\n",
       "      <td>0.698567</td>\n",
       "    </tr>\n",
       "    <tr>\n",
       "      <th>XGBClassifier7</th>\n",
       "      <td>0.849315</td>\n",
       "      <td>0.849261</td>\n",
       "      <td>0.849315</td>\n",
       "      <td>0.849282</td>\n",
       "      <td>0.698567</td>\n",
       "    </tr>\n",
       "    <tr>\n",
       "      <th>XGBClassifier10</th>\n",
       "      <td>0.847998</td>\n",
       "      <td>0.847963</td>\n",
       "      <td>0.847929</td>\n",
       "      <td>0.847945</td>\n",
       "      <td>0.695890</td>\n",
       "    </tr>\n",
       "  </tbody>\n",
       "</table>\n",
       "</div>"
      ]
     },
     "execution_count": 19,
     "metadata": {},
     "output_type": "execute_result"
    }
   ],
   "execution_count": 19
  },
  {
   "metadata": {
    "ExecuteTime": {
     "end_time": "2024-11-03T23:31:03.264155Z",
     "start_time": "2024-11-03T23:13:54.695451Z"
    }
   },
   "cell_type": "code",
   "source": [
    "test_loader = FactoryLoader(TEST_PATH, pipeline.batch_size, factory, shuffle=False)\n",
    "\n",
    "# test_loader.show_images(100)\n",
    "\n",
    "test_feature_matrix, _ = pipeline.feature_strategy.run(test_loader.get_loader())"
   ],
   "id": "200530a0ae5b947",
   "outputs": [
    {
     "name": "stdout",
     "output_type": "stream",
     "text": [
      "Processed 5/265 batches.\n",
      "Processed 10/265 batches.\n",
      "Processed 15/265 batches.\n",
      "Processed 20/265 batches.\n",
      "Processed 25/265 batches.\n",
      "Processed 30/265 batches.\n",
      "Processed 35/265 batches.\n",
      "Processed 40/265 batches.\n",
      "Processed 45/265 batches.\n",
      "Processed 50/265 batches.\n",
      "Processed 55/265 batches.\n",
      "Processed 60/265 batches.\n",
      "Processed 65/265 batches.\n",
      "Processed 70/265 batches.\n",
      "Processed 75/265 batches.\n",
      "Processed 80/265 batches.\n",
      "Processed 85/265 batches.\n",
      "Processed 90/265 batches.\n",
      "Processed 95/265 batches.\n",
      "Processed 100/265 batches.\n",
      "Processed 105/265 batches.\n",
      "Processed 110/265 batches.\n",
      "Processed 115/265 batches.\n",
      "Processed 120/265 batches.\n",
      "Processed 125/265 batches.\n",
      "Processed 130/265 batches.\n",
      "Processed 135/265 batches.\n",
      "Processed 140/265 batches.\n",
      "Processed 145/265 batches.\n",
      "Processed 150/265 batches.\n",
      "Processed 155/265 batches.\n",
      "Processed 160/265 batches.\n",
      "Processed 165/265 batches.\n",
      "Processed 170/265 batches.\n",
      "Processed 175/265 batches.\n",
      "Processed 180/265 batches.\n",
      "Processed 185/265 batches.\n",
      "Processed 190/265 batches.\n",
      "Processed 195/265 batches.\n",
      "Processed 200/265 batches.\n",
      "Processed 205/265 batches.\n",
      "Processed 210/265 batches.\n",
      "Processed 215/265 batches.\n",
      "Processed 220/265 batches.\n",
      "Processed 225/265 batches.\n",
      "Processed 230/265 batches.\n",
      "Processed 235/265 batches.\n",
      "Processed 240/265 batches.\n",
      "Processed 245/265 batches.\n",
      "Processed 250/265 batches.\n",
      "Processed 255/265 batches.\n",
      "Processed 260/265 batches.\n",
      "Processed 265/265 batches.\n"
     ]
    }
   ],
   "execution_count": 34
  },
  {
   "metadata": {
    "ExecuteTime": {
     "end_time": "2024-11-03T23:31:03.315735Z",
     "start_time": "2024-11-03T23:31:03.270161Z"
    }
   },
   "cell_type": "code",
   "source": [
    "test_predictions = pipeline.fitted_classifiers[\"XGBClassifier1\"].predict(test_feature_matrix)\n",
    "test_predictions.shape"
   ],
   "id": "c8ab096fcb5b6ff7",
   "outputs": [
    {
     "data": {
      "text/plain": [
       "(6340,)"
      ]
     },
     "execution_count": 35,
     "metadata": {},
     "output_type": "execute_result"
    }
   ],
   "execution_count": 35
  },
  {
   "metadata": {
    "ExecuteTime": {
     "end_time": "2024-11-03T23:33:10.939555Z",
     "start_time": "2024-11-03T23:33:10.930607Z"
    }
   },
   "cell_type": "code",
   "source": "np.histogram(test_predictions, 2)",
   "id": "312bea85a4bfb983",
   "outputs": [
    {
     "data": {
      "text/plain": [
       "(array([3204, 3136], dtype=int64), array([0. , 0.5, 1. ]))"
      ]
     },
     "execution_count": 37,
     "metadata": {},
     "output_type": "execute_result"
    }
   ],
   "execution_count": 37
  },
  {
   "metadata": {},
   "cell_type": "code",
   "outputs": [],
   "execution_count": null,
   "source": "",
   "id": "2734ecfcb218c1bd"
  }
 ],
 "metadata": {
  "kernelspec": {
   "display_name": "Python 3",
   "language": "python",
   "name": "python3"
  },
  "language_info": {
   "codemirror_mode": {
    "name": "ipython",
    "version": 2
   },
   "file_extension": ".py",
   "mimetype": "text/x-python",
   "name": "python",
   "nbconvert_exporter": "python",
   "pygments_lexer": "ipython2",
   "version": "2.7.6"
  }
 },
 "nbformat": 4,
 "nbformat_minor": 5
}

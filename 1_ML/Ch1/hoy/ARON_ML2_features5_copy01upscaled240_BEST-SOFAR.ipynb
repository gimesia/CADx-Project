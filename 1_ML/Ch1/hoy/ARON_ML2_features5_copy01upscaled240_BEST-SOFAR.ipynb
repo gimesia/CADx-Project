{
 "cells": [
  {
   "cell_type": "code",
   "id": "initial_id",
   "metadata": {
    "collapsed": true,
    "ExecuteTime": {
     "end_time": "2024-11-03T16:33:39.193480Z",
     "start_time": "2024-11-03T16:33:33.272617Z"
    }
   },
   "source": [
    "from utils.loader import FactoryLoader\n",
    "from utils.ml import MLPipeline\n",
    "from utils.preprocessing import PreprocessingFactory\n",
    "from utils.feature_extraction import *\n",
    "from utils.utils import *\n",
    "\n",
    "VAL_PATH = r\"C:\\Users\\gimes\\Src\\repos\\CADx-Project\\dataset\\binary\\val\"\n",
    "TRAIN_PATH = r\"C:\\Users\\gimes\\Src\\repos\\CADx-Project\\dataset\\binary\\train\""
   ],
   "outputs": [
    {
     "name": "stderr",
     "output_type": "stream",
     "text": [
      "INFO:numexpr.utils:Note: NumExpr detected 16 cores but \"NUMEXPR_MAX_THREADS\" not set, so enforcing safe limit of 8.\n",
      "INFO:numexpr.utils:NumExpr defaulting to 8 threads.\n"
     ]
    }
   ],
   "execution_count": 1
  },
  {
   "metadata": {
    "ExecuteTime": {
     "end_time": "2024-11-03T16:33:39.286052Z",
     "start_time": "2024-11-03T16:33:39.193480Z"
    }
   },
   "cell_type": "code",
   "source": [
    "percent = 100\n",
    "random = False\n",
    "batch_size = 24\n",
    "\n",
    "# Initialize the FactoryLoader\n",
    "factory = PreprocessingFactory()\n",
    "factory.pad2square(fill=np.nan)\n",
    "factory.resize((240,240))\n",
    "factory.normalize2float()\n",
    "\n",
    "# Create the feature extraction pipeline strategy and add desired features\n",
    "strategy = FeatureExtractionStrategy()\n",
    "\n",
    "strategy.add_extractor(GradientExtractor()) # Add gradient feature\n",
    "\n",
    "strategy.add_extractor(ColorMomentsExtractor(\"rgb\", ))   # Add color moments feature\n",
    "strategy.add_extractor(ColorMomentsExtractor(\"lab\", ))   # Add color moments feature\n",
    "strategy.add_extractor(ColorMomentsExtractor(\"hsv\", ))   # Add color moments feature\n",
    "\n",
    "strategy.add_extractor(LBPExtractor(radius=1, n_points=8))\n",
    "strategy.add_extractor(LBPExtractor(radius=2, n_points=16))\n",
    "strategy.add_extractor(LBPExtractor(radius=3, n_points=24))\n",
    "strategy.add_extractor(LBPExtractor(radius=4, n_points=32))\n",
    "strategy.add_extractor(LBPExtractor(radius=5, n_points=40))\n",
    "\n",
    "strategy.add_extractor(FourierTransformExtractor())\n",
    "strategy.add_extractor(FFTExtractor())\n",
    "\n",
    "strategy.add_extractor(GLCMExtractor(properties=['contrast', 'dissimilarity', 'homogeneity', 'energy', 'correlation', \"ASM\"]))\n",
    "\n",
    "pipeline = MLPipeline(dataset_path=TRAIN_PATH, preprocessing_factory=factory, feature_strategy=strategy, classifiers=[], percentage=percent, verbose=True, shuffle=random, batch_size=batch_size)"
   ],
   "id": "d7c81ba220d9e517",
   "outputs": [
    {
     "name": "stderr",
     "output_type": "stream",
     "text": [
      "INFO:utils.ml:MLPipeline initialized with dataset path: C:\\Users\\gimes\\Src\\repos\\CADx-Project\\dataset\\binary\\train\n",
      "INFO:utils.ml:Preprocessing steps\n"
     ]
    }
   ],
   "execution_count": 2
  },
  {
   "metadata": {
    "ExecuteTime": {
     "end_time": "2024-11-03T18:10:21.708238Z",
     "start_time": "2024-11-03T16:58:44.969745Z"
    }
   },
   "cell_type": "code",
   "source": "pipeline.run_feature_extraction()",
   "id": "21f510c52296a049",
   "outputs": [
    {
     "name": "stderr",
     "output_type": "stream",
     "text": [
      "INFO:utils.ml:Running feature extraction...\n"
     ]
    },
    {
     "name": "stdout",
     "output_type": "stream",
     "text": [
      "Processed 5/634 batches.\n",
      "Processed 10/634 batches.\n",
      "Processed 15/634 batches.\n",
      "Processed 20/634 batches.\n",
      "Processed 25/634 batches.\n",
      "Processed 30/634 batches.\n",
      "Processed 35/634 batches.\n",
      "Processed 40/634 batches.\n",
      "Processed 45/634 batches.\n",
      "Processed 50/634 batches.\n",
      "Processed 55/634 batches.\n",
      "Processed 60/634 batches.\n",
      "Processed 65/634 batches.\n",
      "Processed 70/634 batches.\n",
      "Processed 75/634 batches.\n"
     ]
    },
    {
     "name": "stderr",
     "output_type": "stream",
     "text": [
      "C:\\Users\\gimes\\Src\\repos\\CADx-Project\\utils\\feature_extraction.py:286: RuntimeWarning: Precision loss occurred in moment calculation due to catastrophic cancellation. This occurs when the data are nearly identical. Results may be unreliable.\n",
      "  skew_val = skew(channel.flatten(), nan_policy='omit')\n",
      "C:\\Users\\gimes\\Src\\repos\\CADx-Project\\utils\\feature_extraction.py:287: RuntimeWarning: Precision loss occurred in moment calculation due to catastrophic cancellation. This occurs when the data are nearly identical. Results may be unreliable.\n",
      "  kurtosis_val = kurtosis(channel.flatten(), nan_policy='omit')\n"
     ]
    },
    {
     "name": "stdout",
     "output_type": "stream",
     "text": [
      "Processed 80/634 batches.\n",
      "Processed 85/634 batches.\n",
      "Processed 90/634 batches.\n",
      "Processed 95/634 batches.\n",
      "Processed 100/634 batches.\n",
      "Processed 105/634 batches.\n",
      "Processed 110/634 batches.\n",
      "Processed 115/634 batches.\n",
      "Processed 120/634 batches.\n",
      "Processed 125/634 batches.\n",
      "Processed 130/634 batches.\n",
      "Processed 135/634 batches.\n",
      "Processed 140/634 batches.\n",
      "Processed 145/634 batches.\n",
      "Processed 150/634 batches.\n",
      "Processed 155/634 batches.\n",
      "Processed 160/634 batches.\n",
      "Processed 165/634 batches.\n",
      "Processed 170/634 batches.\n",
      "Processed 175/634 batches.\n",
      "Processed 180/634 batches.\n",
      "Processed 185/634 batches.\n",
      "Processed 190/634 batches.\n",
      "Processed 195/634 batches.\n",
      "Processed 200/634 batches.\n",
      "Processed 205/634 batches.\n",
      "Processed 210/634 batches.\n",
      "Processed 215/634 batches.\n",
      "Processed 220/634 batches.\n",
      "Processed 225/634 batches.\n",
      "Processed 230/634 batches.\n",
      "Processed 235/634 batches.\n",
      "Processed 240/634 batches.\n",
      "Processed 245/634 batches.\n",
      "Processed 250/634 batches.\n",
      "Processed 255/634 batches.\n",
      "Processed 260/634 batches.\n",
      "Processed 265/634 batches.\n",
      "Processed 270/634 batches.\n",
      "Processed 275/634 batches.\n",
      "Processed 280/634 batches.\n",
      "Processed 285/634 batches.\n",
      "Processed 290/634 batches.\n",
      "Processed 295/634 batches.\n",
      "Processed 300/634 batches.\n",
      "Processed 305/634 batches.\n",
      "Processed 310/634 batches.\n",
      "Processed 315/634 batches.\n",
      "Processed 320/634 batches.\n",
      "Processed 325/634 batches.\n",
      "Processed 330/634 batches.\n",
      "Processed 335/634 batches.\n",
      "Processed 340/634 batches.\n",
      "Processed 345/634 batches.\n",
      "Processed 350/634 batches.\n",
      "Processed 355/634 batches.\n",
      "Processed 360/634 batches.\n",
      "Processed 365/634 batches.\n",
      "Processed 370/634 batches.\n",
      "Processed 375/634 batches.\n",
      "Processed 380/634 batches.\n",
      "Processed 385/634 batches.\n",
      "Processed 390/634 batches.\n",
      "Processed 395/634 batches.\n",
      "Processed 400/634 batches.\n",
      "Processed 405/634 batches.\n",
      "Processed 410/634 batches.\n",
      "Processed 415/634 batches.\n",
      "Processed 420/634 batches.\n",
      "Processed 425/634 batches.\n",
      "Processed 430/634 batches.\n",
      "Processed 435/634 batches.\n",
      "Processed 440/634 batches.\n",
      "Processed 445/634 batches.\n",
      "Processed 450/634 batches.\n",
      "Processed 455/634 batches.\n",
      "Processed 460/634 batches.\n",
      "Processed 465/634 batches.\n",
      "Processed 470/634 batches.\n",
      "Processed 475/634 batches.\n",
      "Processed 480/634 batches.\n",
      "Processed 485/634 batches.\n",
      "Processed 490/634 batches.\n",
      "Processed 495/634 batches.\n",
      "Processed 500/634 batches.\n",
      "Processed 505/634 batches.\n",
      "Processed 510/634 batches.\n",
      "Processed 515/634 batches.\n",
      "Processed 520/634 batches.\n",
      "Processed 525/634 batches.\n",
      "Processed 530/634 batches.\n",
      "Processed 535/634 batches.\n",
      "Processed 540/634 batches.\n",
      "Processed 545/634 batches.\n",
      "Processed 550/634 batches.\n",
      "Processed 555/634 batches.\n",
      "Processed 560/634 batches.\n",
      "Processed 565/634 batches.\n",
      "Processed 570/634 batches.\n",
      "Processed 575/634 batches.\n",
      "Processed 580/634 batches.\n",
      "Processed 585/634 batches.\n",
      "Processed 590/634 batches.\n",
      "Processed 595/634 batches.\n",
      "Processed 600/634 batches.\n",
      "Processed 605/634 batches.\n",
      "Processed 610/634 batches.\n",
      "Processed 615/634 batches.\n",
      "Processed 620/634 batches.\n",
      "Processed 625/634 batches.\n",
      "Processed 630/634 batches.\n"
     ]
    },
    {
     "name": "stderr",
     "output_type": "stream",
     "text": [
      "INFO:utils.ml:Feature extraction completed. Extracted 15195 features.\n"
     ]
    },
    {
     "name": "stdout",
     "output_type": "stream",
     "text": [
      "Processed 634/634 batches.\n"
     ]
    }
   ],
   "execution_count": 4
  },
  {
   "metadata": {
    "ExecuteTime": {
     "end_time": "2024-11-03T18:10:21.869055Z",
     "start_time": "2024-11-03T18:10:21.711742Z"
    }
   },
   "cell_type": "code",
   "source": [
    "from xgboost import XGBClassifier\n",
    "from sklearn.ensemble import RandomForestClassifier\n",
    "\n",
    "rf0 = RandomForestClassifier(n_estimators=300, max_features='sqrt', random_state=42) # Random Forest with Feature Selection via max_features\n",
    "rf1 = RandomForestClassifier(n_estimators=300, oob_score=True, random_state=42) # Random Forest with Out-of-Bag Error (OOB)\n",
    "rf2 = RandomForestClassifier(n_estimators=300, bootstrap=False, random_state=42) # Random Forest with Bootstrap Disabled\n",
    "rf3 = RandomForestClassifier(n_estimators=100, max_features='sqrt', random_state=42) # Random Forest with Feature Selection via max_features\n",
    "rf4 = RandomForestClassifier(n_estimators=100, oob_score=True, random_state=42) # Random Forest with Out-of-Bag Error (OOB)\n",
    "rf5 = RandomForestClassifier(n_estimators=100, bootstrap=False, random_state=42) # Random Forest with Bootstrap Disabled\n",
    "\n",
    "xgb6 = XGBClassifier(n_estimators=350)\n",
    "xgb7 = XGBClassifier(n_estimators=450)\n",
    "xgb8 = XGBClassifier(n_estimators=550)\n",
    "xgb9 = XGBClassifier(learning_rate=0.1, n_estimators=400, max_depth=7, min_child_weight=3, subsample=0.7, colsample_bytree=0.7)\n",
    "xgb10 = XGBClassifier(learning_rate=0.1, n_estimators=400, max_depth=7, min_child_weight=1, subsample=0.8, colsample_bytree=0.8)\n",
    "xgb11 = XGBClassifier(learning_rate=0.1, n_estimators=500, max_depth=7, min_child_weight=1, subsample=0.8, colsample_bytree=0.8)\n",
    "xgb12 = XGBClassifier(learning_rate=0.1, n_estimators=500, min_child_weight=1, subsample=0.8, colsample_bytree=0.8)\n",
    "xgb13 = XGBClassifier(learning_rate=0.1, n_estimators=1250, max_depth=7, min_child_weight=3, subsample=0.7, colsample_bytree=0.7)\n",
    "xgb14 = XGBClassifier(learning_rate=0.1, n_estimators=1250, max_depth=7, min_child_weight=1, subsample=0.8, colsample_bytree=0.8)\n",
    "xgb15 = XGBClassifier(learning_rate=0.1, n_estimators=1250, max_depth=7, min_child_weight=1, subsample=0.8, colsample_bytree=0.8)\n",
    "xgb16 = XGBClassifier(learning_rate=0.1, n_estimators=1250, min_child_weight=1, subsample=0.8, colsample_bytree=0.8)\n",
    "xgb17 = XGBClassifier(learning_rate=0.1, n_estimators=1000, max_depth=7, min_child_weight=3, subsample=0.7, colsample_bytree=0.7)\n",
    "xgb18 = XGBClassifier(learning_rate=0.1, n_estimators=1000, max_depth=7, min_child_weight=1, subsample=0.8, colsample_bytree=0.8)\n",
    "xgb19 = XGBClassifier(learning_rate=0.1, n_estimators=1000, max_depth=7, min_child_weight=1, subsample=0.8, colsample_bytree=0.8)\n",
    "xgb20 = XGBClassifier(learning_rate=0.1, n_estimators=1000, min_child_weight=1, subsample=0.8, colsample_bytree=0.8)\n",
    "\n",
    "\n",
    "\n",
    "pipeline.classifiers = [rf0, rf1, rf2, rf3, rf4, rf5, \n",
    "                        # svm1, svm2, svm3, svm6, svm7, svm8,\n",
    "                       xgb6, xgb7, xgb8, xgb9, xgb10, xgb11, xgb12, xgb13, xgb14, xgb15, xgb16, xgb17, xgb18, xgb19, xgb20 ]\n",
    "pipeline.fitted_classifiers = {}"
   ],
   "id": "74470ba20848a156",
   "outputs": [],
   "execution_count": 5
  },
  {
   "metadata": {
    "ExecuteTime": {
     "end_time": "2024-11-03T18:24:10.442311Z",
     "start_time": "2024-11-03T18:10:21.885398Z"
    }
   },
   "cell_type": "code",
   "source": "pipeline.fit_classifiers()",
   "id": "5269ac4d3392fbae",
   "outputs": [
    {
     "name": "stderr",
     "output_type": "stream",
     "text": [
      "INFO:utils.ml:Fitting classifiers...\n",
      "INFO:utils.ml:Fitting classifier: RandomForestClassifier0\n",
      "INFO:utils.ml:Fitted classifier: RandomForestClassifier0; Done in 72.9192361831665 seconds\n",
      "INFO:utils.ml:Fitting classifier: RandomForestClassifier1\n"
     ]
    },
    {
     "name": "stdout",
     "output_type": "stream",
     "text": [
      "'list' object has no attribute 'shape'\n"
     ]
    },
    {
     "name": "stderr",
     "output_type": "stream",
     "text": [
      "INFO:utils.ml:Fitted classifier: RandomForestClassifier1; Done in 75.85722875595093 seconds\n",
      "INFO:utils.ml:Fitting classifier: RandomForestClassifier2\n"
     ]
    },
    {
     "name": "stdout",
     "output_type": "stream",
     "text": [
      "'list' object has no attribute 'shape'\n"
     ]
    },
    {
     "name": "stderr",
     "output_type": "stream",
     "text": [
      "INFO:utils.ml:Fitted classifier: RandomForestClassifier2; Done in 144.44152688980103 seconds\n",
      "INFO:utils.ml:Fitting classifier: RandomForestClassifier3\n"
     ]
    },
    {
     "name": "stdout",
     "output_type": "stream",
     "text": [
      "'list' object has no attribute 'shape'\n"
     ]
    },
    {
     "name": "stderr",
     "output_type": "stream",
     "text": [
      "INFO:utils.ml:Fitted classifier: RandomForestClassifier3; Done in 39.10465669631958 seconds\n",
      "INFO:utils.ml:Fitting classifier: RandomForestClassifier4\n"
     ]
    },
    {
     "name": "stdout",
     "output_type": "stream",
     "text": [
      "'list' object has no attribute 'shape'\n"
     ]
    },
    {
     "name": "stderr",
     "output_type": "stream",
     "text": [
      "INFO:utils.ml:Fitted classifier: RandomForestClassifier4; Done in 34.818944454193115 seconds\n",
      "INFO:utils.ml:Fitting classifier: RandomForestClassifier5\n"
     ]
    },
    {
     "name": "stdout",
     "output_type": "stream",
     "text": [
      "'list' object has no attribute 'shape'\n"
     ]
    },
    {
     "name": "stderr",
     "output_type": "stream",
     "text": [
      "INFO:utils.ml:Fitted classifier: RandomForestClassifier5; Done in 37.678797245025635 seconds\n",
      "INFO:utils.ml:Fitting classifier: XGBClassifier6\n"
     ]
    },
    {
     "name": "stdout",
     "output_type": "stream",
     "text": [
      "'list' object has no attribute 'shape'\n"
     ]
    },
    {
     "name": "stderr",
     "output_type": "stream",
     "text": [
      "INFO:utils.ml:Fitted classifier: XGBClassifier6; Done in 11.77550482749939 seconds\n",
      "INFO:utils.ml:Fitting classifier: XGBClassifier7\n"
     ]
    },
    {
     "name": "stdout",
     "output_type": "stream",
     "text": [
      "'list' object has no attribute 'shape'\n"
     ]
    },
    {
     "name": "stderr",
     "output_type": "stream",
     "text": [
      "INFO:utils.ml:Fitted classifier: XGBClassifier7; Done in 14.664405107498169 seconds\n",
      "INFO:utils.ml:Fitting classifier: XGBClassifier8\n"
     ]
    },
    {
     "name": "stdout",
     "output_type": "stream",
     "text": [
      "'list' object has no attribute 'shape'\n"
     ]
    },
    {
     "name": "stderr",
     "output_type": "stream",
     "text": [
      "INFO:utils.ml:Fitted classifier: XGBClassifier8; Done in 17.77369713783264 seconds\n",
      "INFO:utils.ml:Fitting classifier: XGBClassifier9\n"
     ]
    },
    {
     "name": "stdout",
     "output_type": "stream",
     "text": [
      "'list' object has no attribute 'shape'\n"
     ]
    },
    {
     "name": "stderr",
     "output_type": "stream",
     "text": [
      "INFO:utils.ml:Fitted classifier: XGBClassifier9; Done in 15.33493971824646 seconds\n",
      "INFO:utils.ml:Fitting classifier: XGBClassifier10\n"
     ]
    },
    {
     "name": "stdout",
     "output_type": "stream",
     "text": [
      "'list' object has no attribute 'shape'\n"
     ]
    },
    {
     "name": "stderr",
     "output_type": "stream",
     "text": [
      "INFO:utils.ml:Fitted classifier: XGBClassifier10; Done in 17.56216788291931 seconds\n",
      "INFO:utils.ml:Fitting classifier: XGBClassifier11\n"
     ]
    },
    {
     "name": "stdout",
     "output_type": "stream",
     "text": [
      "'list' object has no attribute 'shape'\n"
     ]
    },
    {
     "name": "stderr",
     "output_type": "stream",
     "text": [
      "INFO:utils.ml:Fitted classifier: XGBClassifier11; Done in 22.51839542388916 seconds\n",
      "INFO:utils.ml:Fitting classifier: XGBClassifier12\n"
     ]
    },
    {
     "name": "stdout",
     "output_type": "stream",
     "text": [
      "'list' object has no attribute 'shape'\n"
     ]
    },
    {
     "name": "stderr",
     "output_type": "stream",
     "text": [
      "INFO:utils.ml:Fitted classifier: XGBClassifier12; Done in 16.454013347625732 seconds\n",
      "INFO:utils.ml:Fitting classifier: XGBClassifier13\n"
     ]
    },
    {
     "name": "stdout",
     "output_type": "stream",
     "text": [
      "'list' object has no attribute 'shape'\n"
     ]
    },
    {
     "name": "stderr",
     "output_type": "stream",
     "text": [
      "INFO:utils.ml:Fitted classifier: XGBClassifier13; Done in 38.51919484138489 seconds\n",
      "INFO:utils.ml:Fitting classifier: XGBClassifier14\n"
     ]
    },
    {
     "name": "stdout",
     "output_type": "stream",
     "text": [
      "'list' object has no attribute 'shape'\n"
     ]
    },
    {
     "name": "stderr",
     "output_type": "stream",
     "text": [
      "INFO:utils.ml:Fitted classifier: XGBClassifier14; Done in 50.03097152709961 seconds\n",
      "INFO:utils.ml:Fitting classifier: XGBClassifier15\n"
     ]
    },
    {
     "name": "stdout",
     "output_type": "stream",
     "text": [
      "'list' object has no attribute 'shape'\n"
     ]
    },
    {
     "name": "stderr",
     "output_type": "stream",
     "text": [
      "INFO:utils.ml:Fitted classifier: XGBClassifier15; Done in 47.059568643569946 seconds\n",
      "INFO:utils.ml:Fitting classifier: XGBClassifier16\n"
     ]
    },
    {
     "name": "stdout",
     "output_type": "stream",
     "text": [
      "'list' object has no attribute 'shape'\n"
     ]
    },
    {
     "name": "stderr",
     "output_type": "stream",
     "text": [
      "INFO:utils.ml:Fitted classifier: XGBClassifier16; Done in 36.12580609321594 seconds\n",
      "INFO:utils.ml:Fitting classifier: XGBClassifier17\n"
     ]
    },
    {
     "name": "stdout",
     "output_type": "stream",
     "text": [
      "'list' object has no attribute 'shape'\n"
     ]
    },
    {
     "name": "stderr",
     "output_type": "stream",
     "text": [
      "INFO:utils.ml:Fitted classifier: XGBClassifier17; Done in 31.69619107246399 seconds\n",
      "INFO:utils.ml:Fitting classifier: XGBClassifier18\n"
     ]
    },
    {
     "name": "stdout",
     "output_type": "stream",
     "text": [
      "'list' object has no attribute 'shape'\n"
     ]
    },
    {
     "name": "stderr",
     "output_type": "stream",
     "text": [
      "INFO:utils.ml:Fitted classifier: XGBClassifier18; Done in 36.396833419799805 seconds\n",
      "INFO:utils.ml:Fitting classifier: XGBClassifier19\n"
     ]
    },
    {
     "name": "stdout",
     "output_type": "stream",
     "text": [
      "'list' object has no attribute 'shape'\n"
     ]
    },
    {
     "name": "stderr",
     "output_type": "stream",
     "text": [
      "INFO:utils.ml:Fitted classifier: XGBClassifier19; Done in 37.595614194869995 seconds\n",
      "INFO:utils.ml:Fitting classifier: XGBClassifier20\n"
     ]
    },
    {
     "name": "stdout",
     "output_type": "stream",
     "text": [
      "'list' object has no attribute 'shape'\n"
     ]
    },
    {
     "name": "stderr",
     "output_type": "stream",
     "text": [
      "INFO:utils.ml:Fitted classifier: XGBClassifier20; Done in 30.198100328445435 seconds\n",
      "INFO:utils.ml:Fitting completed in 828.54 seconds.\n"
     ]
    },
    {
     "name": "stdout",
     "output_type": "stream",
     "text": [
      "'list' object has no attribute 'shape'\n"
     ]
    }
   ],
   "execution_count": 6
  },
  {
   "metadata": {
    "ExecuteTime": {
     "end_time": "2024-11-03T18:39:11.232673Z",
     "start_time": "2024-11-03T18:24:10.461802Z"
    }
   },
   "cell_type": "code",
   "source": "pipeline.predict_with_classifiers(VAL_PATH)",
   "id": "f71e18a07f5ee7bb",
   "outputs": [
    {
     "name": "stderr",
     "output_type": "stream",
     "text": [
      "INFO:utils.ml:Predicting with classifiers on dataset: C:\\Users\\gimes\\Src\\repos\\CADx-Project\\dataset\\binary\\val\n"
     ]
    },
    {
     "name": "stdout",
     "output_type": "stream",
     "text": [
      "Processed 5/159 batches.\n",
      "Processed 10/159 batches.\n",
      "Processed 15/159 batches.\n",
      "Processed 20/159 batches.\n",
      "Processed 25/159 batches.\n",
      "Processed 30/159 batches.\n",
      "Processed 35/159 batches.\n",
      "Processed 40/159 batches.\n",
      "Processed 45/159 batches.\n",
      "Processed 50/159 batches.\n",
      "Processed 55/159 batches.\n",
      "Processed 60/159 batches.\n",
      "Processed 65/159 batches.\n",
      "Processed 70/159 batches.\n",
      "Processed 75/159 batches.\n",
      "Processed 80/159 batches.\n",
      "Processed 85/159 batches.\n",
      "Processed 90/159 batches.\n",
      "Processed 95/159 batches.\n",
      "Processed 100/159 batches.\n",
      "Processed 105/159 batches.\n",
      "Processed 110/159 batches.\n",
      "Processed 115/159 batches.\n",
      "Processed 120/159 batches.\n",
      "Processed 125/159 batches.\n",
      "Processed 130/159 batches.\n",
      "Processed 135/159 batches.\n",
      "Processed 140/159 batches.\n",
      "Processed 145/159 batches.\n",
      "Processed 150/159 batches.\n",
      "Processed 155/159 batches.\n",
      "Processed 159/159 batches.\n"
     ]
    },
    {
     "name": "stderr",
     "output_type": "stream",
     "text": [
      "INFO:utils.ml:Predictions made with classifier: RandomForestClassifier0\n",
      "INFO:utils.ml:Predictions made with classifier: RandomForestClassifier1\n",
      "INFO:utils.ml:Predictions made with classifier: RandomForestClassifier2\n",
      "INFO:utils.ml:Predictions made with classifier: RandomForestClassifier3\n",
      "INFO:utils.ml:Predictions made with classifier: RandomForestClassifier4\n",
      "INFO:utils.ml:Predictions made with classifier: RandomForestClassifier5\n",
      "INFO:utils.ml:Predictions made with classifier: XGBClassifier6\n",
      "INFO:utils.ml:Predictions made with classifier: XGBClassifier7\n",
      "INFO:utils.ml:Predictions made with classifier: XGBClassifier8\n",
      "INFO:utils.ml:Predictions made with classifier: XGBClassifier9\n",
      "INFO:utils.ml:Predictions made with classifier: XGBClassifier10\n",
      "INFO:utils.ml:Predictions made with classifier: XGBClassifier11\n",
      "INFO:utils.ml:Predictions made with classifier: XGBClassifier12\n",
      "INFO:utils.ml:Predictions made with classifier: XGBClassifier13\n",
      "INFO:utils.ml:Predictions made with classifier: XGBClassifier14\n",
      "INFO:utils.ml:Predictions made with classifier: XGBClassifier15\n",
      "INFO:utils.ml:Predictions made with classifier: XGBClassifier16\n",
      "INFO:utils.ml:Predictions made with classifier: XGBClassifier17\n",
      "INFO:utils.ml:Predictions made with classifier: XGBClassifier18\n",
      "INFO:utils.ml:Predictions made with classifier: XGBClassifier19\n",
      "INFO:utils.ml:Predictions made with classifier: XGBClassifier20\n"
     ]
    },
    {
     "data": {
      "text/plain": [
       "{'GT': array([0, 0, 0, ..., 1, 1, 1]),\n",
       " 'RandomForestClassifier0': array([0, 0, 0, ..., 0, 0, 1]),\n",
       " 'RandomForestClassifier1': array([0, 0, 0, ..., 0, 0, 1]),\n",
       " 'RandomForestClassifier2': array([0, 0, 1, ..., 0, 0, 1]),\n",
       " 'RandomForestClassifier3': array([0, 0, 0, ..., 1, 0, 1]),\n",
       " 'RandomForestClassifier4': array([0, 0, 0, ..., 1, 0, 1]),\n",
       " 'RandomForestClassifier5': array([0, 0, 0, ..., 1, 0, 1]),\n",
       " 'XGBClassifier6': array([0, 0, 0, ..., 1, 0, 1]),\n",
       " 'XGBClassifier7': array([0, 0, 0, ..., 1, 0, 1]),\n",
       " 'XGBClassifier8': array([0, 0, 0, ..., 1, 0, 1]),\n",
       " 'XGBClassifier9': array([0, 0, 0, ..., 1, 0, 1]),\n",
       " 'XGBClassifier10': array([0, 0, 0, ..., 0, 0, 1]),\n",
       " 'XGBClassifier11': array([0, 0, 0, ..., 0, 0, 1]),\n",
       " 'XGBClassifier12': array([0, 0, 0, ..., 0, 1, 1]),\n",
       " 'XGBClassifier13': array([0, 0, 0, ..., 1, 0, 1]),\n",
       " 'XGBClassifier14': array([0, 0, 0, ..., 0, 0, 1]),\n",
       " 'XGBClassifier15': array([0, 0, 0, ..., 0, 0, 1]),\n",
       " 'XGBClassifier16': array([0, 0, 0, ..., 0, 1, 1]),\n",
       " 'XGBClassifier17': array([0, 0, 0, ..., 1, 0, 1]),\n",
       " 'XGBClassifier18': array([0, 0, 0, ..., 0, 0, 1]),\n",
       " 'XGBClassifier19': array([0, 0, 0, ..., 0, 0, 1]),\n",
       " 'XGBClassifier20': array([0, 0, 0, ..., 0, 1, 1])}"
      ]
     },
     "execution_count": 7,
     "metadata": {},
     "output_type": "execute_result"
    }
   ],
   "execution_count": 7
  },
  {
   "metadata": {
    "ExecuteTime": {
     "end_time": "2024-11-03T18:39:11.497924Z",
     "start_time": "2024-11-03T18:39:11.251592Z"
    },
    "tags": [
     "BEST 3-11"
    ]
   },
   "cell_type": "code",
   "source": [
    "import pandas as pd\n",
    "\n",
    "df = pd.DataFrame(data=pipeline.calculate_metrics())\n",
    "df = df.T\n",
    "df"
   ],
   "id": "751fad2660242db5",
   "outputs": [
    {
     "name": "stderr",
     "output_type": "stream",
     "text": [
      "INFO:utils.ml:Metrics for classifier GT: {'accuracy': 1.0, 'precision': 1.0, 'recall': 1.0, 'f1': 1.0, 'kappa': 1.0}\n",
      "INFO:utils.ml:Metrics for classifier RandomForestClassifier0: {'accuracy': 0.827186512118019, 'precision': 0.8271718615241674, 'recall': 0.8270701118896847, 'f1': 0.8271097232729134, 'kappa': 0.6542241518884553}\n",
      "INFO:utils.ml:Metrics for classifier RandomForestClassifier1: {'accuracy': 0.827186512118019, 'precision': 0.8271718615241674, 'recall': 0.8270701118896847, 'f1': 0.8271097232729134, 'kappa': 0.6542241518884553}\n",
      "INFO:utils.ml:Metrics for classifier RandomForestClassifier2: {'accuracy': 0.8327186512118019, 'precision': 0.8327897825796986, 'recall': 0.832535198948162, 'f1': 0.8326138142524846, 'kappa': 0.6652471781972793}\n",
      "INFO:utils.ml:Metrics for classifier RandomForestClassifier3: {'accuracy': 0.821917808219178, 'precision': 0.8218926396359939, 'recall': 0.821808978109385, 'f1': 0.8218425869432582, 'kappa': 0.6436887361254169}\n",
      "INFO:utils.ml:Metrics for classifier RandomForestClassifier4: {'accuracy': 0.821917808219178, 'precision': 0.8218926396359939, 'recall': 0.821808978109385, 'f1': 0.8218425869432582, 'kappa': 0.6436887361254169}\n",
      "INFO:utils.ml:Metrics for classifier RandomForestClassifier5: {'accuracy': 0.8353530031612223, 'precision': 0.8353771425269372, 'recall': 0.8352070007761054, 'f1': 0.8352664728840282, 'kappa': 0.6705430339535781}\n",
      "INFO:utils.ml:Metrics for classifier XGBClassifier6: {'accuracy': 0.8371970495258166, 'precision': 0.8379952203878229, 'recall': 0.8376243122303936, 'f1': 0.8371807332672042, 'kappa': 0.6746057351597768}\n",
      "INFO:utils.ml:Metrics for classifier XGBClassifier7: {'accuracy': 0.8371970495258166, 'precision': 0.8377031304910691, 'recall': 0.8375418423548066, 'f1': 0.8371925301140604, 'kappa': 0.6745521069721513}\n",
      "INFO:utils.ml:Metrics for classifier XGBClassifier8: {'accuracy': 0.8379873551106428, 'precision': 0.8383968171435174, 'recall': 0.8383003153014941, 'f1': 0.8379854549588197, 'kappa': 0.6761111921956136}\n",
      "INFO:utils.ml:Metrics for classifier XGBClassifier9: {'accuracy': 0.8424657534246576, 'precision': 0.8424704287665761, 'recall': 0.8425738931473643, 'f1': 0.8424545576694795, 'kappa': 0.6849343930233894}\n",
      "INFO:utils.ml:Metrics for classifier XGBClassifier10: {'accuracy': 0.8419388830347735, 'precision': 0.8418880987426429, 'recall': 0.8419002503252284, 'f1': 0.8418939406560819, 'kappa': 0.6837879691151811}\n",
      "INFO:utils.ml:Metrics for classifier XGBClassifier11: {'accuracy': 0.84536354056902, 'precision': 0.8453104436336982, 'recall': 0.8453396884193691, 'f1': 0.8453235984296706, 'kappa': 0.690647733709475}\n",
      "INFO:utils.ml:Metrics for classifier XGBClassifier12: {'accuracy': 0.8406217070600632, 'precision': 0.8406129247168554, 'recall': 0.8407155441831664, 'f1': 0.8406081567331147, 'kappa': 0.6812375740421914}\n",
      "INFO:utils.ml:Metrics for classifier XGBClassifier13: {'accuracy': 0.8419388830347735, 'precision': 0.8419259964551361, 'recall': 0.842028536798364, 'f1': 0.8419246657486785, 'kappa': 0.6838690782707184}\n",
      "INFO:utils.ml:Metrics for classifier XGBClassifier14: {'accuracy': 0.8485247629083246, 'precision': 0.8484710672210672, 'recall': 0.8485110299987644, 'f1': 0.8484881614673193, 'kappa': 0.6969773536142534}\n",
      "INFO:utils.ml:Metrics for classifier XGBClassifier15: {'accuracy': 0.8485247629083246, 'precision': 0.8484710672210672, 'recall': 0.8485110299987644, 'f1': 0.8484881614673193, 'kappa': 0.6969773536142534}\n",
      "INFO:utils.ml:Metrics for classifier XGBClassifier16: {'accuracy': 0.8445732349841939, 'precision': 0.8446099843019358, 'recall': 0.8447095019458171, 'f1': 0.8445659430881106, 'kappa': 0.6891664018142276}\n",
      "INFO:utils.ml:Metrics for classifier XGBClassifier17: {'accuracy': 0.8422023182297155, 'precision': 0.8422221593009971, 'recall': 0.8423241232716383, 'f1': 0.8421931080192453, 'kappa': 0.6844162001434545}\n",
      "INFO:utils.ml:Metrics for classifier XGBClassifier18: {'accuracy': 0.8501053740779768, 'precision': 0.8500554212906608, 'recall': 0.8500737924896877, 'f1': 0.8500640755670328, 'kappa': 0.7001283384803858}\n",
      "INFO:utils.ml:Metrics for classifier XGBClassifier19: {'accuracy': 0.8501053740779768, 'precision': 0.8500554212906608, 'recall': 0.8500737924896877, 'f1': 0.8500640755670328, 'kappa': 0.7001283384803858}\n",
      "INFO:utils.ml:Metrics for classifier XGBClassifier20: {'accuracy': 0.8435194942044257, 'precision': 0.8435684418082443, 'recall': 0.8436646058453648, 'f1': 0.843513238911128, 'kappa': 0.6870647883351964}\n"
     ]
    },
    {
     "data": {
      "text/plain": [
       "                         accuracy  precision    recall        f1     kappa\n",
       "GT                       1.000000   1.000000  1.000000  1.000000  1.000000\n",
       "RandomForestClassifier0  0.827187   0.827172  0.827070  0.827110  0.654224\n",
       "RandomForestClassifier1  0.827187   0.827172  0.827070  0.827110  0.654224\n",
       "RandomForestClassifier2  0.832719   0.832790  0.832535  0.832614  0.665247\n",
       "RandomForestClassifier3  0.821918   0.821893  0.821809  0.821843  0.643689\n",
       "RandomForestClassifier4  0.821918   0.821893  0.821809  0.821843  0.643689\n",
       "RandomForestClassifier5  0.835353   0.835377  0.835207  0.835266  0.670543\n",
       "XGBClassifier6           0.837197   0.837995  0.837624  0.837181  0.674606\n",
       "XGBClassifier7           0.837197   0.837703  0.837542  0.837193  0.674552\n",
       "XGBClassifier8           0.837987   0.838397  0.838300  0.837985  0.676111\n",
       "XGBClassifier9           0.842466   0.842470  0.842574  0.842455  0.684934\n",
       "XGBClassifier10          0.841939   0.841888  0.841900  0.841894  0.683788\n",
       "XGBClassifier11          0.845364   0.845310  0.845340  0.845324  0.690648\n",
       "XGBClassifier12          0.840622   0.840613  0.840716  0.840608  0.681238\n",
       "XGBClassifier13          0.841939   0.841926  0.842029  0.841925  0.683869\n",
       "XGBClassifier14          0.848525   0.848471  0.848511  0.848488  0.696977\n",
       "XGBClassifier15          0.848525   0.848471  0.848511  0.848488  0.696977\n",
       "XGBClassifier16          0.844573   0.844610  0.844710  0.844566  0.689166\n",
       "XGBClassifier17          0.842202   0.842222  0.842324  0.842193  0.684416\n",
       "XGBClassifier18          0.850105   0.850055  0.850074  0.850064  0.700128\n",
       "XGBClassifier19          0.850105   0.850055  0.850074  0.850064  0.700128\n",
       "XGBClassifier20          0.843519   0.843568  0.843665  0.843513  0.687065"
      ],
      "text/html": [
       "<div>\n",
       "<style scoped>\n",
       "    .dataframe tbody tr th:only-of-type {\n",
       "        vertical-align: middle;\n",
       "    }\n",
       "\n",
       "    .dataframe tbody tr th {\n",
       "        vertical-align: top;\n",
       "    }\n",
       "\n",
       "    .dataframe thead th {\n",
       "        text-align: right;\n",
       "    }\n",
       "</style>\n",
       "<table border=\"1\" class=\"dataframe\">\n",
       "  <thead>\n",
       "    <tr style=\"text-align: right;\">\n",
       "      <th></th>\n",
       "      <th>accuracy</th>\n",
       "      <th>precision</th>\n",
       "      <th>recall</th>\n",
       "      <th>f1</th>\n",
       "      <th>kappa</th>\n",
       "    </tr>\n",
       "  </thead>\n",
       "  <tbody>\n",
       "    <tr>\n",
       "      <th>GT</th>\n",
       "      <td>1.000000</td>\n",
       "      <td>1.000000</td>\n",
       "      <td>1.000000</td>\n",
       "      <td>1.000000</td>\n",
       "      <td>1.000000</td>\n",
       "    </tr>\n",
       "    <tr>\n",
       "      <th>RandomForestClassifier0</th>\n",
       "      <td>0.827187</td>\n",
       "      <td>0.827172</td>\n",
       "      <td>0.827070</td>\n",
       "      <td>0.827110</td>\n",
       "      <td>0.654224</td>\n",
       "    </tr>\n",
       "    <tr>\n",
       "      <th>RandomForestClassifier1</th>\n",
       "      <td>0.827187</td>\n",
       "      <td>0.827172</td>\n",
       "      <td>0.827070</td>\n",
       "      <td>0.827110</td>\n",
       "      <td>0.654224</td>\n",
       "    </tr>\n",
       "    <tr>\n",
       "      <th>RandomForestClassifier2</th>\n",
       "      <td>0.832719</td>\n",
       "      <td>0.832790</td>\n",
       "      <td>0.832535</td>\n",
       "      <td>0.832614</td>\n",
       "      <td>0.665247</td>\n",
       "    </tr>\n",
       "    <tr>\n",
       "      <th>RandomForestClassifier3</th>\n",
       "      <td>0.821918</td>\n",
       "      <td>0.821893</td>\n",
       "      <td>0.821809</td>\n",
       "      <td>0.821843</td>\n",
       "      <td>0.643689</td>\n",
       "    </tr>\n",
       "    <tr>\n",
       "      <th>RandomForestClassifier4</th>\n",
       "      <td>0.821918</td>\n",
       "      <td>0.821893</td>\n",
       "      <td>0.821809</td>\n",
       "      <td>0.821843</td>\n",
       "      <td>0.643689</td>\n",
       "    </tr>\n",
       "    <tr>\n",
       "      <th>RandomForestClassifier5</th>\n",
       "      <td>0.835353</td>\n",
       "      <td>0.835377</td>\n",
       "      <td>0.835207</td>\n",
       "      <td>0.835266</td>\n",
       "      <td>0.670543</td>\n",
       "    </tr>\n",
       "    <tr>\n",
       "      <th>XGBClassifier6</th>\n",
       "      <td>0.837197</td>\n",
       "      <td>0.837995</td>\n",
       "      <td>0.837624</td>\n",
       "      <td>0.837181</td>\n",
       "      <td>0.674606</td>\n",
       "    </tr>\n",
       "    <tr>\n",
       "      <th>XGBClassifier7</th>\n",
       "      <td>0.837197</td>\n",
       "      <td>0.837703</td>\n",
       "      <td>0.837542</td>\n",
       "      <td>0.837193</td>\n",
       "      <td>0.674552</td>\n",
       "    </tr>\n",
       "    <tr>\n",
       "      <th>XGBClassifier8</th>\n",
       "      <td>0.837987</td>\n",
       "      <td>0.838397</td>\n",
       "      <td>0.838300</td>\n",
       "      <td>0.837985</td>\n",
       "      <td>0.676111</td>\n",
       "    </tr>\n",
       "    <tr>\n",
       "      <th>XGBClassifier9</th>\n",
       "      <td>0.842466</td>\n",
       "      <td>0.842470</td>\n",
       "      <td>0.842574</td>\n",
       "      <td>0.842455</td>\n",
       "      <td>0.684934</td>\n",
       "    </tr>\n",
       "    <tr>\n",
       "      <th>XGBClassifier10</th>\n",
       "      <td>0.841939</td>\n",
       "      <td>0.841888</td>\n",
       "      <td>0.841900</td>\n",
       "      <td>0.841894</td>\n",
       "      <td>0.683788</td>\n",
       "    </tr>\n",
       "    <tr>\n",
       "      <th>XGBClassifier11</th>\n",
       "      <td>0.845364</td>\n",
       "      <td>0.845310</td>\n",
       "      <td>0.845340</td>\n",
       "      <td>0.845324</td>\n",
       "      <td>0.690648</td>\n",
       "    </tr>\n",
       "    <tr>\n",
       "      <th>XGBClassifier12</th>\n",
       "      <td>0.840622</td>\n",
       "      <td>0.840613</td>\n",
       "      <td>0.840716</td>\n",
       "      <td>0.840608</td>\n",
       "      <td>0.681238</td>\n",
       "    </tr>\n",
       "    <tr>\n",
       "      <th>XGBClassifier13</th>\n",
       "      <td>0.841939</td>\n",
       "      <td>0.841926</td>\n",
       "      <td>0.842029</td>\n",
       "      <td>0.841925</td>\n",
       "      <td>0.683869</td>\n",
       "    </tr>\n",
       "    <tr>\n",
       "      <th>XGBClassifier14</th>\n",
       "      <td>0.848525</td>\n",
       "      <td>0.848471</td>\n",
       "      <td>0.848511</td>\n",
       "      <td>0.848488</td>\n",
       "      <td>0.696977</td>\n",
       "    </tr>\n",
       "    <tr>\n",
       "      <th>XGBClassifier15</th>\n",
       "      <td>0.848525</td>\n",
       "      <td>0.848471</td>\n",
       "      <td>0.848511</td>\n",
       "      <td>0.848488</td>\n",
       "      <td>0.696977</td>\n",
       "    </tr>\n",
       "    <tr>\n",
       "      <th>XGBClassifier16</th>\n",
       "      <td>0.844573</td>\n",
       "      <td>0.844610</td>\n",
       "      <td>0.844710</td>\n",
       "      <td>0.844566</td>\n",
       "      <td>0.689166</td>\n",
       "    </tr>\n",
       "    <tr>\n",
       "      <th>XGBClassifier17</th>\n",
       "      <td>0.842202</td>\n",
       "      <td>0.842222</td>\n",
       "      <td>0.842324</td>\n",
       "      <td>0.842193</td>\n",
       "      <td>0.684416</td>\n",
       "    </tr>\n",
       "    <tr>\n",
       "      <th>XGBClassifier18</th>\n",
       "      <td>0.850105</td>\n",
       "      <td>0.850055</td>\n",
       "      <td>0.850074</td>\n",
       "      <td>0.850064</td>\n",
       "      <td>0.700128</td>\n",
       "    </tr>\n",
       "    <tr>\n",
       "      <th>XGBClassifier19</th>\n",
       "      <td>0.850105</td>\n",
       "      <td>0.850055</td>\n",
       "      <td>0.850074</td>\n",
       "      <td>0.850064</td>\n",
       "      <td>0.700128</td>\n",
       "    </tr>\n",
       "    <tr>\n",
       "      <th>XGBClassifier20</th>\n",
       "      <td>0.843519</td>\n",
       "      <td>0.843568</td>\n",
       "      <td>0.843665</td>\n",
       "      <td>0.843513</td>\n",
       "      <td>0.687065</td>\n",
       "    </tr>\n",
       "  </tbody>\n",
       "</table>\n",
       "</div>"
      ]
     },
     "execution_count": 8,
     "metadata": {},
     "output_type": "execute_result"
    }
   ],
   "execution_count": 8
  },
  {
   "metadata": {
    "ExecuteTime": {
     "end_time": "2024-11-03T18:39:11.584380Z",
     "start_time": "2024-11-03T18:39:11.562791Z"
    }
   },
   "cell_type": "code",
   "source": [
    "from sklearn.metrics import confusion_matrix, accuracy_score, classification_report\n",
    "\n",
    "highest = df[df[\"accuracy\"] == df.iloc[1:][\"accuracy\"].max()]\n",
    "idx = highest.index[0]\n",
    "\n",
    "print(classification_report(pipeline.predictions[\"GT\"], pipeline.predictions[idx]))\n",
    "print(confusion_matrix(pipeline.predictions[\"GT\"], pipeline.predictions[idx]))\n"
   ],
   "id": "2208e0e25786bb7e",
   "outputs": [
    {
     "name": "stdout",
     "output_type": "stream",
     "text": [
      "              precision    recall  f1-score   support\n",
      "\n",
      "           0       0.85      0.85      0.85      1931\n",
      "           1       0.85      0.85      0.85      1865\n",
      "\n",
      "    accuracy                           0.85      3796\n",
      "   macro avg       0.85      0.85      0.85      3796\n",
      "weighted avg       0.85      0.85      0.85      3796\n",
      "\n",
      "[[1645  286]\n",
      " [ 283 1582]]\n"
     ]
    }
   ],
   "execution_count": 9
  },
  {
   "metadata": {
    "ExecuteTime": {
     "end_time": "2024-11-03T18:39:11.641723Z",
     "start_time": "2024-11-03T18:39:11.626192Z"
    }
   },
   "cell_type": "code",
   "source": [
    "df_sorted = df.sort_values(\"accuracy\", ascending=False)\n",
    "df_sorted.head(8).index\n",
    "df_sorted"
   ],
   "id": "42a7454eecf3f29d",
   "outputs": [
    {
     "data": {
      "text/plain": [
       "                         accuracy  precision    recall        f1     kappa\n",
       "GT                       1.000000   1.000000  1.000000  1.000000  1.000000\n",
       "XGBClassifier19          0.850105   0.850055  0.850074  0.850064  0.700128\n",
       "XGBClassifier18          0.850105   0.850055  0.850074  0.850064  0.700128\n",
       "XGBClassifier15          0.848525   0.848471  0.848511  0.848488  0.696977\n",
       "XGBClassifier14          0.848525   0.848471  0.848511  0.848488  0.696977\n",
       "XGBClassifier11          0.845364   0.845310  0.845340  0.845324  0.690648\n",
       "XGBClassifier16          0.844573   0.844610  0.844710  0.844566  0.689166\n",
       "XGBClassifier20          0.843519   0.843568  0.843665  0.843513  0.687065\n",
       "XGBClassifier9           0.842466   0.842470  0.842574  0.842455  0.684934\n",
       "XGBClassifier17          0.842202   0.842222  0.842324  0.842193  0.684416\n",
       "XGBClassifier13          0.841939   0.841926  0.842029  0.841925  0.683869\n",
       "XGBClassifier10          0.841939   0.841888  0.841900  0.841894  0.683788\n",
       "XGBClassifier12          0.840622   0.840613  0.840716  0.840608  0.681238\n",
       "XGBClassifier8           0.837987   0.838397  0.838300  0.837985  0.676111\n",
       "XGBClassifier7           0.837197   0.837703  0.837542  0.837193  0.674552\n",
       "XGBClassifier6           0.837197   0.837995  0.837624  0.837181  0.674606\n",
       "RandomForestClassifier5  0.835353   0.835377  0.835207  0.835266  0.670543\n",
       "RandomForestClassifier2  0.832719   0.832790  0.832535  0.832614  0.665247\n",
       "RandomForestClassifier0  0.827187   0.827172  0.827070  0.827110  0.654224\n",
       "RandomForestClassifier1  0.827187   0.827172  0.827070  0.827110  0.654224\n",
       "RandomForestClassifier4  0.821918   0.821893  0.821809  0.821843  0.643689\n",
       "RandomForestClassifier3  0.821918   0.821893  0.821809  0.821843  0.643689"
      ],
      "text/html": [
       "<div>\n",
       "<style scoped>\n",
       "    .dataframe tbody tr th:only-of-type {\n",
       "        vertical-align: middle;\n",
       "    }\n",
       "\n",
       "    .dataframe tbody tr th {\n",
       "        vertical-align: top;\n",
       "    }\n",
       "\n",
       "    .dataframe thead th {\n",
       "        text-align: right;\n",
       "    }\n",
       "</style>\n",
       "<table border=\"1\" class=\"dataframe\">\n",
       "  <thead>\n",
       "    <tr style=\"text-align: right;\">\n",
       "      <th></th>\n",
       "      <th>accuracy</th>\n",
       "      <th>precision</th>\n",
       "      <th>recall</th>\n",
       "      <th>f1</th>\n",
       "      <th>kappa</th>\n",
       "    </tr>\n",
       "  </thead>\n",
       "  <tbody>\n",
       "    <tr>\n",
       "      <th>GT</th>\n",
       "      <td>1.000000</td>\n",
       "      <td>1.000000</td>\n",
       "      <td>1.000000</td>\n",
       "      <td>1.000000</td>\n",
       "      <td>1.000000</td>\n",
       "    </tr>\n",
       "    <tr>\n",
       "      <th>XGBClassifier19</th>\n",
       "      <td>0.850105</td>\n",
       "      <td>0.850055</td>\n",
       "      <td>0.850074</td>\n",
       "      <td>0.850064</td>\n",
       "      <td>0.700128</td>\n",
       "    </tr>\n",
       "    <tr>\n",
       "      <th>XGBClassifier18</th>\n",
       "      <td>0.850105</td>\n",
       "      <td>0.850055</td>\n",
       "      <td>0.850074</td>\n",
       "      <td>0.850064</td>\n",
       "      <td>0.700128</td>\n",
       "    </tr>\n",
       "    <tr>\n",
       "      <th>XGBClassifier15</th>\n",
       "      <td>0.848525</td>\n",
       "      <td>0.848471</td>\n",
       "      <td>0.848511</td>\n",
       "      <td>0.848488</td>\n",
       "      <td>0.696977</td>\n",
       "    </tr>\n",
       "    <tr>\n",
       "      <th>XGBClassifier14</th>\n",
       "      <td>0.848525</td>\n",
       "      <td>0.848471</td>\n",
       "      <td>0.848511</td>\n",
       "      <td>0.848488</td>\n",
       "      <td>0.696977</td>\n",
       "    </tr>\n",
       "    <tr>\n",
       "      <th>XGBClassifier11</th>\n",
       "      <td>0.845364</td>\n",
       "      <td>0.845310</td>\n",
       "      <td>0.845340</td>\n",
       "      <td>0.845324</td>\n",
       "      <td>0.690648</td>\n",
       "    </tr>\n",
       "    <tr>\n",
       "      <th>XGBClassifier16</th>\n",
       "      <td>0.844573</td>\n",
       "      <td>0.844610</td>\n",
       "      <td>0.844710</td>\n",
       "      <td>0.844566</td>\n",
       "      <td>0.689166</td>\n",
       "    </tr>\n",
       "    <tr>\n",
       "      <th>XGBClassifier20</th>\n",
       "      <td>0.843519</td>\n",
       "      <td>0.843568</td>\n",
       "      <td>0.843665</td>\n",
       "      <td>0.843513</td>\n",
       "      <td>0.687065</td>\n",
       "    </tr>\n",
       "    <tr>\n",
       "      <th>XGBClassifier9</th>\n",
       "      <td>0.842466</td>\n",
       "      <td>0.842470</td>\n",
       "      <td>0.842574</td>\n",
       "      <td>0.842455</td>\n",
       "      <td>0.684934</td>\n",
       "    </tr>\n",
       "    <tr>\n",
       "      <th>XGBClassifier17</th>\n",
       "      <td>0.842202</td>\n",
       "      <td>0.842222</td>\n",
       "      <td>0.842324</td>\n",
       "      <td>0.842193</td>\n",
       "      <td>0.684416</td>\n",
       "    </tr>\n",
       "    <tr>\n",
       "      <th>XGBClassifier13</th>\n",
       "      <td>0.841939</td>\n",
       "      <td>0.841926</td>\n",
       "      <td>0.842029</td>\n",
       "      <td>0.841925</td>\n",
       "      <td>0.683869</td>\n",
       "    </tr>\n",
       "    <tr>\n",
       "      <th>XGBClassifier10</th>\n",
       "      <td>0.841939</td>\n",
       "      <td>0.841888</td>\n",
       "      <td>0.841900</td>\n",
       "      <td>0.841894</td>\n",
       "      <td>0.683788</td>\n",
       "    </tr>\n",
       "    <tr>\n",
       "      <th>XGBClassifier12</th>\n",
       "      <td>0.840622</td>\n",
       "      <td>0.840613</td>\n",
       "      <td>0.840716</td>\n",
       "      <td>0.840608</td>\n",
       "      <td>0.681238</td>\n",
       "    </tr>\n",
       "    <tr>\n",
       "      <th>XGBClassifier8</th>\n",
       "      <td>0.837987</td>\n",
       "      <td>0.838397</td>\n",
       "      <td>0.838300</td>\n",
       "      <td>0.837985</td>\n",
       "      <td>0.676111</td>\n",
       "    </tr>\n",
       "    <tr>\n",
       "      <th>XGBClassifier7</th>\n",
       "      <td>0.837197</td>\n",
       "      <td>0.837703</td>\n",
       "      <td>0.837542</td>\n",
       "      <td>0.837193</td>\n",
       "      <td>0.674552</td>\n",
       "    </tr>\n",
       "    <tr>\n",
       "      <th>XGBClassifier6</th>\n",
       "      <td>0.837197</td>\n",
       "      <td>0.837995</td>\n",
       "      <td>0.837624</td>\n",
       "      <td>0.837181</td>\n",
       "      <td>0.674606</td>\n",
       "    </tr>\n",
       "    <tr>\n",
       "      <th>RandomForestClassifier5</th>\n",
       "      <td>0.835353</td>\n",
       "      <td>0.835377</td>\n",
       "      <td>0.835207</td>\n",
       "      <td>0.835266</td>\n",
       "      <td>0.670543</td>\n",
       "    </tr>\n",
       "    <tr>\n",
       "      <th>RandomForestClassifier2</th>\n",
       "      <td>0.832719</td>\n",
       "      <td>0.832790</td>\n",
       "      <td>0.832535</td>\n",
       "      <td>0.832614</td>\n",
       "      <td>0.665247</td>\n",
       "    </tr>\n",
       "    <tr>\n",
       "      <th>RandomForestClassifier0</th>\n",
       "      <td>0.827187</td>\n",
       "      <td>0.827172</td>\n",
       "      <td>0.827070</td>\n",
       "      <td>0.827110</td>\n",
       "      <td>0.654224</td>\n",
       "    </tr>\n",
       "    <tr>\n",
       "      <th>RandomForestClassifier1</th>\n",
       "      <td>0.827187</td>\n",
       "      <td>0.827172</td>\n",
       "      <td>0.827070</td>\n",
       "      <td>0.827110</td>\n",
       "      <td>0.654224</td>\n",
       "    </tr>\n",
       "    <tr>\n",
       "      <th>RandomForestClassifier4</th>\n",
       "      <td>0.821918</td>\n",
       "      <td>0.821893</td>\n",
       "      <td>0.821809</td>\n",
       "      <td>0.821843</td>\n",
       "      <td>0.643689</td>\n",
       "    </tr>\n",
       "    <tr>\n",
       "      <th>RandomForestClassifier3</th>\n",
       "      <td>0.821918</td>\n",
       "      <td>0.821893</td>\n",
       "      <td>0.821809</td>\n",
       "      <td>0.821843</td>\n",
       "      <td>0.643689</td>\n",
       "    </tr>\n",
       "  </tbody>\n",
       "</table>\n",
       "</div>"
      ]
     },
     "execution_count": 10,
     "metadata": {},
     "output_type": "execute_result"
    }
   ],
   "execution_count": 10
  },
  {
   "metadata": {},
   "cell_type": "code",
   "outputs": [],
   "execution_count": null,
   "source": "",
   "id": "200530a0ae5b947"
  }
 ],
 "metadata": {
  "kernelspec": {
   "display_name": "Python 3",
   "language": "python",
   "name": "python3"
  },
  "language_info": {
   "codemirror_mode": {
    "name": "ipython",
    "version": 2
   },
   "file_extension": ".py",
   "mimetype": "text/x-python",
   "name": "python",
   "nbconvert_exporter": "python",
   "pygments_lexer": "ipython2",
   "version": "2.7.6"
  }
 },
 "nbformat": 4,
 "nbformat_minor": 5
}

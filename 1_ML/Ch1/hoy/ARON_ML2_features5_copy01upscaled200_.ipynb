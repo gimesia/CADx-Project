{
 "cells": [
  {
   "cell_type": "code",
   "id": "initial_id",
   "metadata": {
    "collapsed": true,
    "ExecuteTime": {
     "end_time": "2024-11-03T16:33:32.932697Z",
     "start_time": "2024-11-03T16:33:26.929133Z"
    }
   },
   "source": [
    "from utils.loader import FactoryLoader\n",
    "from utils.ml import MLPipeline\n",
    "from utils.preprocessing import PreprocessingFactory\n",
    "from utils.feature_extraction import *\n",
    "from utils.utils import *\n",
    "\n",
    "VAL_PATH = r\"C:\\Users\\gimes\\Src\\repos\\CADx-Project\\dataset\\binary\\val\"\n",
    "TRAIN_PATH = r\"C:\\Users\\gimes\\Src\\repos\\CADx-Project\\dataset\\binary\\train\""
   ],
   "outputs": [
    {
     "name": "stderr",
     "output_type": "stream",
     "text": [
      "INFO:numexpr.utils:Note: NumExpr detected 16 cores but \"NUMEXPR_MAX_THREADS\" not set, so enforcing safe limit of 8.\n",
      "INFO:numexpr.utils:NumExpr defaulting to 8 threads.\n"
     ]
    }
   ],
   "execution_count": 1
  },
  {
   "metadata": {
    "ExecuteTime": {
     "end_time": "2024-11-03T16:33:33.062474Z",
     "start_time": "2024-11-03T16:33:32.941205Z"
    }
   },
   "cell_type": "code",
   "source": [
    "percent = 100\n",
    "random = False\n",
    "batch_size = 24\n",
    "\n",
    "# Initialize the FactoryLoader\n",
    "factory = PreprocessingFactory()\n",
    "factory.pad2square(fill=np.nan)\n",
    "factory.resize((200,200))\n",
    "factory.normalize2float()\n",
    "\n",
    "# Create the feature extraction pipeline strategy and add desired features\n",
    "strategy = FeatureExtractionStrategy()\n",
    "\n",
    "strategy.add_extractor(GradientExtractor()) # Add gradient feature\n",
    "\n",
    "strategy.add_extractor(ColorMomentsExtractor(\"rgb\", ))   # Add color moments feature\n",
    "strategy.add_extractor(ColorMomentsExtractor(\"lab\", ))   # Add color moments feature\n",
    "strategy.add_extractor(ColorMomentsExtractor(\"hsv\", ))   # Add color moments feature\n",
    "\n",
    "strategy.add_extractor(LBPExtractor(radius=1, n_points=8))\n",
    "strategy.add_extractor(LBPExtractor(radius=2, n_points=16))\n",
    "strategy.add_extractor(LBPExtractor(radius=3, n_points=24))\n",
    "strategy.add_extractor(LBPExtractor(radius=4, n_points=32))\n",
    "strategy.add_extractor(LBPExtractor(radius=5, n_points=40))\n",
    "\n",
    "strategy.add_extractor(FourierTransformExtractor())\n",
    "strategy.add_extractor(FFTExtractor())\n",
    "\n",
    "strategy.add_extractor(GLCMExtractor(properties=['contrast', 'dissimilarity', 'homogeneity', 'energy', 'correlation', \"ASM\"]))\n",
    "\n",
    "pipeline = MLPipeline(dataset_path=TRAIN_PATH, preprocessing_factory=factory, feature_strategy=strategy, classifiers=[], percentage=percent, verbose=True, shuffle=random, batch_size=batch_size)"
   ],
   "id": "d7c81ba220d9e517",
   "outputs": [
    {
     "name": "stderr",
     "output_type": "stream",
     "text": [
      "INFO:utils.ml:MLPipeline initialized with dataset path: C:\\Users\\gimes\\Src\\repos\\CADx-Project\\dataset\\binary\\train\n",
      "INFO:utils.ml:Preprocessing steps\n"
     ]
    }
   ],
   "execution_count": 2
  },
  {
   "metadata": {
    "ExecuteTime": {
     "end_time": "2024-11-03T17:28:15.658295Z",
     "start_time": "2024-11-03T16:33:33.160223Z"
    }
   },
   "cell_type": "code",
   "source": "pipeline.run_feature_extraction()",
   "id": "21f510c52296a049",
   "outputs": [
    {
     "name": "stderr",
     "output_type": "stream",
     "text": [
      "INFO:utils.ml:Running feature extraction...\n"
     ]
    },
    {
     "name": "stdout",
     "output_type": "stream",
     "text": [
      "Processed 5/634 batches.\n",
      "Processed 10/634 batches.\n",
      "Processed 15/634 batches.\n",
      "Processed 20/634 batches.\n",
      "Processed 25/634 batches.\n",
      "Processed 30/634 batches.\n",
      "Processed 35/634 batches.\n",
      "Processed 40/634 batches.\n",
      "Processed 45/634 batches.\n",
      "Processed 50/634 batches.\n",
      "Processed 55/634 batches.\n",
      "Processed 60/634 batches.\n",
      "Processed 65/634 batches.\n",
      "Processed 70/634 batches.\n",
      "Processed 75/634 batches.\n"
     ]
    },
    {
     "name": "stderr",
     "output_type": "stream",
     "text": [
      "C:\\Users\\gimes\\Src\\repos\\CADx-Project\\utils\\feature_extraction.py:286: RuntimeWarning: Precision loss occurred in moment calculation due to catastrophic cancellation. This occurs when the data are nearly identical. Results may be unreliable.\n",
      "  skew_val = skew(channel.flatten(), nan_policy='omit')\n",
      "C:\\Users\\gimes\\Src\\repos\\CADx-Project\\utils\\feature_extraction.py:287: RuntimeWarning: Precision loss occurred in moment calculation due to catastrophic cancellation. This occurs when the data are nearly identical. Results may be unreliable.\n",
      "  kurtosis_val = kurtosis(channel.flatten(), nan_policy='omit')\n"
     ]
    },
    {
     "name": "stdout",
     "output_type": "stream",
     "text": [
      "Processed 80/634 batches.\n",
      "Processed 85/634 batches.\n",
      "Processed 90/634 batches.\n",
      "Processed 95/634 batches.\n",
      "Processed 100/634 batches.\n",
      "Processed 105/634 batches.\n",
      "Processed 110/634 batches.\n",
      "Processed 115/634 batches.\n",
      "Processed 120/634 batches.\n",
      "Processed 125/634 batches.\n",
      "Processed 130/634 batches.\n",
      "Processed 135/634 batches.\n",
      "Processed 140/634 batches.\n",
      "Processed 145/634 batches.\n",
      "Processed 150/634 batches.\n",
      "Processed 155/634 batches.\n",
      "Processed 160/634 batches.\n",
      "Processed 165/634 batches.\n",
      "Processed 170/634 batches.\n",
      "Processed 175/634 batches.\n",
      "Processed 180/634 batches.\n",
      "Processed 185/634 batches.\n",
      "Processed 190/634 batches.\n",
      "Processed 195/634 batches.\n",
      "Processed 200/634 batches.\n",
      "Processed 205/634 batches.\n",
      "Processed 210/634 batches.\n",
      "Processed 215/634 batches.\n",
      "Processed 220/634 batches.\n",
      "Processed 225/634 batches.\n",
      "Processed 230/634 batches.\n",
      "Processed 235/634 batches.\n",
      "Processed 240/634 batches.\n",
      "Processed 245/634 batches.\n",
      "Processed 250/634 batches.\n",
      "Processed 255/634 batches.\n",
      "Processed 260/634 batches.\n",
      "Processed 265/634 batches.\n",
      "Processed 270/634 batches.\n",
      "Processed 275/634 batches.\n",
      "Processed 280/634 batches.\n",
      "Processed 285/634 batches.\n",
      "Processed 290/634 batches.\n",
      "Processed 295/634 batches.\n",
      "Processed 300/634 batches.\n",
      "Processed 305/634 batches.\n",
      "Processed 310/634 batches.\n",
      "Processed 315/634 batches.\n",
      "Processed 320/634 batches.\n",
      "Processed 325/634 batches.\n",
      "Processed 330/634 batches.\n",
      "Processed 335/634 batches.\n",
      "Processed 340/634 batches.\n",
      "Processed 345/634 batches.\n",
      "Processed 350/634 batches.\n",
      "Processed 355/634 batches.\n",
      "Processed 360/634 batches.\n",
      "Processed 365/634 batches.\n",
      "Processed 370/634 batches.\n",
      "Processed 375/634 batches.\n",
      "Processed 380/634 batches.\n",
      "Processed 385/634 batches.\n",
      "Processed 390/634 batches.\n",
      "Processed 395/634 batches.\n",
      "Processed 400/634 batches.\n",
      "Processed 405/634 batches.\n",
      "Processed 410/634 batches.\n",
      "Processed 415/634 batches.\n",
      "Processed 420/634 batches.\n",
      "Processed 425/634 batches.\n",
      "Processed 430/634 batches.\n",
      "Processed 435/634 batches.\n",
      "Processed 440/634 batches.\n",
      "Processed 445/634 batches.\n",
      "Processed 450/634 batches.\n",
      "Processed 455/634 batches.\n",
      "Processed 460/634 batches.\n",
      "Processed 465/634 batches.\n",
      "Processed 470/634 batches.\n",
      "Processed 475/634 batches.\n",
      "Processed 480/634 batches.\n",
      "Processed 485/634 batches.\n",
      "Processed 490/634 batches.\n",
      "Processed 495/634 batches.\n",
      "Processed 500/634 batches.\n",
      "Processed 505/634 batches.\n",
      "Processed 510/634 batches.\n",
      "Processed 515/634 batches.\n",
      "Processed 520/634 batches.\n",
      "Processed 525/634 batches.\n",
      "Processed 530/634 batches.\n",
      "Processed 535/634 batches.\n",
      "Processed 540/634 batches.\n",
      "Processed 545/634 batches.\n",
      "Processed 550/634 batches.\n",
      "Processed 555/634 batches.\n",
      "Processed 560/634 batches.\n",
      "Processed 565/634 batches.\n",
      "Processed 570/634 batches.\n",
      "Processed 575/634 batches.\n",
      "Processed 580/634 batches.\n",
      "Processed 585/634 batches.\n",
      "Processed 590/634 batches.\n",
      "Processed 595/634 batches.\n",
      "Processed 600/634 batches.\n",
      "Processed 605/634 batches.\n",
      "Processed 610/634 batches.\n",
      "Processed 615/634 batches.\n",
      "Processed 620/634 batches.\n",
      "Processed 625/634 batches.\n",
      "Processed 630/634 batches.\n"
     ]
    },
    {
     "name": "stderr",
     "output_type": "stream",
     "text": [
      "INFO:utils.ml:Feature extraction completed. Extracted 15195 features.\n"
     ]
    },
    {
     "name": "stdout",
     "output_type": "stream",
     "text": [
      "Processed 634/634 batches.\n"
     ]
    }
   ],
   "execution_count": 3
  },
  {
   "metadata": {
    "ExecuteTime": {
     "end_time": "2024-11-03T17:28:15.804007Z",
     "start_time": "2024-11-03T17:28:15.668129Z"
    }
   },
   "cell_type": "code",
   "source": [
    "from xgboost import XGBClassifier\n",
    "from sklearn.ensemble import RandomForestClassifier\n",
    "\n",
    "rf0 = RandomForestClassifier(n_estimators=300, max_features='sqrt', random_state=42) # Random Forest with Feature Selection via max_features\n",
    "rf1 = RandomForestClassifier(n_estimators=300, oob_score=True, random_state=42) # Random Forest with Out-of-Bag Error (OOB)\n",
    "rf2 = RandomForestClassifier(n_estimators=300, bootstrap=False, random_state=42) # Random Forest with Bootstrap Disabled\n",
    "rf3 = RandomForestClassifier(n_estimators=100, max_features='sqrt', random_state=42) # Random Forest with Feature Selection via max_features\n",
    "rf4 = RandomForestClassifier(n_estimators=100, oob_score=True, random_state=42) # Random Forest with Out-of-Bag Error (OOB)\n",
    "rf5 = RandomForestClassifier(n_estimators=100, bootstrap=False, random_state=42) # Random Forest with Bootstrap Disabled\n",
    "\n",
    "xgb6 = XGBClassifier(n_estimators=350)\n",
    "xgb7 = XGBClassifier(n_estimators=450)\n",
    "xgb8 = XGBClassifier(n_estimators=550)\n",
    "xgb9 = XGBClassifier(learning_rate=0.1, n_estimators=400, max_depth=7, min_child_weight=3, subsample=0.7, colsample_bytree=0.7)\n",
    "xgb10 = XGBClassifier(learning_rate=0.1, n_estimators=400, max_depth=7, min_child_weight=1, subsample=0.8, colsample_bytree=0.8)\n",
    "xgb11 = XGBClassifier(learning_rate=0.1, n_estimators=500, max_depth=7, min_child_weight=1, subsample=0.8, colsample_bytree=0.8)\n",
    "xgb12 = XGBClassifier(learning_rate=0.1, n_estimators=500, min_child_weight=1, subsample=0.8, colsample_bytree=0.8)\n",
    "xgb13 = XGBClassifier(learning_rate=0.1, n_estimators=1250, max_depth=7, min_child_weight=3, subsample=0.7, colsample_bytree=0.7)\n",
    "xgb14 = XGBClassifier(learning_rate=0.1, n_estimators=1250, max_depth=7, min_child_weight=1, subsample=0.8, colsample_bytree=0.8)\n",
    "xgb15 = XGBClassifier(learning_rate=0.1, n_estimators=1250, max_depth=7, min_child_weight=1, subsample=0.8, colsample_bytree=0.8)\n",
    "xgb16 = XGBClassifier(learning_rate=0.1, n_estimators=1250, min_child_weight=1, subsample=0.8, colsample_bytree=0.8)\n",
    "xgb17 = XGBClassifier(learning_rate=0.1, n_estimators=1000, max_depth=7, min_child_weight=3, subsample=0.7, colsample_bytree=0.7)\n",
    "xgb18 = XGBClassifier(learning_rate=0.1, n_estimators=1000, max_depth=7, min_child_weight=1, subsample=0.8, colsample_bytree=0.8)\n",
    "xgb19 = XGBClassifier(learning_rate=0.1, n_estimators=1000, max_depth=7, min_child_weight=1, subsample=0.8, colsample_bytree=0.8)\n",
    "xgb20 = XGBClassifier(learning_rate=0.1, n_estimators=1000, min_child_weight=1, subsample=0.8, colsample_bytree=0.8)\n",
    "\n",
    "\n",
    "\n",
    "pipeline.classifiers = [rf0, rf1, rf2, rf3, rf4, rf5, \n",
    "                        # svm1, svm2, svm3, svm6, svm7, svm8,\n",
    "                       xgb6, xgb7, xgb8, xgb9, xgb10, xgb11, xgb12, xgb13, xgb14, xgb15, xgb16, xgb17, xgb18, xgb19, xgb20 ]\n",
    "pipeline.fitted_classifiers = {}"
   ],
   "id": "74470ba20848a156",
   "outputs": [],
   "execution_count": 4
  },
  {
   "metadata": {
    "ExecuteTime": {
     "end_time": "2024-11-03T17:46:58.990893Z",
     "start_time": "2024-11-03T17:28:15.829959Z"
    }
   },
   "cell_type": "code",
   "source": "pipeline.fit_classifiers()",
   "id": "5269ac4d3392fbae",
   "outputs": [
    {
     "name": "stderr",
     "output_type": "stream",
     "text": [
      "INFO:utils.ml:Fitting classifiers...\n",
      "INFO:utils.ml:Fitting classifier: RandomForestClassifier0\n",
      "INFO:utils.ml:Fitted classifier: RandomForestClassifier0; Done in 119.9068911075592 seconds\n",
      "INFO:utils.ml:Fitting classifier: RandomForestClassifier1\n"
     ]
    },
    {
     "name": "stdout",
     "output_type": "stream",
     "text": [
      "'list' object has no attribute 'shape'\n"
     ]
    },
    {
     "name": "stderr",
     "output_type": "stream",
     "text": [
      "INFO:utils.ml:Fitted classifier: RandomForestClassifier1; Done in 121.99450850486755 seconds\n",
      "INFO:utils.ml:Fitting classifier: RandomForestClassifier2\n"
     ]
    },
    {
     "name": "stdout",
     "output_type": "stream",
     "text": [
      "'list' object has no attribute 'shape'\n"
     ]
    },
    {
     "name": "stderr",
     "output_type": "stream",
     "text": [
      "INFO:utils.ml:Fitted classifier: RandomForestClassifier2; Done in 179.1523401737213 seconds\n",
      "INFO:utils.ml:Fitting classifier: RandomForestClassifier3\n"
     ]
    },
    {
     "name": "stdout",
     "output_type": "stream",
     "text": [
      "'list' object has no attribute 'shape'\n"
     ]
    },
    {
     "name": "stderr",
     "output_type": "stream",
     "text": [
      "INFO:utils.ml:Fitted classifier: RandomForestClassifier3; Done in 39.61761927604675 seconds\n",
      "INFO:utils.ml:Fitting classifier: RandomForestClassifier4\n"
     ]
    },
    {
     "name": "stdout",
     "output_type": "stream",
     "text": [
      "'list' object has no attribute 'shape'\n"
     ]
    },
    {
     "name": "stderr",
     "output_type": "stream",
     "text": [
      "INFO:utils.ml:Fitted classifier: RandomForestClassifier4; Done in 38.024558544158936 seconds\n",
      "INFO:utils.ml:Fitting classifier: RandomForestClassifier5\n"
     ]
    },
    {
     "name": "stdout",
     "output_type": "stream",
     "text": [
      "'list' object has no attribute 'shape'\n"
     ]
    },
    {
     "name": "stderr",
     "output_type": "stream",
     "text": [
      "INFO:utils.ml:Fitted classifier: RandomForestClassifier5; Done in 55.522435665130615 seconds\n",
      "INFO:utils.ml:Fitting classifier: XGBClassifier6\n"
     ]
    },
    {
     "name": "stdout",
     "output_type": "stream",
     "text": [
      "'list' object has no attribute 'shape'\n"
     ]
    },
    {
     "name": "stderr",
     "output_type": "stream",
     "text": [
      "INFO:utils.ml:Fitted classifier: XGBClassifier6; Done in 18.77456021308899 seconds\n",
      "INFO:utils.ml:Fitting classifier: XGBClassifier7\n"
     ]
    },
    {
     "name": "stdout",
     "output_type": "stream",
     "text": [
      "'list' object has no attribute 'shape'\n"
     ]
    },
    {
     "name": "stderr",
     "output_type": "stream",
     "text": [
      "INFO:utils.ml:Fitted classifier: XGBClassifier7; Done in 24.09827995300293 seconds\n",
      "INFO:utils.ml:Fitting classifier: XGBClassifier8\n"
     ]
    },
    {
     "name": "stdout",
     "output_type": "stream",
     "text": [
      "'list' object has no attribute 'shape'\n"
     ]
    },
    {
     "name": "stderr",
     "output_type": "stream",
     "text": [
      "INFO:utils.ml:Fitted classifier: XGBClassifier8; Done in 28.15670371055603 seconds\n",
      "INFO:utils.ml:Fitting classifier: XGBClassifier9\n"
     ]
    },
    {
     "name": "stdout",
     "output_type": "stream",
     "text": [
      "'list' object has no attribute 'shape'\n"
     ]
    },
    {
     "name": "stderr",
     "output_type": "stream",
     "text": [
      "INFO:utils.ml:Fitted classifier: XGBClassifier9; Done in 25.07862138748169 seconds\n",
      "INFO:utils.ml:Fitting classifier: XGBClassifier10\n"
     ]
    },
    {
     "name": "stdout",
     "output_type": "stream",
     "text": [
      "'list' object has no attribute 'shape'\n"
     ]
    },
    {
     "name": "stderr",
     "output_type": "stream",
     "text": [
      "INFO:utils.ml:Fitted classifier: XGBClassifier10; Done in 29.228170156478882 seconds\n",
      "INFO:utils.ml:Fitting classifier: XGBClassifier11\n"
     ]
    },
    {
     "name": "stdout",
     "output_type": "stream",
     "text": [
      "'list' object has no attribute 'shape'\n"
     ]
    },
    {
     "name": "stderr",
     "output_type": "stream",
     "text": [
      "INFO:utils.ml:Fitted classifier: XGBClassifier11; Done in 35.02079463005066 seconds\n",
      "INFO:utils.ml:Fitting classifier: XGBClassifier12\n"
     ]
    },
    {
     "name": "stdout",
     "output_type": "stream",
     "text": [
      "'list' object has no attribute 'shape'\n"
     ]
    },
    {
     "name": "stderr",
     "output_type": "stream",
     "text": [
      "INFO:utils.ml:Fitted classifier: XGBClassifier12; Done in 27.82181143760681 seconds\n",
      "INFO:utils.ml:Fitting classifier: XGBClassifier13\n"
     ]
    },
    {
     "name": "stdout",
     "output_type": "stream",
     "text": [
      "'list' object has no attribute 'shape'\n"
     ]
    },
    {
     "name": "stderr",
     "output_type": "stream",
     "text": [
      "INFO:utils.ml:Fitted classifier: XGBClassifier13; Done in 73.63275504112244 seconds\n",
      "INFO:utils.ml:Fitting classifier: XGBClassifier14\n"
     ]
    },
    {
     "name": "stdout",
     "output_type": "stream",
     "text": [
      "'list' object has no attribute 'shape'\n"
     ]
    },
    {
     "name": "stderr",
     "output_type": "stream",
     "text": [
      "INFO:utils.ml:Fitted classifier: XGBClassifier14; Done in 64.63442420959473 seconds\n",
      "INFO:utils.ml:Fitting classifier: XGBClassifier15\n"
     ]
    },
    {
     "name": "stdout",
     "output_type": "stream",
     "text": [
      "'list' object has no attribute 'shape'\n"
     ]
    },
    {
     "name": "stderr",
     "output_type": "stream",
     "text": [
      "INFO:utils.ml:Fitted classifier: XGBClassifier15; Done in 50.57254600524902 seconds\n",
      "INFO:utils.ml:Fitting classifier: XGBClassifier16\n"
     ]
    },
    {
     "name": "stdout",
     "output_type": "stream",
     "text": [
      "'list' object has no attribute 'shape'\n"
     ]
    },
    {
     "name": "stderr",
     "output_type": "stream",
     "text": [
      "INFO:utils.ml:Fitted classifier: XGBClassifier16; Done in 41.89902949333191 seconds\n",
      "INFO:utils.ml:Fitting classifier: XGBClassifier17\n"
     ]
    },
    {
     "name": "stdout",
     "output_type": "stream",
     "text": [
      "'list' object has no attribute 'shape'\n"
     ]
    },
    {
     "name": "stderr",
     "output_type": "stream",
     "text": [
      "INFO:utils.ml:Fitted classifier: XGBClassifier17; Done in 34.68984007835388 seconds\n",
      "INFO:utils.ml:Fitting classifier: XGBClassifier18\n"
     ]
    },
    {
     "name": "stdout",
     "output_type": "stream",
     "text": [
      "'list' object has no attribute 'shape'\n"
     ]
    },
    {
     "name": "stderr",
     "output_type": "stream",
     "text": [
      "INFO:utils.ml:Fitted classifier: XGBClassifier18; Done in 40.65733242034912 seconds\n",
      "INFO:utils.ml:Fitting classifier: XGBClassifier19\n"
     ]
    },
    {
     "name": "stdout",
     "output_type": "stream",
     "text": [
      "'list' object has no attribute 'shape'\n"
     ]
    },
    {
     "name": "stderr",
     "output_type": "stream",
     "text": [
      "INFO:utils.ml:Fitted classifier: XGBClassifier19; Done in 40.80505108833313 seconds\n",
      "INFO:utils.ml:Fitting classifier: XGBClassifier20\n"
     ]
    },
    {
     "name": "stdout",
     "output_type": "stream",
     "text": [
      "'list' object has no attribute 'shape'\n"
     ]
    },
    {
     "name": "stderr",
     "output_type": "stream",
     "text": [
      "INFO:utils.ml:Fitted classifier: XGBClassifier20; Done in 33.83465766906738 seconds\n",
      "INFO:utils.ml:Fitting completed in 1123.15 seconds.\n"
     ]
    },
    {
     "name": "stdout",
     "output_type": "stream",
     "text": [
      "'list' object has no attribute 'shape'\n"
     ]
    }
   ],
   "execution_count": 5
  },
  {
   "metadata": {
    "ExecuteTime": {
     "end_time": "2024-11-03T17:59:12.290407Z",
     "start_time": "2024-11-03T17:46:59.010982Z"
    }
   },
   "cell_type": "code",
   "source": "pipeline.predict_with_classifiers(VAL_PATH)",
   "id": "f71e18a07f5ee7bb",
   "outputs": [
    {
     "name": "stderr",
     "output_type": "stream",
     "text": [
      "INFO:utils.ml:Predicting with classifiers on dataset: C:\\Users\\gimes\\Src\\repos\\CADx-Project\\dataset\\binary\\val\n"
     ]
    },
    {
     "name": "stdout",
     "output_type": "stream",
     "text": [
      "Processed 5/159 batches.\n",
      "Processed 10/159 batches.\n",
      "Processed 15/159 batches.\n",
      "Processed 20/159 batches.\n",
      "Processed 25/159 batches.\n",
      "Processed 30/159 batches.\n",
      "Processed 35/159 batches.\n",
      "Processed 40/159 batches.\n",
      "Processed 45/159 batches.\n",
      "Processed 50/159 batches.\n",
      "Processed 55/159 batches.\n",
      "Processed 60/159 batches.\n",
      "Processed 65/159 batches.\n",
      "Processed 70/159 batches.\n",
      "Processed 75/159 batches.\n",
      "Processed 80/159 batches.\n",
      "Processed 85/159 batches.\n",
      "Processed 90/159 batches.\n",
      "Processed 95/159 batches.\n",
      "Processed 100/159 batches.\n",
      "Processed 105/159 batches.\n",
      "Processed 110/159 batches.\n",
      "Processed 115/159 batches.\n",
      "Processed 120/159 batches.\n",
      "Processed 125/159 batches.\n",
      "Processed 130/159 batches.\n",
      "Processed 135/159 batches.\n",
      "Processed 140/159 batches.\n",
      "Processed 145/159 batches.\n",
      "Processed 150/159 batches.\n",
      "Processed 155/159 batches.\n"
     ]
    },
    {
     "name": "stderr",
     "output_type": "stream",
     "text": [
      "INFO:utils.ml:Predictions made with classifier: RandomForestClassifier0\n"
     ]
    },
    {
     "name": "stdout",
     "output_type": "stream",
     "text": [
      "Processed 159/159 batches.\n"
     ]
    },
    {
     "name": "stderr",
     "output_type": "stream",
     "text": [
      "INFO:utils.ml:Predictions made with classifier: RandomForestClassifier1\n",
      "INFO:utils.ml:Predictions made with classifier: RandomForestClassifier2\n",
      "INFO:utils.ml:Predictions made with classifier: RandomForestClassifier3\n",
      "INFO:utils.ml:Predictions made with classifier: RandomForestClassifier4\n",
      "INFO:utils.ml:Predictions made with classifier: RandomForestClassifier5\n",
      "INFO:utils.ml:Predictions made with classifier: XGBClassifier6\n",
      "INFO:utils.ml:Predictions made with classifier: XGBClassifier7\n",
      "INFO:utils.ml:Predictions made with classifier: XGBClassifier8\n",
      "INFO:utils.ml:Predictions made with classifier: XGBClassifier9\n",
      "INFO:utils.ml:Predictions made with classifier: XGBClassifier10\n",
      "INFO:utils.ml:Predictions made with classifier: XGBClassifier11\n",
      "INFO:utils.ml:Predictions made with classifier: XGBClassifier12\n",
      "INFO:utils.ml:Predictions made with classifier: XGBClassifier13\n",
      "INFO:utils.ml:Predictions made with classifier: XGBClassifier14\n",
      "INFO:utils.ml:Predictions made with classifier: XGBClassifier15\n",
      "INFO:utils.ml:Predictions made with classifier: XGBClassifier16\n",
      "INFO:utils.ml:Predictions made with classifier: XGBClassifier17\n",
      "INFO:utils.ml:Predictions made with classifier: XGBClassifier18\n",
      "INFO:utils.ml:Predictions made with classifier: XGBClassifier19\n",
      "INFO:utils.ml:Predictions made with classifier: XGBClassifier20\n"
     ]
    },
    {
     "data": {
      "text/plain": [
       "{'GT': array([0, 0, 0, ..., 1, 1, 1]),\n",
       " 'RandomForestClassifier0': array([0, 0, 0, ..., 0, 0, 1]),\n",
       " 'RandomForestClassifier1': array([0, 0, 0, ..., 0, 0, 1]),\n",
       " 'RandomForestClassifier2': array([0, 0, 0, ..., 0, 0, 1]),\n",
       " 'RandomForestClassifier3': array([0, 0, 0, ..., 0, 0, 1]),\n",
       " 'RandomForestClassifier4': array([0, 0, 0, ..., 0, 0, 1]),\n",
       " 'RandomForestClassifier5': array([0, 0, 0, ..., 0, 0, 1]),\n",
       " 'XGBClassifier6': array([0, 0, 0, ..., 0, 1, 1]),\n",
       " 'XGBClassifier7': array([0, 0, 0, ..., 0, 1, 1]),\n",
       " 'XGBClassifier8': array([0, 0, 0, ..., 0, 1, 1]),\n",
       " 'XGBClassifier9': array([0, 0, 0, ..., 1, 0, 1]),\n",
       " 'XGBClassifier10': array([0, 0, 0, ..., 0, 0, 1]),\n",
       " 'XGBClassifier11': array([0, 0, 0, ..., 0, 0, 1]),\n",
       " 'XGBClassifier12': array([0, 0, 1, ..., 0, 0, 1]),\n",
       " 'XGBClassifier13': array([0, 0, 0, ..., 1, 0, 1]),\n",
       " 'XGBClassifier14': array([0, 0, 0, ..., 0, 0, 1]),\n",
       " 'XGBClassifier15': array([0, 0, 0, ..., 0, 0, 1]),\n",
       " 'XGBClassifier16': array([0, 0, 0, ..., 0, 0, 1]),\n",
       " 'XGBClassifier17': array([0, 0, 0, ..., 1, 0, 1]),\n",
       " 'XGBClassifier18': array([0, 0, 0, ..., 0, 0, 1]),\n",
       " 'XGBClassifier19': array([0, 0, 0, ..., 0, 0, 1]),\n",
       " 'XGBClassifier20': array([0, 0, 0, ..., 0, 0, 1])}"
      ]
     },
     "execution_count": 6,
     "metadata": {},
     "output_type": "execute_result"
    }
   ],
   "execution_count": 6
  },
  {
   "metadata": {
    "tags": [
     "BEST RESULT 3-11"
    ],
    "ExecuteTime": {
     "end_time": "2024-11-03T18:37:24.377696Z",
     "start_time": "2024-11-03T18:37:24.237946Z"
    }
   },
   "cell_type": "code",
   "source": [
    "import pandas as pd\n",
    "\n",
    "df = pd.DataFrame(data=pipeline.calculate_metrics())\n",
    "df = df.T\n",
    "df"
   ],
   "id": "751fad2660242db5",
   "outputs": [
    {
     "name": "stderr",
     "output_type": "stream",
     "text": [
      "INFO:utils.ml:Metrics for classifier GT: {'accuracy': 1.0, 'precision': 1.0, 'recall': 1.0, 'f1': 1.0, 'kappa': 1.0}\n",
      "INFO:utils.ml:Metrics for classifier RandomForestClassifier0: {'accuracy': 0.8242887249736565, 'precision': 0.8242495287163645, 'recall': 0.8242035201030735, 'f1': 0.824223718952559, 'kappa': 0.6484486338002668}\n",
      "INFO:utils.ml:Metrics for classifier RandomForestClassifier1: {'accuracy': 0.8242887249736565, 'precision': 0.8242495287163645, 'recall': 0.8242035201030735, 'f1': 0.824223718952559, 'kappa': 0.6484486338002668}\n",
      "INFO:utils.ml:Metrics for classifier RandomForestClassifier2: {'accuracy': 0.8361433087460485, 'precision': 0.8361429143253492, 'recall': 0.836020453639851, 'f1': 0.8360668121374513, 'kappa': 0.6721394517365231}\n",
      "INFO:utils.ml:Metrics for classifier RandomForestClassifier3: {'accuracy': 0.821390937829294, 'precision': 0.8213893926973226, 'recall': 0.8212544584408751, 'f1': 0.8213034349448987, 'kappa': 0.6426149096250445}\n",
      "INFO:utils.ml:Metrics for classifier RandomForestClassifier4: {'accuracy': 0.821390937829294, 'precision': 0.8213893926973226, 'recall': 0.8212544584408751, 'f1': 0.8213034349448987, 'kappa': 0.6426149096250445}\n",
      "INFO:utils.ml:Metrics for classifier RandomForestClassifier5: {'accuracy': 0.8303477344573235, 'precision': 0.8303732393837937, 'recall': 0.8301956368715316, 'f1': 0.8302565110980017, 'kappa': 0.6605244308639503}\n",
      "INFO:utils.ml:Metrics for classifier XGBClassifier6: {'accuracy': 0.8374604847207587, 'precision': 0.8375577572048678, 'recall': 0.8376358357988679, 'f1': 0.837457224754494, 'kappa': 0.6749686088996406}\n",
      "INFO:utils.ml:Metrics for classifier XGBClassifier7: {'accuracy': 0.8403582718651211, 'precision': 0.8405706078166618, 'recall': 0.840594060780576, 'f1': 0.8403580946035976, 'kappa': 0.6808013407482625}\n",
      "INFO:utils.ml:Metrics for classifier XGBClassifier8: {'accuracy': 0.8416754478398314, 'precision': 0.8418780992997595, 'recall': 0.8419070533957735, 'f1': 0.8416751731537696, 'kappa': 0.6834320938865404}\n",
      "INFO:utils.ml:Metrics for classifier XGBClassifier9: {'accuracy': 0.8422023182297155, 'precision': 0.842150390503523, 'recall': 0.8421683468399737, 'f1': 0.842158842292887, 'kappa': 0.6843178818097558}\n",
      "INFO:utils.ml:Metrics for classifier XGBClassifier10: {'accuracy': 0.8406217070600632, 'precision': 0.8406290834422252, 'recall': 0.8404956245149342, 'f1': 0.8405454744785484, 'kappa': 0.6810973479443472}\n",
      "INFO:utils.ml:Metrics for classifier XGBClassifier11: {'accuracy': 0.8395679662802951, 'precision': 0.8395746108785123, 'recall': 0.8394415650949723, 'f1': 0.8394912296817123, 'kappa': 0.6789889006580289}\n",
      "INFO:utils.ml:Metrics for classifier XGBClassifier12: {'accuracy': 0.8400948366701791, 'precision': 0.8400689877355136, 'recall': 0.8400052480829918, 'f1': 0.8400323910227381, 'kappa': 0.6800665811723241}\n",
      "INFO:utils.ml:Metrics for classifier XGBClassifier13: {'accuracy': 0.8424657534246576, 'precision': 0.8424181167156997, 'recall': 0.8424181167156997, 'f1': 0.8424181167156997, 'kappa': 0.6848362334313993}\n",
      "INFO:utils.ml:Metrics for classifier XGBClassifier14: {'accuracy': 0.8461538461538461, 'precision': 0.8461423089069233, 'recall': 0.8460523447685082, 'f1': 0.8460888620929923, 'kappa': 0.6921808016231412}\n",
      "INFO:utils.ml:Metrics for classifier XGBClassifier15: {'accuracy': 0.8461538461538461, 'precision': 0.8461423089069233, 'recall': 0.8460523447685082, 'f1': 0.8460888620929923, 'kappa': 0.6921808016231412}\n",
      "INFO:utils.ml:Metrics for classifier XGBClassifier16: {'accuracy': 0.845100105374078, 'precision': 0.8450964461647217, 'recall': 0.8449891220290366, 'f1': 0.8450312763482822, 'kappa': 0.6900667702902619}\n",
      "INFO:utils.ml:Metrics for classifier XGBClassifier17: {'accuracy': 0.8424657534246576, 'precision': 0.8424218846105678, 'recall': 0.84240895339619, 'f1': 0.8424151849581034, 'kappa': 0.6848304574329629}\n",
      "INFO:utils.ml:Metrics for classifier XGBClassifier18: {'accuracy': 0.845100105374078, 'precision': 0.8450802723469021, 'recall': 0.8450074486680559, 'f1': 0.8450379898693682, 'kappa': 0.6900781314001585}\n",
      "INFO:utils.ml:Metrics for classifier XGBClassifier19: {'accuracy': 0.845100105374078, 'precision': 0.8450802723469021, 'recall': 0.8450074486680559, 'f1': 0.8450379898693682, 'kappa': 0.6900781314001585}\n",
      "INFO:utils.ml:Metrics for classifier XGBClassifier20: {'accuracy': 0.8419388830347735, 'precision': 0.841910638502323, 'recall': 0.8418544337276801, 'f1': 0.841878793180294, 'kappa': 0.6837589914722119}\n"
     ]
    },
    {
     "data": {
      "text/plain": [
       "                         accuracy  precision    recall        f1     kappa\n",
       "GT                       1.000000   1.000000  1.000000  1.000000  1.000000\n",
       "RandomForestClassifier0  0.824289   0.824250  0.824204  0.824224  0.648449\n",
       "RandomForestClassifier1  0.824289   0.824250  0.824204  0.824224  0.648449\n",
       "RandomForestClassifier2  0.836143   0.836143  0.836020  0.836067  0.672139\n",
       "RandomForestClassifier3  0.821391   0.821389  0.821254  0.821303  0.642615\n",
       "RandomForestClassifier4  0.821391   0.821389  0.821254  0.821303  0.642615\n",
       "RandomForestClassifier5  0.830348   0.830373  0.830196  0.830257  0.660524\n",
       "XGBClassifier6           0.837460   0.837558  0.837636  0.837457  0.674969\n",
       "XGBClassifier7           0.840358   0.840571  0.840594  0.840358  0.680801\n",
       "XGBClassifier8           0.841675   0.841878  0.841907  0.841675  0.683432\n",
       "XGBClassifier9           0.842202   0.842150  0.842168  0.842159  0.684318\n",
       "XGBClassifier10          0.840622   0.840629  0.840496  0.840545  0.681097\n",
       "XGBClassifier11          0.839568   0.839575  0.839442  0.839491  0.678989\n",
       "XGBClassifier12          0.840095   0.840069  0.840005  0.840032  0.680067\n",
       "XGBClassifier13          0.842466   0.842418  0.842418  0.842418  0.684836\n",
       "XGBClassifier14          0.846154   0.846142  0.846052  0.846089  0.692181\n",
       "XGBClassifier15          0.846154   0.846142  0.846052  0.846089  0.692181\n",
       "XGBClassifier16          0.845100   0.845096  0.844989  0.845031  0.690067\n",
       "XGBClassifier17          0.842466   0.842422  0.842409  0.842415  0.684830\n",
       "XGBClassifier18          0.845100   0.845080  0.845007  0.845038  0.690078\n",
       "XGBClassifier19          0.845100   0.845080  0.845007  0.845038  0.690078\n",
       "XGBClassifier20          0.841939   0.841911  0.841854  0.841879  0.683759"
      ],
      "text/html": [
       "<div>\n",
       "<style scoped>\n",
       "    .dataframe tbody tr th:only-of-type {\n",
       "        vertical-align: middle;\n",
       "    }\n",
       "\n",
       "    .dataframe tbody tr th {\n",
       "        vertical-align: top;\n",
       "    }\n",
       "\n",
       "    .dataframe thead th {\n",
       "        text-align: right;\n",
       "    }\n",
       "</style>\n",
       "<table border=\"1\" class=\"dataframe\">\n",
       "  <thead>\n",
       "    <tr style=\"text-align: right;\">\n",
       "      <th></th>\n",
       "      <th>accuracy</th>\n",
       "      <th>precision</th>\n",
       "      <th>recall</th>\n",
       "      <th>f1</th>\n",
       "      <th>kappa</th>\n",
       "    </tr>\n",
       "  </thead>\n",
       "  <tbody>\n",
       "    <tr>\n",
       "      <th>GT</th>\n",
       "      <td>1.000000</td>\n",
       "      <td>1.000000</td>\n",
       "      <td>1.000000</td>\n",
       "      <td>1.000000</td>\n",
       "      <td>1.000000</td>\n",
       "    </tr>\n",
       "    <tr>\n",
       "      <th>RandomForestClassifier0</th>\n",
       "      <td>0.824289</td>\n",
       "      <td>0.824250</td>\n",
       "      <td>0.824204</td>\n",
       "      <td>0.824224</td>\n",
       "      <td>0.648449</td>\n",
       "    </tr>\n",
       "    <tr>\n",
       "      <th>RandomForestClassifier1</th>\n",
       "      <td>0.824289</td>\n",
       "      <td>0.824250</td>\n",
       "      <td>0.824204</td>\n",
       "      <td>0.824224</td>\n",
       "      <td>0.648449</td>\n",
       "    </tr>\n",
       "    <tr>\n",
       "      <th>RandomForestClassifier2</th>\n",
       "      <td>0.836143</td>\n",
       "      <td>0.836143</td>\n",
       "      <td>0.836020</td>\n",
       "      <td>0.836067</td>\n",
       "      <td>0.672139</td>\n",
       "    </tr>\n",
       "    <tr>\n",
       "      <th>RandomForestClassifier3</th>\n",
       "      <td>0.821391</td>\n",
       "      <td>0.821389</td>\n",
       "      <td>0.821254</td>\n",
       "      <td>0.821303</td>\n",
       "      <td>0.642615</td>\n",
       "    </tr>\n",
       "    <tr>\n",
       "      <th>RandomForestClassifier4</th>\n",
       "      <td>0.821391</td>\n",
       "      <td>0.821389</td>\n",
       "      <td>0.821254</td>\n",
       "      <td>0.821303</td>\n",
       "      <td>0.642615</td>\n",
       "    </tr>\n",
       "    <tr>\n",
       "      <th>RandomForestClassifier5</th>\n",
       "      <td>0.830348</td>\n",
       "      <td>0.830373</td>\n",
       "      <td>0.830196</td>\n",
       "      <td>0.830257</td>\n",
       "      <td>0.660524</td>\n",
       "    </tr>\n",
       "    <tr>\n",
       "      <th>XGBClassifier6</th>\n",
       "      <td>0.837460</td>\n",
       "      <td>0.837558</td>\n",
       "      <td>0.837636</td>\n",
       "      <td>0.837457</td>\n",
       "      <td>0.674969</td>\n",
       "    </tr>\n",
       "    <tr>\n",
       "      <th>XGBClassifier7</th>\n",
       "      <td>0.840358</td>\n",
       "      <td>0.840571</td>\n",
       "      <td>0.840594</td>\n",
       "      <td>0.840358</td>\n",
       "      <td>0.680801</td>\n",
       "    </tr>\n",
       "    <tr>\n",
       "      <th>XGBClassifier8</th>\n",
       "      <td>0.841675</td>\n",
       "      <td>0.841878</td>\n",
       "      <td>0.841907</td>\n",
       "      <td>0.841675</td>\n",
       "      <td>0.683432</td>\n",
       "    </tr>\n",
       "    <tr>\n",
       "      <th>XGBClassifier9</th>\n",
       "      <td>0.842202</td>\n",
       "      <td>0.842150</td>\n",
       "      <td>0.842168</td>\n",
       "      <td>0.842159</td>\n",
       "      <td>0.684318</td>\n",
       "    </tr>\n",
       "    <tr>\n",
       "      <th>XGBClassifier10</th>\n",
       "      <td>0.840622</td>\n",
       "      <td>0.840629</td>\n",
       "      <td>0.840496</td>\n",
       "      <td>0.840545</td>\n",
       "      <td>0.681097</td>\n",
       "    </tr>\n",
       "    <tr>\n",
       "      <th>XGBClassifier11</th>\n",
       "      <td>0.839568</td>\n",
       "      <td>0.839575</td>\n",
       "      <td>0.839442</td>\n",
       "      <td>0.839491</td>\n",
       "      <td>0.678989</td>\n",
       "    </tr>\n",
       "    <tr>\n",
       "      <th>XGBClassifier12</th>\n",
       "      <td>0.840095</td>\n",
       "      <td>0.840069</td>\n",
       "      <td>0.840005</td>\n",
       "      <td>0.840032</td>\n",
       "      <td>0.680067</td>\n",
       "    </tr>\n",
       "    <tr>\n",
       "      <th>XGBClassifier13</th>\n",
       "      <td>0.842466</td>\n",
       "      <td>0.842418</td>\n",
       "      <td>0.842418</td>\n",
       "      <td>0.842418</td>\n",
       "      <td>0.684836</td>\n",
       "    </tr>\n",
       "    <tr>\n",
       "      <th>XGBClassifier14</th>\n",
       "      <td>0.846154</td>\n",
       "      <td>0.846142</td>\n",
       "      <td>0.846052</td>\n",
       "      <td>0.846089</td>\n",
       "      <td>0.692181</td>\n",
       "    </tr>\n",
       "    <tr>\n",
       "      <th>XGBClassifier15</th>\n",
       "      <td>0.846154</td>\n",
       "      <td>0.846142</td>\n",
       "      <td>0.846052</td>\n",
       "      <td>0.846089</td>\n",
       "      <td>0.692181</td>\n",
       "    </tr>\n",
       "    <tr>\n",
       "      <th>XGBClassifier16</th>\n",
       "      <td>0.845100</td>\n",
       "      <td>0.845096</td>\n",
       "      <td>0.844989</td>\n",
       "      <td>0.845031</td>\n",
       "      <td>0.690067</td>\n",
       "    </tr>\n",
       "    <tr>\n",
       "      <th>XGBClassifier17</th>\n",
       "      <td>0.842466</td>\n",
       "      <td>0.842422</td>\n",
       "      <td>0.842409</td>\n",
       "      <td>0.842415</td>\n",
       "      <td>0.684830</td>\n",
       "    </tr>\n",
       "    <tr>\n",
       "      <th>XGBClassifier18</th>\n",
       "      <td>0.845100</td>\n",
       "      <td>0.845080</td>\n",
       "      <td>0.845007</td>\n",
       "      <td>0.845038</td>\n",
       "      <td>0.690078</td>\n",
       "    </tr>\n",
       "    <tr>\n",
       "      <th>XGBClassifier19</th>\n",
       "      <td>0.845100</td>\n",
       "      <td>0.845080</td>\n",
       "      <td>0.845007</td>\n",
       "      <td>0.845038</td>\n",
       "      <td>0.690078</td>\n",
       "    </tr>\n",
       "    <tr>\n",
       "      <th>XGBClassifier20</th>\n",
       "      <td>0.841939</td>\n",
       "      <td>0.841911</td>\n",
       "      <td>0.841854</td>\n",
       "      <td>0.841879</td>\n",
       "      <td>0.683759</td>\n",
       "    </tr>\n",
       "  </tbody>\n",
       "</table>\n",
       "</div>"
      ]
     },
     "execution_count": 12,
     "metadata": {},
     "output_type": "execute_result"
    }
   ],
   "execution_count": 12
  },
  {
   "metadata": {
    "ExecuteTime": {
     "end_time": "2024-11-03T17:59:12.521171Z",
     "start_time": "2024-11-03T17:59:12.506160Z"
    }
   },
   "cell_type": "code",
   "source": [
    "from sklearn.metrics import confusion_matrix, accuracy_score, classification_report\n",
    "\n",
    "highest = df[df[\"accuracy\"] == df.iloc[1:][\"accuracy\"].max()]\n",
    "idx = highest.index[0]\n",
    "\n",
    "print(classification_report(pipeline.predictions[\"GT\"], pipeline.predictions[idx]))\n",
    "print(confusion_matrix(pipeline.predictions[\"GT\"], pipeline.predictions[idx]))\n"
   ],
   "id": "2208e0e25786bb7e",
   "outputs": [
    {
     "name": "stdout",
     "output_type": "stream",
     "text": [
      "              precision    recall  f1-score   support\n",
      "\n",
      "           0       0.85      0.85      0.85      1931\n",
      "           1       0.85      0.84      0.84      1865\n",
      "\n",
      "    accuracy                           0.85      3796\n",
      "   macro avg       0.85      0.85      0.85      3796\n",
      "weighted avg       0.85      0.85      0.85      3796\n",
      "\n",
      "[[1645  286]\n",
      " [ 298 1567]]\n"
     ]
    }
   ],
   "execution_count": 8
  },
  {
   "metadata": {
    "ExecuteTime": {
     "end_time": "2024-11-03T17:59:12.608806Z",
     "start_time": "2024-11-03T17:59:12.600216Z"
    }
   },
   "cell_type": "code",
   "source": [
    "df_sorted = df.sort_values(\"accuracy\", ascending=False)\n",
    "df_sorted.head(8).index\n",
    "df_sorted"
   ],
   "id": "42a7454eecf3f29d",
   "outputs": [
    {
     "data": {
      "text/plain": [
       "                         accuracy  precision    recall        f1     kappa\n",
       "GT                       1.000000   1.000000  1.000000  1.000000  1.000000\n",
       "XGBClassifier15          0.846154   0.846142  0.846052  0.846089  0.692181\n",
       "XGBClassifier14          0.846154   0.846142  0.846052  0.846089  0.692181\n",
       "XGBClassifier19          0.845100   0.845080  0.845007  0.845038  0.690078\n",
       "XGBClassifier18          0.845100   0.845080  0.845007  0.845038  0.690078\n",
       "XGBClassifier16          0.845100   0.845096  0.844989  0.845031  0.690067\n",
       "XGBClassifier17          0.842466   0.842422  0.842409  0.842415  0.684830\n",
       "XGBClassifier13          0.842466   0.842418  0.842418  0.842418  0.684836\n",
       "XGBClassifier9           0.842202   0.842150  0.842168  0.842159  0.684318\n",
       "XGBClassifier20          0.841939   0.841911  0.841854  0.841879  0.683759\n",
       "XGBClassifier8           0.841675   0.841878  0.841907  0.841675  0.683432\n",
       "XGBClassifier10          0.840622   0.840629  0.840496  0.840545  0.681097\n",
       "XGBClassifier7           0.840358   0.840571  0.840594  0.840358  0.680801\n",
       "XGBClassifier12          0.840095   0.840069  0.840005  0.840032  0.680067\n",
       "XGBClassifier11          0.839568   0.839575  0.839442  0.839491  0.678989\n",
       "XGBClassifier6           0.837460   0.837558  0.837636  0.837457  0.674969\n",
       "RandomForestClassifier2  0.836143   0.836143  0.836020  0.836067  0.672139\n",
       "RandomForestClassifier5  0.830348   0.830373  0.830196  0.830257  0.660524\n",
       "RandomForestClassifier0  0.824289   0.824250  0.824204  0.824224  0.648449\n",
       "RandomForestClassifier1  0.824289   0.824250  0.824204  0.824224  0.648449\n",
       "RandomForestClassifier4  0.821391   0.821389  0.821254  0.821303  0.642615\n",
       "RandomForestClassifier3  0.821391   0.821389  0.821254  0.821303  0.642615"
      ],
      "text/html": [
       "<div>\n",
       "<style scoped>\n",
       "    .dataframe tbody tr th:only-of-type {\n",
       "        vertical-align: middle;\n",
       "    }\n",
       "\n",
       "    .dataframe tbody tr th {\n",
       "        vertical-align: top;\n",
       "    }\n",
       "\n",
       "    .dataframe thead th {\n",
       "        text-align: right;\n",
       "    }\n",
       "</style>\n",
       "<table border=\"1\" class=\"dataframe\">\n",
       "  <thead>\n",
       "    <tr style=\"text-align: right;\">\n",
       "      <th></th>\n",
       "      <th>accuracy</th>\n",
       "      <th>precision</th>\n",
       "      <th>recall</th>\n",
       "      <th>f1</th>\n",
       "      <th>kappa</th>\n",
       "    </tr>\n",
       "  </thead>\n",
       "  <tbody>\n",
       "    <tr>\n",
       "      <th>GT</th>\n",
       "      <td>1.000000</td>\n",
       "      <td>1.000000</td>\n",
       "      <td>1.000000</td>\n",
       "      <td>1.000000</td>\n",
       "      <td>1.000000</td>\n",
       "    </tr>\n",
       "    <tr>\n",
       "      <th>XGBClassifier15</th>\n",
       "      <td>0.846154</td>\n",
       "      <td>0.846142</td>\n",
       "      <td>0.846052</td>\n",
       "      <td>0.846089</td>\n",
       "      <td>0.692181</td>\n",
       "    </tr>\n",
       "    <tr>\n",
       "      <th>XGBClassifier14</th>\n",
       "      <td>0.846154</td>\n",
       "      <td>0.846142</td>\n",
       "      <td>0.846052</td>\n",
       "      <td>0.846089</td>\n",
       "      <td>0.692181</td>\n",
       "    </tr>\n",
       "    <tr>\n",
       "      <th>XGBClassifier19</th>\n",
       "      <td>0.845100</td>\n",
       "      <td>0.845080</td>\n",
       "      <td>0.845007</td>\n",
       "      <td>0.845038</td>\n",
       "      <td>0.690078</td>\n",
       "    </tr>\n",
       "    <tr>\n",
       "      <th>XGBClassifier18</th>\n",
       "      <td>0.845100</td>\n",
       "      <td>0.845080</td>\n",
       "      <td>0.845007</td>\n",
       "      <td>0.845038</td>\n",
       "      <td>0.690078</td>\n",
       "    </tr>\n",
       "    <tr>\n",
       "      <th>XGBClassifier16</th>\n",
       "      <td>0.845100</td>\n",
       "      <td>0.845096</td>\n",
       "      <td>0.844989</td>\n",
       "      <td>0.845031</td>\n",
       "      <td>0.690067</td>\n",
       "    </tr>\n",
       "    <tr>\n",
       "      <th>XGBClassifier17</th>\n",
       "      <td>0.842466</td>\n",
       "      <td>0.842422</td>\n",
       "      <td>0.842409</td>\n",
       "      <td>0.842415</td>\n",
       "      <td>0.684830</td>\n",
       "    </tr>\n",
       "    <tr>\n",
       "      <th>XGBClassifier13</th>\n",
       "      <td>0.842466</td>\n",
       "      <td>0.842418</td>\n",
       "      <td>0.842418</td>\n",
       "      <td>0.842418</td>\n",
       "      <td>0.684836</td>\n",
       "    </tr>\n",
       "    <tr>\n",
       "      <th>XGBClassifier9</th>\n",
       "      <td>0.842202</td>\n",
       "      <td>0.842150</td>\n",
       "      <td>0.842168</td>\n",
       "      <td>0.842159</td>\n",
       "      <td>0.684318</td>\n",
       "    </tr>\n",
       "    <tr>\n",
       "      <th>XGBClassifier20</th>\n",
       "      <td>0.841939</td>\n",
       "      <td>0.841911</td>\n",
       "      <td>0.841854</td>\n",
       "      <td>0.841879</td>\n",
       "      <td>0.683759</td>\n",
       "    </tr>\n",
       "    <tr>\n",
       "      <th>XGBClassifier8</th>\n",
       "      <td>0.841675</td>\n",
       "      <td>0.841878</td>\n",
       "      <td>0.841907</td>\n",
       "      <td>0.841675</td>\n",
       "      <td>0.683432</td>\n",
       "    </tr>\n",
       "    <tr>\n",
       "      <th>XGBClassifier10</th>\n",
       "      <td>0.840622</td>\n",
       "      <td>0.840629</td>\n",
       "      <td>0.840496</td>\n",
       "      <td>0.840545</td>\n",
       "      <td>0.681097</td>\n",
       "    </tr>\n",
       "    <tr>\n",
       "      <th>XGBClassifier7</th>\n",
       "      <td>0.840358</td>\n",
       "      <td>0.840571</td>\n",
       "      <td>0.840594</td>\n",
       "      <td>0.840358</td>\n",
       "      <td>0.680801</td>\n",
       "    </tr>\n",
       "    <tr>\n",
       "      <th>XGBClassifier12</th>\n",
       "      <td>0.840095</td>\n",
       "      <td>0.840069</td>\n",
       "      <td>0.840005</td>\n",
       "      <td>0.840032</td>\n",
       "      <td>0.680067</td>\n",
       "    </tr>\n",
       "    <tr>\n",
       "      <th>XGBClassifier11</th>\n",
       "      <td>0.839568</td>\n",
       "      <td>0.839575</td>\n",
       "      <td>0.839442</td>\n",
       "      <td>0.839491</td>\n",
       "      <td>0.678989</td>\n",
       "    </tr>\n",
       "    <tr>\n",
       "      <th>XGBClassifier6</th>\n",
       "      <td>0.837460</td>\n",
       "      <td>0.837558</td>\n",
       "      <td>0.837636</td>\n",
       "      <td>0.837457</td>\n",
       "      <td>0.674969</td>\n",
       "    </tr>\n",
       "    <tr>\n",
       "      <th>RandomForestClassifier2</th>\n",
       "      <td>0.836143</td>\n",
       "      <td>0.836143</td>\n",
       "      <td>0.836020</td>\n",
       "      <td>0.836067</td>\n",
       "      <td>0.672139</td>\n",
       "    </tr>\n",
       "    <tr>\n",
       "      <th>RandomForestClassifier5</th>\n",
       "      <td>0.830348</td>\n",
       "      <td>0.830373</td>\n",
       "      <td>0.830196</td>\n",
       "      <td>0.830257</td>\n",
       "      <td>0.660524</td>\n",
       "    </tr>\n",
       "    <tr>\n",
       "      <th>RandomForestClassifier0</th>\n",
       "      <td>0.824289</td>\n",
       "      <td>0.824250</td>\n",
       "      <td>0.824204</td>\n",
       "      <td>0.824224</td>\n",
       "      <td>0.648449</td>\n",
       "    </tr>\n",
       "    <tr>\n",
       "      <th>RandomForestClassifier1</th>\n",
       "      <td>0.824289</td>\n",
       "      <td>0.824250</td>\n",
       "      <td>0.824204</td>\n",
       "      <td>0.824224</td>\n",
       "      <td>0.648449</td>\n",
       "    </tr>\n",
       "    <tr>\n",
       "      <th>RandomForestClassifier4</th>\n",
       "      <td>0.821391</td>\n",
       "      <td>0.821389</td>\n",
       "      <td>0.821254</td>\n",
       "      <td>0.821303</td>\n",
       "      <td>0.642615</td>\n",
       "    </tr>\n",
       "    <tr>\n",
       "      <th>RandomForestClassifier3</th>\n",
       "      <td>0.821391</td>\n",
       "      <td>0.821389</td>\n",
       "      <td>0.821254</td>\n",
       "      <td>0.821303</td>\n",
       "      <td>0.642615</td>\n",
       "    </tr>\n",
       "  </tbody>\n",
       "</table>\n",
       "</div>"
      ]
     },
     "execution_count": 10,
     "metadata": {},
     "output_type": "execute_result"
    }
   ],
   "execution_count": 10
  },
  {
   "metadata": {
    "ExecuteTime": {
     "end_time": "2024-11-03T17:59:12.574881Z",
     "start_time": "2024-11-03T17:59:12.560049Z"
    }
   },
   "cell_type": "code",
   "source": "",
   "id": "200530a0ae5b947",
   "outputs": [],
   "execution_count": null
  }
 ],
 "metadata": {
  "kernelspec": {
   "display_name": "Python 3",
   "language": "python",
   "name": "python3"
  },
  "language_info": {
   "codemirror_mode": {
    "name": "ipython",
    "version": 2
   },
   "file_extension": ".py",
   "mimetype": "text/x-python",
   "name": "python",
   "nbconvert_exporter": "python",
   "pygments_lexer": "ipython2",
   "version": "2.7.6"
  }
 },
 "nbformat": 4,
 "nbformat_minor": 5
}

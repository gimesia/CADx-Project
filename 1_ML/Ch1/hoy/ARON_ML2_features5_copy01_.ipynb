{
 "cells": [
  {
   "cell_type": "code",
   "id": "initial_id",
   "metadata": {
    "collapsed": true,
    "ExecuteTime": {
     "end_time": "2024-11-03T18:56:05.974708Z",
     "start_time": "2024-11-03T18:56:05.968211Z"
    }
   },
   "source": [
    "from utils.loader import FactoryLoader\n",
    "from utils.ml import MLPipeline\n",
    "from utils.preprocessing import PreprocessingFactory\n",
    "from utils.feature_extraction import *\n",
    "from utils.utils import *\n",
    "\n",
    "VAL_PATH = r\"C:\\Users\\gimes\\Src\\repos\\CADx-Project\\dataset\\binary\\val\"\n",
    "TRAIN_PATH = r\"C:\\Users\\gimes\\Src\\repos\\CADx-Project\\dataset\\binary\\train\""
   ],
   "outputs": [],
   "execution_count": 10
  },
  {
   "metadata": {
    "ExecuteTime": {
     "end_time": "2024-11-03T18:56:06.080307Z",
     "start_time": "2024-11-03T18:56:05.974708Z"
    }
   },
   "cell_type": "code",
   "source": [
    "percent = 100\n",
    "random = False\n",
    "batch_size = 24\n",
    "th = 0.1\n",
    "\n",
    "# Initialize the FactoryLoader\n",
    "factory = PreprocessingFactory()\n",
    "factory.pad2square(fill=np.nan)\n",
    "factory.resize((300,300))\n",
    "factory.normalize2float()\n",
    "\n",
    "\n",
    "# Create the feature extraction pipeline strategy and add desired features\n",
    "strategy = FeatureExtractionStrategy()\n",
    "\n",
    "strategy.add_extractor(GradientExtractor(threshold=th)) # Add gradient feature\n",
    "\n",
    "strategy.add_extractor(ColorMomentsExtractor(\"rgb\", threshold=th))   # Add color moments feature\n",
    "strategy.add_extractor(ColorMomentsExtractor(\"lab\", threshold=th))   # Add color moments feature\n",
    "strategy.add_extractor(ColorMomentsExtractor(\"hsv\", threshold=th))   # Add color moments feature\n",
    "\n",
    "strategy.add_extractor(LBPExtractor(radius=1, n_points=8))\n",
    "strategy.add_extractor(LBPExtractor(radius=2, n_points=16))\n",
    "strategy.add_extractor(LBPExtractor(radius=3, n_points=24))\n",
    "strategy.add_extractor(LBPExtractor(radius=4, n_points=32))\n",
    "strategy.add_extractor(LBPExtractor(radius=5, n_points=40))\n",
    "\n",
    "strategy.add_extractor(FourierTransformExtractor())\n",
    "strategy.add_extractor(FFTExtractor())\n",
    "\n",
    "strategy.add_extractor(GLCMExtractor(properties=['contrast', 'dissimilarity', 'homogeneity', 'energy', 'correlation', \"ASM\"]))\n",
    "\n",
    "pipeline = MLPipeline(dataset_path=TRAIN_PATH, preprocessing_factory=factory, feature_strategy=strategy, classifiers=[], percentage=percent, verbose=True, shuffle=random, batch_size=batch_size)"
   ],
   "id": "d7c81ba220d9e517",
   "outputs": [
    {
     "name": "stderr",
     "output_type": "stream",
     "text": [
      "INFO:utils.ml:MLPipeline initialized with dataset path: C:\\Users\\gimes\\Src\\repos\\CADx-Project\\dataset\\binary\\train\n",
      "INFO:utils.ml:Preprocessing steps\n"
     ]
    }
   ],
   "execution_count": 11
  },
  {
   "metadata": {
    "jupyter": {
     "is_executing": true
    },
    "ExecuteTime": {
     "start_time": "2024-11-03T18:56:06.106483Z"
    }
   },
   "cell_type": "code",
   "source": "pipeline.run_feature_extraction()",
   "id": "21f510c52296a049",
   "outputs": [
    {
     "name": "stderr",
     "output_type": "stream",
     "text": [
      "INFO:utils.ml:Running feature extraction...\n"
     ]
    },
    {
     "name": "stdout",
     "output_type": "stream",
     "text": [
      "Processed 5/634 batches.\n",
      "Processed 10/634 batches.\n",
      "Processed 15/634 batches.\n",
      "Processed 20/634 batches.\n",
      "Processed 25/634 batches.\n"
     ]
    }
   ],
   "execution_count": null
  },
  {
   "metadata": {
    "ExecuteTime": {
     "end_time": "2024-11-03T18:17:41.408007Z",
     "start_time": "2024-11-03T18:17:41.119278Z"
    }
   },
   "cell_type": "code",
   "source": [
    "from xgboost import XGBClassifier\n",
    "from sklearn.ensemble import RandomForestClassifier\n",
    "\n",
    "rf0 = RandomForestClassifier(n_estimators=300, max_features='sqrt', random_state=42) # Random Forest with Feature Selection via max_features\n",
    "rf1 = RandomForestClassifier(n_estimators=300, oob_score=True, random_state=42) # Random Forest with Out-of-Bag Error (OOB)\n",
    "rf2 = RandomForestClassifier(n_estimators=300, bootstrap=False, random_state=42) # Random Forest with Bootstrap Disabled\n",
    "rf3 = RandomForestClassifier(n_estimators=100, max_features='sqrt', random_state=42) # Random Forest with Feature Selection via max_features\n",
    "rf4 = RandomForestClassifier(n_estimators=100, oob_score=True, random_state=42) # Random Forest with Out-of-Bag Error (OOB)\n",
    "rf5 = RandomForestClassifier(n_estimators=100, bootstrap=False, random_state=42) # Random Forest with Bootstrap Disabled\n",
    "\n",
    "xgb6 = XGBClassifier(n_estimators=350)\n",
    "xgb7 = XGBClassifier(n_estimators=450)\n",
    "xgb8 = XGBClassifier(n_estimators=550)\n",
    "xgb9 = XGBClassifier(learning_rate=0.1, n_estimators=400, max_depth=7, min_child_weight=3, subsample=0.7, colsample_bytree=0.7)\n",
    "xgb10 = XGBClassifier(learning_rate=0.1, n_estimators=400, max_depth=7, min_child_weight=1, subsample=0.8, colsample_bytree=0.8)\n",
    "xgb11 = XGBClassifier(learning_rate=0.1, n_estimators=500, max_depth=7, min_child_weight=1, subsample=0.8, colsample_bytree=0.8)\n",
    "xgb12 = XGBClassifier(learning_rate=0.1, n_estimators=500, min_child_weight=1, subsample=0.8, colsample_bytree=0.8)\n",
    "xgb13 = XGBClassifier(learning_rate=0.1, n_estimators=750, max_depth=7, min_child_weight=3, subsample=0.7, colsample_bytree=0.7)\n",
    "xgb14 = XGBClassifier(learning_rate=0.1, n_estimators=750, max_depth=7, min_child_weight=1, subsample=0.8, colsample_bytree=0.8)\n",
    "xgb15 = XGBClassifier(learning_rate=0.1, n_estimators=750, max_depth=7, min_child_weight=1, subsample=0.8, colsample_bytree=0.8)\n",
    "xgb16 = XGBClassifier(learning_rate=0.1, n_estimators=750, min_child_weight=1, subsample=0.8, colsample_bytree=0.8)\n",
    "xgb17 = XGBClassifier(learning_rate=0.1, n_estimators=1000, max_depth=7, min_child_weight=3, subsample=0.7, colsample_bytree=0.7)\n",
    "xgb18 = XGBClassifier(learning_rate=0.1, n_estimators=1000, max_depth=7, min_child_weight=1, subsample=0.8, colsample_bytree=0.8)\n",
    "xgb19 = XGBClassifier(learning_rate=0.1, n_estimators=1000, max_depth=7, min_child_weight=1, subsample=0.8, colsample_bytree=0.8)\n",
    "xgb20 = XGBClassifier(learning_rate=0.1, n_estimators=1000, min_child_weight=1, subsample=0.8, colsample_bytree=0.8)\n",
    "\n",
    "\n",
    "\n",
    "pipeline.classifiers = [rf0, rf1, rf2, rf3, rf4, rf5, \n",
    "                        # svm1, svm2, svm3, svm6, svm7, svm8,\n",
    "                       xgb6, xgb7, xgb8, xgb9, xgb10, xgb11, xgb12, xgb13, xgb14, xgb15, xgb16, xgb17, xgb18, xgb19, xgb20 ]\n",
    "pipeline.fitted_classifiers = {}"
   ],
   "id": "74470ba20848a156",
   "outputs": [],
   "execution_count": 4
  },
  {
   "metadata": {
    "ExecuteTime": {
     "end_time": "2024-11-03T18:34:13.292128Z",
     "start_time": "2024-11-03T18:17:41.439510Z"
    }
   },
   "cell_type": "code",
   "source": "pipeline.fit_classifiers()",
   "id": "5269ac4d3392fbae",
   "outputs": [
    {
     "name": "stderr",
     "output_type": "stream",
     "text": [
      "INFO:utils.ml:Fitting classifiers...\n",
      "INFO:utils.ml:Fitting classifier: RandomForestClassifier0\n",
      "INFO:utils.ml:Fitted classifier: RandomForestClassifier0; Done in 130.64025402069092 seconds\n",
      "INFO:utils.ml:Fitting classifier: RandomForestClassifier1\n"
     ]
    },
    {
     "name": "stdout",
     "output_type": "stream",
     "text": [
      "'list' object has no attribute 'shape'\n"
     ]
    },
    {
     "name": "stderr",
     "output_type": "stream",
     "text": [
      "INFO:utils.ml:Fitted classifier: RandomForestClassifier1; Done in 135.02360486984253 seconds\n",
      "INFO:utils.ml:Fitting classifier: RandomForestClassifier2\n"
     ]
    },
    {
     "name": "stdout",
     "output_type": "stream",
     "text": [
      "'list' object has no attribute 'shape'\n"
     ]
    },
    {
     "name": "stderr",
     "output_type": "stream",
     "text": [
      "INFO:utils.ml:Fitted classifier: RandomForestClassifier2; Done in 169.0799913406372 seconds\n",
      "INFO:utils.ml:Fitting classifier: RandomForestClassifier3\n"
     ]
    },
    {
     "name": "stdout",
     "output_type": "stream",
     "text": [
      "'list' object has no attribute 'shape'\n"
     ]
    },
    {
     "name": "stderr",
     "output_type": "stream",
     "text": [
      "INFO:utils.ml:Fitted classifier: RandomForestClassifier3; Done in 27.085299015045166 seconds\n",
      "INFO:utils.ml:Fitting classifier: RandomForestClassifier4\n"
     ]
    },
    {
     "name": "stdout",
     "output_type": "stream",
     "text": [
      "'list' object has no attribute 'shape'\n"
     ]
    },
    {
     "name": "stderr",
     "output_type": "stream",
     "text": [
      "INFO:utils.ml:Fitted classifier: RandomForestClassifier4; Done in 27.879342555999756 seconds\n",
      "INFO:utils.ml:Fitting classifier: RandomForestClassifier5\n"
     ]
    },
    {
     "name": "stdout",
     "output_type": "stream",
     "text": [
      "'list' object has no attribute 'shape'\n"
     ]
    },
    {
     "name": "stderr",
     "output_type": "stream",
     "text": [
      "INFO:utils.ml:Fitted classifier: RandomForestClassifier5; Done in 43.25918531417847 seconds\n",
      "INFO:utils.ml:Fitting classifier: XGBClassifier6\n"
     ]
    },
    {
     "name": "stdout",
     "output_type": "stream",
     "text": [
      "'list' object has no attribute 'shape'\n"
     ]
    },
    {
     "name": "stderr",
     "output_type": "stream",
     "text": [
      "INFO:utils.ml:Fitted classifier: XGBClassifier6; Done in 14.847933769226074 seconds\n",
      "INFO:utils.ml:Fitting classifier: XGBClassifier7\n"
     ]
    },
    {
     "name": "stdout",
     "output_type": "stream",
     "text": [
      "'list' object has no attribute 'shape'\n"
     ]
    },
    {
     "name": "stderr",
     "output_type": "stream",
     "text": [
      "INFO:utils.ml:Fitted classifier: XGBClassifier7; Done in 18.728856563568115 seconds\n",
      "INFO:utils.ml:Fitting classifier: XGBClassifier8\n"
     ]
    },
    {
     "name": "stdout",
     "output_type": "stream",
     "text": [
      "'list' object has no attribute 'shape'\n"
     ]
    },
    {
     "name": "stderr",
     "output_type": "stream",
     "text": [
      "INFO:utils.ml:Fitted classifier: XGBClassifier8; Done in 22.520482063293457 seconds\n",
      "INFO:utils.ml:Fitting classifier: XGBClassifier9\n"
     ]
    },
    {
     "name": "stdout",
     "output_type": "stream",
     "text": [
      "'list' object has no attribute 'shape'\n"
     ]
    },
    {
     "name": "stderr",
     "output_type": "stream",
     "text": [
      "INFO:utils.ml:Fitted classifier: XGBClassifier9; Done in 18.936086416244507 seconds\n",
      "INFO:utils.ml:Fitting classifier: XGBClassifier10\n"
     ]
    },
    {
     "name": "stdout",
     "output_type": "stream",
     "text": [
      "'list' object has no attribute 'shape'\n"
     ]
    },
    {
     "name": "stderr",
     "output_type": "stream",
     "text": [
      "INFO:utils.ml:Fitted classifier: XGBClassifier10; Done in 22.54564595222473 seconds\n",
      "INFO:utils.ml:Fitting classifier: XGBClassifier11\n"
     ]
    },
    {
     "name": "stdout",
     "output_type": "stream",
     "text": [
      "'list' object has no attribute 'shape'\n"
     ]
    },
    {
     "name": "stderr",
     "output_type": "stream",
     "text": [
      "INFO:utils.ml:Fitted classifier: XGBClassifier11; Done in 26.4596164226532 seconds\n",
      "INFO:utils.ml:Fitting classifier: XGBClassifier12\n"
     ]
    },
    {
     "name": "stdout",
     "output_type": "stream",
     "text": [
      "'list' object has no attribute 'shape'\n"
     ]
    },
    {
     "name": "stderr",
     "output_type": "stream",
     "text": [
      "INFO:utils.ml:Fitted classifier: XGBClassifier12; Done in 20.836637496948242 seconds\n",
      "INFO:utils.ml:Fitting classifier: XGBClassifier13\n"
     ]
    },
    {
     "name": "stdout",
     "output_type": "stream",
     "text": [
      "'list' object has no attribute 'shape'\n"
     ]
    },
    {
     "name": "stderr",
     "output_type": "stream",
     "text": [
      "INFO:utils.ml:Fitted classifier: XGBClassifier13; Done in 32.88432550430298 seconds\n",
      "INFO:utils.ml:Fitting classifier: XGBClassifier14\n"
     ]
    },
    {
     "name": "stdout",
     "output_type": "stream",
     "text": [
      "'list' object has no attribute 'shape'\n"
     ]
    },
    {
     "name": "stderr",
     "output_type": "stream",
     "text": [
      "INFO:utils.ml:Fitted classifier: XGBClassifier14; Done in 38.41245174407959 seconds\n",
      "INFO:utils.ml:Fitting classifier: XGBClassifier15\n"
     ]
    },
    {
     "name": "stdout",
     "output_type": "stream",
     "text": [
      "'list' object has no attribute 'shape'\n"
     ]
    },
    {
     "name": "stderr",
     "output_type": "stream",
     "text": [
      "INFO:utils.ml:Fitted classifier: XGBClassifier15; Done in 37.80608510971069 seconds\n",
      "INFO:utils.ml:Fitting classifier: XGBClassifier16\n"
     ]
    },
    {
     "name": "stdout",
     "output_type": "stream",
     "text": [
      "'list' object has no attribute 'shape'\n"
     ]
    },
    {
     "name": "stderr",
     "output_type": "stream",
     "text": [
      "INFO:utils.ml:Fitted classifier: XGBClassifier16; Done in 30.19054937362671 seconds\n",
      "INFO:utils.ml:Fitting classifier: XGBClassifier17\n"
     ]
    },
    {
     "name": "stdout",
     "output_type": "stream",
     "text": [
      "'list' object has no attribute 'shape'\n"
     ]
    },
    {
     "name": "stderr",
     "output_type": "stream",
     "text": [
      "INFO:utils.ml:Fitted classifier: XGBClassifier17; Done in 40.766403675079346 seconds\n",
      "INFO:utils.ml:Fitting classifier: XGBClassifier18\n"
     ]
    },
    {
     "name": "stdout",
     "output_type": "stream",
     "text": [
      "'list' object has no attribute 'shape'\n"
     ]
    },
    {
     "name": "stderr",
     "output_type": "stream",
     "text": [
      "INFO:utils.ml:Fitted classifier: XGBClassifier18; Done in 46.742223501205444 seconds\n",
      "INFO:utils.ml:Fitting classifier: XGBClassifier19\n"
     ]
    },
    {
     "name": "stdout",
     "output_type": "stream",
     "text": [
      "'list' object has no attribute 'shape'\n"
     ]
    },
    {
     "name": "stderr",
     "output_type": "stream",
     "text": [
      "INFO:utils.ml:Fitted classifier: XGBClassifier19; Done in 48.18006205558777 seconds\n",
      "INFO:utils.ml:Fitting classifier: XGBClassifier20\n"
     ]
    },
    {
     "name": "stdout",
     "output_type": "stream",
     "text": [
      "'list' object has no attribute 'shape'\n"
     ]
    },
    {
     "name": "stderr",
     "output_type": "stream",
     "text": [
      "INFO:utils.ml:Fitted classifier: XGBClassifier20; Done in 39.00106978416443 seconds\n",
      "INFO:utils.ml:Fitting completed in 991.84 seconds.\n"
     ]
    },
    {
     "name": "stdout",
     "output_type": "stream",
     "text": [
      "'list' object has no attribute 'shape'\n"
     ]
    }
   ],
   "execution_count": 5
  },
  {
   "metadata": {
    "ExecuteTime": {
     "end_time": "2024-11-03T18:56:05.439502Z",
     "start_time": "2024-11-03T18:34:13.310503Z"
    }
   },
   "cell_type": "code",
   "source": "pipeline.predict_with_classifiers(VAL_PATH)",
   "id": "f71e18a07f5ee7bb",
   "outputs": [
    {
     "name": "stderr",
     "output_type": "stream",
     "text": [
      "INFO:utils.ml:Predicting with classifiers on dataset: C:\\Users\\gimes\\Src\\repos\\CADx-Project\\dataset\\binary\\val\n"
     ]
    },
    {
     "name": "stdout",
     "output_type": "stream",
     "text": [
      "Processed 5/159 batches.\n",
      "Processed 10/159 batches.\n",
      "Processed 15/159 batches.\n",
      "Processed 20/159 batches.\n",
      "Processed 25/159 batches.\n",
      "Processed 30/159 batches.\n",
      "Processed 35/159 batches.\n",
      "Processed 40/159 batches.\n",
      "Processed 45/159 batches.\n",
      "Processed 50/159 batches.\n",
      "Processed 55/159 batches.\n",
      "Processed 60/159 batches.\n",
      "Processed 65/159 batches.\n",
      "Processed 70/159 batches.\n",
      "Processed 75/159 batches.\n",
      "Processed 80/159 batches.\n",
      "Processed 85/159 batches.\n",
      "Processed 90/159 batches.\n",
      "Processed 95/159 batches.\n",
      "Processed 100/159 batches.\n",
      "Processed 105/159 batches.\n",
      "Processed 110/159 batches.\n",
      "Processed 115/159 batches.\n",
      "Processed 120/159 batches.\n",
      "Processed 125/159 batches.\n",
      "Processed 130/159 batches.\n",
      "Processed 135/159 batches.\n",
      "Processed 140/159 batches.\n",
      "Processed 145/159 batches.\n",
      "Processed 150/159 batches.\n",
      "Processed 155/159 batches.\n",
      "Processed 159/159 batches.\n"
     ]
    },
    {
     "name": "stderr",
     "output_type": "stream",
     "text": [
      "INFO:utils.ml:Predictions made with classifier: RandomForestClassifier0\n",
      "INFO:utils.ml:Predictions made with classifier: RandomForestClassifier1\n",
      "INFO:utils.ml:Predictions made with classifier: RandomForestClassifier2\n",
      "INFO:utils.ml:Predictions made with classifier: RandomForestClassifier3\n",
      "INFO:utils.ml:Predictions made with classifier: RandomForestClassifier4\n",
      "INFO:utils.ml:Predictions made with classifier: RandomForestClassifier5\n",
      "INFO:utils.ml:Predictions made with classifier: XGBClassifier6\n",
      "INFO:utils.ml:Predictions made with classifier: XGBClassifier7\n",
      "INFO:utils.ml:Predictions made with classifier: XGBClassifier8\n",
      "INFO:utils.ml:Predictions made with classifier: XGBClassifier9\n",
      "INFO:utils.ml:Predictions made with classifier: XGBClassifier10\n",
      "INFO:utils.ml:Predictions made with classifier: XGBClassifier11\n",
      "INFO:utils.ml:Predictions made with classifier: XGBClassifier12\n",
      "INFO:utils.ml:Predictions made with classifier: XGBClassifier13\n",
      "INFO:utils.ml:Predictions made with classifier: XGBClassifier14\n",
      "INFO:utils.ml:Predictions made with classifier: XGBClassifier15\n",
      "INFO:utils.ml:Predictions made with classifier: XGBClassifier16\n",
      "INFO:utils.ml:Predictions made with classifier: XGBClassifier17\n",
      "INFO:utils.ml:Predictions made with classifier: XGBClassifier18\n",
      "INFO:utils.ml:Predictions made with classifier: XGBClassifier19\n",
      "INFO:utils.ml:Predictions made with classifier: XGBClassifier20\n"
     ]
    },
    {
     "data": {
      "text/plain": [
       "{'GT': array([0, 0, 0, ..., 1, 1, 1]),\n",
       " 'RandomForestClassifier0': array([0, 0, 1, ..., 0, 0, 1]),\n",
       " 'RandomForestClassifier1': array([0, 0, 1, ..., 0, 0, 1]),\n",
       " 'RandomForestClassifier2': array([0, 0, 0, ..., 0, 0, 1]),\n",
       " 'RandomForestClassifier3': array([0, 0, 1, ..., 1, 0, 1]),\n",
       " 'RandomForestClassifier4': array([0, 0, 1, ..., 1, 0, 1]),\n",
       " 'RandomForestClassifier5': array([0, 0, 1, ..., 1, 0, 1]),\n",
       " 'XGBClassifier6': array([0, 0, 1, ..., 1, 0, 1]),\n",
       " 'XGBClassifier7': array([0, 0, 1, ..., 0, 0, 1]),\n",
       " 'XGBClassifier8': array([0, 0, 1, ..., 1, 0, 1]),\n",
       " 'XGBClassifier9': array([0, 0, 0, ..., 1, 0, 1]),\n",
       " 'XGBClassifier10': array([0, 0, 0, ..., 1, 0, 1]),\n",
       " 'XGBClassifier11': array([0, 0, 0, ..., 1, 0, 1]),\n",
       " 'XGBClassifier12': array([0, 0, 0, ..., 1, 1, 1]),\n",
       " 'XGBClassifier13': array([0, 0, 0, ..., 1, 0, 1]),\n",
       " 'XGBClassifier14': array([0, 0, 0, ..., 1, 0, 1]),\n",
       " 'XGBClassifier15': array([0, 0, 0, ..., 1, 0, 1]),\n",
       " 'XGBClassifier16': array([0, 0, 0, ..., 1, 1, 1]),\n",
       " 'XGBClassifier17': array([0, 0, 0, ..., 1, 0, 1]),\n",
       " 'XGBClassifier18': array([0, 0, 0, ..., 1, 0, 1]),\n",
       " 'XGBClassifier19': array([0, 0, 0, ..., 1, 0, 1]),\n",
       " 'XGBClassifier20': array([0, 0, 0, ..., 1, 1, 1])}"
      ]
     },
     "execution_count": 6,
     "metadata": {},
     "output_type": "execute_result"
    }
   ],
   "execution_count": 6
  },
  {
   "metadata": {
    "ExecuteTime": {
     "end_time": "2024-11-03T18:56:05.710713Z",
     "start_time": "2024-11-03T18:56:05.460272Z"
    }
   },
   "cell_type": "code",
   "source": [
    "import pandas as pd\n",
    "\n",
    "df = pd.DataFrame(data=pipeline.calculate_metrics())\n",
    "df = df.T\n",
    "df"
   ],
   "id": "751fad2660242db5",
   "outputs": [
    {
     "name": "stderr",
     "output_type": "stream",
     "text": [
      "INFO:utils.ml:Metrics for classifier GT: {'accuracy': 1.0, 'precision': 1.0, 'recall': 1.0, 'f1': 1.0, 'kappa': 1.0}\n",
      "INFO:utils.ml:Metrics for classifier RandomForestClassifier0: {'accuracy': 0.8287671232876712, 'precision': 0.8287128242762694, 'recall': 0.828724507575705, 'f1': 0.8287184357107553, 'kappa': 0.6574369665414461}\n",
      "INFO:utils.ml:Metrics for classifier RandomForestClassifier1: {'accuracy': 0.8287671232876712, 'precision': 0.8287128242762694, 'recall': 0.828724507575705, 'f1': 0.8287184357107553, 'kappa': 0.6574369665414461}\n",
      "INFO:utils.ml:Metrics for classifier RandomForestClassifier2: {'accuracy': 0.8327186512118019, 'precision': 0.832695916197561, 'recall': 0.8326176688237491, 'f1': 0.8326497930703437, 'kappa': 0.6653023978103568}\n",
      "INFO:utils.ml:Metrics for classifier RandomForestClassifier3: {'accuracy': 0.8258693361433087, 'precision': 0.8258857926460652, 'recall': 0.8257204659964485, 'f1': 0.8257778217221483, 'kappa': 0.6515663127093041}\n",
      "INFO:utils.ml:Metrics for classifier RandomForestClassifier4: {'accuracy': 0.8258693361433087, 'precision': 0.8258857926460652, 'recall': 0.8257204659964485, 'f1': 0.8257778217221483, 'kappa': 0.6515663127093041}\n",
      "INFO:utils.ml:Metrics for classifier RandomForestClassifier5: {'accuracy': 0.8340358271865121, 'precision': 0.8340103122990761, 'recall': 0.8339398247584563, 'f1': 0.8339692748600374, 'kappa': 0.6679408550715984}\n",
      "INFO:utils.ml:Metrics for classifier XGBClassifier6: {'accuracy': 0.8456269757639621, 'precision': 0.8455730944487769, 'recall': 0.8456352748926435, 'f1': 0.8455957297646234, 'kappa': 0.6911945461476504}\n",
      "INFO:utils.ml:Metrics for classifier XGBClassifier7: {'accuracy': 0.8429926238145417, 'precision': 0.8429648712216963, 'recall': 0.8429084931476419, 'f1': 0.842932934559092, 'kappa': 0.6858672648623971}\n",
      "INFO:utils.ml:Metrics for classifier XGBClassifier8: {'accuracy': 0.8466807165437302, 'precision': 0.8466288108801651, 'recall': 0.8466526810345665, 'f1': 0.846639805211411, 'kappa': 0.6932799510863272}\n",
      "INFO:utils.ml:Metrics for classifier XGBClassifier9: {'accuracy': 0.8440463645943098, 'precision': 0.8440189820270351, 'recall': 0.8441183289992683, 'f1': 0.8440290460532526, 'kappa': 0.6880727272121578}\n",
      "INFO:utils.ml:Metrics for classifier XGBClassifier10: {'accuracy': 0.8403582718651211, 'precision': 0.8403181307596288, 'recall': 0.8402916712367565, 'f1': 0.8403039671174357, 'kappa': 0.6806082889983653}\n",
      "INFO:utils.ml:Metrics for classifier XGBClassifier11: {'accuracy': 0.8411485774499473, 'precision': 0.8411112592197636, 'recall': 0.8410776341419731, 'f1': 0.8410929860825467, 'kappa': 0.6821865237493578}\n",
      "INFO:utils.ml:Metrics for classifier XGBClassifier12: {'accuracy': 0.8429926238145417, 'precision': 0.842972102602197, 'recall': 0.8430734328988161, 'f1': 0.8429768883936144, 'kappa': 0.6859708642319402}\n",
      "INFO:utils.ml:Metrics for classifier XGBClassifier13: {'accuracy': 0.8445732349841939, 'precision': 0.8445298543820712, 'recall': 0.8446178687507202, 'f1': 0.8445504077737289, 'kappa': 0.6891094469006587}\n",
      "INFO:utils.ml:Metrics for classifier XGBClassifier14: {'accuracy': 0.8411485774499473, 'precision': 0.8410936389481165, 'recall': 0.8411509406980506, 'f1': 0.8411152228865246, 'kappa': 0.6822331146759928}\n",
      "INFO:utils.ml:Metrics for classifier XGBClassifier15: {'accuracy': 0.8411485774499473, 'precision': 0.8410936389481165, 'recall': 0.8411509406980506, 'f1': 0.8411152228865246, 'kappa': 0.6822331146759928}\n",
      "INFO:utils.ml:Metrics for classifier XGBClassifier16: {'accuracy': 0.845100105374078, 'precision': 0.8451490885187142, 'recall': 0.8452456949753075, 'f1': 0.845093913265561, 'kappa': 0.6902257500691842}\n",
      "INFO:utils.ml:Metrics for classifier XGBClassifier17: {'accuracy': 0.8435194942044257, 'precision': 0.8435951568956495, 'recall': 0.8436829324843842, 'f1': 0.8435151503038055, 'kappa': 0.6870762536037612}\n",
      "INFO:utils.ml:Metrics for classifier XGBClassifier18: {'accuracy': 0.8432560590094836, 'precision': 0.8432071641698231, 'recall': 0.8432865494965034, 'f1': 0.8432299372224263, 'kappa': 0.6864661637435603}\n",
      "INFO:utils.ml:Metrics for classifier XGBClassifier19: {'accuracy': 0.8432560590094836, 'precision': 0.8432071641698231, 'recall': 0.8432865494965034, 'f1': 0.8432299372224263, 'kappa': 0.6864661637435603}\n",
      "INFO:utils.ml:Metrics for classifier XGBClassifier20: {'accuracy': 0.8477344573234984, 'precision': 0.8477965223720624, 'recall': 0.8478900068447219, 'f1': 0.8477293427529153, 'kappa': 0.6954995979479106}\n"
     ]
    },
    {
     "data": {
      "text/plain": [
       "                         accuracy  precision    recall        f1     kappa\n",
       "GT                       1.000000   1.000000  1.000000  1.000000  1.000000\n",
       "RandomForestClassifier0  0.828767   0.828713  0.828725  0.828718  0.657437\n",
       "RandomForestClassifier1  0.828767   0.828713  0.828725  0.828718  0.657437\n",
       "RandomForestClassifier2  0.832719   0.832696  0.832618  0.832650  0.665302\n",
       "RandomForestClassifier3  0.825869   0.825886  0.825720  0.825778  0.651566\n",
       "RandomForestClassifier4  0.825869   0.825886  0.825720  0.825778  0.651566\n",
       "RandomForestClassifier5  0.834036   0.834010  0.833940  0.833969  0.667941\n",
       "XGBClassifier6           0.845627   0.845573  0.845635  0.845596  0.691195\n",
       "XGBClassifier7           0.842993   0.842965  0.842908  0.842933  0.685867\n",
       "XGBClassifier8           0.846681   0.846629  0.846653  0.846640  0.693280\n",
       "XGBClassifier9           0.844046   0.844019  0.844118  0.844029  0.688073\n",
       "XGBClassifier10          0.840358   0.840318  0.840292  0.840304  0.680608\n",
       "XGBClassifier11          0.841149   0.841111  0.841078  0.841093  0.682187\n",
       "XGBClassifier12          0.842993   0.842972  0.843073  0.842977  0.685971\n",
       "XGBClassifier13          0.844573   0.844530  0.844618  0.844550  0.689109\n",
       "XGBClassifier14          0.841149   0.841094  0.841151  0.841115  0.682233\n",
       "XGBClassifier15          0.841149   0.841094  0.841151  0.841115  0.682233\n",
       "XGBClassifier16          0.845100   0.845149  0.845246  0.845094  0.690226\n",
       "XGBClassifier17          0.843519   0.843595  0.843683  0.843515  0.687076\n",
       "XGBClassifier18          0.843256   0.843207  0.843287  0.843230  0.686466\n",
       "XGBClassifier19          0.843256   0.843207  0.843287  0.843230  0.686466\n",
       "XGBClassifier20          0.847734   0.847797  0.847890  0.847729  0.695500"
      ],
      "text/html": [
       "<div>\n",
       "<style scoped>\n",
       "    .dataframe tbody tr th:only-of-type {\n",
       "        vertical-align: middle;\n",
       "    }\n",
       "\n",
       "    .dataframe tbody tr th {\n",
       "        vertical-align: top;\n",
       "    }\n",
       "\n",
       "    .dataframe thead th {\n",
       "        text-align: right;\n",
       "    }\n",
       "</style>\n",
       "<table border=\"1\" class=\"dataframe\">\n",
       "  <thead>\n",
       "    <tr style=\"text-align: right;\">\n",
       "      <th></th>\n",
       "      <th>accuracy</th>\n",
       "      <th>precision</th>\n",
       "      <th>recall</th>\n",
       "      <th>f1</th>\n",
       "      <th>kappa</th>\n",
       "    </tr>\n",
       "  </thead>\n",
       "  <tbody>\n",
       "    <tr>\n",
       "      <th>GT</th>\n",
       "      <td>1.000000</td>\n",
       "      <td>1.000000</td>\n",
       "      <td>1.000000</td>\n",
       "      <td>1.000000</td>\n",
       "      <td>1.000000</td>\n",
       "    </tr>\n",
       "    <tr>\n",
       "      <th>RandomForestClassifier0</th>\n",
       "      <td>0.828767</td>\n",
       "      <td>0.828713</td>\n",
       "      <td>0.828725</td>\n",
       "      <td>0.828718</td>\n",
       "      <td>0.657437</td>\n",
       "    </tr>\n",
       "    <tr>\n",
       "      <th>RandomForestClassifier1</th>\n",
       "      <td>0.828767</td>\n",
       "      <td>0.828713</td>\n",
       "      <td>0.828725</td>\n",
       "      <td>0.828718</td>\n",
       "      <td>0.657437</td>\n",
       "    </tr>\n",
       "    <tr>\n",
       "      <th>RandomForestClassifier2</th>\n",
       "      <td>0.832719</td>\n",
       "      <td>0.832696</td>\n",
       "      <td>0.832618</td>\n",
       "      <td>0.832650</td>\n",
       "      <td>0.665302</td>\n",
       "    </tr>\n",
       "    <tr>\n",
       "      <th>RandomForestClassifier3</th>\n",
       "      <td>0.825869</td>\n",
       "      <td>0.825886</td>\n",
       "      <td>0.825720</td>\n",
       "      <td>0.825778</td>\n",
       "      <td>0.651566</td>\n",
       "    </tr>\n",
       "    <tr>\n",
       "      <th>RandomForestClassifier4</th>\n",
       "      <td>0.825869</td>\n",
       "      <td>0.825886</td>\n",
       "      <td>0.825720</td>\n",
       "      <td>0.825778</td>\n",
       "      <td>0.651566</td>\n",
       "    </tr>\n",
       "    <tr>\n",
       "      <th>RandomForestClassifier5</th>\n",
       "      <td>0.834036</td>\n",
       "      <td>0.834010</td>\n",
       "      <td>0.833940</td>\n",
       "      <td>0.833969</td>\n",
       "      <td>0.667941</td>\n",
       "    </tr>\n",
       "    <tr>\n",
       "      <th>XGBClassifier6</th>\n",
       "      <td>0.845627</td>\n",
       "      <td>0.845573</td>\n",
       "      <td>0.845635</td>\n",
       "      <td>0.845596</td>\n",
       "      <td>0.691195</td>\n",
       "    </tr>\n",
       "    <tr>\n",
       "      <th>XGBClassifier7</th>\n",
       "      <td>0.842993</td>\n",
       "      <td>0.842965</td>\n",
       "      <td>0.842908</td>\n",
       "      <td>0.842933</td>\n",
       "      <td>0.685867</td>\n",
       "    </tr>\n",
       "    <tr>\n",
       "      <th>XGBClassifier8</th>\n",
       "      <td>0.846681</td>\n",
       "      <td>0.846629</td>\n",
       "      <td>0.846653</td>\n",
       "      <td>0.846640</td>\n",
       "      <td>0.693280</td>\n",
       "    </tr>\n",
       "    <tr>\n",
       "      <th>XGBClassifier9</th>\n",
       "      <td>0.844046</td>\n",
       "      <td>0.844019</td>\n",
       "      <td>0.844118</td>\n",
       "      <td>0.844029</td>\n",
       "      <td>0.688073</td>\n",
       "    </tr>\n",
       "    <tr>\n",
       "      <th>XGBClassifier10</th>\n",
       "      <td>0.840358</td>\n",
       "      <td>0.840318</td>\n",
       "      <td>0.840292</td>\n",
       "      <td>0.840304</td>\n",
       "      <td>0.680608</td>\n",
       "    </tr>\n",
       "    <tr>\n",
       "      <th>XGBClassifier11</th>\n",
       "      <td>0.841149</td>\n",
       "      <td>0.841111</td>\n",
       "      <td>0.841078</td>\n",
       "      <td>0.841093</td>\n",
       "      <td>0.682187</td>\n",
       "    </tr>\n",
       "    <tr>\n",
       "      <th>XGBClassifier12</th>\n",
       "      <td>0.842993</td>\n",
       "      <td>0.842972</td>\n",
       "      <td>0.843073</td>\n",
       "      <td>0.842977</td>\n",
       "      <td>0.685971</td>\n",
       "    </tr>\n",
       "    <tr>\n",
       "      <th>XGBClassifier13</th>\n",
       "      <td>0.844573</td>\n",
       "      <td>0.844530</td>\n",
       "      <td>0.844618</td>\n",
       "      <td>0.844550</td>\n",
       "      <td>0.689109</td>\n",
       "    </tr>\n",
       "    <tr>\n",
       "      <th>XGBClassifier14</th>\n",
       "      <td>0.841149</td>\n",
       "      <td>0.841094</td>\n",
       "      <td>0.841151</td>\n",
       "      <td>0.841115</td>\n",
       "      <td>0.682233</td>\n",
       "    </tr>\n",
       "    <tr>\n",
       "      <th>XGBClassifier15</th>\n",
       "      <td>0.841149</td>\n",
       "      <td>0.841094</td>\n",
       "      <td>0.841151</td>\n",
       "      <td>0.841115</td>\n",
       "      <td>0.682233</td>\n",
       "    </tr>\n",
       "    <tr>\n",
       "      <th>XGBClassifier16</th>\n",
       "      <td>0.845100</td>\n",
       "      <td>0.845149</td>\n",
       "      <td>0.845246</td>\n",
       "      <td>0.845094</td>\n",
       "      <td>0.690226</td>\n",
       "    </tr>\n",
       "    <tr>\n",
       "      <th>XGBClassifier17</th>\n",
       "      <td>0.843519</td>\n",
       "      <td>0.843595</td>\n",
       "      <td>0.843683</td>\n",
       "      <td>0.843515</td>\n",
       "      <td>0.687076</td>\n",
       "    </tr>\n",
       "    <tr>\n",
       "      <th>XGBClassifier18</th>\n",
       "      <td>0.843256</td>\n",
       "      <td>0.843207</td>\n",
       "      <td>0.843287</td>\n",
       "      <td>0.843230</td>\n",
       "      <td>0.686466</td>\n",
       "    </tr>\n",
       "    <tr>\n",
       "      <th>XGBClassifier19</th>\n",
       "      <td>0.843256</td>\n",
       "      <td>0.843207</td>\n",
       "      <td>0.843287</td>\n",
       "      <td>0.843230</td>\n",
       "      <td>0.686466</td>\n",
       "    </tr>\n",
       "    <tr>\n",
       "      <th>XGBClassifier20</th>\n",
       "      <td>0.847734</td>\n",
       "      <td>0.847797</td>\n",
       "      <td>0.847890</td>\n",
       "      <td>0.847729</td>\n",
       "      <td>0.695500</td>\n",
       "    </tr>\n",
       "  </tbody>\n",
       "</table>\n",
       "</div>"
      ]
     },
     "execution_count": 7,
     "metadata": {},
     "output_type": "execute_result"
    }
   ],
   "execution_count": 7
  },
  {
   "metadata": {
    "ExecuteTime": {
     "end_time": "2024-11-03T18:56:05.799671Z",
     "start_time": "2024-11-03T18:56:05.777600Z"
    }
   },
   "cell_type": "code",
   "source": [
    "from sklearn.metrics import confusion_matrix, accuracy_score, classification_report\n",
    "\n",
    "highest = df[df[\"accuracy\"] == df.iloc[1:][\"accuracy\"].max()]\n",
    "idx = highest.index[0]\n",
    "\n",
    "print(classification_report(pipeline.predictions[\"GT\"], pipeline.predictions[idx]))\n",
    "print(confusion_matrix(pipeline.predictions[\"GT\"], pipeline.predictions[idx]))\n"
   ],
   "id": "2208e0e25786bb7e",
   "outputs": [
    {
     "name": "stdout",
     "output_type": "stream",
     "text": [
      "              precision    recall  f1-score   support\n",
      "\n",
      "           0       0.86      0.84      0.85      1931\n",
      "           1       0.84      0.86      0.85      1865\n",
      "\n",
      "    accuracy                           0.85      3796\n",
      "   macro avg       0.85      0.85      0.85      3796\n",
      "weighted avg       0.85      0.85      0.85      3796\n",
      "\n",
      "[[1620  311]\n",
      " [ 267 1598]]\n"
     ]
    }
   ],
   "execution_count": 8
  },
  {
   "metadata": {
    "ExecuteTime": {
     "end_time": "2024-11-03T18:56:05.858341Z",
     "start_time": "2024-11-03T18:56:05.840803Z"
    }
   },
   "cell_type": "code",
   "source": [
    "df_sorted = df.sort_values(\"accuracy\", ascending=False)\n",
    "df_sorted.head(8).index\n",
    "df_sorted"
   ],
   "id": "2f5f17716e1cbbf7",
   "outputs": [
    {
     "data": {
      "text/plain": [
       "                         accuracy  precision    recall        f1     kappa\n",
       "GT                       1.000000   1.000000  1.000000  1.000000  1.000000\n",
       "XGBClassifier20          0.847734   0.847797  0.847890  0.847729  0.695500\n",
       "XGBClassifier8           0.846681   0.846629  0.846653  0.846640  0.693280\n",
       "XGBClassifier6           0.845627   0.845573  0.845635  0.845596  0.691195\n",
       "XGBClassifier16          0.845100   0.845149  0.845246  0.845094  0.690226\n",
       "XGBClassifier13          0.844573   0.844530  0.844618  0.844550  0.689109\n",
       "XGBClassifier9           0.844046   0.844019  0.844118  0.844029  0.688073\n",
       "XGBClassifier17          0.843519   0.843595  0.843683  0.843515  0.687076\n",
       "XGBClassifier19          0.843256   0.843207  0.843287  0.843230  0.686466\n",
       "XGBClassifier18          0.843256   0.843207  0.843287  0.843230  0.686466\n",
       "XGBClassifier7           0.842993   0.842965  0.842908  0.842933  0.685867\n",
       "XGBClassifier12          0.842993   0.842972  0.843073  0.842977  0.685971\n",
       "XGBClassifier11          0.841149   0.841111  0.841078  0.841093  0.682187\n",
       "XGBClassifier14          0.841149   0.841094  0.841151  0.841115  0.682233\n",
       "XGBClassifier15          0.841149   0.841094  0.841151  0.841115  0.682233\n",
       "XGBClassifier10          0.840358   0.840318  0.840292  0.840304  0.680608\n",
       "RandomForestClassifier5  0.834036   0.834010  0.833940  0.833969  0.667941\n",
       "RandomForestClassifier2  0.832719   0.832696  0.832618  0.832650  0.665302\n",
       "RandomForestClassifier0  0.828767   0.828713  0.828725  0.828718  0.657437\n",
       "RandomForestClassifier1  0.828767   0.828713  0.828725  0.828718  0.657437\n",
       "RandomForestClassifier4  0.825869   0.825886  0.825720  0.825778  0.651566\n",
       "RandomForestClassifier3  0.825869   0.825886  0.825720  0.825778  0.651566"
      ],
      "text/html": [
       "<div>\n",
       "<style scoped>\n",
       "    .dataframe tbody tr th:only-of-type {\n",
       "        vertical-align: middle;\n",
       "    }\n",
       "\n",
       "    .dataframe tbody tr th {\n",
       "        vertical-align: top;\n",
       "    }\n",
       "\n",
       "    .dataframe thead th {\n",
       "        text-align: right;\n",
       "    }\n",
       "</style>\n",
       "<table border=\"1\" class=\"dataframe\">\n",
       "  <thead>\n",
       "    <tr style=\"text-align: right;\">\n",
       "      <th></th>\n",
       "      <th>accuracy</th>\n",
       "      <th>precision</th>\n",
       "      <th>recall</th>\n",
       "      <th>f1</th>\n",
       "      <th>kappa</th>\n",
       "    </tr>\n",
       "  </thead>\n",
       "  <tbody>\n",
       "    <tr>\n",
       "      <th>GT</th>\n",
       "      <td>1.000000</td>\n",
       "      <td>1.000000</td>\n",
       "      <td>1.000000</td>\n",
       "      <td>1.000000</td>\n",
       "      <td>1.000000</td>\n",
       "    </tr>\n",
       "    <tr>\n",
       "      <th>XGBClassifier20</th>\n",
       "      <td>0.847734</td>\n",
       "      <td>0.847797</td>\n",
       "      <td>0.847890</td>\n",
       "      <td>0.847729</td>\n",
       "      <td>0.695500</td>\n",
       "    </tr>\n",
       "    <tr>\n",
       "      <th>XGBClassifier8</th>\n",
       "      <td>0.846681</td>\n",
       "      <td>0.846629</td>\n",
       "      <td>0.846653</td>\n",
       "      <td>0.846640</td>\n",
       "      <td>0.693280</td>\n",
       "    </tr>\n",
       "    <tr>\n",
       "      <th>XGBClassifier6</th>\n",
       "      <td>0.845627</td>\n",
       "      <td>0.845573</td>\n",
       "      <td>0.845635</td>\n",
       "      <td>0.845596</td>\n",
       "      <td>0.691195</td>\n",
       "    </tr>\n",
       "    <tr>\n",
       "      <th>XGBClassifier16</th>\n",
       "      <td>0.845100</td>\n",
       "      <td>0.845149</td>\n",
       "      <td>0.845246</td>\n",
       "      <td>0.845094</td>\n",
       "      <td>0.690226</td>\n",
       "    </tr>\n",
       "    <tr>\n",
       "      <th>XGBClassifier13</th>\n",
       "      <td>0.844573</td>\n",
       "      <td>0.844530</td>\n",
       "      <td>0.844618</td>\n",
       "      <td>0.844550</td>\n",
       "      <td>0.689109</td>\n",
       "    </tr>\n",
       "    <tr>\n",
       "      <th>XGBClassifier9</th>\n",
       "      <td>0.844046</td>\n",
       "      <td>0.844019</td>\n",
       "      <td>0.844118</td>\n",
       "      <td>0.844029</td>\n",
       "      <td>0.688073</td>\n",
       "    </tr>\n",
       "    <tr>\n",
       "      <th>XGBClassifier17</th>\n",
       "      <td>0.843519</td>\n",
       "      <td>0.843595</td>\n",
       "      <td>0.843683</td>\n",
       "      <td>0.843515</td>\n",
       "      <td>0.687076</td>\n",
       "    </tr>\n",
       "    <tr>\n",
       "      <th>XGBClassifier19</th>\n",
       "      <td>0.843256</td>\n",
       "      <td>0.843207</td>\n",
       "      <td>0.843287</td>\n",
       "      <td>0.843230</td>\n",
       "      <td>0.686466</td>\n",
       "    </tr>\n",
       "    <tr>\n",
       "      <th>XGBClassifier18</th>\n",
       "      <td>0.843256</td>\n",
       "      <td>0.843207</td>\n",
       "      <td>0.843287</td>\n",
       "      <td>0.843230</td>\n",
       "      <td>0.686466</td>\n",
       "    </tr>\n",
       "    <tr>\n",
       "      <th>XGBClassifier7</th>\n",
       "      <td>0.842993</td>\n",
       "      <td>0.842965</td>\n",
       "      <td>0.842908</td>\n",
       "      <td>0.842933</td>\n",
       "      <td>0.685867</td>\n",
       "    </tr>\n",
       "    <tr>\n",
       "      <th>XGBClassifier12</th>\n",
       "      <td>0.842993</td>\n",
       "      <td>0.842972</td>\n",
       "      <td>0.843073</td>\n",
       "      <td>0.842977</td>\n",
       "      <td>0.685971</td>\n",
       "    </tr>\n",
       "    <tr>\n",
       "      <th>XGBClassifier11</th>\n",
       "      <td>0.841149</td>\n",
       "      <td>0.841111</td>\n",
       "      <td>0.841078</td>\n",
       "      <td>0.841093</td>\n",
       "      <td>0.682187</td>\n",
       "    </tr>\n",
       "    <tr>\n",
       "      <th>XGBClassifier14</th>\n",
       "      <td>0.841149</td>\n",
       "      <td>0.841094</td>\n",
       "      <td>0.841151</td>\n",
       "      <td>0.841115</td>\n",
       "      <td>0.682233</td>\n",
       "    </tr>\n",
       "    <tr>\n",
       "      <th>XGBClassifier15</th>\n",
       "      <td>0.841149</td>\n",
       "      <td>0.841094</td>\n",
       "      <td>0.841151</td>\n",
       "      <td>0.841115</td>\n",
       "      <td>0.682233</td>\n",
       "    </tr>\n",
       "    <tr>\n",
       "      <th>XGBClassifier10</th>\n",
       "      <td>0.840358</td>\n",
       "      <td>0.840318</td>\n",
       "      <td>0.840292</td>\n",
       "      <td>0.840304</td>\n",
       "      <td>0.680608</td>\n",
       "    </tr>\n",
       "    <tr>\n",
       "      <th>RandomForestClassifier5</th>\n",
       "      <td>0.834036</td>\n",
       "      <td>0.834010</td>\n",
       "      <td>0.833940</td>\n",
       "      <td>0.833969</td>\n",
       "      <td>0.667941</td>\n",
       "    </tr>\n",
       "    <tr>\n",
       "      <th>RandomForestClassifier2</th>\n",
       "      <td>0.832719</td>\n",
       "      <td>0.832696</td>\n",
       "      <td>0.832618</td>\n",
       "      <td>0.832650</td>\n",
       "      <td>0.665302</td>\n",
       "    </tr>\n",
       "    <tr>\n",
       "      <th>RandomForestClassifier0</th>\n",
       "      <td>0.828767</td>\n",
       "      <td>0.828713</td>\n",
       "      <td>0.828725</td>\n",
       "      <td>0.828718</td>\n",
       "      <td>0.657437</td>\n",
       "    </tr>\n",
       "    <tr>\n",
       "      <th>RandomForestClassifier1</th>\n",
       "      <td>0.828767</td>\n",
       "      <td>0.828713</td>\n",
       "      <td>0.828725</td>\n",
       "      <td>0.828718</td>\n",
       "      <td>0.657437</td>\n",
       "    </tr>\n",
       "    <tr>\n",
       "      <th>RandomForestClassifier4</th>\n",
       "      <td>0.825869</td>\n",
       "      <td>0.825886</td>\n",
       "      <td>0.825720</td>\n",
       "      <td>0.825778</td>\n",
       "      <td>0.651566</td>\n",
       "    </tr>\n",
       "    <tr>\n",
       "      <th>RandomForestClassifier3</th>\n",
       "      <td>0.825869</td>\n",
       "      <td>0.825886</td>\n",
       "      <td>0.825720</td>\n",
       "      <td>0.825778</td>\n",
       "      <td>0.651566</td>\n",
       "    </tr>\n",
       "  </tbody>\n",
       "</table>\n",
       "</div>"
      ]
     },
     "execution_count": 9,
     "metadata": {},
     "output_type": "execute_result"
    }
   ],
   "execution_count": 9
  },
  {
   "metadata": {
    "ExecuteTime": {
     "end_time": "2024-11-03T18:56:05.920782Z",
     "start_time": "2024-11-03T18:56:05.916002Z"
    }
   },
   "cell_type": "code",
   "source": "",
   "id": "9b56a245e39ab2ec",
   "outputs": [],
   "execution_count": null
  }
 ],
 "metadata": {
  "kernelspec": {
   "display_name": "Python 3",
   "language": "python",
   "name": "python3"
  },
  "language_info": {
   "codemirror_mode": {
    "name": "ipython",
    "version": 2
   },
   "file_extension": ".py",
   "mimetype": "text/x-python",
   "name": "python",
   "nbconvert_exporter": "python",
   "pygments_lexer": "ipython2",
   "version": "2.7.6"
  }
 },
 "nbformat": 4,
 "nbformat_minor": 5
}

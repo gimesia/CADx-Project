{
 "cells": [
  {
   "cell_type": "code",
   "id": "initial_id",
   "metadata": {
    "collapsed": true,
    "ExecuteTime": {
     "end_time": "2024-11-02T20:22:09.137844Z",
     "start_time": "2024-11-02T20:22:09.125098Z"
    }
   },
   "source": [
    "from utils.loader import FactoryLoader\n",
    "from utils.ml import MLPipeline\n",
    "from utils.preprocessing import PreprocessingFactory\n",
    "from utils.feature_extraction import *\n",
    "from utils.utils import *\n",
    "\n",
    "VAL_PATH = r\"C:\\Users\\gimes\\Src\\repos\\CADx-Project\\dataset\\binary\\val\"\n",
    "TRAIN_PATH = r\"C:\\Users\\gimes\\Src\\repos\\CADx-Project\\dataset\\binary\\train\""
   ],
   "outputs": [],
   "execution_count": 8
  },
  {
   "metadata": {
    "ExecuteTime": {
     "end_time": "2024-11-02T20:22:09.282811Z",
     "start_time": "2024-11-02T20:22:09.140854Z"
    }
   },
   "cell_type": "code",
   "source": [
    "percent = 100\n",
    "random = False\n",
    "batch_size = 48\n",
    "\n",
    "# Initialize the FactoryLoader\n",
    "factory = PreprocessingFactory()\n",
    "factory.gaussian_smoothing(5)\n",
    "factory.clahe(clip_limit=1.5)\n",
    "factory.pad2square(fill=np.nan)\n",
    "factory.resize((150,150))\n",
    "factory.hair_removal()\n",
    "factory.normalize2float()\n",
    "\n",
    "factory_loader = FactoryLoader(path=VAL_PATH, batch_size=batch_size, factory=factory, percentage=percent, shuffle=random)\n",
    "\n",
    "# Create the feature extraction pipeline strategy and add desired features\n",
    "strategy = FeatureExtractionStrategy()\n",
    "\n",
    "strategy.add_extractor(GradientExtractor())   # Add variance feature\n",
    "\n",
    "# strategy.add_extractor(MeanExtractor())  # Add mean feature\n",
    "# strategy.add_extractor(StdExtractor())   # Add standard deviation feature\n",
    "strategy.add_extractor(VarExtractor())   # Add variance feature\n",
    "strategy.add_extractor(ColorMomentsExtractor())   # Add color moments feature\n",
    "\n",
    "\n",
    "# strategy.add_extractor(MeanExtractor(\"lab\"))  # Add mean feature\n",
    "# strategy.add_extractor(StdExtractor(\"lab\"))   # Add standard deviation feature\n",
    "strategy.add_extractor(VarExtractor(\"lab\"))   # Add variance feature\n",
    "strategy.add_extractor(ColorMomentsExtractor(\"lab\"))   # Add color moments feature\n",
    "\n",
    "# strategy.add_extractor(MeanExtractor(\"hsv\"))  # Add mean feature\n",
    "# strategy.add_extractor(StdExtractor(\"hsv\"))   # Add standard deviation feature\n",
    "strategy.add_extractor(VarExtractor(\"hsv\"))   # Add variance feature\n",
    "strategy.add_extractor(ColorMomentsExtractor(\"hsv\"))   # Add color moments feature\n",
    "\n",
    "# strategy.add_extractor(LBPExtractor(radius=1, n_points=16))\n",
    "# strategy.add_extractor(LBPExtractor(radius=2, n_points=16))\n",
    "# strategy.add_extractor(LBPExtractor(radius=3, n_points=16))\n",
    "# strategy.add_extractor(LBPExtractor(radius=1, n_points=32))\n",
    "# strategy.add_extractor(LBPExtractor(radius=2, n_points=32))\n",
    "# strategy.add_extractor(LBPExtractor(radius=3, n_points=32))\n",
    "strategy.add_extractor(LBPExtractor(radius=1, n_points=8))\n",
    "strategy.add_extractor(LBPExtractor(radius=2, n_points=16))\n",
    "strategy.add_extractor(LBPExtractor(radius=3, n_points=24))\n",
    "strategy.add_extractor(LBPExtractor(radius=4, n_points=32))\n",
    "\n",
    "strategy.add_extractor(GLCMExtractor(properties=['contrast', 'dissimilarity', 'homogeneity', 'energy', 'correlation',]))\n",
    "\n",
    "pipeline = MLPipeline(dataset_path=TRAIN_PATH, preprocessing_factory=factory, feature_strategy=strategy, classifiers=[], percentage=percent, verbose=True, shuffle=random, batch_size=batch_size)"
   ],
   "id": "d7c81ba220d9e517",
   "outputs": [
    {
     "name": "stderr",
     "output_type": "stream",
     "text": [
      "INFO:utils.ml:MLPipeline initialized with dataset path: C:\\Users\\gimes\\Src\\repos\\CADx-Project\\dataset\\binary\\train\n",
      "INFO:utils.ml:Preprocessing steps\n"
     ]
    }
   ],
   "execution_count": 9
  },
  {
   "metadata": {
    "ExecuteTime": {
     "end_time": "2024-11-02T20:51:35.053336Z",
     "start_time": "2024-11-02T20:22:09.313787Z"
    }
   },
   "cell_type": "code",
   "source": "pipeline.run_feature_extraction()",
   "id": "21f510c52296a049",
   "outputs": [
    {
     "name": "stderr",
     "output_type": "stream",
     "text": [
      "INFO:utils.ml:Running feature extraction...\n"
     ]
    },
    {
     "name": "stdout",
     "output_type": "stream",
     "text": [
      "Processed 5/317 batches.\n",
      "Processed 10/317 batches.\n",
      "Processed 15/317 batches.\n",
      "Processed 20/317 batches.\n",
      "Processed 25/317 batches.\n",
      "Processed 30/317 batches.\n",
      "Processed 35/317 batches.\n",
      "Processed 40/317 batches.\n",
      "Processed 45/317 batches.\n",
      "Processed 50/317 batches.\n",
      "Processed 55/317 batches.\n",
      "Processed 60/317 batches.\n",
      "Processed 65/317 batches.\n",
      "Processed 70/317 batches.\n",
      "Processed 75/317 batches.\n",
      "Processed 80/317 batches.\n",
      "Processed 85/317 batches.\n",
      "Processed 90/317 batches.\n",
      "Processed 95/317 batches.\n",
      "Processed 100/317 batches.\n",
      "Processed 105/317 batches.\n",
      "Processed 110/317 batches.\n",
      "Processed 115/317 batches.\n",
      "Processed 120/317 batches.\n",
      "Processed 125/317 batches.\n",
      "Processed 130/317 batches.\n",
      "Processed 135/317 batches.\n",
      "Processed 140/317 batches.\n",
      "Processed 145/317 batches.\n",
      "Processed 150/317 batches.\n",
      "Processed 155/317 batches.\n",
      "Processed 160/317 batches.\n",
      "Processed 165/317 batches.\n",
      "Processed 170/317 batches.\n",
      "Processed 175/317 batches.\n",
      "Processed 180/317 batches.\n",
      "Processed 185/317 batches.\n",
      "Processed 190/317 batches.\n",
      "Processed 195/317 batches.\n",
      "Processed 200/317 batches.\n",
      "Processed 205/317 batches.\n",
      "Processed 210/317 batches.\n",
      "Processed 215/317 batches.\n",
      "Processed 220/317 batches.\n",
      "Processed 225/317 batches.\n",
      "Processed 230/317 batches.\n",
      "Processed 235/317 batches.\n",
      "Processed 240/317 batches.\n",
      "Processed 245/317 batches.\n",
      "Processed 250/317 batches.\n",
      "Processed 255/317 batches.\n",
      "Processed 260/317 batches.\n",
      "Processed 265/317 batches.\n",
      "Processed 270/317 batches.\n",
      "Processed 275/317 batches.\n",
      "Processed 280/317 batches.\n",
      "Processed 285/317 batches.\n",
      "Processed 290/317 batches.\n",
      "Processed 295/317 batches.\n",
      "Processed 300/317 batches.\n",
      "Processed 305/317 batches.\n",
      "Processed 310/317 batches.\n",
      "Processed 315/317 batches.\n"
     ]
    },
    {
     "name": "stderr",
     "output_type": "stream",
     "text": [
      "INFO:utils.ml:Feature extraction completed. Extracted 15195 features.\n"
     ]
    },
    {
     "name": "stdout",
     "output_type": "stream",
     "text": [
      "Processed 317/317 batches.\n"
     ]
    }
   ],
   "execution_count": 10
  },
  {
   "metadata": {
    "ExecuteTime": {
     "end_time": "2024-11-02T20:51:35.122223Z",
     "start_time": "2024-11-02T20:51:35.069644Z"
    }
   },
   "cell_type": "code",
   "source": [
    "from xgboost import XGBClassifier\n",
    "from sklearn.ensemble import RandomForestClassifier\n",
    "\n",
    "rf1 = RandomForestClassifier(n_estimators=100)\n",
    "rf2 = RandomForestClassifier(n_estimators=150)\n",
    "rf3 = RandomForestClassifier(n_estimators=250)\n",
    "\n",
    "# Random Forest with Class Weight Balancing\n",
    "rf4 = RandomForestClassifier(n_estimators=100, class_weight=\"balanced\", random_state=42)\n",
    "# Random Forest with Feature Selection via max_features\n",
    "rf5 = RandomForestClassifier(n_estimators=100, max_features='sqrt', random_state=42)\n",
    "# Random Forest with Min Samples per Leaf\n",
    "rf6 = RandomForestClassifier(n_estimators=100, min_samples_leaf=5, random_state=42)\n",
    "# Random Forest with Out-of-Bag Error (OOB)\n",
    "rf7 = RandomForestClassifier(n_estimators=100, oob_score=True, random_state=42)\n",
    "# Random Forest with Bootstrap Disabled\n",
    "rf8 = RandomForestClassifier(n_estimators=100, bootstrap=False, random_state=42)\n",
    "# Random Forest with High Number of Trees and Limited Depth\n",
    "rf9 = RandomForestClassifier(n_estimators=100, max_depth=5, random_state=42)\n",
    "\n",
    "xgb1 = XGBClassifier(n_estimators=350)\n",
    "xgb2 = XGBClassifier(n_estimators=450)\n",
    "xgb3 = XGBClassifier(n_estimators=550)\n",
    "xgb4 = XGBClassifier(learning_rate=0.05, n_estimators=400, max_depth=3, min_child_weight=1, subsample=0.8, colsample_bytree=0.8)\n",
    "xgb5 = XGBClassifier(learning_rate=0.1, n_estimators=400, max_depth=7, min_child_weight=3, subsample=0.7, colsample_bytree=0.7)\n",
    "xgb6 = XGBClassifier(learning_rate=0.1, n_estimators=400, max_depth=5, min_child_weight=5, gamma=0.2, subsample=0.8, colsample_bytree=0.8)\n",
    "xgb7 = XGBClassifier(learning_rate=0.1, n_estimators=400, max_depth=5, min_child_weight=1, subsample=0.8, colsample_bytree=0.8, reg_alpha=0.1, reg_lambda=0.1)\n",
    "xgb8 = XGBClassifier(learning_rate=0.05, n_estimators=500, max_depth=7, min_child_weight=1, subsample=0.8, colsample_bytree=0.8)\n",
    "xgb9 = XGBClassifier(learning_rate=0.05, n_estimators=400, max_depth=7, min_child_weight=1, subsample=0.8, colsample_bytree=0.8)\n",
    "xgb10 = XGBClassifier(learning_rate=0.1, n_estimators=400, max_depth=7, min_child_weight=1, subsample=0.8, colsample_bytree=0.8)\n",
    "xgb11 = XGBClassifier(learning_rate=0.1, n_estimators=500, max_depth=7, min_child_weight=1, subsample=0.8, colsample_bytree=0.8)\n",
    "\n",
    "pipeline.classifiers = [rf1, rf2, rf3, rf4, rf5, rf6, rf7, rf8, rf9,\n",
    "                        # svm1, svm2, svm3, svm6, svm7, svm8,\n",
    "                        xgb1, xgb2, xgb3, xgb4, xgb5, xgb6, xgb7, xgb8, xgb9, xgb10, xgb11]\n",
    "pipeline.fitted_classifiers = {}"
   ],
   "id": "74470ba20848a156",
   "outputs": [],
   "execution_count": 11
  },
  {
   "metadata": {
    "ExecuteTime": {
     "end_time": "2024-11-02T20:54:38.518884Z",
     "start_time": "2024-11-02T20:51:35.136279Z"
    }
   },
   "cell_type": "code",
   "source": "pipeline.fit_classifiers()",
   "id": "5269ac4d3392fbae",
   "outputs": [
    {
     "name": "stderr",
     "output_type": "stream",
     "text": [
      "INFO:utils.ml:Fitting classifiers...\n",
      "INFO:utils.ml:Fitting classifier: RandomForestClassifier0\n",
      "INFO:utils.ml:Fitted classifier: RandomForestClassifier0; Done in 12.84220838546753 seconds\n",
      "INFO:utils.ml:Fitting classifier: RandomForestClassifier1\n"
     ]
    },
    {
     "name": "stdout",
     "output_type": "stream",
     "text": [
      "list index out of range\n"
     ]
    },
    {
     "name": "stderr",
     "output_type": "stream",
     "text": [
      "INFO:utils.ml:Fitted classifier: RandomForestClassifier1; Done in 19.7077956199646 seconds\n",
      "INFO:utils.ml:Fitting classifier: RandomForestClassifier2\n"
     ]
    },
    {
     "name": "stdout",
     "output_type": "stream",
     "text": [
      "list index out of range\n"
     ]
    },
    {
     "name": "stderr",
     "output_type": "stream",
     "text": [
      "INFO:utils.ml:Fitted classifier: RandomForestClassifier2; Done in 32.533379316329956 seconds\n",
      "INFO:utils.ml:Fitting classifier: RandomForestClassifier3\n"
     ]
    },
    {
     "name": "stdout",
     "output_type": "stream",
     "text": [
      "list index out of range\n"
     ]
    },
    {
     "name": "stderr",
     "output_type": "stream",
     "text": [
      "INFO:utils.ml:Fitted classifier: RandomForestClassifier3; Done in 13.058355808258057 seconds\n",
      "INFO:utils.ml:Fitting classifier: RandomForestClassifier4\n"
     ]
    },
    {
     "name": "stdout",
     "output_type": "stream",
     "text": [
      "list index out of range\n"
     ]
    },
    {
     "name": "stderr",
     "output_type": "stream",
     "text": [
      "INFO:utils.ml:Fitted classifier: RandomForestClassifier4; Done in 12.8689706325531 seconds\n",
      "INFO:utils.ml:Fitting classifier: RandomForestClassifier5\n"
     ]
    },
    {
     "name": "stdout",
     "output_type": "stream",
     "text": [
      "list index out of range\n"
     ]
    },
    {
     "name": "stderr",
     "output_type": "stream",
     "text": [
      "INFO:utils.ml:Fitted classifier: RandomForestClassifier5; Done in 10.565808773040771 seconds\n",
      "INFO:utils.ml:Fitting classifier: RandomForestClassifier6\n"
     ]
    },
    {
     "name": "stdout",
     "output_type": "stream",
     "text": [
      "list index out of range\n"
     ]
    },
    {
     "name": "stderr",
     "output_type": "stream",
     "text": [
      "INFO:utils.ml:Fitted classifier: RandomForestClassifier6; Done in 13.142911434173584 seconds\n",
      "INFO:utils.ml:Fitting classifier: RandomForestClassifier7\n"
     ]
    },
    {
     "name": "stdout",
     "output_type": "stream",
     "text": [
      "list index out of range\n"
     ]
    },
    {
     "name": "stderr",
     "output_type": "stream",
     "text": [
      "INFO:utils.ml:Fitted classifier: RandomForestClassifier7; Done in 18.813143253326416 seconds\n",
      "INFO:utils.ml:Fitting classifier: RandomForestClassifier8\n"
     ]
    },
    {
     "name": "stdout",
     "output_type": "stream",
     "text": [
      "list index out of range\n"
     ]
    },
    {
     "name": "stderr",
     "output_type": "stream",
     "text": [
      "INFO:utils.ml:Top 10 features for RandomForestClassifier8: [('lbp_rad2_bins64_10', 0.04959506148998771), ('color_moments_lab_channel_2_std', 0.03601970841756416), ('color_moments_lab_channel_0_std', 0.035481840307283234), ('lbp_rad3_bins64_10', 0.034724624807077345), ('lbp_rad1_bins64_10', 0.032731239640340005), ('lbp_rad1_bins64_40', 0.031967272872539164), ('lbp_rad2_bins64_40', 0.03184603822964966), ('lbp_rad1_bins64_43', 0.026985478245191596), ('lbp_rad1_bins64_41', 0.02421066538319526), ('lbp_rad1_bins64_37', 0.023272663639091896)]\n",
      "INFO:utils.ml:Fitted classifier: RandomForestClassifier8; Done in 4.036341428756714 seconds\n",
      "INFO:utils.ml:Fitting classifier: XGBClassifier9\n",
      "INFO:utils.ml:Fitted classifier: XGBClassifier9; Done in 3.2836296558380127 seconds\n",
      "INFO:utils.ml:Fitting classifier: XGBClassifier10\n"
     ]
    },
    {
     "name": "stdout",
     "output_type": "stream",
     "text": [
      "list index out of range\n"
     ]
    },
    {
     "name": "stderr",
     "output_type": "stream",
     "text": [
      "INFO:utils.ml:Fitted classifier: XGBClassifier10; Done in 4.083376407623291 seconds\n",
      "INFO:utils.ml:Fitting classifier: XGBClassifier11\n"
     ]
    },
    {
     "name": "stdout",
     "output_type": "stream",
     "text": [
      "list index out of range\n"
     ]
    },
    {
     "name": "stderr",
     "output_type": "stream",
     "text": [
      "INFO:utils.ml:Fitted classifier: XGBClassifier11; Done in 5.101630687713623 seconds\n",
      "INFO:utils.ml:Fitting classifier: XGBClassifier12\n"
     ]
    },
    {
     "name": "stdout",
     "output_type": "stream",
     "text": [
      "list index out of range\n"
     ]
    },
    {
     "name": "stderr",
     "output_type": "stream",
     "text": [
      "INFO:utils.ml:Fitted classifier: XGBClassifier12; Done in 1.8052551746368408 seconds\n",
      "INFO:utils.ml:Fitting classifier: XGBClassifier13\n"
     ]
    },
    {
     "name": "stdout",
     "output_type": "stream",
     "text": [
      "list index out of range\n"
     ]
    },
    {
     "name": "stderr",
     "output_type": "stream",
     "text": [
      "INFO:utils.ml:Fitted classifier: XGBClassifier13; Done in 4.206547498703003 seconds\n",
      "INFO:utils.ml:Fitting classifier: XGBClassifier14\n"
     ]
    },
    {
     "name": "stdout",
     "output_type": "stream",
     "text": [
      "list index out of range\n"
     ]
    },
    {
     "name": "stderr",
     "output_type": "stream",
     "text": [
      "INFO:utils.ml:Fitted classifier: XGBClassifier14; Done in 2.5418179035186768 seconds\n",
      "INFO:utils.ml:Fitting classifier: XGBClassifier15\n"
     ]
    },
    {
     "name": "stdout",
     "output_type": "stream",
     "text": [
      "list index out of range\n"
     ]
    },
    {
     "name": "stderr",
     "output_type": "stream",
     "text": [
      "INFO:utils.ml:Fitted classifier: XGBClassifier15; Done in 2.6903717517852783 seconds\n",
      "INFO:utils.ml:Fitting classifier: XGBClassifier16\n"
     ]
    },
    {
     "name": "stdout",
     "output_type": "stream",
     "text": [
      "list index out of range\n"
     ]
    },
    {
     "name": "stderr",
     "output_type": "stream",
     "text": [
      "INFO:utils.ml:Fitted classifier: XGBClassifier16; Done in 6.258235216140747 seconds\n",
      "INFO:utils.ml:Fitting classifier: XGBClassifier17\n"
     ]
    },
    {
     "name": "stdout",
     "output_type": "stream",
     "text": [
      "list index out of range\n"
     ]
    },
    {
     "name": "stderr",
     "output_type": "stream",
     "text": [
      "INFO:utils.ml:Fitted classifier: XGBClassifier17; Done in 5.093478441238403 seconds\n",
      "INFO:utils.ml:Fitting classifier: XGBClassifier18\n"
     ]
    },
    {
     "name": "stdout",
     "output_type": "stream",
     "text": [
      "list index out of range\n"
     ]
    },
    {
     "name": "stderr",
     "output_type": "stream",
     "text": [
      "INFO:utils.ml:Fitted classifier: XGBClassifier18; Done in 4.815093517303467 seconds\n",
      "INFO:utils.ml:Fitting classifier: XGBClassifier19\n"
     ]
    },
    {
     "name": "stdout",
     "output_type": "stream",
     "text": [
      "list index out of range\n"
     ]
    },
    {
     "name": "stderr",
     "output_type": "stream",
     "text": [
      "INFO:utils.ml:Fitted classifier: XGBClassifier19; Done in 5.891888380050659 seconds\n",
      "INFO:utils.ml:Fitting completed in 183.37 seconds.\n"
     ]
    },
    {
     "name": "stdout",
     "output_type": "stream",
     "text": [
      "list index out of range\n"
     ]
    }
   ],
   "execution_count": 12
  },
  {
   "metadata": {
    "ExecuteTime": {
     "end_time": "2024-11-02T21:03:29.043568Z",
     "start_time": "2024-11-02T20:54:38.545225Z"
    }
   },
   "cell_type": "code",
   "source": "pipeline.predict_with_classifiers(VAL_PATH)",
   "id": "f71e18a07f5ee7bb",
   "outputs": [
    {
     "name": "stderr",
     "output_type": "stream",
     "text": [
      "INFO:utils.ml:Predicting with classifiers on dataset: C:\\Users\\gimes\\Src\\repos\\CADx-Project\\dataset\\binary\\val\n"
     ]
    },
    {
     "name": "stdout",
     "output_type": "stream",
     "text": [
      "Processed 5/80 batches.\n",
      "Processed 10/80 batches.\n",
      "Processed 15/80 batches.\n",
      "Processed 20/80 batches.\n",
      "Processed 25/80 batches.\n",
      "Processed 30/80 batches.\n",
      "Processed 35/80 batches.\n",
      "Processed 40/80 batches.\n",
      "Processed 45/80 batches.\n",
      "Processed 50/80 batches.\n",
      "Processed 55/80 batches.\n",
      "Processed 60/80 batches.\n",
      "Processed 65/80 batches.\n",
      "Processed 70/80 batches.\n",
      "Processed 75/80 batches.\n"
     ]
    },
    {
     "name": "stderr",
     "output_type": "stream",
     "text": [
      "INFO:utils.ml:Predictions made with classifier: RandomForestClassifier0\n",
      "INFO:utils.ml:Predictions made with classifier: RandomForestClassifier1\n"
     ]
    },
    {
     "name": "stdout",
     "output_type": "stream",
     "text": [
      "Processed 80/80 batches.\n"
     ]
    },
    {
     "name": "stderr",
     "output_type": "stream",
     "text": [
      "INFO:utils.ml:Predictions made with classifier: RandomForestClassifier2\n",
      "INFO:utils.ml:Predictions made with classifier: RandomForestClassifier3\n",
      "INFO:utils.ml:Predictions made with classifier: RandomForestClassifier4\n",
      "INFO:utils.ml:Predictions made with classifier: RandomForestClassifier5\n",
      "INFO:utils.ml:Predictions made with classifier: RandomForestClassifier6\n",
      "INFO:utils.ml:Predictions made with classifier: RandomForestClassifier7\n",
      "INFO:utils.ml:Predictions made with classifier: RandomForestClassifier8\n",
      "INFO:utils.ml:Predictions made with classifier: XGBClassifier9\n",
      "INFO:utils.ml:Predictions made with classifier: XGBClassifier10\n",
      "INFO:utils.ml:Predictions made with classifier: XGBClassifier11\n",
      "INFO:utils.ml:Predictions made with classifier: XGBClassifier12\n",
      "INFO:utils.ml:Predictions made with classifier: XGBClassifier13\n",
      "INFO:utils.ml:Predictions made with classifier: XGBClassifier14\n",
      "INFO:utils.ml:Predictions made with classifier: XGBClassifier15\n",
      "INFO:utils.ml:Predictions made with classifier: XGBClassifier16\n",
      "INFO:utils.ml:Predictions made with classifier: XGBClassifier17\n",
      "INFO:utils.ml:Predictions made with classifier: XGBClassifier18\n",
      "INFO:utils.ml:Predictions made with classifier: XGBClassifier19\n"
     ]
    },
    {
     "data": {
      "text/plain": [
       "{'GT': array([0, 0, 0, ..., 1, 1, 1]),\n",
       " 'RandomForestClassifier0': array([0, 0, 0, ..., 0, 0, 1]),\n",
       " 'RandomForestClassifier1': array([0, 0, 1, ..., 0, 0, 1]),\n",
       " 'RandomForestClassifier2': array([0, 0, 0, ..., 0, 0, 1]),\n",
       " 'RandomForestClassifier3': array([0, 0, 1, ..., 0, 0, 1]),\n",
       " 'RandomForestClassifier4': array([0, 0, 0, ..., 0, 0, 1]),\n",
       " 'RandomForestClassifier5': array([0, 0, 1, ..., 0, 0, 1]),\n",
       " 'RandomForestClassifier6': array([0, 0, 0, ..., 0, 0, 1]),\n",
       " 'RandomForestClassifier7': array([0, 0, 1, ..., 0, 0, 1]),\n",
       " 'RandomForestClassifier8': array([0, 0, 1, ..., 0, 0, 1]),\n",
       " 'XGBClassifier9': array([0, 0, 1, ..., 0, 0, 1]),\n",
       " 'XGBClassifier10': array([0, 0, 1, ..., 0, 0, 1]),\n",
       " 'XGBClassifier11': array([0, 0, 1, ..., 0, 0, 1]),\n",
       " 'XGBClassifier12': array([0, 0, 0, ..., 0, 0, 1]),\n",
       " 'XGBClassifier13': array([0, 0, 1, ..., 0, 0, 1]),\n",
       " 'XGBClassifier14': array([0, 0, 0, ..., 1, 0, 1]),\n",
       " 'XGBClassifier15': array([0, 0, 0, ..., 1, 0, 1]),\n",
       " 'XGBClassifier16': array([0, 0, 0, ..., 0, 0, 1]),\n",
       " 'XGBClassifier17': array([0, 0, 0, ..., 0, 0, 1]),\n",
       " 'XGBClassifier18': array([0, 0, 0, ..., 1, 0, 1]),\n",
       " 'XGBClassifier19': array([0, 0, 0, ..., 1, 0, 1])}"
      ]
     },
     "execution_count": 13,
     "metadata": {},
     "output_type": "execute_result"
    }
   ],
   "execution_count": 13
  },
  {
   "metadata": {
    "ExecuteTime": {
     "end_time": "2024-11-02T21:03:29.247584Z",
     "start_time": "2024-11-02T21:03:29.101302Z"
    }
   },
   "cell_type": "code",
   "source": [
    "import pandas as pd\n",
    "\n",
    "df = pd.DataFrame(data=pipeline.calculate_metrics())\n",
    "df.T"
   ],
   "id": "751fad2660242db5",
   "outputs": [
    {
     "name": "stderr",
     "output_type": "stream",
     "text": [
      "INFO:utils.ml:Metrics for classifier GT: {'accuracy': 1.0, 'precision': 1.0, 'recall': 1.0, 'f1': 1.0, 'kappa': 1.0}\n",
      "INFO:utils.ml:Metrics for classifier RandomForestClassifier0: {'accuracy': 0.8013698630136986, 'precision': 0.8014435482415778, 'recall': 0.8015205556859091, 'f1': 0.8013643490388374, 'kappa': 0.6027870289852457}\n",
      "INFO:utils.ml:Metrics for classifier RandomForestClassifier1: {'accuracy': 0.8113804004214963, 'precision': 0.8114412443442116, 'recall': 0.8115249568560373, 'f1': 0.8113740647250647, 'kappa': 0.6227988099147128}\n",
      "INFO:utils.ml:Metrics for classifier RandomForestClassifier2: {'accuracy': 0.8024236037934668, 'precision': 0.8024597797829476, 'recall': 0.8025471251473419, 'f1': 0.8024143344340389, 'kappa': 0.604872544679103}\n",
      "INFO:utils.ml:Metrics for classifier RandomForestClassifier3: {'accuracy': 0.797945205479452, 'precision': 0.797893090456028, 'recall': 0.7979619944381426, 'f1': 0.7979115325203379, 'kappa': 0.595831172422371}\n",
      "INFO:utils.ml:Metrics for classifier RandomForestClassifier4: {'accuracy': 0.8000526870389885, 'precision': 0.8000526870389884, 'recall': 0.8001434198341439, 'f1': 0.800037574972098, 'kappa': 0.6001053740779768}\n",
      "INFO:utils.ml:Metrics for classifier RandomForestClassifier5: {'accuracy': 0.7992623814541623, 'precision': 0.7994466463520445, 'recall': 0.7994765800825532, 'f1': 0.7992618799437596, 'kappa': 0.5986240371659828}\n",
      "INFO:utils.ml:Metrics for classifier RandomForestClassifier6: {'accuracy': 0.8000526870389885, 'precision': 0.8000526870389884, 'recall': 0.8001434198341439, 'f1': 0.800037574972098, 'kappa': 0.6001053740779768}\n",
      "INFO:utils.ml:Metrics for classifier RandomForestClassifier7: {'accuracy': 0.815068493150685, 'precision': 0.8150830211567582, 'recall': 0.8151775115478651, 'f1': 0.8150569419232081, 'kappa': 0.6301471504673278}\n",
      "INFO:utils.ml:Metrics for classifier RandomForestClassifier8: {'accuracy': 0.7589567966280295, 'precision': 0.7594647461545301, 'recall': 0.7593008387214115, 'f1': 0.7589463412115394, 'kappa': 0.5181695954685464}\n",
      "INFO:utils.ml:Metrics for classifier XGBClassifier9: {'accuracy': 0.8142781875658588, 'precision': 0.8143204139531527, 'recall': 0.814409875281668, 'f1': 0.8142701317531533, 'kappa': 0.6285835941585514}\n",
      "INFO:utils.ml:Metrics for classifier XGBClassifier10: {'accuracy': 0.8105900948366702, 'precision': 0.8106574761399787, 'recall': 0.8107389939508207, 'f1': 0.8105842978518896, 'kappa': 0.6212218274675252}\n",
      "INFO:utils.ml:Metrics for classifier XGBClassifier11: {'accuracy': 0.8161222339304531, 'precision': 0.8161473293065499, 'recall': 0.8162407342873367, 'f1': 0.8161122289440255, 'kappa': 0.6322613113031283}\n",
      "INFO:utils.ml:Metrics for classifier XGBClassifier12: {'accuracy': 0.8016332982086407, 'precision': 0.8017746090973703, 'recall': 0.8018253054786932, 'f1': 0.8016316324756697, 'kappa': 0.6033465348183384}\n",
      "INFO:utils.ml:Metrics for classifier XGBClassifier13: {'accuracy': 0.8140147523709168, 'precision': 0.8139699381078691, 'recall': 0.8140501455718259, 'f1': 0.8139874370987332, 'kappa': 0.627985202562483}\n",
      "INFO:utils.ml:Metrics for classifier XGBClassifier14: {'accuracy': 0.8090094836670179, 'precision': 0.8089850898075932, 'recall': 0.8090754349452908, 'f1': 0.8089893216278765, 'kappa': 0.6179979712431771}\n",
      "INFO:utils.ml:Metrics for classifier XGBClassifier15: {'accuracy': 0.8169125395152792, 'precision': 0.8168584890571269, 'recall': 0.8168525941218694, 'f1': 0.8168554848561904, 'kappa': 0.633710995140064}\n",
      "INFO:utils.ml:Metrics for classifier XGBClassifier16: {'accuracy': 0.8140147523709168, 'precision': 0.8141030748333162, 'recall': 0.8141784320449613, 'f1': 0.8140105704013771, 'kappa': 0.6280806095313802}\n",
      "INFO:utils.ml:Metrics for classifier XGBClassifier17: {'accuracy': 0.8148050579557429, 'precision': 0.8148596009664926, 'recall': 0.8149460683111586, 'f1': 0.8147982589042595, 'kappa': 0.6296440425521285}\n",
      "INFO:utils.ml:Metrics for classifier XGBClassifier18: {'accuracy': 0.8134878819810326, 'precision': 0.8135024060382051, 'recall': 0.8135964224179224, 'f1': 0.8134762320251159, 'kappa': 0.6269860150012366}\n",
      "INFO:utils.ml:Metrics for classifier XGBClassifier19: {'accuracy': 0.8166491043203372, 'precision': 0.8166636362753112, 'recall': 0.816758600677808, 'f1': 0.8166376518213004, 'kappa': 0.633308285933419}\n"
     ]
    },
    {
     "name": "stdout",
     "output_type": "stream",
     "text": [
      "cannot access local variable 'report' where it is not associated with a value\n",
      "cannot access local variable 'report' where it is not associated with a value\n",
      "cannot access local variable 'report' where it is not associated with a value\n",
      "cannot access local variable 'report' where it is not associated with a value\n",
      "cannot access local variable 'report' where it is not associated with a value\n",
      "cannot access local variable 'report' where it is not associated with a value\n",
      "cannot access local variable 'report' where it is not associated with a value\n",
      "cannot access local variable 'report' where it is not associated with a value\n",
      "cannot access local variable 'report' where it is not associated with a value\n",
      "cannot access local variable 'report' where it is not associated with a value\n",
      "cannot access local variable 'report' where it is not associated with a value\n",
      "cannot access local variable 'report' where it is not associated with a value\n",
      "cannot access local variable 'report' where it is not associated with a value\n",
      "cannot access local variable 'report' where it is not associated with a value\n",
      "cannot access local variable 'report' where it is not associated with a value\n",
      "cannot access local variable 'report' where it is not associated with a value\n",
      "cannot access local variable 'report' where it is not associated with a value\n",
      "cannot access local variable 'report' where it is not associated with a value\n",
      "cannot access local variable 'report' where it is not associated with a value\n",
      "cannot access local variable 'report' where it is not associated with a value\n",
      "cannot access local variable 'report' where it is not associated with a value\n"
     ]
    },
    {
     "data": {
      "text/plain": [
       "                         accuracy  precision    recall        f1     kappa\n",
       "GT                       1.000000   1.000000  1.000000  1.000000  1.000000\n",
       "RandomForestClassifier0  0.801370   0.801444  0.801521  0.801364  0.602787\n",
       "RandomForestClassifier1  0.811380   0.811441  0.811525  0.811374  0.622799\n",
       "RandomForestClassifier2  0.802424   0.802460  0.802547  0.802414  0.604873\n",
       "RandomForestClassifier3  0.797945   0.797893  0.797962  0.797912  0.595831\n",
       "RandomForestClassifier4  0.800053   0.800053  0.800143  0.800038  0.600105\n",
       "RandomForestClassifier5  0.799262   0.799447  0.799477  0.799262  0.598624\n",
       "RandomForestClassifier6  0.800053   0.800053  0.800143  0.800038  0.600105\n",
       "RandomForestClassifier7  0.815068   0.815083  0.815178  0.815057  0.630147\n",
       "RandomForestClassifier8  0.758957   0.759465  0.759301  0.758946  0.518170\n",
       "XGBClassifier9           0.814278   0.814320  0.814410  0.814270  0.628584\n",
       "XGBClassifier10          0.810590   0.810657  0.810739  0.810584  0.621222\n",
       "XGBClassifier11          0.816122   0.816147  0.816241  0.816112  0.632261\n",
       "XGBClassifier12          0.801633   0.801775  0.801825  0.801632  0.603347\n",
       "XGBClassifier13          0.814015   0.813970  0.814050  0.813987  0.627985\n",
       "XGBClassifier14          0.809009   0.808985  0.809075  0.808989  0.617998\n",
       "XGBClassifier15          0.816913   0.816858  0.816853  0.816855  0.633711\n",
       "XGBClassifier16          0.814015   0.814103  0.814178  0.814011  0.628081\n",
       "XGBClassifier17          0.814805   0.814860  0.814946  0.814798  0.629644\n",
       "XGBClassifier18          0.813488   0.813502  0.813596  0.813476  0.626986\n",
       "XGBClassifier19          0.816649   0.816664  0.816759  0.816638  0.633308"
      ],
      "text/html": [
       "<div>\n",
       "<style scoped>\n",
       "    .dataframe tbody tr th:only-of-type {\n",
       "        vertical-align: middle;\n",
       "    }\n",
       "\n",
       "    .dataframe tbody tr th {\n",
       "        vertical-align: top;\n",
       "    }\n",
       "\n",
       "    .dataframe thead th {\n",
       "        text-align: right;\n",
       "    }\n",
       "</style>\n",
       "<table border=\"1\" class=\"dataframe\">\n",
       "  <thead>\n",
       "    <tr style=\"text-align: right;\">\n",
       "      <th></th>\n",
       "      <th>accuracy</th>\n",
       "      <th>precision</th>\n",
       "      <th>recall</th>\n",
       "      <th>f1</th>\n",
       "      <th>kappa</th>\n",
       "    </tr>\n",
       "  </thead>\n",
       "  <tbody>\n",
       "    <tr>\n",
       "      <th>GT</th>\n",
       "      <td>1.000000</td>\n",
       "      <td>1.000000</td>\n",
       "      <td>1.000000</td>\n",
       "      <td>1.000000</td>\n",
       "      <td>1.000000</td>\n",
       "    </tr>\n",
       "    <tr>\n",
       "      <th>RandomForestClassifier0</th>\n",
       "      <td>0.801370</td>\n",
       "      <td>0.801444</td>\n",
       "      <td>0.801521</td>\n",
       "      <td>0.801364</td>\n",
       "      <td>0.602787</td>\n",
       "    </tr>\n",
       "    <tr>\n",
       "      <th>RandomForestClassifier1</th>\n",
       "      <td>0.811380</td>\n",
       "      <td>0.811441</td>\n",
       "      <td>0.811525</td>\n",
       "      <td>0.811374</td>\n",
       "      <td>0.622799</td>\n",
       "    </tr>\n",
       "    <tr>\n",
       "      <th>RandomForestClassifier2</th>\n",
       "      <td>0.802424</td>\n",
       "      <td>0.802460</td>\n",
       "      <td>0.802547</td>\n",
       "      <td>0.802414</td>\n",
       "      <td>0.604873</td>\n",
       "    </tr>\n",
       "    <tr>\n",
       "      <th>RandomForestClassifier3</th>\n",
       "      <td>0.797945</td>\n",
       "      <td>0.797893</td>\n",
       "      <td>0.797962</td>\n",
       "      <td>0.797912</td>\n",
       "      <td>0.595831</td>\n",
       "    </tr>\n",
       "    <tr>\n",
       "      <th>RandomForestClassifier4</th>\n",
       "      <td>0.800053</td>\n",
       "      <td>0.800053</td>\n",
       "      <td>0.800143</td>\n",
       "      <td>0.800038</td>\n",
       "      <td>0.600105</td>\n",
       "    </tr>\n",
       "    <tr>\n",
       "      <th>RandomForestClassifier5</th>\n",
       "      <td>0.799262</td>\n",
       "      <td>0.799447</td>\n",
       "      <td>0.799477</td>\n",
       "      <td>0.799262</td>\n",
       "      <td>0.598624</td>\n",
       "    </tr>\n",
       "    <tr>\n",
       "      <th>RandomForestClassifier6</th>\n",
       "      <td>0.800053</td>\n",
       "      <td>0.800053</td>\n",
       "      <td>0.800143</td>\n",
       "      <td>0.800038</td>\n",
       "      <td>0.600105</td>\n",
       "    </tr>\n",
       "    <tr>\n",
       "      <th>RandomForestClassifier7</th>\n",
       "      <td>0.815068</td>\n",
       "      <td>0.815083</td>\n",
       "      <td>0.815178</td>\n",
       "      <td>0.815057</td>\n",
       "      <td>0.630147</td>\n",
       "    </tr>\n",
       "    <tr>\n",
       "      <th>RandomForestClassifier8</th>\n",
       "      <td>0.758957</td>\n",
       "      <td>0.759465</td>\n",
       "      <td>0.759301</td>\n",
       "      <td>0.758946</td>\n",
       "      <td>0.518170</td>\n",
       "    </tr>\n",
       "    <tr>\n",
       "      <th>XGBClassifier9</th>\n",
       "      <td>0.814278</td>\n",
       "      <td>0.814320</td>\n",
       "      <td>0.814410</td>\n",
       "      <td>0.814270</td>\n",
       "      <td>0.628584</td>\n",
       "    </tr>\n",
       "    <tr>\n",
       "      <th>XGBClassifier10</th>\n",
       "      <td>0.810590</td>\n",
       "      <td>0.810657</td>\n",
       "      <td>0.810739</td>\n",
       "      <td>0.810584</td>\n",
       "      <td>0.621222</td>\n",
       "    </tr>\n",
       "    <tr>\n",
       "      <th>XGBClassifier11</th>\n",
       "      <td>0.816122</td>\n",
       "      <td>0.816147</td>\n",
       "      <td>0.816241</td>\n",
       "      <td>0.816112</td>\n",
       "      <td>0.632261</td>\n",
       "    </tr>\n",
       "    <tr>\n",
       "      <th>XGBClassifier12</th>\n",
       "      <td>0.801633</td>\n",
       "      <td>0.801775</td>\n",
       "      <td>0.801825</td>\n",
       "      <td>0.801632</td>\n",
       "      <td>0.603347</td>\n",
       "    </tr>\n",
       "    <tr>\n",
       "      <th>XGBClassifier13</th>\n",
       "      <td>0.814015</td>\n",
       "      <td>0.813970</td>\n",
       "      <td>0.814050</td>\n",
       "      <td>0.813987</td>\n",
       "      <td>0.627985</td>\n",
       "    </tr>\n",
       "    <tr>\n",
       "      <th>XGBClassifier14</th>\n",
       "      <td>0.809009</td>\n",
       "      <td>0.808985</td>\n",
       "      <td>0.809075</td>\n",
       "      <td>0.808989</td>\n",
       "      <td>0.617998</td>\n",
       "    </tr>\n",
       "    <tr>\n",
       "      <th>XGBClassifier15</th>\n",
       "      <td>0.816913</td>\n",
       "      <td>0.816858</td>\n",
       "      <td>0.816853</td>\n",
       "      <td>0.816855</td>\n",
       "      <td>0.633711</td>\n",
       "    </tr>\n",
       "    <tr>\n",
       "      <th>XGBClassifier16</th>\n",
       "      <td>0.814015</td>\n",
       "      <td>0.814103</td>\n",
       "      <td>0.814178</td>\n",
       "      <td>0.814011</td>\n",
       "      <td>0.628081</td>\n",
       "    </tr>\n",
       "    <tr>\n",
       "      <th>XGBClassifier17</th>\n",
       "      <td>0.814805</td>\n",
       "      <td>0.814860</td>\n",
       "      <td>0.814946</td>\n",
       "      <td>0.814798</td>\n",
       "      <td>0.629644</td>\n",
       "    </tr>\n",
       "    <tr>\n",
       "      <th>XGBClassifier18</th>\n",
       "      <td>0.813488</td>\n",
       "      <td>0.813502</td>\n",
       "      <td>0.813596</td>\n",
       "      <td>0.813476</td>\n",
       "      <td>0.626986</td>\n",
       "    </tr>\n",
       "    <tr>\n",
       "      <th>XGBClassifier19</th>\n",
       "      <td>0.816649</td>\n",
       "      <td>0.816664</td>\n",
       "      <td>0.816759</td>\n",
       "      <td>0.816638</td>\n",
       "      <td>0.633308</td>\n",
       "    </tr>\n",
       "  </tbody>\n",
       "</table>\n",
       "</div>"
      ]
     },
     "execution_count": 14,
     "metadata": {},
     "output_type": "execute_result"
    }
   ],
   "execution_count": 14
  },
  {
   "metadata": {
    "ExecuteTime": {
     "end_time": "2024-11-02T21:03:29.320875Z",
     "start_time": "2024-11-02T21:03:29.317063Z"
    }
   },
   "cell_type": "code",
   "source": "",
   "id": "2208e0e25786bb7e",
   "outputs": [],
   "execution_count": null
  }
 ],
 "metadata": {
  "kernelspec": {
   "display_name": "Python 3",
   "language": "python",
   "name": "python3"
  },
  "language_info": {
   "codemirror_mode": {
    "name": "ipython",
    "version": 2
   },
   "file_extension": ".py",
   "mimetype": "text/x-python",
   "name": "python",
   "nbconvert_exporter": "python",
   "pygments_lexer": "ipython2",
   "version": "2.7.6"
  }
 },
 "nbformat": 4,
 "nbformat_minor": 5
}

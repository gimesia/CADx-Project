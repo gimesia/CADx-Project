{
 "cells": [
  {
   "cell_type": "code",
   "id": "initial_id",
   "metadata": {
    "collapsed": true,
    "ExecuteTime": {
     "end_time": "2024-11-04T01:50:50.775266Z",
     "start_time": "2024-11-04T01:50:48.090444Z"
    }
   },
   "source": [
    "from utils.loader import FactoryLoader\n",
    "from utils.ml import MLPipeline\n",
    "from utils.preprocessing import PreprocessingFactory\n",
    "from utils.feature_extraction import *\n",
    "from utils.utils import *\n",
    "\n",
    "VAL_PATH = r\"C:\\Users\\gimes\\Src\\repos\\CADx-Project\\dataset\\binary\\val\"\n",
    "TRAIN_PATH = r\"C:\\Users\\gimes\\Src\\repos\\CADx-Project\\dataset\\binary\\train\"\n",
    "TEST_PATH = r\"C:\\Users\\gimes\\Src\\repos\\CADx-Project\\dataset\\binary\\test\""
   ],
   "outputs": [
    {
     "name": "stderr",
     "output_type": "stream",
     "text": [
      "INFO:numexpr.utils:Note: NumExpr detected 16 cores but \"NUMEXPR_MAX_THREADS\" not set, so enforcing safe limit of 8.\n",
      "INFO:numexpr.utils:NumExpr defaulting to 8 threads.\n"
     ]
    }
   ],
   "execution_count": 1
  },
  {
   "metadata": {
    "ExecuteTime": {
     "end_time": "2024-11-04T01:50:50.825448Z",
     "start_time": "2024-11-04T01:50:50.775266Z"
    }
   },
   "cell_type": "code",
   "source": [
    "percent = 100\n",
    "random = False\n",
    "batch_size = 24\n",
    "th = 0.01\n",
    "\n",
    "# Initialize the FactoryLoader\n",
    "factory = PreprocessingFactory()\n",
    "factory.pad2square(fill=np.nan)\n",
    "factory.resize((240,240))\n",
    "factory.normalize2float()\n",
    "\n",
    "# Create the feature extraction pipeline strategy and add desired features\n",
    "strategy = FeatureExtractionStrategy()\n",
    "\n",
    "strategy.add_extractor(GradientExtractor(th)) # Add gradient feature\n",
    "\n",
    "strategy.add_extractor(ColorMomentsExtractor(\"rgb\", th))   # Add color moments feature\n",
    "strategy.add_extractor(ColorMomentsExtractor(\"lab\", th))   # Add color moments feature\n",
    "strategy.add_extractor(ColorMomentsExtractor(\"hsv\", th))   # Add color moments feature\n",
    "\n",
    "strategy.add_extractor(LBPExtractor(radius=1, n_points=8))\n",
    "strategy.add_extractor(LBPExtractor(radius=2, n_points=16))\n",
    "strategy.add_extractor(LBPExtractor(radius=3, n_points=24))\n",
    "strategy.add_extractor(LBPExtractor(radius=4, n_points=32))\n",
    "strategy.add_extractor(LBPExtractor(radius=5, n_points=40))\n",
    "\n",
    "strategy.add_extractor(FourierTransformExtractor())\n",
    "strategy.add_extractor(FFTExtractor())\n",
    "\n",
    "strategy.add_extractor(GLCMExtractor(properties=['contrast', 'dissimilarity', 'homogeneity', 'energy', 'correlation', \"ASM\"]))\n",
    "\n",
    "pipeline = MLPipeline(dataset_path=TRAIN_PATH, preprocessing_factory=factory, feature_strategy=strategy, classifiers=[], percentage=percent, verbose=True, shuffle=random, batch_size=batch_size)"
   ],
   "id": "d7c81ba220d9e517",
   "outputs": [
    {
     "name": "stderr",
     "output_type": "stream",
     "text": [
      "INFO:utils.ml:MLPipeline initialized with dataset path: C:\\Users\\gimes\\Src\\repos\\CADx-Project\\dataset\\binary\\train\n",
      "INFO:utils.ml:Preprocessing steps\n"
     ]
    }
   ],
   "execution_count": 2
  },
  {
   "metadata": {
    "ExecuteTime": {
     "end_time": "2024-11-04T02:57:00.253578Z",
     "start_time": "2024-11-04T01:50:50.881009Z"
    }
   },
   "cell_type": "code",
   "source": "pipeline.run_feature_extraction()",
   "id": "21f510c52296a049",
   "outputs": [
    {
     "name": "stderr",
     "output_type": "stream",
     "text": [
      "INFO:utils.ml:Running feature extraction...\n"
     ]
    },
    {
     "name": "stdout",
     "output_type": "stream",
     "text": [
      "Processed 5/634 batches.\n",
      "Processed 10/634 batches.\n",
      "Processed 15/634 batches.\n",
      "Processed 20/634 batches.\n",
      "Processed 25/634 batches.\n",
      "Processed 30/634 batches.\n",
      "Processed 35/634 batches.\n",
      "Processed 40/634 batches.\n",
      "Processed 45/634 batches.\n",
      "Processed 50/634 batches.\n",
      "Processed 55/634 batches.\n",
      "Processed 60/634 batches.\n",
      "Processed 65/634 batches.\n",
      "Processed 70/634 batches.\n",
      "Processed 75/634 batches.\n"
     ]
    },
    {
     "name": "stderr",
     "output_type": "stream",
     "text": [
      "C:\\Users\\gimes\\Src\\repos\\CADx-Project\\utils\\feature_extraction.py:284: RuntimeWarning: Precision loss occurred in moment calculation due to catastrophic cancellation. This occurs when the data are nearly identical. Results may be unreliable.\n",
      "  skew_val = skew(channel.flatten(), nan_policy='omit')\n",
      "C:\\Users\\gimes\\Src\\repos\\CADx-Project\\utils\\feature_extraction.py:285: RuntimeWarning: Precision loss occurred in moment calculation due to catastrophic cancellation. This occurs when the data are nearly identical. Results may be unreliable.\n",
      "  kurtosis_val = kurtosis(channel.flatten(), nan_policy='omit')\n"
     ]
    },
    {
     "name": "stdout",
     "output_type": "stream",
     "text": [
      "Processed 80/634 batches.\n",
      "Processed 85/634 batches.\n",
      "Processed 90/634 batches.\n",
      "Processed 95/634 batches.\n",
      "Processed 100/634 batches.\n",
      "Processed 105/634 batches.\n",
      "Processed 110/634 batches.\n",
      "Processed 115/634 batches.\n",
      "Processed 120/634 batches.\n",
      "Processed 125/634 batches.\n",
      "Processed 130/634 batches.\n",
      "Processed 135/634 batches.\n",
      "Processed 140/634 batches.\n",
      "Processed 145/634 batches.\n",
      "Processed 150/634 batches.\n",
      "Processed 155/634 batches.\n",
      "Processed 160/634 batches.\n",
      "Processed 165/634 batches.\n",
      "Processed 170/634 batches.\n",
      "Processed 175/634 batches.\n",
      "Processed 180/634 batches.\n",
      "Processed 185/634 batches.\n",
      "Processed 190/634 batches.\n",
      "Processed 195/634 batches.\n",
      "Processed 200/634 batches.\n",
      "Processed 205/634 batches.\n",
      "Processed 210/634 batches.\n",
      "Processed 215/634 batches.\n",
      "Processed 220/634 batches.\n",
      "Processed 225/634 batches.\n",
      "Processed 230/634 batches.\n",
      "Processed 235/634 batches.\n",
      "Processed 240/634 batches.\n",
      "Processed 245/634 batches.\n",
      "Processed 250/634 batches.\n",
      "Processed 255/634 batches.\n",
      "Processed 260/634 batches.\n",
      "Processed 265/634 batches.\n",
      "Processed 270/634 batches.\n",
      "Processed 275/634 batches.\n",
      "Processed 280/634 batches.\n",
      "Processed 285/634 batches.\n",
      "Processed 290/634 batches.\n",
      "Processed 295/634 batches.\n",
      "Processed 300/634 batches.\n",
      "Processed 305/634 batches.\n",
      "Processed 310/634 batches.\n",
      "Processed 315/634 batches.\n",
      "Processed 320/634 batches.\n",
      "Processed 325/634 batches.\n",
      "Processed 330/634 batches.\n",
      "Processed 335/634 batches.\n",
      "Processed 340/634 batches.\n",
      "Processed 345/634 batches.\n",
      "Processed 350/634 batches.\n",
      "Processed 355/634 batches.\n",
      "Processed 360/634 batches.\n",
      "Processed 365/634 batches.\n",
      "Processed 370/634 batches.\n",
      "Processed 375/634 batches.\n",
      "Processed 380/634 batches.\n",
      "Processed 385/634 batches.\n",
      "Processed 390/634 batches.\n",
      "Processed 395/634 batches.\n",
      "Processed 400/634 batches.\n",
      "Processed 405/634 batches.\n",
      "Processed 410/634 batches.\n",
      "Processed 415/634 batches.\n",
      "Processed 420/634 batches.\n",
      "Processed 425/634 batches.\n",
      "Processed 430/634 batches.\n",
      "Processed 435/634 batches.\n",
      "Processed 440/634 batches.\n",
      "Processed 445/634 batches.\n",
      "Processed 450/634 batches.\n",
      "Processed 455/634 batches.\n",
      "Processed 460/634 batches.\n",
      "Processed 465/634 batches.\n",
      "Processed 470/634 batches.\n",
      "Processed 475/634 batches.\n",
      "Processed 480/634 batches.\n",
      "Processed 485/634 batches.\n",
      "Processed 490/634 batches.\n",
      "Processed 495/634 batches.\n",
      "Processed 500/634 batches.\n",
      "Processed 505/634 batches.\n",
      "Processed 510/634 batches.\n",
      "Processed 515/634 batches.\n",
      "Processed 520/634 batches.\n",
      "Processed 525/634 batches.\n",
      "Processed 530/634 batches.\n",
      "Processed 535/634 batches.\n",
      "Processed 540/634 batches.\n",
      "Processed 545/634 batches.\n",
      "Processed 550/634 batches.\n",
      "Processed 555/634 batches.\n",
      "Processed 560/634 batches.\n",
      "Processed 565/634 batches.\n",
      "Processed 570/634 batches.\n",
      "Processed 575/634 batches.\n",
      "Processed 580/634 batches.\n",
      "Processed 585/634 batches.\n",
      "Processed 590/634 batches.\n",
      "Processed 595/634 batches.\n",
      "Processed 600/634 batches.\n",
      "Processed 605/634 batches.\n",
      "Processed 610/634 batches.\n",
      "Processed 615/634 batches.\n",
      "Processed 620/634 batches.\n",
      "Processed 625/634 batches.\n",
      "Processed 630/634 batches.\n"
     ]
    },
    {
     "name": "stderr",
     "output_type": "stream",
     "text": [
      "INFO:utils.ml:Feature extraction completed. Extracted 15195 features.\n"
     ]
    },
    {
     "name": "stdout",
     "output_type": "stream",
     "text": [
      "Processed 634/634 batches.\n"
     ]
    }
   ],
   "execution_count": 3
  },
  {
   "metadata": {
    "ExecuteTime": {
     "end_time": "2024-11-04T09:01:34.240451Z",
     "start_time": "2024-11-04T09:01:34.151139Z"
    }
   },
   "cell_type": "code",
   "source": [
    "from xgboost import XGBClassifier\n",
    "from sklearn.ensemble import RandomForestClassifier\n",
    "\n",
    "xgb0 = XGBClassifier(learning_rate=0.1, n_estimators=500, max_depth=7, min_child_weight=1, subsample=0.8, colsample_bytree=0.8)\n",
    "xgb1 = XGBClassifier(learning_rate=0.1, n_estimators=1250, max_depth=7, min_child_weight=1, subsample=0.8, colsample_bytree=0.8)\n",
    "xgb2 = XGBClassifier(learning_rate=0.1, n_estimators=1250, max_depth=7, min_child_weight=1, subsample=0.8, colsample_bytree=0.8)\n",
    "xgb3 = XGBClassifier(learning_rate=0.1, n_estimators=1250, min_child_weight=1, subsample=0.8, colsample_bytree=0.8)\n",
    "xgb4 = XGBClassifier(learning_rate=0.1, n_estimators=1500, max_depth=7, min_child_weight=1, subsample=0.8, colsample_bytree=0.8)\n",
    "xgb5 = XGBClassifier(learning_rate=0.1, n_estimators=1500, max_depth=7, min_child_weight=1, subsample=0.8, colsample_bytree=0.8)\n",
    "xgb6 = XGBClassifier(learning_rate=0.1, n_estimators=1500, min_child_weight=1, subsample=0.8, colsample_bytree=0.8)\n",
    "xgb7 = XGBClassifier(learning_rate=0.1, n_estimators=1000, max_depth=7, min_child_weight=1, subsample=0.8, colsample_bytree=0.8)\n",
    "xgb8 = XGBClassifier(learning_rate=0.1, n_estimators=1000, max_depth=7, min_child_weight=1, subsample=0.8, colsample_bytree=0.8)\n",
    "xgb9 = XGBClassifier(learning_rate=0.1, n_estimators=1000, min_child_weight=1, subsample=0.8, colsample_bytree=0.8)\n",
    "xgb10 = XGBClassifier(learning_rate=0.1, n_estimators=1250, max_depth=9, min_child_weight=1, subsample=0.8, colsample_bytree=0.8)\n",
    "xgb11 = XGBClassifier(learning_rate=0.1, n_estimators=1250, max_depth=9, min_child_weight=2, subsample=0.8, colsample_bytree=0.8)\n",
    "\n",
    "pipeline.classifiers = [xgb1, xgb2, xgb3, xgb4, xgb5, xgb6, xgb7, xgb8, xgb9, xgb10, xgb11]\n",
    "pipeline.fitted_classifiers = {}"
   ],
   "id": "74470ba20848a156",
   "outputs": [],
   "execution_count": 4
  },
  {
   "metadata": {
    "jupyter": {
     "is_executing": true
    },
    "ExecuteTime": {
     "start_time": "2024-11-04T09:01:34.692137Z"
    }
   },
   "cell_type": "code",
   "source": "pipeline.fit_classifiers()",
   "id": "5269ac4d3392fbae",
   "outputs": [
    {
     "name": "stderr",
     "output_type": "stream",
     "text": [
      "INFO:utils.ml:Fitting classifiers...\n",
      "INFO:utils.ml:Fitting classifier: XGBClassifier0\n",
      "INFO:utils.ml:Top 10 features for XGBClassifier0: [('color_moments_lab_A_min', 0.027124563), ('fft_radial_mean_122', 0.01420381), ('lbp_rad2_bins16_8', 0.013229413), ('fft_radial_variance_83', 0.012810667), ('fft_radial_mean_146', 0.011883734), ('fft_radial_variance_66', 0.00922972), ('fft_radial_mean_135', 0.008961469), ('fft_radial_variance_87', 0.00828424), ('color_moments_lab_B_skew', 0.008273108), ('fft_radial_mean_162', 0.008002943)]\n",
      "INFO:utils.ml:Fitted classifier: XGBClassifier0; Done in 59.57425546646118 seconds\n",
      "INFO:utils.ml:Fitting classifier: XGBClassifier1\n",
      "INFO:utils.ml:Top 10 features for XGBClassifier1: [('color_moments_lab_A_min', 0.027124563), ('fft_radial_mean_122', 0.01420381), ('lbp_rad2_bins16_8', 0.013229413), ('fft_radial_variance_83', 0.012810667), ('fft_radial_mean_146', 0.011883734), ('fft_radial_variance_66', 0.00922972), ('fft_radial_mean_135', 0.008961469), ('fft_radial_variance_87', 0.00828424), ('color_moments_lab_B_skew', 0.008273108), ('fft_radial_mean_162', 0.008002943)]\n",
      "INFO:utils.ml:Fitted classifier: XGBClassifier1; Done in 71.18357181549072 seconds\n",
      "INFO:utils.ml:Fitting classifier: XGBClassifier2\n",
      "INFO:utils.ml:Top 10 features for XGBClassifier2: [('color_moments_lab_A_min', 0.02846076), ('lbp_rad2_bins16_8', 0.009911447), ('fft_radial_mean_121', 0.008809653), ('color_moments_hsv_V_min', 0.00856971), ('color_moments_rgb_B_var', 0.00850864), ('fft_radial_variance_79', 0.008105895), ('color_moments_lab_B_skew', 0.008052979), ('fft_radial_variance_47', 0.007975294), ('fft_radial_variance_103', 0.007681398), ('fft_radial_mean_83', 0.007561805)]\n",
      "INFO:utils.ml:Fitted classifier: XGBClassifier2; Done in 59.97357630729675 seconds\n",
      "INFO:utils.ml:Fitting classifier: XGBClassifier3\n",
      "INFO:utils.ml:Top 10 features for XGBClassifier3: [('color_moments_lab_A_min', 0.028292758), ('fft_radial_variance_83', 0.014092121), ('lbp_rad2_bins16_8', 0.012265687), ('fft_radial_mean_146', 0.010463562), ('fft_radial_mean_122', 0.010429906), ('fft_radial_variance_87', 0.009112914), ('fft_radial_mean_162', 0.00880348), ('color_moments_lab_B_skew', 0.008486335), ('fft_radial_variance_46', 0.008104234), ('fft_radial_variance_79', 0.007903745)]\n",
      "INFO:utils.ml:Fitted classifier: XGBClassifier3; Done in 83.21506357192993 seconds\n",
      "INFO:utils.ml:Fitting classifier: XGBClassifier4\n",
      "INFO:utils.ml:Top 10 features for XGBClassifier4: [('color_moments_lab_A_min', 0.028292758), ('fft_radial_variance_83', 0.014092121), ('lbp_rad2_bins16_8', 0.012265687), ('fft_radial_mean_146', 0.010463562), ('fft_radial_mean_122', 0.010429906), ('fft_radial_variance_87', 0.009112914), ('fft_radial_mean_162', 0.00880348), ('color_moments_lab_B_skew', 0.008486335), ('fft_radial_variance_46', 0.008104234), ('fft_radial_variance_79', 0.007903745)]\n",
      "INFO:utils.ml:Fitted classifier: XGBClassifier4; Done in 83.47698593139648 seconds\n",
      "INFO:utils.ml:Fitting classifier: XGBClassifier5\n",
      "INFO:utils.ml:Top 10 features for XGBClassifier5: [('color_moments_lab_A_min', 0.0282838), ('lbp_rad2_bins16_8', 0.009876843), ('color_moments_rgb_B_var', 0.009106739), ('fft_radial_variance_79', 0.009067503), ('fft_radial_variance_47', 0.00892141), ('color_moments_hsv_V_min', 0.0087776445), ('fft_radial_variance_103', 0.008592648), ('fft_radial_mean_83', 0.008458869), ('fft_radial_mean_121', 0.008217979), ('color_moments_lab_B_skew', 0.008154842)]\n",
      "INFO:utils.ml:Fitted classifier: XGBClassifier5; Done in 71.90936017036438 seconds\n",
      "INFO:utils.ml:Fitting classifier: XGBClassifier6\n",
      "INFO:utils.ml:Top 10 features for XGBClassifier6: [('color_moments_lab_A_min', 0.027098224), ('fft_radial_mean_146', 0.014213489), ('lbp_rad2_bins16_8', 0.013200854), ('fft_radial_mean_122', 0.012751638), ('fft_radial_variance_83', 0.011500927), ('color_moments_lab_B_skew', 0.008440727), ('fft_radial_variance_66', 0.008286089), ('fft_radial_mean_135', 0.0080452645), ('fft_radial_variance_87', 0.0074372734), ('fft_radial_mean_162', 0.0071847364)]\n",
      "INFO:utils.ml:Fitted classifier: XGBClassifier6; Done in 59.71689987182617 seconds\n",
      "INFO:utils.ml:Fitting classifier: XGBClassifier7\n",
      "INFO:utils.ml:Top 10 features for XGBClassifier7: [('color_moments_lab_A_min', 0.027098224), ('fft_radial_mean_146', 0.014213489), ('lbp_rad2_bins16_8', 0.013200854), ('fft_radial_mean_122', 0.012751638), ('fft_radial_variance_83', 0.011500927), ('color_moments_lab_B_skew', 0.008440727), ('fft_radial_variance_66', 0.008286089), ('fft_radial_mean_135', 0.0080452645), ('fft_radial_variance_87', 0.0074372734), ('fft_radial_mean_162', 0.0071847364)]\n",
      "INFO:utils.ml:Fitted classifier: XGBClassifier7; Done in 59.516937494277954 seconds\n",
      "INFO:utils.ml:Fitting classifier: XGBClassifier8\n",
      "INFO:utils.ml:Top 10 features for XGBClassifier8: [('color_moments_lab_A_min', 0.027630124), ('lbp_rad2_bins16_8', 0.010196711), ('color_moments_rgb_B_var', 0.008631107), ('color_moments_lab_B_skew', 0.008082312), ('color_moments_hsv_V_min', 0.008078117), ('fft_radial_mean_121', 0.007731673), ('fft_radial_mean_83', 0.007724964), ('fft_radial_mean_150', 0.0076998794), ('color_moments_hsv_H_max', 0.007376685), ('fft_radial_variance_79', 0.0071140286)]\n",
      "INFO:utils.ml:Fitted classifier: XGBClassifier8; Done in 49.11158895492554 seconds\n",
      "INFO:utils.ml:Fitting classifier: XGBClassifier9\n"
     ]
    }
   ],
   "execution_count": null
  },
  {
   "metadata": {
    "ExecuteTime": {
     "end_time": "2024-11-04T09:11:16.243940300Z",
     "start_time": "2024-11-03T22:44:25.299287Z"
    }
   },
   "cell_type": "code",
   "source": "pipeline.predict_with_classifiers(VAL_PATH)",
   "id": "f71e18a07f5ee7bb",
   "outputs": [
    {
     "name": "stderr",
     "output_type": "stream",
     "text": [
      "INFO:utils.ml:Predicting with classifiers on dataset: C:\\Users\\gimes\\Src\\repos\\CADx-Project\\dataset\\binary\\val\n"
     ]
    },
    {
     "name": "stdout",
     "output_type": "stream",
     "text": [
      "Processed 5/159 batches.\n",
      "Processed 10/159 batches.\n",
      "Processed 15/159 batches.\n",
      "Processed 20/159 batches.\n",
      "Processed 25/159 batches.\n",
      "Processed 30/159 batches.\n",
      "Processed 35/159 batches.\n",
      "Processed 40/159 batches.\n",
      "Processed 45/159 batches.\n",
      "Processed 50/159 batches.\n",
      "Processed 55/159 batches.\n",
      "Processed 60/159 batches.\n",
      "Processed 65/159 batches.\n",
      "Processed 70/159 batches.\n",
      "Processed 75/159 batches.\n",
      "Processed 80/159 batches.\n",
      "Processed 85/159 batches.\n",
      "Processed 90/159 batches.\n",
      "Processed 95/159 batches.\n",
      "Processed 100/159 batches.\n",
      "Processed 105/159 batches.\n",
      "Processed 110/159 batches.\n",
      "Processed 115/159 batches.\n",
      "Processed 120/159 batches.\n",
      "Processed 125/159 batches.\n",
      "Processed 130/159 batches.\n",
      "Processed 135/159 batches.\n",
      "Processed 140/159 batches.\n",
      "Processed 145/159 batches.\n",
      "Processed 150/159 batches.\n",
      "Processed 155/159 batches.\n"
     ]
    },
    {
     "name": "stderr",
     "output_type": "stream",
     "text": [
      "INFO:utils.ml:Predictions made with classifier: XGBClassifier0\n",
      "INFO:utils.ml:Predictions made with classifier: XGBClassifier1\n",
      "INFO:utils.ml:Predictions made with classifier: XGBClassifier2\n",
      "INFO:utils.ml:Predictions made with classifier: XGBClassifier3\n",
      "INFO:utils.ml:Predictions made with classifier: XGBClassifier4\n",
      "INFO:utils.ml:Predictions made with classifier: XGBClassifier5\n",
      "INFO:utils.ml:Predictions made with classifier: XGBClassifier6\n"
     ]
    },
    {
     "name": "stdout",
     "output_type": "stream",
     "text": [
      "Processed 159/159 batches.\n"
     ]
    },
    {
     "name": "stderr",
     "output_type": "stream",
     "text": [
      "INFO:utils.ml:Predictions made with classifier: XGBClassifier7\n",
      "INFO:utils.ml:Predictions made with classifier: XGBClassifier8\n",
      "INFO:utils.ml:Predictions made with classifier: XGBClassifier9\n",
      "INFO:utils.ml:Predictions made with classifier: XGBClassifier10\n"
     ]
    },
    {
     "data": {
      "text/plain": [
       "{'GT': array([0, 0, 0, ..., 1, 1, 1]),\n",
       " 'XGBClassifier0': array([0, 0, 0, ..., 0, 0, 1]),\n",
       " 'XGBClassifier1': array([0, 0, 0, ..., 0, 0, 1]),\n",
       " 'XGBClassifier2': array([0, 0, 0, ..., 1, 0, 1]),\n",
       " 'XGBClassifier3': array([0, 0, 0, ..., 0, 0, 1]),\n",
       " 'XGBClassifier4': array([0, 0, 0, ..., 0, 0, 1]),\n",
       " 'XGBClassifier5': array([0, 0, 0, ..., 1, 0, 1]),\n",
       " 'XGBClassifier6': array([0, 0, 0, ..., 0, 0, 1]),\n",
       " 'XGBClassifier7': array([0, 0, 0, ..., 0, 0, 1]),\n",
       " 'XGBClassifier8': array([0, 0, 0, ..., 1, 0, 1]),\n",
       " 'XGBClassifier9': array([0, 0, 0, ..., 0, 1, 1]),\n",
       " 'XGBClassifier10': array([0, 0, 0, ..., 0, 0, 1])}"
      ]
     },
     "execution_count": 16,
     "metadata": {},
     "output_type": "execute_result"
    }
   ],
   "execution_count": 16
  },
  {
   "metadata": {
    "tags": [
     "BEST 3-11"
    ],
    "ExecuteTime": {
     "end_time": "2024-11-04T09:11:16.243940300Z",
     "start_time": "2024-11-03T22:55:43.431417Z"
    }
   },
   "cell_type": "code",
   "source": [
    "import pandas as pd\n",
    "\n",
    "df = pd.DataFrame(data=pipeline.calculate_metrics())\n",
    "df = df.T\n",
    "df"
   ],
   "id": "751fad2660242db5",
   "outputs": [
    {
     "name": "stderr",
     "output_type": "stream",
     "text": [
      "INFO:utils.ml:Metrics for classifier GT: {'accuracy': 1.0, 'precision': 1.0, 'recall': 1.0, 'f1': 1.0, 'kappa': 1.0}\n",
      "INFO:utils.ml:Metrics for classifier XGBClassifier0: {'accuracy': 0.8516859852476291, 'precision': 0.8516364274480883, 'recall': 0.8516548816196305, 'f1': 0.851645122221862, 'kappa': 0.7032904298145117}\n",
      "INFO:utils.ml:Metrics for classifier XGBClassifier1: {'accuracy': 0.8516859852476291, 'precision': 0.8516364274480883, 'recall': 0.8516548816196305, 'f1': 0.851645122221862, 'kappa': 0.7032904298145117}\n",
      "INFO:utils.ml:Metrics for classifier XGBClassifier2: {'accuracy': 0.8501053740779768, 'precision': 0.8501300108342362, 'recall': 0.8499729959750812, 'f1': 0.8500301790168034, 'kappa': 0.7000678759170469}\n",
      "INFO:utils.ml:Metrics for classifier XGBClassifier3: {'accuracy': 0.8516859852476291, 'precision': 0.8516528925619835, 'recall': 0.8516182283415918, 'f1': 0.851634081533124, 'kappa': 0.703268678061175}\n",
      "INFO:utils.ml:Metrics for classifier XGBClassifier4: {'accuracy': 0.8516859852476291, 'precision': 0.8516528925619835, 'recall': 0.8516182283415918, 'f1': 0.851634081533124, 'kappa': 0.703268678061175}\n",
      "INFO:utils.ml:Metrics for classifier XGBClassifier5: {'accuracy': 0.8516859852476291, 'precision': 0.851723356210661, 'recall': 0.8515449217855144, 'f1': 0.8516080387739327, 'kappa': 0.7032251649853831}\n",
      "INFO:utils.ml:Metrics for classifier XGBClassifier6: {'accuracy': 0.8493150684931506, 'precision': 0.8492610098906819, 'recall': 0.8493153195430003, 'f1': 0.8492822674241036, 'kappa': 0.6985666271939628}\n",
      "INFO:utils.ml:Metrics for classifier XGBClassifier7: {'accuracy': 0.8493150684931506, 'precision': 0.8492610098906819, 'recall': 0.8493153195430003, 'f1': 0.8492822674241036, 'kappa': 0.6985666271939628}\n",
      "INFO:utils.ml:Metrics for classifier XGBClassifier8: {'accuracy': 0.8498419388830347, 'precision': 0.849832475969891, 'recall': 0.8497415527383747, 'f1': 0.8497785126592561, 'kappa': 0.6995600289814905}\n",
      "INFO:utils.ml:Metrics for classifier XGBClassifier9: {'accuracy': 0.8503688092729189, 'precision': 0.8503516818934859, 'recall': 0.8502777457678654, 'f1': 0.850308806540478, 'kappa': 0.7006196915566157}\n",
      "INFO:utils.ml:Metrics for classifier XGBClassifier10: {'accuracy': 0.8479978925184405, 'precision': 0.8479633208922065, 'recall': 0.8479290203717254, 'f1': 0.847944698125422, 'kappa': 0.6958899240520389}\n"
     ]
    },
    {
     "data": {
      "text/plain": [
       "                 accuracy  precision    recall        f1     kappa\n",
       "GT               1.000000   1.000000  1.000000  1.000000  1.000000\n",
       "XGBClassifier0   0.851686   0.851636  0.851655  0.851645  0.703290\n",
       "XGBClassifier1   0.851686   0.851636  0.851655  0.851645  0.703290\n",
       "XGBClassifier2   0.850105   0.850130  0.849973  0.850030  0.700068\n",
       "XGBClassifier3   0.851686   0.851653  0.851618  0.851634  0.703269\n",
       "XGBClassifier4   0.851686   0.851653  0.851618  0.851634  0.703269\n",
       "XGBClassifier5   0.851686   0.851723  0.851545  0.851608  0.703225\n",
       "XGBClassifier6   0.849315   0.849261  0.849315  0.849282  0.698567\n",
       "XGBClassifier7   0.849315   0.849261  0.849315  0.849282  0.698567\n",
       "XGBClassifier8   0.849842   0.849832  0.849742  0.849779  0.699560\n",
       "XGBClassifier9   0.850369   0.850352  0.850278  0.850309  0.700620\n",
       "XGBClassifier10  0.847998   0.847963  0.847929  0.847945  0.695890"
      ],
      "text/html": [
       "<div>\n",
       "<style scoped>\n",
       "    .dataframe tbody tr th:only-of-type {\n",
       "        vertical-align: middle;\n",
       "    }\n",
       "\n",
       "    .dataframe tbody tr th {\n",
       "        vertical-align: top;\n",
       "    }\n",
       "\n",
       "    .dataframe thead th {\n",
       "        text-align: right;\n",
       "    }\n",
       "</style>\n",
       "<table border=\"1\" class=\"dataframe\">\n",
       "  <thead>\n",
       "    <tr style=\"text-align: right;\">\n",
       "      <th></th>\n",
       "      <th>accuracy</th>\n",
       "      <th>precision</th>\n",
       "      <th>recall</th>\n",
       "      <th>f1</th>\n",
       "      <th>kappa</th>\n",
       "    </tr>\n",
       "  </thead>\n",
       "  <tbody>\n",
       "    <tr>\n",
       "      <th>GT</th>\n",
       "      <td>1.000000</td>\n",
       "      <td>1.000000</td>\n",
       "      <td>1.000000</td>\n",
       "      <td>1.000000</td>\n",
       "      <td>1.000000</td>\n",
       "    </tr>\n",
       "    <tr>\n",
       "      <th>XGBClassifier0</th>\n",
       "      <td>0.851686</td>\n",
       "      <td>0.851636</td>\n",
       "      <td>0.851655</td>\n",
       "      <td>0.851645</td>\n",
       "      <td>0.703290</td>\n",
       "    </tr>\n",
       "    <tr>\n",
       "      <th>XGBClassifier1</th>\n",
       "      <td>0.851686</td>\n",
       "      <td>0.851636</td>\n",
       "      <td>0.851655</td>\n",
       "      <td>0.851645</td>\n",
       "      <td>0.703290</td>\n",
       "    </tr>\n",
       "    <tr>\n",
       "      <th>XGBClassifier2</th>\n",
       "      <td>0.850105</td>\n",
       "      <td>0.850130</td>\n",
       "      <td>0.849973</td>\n",
       "      <td>0.850030</td>\n",
       "      <td>0.700068</td>\n",
       "    </tr>\n",
       "    <tr>\n",
       "      <th>XGBClassifier3</th>\n",
       "      <td>0.851686</td>\n",
       "      <td>0.851653</td>\n",
       "      <td>0.851618</td>\n",
       "      <td>0.851634</td>\n",
       "      <td>0.703269</td>\n",
       "    </tr>\n",
       "    <tr>\n",
       "      <th>XGBClassifier4</th>\n",
       "      <td>0.851686</td>\n",
       "      <td>0.851653</td>\n",
       "      <td>0.851618</td>\n",
       "      <td>0.851634</td>\n",
       "      <td>0.703269</td>\n",
       "    </tr>\n",
       "    <tr>\n",
       "      <th>XGBClassifier5</th>\n",
       "      <td>0.851686</td>\n",
       "      <td>0.851723</td>\n",
       "      <td>0.851545</td>\n",
       "      <td>0.851608</td>\n",
       "      <td>0.703225</td>\n",
       "    </tr>\n",
       "    <tr>\n",
       "      <th>XGBClassifier6</th>\n",
       "      <td>0.849315</td>\n",
       "      <td>0.849261</td>\n",
       "      <td>0.849315</td>\n",
       "      <td>0.849282</td>\n",
       "      <td>0.698567</td>\n",
       "    </tr>\n",
       "    <tr>\n",
       "      <th>XGBClassifier7</th>\n",
       "      <td>0.849315</td>\n",
       "      <td>0.849261</td>\n",
       "      <td>0.849315</td>\n",
       "      <td>0.849282</td>\n",
       "      <td>0.698567</td>\n",
       "    </tr>\n",
       "    <tr>\n",
       "      <th>XGBClassifier8</th>\n",
       "      <td>0.849842</td>\n",
       "      <td>0.849832</td>\n",
       "      <td>0.849742</td>\n",
       "      <td>0.849779</td>\n",
       "      <td>0.699560</td>\n",
       "    </tr>\n",
       "    <tr>\n",
       "      <th>XGBClassifier9</th>\n",
       "      <td>0.850369</td>\n",
       "      <td>0.850352</td>\n",
       "      <td>0.850278</td>\n",
       "      <td>0.850309</td>\n",
       "      <td>0.700620</td>\n",
       "    </tr>\n",
       "    <tr>\n",
       "      <th>XGBClassifier10</th>\n",
       "      <td>0.847998</td>\n",
       "      <td>0.847963</td>\n",
       "      <td>0.847929</td>\n",
       "      <td>0.847945</td>\n",
       "      <td>0.695890</td>\n",
       "    </tr>\n",
       "  </tbody>\n",
       "</table>\n",
       "</div>"
      ]
     },
     "execution_count": 17,
     "metadata": {},
     "output_type": "execute_result"
    }
   ],
   "execution_count": 17
  },
  {
   "metadata": {
    "ExecuteTime": {
     "end_time": "2024-11-04T09:11:16.243940300Z",
     "start_time": "2024-11-03T22:55:43.551668Z"
    }
   },
   "cell_type": "code",
   "source": [
    "from sklearn.metrics import confusion_matrix, accuracy_score, classification_report\n",
    "\n",
    "highest = df[df[\"accuracy\"] == df.iloc[1:][\"accuracy\"].max()]\n",
    "idx = highest.index[0]\n",
    "\n",
    "print(classification_report(pipeline.predictions[\"GT\"], pipeline.predictions[idx]))\n",
    "print(confusion_matrix(pipeline.predictions[\"GT\"], pipeline.predictions[idx]))\n"
   ],
   "id": "2208e0e25786bb7e",
   "outputs": [
    {
     "name": "stdout",
     "output_type": "stream",
     "text": [
      "              precision    recall  f1-score   support\n",
      "\n",
      "           0       0.85      0.85      0.85      1931\n",
      "           1       0.85      0.85      0.85      1865\n",
      "\n",
      "    accuracy                           0.85      3796\n",
      "   macro avg       0.85      0.85      0.85      3796\n",
      "weighted avg       0.85      0.85      0.85      3796\n",
      "\n",
      "[[1648  283]\n",
      " [ 280 1585]]\n"
     ]
    }
   ],
   "execution_count": 18
  },
  {
   "metadata": {
    "ExecuteTime": {
     "end_time": "2024-11-04T09:11:16.243940300Z",
     "start_time": "2024-11-03T22:55:43.589352Z"
    }
   },
   "cell_type": "code",
   "source": [
    "df_sorted = df.sort_values(\"accuracy\", ascending=False)\n",
    "df_sorted.head(8).index\n",
    "df_sorted"
   ],
   "id": "42a7454eecf3f29d",
   "outputs": [
    {
     "data": {
      "text/plain": [
       "                 accuracy  precision    recall        f1     kappa\n",
       "GT               1.000000   1.000000  1.000000  1.000000  1.000000\n",
       "XGBClassifier0   0.851686   0.851636  0.851655  0.851645  0.703290\n",
       "XGBClassifier1   0.851686   0.851636  0.851655  0.851645  0.703290\n",
       "XGBClassifier3   0.851686   0.851653  0.851618  0.851634  0.703269\n",
       "XGBClassifier4   0.851686   0.851653  0.851618  0.851634  0.703269\n",
       "XGBClassifier5   0.851686   0.851723  0.851545  0.851608  0.703225\n",
       "XGBClassifier9   0.850369   0.850352  0.850278  0.850309  0.700620\n",
       "XGBClassifier2   0.850105   0.850130  0.849973  0.850030  0.700068\n",
       "XGBClassifier8   0.849842   0.849832  0.849742  0.849779  0.699560\n",
       "XGBClassifier6   0.849315   0.849261  0.849315  0.849282  0.698567\n",
       "XGBClassifier7   0.849315   0.849261  0.849315  0.849282  0.698567\n",
       "XGBClassifier10  0.847998   0.847963  0.847929  0.847945  0.695890"
      ],
      "text/html": [
       "<div>\n",
       "<style scoped>\n",
       "    .dataframe tbody tr th:only-of-type {\n",
       "        vertical-align: middle;\n",
       "    }\n",
       "\n",
       "    .dataframe tbody tr th {\n",
       "        vertical-align: top;\n",
       "    }\n",
       "\n",
       "    .dataframe thead th {\n",
       "        text-align: right;\n",
       "    }\n",
       "</style>\n",
       "<table border=\"1\" class=\"dataframe\">\n",
       "  <thead>\n",
       "    <tr style=\"text-align: right;\">\n",
       "      <th></th>\n",
       "      <th>accuracy</th>\n",
       "      <th>precision</th>\n",
       "      <th>recall</th>\n",
       "      <th>f1</th>\n",
       "      <th>kappa</th>\n",
       "    </tr>\n",
       "  </thead>\n",
       "  <tbody>\n",
       "    <tr>\n",
       "      <th>GT</th>\n",
       "      <td>1.000000</td>\n",
       "      <td>1.000000</td>\n",
       "      <td>1.000000</td>\n",
       "      <td>1.000000</td>\n",
       "      <td>1.000000</td>\n",
       "    </tr>\n",
       "    <tr>\n",
       "      <th>XGBClassifier0</th>\n",
       "      <td>0.851686</td>\n",
       "      <td>0.851636</td>\n",
       "      <td>0.851655</td>\n",
       "      <td>0.851645</td>\n",
       "      <td>0.703290</td>\n",
       "    </tr>\n",
       "    <tr>\n",
       "      <th>XGBClassifier1</th>\n",
       "      <td>0.851686</td>\n",
       "      <td>0.851636</td>\n",
       "      <td>0.851655</td>\n",
       "      <td>0.851645</td>\n",
       "      <td>0.703290</td>\n",
       "    </tr>\n",
       "    <tr>\n",
       "      <th>XGBClassifier3</th>\n",
       "      <td>0.851686</td>\n",
       "      <td>0.851653</td>\n",
       "      <td>0.851618</td>\n",
       "      <td>0.851634</td>\n",
       "      <td>0.703269</td>\n",
       "    </tr>\n",
       "    <tr>\n",
       "      <th>XGBClassifier4</th>\n",
       "      <td>0.851686</td>\n",
       "      <td>0.851653</td>\n",
       "      <td>0.851618</td>\n",
       "      <td>0.851634</td>\n",
       "      <td>0.703269</td>\n",
       "    </tr>\n",
       "    <tr>\n",
       "      <th>XGBClassifier5</th>\n",
       "      <td>0.851686</td>\n",
       "      <td>0.851723</td>\n",
       "      <td>0.851545</td>\n",
       "      <td>0.851608</td>\n",
       "      <td>0.703225</td>\n",
       "    </tr>\n",
       "    <tr>\n",
       "      <th>XGBClassifier9</th>\n",
       "      <td>0.850369</td>\n",
       "      <td>0.850352</td>\n",
       "      <td>0.850278</td>\n",
       "      <td>0.850309</td>\n",
       "      <td>0.700620</td>\n",
       "    </tr>\n",
       "    <tr>\n",
       "      <th>XGBClassifier2</th>\n",
       "      <td>0.850105</td>\n",
       "      <td>0.850130</td>\n",
       "      <td>0.849973</td>\n",
       "      <td>0.850030</td>\n",
       "      <td>0.700068</td>\n",
       "    </tr>\n",
       "    <tr>\n",
       "      <th>XGBClassifier8</th>\n",
       "      <td>0.849842</td>\n",
       "      <td>0.849832</td>\n",
       "      <td>0.849742</td>\n",
       "      <td>0.849779</td>\n",
       "      <td>0.699560</td>\n",
       "    </tr>\n",
       "    <tr>\n",
       "      <th>XGBClassifier6</th>\n",
       "      <td>0.849315</td>\n",
       "      <td>0.849261</td>\n",
       "      <td>0.849315</td>\n",
       "      <td>0.849282</td>\n",
       "      <td>0.698567</td>\n",
       "    </tr>\n",
       "    <tr>\n",
       "      <th>XGBClassifier7</th>\n",
       "      <td>0.849315</td>\n",
       "      <td>0.849261</td>\n",
       "      <td>0.849315</td>\n",
       "      <td>0.849282</td>\n",
       "      <td>0.698567</td>\n",
       "    </tr>\n",
       "    <tr>\n",
       "      <th>XGBClassifier10</th>\n",
       "      <td>0.847998</td>\n",
       "      <td>0.847963</td>\n",
       "      <td>0.847929</td>\n",
       "      <td>0.847945</td>\n",
       "      <td>0.695890</td>\n",
       "    </tr>\n",
       "  </tbody>\n",
       "</table>\n",
       "</div>"
      ]
     },
     "execution_count": 19,
     "metadata": {},
     "output_type": "execute_result"
    }
   ],
   "execution_count": 19
  },
  {
   "metadata": {},
   "cell_type": "markdown",
   "source": [
    "___\n",
    "# TEST PREDICTIONS"
   ],
   "id": "995d5c5c87614f1b"
  },
  {
   "metadata": {
    "ExecuteTime": {
     "end_time": "2024-11-04T01:51:41.775679600Z",
     "start_time": "2024-11-04T00:02:31.342426Z"
    }
   },
   "cell_type": "code",
   "source": [
    "from utils.preprocessing import PreprocessMelanoma\n",
    "from utils.loader import balanced_subset\n",
    "import numpy as np\n",
    "import torch\n",
    "import matplotlib.pyplot as plt\n",
    "from torch.utils.data import DataLoader, Subset\n",
    "from torchvision import datasets, transforms\n",
    "\n",
    "class FactoryLoader:\n",
    "    def __init__(self, path: str, batch_size=32,\n",
    "                 factory=None, percentage=100, shuffle=False):\n",
    "\n",
    "        # Define the transformation pipeline\n",
    "        if factory is not None:\n",
    "            transform = transforms.Compose([\n",
    "                transforms.Lambda(lambda img: np.array(img)),  # Convert PIL to NumPy\n",
    "                PreprocessMelanoma(factory),  # Apply the factory-based preprocessing\n",
    "            ])\n",
    "        else:\n",
    "            # Default transformation if no factory is provided\n",
    "            transform = transforms.Compose([\n",
    "                transforms.ToTensor(),  # Convert image to PyTorch tensor\n",
    "            ])\n",
    "\n",
    "        # Load the dataset using the transformation pipeline\n",
    "        self.batch_size = batch_size\n",
    "        self.__factory = factory\n",
    "        self.random = shuffle\n",
    "        dataset = datasets.ImageFolder(path, transform=transform)\n",
    "\n",
    "        # Get the file paths and store them with the images\n",
    "        self.file_paths = [sample[0] for sample in dataset.samples]\n",
    "\n",
    "        # Get a balanced subset of the dataset\n",
    "        subset_indices = balanced_subset(dataset, percentage=percentage)\n",
    "\n",
    "        # Create the Subset with balanced data\n",
    "        self.__dataset = Subset(dataset, subset_indices)\n",
    "\n",
    "        self.__instance = None\n",
    "\n",
    "    def get_loader(self) -> DataLoader:\n",
    "        # Create DataLoader\n",
    "        if self.__instance is None:\n",
    "            self.__instance = DataLoader(dataset=self.__dataset,\n",
    "                                         batch_size=self.batch_size,\n",
    "                                         shuffle=self.random)\n",
    "        return self.__instance\n",
    "\n",
    "    def get_image_with_filename(self, idx):\n",
    "        # Get the image and label at the specified index\n",
    "        image, label = self.__dataset[idx]\n",
    "        filename = self.file_paths[self.__dataset.indices[idx]]  # Map back to the original file path\n",
    "        return image, label, filename\n",
    "\n",
    "    def show_images(self, num_images=8):\n",
    "        # Determine number of rows and columns for the grid\n",
    "        num_columns = 4\n",
    "        num_rows = (num_images + num_columns - 1) // num_columns\n",
    "\n",
    "        loader = self.get_loader()\n",
    "\n",
    "        images_list = []\n",
    "        labels_list = []\n",
    "        filenames_list = []\n",
    "\n",
    "        # Iterate through the DataLoader to collect images, labels, and filenames\n",
    "        for batch_idx, (images, labels) in enumerate(loader):\n",
    "            batch_start = batch_idx * self.batch_size\n",
    "            images = images.permute(0, 2, 3, 1).numpy()\n",
    "\n",
    "            images_list.append(images)\n",
    "            labels_list.append(labels)\n",
    "\n",
    "            # Retrieve filenames for each image in the batch\n",
    "            batch_filenames = [self.file_paths[self.__dataset.indices[batch_start + i]] for i in range(len(images))]\n",
    "            filenames_list.extend(batch_filenames)\n",
    "\n",
    "            if sum(len(imgs) for imgs in images_list) >= num_images:\n",
    "                break\n",
    "\n",
    "        # Concatenate all images and labels into one array for display\n",
    "        all_images = np.concatenate(images_list, axis=0)\n",
    "        all_labels = torch.cat(labels_list, dim=0)\n",
    "        selected_filenames = filenames_list[:num_images]\n",
    "\n",
    "        # Display the images in a grid\n",
    "        fig, axs = plt.subplots(num_rows, num_columns, figsize=(15, 5 * num_rows))\n",
    "        axs = axs.flatten()\n",
    "\n",
    "        for i, (image, label, filename) in enumerate(zip(all_images[:num_images], all_labels[:num_images], selected_filenames)):\n",
    "            axs[i].imshow(np.squeeze(image))\n",
    "            axs[i].set_title(f\"Label: {label.item()}\\nFile: {filename}\")\n",
    "            axs[i].axis('off')\n",
    "\n",
    "        # Hide any unused subplots\n",
    "        for i in range(num_images, len(axs)):\n",
    "            axs[i].axis('off')\n",
    "\n",
    "        plt.tight_layout()\n",
    "        plt.show()"
   ],
   "id": "67bd32278358cb39",
   "outputs": [],
   "execution_count": 38
  },
  {
   "metadata": {
    "ExecuteTime": {
     "end_time": "2024-11-04T01:51:41.775679600Z",
     "start_time": "2024-11-03T23:13:54.695451Z"
    }
   },
   "cell_type": "code",
   "source": [
    "test_loader = FactoryLoader(TEST_PATH, pipeline.batch_size, factory, shuffle=False)\n",
    "\n",
    "# test_loader.show_images(100)\n",
    "\n",
    "test_feature_matrix, _ = pipeline.feature_strategy.run(test_loader.get_loader())"
   ],
   "id": "200530a0ae5b947",
   "outputs": [
    {
     "name": "stdout",
     "output_type": "stream",
     "text": [
      "Processed 5/265 batches.\n",
      "Processed 10/265 batches.\n",
      "Processed 15/265 batches.\n",
      "Processed 20/265 batches.\n",
      "Processed 25/265 batches.\n",
      "Processed 30/265 batches.\n",
      "Processed 35/265 batches.\n",
      "Processed 40/265 batches.\n",
      "Processed 45/265 batches.\n",
      "Processed 50/265 batches.\n",
      "Processed 55/265 batches.\n",
      "Processed 60/265 batches.\n",
      "Processed 65/265 batches.\n",
      "Processed 70/265 batches.\n",
      "Processed 75/265 batches.\n",
      "Processed 80/265 batches.\n",
      "Processed 85/265 batches.\n",
      "Processed 90/265 batches.\n",
      "Processed 95/265 batches.\n",
      "Processed 100/265 batches.\n",
      "Processed 105/265 batches.\n",
      "Processed 110/265 batches.\n",
      "Processed 115/265 batches.\n",
      "Processed 120/265 batches.\n",
      "Processed 125/265 batches.\n",
      "Processed 130/265 batches.\n",
      "Processed 135/265 batches.\n",
      "Processed 140/265 batches.\n",
      "Processed 145/265 batches.\n",
      "Processed 150/265 batches.\n",
      "Processed 155/265 batches.\n",
      "Processed 160/265 batches.\n",
      "Processed 165/265 batches.\n",
      "Processed 170/265 batches.\n",
      "Processed 175/265 batches.\n",
      "Processed 180/265 batches.\n",
      "Processed 185/265 batches.\n",
      "Processed 190/265 batches.\n",
      "Processed 195/265 batches.\n",
      "Processed 200/265 batches.\n",
      "Processed 205/265 batches.\n",
      "Processed 210/265 batches.\n",
      "Processed 215/265 batches.\n",
      "Processed 220/265 batches.\n",
      "Processed 225/265 batches.\n",
      "Processed 230/265 batches.\n",
      "Processed 235/265 batches.\n",
      "Processed 240/265 batches.\n",
      "Processed 245/265 batches.\n",
      "Processed 250/265 batches.\n",
      "Processed 255/265 batches.\n",
      "Processed 260/265 batches.\n",
      "Processed 265/265 batches.\n"
     ]
    }
   ],
   "execution_count": 34
  },
  {
   "metadata": {
    "ExecuteTime": {
     "end_time": "2024-11-04T01:51:41.775679600Z",
     "start_time": "2024-11-04T00:02:42.652597Z"
    }
   },
   "cell_type": "code",
   "source": [
    "test_predictions = pipeline.fitted_classifiers[\"XGBClassifier1\"].predict(test_feature_matrix)\n",
    "test_predictions.shape"
   ],
   "id": "c8ab096fcb5b6ff7",
   "outputs": [
    {
     "data": {
      "text/plain": [
       "(6340,)"
      ]
     },
     "execution_count": 39,
     "metadata": {},
     "output_type": "execute_result"
    }
   ],
   "execution_count": 39
  },
  {
   "metadata": {
    "ExecuteTime": {
     "end_time": "2024-11-04T01:51:41.775679600Z",
     "start_time": "2024-11-04T00:03:00.670870Z"
    }
   },
   "cell_type": "code",
   "source": "np.histogram(test_predictions, 2)",
   "id": "312bea85a4bfb983",
   "outputs": [
    {
     "data": {
      "text/plain": [
       "(array([3204, 3136], dtype=int64), array([0. , 0.5, 1. ]))"
      ]
     },
     "execution_count": 42,
     "metadata": {},
     "output_type": "execute_result"
    }
   ],
   "execution_count": 42
  },
  {
   "metadata": {},
   "cell_type": "code",
   "outputs": [],
   "execution_count": null,
   "source": [
    "result = pd.DataFrame(data=test_predictions.reshape(-1,1), columns=[\"class\"])\n",
    "result.to_excel(\"binary_results001.xlsx\",index=False, header=False)"
   ],
   "id": "6ce8c5bb426499a3"
  },
  {
   "metadata": {},
   "cell_type": "code",
   "outputs": [],
   "execution_count": null,
   "source": "",
   "id": "4995cab48c496c14"
  }
 ],
 "metadata": {
  "kernelspec": {
   "display_name": "Python 3",
   "language": "python",
   "name": "python3"
  },
  "language_info": {
   "codemirror_mode": {
    "name": "ipython",
    "version": 2
   },
   "file_extension": ".py",
   "mimetype": "text/x-python",
   "name": "python",
   "nbconvert_exporter": "python",
   "pygments_lexer": "ipython2",
   "version": "2.7.6"
  }
 },
 "nbformat": 4,
 "nbformat_minor": 5
}

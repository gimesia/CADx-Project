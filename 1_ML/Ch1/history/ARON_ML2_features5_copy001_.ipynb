{
 "cells": [
  {
   "cell_type": "code",
   "id": "initial_id",
   "metadata": {
    "collapsed": true,
    "ExecuteTime": {
     "end_time": "2024-11-03T16:33:20.806521Z",
     "start_time": "2024-11-03T16:33:20.792863Z"
    }
   },
   "source": [
    "from utils.loader import FactoryLoader\n",
    "from utils.ml import MLPipeline\n",
    "from utils.preprocessing import PreprocessingFactory\n",
    "from utils.feature_extraction import *\n",
    "from utils.utils import *\n",
    "\n",
    "VAL_PATH = r\"C:\\Users\\gimes\\Src\\repos\\CADx-Project\\dataset\\binary\\val\"\n",
    "TRAIN_PATH = r\"C:\\Users\\gimes\\Src\\repos\\CADx-Project\\dataset\\binary\\train\""
   ],
   "outputs": [],
   "execution_count": 13
  },
  {
   "metadata": {
    "ExecuteTime": {
     "end_time": "2024-11-03T16:33:20.911369Z",
     "start_time": "2024-11-03T16:33:20.824174Z"
    }
   },
   "cell_type": "code",
   "source": [
    "percent = 100\n",
    "random = False\n",
    "batch_size = 24\n",
    "\n",
    "# Initialize the FactoryLoader\n",
    "factory = PreprocessingFactory()\n",
    "factory.pad2square(fill=np.nan)\n",
    "factory.resize((150,150))\n",
    "factory.normalize2float()\n",
    "\n",
    "# Create the feature extraction pipeline strategy and add desired features\n",
    "strategy = FeatureExtractionStrategy()\n",
    "\n",
    "strategy.add_extractor(GradientExtractor()) # Add gradient feature\n",
    "\n",
    "strategy.add_extractor(ColorMomentsExtractor(\"rgb\", ))   # Add color moments feature\n",
    "strategy.add_extractor(ColorMomentsExtractor(\"lab\", ))   # Add color moments feature\n",
    "strategy.add_extractor(ColorMomentsExtractor(\"hsv\", ))   # Add color moments feature\n",
    "\n",
    "strategy.add_extractor(LBPExtractor(radius=1, n_points=8))\n",
    "strategy.add_extractor(LBPExtractor(radius=2, n_points=16))\n",
    "strategy.add_extractor(LBPExtractor(radius=3, n_points=24))\n",
    "strategy.add_extractor(LBPExtractor(radius=4, n_points=32))\n",
    "strategy.add_extractor(LBPExtractor(radius=5, n_points=40))\n",
    "\n",
    "strategy.add_extractor(FourierTransformExtractor())\n",
    "strategy.add_extractor(FFTExtractor())\n",
    "\n",
    "strategy.add_extractor(GLCMExtractor(properties=['contrast', 'dissimilarity', 'homogeneity', 'energy', 'correlation', \"ASM\"]))\n",
    "\n",
    "pipeline = MLPipeline(dataset_path=TRAIN_PATH, preprocessing_factory=factory, feature_strategy=strategy, classifiers=[], percentage=percent, verbose=True, shuffle=random, batch_size=batch_size)"
   ],
   "id": "d7c81ba220d9e517",
   "outputs": [
    {
     "name": "stderr",
     "output_type": "stream",
     "text": [
      "INFO:utils.ml:MLPipeline initialized with dataset path: C:\\Users\\gimes\\Src\\repos\\CADx-Project\\dataset\\binary\\train\n",
      "INFO:utils.ml:Preprocessing steps\n"
     ]
    }
   ],
   "execution_count": 14
  },
  {
   "metadata": {
    "ExecuteTime": {
     "end_time": "2024-11-03T17:07:53.197839Z",
     "start_time": "2024-11-03T16:33:20.977713Z"
    }
   },
   "cell_type": "code",
   "source": "pipeline.run_feature_extraction()",
   "id": "21f510c52296a049",
   "outputs": [
    {
     "name": "stderr",
     "output_type": "stream",
     "text": [
      "INFO:utils.ml:Running feature extraction...\n"
     ]
    },
    {
     "name": "stdout",
     "output_type": "stream",
     "text": [
      "Processed 5/634 batches.\n",
      "Processed 10/634 batches.\n",
      "Processed 15/634 batches.\n",
      "Processed 20/634 batches.\n",
      "Processed 25/634 batches.\n",
      "Processed 30/634 batches.\n",
      "Processed 35/634 batches.\n",
      "Processed 40/634 batches.\n",
      "Processed 45/634 batches.\n",
      "Processed 50/634 batches.\n",
      "Processed 55/634 batches.\n",
      "Processed 60/634 batches.\n",
      "Processed 65/634 batches.\n",
      "Processed 70/634 batches.\n",
      "Processed 75/634 batches.\n",
      "Processed 80/634 batches.\n",
      "Processed 85/634 batches.\n",
      "Processed 90/634 batches.\n",
      "Processed 95/634 batches.\n",
      "Processed 100/634 batches.\n",
      "Processed 105/634 batches.\n",
      "Processed 110/634 batches.\n",
      "Processed 115/634 batches.\n",
      "Processed 120/634 batches.\n",
      "Processed 125/634 batches.\n",
      "Processed 130/634 batches.\n",
      "Processed 135/634 batches.\n",
      "Processed 140/634 batches.\n",
      "Processed 145/634 batches.\n",
      "Processed 150/634 batches.\n",
      "Processed 155/634 batches.\n",
      "Processed 160/634 batches.\n",
      "Processed 165/634 batches.\n",
      "Processed 170/634 batches.\n",
      "Processed 175/634 batches.\n",
      "Processed 180/634 batches.\n",
      "Processed 185/634 batches.\n",
      "Processed 190/634 batches.\n",
      "Processed 195/634 batches.\n",
      "Processed 200/634 batches.\n",
      "Processed 205/634 batches.\n",
      "Processed 210/634 batches.\n",
      "Processed 215/634 batches.\n",
      "Processed 220/634 batches.\n",
      "Processed 225/634 batches.\n",
      "Processed 230/634 batches.\n",
      "Processed 235/634 batches.\n",
      "Processed 240/634 batches.\n",
      "Processed 245/634 batches.\n",
      "Processed 250/634 batches.\n",
      "Processed 255/634 batches.\n",
      "Processed 260/634 batches.\n",
      "Processed 265/634 batches.\n",
      "Processed 270/634 batches.\n",
      "Processed 275/634 batches.\n",
      "Processed 280/634 batches.\n",
      "Processed 285/634 batches.\n",
      "Processed 290/634 batches.\n",
      "Processed 295/634 batches.\n",
      "Processed 300/634 batches.\n",
      "Processed 305/634 batches.\n",
      "Processed 310/634 batches.\n",
      "Processed 315/634 batches.\n",
      "Processed 320/634 batches.\n",
      "Processed 325/634 batches.\n",
      "Processed 330/634 batches.\n",
      "Processed 335/634 batches.\n",
      "Processed 340/634 batches.\n",
      "Processed 345/634 batches.\n",
      "Processed 350/634 batches.\n",
      "Processed 355/634 batches.\n",
      "Processed 360/634 batches.\n",
      "Processed 365/634 batches.\n",
      "Processed 370/634 batches.\n",
      "Processed 375/634 batches.\n",
      "Processed 380/634 batches.\n",
      "Processed 385/634 batches.\n",
      "Processed 390/634 batches.\n",
      "Processed 395/634 batches.\n",
      "Processed 400/634 batches.\n",
      "Processed 405/634 batches.\n",
      "Processed 410/634 batches.\n",
      "Processed 415/634 batches.\n",
      "Processed 420/634 batches.\n",
      "Processed 425/634 batches.\n",
      "Processed 430/634 batches.\n",
      "Processed 435/634 batches.\n",
      "Processed 440/634 batches.\n",
      "Processed 445/634 batches.\n",
      "Processed 450/634 batches.\n",
      "Processed 455/634 batches.\n",
      "Processed 460/634 batches.\n",
      "Processed 465/634 batches.\n",
      "Processed 470/634 batches.\n",
      "Processed 475/634 batches.\n",
      "Processed 480/634 batches.\n",
      "Processed 485/634 batches.\n",
      "Processed 490/634 batches.\n",
      "Processed 495/634 batches.\n",
      "Processed 500/634 batches.\n",
      "Processed 505/634 batches.\n",
      "Processed 510/634 batches.\n",
      "Processed 515/634 batches.\n",
      "Processed 520/634 batches.\n",
      "Processed 525/634 batches.\n",
      "Processed 530/634 batches.\n",
      "Processed 535/634 batches.\n",
      "Processed 540/634 batches.\n",
      "Processed 545/634 batches.\n",
      "Processed 550/634 batches.\n",
      "Processed 555/634 batches.\n",
      "Processed 560/634 batches.\n",
      "Processed 565/634 batches.\n",
      "Processed 570/634 batches.\n",
      "Processed 575/634 batches.\n",
      "Processed 580/634 batches.\n",
      "Processed 585/634 batches.\n",
      "Processed 590/634 batches.\n",
      "Processed 595/634 batches.\n",
      "Processed 600/634 batches.\n",
      "Processed 605/634 batches.\n",
      "Processed 610/634 batches.\n",
      "Processed 615/634 batches.\n",
      "Processed 620/634 batches.\n",
      "Processed 625/634 batches.\n",
      "Processed 630/634 batches.\n"
     ]
    },
    {
     "name": "stderr",
     "output_type": "stream",
     "text": [
      "INFO:utils.ml:Feature extraction completed. Extracted 15195 features.\n"
     ]
    },
    {
     "name": "stdout",
     "output_type": "stream",
     "text": [
      "Processed 634/634 batches.\n"
     ]
    }
   ],
   "execution_count": 15
  },
  {
   "metadata": {
    "ExecuteTime": {
     "end_time": "2024-11-03T17:08:23.777149Z",
     "start_time": "2024-11-03T17:08:23.743542Z"
    }
   },
   "cell_type": "code",
   "source": [
    "from xgboost import XGBClassifier\n",
    "from sklearn.ensemble import RandomForestClassifier\n",
    "\n",
    "rf0 = RandomForestClassifier(n_estimators=300, max_features='sqrt', random_state=42) # Random Forest with Feature Selection via max_features\n",
    "rf1 = RandomForestClassifier(n_estimators=300, oob_score=True, random_state=42) # Random Forest with Out-of-Bag Error (OOB)\n",
    "rf2 = RandomForestClassifier(n_estimators=300, bootstrap=False, random_state=42) # Random Forest with Bootstrap Disabled\n",
    "rf3 = RandomForestClassifier(n_estimators=400, max_features='sqrt', random_state=42) # Random Forest with Feature Selection via max_features\n",
    "rf4 = RandomForestClassifier(n_estimators=400, oob_score=True, random_state=42) # Random Forest with Out-of-Bag Error (OOB)\n",
    "rf5 = RandomForestClassifier(n_estimators=400, bootstrap=False, random_state=42) # Random Forest with Bootstrap Disabled\n",
    "\n",
    "xgb6 = XGBClassifier(n_estimators=350)\n",
    "xgb7 = XGBClassifier(n_estimators=450)\n",
    "xgb8 = XGBClassifier(n_estimators=550)\n",
    "xgb9 = XGBClassifier(learning_rate=0.1, n_estimators=400, max_depth=7, min_child_weight=3, subsample=0.7, colsample_bytree=0.7)\n",
    "xgb10 = XGBClassifier(learning_rate=0.1, n_estimators=400, max_depth=7, min_child_weight=1, subsample=0.8, colsample_bytree=0.8)\n",
    "xgb11 = XGBClassifier(learning_rate=0.1, n_estimators=500, max_depth=7, min_child_weight=1, subsample=0.8, colsample_bytree=0.8)\n",
    "xgb12 = XGBClassifier(learning_rate=0.1, n_estimators=500, min_child_weight=1, subsample=0.8, colsample_bytree=0.8)\n",
    "xgb13 = XGBClassifier(learning_rate=0.1, n_estimators=750, max_depth=7, min_child_weight=3, subsample=0.7, colsample_bytree=0.7)\n",
    "xgb14 = XGBClassifier(learning_rate=0.1, n_estimators=750, max_depth=7, min_child_weight=1, subsample=0.8, colsample_bytree=0.8)\n",
    "xgb15 = XGBClassifier(learning_rate=0.1, n_estimators=750, max_depth=7, min_child_weight=1, subsample=0.8, colsample_bytree=0.8)\n",
    "xgb16 = XGBClassifier(learning_rate=0.1, n_estimators=750, min_child_weight=1, subsample=0.8, colsample_bytree=0.8)\n",
    "xgb17 = XGBClassifier(learning_rate=0.1, n_estimators=1000, max_depth=7, min_child_weight=3, subsample=0.7, colsample_bytree=0.7)\n",
    "xgb18 = XGBClassifier(learning_rate=0.1, n_estimators=1000, max_depth=7, min_child_weight=1, subsample=0.8, colsample_bytree=0.8)\n",
    "xgb19 = XGBClassifier(learning_rate=0.1, n_estimators=1000, max_depth=7, min_child_weight=1, subsample=0.8, colsample_bytree=0.8)\n",
    "xgb20 = XGBClassifier(learning_rate=0.1, n_estimators=1000, min_child_weight=1, subsample=0.8, colsample_bytree=0.8)\n",
    "\n",
    "\n",
    "\n",
    "pipeline.classifiers = [rf0, rf1, rf2, rf3, rf4, rf5, \n",
    "                        # svm1, svm2, svm3, svm6, svm7, svm8,\n",
    "                       xgb6, xgb7, xgb8, xgb9, xgb10, xgb11, xgb12, xgb13, xgb14, xgb15, xgb16, xgb17, xgb18, xgb19, xgb20 ]\n",
    "pipeline.fitted_classifiers = {}"
   ],
   "id": "74470ba20848a156",
   "outputs": [],
   "execution_count": 16
  },
  {
   "metadata": {
    "ExecuteTime": {
     "end_time": "2024-11-03T17:30:15.109203Z",
     "start_time": "2024-11-03T17:08:23.932140Z"
    }
   },
   "cell_type": "code",
   "source": "pipeline.fit_classifiers()",
   "id": "5269ac4d3392fbae",
   "outputs": [
    {
     "name": "stderr",
     "output_type": "stream",
     "text": [
      "INFO:utils.ml:Fitting classifiers...\n",
      "INFO:utils.ml:Fitting classifier: RandomForestClassifier0\n",
      "INFO:utils.ml:Fitted classifier: RandomForestClassifier0; Done in 204.62164330482483 seconds\n",
      "INFO:utils.ml:Fitting classifier: RandomForestClassifier1\n"
     ]
    },
    {
     "name": "stdout",
     "output_type": "stream",
     "text": [
      "'list' object has no attribute 'shape'\n"
     ]
    },
    {
     "name": "stderr",
     "output_type": "stream",
     "text": [
      "INFO:utils.ml:Fitted classifier: RandomForestClassifier1; Done in 113.71495866775513 seconds\n",
      "INFO:utils.ml:Fitting classifier: RandomForestClassifier2\n"
     ]
    },
    {
     "name": "stdout",
     "output_type": "stream",
     "text": [
      "'list' object has no attribute 'shape'\n"
     ]
    },
    {
     "name": "stderr",
     "output_type": "stream",
     "text": [
      "INFO:utils.ml:Fitted classifier: RandomForestClassifier2; Done in 166.26029920578003 seconds\n",
      "INFO:utils.ml:Fitting classifier: RandomForestClassifier3\n"
     ]
    },
    {
     "name": "stdout",
     "output_type": "stream",
     "text": [
      "'list' object has no attribute 'shape'\n"
     ]
    },
    {
     "name": "stderr",
     "output_type": "stream",
     "text": [
      "INFO:utils.ml:Fitted classifier: RandomForestClassifier3; Done in 127.64370369911194 seconds\n",
      "INFO:utils.ml:Fitting classifier: RandomForestClassifier4\n"
     ]
    },
    {
     "name": "stdout",
     "output_type": "stream",
     "text": [
      "'list' object has no attribute 'shape'\n"
     ]
    },
    {
     "name": "stderr",
     "output_type": "stream",
     "text": [
      "INFO:utils.ml:Fitted classifier: RandomForestClassifier4; Done in 100.69202733039856 seconds\n",
      "INFO:utils.ml:Fitting classifier: RandomForestClassifier5\n"
     ]
    },
    {
     "name": "stdout",
     "output_type": "stream",
     "text": [
      "'list' object has no attribute 'shape'\n"
     ]
    },
    {
     "name": "stderr",
     "output_type": "stream",
     "text": [
      "INFO:utils.ml:Fitted classifier: RandomForestClassifier5; Done in 145.78676342964172 seconds\n",
      "INFO:utils.ml:Fitting classifier: XGBClassifier6\n"
     ]
    },
    {
     "name": "stdout",
     "output_type": "stream",
     "text": [
      "'list' object has no attribute 'shape'\n"
     ]
    },
    {
     "name": "stderr",
     "output_type": "stream",
     "text": [
      "INFO:utils.ml:Fitted classifier: XGBClassifier6; Done in 8.699527978897095 seconds\n",
      "INFO:utils.ml:Fitting classifier: XGBClassifier7\n"
     ]
    },
    {
     "name": "stdout",
     "output_type": "stream",
     "text": [
      "'list' object has no attribute 'shape'\n"
     ]
    },
    {
     "name": "stderr",
     "output_type": "stream",
     "text": [
      "INFO:utils.ml:Fitted classifier: XGBClassifier7; Done in 11.516716957092285 seconds\n",
      "INFO:utils.ml:Fitting classifier: XGBClassifier8\n"
     ]
    },
    {
     "name": "stdout",
     "output_type": "stream",
     "text": [
      "'list' object has no attribute 'shape'\n"
     ]
    },
    {
     "name": "stderr",
     "output_type": "stream",
     "text": [
      "INFO:utils.ml:Fitted classifier: XGBClassifier8; Done in 12.620513200759888 seconds\n",
      "INFO:utils.ml:Fitting classifier: XGBClassifier9\n"
     ]
    },
    {
     "name": "stdout",
     "output_type": "stream",
     "text": [
      "'list' object has no attribute 'shape'\n"
     ]
    },
    {
     "name": "stderr",
     "output_type": "stream",
     "text": [
      "INFO:utils.ml:Fitted classifier: XGBClassifier9; Done in 10.934649229049683 seconds\n",
      "INFO:utils.ml:Fitting classifier: XGBClassifier10\n"
     ]
    },
    {
     "name": "stdout",
     "output_type": "stream",
     "text": [
      "'list' object has no attribute 'shape'\n"
     ]
    },
    {
     "name": "stderr",
     "output_type": "stream",
     "text": [
      "INFO:utils.ml:Fitted classifier: XGBClassifier10; Done in 19.445727109909058 seconds\n",
      "INFO:utils.ml:Fitting classifier: XGBClassifier11\n"
     ]
    },
    {
     "name": "stdout",
     "output_type": "stream",
     "text": [
      "'list' object has no attribute 'shape'\n"
     ]
    },
    {
     "name": "stderr",
     "output_type": "stream",
     "text": [
      "INFO:utils.ml:Fitted classifier: XGBClassifier11; Done in 27.083513975143433 seconds\n",
      "INFO:utils.ml:Fitting classifier: XGBClassifier12\n"
     ]
    },
    {
     "name": "stdout",
     "output_type": "stream",
     "text": [
      "'list' object has no attribute 'shape'\n"
     ]
    },
    {
     "name": "stderr",
     "output_type": "stream",
     "text": [
      "INFO:utils.ml:Fitted classifier: XGBClassifier12; Done in 19.808674335479736 seconds\n",
      "INFO:utils.ml:Fitting classifier: XGBClassifier13\n"
     ]
    },
    {
     "name": "stdout",
     "output_type": "stream",
     "text": [
      "'list' object has no attribute 'shape'\n"
     ]
    },
    {
     "name": "stderr",
     "output_type": "stream",
     "text": [
      "INFO:utils.ml:Fitted classifier: XGBClassifier13; Done in 33.68590760231018 seconds\n",
      "INFO:utils.ml:Fitting classifier: XGBClassifier14\n"
     ]
    },
    {
     "name": "stdout",
     "output_type": "stream",
     "text": [
      "'list' object has no attribute 'shape'\n"
     ]
    },
    {
     "name": "stderr",
     "output_type": "stream",
     "text": [
      "INFO:utils.ml:Fitted classifier: XGBClassifier14; Done in 36.000807762145996 seconds\n",
      "INFO:utils.ml:Fitting classifier: XGBClassifier15\n"
     ]
    },
    {
     "name": "stdout",
     "output_type": "stream",
     "text": [
      "'list' object has no attribute 'shape'\n"
     ]
    },
    {
     "name": "stderr",
     "output_type": "stream",
     "text": [
      "INFO:utils.ml:Fitted classifier: XGBClassifier15; Done in 36.819148778915405 seconds\n",
      "INFO:utils.ml:Fitting classifier: XGBClassifier16\n"
     ]
    },
    {
     "name": "stdout",
     "output_type": "stream",
     "text": [
      "'list' object has no attribute 'shape'\n"
     ]
    },
    {
     "name": "stderr",
     "output_type": "stream",
     "text": [
      "INFO:utils.ml:Fitted classifier: XGBClassifier16; Done in 29.47183632850647 seconds\n",
      "INFO:utils.ml:Fitting classifier: XGBClassifier17\n"
     ]
    },
    {
     "name": "stdout",
     "output_type": "stream",
     "text": [
      "'list' object has no attribute 'shape'\n"
     ]
    },
    {
     "name": "stderr",
     "output_type": "stream",
     "text": [
      "INFO:utils.ml:Fitted classifier: XGBClassifier17; Done in 48.48767924308777 seconds\n",
      "INFO:utils.ml:Fitting classifier: XGBClassifier18\n"
     ]
    },
    {
     "name": "stdout",
     "output_type": "stream",
     "text": [
      "'list' object has no attribute 'shape'\n"
     ]
    },
    {
     "name": "stderr",
     "output_type": "stream",
     "text": [
      "INFO:utils.ml:Fitted classifier: XGBClassifier18; Done in 60.61571669578552 seconds\n",
      "INFO:utils.ml:Fitting classifier: XGBClassifier19\n"
     ]
    },
    {
     "name": "stdout",
     "output_type": "stream",
     "text": [
      "'list' object has no attribute 'shape'\n"
     ]
    },
    {
     "name": "stderr",
     "output_type": "stream",
     "text": [
      "INFO:utils.ml:Fitted classifier: XGBClassifier19; Done in 53.38835954666138 seconds\n",
      "INFO:utils.ml:Fitting classifier: XGBClassifier20\n"
     ]
    },
    {
     "name": "stdout",
     "output_type": "stream",
     "text": [
      "'list' object has no attribute 'shape'\n"
     ]
    },
    {
     "name": "stderr",
     "output_type": "stream",
     "text": [
      "INFO:utils.ml:Fitted classifier: XGBClassifier20; Done in 43.862207889556885 seconds\n",
      "INFO:utils.ml:Fitting completed in 1311.16 seconds.\n"
     ]
    },
    {
     "name": "stdout",
     "output_type": "stream",
     "text": [
      "'list' object has no attribute 'shape'\n"
     ]
    }
   ],
   "execution_count": 17
  },
  {
   "metadata": {
    "ExecuteTime": {
     "end_time": "2024-11-03T17:41:36.577627Z",
     "start_time": "2024-11-03T17:30:15.141050Z"
    }
   },
   "cell_type": "code",
   "source": "pipeline.predict_with_classifiers(VAL_PATH, percent)",
   "id": "f71e18a07f5ee7bb",
   "outputs": [
    {
     "name": "stderr",
     "output_type": "stream",
     "text": [
      "INFO:utils.ml:Predicting with classifiers on dataset: C:\\Users\\gimes\\Src\\repos\\CADx-Project\\dataset\\binary\\val\n"
     ]
    },
    {
     "name": "stdout",
     "output_type": "stream",
     "text": [
      "Processed 5/159 batches.\n",
      "Processed 10/159 batches.\n",
      "Processed 15/159 batches.\n",
      "Processed 20/159 batches.\n",
      "Processed 25/159 batches.\n",
      "Processed 30/159 batches.\n",
      "Processed 35/159 batches.\n",
      "Processed 40/159 batches.\n",
      "Processed 45/159 batches.\n",
      "Processed 50/159 batches.\n",
      "Processed 55/159 batches.\n",
      "Processed 60/159 batches.\n",
      "Processed 65/159 batches.\n",
      "Processed 70/159 batches.\n",
      "Processed 75/159 batches.\n",
      "Processed 80/159 batches.\n",
      "Processed 85/159 batches.\n",
      "Processed 90/159 batches.\n",
      "Processed 95/159 batches.\n",
      "Processed 100/159 batches.\n",
      "Processed 105/159 batches.\n",
      "Processed 110/159 batches.\n",
      "Processed 115/159 batches.\n",
      "Processed 120/159 batches.\n",
      "Processed 125/159 batches.\n",
      "Processed 130/159 batches.\n",
      "Processed 135/159 batches.\n",
      "Processed 140/159 batches.\n",
      "Processed 145/159 batches.\n",
      "Processed 150/159 batches.\n",
      "Processed 155/159 batches.\n",
      "Processed 159/159 batches.\n"
     ]
    },
    {
     "name": "stderr",
     "output_type": "stream",
     "text": [
      "INFO:utils.ml:Predictions made with classifier: RandomForestClassifier0\n",
      "INFO:utils.ml:Predictions made with classifier: RandomForestClassifier1\n",
      "INFO:utils.ml:Predictions made with classifier: RandomForestClassifier2\n",
      "INFO:utils.ml:Predictions made with classifier: RandomForestClassifier3\n",
      "INFO:utils.ml:Predictions made with classifier: RandomForestClassifier4\n",
      "INFO:utils.ml:Predictions made with classifier: RandomForestClassifier5\n",
      "INFO:utils.ml:Predictions made with classifier: XGBClassifier6\n",
      "INFO:utils.ml:Predictions made with classifier: XGBClassifier7\n",
      "INFO:utils.ml:Predictions made with classifier: XGBClassifier8\n",
      "INFO:utils.ml:Predictions made with classifier: XGBClassifier9\n",
      "INFO:utils.ml:Predictions made with classifier: XGBClassifier10\n",
      "INFO:utils.ml:Predictions made with classifier: XGBClassifier11\n",
      "INFO:utils.ml:Predictions made with classifier: XGBClassifier12\n",
      "INFO:utils.ml:Predictions made with classifier: XGBClassifier13\n",
      "INFO:utils.ml:Predictions made with classifier: XGBClassifier14\n",
      "INFO:utils.ml:Predictions made with classifier: XGBClassifier15\n",
      "INFO:utils.ml:Predictions made with classifier: XGBClassifier16\n",
      "INFO:utils.ml:Predictions made with classifier: XGBClassifier17\n",
      "INFO:utils.ml:Predictions made with classifier: XGBClassifier18\n",
      "INFO:utils.ml:Predictions made with classifier: XGBClassifier19\n",
      "INFO:utils.ml:Predictions made with classifier: XGBClassifier20\n"
     ]
    },
    {
     "data": {
      "text/plain": [
       "{'GT': array([0, 0, 0, ..., 1, 1, 1]),\n",
       " 'RandomForestClassifier0': array([0, 0, 0, ..., 0, 0, 1]),\n",
       " 'RandomForestClassifier1': array([0, 0, 0, ..., 0, 0, 1]),\n",
       " 'RandomForestClassifier2': array([0, 0, 0, ..., 0, 0, 1]),\n",
       " 'RandomForestClassifier3': array([0, 0, 0, ..., 0, 0, 1]),\n",
       " 'RandomForestClassifier4': array([0, 0, 0, ..., 0, 0, 1]),\n",
       " 'RandomForestClassifier5': array([0, 0, 0, ..., 0, 0, 1]),\n",
       " 'XGBClassifier6': array([0, 0, 0, ..., 1, 0, 1]),\n",
       " 'XGBClassifier7': array([0, 0, 0, ..., 1, 0, 1]),\n",
       " 'XGBClassifier8': array([0, 0, 0, ..., 1, 0, 1]),\n",
       " 'XGBClassifier9': array([0, 0, 0, ..., 1, 0, 1]),\n",
       " 'XGBClassifier10': array([0, 0, 0, ..., 1, 0, 1]),\n",
       " 'XGBClassifier11': array([0, 0, 0, ..., 1, 0, 1]),\n",
       " 'XGBClassifier12': array([0, 0, 0, ..., 0, 0, 1]),\n",
       " 'XGBClassifier13': array([0, 0, 0, ..., 0, 0, 1]),\n",
       " 'XGBClassifier14': array([0, 0, 0, ..., 1, 0, 1]),\n",
       " 'XGBClassifier15': array([0, 0, 0, ..., 1, 0, 1]),\n",
       " 'XGBClassifier16': array([0, 0, 0, ..., 0, 0, 1]),\n",
       " 'XGBClassifier17': array([0, 0, 0, ..., 0, 0, 1]),\n",
       " 'XGBClassifier18': array([0, 0, 0, ..., 1, 0, 1]),\n",
       " 'XGBClassifier19': array([0, 0, 0, ..., 1, 0, 1]),\n",
       " 'XGBClassifier20': array([0, 0, 0, ..., 0, 0, 1])}"
      ]
     },
     "execution_count": 18,
     "metadata": {},
     "output_type": "execute_result"
    }
   ],
   "execution_count": 18
  },
  {
   "metadata": {
    "ExecuteTime": {
     "end_time": "2024-11-03T17:41:36.876065Z",
     "start_time": "2024-11-03T17:41:36.617134Z"
    }
   },
   "cell_type": "code",
   "source": [
    "import pandas as pd\n",
    "\n",
    "df = pd.DataFrame(data=pipeline.calculate_metrics())\n",
    "df = df.T\n",
    "df"
   ],
   "id": "751fad2660242db5",
   "outputs": [
    {
     "name": "stderr",
     "output_type": "stream",
     "text": [
      "INFO:utils.ml:Metrics for classifier GT: {'accuracy': 1.0, 'precision': 1.0, 'recall': 1.0, 'f1': 1.0, 'kappa': 1.0}\n",
      "INFO:utils.ml:Metrics for classifier RandomForestClassifier0: {'accuracy': 0.8256059009483667, 'precision': 0.8255902805264714, 'recall': 0.8254890227597419, 'f1': 0.8255284097662633, 'kappa': 0.6510615679118253}\n",
      "INFO:utils.ml:Metrics for classifier RandomForestClassifier1: {'accuracy': 0.8256059009483667, 'precision': 0.8255902805264714, 'recall': 0.8254890227597419, 'f1': 0.8255284097662633, 'kappa': 0.6510615679118253}\n",
      "INFO:utils.ml:Metrics for classifier RandomForestClassifier2: {'accuracy': 0.8379873551106428, 'precision': 0.8379542457739994, 'recall': 0.8379062925625779, 'f1': 0.8379274170252231, 'kappa': 0.67585593671239}\n",
      "INFO:utils.ml:Metrics for classifier RandomForestClassifier3: {'accuracy': 0.8269230769230769, 'precision': 0.8269123079914447, 'recall': 0.8268020153749394, 'f1': 0.8268442354764318, 'kappa': 0.6536938808382535}\n",
      "INFO:utils.ml:Metrics for classifier RandomForestClassifier4: {'accuracy': 0.8269230769230769, 'precision': 0.8269123079914447, 'recall': 0.8268020153749394, 'f1': 0.8268442354764318, 'kappa': 0.6536938808382535}\n",
      "INFO:utils.ml:Metrics for classifier RandomForestClassifier5: {'accuracy': 0.8356164383561644, 'precision': 0.8356156925424785, 'recall': 0.8354934239298701, 'f1': 0.8355396957777647, 'kappa': 0.6710852377549685}\n",
      "INFO:utils.ml:Metrics for classifier XGBClassifier6: {'accuracy': 0.8308746048472075, 'precision': 0.830862217185458, 'recall': 0.8307593198595513, 'f1': 0.8307994547884305, 'kappa': 0.661603514500592}\n",
      "INFO:utils.ml:Metrics for classifier XGBClassifier7: {'accuracy': 0.8319283456269758, 'precision': 0.8319088073783343, 'recall': 0.8318225425990229, 'f1': 0.8318573527659743, 'kappa': 0.6637180675266509}\n",
      "INFO:utils.ml:Metrics for classifier XGBClassifier8: {'accuracy': 0.8314014752370916, 'precision': 0.8313894108513566, 'recall': 0.8312863495695322, 'f1': 0.8313265592906474, 'kappa': 0.6626577091594685}\n",
      "INFO:utils.ml:Metrics for classifier XGBClassifier9: {'accuracy': 0.8408851422550052, 'precision': 0.8409579282198516, 'recall': 0.8407087411126214, 'f1': 0.8407875128986069, 'kappa': 0.6815923603853026}\n",
      "INFO:utils.ml:Metrics for classifier XGBClassifier10: {'accuracy': 0.8414120126448894, 'precision': 0.841356729549481, 'recall': 0.8414007105737765, 'f1': 0.8413749808069442, 'kappa': 0.6827513709958881}\n",
      "INFO:utils.ml:Metrics for classifier XGBClassifier11: {'accuracy': 0.8440463645943098, 'precision': 0.843996096737611, 'recall': 0.8440725124017199, 'f1': 0.8440193026834795, 'kappa': 0.688044148509527}\n",
      "INFO:utils.ml:Metrics for classifier XGBClassifier12: {'accuracy': 0.8361433087460485, 'precision': 0.8361341538444444, 'recall': 0.8360296169593606, 'f1': 0.8360704998105979, 'kappa': 0.6721454610893586}\n",
      "INFO:utils.ml:Metrics for classifier XGBClassifier13: {'accuracy': 0.839304531085353, 'precision': 0.8394723490613901, 'recall': 0.8390726720656205, 'f1': 0.8391791298743331, 'kappa': 0.6783939977694413}\n",
      "INFO:utils.ml:Metrics for classifier XGBClassifier14: {'accuracy': 0.8424657534246576, 'precision': 0.8424222739493676, 'recall': 0.8425097499107965, 'f1': 0.8424426166926948, 'kappa': 0.6848939817738879}\n",
      "INFO:utils.ml:Metrics for classifier XGBClassifier15: {'accuracy': 0.8424657534246576, 'precision': 0.8424222739493676, 'recall': 0.8425097499107965, 'f1': 0.8424426166926948, 'kappa': 0.6848939817738879}\n",
      "INFO:utils.ml:Metrics for classifier XGBClassifier16: {'accuracy': 0.8395679662802951, 'precision': 0.8395746108785123, 'recall': 0.8394415650949723, 'f1': 0.8394912296817123, 'kappa': 0.6789889006580289}\n",
      "INFO:utils.ml:Metrics for classifier XGBClassifier17: {'accuracy': 0.8387776606954689, 'precision': 0.8389267360563835, 'recall': 0.8385548056751493, 'f1': 0.8386565547128928, 'kappa': 0.6773454672018058}\n",
      "INFO:utils.ml:Metrics for classifier XGBClassifier18: {'accuracy': 0.8432560590094836, 'precision': 0.8432044818549282, 'recall': 0.8432773861769937, 'f1': 0.8432277609206349, 'kappa': 0.6864604185118037}\n",
      "INFO:utils.ml:Metrics for classifier XGBClassifier19: {'accuracy': 0.8432560590094836, 'precision': 0.8432044818549282, 'recall': 0.8432773861769937, 'f1': 0.8432277609206349, 'kappa': 0.6864604185118037}\n",
      "INFO:utils.ml:Metrics for classifier XGBClassifier20: {'accuracy': 0.8424657534246576, 'precision': 0.8424521418439559, 'recall': 0.8423631367986416, 'f1': 0.8423992115267283, 'kappa': 0.6848015742647919}\n"
     ]
    },
    {
     "data": {
      "text/plain": [
       "                         accuracy  precision    recall        f1     kappa\n",
       "GT                       1.000000   1.000000  1.000000  1.000000  1.000000\n",
       "RandomForestClassifier0  0.825606   0.825590  0.825489  0.825528  0.651062\n",
       "RandomForestClassifier1  0.825606   0.825590  0.825489  0.825528  0.651062\n",
       "RandomForestClassifier2  0.837987   0.837954  0.837906  0.837927  0.675856\n",
       "RandomForestClassifier3  0.826923   0.826912  0.826802  0.826844  0.653694\n",
       "RandomForestClassifier4  0.826923   0.826912  0.826802  0.826844  0.653694\n",
       "RandomForestClassifier5  0.835616   0.835616  0.835493  0.835540  0.671085\n",
       "XGBClassifier6           0.830875   0.830862  0.830759  0.830799  0.661604\n",
       "XGBClassifier7           0.831928   0.831909  0.831823  0.831857  0.663718\n",
       "XGBClassifier8           0.831401   0.831389  0.831286  0.831327  0.662658\n",
       "XGBClassifier9           0.840885   0.840958  0.840709  0.840788  0.681592\n",
       "XGBClassifier10          0.841412   0.841357  0.841401  0.841375  0.682751\n",
       "XGBClassifier11          0.844046   0.843996  0.844073  0.844019  0.688044\n",
       "XGBClassifier12          0.836143   0.836134  0.836030  0.836070  0.672145\n",
       "XGBClassifier13          0.839305   0.839472  0.839073  0.839179  0.678394\n",
       "XGBClassifier14          0.842466   0.842422  0.842510  0.842443  0.684894\n",
       "XGBClassifier15          0.842466   0.842422  0.842510  0.842443  0.684894\n",
       "XGBClassifier16          0.839568   0.839575  0.839442  0.839491  0.678989\n",
       "XGBClassifier17          0.838778   0.838927  0.838555  0.838657  0.677345\n",
       "XGBClassifier18          0.843256   0.843204  0.843277  0.843228  0.686460\n",
       "XGBClassifier19          0.843256   0.843204  0.843277  0.843228  0.686460\n",
       "XGBClassifier20          0.842466   0.842452  0.842363  0.842399  0.684802"
      ],
      "text/html": [
       "<div>\n",
       "<style scoped>\n",
       "    .dataframe tbody tr th:only-of-type {\n",
       "        vertical-align: middle;\n",
       "    }\n",
       "\n",
       "    .dataframe tbody tr th {\n",
       "        vertical-align: top;\n",
       "    }\n",
       "\n",
       "    .dataframe thead th {\n",
       "        text-align: right;\n",
       "    }\n",
       "</style>\n",
       "<table border=\"1\" class=\"dataframe\">\n",
       "  <thead>\n",
       "    <tr style=\"text-align: right;\">\n",
       "      <th></th>\n",
       "      <th>accuracy</th>\n",
       "      <th>precision</th>\n",
       "      <th>recall</th>\n",
       "      <th>f1</th>\n",
       "      <th>kappa</th>\n",
       "    </tr>\n",
       "  </thead>\n",
       "  <tbody>\n",
       "    <tr>\n",
       "      <th>GT</th>\n",
       "      <td>1.000000</td>\n",
       "      <td>1.000000</td>\n",
       "      <td>1.000000</td>\n",
       "      <td>1.000000</td>\n",
       "      <td>1.000000</td>\n",
       "    </tr>\n",
       "    <tr>\n",
       "      <th>RandomForestClassifier0</th>\n",
       "      <td>0.825606</td>\n",
       "      <td>0.825590</td>\n",
       "      <td>0.825489</td>\n",
       "      <td>0.825528</td>\n",
       "      <td>0.651062</td>\n",
       "    </tr>\n",
       "    <tr>\n",
       "      <th>RandomForestClassifier1</th>\n",
       "      <td>0.825606</td>\n",
       "      <td>0.825590</td>\n",
       "      <td>0.825489</td>\n",
       "      <td>0.825528</td>\n",
       "      <td>0.651062</td>\n",
       "    </tr>\n",
       "    <tr>\n",
       "      <th>RandomForestClassifier2</th>\n",
       "      <td>0.837987</td>\n",
       "      <td>0.837954</td>\n",
       "      <td>0.837906</td>\n",
       "      <td>0.837927</td>\n",
       "      <td>0.675856</td>\n",
       "    </tr>\n",
       "    <tr>\n",
       "      <th>RandomForestClassifier3</th>\n",
       "      <td>0.826923</td>\n",
       "      <td>0.826912</td>\n",
       "      <td>0.826802</td>\n",
       "      <td>0.826844</td>\n",
       "      <td>0.653694</td>\n",
       "    </tr>\n",
       "    <tr>\n",
       "      <th>RandomForestClassifier4</th>\n",
       "      <td>0.826923</td>\n",
       "      <td>0.826912</td>\n",
       "      <td>0.826802</td>\n",
       "      <td>0.826844</td>\n",
       "      <td>0.653694</td>\n",
       "    </tr>\n",
       "    <tr>\n",
       "      <th>RandomForestClassifier5</th>\n",
       "      <td>0.835616</td>\n",
       "      <td>0.835616</td>\n",
       "      <td>0.835493</td>\n",
       "      <td>0.835540</td>\n",
       "      <td>0.671085</td>\n",
       "    </tr>\n",
       "    <tr>\n",
       "      <th>XGBClassifier6</th>\n",
       "      <td>0.830875</td>\n",
       "      <td>0.830862</td>\n",
       "      <td>0.830759</td>\n",
       "      <td>0.830799</td>\n",
       "      <td>0.661604</td>\n",
       "    </tr>\n",
       "    <tr>\n",
       "      <th>XGBClassifier7</th>\n",
       "      <td>0.831928</td>\n",
       "      <td>0.831909</td>\n",
       "      <td>0.831823</td>\n",
       "      <td>0.831857</td>\n",
       "      <td>0.663718</td>\n",
       "    </tr>\n",
       "    <tr>\n",
       "      <th>XGBClassifier8</th>\n",
       "      <td>0.831401</td>\n",
       "      <td>0.831389</td>\n",
       "      <td>0.831286</td>\n",
       "      <td>0.831327</td>\n",
       "      <td>0.662658</td>\n",
       "    </tr>\n",
       "    <tr>\n",
       "      <th>XGBClassifier9</th>\n",
       "      <td>0.840885</td>\n",
       "      <td>0.840958</td>\n",
       "      <td>0.840709</td>\n",
       "      <td>0.840788</td>\n",
       "      <td>0.681592</td>\n",
       "    </tr>\n",
       "    <tr>\n",
       "      <th>XGBClassifier10</th>\n",
       "      <td>0.841412</td>\n",
       "      <td>0.841357</td>\n",
       "      <td>0.841401</td>\n",
       "      <td>0.841375</td>\n",
       "      <td>0.682751</td>\n",
       "    </tr>\n",
       "    <tr>\n",
       "      <th>XGBClassifier11</th>\n",
       "      <td>0.844046</td>\n",
       "      <td>0.843996</td>\n",
       "      <td>0.844073</td>\n",
       "      <td>0.844019</td>\n",
       "      <td>0.688044</td>\n",
       "    </tr>\n",
       "    <tr>\n",
       "      <th>XGBClassifier12</th>\n",
       "      <td>0.836143</td>\n",
       "      <td>0.836134</td>\n",
       "      <td>0.836030</td>\n",
       "      <td>0.836070</td>\n",
       "      <td>0.672145</td>\n",
       "    </tr>\n",
       "    <tr>\n",
       "      <th>XGBClassifier13</th>\n",
       "      <td>0.839305</td>\n",
       "      <td>0.839472</td>\n",
       "      <td>0.839073</td>\n",
       "      <td>0.839179</td>\n",
       "      <td>0.678394</td>\n",
       "    </tr>\n",
       "    <tr>\n",
       "      <th>XGBClassifier14</th>\n",
       "      <td>0.842466</td>\n",
       "      <td>0.842422</td>\n",
       "      <td>0.842510</td>\n",
       "      <td>0.842443</td>\n",
       "      <td>0.684894</td>\n",
       "    </tr>\n",
       "    <tr>\n",
       "      <th>XGBClassifier15</th>\n",
       "      <td>0.842466</td>\n",
       "      <td>0.842422</td>\n",
       "      <td>0.842510</td>\n",
       "      <td>0.842443</td>\n",
       "      <td>0.684894</td>\n",
       "    </tr>\n",
       "    <tr>\n",
       "      <th>XGBClassifier16</th>\n",
       "      <td>0.839568</td>\n",
       "      <td>0.839575</td>\n",
       "      <td>0.839442</td>\n",
       "      <td>0.839491</td>\n",
       "      <td>0.678989</td>\n",
       "    </tr>\n",
       "    <tr>\n",
       "      <th>XGBClassifier17</th>\n",
       "      <td>0.838778</td>\n",
       "      <td>0.838927</td>\n",
       "      <td>0.838555</td>\n",
       "      <td>0.838657</td>\n",
       "      <td>0.677345</td>\n",
       "    </tr>\n",
       "    <tr>\n",
       "      <th>XGBClassifier18</th>\n",
       "      <td>0.843256</td>\n",
       "      <td>0.843204</td>\n",
       "      <td>0.843277</td>\n",
       "      <td>0.843228</td>\n",
       "      <td>0.686460</td>\n",
       "    </tr>\n",
       "    <tr>\n",
       "      <th>XGBClassifier19</th>\n",
       "      <td>0.843256</td>\n",
       "      <td>0.843204</td>\n",
       "      <td>0.843277</td>\n",
       "      <td>0.843228</td>\n",
       "      <td>0.686460</td>\n",
       "    </tr>\n",
       "    <tr>\n",
       "      <th>XGBClassifier20</th>\n",
       "      <td>0.842466</td>\n",
       "      <td>0.842452</td>\n",
       "      <td>0.842363</td>\n",
       "      <td>0.842399</td>\n",
       "      <td>0.684802</td>\n",
       "    </tr>\n",
       "  </tbody>\n",
       "</table>\n",
       "</div>"
      ]
     },
     "execution_count": 19,
     "metadata": {},
     "output_type": "execute_result"
    }
   ],
   "execution_count": 19
  },
  {
   "metadata": {
    "ExecuteTime": {
     "end_time": "2024-11-03T17:41:39.905400Z",
     "start_time": "2024-11-03T17:41:39.875770Z"
    }
   },
   "cell_type": "code",
   "source": [
    "from sklearn.metrics import confusion_matrix, accuracy_score, classification_report\n",
    "\n",
    "highest = df[df[\"accuracy\"] == df.iloc[1:][\"accuracy\"].max()]\n",
    "idx = highest.index[0]\n",
    "\n",
    "print(classification_report(pipeline.predictions[\"GT\"], pipeline.predictions[idx]))\n",
    "print(confusion_matrix(pipeline.predictions[\"GT\"], pipeline.predictions[idx]))\n"
   ],
   "id": "2776a669db40df3e",
   "outputs": [
    {
     "name": "stdout",
     "output_type": "stream",
     "text": [
      "              precision    recall  f1-score   support\n",
      "\n",
      "           0       0.85      0.84      0.85      1931\n",
      "           1       0.84      0.85      0.84      1865\n",
      "\n",
      "    accuracy                           0.84      3796\n",
      "   macro avg       0.84      0.84      0.84      3796\n",
      "weighted avg       0.84      0.84      0.84      3796\n",
      "\n",
      "[[1627  304]\n",
      " [ 288 1577]]\n"
     ]
    }
   ],
   "execution_count": 20
  },
  {
   "metadata": {
    "ExecuteTime": {
     "end_time": "2024-11-03T17:41:39.966396Z",
     "start_time": "2024-11-03T17:41:39.957184Z"
    }
   },
   "cell_type": "code",
   "source": "pipeline.predictions[idx]",
   "id": "d3c2f555e571c6ae",
   "outputs": [
    {
     "data": {
      "text/plain": [
       "array([0, 0, 0, ..., 1, 0, 1])"
      ]
     },
     "execution_count": 21,
     "metadata": {},
     "output_type": "execute_result"
    }
   ],
   "execution_count": 21
  },
  {
   "metadata": {
    "ExecuteTime": {
     "end_time": "2024-11-03T17:41:39.997213Z",
     "start_time": "2024-11-03T17:41:39.977406Z"
    }
   },
   "cell_type": "code",
   "source": [
    "df_sorted = df.sort_values(\"accuracy\", ascending=False)\n",
    "df_sorted"
   ],
   "id": "1dd6cb4cec36b6e2",
   "outputs": [
    {
     "data": {
      "text/plain": [
       "                         accuracy  precision    recall        f1     kappa\n",
       "GT                       1.000000   1.000000  1.000000  1.000000  1.000000\n",
       "XGBClassifier11          0.844046   0.843996  0.844073  0.844019  0.688044\n",
       "XGBClassifier19          0.843256   0.843204  0.843277  0.843228  0.686460\n",
       "XGBClassifier18          0.843256   0.843204  0.843277  0.843228  0.686460\n",
       "XGBClassifier15          0.842466   0.842422  0.842510  0.842443  0.684894\n",
       "XGBClassifier14          0.842466   0.842422  0.842510  0.842443  0.684894\n",
       "XGBClassifier20          0.842466   0.842452  0.842363  0.842399  0.684802\n",
       "XGBClassifier10          0.841412   0.841357  0.841401  0.841375  0.682751\n",
       "XGBClassifier9           0.840885   0.840958  0.840709  0.840788  0.681592\n",
       "XGBClassifier16          0.839568   0.839575  0.839442  0.839491  0.678989\n",
       "XGBClassifier13          0.839305   0.839472  0.839073  0.839179  0.678394\n",
       "XGBClassifier17          0.838778   0.838927  0.838555  0.838657  0.677345\n",
       "RandomForestClassifier2  0.837987   0.837954  0.837906  0.837927  0.675856\n",
       "XGBClassifier12          0.836143   0.836134  0.836030  0.836070  0.672145\n",
       "RandomForestClassifier5  0.835616   0.835616  0.835493  0.835540  0.671085\n",
       "XGBClassifier7           0.831928   0.831909  0.831823  0.831857  0.663718\n",
       "XGBClassifier8           0.831401   0.831389  0.831286  0.831327  0.662658\n",
       "XGBClassifier6           0.830875   0.830862  0.830759  0.830799  0.661604\n",
       "RandomForestClassifier4  0.826923   0.826912  0.826802  0.826844  0.653694\n",
       "RandomForestClassifier3  0.826923   0.826912  0.826802  0.826844  0.653694\n",
       "RandomForestClassifier0  0.825606   0.825590  0.825489  0.825528  0.651062\n",
       "RandomForestClassifier1  0.825606   0.825590  0.825489  0.825528  0.651062"
      ],
      "text/html": [
       "<div>\n",
       "<style scoped>\n",
       "    .dataframe tbody tr th:only-of-type {\n",
       "        vertical-align: middle;\n",
       "    }\n",
       "\n",
       "    .dataframe tbody tr th {\n",
       "        vertical-align: top;\n",
       "    }\n",
       "\n",
       "    .dataframe thead th {\n",
       "        text-align: right;\n",
       "    }\n",
       "</style>\n",
       "<table border=\"1\" class=\"dataframe\">\n",
       "  <thead>\n",
       "    <tr style=\"text-align: right;\">\n",
       "      <th></th>\n",
       "      <th>accuracy</th>\n",
       "      <th>precision</th>\n",
       "      <th>recall</th>\n",
       "      <th>f1</th>\n",
       "      <th>kappa</th>\n",
       "    </tr>\n",
       "  </thead>\n",
       "  <tbody>\n",
       "    <tr>\n",
       "      <th>GT</th>\n",
       "      <td>1.000000</td>\n",
       "      <td>1.000000</td>\n",
       "      <td>1.000000</td>\n",
       "      <td>1.000000</td>\n",
       "      <td>1.000000</td>\n",
       "    </tr>\n",
       "    <tr>\n",
       "      <th>XGBClassifier11</th>\n",
       "      <td>0.844046</td>\n",
       "      <td>0.843996</td>\n",
       "      <td>0.844073</td>\n",
       "      <td>0.844019</td>\n",
       "      <td>0.688044</td>\n",
       "    </tr>\n",
       "    <tr>\n",
       "      <th>XGBClassifier19</th>\n",
       "      <td>0.843256</td>\n",
       "      <td>0.843204</td>\n",
       "      <td>0.843277</td>\n",
       "      <td>0.843228</td>\n",
       "      <td>0.686460</td>\n",
       "    </tr>\n",
       "    <tr>\n",
       "      <th>XGBClassifier18</th>\n",
       "      <td>0.843256</td>\n",
       "      <td>0.843204</td>\n",
       "      <td>0.843277</td>\n",
       "      <td>0.843228</td>\n",
       "      <td>0.686460</td>\n",
       "    </tr>\n",
       "    <tr>\n",
       "      <th>XGBClassifier15</th>\n",
       "      <td>0.842466</td>\n",
       "      <td>0.842422</td>\n",
       "      <td>0.842510</td>\n",
       "      <td>0.842443</td>\n",
       "      <td>0.684894</td>\n",
       "    </tr>\n",
       "    <tr>\n",
       "      <th>XGBClassifier14</th>\n",
       "      <td>0.842466</td>\n",
       "      <td>0.842422</td>\n",
       "      <td>0.842510</td>\n",
       "      <td>0.842443</td>\n",
       "      <td>0.684894</td>\n",
       "    </tr>\n",
       "    <tr>\n",
       "      <th>XGBClassifier20</th>\n",
       "      <td>0.842466</td>\n",
       "      <td>0.842452</td>\n",
       "      <td>0.842363</td>\n",
       "      <td>0.842399</td>\n",
       "      <td>0.684802</td>\n",
       "    </tr>\n",
       "    <tr>\n",
       "      <th>XGBClassifier10</th>\n",
       "      <td>0.841412</td>\n",
       "      <td>0.841357</td>\n",
       "      <td>0.841401</td>\n",
       "      <td>0.841375</td>\n",
       "      <td>0.682751</td>\n",
       "    </tr>\n",
       "    <tr>\n",
       "      <th>XGBClassifier9</th>\n",
       "      <td>0.840885</td>\n",
       "      <td>0.840958</td>\n",
       "      <td>0.840709</td>\n",
       "      <td>0.840788</td>\n",
       "      <td>0.681592</td>\n",
       "    </tr>\n",
       "    <tr>\n",
       "      <th>XGBClassifier16</th>\n",
       "      <td>0.839568</td>\n",
       "      <td>0.839575</td>\n",
       "      <td>0.839442</td>\n",
       "      <td>0.839491</td>\n",
       "      <td>0.678989</td>\n",
       "    </tr>\n",
       "    <tr>\n",
       "      <th>XGBClassifier13</th>\n",
       "      <td>0.839305</td>\n",
       "      <td>0.839472</td>\n",
       "      <td>0.839073</td>\n",
       "      <td>0.839179</td>\n",
       "      <td>0.678394</td>\n",
       "    </tr>\n",
       "    <tr>\n",
       "      <th>XGBClassifier17</th>\n",
       "      <td>0.838778</td>\n",
       "      <td>0.838927</td>\n",
       "      <td>0.838555</td>\n",
       "      <td>0.838657</td>\n",
       "      <td>0.677345</td>\n",
       "    </tr>\n",
       "    <tr>\n",
       "      <th>RandomForestClassifier2</th>\n",
       "      <td>0.837987</td>\n",
       "      <td>0.837954</td>\n",
       "      <td>0.837906</td>\n",
       "      <td>0.837927</td>\n",
       "      <td>0.675856</td>\n",
       "    </tr>\n",
       "    <tr>\n",
       "      <th>XGBClassifier12</th>\n",
       "      <td>0.836143</td>\n",
       "      <td>0.836134</td>\n",
       "      <td>0.836030</td>\n",
       "      <td>0.836070</td>\n",
       "      <td>0.672145</td>\n",
       "    </tr>\n",
       "    <tr>\n",
       "      <th>RandomForestClassifier5</th>\n",
       "      <td>0.835616</td>\n",
       "      <td>0.835616</td>\n",
       "      <td>0.835493</td>\n",
       "      <td>0.835540</td>\n",
       "      <td>0.671085</td>\n",
       "    </tr>\n",
       "    <tr>\n",
       "      <th>XGBClassifier7</th>\n",
       "      <td>0.831928</td>\n",
       "      <td>0.831909</td>\n",
       "      <td>0.831823</td>\n",
       "      <td>0.831857</td>\n",
       "      <td>0.663718</td>\n",
       "    </tr>\n",
       "    <tr>\n",
       "      <th>XGBClassifier8</th>\n",
       "      <td>0.831401</td>\n",
       "      <td>0.831389</td>\n",
       "      <td>0.831286</td>\n",
       "      <td>0.831327</td>\n",
       "      <td>0.662658</td>\n",
       "    </tr>\n",
       "    <tr>\n",
       "      <th>XGBClassifier6</th>\n",
       "      <td>0.830875</td>\n",
       "      <td>0.830862</td>\n",
       "      <td>0.830759</td>\n",
       "      <td>0.830799</td>\n",
       "      <td>0.661604</td>\n",
       "    </tr>\n",
       "    <tr>\n",
       "      <th>RandomForestClassifier4</th>\n",
       "      <td>0.826923</td>\n",
       "      <td>0.826912</td>\n",
       "      <td>0.826802</td>\n",
       "      <td>0.826844</td>\n",
       "      <td>0.653694</td>\n",
       "    </tr>\n",
       "    <tr>\n",
       "      <th>RandomForestClassifier3</th>\n",
       "      <td>0.826923</td>\n",
       "      <td>0.826912</td>\n",
       "      <td>0.826802</td>\n",
       "      <td>0.826844</td>\n",
       "      <td>0.653694</td>\n",
       "    </tr>\n",
       "    <tr>\n",
       "      <th>RandomForestClassifier0</th>\n",
       "      <td>0.825606</td>\n",
       "      <td>0.825590</td>\n",
       "      <td>0.825489</td>\n",
       "      <td>0.825528</td>\n",
       "      <td>0.651062</td>\n",
       "    </tr>\n",
       "    <tr>\n",
       "      <th>RandomForestClassifier1</th>\n",
       "      <td>0.825606</td>\n",
       "      <td>0.825590</td>\n",
       "      <td>0.825489</td>\n",
       "      <td>0.825528</td>\n",
       "      <td>0.651062</td>\n",
       "    </tr>\n",
       "  </tbody>\n",
       "</table>\n",
       "</div>"
      ]
     },
     "execution_count": 22,
     "metadata": {},
     "output_type": "execute_result"
    }
   ],
   "execution_count": 22
  },
  {
   "metadata": {
    "ExecuteTime": {
     "end_time": "2024-11-03T17:41:40.075110Z",
     "start_time": "2024-11-03T17:41:40.071562Z"
    }
   },
   "cell_type": "code",
   "source": "",
   "id": "968a84f72c3049b5",
   "outputs": [],
   "execution_count": null
  }
 ],
 "metadata": {
  "kernelspec": {
   "display_name": "Python 3",
   "language": "python",
   "name": "python3"
  },
  "language_info": {
   "codemirror_mode": {
    "name": "ipython",
    "version": 2
   },
   "file_extension": ".py",
   "mimetype": "text/x-python",
   "name": "python",
   "nbconvert_exporter": "python",
   "pygments_lexer": "ipython2",
   "version": "2.7.6"
  }
 },
 "nbformat": 4,
 "nbformat_minor": 5
}

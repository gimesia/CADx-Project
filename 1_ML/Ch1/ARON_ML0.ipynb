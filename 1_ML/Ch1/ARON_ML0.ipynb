{
 "cells": [
  {
   "metadata": {
    "ExecuteTime": {
     "end_time": "2024-10-24T14:34:49.601789Z",
     "start_time": "2024-10-24T14:34:47.079491Z"
    }
   },
   "cell_type": "code",
   "source": [
    "from sklearn.ensemble import RandomForestClassifier\n",
    "\n",
    "from utils.loader import FactoryLoader\n",
    "from utils.ml import MLPipeline\n",
    "from utils.preprocessing import PreprocessingFactory\n",
    "from utils.feature_extraction import *\n",
    "from utils.utils import *"
   ],
   "id": "9e58cd8c8d4f5996",
   "outputs": [],
   "execution_count": 1
  },
  {
   "metadata": {
    "ExecuteTime": {
     "end_time": "2024-10-24T14:34:49.617976Z",
     "start_time": "2024-10-24T14:34:49.613813Z"
    }
   },
   "cell_type": "code",
   "source": [
    "VAL_PATH = r\"C:\\Users\\gimes\\Src\\repos\\CADx-Project\\dataset\\binary\\val\"\n",
    "TRAIN_PATH = r\"C:\\Users\\gimes\\Src\\repos\\CADx-Project\\dataset\\binary\\train\""
   ],
   "id": "29cc767b8cd3df5",
   "outputs": [],
   "execution_count": 2
  },
  {
   "cell_type": "code",
   "id": "initial_id",
   "metadata": {
    "collapsed": true,
    "ExecuteTime": {
     "end_time": "2024-10-24T14:34:49.635831Z",
     "start_time": "2024-10-24T14:34:49.630983Z"
    }
   },
   "source": [
    "# # Initialize the FactoryLoader\n",
    "# factory = PreprocessingFactory()\n",
    "# # factory.hair_removal()\n",
    "# factory.normalize2float()\n",
    "# factory.pad2square(fill=np.nan)\n",
    "# factory.resize((200,200))\n",
    "# factory_loader = FactoryLoader(path=VAL_PATH, batch_size=24, factory=factory, percentage=20)\n",
    "# \n",
    "# # Create the feature extraction pipeline strategy and add desired features\n",
    "# strategy = FeatureExtractionStrategy()\n",
    "# strategy.add_extractor(MeanExtractor())  # Add mean feature\n",
    "# strategy.add_extractor(StdExtractor())   # Add standard deviation feature\n",
    "# strategy.add_extractor(VarExtractor())   # Add variance feature\n",
    "# strategy.add_extractor(MaxExtractor())   # Add maximum pixel value feature\n",
    "# \n",
    "# # Extract features using the pipeline\n",
    "# # feature_matrix = extract_features(factory_loader.get_loader(), strategy)\n",
    "# \n",
    "# print(\"Feature matrix shape:\", feature_matrix.shape)  # Shape: (num_images, num_features)\n",
    "# print(\"Example feature vector for one image:\", feature_matrix[0])\n",
    "# print(\"Example feature dict for one image:\", strategy.get_feature_names())"
   ],
   "outputs": [],
   "execution_count": 3
  },
  {
   "metadata": {
    "ExecuteTime": {
     "end_time": "2024-10-24T14:34:49.650606Z",
     "start_time": "2024-10-24T14:34:49.646839Z"
    }
   },
   "cell_type": "code",
   "source": "",
   "id": "58a7a07ed628e2bf",
   "outputs": [],
   "execution_count": null
  },
  {
   "metadata": {},
   "cell_type": "markdown",
   "source": [
    "___\n",
    "\n",
    "# With logger"
   ],
   "id": "3cdbe56684d00c88"
  },
  {
   "metadata": {
    "ExecuteTime": {
     "end_time": "2024-10-24T14:37:46.251541Z",
     "start_time": "2024-10-24T14:37:46.237762Z"
    }
   },
   "cell_type": "code",
   "source": "",
   "id": "787df8e778217054",
   "outputs": [],
   "execution_count": 11
  },
  {
   "metadata": {
    "ExecuteTime": {
     "end_time": "2024-10-24T14:43:06.228041Z",
     "start_time": "2024-10-24T14:43:05.499916Z"
    }
   },
   "cell_type": "code",
   "source": [
    "from sklearn.svm import SVC\n",
    "from sklearn.ensemble import RandomForestClassifier \n",
    "\n",
    "\n",
    "percent = 2\n",
    "\n",
    "# Initialize the FactoryLoader\n",
    "factory = PreprocessingFactory()\n",
    "# factory.hair_removal()\n",
    "factory.normalize2float()\n",
    "factory.pad2square(fill=0)\n",
    "factory.resize((200,200))\n",
    "factory_loader = FactoryLoader(path=VAL_PATH, batch_size=24, factory=factory, percentage=percent, shuffle=True)\n",
    "\n",
    "# Create the feature extraction pipeline strategy and add desired features\n",
    "strategy = FeatureExtractionStrategy()\n",
    "strategy.add_extractor(MeanExtractor())  # Add mean feature\n",
    "strategy.add_extractor(StdExtractor())   # Add standard deviation feature\n",
    "strategy.add_extractor(VarExtractor())   # Add variance feature\n",
    "strategy.add_extractor(MaxExtractor())   # Add maximum pixel value feature\n",
    "\n",
    "# Create classifiers\n",
    "svm = SVC(C=1., kernel='linear', gamma=\"scale\", probability=False, random_state=42, tol=0.0001)\n",
    "rf = RandomForestClassifier(n_estimators=12)\n",
    "\n",
    "pipeline = MLPipeline(dataset_path=TRAIN_PATH, preprocessing_factory=factory, feature_strategy=strategy, classifiers=[svm, rf], percentage=10, verbose=True, shuffle=True)"
   ],
   "id": "fa8f9222998a005",
   "outputs": [
    {
     "name": "stderr",
     "output_type": "stream",
     "text": [
      "INFO:__main__:MLPipeline initialized with dataset path: C:\\Users\\gimes\\Src\\repos\\CADx-Project\\dataset\\binary\\train\n",
      "INFO:__main__:Preprocessing steps\n"
     ]
    }
   ],
   "execution_count": 20
  },
  {
   "metadata": {
    "ExecuteTime": {
     "end_time": "2024-10-24T14:44:00.838038Z",
     "start_time": "2024-10-24T14:43:06.371513Z"
    }
   },
   "cell_type": "code",
   "source": "pipeline.run_feature_extraction()",
   "id": "a2627150a7998987",
   "outputs": [
    {
     "name": "stderr",
     "output_type": "stream",
     "text": [
      "INFO:__main__:Running feature extraction...\n",
      "INFO:__main__:Feature extraction completed. Extracted 1519 features.\n"
     ]
    }
   ],
   "execution_count": 21
  },
  {
   "metadata": {
    "ExecuteTime": {
     "end_time": "2024-10-24T14:44:57.399219Z",
     "start_time": "2024-10-24T14:44:57.395429Z"
    }
   },
   "cell_type": "code",
   "source": [
    "print(\"Preprocessing steps\")\n",
    "print(pipeline.loader.get_transformation_steps())\n",
    "print(\"\\nFeature names\")\n",
    "print(pipeline.get_feature_names())"
   ],
   "id": "16534097a16cd53",
   "outputs": [
    {
     "name": "stdout",
     "output_type": "stream",
     "text": [
      "Preprocessing steps\n",
      "{'01_norm': {}, 'pad2square': {'fill': 0}, 'resize': {'size': (200, 200)}}\n",
      "\n",
      "Feature names\n",
      "['mean_channel_0', 'mean_channel_1', 'mean_channel_2', 'std_channel_0', 'std_channel_1', 'std_channel_2', 'var_channel_0', 'var_channel_1', 'var_channel_2', 'max_channel_0', 'max_channel_1', 'max_channel_2']\n"
     ]
    }
   ],
   "execution_count": 25
  },
  {
   "metadata": {
    "ExecuteTime": {
     "end_time": "2024-10-24T14:44:59.907917Z",
     "start_time": "2024-10-24T14:44:59.889687Z"
    }
   },
   "cell_type": "code",
   "source": "pipeline.feature_matrix",
   "id": "4b5f22725d798a5d",
   "outputs": [
    {
     "data": {
      "text/plain": [
       "array([[0.5252485 , 0.35609394, 0.2570804 , ..., 1.        , 0.9104314 ,\n",
       "        0.8444204 ],\n",
       "       [0.6843221 , 0.45394096, 0.49159136, ..., 0.9843137 , 0.77254903,\n",
       "        0.827451  ],\n",
       "       [0.63147455, 0.5096835 , 0.45047495, ..., 0.75151056, 0.6609412 ,\n",
       "        0.63774747],\n",
       "       ...,\n",
       "       [0.4831145 , 0.43564323, 0.45877856, ..., 0.79607844, 0.74509805,\n",
       "        0.80784315],\n",
       "       [0.36791363, 0.30910826, 0.34987226, ..., 0.78039217, 0.77254903,\n",
       "        0.79607844],\n",
       "       [0.4339162 , 0.57684594, 0.6866498 , ..., 0.55209255, 0.78304315,\n",
       "        0.96735686]], dtype=float32)"
      ]
     },
     "execution_count": 26,
     "metadata": {},
     "output_type": "execute_result"
    }
   ],
   "execution_count": 26
  },
  {
   "metadata": {
    "ExecuteTime": {
     "end_time": "2024-10-24T14:45:02.378574Z",
     "start_time": "2024-10-24T14:45:02.138415Z"
    }
   },
   "cell_type": "code",
   "source": "pipeline.fit_classifiers()",
   "id": "8e2dc9297107645e",
   "outputs": [
    {
     "name": "stderr",
     "output_type": "stream",
     "text": [
      "INFO:__main__:Fitting classifiers...\n",
      "INFO:__main__:Fitted classifier: SVC\n"
     ]
    },
    {
     "name": "stdout",
     "output_type": "stream",
     "text": [
      "[1 0 1 ... 0 1 0]\n"
     ]
    },
    {
     "name": "stderr",
     "output_type": "stream",
     "text": [
      "INFO:__main__:Fitted classifier: RandomForestClassifier\n",
      "INFO:__main__:All classifiers have been fitted.\n"
     ]
    },
    {
     "name": "stdout",
     "output_type": "stream",
     "text": [
      "[1 0 1 ... 0 1 0]\n"
     ]
    }
   ],
   "execution_count": 27
  },
  {
   "metadata": {
    "ExecuteTime": {
     "end_time": "2024-10-24T14:46:47.126865Z",
     "start_time": "2024-10-24T14:46:47.115889Z"
    }
   },
   "cell_type": "code",
   "source": "pipeline.fitted_classifiers",
   "id": "fa9ba097c7002661",
   "outputs": [
    {
     "data": {
      "text/plain": [
       "{'SVC': SVC(kernel='linear', random_state=42, tol=0.0001),\n",
       " 'RandomForestClassifier': RandomForestClassifier(n_estimators=12)}"
      ]
     },
     "execution_count": 30,
     "metadata": {},
     "output_type": "execute_result"
    }
   ],
   "execution_count": 30
  },
  {
   "metadata": {
    "ExecuteTime": {
     "end_time": "2024-10-24T14:45:09.352193Z",
     "start_time": "2024-10-24T14:45:08.209028Z"
    }
   },
   "cell_type": "code",
   "source": "predictions = pipeline.predict_with_classifiers(new_dataset_path=VAL_PATH, percentage=percent)\n",
   "id": "3af4c805018373d4",
   "outputs": [
    {
     "name": "stderr",
     "output_type": "stream",
     "text": [
      "INFO:__main__:Predicting with classifiers on dataset: C:\\Users\\gimes\\Src\\repos\\CADx-Project\\dataset\\binary\\val\n",
      "INFO:__main__:Predictions made with classifier: SVC\n",
      "INFO:__main__:Predictions made with classifier: RandomForestClassifier\n"
     ]
    }
   ],
   "execution_count": 28
  },
  {
   "metadata": {
    "ExecuteTime": {
     "end_time": "2024-10-24T14:45:10.853378Z",
     "start_time": "2024-10-24T14:45:10.843352Z"
    }
   },
   "cell_type": "code",
   "source": "predictions",
   "id": "2e6ea96f858ab4f",
   "outputs": [
    {
     "data": {
      "text/plain": [
       "{'SVC': array([1, 0, 1, 0, 0, 0, 0, 0, 0, 0, 0, 1, 1, 0, 1, 0, 1, 1, 0, 1, 0, 1,\n",
       "        1, 1, 0, 0, 1, 0, 0, 1, 0, 0, 0, 1, 0, 0, 1, 0, 0, 1, 0, 0, 1, 0,\n",
       "        1, 0, 0, 1, 0, 0, 0, 1, 0, 0, 0, 0, 0, 0, 0, 1, 1, 1, 0, 0, 0, 0,\n",
       "        0, 1, 0, 1, 0, 0, 0, 0, 0], dtype=int64),\n",
       " 'RandomForestClassifier': array([0, 0, 0, 1, 0, 0, 0, 0, 0, 0, 0, 0, 1, 0, 0, 0, 1, 0, 0, 1, 0, 1,\n",
       "        1, 1, 0, 1, 0, 0, 0, 1, 1, 0, 0, 0, 1, 0, 0, 0, 0, 1, 0, 0, 1, 0,\n",
       "        1, 0, 0, 0, 0, 0, 0, 1, 0, 0, 0, 0, 0, 0, 0, 0, 1, 1, 0, 0, 0, 0,\n",
       "        1, 0, 0, 1, 0, 0, 0, 0, 1], dtype=int64)}"
      ]
     },
     "execution_count": 29,
     "metadata": {},
     "output_type": "execute_result"
    }
   ],
   "execution_count": 29
  },
  {
   "metadata": {
    "ExecuteTime": {
     "end_time": "2024-10-24T14:38:58.561425Z",
     "start_time": "2024-10-24T14:38:58.542489Z"
    }
   },
   "cell_type": "code",
   "source": "",
   "id": "477ca9cb0d964223",
   "outputs": [],
   "execution_count": null
  },
  {
   "metadata": {},
   "cell_type": "code",
   "outputs": [],
   "execution_count": null,
   "source": "",
   "id": "ae8bfc2e9b992972"
  }
 ],
 "metadata": {
  "kernelspec": {
   "display_name": "Python 3",
   "language": "python",
   "name": "python3"
  },
  "language_info": {
   "codemirror_mode": {
    "name": "ipython",
    "version": 2
   },
   "file_extension": ".py",
   "mimetype": "text/x-python",
   "name": "python",
   "nbconvert_exporter": "python",
   "pygments_lexer": "ipython2",
   "version": "2.7.6"
  }
 },
 "nbformat": 4,
 "nbformat_minor": 5
}

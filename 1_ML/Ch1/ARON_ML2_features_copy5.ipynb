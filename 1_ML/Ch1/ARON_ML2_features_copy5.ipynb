{
 "cells": [
  {
   "cell_type": "code",
   "id": "initial_id",
   "metadata": {
    "collapsed": true,
    "ExecuteTime": {
     "end_time": "2024-10-30T18:59:10.458663Z",
     "start_time": "2024-10-30T18:59:04.664953Z"
    }
   },
   "source": [
    "from utils.loader import FactoryLoader\n",
    "from utils.ml import MLPipeline\n",
    "from utils.preprocessing import PreprocessingFactory\n",
    "from utils.feature_extraction import *\n",
    "from utils.utils import *\n",
    "\n",
    "VAL_PATH = r\"C:\\Users\\gimes\\Src\\repos\\CADx-Project\\dataset\\binary\\val\"\n",
    "TRAIN_PATH = r\"C:\\Users\\gimes\\Src\\repos\\CADx-Project\\dataset\\binary\\train\""
   ],
   "outputs": [],
   "execution_count": 1
  },
  {
   "metadata": {
    "ExecuteTime": {
     "end_time": "2024-10-30T18:59:10.606858Z",
     "start_time": "2024-10-30T18:59:10.462678Z"
    }
   },
   "cell_type": "code",
   "source": [
    "percent = 100\n",
    "random = False\n",
    "\n",
    "# Initialize the FactoryLoader\n",
    "factory = PreprocessingFactory()\n",
    "factory.gaussian_smoothing(5)\n",
    "factory.clahe(clip_limit=1.5)\n",
    "factory.pad2square(fill=0)\n",
    "factory.resize((125,125))\n",
    "factory.normalize2float()\n",
    "\n",
    "factory_loader = FactoryLoader(path=VAL_PATH, batch_size=32, factory=factory, percentage=percent, shuffle=random)\n",
    "\n",
    "# Create the feature extraction pipeline strategy and add desired features\n",
    "strategy = FeatureExtractionStrategy()\n",
    "\n",
    "strategy.add_extractor(MeanExtractor())  # Add mean feature\n",
    "strategy.add_extractor(StdExtractor())   # Add standard deviation feature\n",
    "strategy.add_extractor(VarExtractor())   # Add variance feature\n",
    "\n",
    "strategy.add_extractor(MeanExtractor(\"lab\"))  # Add mean feature\n",
    "strategy.add_extractor(StdExtractor(\"lab\"))   # Add standard deviation feature\n",
    "strategy.add_extractor(VarExtractor(\"lab\"))   # Add variance feature\n",
    "\n",
    "strategy.add_extractor(MeanExtractor(\"hsv\"))  # Add mean feature\n",
    "strategy.add_extractor(StdExtractor(\"hsv\"))   # Add standard deviation feature\n",
    "strategy.add_extractor(VarExtractor(\"hsv\"))   # Add variance feature\n",
    "\n",
    "strategy.add_extractor(LBPExtractor(radius=1, n_points=8))\n",
    "strategy.add_extractor(LBPExtractor(radius=2, n_points=8))\n",
    "strategy.add_extractor(LBPExtractor(radius=1, n_points=16))\n",
    "strategy.add_extractor(LBPExtractor(radius=2, n_points=16))\n",
    "\n",
    "strategy.add_extractor(GLCMExtractor(properties=['contrast', 'dissimilarity', 'homogeneity', 'energy', 'correlation',]))\n",
    "\n",
    "pipeline = MLPipeline(dataset_path=TRAIN_PATH, preprocessing_factory=factory, feature_strategy=strategy, classifiers=[], percentage=percent, verbose=True, shuffle=random)"
   ],
   "id": "d7c81ba220d9e517",
   "outputs": [
    {
     "name": "stderr",
     "output_type": "stream",
     "text": [
      "INFO:utils.ml:MLPipeline initialized with dataset path: C:\\Users\\gimes\\Src\\repos\\CADx-Project\\dataset\\binary\\train\n",
      "INFO:utils.ml:Preprocessing steps\n"
     ]
    }
   ],
   "execution_count": 2
  },
  {
   "metadata": {
    "ExecuteTime": {
     "end_time": "2024-10-30T19:10:15.806371Z",
     "start_time": "2024-10-30T18:59:10.714092Z"
    }
   },
   "cell_type": "code",
   "source": "pipeline.run_feature_extraction()",
   "id": "21f510c52296a049",
   "outputs": [
    {
     "name": "stderr",
     "output_type": "stream",
     "text": [
      "INFO:utils.ml:Running feature extraction...\n"
     ]
    },
    {
     "name": "stdout",
     "output_type": "stream",
     "text": [
      "Processed 5/634 batches.\n",
      "Processed 10/634 batches.\n",
      "Processed 15/634 batches.\n",
      "Processed 20/634 batches.\n",
      "Processed 25/634 batches.\n",
      "Processed 30/634 batches.\n",
      "Processed 35/634 batches.\n",
      "Processed 40/634 batches.\n",
      "Processed 45/634 batches.\n",
      "Processed 50/634 batches.\n",
      "Processed 55/634 batches.\n",
      "Processed 60/634 batches.\n",
      "Processed 65/634 batches.\n",
      "Processed 70/634 batches.\n",
      "Processed 75/634 batches.\n",
      "Processed 80/634 batches.\n",
      "Processed 85/634 batches.\n",
      "Processed 90/634 batches.\n",
      "Processed 95/634 batches.\n",
      "Processed 100/634 batches.\n",
      "Processed 105/634 batches.\n",
      "Processed 110/634 batches.\n",
      "Processed 115/634 batches.\n",
      "Processed 120/634 batches.\n",
      "Processed 125/634 batches.\n",
      "Processed 130/634 batches.\n",
      "Processed 135/634 batches.\n",
      "Processed 140/634 batches.\n",
      "Processed 145/634 batches.\n",
      "Processed 150/634 batches.\n",
      "Processed 155/634 batches.\n",
      "Processed 160/634 batches.\n",
      "Processed 165/634 batches.\n",
      "Processed 170/634 batches.\n",
      "Processed 175/634 batches.\n",
      "Processed 180/634 batches.\n",
      "Processed 185/634 batches.\n",
      "Processed 190/634 batches.\n",
      "Processed 195/634 batches.\n",
      "Processed 200/634 batches.\n",
      "Processed 205/634 batches.\n",
      "Processed 210/634 batches.\n",
      "Processed 215/634 batches.\n",
      "Processed 220/634 batches.\n",
      "Processed 225/634 batches.\n",
      "Processed 230/634 batches.\n",
      "Processed 235/634 batches.\n",
      "Processed 240/634 batches.\n",
      "Processed 245/634 batches.\n",
      "Processed 250/634 batches.\n",
      "Processed 255/634 batches.\n",
      "Processed 260/634 batches.\n",
      "Processed 265/634 batches.\n",
      "Processed 270/634 batches.\n",
      "Processed 275/634 batches.\n",
      "Processed 280/634 batches.\n",
      "Processed 285/634 batches.\n",
      "Processed 290/634 batches.\n",
      "Processed 295/634 batches.\n",
      "Processed 300/634 batches.\n",
      "Processed 305/634 batches.\n",
      "Processed 310/634 batches.\n",
      "Processed 315/634 batches.\n",
      "Processed 320/634 batches.\n",
      "Processed 325/634 batches.\n",
      "Processed 330/634 batches.\n",
      "Processed 335/634 batches.\n",
      "Processed 340/634 batches.\n",
      "Processed 345/634 batches.\n",
      "Processed 350/634 batches.\n",
      "Processed 355/634 batches.\n",
      "Processed 360/634 batches.\n",
      "Processed 365/634 batches.\n",
      "Processed 370/634 batches.\n",
      "Processed 375/634 batches.\n",
      "Processed 380/634 batches.\n",
      "Processed 385/634 batches.\n",
      "Processed 390/634 batches.\n",
      "Processed 395/634 batches.\n",
      "Processed 400/634 batches.\n",
      "Processed 405/634 batches.\n",
      "Processed 410/634 batches.\n",
      "Processed 415/634 batches.\n",
      "Processed 420/634 batches.\n",
      "Processed 425/634 batches.\n",
      "Processed 430/634 batches.\n",
      "Processed 435/634 batches.\n",
      "Processed 440/634 batches.\n",
      "Processed 445/634 batches.\n",
      "Processed 450/634 batches.\n",
      "Processed 455/634 batches.\n",
      "Processed 460/634 batches.\n",
      "Processed 465/634 batches.\n",
      "Processed 470/634 batches.\n",
      "Processed 475/634 batches.\n",
      "Processed 480/634 batches.\n",
      "Processed 485/634 batches.\n",
      "Processed 490/634 batches.\n",
      "Processed 495/634 batches.\n",
      "Processed 500/634 batches.\n",
      "Processed 505/634 batches.\n",
      "Processed 510/634 batches.\n",
      "Processed 515/634 batches.\n",
      "Processed 520/634 batches.\n",
      "Processed 525/634 batches.\n",
      "Processed 530/634 batches.\n",
      "Processed 535/634 batches.\n",
      "Processed 540/634 batches.\n",
      "Processed 545/634 batches.\n",
      "Processed 550/634 batches.\n",
      "Processed 555/634 batches.\n",
      "Processed 560/634 batches.\n",
      "Processed 565/634 batches.\n",
      "Processed 570/634 batches.\n",
      "Processed 575/634 batches.\n",
      "Processed 580/634 batches.\n",
      "Processed 585/634 batches.\n",
      "Processed 590/634 batches.\n",
      "Processed 595/634 batches.\n",
      "Processed 600/634 batches.\n",
      "Processed 605/634 batches.\n",
      "Processed 610/634 batches.\n",
      "Processed 615/634 batches.\n",
      "Processed 620/634 batches.\n",
      "Processed 625/634 batches.\n",
      "Processed 630/634 batches.\n"
     ]
    },
    {
     "name": "stderr",
     "output_type": "stream",
     "text": [
      "INFO:utils.ml:Feature extraction completed. Extracted 15195 features.\n"
     ]
    },
    {
     "name": "stdout",
     "output_type": "stream",
     "text": [
      "Processed 634/634 batches.\n"
     ]
    }
   ],
   "execution_count": 3
  },
  {
   "metadata": {
    "ExecuteTime": {
     "end_time": "2024-10-30T19:10:15.915338Z",
     "start_time": "2024-10-30T19:10:15.812775Z"
    }
   },
   "cell_type": "code",
   "source": [
    "from xgboost import XGBClassifier\n",
    "from sklearn.ensemble import RandomForestClassifier\n",
    "\n",
    "rf1 = RandomForestClassifier(n_estimators=100)\n",
    "rf2 = RandomForestClassifier(n_estimators=150)\n",
    "rf3 = RandomForestClassifier(n_estimators=250)\n",
    "\n",
    "xgb1 = XGBClassifier(n_estimators=350)\n",
    "xgb2 = XGBClassifier(n_estimators=450)\n",
    "xgb3 = XGBClassifier(n_estimators=550)\n",
    "xgb4 = XGBClassifier(learning_rate=0.05, n_estimators=400, max_depth=3, min_child_weight=1, subsample=0.8, colsample_bytree=0.8)\n",
    "xgb5 = XGBClassifier(learning_rate=0.1, n_estimators=400, max_depth=7, min_child_weight=3, subsample=0.7, colsample_bytree=0.7)\n",
    "xgb6 = XGBClassifier(learning_rate=0.1, n_estimators=400, max_depth=5, min_child_weight=5, gamma=0.2, subsample=0.8, colsample_bytree=0.8)\n",
    "xgb7 = XGBClassifier(learning_rate=0.1, n_estimators=400, max_depth=5, min_child_weight=3, subsample=0.8, colsample_bytree=0.8, scale_pos_weight=10)\n",
    "xgb8 = XGBClassifier(learning_rate=0.1, n_estimators=400, max_depth=5, min_child_weight=1, subsample=0.8, colsample_bytree=0.8, reg_alpha=0.1, reg_lambda=0.1)\n",
    "xgb9 = XGBClassifier(learning_rate=0.01, n_estimators=400, max_depth=3, min_child_weight=1, subsample=1.0, colsample_bytree=1.0)\n",
    "\n",
    "pipeline.classifiers = [rf1, rf2, rf3,\n",
    "                        # svm1, svm2, svm3, svm6, svm7, svm8,\n",
    "                        xgb1, xgb2, xgb3, xgb4, xgb5, xgb6, xgb7, xgb8, xgb9]"
   ],
   "id": "74470ba20848a156",
   "outputs": [],
   "execution_count": 4
  },
  {
   "metadata": {
    "ExecuteTime": {
     "end_time": "2024-10-30T19:11:31.288792Z",
     "start_time": "2024-10-30T19:10:15.926494Z"
    }
   },
   "cell_type": "code",
   "source": "pipeline.fit_classifiers()",
   "id": "5269ac4d3392fbae",
   "outputs": [
    {
     "name": "stderr",
     "output_type": "stream",
     "text": [
      "INFO:utils.ml:Fitting classifiers...\n",
      "INFO:utils.ml:Fitting classifier: RandomForestClassifier0\n",
      "INFO:utils.ml:Fitted classifier: RandomForestClassifier0; Done in 10.572898149490356 seconds\n",
      "INFO:utils.ml:Fitting classifier: RandomForestClassifier1\n",
      "INFO:utils.ml:Fitted classifier: RandomForestClassifier1; Done in 15.88140344619751 seconds\n",
      "INFO:utils.ml:Fitting classifier: RandomForestClassifier2\n",
      "INFO:utils.ml:Fitted classifier: RandomForestClassifier2; Done in 27.082592010498047 seconds\n",
      "INFO:utils.ml:Fitting classifier: XGBClassifier3\n",
      "INFO:utils.ml:Fitted classifier: XGBClassifier3; Done in 2.381303548812866 seconds\n",
      "INFO:utils.ml:Fitting classifier: XGBClassifier4\n",
      "INFO:utils.ml:Fitted classifier: XGBClassifier4; Done in 3.1215364933013916 seconds\n",
      "INFO:utils.ml:Fitting classifier: XGBClassifier5\n",
      "INFO:utils.ml:Fitted classifier: XGBClassifier5; Done in 3.9748380184173584 seconds\n",
      "INFO:utils.ml:Fitting classifier: XGBClassifier6\n",
      "INFO:utils.ml:Fitted classifier: XGBClassifier6; Done in 1.155461311340332 seconds\n",
      "INFO:utils.ml:Fitting classifier: XGBClassifier7\n",
      "INFO:utils.ml:Fitted classifier: XGBClassifier7; Done in 3.333936929702759 seconds\n",
      "INFO:utils.ml:Fitting classifier: XGBClassifier8\n",
      "INFO:utils.ml:Fitted classifier: XGBClassifier8; Done in 2.105576515197754 seconds\n",
      "INFO:utils.ml:Fitting classifier: XGBClassifier9\n",
      "INFO:utils.ml:Fitted classifier: XGBClassifier9; Done in 2.2412850856781006 seconds\n",
      "INFO:utils.ml:Fitting classifier: XGBClassifier10\n",
      "INFO:utils.ml:Fitted classifier: XGBClassifier10; Done in 2.174938440322876 seconds\n",
      "INFO:utils.ml:Fitting classifier: XGBClassifier11\n",
      "INFO:utils.ml:Fitted classifier: XGBClassifier11; Done in 1.3030626773834229 seconds\n",
      "INFO:utils.ml:Fitting completed in 75.34 seconds.\n"
     ]
    }
   ],
   "execution_count": 5
  },
  {
   "metadata": {
    "ExecuteTime": {
     "end_time": "2024-10-30T19:14:38.396628Z",
     "start_time": "2024-10-30T19:11:31.304943Z"
    }
   },
   "cell_type": "code",
   "source": "pipeline.predict_with_classifiers(VAL_PATH)",
   "id": "f71e18a07f5ee7bb",
   "outputs": [
    {
     "name": "stderr",
     "output_type": "stream",
     "text": [
      "INFO:utils.ml:Predicting with classifiers on dataset: C:\\Users\\gimes\\Src\\repos\\CADx-Project\\dataset\\binary\\val\n"
     ]
    },
    {
     "name": "stdout",
     "output_type": "stream",
     "text": [
      "Processed 5/159 batches.\n",
      "Processed 10/159 batches.\n",
      "Processed 15/159 batches.\n",
      "Processed 20/159 batches.\n",
      "Processed 25/159 batches.\n",
      "Processed 30/159 batches.\n",
      "Processed 35/159 batches.\n",
      "Processed 40/159 batches.\n",
      "Processed 45/159 batches.\n",
      "Processed 50/159 batches.\n",
      "Processed 55/159 batches.\n",
      "Processed 60/159 batches.\n",
      "Processed 65/159 batches.\n",
      "Processed 70/159 batches.\n",
      "Processed 75/159 batches.\n",
      "Processed 80/159 batches.\n",
      "Processed 85/159 batches.\n",
      "Processed 90/159 batches.\n",
      "Processed 95/159 batches.\n",
      "Processed 100/159 batches.\n",
      "Processed 105/159 batches.\n",
      "Processed 110/159 batches.\n",
      "Processed 115/159 batches.\n",
      "Processed 120/159 batches.\n",
      "Processed 125/159 batches.\n",
      "Processed 130/159 batches.\n",
      "Processed 135/159 batches.\n",
      "Processed 140/159 batches.\n",
      "Processed 145/159 batches.\n",
      "Processed 150/159 batches.\n",
      "Processed 155/159 batches.\n"
     ]
    },
    {
     "name": "stderr",
     "output_type": "stream",
     "text": [
      "INFO:utils.ml:Predictions made with classifier: RandomForestClassifier0\n",
      "INFO:utils.ml:Predictions made with classifier: RandomForestClassifier1\n"
     ]
    },
    {
     "name": "stdout",
     "output_type": "stream",
     "text": [
      "Processed 159/159 batches.\n"
     ]
    },
    {
     "name": "stderr",
     "output_type": "stream",
     "text": [
      "INFO:utils.ml:Predictions made with classifier: RandomForestClassifier2\n",
      "INFO:utils.ml:Predictions made with classifier: XGBClassifier3\n",
      "INFO:utils.ml:Predictions made with classifier: XGBClassifier4\n",
      "INFO:utils.ml:Predictions made with classifier: XGBClassifier5\n",
      "INFO:utils.ml:Predictions made with classifier: XGBClassifier6\n",
      "INFO:utils.ml:Predictions made with classifier: XGBClassifier7\n",
      "INFO:utils.ml:Predictions made with classifier: XGBClassifier8\n",
      "INFO:utils.ml:Predictions made with classifier: XGBClassifier9\n",
      "INFO:utils.ml:Predictions made with classifier: XGBClassifier10\n",
      "INFO:utils.ml:Predictions made with classifier: XGBClassifier11\n"
     ]
    },
    {
     "data": {
      "text/plain": [
       "{'GT': array([0, 0, 0, ..., 1, 1, 1]),\n",
       " 'RandomForestClassifier0': array([0, 0, 1, ..., 0, 0, 1]),\n",
       " 'RandomForestClassifier1': array([0, 0, 1, ..., 0, 0, 1]),\n",
       " 'RandomForestClassifier2': array([0, 0, 0, ..., 0, 0, 1]),\n",
       " 'XGBClassifier3': array([0, 0, 0, ..., 0, 0, 1]),\n",
       " 'XGBClassifier4': array([0, 0, 0, ..., 0, 0, 1]),\n",
       " 'XGBClassifier5': array([0, 0, 0, ..., 0, 0, 1]),\n",
       " 'XGBClassifier6': array([0, 0, 1, ..., 1, 0, 1]),\n",
       " 'XGBClassifier7': array([0, 0, 0, ..., 0, 0, 1]),\n",
       " 'XGBClassifier8': array([0, 0, 0, ..., 0, 0, 1]),\n",
       " 'XGBClassifier9': array([0, 0, 1, ..., 0, 0, 1]),\n",
       " 'XGBClassifier10': array([0, 0, 0, ..., 0, 0, 1]),\n",
       " 'XGBClassifier11': array([0, 0, 1, ..., 0, 0, 1])}"
      ]
     },
     "execution_count": 6,
     "metadata": {},
     "output_type": "execute_result"
    }
   ],
   "execution_count": 6
  },
  {
   "metadata": {
    "ExecuteTime": {
     "end_time": "2024-10-30T19:14:38.511963Z",
     "start_time": "2024-10-30T19:14:38.410325Z"
    }
   },
   "cell_type": "code",
   "source": [
    "import pandas as pd\n",
    "\n",
    "df = pd.DataFrame(data=pipeline.calculate_metrics())\n",
    "df.T"
   ],
   "id": "751fad2660242db5",
   "outputs": [
    {
     "name": "stderr",
     "output_type": "stream",
     "text": [
      "INFO:utils.ml:Metrics for classifier GT: {'accuracy': 1.0, 'precision': 1.0, 'recall': 1.0, 'f1': 1.0}\n",
      "INFO:utils.ml:Metrics for classifier RandomForestClassifier0: {'accuracy': 0.7997892518440464, 'precision': 0.799995767023843, 'recall': 0.7997892518440464, 'f1': 0.7998037025377186}\n",
      "INFO:utils.ml:Metrics for classifier RandomForestClassifier1: {'accuracy': 0.8008429926238145, 'precision': 0.8009868890796624, 'recall': 0.8008429926238145, 'f1': 0.800858031206982}\n",
      "INFO:utils.ml:Metrics for classifier RandomForestClassifier2: {'accuracy': 0.7955742887249737, 'precision': 0.7959365166434544, 'recall': 0.7955742887249737, 'f1': 0.7955822333636633}\n",
      "INFO:utils.ml:Metrics for classifier XGBClassifier3: {'accuracy': 0.7966280295047419, 'precision': 0.7967321318762821, 'recall': 0.7966280295047419, 'f1': 0.7966427093086312}\n",
      "INFO:utils.ml:Metrics for classifier XGBClassifier4: {'accuracy': 0.79768177028451, 'precision': 0.7978117417731098, 'recall': 0.79768177028451, 'f1': 0.797696935389678}\n",
      "INFO:utils.ml:Metrics for classifier XGBClassifier5: {'accuracy': 0.8016332982086407, 'precision': 0.8017844472746533, 'recall': 0.8016332982086407, 'f1': 0.8016482908125515}\n",
      "INFO:utils.ml:Metrics for classifier XGBClassifier6: {'accuracy': 0.7881981032665965, 'precision': 0.788387355324645, 'recall': 0.7881981032665965, 'f1': 0.7882137434807459}\n",
      "INFO:utils.ml:Metrics for classifier XGBClassifier7: {'accuracy': 0.8029504741833509, 'precision': 0.8030803140419237, 'recall': 0.8029504741833509, 'f1': 0.8029652443639049}\n",
      "INFO:utils.ml:Metrics for classifier XGBClassifier8: {'accuracy': 0.8013698630136986, 'precision': 0.8014503865297996, 'recall': 0.8013698630136986, 'f1': 0.8013832082554448}\n",
      "INFO:utils.ml:Metrics for classifier XGBClassifier9: {'accuracy': 0.7434141201264489, 'precision': 0.7900910782757096, 'recall': 0.7434141201264489, 'f1': 0.7339180815941756}\n",
      "INFO:utils.ml:Metrics for classifier XGBClassifier10: {'accuracy': 0.8000526870389885, 'precision': 0.8002854610234791, 'recall': 0.8000526870389885, 'f1': 0.8000664108712144}\n",
      "INFO:utils.ml:Metrics for classifier XGBClassifier11: {'accuracy': 0.7568493150684932, 'precision': 0.7578364949469989, 'recall': 0.7568493150684932, 'f1': 0.7567850013972829}\n"
     ]
    },
    {
     "data": {
      "text/plain": [
       "                         accuracy  precision    recall        f1\n",
       "GT                       1.000000   1.000000  1.000000  1.000000\n",
       "RandomForestClassifier0  0.799789   0.799996  0.799789  0.799804\n",
       "RandomForestClassifier1  0.800843   0.800987  0.800843  0.800858\n",
       "RandomForestClassifier2  0.795574   0.795937  0.795574  0.795582\n",
       "XGBClassifier3           0.796628   0.796732  0.796628  0.796643\n",
       "XGBClassifier4           0.797682   0.797812  0.797682  0.797697\n",
       "XGBClassifier5           0.801633   0.801784  0.801633  0.801648\n",
       "XGBClassifier6           0.788198   0.788387  0.788198  0.788214\n",
       "XGBClassifier7           0.802950   0.803080  0.802950  0.802965\n",
       "XGBClassifier8           0.801370   0.801450  0.801370  0.801383\n",
       "XGBClassifier9           0.743414   0.790091  0.743414  0.733918\n",
       "XGBClassifier10          0.800053   0.800285  0.800053  0.800066\n",
       "XGBClassifier11          0.756849   0.757836  0.756849  0.756785"
      ],
      "text/html": [
       "<div>\n",
       "<style scoped>\n",
       "    .dataframe tbody tr th:only-of-type {\n",
       "        vertical-align: middle;\n",
       "    }\n",
       "\n",
       "    .dataframe tbody tr th {\n",
       "        vertical-align: top;\n",
       "    }\n",
       "\n",
       "    .dataframe thead th {\n",
       "        text-align: right;\n",
       "    }\n",
       "</style>\n",
       "<table border=\"1\" class=\"dataframe\">\n",
       "  <thead>\n",
       "    <tr style=\"text-align: right;\">\n",
       "      <th></th>\n",
       "      <th>accuracy</th>\n",
       "      <th>precision</th>\n",
       "      <th>recall</th>\n",
       "      <th>f1</th>\n",
       "    </tr>\n",
       "  </thead>\n",
       "  <tbody>\n",
       "    <tr>\n",
       "      <th>GT</th>\n",
       "      <td>1.000000</td>\n",
       "      <td>1.000000</td>\n",
       "      <td>1.000000</td>\n",
       "      <td>1.000000</td>\n",
       "    </tr>\n",
       "    <tr>\n",
       "      <th>RandomForestClassifier0</th>\n",
       "      <td>0.799789</td>\n",
       "      <td>0.799996</td>\n",
       "      <td>0.799789</td>\n",
       "      <td>0.799804</td>\n",
       "    </tr>\n",
       "    <tr>\n",
       "      <th>RandomForestClassifier1</th>\n",
       "      <td>0.800843</td>\n",
       "      <td>0.800987</td>\n",
       "      <td>0.800843</td>\n",
       "      <td>0.800858</td>\n",
       "    </tr>\n",
       "    <tr>\n",
       "      <th>RandomForestClassifier2</th>\n",
       "      <td>0.795574</td>\n",
       "      <td>0.795937</td>\n",
       "      <td>0.795574</td>\n",
       "      <td>0.795582</td>\n",
       "    </tr>\n",
       "    <tr>\n",
       "      <th>XGBClassifier3</th>\n",
       "      <td>0.796628</td>\n",
       "      <td>0.796732</td>\n",
       "      <td>0.796628</td>\n",
       "      <td>0.796643</td>\n",
       "    </tr>\n",
       "    <tr>\n",
       "      <th>XGBClassifier4</th>\n",
       "      <td>0.797682</td>\n",
       "      <td>0.797812</td>\n",
       "      <td>0.797682</td>\n",
       "      <td>0.797697</td>\n",
       "    </tr>\n",
       "    <tr>\n",
       "      <th>XGBClassifier5</th>\n",
       "      <td>0.801633</td>\n",
       "      <td>0.801784</td>\n",
       "      <td>0.801633</td>\n",
       "      <td>0.801648</td>\n",
       "    </tr>\n",
       "    <tr>\n",
       "      <th>XGBClassifier6</th>\n",
       "      <td>0.788198</td>\n",
       "      <td>0.788387</td>\n",
       "      <td>0.788198</td>\n",
       "      <td>0.788214</td>\n",
       "    </tr>\n",
       "    <tr>\n",
       "      <th>XGBClassifier7</th>\n",
       "      <td>0.802950</td>\n",
       "      <td>0.803080</td>\n",
       "      <td>0.802950</td>\n",
       "      <td>0.802965</td>\n",
       "    </tr>\n",
       "    <tr>\n",
       "      <th>XGBClassifier8</th>\n",
       "      <td>0.801370</td>\n",
       "      <td>0.801450</td>\n",
       "      <td>0.801370</td>\n",
       "      <td>0.801383</td>\n",
       "    </tr>\n",
       "    <tr>\n",
       "      <th>XGBClassifier9</th>\n",
       "      <td>0.743414</td>\n",
       "      <td>0.790091</td>\n",
       "      <td>0.743414</td>\n",
       "      <td>0.733918</td>\n",
       "    </tr>\n",
       "    <tr>\n",
       "      <th>XGBClassifier10</th>\n",
       "      <td>0.800053</td>\n",
       "      <td>0.800285</td>\n",
       "      <td>0.800053</td>\n",
       "      <td>0.800066</td>\n",
       "    </tr>\n",
       "    <tr>\n",
       "      <th>XGBClassifier11</th>\n",
       "      <td>0.756849</td>\n",
       "      <td>0.757836</td>\n",
       "      <td>0.756849</td>\n",
       "      <td>0.756785</td>\n",
       "    </tr>\n",
       "  </tbody>\n",
       "</table>\n",
       "</div>"
      ]
     },
     "execution_count": 7,
     "metadata": {},
     "output_type": "execute_result"
    }
   ],
   "execution_count": 7
  },
  {
   "metadata": {
    "ExecuteTime": {
     "end_time": "2024-10-30T19:14:38.566246Z",
     "start_time": "2024-10-30T19:14:38.559808Z"
    }
   },
   "cell_type": "code",
   "source": "pipeline.get_feature_names()",
   "id": "78ce2dcb0269d91b",
   "outputs": [
    {
     "data": {
      "text/plain": [
       "['mean_rgb_channel_0',\n",
       " 'mean_rgb_channel_1',\n",
       " 'mean_rgb_channel_2',\n",
       " 'std_rgb_channel_0',\n",
       " 'std_rgb_channel_1',\n",
       " 'std_rgb_channel_2',\n",
       " 'var_rgb_channel_0',\n",
       " 'var_rgb_channel_1',\n",
       " 'var_rgb_channel_2',\n",
       " 'mean_lab_channel_0',\n",
       " 'mean_lab_channel_1',\n",
       " 'mean_lab_channel_2',\n",
       " 'std_lab_channel_0',\n",
       " 'std_lab_channel_1',\n",
       " 'std_lab_channel_2',\n",
       " 'var_lab_channel_0',\n",
       " 'var_lab_channel_1',\n",
       " 'var_lab_channel_2',\n",
       " 'mean_hsv_channel_0',\n",
       " 'mean_hsv_channel_1',\n",
       " 'mean_hsv_channel_2',\n",
       " 'std_hsv_channel_0',\n",
       " 'std_hsv_channel_1',\n",
       " 'std_hsv_channel_2',\n",
       " 'var_hsv_channel_0',\n",
       " 'var_hsv_channel_1',\n",
       " 'var_hsv_channel_2',\n",
       " 'lbp_rad1_bins8_0',\n",
       " 'lbp_rad1_bins8_1',\n",
       " 'lbp_rad1_bins8_2',\n",
       " 'lbp_rad1_bins8_3',\n",
       " 'lbp_rad1_bins8_4',\n",
       " 'lbp_rad1_bins8_5',\n",
       " 'lbp_rad1_bins8_6',\n",
       " 'lbp_rad1_bins8_7',\n",
       " 'lbp_rad1_bins8_8',\n",
       " 'lbp_rad1_bins8_9',\n",
       " 'lbp_rad2_bins8_0',\n",
       " 'lbp_rad2_bins8_1',\n",
       " 'lbp_rad2_bins8_2',\n",
       " 'lbp_rad2_bins8_3',\n",
       " 'lbp_rad2_bins8_4',\n",
       " 'lbp_rad2_bins8_5',\n",
       " 'lbp_rad2_bins8_6',\n",
       " 'lbp_rad2_bins8_7',\n",
       " 'lbp_rad2_bins8_8',\n",
       " 'lbp_rad2_bins8_9',\n",
       " 'lbp_rad1_bins16_0',\n",
       " 'lbp_rad1_bins16_1',\n",
       " 'lbp_rad1_bins16_2',\n",
       " 'lbp_rad1_bins16_3',\n",
       " 'lbp_rad1_bins16_4',\n",
       " 'lbp_rad1_bins16_5',\n",
       " 'lbp_rad1_bins16_6',\n",
       " 'lbp_rad1_bins16_7',\n",
       " 'lbp_rad1_bins16_8',\n",
       " 'lbp_rad1_bins16_9',\n",
       " 'lbp_rad1_bins16_10',\n",
       " 'lbp_rad1_bins16_11',\n",
       " 'lbp_rad1_bins16_12',\n",
       " 'lbp_rad1_bins16_13',\n",
       " 'lbp_rad1_bins16_14',\n",
       " 'lbp_rad1_bins16_15',\n",
       " 'lbp_rad1_bins16_16',\n",
       " 'lbp_rad1_bins16_17',\n",
       " 'lbp_rad2_bins16_0',\n",
       " 'lbp_rad2_bins16_1',\n",
       " 'lbp_rad2_bins16_2',\n",
       " 'lbp_rad2_bins16_3',\n",
       " 'lbp_rad2_bins16_4',\n",
       " 'lbp_rad2_bins16_5',\n",
       " 'lbp_rad2_bins16_6',\n",
       " 'lbp_rad2_bins16_7',\n",
       " 'lbp_rad2_bins16_8',\n",
       " 'lbp_rad2_bins16_9',\n",
       " 'lbp_rad2_bins16_10',\n",
       " 'lbp_rad2_bins16_11',\n",
       " 'lbp_rad2_bins16_12',\n",
       " 'lbp_rad2_bins16_13',\n",
       " 'lbp_rad2_bins16_14',\n",
       " 'lbp_rad2_bins16_15',\n",
       " 'lbp_rad2_bins16_16',\n",
       " 'lbp_rad2_bins16_17',\n",
       " 'glcm_contrast_dist_1_angle_0',\n",
       " 'glcm_dissimilarity_dist_1_angle_0',\n",
       " 'glcm_homogeneity_dist_1_angle_0',\n",
       " 'glcm_energy_dist_1_angle_0',\n",
       " 'glcm_correlation_dist_1_angle_0']"
      ]
     },
     "execution_count": 8,
     "metadata": {},
     "output_type": "execute_result"
    }
   ],
   "execution_count": 8
  },
  {
   "metadata": {
    "ExecuteTime": {
     "end_time": "2024-10-30T19:14:58.979073Z",
     "start_time": "2024-10-30T19:14:38.600954Z"
    }
   },
   "cell_type": "code",
   "source": "pipeline.save_feature_matrix_to_excel(f\"./features_smoothing5_clahe1point5_pad2square0_resize125x125.xlsx\")",
   "id": "8983c3f52d9f4ceb",
   "outputs": [
    {
     "name": "stderr",
     "output_type": "stream",
     "text": [
      "INFO:utils.ml:Saving feature matrix to Excel...\n",
      "INFO:utils.ml:Feature matrix saved to ./features_smoothing5_clahe1point5_pad2square0_resize125x125.xlsxfeatures_smoothing_clahe_pad2square_resize_01_norm.xlsx\n"
     ]
    },
    {
     "data": {
      "text/plain": [
       "'./features_smoothing5_clahe1point5_pad2square0_resize125x125.xlsxfeatures_smoothing_clahe_pad2square_resize_01_norm.xlsx'"
      ]
     },
     "execution_count": 9,
     "metadata": {},
     "output_type": "execute_result"
    }
   ],
   "execution_count": 9
  },
  {
   "metadata": {
    "ExecuteTime": {
     "end_time": "2024-10-30T19:14:58.997169Z",
     "start_time": "2024-10-30T19:14:58.992613Z"
    }
   },
   "cell_type": "code",
   "source": "",
   "id": "6f226a41aafa84b7",
   "outputs": [],
   "execution_count": null
  }
 ],
 "metadata": {
  "kernelspec": {
   "display_name": "Python 3",
   "language": "python",
   "name": "python3"
  },
  "language_info": {
   "codemirror_mode": {
    "name": "ipython",
    "version": 2
   },
   "file_extension": ".py",
   "mimetype": "text/x-python",
   "name": "python",
   "nbconvert_exporter": "python",
   "pygments_lexer": "ipython2",
   "version": "2.7.6"
  }
 },
 "nbformat": 4,
 "nbformat_minor": 5
}

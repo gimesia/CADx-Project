{
 "cells": [
  {
   "cell_type": "markdown",
   "id": "a76d861208096f5b",
   "metadata": {},
   "source": [
    "# Train"
   ]
  },
  {
   "cell_type": "code",
   "id": "91f5653a02f122e0",
   "metadata": {
    "ExecuteTime": {
     "end_time": "2024-12-02T15:59:11.361941Z",
     "start_time": "2024-12-02T15:59:11.354072Z"
    }
   },
   "source": [
    "import numpy as np\n",
    "import logging\n",
    "import time\n",
    "import torch\n",
    "import torch.nn as nn\n",
    "import torch.nn.functional as F\n",
    "from utils.loader import FactoryLoader\n",
    "from utils.dl import DLPipeline\n",
    "from utils.preprocessing import PreprocessingFactory"
   ],
   "outputs": [],
   "execution_count": 10
  },
  {
   "cell_type": "code",
   "id": "6f44e601588a818c",
   "metadata": {
    "ExecuteTime": {
     "end_time": "2024-12-02T15:59:13.156486Z",
     "start_time": "2024-12-02T15:59:13.149425Z"
    }
   },
   "source": [
    "device = torch.device(\"cuda\" if torch.cuda.is_available() else \"cpu\")\n",
    "print(f\"{device}: {torch.cuda.get_device_name(0)}\")"
   ],
   "outputs": [
    {
     "name": "stdout",
     "output_type": "stream",
     "text": [
      "cuda: NVIDIA GeForce RTX 4050 Laptop GPU\n"
     ]
    }
   ],
   "execution_count": 11
  },
  {
   "cell_type": "code",
   "id": "b842fb5ac0ddb6cf",
   "metadata": {
    "ExecuteTime": {
     "end_time": "2024-12-02T15:59:13.242795Z",
     "start_time": "2024-12-02T15:59:13.237902Z"
    }
   },
   "source": [
    "# Dataset path\n",
    "TRAIN_PATH = r\"C:\\Users\\gimes\\Src\\repos\\CADx-Project\\dataset\\binary\\train\"\n",
    "VAL_PATH = r\"C:\\Users\\gimes\\Src\\repos\\CADx-Project\\dataset\\binary\\val\""
   ],
   "outputs": [],
   "execution_count": 12
  },
  {
   "metadata": {
    "ExecuteTime": {
     "end_time": "2024-12-02T15:59:15.448488Z",
     "start_time": "2024-12-02T15:59:15.436378Z"
    }
   },
   "cell_type": "code",
   "source": [
    "# Set up logging\n",
    "logging.basicConfig(level=logging.INFO, format='%(asctime)s - %(levelname)s - %(message)s')\n",
    "logger = logging.getLogger()"
   ],
   "id": "546b5127d0959c3a",
   "outputs": [],
   "execution_count": 13
  },
  {
   "metadata": {},
   "cell_type": "markdown",
   "source": "# MODEL",
   "id": "c147bdd18ad55121"
  },
  {
   "metadata": {
    "ExecuteTime": {
     "end_time": "2024-12-02T16:06:04.402254Z",
     "start_time": "2024-12-02T16:06:04.253069Z"
    }
   },
   "cell_type": "code",
   "source": [
    "class SkinLesionCNN(nn.Module):\n",
    "    # input images are 224x224\n",
    "    def __init__(self):\n",
    "        super(SkinLesionCNN, self).__init__()\n",
    "        # Convolutional layers\n",
    "        self.conv1 = nn.Conv2d(in_channels=3, out_channels=32, kernel_size=3, padding=1)\n",
    "        self.conv2 = nn.Conv2d(in_channels=32, out_channels=64, kernel_size=3, padding=1)\n",
    "        self.conv3 = nn.Conv2d(in_channels=64, out_channels=128, kernel_size=3, padding=1)\n",
    "        \n",
    "        # Fully connected layers\n",
    "        self.fc1 = nn.Linear(in_features=128*28*28, out_features=512)\n",
    "        self.fc2 = nn.Linear(in_features=512, out_features=1)  # Binary classification\n",
    "\n",
    "    def forward(self, x):\n",
    "        # Convolutional layers with ReLU and MaxPooling\n",
    "        x = F.relu(self.conv1(x))\n",
    "        x = F.max_pool2d(x, kernel_size=2, stride=2)\n",
    "        \n",
    "        x = F.relu(self.conv2(x))\n",
    "        x = F.max_pool2d(x, kernel_size=2, stride=2)\n",
    "        \n",
    "        x = F.relu(self.conv3(x))\n",
    "        x = F.max_pool2d(x, kernel_size=2, stride=2)\n",
    "        \n",
    "        # Flatten the tensor\n",
    "        x = x.view(x.size(0), -1)\n",
    "        \n",
    "        # Fully connected layers\n",
    "        x = F.relu(self.fc1(x))\n",
    "        x = torch.sigmoid(self.fc2(x))  # Sigmoid for binary classification\n",
    "        return x\n",
    "\n",
    "# Instantiate the model\n",
    "model = SkinLesionCNN()\n",
    "print(model)"
   ],
   "id": "7ec84543ced557cd",
   "outputs": [
    {
     "name": "stdout",
     "output_type": "stream",
     "text": [
      "SkinLesionCNN(\n",
      "  (conv1): Conv2d(3, 32, kernel_size=(3, 3), stride=(1, 1), padding=(1, 1))\n",
      "  (conv2): Conv2d(32, 64, kernel_size=(3, 3), stride=(1, 1), padding=(1, 1))\n",
      "  (conv3): Conv2d(64, 128, kernel_size=(3, 3), stride=(1, 1), padding=(1, 1))\n",
      "  (fc1): Linear(in_features=100352, out_features=512, bias=True)\n",
      "  (fc2): Linear(in_features=512, out_features=1, bias=True)\n",
      ")\n"
     ]
    }
   ],
   "execution_count": 19
  },
  {
   "metadata": {},
   "cell_type": "markdown",
   "source": "# PREPROCESSING",
   "id": "2143f9eda9805c66"
  },
  {
   "metadata": {
    "ExecuteTime": {
     "end_time": "2024-12-02T16:06:06.653142Z",
     "start_time": "2024-12-02T16:06:06.642127Z"
    }
   },
   "cell_type": "code",
   "source": [
    "# Assuming you have a PreprocessMelanoma factory instance\n",
    "factory = PreprocessingFactory()\n",
    "factory.pad2square(fill=np.nan) # Pad images to form square shape, filling with 0\n",
    "factory.resize((224, 224))\n",
    "factory.normalize2float()"
   ],
   "id": "c353d25f98f4ecc3",
   "outputs": [],
   "execution_count": 20
  },
  {
   "metadata": {},
   "cell_type": "markdown",
   "source": [
    "____\n",
    "# TRAINING"
   ],
   "id": "51ef3f1d68118831"
  },
  {
   "metadata": {
    "ExecuteTime": {
     "end_time": "2024-12-02T16:25:47.563467Z",
     "start_time": "2024-12-02T16:25:47.511719Z"
    }
   },
   "cell_type": "code",
   "source": [
    "# Create data loaders\n",
    "PERCENT = 100\n",
    "train_loader = FactoryLoader(TRAIN_PATH, batch_size=32, factory=factory, percentage=PERCENT, shuffle=PERCENT<20).get_loader()\n",
    "val_loader = FactoryLoader(VAL_PATH, batch_size=32, factory=factory, percentage=PERCENT, shuffle=PERCENT<20).get_loader()"
   ],
   "id": "f2968dbdc00c2837",
   "outputs": [],
   "execution_count": 34
  },
  {
   "metadata": {
    "ExecuteTime": {
     "end_time": "2024-12-02T16:25:48.036240Z",
     "start_time": "2024-12-02T16:25:48.028009Z"
    }
   },
   "cell_type": "code",
   "source": [
    "optimizer = torch.optim.Adam(model.parameters(), lr=0.001)\n",
    "criterion = nn.BCELoss()\n",
    "\n",
    "dl = DLPipeline(model, optimizer, criterion, train_loader, val_loader, \"CustomCNN\")"
   ],
   "id": "3e488d2ce2ebe6d4",
   "outputs": [],
   "execution_count": 35
  },
  {
   "metadata": {
    "jupyter": {
     "is_executing": true
    },
    "ExecuteTime": {
     "start_time": "2024-12-02T16:25:48.845027Z"
    }
   },
   "cell_type": "code",
   "source": "dl.train(epochs=10)",
   "id": "8b1c09a3950635b2",
   "outputs": [
    {
     "name": "stdout",
     "output_type": "stream",
     "text": [
      "[TRAIN] Epoch 1/10\n",
      "[TRAIN] Batch 427/475\r"
     ]
    }
   ],
   "execution_count": null
  },
  {
   "metadata": {
    "ExecuteTime": {
     "end_time": "2024-12-02T16:12:35.382039Z",
     "start_time": "2024-12-02T16:12:35.211963Z"
    }
   },
   "cell_type": "code",
   "source": "dl.plot_losses()",
   "id": "cee0362570feaa88",
   "outputs": [
    {
     "data": {
      "text/plain": [
       "<Figure size 640x480 with 1 Axes>"
      ],
      "image/png": "[encoded data removed]"
     },
     "metadata": {},
     "output_type": "display_data"
    }
   ],
   "execution_count": 24
  },
  {
   "metadata": {
    "ExecuteTime": {
     "end_time": "2024-12-02T16:16:45.340340Z",
     "start_time": "2024-12-02T16:16:42.799207Z"
    }
   },
   "cell_type": "code",
   "source": [
    "from sklearn.metrics import classification_report\n",
    "\n",
    "def evaluate(dl: DLPipeline):\n",
    "    dl.model.eval()\n",
    "    all_labels = []\n",
    "    all_predictions = []\n",
    "    with torch.no_grad():\n",
    "        for data in dl.val_loader:\n",
    "            images, labels = data\n",
    "            images = images.to(device)\n",
    "            labels = labels.to(device)\n",
    "            outputs = dl.model(images)\n",
    "            predicted = torch.round(outputs)\n",
    "            all_labels.extend(labels.cpu().numpy())\n",
    "            all_predictions.extend(predicted.cpu().numpy())\n",
    "    \n",
    "    # Generate classification report\n",
    "    report = classification_report(all_labels, all_predictions, target_names=['Class 0', 'Class 1'])\n",
    "    return report"
   ],
   "id": "f43beb946c7b1d0b",
   "outputs": [],
   "execution_count": 31
  },
  {
   "metadata": {
    "ExecuteTime": {
     "end_time": "2024-12-02T16:17:23.885335Z",
     "start_time": "2024-12-02T16:17:18.457018Z"
    }
   },
   "cell_type": "code",
   "source": "print(evaluate(dl))",
   "id": "ed89ac6dd3eebd0a",
   "outputs": [
    {
     "name": "stdout",
     "output_type": "stream",
     "text": [
      "              precision    recall  f1-score   support\n",
      "\n",
      "     Class 0       0.94      0.85      0.89       189\n",
      "     Class 1       0.86      0.94      0.90       189\n",
      "\n",
      "    accuracy                           0.90       378\n",
      "   macro avg       0.90      0.90      0.90       378\n",
      "weighted avg       0.90      0.90      0.90       378\n",
      "\n",
      "              precision    recall  f1-score   support\n",
      "\n",
      "     Class 0       0.94      0.85      0.89       189\n",
      "     Class 1       0.86      0.94      0.90       189\n",
      "\n",
      "    accuracy                           0.90       378\n",
      "   macro avg       0.90      0.90      0.90       378\n",
      "weighted avg       0.90      0.90      0.90       378\n",
      "\n"
     ]
    }
   ],
   "execution_count": 33
  },
  {
   "metadata": {},
   "cell_type": "code",
   "outputs": [],
   "execution_count": null,
   "source": "",
   "id": "9c133c64c3f53309"
  }
 ],
 "metadata": {
  "kernelspec": {
   "display_name": "Python 3 (ipykernel)",
   "language": "python",
   "name": "python3"
  },
  "language_info": {
   "codemirror_mode": {
    "name": "ipython",
    "version": 3
   },
   "file_extension": ".py",
   "mimetype": "text/x-python",
   "name": "python",
   "nbconvert_exporter": "python",
   "pygments_lexer": "ipython3",
   "version": "3.11.9"
  }
 },
 "nbformat": 4,
 "nbformat_minor": 5
}
